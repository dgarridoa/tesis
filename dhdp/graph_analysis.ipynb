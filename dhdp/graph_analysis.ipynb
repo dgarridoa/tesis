{
 "cells": [
  {
   "cell_type": "code",
   "execution_count": 47,
   "metadata": {},
   "outputs": [],
   "source": [
    "import os\n",
    "import json\n",
    "import numpy as np\n",
    "import pandas as pd\n",
    "import matplotlib.pyplot as plt\n",
    "import seaborn as sns\n",
    "import plotly.offline as py\n",
    "from plotly import graph_objs as go\n",
    "from gensim.corpora import Dictionary\n",
    "from gensim.corpora.bleicorpus import BleiCorpus"
   ]
  },
  {
   "cell_type": "code",
   "execution_count": 2,
   "metadata": {},
   "outputs": [],
   "source": [
    "# load args\n",
    "with open(\"../args.json\", \"r\") as f:\n",
    "    args = json.load(f)"
   ]
  },
  {
   "cell_type": "code",
   "execution_count": 3,
   "metadata": {},
   "outputs": [],
   "source": [
    "# load similarity graph\n",
    "path_graph = f'{args[\"results\"]}graph/graph_{args[\"slice_type\"]}.json'\n",
    "with open(path_graph, \"r\") as f:\n",
    "    graph = json.load(f)"
   ]
  },
  {
   "cell_type": "code",
   "execution_count": 17,
   "metadata": {},
   "outputs": [],
   "source": [
    "def get_distances_from_graph(graph):\n",
    "    distances = []\n",
    "    slices = list(graph.keys())\n",
    "    for slice in slices:\n",
    "        I = list(graph[slice].keys())\n",
    "        for i in I:\n",
    "            topic_distances = graph[slice][i].values()\n",
    "            for dist in topic_distances:\n",
    "                distances.append(dist)\n",
    "    distances = pd.Series(distances)\n",
    "    return distances"
   ]
  },
  {
   "cell_type": "code",
   "execution_count": 18,
   "metadata": {},
   "outputs": [],
   "source": [
    "def cum_dist(serie):\n",
    "    cum_dist = []\n",
    "    cum = 0\n",
    "    sorted_serie = serie.sort_values(ascending=True)\n",
    "    for elem in sorted_serie:\n",
    "        cum+=elem\n",
    "        cum_dist.append(cum)\n",
    "    cum_dist = pd.Series([elem/cum_dist[-1] for elem in cum_dist])\n",
    "    return cum_dist"
   ]
  },
  {
   "cell_type": "code",
   "execution_count": 19,
   "metadata": {},
   "outputs": [],
   "source": [
    "distances = get_distances_from_graph(graph)\n",
    "sorted_distances = pd.Series(distances).sort_values(ascending=True)\n",
    "cum_dist = cum_dist(distances)"
   ]
  },
  {
   "cell_type": "code",
   "execution_count": 20,
   "metadata": {},
   "outputs": [
    {
     "data": {
      "text/plain": [
       "[<matplotlib.lines.Line2D at 0x7fee7e6b7dd0>]"
      ]
     },
     "execution_count": 20,
     "metadata": {},
     "output_type": "execute_result"
    },
    {
     "data": {
      "image/png": "[encoded data removed]",
      "text/plain": [
       "<Figure size 432x288 with 1 Axes>"
      ]
     },
     "metadata": {
      "needs_background": "light"
     },
     "output_type": "display_data"
    }
   ],
   "source": [
    "plt.plot(sorted_distances, cum_dist)"
   ]
  },
  {
   "cell_type": "code",
   "execution_count": 21,
   "metadata": {},
   "outputs": [
    {
     "data": {
      "text/plain": [
       "count    330.000000\n",
       "mean       0.206339\n",
       "std        0.078789\n",
       "min        0.124070\n",
       "25%        0.176368\n",
       "50%        0.185510\n",
       "75%        0.208111\n",
       "max        0.634835\n",
       "dtype: float64"
      ]
     },
     "execution_count": 21,
     "metadata": {},
     "output_type": "execute_result"
    }
   ],
   "source": [
    "distances.describe()"
   ]
  },
  {
   "cell_type": "code",
   "execution_count": 22,
   "metadata": {},
   "outputs": [
    {
     "data": {
      "text/plain": [
       "0.05    0.134069\n",
       "0.10    0.160475\n",
       "0.20    0.174409\n",
       "0.30    0.178360\n",
       "0.40    0.182687\n",
       "0.50    0.185510\n",
       "0.60    0.189753\n",
       "0.70    0.200068\n",
       "0.80    0.223585\n",
       "0.90    0.245253\n",
       "0.95    0.323360\n",
       "0.99    0.593283\n",
       "dtype: float64"
      ]
     },
     "execution_count": 22,
     "metadata": {},
     "output_type": "execute_result"
    }
   ],
   "source": [
    "distances.quantile(q=[0.05, 0.1, 0.2, 0.3, 0.4, 0.5, 0.6, 0.7, 0.8, 0.9, 0.95, 0.99])"
   ]
  },
  {
   "cell_type": "code",
   "execution_count": 48,
   "metadata": {},
   "outputs": [],
   "source": [
    "path_corpus = f'{args[\"corpus\"]}{args[\"slice_type\"]}'\n",
    "dict_files = sorted([file for file in os.listdir(path_corpus) if \".dict\" in file])\n",
    "path_models = f'{args[\"results\"]}hdp/{args[\"slice_type\"]}'\n",
    "models_dir = sorted(os.listdir(path_models))\n",
    "\n",
    "slices = range(1, len(models_dir)+1)\n",
    "data = {}\n",
    "for slice in slices:\n",
    "    # load dictionary {word->id}\n",
    "    path_dict = f'{path_corpus}/{dict_files[slice-1]}'\n",
    "    token2id = Dictionary.load(path_dict).token2id\n",
    "\n",
    "    # load topics distributions\n",
    "    path_topics = f'{path_models}/{models_dir[slice-1]}/mode-topics.dat'\n",
    "    with open(path_topics, \"r\") as f:\n",
    "        topics = np.array([[int(word) for word in line.strip().split()] for line in f])\n",
    "    topics_dists = (topics.T/topics.sum(axis=1)).T\n",
    "\n",
    "    #save data in a dict\n",
    "    data[slice] = {\"token2id\": token2id, \"topics_dists\": topics_dists}"
   ]
  },
  {
   "cell_type": "code",
   "execution_count": 100,
   "metadata": {},
   "outputs": [],
   "source": [
    "def get_topic_topn(data, topn):\n",
    "    text_topn_words = []\n",
    "    slices = list(data.keys())\n",
    "    for slice in slices:\n",
    "        token2id = data[slice][\"token2id\"]\n",
    "        id2token = {v: k for k, v in token2id.items()}\n",
    "        #for each (slice,i)\n",
    "        for i, topic in enumerate(data[slice][\"topics_dists\"]):\n",
    "            topn_ids = np.argsort(topic)[-topn:]\n",
    "            topn_list = [id2token[id] for id in topn_ids]\n",
    "            topn_str = \"<br>\".join(topn_list)\n",
    "            text_topn_words.append(topn_str)\n",
    "    return text_topn_words"
   ]
  },
  {
   "cell_type": "code",
   "execution_count": 23,
   "metadata": {},
   "outputs": [],
   "source": [
    "def get_network_data(graph):\n",
    "    \n",
    "    # nodes\n",
    "    slices = list(graph.keys())\n",
    "    nodes = []\n",
    "    for slice in slices:\n",
    "        I = list(graph[slice].keys())\n",
    "        for i in I:\n",
    "            nodes.append([int(slice), int(i)])\n",
    "    J = list(graph[slice][i].keys())\n",
    "    for j in J:\n",
    "        nodes.append([int(slice)+1, int(j)])\n",
    "    nodes = np.array(nodes)\n",
    "    \n",
    "    # edges\n",
    "    edges = []\n",
    "    slices = list(graph.keys())\n",
    "    for slice in slices:\n",
    "        I = list(graph[slice].keys())\n",
    "        for i in I:\n",
    "            J = list(graph[slice][i].keys())\n",
    "            for j in J:\n",
    "                x  = [int(slice), int(slice)+1, None]\n",
    "                y  = [int(i), int(j), None]\n",
    "                similarity = graph[slice][i][j]\n",
    "                edges.append((x, y, similarity))         \n",
    "      \n",
    "    return nodes, edges  "
   ]
  },
  {
   "cell_type": "code",
   "execution_count": 103,
   "metadata": {},
   "outputs": [],
   "source": [
    "def make_edge(x, y, text, width):\n",
    "    return  go.Scatter(x         = x,\n",
    "                       y         = y,\n",
    "                       line      = dict(width = width,\n",
    "                                   color = 'cornflowerblue'),\n",
    "                       hoverinfo = 'text',\n",
    "                       text      = text,\n",
    "                       mode      = 'lines')\n",
    "def plot_network(nodes, text, edges, threshold):\n",
    "    \"\"\"\n",
    "    \"\"\"\n",
    "    # create node trace\n",
    "    node_trace = go.Scatter(x = nodes[:,0], y = nodes[:,1], text = text,\n",
    "                        mode = 'markers',\n",
    "                        hoverinfo = 'text',\n",
    "                        marker = dict(\n",
    "                            showscale = True,\n",
    "                            colorscale = 'YlGnBu',\n",
    "                            reversescale = True,\n",
    "                            color = [],\n",
    "                            size = 10,\n",
    "                            colorbar = dict(\n",
    "                                thickness = 15,\n",
    "                                title = 'Node Connections',\n",
    "                                xanchor = 'left',\n",
    "                                titleside = 'right'\n",
    "                            ),\n",
    "                        line_width = 2))\n",
    "    # create edge traces\n",
    "    edge_trace = []\n",
    "    for edge in edges:\n",
    "        x = edge[0]\n",
    "        y = edge[1]\n",
    "        similarity = edge[2]\n",
    "        if similarity >= threshold:\n",
    "            trace = make_edge(x, y, f\"{round(similarity,3)}\", width = 2*similarity) \n",
    "            edge_trace.append(trace)\n",
    "        \n",
    "    # layout\n",
    "    layout = go.Layout(\n",
    "    paper_bgcolor='rgba(0,0,0,0)', \n",
    "    plot_bgcolor='rgba(0,0,0,0)', \n",
    "    xaxis =  {'showgrid': False, 'zeroline': False}, \n",
    "    yaxis = {'showgrid': False, 'zeroline': False},\n",
    "    )\n",
    "    # create figure\n",
    "    fig = go.Figure(layout = layout)\n",
    "    # add all edge traces\n",
    "    for trace in edge_trace:\n",
    "        fig.add_trace(trace)\n",
    "    # add node trace\n",
    "    fig.add_trace(node_trace)\n",
    "    # remove legend\n",
    "    fig.update_layout(showlegend = False)\n",
    "    # tick labels\n",
    "    fig.update_xaxes(showgrid=False, zeroline=False, showticklabels=True, tickvals=list(range(1,nodes.max()+1,1)))\n",
    "    fig.update_yaxes(showticklabels = False)\n",
    "    # show figure\n",
    "    fig.show()\n"
   ]
  },
  {
   "cell_type": "code",
   "execution_count": 101,
   "metadata": {},
   "outputs": [],
   "source": [
    "# network data\n",
    "nodes, edges = get_network_data(graph)\n",
    "text = get_topic_topn(data, 5)"
   ]
  },
  {
   "cell_type": "code",
   "execution_count": 107,
   "metadata": {},
   "outputs": [
    {
     "data": {
      "application/vnd.plotly.v1+json": {
       "config": {
        "plotlyServerURL": "https://plot.ly"
       },
       "data": [
        {
         "hoverinfo": "text",
         "line": {
          "color": "cornflowerblue",
          "width": 0.5733919146262428
         },
         "mode": "lines",
         "text": "0.287",
         "type": "scatter",
         "x": [
          1,
          2,
          null
         ],
         "y": [
          0,
          0,
          null
         ]
        },
        {
         "hoverinfo": "text",
         "line": {
          "color": "cornflowerblue",
          "width": 0.5169599563520331
         },
         "mode": "lines",
         "text": "0.258",
         "type": "scatter",
         "x": [
          1,
          2,
          null
         ],
         "y": [
          0,
          1,
          null
         ]
        },
        {
         "hoverinfo": "text",
         "line": {
          "color": "cornflowerblue",
          "width": 0.46782429795918457
         },
         "mode": "lines",
         "text": "0.234",
         "type": "scatter",
         "x": [
          1,
          2,
          null
         ],
         "y": [
          0,
          2,
          null
         ]
        },
        {
         "hoverinfo": "text",
         "line": {
          "color": "cornflowerblue",
          "width": 1.1191801247704594
         },
         "mode": "lines",
         "text": "0.56",
         "type": "scatter",
         "x": [
          1,
          2,
          null
         ],
         "y": [
          0,
          3,
          null
         ]
        },
        {
         "hoverinfo": "text",
         "line": {
          "color": "cornflowerblue",
          "width": 0.3747489151409913
         },
         "mode": "lines",
         "text": "0.187",
         "type": "scatter",
         "x": [
          1,
          2,
          null
         ],
         "y": [
          0,
          4,
          null
         ]
        },
        {
         "hoverinfo": "text",
         "line": {
          "color": "cornflowerblue",
          "width": 0.36381255531507484
         },
         "mode": "lines",
         "text": "0.182",
         "type": "scatter",
         "x": [
          1,
          2,
          null
         ],
         "y": [
          0,
          5,
          null
         ]
        },
        {
         "hoverinfo": "text",
         "line": {
          "color": "cornflowerblue",
          "width": 0.4119385852266793
         },
         "mode": "lines",
         "text": "0.206",
         "type": "scatter",
         "x": [
          1,
          2,
          null
         ],
         "y": [
          1,
          0,
          null
         ]
        },
        {
         "hoverinfo": "text",
         "line": {
          "color": "cornflowerblue",
          "width": 0.40881236828576295
         },
         "mode": "lines",
         "text": "0.204",
         "type": "scatter",
         "x": [
          1,
          2,
          null
         ],
         "y": [
          1,
          1,
          null
         ]
        },
        {
         "hoverinfo": "text",
         "line": {
          "color": "cornflowerblue",
          "width": 0.43160919307462503
         },
         "mode": "lines",
         "text": "0.216",
         "type": "scatter",
         "x": [
          1,
          2,
          null
         ],
         "y": [
          1,
          2,
          null
         ]
        },
        {
         "hoverinfo": "text",
         "line": {
          "color": "cornflowerblue",
          "width": 0.3950574637279658
         },
         "mode": "lines",
         "text": "0.198",
         "type": "scatter",
         "x": [
          1,
          2,
          null
         ],
         "y": [
          1,
          3,
          null
         ]
        },
        {
         "hoverinfo": "text",
         "line": {
          "color": "cornflowerblue",
          "width": 0.3769620524679899
         },
         "mode": "lines",
         "text": "0.188",
         "type": "scatter",
         "x": [
          1,
          2,
          null
         ],
         "y": [
          1,
          4,
          null
         ]
        },
        {
         "hoverinfo": "text",
         "line": {
          "color": "cornflowerblue",
          "width": 0.3648966595503844
         },
         "mode": "lines",
         "text": "0.182",
         "type": "scatter",
         "x": [
          1,
          2,
          null
         ],
         "y": [
          1,
          5,
          null
         ]
        },
        {
         "hoverinfo": "text",
         "line": {
          "color": "cornflowerblue",
          "width": 0.3510406656503743
         },
         "mode": "lines",
         "text": "0.176",
         "type": "scatter",
         "x": [
          1,
          2,
          null
         ],
         "y": [
          1,
          6,
          null
         ]
        },
        {
         "hoverinfo": "text",
         "line": {
          "color": "cornflowerblue",
          "width": 0.3531934605772166
         },
         "mode": "lines",
         "text": "0.177",
         "type": "scatter",
         "x": [
          1,
          2,
          null
         ],
         "y": [
          1,
          8,
          null
         ]
        },
        {
         "hoverinfo": "text",
         "line": {
          "color": "cornflowerblue",
          "width": 0.4520885622421356
         },
         "mode": "lines",
         "text": "0.226",
         "type": "scatter",
         "x": [
          1,
          2,
          null
         ],
         "y": [
          2,
          0,
          null
         ]
        },
        {
         "hoverinfo": "text",
         "line": {
          "color": "cornflowerblue",
          "width": 0.45015597090274817
         },
         "mode": "lines",
         "text": "0.225",
         "type": "scatter",
         "x": [
          1,
          2,
          null
         ],
         "y": [
          2,
          1,
          null
         ]
        },
        {
         "hoverinfo": "text",
         "line": {
          "color": "cornflowerblue",
          "width": 1.0495427486041846
         },
         "mode": "lines",
         "text": "0.525",
         "type": "scatter",
         "x": [
          1,
          2,
          null
         ],
         "y": [
          2,
          2,
          null
         ]
        },
        {
         "hoverinfo": "text",
         "line": {
          "color": "cornflowerblue",
          "width": 0.4455560026021779
         },
         "mode": "lines",
         "text": "0.223",
         "type": "scatter",
         "x": [
          1,
          2,
          null
         ],
         "y": [
          2,
          3,
          null
         ]
        },
        {
         "hoverinfo": "text",
         "line": {
          "color": "cornflowerblue",
          "width": 0.3813891189356275
         },
         "mode": "lines",
         "text": "0.191",
         "type": "scatter",
         "x": [
          1,
          2,
          null
         ],
         "y": [
          2,
          4,
          null
         ]
        },
        {
         "hoverinfo": "text",
         "line": {
          "color": "cornflowerblue",
          "width": 0.36692433718863826
         },
         "mode": "lines",
         "text": "0.183",
         "type": "scatter",
         "x": [
          1,
          2,
          null
         ],
         "y": [
          2,
          5,
          null
         ]
        },
        {
         "hoverinfo": "text",
         "line": {
          "color": "cornflowerblue",
          "width": 0.351476858580617
         },
         "mode": "lines",
         "text": "0.176",
         "type": "scatter",
         "x": [
          1,
          2,
          null
         ],
         "y": [
          2,
          6,
          null
         ]
        },
        {
         "hoverinfo": "text",
         "line": {
          "color": "cornflowerblue",
          "width": 0.5769801881648802
         },
         "mode": "lines",
         "text": "0.288",
         "type": "scatter",
         "x": [
          1,
          2,
          null
         ],
         "y": [
          3,
          0,
          null
         ]
        },
        {
         "hoverinfo": "text",
         "line": {
          "color": "cornflowerblue",
          "width": 0.7796647075013284
         },
         "mode": "lines",
         "text": "0.39",
         "type": "scatter",
         "x": [
          1,
          2,
          null
         ],
         "y": [
          3,
          1,
          null
         ]
        },
        {
         "hoverinfo": "text",
         "line": {
          "color": "cornflowerblue",
          "width": 0.4301616090995806
         },
         "mode": "lines",
         "text": "0.215",
         "type": "scatter",
         "x": [
          1,
          2,
          null
         ],
         "y": [
          3,
          2,
          null
         ]
        },
        {
         "hoverinfo": "text",
         "line": {
          "color": "cornflowerblue",
          "width": 0.45269742574996613
         },
         "mode": "lines",
         "text": "0.226",
         "type": "scatter",
         "x": [
          1,
          2,
          null
         ],
         "y": [
          3,
          3,
          null
         ]
        },
        {
         "hoverinfo": "text",
         "line": {
          "color": "cornflowerblue",
          "width": 0.37840114528118657
         },
         "mode": "lines",
         "text": "0.189",
         "type": "scatter",
         "x": [
          1,
          2,
          null
         ],
         "y": [
          3,
          4,
          null
         ]
        },
        {
         "hoverinfo": "text",
         "line": {
          "color": "cornflowerblue",
          "width": 0.36412670033947836
         },
         "mode": "lines",
         "text": "0.182",
         "type": "scatter",
         "x": [
          1,
          2,
          null
         ],
         "y": [
          3,
          5,
          null
         ]
        },
        {
         "hoverinfo": "text",
         "line": {
          "color": "cornflowerblue",
          "width": 0.354801879139801
         },
         "mode": "lines",
         "text": "0.177",
         "type": "scatter",
         "x": [
          1,
          2,
          null
         ],
         "y": [
          3,
          6,
          null
         ]
        },
        {
         "hoverinfo": "text",
         "line": {
          "color": "cornflowerblue",
          "width": 0.6255858158103706
         },
         "mode": "lines",
         "text": "0.313",
         "type": "scatter",
         "x": [
          1,
          2,
          null
         ],
         "y": [
          4,
          0,
          null
         ]
        },
        {
         "hoverinfo": "text",
         "line": {
          "color": "cornflowerblue",
          "width": 0.4519194811519737
         },
         "mode": "lines",
         "text": "0.226",
         "type": "scatter",
         "x": [
          1,
          2,
          null
         ],
         "y": [
          4,
          1,
          null
         ]
        },
        {
         "hoverinfo": "text",
         "line": {
          "color": "cornflowerblue",
          "width": 0.48919630710954254
         },
         "mode": "lines",
         "text": "0.245",
         "type": "scatter",
         "x": [
          1,
          2,
          null
         ],
         "y": [
          4,
          2,
          null
         ]
        },
        {
         "hoverinfo": "text",
         "line": {
          "color": "cornflowerblue",
          "width": 0.42740641330178075
         },
         "mode": "lines",
         "text": "0.214",
         "type": "scatter",
         "x": [
          1,
          2,
          null
         ],
         "y": [
          4,
          3,
          null
         ]
        },
        {
         "hoverinfo": "text",
         "line": {
          "color": "cornflowerblue",
          "width": 0.39177684477819824
         },
         "mode": "lines",
         "text": "0.196",
         "type": "scatter",
         "x": [
          1,
          2,
          null
         ],
         "y": [
          4,
          4,
          null
         ]
        },
        {
         "hoverinfo": "text",
         "line": {
          "color": "cornflowerblue",
          "width": 0.36979916500188703
         },
         "mode": "lines",
         "text": "0.185",
         "type": "scatter",
         "x": [
          1,
          2,
          null
         ],
         "y": [
          4,
          5,
          null
         ]
        },
        {
         "hoverinfo": "text",
         "line": {
          "color": "cornflowerblue",
          "width": 0.3552502938104886
         },
         "mode": "lines",
         "text": "0.178",
         "type": "scatter",
         "x": [
          1,
          2,
          null
         ],
         "y": [
          4,
          6,
          null
         ]
        },
        {
         "hoverinfo": "text",
         "line": {
          "color": "cornflowerblue",
          "width": 0.35444094951726424
         },
         "mode": "lines",
         "text": "0.177",
         "type": "scatter",
         "x": [
          1,
          2,
          null
         ],
         "y": [
          4,
          8,
          null
         ]
        },
        {
         "hoverinfo": "text",
         "line": {
          "color": "cornflowerblue",
          "width": 0.4162522587421549
         },
         "mode": "lines",
         "text": "0.208",
         "type": "scatter",
         "x": [
          2,
          3,
          null
         ],
         "y": [
          0,
          0,
          null
         ]
        },
        {
         "hoverinfo": "text",
         "line": {
          "color": "cornflowerblue",
          "width": 0.44729024330447287
         },
         "mode": "lines",
         "text": "0.224",
         "type": "scatter",
         "x": [
          2,
          3,
          null
         ],
         "y": [
          0,
          1,
          null
         ]
        },
        {
         "hoverinfo": "text",
         "line": {
          "color": "cornflowerblue",
          "width": 0.5009553063818792
         },
         "mode": "lines",
         "text": "0.25",
         "type": "scatter",
         "x": [
          2,
          3,
          null
         ],
         "y": [
          0,
          2,
          null
         ]
        },
        {
         "hoverinfo": "text",
         "line": {
          "color": "cornflowerblue",
          "width": 0.3894607776314768
         },
         "mode": "lines",
         "text": "0.195",
         "type": "scatter",
         "x": [
          2,
          3,
          null
         ],
         "y": [
          0,
          3,
          null
         ]
        },
        {
         "hoverinfo": "text",
         "line": {
          "color": "cornflowerblue",
          "width": 0.6347455741622741
         },
         "mode": "lines",
         "text": "0.317",
         "type": "scatter",
         "x": [
          2,
          3,
          null
         ],
         "y": [
          0,
          4,
          null
         ]
        },
        {
         "hoverinfo": "text",
         "line": {
          "color": "cornflowerblue",
          "width": 0.5733920888953752
         },
         "mode": "lines",
         "text": "0.287",
         "type": "scatter",
         "x": [
          2,
          3,
          null
         ],
         "y": [
          0,
          5,
          null
         ]
        },
        {
         "hoverinfo": "text",
         "line": {
          "color": "cornflowerblue",
          "width": 0.3708212485819765
         },
         "mode": "lines",
         "text": "0.185",
         "type": "scatter",
         "x": [
          2,
          3,
          null
         ],
         "y": [
          0,
          6,
          null
         ]
        },
        {
         "hoverinfo": "text",
         "line": {
          "color": "cornflowerblue",
          "width": 0.3743628794526751
         },
         "mode": "lines",
         "text": "0.187",
         "type": "scatter",
         "x": [
          2,
          3,
          null
         ],
         "y": [
          0,
          7,
          null
         ]
        },
        {
         "hoverinfo": "text",
         "line": {
          "color": "cornflowerblue",
          "width": 0.3715252799195986
         },
         "mode": "lines",
         "text": "0.186",
         "type": "scatter",
         "x": [
          2,
          3,
          null
         ],
         "y": [
          0,
          8,
          null
         ]
        },
        {
         "hoverinfo": "text",
         "line": {
          "color": "cornflowerblue",
          "width": 0.3612063485857257
         },
         "mode": "lines",
         "text": "0.181",
         "type": "scatter",
         "x": [
          2,
          3,
          null
         ],
         "y": [
          0,
          9,
          null
         ]
        },
        {
         "hoverinfo": "text",
         "line": {
          "color": "cornflowerblue",
          "width": 0.35084699166033534
         },
         "mode": "lines",
         "text": "0.175",
         "type": "scatter",
         "x": [
          2,
          3,
          null
         ],
         "y": [
          0,
          10,
          null
         ]
        },
        {
         "hoverinfo": "text",
         "line": {
          "color": "cornflowerblue",
          "width": 0.39878346559879674
         },
         "mode": "lines",
         "text": "0.199",
         "type": "scatter",
         "x": [
          2,
          3,
          null
         ],
         "y": [
          1,
          0,
          null
         ]
        },
        {
         "hoverinfo": "text",
         "line": {
          "color": "cornflowerblue",
          "width": 0.447139720636329
         },
         "mode": "lines",
         "text": "0.224",
         "type": "scatter",
         "x": [
          2,
          3,
          null
         ],
         "y": [
          1,
          1,
          null
         ]
        },
        {
         "hoverinfo": "text",
         "line": {
          "color": "cornflowerblue",
          "width": 0.9688172935696178
         },
         "mode": "lines",
         "text": "0.484",
         "type": "scatter",
         "x": [
          2,
          3,
          null
         ],
         "y": [
          1,
          2,
          null
         ]
        },
        {
         "hoverinfo": "text",
         "line": {
          "color": "cornflowerblue",
          "width": 0.38102255841098304
         },
         "mode": "lines",
         "text": "0.191",
         "type": "scatter",
         "x": [
          2,
          3,
          null
         ],
         "y": [
          1,
          3,
          null
         ]
        },
        {
         "hoverinfo": "text",
         "line": {
          "color": "cornflowerblue",
          "width": 0.45488581617128765
         },
         "mode": "lines",
         "text": "0.227",
         "type": "scatter",
         "x": [
          2,
          3,
          null
         ],
         "y": [
          1,
          4,
          null
         ]
        },
        {
         "hoverinfo": "text",
         "line": {
          "color": "cornflowerblue",
          "width": 0.5024323079646634
         },
         "mode": "lines",
         "text": "0.251",
         "type": "scatter",
         "x": [
          2,
          3,
          null
         ],
         "y": [
          1,
          5,
          null
         ]
        },
        {
         "hoverinfo": "text",
         "line": {
          "color": "cornflowerblue",
          "width": 0.36502873318743473
         },
         "mode": "lines",
         "text": "0.183",
         "type": "scatter",
         "x": [
          2,
          3,
          null
         ],
         "y": [
          1,
          6,
          null
         ]
        },
        {
         "hoverinfo": "text",
         "line": {
          "color": "cornflowerblue",
          "width": 0.36670468313401217
         },
         "mode": "lines",
         "text": "0.183",
         "type": "scatter",
         "x": [
          2,
          3,
          null
         ],
         "y": [
          1,
          7,
          null
         ]
        },
        {
         "hoverinfo": "text",
         "line": {
          "color": "cornflowerblue",
          "width": 0.36618690178722796
         },
         "mode": "lines",
         "text": "0.183",
         "type": "scatter",
         "x": [
          2,
          3,
          null
         ],
         "y": [
          1,
          8,
          null
         ]
        },
        {
         "hoverinfo": "text",
         "line": {
          "color": "cornflowerblue",
          "width": 0.35702332745866205
         },
         "mode": "lines",
         "text": "0.179",
         "type": "scatter",
         "x": [
          2,
          3,
          null
         ],
         "y": [
          1,
          9,
          null
         ]
        },
        {
         "hoverinfo": "text",
         "line": {
          "color": "cornflowerblue",
          "width": 0.3861233863152955
         },
         "mode": "lines",
         "text": "0.193",
         "type": "scatter",
         "x": [
          2,
          3,
          null
         ],
         "y": [
          2,
          0,
          null
         ]
        },
        {
         "hoverinfo": "text",
         "line": {
          "color": "cornflowerblue",
          "width": 1.0685328893456811
         },
         "mode": "lines",
         "text": "0.534",
         "type": "scatter",
         "x": [
          2,
          3,
          null
         ],
         "y": [
          2,
          1,
          null
         ]
        },
        {
         "hoverinfo": "text",
         "line": {
          "color": "cornflowerblue",
          "width": 0.4508725530205218
         },
         "mode": "lines",
         "text": "0.225",
         "type": "scatter",
         "x": [
          2,
          3,
          null
         ],
         "y": [
          2,
          2,
          null
         ]
        },
        {
         "hoverinfo": "text",
         "line": {
          "color": "cornflowerblue",
          "width": 0.3852179094943438
         },
         "mode": "lines",
         "text": "0.193",
         "type": "scatter",
         "x": [
          2,
          3,
          null
         ],
         "y": [
          2,
          3,
          null
         ]
        },
        {
         "hoverinfo": "text",
         "line": {
          "color": "cornflowerblue",
          "width": 0.4902753237879534
         },
         "mode": "lines",
         "text": "0.245",
         "type": "scatter",
         "x": [
          2,
          3,
          null
         ],
         "y": [
          2,
          4,
          null
         ]
        },
        {
         "hoverinfo": "text",
         "line": {
          "color": "cornflowerblue",
          "width": 0.4694210743374649
         },
         "mode": "lines",
         "text": "0.235",
         "type": "scatter",
         "x": [
          2,
          3,
          null
         ],
         "y": [
          2,
          5,
          null
         ]
        },
        {
         "hoverinfo": "text",
         "line": {
          "color": "cornflowerblue",
          "width": 0.3660646675027781
         },
         "mode": "lines",
         "text": "0.183",
         "type": "scatter",
         "x": [
          2,
          3,
          null
         ],
         "y": [
          2,
          6,
          null
         ]
        },
        {
         "hoverinfo": "text",
         "line": {
          "color": "cornflowerblue",
          "width": 0.36334546064624457
         },
         "mode": "lines",
         "text": "0.182",
         "type": "scatter",
         "x": [
          2,
          3,
          null
         ],
         "y": [
          2,
          7,
          null
         ]
        },
        {
         "hoverinfo": "text",
         "line": {
          "color": "cornflowerblue",
          "width": 0.3626997307228311
         },
         "mode": "lines",
         "text": "0.181",
         "type": "scatter",
         "x": [
          2,
          3,
          null
         ],
         "y": [
          2,
          8,
          null
         ]
        },
        {
         "hoverinfo": "text",
         "line": {
          "color": "cornflowerblue",
          "width": 0.3534193910275006
         },
         "mode": "lines",
         "text": "0.177",
         "type": "scatter",
         "x": [
          2,
          3,
          null
         ],
         "y": [
          2,
          9,
          null
         ]
        },
        {
         "hoverinfo": "text",
         "line": {
          "color": "cornflowerblue",
          "width": 0.4169441954944802
         },
         "mode": "lines",
         "text": "0.208",
         "type": "scatter",
         "x": [
          2,
          3,
          null
         ],
         "y": [
          3,
          0,
          null
         ]
        },
        {
         "hoverinfo": "text",
         "line": {
          "color": "cornflowerblue",
          "width": 0.45295358320565654
         },
         "mode": "lines",
         "text": "0.226",
         "type": "scatter",
         "x": [
          2,
          3,
          null
         ],
         "y": [
          3,
          1,
          null
         ]
        },
        {
         "hoverinfo": "text",
         "line": {
          "color": "cornflowerblue",
          "width": 0.4452630946345144
         },
         "mode": "lines",
         "text": "0.223",
         "type": "scatter",
         "x": [
          2,
          3,
          null
         ],
         "y": [
          3,
          2,
          null
         ]
        },
        {
         "hoverinfo": "text",
         "line": {
          "color": "cornflowerblue",
          "width": 0.36984071283438064
         },
         "mode": "lines",
         "text": "0.185",
         "type": "scatter",
         "x": [
          2,
          3,
          null
         ],
         "y": [
          3,
          3,
          null
         ]
        },
        {
         "hoverinfo": "text",
         "line": {
          "color": "cornflowerblue",
          "width": 0.43100413129914805
         },
         "mode": "lines",
         "text": "0.216",
         "type": "scatter",
         "x": [
          2,
          3,
          null
         ],
         "y": [
          3,
          4,
          null
         ]
        },
        {
         "hoverinfo": "text",
         "line": {
          "color": "cornflowerblue",
          "width": 1.1976295554246088
         },
         "mode": "lines",
         "text": "0.599",
         "type": "scatter",
         "x": [
          2,
          3,
          null
         ],
         "y": [
          3,
          5,
          null
         ]
        },
        {
         "hoverinfo": "text",
         "line": {
          "color": "cornflowerblue",
          "width": 0.3669359182771875
         },
         "mode": "lines",
         "text": "0.183",
         "type": "scatter",
         "x": [
          2,
          3,
          null
         ],
         "y": [
          3,
          6,
          null
         ]
        },
        {
         "hoverinfo": "text",
         "line": {
          "color": "cornflowerblue",
          "width": 0.35605882777548126
         },
         "mode": "lines",
         "text": "0.178",
         "type": "scatter",
         "x": [
          2,
          3,
          null
         ],
         "y": [
          3,
          7,
          null
         ]
        },
        {
         "hoverinfo": "text",
         "line": {
          "color": "cornflowerblue",
          "width": 0.3576889702354148
         },
         "mode": "lines",
         "text": "0.179",
         "type": "scatter",
         "x": [
          2,
          3,
          null
         ],
         "y": [
          3,
          8,
          null
         ]
        },
        {
         "hoverinfo": "text",
         "line": {
          "color": "cornflowerblue",
          "width": 0.35243268734844174
         },
         "mode": "lines",
         "text": "0.176",
         "type": "scatter",
         "x": [
          2,
          3,
          null
         ],
         "y": [
          3,
          9,
          null
         ]
        },
        {
         "hoverinfo": "text",
         "line": {
          "color": "cornflowerblue",
          "width": 0.4102256487274976
         },
         "mode": "lines",
         "text": "0.205",
         "type": "scatter",
         "x": [
          2,
          3,
          null
         ],
         "y": [
          4,
          0,
          null
         ]
        },
        {
         "hoverinfo": "text",
         "line": {
          "color": "cornflowerblue",
          "width": 0.37775283333737125
         },
         "mode": "lines",
         "text": "0.189",
         "type": "scatter",
         "x": [
          2,
          3,
          null
         ],
         "y": [
          4,
          1,
          null
         ]
        },
        {
         "hoverinfo": "text",
         "line": {
          "color": "cornflowerblue",
          "width": 0.37429040045718154
         },
         "mode": "lines",
         "text": "0.187",
         "type": "scatter",
         "x": [
          2,
          3,
          null
         ],
         "y": [
          4,
          2,
          null
         ]
        },
        {
         "hoverinfo": "text",
         "line": {
          "color": "cornflowerblue",
          "width": 0.38433762198518906
         },
         "mode": "lines",
         "text": "0.192",
         "type": "scatter",
         "x": [
          2,
          3,
          null
         ],
         "y": [
          4,
          3,
          null
         ]
        },
        {
         "hoverinfo": "text",
         "line": {
          "color": "cornflowerblue",
          "width": 0.39006423764315684
         },
         "mode": "lines",
         "text": "0.195",
         "type": "scatter",
         "x": [
          2,
          3,
          null
         ],
         "y": [
          4,
          4,
          null
         ]
        },
        {
         "hoverinfo": "text",
         "line": {
          "color": "cornflowerblue",
          "width": 0.37882670734884555
         },
         "mode": "lines",
         "text": "0.189",
         "type": "scatter",
         "x": [
          2,
          3,
          null
         ],
         "y": [
          4,
          5,
          null
         ]
        },
        {
         "hoverinfo": "text",
         "line": {
          "color": "cornflowerblue",
          "width": 0.379525405323246
         },
         "mode": "lines",
         "text": "0.19",
         "type": "scatter",
         "x": [
          2,
          3,
          null
         ],
         "y": [
          4,
          6,
          null
         ]
        },
        {
         "hoverinfo": "text",
         "line": {
          "color": "cornflowerblue",
          "width": 0.36281820754595634
         },
         "mode": "lines",
         "text": "0.181",
         "type": "scatter",
         "x": [
          2,
          3,
          null
         ],
         "y": [
          4,
          7,
          null
         ]
        },
        {
         "hoverinfo": "text",
         "line": {
          "color": "cornflowerblue",
          "width": 0.37557656707048404
         },
         "mode": "lines",
         "text": "0.188",
         "type": "scatter",
         "x": [
          2,
          3,
          null
         ],
         "y": [
          4,
          8,
          null
         ]
        },
        {
         "hoverinfo": "text",
         "line": {
          "color": "cornflowerblue",
          "width": 0.3614384306598034
         },
         "mode": "lines",
         "text": "0.181",
         "type": "scatter",
         "x": [
          2,
          3,
          null
         ],
         "y": [
          4,
          9,
          null
         ]
        },
        {
         "hoverinfo": "text",
         "line": {
          "color": "cornflowerblue",
          "width": 0.35310665220975973
         },
         "mode": "lines",
         "text": "0.177",
         "type": "scatter",
         "x": [
          2,
          3,
          null
         ],
         "y": [
          4,
          10,
          null
         ]
        },
        {
         "hoverinfo": "text",
         "line": {
          "color": "cornflowerblue",
          "width": 0.3732195296705892
         },
         "mode": "lines",
         "text": "0.187",
         "type": "scatter",
         "x": [
          2,
          3,
          null
         ],
         "y": [
          5,
          0,
          null
         ]
        },
        {
         "hoverinfo": "text",
         "line": {
          "color": "cornflowerblue",
          "width": 0.3668485639964647
         },
         "mode": "lines",
         "text": "0.183",
         "type": "scatter",
         "x": [
          2,
          3,
          null
         ],
         "y": [
          5,
          1,
          null
         ]
        },
        {
         "hoverinfo": "text",
         "line": {
          "color": "cornflowerblue",
          "width": 0.3635264774007676
         },
         "mode": "lines",
         "text": "0.182",
         "type": "scatter",
         "x": [
          2,
          3,
          null
         ],
         "y": [
          5,
          2,
          null
         ]
        },
        {
         "hoverinfo": "text",
         "line": {
          "color": "cornflowerblue",
          "width": 0.3684334622542988
         },
         "mode": "lines",
         "text": "0.184",
         "type": "scatter",
         "x": [
          2,
          3,
          null
         ],
         "y": [
          5,
          3,
          null
         ]
        },
        {
         "hoverinfo": "text",
         "line": {
          "color": "cornflowerblue",
          "width": 0.36505749809553073
         },
         "mode": "lines",
         "text": "0.183",
         "type": "scatter",
         "x": [
          2,
          3,
          null
         ],
         "y": [
          5,
          4,
          null
         ]
        },
        {
         "hoverinfo": "text",
         "line": {
          "color": "cornflowerblue",
          "width": 0.36671277866911695
         },
         "mode": "lines",
         "text": "0.183",
         "type": "scatter",
         "x": [
          2,
          3,
          null
         ],
         "y": [
          5,
          5,
          null
         ]
        },
        {
         "hoverinfo": "text",
         "line": {
          "color": "cornflowerblue",
          "width": 0.3692214327102871
         },
         "mode": "lines",
         "text": "0.185",
         "type": "scatter",
         "x": [
          2,
          3,
          null
         ],
         "y": [
          5,
          6,
          null
         ]
        },
        {
         "hoverinfo": "text",
         "line": {
          "color": "cornflowerblue",
          "width": 0.36526962930789925
         },
         "mode": "lines",
         "text": "0.183",
         "type": "scatter",
         "x": [
          2,
          3,
          null
         ],
         "y": [
          5,
          7,
          null
         ]
        },
        {
         "hoverinfo": "text",
         "line": {
          "color": "cornflowerblue",
          "width": 0.36603183799182204
         },
         "mode": "lines",
         "text": "0.183",
         "type": "scatter",
         "x": [
          2,
          3,
          null
         ],
         "y": [
          5,
          8,
          null
         ]
        },
        {
         "hoverinfo": "text",
         "line": {
          "color": "cornflowerblue",
          "width": 0.3614645138651371
         },
         "mode": "lines",
         "text": "0.181",
         "type": "scatter",
         "x": [
          2,
          3,
          null
         ],
         "y": [
          5,
          9,
          null
         ]
        },
        {
         "hoverinfo": "text",
         "line": {
          "color": "cornflowerblue",
          "width": 0.34939049159346414
         },
         "mode": "lines",
         "text": "0.175",
         "type": "scatter",
         "x": [
          2,
          3,
          null
         ],
         "y": [
          5,
          10,
          null
         ]
        },
        {
         "hoverinfo": "text",
         "line": {
          "color": "cornflowerblue",
          "width": 0.3689886047248747
         },
         "mode": "lines",
         "text": "0.184",
         "type": "scatter",
         "x": [
          2,
          3,
          null
         ],
         "y": [
          6,
          0,
          null
         ]
        },
        {
         "hoverinfo": "text",
         "line": {
          "color": "cornflowerblue",
          "width": 0.35068613399007725
         },
         "mode": "lines",
         "text": "0.175",
         "type": "scatter",
         "x": [
          2,
          3,
          null
         ],
         "y": [
          6,
          1,
          null
         ]
        },
        {
         "hoverinfo": "text",
         "line": {
          "color": "cornflowerblue",
          "width": 0.3561558355275894
         },
         "mode": "lines",
         "text": "0.178",
         "type": "scatter",
         "x": [
          2,
          3,
          null
         ],
         "y": [
          6,
          2,
          null
         ]
        },
        {
         "hoverinfo": "text",
         "line": {
          "color": "cornflowerblue",
          "width": 0.3539612571318669
         },
         "mode": "lines",
         "text": "0.177",
         "type": "scatter",
         "x": [
          2,
          3,
          null
         ],
         "y": [
          6,
          3,
          null
         ]
        },
        {
         "hoverinfo": "text",
         "line": {
          "color": "cornflowerblue",
          "width": 0.3511601083654157
         },
         "mode": "lines",
         "text": "0.176",
         "type": "scatter",
         "x": [
          2,
          3,
          null
         ],
         "y": [
          6,
          4,
          null
         ]
        },
        {
         "hoverinfo": "text",
         "line": {
          "color": "cornflowerblue",
          "width": 0.35392191099157055
         },
         "mode": "lines",
         "text": "0.177",
         "type": "scatter",
         "x": [
          2,
          3,
          null
         ],
         "y": [
          6,
          6,
          null
         ]
        },
        {
         "hoverinfo": "text",
         "line": {
          "color": "cornflowerblue",
          "width": 0.3520966707841401
         },
         "mode": "lines",
         "text": "0.176",
         "type": "scatter",
         "x": [
          2,
          3,
          null
         ],
         "y": [
          6,
          7,
          null
         ]
        },
        {
         "hoverinfo": "text",
         "line": {
          "color": "cornflowerblue",
          "width": 0.356397085262016
         },
         "mode": "lines",
         "text": "0.178",
         "type": "scatter",
         "x": [
          2,
          3,
          null
         ],
         "y": [
          6,
          8,
          null
         ]
        },
        {
         "hoverinfo": "text",
         "line": {
          "color": "cornflowerblue",
          "width": 0.35359300087544226
         },
         "mode": "lines",
         "text": "0.177",
         "type": "scatter",
         "x": [
          2,
          3,
          null
         ],
         "y": [
          6,
          9,
          null
         ]
        },
        {
         "hoverinfo": "text",
         "line": {
          "color": "cornflowerblue",
          "width": 0.349168644765311
         },
         "mode": "lines",
         "text": "0.175",
         "type": "scatter",
         "x": [
          2,
          3,
          null
         ],
         "y": [
          6,
          10,
          null
         ]
        },
        {
         "hoverinfo": "text",
         "line": {
          "color": "cornflowerblue",
          "width": 0.35298251917238926
         },
         "mode": "lines",
         "text": "0.176",
         "type": "scatter",
         "x": [
          2,
          3,
          null
         ],
         "y": [
          8,
          0,
          null
         ]
        },
        {
         "hoverinfo": "text",
         "line": {
          "color": "cornflowerblue",
          "width": 0.3504971343297881
         },
         "mode": "lines",
         "text": "0.175",
         "type": "scatter",
         "x": [
          2,
          3,
          null
         ],
         "y": [
          8,
          2,
          null
         ]
        },
        {
         "hoverinfo": "text",
         "line": {
          "color": "cornflowerblue",
          "width": 0.35003979171216454
         },
         "mode": "lines",
         "text": "0.175",
         "type": "scatter",
         "x": [
          2,
          3,
          null
         ],
         "y": [
          8,
          4,
          null
         ]
        },
        {
         "hoverinfo": "text",
         "line": {
          "color": "cornflowerblue",
          "width": 0.351800271367574
         },
         "mode": "lines",
         "text": "0.176",
         "type": "scatter",
         "x": [
          2,
          3,
          null
         ],
         "y": [
          8,
          5,
          null
         ]
        },
        {
         "hoverinfo": "text",
         "line": {
          "color": "cornflowerblue",
          "width": 0.3542177239962122
         },
         "mode": "lines",
         "text": "0.177",
         "type": "scatter",
         "x": [
          2,
          3,
          null
         ],
         "y": [
          8,
          6,
          null
         ]
        },
        {
         "hoverinfo": "text",
         "line": {
          "color": "cornflowerblue",
          "width": 0.36053418040749385
         },
         "mode": "lines",
         "text": "0.18",
         "type": "scatter",
         "x": [
          2,
          3,
          null
         ],
         "y": [
          8,
          7,
          null
         ]
        },
        {
         "hoverinfo": "text",
         "line": {
          "color": "cornflowerblue",
          "width": 0.42200745395195605
         },
         "mode": "lines",
         "text": "0.211",
         "type": "scatter",
         "x": [
          3,
          4,
          null
         ],
         "y": [
          0,
          0,
          null
         ]
        },
        {
         "hoverinfo": "text",
         "line": {
          "color": "cornflowerblue",
          "width": 0.39446924899134583
         },
         "mode": "lines",
         "text": "0.197",
         "type": "scatter",
         "x": [
          3,
          4,
          null
         ],
         "y": [
          0,
          1,
          null
         ]
        },
        {
         "hoverinfo": "text",
         "line": {
          "color": "cornflowerblue",
          "width": 0.3862161852806035
         },
         "mode": "lines",
         "text": "0.193",
         "type": "scatter",
         "x": [
          3,
          4,
          null
         ],
         "y": [
          0,
          2,
          null
         ]
        },
        {
         "hoverinfo": "text",
         "line": {
          "color": "cornflowerblue",
          "width": 0.386108237737777
         },
         "mode": "lines",
         "text": "0.193",
         "type": "scatter",
         "x": [
          3,
          4,
          null
         ],
         "y": [
          0,
          3,
          null
         ]
        },
        {
         "hoverinfo": "text",
         "line": {
          "color": "cornflowerblue",
          "width": 0.8746862937322628
         },
         "mode": "lines",
         "text": "0.437",
         "type": "scatter",
         "x": [
          3,
          4,
          null
         ],
         "y": [
          0,
          4,
          null
         ]
        },
        {
         "hoverinfo": "text",
         "line": {
          "color": "cornflowerblue",
          "width": 0.4892540528417724
         },
         "mode": "lines",
         "text": "0.245",
         "type": "scatter",
         "x": [
          3,
          4,
          null
         ],
         "y": [
          1,
          0,
          null
         ]
        },
        {
         "hoverinfo": "text",
         "line": {
          "color": "cornflowerblue",
          "width": 0.45605671389152624
         },
         "mode": "lines",
         "text": "0.228",
         "type": "scatter",
         "x": [
          3,
          4,
          null
         ],
         "y": [
          1,
          1,
          null
         ]
        },
        {
         "hoverinfo": "text",
         "line": {
          "color": "cornflowerblue",
          "width": 0.3968129484961281
         },
         "mode": "lines",
         "text": "0.198",
         "type": "scatter",
         "x": [
          3,
          4,
          null
         ],
         "y": [
          1,
          2,
          null
         ]
        },
        {
         "hoverinfo": "text",
         "line": {
          "color": "cornflowerblue",
          "width": 1.2374508032139768
         },
         "mode": "lines",
         "text": "0.619",
         "type": "scatter",
         "x": [
          3,
          4,
          null
         ],
         "y": [
          1,
          3,
          null
         ]
        },
        {
         "hoverinfo": "text",
         "line": {
          "color": "cornflowerblue",
          "width": 0.40012123998854926
         },
         "mode": "lines",
         "text": "0.2",
         "type": "scatter",
         "x": [
          3,
          4,
          null
         ],
         "y": [
          1,
          4,
          null
         ]
        },
        {
         "hoverinfo": "text",
         "line": {
          "color": "cornflowerblue",
          "width": 0.5240121219016017
         },
         "mode": "lines",
         "text": "0.262",
         "type": "scatter",
         "x": [
          3,
          4,
          null
         ],
         "y": [
          2,
          0,
          null
         ]
        },
        {
         "hoverinfo": "text",
         "line": {
          "color": "cornflowerblue",
          "width": 0.4600699474566564
         },
         "mode": "lines",
         "text": "0.23",
         "type": "scatter",
         "x": [
          3,
          4,
          null
         ],
         "y": [
          2,
          1,
          null
         ]
        },
        {
         "hoverinfo": "text",
         "line": {
          "color": "cornflowerblue",
          "width": 0.4197763215965633
         },
         "mode": "lines",
         "text": "0.21",
         "type": "scatter",
         "x": [
          3,
          4,
          null
         ],
         "y": [
          2,
          2,
          null
         ]
        },
        {
         "hoverinfo": "text",
         "line": {
          "color": "cornflowerblue",
          "width": 0.43976994013427273
         },
         "mode": "lines",
         "text": "0.22",
         "type": "scatter",
         "x": [
          3,
          4,
          null
         ],
         "y": [
          2,
          3,
          null
         ]
        },
        {
         "hoverinfo": "text",
         "line": {
          "color": "cornflowerblue",
          "width": 0.4097879708877945
         },
         "mode": "lines",
         "text": "0.205",
         "type": "scatter",
         "x": [
          3,
          4,
          null
         ],
         "y": [
          2,
          4,
          null
         ]
        },
        {
         "hoverinfo": "text",
         "line": {
          "color": "cornflowerblue",
          "width": 0.37779436659596843
         },
         "mode": "lines",
         "text": "0.189",
         "type": "scatter",
         "x": [
          3,
          4,
          null
         ],
         "y": [
          3,
          0,
          null
         ]
        },
        {
         "hoverinfo": "text",
         "line": {
          "color": "cornflowerblue",
          "width": 0.39529859920971594
         },
         "mode": "lines",
         "text": "0.198",
         "type": "scatter",
         "x": [
          3,
          4,
          null
         ],
         "y": [
          3,
          1,
          null
         ]
        },
        {
         "hoverinfo": "text",
         "line": {
          "color": "cornflowerblue",
          "width": 0.39018694409239546
         },
         "mode": "lines",
         "text": "0.195",
         "type": "scatter",
         "x": [
          3,
          4,
          null
         ],
         "y": [
          3,
          2,
          null
         ]
        },
        {
         "hoverinfo": "text",
         "line": {
          "color": "cornflowerblue",
          "width": 0.38378600522766604
         },
         "mode": "lines",
         "text": "0.192",
         "type": "scatter",
         "x": [
          3,
          4,
          null
         ],
         "y": [
          3,
          3,
          null
         ]
        },
        {
         "hoverinfo": "text",
         "line": {
          "color": "cornflowerblue",
          "width": 0.3831279929828855
         },
         "mode": "lines",
         "text": "0.192",
         "type": "scatter",
         "x": [
          3,
          4,
          null
         ],
         "y": [
          3,
          4,
          null
         ]
        },
        {
         "hoverinfo": "text",
         "line": {
          "color": "cornflowerblue",
          "width": 0.47954016519206866
         },
         "mode": "lines",
         "text": "0.24",
         "type": "scatter",
         "x": [
          3,
          4,
          null
         ],
         "y": [
          4,
          0,
          null
         ]
        },
        {
         "hoverinfo": "text",
         "line": {
          "color": "cornflowerblue",
          "width": 0.8288470983472588
         },
         "mode": "lines",
         "text": "0.414",
         "type": "scatter",
         "x": [
          3,
          4,
          null
         ],
         "y": [
          4,
          1,
          null
         ]
        },
        {
         "hoverinfo": "text",
         "line": {
          "color": "cornflowerblue",
          "width": 0.40622608255578996
         },
         "mode": "lines",
         "text": "0.203",
         "type": "scatter",
         "x": [
          3,
          4,
          null
         ],
         "y": [
          4,
          2,
          null
         ]
        },
        {
         "hoverinfo": "text",
         "line": {
          "color": "cornflowerblue",
          "width": 0.473817006075918
         },
         "mode": "lines",
         "text": "0.237",
         "type": "scatter",
         "x": [
          3,
          4,
          null
         ],
         "y": [
          4,
          3,
          null
         ]
        },
        {
         "hoverinfo": "text",
         "line": {
          "color": "cornflowerblue",
          "width": 0.4086858361159596
         },
         "mode": "lines",
         "text": "0.204",
         "type": "scatter",
         "x": [
          3,
          4,
          null
         ],
         "y": [
          4,
          4,
          null
         ]
        },
        {
         "hoverinfo": "text",
         "line": {
          "color": "cornflowerblue",
          "width": 1.1594794073699086
         },
         "mode": "lines",
         "text": "0.58",
         "type": "scatter",
         "x": [
          3,
          4,
          null
         ],
         "y": [
          5,
          0,
          null
         ]
        },
        {
         "hoverinfo": "text",
         "line": {
          "color": "cornflowerblue",
          "width": 0.47108141043257085
         },
         "mode": "lines",
         "text": "0.236",
         "type": "scatter",
         "x": [
          3,
          4,
          null
         ],
         "y": [
          5,
          1,
          null
         ]
        },
        {
         "hoverinfo": "text",
         "line": {
          "color": "cornflowerblue",
          "width": 0.38724130032148923
         },
         "mode": "lines",
         "text": "0.194",
         "type": "scatter",
         "x": [
          3,
          4,
          null
         ],
         "y": [
          5,
          2,
          null
         ]
        },
        {
         "hoverinfo": "text",
         "line": {
          "color": "cornflowerblue",
          "width": 0.4729064739388982
         },
         "mode": "lines",
         "text": "0.236",
         "type": "scatter",
         "x": [
          3,
          4,
          null
         ],
         "y": [
          5,
          3,
          null
         ]
        },
        {
         "hoverinfo": "text",
         "line": {
          "color": "cornflowerblue",
          "width": 0.4483429730581106
         },
         "mode": "lines",
         "text": "0.224",
         "type": "scatter",
         "x": [
          3,
          4,
          null
         ],
         "y": [
          5,
          4,
          null
         ]
        },
        {
         "hoverinfo": "text",
         "line": {
          "color": "cornflowerblue",
          "width": 0.3719585637840445
         },
         "mode": "lines",
         "text": "0.186",
         "type": "scatter",
         "x": [
          3,
          4,
          null
         ],
         "y": [
          6,
          0,
          null
         ]
        },
        {
         "hoverinfo": "text",
         "line": {
          "color": "cornflowerblue",
          "width": 0.36920775045034093
         },
         "mode": "lines",
         "text": "0.185",
         "type": "scatter",
         "x": [
          3,
          4,
          null
         ],
         "y": [
          6,
          1,
          null
         ]
        },
        {
         "hoverinfo": "text",
         "line": {
          "color": "cornflowerblue",
          "width": 0.37868849962302403
         },
         "mode": "lines",
         "text": "0.189",
         "type": "scatter",
         "x": [
          3,
          4,
          null
         ],
         "y": [
          6,
          2,
          null
         ]
        },
        {
         "hoverinfo": "text",
         "line": {
          "color": "cornflowerblue",
          "width": 0.3644949348633326
         },
         "mode": "lines",
         "text": "0.182",
         "type": "scatter",
         "x": [
          3,
          4,
          null
         ],
         "y": [
          6,
          3,
          null
         ]
        },
        {
         "hoverinfo": "text",
         "line": {
          "color": "cornflowerblue",
          "width": 0.3736096844533489
         },
         "mode": "lines",
         "text": "0.187",
         "type": "scatter",
         "x": [
          3,
          4,
          null
         ],
         "y": [
          6,
          4,
          null
         ]
        },
        {
         "hoverinfo": "text",
         "line": {
          "color": "cornflowerblue",
          "width": 0.3634606982521899
         },
         "mode": "lines",
         "text": "0.182",
         "type": "scatter",
         "x": [
          3,
          4,
          null
         ],
         "y": [
          7,
          0,
          null
         ]
        },
        {
         "hoverinfo": "text",
         "line": {
          "color": "cornflowerblue",
          "width": 0.3684346530267032
         },
         "mode": "lines",
         "text": "0.184",
         "type": "scatter",
         "x": [
          3,
          4,
          null
         ],
         "y": [
          7,
          1,
          null
         ]
        },
        {
         "hoverinfo": "text",
         "line": {
          "color": "cornflowerblue",
          "width": 0.3640096281288373
         },
         "mode": "lines",
         "text": "0.182",
         "type": "scatter",
         "x": [
          3,
          4,
          null
         ],
         "y": [
          7,
          2,
          null
         ]
        },
        {
         "hoverinfo": "text",
         "line": {
          "color": "cornflowerblue",
          "width": 0.35915482819324945
         },
         "mode": "lines",
         "text": "0.18",
         "type": "scatter",
         "x": [
          3,
          4,
          null
         ],
         "y": [
          7,
          3,
          null
         ]
        },
        {
         "hoverinfo": "text",
         "line": {
          "color": "cornflowerblue",
          "width": 0.37215354811926155
         },
         "mode": "lines",
         "text": "0.186",
         "type": "scatter",
         "x": [
          3,
          4,
          null
         ],
         "y": [
          7,
          4,
          null
         ]
        },
        {
         "hoverinfo": "text",
         "line": {
          "color": "cornflowerblue",
          "width": 0.3634460437503335
         },
         "mode": "lines",
         "text": "0.182",
         "type": "scatter",
         "x": [
          3,
          4,
          null
         ],
         "y": [
          8,
          0,
          null
         ]
        },
        {
         "hoverinfo": "text",
         "line": {
          "color": "cornflowerblue",
          "width": 0.37050411475377243
         },
         "mode": "lines",
         "text": "0.185",
         "type": "scatter",
         "x": [
          3,
          4,
          null
         ],
         "y": [
          8,
          1,
          null
         ]
        },
        {
         "hoverinfo": "text",
         "line": {
          "color": "cornflowerblue",
          "width": 0.37778477331836224
         },
         "mode": "lines",
         "text": "0.189",
         "type": "scatter",
         "x": [
          3,
          4,
          null
         ],
         "y": [
          8,
          2,
          null
         ]
        },
        {
         "hoverinfo": "text",
         "line": {
          "color": "cornflowerblue",
          "width": 0.3616675807460352
         },
         "mode": "lines",
         "text": "0.181",
         "type": "scatter",
         "x": [
          3,
          4,
          null
         ],
         "y": [
          8,
          3,
          null
         ]
        },
        {
         "hoverinfo": "text",
         "line": {
          "color": "cornflowerblue",
          "width": 0.37178563648260754
         },
         "mode": "lines",
         "text": "0.186",
         "type": "scatter",
         "x": [
          3,
          4,
          null
         ],
         "y": [
          8,
          4,
          null
         ]
        },
        {
         "hoverinfo": "text",
         "line": {
          "color": "cornflowerblue",
          "width": 0.3559605856100011
         },
         "mode": "lines",
         "text": "0.178",
         "type": "scatter",
         "x": [
          3,
          4,
          null
         ],
         "y": [
          9,
          0,
          null
         ]
        },
        {
         "hoverinfo": "text",
         "line": {
          "color": "cornflowerblue",
          "width": 0.35953212762182774
         },
         "mode": "lines",
         "text": "0.18",
         "type": "scatter",
         "x": [
          3,
          4,
          null
         ],
         "y": [
          9,
          1,
          null
         ]
        },
        {
         "hoverinfo": "text",
         "line": {
          "color": "cornflowerblue",
          "width": 0.3629613080226931
         },
         "mode": "lines",
         "text": "0.181",
         "type": "scatter",
         "x": [
          3,
          4,
          null
         ],
         "y": [
          9,
          2,
          null
         ]
        },
        {
         "hoverinfo": "text",
         "line": {
          "color": "cornflowerblue",
          "width": 0.3526549291699612
         },
         "mode": "lines",
         "text": "0.176",
         "type": "scatter",
         "x": [
          3,
          4,
          null
         ],
         "y": [
          9,
          3,
          null
         ]
        },
        {
         "hoverinfo": "text",
         "line": {
          "color": "cornflowerblue",
          "width": 0.3662141983265876
         },
         "mode": "lines",
         "text": "0.183",
         "type": "scatter",
         "x": [
          3,
          4,
          null
         ],
         "y": [
          9,
          4,
          null
         ]
        },
        {
         "hoverinfo": "text",
         "line": {
          "color": "cornflowerblue",
          "width": 0.3496711159341208
         },
         "mode": "lines",
         "text": "0.175",
         "type": "scatter",
         "x": [
          3,
          4,
          null
         ],
         "y": [
          10,
          1,
          null
         ]
        },
        {
         "hoverinfo": "text",
         "line": {
          "color": "cornflowerblue",
          "width": 0.3560831898506534
         },
         "mode": "lines",
         "text": "0.178",
         "type": "scatter",
         "x": [
          3,
          4,
          null
         ],
         "y": [
          10,
          2,
          null
         ]
        },
        {
         "hoverinfo": "text",
         "line": {
          "color": "cornflowerblue",
          "width": 0.35248039399164266
         },
         "mode": "lines",
         "text": "0.176",
         "type": "scatter",
         "x": [
          3,
          4,
          null
         ],
         "y": [
          10,
          4,
          null
         ]
        },
        {
         "hoverinfo": "text",
         "line": {
          "color": "cornflowerblue",
          "width": 0.5069370333031159
         },
         "mode": "lines",
         "text": "0.253",
         "type": "scatter",
         "x": [
          4,
          5,
          null
         ],
         "y": [
          0,
          0,
          null
         ]
        },
        {
         "hoverinfo": "text",
         "line": {
          "color": "cornflowerblue",
          "width": 0.5094782402991929
         },
         "mode": "lines",
         "text": "0.255",
         "type": "scatter",
         "x": [
          4,
          5,
          null
         ],
         "y": [
          0,
          1,
          null
         ]
        },
        {
         "hoverinfo": "text",
         "line": {
          "color": "cornflowerblue",
          "width": 1.245346523733065
         },
         "mode": "lines",
         "text": "0.623",
         "type": "scatter",
         "x": [
          4,
          5,
          null
         ],
         "y": [
          0,
          2,
          null
         ]
        },
        {
         "hoverinfo": "text",
         "line": {
          "color": "cornflowerblue",
          "width": 0.48744218275473783
         },
         "mode": "lines",
         "text": "0.244",
         "type": "scatter",
         "x": [
          4,
          5,
          null
         ],
         "y": [
          0,
          3,
          null
         ]
        },
        {
         "hoverinfo": "text",
         "line": {
          "color": "cornflowerblue",
          "width": 0.3670694847823472
         },
         "mode": "lines",
         "text": "0.184",
         "type": "scatter",
         "x": [
          4,
          5,
          null
         ],
         "y": [
          0,
          4,
          null
         ]
        },
        {
         "hoverinfo": "text",
         "line": {
          "color": "cornflowerblue",
          "width": 0.3658427846198636
         },
         "mode": "lines",
         "text": "0.183",
         "type": "scatter",
         "x": [
          4,
          5,
          null
         ],
         "y": [
          0,
          5,
          null
         ]
        },
        {
         "hoverinfo": "text",
         "line": {
          "color": "cornflowerblue",
          "width": 0.3801049873091298
         },
         "mode": "lines",
         "text": "0.19",
         "type": "scatter",
         "x": [
          4,
          5,
          null
         ],
         "y": [
          0,
          6,
          null
         ]
        },
        {
         "hoverinfo": "text",
         "line": {
          "color": "cornflowerblue",
          "width": 0.4524563630219765
         },
         "mode": "lines",
         "text": "0.226",
         "type": "scatter",
         "x": [
          4,
          5,
          null
         ],
         "y": [
          1,
          0,
          null
         ]
        },
        {
         "hoverinfo": "text",
         "line": {
          "color": "cornflowerblue",
          "width": 0.45559923018968057
         },
         "mode": "lines",
         "text": "0.228",
         "type": "scatter",
         "x": [
          4,
          5,
          null
         ],
         "y": [
          1,
          1,
          null
         ]
        },
        {
         "hoverinfo": "text",
         "line": {
          "color": "cornflowerblue",
          "width": 0.4746812238118367
         },
         "mode": "lines",
         "text": "0.237",
         "type": "scatter",
         "x": [
          4,
          5,
          null
         ],
         "y": [
          1,
          2,
          null
         ]
        },
        {
         "hoverinfo": "text",
         "line": {
          "color": "cornflowerblue",
          "width": 0.8131487894513684
         },
         "mode": "lines",
         "text": "0.407",
         "type": "scatter",
         "x": [
          4,
          5,
          null
         ],
         "y": [
          1,
          3,
          null
         ]
        },
        {
         "hoverinfo": "text",
         "line": {
          "color": "cornflowerblue",
          "width": 0.37401251281949655
         },
         "mode": "lines",
         "text": "0.187",
         "type": "scatter",
         "x": [
          4,
          5,
          null
         ],
         "y": [
          1,
          4,
          null
         ]
        },
        {
         "hoverinfo": "text",
         "line": {
          "color": "cornflowerblue",
          "width": 0.37292392327839974
         },
         "mode": "lines",
         "text": "0.186",
         "type": "scatter",
         "x": [
          4,
          5,
          null
         ],
         "y": [
          1,
          5,
          null
         ]
        },
        {
         "hoverinfo": "text",
         "line": {
          "color": "cornflowerblue",
          "width": 0.40030819175419496
         },
         "mode": "lines",
         "text": "0.2",
         "type": "scatter",
         "x": [
          4,
          5,
          null
         ],
         "y": [
          1,
          6,
          null
         ]
        },
        {
         "hoverinfo": "text",
         "line": {
          "color": "cornflowerblue",
          "width": 0.35170035289445184
         },
         "mode": "lines",
         "text": "0.176",
         "type": "scatter",
         "x": [
          4,
          5,
          null
         ],
         "y": [
          1,
          7,
          null
         ]
        },
        {
         "hoverinfo": "text",
         "line": {
          "color": "cornflowerblue",
          "width": 0.3950997823169885
         },
         "mode": "lines",
         "text": "0.198",
         "type": "scatter",
         "x": [
          4,
          5,
          null
         ],
         "y": [
          2,
          0,
          null
         ]
        },
        {
         "hoverinfo": "text",
         "line": {
          "color": "cornflowerblue",
          "width": 0.4191813592900472
         },
         "mode": "lines",
         "text": "0.21",
         "type": "scatter",
         "x": [
          4,
          5,
          null
         ],
         "y": [
          2,
          1,
          null
         ]
        },
        {
         "hoverinfo": "text",
         "line": {
          "color": "cornflowerblue",
          "width": 0.3896688290531252
         },
         "mode": "lines",
         "text": "0.195",
         "type": "scatter",
         "x": [
          4,
          5,
          null
         ],
         "y": [
          2,
          2,
          null
         ]
        },
        {
         "hoverinfo": "text",
         "line": {
          "color": "cornflowerblue",
          "width": 0.4073823172397926
         },
         "mode": "lines",
         "text": "0.204",
         "type": "scatter",
         "x": [
          4,
          5,
          null
         ],
         "y": [
          2,
          3,
          null
         ]
        },
        {
         "hoverinfo": "text",
         "line": {
          "color": "cornflowerblue",
          "width": 0.3812771979773428
         },
         "mode": "lines",
         "text": "0.191",
         "type": "scatter",
         "x": [
          4,
          5,
          null
         ],
         "y": [
          2,
          4,
          null
         ]
        },
        {
         "hoverinfo": "text",
         "line": {
          "color": "cornflowerblue",
          "width": 0.3745111476460765
         },
         "mode": "lines",
         "text": "0.187",
         "type": "scatter",
         "x": [
          4,
          5,
          null
         ],
         "y": [
          2,
          5,
          null
         ]
        },
        {
         "hoverinfo": "text",
         "line": {
          "color": "cornflowerblue",
          "width": 0.3932442672402782
         },
         "mode": "lines",
         "text": "0.197",
         "type": "scatter",
         "x": [
          4,
          5,
          null
         ],
         "y": [
          2,
          6,
          null
         ]
        },
        {
         "hoverinfo": "text",
         "line": {
          "color": "cornflowerblue",
          "width": 0.35760477346936453
         },
         "mode": "lines",
         "text": "0.179",
         "type": "scatter",
         "x": [
          4,
          5,
          null
         ],
         "y": [
          2,
          7,
          null
         ]
        },
        {
         "hoverinfo": "text",
         "line": {
          "color": "cornflowerblue",
          "width": 1.029848791755239
         },
         "mode": "lines",
         "text": "0.515",
         "type": "scatter",
         "x": [
          4,
          5,
          null
         ],
         "y": [
          3,
          0,
          null
         ]
        },
        {
         "hoverinfo": "text",
         "line": {
          "color": "cornflowerblue",
          "width": 0.43685371567136344
         },
         "mode": "lines",
         "text": "0.218",
         "type": "scatter",
         "x": [
          4,
          5,
          null
         ],
         "y": [
          3,
          1,
          null
         ]
        },
        {
         "hoverinfo": "text",
         "line": {
          "color": "cornflowerblue",
          "width": 0.4803880992809636
         },
         "mode": "lines",
         "text": "0.24",
         "type": "scatter",
         "x": [
          4,
          5,
          null
         ],
         "y": [
          3,
          2,
          null
         ]
        },
        {
         "hoverinfo": "text",
         "line": {
          "color": "cornflowerblue",
          "width": 0.5020102908980824
         },
         "mode": "lines",
         "text": "0.251",
         "type": "scatter",
         "x": [
          4,
          5,
          null
         ],
         "y": [
          3,
          3,
          null
         ]
        },
        {
         "hoverinfo": "text",
         "line": {
          "color": "cornflowerblue",
          "width": 0.36758098905208536
         },
         "mode": "lines",
         "text": "0.184",
         "type": "scatter",
         "x": [
          4,
          5,
          null
         ],
         "y": [
          3,
          4,
          null
         ]
        },
        {
         "hoverinfo": "text",
         "line": {
          "color": "cornflowerblue",
          "width": 0.36410812404907317
         },
         "mode": "lines",
         "text": "0.182",
         "type": "scatter",
         "x": [
          4,
          5,
          null
         ],
         "y": [
          3,
          5,
          null
         ]
        },
        {
         "hoverinfo": "text",
         "line": {
          "color": "cornflowerblue",
          "width": 0.38349826207087295
         },
         "mode": "lines",
         "text": "0.192",
         "type": "scatter",
         "x": [
          4,
          5,
          null
         ],
         "y": [
          3,
          6,
          null
         ]
        },
        {
         "hoverinfo": "text",
         "line": {
          "color": "cornflowerblue",
          "width": 0.44674587542480837
         },
         "mode": "lines",
         "text": "0.223",
         "type": "scatter",
         "x": [
          4,
          5,
          null
         ],
         "y": [
          4,
          0,
          null
         ]
        },
        {
         "hoverinfo": "text",
         "line": {
          "color": "cornflowerblue",
          "width": 0.41613466657320736
         },
         "mode": "lines",
         "text": "0.208",
         "type": "scatter",
         "x": [
          4,
          5,
          null
         ],
         "y": [
          4,
          1,
          null
         ]
        },
        {
         "hoverinfo": "text",
         "line": {
          "color": "cornflowerblue",
          "width": 0.45207604848728505
         },
         "mode": "lines",
         "text": "0.226",
         "type": "scatter",
         "x": [
          4,
          5,
          null
         ],
         "y": [
          4,
          2,
          null
         ]
        },
        {
         "hoverinfo": "text",
         "line": {
          "color": "cornflowerblue",
          "width": 0.4064023151652651
         },
         "mode": "lines",
         "text": "0.203",
         "type": "scatter",
         "x": [
          4,
          5,
          null
         ],
         "y": [
          4,
          3,
          null
         ]
        },
        {
         "hoverinfo": "text",
         "line": {
          "color": "cornflowerblue",
          "width": 0.37314395487207547
         },
         "mode": "lines",
         "text": "0.187",
         "type": "scatter",
         "x": [
          4,
          5,
          null
         ],
         "y": [
          4,
          4,
          null
         ]
        },
        {
         "hoverinfo": "text",
         "line": {
          "color": "cornflowerblue",
          "width": 0.37588403290521105
         },
         "mode": "lines",
         "text": "0.188",
         "type": "scatter",
         "x": [
          4,
          5,
          null
         ],
         "y": [
          4,
          5,
          null
         ]
        },
        {
         "hoverinfo": "text",
         "line": {
          "color": "cornflowerblue",
          "width": 0.383325319935988
         },
         "mode": "lines",
         "text": "0.192",
         "type": "scatter",
         "x": [
          4,
          5,
          null
         ],
         "y": [
          4,
          6,
          null
         ]
        },
        {
         "hoverinfo": "text",
         "line": {
          "color": "cornflowerblue",
          "width": 0.35685778373623045
         },
         "mode": "lines",
         "text": "0.178",
         "type": "scatter",
         "x": [
          4,
          5,
          null
         ],
         "y": [
          4,
          7,
          null
         ]
        },
        {
         "hoverinfo": "text",
         "line": {
          "color": "cornflowerblue",
          "width": 0.48949911425104126
         },
         "mode": "lines",
         "text": "0.245",
         "type": "scatter",
         "x": [
          5,
          6,
          null
         ],
         "y": [
          0,
          0,
          null
         ]
        },
        {
         "hoverinfo": "text",
         "line": {
          "color": "cornflowerblue",
          "width": 0.5036211561714703
         },
         "mode": "lines",
         "text": "0.252",
         "type": "scatter",
         "x": [
          5,
          6,
          null
         ],
         "y": [
          0,
          1,
          null
         ]
        },
        {
         "hoverinfo": "text",
         "line": {
          "color": "cornflowerblue",
          "width": 0.46884746931115506
         },
         "mode": "lines",
         "text": "0.234",
         "type": "scatter",
         "x": [
          5,
          6,
          null
         ],
         "y": [
          0,
          2,
          null
         ]
        },
        {
         "hoverinfo": "text",
         "line": {
          "color": "cornflowerblue",
          "width": 1.099085861530483
         },
         "mode": "lines",
         "text": "0.55",
         "type": "scatter",
         "x": [
          5,
          6,
          null
         ],
         "y": [
          0,
          3,
          null
         ]
        },
        {
         "hoverinfo": "text",
         "line": {
          "color": "cornflowerblue",
          "width": 0.4026640814961645
         },
         "mode": "lines",
         "text": "0.201",
         "type": "scatter",
         "x": [
          5,
          6,
          null
         ],
         "y": [
          0,
          4,
          null
         ]
        },
        {
         "hoverinfo": "text",
         "line": {
          "color": "cornflowerblue",
          "width": 0.40259437828497086
         },
         "mode": "lines",
         "text": "0.201",
         "type": "scatter",
         "x": [
          5,
          6,
          null
         ],
         "y": [
          0,
          5,
          null
         ]
        },
        {
         "hoverinfo": "text",
         "line": {
          "color": "cornflowerblue",
          "width": 0.3739599720345071
         },
         "mode": "lines",
         "text": "0.187",
         "type": "scatter",
         "x": [
          5,
          6,
          null
         ],
         "y": [
          0,
          6,
          null
         ]
        },
        {
         "hoverinfo": "text",
         "line": {
          "color": "cornflowerblue",
          "width": 0.36912409530359364
         },
         "mode": "lines",
         "text": "0.185",
         "type": "scatter",
         "x": [
          5,
          6,
          null
         ],
         "y": [
          0,
          7,
          null
         ]
        },
        {
         "hoverinfo": "text",
         "line": {
          "color": "cornflowerblue",
          "width": 0.4549949490804243
         },
         "mode": "lines",
         "text": "0.227",
         "type": "scatter",
         "x": [
          5,
          6,
          null
         ],
         "y": [
          1,
          0,
          null
         ]
        },
        {
         "hoverinfo": "text",
         "line": {
          "color": "cornflowerblue",
          "width": 0.4716403281537809
         },
         "mode": "lines",
         "text": "0.236",
         "type": "scatter",
         "x": [
          5,
          6,
          null
         ],
         "y": [
          1,
          1,
          null
         ]
        },
        {
         "hoverinfo": "text",
         "line": {
          "color": "cornflowerblue",
          "width": 0.40802478985152746
         },
         "mode": "lines",
         "text": "0.204",
         "type": "scatter",
         "x": [
          5,
          6,
          null
         ],
         "y": [
          1,
          2,
          null
         ]
        },
        {
         "hoverinfo": "text",
         "line": {
          "color": "cornflowerblue",
          "width": 0.43960713716981265
         },
         "mode": "lines",
         "text": "0.22",
         "type": "scatter",
         "x": [
          5,
          6,
          null
         ],
         "y": [
          1,
          3,
          null
         ]
        },
        {
         "hoverinfo": "text",
         "line": {
          "color": "cornflowerblue",
          "width": 0.7519803770607287
         },
         "mode": "lines",
         "text": "0.376",
         "type": "scatter",
         "x": [
          5,
          6,
          null
         ],
         "y": [
          1,
          4,
          null
         ]
        },
        {
         "hoverinfo": "text",
         "line": {
          "color": "cornflowerblue",
          "width": 0.40016871873785886
         },
         "mode": "lines",
         "text": "0.2",
         "type": "scatter",
         "x": [
          5,
          6,
          null
         ],
         "y": [
          1,
          5,
          null
         ]
        },
        {
         "hoverinfo": "text",
         "line": {
          "color": "cornflowerblue",
          "width": 0.3733074483463298
         },
         "mode": "lines",
         "text": "0.187",
         "type": "scatter",
         "x": [
          5,
          6,
          null
         ],
         "y": [
          1,
          6,
          null
         ]
        },
        {
         "hoverinfo": "text",
         "line": {
          "color": "cornflowerblue",
          "width": 0.36791845040790955
         },
         "mode": "lines",
         "text": "0.184",
         "type": "scatter",
         "x": [
          5,
          6,
          null
         ],
         "y": [
          1,
          7,
          null
         ]
        },
        {
         "hoverinfo": "text",
         "line": {
          "color": "cornflowerblue",
          "width": 0.4854926307508519
         },
         "mode": "lines",
         "text": "0.243",
         "type": "scatter",
         "x": [
          5,
          6,
          null
         ],
         "y": [
          2,
          0,
          null
         ]
        },
        {
         "hoverinfo": "text",
         "line": {
          "color": "cornflowerblue",
          "width": 1.2696706448195247
         },
         "mode": "lines",
         "text": "0.635",
         "type": "scatter",
         "x": [
          5,
          6,
          null
         ],
         "y": [
          2,
          1,
          null
         ]
        },
        {
         "hoverinfo": "text",
         "line": {
          "color": "cornflowerblue",
          "width": 0.5011264345663745
         },
         "mode": "lines",
         "text": "0.251",
         "type": "scatter",
         "x": [
          5,
          6,
          null
         ],
         "y": [
          2,
          2,
          null
         ]
        },
        {
         "hoverinfo": "text",
         "line": {
          "color": "cornflowerblue",
          "width": 0.48545395793228246
         },
         "mode": "lines",
         "text": "0.243",
         "type": "scatter",
         "x": [
          5,
          6,
          null
         ],
         "y": [
          2,
          3,
          null
         ]
        },
        {
         "hoverinfo": "text",
         "line": {
          "color": "cornflowerblue",
          "width": 0.4131873672439648
         },
         "mode": "lines",
         "text": "0.207",
         "type": "scatter",
         "x": [
          5,
          6,
          null
         ],
         "y": [
          2,
          4,
          null
         ]
        },
        {
         "hoverinfo": "text",
         "line": {
          "color": "cornflowerblue",
          "width": 0.402276281134006
         },
         "mode": "lines",
         "text": "0.201",
         "type": "scatter",
         "x": [
          5,
          6,
          null
         ],
         "y": [
          2,
          5,
          null
         ]
        },
        {
         "hoverinfo": "text",
         "line": {
          "color": "cornflowerblue",
          "width": 0.3699664172264806
         },
         "mode": "lines",
         "text": "0.185",
         "type": "scatter",
         "x": [
          5,
          6,
          null
         ],
         "y": [
          2,
          6,
          null
         ]
        },
        {
         "hoverinfo": "text",
         "line": {
          "color": "cornflowerblue",
          "width": 0.3687715420797759
         },
         "mode": "lines",
         "text": "0.184",
         "type": "scatter",
         "x": [
          5,
          6,
          null
         ],
         "y": [
          2,
          7,
          null
         ]
        },
        {
         "hoverinfo": "text",
         "line": {
          "color": "cornflowerblue",
          "width": 0.6565179834029338
         },
         "mode": "lines",
         "text": "0.328",
         "type": "scatter",
         "x": [
          5,
          6,
          null
         ],
         "y": [
          3,
          0,
          null
         ]
        },
        {
         "hoverinfo": "text",
         "line": {
          "color": "cornflowerblue",
          "width": 0.5034560912876775
         },
         "mode": "lines",
         "text": "0.252",
         "type": "scatter",
         "x": [
          5,
          6,
          null
         ],
         "y": [
          3,
          1,
          null
         ]
        },
        {
         "hoverinfo": "text",
         "line": {
          "color": "cornflowerblue",
          "width": 0.3889080132060316
         },
         "mode": "lines",
         "text": "0.194",
         "type": "scatter",
         "x": [
          5,
          6,
          null
         ],
         "y": [
          3,
          2,
          null
         ]
        },
        {
         "hoverinfo": "text",
         "line": {
          "color": "cornflowerblue",
          "width": 0.47322901504133846
         },
         "mode": "lines",
         "text": "0.237",
         "type": "scatter",
         "x": [
          5,
          6,
          null
         ],
         "y": [
          3,
          3,
          null
         ]
        },
        {
         "hoverinfo": "text",
         "line": {
          "color": "cornflowerblue",
          "width": 0.42532817138629525
         },
         "mode": "lines",
         "text": "0.213",
         "type": "scatter",
         "x": [
          5,
          6,
          null
         ],
         "y": [
          3,
          4,
          null
         ]
        },
        {
         "hoverinfo": "text",
         "line": {
          "color": "cornflowerblue",
          "width": 0.49257306112190224
         },
         "mode": "lines",
         "text": "0.246",
         "type": "scatter",
         "x": [
          5,
          6,
          null
         ],
         "y": [
          3,
          5,
          null
         ]
        },
        {
         "hoverinfo": "text",
         "line": {
          "color": "cornflowerblue",
          "width": 0.3794928327652674
         },
         "mode": "lines",
         "text": "0.19",
         "type": "scatter",
         "x": [
          5,
          6,
          null
         ],
         "y": [
          3,
          6,
          null
         ]
        },
        {
         "hoverinfo": "text",
         "line": {
          "color": "cornflowerblue",
          "width": 0.3691987876257755
         },
         "mode": "lines",
         "text": "0.185",
         "type": "scatter",
         "x": [
          5,
          6,
          null
         ],
         "y": [
          3,
          7,
          null
         ]
        },
        {
         "hoverinfo": "text",
         "line": {
          "color": "cornflowerblue",
          "width": 0.3711826797477029
         },
         "mode": "lines",
         "text": "0.186",
         "type": "scatter",
         "x": [
          5,
          6,
          null
         ],
         "y": [
          4,
          0,
          null
         ]
        },
        {
         "hoverinfo": "text",
         "line": {
          "color": "cornflowerblue",
          "width": 0.367216845144525
         },
         "mode": "lines",
         "text": "0.184",
         "type": "scatter",
         "x": [
          5,
          6,
          null
         ],
         "y": [
          4,
          1,
          null
         ]
        },
        {
         "hoverinfo": "text",
         "line": {
          "color": "cornflowerblue",
          "width": 0.36375451593672553
         },
         "mode": "lines",
         "text": "0.182",
         "type": "scatter",
         "x": [
          5,
          6,
          null
         ],
         "y": [
          4,
          2,
          null
         ]
        },
        {
         "hoverinfo": "text",
         "line": {
          "color": "cornflowerblue",
          "width": 0.3657818276408077
         },
         "mode": "lines",
         "text": "0.183",
         "type": "scatter",
         "x": [
          5,
          6,
          null
         ],
         "y": [
          4,
          3,
          null
         ]
        },
        {
         "hoverinfo": "text",
         "line": {
          "color": "cornflowerblue",
          "width": 0.36544511538770796
         },
         "mode": "lines",
         "text": "0.183",
         "type": "scatter",
         "x": [
          5,
          6,
          null
         ],
         "y": [
          4,
          4,
          null
         ]
        },
        {
         "hoverinfo": "text",
         "line": {
          "color": "cornflowerblue",
          "width": 0.3710159317381945
         },
         "mode": "lines",
         "text": "0.186",
         "type": "scatter",
         "x": [
          5,
          6,
          null
         ],
         "y": [
          4,
          5,
          null
         ]
        },
        {
         "hoverinfo": "text",
         "line": {
          "color": "cornflowerblue",
          "width": 0.3742406425286473
         },
         "mode": "lines",
         "text": "0.187",
         "type": "scatter",
         "x": [
          5,
          6,
          null
         ],
         "y": [
          4,
          6,
          null
         ]
        },
        {
         "hoverinfo": "text",
         "line": {
          "color": "cornflowerblue",
          "width": 0.36362267837322493
         },
         "mode": "lines",
         "text": "0.182",
         "type": "scatter",
         "x": [
          5,
          6,
          null
         ],
         "y": [
          4,
          7,
          null
         ]
        },
        {
         "hoverinfo": "text",
         "line": {
          "color": "cornflowerblue",
          "width": 0.3715345552238279
         },
         "mode": "lines",
         "text": "0.186",
         "type": "scatter",
         "x": [
          5,
          6,
          null
         ],
         "y": [
          5,
          0,
          null
         ]
        },
        {
         "hoverinfo": "text",
         "line": {
          "color": "cornflowerblue",
          "width": 0.36815337640226037
         },
         "mode": "lines",
         "text": "0.184",
         "type": "scatter",
         "x": [
          5,
          6,
          null
         ],
         "y": [
          5,
          1,
          null
         ]
        },
        {
         "hoverinfo": "text",
         "line": {
          "color": "cornflowerblue",
          "width": 0.3568933366567168
         },
         "mode": "lines",
         "text": "0.178",
         "type": "scatter",
         "x": [
          5,
          6,
          null
         ],
         "y": [
          5,
          2,
          null
         ]
        },
        {
         "hoverinfo": "text",
         "line": {
          "color": "cornflowerblue",
          "width": 0.36463052426733245
         },
         "mode": "lines",
         "text": "0.182",
         "type": "scatter",
         "x": [
          5,
          6,
          null
         ],
         "y": [
          5,
          3,
          null
         ]
        },
        {
         "hoverinfo": "text",
         "line": {
          "color": "cornflowerblue",
          "width": 0.3607624368814633
         },
         "mode": "lines",
         "text": "0.18",
         "type": "scatter",
         "x": [
          5,
          6,
          null
         ],
         "y": [
          5,
          4,
          null
         ]
        },
        {
         "hoverinfo": "text",
         "line": {
          "color": "cornflowerblue",
          "width": 0.3710257280498717
         },
         "mode": "lines",
         "text": "0.186",
         "type": "scatter",
         "x": [
          5,
          6,
          null
         ],
         "y": [
          5,
          5,
          null
         ]
        },
        {
         "hoverinfo": "text",
         "line": {
          "color": "cornflowerblue",
          "width": 0.3664745124671985
         },
         "mode": "lines",
         "text": "0.183",
         "type": "scatter",
         "x": [
          5,
          6,
          null
         ],
         "y": [
          5,
          6,
          null
         ]
        },
        {
         "hoverinfo": "text",
         "line": {
          "color": "cornflowerblue",
          "width": 0.36722125676027345
         },
         "mode": "lines",
         "text": "0.184",
         "type": "scatter",
         "x": [
          5,
          6,
          null
         ],
         "y": [
          5,
          7,
          null
         ]
        },
        {
         "hoverinfo": "text",
         "line": {
          "color": "cornflowerblue",
          "width": 0.38510411076162215
         },
         "mode": "lines",
         "text": "0.193",
         "type": "scatter",
         "x": [
          5,
          6,
          null
         ],
         "y": [
          6,
          0,
          null
         ]
        },
        {
         "hoverinfo": "text",
         "line": {
          "color": "cornflowerblue",
          "width": 0.38177178068723155
         },
         "mode": "lines",
         "text": "0.191",
         "type": "scatter",
         "x": [
          5,
          6,
          null
         ],
         "y": [
          6,
          1,
          null
         ]
        },
        {
         "hoverinfo": "text",
         "line": {
          "color": "cornflowerblue",
          "width": 0.37226873287588025
         },
         "mode": "lines",
         "text": "0.186",
         "type": "scatter",
         "x": [
          5,
          6,
          null
         ],
         "y": [
          6,
          2,
          null
         ]
        },
        {
         "hoverinfo": "text",
         "line": {
          "color": "cornflowerblue",
          "width": 0.38532525976020776
         },
         "mode": "lines",
         "text": "0.193",
         "type": "scatter",
         "x": [
          5,
          6,
          null
         ],
         "y": [
          6,
          3,
          null
         ]
        },
        {
         "hoverinfo": "text",
         "line": {
          "color": "cornflowerblue",
          "width": 0.375301178791162
         },
         "mode": "lines",
         "text": "0.188",
         "type": "scatter",
         "x": [
          5,
          6,
          null
         ],
         "y": [
          6,
          4,
          null
         ]
        },
        {
         "hoverinfo": "text",
         "line": {
          "color": "cornflowerblue",
          "width": 0.39159301602962804
         },
         "mode": "lines",
         "text": "0.196",
         "type": "scatter",
         "x": [
          5,
          6,
          null
         ],
         "y": [
          6,
          5,
          null
         ]
        },
        {
         "hoverinfo": "text",
         "line": {
          "color": "cornflowerblue",
          "width": 0.3789668804369221
         },
         "mode": "lines",
         "text": "0.189",
         "type": "scatter",
         "x": [
          5,
          6,
          null
         ],
         "y": [
          6,
          6,
          null
         ]
        },
        {
         "hoverinfo": "text",
         "line": {
          "color": "cornflowerblue",
          "width": 0.37692570175513923
         },
         "mode": "lines",
         "text": "0.188",
         "type": "scatter",
         "x": [
          5,
          6,
          null
         ],
         "y": [
          6,
          7,
          null
         ]
        },
        {
         "hoverinfo": "text",
         "line": {
          "color": "cornflowerblue",
          "width": 0.3489241590128423
         },
         "mode": "lines",
         "text": "0.174",
         "type": "scatter",
         "x": [
          5,
          6,
          null
         ],
         "y": [
          7,
          0,
          null
         ]
        },
        {
         "hoverinfo": "text",
         "line": {
          "color": "cornflowerblue",
          "width": 0.36349620313672915
         },
         "mode": "lines",
         "text": "0.182",
         "type": "scatter",
         "x": [
          5,
          6,
          null
         ],
         "y": [
          7,
          7,
          null
         ]
        },
        {
         "hoverinfo": "text",
         "marker": {
          "color": [],
          "colorbar": {
           "thickness": 15,
           "title": {
            "side": "right",
            "text": "Node Connections"
           },
           "xanchor": "left"
          },
          "colorscale": [
           [
            0,
            "rgb(255,255,217)"
           ],
           [
            0.125,
            "rgb(237,248,177)"
           ],
           [
            0.25,
            "rgb(199,233,180)"
           ],
           [
            0.375,
            "rgb(127,205,187)"
           ],
           [
            0.5,
            "rgb(65,182,196)"
           ],
           [
            0.625,
            "rgb(29,145,192)"
           ],
           [
            0.75,
            "rgb(34,94,168)"
           ],
           [
            0.875,
            "rgb(37,52,148)"
           ],
           [
            1,
            "rgb(8,29,88)"
           ]
          ],
          "line": {
           "width": 2
          },
          "reversescale": true,
          "showscale": true,
          "size": 10
         },
         "mode": "markers",
         "text": [
          "percat<br>habi<br>encontr<br>estacion<br>vehicul",
          "copi<br>asegur<br>algun<br>recient<br>llav",
          "individu<br>llav<br>person<br>llev<br>vehicul",
          "encontr<br>chap<br>estacion<br>medin<br>mari",
          "camion<br>empres<br>carabiner<br>denunci<br>camionet",
          "camionet<br>mari<br>encontr<br>carabiner<br>estacion",
          "chap<br>carabiner<br>encontr<br>inform<br>vehicul",
          "lleg<br>llav<br>person<br>llev<br>vehicul",
          "call<br>encontr<br>percat<br>estacion<br>vehicul",
          "neveri<br>arriet<br>rosal<br>vicent<br>perez",
          "asalt<br>agred<br>sergi<br>principi<br>davanz",
          "taxibus<br>enta<br>ocho<br>erasm<br>seguimient",
          "sustrayd<br>falde<br>negr<br>dijer<br>gimnasi",
          "period<br>vent<br>hech<br>certific<br>confirm",
          "circunst<br>pist<br>senalizacion<br>call<br>total",
          "individu<br>llav<br>person<br>llev<br>vehicul",
          "vehicul<br>puert<br>delanter<br>traser<br>inform",
          "alcoholemi<br>region<br>pati<br>clinic<br>caden",
          "inform<br>carabiner<br>empres<br>camionet<br>camion",
          "call<br>encontr<br>percat<br>estacion<br>vehicul",
          "onda<br>hoggins<br>beck<br>facilit<br>nacion",
          "estav<br>detencion<br>propietari<br>mantien<br>coorden",
          "figuero<br>pacis<br>regin<br>brem<br>boliv",
          "ilumin<br>enjoy<br>chil<br>modul<br>casin",
          "alons<br>cordov<br>macguir<br>nichol<br>spikin",
          "call<br>percat<br>encontr<br>estacion<br>vehicul",
          "realiz<br>empres<br>patent<br>camion<br>camionet",
          "delanterootr<br>delanterosparachoqu<br>aseguradoparachoqu<br>delanteraspuert<br>delanteroparachoqu",
          "lleg<br>llav<br>person<br>llev<br>vehicul",
          "senalizacion<br>presenci<br>circunst<br>call<br>total",
          "patrici<br>reiter<br>llag<br>difor<br>enlug",
          "person<br>llav<br>total<br>llev<br>vehicul",
          "daos<br>vehicul<br>traser<br>delanter<br>inform",
          "call<br>percat<br>encontr<br>vehicul<br>estacion",
          "empres<br>denunci<br>carabiner<br>camionet<br>camion",
          "campus<br>rampl<br>medi<br>centraliz<br>barr",
          "gimnaci<br>dellort<br>arquitect<br>ictin<br>esteb",
          "desped<br>fontecill<br>brazil<br>franci<br>hostel",
          "corrient<br>direccin<br>dndos<br>dirigindom<br>corpbanc",
          "camionet<br>ingres<br>encontr<br>domicili<br>camion",
          "percat<br>call<br>encontr<br>vehicul<br>estacion",
          "llav<br>cuent<br>algun<br>estacion<br>vehicul",
          "llav<br>lleg<br>person<br>llev<br>vehicul",
          "vidri<br>chap<br>traser<br>puert<br>delanter",
          "entreg<br>realiz<br>indeb<br>client<br>denunci",
          "decidi<br>atend<br>medic<br>avil<br>hospital",
          "mochil<br>criminal<br>brig<br>labor<br>conmig",
          "farmaceut<br>farmaci<br>oper<br>suparader<br>cruz"
         ],
         "type": "scatter",
         "x": [
          1,
          1,
          1,
          1,
          1,
          2,
          2,
          2,
          2,
          2,
          2,
          2,
          2,
          2,
          3,
          3,
          3,
          3,
          3,
          3,
          3,
          3,
          3,
          3,
          3,
          4,
          4,
          4,
          4,
          4,
          4,
          5,
          5,
          5,
          5,
          5,
          5,
          5,
          5,
          6,
          6,
          6,
          6,
          6,
          6,
          6,
          6,
          6
         ],
         "y": [
          0,
          1,
          2,
          3,
          4,
          0,
          1,
          2,
          3,
          4,
          5,
          6,
          7,
          8,
          0,
          1,
          2,
          3,
          4,
          5,
          6,
          7,
          8,
          9,
          10,
          0,
          1,
          2,
          3,
          4,
          5,
          0,
          1,
          2,
          3,
          4,
          5,
          6,
          7,
          0,
          1,
          2,
          3,
          4,
          5,
          6,
          7,
          8
         ]
        }
       ],
       "layout": {
        "paper_bgcolor": "rgba(0,0,0,0)",
        "plot_bgcolor": "rgba(0,0,0,0)",
        "showlegend": false,
        "template": {
         "data": {
          "bar": [
           {
            "error_x": {
             "color": "#2a3f5f"
            },
            "error_y": {
             "color": "#2a3f5f"
            },
            "marker": {
             "line": {
              "color": "#E5ECF6",
              "width": 0.5
             }
            },
            "type": "bar"
           }
          ],
          "barpolar": [
           {
            "marker": {
             "line": {
              "color": "#E5ECF6",
              "width": 0.5
             }
            },
            "type": "barpolar"
           }
          ],
          "carpet": [
           {
            "aaxis": {
             "endlinecolor": "#2a3f5f",
             "gridcolor": "white",
             "linecolor": "white",
             "minorgridcolor": "white",
             "startlinecolor": "#2a3f5f"
            },
            "baxis": {
             "endlinecolor": "#2a3f5f",
             "gridcolor": "white",
             "linecolor": "white",
             "minorgridcolor": "white",
             "startlinecolor": "#2a3f5f"
            },
            "type": "carpet"
           }
          ],
          "choropleth": [
           {
            "colorbar": {
             "outlinewidth": 0,
             "ticks": ""
            },
            "type": "choropleth"
           }
          ],
          "contour": [
           {
            "colorbar": {
             "outlinewidth": 0,
             "ticks": ""
            },
            "colorscale": [
             [
              0,
              "#0d0887"
             ],
             [
              0.1111111111111111,
              "#46039f"
             ],
             [
              0.2222222222222222,
              "#7201a8"
             ],
             [
              0.3333333333333333,
              "#9c179e"
             ],
             [
              0.4444444444444444,
              "#bd3786"
             ],
             [
              0.5555555555555556,
              "#d8576b"
             ],
             [
              0.6666666666666666,
              "#ed7953"
             ],
             [
              0.7777777777777778,
              "#fb9f3a"
             ],
             [
              0.8888888888888888,
              "#fdca26"
             ],
             [
              1,
              "#f0f921"
             ]
            ],
            "type": "contour"
           }
          ],
          "contourcarpet": [
           {
            "colorbar": {
             "outlinewidth": 0,
             "ticks": ""
            },
            "type": "contourcarpet"
           }
          ],
          "heatmap": [
           {
            "colorbar": {
             "outlinewidth": 0,
             "ticks": ""
            },
            "colorscale": [
             [
              0,
              "#0d0887"
             ],
             [
              0.1111111111111111,
              "#46039f"
             ],
             [
              0.2222222222222222,
              "#7201a8"
             ],
             [
              0.3333333333333333,
              "#9c179e"
             ],
             [
              0.4444444444444444,
              "#bd3786"
             ],
             [
              0.5555555555555556,
              "#d8576b"
             ],
             [
              0.6666666666666666,
              "#ed7953"
             ],
             [
              0.7777777777777778,
              "#fb9f3a"
             ],
             [
              0.8888888888888888,
              "#fdca26"
             ],
             [
              1,
              "#f0f921"
             ]
            ],
            "type": "heatmap"
           }
          ],
          "heatmapgl": [
           {
            "colorbar": {
             "outlinewidth": 0,
             "ticks": ""
            },
            "colorscale": [
             [
              0,
              "#0d0887"
             ],
             [
              0.1111111111111111,
              "#46039f"
             ],
             [
              0.2222222222222222,
              "#7201a8"
             ],
             [
              0.3333333333333333,
              "#9c179e"
             ],
             [
              0.4444444444444444,
              "#bd3786"
             ],
             [
              0.5555555555555556,
              "#d8576b"
             ],
             [
              0.6666666666666666,
              "#ed7953"
             ],
             [
              0.7777777777777778,
              "#fb9f3a"
             ],
             [
              0.8888888888888888,
              "#fdca26"
             ],
             [
              1,
              "#f0f921"
             ]
            ],
            "type": "heatmapgl"
           }
          ],
          "histogram": [
           {
            "marker": {
             "colorbar": {
              "outlinewidth": 0,
              "ticks": ""
             }
            },
            "type": "histogram"
           }
          ],
          "histogram2d": [
           {
            "colorbar": {
             "outlinewidth": 0,
             "ticks": ""
            },
            "colorscale": [
             [
              0,
              "#0d0887"
             ],
             [
              0.1111111111111111,
              "#46039f"
             ],
             [
              0.2222222222222222,
              "#7201a8"
             ],
             [
              0.3333333333333333,
              "#9c179e"
             ],
             [
              0.4444444444444444,
              "#bd3786"
             ],
             [
              0.5555555555555556,
              "#d8576b"
             ],
             [
              0.6666666666666666,
              "#ed7953"
             ],
             [
              0.7777777777777778,
              "#fb9f3a"
             ],
             [
              0.8888888888888888,
              "#fdca26"
             ],
             [
              1,
              "#f0f921"
             ]
            ],
            "type": "histogram2d"
           }
          ],
          "histogram2dcontour": [
           {
            "colorbar": {
             "outlinewidth": 0,
             "ticks": ""
            },
            "colorscale": [
             [
              0,
              "#0d0887"
             ],
             [
              0.1111111111111111,
              "#46039f"
             ],
             [
              0.2222222222222222,
              "#7201a8"
             ],
             [
              0.3333333333333333,
              "#9c179e"
             ],
             [
              0.4444444444444444,
              "#bd3786"
             ],
             [
              0.5555555555555556,
              "#d8576b"
             ],
             [
              0.6666666666666666,
              "#ed7953"
             ],
             [
              0.7777777777777778,
              "#fb9f3a"
             ],
             [
              0.8888888888888888,
              "#fdca26"
             ],
             [
              1,
              "#f0f921"
             ]
            ],
            "type": "histogram2dcontour"
           }
          ],
          "mesh3d": [
           {
            "colorbar": {
             "outlinewidth": 0,
             "ticks": ""
            },
            "type": "mesh3d"
           }
          ],
          "parcoords": [
           {
            "line": {
             "colorbar": {
              "outlinewidth": 0,
              "ticks": ""
             }
            },
            "type": "parcoords"
           }
          ],
          "scatter": [
           {
            "marker": {
             "colorbar": {
              "outlinewidth": 0,
              "ticks": ""
             }
            },
            "type": "scatter"
           }
          ],
          "scatter3d": [
           {
            "line": {
             "colorbar": {
              "outlinewidth": 0,
              "ticks": ""
             }
            },
            "marker": {
             "colorbar": {
              "outlinewidth": 0,
              "ticks": ""
             }
            },
            "type": "scatter3d"
           }
          ],
          "scattercarpet": [
           {
            "marker": {
             "colorbar": {
              "outlinewidth": 0,
              "ticks": ""
             }
            },
            "type": "scattercarpet"
           }
          ],
          "scattergeo": [
           {
            "marker": {
             "colorbar": {
              "outlinewidth": 0,
              "ticks": ""
             }
            },
            "type": "scattergeo"
           }
          ],
          "scattergl": [
           {
            "marker": {
             "colorbar": {
              "outlinewidth": 0,
              "ticks": ""
             }
            },
            "type": "scattergl"
           }
          ],
          "scattermapbox": [
           {
            "marker": {
             "colorbar": {
              "outlinewidth": 0,
              "ticks": ""
             }
            },
            "type": "scattermapbox"
           }
          ],
          "scatterpolar": [
           {
            "marker": {
             "colorbar": {
              "outlinewidth": 0,
              "ticks": ""
             }
            },
            "type": "scatterpolar"
           }
          ],
          "scatterpolargl": [
           {
            "marker": {
             "colorbar": {
              "outlinewidth": 0,
              "ticks": ""
             }
            },
            "type": "scatterpolargl"
           }
          ],
          "scatterternary": [
           {
            "marker": {
             "colorbar": {
              "outlinewidth": 0,
              "ticks": ""
             }
            },
            "type": "scatterternary"
           }
          ],
          "surface": [
           {
            "colorbar": {
             "outlinewidth": 0,
             "ticks": ""
            },
            "colorscale": [
             [
              0,
              "#0d0887"
             ],
             [
              0.1111111111111111,
              "#46039f"
             ],
             [
              0.2222222222222222,
              "#7201a8"
             ],
             [
              0.3333333333333333,
              "#9c179e"
             ],
             [
              0.4444444444444444,
              "#bd3786"
             ],
             [
              0.5555555555555556,
              "#d8576b"
             ],
             [
              0.6666666666666666,
              "#ed7953"
             ],
             [
              0.7777777777777778,
              "#fb9f3a"
             ],
             [
              0.8888888888888888,
              "#fdca26"
             ],
             [
              1,
              "#f0f921"
             ]
            ],
            "type": "surface"
           }
          ],
          "table": [
           {
            "cells": {
             "fill": {
              "color": "#EBF0F8"
             },
             "line": {
              "color": "white"
             }
            },
            "header": {
             "fill": {
              "color": "#C8D4E3"
             },
             "line": {
              "color": "white"
             }
            },
            "type": "table"
           }
          ]
         },
         "layout": {
          "annotationdefaults": {
           "arrowcolor": "#2a3f5f",
           "arrowhead": 0,
           "arrowwidth": 1
          },
          "colorscale": {
           "diverging": [
            [
             0,
             "#8e0152"
            ],
            [
             0.1,
             "#c51b7d"
            ],
            [
             0.2,
             "#de77ae"
            ],
            [
             0.3,
             "#f1b6da"
            ],
            [
             0.4,
             "#fde0ef"
            ],
            [
             0.5,
             "#f7f7f7"
            ],
            [
             0.6,
             "#e6f5d0"
            ],
            [
             0.7,
             "#b8e186"
            ],
            [
             0.8,
             "#7fbc41"
            ],
            [
             0.9,
             "#4d9221"
            ],
            [
             1,
             "#276419"
            ]
           ],
           "sequential": [
            [
             0,
             "#0d0887"
            ],
            [
             0.1111111111111111,
             "#46039f"
            ],
            [
             0.2222222222222222,
             "#7201a8"
            ],
            [
             0.3333333333333333,
             "#9c179e"
            ],
            [
             0.4444444444444444,
             "#bd3786"
            ],
            [
             0.5555555555555556,
             "#d8576b"
            ],
            [
             0.6666666666666666,
             "#ed7953"
            ],
            [
             0.7777777777777778,
             "#fb9f3a"
            ],
            [
             0.8888888888888888,
             "#fdca26"
            ],
            [
             1,
             "#f0f921"
            ]
           ],
           "sequentialminus": [
            [
             0,
             "#0d0887"
            ],
            [
             0.1111111111111111,
             "#46039f"
            ],
            [
             0.2222222222222222,
             "#7201a8"
            ],
            [
             0.3333333333333333,
             "#9c179e"
            ],
            [
             0.4444444444444444,
             "#bd3786"
            ],
            [
             0.5555555555555556,
             "#d8576b"
            ],
            [
             0.6666666666666666,
             "#ed7953"
            ],
            [
             0.7777777777777778,
             "#fb9f3a"
            ],
            [
             0.8888888888888888,
             "#fdca26"
            ],
            [
             1,
             "#f0f921"
            ]
           ]
          },
          "colorway": [
           "#636efa",
           "#EF553B",
           "#00cc96",
           "#ab63fa",
           "#FFA15A",
           "#19d3f3",
           "#FF6692",
           "#B6E880",
           "#FF97FF",
           "#FECB52"
          ],
          "font": {
           "color": "#2a3f5f"
          },
          "geo": {
           "bgcolor": "white",
           "lakecolor": "white",
           "landcolor": "#E5ECF6",
           "showlakes": true,
           "showland": true,
           "subunitcolor": "white"
          },
          "hoverlabel": {
           "align": "left"
          },
          "hovermode": "closest",
          "mapbox": {
           "style": "light"
          },
          "paper_bgcolor": "white",
          "plot_bgcolor": "#E5ECF6",
          "polar": {
           "angularaxis": {
            "gridcolor": "white",
            "linecolor": "white",
            "ticks": ""
           },
           "bgcolor": "#E5ECF6",
           "radialaxis": {
            "gridcolor": "white",
            "linecolor": "white",
            "ticks": ""
           }
          },
          "scene": {
           "xaxis": {
            "backgroundcolor": "#E5ECF6",
            "gridcolor": "white",
            "gridwidth": 2,
            "linecolor": "white",
            "showbackground": true,
            "ticks": "",
            "zerolinecolor": "white"
           },
           "yaxis": {
            "backgroundcolor": "#E5ECF6",
            "gridcolor": "white",
            "gridwidth": 2,
            "linecolor": "white",
            "showbackground": true,
            "ticks": "",
            "zerolinecolor": "white"
           },
           "zaxis": {
            "backgroundcolor": "#E5ECF6",
            "gridcolor": "white",
            "gridwidth": 2,
            "linecolor": "white",
            "showbackground": true,
            "ticks": "",
            "zerolinecolor": "white"
           }
          },
          "shapedefaults": {
           "line": {
            "color": "#2a3f5f"
           }
          },
          "ternary": {
           "aaxis": {
            "gridcolor": "white",
            "linecolor": "white",
            "ticks": ""
           },
           "baxis": {
            "gridcolor": "white",
            "linecolor": "white",
            "ticks": ""
           },
           "bgcolor": "#E5ECF6",
           "caxis": {
            "gridcolor": "white",
            "linecolor": "white",
            "ticks": ""
           }
          },
          "title": {
           "x": 0.05
          },
          "xaxis": {
           "automargin": true,
           "gridcolor": "white",
           "linecolor": "white",
           "ticks": "",
           "zerolinecolor": "white",
           "zerolinewidth": 2
          },
          "yaxis": {
           "automargin": true,
           "gridcolor": "white",
           "linecolor": "white",
           "ticks": "",
           "zerolinecolor": "white",
           "zerolinewidth": 2
          }
         }
        },
        "xaxis": {
         "showgrid": false,
         "showticklabels": true,
         "tickvals": [
          1,
          2,
          3,
          4,
          5,
          6,
          7,
          8,
          9,
          10
         ],
         "zeroline": false
        },
        "yaxis": {
         "showgrid": false,
         "showticklabels": false,
         "zeroline": false
        }
       }
      },
      "text/html": [
       "<div>\n",
       "        \n",
       "        \n",
       "            <div id=\"6e5bd325-6be2-4a35-8c1f-e31c7a612e28\" class=\"plotly-graph-div\" style=\"height:525px; width:100%;\"></div>\n",
       "            <script type=\"text/javascript\">\n",
       "                require([\"plotly\"], function(Plotly) {\n",
       "                    window.PLOTLYENV=window.PLOTLYENV || {};\n",
       "                    \n",
       "                if (document.getElementById(\"6e5bd325-6be2-4a35-8c1f-e31c7a612e28\")) {\n",
       "                    Plotly.newPlot(\n",
       "                        '6e5bd325-6be2-4a35-8c1f-e31c7a612e28',\n",
       "                        [{\"hoverinfo\": \"text\", \"line\": {\"color\": \"cornflowerblue\", \"width\": 0.5733919146262428}, \"mode\": \"lines\", \"text\": \"0.287\", \"type\": \"scatter\", \"x\": [1, 2, null], \"y\": [0, 0, null]}, {\"hoverinfo\": \"text\", \"line\": {\"color\": \"cornflowerblue\", \"width\": 0.5169599563520331}, \"mode\": \"lines\", \"text\": \"0.258\", \"type\": \"scatter\", \"x\": [1, 2, null], \"y\": [0, 1, null]}, {\"hoverinfo\": \"text\", \"line\": {\"color\": \"cornflowerblue\", \"width\": 0.46782429795918457}, \"mode\": \"lines\", \"text\": \"0.234\", \"type\": \"scatter\", \"x\": [1, 2, null], \"y\": [0, 2, null]}, {\"hoverinfo\": \"text\", \"line\": {\"color\": \"cornflowerblue\", \"width\": 1.1191801247704594}, \"mode\": \"lines\", \"text\": \"0.56\", \"type\": \"scatter\", \"x\": [1, 2, null], \"y\": [0, 3, null]}, {\"hoverinfo\": \"text\", \"line\": {\"color\": \"cornflowerblue\", \"width\": 0.3747489151409913}, \"mode\": \"lines\", \"text\": \"0.187\", \"type\": \"scatter\", \"x\": [1, 2, null], \"y\": [0, 4, null]}, {\"hoverinfo\": \"text\", \"line\": {\"color\": \"cornflowerblue\", \"width\": 0.36381255531507484}, \"mode\": \"lines\", \"text\": \"0.182\", \"type\": \"scatter\", \"x\": [1, 2, null], \"y\": [0, 5, null]}, {\"hoverinfo\": \"text\", \"line\": {\"color\": \"cornflowerblue\", \"width\": 0.4119385852266793}, \"mode\": \"lines\", \"text\": \"0.206\", \"type\": \"scatter\", \"x\": [1, 2, null], \"y\": [1, 0, null]}, {\"hoverinfo\": \"text\", \"line\": {\"color\": \"cornflowerblue\", \"width\": 0.40881236828576295}, \"mode\": \"lines\", \"text\": \"0.204\", \"type\": \"scatter\", \"x\": [1, 2, null], \"y\": [1, 1, null]}, {\"hoverinfo\": \"text\", \"line\": {\"color\": \"cornflowerblue\", \"width\": 0.43160919307462503}, \"mode\": \"lines\", \"text\": \"0.216\", \"type\": \"scatter\", \"x\": [1, 2, null], \"y\": [1, 2, null]}, {\"hoverinfo\": \"text\", \"line\": {\"color\": \"cornflowerblue\", \"width\": 0.3950574637279658}, \"mode\": \"lines\", \"text\": \"0.198\", \"type\": \"scatter\", \"x\": [1, 2, null], \"y\": [1, 3, null]}, {\"hoverinfo\": \"text\", \"line\": {\"color\": \"cornflowerblue\", \"width\": 0.3769620524679899}, \"mode\": \"lines\", \"text\": \"0.188\", \"type\": \"scatter\", \"x\": [1, 2, null], \"y\": [1, 4, null]}, {\"hoverinfo\": \"text\", \"line\": {\"color\": \"cornflowerblue\", \"width\": 0.3648966595503844}, \"mode\": \"lines\", \"text\": \"0.182\", \"type\": \"scatter\", \"x\": [1, 2, null], \"y\": [1, 5, null]}, {\"hoverinfo\": \"text\", \"line\": {\"color\": \"cornflowerblue\", \"width\": 0.3510406656503743}, \"mode\": \"lines\", \"text\": \"0.176\", \"type\": \"scatter\", \"x\": [1, 2, null], \"y\": [1, 6, null]}, {\"hoverinfo\": \"text\", \"line\": {\"color\": \"cornflowerblue\", \"width\": 0.3531934605772166}, \"mode\": \"lines\", \"text\": \"0.177\", \"type\": \"scatter\", \"x\": [1, 2, null], \"y\": [1, 8, null]}, {\"hoverinfo\": \"text\", \"line\": {\"color\": \"cornflowerblue\", \"width\": 0.4520885622421356}, \"mode\": \"lines\", \"text\": \"0.226\", \"type\": \"scatter\", \"x\": [1, 2, null], \"y\": [2, 0, null]}, {\"hoverinfo\": \"text\", \"line\": {\"color\": \"cornflowerblue\", \"width\": 0.45015597090274817}, \"mode\": \"lines\", \"text\": \"0.225\", \"type\": \"scatter\", \"x\": [1, 2, null], \"y\": [2, 1, null]}, {\"hoverinfo\": \"text\", \"line\": {\"color\": \"cornflowerblue\", \"width\": 1.0495427486041846}, \"mode\": \"lines\", \"text\": \"0.525\", \"type\": \"scatter\", \"x\": [1, 2, null], \"y\": [2, 2, null]}, {\"hoverinfo\": \"text\", \"line\": {\"color\": \"cornflowerblue\", \"width\": 0.4455560026021779}, \"mode\": \"lines\", \"text\": \"0.223\", \"type\": \"scatter\", \"x\": [1, 2, null], \"y\": [2, 3, null]}, {\"hoverinfo\": \"text\", \"line\": {\"color\": \"cornflowerblue\", \"width\": 0.3813891189356275}, \"mode\": \"lines\", \"text\": \"0.191\", \"type\": \"scatter\", \"x\": [1, 2, null], \"y\": [2, 4, null]}, {\"hoverinfo\": \"text\", \"line\": {\"color\": \"cornflowerblue\", \"width\": 0.36692433718863826}, \"mode\": \"lines\", \"text\": \"0.183\", \"type\": \"scatter\", \"x\": [1, 2, null], \"y\": [2, 5, null]}, {\"hoverinfo\": \"text\", \"line\": {\"color\": \"cornflowerblue\", \"width\": 0.351476858580617}, \"mode\": \"lines\", \"text\": \"0.176\", \"type\": \"scatter\", \"x\": [1, 2, null], \"y\": [2, 6, null]}, {\"hoverinfo\": \"text\", \"line\": {\"color\": \"cornflowerblue\", \"width\": 0.5769801881648802}, \"mode\": \"lines\", \"text\": \"0.288\", \"type\": \"scatter\", \"x\": [1, 2, null], \"y\": [3, 0, null]}, {\"hoverinfo\": \"text\", \"line\": {\"color\": \"cornflowerblue\", \"width\": 0.7796647075013284}, \"mode\": \"lines\", \"text\": \"0.39\", \"type\": \"scatter\", \"x\": [1, 2, null], \"y\": [3, 1, null]}, {\"hoverinfo\": \"text\", \"line\": {\"color\": \"cornflowerblue\", \"width\": 0.4301616090995806}, \"mode\": \"lines\", \"text\": \"0.215\", \"type\": \"scatter\", \"x\": [1, 2, null], \"y\": [3, 2, null]}, {\"hoverinfo\": \"text\", \"line\": {\"color\": \"cornflowerblue\", \"width\": 0.45269742574996613}, \"mode\": \"lines\", \"text\": \"0.226\", \"type\": \"scatter\", \"x\": [1, 2, null], \"y\": [3, 3, null]}, {\"hoverinfo\": \"text\", \"line\": {\"color\": \"cornflowerblue\", \"width\": 0.37840114528118657}, \"mode\": \"lines\", \"text\": \"0.189\", \"type\": \"scatter\", \"x\": [1, 2, null], \"y\": [3, 4, null]}, {\"hoverinfo\": \"text\", \"line\": {\"color\": \"cornflowerblue\", \"width\": 0.36412670033947836}, \"mode\": \"lines\", \"text\": \"0.182\", \"type\": \"scatter\", \"x\": [1, 2, null], \"y\": [3, 5, null]}, {\"hoverinfo\": \"text\", \"line\": {\"color\": \"cornflowerblue\", \"width\": 0.354801879139801}, \"mode\": \"lines\", \"text\": \"0.177\", \"type\": \"scatter\", \"x\": [1, 2, null], \"y\": [3, 6, null]}, {\"hoverinfo\": \"text\", \"line\": {\"color\": \"cornflowerblue\", \"width\": 0.6255858158103706}, \"mode\": \"lines\", \"text\": \"0.313\", \"type\": \"scatter\", \"x\": [1, 2, null], \"y\": [4, 0, null]}, {\"hoverinfo\": \"text\", \"line\": {\"color\": \"cornflowerblue\", \"width\": 0.4519194811519737}, \"mode\": \"lines\", \"text\": \"0.226\", \"type\": \"scatter\", \"x\": [1, 2, null], \"y\": [4, 1, null]}, {\"hoverinfo\": \"text\", \"line\": {\"color\": \"cornflowerblue\", \"width\": 0.48919630710954254}, \"mode\": \"lines\", \"text\": \"0.245\", \"type\": \"scatter\", \"x\": [1, 2, null], \"y\": [4, 2, null]}, {\"hoverinfo\": \"text\", \"line\": {\"color\": \"cornflowerblue\", \"width\": 0.42740641330178075}, \"mode\": \"lines\", \"text\": \"0.214\", \"type\": \"scatter\", \"x\": [1, 2, null], \"y\": [4, 3, null]}, {\"hoverinfo\": \"text\", \"line\": {\"color\": \"cornflowerblue\", \"width\": 0.39177684477819824}, \"mode\": \"lines\", \"text\": \"0.196\", \"type\": \"scatter\", \"x\": [1, 2, null], \"y\": [4, 4, null]}, {\"hoverinfo\": \"text\", \"line\": {\"color\": \"cornflowerblue\", \"width\": 0.36979916500188703}, \"mode\": \"lines\", \"text\": \"0.185\", \"type\": \"scatter\", \"x\": [1, 2, null], \"y\": [4, 5, null]}, {\"hoverinfo\": \"text\", \"line\": {\"color\": \"cornflowerblue\", \"width\": 0.3552502938104886}, \"mode\": \"lines\", \"text\": \"0.178\", \"type\": \"scatter\", \"x\": [1, 2, null], \"y\": [4, 6, null]}, {\"hoverinfo\": \"text\", \"line\": {\"color\": \"cornflowerblue\", \"width\": 0.35444094951726424}, \"mode\": \"lines\", \"text\": \"0.177\", \"type\": \"scatter\", \"x\": [1, 2, null], \"y\": [4, 8, null]}, {\"hoverinfo\": \"text\", \"line\": {\"color\": \"cornflowerblue\", \"width\": 0.4162522587421549}, \"mode\": \"lines\", \"text\": \"0.208\", \"type\": \"scatter\", \"x\": [2, 3, null], \"y\": [0, 0, null]}, {\"hoverinfo\": \"text\", \"line\": {\"color\": \"cornflowerblue\", \"width\": 0.44729024330447287}, \"mode\": \"lines\", \"text\": \"0.224\", \"type\": \"scatter\", \"x\": [2, 3, null], \"y\": [0, 1, null]}, {\"hoverinfo\": \"text\", \"line\": {\"color\": \"cornflowerblue\", \"width\": 0.5009553063818792}, \"mode\": \"lines\", \"text\": \"0.25\", \"type\": \"scatter\", \"x\": [2, 3, null], \"y\": [0, 2, null]}, {\"hoverinfo\": \"text\", \"line\": {\"color\": \"cornflowerblue\", \"width\": 0.3894607776314768}, \"mode\": \"lines\", \"text\": \"0.195\", \"type\": \"scatter\", \"x\": [2, 3, null], \"y\": [0, 3, null]}, {\"hoverinfo\": \"text\", \"line\": {\"color\": \"cornflowerblue\", \"width\": 0.6347455741622741}, \"mode\": \"lines\", \"text\": \"0.317\", \"type\": \"scatter\", \"x\": [2, 3, null], \"y\": [0, 4, null]}, {\"hoverinfo\": \"text\", \"line\": {\"color\": \"cornflowerblue\", \"width\": 0.5733920888953752}, \"mode\": \"lines\", \"text\": \"0.287\", \"type\": \"scatter\", \"x\": [2, 3, null], \"y\": [0, 5, null]}, {\"hoverinfo\": \"text\", \"line\": {\"color\": \"cornflowerblue\", \"width\": 0.3708212485819765}, \"mode\": \"lines\", \"text\": \"0.185\", \"type\": \"scatter\", \"x\": [2, 3, null], \"y\": [0, 6, null]}, {\"hoverinfo\": \"text\", \"line\": {\"color\": \"cornflowerblue\", \"width\": 0.3743628794526751}, \"mode\": \"lines\", \"text\": \"0.187\", \"type\": \"scatter\", \"x\": [2, 3, null], \"y\": [0, 7, null]}, {\"hoverinfo\": \"text\", \"line\": {\"color\": \"cornflowerblue\", \"width\": 0.3715252799195986}, \"mode\": \"lines\", \"text\": \"0.186\", \"type\": \"scatter\", \"x\": [2, 3, null], \"y\": [0, 8, null]}, {\"hoverinfo\": \"text\", \"line\": {\"color\": \"cornflowerblue\", \"width\": 0.3612063485857257}, \"mode\": \"lines\", \"text\": \"0.181\", \"type\": \"scatter\", \"x\": [2, 3, null], \"y\": [0, 9, null]}, {\"hoverinfo\": \"text\", \"line\": {\"color\": \"cornflowerblue\", \"width\": 0.35084699166033534}, \"mode\": \"lines\", \"text\": \"0.175\", \"type\": \"scatter\", \"x\": [2, 3, null], \"y\": [0, 10, null]}, {\"hoverinfo\": \"text\", \"line\": {\"color\": \"cornflowerblue\", \"width\": 0.39878346559879674}, \"mode\": \"lines\", \"text\": \"0.199\", \"type\": \"scatter\", \"x\": [2, 3, null], \"y\": [1, 0, null]}, {\"hoverinfo\": \"text\", \"line\": {\"color\": \"cornflowerblue\", \"width\": 0.447139720636329}, \"mode\": \"lines\", \"text\": \"0.224\", \"type\": \"scatter\", \"x\": [2, 3, null], \"y\": [1, 1, null]}, {\"hoverinfo\": \"text\", \"line\": {\"color\": \"cornflowerblue\", \"width\": 0.9688172935696178}, \"mode\": \"lines\", \"text\": \"0.484\", \"type\": \"scatter\", \"x\": [2, 3, null], \"y\": [1, 2, null]}, {\"hoverinfo\": \"text\", \"line\": {\"color\": \"cornflowerblue\", \"width\": 0.38102255841098304}, \"mode\": \"lines\", \"text\": \"0.191\", \"type\": \"scatter\", \"x\": [2, 3, null], \"y\": [1, 3, null]}, {\"hoverinfo\": \"text\", \"line\": {\"color\": \"cornflowerblue\", \"width\": 0.45488581617128765}, \"mode\": \"lines\", \"text\": \"0.227\", \"type\": \"scatter\", \"x\": [2, 3, null], \"y\": [1, 4, null]}, {\"hoverinfo\": \"text\", \"line\": {\"color\": \"cornflowerblue\", \"width\": 0.5024323079646634}, \"mode\": \"lines\", \"text\": \"0.251\", \"type\": \"scatter\", \"x\": [2, 3, null], \"y\": [1, 5, null]}, {\"hoverinfo\": \"text\", \"line\": {\"color\": \"cornflowerblue\", \"width\": 0.36502873318743473}, \"mode\": \"lines\", \"text\": \"0.183\", \"type\": \"scatter\", \"x\": [2, 3, null], \"y\": [1, 6, null]}, {\"hoverinfo\": \"text\", \"line\": {\"color\": \"cornflowerblue\", \"width\": 0.36670468313401217}, \"mode\": \"lines\", \"text\": \"0.183\", \"type\": \"scatter\", \"x\": [2, 3, null], \"y\": [1, 7, null]}, {\"hoverinfo\": \"text\", \"line\": {\"color\": \"cornflowerblue\", \"width\": 0.36618690178722796}, \"mode\": \"lines\", \"text\": \"0.183\", \"type\": \"scatter\", \"x\": [2, 3, null], \"y\": [1, 8, null]}, {\"hoverinfo\": \"text\", \"line\": {\"color\": \"cornflowerblue\", \"width\": 0.35702332745866205}, \"mode\": \"lines\", \"text\": \"0.179\", \"type\": \"scatter\", \"x\": [2, 3, null], \"y\": [1, 9, null]}, {\"hoverinfo\": \"text\", \"line\": {\"color\": \"cornflowerblue\", \"width\": 0.3861233863152955}, \"mode\": \"lines\", \"text\": \"0.193\", \"type\": \"scatter\", \"x\": [2, 3, null], \"y\": [2, 0, null]}, {\"hoverinfo\": \"text\", \"line\": {\"color\": \"cornflowerblue\", \"width\": 1.0685328893456811}, \"mode\": \"lines\", \"text\": \"0.534\", \"type\": \"scatter\", \"x\": [2, 3, null], \"y\": [2, 1, null]}, {\"hoverinfo\": \"text\", \"line\": {\"color\": \"cornflowerblue\", \"width\": 0.4508725530205218}, \"mode\": \"lines\", \"text\": \"0.225\", \"type\": \"scatter\", \"x\": [2, 3, null], \"y\": [2, 2, null]}, {\"hoverinfo\": \"text\", \"line\": {\"color\": \"cornflowerblue\", \"width\": 0.3852179094943438}, \"mode\": \"lines\", \"text\": \"0.193\", \"type\": \"scatter\", \"x\": [2, 3, null], \"y\": [2, 3, null]}, {\"hoverinfo\": \"text\", \"line\": {\"color\": \"cornflowerblue\", \"width\": 0.4902753237879534}, \"mode\": \"lines\", \"text\": \"0.245\", \"type\": \"scatter\", \"x\": [2, 3, null], \"y\": [2, 4, null]}, {\"hoverinfo\": \"text\", \"line\": {\"color\": \"cornflowerblue\", \"width\": 0.4694210743374649}, \"mode\": \"lines\", \"text\": \"0.235\", \"type\": \"scatter\", \"x\": [2, 3, null], \"y\": [2, 5, null]}, {\"hoverinfo\": \"text\", \"line\": {\"color\": \"cornflowerblue\", \"width\": 0.3660646675027781}, \"mode\": \"lines\", \"text\": \"0.183\", \"type\": \"scatter\", \"x\": [2, 3, null], \"y\": [2, 6, null]}, {\"hoverinfo\": \"text\", \"line\": {\"color\": \"cornflowerblue\", \"width\": 0.36334546064624457}, \"mode\": \"lines\", \"text\": \"0.182\", \"type\": \"scatter\", \"x\": [2, 3, null], \"y\": [2, 7, null]}, {\"hoverinfo\": \"text\", \"line\": {\"color\": \"cornflowerblue\", \"width\": 0.3626997307228311}, \"mode\": \"lines\", \"text\": \"0.181\", \"type\": \"scatter\", \"x\": [2, 3, null], \"y\": [2, 8, null]}, {\"hoverinfo\": \"text\", \"line\": {\"color\": \"cornflowerblue\", \"width\": 0.3534193910275006}, \"mode\": \"lines\", \"text\": \"0.177\", \"type\": \"scatter\", \"x\": [2, 3, null], \"y\": [2, 9, null]}, {\"hoverinfo\": \"text\", \"line\": {\"color\": \"cornflowerblue\", \"width\": 0.4169441954944802}, \"mode\": \"lines\", \"text\": \"0.208\", \"type\": \"scatter\", \"x\": [2, 3, null], \"y\": [3, 0, null]}, {\"hoverinfo\": \"text\", \"line\": {\"color\": \"cornflowerblue\", \"width\": 0.45295358320565654}, \"mode\": \"lines\", \"text\": \"0.226\", \"type\": \"scatter\", \"x\": [2, 3, null], \"y\": [3, 1, null]}, {\"hoverinfo\": \"text\", \"line\": {\"color\": \"cornflowerblue\", \"width\": 0.4452630946345144}, \"mode\": \"lines\", \"text\": \"0.223\", \"type\": \"scatter\", \"x\": [2, 3, null], \"y\": [3, 2, null]}, {\"hoverinfo\": \"text\", \"line\": {\"color\": \"cornflowerblue\", \"width\": 0.36984071283438064}, \"mode\": \"lines\", \"text\": \"0.185\", \"type\": \"scatter\", \"x\": [2, 3, null], \"y\": [3, 3, null]}, {\"hoverinfo\": \"text\", \"line\": {\"color\": \"cornflowerblue\", \"width\": 0.43100413129914805}, \"mode\": \"lines\", \"text\": \"0.216\", \"type\": \"scatter\", \"x\": [2, 3, null], \"y\": [3, 4, null]}, {\"hoverinfo\": \"text\", \"line\": {\"color\": \"cornflowerblue\", \"width\": 1.1976295554246088}, \"mode\": \"lines\", \"text\": \"0.599\", \"type\": \"scatter\", \"x\": [2, 3, null], \"y\": [3, 5, null]}, {\"hoverinfo\": \"text\", \"line\": {\"color\": \"cornflowerblue\", \"width\": 0.3669359182771875}, \"mode\": \"lines\", \"text\": \"0.183\", \"type\": \"scatter\", \"x\": [2, 3, null], \"y\": [3, 6, null]}, {\"hoverinfo\": \"text\", \"line\": {\"color\": \"cornflowerblue\", \"width\": 0.35605882777548126}, \"mode\": \"lines\", \"text\": \"0.178\", \"type\": \"scatter\", \"x\": [2, 3, null], \"y\": [3, 7, null]}, {\"hoverinfo\": \"text\", \"line\": {\"color\": \"cornflowerblue\", \"width\": 0.3576889702354148}, \"mode\": \"lines\", \"text\": \"0.179\", \"type\": \"scatter\", \"x\": [2, 3, null], \"y\": [3, 8, null]}, {\"hoverinfo\": \"text\", \"line\": {\"color\": \"cornflowerblue\", \"width\": 0.35243268734844174}, \"mode\": \"lines\", \"text\": \"0.176\", \"type\": \"scatter\", \"x\": [2, 3, null], \"y\": [3, 9, null]}, {\"hoverinfo\": \"text\", \"line\": {\"color\": \"cornflowerblue\", \"width\": 0.4102256487274976}, \"mode\": \"lines\", \"text\": \"0.205\", \"type\": \"scatter\", \"x\": [2, 3, null], \"y\": [4, 0, null]}, {\"hoverinfo\": \"text\", \"line\": {\"color\": \"cornflowerblue\", \"width\": 0.37775283333737125}, \"mode\": \"lines\", \"text\": \"0.189\", \"type\": \"scatter\", \"x\": [2, 3, null], \"y\": [4, 1, null]}, {\"hoverinfo\": \"text\", \"line\": {\"color\": \"cornflowerblue\", \"width\": 0.37429040045718154}, \"mode\": \"lines\", \"text\": \"0.187\", \"type\": \"scatter\", \"x\": [2, 3, null], \"y\": [4, 2, null]}, {\"hoverinfo\": \"text\", \"line\": {\"color\": \"cornflowerblue\", \"width\": 0.38433762198518906}, \"mode\": \"lines\", \"text\": \"0.192\", \"type\": \"scatter\", \"x\": [2, 3, null], \"y\": [4, 3, null]}, {\"hoverinfo\": \"text\", \"line\": {\"color\": \"cornflowerblue\", \"width\": 0.39006423764315684}, \"mode\": \"lines\", \"text\": \"0.195\", \"type\": \"scatter\", \"x\": [2, 3, null], \"y\": [4, 4, null]}, {\"hoverinfo\": \"text\", \"line\": {\"color\": \"cornflowerblue\", \"width\": 0.37882670734884555}, \"mode\": \"lines\", \"text\": \"0.189\", \"type\": \"scatter\", \"x\": [2, 3, null], \"y\": [4, 5, null]}, {\"hoverinfo\": \"text\", \"line\": {\"color\": \"cornflowerblue\", \"width\": 0.379525405323246}, \"mode\": \"lines\", \"text\": \"0.19\", \"type\": \"scatter\", \"x\": [2, 3, null], \"y\": [4, 6, null]}, {\"hoverinfo\": \"text\", \"line\": {\"color\": \"cornflowerblue\", \"width\": 0.36281820754595634}, \"mode\": \"lines\", \"text\": \"0.181\", \"type\": \"scatter\", \"x\": [2, 3, null], \"y\": [4, 7, null]}, {\"hoverinfo\": \"text\", \"line\": {\"color\": \"cornflowerblue\", \"width\": 0.37557656707048404}, \"mode\": \"lines\", \"text\": \"0.188\", \"type\": \"scatter\", \"x\": [2, 3, null], \"y\": [4, 8, null]}, {\"hoverinfo\": \"text\", \"line\": {\"color\": \"cornflowerblue\", \"width\": 0.3614384306598034}, \"mode\": \"lines\", \"text\": \"0.181\", \"type\": \"scatter\", \"x\": [2, 3, null], \"y\": [4, 9, null]}, {\"hoverinfo\": \"text\", \"line\": {\"color\": \"cornflowerblue\", \"width\": 0.35310665220975973}, \"mode\": \"lines\", \"text\": \"0.177\", \"type\": \"scatter\", \"x\": [2, 3, null], \"y\": [4, 10, null]}, {\"hoverinfo\": \"text\", \"line\": {\"color\": \"cornflowerblue\", \"width\": 0.3732195296705892}, \"mode\": \"lines\", \"text\": \"0.187\", \"type\": \"scatter\", \"x\": [2, 3, null], \"y\": [5, 0, null]}, {\"hoverinfo\": \"text\", \"line\": {\"color\": \"cornflowerblue\", \"width\": 0.3668485639964647}, \"mode\": \"lines\", \"text\": \"0.183\", \"type\": \"scatter\", \"x\": [2, 3, null], \"y\": [5, 1, null]}, {\"hoverinfo\": \"text\", \"line\": {\"color\": \"cornflowerblue\", \"width\": 0.3635264774007676}, \"mode\": \"lines\", \"text\": \"0.182\", \"type\": \"scatter\", \"x\": [2, 3, null], \"y\": [5, 2, null]}, {\"hoverinfo\": \"text\", \"line\": {\"color\": \"cornflowerblue\", \"width\": 0.3684334622542988}, \"mode\": \"lines\", \"text\": \"0.184\", \"type\": \"scatter\", \"x\": [2, 3, null], \"y\": [5, 3, null]}, {\"hoverinfo\": \"text\", \"line\": {\"color\": \"cornflowerblue\", \"width\": 0.36505749809553073}, \"mode\": \"lines\", \"text\": \"0.183\", \"type\": \"scatter\", \"x\": [2, 3, null], \"y\": [5, 4, null]}, {\"hoverinfo\": \"text\", \"line\": {\"color\": \"cornflowerblue\", \"width\": 0.36671277866911695}, \"mode\": \"lines\", \"text\": \"0.183\", \"type\": \"scatter\", \"x\": [2, 3, null], \"y\": [5, 5, null]}, {\"hoverinfo\": \"text\", \"line\": {\"color\": \"cornflowerblue\", \"width\": 0.3692214327102871}, \"mode\": \"lines\", \"text\": \"0.185\", \"type\": \"scatter\", \"x\": [2, 3, null], \"y\": [5, 6, null]}, {\"hoverinfo\": \"text\", \"line\": {\"color\": \"cornflowerblue\", \"width\": 0.36526962930789925}, \"mode\": \"lines\", \"text\": \"0.183\", \"type\": \"scatter\", \"x\": [2, 3, null], \"y\": [5, 7, null]}, {\"hoverinfo\": \"text\", \"line\": {\"color\": \"cornflowerblue\", \"width\": 0.36603183799182204}, \"mode\": \"lines\", \"text\": \"0.183\", \"type\": \"scatter\", \"x\": [2, 3, null], \"y\": [5, 8, null]}, {\"hoverinfo\": \"text\", \"line\": {\"color\": \"cornflowerblue\", \"width\": 0.3614645138651371}, \"mode\": \"lines\", \"text\": \"0.181\", \"type\": \"scatter\", \"x\": [2, 3, null], \"y\": [5, 9, null]}, {\"hoverinfo\": \"text\", \"line\": {\"color\": \"cornflowerblue\", \"width\": 0.34939049159346414}, \"mode\": \"lines\", \"text\": \"0.175\", \"type\": \"scatter\", \"x\": [2, 3, null], \"y\": [5, 10, null]}, {\"hoverinfo\": \"text\", \"line\": {\"color\": \"cornflowerblue\", \"width\": 0.3689886047248747}, \"mode\": \"lines\", \"text\": \"0.184\", \"type\": \"scatter\", \"x\": [2, 3, null], \"y\": [6, 0, null]}, {\"hoverinfo\": \"text\", \"line\": {\"color\": \"cornflowerblue\", \"width\": 0.35068613399007725}, \"mode\": \"lines\", \"text\": \"0.175\", \"type\": \"scatter\", \"x\": [2, 3, null], \"y\": [6, 1, null]}, {\"hoverinfo\": \"text\", \"line\": {\"color\": \"cornflowerblue\", \"width\": 0.3561558355275894}, \"mode\": \"lines\", \"text\": \"0.178\", \"type\": \"scatter\", \"x\": [2, 3, null], \"y\": [6, 2, null]}, {\"hoverinfo\": \"text\", \"line\": {\"color\": \"cornflowerblue\", \"width\": 0.3539612571318669}, \"mode\": \"lines\", \"text\": \"0.177\", \"type\": \"scatter\", \"x\": [2, 3, null], \"y\": [6, 3, null]}, {\"hoverinfo\": \"text\", \"line\": {\"color\": \"cornflowerblue\", \"width\": 0.3511601083654157}, \"mode\": \"lines\", \"text\": \"0.176\", \"type\": \"scatter\", \"x\": [2, 3, null], \"y\": [6, 4, null]}, {\"hoverinfo\": \"text\", \"line\": {\"color\": \"cornflowerblue\", \"width\": 0.35392191099157055}, \"mode\": \"lines\", \"text\": \"0.177\", \"type\": \"scatter\", \"x\": [2, 3, null], \"y\": [6, 6, null]}, {\"hoverinfo\": \"text\", \"line\": {\"color\": \"cornflowerblue\", \"width\": 0.3520966707841401}, \"mode\": \"lines\", \"text\": \"0.176\", \"type\": \"scatter\", \"x\": [2, 3, null], \"y\": [6, 7, null]}, {\"hoverinfo\": \"text\", \"line\": {\"color\": \"cornflowerblue\", \"width\": 0.356397085262016}, \"mode\": \"lines\", \"text\": \"0.178\", \"type\": \"scatter\", \"x\": [2, 3, null], \"y\": [6, 8, null]}, {\"hoverinfo\": \"text\", \"line\": {\"color\": \"cornflowerblue\", \"width\": 0.35359300087544226}, \"mode\": \"lines\", \"text\": \"0.177\", \"type\": \"scatter\", \"x\": [2, 3, null], \"y\": [6, 9, null]}, {\"hoverinfo\": \"text\", \"line\": {\"color\": \"cornflowerblue\", \"width\": 0.349168644765311}, \"mode\": \"lines\", \"text\": \"0.175\", \"type\": \"scatter\", \"x\": [2, 3, null], \"y\": [6, 10, null]}, {\"hoverinfo\": \"text\", \"line\": {\"color\": \"cornflowerblue\", \"width\": 0.35298251917238926}, \"mode\": \"lines\", \"text\": \"0.176\", \"type\": \"scatter\", \"x\": [2, 3, null], \"y\": [8, 0, null]}, {\"hoverinfo\": \"text\", \"line\": {\"color\": \"cornflowerblue\", \"width\": 0.3504971343297881}, \"mode\": \"lines\", \"text\": \"0.175\", \"type\": \"scatter\", \"x\": [2, 3, null], \"y\": [8, 2, null]}, {\"hoverinfo\": \"text\", \"line\": {\"color\": \"cornflowerblue\", \"width\": 0.35003979171216454}, \"mode\": \"lines\", \"text\": \"0.175\", \"type\": \"scatter\", \"x\": [2, 3, null], \"y\": [8, 4, null]}, {\"hoverinfo\": \"text\", \"line\": {\"color\": \"cornflowerblue\", \"width\": 0.351800271367574}, \"mode\": \"lines\", \"text\": \"0.176\", \"type\": \"scatter\", \"x\": [2, 3, null], \"y\": [8, 5, null]}, {\"hoverinfo\": \"text\", \"line\": {\"color\": \"cornflowerblue\", \"width\": 0.3542177239962122}, \"mode\": \"lines\", \"text\": \"0.177\", \"type\": \"scatter\", \"x\": [2, 3, null], \"y\": [8, 6, null]}, {\"hoverinfo\": \"text\", \"line\": {\"color\": \"cornflowerblue\", \"width\": 0.36053418040749385}, \"mode\": \"lines\", \"text\": \"0.18\", \"type\": \"scatter\", \"x\": [2, 3, null], \"y\": [8, 7, null]}, {\"hoverinfo\": \"text\", \"line\": {\"color\": \"cornflowerblue\", \"width\": 0.42200745395195605}, \"mode\": \"lines\", \"text\": \"0.211\", \"type\": \"scatter\", \"x\": [3, 4, null], \"y\": [0, 0, null]}, {\"hoverinfo\": \"text\", \"line\": {\"color\": \"cornflowerblue\", \"width\": 0.39446924899134583}, \"mode\": \"lines\", \"text\": \"0.197\", \"type\": \"scatter\", \"x\": [3, 4, null], \"y\": [0, 1, null]}, {\"hoverinfo\": \"text\", \"line\": {\"color\": \"cornflowerblue\", \"width\": 0.3862161852806035}, \"mode\": \"lines\", \"text\": \"0.193\", \"type\": \"scatter\", \"x\": [3, 4, null], \"y\": [0, 2, null]}, {\"hoverinfo\": \"text\", \"line\": {\"color\": \"cornflowerblue\", \"width\": 0.386108237737777}, \"mode\": \"lines\", \"text\": \"0.193\", \"type\": \"scatter\", \"x\": [3, 4, null], \"y\": [0, 3, null]}, {\"hoverinfo\": \"text\", \"line\": {\"color\": \"cornflowerblue\", \"width\": 0.8746862937322628}, \"mode\": \"lines\", \"text\": \"0.437\", \"type\": \"scatter\", \"x\": [3, 4, null], \"y\": [0, 4, null]}, {\"hoverinfo\": \"text\", \"line\": {\"color\": \"cornflowerblue\", \"width\": 0.4892540528417724}, \"mode\": \"lines\", \"text\": \"0.245\", \"type\": \"scatter\", \"x\": [3, 4, null], \"y\": [1, 0, null]}, {\"hoverinfo\": \"text\", \"line\": {\"color\": \"cornflowerblue\", \"width\": 0.45605671389152624}, \"mode\": \"lines\", \"text\": \"0.228\", \"type\": \"scatter\", \"x\": [3, 4, null], \"y\": [1, 1, null]}, {\"hoverinfo\": \"text\", \"line\": {\"color\": \"cornflowerblue\", \"width\": 0.3968129484961281}, \"mode\": \"lines\", \"text\": \"0.198\", \"type\": \"scatter\", \"x\": [3, 4, null], \"y\": [1, 2, null]}, {\"hoverinfo\": \"text\", \"line\": {\"color\": \"cornflowerblue\", \"width\": 1.2374508032139768}, \"mode\": \"lines\", \"text\": \"0.619\", \"type\": \"scatter\", \"x\": [3, 4, null], \"y\": [1, 3, null]}, {\"hoverinfo\": \"text\", \"line\": {\"color\": \"cornflowerblue\", \"width\": 0.40012123998854926}, \"mode\": \"lines\", \"text\": \"0.2\", \"type\": \"scatter\", \"x\": [3, 4, null], \"y\": [1, 4, null]}, {\"hoverinfo\": \"text\", \"line\": {\"color\": \"cornflowerblue\", \"width\": 0.5240121219016017}, \"mode\": \"lines\", \"text\": \"0.262\", \"type\": \"scatter\", \"x\": [3, 4, null], \"y\": [2, 0, null]}, {\"hoverinfo\": \"text\", \"line\": {\"color\": \"cornflowerblue\", \"width\": 0.4600699474566564}, \"mode\": \"lines\", \"text\": \"0.23\", \"type\": \"scatter\", \"x\": [3, 4, null], \"y\": [2, 1, null]}, {\"hoverinfo\": \"text\", \"line\": {\"color\": \"cornflowerblue\", \"width\": 0.4197763215965633}, \"mode\": \"lines\", \"text\": \"0.21\", \"type\": \"scatter\", \"x\": [3, 4, null], \"y\": [2, 2, null]}, {\"hoverinfo\": \"text\", \"line\": {\"color\": \"cornflowerblue\", \"width\": 0.43976994013427273}, \"mode\": \"lines\", \"text\": \"0.22\", \"type\": \"scatter\", \"x\": [3, 4, null], \"y\": [2, 3, null]}, {\"hoverinfo\": \"text\", \"line\": {\"color\": \"cornflowerblue\", \"width\": 0.4097879708877945}, \"mode\": \"lines\", \"text\": \"0.205\", \"type\": \"scatter\", \"x\": [3, 4, null], \"y\": [2, 4, null]}, {\"hoverinfo\": \"text\", \"line\": {\"color\": \"cornflowerblue\", \"width\": 0.37779436659596843}, \"mode\": \"lines\", \"text\": \"0.189\", \"type\": \"scatter\", \"x\": [3, 4, null], \"y\": [3, 0, null]}, {\"hoverinfo\": \"text\", \"line\": {\"color\": \"cornflowerblue\", \"width\": 0.39529859920971594}, \"mode\": \"lines\", \"text\": \"0.198\", \"type\": \"scatter\", \"x\": [3, 4, null], \"y\": [3, 1, null]}, {\"hoverinfo\": \"text\", \"line\": {\"color\": \"cornflowerblue\", \"width\": 0.39018694409239546}, \"mode\": \"lines\", \"text\": \"0.195\", \"type\": \"scatter\", \"x\": [3, 4, null], \"y\": [3, 2, null]}, {\"hoverinfo\": \"text\", \"line\": {\"color\": \"cornflowerblue\", \"width\": 0.38378600522766604}, \"mode\": \"lines\", \"text\": \"0.192\", \"type\": \"scatter\", \"x\": [3, 4, null], \"y\": [3, 3, null]}, {\"hoverinfo\": \"text\", \"line\": {\"color\": \"cornflowerblue\", \"width\": 0.3831279929828855}, \"mode\": \"lines\", \"text\": \"0.192\", \"type\": \"scatter\", \"x\": [3, 4, null], \"y\": [3, 4, null]}, {\"hoverinfo\": \"text\", \"line\": {\"color\": \"cornflowerblue\", \"width\": 0.47954016519206866}, \"mode\": \"lines\", \"text\": \"0.24\", \"type\": \"scatter\", \"x\": [3, 4, null], \"y\": [4, 0, null]}, {\"hoverinfo\": \"text\", \"line\": {\"color\": \"cornflowerblue\", \"width\": 0.8288470983472588}, \"mode\": \"lines\", \"text\": \"0.414\", \"type\": \"scatter\", \"x\": [3, 4, null], \"y\": [4, 1, null]}, {\"hoverinfo\": \"text\", \"line\": {\"color\": \"cornflowerblue\", \"width\": 0.40622608255578996}, \"mode\": \"lines\", \"text\": \"0.203\", \"type\": \"scatter\", \"x\": [3, 4, null], \"y\": [4, 2, null]}, {\"hoverinfo\": \"text\", \"line\": {\"color\": \"cornflowerblue\", \"width\": 0.473817006075918}, \"mode\": \"lines\", \"text\": \"0.237\", \"type\": \"scatter\", \"x\": [3, 4, null], \"y\": [4, 3, null]}, {\"hoverinfo\": \"text\", \"line\": {\"color\": \"cornflowerblue\", \"width\": 0.4086858361159596}, \"mode\": \"lines\", \"text\": \"0.204\", \"type\": \"scatter\", \"x\": [3, 4, null], \"y\": [4, 4, null]}, {\"hoverinfo\": \"text\", \"line\": {\"color\": \"cornflowerblue\", \"width\": 1.1594794073699086}, \"mode\": \"lines\", \"text\": \"0.58\", \"type\": \"scatter\", \"x\": [3, 4, null], \"y\": [5, 0, null]}, {\"hoverinfo\": \"text\", \"line\": {\"color\": \"cornflowerblue\", \"width\": 0.47108141043257085}, \"mode\": \"lines\", \"text\": \"0.236\", \"type\": \"scatter\", \"x\": [3, 4, null], \"y\": [5, 1, null]}, {\"hoverinfo\": \"text\", \"line\": {\"color\": \"cornflowerblue\", \"width\": 0.38724130032148923}, \"mode\": \"lines\", \"text\": \"0.194\", \"type\": \"scatter\", \"x\": [3, 4, null], \"y\": [5, 2, null]}, {\"hoverinfo\": \"text\", \"line\": {\"color\": \"cornflowerblue\", \"width\": 0.4729064739388982}, \"mode\": \"lines\", \"text\": \"0.236\", \"type\": \"scatter\", \"x\": [3, 4, null], \"y\": [5, 3, null]}, {\"hoverinfo\": \"text\", \"line\": {\"color\": \"cornflowerblue\", \"width\": 0.4483429730581106}, \"mode\": \"lines\", \"text\": \"0.224\", \"type\": \"scatter\", \"x\": [3, 4, null], \"y\": [5, 4, null]}, {\"hoverinfo\": \"text\", \"line\": {\"color\": \"cornflowerblue\", \"width\": 0.3719585637840445}, \"mode\": \"lines\", \"text\": \"0.186\", \"type\": \"scatter\", \"x\": [3, 4, null], \"y\": [6, 0, null]}, {\"hoverinfo\": \"text\", \"line\": {\"color\": \"cornflowerblue\", \"width\": 0.36920775045034093}, \"mode\": \"lines\", \"text\": \"0.185\", \"type\": \"scatter\", \"x\": [3, 4, null], \"y\": [6, 1, null]}, {\"hoverinfo\": \"text\", \"line\": {\"color\": \"cornflowerblue\", \"width\": 0.37868849962302403}, \"mode\": \"lines\", \"text\": \"0.189\", \"type\": \"scatter\", \"x\": [3, 4, null], \"y\": [6, 2, null]}, {\"hoverinfo\": \"text\", \"line\": {\"color\": \"cornflowerblue\", \"width\": 0.3644949348633326}, \"mode\": \"lines\", \"text\": \"0.182\", \"type\": \"scatter\", \"x\": [3, 4, null], \"y\": [6, 3, null]}, {\"hoverinfo\": \"text\", \"line\": {\"color\": \"cornflowerblue\", \"width\": 0.3736096844533489}, \"mode\": \"lines\", \"text\": \"0.187\", \"type\": \"scatter\", \"x\": [3, 4, null], \"y\": [6, 4, null]}, {\"hoverinfo\": \"text\", \"line\": {\"color\": \"cornflowerblue\", \"width\": 0.3634606982521899}, \"mode\": \"lines\", \"text\": \"0.182\", \"type\": \"scatter\", \"x\": [3, 4, null], \"y\": [7, 0, null]}, {\"hoverinfo\": \"text\", \"line\": {\"color\": \"cornflowerblue\", \"width\": 0.3684346530267032}, \"mode\": \"lines\", \"text\": \"0.184\", \"type\": \"scatter\", \"x\": [3, 4, null], \"y\": [7, 1, null]}, {\"hoverinfo\": \"text\", \"line\": {\"color\": \"cornflowerblue\", \"width\": 0.3640096281288373}, \"mode\": \"lines\", \"text\": \"0.182\", \"type\": \"scatter\", \"x\": [3, 4, null], \"y\": [7, 2, null]}, {\"hoverinfo\": \"text\", \"line\": {\"color\": \"cornflowerblue\", \"width\": 0.35915482819324945}, \"mode\": \"lines\", \"text\": \"0.18\", \"type\": \"scatter\", \"x\": [3, 4, null], \"y\": [7, 3, null]}, {\"hoverinfo\": \"text\", \"line\": {\"color\": \"cornflowerblue\", \"width\": 0.37215354811926155}, \"mode\": \"lines\", \"text\": \"0.186\", \"type\": \"scatter\", \"x\": [3, 4, null], \"y\": [7, 4, null]}, {\"hoverinfo\": \"text\", \"line\": {\"color\": \"cornflowerblue\", \"width\": 0.3634460437503335}, \"mode\": \"lines\", \"text\": \"0.182\", \"type\": \"scatter\", \"x\": [3, 4, null], \"y\": [8, 0, null]}, {\"hoverinfo\": \"text\", \"line\": {\"color\": \"cornflowerblue\", \"width\": 0.37050411475377243}, \"mode\": \"lines\", \"text\": \"0.185\", \"type\": \"scatter\", \"x\": [3, 4, null], \"y\": [8, 1, null]}, {\"hoverinfo\": \"text\", \"line\": {\"color\": \"cornflowerblue\", \"width\": 0.37778477331836224}, \"mode\": \"lines\", \"text\": \"0.189\", \"type\": \"scatter\", \"x\": [3, 4, null], \"y\": [8, 2, null]}, {\"hoverinfo\": \"text\", \"line\": {\"color\": \"cornflowerblue\", \"width\": 0.3616675807460352}, \"mode\": \"lines\", \"text\": \"0.181\", \"type\": \"scatter\", \"x\": [3, 4, null], \"y\": [8, 3, null]}, {\"hoverinfo\": \"text\", \"line\": {\"color\": \"cornflowerblue\", \"width\": 0.37178563648260754}, \"mode\": \"lines\", \"text\": \"0.186\", \"type\": \"scatter\", \"x\": [3, 4, null], \"y\": [8, 4, null]}, {\"hoverinfo\": \"text\", \"line\": {\"color\": \"cornflowerblue\", \"width\": 0.3559605856100011}, \"mode\": \"lines\", \"text\": \"0.178\", \"type\": \"scatter\", \"x\": [3, 4, null], \"y\": [9, 0, null]}, {\"hoverinfo\": \"text\", \"line\": {\"color\": \"cornflowerblue\", \"width\": 0.35953212762182774}, \"mode\": \"lines\", \"text\": \"0.18\", \"type\": \"scatter\", \"x\": [3, 4, null], \"y\": [9, 1, null]}, {\"hoverinfo\": \"text\", \"line\": {\"color\": \"cornflowerblue\", \"width\": 0.3629613080226931}, \"mode\": \"lines\", \"text\": \"0.181\", \"type\": \"scatter\", \"x\": [3, 4, null], \"y\": [9, 2, null]}, {\"hoverinfo\": \"text\", \"line\": {\"color\": \"cornflowerblue\", \"width\": 0.3526549291699612}, \"mode\": \"lines\", \"text\": \"0.176\", \"type\": \"scatter\", \"x\": [3, 4, null], \"y\": [9, 3, null]}, {\"hoverinfo\": \"text\", \"line\": {\"color\": \"cornflowerblue\", \"width\": 0.3662141983265876}, \"mode\": \"lines\", \"text\": \"0.183\", \"type\": \"scatter\", \"x\": [3, 4, null], \"y\": [9, 4, null]}, {\"hoverinfo\": \"text\", \"line\": {\"color\": \"cornflowerblue\", \"width\": 0.3496711159341208}, \"mode\": \"lines\", \"text\": \"0.175\", \"type\": \"scatter\", \"x\": [3, 4, null], \"y\": [10, 1, null]}, {\"hoverinfo\": \"text\", \"line\": {\"color\": \"cornflowerblue\", \"width\": 0.3560831898506534}, \"mode\": \"lines\", \"text\": \"0.178\", \"type\": \"scatter\", \"x\": [3, 4, null], \"y\": [10, 2, null]}, {\"hoverinfo\": \"text\", \"line\": {\"color\": \"cornflowerblue\", \"width\": 0.35248039399164266}, \"mode\": \"lines\", \"text\": \"0.176\", \"type\": \"scatter\", \"x\": [3, 4, null], \"y\": [10, 4, null]}, {\"hoverinfo\": \"text\", \"line\": {\"color\": \"cornflowerblue\", \"width\": 0.5069370333031159}, \"mode\": \"lines\", \"text\": \"0.253\", \"type\": \"scatter\", \"x\": [4, 5, null], \"y\": [0, 0, null]}, {\"hoverinfo\": \"text\", \"line\": {\"color\": \"cornflowerblue\", \"width\": 0.5094782402991929}, \"mode\": \"lines\", \"text\": \"0.255\", \"type\": \"scatter\", \"x\": [4, 5, null], \"y\": [0, 1, null]}, {\"hoverinfo\": \"text\", \"line\": {\"color\": \"cornflowerblue\", \"width\": 1.245346523733065}, \"mode\": \"lines\", \"text\": \"0.623\", \"type\": \"scatter\", \"x\": [4, 5, null], \"y\": [0, 2, null]}, {\"hoverinfo\": \"text\", \"line\": {\"color\": \"cornflowerblue\", \"width\": 0.48744218275473783}, \"mode\": \"lines\", \"text\": \"0.244\", \"type\": \"scatter\", \"x\": [4, 5, null], \"y\": [0, 3, null]}, {\"hoverinfo\": \"text\", \"line\": {\"color\": \"cornflowerblue\", \"width\": 0.3670694847823472}, \"mode\": \"lines\", \"text\": \"0.184\", \"type\": \"scatter\", \"x\": [4, 5, null], \"y\": [0, 4, null]}, {\"hoverinfo\": \"text\", \"line\": {\"color\": \"cornflowerblue\", \"width\": 0.3658427846198636}, \"mode\": \"lines\", \"text\": \"0.183\", \"type\": \"scatter\", \"x\": [4, 5, null], \"y\": [0, 5, null]}, {\"hoverinfo\": \"text\", \"line\": {\"color\": \"cornflowerblue\", \"width\": 0.3801049873091298}, \"mode\": \"lines\", \"text\": \"0.19\", \"type\": \"scatter\", \"x\": [4, 5, null], \"y\": [0, 6, null]}, {\"hoverinfo\": \"text\", \"line\": {\"color\": \"cornflowerblue\", \"width\": 0.4524563630219765}, \"mode\": \"lines\", \"text\": \"0.226\", \"type\": \"scatter\", \"x\": [4, 5, null], \"y\": [1, 0, null]}, {\"hoverinfo\": \"text\", \"line\": {\"color\": \"cornflowerblue\", \"width\": 0.45559923018968057}, \"mode\": \"lines\", \"text\": \"0.228\", \"type\": \"scatter\", \"x\": [4, 5, null], \"y\": [1, 1, null]}, {\"hoverinfo\": \"text\", \"line\": {\"color\": \"cornflowerblue\", \"width\": 0.4746812238118367}, \"mode\": \"lines\", \"text\": \"0.237\", \"type\": \"scatter\", \"x\": [4, 5, null], \"y\": [1, 2, null]}, {\"hoverinfo\": \"text\", \"line\": {\"color\": \"cornflowerblue\", \"width\": 0.8131487894513684}, \"mode\": \"lines\", \"text\": \"0.407\", \"type\": \"scatter\", \"x\": [4, 5, null], \"y\": [1, 3, null]}, {\"hoverinfo\": \"text\", \"line\": {\"color\": \"cornflowerblue\", \"width\": 0.37401251281949655}, \"mode\": \"lines\", \"text\": \"0.187\", \"type\": \"scatter\", \"x\": [4, 5, null], \"y\": [1, 4, null]}, {\"hoverinfo\": \"text\", \"line\": {\"color\": \"cornflowerblue\", \"width\": 0.37292392327839974}, \"mode\": \"lines\", \"text\": \"0.186\", \"type\": \"scatter\", \"x\": [4, 5, null], \"y\": [1, 5, null]}, {\"hoverinfo\": \"text\", \"line\": {\"color\": \"cornflowerblue\", \"width\": 0.40030819175419496}, \"mode\": \"lines\", \"text\": \"0.2\", \"type\": \"scatter\", \"x\": [4, 5, null], \"y\": [1, 6, null]}, {\"hoverinfo\": \"text\", \"line\": {\"color\": \"cornflowerblue\", \"width\": 0.35170035289445184}, \"mode\": \"lines\", \"text\": \"0.176\", \"type\": \"scatter\", \"x\": [4, 5, null], \"y\": [1, 7, null]}, {\"hoverinfo\": \"text\", \"line\": {\"color\": \"cornflowerblue\", \"width\": 0.3950997823169885}, \"mode\": \"lines\", \"text\": \"0.198\", \"type\": \"scatter\", \"x\": [4, 5, null], \"y\": [2, 0, null]}, {\"hoverinfo\": \"text\", \"line\": {\"color\": \"cornflowerblue\", \"width\": 0.4191813592900472}, \"mode\": \"lines\", \"text\": \"0.21\", \"type\": \"scatter\", \"x\": [4, 5, null], \"y\": [2, 1, null]}, {\"hoverinfo\": \"text\", \"line\": {\"color\": \"cornflowerblue\", \"width\": 0.3896688290531252}, \"mode\": \"lines\", \"text\": \"0.195\", \"type\": \"scatter\", \"x\": [4, 5, null], \"y\": [2, 2, null]}, {\"hoverinfo\": \"text\", \"line\": {\"color\": \"cornflowerblue\", \"width\": 0.4073823172397926}, \"mode\": \"lines\", \"text\": \"0.204\", \"type\": \"scatter\", \"x\": [4, 5, null], \"y\": [2, 3, null]}, {\"hoverinfo\": \"text\", \"line\": {\"color\": \"cornflowerblue\", \"width\": 0.3812771979773428}, \"mode\": \"lines\", \"text\": \"0.191\", \"type\": \"scatter\", \"x\": [4, 5, null], \"y\": [2, 4, null]}, {\"hoverinfo\": \"text\", \"line\": {\"color\": \"cornflowerblue\", \"width\": 0.3745111476460765}, \"mode\": \"lines\", \"text\": \"0.187\", \"type\": \"scatter\", \"x\": [4, 5, null], \"y\": [2, 5, null]}, {\"hoverinfo\": \"text\", \"line\": {\"color\": \"cornflowerblue\", \"width\": 0.3932442672402782}, \"mode\": \"lines\", \"text\": \"0.197\", \"type\": \"scatter\", \"x\": [4, 5, null], \"y\": [2, 6, null]}, {\"hoverinfo\": \"text\", \"line\": {\"color\": \"cornflowerblue\", \"width\": 0.35760477346936453}, \"mode\": \"lines\", \"text\": \"0.179\", \"type\": \"scatter\", \"x\": [4, 5, null], \"y\": [2, 7, null]}, {\"hoverinfo\": \"text\", \"line\": {\"color\": \"cornflowerblue\", \"width\": 1.029848791755239}, \"mode\": \"lines\", \"text\": \"0.515\", \"type\": \"scatter\", \"x\": [4, 5, null], \"y\": [3, 0, null]}, {\"hoverinfo\": \"text\", \"line\": {\"color\": \"cornflowerblue\", \"width\": 0.43685371567136344}, \"mode\": \"lines\", \"text\": \"0.218\", \"type\": \"scatter\", \"x\": [4, 5, null], \"y\": [3, 1, null]}, {\"hoverinfo\": \"text\", \"line\": {\"color\": \"cornflowerblue\", \"width\": 0.4803880992809636}, \"mode\": \"lines\", \"text\": \"0.24\", \"type\": \"scatter\", \"x\": [4, 5, null], \"y\": [3, 2, null]}, {\"hoverinfo\": \"text\", \"line\": {\"color\": \"cornflowerblue\", \"width\": 0.5020102908980824}, \"mode\": \"lines\", \"text\": \"0.251\", \"type\": \"scatter\", \"x\": [4, 5, null], \"y\": [3, 3, null]}, {\"hoverinfo\": \"text\", \"line\": {\"color\": \"cornflowerblue\", \"width\": 0.36758098905208536}, \"mode\": \"lines\", \"text\": \"0.184\", \"type\": \"scatter\", \"x\": [4, 5, null], \"y\": [3, 4, null]}, {\"hoverinfo\": \"text\", \"line\": {\"color\": \"cornflowerblue\", \"width\": 0.36410812404907317}, \"mode\": \"lines\", \"text\": \"0.182\", \"type\": \"scatter\", \"x\": [4, 5, null], \"y\": [3, 5, null]}, {\"hoverinfo\": \"text\", \"line\": {\"color\": \"cornflowerblue\", \"width\": 0.38349826207087295}, \"mode\": \"lines\", \"text\": \"0.192\", \"type\": \"scatter\", \"x\": [4, 5, null], \"y\": [3, 6, null]}, {\"hoverinfo\": \"text\", \"line\": {\"color\": \"cornflowerblue\", \"width\": 0.44674587542480837}, \"mode\": \"lines\", \"text\": \"0.223\", \"type\": \"scatter\", \"x\": [4, 5, null], \"y\": [4, 0, null]}, {\"hoverinfo\": \"text\", \"line\": {\"color\": \"cornflowerblue\", \"width\": 0.41613466657320736}, \"mode\": \"lines\", \"text\": \"0.208\", \"type\": \"scatter\", \"x\": [4, 5, null], \"y\": [4, 1, null]}, {\"hoverinfo\": \"text\", \"line\": {\"color\": \"cornflowerblue\", \"width\": 0.45207604848728505}, \"mode\": \"lines\", \"text\": \"0.226\", \"type\": \"scatter\", \"x\": [4, 5, null], \"y\": [4, 2, null]}, {\"hoverinfo\": \"text\", \"line\": {\"color\": \"cornflowerblue\", \"width\": 0.4064023151652651}, \"mode\": \"lines\", \"text\": \"0.203\", \"type\": \"scatter\", \"x\": [4, 5, null], \"y\": [4, 3, null]}, {\"hoverinfo\": \"text\", \"line\": {\"color\": \"cornflowerblue\", \"width\": 0.37314395487207547}, \"mode\": \"lines\", \"text\": \"0.187\", \"type\": \"scatter\", \"x\": [4, 5, null], \"y\": [4, 4, null]}, {\"hoverinfo\": \"text\", \"line\": {\"color\": \"cornflowerblue\", \"width\": 0.37588403290521105}, \"mode\": \"lines\", \"text\": \"0.188\", \"type\": \"scatter\", \"x\": [4, 5, null], \"y\": [4, 5, null]}, {\"hoverinfo\": \"text\", \"line\": {\"color\": \"cornflowerblue\", \"width\": 0.383325319935988}, \"mode\": \"lines\", \"text\": \"0.192\", \"type\": \"scatter\", \"x\": [4, 5, null], \"y\": [4, 6, null]}, {\"hoverinfo\": \"text\", \"line\": {\"color\": \"cornflowerblue\", \"width\": 0.35685778373623045}, \"mode\": \"lines\", \"text\": \"0.178\", \"type\": \"scatter\", \"x\": [4, 5, null], \"y\": [4, 7, null]}, {\"hoverinfo\": \"text\", \"line\": {\"color\": \"cornflowerblue\", \"width\": 0.48949911425104126}, \"mode\": \"lines\", \"text\": \"0.245\", \"type\": \"scatter\", \"x\": [5, 6, null], \"y\": [0, 0, null]}, {\"hoverinfo\": \"text\", \"line\": {\"color\": \"cornflowerblue\", \"width\": 0.5036211561714703}, \"mode\": \"lines\", \"text\": \"0.252\", \"type\": \"scatter\", \"x\": [5, 6, null], \"y\": [0, 1, null]}, {\"hoverinfo\": \"text\", \"line\": {\"color\": \"cornflowerblue\", \"width\": 0.46884746931115506}, \"mode\": \"lines\", \"text\": \"0.234\", \"type\": \"scatter\", \"x\": [5, 6, null], \"y\": [0, 2, null]}, {\"hoverinfo\": \"text\", \"line\": {\"color\": \"cornflowerblue\", \"width\": 1.099085861530483}, \"mode\": \"lines\", \"text\": \"0.55\", \"type\": \"scatter\", \"x\": [5, 6, null], \"y\": [0, 3, null]}, {\"hoverinfo\": \"text\", \"line\": {\"color\": \"cornflowerblue\", \"width\": 0.4026640814961645}, \"mode\": \"lines\", \"text\": \"0.201\", \"type\": \"scatter\", \"x\": [5, 6, null], \"y\": [0, 4, null]}, {\"hoverinfo\": \"text\", \"line\": {\"color\": \"cornflowerblue\", \"width\": 0.40259437828497086}, \"mode\": \"lines\", \"text\": \"0.201\", \"type\": \"scatter\", \"x\": [5, 6, null], \"y\": [0, 5, null]}, {\"hoverinfo\": \"text\", \"line\": {\"color\": \"cornflowerblue\", \"width\": 0.3739599720345071}, \"mode\": \"lines\", \"text\": \"0.187\", \"type\": \"scatter\", \"x\": [5, 6, null], \"y\": [0, 6, null]}, {\"hoverinfo\": \"text\", \"line\": {\"color\": \"cornflowerblue\", \"width\": 0.36912409530359364}, \"mode\": \"lines\", \"text\": \"0.185\", \"type\": \"scatter\", \"x\": [5, 6, null], \"y\": [0, 7, null]}, {\"hoverinfo\": \"text\", \"line\": {\"color\": \"cornflowerblue\", \"width\": 0.4549949490804243}, \"mode\": \"lines\", \"text\": \"0.227\", \"type\": \"scatter\", \"x\": [5, 6, null], \"y\": [1, 0, null]}, {\"hoverinfo\": \"text\", \"line\": {\"color\": \"cornflowerblue\", \"width\": 0.4716403281537809}, \"mode\": \"lines\", \"text\": \"0.236\", \"type\": \"scatter\", \"x\": [5, 6, null], \"y\": [1, 1, null]}, {\"hoverinfo\": \"text\", \"line\": {\"color\": \"cornflowerblue\", \"width\": 0.40802478985152746}, \"mode\": \"lines\", \"text\": \"0.204\", \"type\": \"scatter\", \"x\": [5, 6, null], \"y\": [1, 2, null]}, {\"hoverinfo\": \"text\", \"line\": {\"color\": \"cornflowerblue\", \"width\": 0.43960713716981265}, \"mode\": \"lines\", \"text\": \"0.22\", \"type\": \"scatter\", \"x\": [5, 6, null], \"y\": [1, 3, null]}, {\"hoverinfo\": \"text\", \"line\": {\"color\": \"cornflowerblue\", \"width\": 0.7519803770607287}, \"mode\": \"lines\", \"text\": \"0.376\", \"type\": \"scatter\", \"x\": [5, 6, null], \"y\": [1, 4, null]}, {\"hoverinfo\": \"text\", \"line\": {\"color\": \"cornflowerblue\", \"width\": 0.40016871873785886}, \"mode\": \"lines\", \"text\": \"0.2\", \"type\": \"scatter\", \"x\": [5, 6, null], \"y\": [1, 5, null]}, {\"hoverinfo\": \"text\", \"line\": {\"color\": \"cornflowerblue\", \"width\": 0.3733074483463298}, \"mode\": \"lines\", \"text\": \"0.187\", \"type\": \"scatter\", \"x\": [5, 6, null], \"y\": [1, 6, null]}, {\"hoverinfo\": \"text\", \"line\": {\"color\": \"cornflowerblue\", \"width\": 0.36791845040790955}, \"mode\": \"lines\", \"text\": \"0.184\", \"type\": \"scatter\", \"x\": [5, 6, null], \"y\": [1, 7, null]}, {\"hoverinfo\": \"text\", \"line\": {\"color\": \"cornflowerblue\", \"width\": 0.4854926307508519}, \"mode\": \"lines\", \"text\": \"0.243\", \"type\": \"scatter\", \"x\": [5, 6, null], \"y\": [2, 0, null]}, {\"hoverinfo\": \"text\", \"line\": {\"color\": \"cornflowerblue\", \"width\": 1.2696706448195247}, \"mode\": \"lines\", \"text\": \"0.635\", \"type\": \"scatter\", \"x\": [5, 6, null], \"y\": [2, 1, null]}, {\"hoverinfo\": \"text\", \"line\": {\"color\": \"cornflowerblue\", \"width\": 0.5011264345663745}, \"mode\": \"lines\", \"text\": \"0.251\", \"type\": \"scatter\", \"x\": [5, 6, null], \"y\": [2, 2, null]}, {\"hoverinfo\": \"text\", \"line\": {\"color\": \"cornflowerblue\", \"width\": 0.48545395793228246}, \"mode\": \"lines\", \"text\": \"0.243\", \"type\": \"scatter\", \"x\": [5, 6, null], \"y\": [2, 3, null]}, {\"hoverinfo\": \"text\", \"line\": {\"color\": \"cornflowerblue\", \"width\": 0.4131873672439648}, \"mode\": \"lines\", \"text\": \"0.207\", \"type\": \"scatter\", \"x\": [5, 6, null], \"y\": [2, 4, null]}, {\"hoverinfo\": \"text\", \"line\": {\"color\": \"cornflowerblue\", \"width\": 0.402276281134006}, \"mode\": \"lines\", \"text\": \"0.201\", \"type\": \"scatter\", \"x\": [5, 6, null], \"y\": [2, 5, null]}, {\"hoverinfo\": \"text\", \"line\": {\"color\": \"cornflowerblue\", \"width\": 0.3699664172264806}, \"mode\": \"lines\", \"text\": \"0.185\", \"type\": \"scatter\", \"x\": [5, 6, null], \"y\": [2, 6, null]}, {\"hoverinfo\": \"text\", \"line\": {\"color\": \"cornflowerblue\", \"width\": 0.3687715420797759}, \"mode\": \"lines\", \"text\": \"0.184\", \"type\": \"scatter\", \"x\": [5, 6, null], \"y\": [2, 7, null]}, {\"hoverinfo\": \"text\", \"line\": {\"color\": \"cornflowerblue\", \"width\": 0.6565179834029338}, \"mode\": \"lines\", \"text\": \"0.328\", \"type\": \"scatter\", \"x\": [5, 6, null], \"y\": [3, 0, null]}, {\"hoverinfo\": \"text\", \"line\": {\"color\": \"cornflowerblue\", \"width\": 0.5034560912876775}, \"mode\": \"lines\", \"text\": \"0.252\", \"type\": \"scatter\", \"x\": [5, 6, null], \"y\": [3, 1, null]}, {\"hoverinfo\": \"text\", \"line\": {\"color\": \"cornflowerblue\", \"width\": 0.3889080132060316}, \"mode\": \"lines\", \"text\": \"0.194\", \"type\": \"scatter\", \"x\": [5, 6, null], \"y\": [3, 2, null]}, {\"hoverinfo\": \"text\", \"line\": {\"color\": \"cornflowerblue\", \"width\": 0.47322901504133846}, \"mode\": \"lines\", \"text\": \"0.237\", \"type\": \"scatter\", \"x\": [5, 6, null], \"y\": [3, 3, null]}, {\"hoverinfo\": \"text\", \"line\": {\"color\": \"cornflowerblue\", \"width\": 0.42532817138629525}, \"mode\": \"lines\", \"text\": \"0.213\", \"type\": \"scatter\", \"x\": [5, 6, null], \"y\": [3, 4, null]}, {\"hoverinfo\": \"text\", \"line\": {\"color\": \"cornflowerblue\", \"width\": 0.49257306112190224}, \"mode\": \"lines\", \"text\": \"0.246\", \"type\": \"scatter\", \"x\": [5, 6, null], \"y\": [3, 5, null]}, {\"hoverinfo\": \"text\", \"line\": {\"color\": \"cornflowerblue\", \"width\": 0.3794928327652674}, \"mode\": \"lines\", \"text\": \"0.19\", \"type\": \"scatter\", \"x\": [5, 6, null], \"y\": [3, 6, null]}, {\"hoverinfo\": \"text\", \"line\": {\"color\": \"cornflowerblue\", \"width\": 0.3691987876257755}, \"mode\": \"lines\", \"text\": \"0.185\", \"type\": \"scatter\", \"x\": [5, 6, null], \"y\": [3, 7, null]}, {\"hoverinfo\": \"text\", \"line\": {\"color\": \"cornflowerblue\", \"width\": 0.3711826797477029}, \"mode\": \"lines\", \"text\": \"0.186\", \"type\": \"scatter\", \"x\": [5, 6, null], \"y\": [4, 0, null]}, {\"hoverinfo\": \"text\", \"line\": {\"color\": \"cornflowerblue\", \"width\": 0.367216845144525}, \"mode\": \"lines\", \"text\": \"0.184\", \"type\": \"scatter\", \"x\": [5, 6, null], \"y\": [4, 1, null]}, {\"hoverinfo\": \"text\", \"line\": {\"color\": \"cornflowerblue\", \"width\": 0.36375451593672553}, \"mode\": \"lines\", \"text\": \"0.182\", \"type\": \"scatter\", \"x\": [5, 6, null], \"y\": [4, 2, null]}, {\"hoverinfo\": \"text\", \"line\": {\"color\": \"cornflowerblue\", \"width\": 0.3657818276408077}, \"mode\": \"lines\", \"text\": \"0.183\", \"type\": \"scatter\", \"x\": [5, 6, null], \"y\": [4, 3, null]}, {\"hoverinfo\": \"text\", \"line\": {\"color\": \"cornflowerblue\", \"width\": 0.36544511538770796}, \"mode\": \"lines\", \"text\": \"0.183\", \"type\": \"scatter\", \"x\": [5, 6, null], \"y\": [4, 4, null]}, {\"hoverinfo\": \"text\", \"line\": {\"color\": \"cornflowerblue\", \"width\": 0.3710159317381945}, \"mode\": \"lines\", \"text\": \"0.186\", \"type\": \"scatter\", \"x\": [5, 6, null], \"y\": [4, 5, null]}, {\"hoverinfo\": \"text\", \"line\": {\"color\": \"cornflowerblue\", \"width\": 0.3742406425286473}, \"mode\": \"lines\", \"text\": \"0.187\", \"type\": \"scatter\", \"x\": [5, 6, null], \"y\": [4, 6, null]}, {\"hoverinfo\": \"text\", \"line\": {\"color\": \"cornflowerblue\", \"width\": 0.36362267837322493}, \"mode\": \"lines\", \"text\": \"0.182\", \"type\": \"scatter\", \"x\": [5, 6, null], \"y\": [4, 7, null]}, {\"hoverinfo\": \"text\", \"line\": {\"color\": \"cornflowerblue\", \"width\": 0.3715345552238279}, \"mode\": \"lines\", \"text\": \"0.186\", \"type\": \"scatter\", \"x\": [5, 6, null], \"y\": [5, 0, null]}, {\"hoverinfo\": \"text\", \"line\": {\"color\": \"cornflowerblue\", \"width\": 0.36815337640226037}, \"mode\": \"lines\", \"text\": \"0.184\", \"type\": \"scatter\", \"x\": [5, 6, null], \"y\": [5, 1, null]}, {\"hoverinfo\": \"text\", \"line\": {\"color\": \"cornflowerblue\", \"width\": 0.3568933366567168}, \"mode\": \"lines\", \"text\": \"0.178\", \"type\": \"scatter\", \"x\": [5, 6, null], \"y\": [5, 2, null]}, {\"hoverinfo\": \"text\", \"line\": {\"color\": \"cornflowerblue\", \"width\": 0.36463052426733245}, \"mode\": \"lines\", \"text\": \"0.182\", \"type\": \"scatter\", \"x\": [5, 6, null], \"y\": [5, 3, null]}, {\"hoverinfo\": \"text\", \"line\": {\"color\": \"cornflowerblue\", \"width\": 0.3607624368814633}, \"mode\": \"lines\", \"text\": \"0.18\", \"type\": \"scatter\", \"x\": [5, 6, null], \"y\": [5, 4, null]}, {\"hoverinfo\": \"text\", \"line\": {\"color\": \"cornflowerblue\", \"width\": 0.3710257280498717}, \"mode\": \"lines\", \"text\": \"0.186\", \"type\": \"scatter\", \"x\": [5, 6, null], \"y\": [5, 5, null]}, {\"hoverinfo\": \"text\", \"line\": {\"color\": \"cornflowerblue\", \"width\": 0.3664745124671985}, \"mode\": \"lines\", \"text\": \"0.183\", \"type\": \"scatter\", \"x\": [5, 6, null], \"y\": [5, 6, null]}, {\"hoverinfo\": \"text\", \"line\": {\"color\": \"cornflowerblue\", \"width\": 0.36722125676027345}, \"mode\": \"lines\", \"text\": \"0.184\", \"type\": \"scatter\", \"x\": [5, 6, null], \"y\": [5, 7, null]}, {\"hoverinfo\": \"text\", \"line\": {\"color\": \"cornflowerblue\", \"width\": 0.38510411076162215}, \"mode\": \"lines\", \"text\": \"0.193\", \"type\": \"scatter\", \"x\": [5, 6, null], \"y\": [6, 0, null]}, {\"hoverinfo\": \"text\", \"line\": {\"color\": \"cornflowerblue\", \"width\": 0.38177178068723155}, \"mode\": \"lines\", \"text\": \"0.191\", \"type\": \"scatter\", \"x\": [5, 6, null], \"y\": [6, 1, null]}, {\"hoverinfo\": \"text\", \"line\": {\"color\": \"cornflowerblue\", \"width\": 0.37226873287588025}, \"mode\": \"lines\", \"text\": \"0.186\", \"type\": \"scatter\", \"x\": [5, 6, null], \"y\": [6, 2, null]}, {\"hoverinfo\": \"text\", \"line\": {\"color\": \"cornflowerblue\", \"width\": 0.38532525976020776}, \"mode\": \"lines\", \"text\": \"0.193\", \"type\": \"scatter\", \"x\": [5, 6, null], \"y\": [6, 3, null]}, {\"hoverinfo\": \"text\", \"line\": {\"color\": \"cornflowerblue\", \"width\": 0.375301178791162}, \"mode\": \"lines\", \"text\": \"0.188\", \"type\": \"scatter\", \"x\": [5, 6, null], \"y\": [6, 4, null]}, {\"hoverinfo\": \"text\", \"line\": {\"color\": \"cornflowerblue\", \"width\": 0.39159301602962804}, \"mode\": \"lines\", \"text\": \"0.196\", \"type\": \"scatter\", \"x\": [5, 6, null], \"y\": [6, 5, null]}, {\"hoverinfo\": \"text\", \"line\": {\"color\": \"cornflowerblue\", \"width\": 0.3789668804369221}, \"mode\": \"lines\", \"text\": \"0.189\", \"type\": \"scatter\", \"x\": [5, 6, null], \"y\": [6, 6, null]}, {\"hoverinfo\": \"text\", \"line\": {\"color\": \"cornflowerblue\", \"width\": 0.37692570175513923}, \"mode\": \"lines\", \"text\": \"0.188\", \"type\": \"scatter\", \"x\": [5, 6, null], \"y\": [6, 7, null]}, {\"hoverinfo\": \"text\", \"line\": {\"color\": \"cornflowerblue\", \"width\": 0.3489241590128423}, \"mode\": \"lines\", \"text\": \"0.174\", \"type\": \"scatter\", \"x\": [5, 6, null], \"y\": [7, 0, null]}, {\"hoverinfo\": \"text\", \"line\": {\"color\": \"cornflowerblue\", \"width\": 0.36349620313672915}, \"mode\": \"lines\", \"text\": \"0.182\", \"type\": \"scatter\", \"x\": [5, 6, null], \"y\": [7, 7, null]}, {\"hoverinfo\": \"text\", \"marker\": {\"color\": [], \"colorbar\": {\"thickness\": 15, \"title\": {\"side\": \"right\", \"text\": \"Node Connections\"}, \"xanchor\": \"left\"}, \"colorscale\": [[0.0, \"rgb(255,255,217)\"], [0.125, \"rgb(237,248,177)\"], [0.25, \"rgb(199,233,180)\"], [0.375, \"rgb(127,205,187)\"], [0.5, \"rgb(65,182,196)\"], [0.625, \"rgb(29,145,192)\"], [0.75, \"rgb(34,94,168)\"], [0.875, \"rgb(37,52,148)\"], [1.0, \"rgb(8,29,88)\"]], \"line\": {\"width\": 2}, \"reversescale\": true, \"showscale\": true, \"size\": 10}, \"mode\": \"markers\", \"text\": [\"percat<br>habi<br>encontr<br>estacion<br>vehicul\", \"copi<br>asegur<br>algun<br>recient<br>llav\", \"individu<br>llav<br>person<br>llev<br>vehicul\", \"encontr<br>chap<br>estacion<br>medin<br>mari\", \"camion<br>empres<br>carabiner<br>denunci<br>camionet\", \"camionet<br>mari<br>encontr<br>carabiner<br>estacion\", \"chap<br>carabiner<br>encontr<br>inform<br>vehicul\", \"lleg<br>llav<br>person<br>llev<br>vehicul\", \"call<br>encontr<br>percat<br>estacion<br>vehicul\", \"neveri<br>arriet<br>rosal<br>vicent<br>perez\", \"asalt<br>agred<br>sergi<br>principi<br>davanz\", \"taxibus<br>enta<br>ocho<br>erasm<br>seguimient\", \"sustrayd<br>falde<br>negr<br>dijer<br>gimnasi\", \"period<br>vent<br>hech<br>certific<br>confirm\", \"circunst<br>pist<br>senalizacion<br>call<br>total\", \"individu<br>llav<br>person<br>llev<br>vehicul\", \"vehicul<br>puert<br>delanter<br>traser<br>inform\", \"alcoholemi<br>region<br>pati<br>clinic<br>caden\", \"inform<br>carabiner<br>empres<br>camionet<br>camion\", \"call<br>encontr<br>percat<br>estacion<br>vehicul\", \"onda<br>hoggins<br>beck<br>facilit<br>nacion\", \"estav<br>detencion<br>propietari<br>mantien<br>coorden\", \"figuero<br>pacis<br>regin<br>brem<br>boliv\", \"ilumin<br>enjoy<br>chil<br>modul<br>casin\", \"alons<br>cordov<br>macguir<br>nichol<br>spikin\", \"call<br>percat<br>encontr<br>estacion<br>vehicul\", \"realiz<br>empres<br>patent<br>camion<br>camionet\", \"delanterootr<br>delanterosparachoqu<br>aseguradoparachoqu<br>delanteraspuert<br>delanteroparachoqu\", \"lleg<br>llav<br>person<br>llev<br>vehicul\", \"senalizacion<br>presenci<br>circunst<br>call<br>total\", \"patrici<br>reiter<br>llag<br>difor<br>enlug\", \"person<br>llav<br>total<br>llev<br>vehicul\", \"daos<br>vehicul<br>traser<br>delanter<br>inform\", \"call<br>percat<br>encontr<br>vehicul<br>estacion\", \"empres<br>denunci<br>carabiner<br>camionet<br>camion\", \"campus<br>rampl<br>medi<br>centraliz<br>barr\", \"gimnaci<br>dellort<br>arquitect<br>ictin<br>esteb\", \"desped<br>fontecill<br>brazil<br>franci<br>hostel\", \"corrient<br>direccin<br>dndos<br>dirigindom<br>corpbanc\", \"camionet<br>ingres<br>encontr<br>domicili<br>camion\", \"percat<br>call<br>encontr<br>vehicul<br>estacion\", \"llav<br>cuent<br>algun<br>estacion<br>vehicul\", \"llav<br>lleg<br>person<br>llev<br>vehicul\", \"vidri<br>chap<br>traser<br>puert<br>delanter\", \"entreg<br>realiz<br>indeb<br>client<br>denunci\", \"decidi<br>atend<br>medic<br>avil<br>hospital\", \"mochil<br>criminal<br>brig<br>labor<br>conmig\", \"farmaceut<br>farmaci<br>oper<br>suparader<br>cruz\"], \"type\": \"scatter\", \"x\": [1, 1, 1, 1, 1, 2, 2, 2, 2, 2, 2, 2, 2, 2, 3, 3, 3, 3, 3, 3, 3, 3, 3, 3, 3, 4, 4, 4, 4, 4, 4, 5, 5, 5, 5, 5, 5, 5, 5, 6, 6, 6, 6, 6, 6, 6, 6, 6], \"y\": [0, 1, 2, 3, 4, 0, 1, 2, 3, 4, 5, 6, 7, 8, 0, 1, 2, 3, 4, 5, 6, 7, 8, 9, 10, 0, 1, 2, 3, 4, 5, 0, 1, 2, 3, 4, 5, 6, 7, 0, 1, 2, 3, 4, 5, 6, 7, 8]}],\n",
       "                        {\"paper_bgcolor\": \"rgba(0,0,0,0)\", \"plot_bgcolor\": \"rgba(0,0,0,0)\", \"showlegend\": false, \"template\": {\"data\": {\"bar\": [{\"error_x\": {\"color\": \"#2a3f5f\"}, \"error_y\": {\"color\": \"#2a3f5f\"}, \"marker\": {\"line\": {\"color\": \"#E5ECF6\", \"width\": 0.5}}, \"type\": \"bar\"}], \"barpolar\": [{\"marker\": {\"line\": {\"color\": \"#E5ECF6\", \"width\": 0.5}}, \"type\": \"barpolar\"}], \"carpet\": [{\"aaxis\": {\"endlinecolor\": \"#2a3f5f\", \"gridcolor\": \"white\", \"linecolor\": \"white\", \"minorgridcolor\": \"white\", \"startlinecolor\": \"#2a3f5f\"}, \"baxis\": {\"endlinecolor\": \"#2a3f5f\", \"gridcolor\": \"white\", \"linecolor\": \"white\", \"minorgridcolor\": \"white\", \"startlinecolor\": \"#2a3f5f\"}, \"type\": \"carpet\"}], \"choropleth\": [{\"colorbar\": {\"outlinewidth\": 0, \"ticks\": \"\"}, \"type\": \"choropleth\"}], \"contour\": [{\"colorbar\": {\"outlinewidth\": 0, \"ticks\": \"\"}, \"colorscale\": [[0.0, \"#0d0887\"], [0.1111111111111111, \"#46039f\"], [0.2222222222222222, \"#7201a8\"], [0.3333333333333333, \"#9c179e\"], [0.4444444444444444, \"#bd3786\"], [0.5555555555555556, \"#d8576b\"], [0.6666666666666666, \"#ed7953\"], [0.7777777777777778, \"#fb9f3a\"], [0.8888888888888888, \"#fdca26\"], [1.0, \"#f0f921\"]], \"type\": \"contour\"}], \"contourcarpet\": [{\"colorbar\": {\"outlinewidth\": 0, \"ticks\": \"\"}, \"type\": \"contourcarpet\"}], \"heatmap\": [{\"colorbar\": {\"outlinewidth\": 0, \"ticks\": \"\"}, \"colorscale\": [[0.0, \"#0d0887\"], [0.1111111111111111, \"#46039f\"], [0.2222222222222222, \"#7201a8\"], [0.3333333333333333, \"#9c179e\"], [0.4444444444444444, \"#bd3786\"], [0.5555555555555556, \"#d8576b\"], [0.6666666666666666, \"#ed7953\"], [0.7777777777777778, \"#fb9f3a\"], [0.8888888888888888, \"#fdca26\"], [1.0, \"#f0f921\"]], \"type\": \"heatmap\"}], \"heatmapgl\": [{\"colorbar\": {\"outlinewidth\": 0, \"ticks\": \"\"}, \"colorscale\": [[0.0, \"#0d0887\"], [0.1111111111111111, \"#46039f\"], [0.2222222222222222, \"#7201a8\"], [0.3333333333333333, \"#9c179e\"], [0.4444444444444444, \"#bd3786\"], [0.5555555555555556, \"#d8576b\"], [0.6666666666666666, \"#ed7953\"], [0.7777777777777778, \"#fb9f3a\"], [0.8888888888888888, \"#fdca26\"], [1.0, \"#f0f921\"]], \"type\": \"heatmapgl\"}], \"histogram\": [{\"marker\": {\"colorbar\": {\"outlinewidth\": 0, \"ticks\": \"\"}}, \"type\": \"histogram\"}], \"histogram2d\": [{\"colorbar\": {\"outlinewidth\": 0, \"ticks\": \"\"}, \"colorscale\": [[0.0, \"#0d0887\"], [0.1111111111111111, \"#46039f\"], [0.2222222222222222, \"#7201a8\"], [0.3333333333333333, \"#9c179e\"], [0.4444444444444444, \"#bd3786\"], [0.5555555555555556, \"#d8576b\"], [0.6666666666666666, \"#ed7953\"], [0.7777777777777778, \"#fb9f3a\"], [0.8888888888888888, \"#fdca26\"], [1.0, \"#f0f921\"]], \"type\": \"histogram2d\"}], \"histogram2dcontour\": [{\"colorbar\": {\"outlinewidth\": 0, \"ticks\": \"\"}, \"colorscale\": [[0.0, \"#0d0887\"], [0.1111111111111111, \"#46039f\"], [0.2222222222222222, \"#7201a8\"], [0.3333333333333333, \"#9c179e\"], [0.4444444444444444, \"#bd3786\"], [0.5555555555555556, \"#d8576b\"], [0.6666666666666666, \"#ed7953\"], [0.7777777777777778, \"#fb9f3a\"], [0.8888888888888888, \"#fdca26\"], [1.0, \"#f0f921\"]], \"type\": \"histogram2dcontour\"}], \"mesh3d\": [{\"colorbar\": {\"outlinewidth\": 0, \"ticks\": \"\"}, \"type\": \"mesh3d\"}], \"parcoords\": [{\"line\": {\"colorbar\": {\"outlinewidth\": 0, \"ticks\": \"\"}}, \"type\": \"parcoords\"}], \"scatter\": [{\"marker\": {\"colorbar\": {\"outlinewidth\": 0, \"ticks\": \"\"}}, \"type\": \"scatter\"}], \"scatter3d\": [{\"line\": {\"colorbar\": {\"outlinewidth\": 0, \"ticks\": \"\"}}, \"marker\": {\"colorbar\": {\"outlinewidth\": 0, \"ticks\": \"\"}}, \"type\": \"scatter3d\"}], \"scattercarpet\": [{\"marker\": {\"colorbar\": {\"outlinewidth\": 0, \"ticks\": \"\"}}, \"type\": \"scattercarpet\"}], \"scattergeo\": [{\"marker\": {\"colorbar\": {\"outlinewidth\": 0, \"ticks\": \"\"}}, \"type\": \"scattergeo\"}], \"scattergl\": [{\"marker\": {\"colorbar\": {\"outlinewidth\": 0, \"ticks\": \"\"}}, \"type\": \"scattergl\"}], \"scattermapbox\": [{\"marker\": {\"colorbar\": {\"outlinewidth\": 0, \"ticks\": \"\"}}, \"type\": \"scattermapbox\"}], \"scatterpolar\": [{\"marker\": {\"colorbar\": {\"outlinewidth\": 0, \"ticks\": \"\"}}, \"type\": \"scatterpolar\"}], \"scatterpolargl\": [{\"marker\": {\"colorbar\": {\"outlinewidth\": 0, \"ticks\": \"\"}}, \"type\": \"scatterpolargl\"}], \"scatterternary\": [{\"marker\": {\"colorbar\": {\"outlinewidth\": 0, \"ticks\": \"\"}}, \"type\": \"scatterternary\"}], \"surface\": [{\"colorbar\": {\"outlinewidth\": 0, \"ticks\": \"\"}, \"colorscale\": [[0.0, \"#0d0887\"], [0.1111111111111111, \"#46039f\"], [0.2222222222222222, \"#7201a8\"], [0.3333333333333333, \"#9c179e\"], [0.4444444444444444, \"#bd3786\"], [0.5555555555555556, \"#d8576b\"], [0.6666666666666666, \"#ed7953\"], [0.7777777777777778, \"#fb9f3a\"], [0.8888888888888888, \"#fdca26\"], [1.0, \"#f0f921\"]], \"type\": \"surface\"}], \"table\": [{\"cells\": {\"fill\": {\"color\": \"#EBF0F8\"}, \"line\": {\"color\": \"white\"}}, \"header\": {\"fill\": {\"color\": \"#C8D4E3\"}, \"line\": {\"color\": \"white\"}}, \"type\": \"table\"}]}, \"layout\": {\"annotationdefaults\": {\"arrowcolor\": \"#2a3f5f\", \"arrowhead\": 0, \"arrowwidth\": 1}, \"colorscale\": {\"diverging\": [[0, \"#8e0152\"], [0.1, \"#c51b7d\"], [0.2, \"#de77ae\"], [0.3, \"#f1b6da\"], [0.4, \"#fde0ef\"], [0.5, \"#f7f7f7\"], [0.6, \"#e6f5d0\"], [0.7, \"#b8e186\"], [0.8, \"#7fbc41\"], [0.9, \"#4d9221\"], [1, \"#276419\"]], \"sequential\": [[0.0, \"#0d0887\"], [0.1111111111111111, \"#46039f\"], [0.2222222222222222, \"#7201a8\"], [0.3333333333333333, \"#9c179e\"], [0.4444444444444444, \"#bd3786\"], [0.5555555555555556, \"#d8576b\"], [0.6666666666666666, \"#ed7953\"], [0.7777777777777778, \"#fb9f3a\"], [0.8888888888888888, \"#fdca26\"], [1.0, \"#f0f921\"]], \"sequentialminus\": [[0.0, \"#0d0887\"], [0.1111111111111111, \"#46039f\"], [0.2222222222222222, \"#7201a8\"], [0.3333333333333333, \"#9c179e\"], [0.4444444444444444, \"#bd3786\"], [0.5555555555555556, \"#d8576b\"], [0.6666666666666666, \"#ed7953\"], [0.7777777777777778, \"#fb9f3a\"], [0.8888888888888888, \"#fdca26\"], [1.0, \"#f0f921\"]]}, \"colorway\": [\"#636efa\", \"#EF553B\", \"#00cc96\", \"#ab63fa\", \"#FFA15A\", \"#19d3f3\", \"#FF6692\", \"#B6E880\", \"#FF97FF\", \"#FECB52\"], \"font\": {\"color\": \"#2a3f5f\"}, \"geo\": {\"bgcolor\": \"white\", \"lakecolor\": \"white\", \"landcolor\": \"#E5ECF6\", \"showlakes\": true, \"showland\": true, \"subunitcolor\": \"white\"}, \"hoverlabel\": {\"align\": \"left\"}, \"hovermode\": \"closest\", \"mapbox\": {\"style\": \"light\"}, \"paper_bgcolor\": \"white\", \"plot_bgcolor\": \"#E5ECF6\", \"polar\": {\"angularaxis\": {\"gridcolor\": \"white\", \"linecolor\": \"white\", \"ticks\": \"\"}, \"bgcolor\": \"#E5ECF6\", \"radialaxis\": {\"gridcolor\": \"white\", \"linecolor\": \"white\", \"ticks\": \"\"}}, \"scene\": {\"xaxis\": {\"backgroundcolor\": \"#E5ECF6\", \"gridcolor\": \"white\", \"gridwidth\": 2, \"linecolor\": \"white\", \"showbackground\": true, \"ticks\": \"\", \"zerolinecolor\": \"white\"}, \"yaxis\": {\"backgroundcolor\": \"#E5ECF6\", \"gridcolor\": \"white\", \"gridwidth\": 2, \"linecolor\": \"white\", \"showbackground\": true, \"ticks\": \"\", \"zerolinecolor\": \"white\"}, \"zaxis\": {\"backgroundcolor\": \"#E5ECF6\", \"gridcolor\": \"white\", \"gridwidth\": 2, \"linecolor\": \"white\", \"showbackground\": true, \"ticks\": \"\", \"zerolinecolor\": \"white\"}}, \"shapedefaults\": {\"line\": {\"color\": \"#2a3f5f\"}}, \"ternary\": {\"aaxis\": {\"gridcolor\": \"white\", \"linecolor\": \"white\", \"ticks\": \"\"}, \"baxis\": {\"gridcolor\": \"white\", \"linecolor\": \"white\", \"ticks\": \"\"}, \"bgcolor\": \"#E5ECF6\", \"caxis\": {\"gridcolor\": \"white\", \"linecolor\": \"white\", \"ticks\": \"\"}}, \"title\": {\"x\": 0.05}, \"xaxis\": {\"automargin\": true, \"gridcolor\": \"white\", \"linecolor\": \"white\", \"ticks\": \"\", \"zerolinecolor\": \"white\", \"zerolinewidth\": 2}, \"yaxis\": {\"automargin\": true, \"gridcolor\": \"white\", \"linecolor\": \"white\", \"ticks\": \"\", \"zerolinecolor\": \"white\", \"zerolinewidth\": 2}}}, \"xaxis\": {\"showgrid\": false, \"showticklabels\": true, \"tickvals\": [1, 2, 3, 4, 5, 6, 7, 8, 9, 10], \"zeroline\": false}, \"yaxis\": {\"showgrid\": false, \"showticklabels\": false, \"zeroline\": false}},\n",
       "                        {\"responsive\": true}\n",
       "                    ).then(function(){\n",
       "                            \n",
       "var gd = document.getElementById('6e5bd325-6be2-4a35-8c1f-e31c7a612e28');\n",
       "var x = new MutationObserver(function (mutations, observer) {{\n",
       "        var display = window.getComputedStyle(gd).display;\n",
       "        if (!display || display === 'none') {{\n",
       "            console.log([gd, 'removed!']);\n",
       "            Plotly.purge(gd);\n",
       "            observer.disconnect();\n",
       "        }}\n",
       "}});\n",
       "\n",
       "// Listen for the removal of the full notebook cells\n",
       "var notebookContainer = gd.closest('#notebook-container');\n",
       "if (notebookContainer) {{\n",
       "    x.observe(notebookContainer, {childList: true});\n",
       "}}\n",
       "\n",
       "// Listen for the clearing of the current output cell\n",
       "var outputEl = gd.closest('.output');\n",
       "if (outputEl) {{\n",
       "    x.observe(outputEl, {childList: true});\n",
       "}}\n",
       "\n",
       "                        })\n",
       "                };\n",
       "                });\n",
       "            </script>\n",
       "        </div>"
      ]
     },
     "metadata": {},
     "output_type": "display_data"
    }
   ],
   "source": [
    "plot_network(nodes, text, edges, distances.quantile(0.2))"
   ]
  }
 ],
 "metadata": {
  "kernelspec": {
   "display_name": "Python 3",
   "language": "python",
   "name": "python3"
  },
  "language_info": {
   "codemirror_mode": {
    "name": "ipython",
    "version": 3
   },
   "file_extension": ".py",
   "mimetype": "text/x-python",
   "name": "python",
   "nbconvert_exporter": "python",
   "pygments_lexer": "ipython3",
   "version": "3.7.4"
  }
 },
 "nbformat": 4,
 "nbformat_minor": 2
}
