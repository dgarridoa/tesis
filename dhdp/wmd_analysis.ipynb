{
 "cells": [
  {
   "cell_type": "code",
   "execution_count": 8,
   "metadata": {},
   "outputs": [],
   "source": [
    "import os\n",
    "import json\n",
    "import numpy as np\n",
    "import pandas as pd\n",
    "import matplotlib.pyplot as plt\n",
    "import logging\n",
    "from time import time\n",
    "from sklearn.metrics import pairwise_distances\n",
    "from pyemd import emd\n",
    "from gensim.corpora import Dictionary\n",
    "from gensim.corpora.bleicorpus import BleiCorpus\n",
    "from gensim.models.fasttext import load_facebook_vectors"
   ]
  },
  {
   "cell_type": "code",
   "execution_count": 2,
   "metadata": {},
   "outputs": [],
   "source": [
    "# get logger\n",
    "logging.basicConfig(level = os.environ.get(\"LOGLEVEL\", \"INFO\"))\n",
    "logger = logging.getLogger(\"similarity-graph\")"
   ]
  },
  {
   "cell_type": "code",
   "execution_count": 3,
   "metadata": {},
   "outputs": [],
   "source": [
    "def timeit(method):\n",
    "    def timed(*args, **kw):\n",
    "        ts = time()\n",
    "        result = method(*args, **kw)\n",
    "        te = time()\n",
    "        if 'log_time' in kw:\n",
    "            name = kw.get('log_name', method.__name__.upper())\n",
    "            kw['log_time'][name] = int((te - ts) * 1000)\n",
    "        else:\n",
    "            logger.info('%r  %2.2f [s]' % (method.__name__, (te - ts)))\n",
    "        return result\n",
    "    return timed"
   ]
  },
  {
   "cell_type": "markdown",
   "metadata": {},
   "source": [
    "# 1. Load Data"
   ]
  },
  {
   "cell_type": "code",
   "execution_count": 4,
   "metadata": {
    "scrolled": true
   },
   "outputs": [
    {
     "name": "stderr",
     "output_type": "stream",
     "text": [
      "INFO:similarity-graph:***Loading Data***\n",
      "INFO:gensim.utils:loading Dictionary object from ../data/corpus/year/dictionary_1.dict\n",
      "INFO:gensim.utils:loaded ../data/corpus/year/dictionary_1.dict\n",
      "INFO:gensim.utils:loading Dictionary object from ../data/corpus/year/dictionary_2.dict\n",
      "INFO:gensim.utils:loaded ../data/corpus/year/dictionary_2.dict\n",
      "INFO:gensim.utils:loading Dictionary object from ../data/corpus/year/dictionary_3.dict\n",
      "INFO:gensim.utils:loaded ../data/corpus/year/dictionary_3.dict\n",
      "INFO:gensim.utils:loading Dictionary object from ../data/corpus/year/dictionary_4.dict\n",
      "INFO:gensim.utils:loaded ../data/corpus/year/dictionary_4.dict\n",
      "INFO:gensim.utils:loading Dictionary object from ../data/corpus/year/dictionary_5.dict\n",
      "INFO:gensim.utils:loaded ../data/corpus/year/dictionary_5.dict\n",
      "INFO:gensim.utils:loading Dictionary object from ../data/corpus/year/dictionary_6.dict\n",
      "INFO:gensim.utils:loaded ../data/corpus/year/dictionary_6.dict\n"
     ]
    }
   ],
   "source": [
    "logger.info(\"***Loading Data***\")\n",
    "\n",
    "# load args\n",
    "with open(\"../args.json\", \"r\") as f:\n",
    "    args = json.load(f)\n",
    "\n",
    "path_corpus = f'{args[\"corpus\"]}{args[\"slice_type\"]}'\n",
    "dict_files = sorted([file for file in os.listdir(path_corpus) if \".dict\" in file])\n",
    "path_models = f'{args[\"results\"]}hdp/{args[\"slice_type\"]}'\n",
    "models_dir = sorted(os.listdir(path_models))\n",
    "\n",
    "slices = range(1, len(models_dir)+1)\n",
    "data = {}\n",
    "for slice in slices:\n",
    "    # load dictionary {word->id}\n",
    "    path_dict = f'{path_corpus}/{dict_files[slice-1]}'\n",
    "    token2id = Dictionary.load(path_dict).token2id\n",
    "\n",
    "    # load topics distributions\n",
    "    path_topics = f'{path_models}/{models_dir[slice-1]}/mode-topics.dat'\n",
    "    with open(path_topics, \"r\") as f:\n",
    "        topics = np.array([[int(word) for word in line.strip().split()] for line in f])\n",
    "    topics_dists = (topics.T/topics.sum(axis=1)).T\n",
    "\n",
    "    #save data in a dict\n",
    "    data[slice] = {\"token2id\": token2id, \"topics_dists\": topics_dists}"
   ]
  },
  {
   "cell_type": "markdown",
   "metadata": {},
   "source": [
    "# 2. Topic distributions"
   ]
  },
  {
   "cell_type": "code",
   "execution_count": 5,
   "metadata": {},
   "outputs": [],
   "source": [
    "@timeit\n",
    "def cum_dist_plot(array, quantiles = [0.6, 0.8, 0.9, 0.95, 0.99], figsize=(16,9)):\n",
    "    \n",
    "    #cumulative distribution\n",
    "    serie = pd.Series(array)\n",
    "    serie_sorted = serie.sort_values(ascending=False)\n",
    "    indexs = range(1, len(serie_sorted)+1)\n",
    "    cum_dist = []\n",
    "\n",
    "    cum = 0\n",
    "    for value in serie_sorted:\n",
    "        cum += value\n",
    "        cum_dist.append(cum)\n",
    "\n",
    "    cum_dist = pd.Series(cum_dist)\n",
    "    #quantiles\n",
    "    q_indexs = [] \n",
    "    q_cum = [] \n",
    "\n",
    "    labels = [f\"q{int(100*q)}\" for q in quantiles] \n",
    "    for q in quantiles:\n",
    "        cut = cum_dist.max()*q\n",
    "        slice = cum_dist[cum_dist<cut]\n",
    "        i, value = slice.index[-1], slice.values[-1]\n",
    "        q_indexs.append(i)\n",
    "        q_cum.append(value)\n",
    "\n",
    "    #plot cdf\n",
    "    fig, ax = plt.subplots(figsize=figsize)        \n",
    "    ax.plot(indexs, cum_dist)\n",
    "\n",
    "    #plot quantiles\n",
    "    ax.scatter(q_indexs, q_cum)\n",
    "    for i, label in enumerate(labels):\n",
    "        ax.annotate(label, (q_indexs[i], q_cum[i]))    \n",
    "    print(q_indexs, q_cum)\n",
    "    return ax"
   ]
  },
  {
   "cell_type": "code",
   "execution_count": 9,
   "metadata": {},
   "outputs": [
    {
     "name": "stderr",
     "output_type": "stream",
     "text": [
      "INFO:similarity-graph:'cum_dist_plot'  0.04 [s]\n"
     ]
    },
    {
     "name": "stdout",
     "output_type": "stream",
     "text": [
      "[33, 141, 366, 710, 1487] [0.5979304802089611, 0.7998995378742206, 0.8997990757484445, 0.9499296765119659, 0.989993972272477]\n"
     ]
    },
    {
     "data": {
      "text/plain": [
       "<matplotlib.axes._subplots.AxesSubplot at 0x7ffb558e9390>"
      ]
     },
     "execution_count": 9,
     "metadata": {},
     "output_type": "execute_result"
    },
    {
     "data": {
      "image/png": "[encoded data removed]",
      "text/plain": [
       "<Figure size 648x432 with 1 Axes>"
      ]
     },
     "metadata": {
      "needs_background": "light"
     },
     "output_type": "display_data"
    }
   ],
   "source": [
    "cum_dist_plot(data[1][\"topics_dists\"][0], quantiles = [0.6, 0.8, 0.9, 0.95, 0.99], figsize=(9,6))"
   ]
  },
  {
   "cell_type": "code",
   "execution_count": 37,
   "metadata": {},
   "outputs": [],
   "source": [
    "def get_quantile(array, q):\n",
    "    \"\"\"\n",
    "    Get number of elements that represent the 100q% of cumulative distribution of an array.\n",
    "    \"\"\"\n",
    "    #cumulative distribution\n",
    "    serie = pd.Series(array)\n",
    "    serie_sorted = serie.sort_values(ascending=False)\n",
    "    indexs = range(1, len(serie_sorted)+1)\n",
    "    cum_dist = []\n",
    "\n",
    "    cum = 0\n",
    "    for value in serie_sorted:\n",
    "        cum += value\n",
    "        cum_dist.append(cum)\n",
    "\n",
    "    cum_dist = pd.Series(cum_dist)\n",
    "    \n",
    "    #get quantile \n",
    "    cut = cum_dist.max()*q\n",
    "    tail = np.array(cum_dist[cum_dist<=cut])\n",
    "    if len(tail)>=1:\n",
    "        quantile = np.argmax(tail)+1\n",
    "    else:\n",
    "        quantile = 1\n",
    "    \n",
    "    return quantile"
   ]
  },
  {
   "cell_type": "code",
   "execution_count": 38,
   "metadata": {},
   "outputs": [],
   "source": [
    "q95_list = []\n",
    "for slice in slices:\n",
    "    topics = data[slice][\"topics_dists\"]\n",
    "    topics.shape\n",
    "    for i, topic in enumerate(topics):\n",
    "        q95 = get_quantile(topic, 0.95)\n",
    "        q95_list.append({\"slice\":slice, \"topic\":i, \"vocabulary_size\": len(topic),\n",
    "                         \"%q95\":round(100*q95/len(topic),2)})"
   ]
  },
  {
   "cell_type": "code",
   "execution_count": 39,
   "metadata": {},
   "outputs": [
    {
     "data": {
      "text/html": [
       "<div>\n",
       "<style scoped>\n",
       "    .dataframe tbody tr th:only-of-type {\n",
       "        vertical-align: middle;\n",
       "    }\n",
       "\n",
       "    .dataframe tbody tr th {\n",
       "        vertical-align: top;\n",
       "    }\n",
       "\n",
       "    .dataframe thead th {\n",
       "        text-align: right;\n",
       "    }\n",
       "</style>\n",
       "<table border=\"1\" class=\"dataframe\">\n",
       "  <thead>\n",
       "    <tr style=\"text-align: right;\">\n",
       "      <th></th>\n",
       "      <th>slice</th>\n",
       "      <th>topic</th>\n",
       "      <th>vocabulary_size</th>\n",
       "      <th>%q95</th>\n",
       "    </tr>\n",
       "  </thead>\n",
       "  <tbody>\n",
       "    <tr>\n",
       "      <td>0</td>\n",
       "      <td>1</td>\n",
       "      <td>0</td>\n",
       "      <td>3212</td>\n",
       "      <td>22.14</td>\n",
       "    </tr>\n",
       "    <tr>\n",
       "      <td>1</td>\n",
       "      <td>1</td>\n",
       "      <td>1</td>\n",
       "      <td>3212</td>\n",
       "      <td>13.51</td>\n",
       "    </tr>\n",
       "    <tr>\n",
       "      <td>2</td>\n",
       "      <td>1</td>\n",
       "      <td>2</td>\n",
       "      <td>3212</td>\n",
       "      <td>27.99</td>\n",
       "    </tr>\n",
       "    <tr>\n",
       "      <td>3</td>\n",
       "      <td>1</td>\n",
       "      <td>3</td>\n",
       "      <td>3212</td>\n",
       "      <td>23.75</td>\n",
       "    </tr>\n",
       "    <tr>\n",
       "      <td>4</td>\n",
       "      <td>1</td>\n",
       "      <td>4</td>\n",
       "      <td>3212</td>\n",
       "      <td>33.72</td>\n",
       "    </tr>\n",
       "  </tbody>\n",
       "</table>\n",
       "</div>"
      ],
      "text/plain": [
       "   slice  topic  vocabulary_size   %q95\n",
       "0      1      0             3212  22.14\n",
       "1      1      1             3212  13.51\n",
       "2      1      2             3212  27.99\n",
       "3      1      3             3212  23.75\n",
       "4      1      4             3212  33.72"
      ]
     },
     "execution_count": 39,
     "metadata": {},
     "output_type": "execute_result"
    }
   ],
   "source": [
    "df_q95 = pd.DataFrame(q95_list)\n",
    "df_q95.head()"
   ]
  },
  {
   "cell_type": "code",
   "execution_count": 13,
   "metadata": {},
   "outputs": [
    {
     "data": {
      "text/html": [
       "<div>\n",
       "<style scoped>\n",
       "    .dataframe tbody tr th:only-of-type {\n",
       "        vertical-align: middle;\n",
       "    }\n",
       "\n",
       "    .dataframe tbody tr th {\n",
       "        vertical-align: top;\n",
       "    }\n",
       "\n",
       "    .dataframe thead tr th {\n",
       "        text-align: left;\n",
       "    }\n",
       "\n",
       "    .dataframe thead tr:last-of-type th {\n",
       "        text-align: right;\n",
       "    }\n",
       "</style>\n",
       "<table border=\"1\" class=\"dataframe\">\n",
       "  <thead>\n",
       "    <tr>\n",
       "      <th></th>\n",
       "      <th colspan=\"8\" halign=\"left\">vocabulary_size</th>\n",
       "      <th colspan=\"8\" halign=\"left\">%q95</th>\n",
       "    </tr>\n",
       "    <tr>\n",
       "      <th></th>\n",
       "      <th>count</th>\n",
       "      <th>mean</th>\n",
       "      <th>std</th>\n",
       "      <th>min</th>\n",
       "      <th>25%</th>\n",
       "      <th>50%</th>\n",
       "      <th>75%</th>\n",
       "      <th>max</th>\n",
       "      <th>count</th>\n",
       "      <th>mean</th>\n",
       "      <th>std</th>\n",
       "      <th>min</th>\n",
       "      <th>25%</th>\n",
       "      <th>50%</th>\n",
       "      <th>75%</th>\n",
       "      <th>max</th>\n",
       "    </tr>\n",
       "    <tr>\n",
       "      <th>slice</th>\n",
       "      <th></th>\n",
       "      <th></th>\n",
       "      <th></th>\n",
       "      <th></th>\n",
       "      <th></th>\n",
       "      <th></th>\n",
       "      <th></th>\n",
       "      <th></th>\n",
       "      <th></th>\n",
       "      <th></th>\n",
       "      <th></th>\n",
       "      <th></th>\n",
       "      <th></th>\n",
       "      <th></th>\n",
       "      <th></th>\n",
       "      <th></th>\n",
       "    </tr>\n",
       "  </thead>\n",
       "  <tbody>\n",
       "    <tr>\n",
       "      <td>1</td>\n",
       "      <td>5.0</td>\n",
       "      <td>3212.0</td>\n",
       "      <td>0.0</td>\n",
       "      <td>3212.0</td>\n",
       "      <td>3212.0</td>\n",
       "      <td>3212.0</td>\n",
       "      <td>3212.0</td>\n",
       "      <td>3212.0</td>\n",
       "      <td>5.0</td>\n",
       "      <td>24.222000</td>\n",
       "      <td>7.478541</td>\n",
       "      <td>13.51</td>\n",
       "      <td>22.1400</td>\n",
       "      <td>23.750</td>\n",
       "      <td>27.9900</td>\n",
       "      <td>33.72</td>\n",
       "    </tr>\n",
       "    <tr>\n",
       "      <td>2</td>\n",
       "      <td>9.0</td>\n",
       "      <td>3397.0</td>\n",
       "      <td>0.0</td>\n",
       "      <td>3397.0</td>\n",
       "      <td>3397.0</td>\n",
       "      <td>3397.0</td>\n",
       "      <td>3397.0</td>\n",
       "      <td>3397.0</td>\n",
       "      <td>9.0</td>\n",
       "      <td>11.317778</td>\n",
       "      <td>12.998381</td>\n",
       "      <td>0.03</td>\n",
       "      <td>0.4400</td>\n",
       "      <td>2.650</td>\n",
       "      <td>20.6700</td>\n",
       "      <td>29.67</td>\n",
       "    </tr>\n",
       "    <tr>\n",
       "      <td>3</td>\n",
       "      <td>11.0</td>\n",
       "      <td>3653.0</td>\n",
       "      <td>0.0</td>\n",
       "      <td>3653.0</td>\n",
       "      <td>3653.0</td>\n",
       "      <td>3653.0</td>\n",
       "      <td>3653.0</td>\n",
       "      <td>3653.0</td>\n",
       "      <td>11.0</td>\n",
       "      <td>10.486364</td>\n",
       "      <td>11.907571</td>\n",
       "      <td>0.16</td>\n",
       "      <td>0.7650</td>\n",
       "      <td>4.740</td>\n",
       "      <td>21.7500</td>\n",
       "      <td>29.89</td>\n",
       "    </tr>\n",
       "    <tr>\n",
       "      <td>4</td>\n",
       "      <td>6.0</td>\n",
       "      <td>3934.0</td>\n",
       "      <td>0.0</td>\n",
       "      <td>3934.0</td>\n",
       "      <td>3934.0</td>\n",
       "      <td>3934.0</td>\n",
       "      <td>3934.0</td>\n",
       "      <td>3934.0</td>\n",
       "      <td>6.0</td>\n",
       "      <td>16.806667</td>\n",
       "      <td>12.311717</td>\n",
       "      <td>0.03</td>\n",
       "      <td>7.9075</td>\n",
       "      <td>18.365</td>\n",
       "      <td>26.1150</td>\n",
       "      <td>30.96</td>\n",
       "    </tr>\n",
       "    <tr>\n",
       "      <td>5</td>\n",
       "      <td>8.0</td>\n",
       "      <td>4056.0</td>\n",
       "      <td>0.0</td>\n",
       "      <td>4056.0</td>\n",
       "      <td>4056.0</td>\n",
       "      <td>4056.0</td>\n",
       "      <td>4056.0</td>\n",
       "      <td>4056.0</td>\n",
       "      <td>8.0</td>\n",
       "      <td>12.413750</td>\n",
       "      <td>12.654812</td>\n",
       "      <td>0.15</td>\n",
       "      <td>1.1500</td>\n",
       "      <td>11.205</td>\n",
       "      <td>21.0425</td>\n",
       "      <td>31.76</td>\n",
       "    </tr>\n",
       "    <tr>\n",
       "      <td>6</td>\n",
       "      <td>9.0</td>\n",
       "      <td>4065.0</td>\n",
       "      <td>0.0</td>\n",
       "      <td>4065.0</td>\n",
       "      <td>4065.0</td>\n",
       "      <td>4065.0</td>\n",
       "      <td>4065.0</td>\n",
       "      <td>4065.0</td>\n",
       "      <td>9.0</td>\n",
       "      <td>12.730000</td>\n",
       "      <td>10.460477</td>\n",
       "      <td>0.02</td>\n",
       "      <td>1.8500</td>\n",
       "      <td>15.450</td>\n",
       "      <td>22.2400</td>\n",
       "      <td>25.12</td>\n",
       "    </tr>\n",
       "  </tbody>\n",
       "</table>\n",
       "</div>"
      ],
      "text/plain": [
       "      vocabulary_size                                                       \\\n",
       "                count    mean  std     min     25%     50%     75%     max   \n",
       "slice                                                                        \n",
       "1                 5.0  3212.0  0.0  3212.0  3212.0  3212.0  3212.0  3212.0   \n",
       "2                 9.0  3397.0  0.0  3397.0  3397.0  3397.0  3397.0  3397.0   \n",
       "3                11.0  3653.0  0.0  3653.0  3653.0  3653.0  3653.0  3653.0   \n",
       "4                 6.0  3934.0  0.0  3934.0  3934.0  3934.0  3934.0  3934.0   \n",
       "5                 8.0  4056.0  0.0  4056.0  4056.0  4056.0  4056.0  4056.0   \n",
       "6                 9.0  4065.0  0.0  4065.0  4065.0  4065.0  4065.0  4065.0   \n",
       "\n",
       "       %q95                                                                \n",
       "      count       mean        std    min      25%     50%      75%    max  \n",
       "slice                                                                      \n",
       "1       5.0  24.222000   7.478541  13.51  22.1400  23.750  27.9900  33.72  \n",
       "2       9.0  11.317778  12.998381   0.03   0.4400   2.650  20.6700  29.67  \n",
       "3      11.0  10.486364  11.907571   0.16   0.7650   4.740  21.7500  29.89  \n",
       "4       6.0  16.806667  12.311717   0.03   7.9075  18.365  26.1150  30.96  \n",
       "5       8.0  12.413750  12.654812   0.15   1.1500  11.205  21.0425  31.76  \n",
       "6       9.0  12.730000  10.460477   0.02   1.8500  15.450  22.2400  25.12  "
      ]
     },
     "execution_count": 13,
     "metadata": {},
     "output_type": "execute_result"
    }
   ],
   "source": [
    "df_q95[[\"slice\", \"vocabulary_size\", \"%q95\"]].groupby(\"slice\").describe()"
   ]
  },
  {
   "cell_type": "code",
   "execution_count": 14,
   "metadata": {},
   "outputs": [
    {
     "data": {
      "text/plain": [
       "count    48.000000\n",
       "mean     13.605000\n",
       "std      11.800624\n",
       "min       0.020000\n",
       "25%       0.887500\n",
       "50%      14.480000\n",
       "75%      23.667500\n",
       "max      33.720000\n",
       "Name: %q95, dtype: float64"
      ]
     },
     "execution_count": 14,
     "metadata": {},
     "output_type": "execute_result"
    }
   ],
   "source": [
    "df_q95[\"%q95\"].describe()"
   ]
  },
  {
   "cell_type": "code",
   "execution_count": 80,
   "metadata": {},
   "outputs": [
    {
     "data": {
      "text/plain": [
       "0.60    20.6440\n",
       "0.70    22.2350\n",
       "0.80    24.7040\n",
       "0.90    29.0120\n",
       "0.95    30.5855\n",
       "0.99    32.7988\n",
       "Name: %q95, dtype: float64"
      ]
     },
     "execution_count": 80,
     "metadata": {},
     "output_type": "execute_result"
    }
   ],
   "source": [
    "df_q95[\"%q95\"].quantile([0.6, 0.7, 0.8, 0.9, 0.95, 0.99])"
   ]
  },
  {
   "cell_type": "markdown",
   "metadata": {},
   "source": [
    "\n",
    "\n",
    "\n",
    "\n",
    "* Nota: Analysis resultados preliminares para dhdp con slice_type='quarter'\n",
    "\n",
    "Las conclusiones preliminares indican que en promedio con un 16% del vocabulario se puede capturar un 95% de la distribución acumulada de los tópicos. Además, para un 99% de los tópicos basta con un 37% del vocabulario para capturar el 95% de su distribución acumulada. Por tanto, una representación incompleta de los tópicos usando las palabras más probables que capturan el 95% de la cdf trae consigo una disminución importante en el tamaño del vocabulario, y por ende de los parámetros del EMD.\n",
    "\n",
    "EL tamaño de los parámetros de EMD son (`fist_histogram(N), second_histogram(N), distance_matrix(NxN)`), luego la matriz de distancias es a lo más un 7.3%  de la matriz de distancia original. El poliedro del EMD es $Ax=b, x>=0$, con $A \\in \\mathbb{R}^{2N\\times N^{2}}, b \\in \\mathbb{R}^{N}, x \\in \\mathbb{R}^{N^{2}}$.\n",
    "\n",
    "Otra ventaja de reducir el tamaño de los tópicos es que el parámetro $b$ del poliedro es menos sparse y por ende es más estable numéricamente."
   ]
  },
  {
   "cell_type": "markdown",
   "metadata": {},
   "source": [
    "# 3. Distances"
   ]
  },
  {
   "cell_type": "code",
   "execution_count": 20,
   "metadata": {},
   "outputs": [],
   "source": [
    "@timeit\n",
    "def wmd(embeddings, token2id1, token2id2, topic1, topic2, q=None):\n",
    "    \"\"\"\n",
    "    Input\n",
    "        embeddings: gensim.models.keyedvectors.FastTextKeyedVectors, \n",
    "            words embeddings.\n",
    "        token2id1: dict[str->int], \n",
    "            mapping between tokens and ids from topic 1.\n",
    "        token2id2: dict[str->int], \n",
    "            mapping between tokens and ids from topic 2.\n",
    "        topic1: numpy.array[float64], \n",
    "            distribution from topic 1.\n",
    "        topic2: numpy.array[float64], \n",
    "            distribution from topic 2.\n",
    "        q: float64, optional, \n",
    "            quantile rate between [0-1], used to filter words with less probability in a topic.\n",
    "            represents the top N most likely words in a topic, such that its cumulative distribution \n",
    "            adds up to q.\n",
    "    Output\n",
    "        distance: float64\n",
    "            word movers distance between two topics.\n",
    "    \"\"\"\n",
    "    \n",
    "    if q:\n",
    "        # get quantiles \n",
    "        q1 = get_quantile(topic1, q) \n",
    "        q2 = get_quantile(topic2, q)\n",
    "        # get indexs of useful tokens\n",
    "        index1 = pd.Series(topic1).sort_values(ascending=False).index[0:q1]\n",
    "        index2 = pd.Series(topic2).sort_values(ascending=False).index[0:q2]\n",
    "        # map id->token\n",
    "        id2token1 = {v: k for k, v in token2id1.items()}\n",
    "        id2token2 = {v: k for k, v in token2id2.items()}\n",
    "        # get vocabulary from union of topic vocabularies\n",
    "        vocabulary1 = set([id2token1[i] for i in index1])\n",
    "        vocabulary2 = set([id2token2[i] for i in index2])\n",
    "        vocabulary = vocabulary1.union(vocabulary2)\n",
    "    else:\n",
    "        # get vocabulary from union of topic vocabularies\n",
    "        vocabulary1 = set(token2id1.keys())\n",
    "        vocabulary2 = set(token2id2.keys())\n",
    "        vocabulary = vocabulary1.union(vocabulary2)\n",
    "    # topics distributions with padding\n",
    "    first_histogram = np.array([topic1[token2id1[word]] if word in vocabulary1 else 0 for word in vocabulary])\n",
    "    second_histogram = np.array([topic2[token2id2[word]] if word in vocabulary2 else 0 for word in vocabulary])    \n",
    "    # compute euclidean distance matrix between vocabulary words\n",
    "    vocabulary_array = np.array([embeddings[word] for word in vocabulary])\n",
    "    distance_matrix = pairwise_distances(X=vocabulary_array, metric=\"euclidean\", n_jobs=-1)\n",
    "    distance_matrix = distance_matrix.astype(\"float64\")\n",
    "    distance_matrix = distance_matrix.copy(order=\"C\")\n",
    "    # compute Earth Mover Distances\n",
    "    distance = emd(first_histogram, second_histogram, distance_matrix)\n",
    "    return distance"
   ]
  },
  {
   "cell_type": "code",
   "execution_count": 17,
   "metadata": {},
   "outputs": [
    {
     "name": "stderr",
     "output_type": "stream",
     "text": [
      "INFO:similarity-graph:***Loading Embeddings***\n",
      "INFO:gensim.models._fasttext_bin:loading 855380 words for fastText model from fasttext-sbwc.bin\n",
      "INFO:gensim.models.word2vec:resetting layer weights\n",
      "INFO:gensim.models.word2vec:Updating model with new vocabulary\n",
      "INFO:gensim.models.word2vec:New added 855380 unique words (50% of original 1710760) and increased the count of 855380 pre-existing words (50% of original 1710760)\n",
      "INFO:gensim.models.word2vec:deleting the raw counts dictionary of 855380 items\n",
      "INFO:gensim.models.word2vec:sample=0.0001 downsamples 582 most-common words\n",
      "INFO:gensim.models.word2vec:downsampling leaves estimated 1489095212 word corpus (106.9% of prior 1392829209)\n",
      "INFO:gensim.models.fasttext:loaded (2855380, 300) weight matrix for fastText model from fasttext-sbwc.bin\n"
     ]
    }
   ],
   "source": [
    "logger.info(\"***Loading Embeddings***\")\n",
    "\n",
    "embeddings = load_facebook_vectors(args[\"embeddings\"])"
   ]
  },
  {
   "cell_type": "code",
   "execution_count": 24,
   "metadata": {},
   "outputs": [],
   "source": [
    "token2id1 = data[1][\"token2id\"]\n",
    "token2id2 = data[2][\"token2id\"]\n",
    "topic1 = data[1][\"topics_dists\"][0]\n",
    "topic2 = data[2][\"topics_dists\"][0]"
   ]
  },
  {
   "cell_type": "code",
   "execution_count": 81,
   "metadata": {},
   "outputs": [
    {
     "name": "stderr",
     "output_type": "stream",
     "text": [
      "INFO:similarity-graph:'wmd'  933.38 [s]\n"
     ]
    },
    {
     "name": "stdout",
     "output_type": "stream",
     "text": [
      "CPU times: user 15min 34s, sys: 2.04 s, total: 15min 37s\n",
      "Wall time: 15min 33s\n"
     ]
    },
    {
     "data": {
      "text/plain": [
       "2.9235794300288065"
      ]
     },
     "execution_count": 81,
     "metadata": {},
     "output_type": "execute_result"
    }
   ],
   "source": [
    "%time wmd(embeddings, token2id1, token2id2, topic1, topic2, q=None)"
   ]
  },
  {
   "cell_type": "code",
   "execution_count": 82,
   "metadata": {},
   "outputs": [
    {
     "name": "stderr",
     "output_type": "stream",
     "text": [
      "INFO:similarity-graph:'wmd'  0.58 [s]\n"
     ]
    },
    {
     "name": "stdout",
     "output_type": "stream",
     "text": [
      "CPU times: user 1.04 s, sys: 124 ms, total: 1.17 s\n",
      "Wall time: 579 ms\n"
     ]
    },
    {
     "data": {
      "text/plain": [
       "2.4880156991813736"
      ]
     },
     "execution_count": 82,
     "metadata": {},
     "output_type": "execute_result"
    }
   ],
   "source": [
    "%time wmd(embeddings, token2id1, token2id2, topic1, topic2, q=0.8)"
   ]
  }
 ],
 "metadata": {
  "kernelspec": {
   "display_name": "Python 3",
   "language": "python",
   "name": "python3"
  },
  "language_info": {
   "codemirror_mode": {
    "name": "ipython",
    "version": 3
   },
   "file_extension": ".py",
   "mimetype": "text/x-python",
   "name": "python",
   "nbconvert_exporter": "python",
   "pygments_lexer": "ipython3",
   "version": "3.7.4"
  }
 },
 "nbformat": 4,
 "nbformat_minor": 2
}
