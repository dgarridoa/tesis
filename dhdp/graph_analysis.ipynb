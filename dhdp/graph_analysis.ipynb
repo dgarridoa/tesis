{
 "cells": [
  {
   "cell_type": "code",
   "execution_count": 1,
   "metadata": {},
   "outputs": [
    {
     "name": "stderr",
     "output_type": "stream",
     "text": [
      "/home/dgarrido/anaconda3/lib/python3.7/site-packages/statsmodels/tools/_testing.py:19: FutureWarning: pandas.util.testing is deprecated. Use the functions in the public API at pandas.testing instead.\n",
      "  import pandas.util.testing as tm\n"
     ]
    }
   ],
   "source": [
    "import os\n",
    "import json\n",
    "import numpy as np\n",
    "import pandas as pd\n",
    "import matplotlib.pyplot as plt\n",
    "import seaborn as sns\n",
    "import plotly.offline as py\n",
    "from plotly import graph_objs as go\n",
    "from gensim.corpora import Dictionary\n",
    "from gensim.corpora.bleicorpus import BleiCorpus"
   ]
  },
  {
   "cell_type": "code",
   "execution_count": 2,
   "metadata": {},
   "outputs": [],
   "source": [
    "# load args\n",
    "with open(\"../args.json\", \"r\") as f:\n",
    "    args = json.load(f)"
   ]
  },
  {
   "cell_type": "code",
   "execution_count": 3,
   "metadata": {},
   "outputs": [],
   "source": [
    "# load similarity graph\n",
    "path_graph = f'{args[\"results\"]}graph/graph_{args[\"slice_type\"]}.json'\n",
    "with open(path_graph, \"r\") as f:\n",
    "    graph = json.load(f)"
   ]
  },
  {
   "cell_type": "code",
   "execution_count": 4,
   "metadata": {},
   "outputs": [],
   "source": [
    "def get_distances_from_graph(graph):\n",
    "    distances = []\n",
    "    slices = list(graph.keys())\n",
    "    for slice in slices:\n",
    "        I = list(graph[slice].keys())\n",
    "        for i in I:\n",
    "            topic_distances = graph[slice][i].values()\n",
    "            for dist in topic_distances:\n",
    "                distances.append(dist)\n",
    "    distances = pd.Series(distances)\n",
    "    return distances"
   ]
  },
  {
   "cell_type": "code",
   "execution_count": 5,
   "metadata": {},
   "outputs": [],
   "source": [
    "def cum_dist(serie):\n",
    "    cum_dist = []\n",
    "    cum = 0\n",
    "    sorted_serie = serie.sort_values(ascending=True)\n",
    "    for elem in sorted_serie:\n",
    "        cum+=elem\n",
    "        cum_dist.append(cum)\n",
    "    cum_dist = pd.Series([elem/cum_dist[-1] for elem in cum_dist])\n",
    "    return cum_dist"
   ]
  },
  {
   "cell_type": "code",
   "execution_count": 6,
   "metadata": {},
   "outputs": [],
   "source": [
    "distances = get_distances_from_graph(graph)\n",
    "sorted_distances = pd.Series(distances).sort_values(ascending=True)\n",
    "cum_dist = cum_dist(distances)"
   ]
  },
  {
   "cell_type": "code",
   "execution_count": 7,
   "metadata": {},
   "outputs": [
    {
     "data": {
      "text/plain": [
       "[<matplotlib.lines.Line2D at 0x7f0035a1b6d0>]"
      ]
     },
     "execution_count": 7,
     "metadata": {},
     "output_type": "execute_result"
    },
    {
     "data": {
      "image/png": "[encoded data removed]",
      "text/plain": [
       "<Figure size 432x288 with 1 Axes>"
      ]
     },
     "metadata": {
      "needs_background": "light"
     },
     "output_type": "display_data"
    }
   ],
   "source": [
    "plt.plot(sorted_distances, cum_dist)"
   ]
  },
  {
   "cell_type": "code",
   "execution_count": 8,
   "metadata": {},
   "outputs": [
    {
     "data": {
      "text/plain": [
       "count    330.000000\n",
       "mean       0.206339\n",
       "std        0.078789\n",
       "min        0.124070\n",
       "25%        0.176368\n",
       "50%        0.185510\n",
       "75%        0.208111\n",
       "max        0.634835\n",
       "dtype: float64"
      ]
     },
     "execution_count": 8,
     "metadata": {},
     "output_type": "execute_result"
    }
   ],
   "source": [
    "distances.describe()"
   ]
  },
  {
   "cell_type": "code",
   "execution_count": 8,
   "metadata": {},
   "outputs": [
    {
     "data": {
      "text/plain": [
       "0.05    0.169945\n",
       "0.10    0.189678\n",
       "0.20    0.201252\n",
       "0.30    0.208733\n",
       "0.40    0.216061\n",
       "0.50    0.221913\n",
       "0.60    0.229819\n",
       "0.70    0.238754\n",
       "0.80    0.251610\n",
       "0.90    0.288590\n",
       "0.95    0.356755\n",
       "0.99    0.690923\n",
       "dtype: float64"
      ]
     },
     "execution_count": 8,
     "metadata": {},
     "output_type": "execute_result"
    }
   ],
   "source": [
    "distances.quantile(q=[0.05, 0.1, 0.2, 0.3, 0.4, 0.5, 0.6, 0.7, 0.8, 0.9, 0.95, 0.99])"
   ]
  },
  {
   "cell_type": "code",
   "execution_count": 9,
   "metadata": {},
   "outputs": [],
   "source": [
    "path_corpus = f'{args[\"corpus\"]}{args[\"slice_type\"]}'\n",
    "dict_files = sorted([file for file in os.listdir(path_corpus) if \".dict\" in file])\n",
    "path_models = f'{args[\"results\"]}hdp/{args[\"slice_type\"]}'\n",
    "models_dir = sorted(os.listdir(path_models))\n",
    "\n",
    "slices = range(1, len(models_dir)+1)\n",
    "data = {}\n",
    "for slice in slices:\n",
    "    # load dictionary {word->id}\n",
    "    path_dict = f'{path_corpus}/{dict_files[slice-1]}'\n",
    "    token2id = Dictionary.load(path_dict).token2id\n",
    "\n",
    "    # load topics distributions\n",
    "    path_topics = f'{path_models}/{models_dir[slice-1]}/mode-topics.dat'\n",
    "    with open(path_topics, \"r\") as f:\n",
    "        topics = np.array([[int(word) for word in line.strip().split()] for line in f])\n",
    "    topics_dists = (topics.T/topics.sum(axis=1)).T\n",
    "\n",
    "    #save data in a dict\n",
    "    data[slice] = {\"token2id\": token2id, \"topics_dists\": topics_dists}"
   ]
  },
  {
   "cell_type": "code",
   "execution_count": 10,
   "metadata": {},
   "outputs": [],
   "source": [
    "def get_topic_topn(data, topn):\n",
    "    text_topn_words = []\n",
    "    slices = list(data.keys())\n",
    "    for slice in slices:\n",
    "        token2id = data[slice][\"token2id\"]\n",
    "        id2token = {v: k for k, v in token2id.items()}\n",
    "        #for each (slice,i)\n",
    "        for i, topic in enumerate(data[slice][\"topics_dists\"]):\n",
    "            topn_ids = np.argsort(topic)[-topn:]\n",
    "            topn_list = [id2token[id] for id in topn_ids]\n",
    "            topn_str = \"<br>\".join(topn_list)\n",
    "            text_topn_words.append(topn_str)\n",
    "    return text_topn_words"
   ]
  },
  {
   "cell_type": "code",
   "execution_count": 11,
   "metadata": {},
   "outputs": [],
   "source": [
    "def get_network_data(graph):\n",
    "    \n",
    "    # nodes\n",
    "    slices = list(graph.keys())\n",
    "    nodes = []\n",
    "    for slice in slices:\n",
    "        I = list(graph[slice].keys())\n",
    "        for i in I:\n",
    "            nodes.append([int(slice), int(i)])\n",
    "    J = list(graph[slice][i].keys())\n",
    "    for j in J:\n",
    "        nodes.append([int(slice)+1, int(j)])\n",
    "    nodes = np.array(nodes)\n",
    "    \n",
    "    # edges\n",
    "    edges = []\n",
    "    slices = list(graph.keys())\n",
    "    for slice in slices:\n",
    "        I = list(graph[slice].keys())\n",
    "        for i in I:\n",
    "            J = list(graph[slice][i].keys())\n",
    "            for j in J:\n",
    "                x  = [int(slice), int(slice)+1, None]\n",
    "                y  = [int(i), int(j), None]\n",
    "                similarity = graph[slice][i][j]\n",
    "                edges.append((x, y, similarity))         \n",
    "      \n",
    "    return nodes, edges  "
   ]
  },
  {
   "cell_type": "code",
   "execution_count": 24,
   "metadata": {},
   "outputs": [],
   "source": [
    "def make_edge(x, y, text, width):\n",
    "    return  go.Scatter(x         = x,\n",
    "                       y         = y,\n",
    "                       line      = dict(width = width,\n",
    "                                   color = 'cornflowerblue'),\n",
    "                       hoverinfo = 'text',\n",
    "                       text      = text,\n",
    "                       mode      = 'lines')\n",
    "def plot_network(nodes, text, edges, threshold):\n",
    "    \"\"\"\n",
    "    \"\"\"\n",
    "    # create node trace\n",
    "    node_trace = go.Scatter(x = nodes[:,0], y = nodes[:,1], text = text,\n",
    "                        mode = 'markers',\n",
    "                        hoverinfo = 'text',\n",
    "                        marker = dict(\n",
    "                            showscale = True,\n",
    "                            colorscale = 'YlGnBu',\n",
    "                            reversescale = True,\n",
    "                            color = [],\n",
    "                            size = 10,\n",
    "                            colorbar = dict(\n",
    "                                thickness = 15,\n",
    "                                title = 'Node Connections',\n",
    "                                xanchor = 'left',\n",
    "                                titleside = 'right'\n",
    "                            ),\n",
    "                        line_width = 2))\n",
    "    # create edge traces\n",
    "    edge_trace = []\n",
    "    for edge in edges:\n",
    "        x = edge[0]\n",
    "        y = edge[1]\n",
    "        similarity = edge[2]\n",
    "        if similarity >= threshold:\n",
    "            trace = make_edge(x, y, f\"{round(similarity,3)}\", width = 2*similarity) \n",
    "            edge_trace.append(trace)\n",
    "        \n",
    "    # layout\n",
    "    layout = go.Layout(\n",
    "    paper_bgcolor='rgba(0,0,0,0)', \n",
    "    plot_bgcolor='rgba(0,0,0,0)', \n",
    "    xaxis =  {'showgrid': False, 'zeroline': False}, \n",
    "    yaxis = {'showgrid': False, 'zeroline': False},\n",
    "    )\n",
    "    # create figure\n",
    "    fig = go.Figure(layout = layout)\n",
    "    # add all edge traces\n",
    "    for trace in edge_trace:\n",
    "        fig.add_trace(trace)\n",
    "    # add node trace\n",
    "    fig.add_trace(node_trace)\n",
    "    # remove legend\n",
    "    fig.update_layout(showlegend = False)\n",
    "    # tick labels\n",
    "    fig.update_xaxes(showgrid=False, zeroline=False, showticklabels=True, tickvals=list(range(1,nodes.max()+1,1)))\n",
    "    fig.update_yaxes(showticklabels = False)\n",
    "    # show figure\n",
    "    fig.show()\n",
    "    fig.write_html(\"graph.html\")"
   ]
  },
  {
   "cell_type": "code",
   "execution_count": 25,
   "metadata": {},
   "outputs": [],
   "source": [
    "# network data\n",
    "nodes, edges = get_network_data(graph)\n",
    "text = get_topic_topn(data, 10)"
   ]
  },
  {
   "cell_type": "code",
   "execution_count": 26,
   "metadata": {},
   "outputs": [
    {
     "data": {
      "application/vnd.plotly.v1+json": {
       "config": {
        "plotlyServerURL": "https://plot.ly"
       },
       "data": [
        {
         "hoverinfo": "text",
         "line": {
          "color": "cornflowerblue",
          "width": 0.5744508852356586
         },
         "mode": "lines",
         "text": "0.287",
         "type": "scatter",
         "x": [
          1,
          2,
          null
         ],
         "y": [
          0,
          0,
          null
         ]
        },
        {
         "hoverinfo": "text",
         "line": {
          "color": "cornflowerblue",
          "width": 0.4985030595774154
         },
         "mode": "lines",
         "text": "0.249",
         "type": "scatter",
         "x": [
          1,
          2,
          null
         ],
         "y": [
          0,
          1,
          null
         ]
        },
        {
         "hoverinfo": "text",
         "line": {
          "color": "cornflowerblue",
          "width": 0.45710665234980946
         },
         "mode": "lines",
         "text": "0.229",
         "type": "scatter",
         "x": [
          1,
          2,
          null
         ],
         "y": [
          0,
          2,
          null
         ]
        },
        {
         "hoverinfo": "text",
         "line": {
          "color": "cornflowerblue",
          "width": 1.2690530988557076
         },
         "mode": "lines",
         "text": "0.635",
         "type": "scatter",
         "x": [
          1,
          2,
          null
         ],
         "y": [
          0,
          3,
          null
         ]
        },
        {
         "hoverinfo": "text",
         "line": {
          "color": "cornflowerblue",
          "width": 0.4978455792166505
         },
         "mode": "lines",
         "text": "0.249",
         "type": "scatter",
         "x": [
          1,
          2,
          null
         ],
         "y": [
          0,
          4,
          null
         ]
        },
        {
         "hoverinfo": "text",
         "line": {
          "color": "cornflowerblue",
          "width": 0.4472922509102421
         },
         "mode": "lines",
         "text": "0.224",
         "type": "scatter",
         "x": [
          1,
          2,
          null
         ],
         "y": [
          0,
          5,
          null
         ]
        },
        {
         "hoverinfo": "text",
         "line": {
          "color": "cornflowerblue",
          "width": 0.4195774797787361
         },
         "mode": "lines",
         "text": "0.21",
         "type": "scatter",
         "x": [
          1,
          2,
          null
         ],
         "y": [
          0,
          6,
          null
         ]
        },
        {
         "hoverinfo": "text",
         "line": {
          "color": "cornflowerblue",
          "width": 0.4110442188559137
         },
         "mode": "lines",
         "text": "0.206",
         "type": "scatter",
         "x": [
          1,
          2,
          null
         ],
         "y": [
          0,
          7,
          null
         ]
        },
        {
         "hoverinfo": "text",
         "line": {
          "color": "cornflowerblue",
          "width": 0.40830280352886916
         },
         "mode": "lines",
         "text": "0.204",
         "type": "scatter",
         "x": [
          1,
          2,
          null
         ],
         "y": [
          0,
          8,
          null
         ]
        },
        {
         "hoverinfo": "text",
         "line": {
          "color": "cornflowerblue",
          "width": 0.38358439698847385
         },
         "mode": "lines",
         "text": "0.192",
         "type": "scatter",
         "x": [
          1,
          2,
          null
         ],
         "y": [
          0,
          9,
          null
         ]
        },
        {
         "hoverinfo": "text",
         "line": {
          "color": "cornflowerblue",
          "width": 0.45959908478779
         },
         "mode": "lines",
         "text": "0.23",
         "type": "scatter",
         "x": [
          1,
          2,
          null
         ],
         "y": [
          1,
          0,
          null
         ]
        },
        {
         "hoverinfo": "text",
         "line": {
          "color": "cornflowerblue",
          "width": 0.5167555908667224
         },
         "mode": "lines",
         "text": "0.258",
         "type": "scatter",
         "x": [
          1,
          2,
          null
         ],
         "y": [
          1,
          1,
          null
         ]
        },
        {
         "hoverinfo": "text",
         "line": {
          "color": "cornflowerblue",
          "width": 0.43485094373304584
         },
         "mode": "lines",
         "text": "0.217",
         "type": "scatter",
         "x": [
          1,
          2,
          null
         ],
         "y": [
          1,
          2,
          null
         ]
        },
        {
         "hoverinfo": "text",
         "line": {
          "color": "cornflowerblue",
          "width": 0.4499343086578695
         },
         "mode": "lines",
         "text": "0.225",
         "type": "scatter",
         "x": [
          1,
          2,
          null
         ],
         "y": [
          1,
          3,
          null
         ]
        },
        {
         "hoverinfo": "text",
         "line": {
          "color": "cornflowerblue",
          "width": 0.4472172735413105
         },
         "mode": "lines",
         "text": "0.224",
         "type": "scatter",
         "x": [
          1,
          2,
          null
         ],
         "y": [
          1,
          4,
          null
         ]
        },
        {
         "hoverinfo": "text",
         "line": {
          "color": "cornflowerblue",
          "width": 0.4746272940013819
         },
         "mode": "lines",
         "text": "0.237",
         "type": "scatter",
         "x": [
          1,
          2,
          null
         ],
         "y": [
          1,
          5,
          null
         ]
        },
        {
         "hoverinfo": "text",
         "line": {
          "color": "cornflowerblue",
          "width": 0.3945346741625924
         },
         "mode": "lines",
         "text": "0.197",
         "type": "scatter",
         "x": [
          1,
          2,
          null
         ],
         "y": [
          1,
          6,
          null
         ]
        },
        {
         "hoverinfo": "text",
         "line": {
          "color": "cornflowerblue",
          "width": 0.3982017497883022
         },
         "mode": "lines",
         "text": "0.199",
         "type": "scatter",
         "x": [
          1,
          2,
          null
         ],
         "y": [
          1,
          7,
          null
         ]
        },
        {
         "hoverinfo": "text",
         "line": {
          "color": "cornflowerblue",
          "width": 0.3876110583635502
         },
         "mode": "lines",
         "text": "0.194",
         "type": "scatter",
         "x": [
          1,
          2,
          null
         ],
         "y": [
          1,
          8,
          null
         ]
        },
        {
         "hoverinfo": "text",
         "line": {
          "color": "cornflowerblue",
          "width": 0.3509665306926444
         },
         "mode": "lines",
         "text": "0.175",
         "type": "scatter",
         "x": [
          1,
          2,
          null
         ],
         "y": [
          1,
          9,
          null
         ]
        },
        {
         "hoverinfo": "text",
         "line": {
          "color": "cornflowerblue",
          "width": 0.5835449376856479
         },
         "mode": "lines",
         "text": "0.292",
         "type": "scatter",
         "x": [
          1,
          2,
          null
         ],
         "y": [
          2,
          0,
          null
         ]
        },
        {
         "hoverinfo": "text",
         "line": {
          "color": "cornflowerblue",
          "width": 0.7403399994514828
         },
         "mode": "lines",
         "text": "0.37",
         "type": "scatter",
         "x": [
          1,
          2,
          null
         ],
         "y": [
          2,
          1,
          null
         ]
        },
        {
         "hoverinfo": "text",
         "line": {
          "color": "cornflowerblue",
          "width": 0.4651563528164361
         },
         "mode": "lines",
         "text": "0.233",
         "type": "scatter",
         "x": [
          1,
          2,
          null
         ],
         "y": [
          2,
          2,
          null
         ]
        },
        {
         "hoverinfo": "text",
         "line": {
          "color": "cornflowerblue",
          "width": 0.5349040667252964
         },
         "mode": "lines",
         "text": "0.267",
         "type": "scatter",
         "x": [
          1,
          2,
          null
         ],
         "y": [
          2,
          3,
          null
         ]
        },
        {
         "hoverinfo": "text",
         "line": {
          "color": "cornflowerblue",
          "width": 0.5102322571978718
         },
         "mode": "lines",
         "text": "0.255",
         "type": "scatter",
         "x": [
          1,
          2,
          null
         ],
         "y": [
          2,
          4,
          null
         ]
        },
        {
         "hoverinfo": "text",
         "line": {
          "color": "cornflowerblue",
          "width": 0.4593349570183391
         },
         "mode": "lines",
         "text": "0.23",
         "type": "scatter",
         "x": [
          1,
          2,
          null
         ],
         "y": [
          2,
          5,
          null
         ]
        },
        {
         "hoverinfo": "text",
         "line": {
          "color": "cornflowerblue",
          "width": 0.41146451356877856
         },
         "mode": "lines",
         "text": "0.206",
         "type": "scatter",
         "x": [
          1,
          2,
          null
         ],
         "y": [
          2,
          6,
          null
         ]
        },
        {
         "hoverinfo": "text",
         "line": {
          "color": "cornflowerblue",
          "width": 0.4083920499685877
         },
         "mode": "lines",
         "text": "0.204",
         "type": "scatter",
         "x": [
          1,
          2,
          null
         ],
         "y": [
          2,
          7,
          null
         ]
        },
        {
         "hoverinfo": "text",
         "line": {
          "color": "cornflowerblue",
          "width": 0.41584256848094825
         },
         "mode": "lines",
         "text": "0.208",
         "type": "scatter",
         "x": [
          1,
          2,
          null
         ],
         "y": [
          2,
          8,
          null
         ]
        },
        {
         "hoverinfo": "text",
         "line": {
          "color": "cornflowerblue",
          "width": 0.3807562311368496
         },
         "mode": "lines",
         "text": "0.19",
         "type": "scatter",
         "x": [
          1,
          2,
          null
         ],
         "y": [
          2,
          9,
          null
         ]
        },
        {
         "hoverinfo": "text",
         "line": {
          "color": "cornflowerblue",
          "width": 0.8274126472413692
         },
         "mode": "lines",
         "text": "0.414",
         "type": "scatter",
         "x": [
          1,
          2,
          null
         ],
         "y": [
          3,
          0,
          null
         ]
        },
        {
         "hoverinfo": "text",
         "line": {
          "color": "cornflowerblue",
          "width": 0.5305580105730372
         },
         "mode": "lines",
         "text": "0.265",
         "type": "scatter",
         "x": [
          1,
          2,
          null
         ],
         "y": [
          3,
          1,
          null
         ]
        },
        {
         "hoverinfo": "text",
         "line": {
          "color": "cornflowerblue",
          "width": 0.502867266215891
         },
         "mode": "lines",
         "text": "0.251",
         "type": "scatter",
         "x": [
          1,
          2,
          null
         ],
         "y": [
          3,
          2,
          null
         ]
        },
        {
         "hoverinfo": "text",
         "line": {
          "color": "cornflowerblue",
          "width": 0.5371884868570296
         },
         "mode": "lines",
         "text": "0.269",
         "type": "scatter",
         "x": [
          1,
          2,
          null
         ],
         "y": [
          3,
          3,
          null
         ]
        },
        {
         "hoverinfo": "text",
         "line": {
          "color": "cornflowerblue",
          "width": 0.6641898021104808
         },
         "mode": "lines",
         "text": "0.332",
         "type": "scatter",
         "x": [
          1,
          2,
          null
         ],
         "y": [
          3,
          4,
          null
         ]
        },
        {
         "hoverinfo": "text",
         "line": {
          "color": "cornflowerblue",
          "width": 0.45696767404370264
         },
         "mode": "lines",
         "text": "0.228",
         "type": "scatter",
         "x": [
          1,
          2,
          null
         ],
         "y": [
          3,
          5,
          null
         ]
        },
        {
         "hoverinfo": "text",
         "line": {
          "color": "cornflowerblue",
          "width": 0.4175841998343475
         },
         "mode": "lines",
         "text": "0.209",
         "type": "scatter",
         "x": [
          1,
          2,
          null
         ],
         "y": [
          3,
          6,
          null
         ]
        },
        {
         "hoverinfo": "text",
         "line": {
          "color": "cornflowerblue",
          "width": 0.41472547121734415
         },
         "mode": "lines",
         "text": "0.207",
         "type": "scatter",
         "x": [
          1,
          2,
          null
         ],
         "y": [
          3,
          7,
          null
         ]
        },
        {
         "hoverinfo": "text",
         "line": {
          "color": "cornflowerblue",
          "width": 0.4075125273739851
         },
         "mode": "lines",
         "text": "0.204",
         "type": "scatter",
         "x": [
          1,
          2,
          null
         ],
         "y": [
          3,
          8,
          null
         ]
        },
        {
         "hoverinfo": "text",
         "line": {
          "color": "cornflowerblue",
          "width": 0.3847272968896086
         },
         "mode": "lines",
         "text": "0.192",
         "type": "scatter",
         "x": [
          1,
          2,
          null
         ],
         "y": [
          3,
          9,
          null
         ]
        },
        {
         "hoverinfo": "text",
         "line": {
          "color": "cornflowerblue",
          "width": 0.5605533591880064
         },
         "mode": "lines",
         "text": "0.28",
         "type": "scatter",
         "x": [
          1,
          2,
          null
         ],
         "y": [
          4,
          0,
          null
         ]
        },
        {
         "hoverinfo": "text",
         "line": {
          "color": "cornflowerblue",
          "width": 0.5126564586383215
         },
         "mode": "lines",
         "text": "0.256",
         "type": "scatter",
         "x": [
          1,
          2,
          null
         ],
         "y": [
          4,
          1,
          null
         ]
        },
        {
         "hoverinfo": "text",
         "line": {
          "color": "cornflowerblue",
          "width": 0.46574267219795373
         },
         "mode": "lines",
         "text": "0.233",
         "type": "scatter",
         "x": [
          1,
          2,
          null
         ],
         "y": [
          4,
          2,
          null
         ]
        },
        {
         "hoverinfo": "text",
         "line": {
          "color": "cornflowerblue",
          "width": 0.4915322702757916
         },
         "mode": "lines",
         "text": "0.246",
         "type": "scatter",
         "x": [
          1,
          2,
          null
         ],
         "y": [
          4,
          3,
          null
         ]
        },
        {
         "hoverinfo": "text",
         "line": {
          "color": "cornflowerblue",
          "width": 1.3784279070488197
         },
         "mode": "lines",
         "text": "0.689",
         "type": "scatter",
         "x": [
          1,
          2,
          null
         ],
         "y": [
          4,
          4,
          null
         ]
        },
        {
         "hoverinfo": "text",
         "line": {
          "color": "cornflowerblue",
          "width": 0.4328132584950569
         },
         "mode": "lines",
         "text": "0.216",
         "type": "scatter",
         "x": [
          1,
          2,
          null
         ],
         "y": [
          4,
          5,
          null
         ]
        },
        {
         "hoverinfo": "text",
         "line": {
          "color": "cornflowerblue",
          "width": 0.4161848200420322
         },
         "mode": "lines",
         "text": "0.208",
         "type": "scatter",
         "x": [
          1,
          2,
          null
         ],
         "y": [
          4,
          6,
          null
         ]
        },
        {
         "hoverinfo": "text",
         "line": {
          "color": "cornflowerblue",
          "width": 0.4163508153121182
         },
         "mode": "lines",
         "text": "0.208",
         "type": "scatter",
         "x": [
          1,
          2,
          null
         ],
         "y": [
          4,
          7,
          null
         ]
        },
        {
         "hoverinfo": "text",
         "line": {
          "color": "cornflowerblue",
          "width": 0.40611641890553396
         },
         "mode": "lines",
         "text": "0.203",
         "type": "scatter",
         "x": [
          1,
          2,
          null
         ],
         "y": [
          4,
          8,
          null
         ]
        },
        {
         "hoverinfo": "text",
         "line": {
          "color": "cornflowerblue",
          "width": 0.38248640406831885
         },
         "mode": "lines",
         "text": "0.191",
         "type": "scatter",
         "x": [
          1,
          2,
          null
         ],
         "y": [
          4,
          9,
          null
         ]
        },
        {
         "hoverinfo": "text",
         "line": {
          "color": "cornflowerblue",
          "width": 0.49619406936532945
         },
         "mode": "lines",
         "text": "0.248",
         "type": "scatter",
         "x": [
          1,
          2,
          null
         ],
         "y": [
          5,
          0,
          null
         ]
        },
        {
         "hoverinfo": "text",
         "line": {
          "color": "cornflowerblue",
          "width": 0.47697226011784777
         },
         "mode": "lines",
         "text": "0.238",
         "type": "scatter",
         "x": [
          1,
          2,
          null
         ],
         "y": [
          5,
          1,
          null
         ]
        },
        {
         "hoverinfo": "text",
         "line": {
          "color": "cornflowerblue",
          "width": 1.227360773366755
         },
         "mode": "lines",
         "text": "0.614",
         "type": "scatter",
         "x": [
          1,
          2,
          null
         ],
         "y": [
          5,
          2,
          null
         ]
        },
        {
         "hoverinfo": "text",
         "line": {
          "color": "cornflowerblue",
          "width": 0.46399220488268
         },
         "mode": "lines",
         "text": "0.232",
         "type": "scatter",
         "x": [
          1,
          2,
          null
         ],
         "y": [
          5,
          3,
          null
         ]
        },
        {
         "hoverinfo": "text",
         "line": {
          "color": "cornflowerblue",
          "width": 0.48024559747510526
         },
         "mode": "lines",
         "text": "0.24",
         "type": "scatter",
         "x": [
          1,
          2,
          null
         ],
         "y": [
          5,
          4,
          null
         ]
        },
        {
         "hoverinfo": "text",
         "line": {
          "color": "cornflowerblue",
          "width": 0.4244970871478759
         },
         "mode": "lines",
         "text": "0.212",
         "type": "scatter",
         "x": [
          1,
          2,
          null
         ],
         "y": [
          5,
          5,
          null
         ]
        },
        {
         "hoverinfo": "text",
         "line": {
          "color": "cornflowerblue",
          "width": 0.40070464644867515
         },
         "mode": "lines",
         "text": "0.2",
         "type": "scatter",
         "x": [
          1,
          2,
          null
         ],
         "y": [
          5,
          6,
          null
         ]
        },
        {
         "hoverinfo": "text",
         "line": {
          "color": "cornflowerblue",
          "width": 0.39630000881184024
         },
         "mode": "lines",
         "text": "0.198",
         "type": "scatter",
         "x": [
          1,
          2,
          null
         ],
         "y": [
          5,
          7,
          null
         ]
        },
        {
         "hoverinfo": "text",
         "line": {
          "color": "cornflowerblue",
          "width": 0.39552689232522753
         },
         "mode": "lines",
         "text": "0.198",
         "type": "scatter",
         "x": [
          1,
          2,
          null
         ],
         "y": [
          5,
          8,
          null
         ]
        },
        {
         "hoverinfo": "text",
         "line": {
          "color": "cornflowerblue",
          "width": 0.36178621714540654
         },
         "mode": "lines",
         "text": "0.181",
         "type": "scatter",
         "x": [
          1,
          2,
          null
         ],
         "y": [
          5,
          9,
          null
         ]
        },
        {
         "hoverinfo": "text",
         "line": {
          "color": "cornflowerblue",
          "width": 0.4536897113685076
         },
         "mode": "lines",
         "text": "0.227",
         "type": "scatter",
         "x": [
          1,
          2,
          null
         ],
         "y": [
          6,
          0,
          null
         ]
        },
        {
         "hoverinfo": "text",
         "line": {
          "color": "cornflowerblue",
          "width": 0.47800259351118113
         },
         "mode": "lines",
         "text": "0.239",
         "type": "scatter",
         "x": [
          1,
          2,
          null
         ],
         "y": [
          6,
          1,
          null
         ]
        },
        {
         "hoverinfo": "text",
         "line": {
          "color": "cornflowerblue",
          "width": 0.4338454050208136
         },
         "mode": "lines",
         "text": "0.217",
         "type": "scatter",
         "x": [
          1,
          2,
          null
         ],
         "y": [
          6,
          2,
          null
         ]
        },
        {
         "hoverinfo": "text",
         "line": {
          "color": "cornflowerblue",
          "width": 0.46188506842300553
         },
         "mode": "lines",
         "text": "0.231",
         "type": "scatter",
         "x": [
          1,
          2,
          null
         ],
         "y": [
          6,
          3,
          null
         ]
        },
        {
         "hoverinfo": "text",
         "line": {
          "color": "cornflowerblue",
          "width": 0.44845854394539897
         },
         "mode": "lines",
         "text": "0.224",
         "type": "scatter",
         "x": [
          1,
          2,
          null
         ],
         "y": [
          6,
          4,
          null
         ]
        },
        {
         "hoverinfo": "text",
         "line": {
          "color": "cornflowerblue",
          "width": 0.4517988504523643
         },
         "mode": "lines",
         "text": "0.226",
         "type": "scatter",
         "x": [
          1,
          2,
          null
         ],
         "y": [
          6,
          5,
          null
         ]
        },
        {
         "hoverinfo": "text",
         "line": {
          "color": "cornflowerblue",
          "width": 0.40901465159934003
         },
         "mode": "lines",
         "text": "0.205",
         "type": "scatter",
         "x": [
          1,
          2,
          null
         ],
         "y": [
          6,
          6,
          null
         ]
        },
        {
         "hoverinfo": "text",
         "line": {
          "color": "cornflowerblue",
          "width": 0.4110003712728168
         },
         "mode": "lines",
         "text": "0.206",
         "type": "scatter",
         "x": [
          1,
          2,
          null
         ],
         "y": [
          6,
          7,
          null
         ]
        },
        {
         "hoverinfo": "text",
         "line": {
          "color": "cornflowerblue",
          "width": 0.40041998670469076
         },
         "mode": "lines",
         "text": "0.2",
         "type": "scatter",
         "x": [
          1,
          2,
          null
         ],
         "y": [
          6,
          8,
          null
         ]
        },
        {
         "hoverinfo": "text",
         "line": {
          "color": "cornflowerblue",
          "width": 0.3677115164484695
         },
         "mode": "lines",
         "text": "0.184",
         "type": "scatter",
         "x": [
          1,
          2,
          null
         ],
         "y": [
          6,
          9,
          null
         ]
        },
        {
         "hoverinfo": "text",
         "line": {
          "color": "cornflowerblue",
          "width": 0.44339071357407933
         },
         "mode": "lines",
         "text": "0.222",
         "type": "scatter",
         "x": [
          1,
          2,
          null
         ],
         "y": [
          7,
          0,
          null
         ]
        },
        {
         "hoverinfo": "text",
         "line": {
          "color": "cornflowerblue",
          "width": 0.4334456918033614
         },
         "mode": "lines",
         "text": "0.217",
         "type": "scatter",
         "x": [
          1,
          2,
          null
         ],
         "y": [
          7,
          1,
          null
         ]
        },
        {
         "hoverinfo": "text",
         "line": {
          "color": "cornflowerblue",
          "width": 0.4299550673469639
         },
         "mode": "lines",
         "text": "0.215",
         "type": "scatter",
         "x": [
          1,
          2,
          null
         ],
         "y": [
          7,
          2,
          null
         ]
        },
        {
         "hoverinfo": "text",
         "line": {
          "color": "cornflowerblue",
          "width": 0.44188100465563945
         },
         "mode": "lines",
         "text": "0.221",
         "type": "scatter",
         "x": [
          1,
          2,
          null
         ],
         "y": [
          7,
          3,
          null
         ]
        },
        {
         "hoverinfo": "text",
         "line": {
          "color": "cornflowerblue",
          "width": 0.44405288821899264
         },
         "mode": "lines",
         "text": "0.222",
         "type": "scatter",
         "x": [
          1,
          2,
          null
         ],
         "y": [
          7,
          4,
          null
         ]
        },
        {
         "hoverinfo": "text",
         "line": {
          "color": "cornflowerblue",
          "width": 0.4199069443199638
         },
         "mode": "lines",
         "text": "0.21",
         "type": "scatter",
         "x": [
          1,
          2,
          null
         ],
         "y": [
          7,
          5,
          null
         ]
        },
        {
         "hoverinfo": "text",
         "line": {
          "color": "cornflowerblue",
          "width": 0.4209831511715882
         },
         "mode": "lines",
         "text": "0.21",
         "type": "scatter",
         "x": [
          1,
          2,
          null
         ],
         "y": [
          7,
          6,
          null
         ]
        },
        {
         "hoverinfo": "text",
         "line": {
          "color": "cornflowerblue",
          "width": 0.4248504103992444
         },
         "mode": "lines",
         "text": "0.212",
         "type": "scatter",
         "x": [
          1,
          2,
          null
         ],
         "y": [
          7,
          7,
          null
         ]
        },
        {
         "hoverinfo": "text",
         "line": {
          "color": "cornflowerblue",
          "width": 0.40730233295530754
         },
         "mode": "lines",
         "text": "0.204",
         "type": "scatter",
         "x": [
          1,
          2,
          null
         ],
         "y": [
          7,
          8,
          null
         ]
        },
        {
         "hoverinfo": "text",
         "line": {
          "color": "cornflowerblue",
          "width": 0.4215712293163199
         },
         "mode": "lines",
         "text": "0.211",
         "type": "scatter",
         "x": [
          1,
          2,
          null
         ],
         "y": [
          7,
          9,
          null
         ]
        },
        {
         "hoverinfo": "text",
         "line": {
          "color": "cornflowerblue",
          "width": 0.5651495571356233
         },
         "mode": "lines",
         "text": "0.283",
         "type": "scatter",
         "x": [
          2,
          3,
          null
         ],
         "y": [
          0,
          0,
          null
         ]
        },
        {
         "hoverinfo": "text",
         "line": {
          "color": "cornflowerblue",
          "width": 0.5165992718306235
         },
         "mode": "lines",
         "text": "0.258",
         "type": "scatter",
         "x": [
          2,
          3,
          null
         ],
         "y": [
          0,
          1,
          null
         ]
        },
        {
         "hoverinfo": "text",
         "line": {
          "color": "cornflowerblue",
          "width": 0.4921398027279964
         },
         "mode": "lines",
         "text": "0.246",
         "type": "scatter",
         "x": [
          2,
          3,
          null
         ],
         "y": [
          0,
          2,
          null
         ]
        },
        {
         "hoverinfo": "text",
         "line": {
          "color": "cornflowerblue",
          "width": 0.9584389858426784
         },
         "mode": "lines",
         "text": "0.479",
         "type": "scatter",
         "x": [
          2,
          3,
          null
         ],
         "y": [
          0,
          3,
          null
         ]
        },
        {
         "hoverinfo": "text",
         "line": {
          "color": "cornflowerblue",
          "width": 0.4781836141844898
         },
         "mode": "lines",
         "text": "0.239",
         "type": "scatter",
         "x": [
          2,
          3,
          null
         ],
         "y": [
          0,
          4,
          null
         ]
        },
        {
         "hoverinfo": "text",
         "line": {
          "color": "cornflowerblue",
          "width": 0.5883422435020631
         },
         "mode": "lines",
         "text": "0.294",
         "type": "scatter",
         "x": [
          2,
          3,
          null
         ],
         "y": [
          0,
          5,
          null
         ]
        },
        {
         "hoverinfo": "text",
         "line": {
          "color": "cornflowerblue",
          "width": 0.4450806392934528
         },
         "mode": "lines",
         "text": "0.223",
         "type": "scatter",
         "x": [
          2,
          3,
          null
         ],
         "y": [
          0,
          6,
          null
         ]
        },
        {
         "hoverinfo": "text",
         "line": {
          "color": "cornflowerblue",
          "width": 0.372772385286239
         },
         "mode": "lines",
         "text": "0.186",
         "type": "scatter",
         "x": [
          2,
          3,
          null
         ],
         "y": [
          0,
          8,
          null
         ]
        },
        {
         "hoverinfo": "text",
         "line": {
          "color": "cornflowerblue",
          "width": 0.48757460823897886
         },
         "mode": "lines",
         "text": "0.244",
         "type": "scatter",
         "x": [
          2,
          3,
          null
         ],
         "y": [
          1,
          0,
          null
         ]
        },
        {
         "hoverinfo": "text",
         "line": {
          "color": "cornflowerblue",
          "width": 0.5619538275695783
         },
         "mode": "lines",
         "text": "0.281",
         "type": "scatter",
         "x": [
          2,
          3,
          null
         ],
         "y": [
          1,
          1,
          null
         ]
        },
        {
         "hoverinfo": "text",
         "line": {
          "color": "cornflowerblue",
          "width": 0.6611023610962052
         },
         "mode": "lines",
         "text": "0.331",
         "type": "scatter",
         "x": [
          2,
          3,
          null
         ],
         "y": [
          1,
          2,
          null
         ]
        },
        {
         "hoverinfo": "text",
         "line": {
          "color": "cornflowerblue",
          "width": 0.5659131973798105
         },
         "mode": "lines",
         "text": "0.283",
         "type": "scatter",
         "x": [
          2,
          3,
          null
         ],
         "y": [
          1,
          3,
          null
         ]
        },
        {
         "hoverinfo": "text",
         "line": {
          "color": "cornflowerblue",
          "width": 0.47513644140756556
         },
         "mode": "lines",
         "text": "0.238",
         "type": "scatter",
         "x": [
          2,
          3,
          null
         ],
         "y": [
          1,
          4,
          null
         ]
        },
        {
         "hoverinfo": "text",
         "line": {
          "color": "cornflowerblue",
          "width": 0.5128976198668462
         },
         "mode": "lines",
         "text": "0.256",
         "type": "scatter",
         "x": [
          2,
          3,
          null
         ],
         "y": [
          1,
          5,
          null
         ]
        },
        {
         "hoverinfo": "text",
         "line": {
          "color": "cornflowerblue",
          "width": 0.4398611611835813
         },
         "mode": "lines",
         "text": "0.22",
         "type": "scatter",
         "x": [
          2,
          3,
          null
         ],
         "y": [
          1,
          6,
          null
         ]
        },
        {
         "hoverinfo": "text",
         "line": {
          "color": "cornflowerblue",
          "width": 0.3418239818982434
         },
         "mode": "lines",
         "text": "0.171",
         "type": "scatter",
         "x": [
          2,
          3,
          null
         ],
         "y": [
          1,
          8,
          null
         ]
        },
        {
         "hoverinfo": "text",
         "line": {
          "color": "cornflowerblue",
          "width": 0.4585215220722376
         },
         "mode": "lines",
         "text": "0.229",
         "type": "scatter",
         "x": [
          2,
          3,
          null
         ],
         "y": [
          2,
          0,
          null
         ]
        },
        {
         "hoverinfo": "text",
         "line": {
          "color": "cornflowerblue",
          "width": 0.4485158624373866
         },
         "mode": "lines",
         "text": "0.224",
         "type": "scatter",
         "x": [
          2,
          3,
          null
         ],
         "y": [
          2,
          1,
          null
         ]
        },
        {
         "hoverinfo": "text",
         "line": {
          "color": "cornflowerblue",
          "width": 0.444901085329718
         },
         "mode": "lines",
         "text": "0.222",
         "type": "scatter",
         "x": [
          2,
          3,
          null
         ],
         "y": [
          2,
          2,
          null
         ]
        },
        {
         "hoverinfo": "text",
         "line": {
          "color": "cornflowerblue",
          "width": 0.48919889816127177
         },
         "mode": "lines",
         "text": "0.245",
         "type": "scatter",
         "x": [
          2,
          3,
          null
         ],
         "y": [
          2,
          3,
          null
         ]
        },
        {
         "hoverinfo": "text",
         "line": {
          "color": "cornflowerblue",
          "width": 1.0956387675154038
         },
         "mode": "lines",
         "text": "0.548",
         "type": "scatter",
         "x": [
          2,
          3,
          null
         ],
         "y": [
          2,
          4,
          null
         ]
        },
        {
         "hoverinfo": "text",
         "line": {
          "color": "cornflowerblue",
          "width": 0.47281245387786375
         },
         "mode": "lines",
         "text": "0.236",
         "type": "scatter",
         "x": [
          2,
          3,
          null
         ],
         "y": [
          2,
          5,
          null
         ]
        },
        {
         "hoverinfo": "text",
         "line": {
          "color": "cornflowerblue",
          "width": 0.4188228892855627
         },
         "mode": "lines",
         "text": "0.209",
         "type": "scatter",
         "x": [
          2,
          3,
          null
         ],
         "y": [
          2,
          6,
          null
         ]
        },
        {
         "hoverinfo": "text",
         "line": {
          "color": "cornflowerblue",
          "width": 0.34886325728054696
         },
         "mode": "lines",
         "text": "0.174",
         "type": "scatter",
         "x": [
          2,
          3,
          null
         ],
         "y": [
          2,
          8,
          null
         ]
        },
        {
         "hoverinfo": "text",
         "line": {
          "color": "cornflowerblue",
          "width": 1.2863633592796802
         },
         "mode": "lines",
         "text": "0.643",
         "type": "scatter",
         "x": [
          2,
          3,
          null
         ],
         "y": [
          3,
          0,
          null
         ]
        },
        {
         "hoverinfo": "text",
         "line": {
          "color": "cornflowerblue",
          "width": 0.5379458094344214
         },
         "mode": "lines",
         "text": "0.269",
         "type": "scatter",
         "x": [
          2,
          3,
          null
         ],
         "y": [
          3,
          1,
          null
         ]
        },
        {
         "hoverinfo": "text",
         "line": {
          "color": "cornflowerblue",
          "width": 0.47225349536684935
         },
         "mode": "lines",
         "text": "0.236",
         "type": "scatter",
         "x": [
          2,
          3,
          null
         ],
         "y": [
          3,
          2,
          null
         ]
        },
        {
         "hoverinfo": "text",
         "line": {
          "color": "cornflowerblue",
          "width": 0.5585503629051749
         },
         "mode": "lines",
         "text": "0.279",
         "type": "scatter",
         "x": [
          2,
          3,
          null
         ],
         "y": [
          3,
          3,
          null
         ]
        },
        {
         "hoverinfo": "text",
         "line": {
          "color": "cornflowerblue",
          "width": 0.4590409973220264
         },
         "mode": "lines",
         "text": "0.23",
         "type": "scatter",
         "x": [
          2,
          3,
          null
         ],
         "y": [
          3,
          4,
          null
         ]
        },
        {
         "hoverinfo": "text",
         "line": {
          "color": "cornflowerblue",
          "width": 0.4981223727820352
         },
         "mode": "lines",
         "text": "0.249",
         "type": "scatter",
         "x": [
          2,
          3,
          null
         ],
         "y": [
          3,
          5,
          null
         ]
        },
        {
         "hoverinfo": "text",
         "line": {
          "color": "cornflowerblue",
          "width": 0.4364619955905537
         },
         "mode": "lines",
         "text": "0.218",
         "type": "scatter",
         "x": [
          2,
          3,
          null
         ],
         "y": [
          3,
          6,
          null
         ]
        },
        {
         "hoverinfo": "text",
         "line": {
          "color": "cornflowerblue",
          "width": 0.3637574852069688
         },
         "mode": "lines",
         "text": "0.182",
         "type": "scatter",
         "x": [
          2,
          3,
          null
         ],
         "y": [
          3,
          8,
          null
         ]
        },
        {
         "hoverinfo": "text",
         "line": {
          "color": "cornflowerblue",
          "width": 0.4977800476327234
         },
         "mode": "lines",
         "text": "0.249",
         "type": "scatter",
         "x": [
          2,
          3,
          null
         ],
         "y": [
          4,
          0,
          null
         ]
        },
        {
         "hoverinfo": "text",
         "line": {
          "color": "cornflowerblue",
          "width": 0.47747223958818835
         },
         "mode": "lines",
         "text": "0.239",
         "type": "scatter",
         "x": [
          2,
          3,
          null
         ],
         "y": [
          4,
          1,
          null
         ]
        },
        {
         "hoverinfo": "text",
         "line": {
          "color": "cornflowerblue",
          "width": 0.46935040564879704
         },
         "mode": "lines",
         "text": "0.235",
         "type": "scatter",
         "x": [
          2,
          3,
          null
         ],
         "y": [
          4,
          2,
          null
         ]
        },
        {
         "hoverinfo": "text",
         "line": {
          "color": "cornflowerblue",
          "width": 0.5848646442705131
         },
         "mode": "lines",
         "text": "0.292",
         "type": "scatter",
         "x": [
          2,
          3,
          null
         ],
         "y": [
          4,
          3,
          null
         ]
        },
        {
         "hoverinfo": "text",
         "line": {
          "color": "cornflowerblue",
          "width": 0.4648084248715485
         },
         "mode": "lines",
         "text": "0.232",
         "type": "scatter",
         "x": [
          2,
          3,
          null
         ],
         "y": [
          4,
          4,
          null
         ]
        },
        {
         "hoverinfo": "text",
         "line": {
          "color": "cornflowerblue",
          "width": 1.4666861469926362
         },
         "mode": "lines",
         "text": "0.733",
         "type": "scatter",
         "x": [
          2,
          3,
          null
         ],
         "y": [
          4,
          5,
          null
         ]
        },
        {
         "hoverinfo": "text",
         "line": {
          "color": "cornflowerblue",
          "width": 0.4275550015220774
         },
         "mode": "lines",
         "text": "0.214",
         "type": "scatter",
         "x": [
          2,
          3,
          null
         ],
         "y": [
          4,
          6,
          null
         ]
        },
        {
         "hoverinfo": "text",
         "line": {
          "color": "cornflowerblue",
          "width": 0.3673857960317667
         },
         "mode": "lines",
         "text": "0.184",
         "type": "scatter",
         "x": [
          2,
          3,
          null
         ],
         "y": [
          4,
          8,
          null
         ]
        },
        {
         "hoverinfo": "text",
         "line": {
          "color": "cornflowerblue",
          "width": 0.4483295763749608
         },
         "mode": "lines",
         "text": "0.224",
         "type": "scatter",
         "x": [
          2,
          3,
          null
         ],
         "y": [
          5,
          0,
          null
         ]
        },
        {
         "hoverinfo": "text",
         "line": {
          "color": "cornflowerblue",
          "width": 0.44903581054603064
         },
         "mode": "lines",
         "text": "0.225",
         "type": "scatter",
         "x": [
          2,
          3,
          null
         ],
         "y": [
          5,
          1,
          null
         ]
        },
        {
         "hoverinfo": "text",
         "line": {
          "color": "cornflowerblue",
          "width": 0.4624438520756835
         },
         "mode": "lines",
         "text": "0.231",
         "type": "scatter",
         "x": [
          2,
          3,
          null
         ],
         "y": [
          5,
          2,
          null
         ]
        },
        {
         "hoverinfo": "text",
         "line": {
          "color": "cornflowerblue",
          "width": 0.45277607992800495
         },
         "mode": "lines",
         "text": "0.226",
         "type": "scatter",
         "x": [
          2,
          3,
          null
         ],
         "y": [
          5,
          3,
          null
         ]
        },
        {
         "hoverinfo": "text",
         "line": {
          "color": "cornflowerblue",
          "width": 0.42493529125944857
         },
         "mode": "lines",
         "text": "0.212",
         "type": "scatter",
         "x": [
          2,
          3,
          null
         ],
         "y": [
          5,
          4,
          null
         ]
        },
        {
         "hoverinfo": "text",
         "line": {
          "color": "cornflowerblue",
          "width": 0.43946113318463775
         },
         "mode": "lines",
         "text": "0.22",
         "type": "scatter",
         "x": [
          2,
          3,
          null
         ],
         "y": [
          5,
          5,
          null
         ]
        },
        {
         "hoverinfo": "text",
         "line": {
          "color": "cornflowerblue",
          "width": 0.44227698589963454
         },
         "mode": "lines",
         "text": "0.221",
         "type": "scatter",
         "x": [
          2,
          3,
          null
         ],
         "y": [
          5,
          6,
          null
         ]
        },
        {
         "hoverinfo": "text",
         "line": {
          "color": "cornflowerblue",
          "width": 0.34025670528076324
         },
         "mode": "lines",
         "text": "0.17",
         "type": "scatter",
         "x": [
          2,
          3,
          null
         ],
         "y": [
          5,
          8,
          null
         ]
        },
        {
         "hoverinfo": "text",
         "line": {
          "color": "cornflowerblue",
          "width": 0.4203540839060592
         },
         "mode": "lines",
         "text": "0.21",
         "type": "scatter",
         "x": [
          2,
          3,
          null
         ],
         "y": [
          6,
          0,
          null
         ]
        },
        {
         "hoverinfo": "text",
         "line": {
          "color": "cornflowerblue",
          "width": 0.40480788757717173
         },
         "mode": "lines",
         "text": "0.202",
         "type": "scatter",
         "x": [
          2,
          3,
          null
         ],
         "y": [
          6,
          1,
          null
         ]
        },
        {
         "hoverinfo": "text",
         "line": {
          "color": "cornflowerblue",
          "width": 0.40517524071647654
         },
         "mode": "lines",
         "text": "0.203",
         "type": "scatter",
         "x": [
          2,
          3,
          null
         ],
         "y": [
          6,
          2,
          null
         ]
        },
        {
         "hoverinfo": "text",
         "line": {
          "color": "cornflowerblue",
          "width": 0.41400452980346253
         },
         "mode": "lines",
         "text": "0.207",
         "type": "scatter",
         "x": [
          2,
          3,
          null
         ],
         "y": [
          6,
          3,
          null
         ]
        },
        {
         "hoverinfo": "text",
         "line": {
          "color": "cornflowerblue",
          "width": 0.399274927261901
         },
         "mode": "lines",
         "text": "0.2",
         "type": "scatter",
         "x": [
          2,
          3,
          null
         ],
         "y": [
          6,
          4,
          null
         ]
        },
        {
         "hoverinfo": "text",
         "line": {
          "color": "cornflowerblue",
          "width": 0.4171987387386451
         },
         "mode": "lines",
         "text": "0.209",
         "type": "scatter",
         "x": [
          2,
          3,
          null
         ],
         "y": [
          6,
          5,
          null
         ]
        },
        {
         "hoverinfo": "text",
         "line": {
          "color": "cornflowerblue",
          "width": 0.3960133327403524
         },
         "mode": "lines",
         "text": "0.198",
         "type": "scatter",
         "x": [
          2,
          3,
          null
         ],
         "y": [
          6,
          6,
          null
         ]
        },
        {
         "hoverinfo": "text",
         "line": {
          "color": "cornflowerblue",
          "width": 0.416377741685744
         },
         "mode": "lines",
         "text": "0.208",
         "type": "scatter",
         "x": [
          2,
          3,
          null
         ],
         "y": [
          6,
          8,
          null
         ]
        },
        {
         "hoverinfo": "text",
         "line": {
          "color": "cornflowerblue",
          "width": 0.4102610053860541
         },
         "mode": "lines",
         "text": "0.205",
         "type": "scatter",
         "x": [
          2,
          3,
          null
         ],
         "y": [
          7,
          0,
          null
         ]
        },
        {
         "hoverinfo": "text",
         "line": {
          "color": "cornflowerblue",
          "width": 0.39990576425870283
         },
         "mode": "lines",
         "text": "0.2",
         "type": "scatter",
         "x": [
          2,
          3,
          null
         ],
         "y": [
          7,
          1,
          null
         ]
        },
        {
         "hoverinfo": "text",
         "line": {
          "color": "cornflowerblue",
          "width": 0.40979659257878703
         },
         "mode": "lines",
         "text": "0.205",
         "type": "scatter",
         "x": [
          2,
          3,
          null
         ],
         "y": [
          7,
          2,
          null
         ]
        },
        {
         "hoverinfo": "text",
         "line": {
          "color": "cornflowerblue",
          "width": 0.4162385127233101
         },
         "mode": "lines",
         "text": "0.208",
         "type": "scatter",
         "x": [
          2,
          3,
          null
         ],
         "y": [
          7,
          3,
          null
         ]
        },
        {
         "hoverinfo": "text",
         "line": {
          "color": "cornflowerblue",
          "width": 0.3944403997873769
         },
         "mode": "lines",
         "text": "0.197",
         "type": "scatter",
         "x": [
          2,
          3,
          null
         ],
         "y": [
          7,
          4,
          null
         ]
        },
        {
         "hoverinfo": "text",
         "line": {
          "color": "cornflowerblue",
          "width": 0.4164539613929707
         },
         "mode": "lines",
         "text": "0.208",
         "type": "scatter",
         "x": [
          2,
          3,
          null
         ],
         "y": [
          7,
          5,
          null
         ]
        },
        {
         "hoverinfo": "text",
         "line": {
          "color": "cornflowerblue",
          "width": 0.3964153250925102
         },
         "mode": "lines",
         "text": "0.198",
         "type": "scatter",
         "x": [
          2,
          3,
          null
         ],
         "y": [
          7,
          6,
          null
         ]
        },
        {
         "hoverinfo": "text",
         "line": {
          "color": "cornflowerblue",
          "width": 0.3837587338741807
         },
         "mode": "lines",
         "text": "0.192",
         "type": "scatter",
         "x": [
          2,
          3,
          null
         ],
         "y": [
          7,
          8,
          null
         ]
        },
        {
         "hoverinfo": "text",
         "line": {
          "color": "cornflowerblue",
          "width": 0.40501920492030424
         },
         "mode": "lines",
         "text": "0.203",
         "type": "scatter",
         "x": [
          2,
          3,
          null
         ],
         "y": [
          8,
          0,
          null
         ]
        },
        {
         "hoverinfo": "text",
         "line": {
          "color": "cornflowerblue",
          "width": 0.4487890285963735
         },
         "mode": "lines",
         "text": "0.224",
         "type": "scatter",
         "x": [
          2,
          3,
          null
         ],
         "y": [
          8,
          1,
          null
         ]
        },
        {
         "hoverinfo": "text",
         "line": {
          "color": "cornflowerblue",
          "width": 0.3964178748454661
         },
         "mode": "lines",
         "text": "0.198",
         "type": "scatter",
         "x": [
          2,
          3,
          null
         ],
         "y": [
          8,
          2,
          null
         ]
        },
        {
         "hoverinfo": "text",
         "line": {
          "color": "cornflowerblue",
          "width": 0.4087305695726686
         },
         "mode": "lines",
         "text": "0.204",
         "type": "scatter",
         "x": [
          2,
          3,
          null
         ],
         "y": [
          8,
          3,
          null
         ]
        },
        {
         "hoverinfo": "text",
         "line": {
          "color": "cornflowerblue",
          "width": 0.3961333820207967
         },
         "mode": "lines",
         "text": "0.198",
         "type": "scatter",
         "x": [
          2,
          3,
          null
         ],
         "y": [
          8,
          4,
          null
         ]
        },
        {
         "hoverinfo": "text",
         "line": {
          "color": "cornflowerblue",
          "width": 0.4061116824277215
         },
         "mode": "lines",
         "text": "0.203",
         "type": "scatter",
         "x": [
          2,
          3,
          null
         ],
         "y": [
          8,
          5,
          null
         ]
        },
        {
         "hoverinfo": "text",
         "line": {
          "color": "cornflowerblue",
          "width": 0.38788156343390445
         },
         "mode": "lines",
         "text": "0.194",
         "type": "scatter",
         "x": [
          2,
          3,
          null
         ],
         "y": [
          8,
          6,
          null
         ]
        },
        {
         "hoverinfo": "text",
         "line": {
          "color": "cornflowerblue",
          "width": 0.38590446534195016
         },
         "mode": "lines",
         "text": "0.193",
         "type": "scatter",
         "x": [
          2,
          3,
          null
         ],
         "y": [
          8,
          8,
          null
         ]
        },
        {
         "hoverinfo": "text",
         "line": {
          "color": "cornflowerblue",
          "width": 0.38331162875337293
         },
         "mode": "lines",
         "text": "0.192",
         "type": "scatter",
         "x": [
          2,
          3,
          null
         ],
         "y": [
          9,
          0,
          null
         ]
        },
        {
         "hoverinfo": "text",
         "line": {
          "color": "cornflowerblue",
          "width": 0.37880901237378384
         },
         "mode": "lines",
         "text": "0.189",
         "type": "scatter",
         "x": [
          2,
          3,
          null
         ],
         "y": [
          9,
          1,
          null
         ]
        },
        {
         "hoverinfo": "text",
         "line": {
          "color": "cornflowerblue",
          "width": 0.3603819237324046
         },
         "mode": "lines",
         "text": "0.18",
         "type": "scatter",
         "x": [
          2,
          3,
          null
         ],
         "y": [
          9,
          2,
          null
         ]
        },
        {
         "hoverinfo": "text",
         "line": {
          "color": "cornflowerblue",
          "width": 0.3790509431809117
         },
         "mode": "lines",
         "text": "0.19",
         "type": "scatter",
         "x": [
          2,
          3,
          null
         ],
         "y": [
          9,
          3,
          null
         ]
        },
        {
         "hoverinfo": "text",
         "line": {
          "color": "cornflowerblue",
          "width": 0.35996666169298863
         },
         "mode": "lines",
         "text": "0.18",
         "type": "scatter",
         "x": [
          2,
          3,
          null
         ],
         "y": [
          9,
          4,
          null
         ]
        },
        {
         "hoverinfo": "text",
         "line": {
          "color": "cornflowerblue",
          "width": 0.3848658892680415
         },
         "mode": "lines",
         "text": "0.192",
         "type": "scatter",
         "x": [
          2,
          3,
          null
         ],
         "y": [
          9,
          5,
          null
         ]
        },
        {
         "hoverinfo": "text",
         "line": {
          "color": "cornflowerblue",
          "width": 0.360550700968845
         },
         "mode": "lines",
         "text": "0.18",
         "type": "scatter",
         "x": [
          2,
          3,
          null
         ],
         "y": [
          9,
          6,
          null
         ]
        },
        {
         "hoverinfo": "text",
         "line": {
          "color": "cornflowerblue",
          "width": 0.37724698199554224
         },
         "mode": "lines",
         "text": "0.189",
         "type": "scatter",
         "x": [
          2,
          3,
          null
         ],
         "y": [
          9,
          7,
          null
         ]
        },
        {
         "hoverinfo": "text",
         "line": {
          "color": "cornflowerblue",
          "width": 0.6961317860876014
         },
         "mode": "lines",
         "text": "0.348",
         "type": "scatter",
         "x": [
          2,
          3,
          null
         ],
         "y": [
          9,
          8,
          null
         ]
        },
        {
         "hoverinfo": "text",
         "line": {
          "color": "cornflowerblue",
          "width": 0.4689141011363026
         },
         "mode": "lines",
         "text": "0.234",
         "type": "scatter",
         "x": [
          3,
          4,
          null
         ],
         "y": [
          0,
          0,
          null
         ]
        },
        {
         "hoverinfo": "text",
         "line": {
          "color": "cornflowerblue",
          "width": 0.43483100749563186
         },
         "mode": "lines",
         "text": "0.217",
         "type": "scatter",
         "x": [
          3,
          4,
          null
         ],
         "y": [
          0,
          1,
          null
         ]
        },
        {
         "hoverinfo": "text",
         "line": {
          "color": "cornflowerblue",
          "width": 0.4658950344505952
         },
         "mode": "lines",
         "text": "0.233",
         "type": "scatter",
         "x": [
          3,
          4,
          null
         ],
         "y": [
          0,
          2,
          null
         ]
        },
        {
         "hoverinfo": "text",
         "line": {
          "color": "cornflowerblue",
          "width": 1.3008862830221344
         },
         "mode": "lines",
         "text": "0.65",
         "type": "scatter",
         "x": [
          3,
          4,
          null
         ],
         "y": [
          0,
          3,
          null
         ]
        },
        {
         "hoverinfo": "text",
         "line": {
          "color": "cornflowerblue",
          "width": 0.5159343147162688
         },
         "mode": "lines",
         "text": "0.258",
         "type": "scatter",
         "x": [
          3,
          4,
          null
         ],
         "y": [
          0,
          4,
          null
         ]
        },
        {
         "hoverinfo": "text",
         "line": {
          "color": "cornflowerblue",
          "width": 0.508011439154525
         },
         "mode": "lines",
         "text": "0.254",
         "type": "scatter",
         "x": [
          3,
          4,
          null
         ],
         "y": [
          0,
          5,
          null
         ]
        },
        {
         "hoverinfo": "text",
         "line": {
          "color": "cornflowerblue",
          "width": 0.44376555621000874
         },
         "mode": "lines",
         "text": "0.222",
         "type": "scatter",
         "x": [
          3,
          4,
          null
         ],
         "y": [
          0,
          6,
          null
         ]
        },
        {
         "hoverinfo": "text",
         "line": {
          "color": "cornflowerblue",
          "width": 0.43595662350572123
         },
         "mode": "lines",
         "text": "0.218",
         "type": "scatter",
         "x": [
          3,
          4,
          null
         ],
         "y": [
          0,
          7,
          null
         ]
        },
        {
         "hoverinfo": "text",
         "line": {
          "color": "cornflowerblue",
          "width": 0.45824166754161644
         },
         "mode": "lines",
         "text": "0.229",
         "type": "scatter",
         "x": [
          3,
          4,
          null
         ],
         "y": [
          1,
          0,
          null
         ]
        },
        {
         "hoverinfo": "text",
         "line": {
          "color": "cornflowerblue",
          "width": 0.441845916468433
         },
         "mode": "lines",
         "text": "0.221",
         "type": "scatter",
         "x": [
          3,
          4,
          null
         ],
         "y": [
          1,
          1,
          null
         ]
        },
        {
         "hoverinfo": "text",
         "line": {
          "color": "cornflowerblue",
          "width": 0.45707072668936805
         },
         "mode": "lines",
         "text": "0.229",
         "type": "scatter",
         "x": [
          3,
          4,
          null
         ],
         "y": [
          1,
          2,
          null
         ]
        },
        {
         "hoverinfo": "text",
         "line": {
          "color": "cornflowerblue",
          "width": 0.5234197713400253
         },
         "mode": "lines",
         "text": "0.262",
         "type": "scatter",
         "x": [
          3,
          4,
          null
         ],
         "y": [
          1,
          3,
          null
         ]
        },
        {
         "hoverinfo": "text",
         "line": {
          "color": "cornflowerblue",
          "width": 0.6819739059851538
         },
         "mode": "lines",
         "text": "0.341",
         "type": "scatter",
         "x": [
          3,
          4,
          null
         ],
         "y": [
          1,
          4,
          null
         ]
        },
        {
         "hoverinfo": "text",
         "line": {
          "color": "cornflowerblue",
          "width": 0.4856646309294631
         },
         "mode": "lines",
         "text": "0.243",
         "type": "scatter",
         "x": [
          3,
          4,
          null
         ],
         "y": [
          1,
          5,
          null
         ]
        },
        {
         "hoverinfo": "text",
         "line": {
          "color": "cornflowerblue",
          "width": 0.4171894334115849
         },
         "mode": "lines",
         "text": "0.209",
         "type": "scatter",
         "x": [
          3,
          4,
          null
         ],
         "y": [
          1,
          6,
          null
         ]
        },
        {
         "hoverinfo": "text",
         "line": {
          "color": "cornflowerblue",
          "width": 0.42010897794505436
         },
         "mode": "lines",
         "text": "0.21",
         "type": "scatter",
         "x": [
          3,
          4,
          null
         ],
         "y": [
          1,
          7,
          null
         ]
        },
        {
         "hoverinfo": "text",
         "line": {
          "color": "cornflowerblue",
          "width": 0.4570905431645181
         },
         "mode": "lines",
         "text": "0.229",
         "type": "scatter",
         "x": [
          3,
          4,
          null
         ],
         "y": [
          2,
          0,
          null
         ]
        },
        {
         "hoverinfo": "text",
         "line": {
          "color": "cornflowerblue",
          "width": 0.5248300583342091
         },
         "mode": "lines",
         "text": "0.262",
         "type": "scatter",
         "x": [
          3,
          4,
          null
         ],
         "y": [
          2,
          1,
          null
         ]
        },
        {
         "hoverinfo": "text",
         "line": {
          "color": "cornflowerblue",
          "width": 0.49642649606989725
         },
         "mode": "lines",
         "text": "0.248",
         "type": "scatter",
         "x": [
          3,
          4,
          null
         ],
         "y": [
          2,
          2,
          null
         ]
        },
        {
         "hoverinfo": "text",
         "line": {
          "color": "cornflowerblue",
          "width": 0.47246898650001334
         },
         "mode": "lines",
         "text": "0.236",
         "type": "scatter",
         "x": [
          3,
          4,
          null
         ],
         "y": [
          2,
          3,
          null
         ]
        },
        {
         "hoverinfo": "text",
         "line": {
          "color": "cornflowerblue",
          "width": 0.5911577758273928
         },
         "mode": "lines",
         "text": "0.296",
         "type": "scatter",
         "x": [
          3,
          4,
          null
         ],
         "y": [
          2,
          4,
          null
         ]
        },
        {
         "hoverinfo": "text",
         "line": {
          "color": "cornflowerblue",
          "width": 0.47866956438623753
         },
         "mode": "lines",
         "text": "0.239",
         "type": "scatter",
         "x": [
          3,
          4,
          null
         ],
         "y": [
          2,
          5,
          null
         ]
        },
        {
         "hoverinfo": "text",
         "line": {
          "color": "cornflowerblue",
          "width": 0.4216646501391937
         },
         "mode": "lines",
         "text": "0.211",
         "type": "scatter",
         "x": [
          3,
          4,
          null
         ],
         "y": [
          2,
          6,
          null
         ]
        },
        {
         "hoverinfo": "text",
         "line": {
          "color": "cornflowerblue",
          "width": 0.42263619058961105
         },
         "mode": "lines",
         "text": "0.211",
         "type": "scatter",
         "x": [
          3,
          4,
          null
         ],
         "y": [
          2,
          7,
          null
         ]
        },
        {
         "hoverinfo": "text",
         "line": {
          "color": "cornflowerblue",
          "width": 0.5003536687934608
         },
         "mode": "lines",
         "text": "0.25",
         "type": "scatter",
         "x": [
          3,
          4,
          null
         ],
         "y": [
          3,
          0,
          null
         ]
        },
        {
         "hoverinfo": "text",
         "line": {
          "color": "cornflowerblue",
          "width": 0.4407786103895966
         },
         "mode": "lines",
         "text": "0.22",
         "type": "scatter",
         "x": [
          3,
          4,
          null
         ],
         "y": [
          3,
          1,
          null
         ]
        },
        {
         "hoverinfo": "text",
         "line": {
          "color": "cornflowerblue",
          "width": 0.4666100375497962
         },
         "mode": "lines",
         "text": "0.233",
         "type": "scatter",
         "x": [
          3,
          4,
          null
         ],
         "y": [
          3,
          2,
          null
         ]
        },
        {
         "hoverinfo": "text",
         "line": {
          "color": "cornflowerblue",
          "width": 0.6013391336983582
         },
         "mode": "lines",
         "text": "0.301",
         "type": "scatter",
         "x": [
          3,
          4,
          null
         ],
         "y": [
          3,
          3,
          null
         ]
        },
        {
         "hoverinfo": "text",
         "line": {
          "color": "cornflowerblue",
          "width": 0.6088389401846918
         },
         "mode": "lines",
         "text": "0.304",
         "type": "scatter",
         "x": [
          3,
          4,
          null
         ],
         "y": [
          3,
          4,
          null
         ]
        },
        {
         "hoverinfo": "text",
         "line": {
          "color": "cornflowerblue",
          "width": 0.6394137612070384
         },
         "mode": "lines",
         "text": "0.32",
         "type": "scatter",
         "x": [
          3,
          4,
          null
         ],
         "y": [
          3,
          5,
          null
         ]
        },
        {
         "hoverinfo": "text",
         "line": {
          "color": "cornflowerblue",
          "width": 0.43875561681330705
         },
         "mode": "lines",
         "text": "0.219",
         "type": "scatter",
         "x": [
          3,
          4,
          null
         ],
         "y": [
          3,
          6,
          null
         ]
        },
        {
         "hoverinfo": "text",
         "line": {
          "color": "cornflowerblue",
          "width": 0.43901846814642864
         },
         "mode": "lines",
         "text": "0.22",
         "type": "scatter",
         "x": [
          3,
          4,
          null
         ],
         "y": [
          3,
          7,
          null
         ]
        },
        {
         "hoverinfo": "text",
         "line": {
          "color": "cornflowerblue",
          "width": 1.0759596020696387
         },
         "mode": "lines",
         "text": "0.538",
         "type": "scatter",
         "x": [
          3,
          4,
          null
         ],
         "y": [
          4,
          0,
          null
         ]
        },
        {
         "hoverinfo": "text",
         "line": {
          "color": "cornflowerblue",
          "width": 0.4150478066977313
         },
         "mode": "lines",
         "text": "0.208",
         "type": "scatter",
         "x": [
          3,
          4,
          null
         ],
         "y": [
          4,
          1,
          null
         ]
        },
        {
         "hoverinfo": "text",
         "line": {
          "color": "cornflowerblue",
          "width": 0.4299494043403904
         },
         "mode": "lines",
         "text": "0.215",
         "type": "scatter",
         "x": [
          3,
          4,
          null
         ],
         "y": [
          4,
          2,
          null
         ]
        },
        {
         "hoverinfo": "text",
         "line": {
          "color": "cornflowerblue",
          "width": 0.45979650928460253
         },
         "mode": "lines",
         "text": "0.23",
         "type": "scatter",
         "x": [
          3,
          4,
          null
         ],
         "y": [
          4,
          3,
          null
         ]
        },
        {
         "hoverinfo": "text",
         "line": {
          "color": "cornflowerblue",
          "width": 0.4709217178544147
         },
         "mode": "lines",
         "text": "0.235",
         "type": "scatter",
         "x": [
          3,
          4,
          null
         ],
         "y": [
          4,
          4,
          null
         ]
        },
        {
         "hoverinfo": "text",
         "line": {
          "color": "cornflowerblue",
          "width": 0.46838415121701304
         },
         "mode": "lines",
         "text": "0.234",
         "type": "scatter",
         "x": [
          3,
          4,
          null
         ],
         "y": [
          4,
          5,
          null
         ]
        },
        {
         "hoverinfo": "text",
         "line": {
          "color": "cornflowerblue",
          "width": 0.41726490886409273
         },
         "mode": "lines",
         "text": "0.209",
         "type": "scatter",
         "x": [
          3,
          4,
          null
         ],
         "y": [
          4,
          6,
          null
         ]
        },
        {
         "hoverinfo": "text",
         "line": {
          "color": "cornflowerblue",
          "width": 0.42054541375485
         },
         "mode": "lines",
         "text": "0.21",
         "type": "scatter",
         "x": [
          3,
          4,
          null
         ],
         "y": [
          4,
          7,
          null
         ]
        },
        {
         "hoverinfo": "text",
         "line": {
          "color": "cornflowerblue",
          "width": 0.4865616401725492
         },
         "mode": "lines",
         "text": "0.243",
         "type": "scatter",
         "x": [
          3,
          4,
          null
         ],
         "y": [
          5,
          0,
          null
         ]
        },
        {
         "hoverinfo": "text",
         "line": {
          "color": "cornflowerblue",
          "width": 0.4280446281276113
         },
         "mode": "lines",
         "text": "0.214",
         "type": "scatter",
         "x": [
          3,
          4,
          null
         ],
         "y": [
          5,
          1,
          null
         ]
        },
        {
         "hoverinfo": "text",
         "line": {
          "color": "cornflowerblue",
          "width": 0.44628584601458393
         },
         "mode": "lines",
         "text": "0.223",
         "type": "scatter",
         "x": [
          3,
          4,
          null
         ],
         "y": [
          5,
          2,
          null
         ]
        },
        {
         "hoverinfo": "text",
         "line": {
          "color": "cornflowerblue",
          "width": 0.5042835779963583
         },
         "mode": "lines",
         "text": "0.252",
         "type": "scatter",
         "x": [
          3,
          4,
          null
         ],
         "y": [
          5,
          3,
          null
         ]
        },
        {
         "hoverinfo": "text",
         "line": {
          "color": "cornflowerblue",
          "width": 0.5109432396999726
         },
         "mode": "lines",
         "text": "0.255",
         "type": "scatter",
         "x": [
          3,
          4,
          null
         ],
         "y": [
          5,
          4,
          null
         ]
        },
        {
         "hoverinfo": "text",
         "line": {
          "color": "cornflowerblue",
          "width": 1.3146361086578648
         },
         "mode": "lines",
         "text": "0.657",
         "type": "scatter",
         "x": [
          3,
          4,
          null
         ],
         "y": [
          5,
          5,
          null
         ]
        },
        {
         "hoverinfo": "text",
         "line": {
          "color": "cornflowerblue",
          "width": 0.43425439088143
         },
         "mode": "lines",
         "text": "0.217",
         "type": "scatter",
         "x": [
          3,
          4,
          null
         ],
         "y": [
          5,
          6,
          null
         ]
        },
        {
         "hoverinfo": "text",
         "line": {
          "color": "cornflowerblue",
          "width": 0.4323441674077731
         },
         "mode": "lines",
         "text": "0.216",
         "type": "scatter",
         "x": [
          3,
          4,
          null
         ],
         "y": [
          5,
          7,
          null
         ]
        },
        {
         "hoverinfo": "text",
         "line": {
          "color": "cornflowerblue",
          "width": 0.4228374591255445
         },
         "mode": "lines",
         "text": "0.211",
         "type": "scatter",
         "x": [
          3,
          4,
          null
         ],
         "y": [
          6,
          0,
          null
         ]
        },
        {
         "hoverinfo": "text",
         "line": {
          "color": "cornflowerblue",
          "width": 0.4240014256048362
         },
         "mode": "lines",
         "text": "0.212",
         "type": "scatter",
         "x": [
          3,
          4,
          null
         ],
         "y": [
          6,
          1,
          null
         ]
        },
        {
         "hoverinfo": "text",
         "line": {
          "color": "cornflowerblue",
          "width": 0.4376230112163318
         },
         "mode": "lines",
         "text": "0.219",
         "type": "scatter",
         "x": [
          3,
          4,
          null
         ],
         "y": [
          6,
          2,
          null
         ]
        },
        {
         "hoverinfo": "text",
         "line": {
          "color": "cornflowerblue",
          "width": 0.4356781159277546
         },
         "mode": "lines",
         "text": "0.218",
         "type": "scatter",
         "x": [
          3,
          4,
          null
         ],
         "y": [
          6,
          3,
          null
         ]
        },
        {
         "hoverinfo": "text",
         "line": {
          "color": "cornflowerblue",
          "width": 0.4443172477123401
         },
         "mode": "lines",
         "text": "0.222",
         "type": "scatter",
         "x": [
          3,
          4,
          null
         ],
         "y": [
          6,
          4,
          null
         ]
        },
        {
         "hoverinfo": "text",
         "line": {
          "color": "cornflowerblue",
          "width": 0.43460014579223627
         },
         "mode": "lines",
         "text": "0.217",
         "type": "scatter",
         "x": [
          3,
          4,
          null
         ],
         "y": [
          6,
          5,
          null
         ]
        },
        {
         "hoverinfo": "text",
         "line": {
          "color": "cornflowerblue",
          "width": 0.4099289010752387
         },
         "mode": "lines",
         "text": "0.205",
         "type": "scatter",
         "x": [
          3,
          4,
          null
         ],
         "y": [
          6,
          6,
          null
         ]
        },
        {
         "hoverinfo": "text",
         "line": {
          "color": "cornflowerblue",
          "width": 0.4095137203347495
         },
         "mode": "lines",
         "text": "0.205",
         "type": "scatter",
         "x": [
          3,
          4,
          null
         ],
         "y": [
          6,
          7,
          null
         ]
        },
        {
         "hoverinfo": "text",
         "line": {
          "color": "cornflowerblue",
          "width": 0.3597343421306587
         },
         "mode": "lines",
         "text": "0.18",
         "type": "scatter",
         "x": [
          3,
          4,
          null
         ],
         "y": [
          8,
          0,
          null
         ]
        },
        {
         "hoverinfo": "text",
         "line": {
          "color": "cornflowerblue",
          "width": 0.34183980438289585
         },
         "mode": "lines",
         "text": "0.171",
         "type": "scatter",
         "x": [
          3,
          4,
          null
         ],
         "y": [
          8,
          2,
          null
         ]
        },
        {
         "hoverinfo": "text",
         "line": {
          "color": "cornflowerblue",
          "width": 0.34056221497008066
         },
         "mode": "lines",
         "text": "0.17",
         "type": "scatter",
         "x": [
          3,
          4,
          null
         ],
         "y": [
          8,
          3,
          null
         ]
        },
        {
         "hoverinfo": "text",
         "line": {
          "color": "cornflowerblue",
          "width": 0.35928590597220844
         },
         "mode": "lines",
         "text": "0.18",
         "type": "scatter",
         "x": [
          3,
          4,
          null
         ],
         "y": [
          8,
          4,
          null
         ]
        },
        {
         "hoverinfo": "text",
         "line": {
          "color": "cornflowerblue",
          "width": 0.4339962228512009
         },
         "mode": "lines",
         "text": "0.217",
         "type": "scatter",
         "x": [
          3,
          4,
          null
         ],
         "y": [
          8,
          6,
          null
         ]
        },
        {
         "hoverinfo": "text",
         "line": {
          "color": "cornflowerblue",
          "width": 0.4284469223603063
         },
         "mode": "lines",
         "text": "0.214",
         "type": "scatter",
         "x": [
          3,
          4,
          null
         ],
         "y": [
          8,
          7,
          null
         ]
        },
        {
         "hoverinfo": "text",
         "line": {
          "color": "cornflowerblue",
          "width": 0.49018568728393397
         },
         "mode": "lines",
         "text": "0.245",
         "type": "scatter",
         "x": [
          4,
          5,
          null
         ],
         "y": [
          0,
          0,
          null
         ]
        },
        {
         "hoverinfo": "text",
         "line": {
          "color": "cornflowerblue",
          "width": 1.173294043312608
         },
         "mode": "lines",
         "text": "0.587",
         "type": "scatter",
         "x": [
          4,
          5,
          null
         ],
         "y": [
          0,
          1,
          null
         ]
        },
        {
         "hoverinfo": "text",
         "line": {
          "color": "cornflowerblue",
          "width": 0.48809717767435246
         },
         "mode": "lines",
         "text": "0.244",
         "type": "scatter",
         "x": [
          4,
          5,
          null
         ],
         "y": [
          0,
          2,
          null
         ]
        },
        {
         "hoverinfo": "text",
         "line": {
          "color": "cornflowerblue",
          "width": 0.47890098248775115
         },
         "mode": "lines",
         "text": "0.239",
         "type": "scatter",
         "x": [
          4,
          5,
          null
         ],
         "y": [
          0,
          3,
          null
         ]
        },
        {
         "hoverinfo": "text",
         "line": {
          "color": "cornflowerblue",
          "width": 0.4687373621798357
         },
         "mode": "lines",
         "text": "0.234",
         "type": "scatter",
         "x": [
          4,
          5,
          null
         ],
         "y": [
          0,
          4,
          null
         ]
        },
        {
         "hoverinfo": "text",
         "line": {
          "color": "cornflowerblue",
          "width": 0.45473918183785855
         },
         "mode": "lines",
         "text": "0.227",
         "type": "scatter",
         "x": [
          4,
          5,
          null
         ],
         "y": [
          0,
          5,
          null
         ]
        },
        {
         "hoverinfo": "text",
         "line": {
          "color": "cornflowerblue",
          "width": 0.46597101904150334
         },
         "mode": "lines",
         "text": "0.233",
         "type": "scatter",
         "x": [
          4,
          5,
          null
         ],
         "y": [
          0,
          6,
          null
         ]
        },
        {
         "hoverinfo": "text",
         "line": {
          "color": "cornflowerblue",
          "width": 0.38250636942556565
         },
         "mode": "lines",
         "text": "0.191",
         "type": "scatter",
         "x": [
          4,
          5,
          null
         ],
         "y": [
          0,
          7,
          null
         ]
        },
        {
         "hoverinfo": "text",
         "line": {
          "color": "cornflowerblue",
          "width": 0.4359414370779563
         },
         "mode": "lines",
         "text": "0.218",
         "type": "scatter",
         "x": [
          4,
          5,
          null
         ],
         "y": [
          1,
          0,
          null
         ]
        },
        {
         "hoverinfo": "text",
         "line": {
          "color": "cornflowerblue",
          "width": 0.41484738811146066
         },
         "mode": "lines",
         "text": "0.207",
         "type": "scatter",
         "x": [
          4,
          5,
          null
         ],
         "y": [
          1,
          1,
          null
         ]
        },
        {
         "hoverinfo": "text",
         "line": {
          "color": "cornflowerblue",
          "width": 0.4294240089066756
         },
         "mode": "lines",
         "text": "0.215",
         "type": "scatter",
         "x": [
          4,
          5,
          null
         ],
         "y": [
          1,
          2,
          null
         ]
        },
        {
         "hoverinfo": "text",
         "line": {
          "color": "cornflowerblue",
          "width": 0.4981046141116337
         },
         "mode": "lines",
         "text": "0.249",
         "type": "scatter",
         "x": [
          4,
          5,
          null
         ],
         "y": [
          1,
          3,
          null
         ]
        },
        {
         "hoverinfo": "text",
         "line": {
          "color": "cornflowerblue",
          "width": 0.4350861277264523
         },
         "mode": "lines",
         "text": "0.218",
         "type": "scatter",
         "x": [
          4,
          5,
          null
         ],
         "y": [
          1,
          4,
          null
         ]
        },
        {
         "hoverinfo": "text",
         "line": {
          "color": "cornflowerblue",
          "width": 0.44131939197411035
         },
         "mode": "lines",
         "text": "0.221",
         "type": "scatter",
         "x": [
          4,
          5,
          null
         ],
         "y": [
          1,
          5,
          null
         ]
        },
        {
         "hoverinfo": "text",
         "line": {
          "color": "cornflowerblue",
          "width": 0.43571599225624397
         },
         "mode": "lines",
         "text": "0.218",
         "type": "scatter",
         "x": [
          4,
          5,
          null
         ],
         "y": [
          1,
          6,
          null
         ]
        },
        {
         "hoverinfo": "text",
         "line": {
          "color": "cornflowerblue",
          "width": 0.38983391247230254
         },
         "mode": "lines",
         "text": "0.195",
         "type": "scatter",
         "x": [
          4,
          5,
          null
         ],
         "y": [
          1,
          7,
          null
         ]
        },
        {
         "hoverinfo": "text",
         "line": {
          "color": "cornflowerblue",
          "width": 0.46276282009820224
         },
         "mode": "lines",
         "text": "0.231",
         "type": "scatter",
         "x": [
          4,
          5,
          null
         ],
         "y": [
          2,
          0,
          null
         ]
        },
        {
         "hoverinfo": "text",
         "line": {
          "color": "cornflowerblue",
          "width": 0.42912919438780445
         },
         "mode": "lines",
         "text": "0.215",
         "type": "scatter",
         "x": [
          4,
          5,
          null
         ],
         "y": [
          2,
          1,
          null
         ]
        },
        {
         "hoverinfo": "text",
         "line": {
          "color": "cornflowerblue",
          "width": 0.4493055786532882
         },
         "mode": "lines",
         "text": "0.225",
         "type": "scatter",
         "x": [
          4,
          5,
          null
         ],
         "y": [
          2,
          2,
          null
         ]
        },
        {
         "hoverinfo": "text",
         "line": {
          "color": "cornflowerblue",
          "width": 0.5034551725326463
         },
         "mode": "lines",
         "text": "0.252",
         "type": "scatter",
         "x": [
          4,
          5,
          null
         ],
         "y": [
          2,
          3,
          null
         ]
        },
        {
         "hoverinfo": "text",
         "line": {
          "color": "cornflowerblue",
          "width": 0.46263116479914945
         },
         "mode": "lines",
         "text": "0.231",
         "type": "scatter",
         "x": [
          4,
          5,
          null
         ],
         "y": [
          2,
          4,
          null
         ]
        },
        {
         "hoverinfo": "text",
         "line": {
          "color": "cornflowerblue",
          "width": 0.4604164881750988
         },
         "mode": "lines",
         "text": "0.23",
         "type": "scatter",
         "x": [
          4,
          5,
          null
         ],
         "y": [
          2,
          5,
          null
         ]
        },
        {
         "hoverinfo": "text",
         "line": {
          "color": "cornflowerblue",
          "width": 0.4450568651749535
         },
         "mode": "lines",
         "text": "0.223",
         "type": "scatter",
         "x": [
          4,
          5,
          null
         ],
         "y": [
          2,
          6,
          null
         ]
        },
        {
         "hoverinfo": "text",
         "line": {
          "color": "cornflowerblue",
          "width": 0.39727404307663766
         },
         "mode": "lines",
         "text": "0.199",
         "type": "scatter",
         "x": [
          4,
          5,
          null
         ],
         "y": [
          2,
          7,
          null
         ]
        },
        {
         "hoverinfo": "text",
         "line": {
          "color": "cornflowerblue",
          "width": 0.6418518851442124
         },
         "mode": "lines",
         "text": "0.321",
         "type": "scatter",
         "x": [
          4,
          5,
          null
         ],
         "y": [
          3,
          0,
          null
         ]
        },
        {
         "hoverinfo": "text",
         "line": {
          "color": "cornflowerblue",
          "width": 0.4670702638823129
         },
         "mode": "lines",
         "text": "0.234",
         "type": "scatter",
         "x": [
          4,
          5,
          null
         ],
         "y": [
          3,
          1,
          null
         ]
        },
        {
         "hoverinfo": "text",
         "line": {
          "color": "cornflowerblue",
          "width": 0.5104360266784064
         },
         "mode": "lines",
         "text": "0.255",
         "type": "scatter",
         "x": [
          4,
          5,
          null
         ],
         "y": [
          3,
          2,
          null
         ]
        },
        {
         "hoverinfo": "text",
         "line": {
          "color": "cornflowerblue",
          "width": 0.5095151727414868
         },
         "mode": "lines",
         "text": "0.255",
         "type": "scatter",
         "x": [
          4,
          5,
          null
         ],
         "y": [
          3,
          3,
          null
         ]
        },
        {
         "hoverinfo": "text",
         "line": {
          "color": "cornflowerblue",
          "width": 1.2773625044971002
         },
         "mode": "lines",
         "text": "0.639",
         "type": "scatter",
         "x": [
          4,
          5,
          null
         ],
         "y": [
          3,
          4,
          null
         ]
        },
        {
         "hoverinfo": "text",
         "line": {
          "color": "cornflowerblue",
          "width": 0.4948758743797862
         },
         "mode": "lines",
         "text": "0.247",
         "type": "scatter",
         "x": [
          4,
          5,
          null
         ],
         "y": [
          3,
          5,
          null
         ]
        },
        {
         "hoverinfo": "text",
         "line": {
          "color": "cornflowerblue",
          "width": 0.4875026577767821
         },
         "mode": "lines",
         "text": "0.244",
         "type": "scatter",
         "x": [
          4,
          5,
          null
         ],
         "y": [
          3,
          6,
          null
         ]
        },
        {
         "hoverinfo": "text",
         "line": {
          "color": "cornflowerblue",
          "width": 0.3962191276238657
         },
         "mode": "lines",
         "text": "0.198",
         "type": "scatter",
         "x": [
          4,
          5,
          null
         ],
         "y": [
          3,
          7,
          null
         ]
        },
        {
         "hoverinfo": "text",
         "line": {
          "color": "cornflowerblue",
          "width": 0.5677106618951747
         },
         "mode": "lines",
         "text": "0.284",
         "type": "scatter",
         "x": [
          4,
          5,
          null
         ],
         "y": [
          4,
          0,
          null
         ]
        },
        {
         "hoverinfo": "text",
         "line": {
          "color": "cornflowerblue",
          "width": 0.47751160457273056
         },
         "mode": "lines",
         "text": "0.239",
         "type": "scatter",
         "x": [
          4,
          5,
          null
         ],
         "y": [
          4,
          1,
          null
         ]
        },
        {
         "hoverinfo": "text",
         "line": {
          "color": "cornflowerblue",
          "width": 0.5222994120891277
         },
         "mode": "lines",
         "text": "0.261",
         "type": "scatter",
         "x": [
          4,
          5,
          null
         ],
         "y": [
          4,
          2,
          null
         ]
        },
        {
         "hoverinfo": "text",
         "line": {
          "color": "cornflowerblue",
          "width": 0.7087758092052614
         },
         "mode": "lines",
         "text": "0.354",
         "type": "scatter",
         "x": [
          4,
          5,
          null
         ],
         "y": [
          4,
          3,
          null
         ]
        },
        {
         "hoverinfo": "text",
         "line": {
          "color": "cornflowerblue",
          "width": 0.5178109562132214
         },
         "mode": "lines",
         "text": "0.259",
         "type": "scatter",
         "x": [
          4,
          5,
          null
         ],
         "y": [
          4,
          4,
          null
         ]
        },
        {
         "hoverinfo": "text",
         "line": {
          "color": "cornflowerblue",
          "width": 0.47273437282024405
         },
         "mode": "lines",
         "text": "0.236",
         "type": "scatter",
         "x": [
          4,
          5,
          null
         ],
         "y": [
          4,
          5,
          null
         ]
        },
        {
         "hoverinfo": "text",
         "line": {
          "color": "cornflowerblue",
          "width": 0.668092759844576
         },
         "mode": "lines",
         "text": "0.334",
         "type": "scatter",
         "x": [
          4,
          5,
          null
         ],
         "y": [
          4,
          6,
          null
         ]
        },
        {
         "hoverinfo": "text",
         "line": {
          "color": "cornflowerblue",
          "width": 0.39018141062965667
         },
         "mode": "lines",
         "text": "0.195",
         "type": "scatter",
         "x": [
          4,
          5,
          null
         ],
         "y": [
          4,
          7,
          null
         ]
        },
        {
         "hoverinfo": "text",
         "line": {
          "color": "cornflowerblue",
          "width": 0.591551307428893
         },
         "mode": "lines",
         "text": "0.296",
         "type": "scatter",
         "x": [
          4,
          5,
          null
         ],
         "y": [
          5,
          0,
          null
         ]
        },
        {
         "hoverinfo": "text",
         "line": {
          "color": "cornflowerblue",
          "width": 0.47798719021040387
         },
         "mode": "lines",
         "text": "0.239",
         "type": "scatter",
         "x": [
          4,
          5,
          null
         ],
         "y": [
          5,
          1,
          null
         ]
        },
        {
         "hoverinfo": "text",
         "line": {
          "color": "cornflowerblue",
          "width": 1.4026721891747014
         },
         "mode": "lines",
         "text": "0.701",
         "type": "scatter",
         "x": [
          4,
          5,
          null
         ],
         "y": [
          5,
          2,
          null
         ]
        },
        {
         "hoverinfo": "text",
         "line": {
          "color": "cornflowerblue",
          "width": 0.5168346843394832
         },
         "mode": "lines",
         "text": "0.258",
         "type": "scatter",
         "x": [
          4,
          5,
          null
         ],
         "y": [
          5,
          3,
          null
         ]
        },
        {
         "hoverinfo": "text",
         "line": {
          "color": "cornflowerblue",
          "width": 0.5052913311016975
         },
         "mode": "lines",
         "text": "0.253",
         "type": "scatter",
         "x": [
          4,
          5,
          null
         ],
         "y": [
          5,
          4,
          null
         ]
        },
        {
         "hoverinfo": "text",
         "line": {
          "color": "cornflowerblue",
          "width": 0.4686086317303715
         },
         "mode": "lines",
         "text": "0.234",
         "type": "scatter",
         "x": [
          4,
          5,
          null
         ],
         "y": [
          5,
          5,
          null
         ]
        },
        {
         "hoverinfo": "text",
         "line": {
          "color": "cornflowerblue",
          "width": 0.4919231755013554
         },
         "mode": "lines",
         "text": "0.246",
         "type": "scatter",
         "x": [
          4,
          5,
          null
         ],
         "y": [
          5,
          6,
          null
         ]
        },
        {
         "hoverinfo": "text",
         "line": {
          "color": "cornflowerblue",
          "width": 0.40686343539598463
         },
         "mode": "lines",
         "text": "0.203",
         "type": "scatter",
         "x": [
          4,
          5,
          null
         ],
         "y": [
          5,
          7,
          null
         ]
        },
        {
         "hoverinfo": "text",
         "line": {
          "color": "cornflowerblue",
          "width": 0.44231548781283203
         },
         "mode": "lines",
         "text": "0.221",
         "type": "scatter",
         "x": [
          4,
          5,
          null
         ],
         "y": [
          6,
          0,
          null
         ]
        },
        {
         "hoverinfo": "text",
         "line": {
          "color": "cornflowerblue",
          "width": 0.418844509355416
         },
         "mode": "lines",
         "text": "0.209",
         "type": "scatter",
         "x": [
          4,
          5,
          null
         ],
         "y": [
          6,
          1,
          null
         ]
        },
        {
         "hoverinfo": "text",
         "line": {
          "color": "cornflowerblue",
          "width": 0.4341911208204428
         },
         "mode": "lines",
         "text": "0.217",
         "type": "scatter",
         "x": [
          4,
          5,
          null
         ],
         "y": [
          6,
          2,
          null
         ]
        },
        {
         "hoverinfo": "text",
         "line": {
          "color": "cornflowerblue",
          "width": 0.4292672657627365
         },
         "mode": "lines",
         "text": "0.215",
         "type": "scatter",
         "x": [
          4,
          5,
          null
         ],
         "y": [
          6,
          3,
          null
         ]
        },
        {
         "hoverinfo": "text",
         "line": {
          "color": "cornflowerblue",
          "width": 0.4462383633471848
         },
         "mode": "lines",
         "text": "0.223",
         "type": "scatter",
         "x": [
          4,
          5,
          null
         ],
         "y": [
          6,
          4,
          null
         ]
        },
        {
         "hoverinfo": "text",
         "line": {
          "color": "cornflowerblue",
          "width": 0.41745383343985937
         },
         "mode": "lines",
         "text": "0.209",
         "type": "scatter",
         "x": [
          4,
          5,
          null
         ],
         "y": [
          6,
          5,
          null
         ]
        },
        {
         "hoverinfo": "text",
         "line": {
          "color": "cornflowerblue",
          "width": 0.4209333335718092
         },
         "mode": "lines",
         "text": "0.21",
         "type": "scatter",
         "x": [
          4,
          5,
          null
         ],
         "y": [
          6,
          6,
          null
         ]
        },
        {
         "hoverinfo": "text",
         "line": {
          "color": "cornflowerblue",
          "width": 0.4009693382420863
         },
         "mode": "lines",
         "text": "0.2",
         "type": "scatter",
         "x": [
          4,
          5,
          null
         ],
         "y": [
          6,
          7,
          null
         ]
        },
        {
         "hoverinfo": "text",
         "line": {
          "color": "cornflowerblue",
          "width": 0.4408878733485709
         },
         "mode": "lines",
         "text": "0.22",
         "type": "scatter",
         "x": [
          4,
          5,
          null
         ],
         "y": [
          7,
          0,
          null
         ]
        },
        {
         "hoverinfo": "text",
         "line": {
          "color": "cornflowerblue",
          "width": 0.42350586384222394
         },
         "mode": "lines",
         "text": "0.212",
         "type": "scatter",
         "x": [
          4,
          5,
          null
         ],
         "y": [
          7,
          1,
          null
         ]
        },
        {
         "hoverinfo": "text",
         "line": {
          "color": "cornflowerblue",
          "width": 0.43231858373273774
         },
         "mode": "lines",
         "text": "0.216",
         "type": "scatter",
         "x": [
          4,
          5,
          null
         ],
         "y": [
          7,
          2,
          null
         ]
        },
        {
         "hoverinfo": "text",
         "line": {
          "color": "cornflowerblue",
          "width": 0.428923420673763
         },
         "mode": "lines",
         "text": "0.214",
         "type": "scatter",
         "x": [
          4,
          5,
          null
         ],
         "y": [
          7,
          3,
          null
         ]
        },
        {
         "hoverinfo": "text",
         "line": {
          "color": "cornflowerblue",
          "width": 0.4379500384386656
         },
         "mode": "lines",
         "text": "0.219",
         "type": "scatter",
         "x": [
          4,
          5,
          null
         ],
         "y": [
          7,
          4,
          null
         ]
        },
        {
         "hoverinfo": "text",
         "line": {
          "color": "cornflowerblue",
          "width": 0.41736939430060294
         },
         "mode": "lines",
         "text": "0.209",
         "type": "scatter",
         "x": [
          4,
          5,
          null
         ],
         "y": [
          7,
          5,
          null
         ]
        },
        {
         "hoverinfo": "text",
         "line": {
          "color": "cornflowerblue",
          "width": 0.42895194927153724
         },
         "mode": "lines",
         "text": "0.214",
         "type": "scatter",
         "x": [
          4,
          5,
          null
         ],
         "y": [
          7,
          6,
          null
         ]
        },
        {
         "hoverinfo": "text",
         "line": {
          "color": "cornflowerblue",
          "width": 0.3927245598817264
         },
         "mode": "lines",
         "text": "0.196",
         "type": "scatter",
         "x": [
          4,
          5,
          null
         ],
         "y": [
          7,
          7,
          null
         ]
        },
        {
         "hoverinfo": "text",
         "line": {
          "color": "cornflowerblue",
          "width": 0.5012481655759625
         },
         "mode": "lines",
         "text": "0.251",
         "type": "scatter",
         "x": [
          5,
          6,
          null
         ],
         "y": [
          0,
          0,
          null
         ]
        },
        {
         "hoverinfo": "text",
         "line": {
          "color": "cornflowerblue",
          "width": 0.4756154871539238
         },
         "mode": "lines",
         "text": "0.238",
         "type": "scatter",
         "x": [
          5,
          6,
          null
         ],
         "y": [
          0,
          1,
          null
         ]
        },
        {
         "hoverinfo": "text",
         "line": {
          "color": "cornflowerblue",
          "width": 0.8726076568069644
         },
         "mode": "lines",
         "text": "0.436",
         "type": "scatter",
         "x": [
          5,
          6,
          null
         ],
         "y": [
          0,
          2,
          null
         ]
        },
        {
         "hoverinfo": "text",
         "line": {
          "color": "cornflowerblue",
          "width": 0.4458225145233521
         },
         "mode": "lines",
         "text": "0.223",
         "type": "scatter",
         "x": [
          5,
          6,
          null
         ],
         "y": [
          0,
          3,
          null
         ]
        },
        {
         "hoverinfo": "text",
         "line": {
          "color": "cornflowerblue",
          "width": 0.4795817324598749
         },
         "mode": "lines",
         "text": "0.24",
         "type": "scatter",
         "x": [
          5,
          6,
          null
         ],
         "y": [
          0,
          4,
          null
         ]
        },
        {
         "hoverinfo": "text",
         "line": {
          "color": "cornflowerblue",
          "width": 0.6023988944626223
         },
         "mode": "lines",
         "text": "0.301",
         "type": "scatter",
         "x": [
          5,
          6,
          null
         ],
         "y": [
          0,
          5,
          null
         ]
        },
        {
         "hoverinfo": "text",
         "line": {
          "color": "cornflowerblue",
          "width": 0.5717042307739467
         },
         "mode": "lines",
         "text": "0.286",
         "type": "scatter",
         "x": [
          5,
          6,
          null
         ],
         "y": [
          0,
          6,
          null
         ]
        },
        {
         "hoverinfo": "text",
         "line": {
          "color": "cornflowerblue",
          "width": 0.443886707487397
         },
         "mode": "lines",
         "text": "0.222",
         "type": "scatter",
         "x": [
          5,
          6,
          null
         ],
         "y": [
          0,
          7,
          null
         ]
        },
        {
         "hoverinfo": "text",
         "line": {
          "color": "cornflowerblue",
          "width": 0.42847643097956734
         },
         "mode": "lines",
         "text": "0.214",
         "type": "scatter",
         "x": [
          5,
          6,
          null
         ],
         "y": [
          0,
          8,
          null
         ]
        },
        {
         "hoverinfo": "text",
         "line": {
          "color": "cornflowerblue",
          "width": 0.45408648333861573
         },
         "mode": "lines",
         "text": "0.227",
         "type": "scatter",
         "x": [
          5,
          6,
          null
         ],
         "y": [
          1,
          0,
          null
         ]
        },
        {
         "hoverinfo": "text",
         "line": {
          "color": "cornflowerblue",
          "width": 1.111984226521219
         },
         "mode": "lines",
         "text": "0.556",
         "type": "scatter",
         "x": [
          5,
          6,
          null
         ],
         "y": [
          1,
          1,
          null
         ]
        },
        {
         "hoverinfo": "text",
         "line": {
          "color": "cornflowerblue",
          "width": 0.48799096110733264
         },
         "mode": "lines",
         "text": "0.244",
         "type": "scatter",
         "x": [
          5,
          6,
          null
         ],
         "y": [
          1,
          2,
          null
         ]
        },
        {
         "hoverinfo": "text",
         "line": {
          "color": "cornflowerblue",
          "width": 0.42022758498703944
         },
         "mode": "lines",
         "text": "0.21",
         "type": "scatter",
         "x": [
          5,
          6,
          null
         ],
         "y": [
          1,
          3,
          null
         ]
        },
        {
         "hoverinfo": "text",
         "line": {
          "color": "cornflowerblue",
          "width": 0.4507939791742717
         },
         "mode": "lines",
         "text": "0.225",
         "type": "scatter",
         "x": [
          5,
          6,
          null
         ],
         "y": [
          1,
          4,
          null
         ]
        },
        {
         "hoverinfo": "text",
         "line": {
          "color": "cornflowerblue",
          "width": 0.46782941084875823
         },
         "mode": "lines",
         "text": "0.234",
         "type": "scatter",
         "x": [
          5,
          6,
          null
         ],
         "y": [
          1,
          5,
          null
         ]
        },
        {
         "hoverinfo": "text",
         "line": {
          "color": "cornflowerblue",
          "width": 0.4786821035792096
         },
         "mode": "lines",
         "text": "0.239",
         "type": "scatter",
         "x": [
          5,
          6,
          null
         ],
         "y": [
          1,
          6,
          null
         ]
        },
        {
         "hoverinfo": "text",
         "line": {
          "color": "cornflowerblue",
          "width": 0.42046232236531644
         },
         "mode": "lines",
         "text": "0.21",
         "type": "scatter",
         "x": [
          5,
          6,
          null
         ],
         "y": [
          1,
          7,
          null
         ]
        },
        {
         "hoverinfo": "text",
         "line": {
          "color": "cornflowerblue",
          "width": 0.41617304742629374
         },
         "mode": "lines",
         "text": "0.208",
         "type": "scatter",
         "x": [
          5,
          6,
          null
         ],
         "y": [
          1,
          8,
          null
         ]
        },
        {
         "hoverinfo": "text",
         "line": {
          "color": "cornflowerblue",
          "width": 0.5313061918802781
         },
         "mode": "lines",
         "text": "0.266",
         "type": "scatter",
         "x": [
          5,
          6,
          null
         ],
         "y": [
          2,
          0,
          null
         ]
        },
        {
         "hoverinfo": "text",
         "line": {
          "color": "cornflowerblue",
          "width": 0.46460049677686255
         },
         "mode": "lines",
         "text": "0.232",
         "type": "scatter",
         "x": [
          5,
          6,
          null
         ],
         "y": [
          2,
          1,
          null
         ]
        },
        {
         "hoverinfo": "text",
         "line": {
          "color": "cornflowerblue",
          "width": 0.5670824762016009
         },
         "mode": "lines",
         "text": "0.284",
         "type": "scatter",
         "x": [
          5,
          6,
          null
         ],
         "y": [
          2,
          2,
          null
         ]
        },
        {
         "hoverinfo": "text",
         "line": {
          "color": "cornflowerblue",
          "width": 0.431333822402713
         },
         "mode": "lines",
         "text": "0.216",
         "type": "scatter",
         "x": [
          5,
          6,
          null
         ],
         "y": [
          2,
          3,
          null
         ]
        },
        {
         "hoverinfo": "text",
         "line": {
          "color": "cornflowerblue",
          "width": 0.4739955725312507
         },
         "mode": "lines",
         "text": "0.237",
         "type": "scatter",
         "x": [
          5,
          6,
          null
         ],
         "y": [
          2,
          4,
          null
         ]
        },
        {
         "hoverinfo": "text",
         "line": {
          "color": "cornflowerblue",
          "width": 0.5126163696922665
         },
         "mode": "lines",
         "text": "0.256",
         "type": "scatter",
         "x": [
          5,
          6,
          null
         ],
         "y": [
          2,
          5,
          null
         ]
        },
        {
         "hoverinfo": "text",
         "line": {
          "color": "cornflowerblue",
          "width": 1.3932917066611454
         },
         "mode": "lines",
         "text": "0.697",
         "type": "scatter",
         "x": [
          5,
          6,
          null
         ],
         "y": [
          2,
          6,
          null
         ]
        },
        {
         "hoverinfo": "text",
         "line": {
          "color": "cornflowerblue",
          "width": 0.4366040813733974
         },
         "mode": "lines",
         "text": "0.218",
         "type": "scatter",
         "x": [
          5,
          6,
          null
         ],
         "y": [
          2,
          7,
          null
         ]
        },
        {
         "hoverinfo": "text",
         "line": {
          "color": "cornflowerblue",
          "width": 0.42212335624021763
         },
         "mode": "lines",
         "text": "0.211",
         "type": "scatter",
         "x": [
          5,
          6,
          null
         ],
         "y": [
          2,
          8,
          null
         ]
        },
        {
         "hoverinfo": "text",
         "line": {
          "color": "cornflowerblue",
          "width": 0.4821704049714367
         },
         "mode": "lines",
         "text": "0.241",
         "type": "scatter",
         "x": [
          5,
          6,
          null
         ],
         "y": [
          3,
          0,
          null
         ]
        },
        {
         "hoverinfo": "text",
         "line": {
          "color": "cornflowerblue",
          "width": 0.46283743557677126
         },
         "mode": "lines",
         "text": "0.231",
         "type": "scatter",
         "x": [
          5,
          6,
          null
         ],
         "y": [
          3,
          1,
          null
         ]
        },
        {
         "hoverinfo": "text",
         "line": {
          "color": "cornflowerblue",
          "width": 0.62089614182682
         },
         "mode": "lines",
         "text": "0.31",
         "type": "scatter",
         "x": [
          5,
          6,
          null
         ],
         "y": [
          3,
          2,
          null
         ]
        },
        {
         "hoverinfo": "text",
         "line": {
          "color": "cornflowerblue",
          "width": 0.45113059989339044
         },
         "mode": "lines",
         "text": "0.226",
         "type": "scatter",
         "x": [
          5,
          6,
          null
         ],
         "y": [
          3,
          3,
          null
         ]
        },
        {
         "hoverinfo": "text",
         "line": {
          "color": "cornflowerblue",
          "width": 0.6715308453899084
         },
         "mode": "lines",
         "text": "0.336",
         "type": "scatter",
         "x": [
          5,
          6,
          null
         ],
         "y": [
          3,
          4,
          null
         ]
        },
        {
         "hoverinfo": "text",
         "line": {
          "color": "cornflowerblue",
          "width": 0.5077390513900188
         },
         "mode": "lines",
         "text": "0.254",
         "type": "scatter",
         "x": [
          5,
          6,
          null
         ],
         "y": [
          3,
          5,
          null
         ]
        },
        {
         "hoverinfo": "text",
         "line": {
          "color": "cornflowerblue",
          "width": 0.5249527161222795
         },
         "mode": "lines",
         "text": "0.262",
         "type": "scatter",
         "x": [
          5,
          6,
          null
         ],
         "y": [
          3,
          6,
          null
         ]
        },
        {
         "hoverinfo": "text",
         "line": {
          "color": "cornflowerblue",
          "width": 0.4450829867591003
         },
         "mode": "lines",
         "text": "0.223",
         "type": "scatter",
         "x": [
          5,
          6,
          null
         ],
         "y": [
          3,
          7,
          null
         ]
        },
        {
         "hoverinfo": "text",
         "line": {
          "color": "cornflowerblue",
          "width": 0.4213551460298369
         },
         "mode": "lines",
         "text": "0.211",
         "type": "scatter",
         "x": [
          5,
          6,
          null
         ],
         "y": [
          3,
          8,
          null
         ]
        },
        {
         "hoverinfo": "text",
         "line": {
          "color": "cornflowerblue",
          "width": 0.4691527606555837
         },
         "mode": "lines",
         "text": "0.235",
         "type": "scatter",
         "x": [
          5,
          6,
          null
         ],
         "y": [
          4,
          0,
          null
         ]
        },
        {
         "hoverinfo": "text",
         "line": {
          "color": "cornflowerblue",
          "width": 0.4644355914157165
         },
         "mode": "lines",
         "text": "0.232",
         "type": "scatter",
         "x": [
          5,
          6,
          null
         ],
         "y": [
          4,
          1,
          null
         ]
        },
        {
         "hoverinfo": "text",
         "line": {
          "color": "cornflowerblue",
          "width": 0.5621040799540279
         },
         "mode": "lines",
         "text": "0.281",
         "type": "scatter",
         "x": [
          5,
          6,
          null
         ],
         "y": [
          4,
          2,
          null
         ]
        },
        {
         "hoverinfo": "text",
         "line": {
          "color": "cornflowerblue",
          "width": 0.4408896388751532
         },
         "mode": "lines",
         "text": "0.22",
         "type": "scatter",
         "x": [
          5,
          6,
          null
         ],
         "y": [
          4,
          3,
          null
         ]
        },
        {
         "hoverinfo": "text",
         "line": {
          "color": "cornflowerblue",
          "width": 0.4800929217449746
         },
         "mode": "lines",
         "text": "0.24",
         "type": "scatter",
         "x": [
          5,
          6,
          null
         ],
         "y": [
          4,
          4,
          null
         ]
        },
        {
         "hoverinfo": "text",
         "line": {
          "color": "cornflowerblue",
          "width": 1.4591918485299185
         },
         "mode": "lines",
         "text": "0.73",
         "type": "scatter",
         "x": [
          5,
          6,
          null
         ],
         "y": [
          4,
          5,
          null
         ]
        },
        {
         "hoverinfo": "text",
         "line": {
          "color": "cornflowerblue",
          "width": 0.5084703946521796
         },
         "mode": "lines",
         "text": "0.254",
         "type": "scatter",
         "x": [
          5,
          6,
          null
         ],
         "y": [
          4,
          6,
          null
         ]
        },
        {
         "hoverinfo": "text",
         "line": {
          "color": "cornflowerblue",
          "width": 0.4456444354161569
         },
         "mode": "lines",
         "text": "0.223",
         "type": "scatter",
         "x": [
          5,
          6,
          null
         ],
         "y": [
          4,
          7,
          null
         ]
        },
        {
         "hoverinfo": "text",
         "line": {
          "color": "cornflowerblue",
          "width": 0.4298925111203698
         },
         "mode": "lines",
         "text": "0.215",
         "type": "scatter",
         "x": [
          5,
          6,
          null
         ],
         "y": [
          4,
          8,
          null
         ]
        },
        {
         "hoverinfo": "text",
         "line": {
          "color": "cornflowerblue",
          "width": 0.4352390645717185
         },
         "mode": "lines",
         "text": "0.218",
         "type": "scatter",
         "x": [
          5,
          6,
          null
         ],
         "y": [
          5,
          0,
          null
         ]
        },
        {
         "hoverinfo": "text",
         "line": {
          "color": "cornflowerblue",
          "width": 0.45436664683149813
         },
         "mode": "lines",
         "text": "0.227",
         "type": "scatter",
         "x": [
          5,
          6,
          null
         ],
         "y": [
          5,
          1,
          null
         ]
        },
        {
         "hoverinfo": "text",
         "line": {
          "color": "cornflowerblue",
          "width": 0.46798945705611283
         },
         "mode": "lines",
         "text": "0.234",
         "type": "scatter",
         "x": [
          5,
          6,
          null
         ],
         "y": [
          5,
          2,
          null
         ]
        },
        {
         "hoverinfo": "text",
         "line": {
          "color": "cornflowerblue",
          "width": 0.43598541695237863
         },
         "mode": "lines",
         "text": "0.218",
         "type": "scatter",
         "x": [
          5,
          6,
          null
         ],
         "y": [
          5,
          3,
          null
         ]
        },
        {
         "hoverinfo": "text",
         "line": {
          "color": "cornflowerblue",
          "width": 0.49917217781384354
         },
         "mode": "lines",
         "text": "0.25",
         "type": "scatter",
         "x": [
          5,
          6,
          null
         ],
         "y": [
          5,
          4,
          null
         ]
        },
        {
         "hoverinfo": "text",
         "line": {
          "color": "cornflowerblue",
          "width": 0.500709148525779
         },
         "mode": "lines",
         "text": "0.25",
         "type": "scatter",
         "x": [
          5,
          6,
          null
         ],
         "y": [
          5,
          5,
          null
         ]
        },
        {
         "hoverinfo": "text",
         "line": {
          "color": "cornflowerblue",
          "width": 0.4720723267978377
         },
         "mode": "lines",
         "text": "0.236",
         "type": "scatter",
         "x": [
          5,
          6,
          null
         ],
         "y": [
          5,
          6,
          null
         ]
        },
        {
         "hoverinfo": "text",
         "line": {
          "color": "cornflowerblue",
          "width": 0.43340119160066126
         },
         "mode": "lines",
         "text": "0.217",
         "type": "scatter",
         "x": [
          5,
          6,
          null
         ],
         "y": [
          5,
          7,
          null
         ]
        },
        {
         "hoverinfo": "text",
         "line": {
          "color": "cornflowerblue",
          "width": 0.41735268845302037
         },
         "mode": "lines",
         "text": "0.209",
         "type": "scatter",
         "x": [
          5,
          6,
          null
         ],
         "y": [
          5,
          8,
          null
         ]
        },
        {
         "hoverinfo": "text",
         "line": {
          "color": "cornflowerblue",
          "width": 0.573247119823629
         },
         "mode": "lines",
         "text": "0.287",
         "type": "scatter",
         "x": [
          5,
          6,
          null
         ],
         "y": [
          6,
          0,
          null
         ]
        },
        {
         "hoverinfo": "text",
         "line": {
          "color": "cornflowerblue",
          "width": 0.4519798970545272
         },
         "mode": "lines",
         "text": "0.226",
         "type": "scatter",
         "x": [
          5,
          6,
          null
         ],
         "y": [
          6,
          1,
          null
         ]
        },
        {
         "hoverinfo": "text",
         "line": {
          "color": "cornflowerblue",
          "width": 0.5848509193015315
         },
         "mode": "lines",
         "text": "0.292",
         "type": "scatter",
         "x": [
          5,
          6,
          null
         ],
         "y": [
          6,
          2,
          null
         ]
        },
        {
         "hoverinfo": "text",
         "line": {
          "color": "cornflowerblue",
          "width": 0.4346654019282755
         },
         "mode": "lines",
         "text": "0.217",
         "type": "scatter",
         "x": [
          5,
          6,
          null
         ],
         "y": [
          6,
          3,
          null
         ]
        },
        {
         "hoverinfo": "text",
         "line": {
          "color": "cornflowerblue",
          "width": 0.48769663845419264
         },
         "mode": "lines",
         "text": "0.244",
         "type": "scatter",
         "x": [
          5,
          6,
          null
         ],
         "y": [
          6,
          4,
          null
         ]
        },
        {
         "hoverinfo": "text",
         "line": {
          "color": "cornflowerblue",
          "width": 0.48627769643698454
         },
         "mode": "lines",
         "text": "0.243",
         "type": "scatter",
         "x": [
          5,
          6,
          null
         ],
         "y": [
          6,
          5,
          null
         ]
        },
        {
         "hoverinfo": "text",
         "line": {
          "color": "cornflowerblue",
          "width": 0.4931824411743854
         },
         "mode": "lines",
         "text": "0.247",
         "type": "scatter",
         "x": [
          5,
          6,
          null
         ],
         "y": [
          6,
          6,
          null
         ]
        },
        {
         "hoverinfo": "text",
         "line": {
          "color": "cornflowerblue",
          "width": 0.43085900038242253
         },
         "mode": "lines",
         "text": "0.215",
         "type": "scatter",
         "x": [
          5,
          6,
          null
         ],
         "y": [
          6,
          7,
          null
         ]
        },
        {
         "hoverinfo": "text",
         "line": {
          "color": "cornflowerblue",
          "width": 0.41475143774951706
         },
         "mode": "lines",
         "text": "0.207",
         "type": "scatter",
         "x": [
          5,
          6,
          null
         ],
         "y": [
          6,
          8,
          null
         ]
        },
        {
         "hoverinfo": "text",
         "line": {
          "color": "cornflowerblue",
          "width": 0.39687407327522556
         },
         "mode": "lines",
         "text": "0.198",
         "type": "scatter",
         "x": [
          5,
          6,
          null
         ],
         "y": [
          7,
          0,
          null
         ]
        },
        {
         "hoverinfo": "text",
         "line": {
          "color": "cornflowerblue",
          "width": 0.37948806878303176
         },
         "mode": "lines",
         "text": "0.19",
         "type": "scatter",
         "x": [
          5,
          6,
          null
         ],
         "y": [
          7,
          1,
          null
         ]
        },
        {
         "hoverinfo": "text",
         "line": {
          "color": "cornflowerblue",
          "width": 0.39416134756826665
         },
         "mode": "lines",
         "text": "0.197",
         "type": "scatter",
         "x": [
          5,
          6,
          null
         ],
         "y": [
          7,
          2,
          null
         ]
        },
        {
         "hoverinfo": "text",
         "line": {
          "color": "cornflowerblue",
          "width": 0.3830895131138601
         },
         "mode": "lines",
         "text": "0.192",
         "type": "scatter",
         "x": [
          5,
          6,
          null
         ],
         "y": [
          7,
          3,
          null
         ]
        },
        {
         "hoverinfo": "text",
         "line": {
          "color": "cornflowerblue",
          "width": 0.39481800646415394
         },
         "mode": "lines",
         "text": "0.197",
         "type": "scatter",
         "x": [
          5,
          6,
          null
         ],
         "y": [
          7,
          4,
          null
         ]
        },
        {
         "hoverinfo": "text",
         "line": {
          "color": "cornflowerblue",
          "width": 0.3960678216418244
         },
         "mode": "lines",
         "text": "0.198",
         "type": "scatter",
         "x": [
          5,
          6,
          null
         ],
         "y": [
          7,
          5,
          null
         ]
        },
        {
         "hoverinfo": "text",
         "line": {
          "color": "cornflowerblue",
          "width": 0.406239947781011
         },
         "mode": "lines",
         "text": "0.203",
         "type": "scatter",
         "x": [
          5,
          6,
          null
         ],
         "y": [
          7,
          6,
          null
         ]
        },
        {
         "hoverinfo": "text",
         "line": {
          "color": "cornflowerblue",
          "width": 0.39127142118664815
         },
         "mode": "lines",
         "text": "0.196",
         "type": "scatter",
         "x": [
          5,
          6,
          null
         ],
         "y": [
          7,
          7,
          null
         ]
        },
        {
         "hoverinfo": "text",
         "line": {
          "color": "cornflowerblue",
          "width": 0.3828021942576169
         },
         "mode": "lines",
         "text": "0.191",
         "type": "scatter",
         "x": [
          5,
          6,
          null
         ],
         "y": [
          7,
          8,
          null
         ]
        },
        {
         "hoverinfo": "text",
         "marker": {
          "color": [],
          "colorbar": {
           "thickness": 15,
           "title": {
            "side": "right",
            "text": "Node Connections"
           },
           "xanchor": "left"
          },
          "colorscale": [
           [
            0,
            "rgb(255,255,217)"
           ],
           [
            0.125,
            "rgb(237,248,177)"
           ],
           [
            0.25,
            "rgb(199,233,180)"
           ],
           [
            0.375,
            "rgb(127,205,187)"
           ],
           [
            0.5,
            "rgb(65,182,196)"
           ],
           [
            0.625,
            "rgb(29,145,192)"
           ],
           [
            0.75,
            "rgb(34,94,168)"
           ],
           [
            0.875,
            "rgb(37,52,148)"
           ],
           [
            1,
            "rgb(8,29,88)"
           ]
          ],
          "line": {
           "width": 2
          },
          "reversescale": true,
          "showscale": true,
          "size": 10
         },
         "mode": "markers",
         "text": [
          "calle<br>subir<br>arma<br>llave<br>individuo<br>dos<br>tipo<br>persona<br>llevar<br>bajar",
          "liqu<br>ovalle<br>mmedina<br>asigna<br>percatar<br>calle<br>angulo<br>dedu<br>recuperado<br>taller",
          "dejar<br>conductor<br>domicilio<br>ingresar<br>interior<br>estacionamiento<br>encontrar<br>camion<br>empresa<br>camioneta",
          "encontrar<br>camioneta<br>salir<br>alarma<br>vidrio<br>llave<br>cuenta<br>vidrios<br>casa<br>estacionado",
          "percato<br>dejar<br>domicilio<br>salir<br>regresar<br>volver<br>calle<br>encontrar<br>deje<br>estacionado",
          "radio<br>roto<br>delantero<br>estacionado<br>encontrado<br>derecho<br>vidrio<br>puerta<br>trasero<br>chapa",
          "figueroa<br>felipe<br>bus<br>haböa<br>contrato<br>señor<br>apropiacion<br>indebido<br>vehãculo<br>vehöculo",
          "colisionado<br>detener<br>padre<br>aparicion<br>permiso<br>adelante<br>hundido<br>mucho<br>siempre<br>cuado",
          "salir<br>dentro<br>llegar<br>estacionamiento<br>alarma<br>persona<br>estacionado<br>llave<br>domicilio<br>casa",
          "camión<br>encontrado<br>calama<br>carrasco<br>empresa<br>día<br>camion<br>encontrar<br>taller<br>camioneta",
          "quebrado<br>estacionado<br>roto<br>delantero<br>derecho<br>encontrado<br>vidrio<br>puerta<br>chapa<br>trasero",
          "arma<br>llave<br>pistola<br>subir<br>individuo<br>dos<br>tipo<br>llevar<br>persona<br>bajar",
          "dejo<br>percato<br>salir<br>regresar<br>volver<br>domicilio<br>calle<br>encontrar<br>deje<br>estacionado",
          "equipo<br>pio<br>padron<br>compañero<br>solo<br>faltar<br>copia<br>liqu<br>vhi<br>ppardo",
          "amenazo<br>puerto<br>empleado<br>posible<br>cuchillo<br>pendiente<br>presento<br>palo<br>fco<br>frente",
          "ñuñoa<br>papas<br>depto<br>hermano<br>cumpleanos<br>papa<br>f<br>procedio<br>cunado<br>encontrarlo",
          "ra<br>concepción<br>rajado<br>seguir<br>bomba<br>dirigia<br>debia<br>camion<br>rampla<br>salida",
          "kpg<br>entro<br>diciendo<br>cuanta<br>camilo<br>cd<br>pm<br>once<br>abria<br>estacionadocircunstancia",
          "subir<br>pistola<br>individuo<br>llave<br>calle<br>tipo<br>dos<br>llevar<br>persona<br>bajar",
          "sector<br>carga<br>rampla<br>camioneta<br>desconocido<br>camión<br>empresa<br>chofer<br>conductor<br>camion",
          "proceder<br>contrato<br>indebido<br>entregar<br>encontrado<br>empresa<br>encontrar<br>día<br>taller<br>camioneta",
          "dentro<br>salir<br>llevar<br>entrar<br>llave<br>estacionado<br>encontrar<br>camioneta<br>casa<br>domicilio",
          "abollado<br>estacionado<br>vidrio<br>parachoque<br>encontrado<br>delantero<br>derecho<br>chapa<br>puerta<br>trasero",
          "dejo<br>volver<br>salir<br>regresar<br>domicilio<br>percato<br>encontrar<br>calle<br>deje<br>estacionado",
          "carro<br>llegu<br>camin<br>ingresado<br>gimnasio<br>mdiaz<br>simon<br>bolivar<br>foliar<br>contac",
          "lejos<br>reventado<br>quebrada<br>prestar<br>panel<br>gata<br>frontal<br>senalado<br>strc<br>alejandro",
          "reventado<br>quebrada<br>prestar<br>panel<br>gata<br>frontal<br>acudir<br>strc<br>moro<br>encontramos",
          "delantera<br>roto<br>estacionado<br>encontrado<br>derecho<br>delantero<br>vidrio<br>chapa<br>puerta<br>trasero",
          "héctor<br>aprop<br>empresa<br>formalizo<br>póliza<br>contrato<br>arrendar<br>apropiación<br>apropiacion<br>indebido",
          "fuente<br>perdida<br>raul<br>banco<br>moto<br>mesos<br>dctos<br>taller<br>hector<br>vasquez",
          "casa<br>pistola<br>individuo<br>subir<br>llave<br>dos<br>tipo<br>persona<br>llevar<br>bajar",
          "ingresar<br>chofer<br>dejar<br>día<br>encontrar<br>conductor<br>camión<br>empresa<br>camioneta<br>camion",
          "dejar<br>volver<br>percato<br>salir<br>casa<br>domicilio<br>encontrar<br>calle<br>deje<br>estacionado",
          "esposa<br>regresamos<br>licencia<br>publico<br>comentar<br>advertir<br>así<br>levantar<br>asomar<br>agua",
          "registro<br>unidad<br>abro<br>agarra<br>dehesa<br>yaris<br>encendido<br>dispositivo<br>avanzar<br>según",
          "interior<br>dentro<br>ingresar<br>encontrar<br>llevar<br>llave<br>porton<br>entrar<br>domicilio<br>casa",
          "delantera<br>encontrado<br>estacionado<br>roto<br>vidrio<br>delantero<br>derecho<br>chapa<br>puerta<br>trasero",
          "regresar<br>salir<br>volver<br>domicilio<br>dejar<br>percato<br>encontrar<br>calle<br>deje<br>estacionado",
          "encontrado<br>oficina<br>percatar<br>interior<br>unidad<br>encontrar<br>taller<br>día<br>empresa<br>camioneta",
          "armas<br>arma<br>llave<br>calle<br>pistola<br>dos<br>tipo<br>llevar<br>persona<br>bajar",
          "movimiento<br>ammg<br>punto<br>detenido<br>senalizacionotro<br>persona<br>nammg<br>transitar<br>calle<br>pista",
          "chofer<br>empresa<br>conductor<br>mecanismo<br>camión<br>llave<br>seguridad<br>estacionamiento<br>cuenta<br>camion",
          "espera<br>escriba<br>tucson<br>irme<br>ba<br>pedido<br>percate<br>h<br>sali<br>monsenor",
          "sidaos<br>âcuenta<br>dirección<br>deje<br>estacionado<br>mecanismo<br>seguridad<br>llave<br>estacionamiento<br>cuenta",
          "costado<br>encontrado<br>delantera<br>roto<br>derecho<br>vidrio<br>delantero<br>chapa<br>trasero<br>puerta",
          "interior<br>empresa<br>entrar<br>llave<br>ingresar<br>camioneta<br>encontrar<br>camion<br>casa<br>domicilio",
          "fabres<br>encontrar<br>salfa<br>salino<br>bian<br>full<br>santander<br>devolucion<br>convenio<br>zenit",
          "senalizacionsemaforo<br>día<br>arrendar<br>ocurrenciaizquierda<br>local<br>empresa<br>indebido<br>taller<br>camioneta<br>pista",
          "fuego<br>arma<br>pistola<br>calle<br>llave<br>dos<br>tipo<br>llevar<br>persona<br>bajar",
          "camioneta<br>casa<br>volver<br>domicilio<br>percato<br>salir<br>calle<br>deje<br>encontrar<br>estacionado",
          "saco<br>colo<br>diagonal<br>merced<br>dormido<br>evitar<br>cuidador<br>mercaderya<br>restaurante<br>cenar",
          "debo<br>recien<br>saliendo<br>robarme<br>carrera<br>manubrio<br>verbal<br>guanaco<br>pasos<br>dorsal"
         ],
         "type": "scatter",
         "x": [
          1,
          1,
          1,
          1,
          1,
          1,
          1,
          1,
          2,
          2,
          2,
          2,
          2,
          2,
          2,
          2,
          2,
          2,
          3,
          3,
          3,
          3,
          3,
          3,
          3,
          3,
          3,
          4,
          4,
          4,
          4,
          4,
          4,
          4,
          4,
          5,
          5,
          5,
          5,
          5,
          5,
          5,
          5,
          6,
          6,
          6,
          6,
          6,
          6,
          6,
          6,
          6
         ],
         "y": [
          0,
          1,
          2,
          3,
          4,
          5,
          6,
          7,
          0,
          1,
          2,
          3,
          4,
          5,
          6,
          7,
          8,
          9,
          0,
          1,
          2,
          3,
          4,
          5,
          6,
          7,
          8,
          0,
          1,
          2,
          3,
          4,
          5,
          6,
          7,
          0,
          1,
          2,
          3,
          4,
          5,
          6,
          7,
          0,
          1,
          2,
          3,
          4,
          5,
          6,
          7,
          8
         ]
        }
       ],
       "layout": {
        "paper_bgcolor": "rgba(0,0,0,0)",
        "plot_bgcolor": "rgba(0,0,0,0)",
        "showlegend": false,
        "template": {
         "data": {
          "bar": [
           {
            "error_x": {
             "color": "#2a3f5f"
            },
            "error_y": {
             "color": "#2a3f5f"
            },
            "marker": {
             "line": {
              "color": "#E5ECF6",
              "width": 0.5
             }
            },
            "type": "bar"
           }
          ],
          "barpolar": [
           {
            "marker": {
             "line": {
              "color": "#E5ECF6",
              "width": 0.5
             }
            },
            "type": "barpolar"
           }
          ],
          "carpet": [
           {
            "aaxis": {
             "endlinecolor": "#2a3f5f",
             "gridcolor": "white",
             "linecolor": "white",
             "minorgridcolor": "white",
             "startlinecolor": "#2a3f5f"
            },
            "baxis": {
             "endlinecolor": "#2a3f5f",
             "gridcolor": "white",
             "linecolor": "white",
             "minorgridcolor": "white",
             "startlinecolor": "#2a3f5f"
            },
            "type": "carpet"
           }
          ],
          "choropleth": [
           {
            "colorbar": {
             "outlinewidth": 0,
             "ticks": ""
            },
            "type": "choropleth"
           }
          ],
          "contour": [
           {
            "colorbar": {
             "outlinewidth": 0,
             "ticks": ""
            },
            "colorscale": [
             [
              0,
              "#0d0887"
             ],
             [
              0.1111111111111111,
              "#46039f"
             ],
             [
              0.2222222222222222,
              "#7201a8"
             ],
             [
              0.3333333333333333,
              "#9c179e"
             ],
             [
              0.4444444444444444,
              "#bd3786"
             ],
             [
              0.5555555555555556,
              "#d8576b"
             ],
             [
              0.6666666666666666,
              "#ed7953"
             ],
             [
              0.7777777777777778,
              "#fb9f3a"
             ],
             [
              0.8888888888888888,
              "#fdca26"
             ],
             [
              1,
              "#f0f921"
             ]
            ],
            "type": "contour"
           }
          ],
          "contourcarpet": [
           {
            "colorbar": {
             "outlinewidth": 0,
             "ticks": ""
            },
            "type": "contourcarpet"
           }
          ],
          "heatmap": [
           {
            "colorbar": {
             "outlinewidth": 0,
             "ticks": ""
            },
            "colorscale": [
             [
              0,
              "#0d0887"
             ],
             [
              0.1111111111111111,
              "#46039f"
             ],
             [
              0.2222222222222222,
              "#7201a8"
             ],
             [
              0.3333333333333333,
              "#9c179e"
             ],
             [
              0.4444444444444444,
              "#bd3786"
             ],
             [
              0.5555555555555556,
              "#d8576b"
             ],
             [
              0.6666666666666666,
              "#ed7953"
             ],
             [
              0.7777777777777778,
              "#fb9f3a"
             ],
             [
              0.8888888888888888,
              "#fdca26"
             ],
             [
              1,
              "#f0f921"
             ]
            ],
            "type": "heatmap"
           }
          ],
          "heatmapgl": [
           {
            "colorbar": {
             "outlinewidth": 0,
             "ticks": ""
            },
            "colorscale": [
             [
              0,
              "#0d0887"
             ],
             [
              0.1111111111111111,
              "#46039f"
             ],
             [
              0.2222222222222222,
              "#7201a8"
             ],
             [
              0.3333333333333333,
              "#9c179e"
             ],
             [
              0.4444444444444444,
              "#bd3786"
             ],
             [
              0.5555555555555556,
              "#d8576b"
             ],
             [
              0.6666666666666666,
              "#ed7953"
             ],
             [
              0.7777777777777778,
              "#fb9f3a"
             ],
             [
              0.8888888888888888,
              "#fdca26"
             ],
             [
              1,
              "#f0f921"
             ]
            ],
            "type": "heatmapgl"
           }
          ],
          "histogram": [
           {
            "marker": {
             "colorbar": {
              "outlinewidth": 0,
              "ticks": ""
             }
            },
            "type": "histogram"
           }
          ],
          "histogram2d": [
           {
            "colorbar": {
             "outlinewidth": 0,
             "ticks": ""
            },
            "colorscale": [
             [
              0,
              "#0d0887"
             ],
             [
              0.1111111111111111,
              "#46039f"
             ],
             [
              0.2222222222222222,
              "#7201a8"
             ],
             [
              0.3333333333333333,
              "#9c179e"
             ],
             [
              0.4444444444444444,
              "#bd3786"
             ],
             [
              0.5555555555555556,
              "#d8576b"
             ],
             [
              0.6666666666666666,
              "#ed7953"
             ],
             [
              0.7777777777777778,
              "#fb9f3a"
             ],
             [
              0.8888888888888888,
              "#fdca26"
             ],
             [
              1,
              "#f0f921"
             ]
            ],
            "type": "histogram2d"
           }
          ],
          "histogram2dcontour": [
           {
            "colorbar": {
             "outlinewidth": 0,
             "ticks": ""
            },
            "colorscale": [
             [
              0,
              "#0d0887"
             ],
             [
              0.1111111111111111,
              "#46039f"
             ],
             [
              0.2222222222222222,
              "#7201a8"
             ],
             [
              0.3333333333333333,
              "#9c179e"
             ],
             [
              0.4444444444444444,
              "#bd3786"
             ],
             [
              0.5555555555555556,
              "#d8576b"
             ],
             [
              0.6666666666666666,
              "#ed7953"
             ],
             [
              0.7777777777777778,
              "#fb9f3a"
             ],
             [
              0.8888888888888888,
              "#fdca26"
             ],
             [
              1,
              "#f0f921"
             ]
            ],
            "type": "histogram2dcontour"
           }
          ],
          "mesh3d": [
           {
            "colorbar": {
             "outlinewidth": 0,
             "ticks": ""
            },
            "type": "mesh3d"
           }
          ],
          "parcoords": [
           {
            "line": {
             "colorbar": {
              "outlinewidth": 0,
              "ticks": ""
             }
            },
            "type": "parcoords"
           }
          ],
          "scatter": [
           {
            "marker": {
             "colorbar": {
              "outlinewidth": 0,
              "ticks": ""
             }
            },
            "type": "scatter"
           }
          ],
          "scatter3d": [
           {
            "line": {
             "colorbar": {
              "outlinewidth": 0,
              "ticks": ""
             }
            },
            "marker": {
             "colorbar": {
              "outlinewidth": 0,
              "ticks": ""
             }
            },
            "type": "scatter3d"
           }
          ],
          "scattercarpet": [
           {
            "marker": {
             "colorbar": {
              "outlinewidth": 0,
              "ticks": ""
             }
            },
            "type": "scattercarpet"
           }
          ],
          "scattergeo": [
           {
            "marker": {
             "colorbar": {
              "outlinewidth": 0,
              "ticks": ""
             }
            },
            "type": "scattergeo"
           }
          ],
          "scattergl": [
           {
            "marker": {
             "colorbar": {
              "outlinewidth": 0,
              "ticks": ""
             }
            },
            "type": "scattergl"
           }
          ],
          "scattermapbox": [
           {
            "marker": {
             "colorbar": {
              "outlinewidth": 0,
              "ticks": ""
             }
            },
            "type": "scattermapbox"
           }
          ],
          "scatterpolar": [
           {
            "marker": {
             "colorbar": {
              "outlinewidth": 0,
              "ticks": ""
             }
            },
            "type": "scatterpolar"
           }
          ],
          "scatterpolargl": [
           {
            "marker": {
             "colorbar": {
              "outlinewidth": 0,
              "ticks": ""
             }
            },
            "type": "scatterpolargl"
           }
          ],
          "scatterternary": [
           {
            "marker": {
             "colorbar": {
              "outlinewidth": 0,
              "ticks": ""
             }
            },
            "type": "scatterternary"
           }
          ],
          "surface": [
           {
            "colorbar": {
             "outlinewidth": 0,
             "ticks": ""
            },
            "colorscale": [
             [
              0,
              "#0d0887"
             ],
             [
              0.1111111111111111,
              "#46039f"
             ],
             [
              0.2222222222222222,
              "#7201a8"
             ],
             [
              0.3333333333333333,
              "#9c179e"
             ],
             [
              0.4444444444444444,
              "#bd3786"
             ],
             [
              0.5555555555555556,
              "#d8576b"
             ],
             [
              0.6666666666666666,
              "#ed7953"
             ],
             [
              0.7777777777777778,
              "#fb9f3a"
             ],
             [
              0.8888888888888888,
              "#fdca26"
             ],
             [
              1,
              "#f0f921"
             ]
            ],
            "type": "surface"
           }
          ],
          "table": [
           {
            "cells": {
             "fill": {
              "color": "#EBF0F8"
             },
             "line": {
              "color": "white"
             }
            },
            "header": {
             "fill": {
              "color": "#C8D4E3"
             },
             "line": {
              "color": "white"
             }
            },
            "type": "table"
           }
          ]
         },
         "layout": {
          "annotationdefaults": {
           "arrowcolor": "#2a3f5f",
           "arrowhead": 0,
           "arrowwidth": 1
          },
          "colorscale": {
           "diverging": [
            [
             0,
             "#8e0152"
            ],
            [
             0.1,
             "#c51b7d"
            ],
            [
             0.2,
             "#de77ae"
            ],
            [
             0.3,
             "#f1b6da"
            ],
            [
             0.4,
             "#fde0ef"
            ],
            [
             0.5,
             "#f7f7f7"
            ],
            [
             0.6,
             "#e6f5d0"
            ],
            [
             0.7,
             "#b8e186"
            ],
            [
             0.8,
             "#7fbc41"
            ],
            [
             0.9,
             "#4d9221"
            ],
            [
             1,
             "#276419"
            ]
           ],
           "sequential": [
            [
             0,
             "#0d0887"
            ],
            [
             0.1111111111111111,
             "#46039f"
            ],
            [
             0.2222222222222222,
             "#7201a8"
            ],
            [
             0.3333333333333333,
             "#9c179e"
            ],
            [
             0.4444444444444444,
             "#bd3786"
            ],
            [
             0.5555555555555556,
             "#d8576b"
            ],
            [
             0.6666666666666666,
             "#ed7953"
            ],
            [
             0.7777777777777778,
             "#fb9f3a"
            ],
            [
             0.8888888888888888,
             "#fdca26"
            ],
            [
             1,
             "#f0f921"
            ]
           ],
           "sequentialminus": [
            [
             0,
             "#0d0887"
            ],
            [
             0.1111111111111111,
             "#46039f"
            ],
            [
             0.2222222222222222,
             "#7201a8"
            ],
            [
             0.3333333333333333,
             "#9c179e"
            ],
            [
             0.4444444444444444,
             "#bd3786"
            ],
            [
             0.5555555555555556,
             "#d8576b"
            ],
            [
             0.6666666666666666,
             "#ed7953"
            ],
            [
             0.7777777777777778,
             "#fb9f3a"
            ],
            [
             0.8888888888888888,
             "#fdca26"
            ],
            [
             1,
             "#f0f921"
            ]
           ]
          },
          "colorway": [
           "#636efa",
           "#EF553B",
           "#00cc96",
           "#ab63fa",
           "#FFA15A",
           "#19d3f3",
           "#FF6692",
           "#B6E880",
           "#FF97FF",
           "#FECB52"
          ],
          "font": {
           "color": "#2a3f5f"
          },
          "geo": {
           "bgcolor": "white",
           "lakecolor": "white",
           "landcolor": "#E5ECF6",
           "showlakes": true,
           "showland": true,
           "subunitcolor": "white"
          },
          "hoverlabel": {
           "align": "left"
          },
          "hovermode": "closest",
          "mapbox": {
           "style": "light"
          },
          "paper_bgcolor": "white",
          "plot_bgcolor": "#E5ECF6",
          "polar": {
           "angularaxis": {
            "gridcolor": "white",
            "linecolor": "white",
            "ticks": ""
           },
           "bgcolor": "#E5ECF6",
           "radialaxis": {
            "gridcolor": "white",
            "linecolor": "white",
            "ticks": ""
           }
          },
          "scene": {
           "xaxis": {
            "backgroundcolor": "#E5ECF6",
            "gridcolor": "white",
            "gridwidth": 2,
            "linecolor": "white",
            "showbackground": true,
            "ticks": "",
            "zerolinecolor": "white"
           },
           "yaxis": {
            "backgroundcolor": "#E5ECF6",
            "gridcolor": "white",
            "gridwidth": 2,
            "linecolor": "white",
            "showbackground": true,
            "ticks": "",
            "zerolinecolor": "white"
           },
           "zaxis": {
            "backgroundcolor": "#E5ECF6",
            "gridcolor": "white",
            "gridwidth": 2,
            "linecolor": "white",
            "showbackground": true,
            "ticks": "",
            "zerolinecolor": "white"
           }
          },
          "shapedefaults": {
           "line": {
            "color": "#2a3f5f"
           }
          },
          "ternary": {
           "aaxis": {
            "gridcolor": "white",
            "linecolor": "white",
            "ticks": ""
           },
           "baxis": {
            "gridcolor": "white",
            "linecolor": "white",
            "ticks": ""
           },
           "bgcolor": "#E5ECF6",
           "caxis": {
            "gridcolor": "white",
            "linecolor": "white",
            "ticks": ""
           }
          },
          "title": {
           "x": 0.05
          },
          "xaxis": {
           "automargin": true,
           "gridcolor": "white",
           "linecolor": "white",
           "ticks": "",
           "zerolinecolor": "white",
           "zerolinewidth": 2
          },
          "yaxis": {
           "automargin": true,
           "gridcolor": "white",
           "linecolor": "white",
           "ticks": "",
           "zerolinecolor": "white",
           "zerolinewidth": 2
          }
         }
        },
        "xaxis": {
         "showgrid": false,
         "showticklabels": true,
         "tickvals": [
          1,
          2,
          3,
          4,
          5,
          6,
          7,
          8,
          9
         ],
         "zeroline": false
        },
        "yaxis": {
         "showgrid": false,
         "showticklabels": false,
         "zeroline": false
        }
       }
      },
      "text/html": [
       "<div>\n",
       "        \n",
       "        \n",
       "            <div id=\"d032a761-9867-49c2-a3d9-8adab7d9ed2a\" class=\"plotly-graph-div\" style=\"height:525px; width:100%;\"></div>\n",
       "            <script type=\"text/javascript\">\n",
       "                require([\"plotly\"], function(Plotly) {\n",
       "                    window.PLOTLYENV=window.PLOTLYENV || {};\n",
       "                    \n",
       "                if (document.getElementById(\"d032a761-9867-49c2-a3d9-8adab7d9ed2a\")) {\n",
       "                    Plotly.newPlot(\n",
       "                        'd032a761-9867-49c2-a3d9-8adab7d9ed2a',\n",
       "                        [{\"hoverinfo\": \"text\", \"line\": {\"color\": \"cornflowerblue\", \"width\": 0.5744508852356586}, \"mode\": \"lines\", \"text\": \"0.287\", \"type\": \"scatter\", \"x\": [1, 2, null], \"y\": [0, 0, null]}, {\"hoverinfo\": \"text\", \"line\": {\"color\": \"cornflowerblue\", \"width\": 0.4985030595774154}, \"mode\": \"lines\", \"text\": \"0.249\", \"type\": \"scatter\", \"x\": [1, 2, null], \"y\": [0, 1, null]}, {\"hoverinfo\": \"text\", \"line\": {\"color\": \"cornflowerblue\", \"width\": 0.45710665234980946}, \"mode\": \"lines\", \"text\": \"0.229\", \"type\": \"scatter\", \"x\": [1, 2, null], \"y\": [0, 2, null]}, {\"hoverinfo\": \"text\", \"line\": {\"color\": \"cornflowerblue\", \"width\": 1.2690530988557076}, \"mode\": \"lines\", \"text\": \"0.635\", \"type\": \"scatter\", \"x\": [1, 2, null], \"y\": [0, 3, null]}, {\"hoverinfo\": \"text\", \"line\": {\"color\": \"cornflowerblue\", \"width\": 0.4978455792166505}, \"mode\": \"lines\", \"text\": \"0.249\", \"type\": \"scatter\", \"x\": [1, 2, null], \"y\": [0, 4, null]}, {\"hoverinfo\": \"text\", \"line\": {\"color\": \"cornflowerblue\", \"width\": 0.4472922509102421}, \"mode\": \"lines\", \"text\": \"0.224\", \"type\": \"scatter\", \"x\": [1, 2, null], \"y\": [0, 5, null]}, {\"hoverinfo\": \"text\", \"line\": {\"color\": \"cornflowerblue\", \"width\": 0.4195774797787361}, \"mode\": \"lines\", \"text\": \"0.21\", \"type\": \"scatter\", \"x\": [1, 2, null], \"y\": [0, 6, null]}, {\"hoverinfo\": \"text\", \"line\": {\"color\": \"cornflowerblue\", \"width\": 0.4110442188559137}, \"mode\": \"lines\", \"text\": \"0.206\", \"type\": \"scatter\", \"x\": [1, 2, null], \"y\": [0, 7, null]}, {\"hoverinfo\": \"text\", \"line\": {\"color\": \"cornflowerblue\", \"width\": 0.40830280352886916}, \"mode\": \"lines\", \"text\": \"0.204\", \"type\": \"scatter\", \"x\": [1, 2, null], \"y\": [0, 8, null]}, {\"hoverinfo\": \"text\", \"line\": {\"color\": \"cornflowerblue\", \"width\": 0.38358439698847385}, \"mode\": \"lines\", \"text\": \"0.192\", \"type\": \"scatter\", \"x\": [1, 2, null], \"y\": [0, 9, null]}, {\"hoverinfo\": \"text\", \"line\": {\"color\": \"cornflowerblue\", \"width\": 0.45959908478779}, \"mode\": \"lines\", \"text\": \"0.23\", \"type\": \"scatter\", \"x\": [1, 2, null], \"y\": [1, 0, null]}, {\"hoverinfo\": \"text\", \"line\": {\"color\": \"cornflowerblue\", \"width\": 0.5167555908667224}, \"mode\": \"lines\", \"text\": \"0.258\", \"type\": \"scatter\", \"x\": [1, 2, null], \"y\": [1, 1, null]}, {\"hoverinfo\": \"text\", \"line\": {\"color\": \"cornflowerblue\", \"width\": 0.43485094373304584}, \"mode\": \"lines\", \"text\": \"0.217\", \"type\": \"scatter\", \"x\": [1, 2, null], \"y\": [1, 2, null]}, {\"hoverinfo\": \"text\", \"line\": {\"color\": \"cornflowerblue\", \"width\": 0.4499343086578695}, \"mode\": \"lines\", \"text\": \"0.225\", \"type\": \"scatter\", \"x\": [1, 2, null], \"y\": [1, 3, null]}, {\"hoverinfo\": \"text\", \"line\": {\"color\": \"cornflowerblue\", \"width\": 0.4472172735413105}, \"mode\": \"lines\", \"text\": \"0.224\", \"type\": \"scatter\", \"x\": [1, 2, null], \"y\": [1, 4, null]}, {\"hoverinfo\": \"text\", \"line\": {\"color\": \"cornflowerblue\", \"width\": 0.4746272940013819}, \"mode\": \"lines\", \"text\": \"0.237\", \"type\": \"scatter\", \"x\": [1, 2, null], \"y\": [1, 5, null]}, {\"hoverinfo\": \"text\", \"line\": {\"color\": \"cornflowerblue\", \"width\": 0.3945346741625924}, \"mode\": \"lines\", \"text\": \"0.197\", \"type\": \"scatter\", \"x\": [1, 2, null], \"y\": [1, 6, null]}, {\"hoverinfo\": \"text\", \"line\": {\"color\": \"cornflowerblue\", \"width\": 0.3982017497883022}, \"mode\": \"lines\", \"text\": \"0.199\", \"type\": \"scatter\", \"x\": [1, 2, null], \"y\": [1, 7, null]}, {\"hoverinfo\": \"text\", \"line\": {\"color\": \"cornflowerblue\", \"width\": 0.3876110583635502}, \"mode\": \"lines\", \"text\": \"0.194\", \"type\": \"scatter\", \"x\": [1, 2, null], \"y\": [1, 8, null]}, {\"hoverinfo\": \"text\", \"line\": {\"color\": \"cornflowerblue\", \"width\": 0.3509665306926444}, \"mode\": \"lines\", \"text\": \"0.175\", \"type\": \"scatter\", \"x\": [1, 2, null], \"y\": [1, 9, null]}, {\"hoverinfo\": \"text\", \"line\": {\"color\": \"cornflowerblue\", \"width\": 0.5835449376856479}, \"mode\": \"lines\", \"text\": \"0.292\", \"type\": \"scatter\", \"x\": [1, 2, null], \"y\": [2, 0, null]}, {\"hoverinfo\": \"text\", \"line\": {\"color\": \"cornflowerblue\", \"width\": 0.7403399994514828}, \"mode\": \"lines\", \"text\": \"0.37\", \"type\": \"scatter\", \"x\": [1, 2, null], \"y\": [2, 1, null]}, {\"hoverinfo\": \"text\", \"line\": {\"color\": \"cornflowerblue\", \"width\": 0.4651563528164361}, \"mode\": \"lines\", \"text\": \"0.233\", \"type\": \"scatter\", \"x\": [1, 2, null], \"y\": [2, 2, null]}, {\"hoverinfo\": \"text\", \"line\": {\"color\": \"cornflowerblue\", \"width\": 0.5349040667252964}, \"mode\": \"lines\", \"text\": \"0.267\", \"type\": \"scatter\", \"x\": [1, 2, null], \"y\": [2, 3, null]}, {\"hoverinfo\": \"text\", \"line\": {\"color\": \"cornflowerblue\", \"width\": 0.5102322571978718}, \"mode\": \"lines\", \"text\": \"0.255\", \"type\": \"scatter\", \"x\": [1, 2, null], \"y\": [2, 4, null]}, {\"hoverinfo\": \"text\", \"line\": {\"color\": \"cornflowerblue\", \"width\": 0.4593349570183391}, \"mode\": \"lines\", \"text\": \"0.23\", \"type\": \"scatter\", \"x\": [1, 2, null], \"y\": [2, 5, null]}, {\"hoverinfo\": \"text\", \"line\": {\"color\": \"cornflowerblue\", \"width\": 0.41146451356877856}, \"mode\": \"lines\", \"text\": \"0.206\", \"type\": \"scatter\", \"x\": [1, 2, null], \"y\": [2, 6, null]}, {\"hoverinfo\": \"text\", \"line\": {\"color\": \"cornflowerblue\", \"width\": 0.4083920499685877}, \"mode\": \"lines\", \"text\": \"0.204\", \"type\": \"scatter\", \"x\": [1, 2, null], \"y\": [2, 7, null]}, {\"hoverinfo\": \"text\", \"line\": {\"color\": \"cornflowerblue\", \"width\": 0.41584256848094825}, \"mode\": \"lines\", \"text\": \"0.208\", \"type\": \"scatter\", \"x\": [1, 2, null], \"y\": [2, 8, null]}, {\"hoverinfo\": \"text\", \"line\": {\"color\": \"cornflowerblue\", \"width\": 0.3807562311368496}, \"mode\": \"lines\", \"text\": \"0.19\", \"type\": \"scatter\", \"x\": [1, 2, null], \"y\": [2, 9, null]}, {\"hoverinfo\": \"text\", \"line\": {\"color\": \"cornflowerblue\", \"width\": 0.8274126472413692}, \"mode\": \"lines\", \"text\": \"0.414\", \"type\": \"scatter\", \"x\": [1, 2, null], \"y\": [3, 0, null]}, {\"hoverinfo\": \"text\", \"line\": {\"color\": \"cornflowerblue\", \"width\": 0.5305580105730372}, \"mode\": \"lines\", \"text\": \"0.265\", \"type\": \"scatter\", \"x\": [1, 2, null], \"y\": [3, 1, null]}, {\"hoverinfo\": \"text\", \"line\": {\"color\": \"cornflowerblue\", \"width\": 0.502867266215891}, \"mode\": \"lines\", \"text\": \"0.251\", \"type\": \"scatter\", \"x\": [1, 2, null], \"y\": [3, 2, null]}, {\"hoverinfo\": \"text\", \"line\": {\"color\": \"cornflowerblue\", \"width\": 0.5371884868570296}, \"mode\": \"lines\", \"text\": \"0.269\", \"type\": \"scatter\", \"x\": [1, 2, null], \"y\": [3, 3, null]}, {\"hoverinfo\": \"text\", \"line\": {\"color\": \"cornflowerblue\", \"width\": 0.6641898021104808}, \"mode\": \"lines\", \"text\": \"0.332\", \"type\": \"scatter\", \"x\": [1, 2, null], \"y\": [3, 4, null]}, {\"hoverinfo\": \"text\", \"line\": {\"color\": \"cornflowerblue\", \"width\": 0.45696767404370264}, \"mode\": \"lines\", \"text\": \"0.228\", \"type\": \"scatter\", \"x\": [1, 2, null], \"y\": [3, 5, null]}, {\"hoverinfo\": \"text\", \"line\": {\"color\": \"cornflowerblue\", \"width\": 0.4175841998343475}, \"mode\": \"lines\", \"text\": \"0.209\", \"type\": \"scatter\", \"x\": [1, 2, null], \"y\": [3, 6, null]}, {\"hoverinfo\": \"text\", \"line\": {\"color\": \"cornflowerblue\", \"width\": 0.41472547121734415}, \"mode\": \"lines\", \"text\": \"0.207\", \"type\": \"scatter\", \"x\": [1, 2, null], \"y\": [3, 7, null]}, {\"hoverinfo\": \"text\", \"line\": {\"color\": \"cornflowerblue\", \"width\": 0.4075125273739851}, \"mode\": \"lines\", \"text\": \"0.204\", \"type\": \"scatter\", \"x\": [1, 2, null], \"y\": [3, 8, null]}, {\"hoverinfo\": \"text\", \"line\": {\"color\": \"cornflowerblue\", \"width\": 0.3847272968896086}, \"mode\": \"lines\", \"text\": \"0.192\", \"type\": \"scatter\", \"x\": [1, 2, null], \"y\": [3, 9, null]}, {\"hoverinfo\": \"text\", \"line\": {\"color\": \"cornflowerblue\", \"width\": 0.5605533591880064}, \"mode\": \"lines\", \"text\": \"0.28\", \"type\": \"scatter\", \"x\": [1, 2, null], \"y\": [4, 0, null]}, {\"hoverinfo\": \"text\", \"line\": {\"color\": \"cornflowerblue\", \"width\": 0.5126564586383215}, \"mode\": \"lines\", \"text\": \"0.256\", \"type\": \"scatter\", \"x\": [1, 2, null], \"y\": [4, 1, null]}, {\"hoverinfo\": \"text\", \"line\": {\"color\": \"cornflowerblue\", \"width\": 0.46574267219795373}, \"mode\": \"lines\", \"text\": \"0.233\", \"type\": \"scatter\", \"x\": [1, 2, null], \"y\": [4, 2, null]}, {\"hoverinfo\": \"text\", \"line\": {\"color\": \"cornflowerblue\", \"width\": 0.4915322702757916}, \"mode\": \"lines\", \"text\": \"0.246\", \"type\": \"scatter\", \"x\": [1, 2, null], \"y\": [4, 3, null]}, {\"hoverinfo\": \"text\", \"line\": {\"color\": \"cornflowerblue\", \"width\": 1.3784279070488197}, \"mode\": \"lines\", \"text\": \"0.689\", \"type\": \"scatter\", \"x\": [1, 2, null], \"y\": [4, 4, null]}, {\"hoverinfo\": \"text\", \"line\": {\"color\": \"cornflowerblue\", \"width\": 0.4328132584950569}, \"mode\": \"lines\", \"text\": \"0.216\", \"type\": \"scatter\", \"x\": [1, 2, null], \"y\": [4, 5, null]}, {\"hoverinfo\": \"text\", \"line\": {\"color\": \"cornflowerblue\", \"width\": 0.4161848200420322}, \"mode\": \"lines\", \"text\": \"0.208\", \"type\": \"scatter\", \"x\": [1, 2, null], \"y\": [4, 6, null]}, {\"hoverinfo\": \"text\", \"line\": {\"color\": \"cornflowerblue\", \"width\": 0.4163508153121182}, \"mode\": \"lines\", \"text\": \"0.208\", \"type\": \"scatter\", \"x\": [1, 2, null], \"y\": [4, 7, null]}, {\"hoverinfo\": \"text\", \"line\": {\"color\": \"cornflowerblue\", \"width\": 0.40611641890553396}, \"mode\": \"lines\", \"text\": \"0.203\", \"type\": \"scatter\", \"x\": [1, 2, null], \"y\": [4, 8, null]}, {\"hoverinfo\": \"text\", \"line\": {\"color\": \"cornflowerblue\", \"width\": 0.38248640406831885}, \"mode\": \"lines\", \"text\": \"0.191\", \"type\": \"scatter\", \"x\": [1, 2, null], \"y\": [4, 9, null]}, {\"hoverinfo\": \"text\", \"line\": {\"color\": \"cornflowerblue\", \"width\": 0.49619406936532945}, \"mode\": \"lines\", \"text\": \"0.248\", \"type\": \"scatter\", \"x\": [1, 2, null], \"y\": [5, 0, null]}, {\"hoverinfo\": \"text\", \"line\": {\"color\": \"cornflowerblue\", \"width\": 0.47697226011784777}, \"mode\": \"lines\", \"text\": \"0.238\", \"type\": \"scatter\", \"x\": [1, 2, null], \"y\": [5, 1, null]}, {\"hoverinfo\": \"text\", \"line\": {\"color\": \"cornflowerblue\", \"width\": 1.227360773366755}, \"mode\": \"lines\", \"text\": \"0.614\", \"type\": \"scatter\", \"x\": [1, 2, null], \"y\": [5, 2, null]}, {\"hoverinfo\": \"text\", \"line\": {\"color\": \"cornflowerblue\", \"width\": 0.46399220488268}, \"mode\": \"lines\", \"text\": \"0.232\", \"type\": \"scatter\", \"x\": [1, 2, null], \"y\": [5, 3, null]}, {\"hoverinfo\": \"text\", \"line\": {\"color\": \"cornflowerblue\", \"width\": 0.48024559747510526}, \"mode\": \"lines\", \"text\": \"0.24\", \"type\": \"scatter\", \"x\": [1, 2, null], \"y\": [5, 4, null]}, {\"hoverinfo\": \"text\", \"line\": {\"color\": \"cornflowerblue\", \"width\": 0.4244970871478759}, \"mode\": \"lines\", \"text\": \"0.212\", \"type\": \"scatter\", \"x\": [1, 2, null], \"y\": [5, 5, null]}, {\"hoverinfo\": \"text\", \"line\": {\"color\": \"cornflowerblue\", \"width\": 0.40070464644867515}, \"mode\": \"lines\", \"text\": \"0.2\", \"type\": \"scatter\", \"x\": [1, 2, null], \"y\": [5, 6, null]}, {\"hoverinfo\": \"text\", \"line\": {\"color\": \"cornflowerblue\", \"width\": 0.39630000881184024}, \"mode\": \"lines\", \"text\": \"0.198\", \"type\": \"scatter\", \"x\": [1, 2, null], \"y\": [5, 7, null]}, {\"hoverinfo\": \"text\", \"line\": {\"color\": \"cornflowerblue\", \"width\": 0.39552689232522753}, \"mode\": \"lines\", \"text\": \"0.198\", \"type\": \"scatter\", \"x\": [1, 2, null], \"y\": [5, 8, null]}, {\"hoverinfo\": \"text\", \"line\": {\"color\": \"cornflowerblue\", \"width\": 0.36178621714540654}, \"mode\": \"lines\", \"text\": \"0.181\", \"type\": \"scatter\", \"x\": [1, 2, null], \"y\": [5, 9, null]}, {\"hoverinfo\": \"text\", \"line\": {\"color\": \"cornflowerblue\", \"width\": 0.4536897113685076}, \"mode\": \"lines\", \"text\": \"0.227\", \"type\": \"scatter\", \"x\": [1, 2, null], \"y\": [6, 0, null]}, {\"hoverinfo\": \"text\", \"line\": {\"color\": \"cornflowerblue\", \"width\": 0.47800259351118113}, \"mode\": \"lines\", \"text\": \"0.239\", \"type\": \"scatter\", \"x\": [1, 2, null], \"y\": [6, 1, null]}, {\"hoverinfo\": \"text\", \"line\": {\"color\": \"cornflowerblue\", \"width\": 0.4338454050208136}, \"mode\": \"lines\", \"text\": \"0.217\", \"type\": \"scatter\", \"x\": [1, 2, null], \"y\": [6, 2, null]}, {\"hoverinfo\": \"text\", \"line\": {\"color\": \"cornflowerblue\", \"width\": 0.46188506842300553}, \"mode\": \"lines\", \"text\": \"0.231\", \"type\": \"scatter\", \"x\": [1, 2, null], \"y\": [6, 3, null]}, {\"hoverinfo\": \"text\", \"line\": {\"color\": \"cornflowerblue\", \"width\": 0.44845854394539897}, \"mode\": \"lines\", \"text\": \"0.224\", \"type\": \"scatter\", \"x\": [1, 2, null], \"y\": [6, 4, null]}, {\"hoverinfo\": \"text\", \"line\": {\"color\": \"cornflowerblue\", \"width\": 0.4517988504523643}, \"mode\": \"lines\", \"text\": \"0.226\", \"type\": \"scatter\", \"x\": [1, 2, null], \"y\": [6, 5, null]}, {\"hoverinfo\": \"text\", \"line\": {\"color\": \"cornflowerblue\", \"width\": 0.40901465159934003}, \"mode\": \"lines\", \"text\": \"0.205\", \"type\": \"scatter\", \"x\": [1, 2, null], \"y\": [6, 6, null]}, {\"hoverinfo\": \"text\", \"line\": {\"color\": \"cornflowerblue\", \"width\": 0.4110003712728168}, \"mode\": \"lines\", \"text\": \"0.206\", \"type\": \"scatter\", \"x\": [1, 2, null], \"y\": [6, 7, null]}, {\"hoverinfo\": \"text\", \"line\": {\"color\": \"cornflowerblue\", \"width\": 0.40041998670469076}, \"mode\": \"lines\", \"text\": \"0.2\", \"type\": \"scatter\", \"x\": [1, 2, null], \"y\": [6, 8, null]}, {\"hoverinfo\": \"text\", \"line\": {\"color\": \"cornflowerblue\", \"width\": 0.3677115164484695}, \"mode\": \"lines\", \"text\": \"0.184\", \"type\": \"scatter\", \"x\": [1, 2, null], \"y\": [6, 9, null]}, {\"hoverinfo\": \"text\", \"line\": {\"color\": \"cornflowerblue\", \"width\": 0.44339071357407933}, \"mode\": \"lines\", \"text\": \"0.222\", \"type\": \"scatter\", \"x\": [1, 2, null], \"y\": [7, 0, null]}, {\"hoverinfo\": \"text\", \"line\": {\"color\": \"cornflowerblue\", \"width\": 0.4334456918033614}, \"mode\": \"lines\", \"text\": \"0.217\", \"type\": \"scatter\", \"x\": [1, 2, null], \"y\": [7, 1, null]}, {\"hoverinfo\": \"text\", \"line\": {\"color\": \"cornflowerblue\", \"width\": 0.4299550673469639}, \"mode\": \"lines\", \"text\": \"0.215\", \"type\": \"scatter\", \"x\": [1, 2, null], \"y\": [7, 2, null]}, {\"hoverinfo\": \"text\", \"line\": {\"color\": \"cornflowerblue\", \"width\": 0.44188100465563945}, \"mode\": \"lines\", \"text\": \"0.221\", \"type\": \"scatter\", \"x\": [1, 2, null], \"y\": [7, 3, null]}, {\"hoverinfo\": \"text\", \"line\": {\"color\": \"cornflowerblue\", \"width\": 0.44405288821899264}, \"mode\": \"lines\", \"text\": \"0.222\", \"type\": \"scatter\", \"x\": [1, 2, null], \"y\": [7, 4, null]}, {\"hoverinfo\": \"text\", \"line\": {\"color\": \"cornflowerblue\", \"width\": 0.4199069443199638}, \"mode\": \"lines\", \"text\": \"0.21\", \"type\": \"scatter\", \"x\": [1, 2, null], \"y\": [7, 5, null]}, {\"hoverinfo\": \"text\", \"line\": {\"color\": \"cornflowerblue\", \"width\": 0.4209831511715882}, \"mode\": \"lines\", \"text\": \"0.21\", \"type\": \"scatter\", \"x\": [1, 2, null], \"y\": [7, 6, null]}, {\"hoverinfo\": \"text\", \"line\": {\"color\": \"cornflowerblue\", \"width\": 0.4248504103992444}, \"mode\": \"lines\", \"text\": \"0.212\", \"type\": \"scatter\", \"x\": [1, 2, null], \"y\": [7, 7, null]}, {\"hoverinfo\": \"text\", \"line\": {\"color\": \"cornflowerblue\", \"width\": 0.40730233295530754}, \"mode\": \"lines\", \"text\": \"0.204\", \"type\": \"scatter\", \"x\": [1, 2, null], \"y\": [7, 8, null]}, {\"hoverinfo\": \"text\", \"line\": {\"color\": \"cornflowerblue\", \"width\": 0.4215712293163199}, \"mode\": \"lines\", \"text\": \"0.211\", \"type\": \"scatter\", \"x\": [1, 2, null], \"y\": [7, 9, null]}, {\"hoverinfo\": \"text\", \"line\": {\"color\": \"cornflowerblue\", \"width\": 0.5651495571356233}, \"mode\": \"lines\", \"text\": \"0.283\", \"type\": \"scatter\", \"x\": [2, 3, null], \"y\": [0, 0, null]}, {\"hoverinfo\": \"text\", \"line\": {\"color\": \"cornflowerblue\", \"width\": 0.5165992718306235}, \"mode\": \"lines\", \"text\": \"0.258\", \"type\": \"scatter\", \"x\": [2, 3, null], \"y\": [0, 1, null]}, {\"hoverinfo\": \"text\", \"line\": {\"color\": \"cornflowerblue\", \"width\": 0.4921398027279964}, \"mode\": \"lines\", \"text\": \"0.246\", \"type\": \"scatter\", \"x\": [2, 3, null], \"y\": [0, 2, null]}, {\"hoverinfo\": \"text\", \"line\": {\"color\": \"cornflowerblue\", \"width\": 0.9584389858426784}, \"mode\": \"lines\", \"text\": \"0.479\", \"type\": \"scatter\", \"x\": [2, 3, null], \"y\": [0, 3, null]}, {\"hoverinfo\": \"text\", \"line\": {\"color\": \"cornflowerblue\", \"width\": 0.4781836141844898}, \"mode\": \"lines\", \"text\": \"0.239\", \"type\": \"scatter\", \"x\": [2, 3, null], \"y\": [0, 4, null]}, {\"hoverinfo\": \"text\", \"line\": {\"color\": \"cornflowerblue\", \"width\": 0.5883422435020631}, \"mode\": \"lines\", \"text\": \"0.294\", \"type\": \"scatter\", \"x\": [2, 3, null], \"y\": [0, 5, null]}, {\"hoverinfo\": \"text\", \"line\": {\"color\": \"cornflowerblue\", \"width\": 0.4450806392934528}, \"mode\": \"lines\", \"text\": \"0.223\", \"type\": \"scatter\", \"x\": [2, 3, null], \"y\": [0, 6, null]}, {\"hoverinfo\": \"text\", \"line\": {\"color\": \"cornflowerblue\", \"width\": 0.372772385286239}, \"mode\": \"lines\", \"text\": \"0.186\", \"type\": \"scatter\", \"x\": [2, 3, null], \"y\": [0, 8, null]}, {\"hoverinfo\": \"text\", \"line\": {\"color\": \"cornflowerblue\", \"width\": 0.48757460823897886}, \"mode\": \"lines\", \"text\": \"0.244\", \"type\": \"scatter\", \"x\": [2, 3, null], \"y\": [1, 0, null]}, {\"hoverinfo\": \"text\", \"line\": {\"color\": \"cornflowerblue\", \"width\": 0.5619538275695783}, \"mode\": \"lines\", \"text\": \"0.281\", \"type\": \"scatter\", \"x\": [2, 3, null], \"y\": [1, 1, null]}, {\"hoverinfo\": \"text\", \"line\": {\"color\": \"cornflowerblue\", \"width\": 0.6611023610962052}, \"mode\": \"lines\", \"text\": \"0.331\", \"type\": \"scatter\", \"x\": [2, 3, null], \"y\": [1, 2, null]}, {\"hoverinfo\": \"text\", \"line\": {\"color\": \"cornflowerblue\", \"width\": 0.5659131973798105}, \"mode\": \"lines\", \"text\": \"0.283\", \"type\": \"scatter\", \"x\": [2, 3, null], \"y\": [1, 3, null]}, {\"hoverinfo\": \"text\", \"line\": {\"color\": \"cornflowerblue\", \"width\": 0.47513644140756556}, \"mode\": \"lines\", \"text\": \"0.238\", \"type\": \"scatter\", \"x\": [2, 3, null], \"y\": [1, 4, null]}, {\"hoverinfo\": \"text\", \"line\": {\"color\": \"cornflowerblue\", \"width\": 0.5128976198668462}, \"mode\": \"lines\", \"text\": \"0.256\", \"type\": \"scatter\", \"x\": [2, 3, null], \"y\": [1, 5, null]}, {\"hoverinfo\": \"text\", \"line\": {\"color\": \"cornflowerblue\", \"width\": 0.4398611611835813}, \"mode\": \"lines\", \"text\": \"0.22\", \"type\": \"scatter\", \"x\": [2, 3, null], \"y\": [1, 6, null]}, {\"hoverinfo\": \"text\", \"line\": {\"color\": \"cornflowerblue\", \"width\": 0.3418239818982434}, \"mode\": \"lines\", \"text\": \"0.171\", \"type\": \"scatter\", \"x\": [2, 3, null], \"y\": [1, 8, null]}, {\"hoverinfo\": \"text\", \"line\": {\"color\": \"cornflowerblue\", \"width\": 0.4585215220722376}, \"mode\": \"lines\", \"text\": \"0.229\", \"type\": \"scatter\", \"x\": [2, 3, null], \"y\": [2, 0, null]}, {\"hoverinfo\": \"text\", \"line\": {\"color\": \"cornflowerblue\", \"width\": 0.4485158624373866}, \"mode\": \"lines\", \"text\": \"0.224\", \"type\": \"scatter\", \"x\": [2, 3, null], \"y\": [2, 1, null]}, {\"hoverinfo\": \"text\", \"line\": {\"color\": \"cornflowerblue\", \"width\": 0.444901085329718}, \"mode\": \"lines\", \"text\": \"0.222\", \"type\": \"scatter\", \"x\": [2, 3, null], \"y\": [2, 2, null]}, {\"hoverinfo\": \"text\", \"line\": {\"color\": \"cornflowerblue\", \"width\": 0.48919889816127177}, \"mode\": \"lines\", \"text\": \"0.245\", \"type\": \"scatter\", \"x\": [2, 3, null], \"y\": [2, 3, null]}, {\"hoverinfo\": \"text\", \"line\": {\"color\": \"cornflowerblue\", \"width\": 1.0956387675154038}, \"mode\": \"lines\", \"text\": \"0.548\", \"type\": \"scatter\", \"x\": [2, 3, null], \"y\": [2, 4, null]}, {\"hoverinfo\": \"text\", \"line\": {\"color\": \"cornflowerblue\", \"width\": 0.47281245387786375}, \"mode\": \"lines\", \"text\": \"0.236\", \"type\": \"scatter\", \"x\": [2, 3, null], \"y\": [2, 5, null]}, {\"hoverinfo\": \"text\", \"line\": {\"color\": \"cornflowerblue\", \"width\": 0.4188228892855627}, \"mode\": \"lines\", \"text\": \"0.209\", \"type\": \"scatter\", \"x\": [2, 3, null], \"y\": [2, 6, null]}, {\"hoverinfo\": \"text\", \"line\": {\"color\": \"cornflowerblue\", \"width\": 0.34886325728054696}, \"mode\": \"lines\", \"text\": \"0.174\", \"type\": \"scatter\", \"x\": [2, 3, null], \"y\": [2, 8, null]}, {\"hoverinfo\": \"text\", \"line\": {\"color\": \"cornflowerblue\", \"width\": 1.2863633592796802}, \"mode\": \"lines\", \"text\": \"0.643\", \"type\": \"scatter\", \"x\": [2, 3, null], \"y\": [3, 0, null]}, {\"hoverinfo\": \"text\", \"line\": {\"color\": \"cornflowerblue\", \"width\": 0.5379458094344214}, \"mode\": \"lines\", \"text\": \"0.269\", \"type\": \"scatter\", \"x\": [2, 3, null], \"y\": [3, 1, null]}, {\"hoverinfo\": \"text\", \"line\": {\"color\": \"cornflowerblue\", \"width\": 0.47225349536684935}, \"mode\": \"lines\", \"text\": \"0.236\", \"type\": \"scatter\", \"x\": [2, 3, null], \"y\": [3, 2, null]}, {\"hoverinfo\": \"text\", \"line\": {\"color\": \"cornflowerblue\", \"width\": 0.5585503629051749}, \"mode\": \"lines\", \"text\": \"0.279\", \"type\": \"scatter\", \"x\": [2, 3, null], \"y\": [3, 3, null]}, {\"hoverinfo\": \"text\", \"line\": {\"color\": \"cornflowerblue\", \"width\": 0.4590409973220264}, \"mode\": \"lines\", \"text\": \"0.23\", \"type\": \"scatter\", \"x\": [2, 3, null], \"y\": [3, 4, null]}, {\"hoverinfo\": \"text\", \"line\": {\"color\": \"cornflowerblue\", \"width\": 0.4981223727820352}, \"mode\": \"lines\", \"text\": \"0.249\", \"type\": \"scatter\", \"x\": [2, 3, null], \"y\": [3, 5, null]}, {\"hoverinfo\": \"text\", \"line\": {\"color\": \"cornflowerblue\", \"width\": 0.4364619955905537}, \"mode\": \"lines\", \"text\": \"0.218\", \"type\": \"scatter\", \"x\": [2, 3, null], \"y\": [3, 6, null]}, {\"hoverinfo\": \"text\", \"line\": {\"color\": \"cornflowerblue\", \"width\": 0.3637574852069688}, \"mode\": \"lines\", \"text\": \"0.182\", \"type\": \"scatter\", \"x\": [2, 3, null], \"y\": [3, 8, null]}, {\"hoverinfo\": \"text\", \"line\": {\"color\": \"cornflowerblue\", \"width\": 0.4977800476327234}, \"mode\": \"lines\", \"text\": \"0.249\", \"type\": \"scatter\", \"x\": [2, 3, null], \"y\": [4, 0, null]}, {\"hoverinfo\": \"text\", \"line\": {\"color\": \"cornflowerblue\", \"width\": 0.47747223958818835}, \"mode\": \"lines\", \"text\": \"0.239\", \"type\": \"scatter\", \"x\": [2, 3, null], \"y\": [4, 1, null]}, {\"hoverinfo\": \"text\", \"line\": {\"color\": \"cornflowerblue\", \"width\": 0.46935040564879704}, \"mode\": \"lines\", \"text\": \"0.235\", \"type\": \"scatter\", \"x\": [2, 3, null], \"y\": [4, 2, null]}, {\"hoverinfo\": \"text\", \"line\": {\"color\": \"cornflowerblue\", \"width\": 0.5848646442705131}, \"mode\": \"lines\", \"text\": \"0.292\", \"type\": \"scatter\", \"x\": [2, 3, null], \"y\": [4, 3, null]}, {\"hoverinfo\": \"text\", \"line\": {\"color\": \"cornflowerblue\", \"width\": 0.4648084248715485}, \"mode\": \"lines\", \"text\": \"0.232\", \"type\": \"scatter\", \"x\": [2, 3, null], \"y\": [4, 4, null]}, {\"hoverinfo\": \"text\", \"line\": {\"color\": \"cornflowerblue\", \"width\": 1.4666861469926362}, \"mode\": \"lines\", \"text\": \"0.733\", \"type\": \"scatter\", \"x\": [2, 3, null], \"y\": [4, 5, null]}, {\"hoverinfo\": \"text\", \"line\": {\"color\": \"cornflowerblue\", \"width\": 0.4275550015220774}, \"mode\": \"lines\", \"text\": \"0.214\", \"type\": \"scatter\", \"x\": [2, 3, null], \"y\": [4, 6, null]}, {\"hoverinfo\": \"text\", \"line\": {\"color\": \"cornflowerblue\", \"width\": 0.3673857960317667}, \"mode\": \"lines\", \"text\": \"0.184\", \"type\": \"scatter\", \"x\": [2, 3, null], \"y\": [4, 8, null]}, {\"hoverinfo\": \"text\", \"line\": {\"color\": \"cornflowerblue\", \"width\": 0.4483295763749608}, \"mode\": \"lines\", \"text\": \"0.224\", \"type\": \"scatter\", \"x\": [2, 3, null], \"y\": [5, 0, null]}, {\"hoverinfo\": \"text\", \"line\": {\"color\": \"cornflowerblue\", \"width\": 0.44903581054603064}, \"mode\": \"lines\", \"text\": \"0.225\", \"type\": \"scatter\", \"x\": [2, 3, null], \"y\": [5, 1, null]}, {\"hoverinfo\": \"text\", \"line\": {\"color\": \"cornflowerblue\", \"width\": 0.4624438520756835}, \"mode\": \"lines\", \"text\": \"0.231\", \"type\": \"scatter\", \"x\": [2, 3, null], \"y\": [5, 2, null]}, {\"hoverinfo\": \"text\", \"line\": {\"color\": \"cornflowerblue\", \"width\": 0.45277607992800495}, \"mode\": \"lines\", \"text\": \"0.226\", \"type\": \"scatter\", \"x\": [2, 3, null], \"y\": [5, 3, null]}, {\"hoverinfo\": \"text\", \"line\": {\"color\": \"cornflowerblue\", \"width\": 0.42493529125944857}, \"mode\": \"lines\", \"text\": \"0.212\", \"type\": \"scatter\", \"x\": [2, 3, null], \"y\": [5, 4, null]}, {\"hoverinfo\": \"text\", \"line\": {\"color\": \"cornflowerblue\", \"width\": 0.43946113318463775}, \"mode\": \"lines\", \"text\": \"0.22\", \"type\": \"scatter\", \"x\": [2, 3, null], \"y\": [5, 5, null]}, {\"hoverinfo\": \"text\", \"line\": {\"color\": \"cornflowerblue\", \"width\": 0.44227698589963454}, \"mode\": \"lines\", \"text\": \"0.221\", \"type\": \"scatter\", \"x\": [2, 3, null], \"y\": [5, 6, null]}, {\"hoverinfo\": \"text\", \"line\": {\"color\": \"cornflowerblue\", \"width\": 0.34025670528076324}, \"mode\": \"lines\", \"text\": \"0.17\", \"type\": \"scatter\", \"x\": [2, 3, null], \"y\": [5, 8, null]}, {\"hoverinfo\": \"text\", \"line\": {\"color\": \"cornflowerblue\", \"width\": 0.4203540839060592}, \"mode\": \"lines\", \"text\": \"0.21\", \"type\": \"scatter\", \"x\": [2, 3, null], \"y\": [6, 0, null]}, {\"hoverinfo\": \"text\", \"line\": {\"color\": \"cornflowerblue\", \"width\": 0.40480788757717173}, \"mode\": \"lines\", \"text\": \"0.202\", \"type\": \"scatter\", \"x\": [2, 3, null], \"y\": [6, 1, null]}, {\"hoverinfo\": \"text\", \"line\": {\"color\": \"cornflowerblue\", \"width\": 0.40517524071647654}, \"mode\": \"lines\", \"text\": \"0.203\", \"type\": \"scatter\", \"x\": [2, 3, null], \"y\": [6, 2, null]}, {\"hoverinfo\": \"text\", \"line\": {\"color\": \"cornflowerblue\", \"width\": 0.41400452980346253}, \"mode\": \"lines\", \"text\": \"0.207\", \"type\": \"scatter\", \"x\": [2, 3, null], \"y\": [6, 3, null]}, {\"hoverinfo\": \"text\", \"line\": {\"color\": \"cornflowerblue\", \"width\": 0.399274927261901}, \"mode\": \"lines\", \"text\": \"0.2\", \"type\": \"scatter\", \"x\": [2, 3, null], \"y\": [6, 4, null]}, {\"hoverinfo\": \"text\", \"line\": {\"color\": \"cornflowerblue\", \"width\": 0.4171987387386451}, \"mode\": \"lines\", \"text\": \"0.209\", \"type\": \"scatter\", \"x\": [2, 3, null], \"y\": [6, 5, null]}, {\"hoverinfo\": \"text\", \"line\": {\"color\": \"cornflowerblue\", \"width\": 0.3960133327403524}, \"mode\": \"lines\", \"text\": \"0.198\", \"type\": \"scatter\", \"x\": [2, 3, null], \"y\": [6, 6, null]}, {\"hoverinfo\": \"text\", \"line\": {\"color\": \"cornflowerblue\", \"width\": 0.416377741685744}, \"mode\": \"lines\", \"text\": \"0.208\", \"type\": \"scatter\", \"x\": [2, 3, null], \"y\": [6, 8, null]}, {\"hoverinfo\": \"text\", \"line\": {\"color\": \"cornflowerblue\", \"width\": 0.4102610053860541}, \"mode\": \"lines\", \"text\": \"0.205\", \"type\": \"scatter\", \"x\": [2, 3, null], \"y\": [7, 0, null]}, {\"hoverinfo\": \"text\", \"line\": {\"color\": \"cornflowerblue\", \"width\": 0.39990576425870283}, \"mode\": \"lines\", \"text\": \"0.2\", \"type\": \"scatter\", \"x\": [2, 3, null], \"y\": [7, 1, null]}, {\"hoverinfo\": \"text\", \"line\": {\"color\": \"cornflowerblue\", \"width\": 0.40979659257878703}, \"mode\": \"lines\", \"text\": \"0.205\", \"type\": \"scatter\", \"x\": [2, 3, null], \"y\": [7, 2, null]}, {\"hoverinfo\": \"text\", \"line\": {\"color\": \"cornflowerblue\", \"width\": 0.4162385127233101}, \"mode\": \"lines\", \"text\": \"0.208\", \"type\": \"scatter\", \"x\": [2, 3, null], \"y\": [7, 3, null]}, {\"hoverinfo\": \"text\", \"line\": {\"color\": \"cornflowerblue\", \"width\": 0.3944403997873769}, \"mode\": \"lines\", \"text\": \"0.197\", \"type\": \"scatter\", \"x\": [2, 3, null], \"y\": [7, 4, null]}, {\"hoverinfo\": \"text\", \"line\": {\"color\": \"cornflowerblue\", \"width\": 0.4164539613929707}, \"mode\": \"lines\", \"text\": \"0.208\", \"type\": \"scatter\", \"x\": [2, 3, null], \"y\": [7, 5, null]}, {\"hoverinfo\": \"text\", \"line\": {\"color\": \"cornflowerblue\", \"width\": 0.3964153250925102}, \"mode\": \"lines\", \"text\": \"0.198\", \"type\": \"scatter\", \"x\": [2, 3, null], \"y\": [7, 6, null]}, {\"hoverinfo\": \"text\", \"line\": {\"color\": \"cornflowerblue\", \"width\": 0.3837587338741807}, \"mode\": \"lines\", \"text\": \"0.192\", \"type\": \"scatter\", \"x\": [2, 3, null], \"y\": [7, 8, null]}, {\"hoverinfo\": \"text\", \"line\": {\"color\": \"cornflowerblue\", \"width\": 0.40501920492030424}, \"mode\": \"lines\", \"text\": \"0.203\", \"type\": \"scatter\", \"x\": [2, 3, null], \"y\": [8, 0, null]}, {\"hoverinfo\": \"text\", \"line\": {\"color\": \"cornflowerblue\", \"width\": 0.4487890285963735}, \"mode\": \"lines\", \"text\": \"0.224\", \"type\": \"scatter\", \"x\": [2, 3, null], \"y\": [8, 1, null]}, {\"hoverinfo\": \"text\", \"line\": {\"color\": \"cornflowerblue\", \"width\": 0.3964178748454661}, \"mode\": \"lines\", \"text\": \"0.198\", \"type\": \"scatter\", \"x\": [2, 3, null], \"y\": [8, 2, null]}, {\"hoverinfo\": \"text\", \"line\": {\"color\": \"cornflowerblue\", \"width\": 0.4087305695726686}, \"mode\": \"lines\", \"text\": \"0.204\", \"type\": \"scatter\", \"x\": [2, 3, null], \"y\": [8, 3, null]}, {\"hoverinfo\": \"text\", \"line\": {\"color\": \"cornflowerblue\", \"width\": 0.3961333820207967}, \"mode\": \"lines\", \"text\": \"0.198\", \"type\": \"scatter\", \"x\": [2, 3, null], \"y\": [8, 4, null]}, {\"hoverinfo\": \"text\", \"line\": {\"color\": \"cornflowerblue\", \"width\": 0.4061116824277215}, \"mode\": \"lines\", \"text\": \"0.203\", \"type\": \"scatter\", \"x\": [2, 3, null], \"y\": [8, 5, null]}, {\"hoverinfo\": \"text\", \"line\": {\"color\": \"cornflowerblue\", \"width\": 0.38788156343390445}, \"mode\": \"lines\", \"text\": \"0.194\", \"type\": \"scatter\", \"x\": [2, 3, null], \"y\": [8, 6, null]}, {\"hoverinfo\": \"text\", \"line\": {\"color\": \"cornflowerblue\", \"width\": 0.38590446534195016}, \"mode\": \"lines\", \"text\": \"0.193\", \"type\": \"scatter\", \"x\": [2, 3, null], \"y\": [8, 8, null]}, {\"hoverinfo\": \"text\", \"line\": {\"color\": \"cornflowerblue\", \"width\": 0.38331162875337293}, \"mode\": \"lines\", \"text\": \"0.192\", \"type\": \"scatter\", \"x\": [2, 3, null], \"y\": [9, 0, null]}, {\"hoverinfo\": \"text\", \"line\": {\"color\": \"cornflowerblue\", \"width\": 0.37880901237378384}, \"mode\": \"lines\", \"text\": \"0.189\", \"type\": \"scatter\", \"x\": [2, 3, null], \"y\": [9, 1, null]}, {\"hoverinfo\": \"text\", \"line\": {\"color\": \"cornflowerblue\", \"width\": 0.3603819237324046}, \"mode\": \"lines\", \"text\": \"0.18\", \"type\": \"scatter\", \"x\": [2, 3, null], \"y\": [9, 2, null]}, {\"hoverinfo\": \"text\", \"line\": {\"color\": \"cornflowerblue\", \"width\": 0.3790509431809117}, \"mode\": \"lines\", \"text\": \"0.19\", \"type\": \"scatter\", \"x\": [2, 3, null], \"y\": [9, 3, null]}, {\"hoverinfo\": \"text\", \"line\": {\"color\": \"cornflowerblue\", \"width\": 0.35996666169298863}, \"mode\": \"lines\", \"text\": \"0.18\", \"type\": \"scatter\", \"x\": [2, 3, null], \"y\": [9, 4, null]}, {\"hoverinfo\": \"text\", \"line\": {\"color\": \"cornflowerblue\", \"width\": 0.3848658892680415}, \"mode\": \"lines\", \"text\": \"0.192\", \"type\": \"scatter\", \"x\": [2, 3, null], \"y\": [9, 5, null]}, {\"hoverinfo\": \"text\", \"line\": {\"color\": \"cornflowerblue\", \"width\": 0.360550700968845}, \"mode\": \"lines\", \"text\": \"0.18\", \"type\": \"scatter\", \"x\": [2, 3, null], \"y\": [9, 6, null]}, {\"hoverinfo\": \"text\", \"line\": {\"color\": \"cornflowerblue\", \"width\": 0.37724698199554224}, \"mode\": \"lines\", \"text\": \"0.189\", \"type\": \"scatter\", \"x\": [2, 3, null], \"y\": [9, 7, null]}, {\"hoverinfo\": \"text\", \"line\": {\"color\": \"cornflowerblue\", \"width\": 0.6961317860876014}, \"mode\": \"lines\", \"text\": \"0.348\", \"type\": \"scatter\", \"x\": [2, 3, null], \"y\": [9, 8, null]}, {\"hoverinfo\": \"text\", \"line\": {\"color\": \"cornflowerblue\", \"width\": 0.4689141011363026}, \"mode\": \"lines\", \"text\": \"0.234\", \"type\": \"scatter\", \"x\": [3, 4, null], \"y\": [0, 0, null]}, {\"hoverinfo\": \"text\", \"line\": {\"color\": \"cornflowerblue\", \"width\": 0.43483100749563186}, \"mode\": \"lines\", \"text\": \"0.217\", \"type\": \"scatter\", \"x\": [3, 4, null], \"y\": [0, 1, null]}, {\"hoverinfo\": \"text\", \"line\": {\"color\": \"cornflowerblue\", \"width\": 0.4658950344505952}, \"mode\": \"lines\", \"text\": \"0.233\", \"type\": \"scatter\", \"x\": [3, 4, null], \"y\": [0, 2, null]}, {\"hoverinfo\": \"text\", \"line\": {\"color\": \"cornflowerblue\", \"width\": 1.3008862830221344}, \"mode\": \"lines\", \"text\": \"0.65\", \"type\": \"scatter\", \"x\": [3, 4, null], \"y\": [0, 3, null]}, {\"hoverinfo\": \"text\", \"line\": {\"color\": \"cornflowerblue\", \"width\": 0.5159343147162688}, \"mode\": \"lines\", \"text\": \"0.258\", \"type\": \"scatter\", \"x\": [3, 4, null], \"y\": [0, 4, null]}, {\"hoverinfo\": \"text\", \"line\": {\"color\": \"cornflowerblue\", \"width\": 0.508011439154525}, \"mode\": \"lines\", \"text\": \"0.254\", \"type\": \"scatter\", \"x\": [3, 4, null], \"y\": [0, 5, null]}, {\"hoverinfo\": \"text\", \"line\": {\"color\": \"cornflowerblue\", \"width\": 0.44376555621000874}, \"mode\": \"lines\", \"text\": \"0.222\", \"type\": \"scatter\", \"x\": [3, 4, null], \"y\": [0, 6, null]}, {\"hoverinfo\": \"text\", \"line\": {\"color\": \"cornflowerblue\", \"width\": 0.43595662350572123}, \"mode\": \"lines\", \"text\": \"0.218\", \"type\": \"scatter\", \"x\": [3, 4, null], \"y\": [0, 7, null]}, {\"hoverinfo\": \"text\", \"line\": {\"color\": \"cornflowerblue\", \"width\": 0.45824166754161644}, \"mode\": \"lines\", \"text\": \"0.229\", \"type\": \"scatter\", \"x\": [3, 4, null], \"y\": [1, 0, null]}, {\"hoverinfo\": \"text\", \"line\": {\"color\": \"cornflowerblue\", \"width\": 0.441845916468433}, \"mode\": \"lines\", \"text\": \"0.221\", \"type\": \"scatter\", \"x\": [3, 4, null], \"y\": [1, 1, null]}, {\"hoverinfo\": \"text\", \"line\": {\"color\": \"cornflowerblue\", \"width\": 0.45707072668936805}, \"mode\": \"lines\", \"text\": \"0.229\", \"type\": \"scatter\", \"x\": [3, 4, null], \"y\": [1, 2, null]}, {\"hoverinfo\": \"text\", \"line\": {\"color\": \"cornflowerblue\", \"width\": 0.5234197713400253}, \"mode\": \"lines\", \"text\": \"0.262\", \"type\": \"scatter\", \"x\": [3, 4, null], \"y\": [1, 3, null]}, {\"hoverinfo\": \"text\", \"line\": {\"color\": \"cornflowerblue\", \"width\": 0.6819739059851538}, \"mode\": \"lines\", \"text\": \"0.341\", \"type\": \"scatter\", \"x\": [3, 4, null], \"y\": [1, 4, null]}, {\"hoverinfo\": \"text\", \"line\": {\"color\": \"cornflowerblue\", \"width\": 0.4856646309294631}, \"mode\": \"lines\", \"text\": \"0.243\", \"type\": \"scatter\", \"x\": [3, 4, null], \"y\": [1, 5, null]}, {\"hoverinfo\": \"text\", \"line\": {\"color\": \"cornflowerblue\", \"width\": 0.4171894334115849}, \"mode\": \"lines\", \"text\": \"0.209\", \"type\": \"scatter\", \"x\": [3, 4, null], \"y\": [1, 6, null]}, {\"hoverinfo\": \"text\", \"line\": {\"color\": \"cornflowerblue\", \"width\": 0.42010897794505436}, \"mode\": \"lines\", \"text\": \"0.21\", \"type\": \"scatter\", \"x\": [3, 4, null], \"y\": [1, 7, null]}, {\"hoverinfo\": \"text\", \"line\": {\"color\": \"cornflowerblue\", \"width\": 0.4570905431645181}, \"mode\": \"lines\", \"text\": \"0.229\", \"type\": \"scatter\", \"x\": [3, 4, null], \"y\": [2, 0, null]}, {\"hoverinfo\": \"text\", \"line\": {\"color\": \"cornflowerblue\", \"width\": 0.5248300583342091}, \"mode\": \"lines\", \"text\": \"0.262\", \"type\": \"scatter\", \"x\": [3, 4, null], \"y\": [2, 1, null]}, {\"hoverinfo\": \"text\", \"line\": {\"color\": \"cornflowerblue\", \"width\": 0.49642649606989725}, \"mode\": \"lines\", \"text\": \"0.248\", \"type\": \"scatter\", \"x\": [3, 4, null], \"y\": [2, 2, null]}, {\"hoverinfo\": \"text\", \"line\": {\"color\": \"cornflowerblue\", \"width\": 0.47246898650001334}, \"mode\": \"lines\", \"text\": \"0.236\", \"type\": \"scatter\", \"x\": [3, 4, null], \"y\": [2, 3, null]}, {\"hoverinfo\": \"text\", \"line\": {\"color\": \"cornflowerblue\", \"width\": 0.5911577758273928}, \"mode\": \"lines\", \"text\": \"0.296\", \"type\": \"scatter\", \"x\": [3, 4, null], \"y\": [2, 4, null]}, {\"hoverinfo\": \"text\", \"line\": {\"color\": \"cornflowerblue\", \"width\": 0.47866956438623753}, \"mode\": \"lines\", \"text\": \"0.239\", \"type\": \"scatter\", \"x\": [3, 4, null], \"y\": [2, 5, null]}, {\"hoverinfo\": \"text\", \"line\": {\"color\": \"cornflowerblue\", \"width\": 0.4216646501391937}, \"mode\": \"lines\", \"text\": \"0.211\", \"type\": \"scatter\", \"x\": [3, 4, null], \"y\": [2, 6, null]}, {\"hoverinfo\": \"text\", \"line\": {\"color\": \"cornflowerblue\", \"width\": 0.42263619058961105}, \"mode\": \"lines\", \"text\": \"0.211\", \"type\": \"scatter\", \"x\": [3, 4, null], \"y\": [2, 7, null]}, {\"hoverinfo\": \"text\", \"line\": {\"color\": \"cornflowerblue\", \"width\": 0.5003536687934608}, \"mode\": \"lines\", \"text\": \"0.25\", \"type\": \"scatter\", \"x\": [3, 4, null], \"y\": [3, 0, null]}, {\"hoverinfo\": \"text\", \"line\": {\"color\": \"cornflowerblue\", \"width\": 0.4407786103895966}, \"mode\": \"lines\", \"text\": \"0.22\", \"type\": \"scatter\", \"x\": [3, 4, null], \"y\": [3, 1, null]}, {\"hoverinfo\": \"text\", \"line\": {\"color\": \"cornflowerblue\", \"width\": 0.4666100375497962}, \"mode\": \"lines\", \"text\": \"0.233\", \"type\": \"scatter\", \"x\": [3, 4, null], \"y\": [3, 2, null]}, {\"hoverinfo\": \"text\", \"line\": {\"color\": \"cornflowerblue\", \"width\": 0.6013391336983582}, \"mode\": \"lines\", \"text\": \"0.301\", \"type\": \"scatter\", \"x\": [3, 4, null], \"y\": [3, 3, null]}, {\"hoverinfo\": \"text\", \"line\": {\"color\": \"cornflowerblue\", \"width\": 0.6088389401846918}, \"mode\": \"lines\", \"text\": \"0.304\", \"type\": \"scatter\", \"x\": [3, 4, null], \"y\": [3, 4, null]}, {\"hoverinfo\": \"text\", \"line\": {\"color\": \"cornflowerblue\", \"width\": 0.6394137612070384}, \"mode\": \"lines\", \"text\": \"0.32\", \"type\": \"scatter\", \"x\": [3, 4, null], \"y\": [3, 5, null]}, {\"hoverinfo\": \"text\", \"line\": {\"color\": \"cornflowerblue\", \"width\": 0.43875561681330705}, \"mode\": \"lines\", \"text\": \"0.219\", \"type\": \"scatter\", \"x\": [3, 4, null], \"y\": [3, 6, null]}, {\"hoverinfo\": \"text\", \"line\": {\"color\": \"cornflowerblue\", \"width\": 0.43901846814642864}, \"mode\": \"lines\", \"text\": \"0.22\", \"type\": \"scatter\", \"x\": [3, 4, null], \"y\": [3, 7, null]}, {\"hoverinfo\": \"text\", \"line\": {\"color\": \"cornflowerblue\", \"width\": 1.0759596020696387}, \"mode\": \"lines\", \"text\": \"0.538\", \"type\": \"scatter\", \"x\": [3, 4, null], \"y\": [4, 0, null]}, {\"hoverinfo\": \"text\", \"line\": {\"color\": \"cornflowerblue\", \"width\": 0.4150478066977313}, \"mode\": \"lines\", \"text\": \"0.208\", \"type\": \"scatter\", \"x\": [3, 4, null], \"y\": [4, 1, null]}, {\"hoverinfo\": \"text\", \"line\": {\"color\": \"cornflowerblue\", \"width\": 0.4299494043403904}, \"mode\": \"lines\", \"text\": \"0.215\", \"type\": \"scatter\", \"x\": [3, 4, null], \"y\": [4, 2, null]}, {\"hoverinfo\": \"text\", \"line\": {\"color\": \"cornflowerblue\", \"width\": 0.45979650928460253}, \"mode\": \"lines\", \"text\": \"0.23\", \"type\": \"scatter\", \"x\": [3, 4, null], \"y\": [4, 3, null]}, {\"hoverinfo\": \"text\", \"line\": {\"color\": \"cornflowerblue\", \"width\": 0.4709217178544147}, \"mode\": \"lines\", \"text\": \"0.235\", \"type\": \"scatter\", \"x\": [3, 4, null], \"y\": [4, 4, null]}, {\"hoverinfo\": \"text\", \"line\": {\"color\": \"cornflowerblue\", \"width\": 0.46838415121701304}, \"mode\": \"lines\", \"text\": \"0.234\", \"type\": \"scatter\", \"x\": [3, 4, null], \"y\": [4, 5, null]}, {\"hoverinfo\": \"text\", \"line\": {\"color\": \"cornflowerblue\", \"width\": 0.41726490886409273}, \"mode\": \"lines\", \"text\": \"0.209\", \"type\": \"scatter\", \"x\": [3, 4, null], \"y\": [4, 6, null]}, {\"hoverinfo\": \"text\", \"line\": {\"color\": \"cornflowerblue\", \"width\": 0.42054541375485}, \"mode\": \"lines\", \"text\": \"0.21\", \"type\": \"scatter\", \"x\": [3, 4, null], \"y\": [4, 7, null]}, {\"hoverinfo\": \"text\", \"line\": {\"color\": \"cornflowerblue\", \"width\": 0.4865616401725492}, \"mode\": \"lines\", \"text\": \"0.243\", \"type\": \"scatter\", \"x\": [3, 4, null], \"y\": [5, 0, null]}, {\"hoverinfo\": \"text\", \"line\": {\"color\": \"cornflowerblue\", \"width\": 0.4280446281276113}, \"mode\": \"lines\", \"text\": \"0.214\", \"type\": \"scatter\", \"x\": [3, 4, null], \"y\": [5, 1, null]}, {\"hoverinfo\": \"text\", \"line\": {\"color\": \"cornflowerblue\", \"width\": 0.44628584601458393}, \"mode\": \"lines\", \"text\": \"0.223\", \"type\": \"scatter\", \"x\": [3, 4, null], \"y\": [5, 2, null]}, {\"hoverinfo\": \"text\", \"line\": {\"color\": \"cornflowerblue\", \"width\": 0.5042835779963583}, \"mode\": \"lines\", \"text\": \"0.252\", \"type\": \"scatter\", \"x\": [3, 4, null], \"y\": [5, 3, null]}, {\"hoverinfo\": \"text\", \"line\": {\"color\": \"cornflowerblue\", \"width\": 0.5109432396999726}, \"mode\": \"lines\", \"text\": \"0.255\", \"type\": \"scatter\", \"x\": [3, 4, null], \"y\": [5, 4, null]}, {\"hoverinfo\": \"text\", \"line\": {\"color\": \"cornflowerblue\", \"width\": 1.3146361086578648}, \"mode\": \"lines\", \"text\": \"0.657\", \"type\": \"scatter\", \"x\": [3, 4, null], \"y\": [5, 5, null]}, {\"hoverinfo\": \"text\", \"line\": {\"color\": \"cornflowerblue\", \"width\": 0.43425439088143}, \"mode\": \"lines\", \"text\": \"0.217\", \"type\": \"scatter\", \"x\": [3, 4, null], \"y\": [5, 6, null]}, {\"hoverinfo\": \"text\", \"line\": {\"color\": \"cornflowerblue\", \"width\": 0.4323441674077731}, \"mode\": \"lines\", \"text\": \"0.216\", \"type\": \"scatter\", \"x\": [3, 4, null], \"y\": [5, 7, null]}, {\"hoverinfo\": \"text\", \"line\": {\"color\": \"cornflowerblue\", \"width\": 0.4228374591255445}, \"mode\": \"lines\", \"text\": \"0.211\", \"type\": \"scatter\", \"x\": [3, 4, null], \"y\": [6, 0, null]}, {\"hoverinfo\": \"text\", \"line\": {\"color\": \"cornflowerblue\", \"width\": 0.4240014256048362}, \"mode\": \"lines\", \"text\": \"0.212\", \"type\": \"scatter\", \"x\": [3, 4, null], \"y\": [6, 1, null]}, {\"hoverinfo\": \"text\", \"line\": {\"color\": \"cornflowerblue\", \"width\": 0.4376230112163318}, \"mode\": \"lines\", \"text\": \"0.219\", \"type\": \"scatter\", \"x\": [3, 4, null], \"y\": [6, 2, null]}, {\"hoverinfo\": \"text\", \"line\": {\"color\": \"cornflowerblue\", \"width\": 0.4356781159277546}, \"mode\": \"lines\", \"text\": \"0.218\", \"type\": \"scatter\", \"x\": [3, 4, null], \"y\": [6, 3, null]}, {\"hoverinfo\": \"text\", \"line\": {\"color\": \"cornflowerblue\", \"width\": 0.4443172477123401}, \"mode\": \"lines\", \"text\": \"0.222\", \"type\": \"scatter\", \"x\": [3, 4, null], \"y\": [6, 4, null]}, {\"hoverinfo\": \"text\", \"line\": {\"color\": \"cornflowerblue\", \"width\": 0.43460014579223627}, \"mode\": \"lines\", \"text\": \"0.217\", \"type\": \"scatter\", \"x\": [3, 4, null], \"y\": [6, 5, null]}, {\"hoverinfo\": \"text\", \"line\": {\"color\": \"cornflowerblue\", \"width\": 0.4099289010752387}, \"mode\": \"lines\", \"text\": \"0.205\", \"type\": \"scatter\", \"x\": [3, 4, null], \"y\": [6, 6, null]}, {\"hoverinfo\": \"text\", \"line\": {\"color\": \"cornflowerblue\", \"width\": 0.4095137203347495}, \"mode\": \"lines\", \"text\": \"0.205\", \"type\": \"scatter\", \"x\": [3, 4, null], \"y\": [6, 7, null]}, {\"hoverinfo\": \"text\", \"line\": {\"color\": \"cornflowerblue\", \"width\": 0.3597343421306587}, \"mode\": \"lines\", \"text\": \"0.18\", \"type\": \"scatter\", \"x\": [3, 4, null], \"y\": [8, 0, null]}, {\"hoverinfo\": \"text\", \"line\": {\"color\": \"cornflowerblue\", \"width\": 0.34183980438289585}, \"mode\": \"lines\", \"text\": \"0.171\", \"type\": \"scatter\", \"x\": [3, 4, null], \"y\": [8, 2, null]}, {\"hoverinfo\": \"text\", \"line\": {\"color\": \"cornflowerblue\", \"width\": 0.34056221497008066}, \"mode\": \"lines\", \"text\": \"0.17\", \"type\": \"scatter\", \"x\": [3, 4, null], \"y\": [8, 3, null]}, {\"hoverinfo\": \"text\", \"line\": {\"color\": \"cornflowerblue\", \"width\": 0.35928590597220844}, \"mode\": \"lines\", \"text\": \"0.18\", \"type\": \"scatter\", \"x\": [3, 4, null], \"y\": [8, 4, null]}, {\"hoverinfo\": \"text\", \"line\": {\"color\": \"cornflowerblue\", \"width\": 0.4339962228512009}, \"mode\": \"lines\", \"text\": \"0.217\", \"type\": \"scatter\", \"x\": [3, 4, null], \"y\": [8, 6, null]}, {\"hoverinfo\": \"text\", \"line\": {\"color\": \"cornflowerblue\", \"width\": 0.4284469223603063}, \"mode\": \"lines\", \"text\": \"0.214\", \"type\": \"scatter\", \"x\": [3, 4, null], \"y\": [8, 7, null]}, {\"hoverinfo\": \"text\", \"line\": {\"color\": \"cornflowerblue\", \"width\": 0.49018568728393397}, \"mode\": \"lines\", \"text\": \"0.245\", \"type\": \"scatter\", \"x\": [4, 5, null], \"y\": [0, 0, null]}, {\"hoverinfo\": \"text\", \"line\": {\"color\": \"cornflowerblue\", \"width\": 1.173294043312608}, \"mode\": \"lines\", \"text\": \"0.587\", \"type\": \"scatter\", \"x\": [4, 5, null], \"y\": [0, 1, null]}, {\"hoverinfo\": \"text\", \"line\": {\"color\": \"cornflowerblue\", \"width\": 0.48809717767435246}, \"mode\": \"lines\", \"text\": \"0.244\", \"type\": \"scatter\", \"x\": [4, 5, null], \"y\": [0, 2, null]}, {\"hoverinfo\": \"text\", \"line\": {\"color\": \"cornflowerblue\", \"width\": 0.47890098248775115}, \"mode\": \"lines\", \"text\": \"0.239\", \"type\": \"scatter\", \"x\": [4, 5, null], \"y\": [0, 3, null]}, {\"hoverinfo\": \"text\", \"line\": {\"color\": \"cornflowerblue\", \"width\": 0.4687373621798357}, \"mode\": \"lines\", \"text\": \"0.234\", \"type\": \"scatter\", \"x\": [4, 5, null], \"y\": [0, 4, null]}, {\"hoverinfo\": \"text\", \"line\": {\"color\": \"cornflowerblue\", \"width\": 0.45473918183785855}, \"mode\": \"lines\", \"text\": \"0.227\", \"type\": \"scatter\", \"x\": [4, 5, null], \"y\": [0, 5, null]}, {\"hoverinfo\": \"text\", \"line\": {\"color\": \"cornflowerblue\", \"width\": 0.46597101904150334}, \"mode\": \"lines\", \"text\": \"0.233\", \"type\": \"scatter\", \"x\": [4, 5, null], \"y\": [0, 6, null]}, {\"hoverinfo\": \"text\", \"line\": {\"color\": \"cornflowerblue\", \"width\": 0.38250636942556565}, \"mode\": \"lines\", \"text\": \"0.191\", \"type\": \"scatter\", \"x\": [4, 5, null], \"y\": [0, 7, null]}, {\"hoverinfo\": \"text\", \"line\": {\"color\": \"cornflowerblue\", \"width\": 0.4359414370779563}, \"mode\": \"lines\", \"text\": \"0.218\", \"type\": \"scatter\", \"x\": [4, 5, null], \"y\": [1, 0, null]}, {\"hoverinfo\": \"text\", \"line\": {\"color\": \"cornflowerblue\", \"width\": 0.41484738811146066}, \"mode\": \"lines\", \"text\": \"0.207\", \"type\": \"scatter\", \"x\": [4, 5, null], \"y\": [1, 1, null]}, {\"hoverinfo\": \"text\", \"line\": {\"color\": \"cornflowerblue\", \"width\": 0.4294240089066756}, \"mode\": \"lines\", \"text\": \"0.215\", \"type\": \"scatter\", \"x\": [4, 5, null], \"y\": [1, 2, null]}, {\"hoverinfo\": \"text\", \"line\": {\"color\": \"cornflowerblue\", \"width\": 0.4981046141116337}, \"mode\": \"lines\", \"text\": \"0.249\", \"type\": \"scatter\", \"x\": [4, 5, null], \"y\": [1, 3, null]}, {\"hoverinfo\": \"text\", \"line\": {\"color\": \"cornflowerblue\", \"width\": 0.4350861277264523}, \"mode\": \"lines\", \"text\": \"0.218\", \"type\": \"scatter\", \"x\": [4, 5, null], \"y\": [1, 4, null]}, {\"hoverinfo\": \"text\", \"line\": {\"color\": \"cornflowerblue\", \"width\": 0.44131939197411035}, \"mode\": \"lines\", \"text\": \"0.221\", \"type\": \"scatter\", \"x\": [4, 5, null], \"y\": [1, 5, null]}, {\"hoverinfo\": \"text\", \"line\": {\"color\": \"cornflowerblue\", \"width\": 0.43571599225624397}, \"mode\": \"lines\", \"text\": \"0.218\", \"type\": \"scatter\", \"x\": [4, 5, null], \"y\": [1, 6, null]}, {\"hoverinfo\": \"text\", \"line\": {\"color\": \"cornflowerblue\", \"width\": 0.38983391247230254}, \"mode\": \"lines\", \"text\": \"0.195\", \"type\": \"scatter\", \"x\": [4, 5, null], \"y\": [1, 7, null]}, {\"hoverinfo\": \"text\", \"line\": {\"color\": \"cornflowerblue\", \"width\": 0.46276282009820224}, \"mode\": \"lines\", \"text\": \"0.231\", \"type\": \"scatter\", \"x\": [4, 5, null], \"y\": [2, 0, null]}, {\"hoverinfo\": \"text\", \"line\": {\"color\": \"cornflowerblue\", \"width\": 0.42912919438780445}, \"mode\": \"lines\", \"text\": \"0.215\", \"type\": \"scatter\", \"x\": [4, 5, null], \"y\": [2, 1, null]}, {\"hoverinfo\": \"text\", \"line\": {\"color\": \"cornflowerblue\", \"width\": 0.4493055786532882}, \"mode\": \"lines\", \"text\": \"0.225\", \"type\": \"scatter\", \"x\": [4, 5, null], \"y\": [2, 2, null]}, {\"hoverinfo\": \"text\", \"line\": {\"color\": \"cornflowerblue\", \"width\": 0.5034551725326463}, \"mode\": \"lines\", \"text\": \"0.252\", \"type\": \"scatter\", \"x\": [4, 5, null], \"y\": [2, 3, null]}, {\"hoverinfo\": \"text\", \"line\": {\"color\": \"cornflowerblue\", \"width\": 0.46263116479914945}, \"mode\": \"lines\", \"text\": \"0.231\", \"type\": \"scatter\", \"x\": [4, 5, null], \"y\": [2, 4, null]}, {\"hoverinfo\": \"text\", \"line\": {\"color\": \"cornflowerblue\", \"width\": 0.4604164881750988}, \"mode\": \"lines\", \"text\": \"0.23\", \"type\": \"scatter\", \"x\": [4, 5, null], \"y\": [2, 5, null]}, {\"hoverinfo\": \"text\", \"line\": {\"color\": \"cornflowerblue\", \"width\": 0.4450568651749535}, \"mode\": \"lines\", \"text\": \"0.223\", \"type\": \"scatter\", \"x\": [4, 5, null], \"y\": [2, 6, null]}, {\"hoverinfo\": \"text\", \"line\": {\"color\": \"cornflowerblue\", \"width\": 0.39727404307663766}, \"mode\": \"lines\", \"text\": \"0.199\", \"type\": \"scatter\", \"x\": [4, 5, null], \"y\": [2, 7, null]}, {\"hoverinfo\": \"text\", \"line\": {\"color\": \"cornflowerblue\", \"width\": 0.6418518851442124}, \"mode\": \"lines\", \"text\": \"0.321\", \"type\": \"scatter\", \"x\": [4, 5, null], \"y\": [3, 0, null]}, {\"hoverinfo\": \"text\", \"line\": {\"color\": \"cornflowerblue\", \"width\": 0.4670702638823129}, \"mode\": \"lines\", \"text\": \"0.234\", \"type\": \"scatter\", \"x\": [4, 5, null], \"y\": [3, 1, null]}, {\"hoverinfo\": \"text\", \"line\": {\"color\": \"cornflowerblue\", \"width\": 0.5104360266784064}, \"mode\": \"lines\", \"text\": \"0.255\", \"type\": \"scatter\", \"x\": [4, 5, null], \"y\": [3, 2, null]}, {\"hoverinfo\": \"text\", \"line\": {\"color\": \"cornflowerblue\", \"width\": 0.5095151727414868}, \"mode\": \"lines\", \"text\": \"0.255\", \"type\": \"scatter\", \"x\": [4, 5, null], \"y\": [3, 3, null]}, {\"hoverinfo\": \"text\", \"line\": {\"color\": \"cornflowerblue\", \"width\": 1.2773625044971002}, \"mode\": \"lines\", \"text\": \"0.639\", \"type\": \"scatter\", \"x\": [4, 5, null], \"y\": [3, 4, null]}, {\"hoverinfo\": \"text\", \"line\": {\"color\": \"cornflowerblue\", \"width\": 0.4948758743797862}, \"mode\": \"lines\", \"text\": \"0.247\", \"type\": \"scatter\", \"x\": [4, 5, null], \"y\": [3, 5, null]}, {\"hoverinfo\": \"text\", \"line\": {\"color\": \"cornflowerblue\", \"width\": 0.4875026577767821}, \"mode\": \"lines\", \"text\": \"0.244\", \"type\": \"scatter\", \"x\": [4, 5, null], \"y\": [3, 6, null]}, {\"hoverinfo\": \"text\", \"line\": {\"color\": \"cornflowerblue\", \"width\": 0.3962191276238657}, \"mode\": \"lines\", \"text\": \"0.198\", \"type\": \"scatter\", \"x\": [4, 5, null], \"y\": [3, 7, null]}, {\"hoverinfo\": \"text\", \"line\": {\"color\": \"cornflowerblue\", \"width\": 0.5677106618951747}, \"mode\": \"lines\", \"text\": \"0.284\", \"type\": \"scatter\", \"x\": [4, 5, null], \"y\": [4, 0, null]}, {\"hoverinfo\": \"text\", \"line\": {\"color\": \"cornflowerblue\", \"width\": 0.47751160457273056}, \"mode\": \"lines\", \"text\": \"0.239\", \"type\": \"scatter\", \"x\": [4, 5, null], \"y\": [4, 1, null]}, {\"hoverinfo\": \"text\", \"line\": {\"color\": \"cornflowerblue\", \"width\": 0.5222994120891277}, \"mode\": \"lines\", \"text\": \"0.261\", \"type\": \"scatter\", \"x\": [4, 5, null], \"y\": [4, 2, null]}, {\"hoverinfo\": \"text\", \"line\": {\"color\": \"cornflowerblue\", \"width\": 0.7087758092052614}, \"mode\": \"lines\", \"text\": \"0.354\", \"type\": \"scatter\", \"x\": [4, 5, null], \"y\": [4, 3, null]}, {\"hoverinfo\": \"text\", \"line\": {\"color\": \"cornflowerblue\", \"width\": 0.5178109562132214}, \"mode\": \"lines\", \"text\": \"0.259\", \"type\": \"scatter\", \"x\": [4, 5, null], \"y\": [4, 4, null]}, {\"hoverinfo\": \"text\", \"line\": {\"color\": \"cornflowerblue\", \"width\": 0.47273437282024405}, \"mode\": \"lines\", \"text\": \"0.236\", \"type\": \"scatter\", \"x\": [4, 5, null], \"y\": [4, 5, null]}, {\"hoverinfo\": \"text\", \"line\": {\"color\": \"cornflowerblue\", \"width\": 0.668092759844576}, \"mode\": \"lines\", \"text\": \"0.334\", \"type\": \"scatter\", \"x\": [4, 5, null], \"y\": [4, 6, null]}, {\"hoverinfo\": \"text\", \"line\": {\"color\": \"cornflowerblue\", \"width\": 0.39018141062965667}, \"mode\": \"lines\", \"text\": \"0.195\", \"type\": \"scatter\", \"x\": [4, 5, null], \"y\": [4, 7, null]}, {\"hoverinfo\": \"text\", \"line\": {\"color\": \"cornflowerblue\", \"width\": 0.591551307428893}, \"mode\": \"lines\", \"text\": \"0.296\", \"type\": \"scatter\", \"x\": [4, 5, null], \"y\": [5, 0, null]}, {\"hoverinfo\": \"text\", \"line\": {\"color\": \"cornflowerblue\", \"width\": 0.47798719021040387}, \"mode\": \"lines\", \"text\": \"0.239\", \"type\": \"scatter\", \"x\": [4, 5, null], \"y\": [5, 1, null]}, {\"hoverinfo\": \"text\", \"line\": {\"color\": \"cornflowerblue\", \"width\": 1.4026721891747014}, \"mode\": \"lines\", \"text\": \"0.701\", \"type\": \"scatter\", \"x\": [4, 5, null], \"y\": [5, 2, null]}, {\"hoverinfo\": \"text\", \"line\": {\"color\": \"cornflowerblue\", \"width\": 0.5168346843394832}, \"mode\": \"lines\", \"text\": \"0.258\", \"type\": \"scatter\", \"x\": [4, 5, null], \"y\": [5, 3, null]}, {\"hoverinfo\": \"text\", \"line\": {\"color\": \"cornflowerblue\", \"width\": 0.5052913311016975}, \"mode\": \"lines\", \"text\": \"0.253\", \"type\": \"scatter\", \"x\": [4, 5, null], \"y\": [5, 4, null]}, {\"hoverinfo\": \"text\", \"line\": {\"color\": \"cornflowerblue\", \"width\": 0.4686086317303715}, \"mode\": \"lines\", \"text\": \"0.234\", \"type\": \"scatter\", \"x\": [4, 5, null], \"y\": [5, 5, null]}, {\"hoverinfo\": \"text\", \"line\": {\"color\": \"cornflowerblue\", \"width\": 0.4919231755013554}, \"mode\": \"lines\", \"text\": \"0.246\", \"type\": \"scatter\", \"x\": [4, 5, null], \"y\": [5, 6, null]}, {\"hoverinfo\": \"text\", \"line\": {\"color\": \"cornflowerblue\", \"width\": 0.40686343539598463}, \"mode\": \"lines\", \"text\": \"0.203\", \"type\": \"scatter\", \"x\": [4, 5, null], \"y\": [5, 7, null]}, {\"hoverinfo\": \"text\", \"line\": {\"color\": \"cornflowerblue\", \"width\": 0.44231548781283203}, \"mode\": \"lines\", \"text\": \"0.221\", \"type\": \"scatter\", \"x\": [4, 5, null], \"y\": [6, 0, null]}, {\"hoverinfo\": \"text\", \"line\": {\"color\": \"cornflowerblue\", \"width\": 0.418844509355416}, \"mode\": \"lines\", \"text\": \"0.209\", \"type\": \"scatter\", \"x\": [4, 5, null], \"y\": [6, 1, null]}, {\"hoverinfo\": \"text\", \"line\": {\"color\": \"cornflowerblue\", \"width\": 0.4341911208204428}, \"mode\": \"lines\", \"text\": \"0.217\", \"type\": \"scatter\", \"x\": [4, 5, null], \"y\": [6, 2, null]}, {\"hoverinfo\": \"text\", \"line\": {\"color\": \"cornflowerblue\", \"width\": 0.4292672657627365}, \"mode\": \"lines\", \"text\": \"0.215\", \"type\": \"scatter\", \"x\": [4, 5, null], \"y\": [6, 3, null]}, {\"hoverinfo\": \"text\", \"line\": {\"color\": \"cornflowerblue\", \"width\": 0.4462383633471848}, \"mode\": \"lines\", \"text\": \"0.223\", \"type\": \"scatter\", \"x\": [4, 5, null], \"y\": [6, 4, null]}, {\"hoverinfo\": \"text\", \"line\": {\"color\": \"cornflowerblue\", \"width\": 0.41745383343985937}, \"mode\": \"lines\", \"text\": \"0.209\", \"type\": \"scatter\", \"x\": [4, 5, null], \"y\": [6, 5, null]}, {\"hoverinfo\": \"text\", \"line\": {\"color\": \"cornflowerblue\", \"width\": 0.4209333335718092}, \"mode\": \"lines\", \"text\": \"0.21\", \"type\": \"scatter\", \"x\": [4, 5, null], \"y\": [6, 6, null]}, {\"hoverinfo\": \"text\", \"line\": {\"color\": \"cornflowerblue\", \"width\": 0.4009693382420863}, \"mode\": \"lines\", \"text\": \"0.2\", \"type\": \"scatter\", \"x\": [4, 5, null], \"y\": [6, 7, null]}, {\"hoverinfo\": \"text\", \"line\": {\"color\": \"cornflowerblue\", \"width\": 0.4408878733485709}, \"mode\": \"lines\", \"text\": \"0.22\", \"type\": \"scatter\", \"x\": [4, 5, null], \"y\": [7, 0, null]}, {\"hoverinfo\": \"text\", \"line\": {\"color\": \"cornflowerblue\", \"width\": 0.42350586384222394}, \"mode\": \"lines\", \"text\": \"0.212\", \"type\": \"scatter\", \"x\": [4, 5, null], \"y\": [7, 1, null]}, {\"hoverinfo\": \"text\", \"line\": {\"color\": \"cornflowerblue\", \"width\": 0.43231858373273774}, \"mode\": \"lines\", \"text\": \"0.216\", \"type\": \"scatter\", \"x\": [4, 5, null], \"y\": [7, 2, null]}, {\"hoverinfo\": \"text\", \"line\": {\"color\": \"cornflowerblue\", \"width\": 0.428923420673763}, \"mode\": \"lines\", \"text\": \"0.214\", \"type\": \"scatter\", \"x\": [4, 5, null], \"y\": [7, 3, null]}, {\"hoverinfo\": \"text\", \"line\": {\"color\": \"cornflowerblue\", \"width\": 0.4379500384386656}, \"mode\": \"lines\", \"text\": \"0.219\", \"type\": \"scatter\", \"x\": [4, 5, null], \"y\": [7, 4, null]}, {\"hoverinfo\": \"text\", \"line\": {\"color\": \"cornflowerblue\", \"width\": 0.41736939430060294}, \"mode\": \"lines\", \"text\": \"0.209\", \"type\": \"scatter\", \"x\": [4, 5, null], \"y\": [7, 5, null]}, {\"hoverinfo\": \"text\", \"line\": {\"color\": \"cornflowerblue\", \"width\": 0.42895194927153724}, \"mode\": \"lines\", \"text\": \"0.214\", \"type\": \"scatter\", \"x\": [4, 5, null], \"y\": [7, 6, null]}, {\"hoverinfo\": \"text\", \"line\": {\"color\": \"cornflowerblue\", \"width\": 0.3927245598817264}, \"mode\": \"lines\", \"text\": \"0.196\", \"type\": \"scatter\", \"x\": [4, 5, null], \"y\": [7, 7, null]}, {\"hoverinfo\": \"text\", \"line\": {\"color\": \"cornflowerblue\", \"width\": 0.5012481655759625}, \"mode\": \"lines\", \"text\": \"0.251\", \"type\": \"scatter\", \"x\": [5, 6, null], \"y\": [0, 0, null]}, {\"hoverinfo\": \"text\", \"line\": {\"color\": \"cornflowerblue\", \"width\": 0.4756154871539238}, \"mode\": \"lines\", \"text\": \"0.238\", \"type\": \"scatter\", \"x\": [5, 6, null], \"y\": [0, 1, null]}, {\"hoverinfo\": \"text\", \"line\": {\"color\": \"cornflowerblue\", \"width\": 0.8726076568069644}, \"mode\": \"lines\", \"text\": \"0.436\", \"type\": \"scatter\", \"x\": [5, 6, null], \"y\": [0, 2, null]}, {\"hoverinfo\": \"text\", \"line\": {\"color\": \"cornflowerblue\", \"width\": 0.4458225145233521}, \"mode\": \"lines\", \"text\": \"0.223\", \"type\": \"scatter\", \"x\": [5, 6, null], \"y\": [0, 3, null]}, {\"hoverinfo\": \"text\", \"line\": {\"color\": \"cornflowerblue\", \"width\": 0.4795817324598749}, \"mode\": \"lines\", \"text\": \"0.24\", \"type\": \"scatter\", \"x\": [5, 6, null], \"y\": [0, 4, null]}, {\"hoverinfo\": \"text\", \"line\": {\"color\": \"cornflowerblue\", \"width\": 0.6023988944626223}, \"mode\": \"lines\", \"text\": \"0.301\", \"type\": \"scatter\", \"x\": [5, 6, null], \"y\": [0, 5, null]}, {\"hoverinfo\": \"text\", \"line\": {\"color\": \"cornflowerblue\", \"width\": 0.5717042307739467}, \"mode\": \"lines\", \"text\": \"0.286\", \"type\": \"scatter\", \"x\": [5, 6, null], \"y\": [0, 6, null]}, {\"hoverinfo\": \"text\", \"line\": {\"color\": \"cornflowerblue\", \"width\": 0.443886707487397}, \"mode\": \"lines\", \"text\": \"0.222\", \"type\": \"scatter\", \"x\": [5, 6, null], \"y\": [0, 7, null]}, {\"hoverinfo\": \"text\", \"line\": {\"color\": \"cornflowerblue\", \"width\": 0.42847643097956734}, \"mode\": \"lines\", \"text\": \"0.214\", \"type\": \"scatter\", \"x\": [5, 6, null], \"y\": [0, 8, null]}, {\"hoverinfo\": \"text\", \"line\": {\"color\": \"cornflowerblue\", \"width\": 0.45408648333861573}, \"mode\": \"lines\", \"text\": \"0.227\", \"type\": \"scatter\", \"x\": [5, 6, null], \"y\": [1, 0, null]}, {\"hoverinfo\": \"text\", \"line\": {\"color\": \"cornflowerblue\", \"width\": 1.111984226521219}, \"mode\": \"lines\", \"text\": \"0.556\", \"type\": \"scatter\", \"x\": [5, 6, null], \"y\": [1, 1, null]}, {\"hoverinfo\": \"text\", \"line\": {\"color\": \"cornflowerblue\", \"width\": 0.48799096110733264}, \"mode\": \"lines\", \"text\": \"0.244\", \"type\": \"scatter\", \"x\": [5, 6, null], \"y\": [1, 2, null]}, {\"hoverinfo\": \"text\", \"line\": {\"color\": \"cornflowerblue\", \"width\": 0.42022758498703944}, \"mode\": \"lines\", \"text\": \"0.21\", \"type\": \"scatter\", \"x\": [5, 6, null], \"y\": [1, 3, null]}, {\"hoverinfo\": \"text\", \"line\": {\"color\": \"cornflowerblue\", \"width\": 0.4507939791742717}, \"mode\": \"lines\", \"text\": \"0.225\", \"type\": \"scatter\", \"x\": [5, 6, null], \"y\": [1, 4, null]}, {\"hoverinfo\": \"text\", \"line\": {\"color\": \"cornflowerblue\", \"width\": 0.46782941084875823}, \"mode\": \"lines\", \"text\": \"0.234\", \"type\": \"scatter\", \"x\": [5, 6, null], \"y\": [1, 5, null]}, {\"hoverinfo\": \"text\", \"line\": {\"color\": \"cornflowerblue\", \"width\": 0.4786821035792096}, \"mode\": \"lines\", \"text\": \"0.239\", \"type\": \"scatter\", \"x\": [5, 6, null], \"y\": [1, 6, null]}, {\"hoverinfo\": \"text\", \"line\": {\"color\": \"cornflowerblue\", \"width\": 0.42046232236531644}, \"mode\": \"lines\", \"text\": \"0.21\", \"type\": \"scatter\", \"x\": [5, 6, null], \"y\": [1, 7, null]}, {\"hoverinfo\": \"text\", \"line\": {\"color\": \"cornflowerblue\", \"width\": 0.41617304742629374}, \"mode\": \"lines\", \"text\": \"0.208\", \"type\": \"scatter\", \"x\": [5, 6, null], \"y\": [1, 8, null]}, {\"hoverinfo\": \"text\", \"line\": {\"color\": \"cornflowerblue\", \"width\": 0.5313061918802781}, \"mode\": \"lines\", \"text\": \"0.266\", \"type\": \"scatter\", \"x\": [5, 6, null], \"y\": [2, 0, null]}, {\"hoverinfo\": \"text\", \"line\": {\"color\": \"cornflowerblue\", \"width\": 0.46460049677686255}, \"mode\": \"lines\", \"text\": \"0.232\", \"type\": \"scatter\", \"x\": [5, 6, null], \"y\": [2, 1, null]}, {\"hoverinfo\": \"text\", \"line\": {\"color\": \"cornflowerblue\", \"width\": 0.5670824762016009}, \"mode\": \"lines\", \"text\": \"0.284\", \"type\": \"scatter\", \"x\": [5, 6, null], \"y\": [2, 2, null]}, {\"hoverinfo\": \"text\", \"line\": {\"color\": \"cornflowerblue\", \"width\": 0.431333822402713}, \"mode\": \"lines\", \"text\": \"0.216\", \"type\": \"scatter\", \"x\": [5, 6, null], \"y\": [2, 3, null]}, {\"hoverinfo\": \"text\", \"line\": {\"color\": \"cornflowerblue\", \"width\": 0.4739955725312507}, \"mode\": \"lines\", \"text\": \"0.237\", \"type\": \"scatter\", \"x\": [5, 6, null], \"y\": [2, 4, null]}, {\"hoverinfo\": \"text\", \"line\": {\"color\": \"cornflowerblue\", \"width\": 0.5126163696922665}, \"mode\": \"lines\", \"text\": \"0.256\", \"type\": \"scatter\", \"x\": [5, 6, null], \"y\": [2, 5, null]}, {\"hoverinfo\": \"text\", \"line\": {\"color\": \"cornflowerblue\", \"width\": 1.3932917066611454}, \"mode\": \"lines\", \"text\": \"0.697\", \"type\": \"scatter\", \"x\": [5, 6, null], \"y\": [2, 6, null]}, {\"hoverinfo\": \"text\", \"line\": {\"color\": \"cornflowerblue\", \"width\": 0.4366040813733974}, \"mode\": \"lines\", \"text\": \"0.218\", \"type\": \"scatter\", \"x\": [5, 6, null], \"y\": [2, 7, null]}, {\"hoverinfo\": \"text\", \"line\": {\"color\": \"cornflowerblue\", \"width\": 0.42212335624021763}, \"mode\": \"lines\", \"text\": \"0.211\", \"type\": \"scatter\", \"x\": [5, 6, null], \"y\": [2, 8, null]}, {\"hoverinfo\": \"text\", \"line\": {\"color\": \"cornflowerblue\", \"width\": 0.4821704049714367}, \"mode\": \"lines\", \"text\": \"0.241\", \"type\": \"scatter\", \"x\": [5, 6, null], \"y\": [3, 0, null]}, {\"hoverinfo\": \"text\", \"line\": {\"color\": \"cornflowerblue\", \"width\": 0.46283743557677126}, \"mode\": \"lines\", \"text\": \"0.231\", \"type\": \"scatter\", \"x\": [5, 6, null], \"y\": [3, 1, null]}, {\"hoverinfo\": \"text\", \"line\": {\"color\": \"cornflowerblue\", \"width\": 0.62089614182682}, \"mode\": \"lines\", \"text\": \"0.31\", \"type\": \"scatter\", \"x\": [5, 6, null], \"y\": [3, 2, null]}, {\"hoverinfo\": \"text\", \"line\": {\"color\": \"cornflowerblue\", \"width\": 0.45113059989339044}, \"mode\": \"lines\", \"text\": \"0.226\", \"type\": \"scatter\", \"x\": [5, 6, null], \"y\": [3, 3, null]}, {\"hoverinfo\": \"text\", \"line\": {\"color\": \"cornflowerblue\", \"width\": 0.6715308453899084}, \"mode\": \"lines\", \"text\": \"0.336\", \"type\": \"scatter\", \"x\": [5, 6, null], \"y\": [3, 4, null]}, {\"hoverinfo\": \"text\", \"line\": {\"color\": \"cornflowerblue\", \"width\": 0.5077390513900188}, \"mode\": \"lines\", \"text\": \"0.254\", \"type\": \"scatter\", \"x\": [5, 6, null], \"y\": [3, 5, null]}, {\"hoverinfo\": \"text\", \"line\": {\"color\": \"cornflowerblue\", \"width\": 0.5249527161222795}, \"mode\": \"lines\", \"text\": \"0.262\", \"type\": \"scatter\", \"x\": [5, 6, null], \"y\": [3, 6, null]}, {\"hoverinfo\": \"text\", \"line\": {\"color\": \"cornflowerblue\", \"width\": 0.4450829867591003}, \"mode\": \"lines\", \"text\": \"0.223\", \"type\": \"scatter\", \"x\": [5, 6, null], \"y\": [3, 7, null]}, {\"hoverinfo\": \"text\", \"line\": {\"color\": \"cornflowerblue\", \"width\": 0.4213551460298369}, \"mode\": \"lines\", \"text\": \"0.211\", \"type\": \"scatter\", \"x\": [5, 6, null], \"y\": [3, 8, null]}, {\"hoverinfo\": \"text\", \"line\": {\"color\": \"cornflowerblue\", \"width\": 0.4691527606555837}, \"mode\": \"lines\", \"text\": \"0.235\", \"type\": \"scatter\", \"x\": [5, 6, null], \"y\": [4, 0, null]}, {\"hoverinfo\": \"text\", \"line\": {\"color\": \"cornflowerblue\", \"width\": 0.4644355914157165}, \"mode\": \"lines\", \"text\": \"0.232\", \"type\": \"scatter\", \"x\": [5, 6, null], \"y\": [4, 1, null]}, {\"hoverinfo\": \"text\", \"line\": {\"color\": \"cornflowerblue\", \"width\": 0.5621040799540279}, \"mode\": \"lines\", \"text\": \"0.281\", \"type\": \"scatter\", \"x\": [5, 6, null], \"y\": [4, 2, null]}, {\"hoverinfo\": \"text\", \"line\": {\"color\": \"cornflowerblue\", \"width\": 0.4408896388751532}, \"mode\": \"lines\", \"text\": \"0.22\", \"type\": \"scatter\", \"x\": [5, 6, null], \"y\": [4, 3, null]}, {\"hoverinfo\": \"text\", \"line\": {\"color\": \"cornflowerblue\", \"width\": 0.4800929217449746}, \"mode\": \"lines\", \"text\": \"0.24\", \"type\": \"scatter\", \"x\": [5, 6, null], \"y\": [4, 4, null]}, {\"hoverinfo\": \"text\", \"line\": {\"color\": \"cornflowerblue\", \"width\": 1.4591918485299185}, \"mode\": \"lines\", \"text\": \"0.73\", \"type\": \"scatter\", \"x\": [5, 6, null], \"y\": [4, 5, null]}, {\"hoverinfo\": \"text\", \"line\": {\"color\": \"cornflowerblue\", \"width\": 0.5084703946521796}, \"mode\": \"lines\", \"text\": \"0.254\", \"type\": \"scatter\", \"x\": [5, 6, null], \"y\": [4, 6, null]}, {\"hoverinfo\": \"text\", \"line\": {\"color\": \"cornflowerblue\", \"width\": 0.4456444354161569}, \"mode\": \"lines\", \"text\": \"0.223\", \"type\": \"scatter\", \"x\": [5, 6, null], \"y\": [4, 7, null]}, {\"hoverinfo\": \"text\", \"line\": {\"color\": \"cornflowerblue\", \"width\": 0.4298925111203698}, \"mode\": \"lines\", \"text\": \"0.215\", \"type\": \"scatter\", \"x\": [5, 6, null], \"y\": [4, 8, null]}, {\"hoverinfo\": \"text\", \"line\": {\"color\": \"cornflowerblue\", \"width\": 0.4352390645717185}, \"mode\": \"lines\", \"text\": \"0.218\", \"type\": \"scatter\", \"x\": [5, 6, null], \"y\": [5, 0, null]}, {\"hoverinfo\": \"text\", \"line\": {\"color\": \"cornflowerblue\", \"width\": 0.45436664683149813}, \"mode\": \"lines\", \"text\": \"0.227\", \"type\": \"scatter\", \"x\": [5, 6, null], \"y\": [5, 1, null]}, {\"hoverinfo\": \"text\", \"line\": {\"color\": \"cornflowerblue\", \"width\": 0.46798945705611283}, \"mode\": \"lines\", \"text\": \"0.234\", \"type\": \"scatter\", \"x\": [5, 6, null], \"y\": [5, 2, null]}, {\"hoverinfo\": \"text\", \"line\": {\"color\": \"cornflowerblue\", \"width\": 0.43598541695237863}, \"mode\": \"lines\", \"text\": \"0.218\", \"type\": \"scatter\", \"x\": [5, 6, null], \"y\": [5, 3, null]}, {\"hoverinfo\": \"text\", \"line\": {\"color\": \"cornflowerblue\", \"width\": 0.49917217781384354}, \"mode\": \"lines\", \"text\": \"0.25\", \"type\": \"scatter\", \"x\": [5, 6, null], \"y\": [5, 4, null]}, {\"hoverinfo\": \"text\", \"line\": {\"color\": \"cornflowerblue\", \"width\": 0.500709148525779}, \"mode\": \"lines\", \"text\": \"0.25\", \"type\": \"scatter\", \"x\": [5, 6, null], \"y\": [5, 5, null]}, {\"hoverinfo\": \"text\", \"line\": {\"color\": \"cornflowerblue\", \"width\": 0.4720723267978377}, \"mode\": \"lines\", \"text\": \"0.236\", \"type\": \"scatter\", \"x\": [5, 6, null], \"y\": [5, 6, null]}, {\"hoverinfo\": \"text\", \"line\": {\"color\": \"cornflowerblue\", \"width\": 0.43340119160066126}, \"mode\": \"lines\", \"text\": \"0.217\", \"type\": \"scatter\", \"x\": [5, 6, null], \"y\": [5, 7, null]}, {\"hoverinfo\": \"text\", \"line\": {\"color\": \"cornflowerblue\", \"width\": 0.41735268845302037}, \"mode\": \"lines\", \"text\": \"0.209\", \"type\": \"scatter\", \"x\": [5, 6, null], \"y\": [5, 8, null]}, {\"hoverinfo\": \"text\", \"line\": {\"color\": \"cornflowerblue\", \"width\": 0.573247119823629}, \"mode\": \"lines\", \"text\": \"0.287\", \"type\": \"scatter\", \"x\": [5, 6, null], \"y\": [6, 0, null]}, {\"hoverinfo\": \"text\", \"line\": {\"color\": \"cornflowerblue\", \"width\": 0.4519798970545272}, \"mode\": \"lines\", \"text\": \"0.226\", \"type\": \"scatter\", \"x\": [5, 6, null], \"y\": [6, 1, null]}, {\"hoverinfo\": \"text\", \"line\": {\"color\": \"cornflowerblue\", \"width\": 0.5848509193015315}, \"mode\": \"lines\", \"text\": \"0.292\", \"type\": \"scatter\", \"x\": [5, 6, null], \"y\": [6, 2, null]}, {\"hoverinfo\": \"text\", \"line\": {\"color\": \"cornflowerblue\", \"width\": 0.4346654019282755}, \"mode\": \"lines\", \"text\": \"0.217\", \"type\": \"scatter\", \"x\": [5, 6, null], \"y\": [6, 3, null]}, {\"hoverinfo\": \"text\", \"line\": {\"color\": \"cornflowerblue\", \"width\": 0.48769663845419264}, \"mode\": \"lines\", \"text\": \"0.244\", \"type\": \"scatter\", \"x\": [5, 6, null], \"y\": [6, 4, null]}, {\"hoverinfo\": \"text\", \"line\": {\"color\": \"cornflowerblue\", \"width\": 0.48627769643698454}, \"mode\": \"lines\", \"text\": \"0.243\", \"type\": \"scatter\", \"x\": [5, 6, null], \"y\": [6, 5, null]}, {\"hoverinfo\": \"text\", \"line\": {\"color\": \"cornflowerblue\", \"width\": 0.4931824411743854}, \"mode\": \"lines\", \"text\": \"0.247\", \"type\": \"scatter\", \"x\": [5, 6, null], \"y\": [6, 6, null]}, {\"hoverinfo\": \"text\", \"line\": {\"color\": \"cornflowerblue\", \"width\": 0.43085900038242253}, \"mode\": \"lines\", \"text\": \"0.215\", \"type\": \"scatter\", \"x\": [5, 6, null], \"y\": [6, 7, null]}, {\"hoverinfo\": \"text\", \"line\": {\"color\": \"cornflowerblue\", \"width\": 0.41475143774951706}, \"mode\": \"lines\", \"text\": \"0.207\", \"type\": \"scatter\", \"x\": [5, 6, null], \"y\": [6, 8, null]}, {\"hoverinfo\": \"text\", \"line\": {\"color\": \"cornflowerblue\", \"width\": 0.39687407327522556}, \"mode\": \"lines\", \"text\": \"0.198\", \"type\": \"scatter\", \"x\": [5, 6, null], \"y\": [7, 0, null]}, {\"hoverinfo\": \"text\", \"line\": {\"color\": \"cornflowerblue\", \"width\": 0.37948806878303176}, \"mode\": \"lines\", \"text\": \"0.19\", \"type\": \"scatter\", \"x\": [5, 6, null], \"y\": [7, 1, null]}, {\"hoverinfo\": \"text\", \"line\": {\"color\": \"cornflowerblue\", \"width\": 0.39416134756826665}, \"mode\": \"lines\", \"text\": \"0.197\", \"type\": \"scatter\", \"x\": [5, 6, null], \"y\": [7, 2, null]}, {\"hoverinfo\": \"text\", \"line\": {\"color\": \"cornflowerblue\", \"width\": 0.3830895131138601}, \"mode\": \"lines\", \"text\": \"0.192\", \"type\": \"scatter\", \"x\": [5, 6, null], \"y\": [7, 3, null]}, {\"hoverinfo\": \"text\", \"line\": {\"color\": \"cornflowerblue\", \"width\": 0.39481800646415394}, \"mode\": \"lines\", \"text\": \"0.197\", \"type\": \"scatter\", \"x\": [5, 6, null], \"y\": [7, 4, null]}, {\"hoverinfo\": \"text\", \"line\": {\"color\": \"cornflowerblue\", \"width\": 0.3960678216418244}, \"mode\": \"lines\", \"text\": \"0.198\", \"type\": \"scatter\", \"x\": [5, 6, null], \"y\": [7, 5, null]}, {\"hoverinfo\": \"text\", \"line\": {\"color\": \"cornflowerblue\", \"width\": 0.406239947781011}, \"mode\": \"lines\", \"text\": \"0.203\", \"type\": \"scatter\", \"x\": [5, 6, null], \"y\": [7, 6, null]}, {\"hoverinfo\": \"text\", \"line\": {\"color\": \"cornflowerblue\", \"width\": 0.39127142118664815}, \"mode\": \"lines\", \"text\": \"0.196\", \"type\": \"scatter\", \"x\": [5, 6, null], \"y\": [7, 7, null]}, {\"hoverinfo\": \"text\", \"line\": {\"color\": \"cornflowerblue\", \"width\": 0.3828021942576169}, \"mode\": \"lines\", \"text\": \"0.191\", \"type\": \"scatter\", \"x\": [5, 6, null], \"y\": [7, 8, null]}, {\"hoverinfo\": \"text\", \"marker\": {\"color\": [], \"colorbar\": {\"thickness\": 15, \"title\": {\"side\": \"right\", \"text\": \"Node Connections\"}, \"xanchor\": \"left\"}, \"colorscale\": [[0.0, \"rgb(255,255,217)\"], [0.125, \"rgb(237,248,177)\"], [0.25, \"rgb(199,233,180)\"], [0.375, \"rgb(127,205,187)\"], [0.5, \"rgb(65,182,196)\"], [0.625, \"rgb(29,145,192)\"], [0.75, \"rgb(34,94,168)\"], [0.875, \"rgb(37,52,148)\"], [1.0, \"rgb(8,29,88)\"]], \"line\": {\"width\": 2}, \"reversescale\": true, \"showscale\": true, \"size\": 10}, \"mode\": \"markers\", \"text\": [\"calle<br>subir<br>arma<br>llave<br>individuo<br>dos<br>tipo<br>persona<br>llevar<br>bajar\", \"liqu<br>ovalle<br>mmedina<br>asigna<br>percatar<br>calle<br>angulo<br>dedu<br>recuperado<br>taller\", \"dejar<br>conductor<br>domicilio<br>ingresar<br>interior<br>estacionamiento<br>encontrar<br>camion<br>empresa<br>camioneta\", \"encontrar<br>camioneta<br>salir<br>alarma<br>vidrio<br>llave<br>cuenta<br>vidrios<br>casa<br>estacionado\", \"percato<br>dejar<br>domicilio<br>salir<br>regresar<br>volver<br>calle<br>encontrar<br>deje<br>estacionado\", \"radio<br>roto<br>delantero<br>estacionado<br>encontrado<br>derecho<br>vidrio<br>puerta<br>trasero<br>chapa\", \"figueroa<br>felipe<br>bus<br>hab\\u00f6a<br>contrato<br>se\\u00f1or<br>apropiacion<br>indebido<br>veh\\u00e3culo<br>veh\\u00f6culo\", \"colisionado<br>detener<br>padre<br>aparicion<br>permiso<br>adelante<br>hundido<br>mucho<br>siempre<br>cuado\", \"salir<br>dentro<br>llegar<br>estacionamiento<br>alarma<br>persona<br>estacionado<br>llave<br>domicilio<br>casa\", \"cami\\u00f3n<br>encontrado<br>calama<br>carrasco<br>empresa<br>d\\u00eda<br>camion<br>encontrar<br>taller<br>camioneta\", \"quebrado<br>estacionado<br>roto<br>delantero<br>derecho<br>encontrado<br>vidrio<br>puerta<br>chapa<br>trasero\", \"arma<br>llave<br>pistola<br>subir<br>individuo<br>dos<br>tipo<br>llevar<br>persona<br>bajar\", \"dejo<br>percato<br>salir<br>regresar<br>volver<br>domicilio<br>calle<br>encontrar<br>deje<br>estacionado\", \"equipo<br>pio<br>padron<br>compa\\u00f1ero<br>solo<br>faltar<br>copia<br>liqu<br>vhi<br>ppardo\", \"amenazo<br>puerto<br>empleado<br>posible<br>cuchillo<br>pendiente<br>presento<br>palo<br>fco<br>frente\", \"\\u00f1u\\u00f1oa<br>papas<br>depto<br>hermano<br>cumpleanos<br>papa<br>f<br>procedio<br>cunado<br>encontrarlo\", \"ra<br>concepci\\u00f3n<br>rajado<br>seguir<br>bomba<br>dirigia<br>debia<br>camion<br>rampla<br>salida\", \"kpg<br>entro<br>diciendo<br>cuanta<br>camilo<br>cd<br>pm<br>once<br>abria<br>estacionadocircunstancia\", \"subir<br>pistola<br>individuo<br>llave<br>calle<br>tipo<br>dos<br>llevar<br>persona<br>bajar\", \"sector<br>carga<br>rampla<br>camioneta<br>desconocido<br>cami\\u00f3n<br>empresa<br>chofer<br>conductor<br>camion\", \"proceder<br>contrato<br>indebido<br>entregar<br>encontrado<br>empresa<br>encontrar<br>d\\u00eda<br>taller<br>camioneta\", \"dentro<br>salir<br>llevar<br>entrar<br>llave<br>estacionado<br>encontrar<br>camioneta<br>casa<br>domicilio\", \"abollado<br>estacionado<br>vidrio<br>parachoque<br>encontrado<br>delantero<br>derecho<br>chapa<br>puerta<br>trasero\", \"dejo<br>volver<br>salir<br>regresar<br>domicilio<br>percato<br>encontrar<br>calle<br>deje<br>estacionado\", \"carro<br>llegu<br>camin<br>ingresado<br>gimnasio<br>mdiaz<br>simon<br>bolivar<br>foliar<br>contac\", \"lejos<br>reventado<br>quebrada<br>prestar<br>panel<br>gata<br>frontal<br>senalado<br>strc<br>alejandro\", \"reventado<br>quebrada<br>prestar<br>panel<br>gata<br>frontal<br>acudir<br>strc<br>moro<br>encontramos\", \"delantera<br>roto<br>estacionado<br>encontrado<br>derecho<br>delantero<br>vidrio<br>chapa<br>puerta<br>trasero\", \"h\\u00e9ctor<br>aprop<br>empresa<br>formalizo<br>p\\u00f3liza<br>contrato<br>arrendar<br>apropiaci\\u00f3n<br>apropiacion<br>indebido\", \"fuente<br>perdida<br>raul<br>banco<br>moto<br>mesos<br>dctos<br>taller<br>hector<br>vasquez\", \"casa<br>pistola<br>individuo<br>subir<br>llave<br>dos<br>tipo<br>persona<br>llevar<br>bajar\", \"ingresar<br>chofer<br>dejar<br>d\\u00eda<br>encontrar<br>conductor<br>cami\\u00f3n<br>empresa<br>camioneta<br>camion\", \"dejar<br>volver<br>percato<br>salir<br>casa<br>domicilio<br>encontrar<br>calle<br>deje<br>estacionado\", \"esposa<br>regresamos<br>licencia<br>publico<br>comentar<br>advertir<br>as\\u00ed<br>levantar<br>asomar<br>agua\", \"registro<br>unidad<br>abro<br>agarra<br>dehesa<br>yaris<br>encendido<br>dispositivo<br>avanzar<br>seg\\u00fan\", \"interior<br>dentro<br>ingresar<br>encontrar<br>llevar<br>llave<br>porton<br>entrar<br>domicilio<br>casa\", \"delantera<br>encontrado<br>estacionado<br>roto<br>vidrio<br>delantero<br>derecho<br>chapa<br>puerta<br>trasero\", \"regresar<br>salir<br>volver<br>domicilio<br>dejar<br>percato<br>encontrar<br>calle<br>deje<br>estacionado\", \"encontrado<br>oficina<br>percatar<br>interior<br>unidad<br>encontrar<br>taller<br>d\\u00eda<br>empresa<br>camioneta\", \"armas<br>arma<br>llave<br>calle<br>pistola<br>dos<br>tipo<br>llevar<br>persona<br>bajar\", \"movimiento<br>ammg<br>punto<br>detenido<br>senalizacionotro<br>persona<br>nammg<br>transitar<br>calle<br>pista\", \"chofer<br>empresa<br>conductor<br>mecanismo<br>cami\\u00f3n<br>llave<br>seguridad<br>estacionamiento<br>cuenta<br>camion\", \"espera<br>escriba<br>tucson<br>irme<br>ba<br>pedido<br>percate<br>h<br>sali<br>monsenor\", \"sidaos<br>\\u00e2cuenta<br>direcci\\u00f3n<br>deje<br>estacionado<br>mecanismo<br>seguridad<br>llave<br>estacionamiento<br>cuenta\", \"costado<br>encontrado<br>delantera<br>roto<br>derecho<br>vidrio<br>delantero<br>chapa<br>trasero<br>puerta\", \"interior<br>empresa<br>entrar<br>llave<br>ingresar<br>camioneta<br>encontrar<br>camion<br>casa<br>domicilio\", \"fabres<br>encontrar<br>salfa<br>salino<br>bian<br>full<br>santander<br>devolucion<br>convenio<br>zenit\", \"senalizacionsemaforo<br>d\\u00eda<br>arrendar<br>ocurrenciaizquierda<br>local<br>empresa<br>indebido<br>taller<br>camioneta<br>pista\", \"fuego<br>arma<br>pistola<br>calle<br>llave<br>dos<br>tipo<br>llevar<br>persona<br>bajar\", \"camioneta<br>casa<br>volver<br>domicilio<br>percato<br>salir<br>calle<br>deje<br>encontrar<br>estacionado\", \"saco<br>colo<br>diagonal<br>merced<br>dormido<br>evitar<br>cuidador<br>mercaderya<br>restaurante<br>cenar\", \"debo<br>recien<br>saliendo<br>robarme<br>carrera<br>manubrio<br>verbal<br>guanaco<br>pasos<br>dorsal\"], \"type\": \"scatter\", \"x\": [1, 1, 1, 1, 1, 1, 1, 1, 2, 2, 2, 2, 2, 2, 2, 2, 2, 2, 3, 3, 3, 3, 3, 3, 3, 3, 3, 4, 4, 4, 4, 4, 4, 4, 4, 5, 5, 5, 5, 5, 5, 5, 5, 6, 6, 6, 6, 6, 6, 6, 6, 6], \"y\": [0, 1, 2, 3, 4, 5, 6, 7, 0, 1, 2, 3, 4, 5, 6, 7, 8, 9, 0, 1, 2, 3, 4, 5, 6, 7, 8, 0, 1, 2, 3, 4, 5, 6, 7, 0, 1, 2, 3, 4, 5, 6, 7, 0, 1, 2, 3, 4, 5, 6, 7, 8]}],\n",
       "                        {\"paper_bgcolor\": \"rgba(0,0,0,0)\", \"plot_bgcolor\": \"rgba(0,0,0,0)\", \"showlegend\": false, \"template\": {\"data\": {\"bar\": [{\"error_x\": {\"color\": \"#2a3f5f\"}, \"error_y\": {\"color\": \"#2a3f5f\"}, \"marker\": {\"line\": {\"color\": \"#E5ECF6\", \"width\": 0.5}}, \"type\": \"bar\"}], \"barpolar\": [{\"marker\": {\"line\": {\"color\": \"#E5ECF6\", \"width\": 0.5}}, \"type\": \"barpolar\"}], \"carpet\": [{\"aaxis\": {\"endlinecolor\": \"#2a3f5f\", \"gridcolor\": \"white\", \"linecolor\": \"white\", \"minorgridcolor\": \"white\", \"startlinecolor\": \"#2a3f5f\"}, \"baxis\": {\"endlinecolor\": \"#2a3f5f\", \"gridcolor\": \"white\", \"linecolor\": \"white\", \"minorgridcolor\": \"white\", \"startlinecolor\": \"#2a3f5f\"}, \"type\": \"carpet\"}], \"choropleth\": [{\"colorbar\": {\"outlinewidth\": 0, \"ticks\": \"\"}, \"type\": \"choropleth\"}], \"contour\": [{\"colorbar\": {\"outlinewidth\": 0, \"ticks\": \"\"}, \"colorscale\": [[0.0, \"#0d0887\"], [0.1111111111111111, \"#46039f\"], [0.2222222222222222, \"#7201a8\"], [0.3333333333333333, \"#9c179e\"], [0.4444444444444444, \"#bd3786\"], [0.5555555555555556, \"#d8576b\"], [0.6666666666666666, \"#ed7953\"], [0.7777777777777778, \"#fb9f3a\"], [0.8888888888888888, \"#fdca26\"], [1.0, \"#f0f921\"]], \"type\": \"contour\"}], \"contourcarpet\": [{\"colorbar\": {\"outlinewidth\": 0, \"ticks\": \"\"}, \"type\": \"contourcarpet\"}], \"heatmap\": [{\"colorbar\": {\"outlinewidth\": 0, \"ticks\": \"\"}, \"colorscale\": [[0.0, \"#0d0887\"], [0.1111111111111111, \"#46039f\"], [0.2222222222222222, \"#7201a8\"], [0.3333333333333333, \"#9c179e\"], [0.4444444444444444, \"#bd3786\"], [0.5555555555555556, \"#d8576b\"], [0.6666666666666666, \"#ed7953\"], [0.7777777777777778, \"#fb9f3a\"], [0.8888888888888888, \"#fdca26\"], [1.0, \"#f0f921\"]], \"type\": \"heatmap\"}], \"heatmapgl\": [{\"colorbar\": {\"outlinewidth\": 0, \"ticks\": \"\"}, \"colorscale\": [[0.0, \"#0d0887\"], [0.1111111111111111, \"#46039f\"], [0.2222222222222222, \"#7201a8\"], [0.3333333333333333, \"#9c179e\"], [0.4444444444444444, \"#bd3786\"], [0.5555555555555556, \"#d8576b\"], [0.6666666666666666, \"#ed7953\"], [0.7777777777777778, \"#fb9f3a\"], [0.8888888888888888, \"#fdca26\"], [1.0, \"#f0f921\"]], \"type\": \"heatmapgl\"}], \"histogram\": [{\"marker\": {\"colorbar\": {\"outlinewidth\": 0, \"ticks\": \"\"}}, \"type\": \"histogram\"}], \"histogram2d\": [{\"colorbar\": {\"outlinewidth\": 0, \"ticks\": \"\"}, \"colorscale\": [[0.0, \"#0d0887\"], [0.1111111111111111, \"#46039f\"], [0.2222222222222222, \"#7201a8\"], [0.3333333333333333, \"#9c179e\"], [0.4444444444444444, \"#bd3786\"], [0.5555555555555556, \"#d8576b\"], [0.6666666666666666, \"#ed7953\"], [0.7777777777777778, \"#fb9f3a\"], [0.8888888888888888, \"#fdca26\"], [1.0, \"#f0f921\"]], \"type\": \"histogram2d\"}], \"histogram2dcontour\": [{\"colorbar\": {\"outlinewidth\": 0, \"ticks\": \"\"}, \"colorscale\": [[0.0, \"#0d0887\"], [0.1111111111111111, \"#46039f\"], [0.2222222222222222, \"#7201a8\"], [0.3333333333333333, \"#9c179e\"], [0.4444444444444444, \"#bd3786\"], [0.5555555555555556, \"#d8576b\"], [0.6666666666666666, \"#ed7953\"], [0.7777777777777778, \"#fb9f3a\"], [0.8888888888888888, \"#fdca26\"], [1.0, \"#f0f921\"]], \"type\": \"histogram2dcontour\"}], \"mesh3d\": [{\"colorbar\": {\"outlinewidth\": 0, \"ticks\": \"\"}, \"type\": \"mesh3d\"}], \"parcoords\": [{\"line\": {\"colorbar\": {\"outlinewidth\": 0, \"ticks\": \"\"}}, \"type\": \"parcoords\"}], \"scatter\": [{\"marker\": {\"colorbar\": {\"outlinewidth\": 0, \"ticks\": \"\"}}, \"type\": \"scatter\"}], \"scatter3d\": [{\"line\": {\"colorbar\": {\"outlinewidth\": 0, \"ticks\": \"\"}}, \"marker\": {\"colorbar\": {\"outlinewidth\": 0, \"ticks\": \"\"}}, \"type\": \"scatter3d\"}], \"scattercarpet\": [{\"marker\": {\"colorbar\": {\"outlinewidth\": 0, \"ticks\": \"\"}}, \"type\": \"scattercarpet\"}], \"scattergeo\": [{\"marker\": {\"colorbar\": {\"outlinewidth\": 0, \"ticks\": \"\"}}, \"type\": \"scattergeo\"}], \"scattergl\": [{\"marker\": {\"colorbar\": {\"outlinewidth\": 0, \"ticks\": \"\"}}, \"type\": \"scattergl\"}], \"scattermapbox\": [{\"marker\": {\"colorbar\": {\"outlinewidth\": 0, \"ticks\": \"\"}}, \"type\": \"scattermapbox\"}], \"scatterpolar\": [{\"marker\": {\"colorbar\": {\"outlinewidth\": 0, \"ticks\": \"\"}}, \"type\": \"scatterpolar\"}], \"scatterpolargl\": [{\"marker\": {\"colorbar\": {\"outlinewidth\": 0, \"ticks\": \"\"}}, \"type\": \"scatterpolargl\"}], \"scatterternary\": [{\"marker\": {\"colorbar\": {\"outlinewidth\": 0, \"ticks\": \"\"}}, \"type\": \"scatterternary\"}], \"surface\": [{\"colorbar\": {\"outlinewidth\": 0, \"ticks\": \"\"}, \"colorscale\": [[0.0, \"#0d0887\"], [0.1111111111111111, \"#46039f\"], [0.2222222222222222, \"#7201a8\"], [0.3333333333333333, \"#9c179e\"], [0.4444444444444444, \"#bd3786\"], [0.5555555555555556, \"#d8576b\"], [0.6666666666666666, \"#ed7953\"], [0.7777777777777778, \"#fb9f3a\"], [0.8888888888888888, \"#fdca26\"], [1.0, \"#f0f921\"]], \"type\": \"surface\"}], \"table\": [{\"cells\": {\"fill\": {\"color\": \"#EBF0F8\"}, \"line\": {\"color\": \"white\"}}, \"header\": {\"fill\": {\"color\": \"#C8D4E3\"}, \"line\": {\"color\": \"white\"}}, \"type\": \"table\"}]}, \"layout\": {\"annotationdefaults\": {\"arrowcolor\": \"#2a3f5f\", \"arrowhead\": 0, \"arrowwidth\": 1}, \"colorscale\": {\"diverging\": [[0, \"#8e0152\"], [0.1, \"#c51b7d\"], [0.2, \"#de77ae\"], [0.3, \"#f1b6da\"], [0.4, \"#fde0ef\"], [0.5, \"#f7f7f7\"], [0.6, \"#e6f5d0\"], [0.7, \"#b8e186\"], [0.8, \"#7fbc41\"], [0.9, \"#4d9221\"], [1, \"#276419\"]], \"sequential\": [[0.0, \"#0d0887\"], [0.1111111111111111, \"#46039f\"], [0.2222222222222222, \"#7201a8\"], [0.3333333333333333, \"#9c179e\"], [0.4444444444444444, \"#bd3786\"], [0.5555555555555556, \"#d8576b\"], [0.6666666666666666, \"#ed7953\"], [0.7777777777777778, \"#fb9f3a\"], [0.8888888888888888, \"#fdca26\"], [1.0, \"#f0f921\"]], \"sequentialminus\": [[0.0, \"#0d0887\"], [0.1111111111111111, \"#46039f\"], [0.2222222222222222, \"#7201a8\"], [0.3333333333333333, \"#9c179e\"], [0.4444444444444444, \"#bd3786\"], [0.5555555555555556, \"#d8576b\"], [0.6666666666666666, \"#ed7953\"], [0.7777777777777778, \"#fb9f3a\"], [0.8888888888888888, \"#fdca26\"], [1.0, \"#f0f921\"]]}, \"colorway\": [\"#636efa\", \"#EF553B\", \"#00cc96\", \"#ab63fa\", \"#FFA15A\", \"#19d3f3\", \"#FF6692\", \"#B6E880\", \"#FF97FF\", \"#FECB52\"], \"font\": {\"color\": \"#2a3f5f\"}, \"geo\": {\"bgcolor\": \"white\", \"lakecolor\": \"white\", \"landcolor\": \"#E5ECF6\", \"showlakes\": true, \"showland\": true, \"subunitcolor\": \"white\"}, \"hoverlabel\": {\"align\": \"left\"}, \"hovermode\": \"closest\", \"mapbox\": {\"style\": \"light\"}, \"paper_bgcolor\": \"white\", \"plot_bgcolor\": \"#E5ECF6\", \"polar\": {\"angularaxis\": {\"gridcolor\": \"white\", \"linecolor\": \"white\", \"ticks\": \"\"}, \"bgcolor\": \"#E5ECF6\", \"radialaxis\": {\"gridcolor\": \"white\", \"linecolor\": \"white\", \"ticks\": \"\"}}, \"scene\": {\"xaxis\": {\"backgroundcolor\": \"#E5ECF6\", \"gridcolor\": \"white\", \"gridwidth\": 2, \"linecolor\": \"white\", \"showbackground\": true, \"ticks\": \"\", \"zerolinecolor\": \"white\"}, \"yaxis\": {\"backgroundcolor\": \"#E5ECF6\", \"gridcolor\": \"white\", \"gridwidth\": 2, \"linecolor\": \"white\", \"showbackground\": true, \"ticks\": \"\", \"zerolinecolor\": \"white\"}, \"zaxis\": {\"backgroundcolor\": \"#E5ECF6\", \"gridcolor\": \"white\", \"gridwidth\": 2, \"linecolor\": \"white\", \"showbackground\": true, \"ticks\": \"\", \"zerolinecolor\": \"white\"}}, \"shapedefaults\": {\"line\": {\"color\": \"#2a3f5f\"}}, \"ternary\": {\"aaxis\": {\"gridcolor\": \"white\", \"linecolor\": \"white\", \"ticks\": \"\"}, \"baxis\": {\"gridcolor\": \"white\", \"linecolor\": \"white\", \"ticks\": \"\"}, \"bgcolor\": \"#E5ECF6\", \"caxis\": {\"gridcolor\": \"white\", \"linecolor\": \"white\", \"ticks\": \"\"}}, \"title\": {\"x\": 0.05}, \"xaxis\": {\"automargin\": true, \"gridcolor\": \"white\", \"linecolor\": \"white\", \"ticks\": \"\", \"zerolinecolor\": \"white\", \"zerolinewidth\": 2}, \"yaxis\": {\"automargin\": true, \"gridcolor\": \"white\", \"linecolor\": \"white\", \"ticks\": \"\", \"zerolinecolor\": \"white\", \"zerolinewidth\": 2}}}, \"xaxis\": {\"showgrid\": false, \"showticklabels\": true, \"tickvals\": [1, 2, 3, 4, 5, 6, 7, 8, 9], \"zeroline\": false}, \"yaxis\": {\"showgrid\": false, \"showticklabels\": false, \"zeroline\": false}},\n",
       "                        {\"responsive\": true}\n",
       "                    ).then(function(){\n",
       "                            \n",
       "var gd = document.getElementById('d032a761-9867-49c2-a3d9-8adab7d9ed2a');\n",
       "var x = new MutationObserver(function (mutations, observer) {{\n",
       "        var display = window.getComputedStyle(gd).display;\n",
       "        if (!display || display === 'none') {{\n",
       "            console.log([gd, 'removed!']);\n",
       "            Plotly.purge(gd);\n",
       "            observer.disconnect();\n",
       "        }}\n",
       "}});\n",
       "\n",
       "// Listen for the removal of the full notebook cells\n",
       "var notebookContainer = gd.closest('#notebook-container');\n",
       "if (notebookContainer) {{\n",
       "    x.observe(notebookContainer, {childList: true});\n",
       "}}\n",
       "\n",
       "// Listen for the clearing of the current output cell\n",
       "var outputEl = gd.closest('.output');\n",
       "if (outputEl) {{\n",
       "    x.observe(outputEl, {childList: true});\n",
       "}}\n",
       "\n",
       "                        })\n",
       "                };\n",
       "                });\n",
       "            </script>\n",
       "        </div>"
      ]
     },
     "metadata": {},
     "output_type": "display_data"
    }
   ],
   "source": [
    "plot_network(nodes, text, edges, distances.quantile(0.05))"
   ]
  }
 ],
 "metadata": {
  "kernelspec": {
   "display_name": "Python 3",
   "language": "python",
   "name": "python3"
  },
  "language_info": {
   "codemirror_mode": {
    "name": "ipython",
    "version": 3
   },
   "file_extension": ".py",
   "mimetype": "text/x-python",
   "name": "python",
   "nbconvert_exporter": "python",
   "pygments_lexer": "ipython3",
   "version": "3.7.4"
  }
 },
 "nbformat": 4,
 "nbformat_minor": 2
}
