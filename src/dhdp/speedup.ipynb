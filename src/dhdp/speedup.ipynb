{
 "cells": [
  {
   "cell_type": "code",
   "execution_count": 11,
   "id": "0cf1c371",
   "metadata": {},
   "outputs": [],
   "source": [
    "import os\n",
    "import json\n",
    "import numpy as np\n",
    "import pandas as pd\n",
    "from dotenv import load_dotenv\n",
    "import plotly.graph_objects as go\n",
    "from plotly.subplots import make_subplots\n",
    "from gensim.corpora import Dictionary\n",
    "from gensim.models import KeyedVectors\n",
    "from similarity_measures import compute_similarity, get_topic_topn\n",
    "from dotenv import load_dotenv\n",
    "from time import time"
   ]
  },
  {
   "cell_type": "markdown",
   "id": "f239a8bf",
   "metadata": {},
   "source": [
    "# 1. Load environment variables"
   ]
  },
  {
   "cell_type": "code",
   "execution_count": 3,
   "id": "38c3421b",
   "metadata": {},
   "outputs": [],
   "source": [
    "load_dotenv()\n",
    "corpus = os.getenv(\"CORPUS\") \n",
    "model_path = os.getenv(\"MODEL_PATH\")\n",
    "similarity = os.getenv(\"SIMILARITY\")\n",
    "embeddings_path = os.getenv(\"EMBEDDINGS\")\n",
    "\n",
    "\n",
    "q = float(os.getenv(\"TOPIC_QUANTILE_THRESHOLD\"))\n",
    "topn = int(os.getenv(\"TOPN\"))\n",
    "graph_dir = os.getenv(\"GRAPH_PATH\")"
   ]
  },
  {
   "cell_type": "markdown",
   "id": "47b28f08",
   "metadata": {},
   "source": [
    "# 2. Load data"
   ]
  },
  {
   "cell_type": "code",
   "execution_count": 8,
   "id": "f3366b4f",
   "metadata": {},
   "outputs": [],
   "source": [
    "dict_files = sorted([file for file in os.listdir(corpus) if \".dict\" in file])\n",
    "models_dir = sorted(os.listdir(model_path))\n",
    "\n",
    "epochs = range(0, len(models_dir))\n",
    "data = {}\n",
    "for epoch in epochs:\n",
    "    # load dictionary {word->id}\n",
    "    dict_path = f'{corpus}{dict_files[epoch]}'\n",
    "    token2id = Dictionary.load(dict_path).token2id\n",
    "\n",
    "    # load topics distributions\n",
    "    topics_path = f'{model_path}{models_dir[epoch]}/mode-topics.dat'\n",
    "    with open(topics_path, \"r\") as f:\n",
    "        topics = np.array([[int(word) for word in line.strip().split()] for line in f])\n",
    "    topics_dists = (topics.T/topics.sum(axis=1)).T\n",
    "\n",
    "    # load word assignments and get mixture weigths\n",
    "    word_assignments_path = f'{model_path}{models_dir[epoch]}/mode-word-assignments.dat'\n",
    "    word_assignments = []\n",
    "    with open(word_assignments_path, \"r\") as f:\n",
    "        lines = f.readlines()[1:]\n",
    "        # (doc_id, word_id, topic_id, x)\n",
    "        for line in lines:\n",
    "            line = line.strip().split() \n",
    "            word_assignments.append(int(line[2]))\n",
    "    \n",
    "    tokens = len(word_assignments)\n",
    "    mixture_weights = np.unique(word_assignments, return_counts=True)[1]/tokens\n",
    "\n",
    "    # save data in a dict\n",
    "    data[epoch] = {\"token2id\": token2id, \"topics_dists\": topics_dists, \"mixture_weights\":mixture_weights}"
   ]
  },
  {
   "cell_type": "code",
   "execution_count": 49,
   "id": "7c88dc63",
   "metadata": {},
   "outputs": [],
   "source": [
    "if similarity == \"wmd\":\n",
    "    embeddings = KeyedVectors.load_word2vec_format(embeddings_path)\n",
    "else:\n",
    "    embeddings = None"
   ]
  },
  {
   "cell_type": "code",
   "execution_count": 80,
   "id": "d6c9deec",
   "metadata": {},
   "outputs": [],
   "source": [
    "graph_path = f'{graph_dir}graph_{similarity}_q{int(100*q)}.json'\n",
    "with open(graph_path, \"r\") as f:\n",
    "    graph = json.load(f)[\"edges\"]"
   ]
  },
  {
   "cell_type": "markdown",
   "id": "6a18dd77",
   "metadata": {},
   "source": [
    "# 3. Compute similarity graph"
   ]
  },
  {
   "cell_type": "code",
   "execution_count": 99,
   "id": "aa512682",
   "metadata": {},
   "outputs": [],
   "source": [
    "def build_graph(data, q): \n",
    "    graph = []\n",
    "    epoch = data.keys()\n",
    "    for epoch in epochs[:-1]:  \n",
    "        # get vocabularies and topics distributions by epoch\n",
    "        token2id1 = data[epoch][\"token2id\"]\n",
    "        token2id2 = data[epoch+1][\"token2id\"]\n",
    "        topics_dists1 = data[epoch][\"topics_dists\"] \n",
    "        topics_dists2 = data[epoch+1][\"topics_dists\"]\n",
    "        K1 = len(topics_dists1)\n",
    "        K2 = len(topics_dists2)\n",
    "        # save similarities in a matrix\n",
    "        similarity_matrix = np.zeros((K1, K2))\n",
    "        for i in range(K1):\n",
    "            topic_i = topics_dists1[i]\n",
    "            for j in range(K2):\n",
    "                topic_j = topics_dists2[j]\n",
    "                # get similarity\n",
    "                similarity_matrix[i,j] = compute_similarity(\n",
    "                        similarity, \n",
    "                        embeddings, \n",
    "                        token2id1, \n",
    "                        token2id2, \n",
    "                        topic_i, \n",
    "                        topic_j, \n",
    "                        q = q\n",
    "                )\n",
    "                # update similarity graph with edge data\n",
    "                graph.append({\n",
    "                    \"s\": f\"{epoch+1}-{i+1}\", \n",
    "                    \"t\": f\"{epoch+2}-{j+1}\", \n",
    "                    \"w\": similarity_matrix[i,j]\n",
    "                })\n",
    "    \n",
    "    return graph\n",
    "\n",
    "def prunning_graph(graph, epsilon):\n",
    "    prunned_graph = []\n",
    "    similarities = pd.Series([edge[\"w\"] for edge in graph])\n",
    "    threshold = similarities.quantile(e)\n",
    "    prunned_graph =  []\n",
    "    for edge in graph:\n",
    "        if edge[\"w\"] >=  threshold:\n",
    "            prunned_graph.append(edge)\n",
    "    return prunned_graph\n",
    "\n",
    "def heuristic_error(approx_graph, graph):\n",
    "    approx_edges = set([(edge[\"s\"], edge[\"t\"]) for edge in approx_graph])\n",
    "    edges = set([(edge[\"s\"], edge[\"t\"]) for edge in graph])\n",
    "    \n",
    "    error = (len(approx_edges-edges) + len(edges-approx_edges))/(len(approx_edges) + len(edges))\n",
    "    return error"
   ]
  },
  {
   "cell_type": "code",
   "execution_count": 101,
   "id": "7813a97d",
   "metadata": {},
   "outputs": [],
   "source": [
    "quantiles = [0.2, 0.3, 0.4, 0.5, 0.6, 0.7, 0.8, 0.9, 0.95, 0.99, 1]\n",
    "epsilons = [0.6, 0.7, 0.8, 0.9, 0.95, 0.99]"
   ]
  },
  {
   "cell_type": "code",
   "execution_count": 102,
   "id": "9b1b9aed",
   "metadata": {},
   "outputs": [
    {
     "name": "stdout",
     "output_type": "stream",
     "text": [
      "quantile: 0.2\n",
      "quantile: 0.3\n",
      "quantile: 0.4\n",
      "quantile: 0.5\n",
      "quantile: 0.6\n",
      "quantile: 0.7\n",
      "quantile: 0.8\n",
      "quantile: 0.9\n",
      "quantile: 0.95\n",
      "quantile: 0.99\n",
      "quantile: 1\n"
     ]
    }
   ],
   "source": [
    "speedup = {}\n",
    "speedup[\"q\"] = quantiles\n",
    "speedup[\"t\"] = []\n",
    "for e in epsilons:\n",
    "    speedup[str(e)] = []\n",
    "    \n",
    "\n",
    "for q in quantiles:\n",
    "    print(f\"quantile: {q}\")\n",
    "    ti = time()\n",
    "    approx_graph = build_graph(data, q)\n",
    "    tf = time()\n",
    "    time_execution = tf-ti\n",
    "    \n",
    "    speedup[\"t\"].append(time_execution)\n",
    "    \n",
    "    for e in epsilons:\n",
    "        approx_prunned_graph = prunning_graph(approx_graph, e)\n",
    "        prunned_graph = prunning_graph(graph, e)\n",
    "        error = heuristic_error(approx_prunned_graph, prunned_graph)\n",
    "        \n",
    "        speedup[str(e)].append(error)\n",
    "    \n",
    "        \n",
    "df_speedup = pd.DataFrame(speedup)\n",
    "max_time = df_speedup[\"t\"].max()\n",
    "df_speedup[\"speedup\"] =  max_time/df_speedup[\"t\"]    "
   ]
  },
  {
   "cell_type": "code",
   "execution_count": 94,
   "id": "eba6726d",
   "metadata": {},
   "outputs": [
    {
     "data": {
      "text/html": [
       "<div>\n",
       "<style scoped>\n",
       "    .dataframe tbody tr th:only-of-type {\n",
       "        vertical-align: middle;\n",
       "    }\n",
       "\n",
       "    .dataframe tbody tr th {\n",
       "        vertical-align: top;\n",
       "    }\n",
       "\n",
       "    .dataframe thead th {\n",
       "        text-align: right;\n",
       "    }\n",
       "</style>\n",
       "<table border=\"1\" class=\"dataframe\">\n",
       "  <thead>\n",
       "    <tr style=\"text-align: right;\">\n",
       "      <th></th>\n",
       "      <th>q</th>\n",
       "      <th>t</th>\n",
       "      <th>0.6</th>\n",
       "      <th>0.7</th>\n",
       "      <th>0.8</th>\n",
       "      <th>0.9</th>\n",
       "      <th>0.95</th>\n",
       "      <th>0.99</th>\n",
       "      <th>speedup</th>\n",
       "    </tr>\n",
       "  </thead>\n",
       "  <tbody>\n",
       "    <tr>\n",
       "      <th>0</th>\n",
       "      <td>0.2</td>\n",
       "      <td>2.385511</td>\n",
       "      <td>0.301205</td>\n",
       "      <td>0.298387</td>\n",
       "      <td>0.204819</td>\n",
       "      <td>0.095238</td>\n",
       "      <td>0.238095</td>\n",
       "      <td>0.2</td>\n",
       "      <td>1.467569</td>\n",
       "    </tr>\n",
       "    <tr>\n",
       "      <th>1</th>\n",
       "      <td>0.3</td>\n",
       "      <td>3.064166</td>\n",
       "      <td>0.198795</td>\n",
       "      <td>0.161290</td>\n",
       "      <td>0.120482</td>\n",
       "      <td>0.023810</td>\n",
       "      <td>0.190476</td>\n",
       "      <td>0.2</td>\n",
       "      <td>1.142530</td>\n",
       "    </tr>\n",
       "    <tr>\n",
       "      <th>2</th>\n",
       "      <td>0.4</td>\n",
       "      <td>3.500901</td>\n",
       "      <td>0.132530</td>\n",
       "      <td>0.096774</td>\n",
       "      <td>0.072289</td>\n",
       "      <td>0.023810</td>\n",
       "      <td>0.142857</td>\n",
       "      <td>0.4</td>\n",
       "      <td>1.000000</td>\n",
       "    </tr>\n",
       "  </tbody>\n",
       "</table>\n",
       "</div>"
      ],
      "text/plain": [
       "     q         t       0.6       0.7       0.8       0.9      0.95  0.99  \\\n",
       "0  0.2  2.385511  0.301205  0.298387  0.204819  0.095238  0.238095   0.2   \n",
       "1  0.3  3.064166  0.198795  0.161290  0.120482  0.023810  0.190476   0.2   \n",
       "2  0.4  3.500901  0.132530  0.096774  0.072289  0.023810  0.142857   0.4   \n",
       "\n",
       "    speedup  \n",
       "0  1.467569  \n",
       "1  1.142530  \n",
       "2  1.000000  "
      ]
     },
     "execution_count": 94,
     "metadata": {},
     "output_type": "execute_result"
    }
   ],
   "source": [
    "df_speedup"
   ]
  },
  {
   "cell_type": "code",
   "execution_count": 103,
   "id": "c943e599",
   "metadata": {},
   "outputs": [],
   "source": [
    "df_speedup.to_csv(\"../../data/graph/speedup.csv\", sep = \"|\", index = False)"
   ]
  },
  {
   "cell_type": "markdown",
   "id": "d45024d4",
   "metadata": {},
   "source": [
    "# 4. Speedup"
   ]
  },
  {
   "cell_type": "code",
   "execution_count": 5,
   "id": "3af60065",
   "metadata": {},
   "outputs": [
    {
     "data": {
      "text/html": [
       "<div>\n",
       "<style scoped>\n",
       "    .dataframe tbody tr th:only-of-type {\n",
       "        vertical-align: middle;\n",
       "    }\n",
       "\n",
       "    .dataframe tbody tr th {\n",
       "        vertical-align: top;\n",
       "    }\n",
       "\n",
       "    .dataframe thead th {\n",
       "        text-align: right;\n",
       "    }\n",
       "</style>\n",
       "<table border=\"1\" class=\"dataframe\">\n",
       "  <thead>\n",
       "    <tr style=\"text-align: right;\">\n",
       "      <th></th>\n",
       "      <th>q</th>\n",
       "      <th>t</th>\n",
       "      <th>0.6</th>\n",
       "      <th>0.7</th>\n",
       "      <th>0.8</th>\n",
       "      <th>0.9</th>\n",
       "      <th>0.95</th>\n",
       "      <th>0.99</th>\n",
       "      <th>speedup</th>\n",
       "    </tr>\n",
       "  </thead>\n",
       "  <tbody>\n",
       "    <tr>\n",
       "      <th>0</th>\n",
       "      <td>0.2</td>\n",
       "      <td>2.485798</td>\n",
       "      <td>0.301205</td>\n",
       "      <td>0.298387</td>\n",
       "      <td>0.204819</td>\n",
       "      <td>0.095238</td>\n",
       "      <td>0.238095</td>\n",
       "      <td>0.2</td>\n",
       "      <td>1206.507253</td>\n",
       "    </tr>\n",
       "    <tr>\n",
       "      <th>1</th>\n",
       "      <td>0.3</td>\n",
       "      <td>3.087434</td>\n",
       "      <td>0.198795</td>\n",
       "      <td>0.161290</td>\n",
       "      <td>0.120482</td>\n",
       "      <td>0.023810</td>\n",
       "      <td>0.190476</td>\n",
       "      <td>0.2</td>\n",
       "      <td>971.400082</td>\n",
       "    </tr>\n",
       "    <tr>\n",
       "      <th>2</th>\n",
       "      <td>0.4</td>\n",
       "      <td>3.537020</td>\n",
       "      <td>0.132530</td>\n",
       "      <td>0.096774</td>\n",
       "      <td>0.072289</td>\n",
       "      <td>0.023810</td>\n",
       "      <td>0.142857</td>\n",
       "      <td>0.4</td>\n",
       "      <td>847.926641</td>\n",
       "    </tr>\n",
       "    <tr>\n",
       "      <th>3</th>\n",
       "      <td>0.5</td>\n",
       "      <td>5.935852</td>\n",
       "      <td>0.126506</td>\n",
       "      <td>0.088710</td>\n",
       "      <td>0.048193</td>\n",
       "      <td>0.023810</td>\n",
       "      <td>0.095238</td>\n",
       "      <td>0.0</td>\n",
       "      <td>505.257489</td>\n",
       "    </tr>\n",
       "    <tr>\n",
       "      <th>4</th>\n",
       "      <td>0.6</td>\n",
       "      <td>21.924542</td>\n",
       "      <td>0.102410</td>\n",
       "      <td>0.072581</td>\n",
       "      <td>0.048193</td>\n",
       "      <td>0.023810</td>\n",
       "      <td>0.095238</td>\n",
       "      <td>0.0</td>\n",
       "      <td>136.793438</td>\n",
       "    </tr>\n",
       "  </tbody>\n",
       "</table>\n",
       "</div>"
      ],
      "text/plain": [
       "     q          t       0.6       0.7       0.8       0.9      0.95  0.99  \\\n",
       "0  0.2   2.485798  0.301205  0.298387  0.204819  0.095238  0.238095   0.2   \n",
       "1  0.3   3.087434  0.198795  0.161290  0.120482  0.023810  0.190476   0.2   \n",
       "2  0.4   3.537020  0.132530  0.096774  0.072289  0.023810  0.142857   0.4   \n",
       "3  0.5   5.935852  0.126506  0.088710  0.048193  0.023810  0.095238   0.0   \n",
       "4  0.6  21.924542  0.102410  0.072581  0.048193  0.023810  0.095238   0.0   \n",
       "\n",
       "       speedup  \n",
       "0  1206.507253  \n",
       "1   971.400082  \n",
       "2   847.926641  \n",
       "3   505.257489  \n",
       "4   136.793438  "
      ]
     },
     "execution_count": 5,
     "metadata": {},
     "output_type": "execute_result"
    }
   ],
   "source": [
    "df = pd.read_csv(\"../../data/graph/speedup.csv\", sep = \"|\")\n",
    "df.head()"
   ]
  },
  {
   "cell_type": "code",
   "execution_count": 104,
   "id": "4d855128",
   "metadata": {},
   "outputs": [
    {
     "data": {
      "application/vnd.plotly.v1+json": {
       "config": {
        "plotlyServerURL": "https://plot.ly"
       },
       "data": [
        {
         "line": {
          "color": "#636EFA",
          "width": 2
         },
         "marker": {
          "size": 6,
          "symbol": "circle"
         },
         "name": "speedup",
         "type": "scatter",
         "x": [
          0.2,
          0.3,
          0.4,
          0.5,
          0.6,
          0.7,
          0.8,
          0.9,
          0.95,
          0.99,
          1
         ],
         "xaxis": "x",
         "y": [
          1206.5072527431632,
          971.4000820563604,
          847.9266411676391,
          505.2574889847139,
          136.7934376027437,
          63.50268015633279,
          25.376321391245185,
          8.02410706321916,
          4.037307441492658,
          1.6520617880720283,
          1
         ],
         "yaxis": "y"
        },
        {
         "line": {
          "color": "#EF553B",
          "width": 2
         },
         "marker": {
          "size": 6,
          "symbol": "triangle-up"
         },
         "name": "$\\zeta = 0.6$",
         "type": "scatter",
         "x": [
          0.2,
          0.3,
          0.4,
          0.5,
          0.6,
          0.7,
          0.8,
          0.9,
          0.95,
          0.99,
          1
         ],
         "xaxis": "x",
         "y": [
          69.87951807228916,
          80.12048192771086,
          86.74698795180723,
          87.34939759036145,
          89.75903614457832,
          90.36144578313254,
          92.16867469879519,
          96.98795180722892,
          98.79518072289157,
          99.3975903614458,
          100
         ],
         "yaxis": "y2"
        },
        {
         "line": {
          "color": "#00CC96",
          "width": 2
         },
         "marker": {
          "size": 6,
          "symbol": "triangle-down"
         },
         "name": "$\\zeta = 0.8$",
         "type": "scatter",
         "x": [
          0.2,
          0.3,
          0.4,
          0.5,
          0.6,
          0.7,
          0.8,
          0.9,
          0.95,
          0.99,
          1
         ],
         "xaxis": "x",
         "y": [
          79.51807228915662,
          87.95180722891567,
          92.7710843373494,
          95.18072289156628,
          95.18072289156628,
          93.97590361445785,
          95.18072289156628,
          95.18072289156628,
          97.59036144578313,
          98.79518072289157,
          100
         ],
         "yaxis": "y2"
        },
        {
         "line": {
          "color": "#AB63FA",
          "width": 2
         },
         "marker": {
          "size": 6,
          "symbol": "asterisk-open"
         },
         "name": "$\\zeta = 0.9$",
         "type": "scatter",
         "x": [
          0.2,
          0.3,
          0.4,
          0.5,
          0.6,
          0.7,
          0.8,
          0.9,
          0.95,
          0.99,
          1
         ],
         "xaxis": "x",
         "y": [
          90.47619047619048,
          97.61904761904762,
          97.61904761904762,
          97.61904761904762,
          97.61904761904762,
          97.61904761904762,
          100,
          100,
          100,
          100,
          100
         ],
         "yaxis": "y2"
        },
        {
         "line": {
          "color": "#FFA15A",
          "width": 2
         },
         "marker": {
          "size": 6,
          "symbol": "x"
         },
         "name": "$\\zeta = 0.95$",
         "type": "scatter",
         "x": [
          0.2,
          0.3,
          0.4,
          0.5,
          0.6,
          0.7,
          0.8,
          0.9,
          0.95,
          0.99,
          1
         ],
         "xaxis": "x",
         "y": [
          76.1904761904762,
          80.95238095238095,
          85.71428571428572,
          90.47619047619048,
          90.47619047619048,
          95.23809523809524,
          95.23809523809524,
          100,
          100,
          100,
          100
         ],
         "yaxis": "y2"
        },
        {
         "line": {
          "color": "#FECB52",
          "width": 2
         },
         "marker": {
          "size": 6,
          "symbol": "cross"
         },
         "name": "$\\zeta = 0.99$",
         "type": "scatter",
         "x": [
          0.2,
          0.3,
          0.4,
          0.5,
          0.6,
          0.7,
          0.8,
          0.9,
          0.95,
          0.99,
          1
         ],
         "xaxis": "x",
         "y": [
          80,
          80,
          60,
          100,
          100,
          100,
          100,
          100,
          100,
          100,
          100
         ],
         "yaxis": "y2"
        }
       ],
       "layout": {
        "legend": {
         "bordercolor": "Black",
         "borderwidth": 0.5,
         "x": 0.05,
         "xanchor": "left",
         "y": 0,
         "yanchor": "bottom"
        },
        "template": {
         "data": {
          "bar": [
           {
            "error_x": {
             "color": "#2a3f5f"
            },
            "error_y": {
             "color": "#2a3f5f"
            },
            "marker": {
             "line": {
              "color": "white",
              "width": 0.5
             }
            },
            "type": "bar"
           }
          ],
          "barpolar": [
           {
            "marker": {
             "line": {
              "color": "white",
              "width": 0.5
             }
            },
            "type": "barpolar"
           }
          ],
          "carpet": [
           {
            "aaxis": {
             "endlinecolor": "#2a3f5f",
             "gridcolor": "#C8D4E3",
             "linecolor": "#C8D4E3",
             "minorgridcolor": "#C8D4E3",
             "startlinecolor": "#2a3f5f"
            },
            "baxis": {
             "endlinecolor": "#2a3f5f",
             "gridcolor": "#C8D4E3",
             "linecolor": "#C8D4E3",
             "minorgridcolor": "#C8D4E3",
             "startlinecolor": "#2a3f5f"
            },
            "type": "carpet"
           }
          ],
          "choropleth": [
           {
            "colorbar": {
             "outlinewidth": 0,
             "ticks": ""
            },
            "type": "choropleth"
           }
          ],
          "contour": [
           {
            "colorbar": {
             "outlinewidth": 0,
             "ticks": ""
            },
            "colorscale": [
             [
              0,
              "#0d0887"
             ],
             [
              0.1111111111111111,
              "#46039f"
             ],
             [
              0.2222222222222222,
              "#7201a8"
             ],
             [
              0.3333333333333333,
              "#9c179e"
             ],
             [
              0.4444444444444444,
              "#bd3786"
             ],
             [
              0.5555555555555556,
              "#d8576b"
             ],
             [
              0.6666666666666666,
              "#ed7953"
             ],
             [
              0.7777777777777778,
              "#fb9f3a"
             ],
             [
              0.8888888888888888,
              "#fdca26"
             ],
             [
              1,
              "#f0f921"
             ]
            ],
            "type": "contour"
           }
          ],
          "contourcarpet": [
           {
            "colorbar": {
             "outlinewidth": 0,
             "ticks": ""
            },
            "type": "contourcarpet"
           }
          ],
          "heatmap": [
           {
            "colorbar": {
             "outlinewidth": 0,
             "ticks": ""
            },
            "colorscale": [
             [
              0,
              "#0d0887"
             ],
             [
              0.1111111111111111,
              "#46039f"
             ],
             [
              0.2222222222222222,
              "#7201a8"
             ],
             [
              0.3333333333333333,
              "#9c179e"
             ],
             [
              0.4444444444444444,
              "#bd3786"
             ],
             [
              0.5555555555555556,
              "#d8576b"
             ],
             [
              0.6666666666666666,
              "#ed7953"
             ],
             [
              0.7777777777777778,
              "#fb9f3a"
             ],
             [
              0.8888888888888888,
              "#fdca26"
             ],
             [
              1,
              "#f0f921"
             ]
            ],
            "type": "heatmap"
           }
          ],
          "heatmapgl": [
           {
            "colorbar": {
             "outlinewidth": 0,
             "ticks": ""
            },
            "colorscale": [
             [
              0,
              "#0d0887"
             ],
             [
              0.1111111111111111,
              "#46039f"
             ],
             [
              0.2222222222222222,
              "#7201a8"
             ],
             [
              0.3333333333333333,
              "#9c179e"
             ],
             [
              0.4444444444444444,
              "#bd3786"
             ],
             [
              0.5555555555555556,
              "#d8576b"
             ],
             [
              0.6666666666666666,
              "#ed7953"
             ],
             [
              0.7777777777777778,
              "#fb9f3a"
             ],
             [
              0.8888888888888888,
              "#fdca26"
             ],
             [
              1,
              "#f0f921"
             ]
            ],
            "type": "heatmapgl"
           }
          ],
          "histogram": [
           {
            "marker": {
             "colorbar": {
              "outlinewidth": 0,
              "ticks": ""
             }
            },
            "type": "histogram"
           }
          ],
          "histogram2d": [
           {
            "colorbar": {
             "outlinewidth": 0,
             "ticks": ""
            },
            "colorscale": [
             [
              0,
              "#0d0887"
             ],
             [
              0.1111111111111111,
              "#46039f"
             ],
             [
              0.2222222222222222,
              "#7201a8"
             ],
             [
              0.3333333333333333,
              "#9c179e"
             ],
             [
              0.4444444444444444,
              "#bd3786"
             ],
             [
              0.5555555555555556,
              "#d8576b"
             ],
             [
              0.6666666666666666,
              "#ed7953"
             ],
             [
              0.7777777777777778,
              "#fb9f3a"
             ],
             [
              0.8888888888888888,
              "#fdca26"
             ],
             [
              1,
              "#f0f921"
             ]
            ],
            "type": "histogram2d"
           }
          ],
          "histogram2dcontour": [
           {
            "colorbar": {
             "outlinewidth": 0,
             "ticks": ""
            },
            "colorscale": [
             [
              0,
              "#0d0887"
             ],
             [
              0.1111111111111111,
              "#46039f"
             ],
             [
              0.2222222222222222,
              "#7201a8"
             ],
             [
              0.3333333333333333,
              "#9c179e"
             ],
             [
              0.4444444444444444,
              "#bd3786"
             ],
             [
              0.5555555555555556,
              "#d8576b"
             ],
             [
              0.6666666666666666,
              "#ed7953"
             ],
             [
              0.7777777777777778,
              "#fb9f3a"
             ],
             [
              0.8888888888888888,
              "#fdca26"
             ],
             [
              1,
              "#f0f921"
             ]
            ],
            "type": "histogram2dcontour"
           }
          ],
          "mesh3d": [
           {
            "colorbar": {
             "outlinewidth": 0,
             "ticks": ""
            },
            "type": "mesh3d"
           }
          ],
          "parcoords": [
           {
            "line": {
             "colorbar": {
              "outlinewidth": 0,
              "ticks": ""
             }
            },
            "type": "parcoords"
           }
          ],
          "pie": [
           {
            "automargin": true,
            "type": "pie"
           }
          ],
          "scatter": [
           {
            "marker": {
             "colorbar": {
              "outlinewidth": 0,
              "ticks": ""
             }
            },
            "type": "scatter"
           }
          ],
          "scatter3d": [
           {
            "line": {
             "colorbar": {
              "outlinewidth": 0,
              "ticks": ""
             }
            },
            "marker": {
             "colorbar": {
              "outlinewidth": 0,
              "ticks": ""
             }
            },
            "type": "scatter3d"
           }
          ],
          "scattercarpet": [
           {
            "marker": {
             "colorbar": {
              "outlinewidth": 0,
              "ticks": ""
             }
            },
            "type": "scattercarpet"
           }
          ],
          "scattergeo": [
           {
            "marker": {
             "colorbar": {
              "outlinewidth": 0,
              "ticks": ""
             }
            },
            "type": "scattergeo"
           }
          ],
          "scattergl": [
           {
            "marker": {
             "colorbar": {
              "outlinewidth": 0,
              "ticks": ""
             }
            },
            "type": "scattergl"
           }
          ],
          "scattermapbox": [
           {
            "marker": {
             "colorbar": {
              "outlinewidth": 0,
              "ticks": ""
             }
            },
            "type": "scattermapbox"
           }
          ],
          "scatterpolar": [
           {
            "marker": {
             "colorbar": {
              "outlinewidth": 0,
              "ticks": ""
             }
            },
            "type": "scatterpolar"
           }
          ],
          "scatterpolargl": [
           {
            "marker": {
             "colorbar": {
              "outlinewidth": 0,
              "ticks": ""
             }
            },
            "type": "scatterpolargl"
           }
          ],
          "scatterternary": [
           {
            "marker": {
             "colorbar": {
              "outlinewidth": 0,
              "ticks": ""
             }
            },
            "type": "scatterternary"
           }
          ],
          "surface": [
           {
            "colorbar": {
             "outlinewidth": 0,
             "ticks": ""
            },
            "colorscale": [
             [
              0,
              "#0d0887"
             ],
             [
              0.1111111111111111,
              "#46039f"
             ],
             [
              0.2222222222222222,
              "#7201a8"
             ],
             [
              0.3333333333333333,
              "#9c179e"
             ],
             [
              0.4444444444444444,
              "#bd3786"
             ],
             [
              0.5555555555555556,
              "#d8576b"
             ],
             [
              0.6666666666666666,
              "#ed7953"
             ],
             [
              0.7777777777777778,
              "#fb9f3a"
             ],
             [
              0.8888888888888888,
              "#fdca26"
             ],
             [
              1,
              "#f0f921"
             ]
            ],
            "type": "surface"
           }
          ],
          "table": [
           {
            "cells": {
             "fill": {
              "color": "#EBF0F8"
             },
             "line": {
              "color": "white"
             }
            },
            "header": {
             "fill": {
              "color": "#C8D4E3"
             },
             "line": {
              "color": "white"
             }
            },
            "type": "table"
           }
          ]
         },
         "layout": {
          "annotationdefaults": {
           "arrowcolor": "#2a3f5f",
           "arrowhead": 0,
           "arrowwidth": 1
          },
          "autotypenumbers": "strict",
          "coloraxis": {
           "colorbar": {
            "outlinewidth": 0,
            "ticks": ""
           }
          },
          "colorscale": {
           "diverging": [
            [
             0,
             "#8e0152"
            ],
            [
             0.1,
             "#c51b7d"
            ],
            [
             0.2,
             "#de77ae"
            ],
            [
             0.3,
             "#f1b6da"
            ],
            [
             0.4,
             "#fde0ef"
            ],
            [
             0.5,
             "#f7f7f7"
            ],
            [
             0.6,
             "#e6f5d0"
            ],
            [
             0.7,
             "#b8e186"
            ],
            [
             0.8,
             "#7fbc41"
            ],
            [
             0.9,
             "#4d9221"
            ],
            [
             1,
             "#276419"
            ]
           ],
           "sequential": [
            [
             0,
             "#0d0887"
            ],
            [
             0.1111111111111111,
             "#46039f"
            ],
            [
             0.2222222222222222,
             "#7201a8"
            ],
            [
             0.3333333333333333,
             "#9c179e"
            ],
            [
             0.4444444444444444,
             "#bd3786"
            ],
            [
             0.5555555555555556,
             "#d8576b"
            ],
            [
             0.6666666666666666,
             "#ed7953"
            ],
            [
             0.7777777777777778,
             "#fb9f3a"
            ],
            [
             0.8888888888888888,
             "#fdca26"
            ],
            [
             1,
             "#f0f921"
            ]
           ],
           "sequentialminus": [
            [
             0,
             "#0d0887"
            ],
            [
             0.1111111111111111,
             "#46039f"
            ],
            [
             0.2222222222222222,
             "#7201a8"
            ],
            [
             0.3333333333333333,
             "#9c179e"
            ],
            [
             0.4444444444444444,
             "#bd3786"
            ],
            [
             0.5555555555555556,
             "#d8576b"
            ],
            [
             0.6666666666666666,
             "#ed7953"
            ],
            [
             0.7777777777777778,
             "#fb9f3a"
            ],
            [
             0.8888888888888888,
             "#fdca26"
            ],
            [
             1,
             "#f0f921"
            ]
           ]
          },
          "colorway": [
           "#636efa",
           "#EF553B",
           "#00cc96",
           "#ab63fa",
           "#FFA15A",
           "#19d3f3",
           "#FF6692",
           "#B6E880",
           "#FF97FF",
           "#FECB52"
          ],
          "font": {
           "color": "#2a3f5f"
          },
          "geo": {
           "bgcolor": "white",
           "lakecolor": "white",
           "landcolor": "white",
           "showlakes": true,
           "showland": true,
           "subunitcolor": "#C8D4E3"
          },
          "hoverlabel": {
           "align": "left"
          },
          "hovermode": "closest",
          "mapbox": {
           "style": "light"
          },
          "paper_bgcolor": "white",
          "plot_bgcolor": "white",
          "polar": {
           "angularaxis": {
            "gridcolor": "#EBF0F8",
            "linecolor": "#EBF0F8",
            "ticks": ""
           },
           "bgcolor": "white",
           "radialaxis": {
            "gridcolor": "#EBF0F8",
            "linecolor": "#EBF0F8",
            "ticks": ""
           }
          },
          "scene": {
           "xaxis": {
            "backgroundcolor": "white",
            "gridcolor": "#DFE8F3",
            "gridwidth": 2,
            "linecolor": "#EBF0F8",
            "showbackground": true,
            "ticks": "",
            "zerolinecolor": "#EBF0F8"
           },
           "yaxis": {
            "backgroundcolor": "white",
            "gridcolor": "#DFE8F3",
            "gridwidth": 2,
            "linecolor": "#EBF0F8",
            "showbackground": true,
            "ticks": "",
            "zerolinecolor": "#EBF0F8"
           },
           "zaxis": {
            "backgroundcolor": "white",
            "gridcolor": "#DFE8F3",
            "gridwidth": 2,
            "linecolor": "#EBF0F8",
            "showbackground": true,
            "ticks": "",
            "zerolinecolor": "#EBF0F8"
           }
          },
          "shapedefaults": {
           "line": {
            "color": "#2a3f5f"
           }
          },
          "ternary": {
           "aaxis": {
            "gridcolor": "#DFE8F3",
            "linecolor": "#A2B1C6",
            "ticks": ""
           },
           "baxis": {
            "gridcolor": "#DFE8F3",
            "linecolor": "#A2B1C6",
            "ticks": ""
           },
           "bgcolor": "white",
           "caxis": {
            "gridcolor": "#DFE8F3",
            "linecolor": "#A2B1C6",
            "ticks": ""
           }
          },
          "title": {
           "x": 0.05
          },
          "xaxis": {
           "automargin": true,
           "gridcolor": "#EBF0F8",
           "linecolor": "#EBF0F8",
           "ticks": "",
           "title": {
            "standoff": 15
           },
           "zerolinecolor": "#EBF0F8",
           "zerolinewidth": 2
          },
          "yaxis": {
           "automargin": true,
           "gridcolor": "#EBF0F8",
           "linecolor": "#EBF0F8",
           "ticks": "",
           "title": {
            "standoff": 15
           },
           "zerolinecolor": "#EBF0F8",
           "zerolinewidth": 2
          }
         }
        },
        "xaxis": {
         "anchor": "y",
         "domain": [
          0,
          0.94
         ],
         "title": {
          "text": "Porcentaje de la CDF utilizada del tópico"
         }
        },
        "yaxis": {
         "anchor": "x",
         "domain": [
          0,
          1
         ],
         "title": {
          "text": "Speedup"
         },
         "type": "log"
        },
        "yaxis2": {
         "anchor": "x",
         "overlaying": "y",
         "range": [
          0,
          110
         ],
         "side": "right",
         "title": {
          "text": "Arcos correctos (%)"
         }
        }
       }
      },
      "text/html": [
       "<div>                            <div id=\"544f54e6-b5d0-472a-8b7f-bb9957a2ec1d\" class=\"plotly-graph-div\" style=\"height:525px; width:100%;\"></div>            <script type=\"text/javascript\">                require([\"plotly\"], function(Plotly) {                    window.PLOTLYENV=window.PLOTLYENV || {};                                    if (document.getElementById(\"544f54e6-b5d0-472a-8b7f-bb9957a2ec1d\")) {                    Plotly.newPlot(                        \"544f54e6-b5d0-472a-8b7f-bb9957a2ec1d\",                        [{\"line\": {\"color\": \"#636EFA\", \"width\": 2}, \"marker\": {\"size\": 6, \"symbol\": \"circle\"}, \"name\": \"speedup\", \"type\": \"scatter\", \"x\": [0.2, 0.3, 0.4, 0.5, 0.6, 0.7, 0.8, 0.9, 0.95, 0.99, 1.0], \"xaxis\": \"x\", \"y\": [1206.5072527431632, 971.4000820563604, 847.9266411676391, 505.2574889847139, 136.7934376027437, 63.50268015633279, 25.376321391245185, 8.02410706321916, 4.037307441492658, 1.6520617880720283, 1.0], \"yaxis\": \"y\"}, {\"line\": {\"color\": \"#EF553B\", \"width\": 2}, \"marker\": {\"size\": 6, \"symbol\": \"triangle-up\"}, \"name\": \"$\\\\zeta = 0.6$\", \"type\": \"scatter\", \"x\": [0.2, 0.3, 0.4, 0.5, 0.6, 0.7, 0.8, 0.9, 0.95, 0.99, 1.0], \"xaxis\": \"x\", \"y\": [69.87951807228916, 80.12048192771086, 86.74698795180723, 87.34939759036145, 89.75903614457832, 90.36144578313254, 92.16867469879519, 96.98795180722892, 98.79518072289157, 99.3975903614458, 100.0], \"yaxis\": \"y2\"}, {\"line\": {\"color\": \"#00CC96\", \"width\": 2}, \"marker\": {\"size\": 6, \"symbol\": \"triangle-down\"}, \"name\": \"$\\\\zeta = 0.8$\", \"type\": \"scatter\", \"x\": [0.2, 0.3, 0.4, 0.5, 0.6, 0.7, 0.8, 0.9, 0.95, 0.99, 1.0], \"xaxis\": \"x\", \"y\": [79.51807228915662, 87.95180722891567, 92.7710843373494, 95.18072289156628, 95.18072289156628, 93.97590361445785, 95.18072289156628, 95.18072289156628, 97.59036144578313, 98.79518072289157, 100.0], \"yaxis\": \"y2\"}, {\"line\": {\"color\": \"#AB63FA\", \"width\": 2}, \"marker\": {\"size\": 6, \"symbol\": \"asterisk-open\"}, \"name\": \"$\\\\zeta = 0.9$\", \"type\": \"scatter\", \"x\": [0.2, 0.3, 0.4, 0.5, 0.6, 0.7, 0.8, 0.9, 0.95, 0.99, 1.0], \"xaxis\": \"x\", \"y\": [90.47619047619048, 97.61904761904762, 97.61904761904762, 97.61904761904762, 97.61904761904762, 97.61904761904762, 100.0, 100.0, 100.0, 100.0, 100.0], \"yaxis\": \"y2\"}, {\"line\": {\"color\": \"#FFA15A\", \"width\": 2}, \"marker\": {\"size\": 6, \"symbol\": \"x\"}, \"name\": \"$\\\\zeta = 0.95$\", \"type\": \"scatter\", \"x\": [0.2, 0.3, 0.4, 0.5, 0.6, 0.7, 0.8, 0.9, 0.95, 0.99, 1.0], \"xaxis\": \"x\", \"y\": [76.1904761904762, 80.95238095238095, 85.71428571428572, 90.47619047619048, 90.47619047619048, 95.23809523809524, 95.23809523809524, 100.0, 100.0, 100.0, 100.0], \"yaxis\": \"y2\"}, {\"line\": {\"color\": \"#FECB52\", \"width\": 2}, \"marker\": {\"size\": 6, \"symbol\": \"cross\"}, \"name\": \"$\\\\zeta = 0.99$\", \"type\": \"scatter\", \"x\": [0.2, 0.3, 0.4, 0.5, 0.6, 0.7, 0.8, 0.9, 0.95, 0.99, 1.0], \"xaxis\": \"x\", \"y\": [80.0, 80.0, 60.0, 100.0, 100.0, 100.0, 100.0, 100.0, 100.0, 100.0, 100.0], \"yaxis\": \"y2\"}],                        {\"legend\": {\"bordercolor\": \"Black\", \"borderwidth\": 0.5, \"x\": 0.05, \"xanchor\": \"left\", \"y\": 0.0, \"yanchor\": \"bottom\"}, \"template\": {\"data\": {\"bar\": [{\"error_x\": {\"color\": \"#2a3f5f\"}, \"error_y\": {\"color\": \"#2a3f5f\"}, \"marker\": {\"line\": {\"color\": \"white\", \"width\": 0.5}}, \"type\": \"bar\"}], \"barpolar\": [{\"marker\": {\"line\": {\"color\": \"white\", \"width\": 0.5}}, \"type\": \"barpolar\"}], \"carpet\": [{\"aaxis\": {\"endlinecolor\": \"#2a3f5f\", \"gridcolor\": \"#C8D4E3\", \"linecolor\": \"#C8D4E3\", \"minorgridcolor\": \"#C8D4E3\", \"startlinecolor\": \"#2a3f5f\"}, \"baxis\": {\"endlinecolor\": \"#2a3f5f\", \"gridcolor\": \"#C8D4E3\", \"linecolor\": \"#C8D4E3\", \"minorgridcolor\": \"#C8D4E3\", \"startlinecolor\": \"#2a3f5f\"}, \"type\": \"carpet\"}], \"choropleth\": [{\"colorbar\": {\"outlinewidth\": 0, \"ticks\": \"\"}, \"type\": \"choropleth\"}], \"contour\": [{\"colorbar\": {\"outlinewidth\": 0, \"ticks\": \"\"}, \"colorscale\": [[0.0, \"#0d0887\"], [0.1111111111111111, \"#46039f\"], [0.2222222222222222, \"#7201a8\"], [0.3333333333333333, \"#9c179e\"], [0.4444444444444444, \"#bd3786\"], [0.5555555555555556, \"#d8576b\"], [0.6666666666666666, \"#ed7953\"], [0.7777777777777778, \"#fb9f3a\"], [0.8888888888888888, \"#fdca26\"], [1.0, \"#f0f921\"]], \"type\": \"contour\"}], \"contourcarpet\": [{\"colorbar\": {\"outlinewidth\": 0, \"ticks\": \"\"}, \"type\": \"contourcarpet\"}], \"heatmap\": [{\"colorbar\": {\"outlinewidth\": 0, \"ticks\": \"\"}, \"colorscale\": [[0.0, \"#0d0887\"], [0.1111111111111111, \"#46039f\"], [0.2222222222222222, \"#7201a8\"], [0.3333333333333333, \"#9c179e\"], [0.4444444444444444, \"#bd3786\"], [0.5555555555555556, \"#d8576b\"], [0.6666666666666666, \"#ed7953\"], [0.7777777777777778, \"#fb9f3a\"], [0.8888888888888888, \"#fdca26\"], [1.0, \"#f0f921\"]], \"type\": \"heatmap\"}], \"heatmapgl\": [{\"colorbar\": {\"outlinewidth\": 0, \"ticks\": \"\"}, \"colorscale\": [[0.0, \"#0d0887\"], [0.1111111111111111, \"#46039f\"], [0.2222222222222222, \"#7201a8\"], [0.3333333333333333, \"#9c179e\"], [0.4444444444444444, \"#bd3786\"], [0.5555555555555556, \"#d8576b\"], [0.6666666666666666, \"#ed7953\"], [0.7777777777777778, \"#fb9f3a\"], [0.8888888888888888, \"#fdca26\"], [1.0, \"#f0f921\"]], \"type\": \"heatmapgl\"}], \"histogram\": [{\"marker\": {\"colorbar\": {\"outlinewidth\": 0, \"ticks\": \"\"}}, \"type\": \"histogram\"}], \"histogram2d\": [{\"colorbar\": {\"outlinewidth\": 0, \"ticks\": \"\"}, \"colorscale\": [[0.0, \"#0d0887\"], [0.1111111111111111, \"#46039f\"], [0.2222222222222222, \"#7201a8\"], [0.3333333333333333, \"#9c179e\"], [0.4444444444444444, \"#bd3786\"], [0.5555555555555556, \"#d8576b\"], [0.6666666666666666, \"#ed7953\"], [0.7777777777777778, \"#fb9f3a\"], [0.8888888888888888, \"#fdca26\"], [1.0, \"#f0f921\"]], \"type\": \"histogram2d\"}], \"histogram2dcontour\": [{\"colorbar\": {\"outlinewidth\": 0, \"ticks\": \"\"}, \"colorscale\": [[0.0, \"#0d0887\"], [0.1111111111111111, \"#46039f\"], [0.2222222222222222, \"#7201a8\"], [0.3333333333333333, \"#9c179e\"], [0.4444444444444444, \"#bd3786\"], [0.5555555555555556, \"#d8576b\"], [0.6666666666666666, \"#ed7953\"], [0.7777777777777778, \"#fb9f3a\"], [0.8888888888888888, \"#fdca26\"], [1.0, \"#f0f921\"]], \"type\": \"histogram2dcontour\"}], \"mesh3d\": [{\"colorbar\": {\"outlinewidth\": 0, \"ticks\": \"\"}, \"type\": \"mesh3d\"}], \"parcoords\": [{\"line\": {\"colorbar\": {\"outlinewidth\": 0, \"ticks\": \"\"}}, \"type\": \"parcoords\"}], \"pie\": [{\"automargin\": true, \"type\": \"pie\"}], \"scatter\": [{\"marker\": {\"colorbar\": {\"outlinewidth\": 0, \"ticks\": \"\"}}, \"type\": \"scatter\"}], \"scatter3d\": [{\"line\": {\"colorbar\": {\"outlinewidth\": 0, \"ticks\": \"\"}}, \"marker\": {\"colorbar\": {\"outlinewidth\": 0, \"ticks\": \"\"}}, \"type\": \"scatter3d\"}], \"scattercarpet\": [{\"marker\": {\"colorbar\": {\"outlinewidth\": 0, \"ticks\": \"\"}}, \"type\": \"scattercarpet\"}], \"scattergeo\": [{\"marker\": {\"colorbar\": {\"outlinewidth\": 0, \"ticks\": \"\"}}, \"type\": \"scattergeo\"}], \"scattergl\": [{\"marker\": {\"colorbar\": {\"outlinewidth\": 0, \"ticks\": \"\"}}, \"type\": \"scattergl\"}], \"scattermapbox\": [{\"marker\": {\"colorbar\": {\"outlinewidth\": 0, \"ticks\": \"\"}}, \"type\": \"scattermapbox\"}], \"scatterpolar\": [{\"marker\": {\"colorbar\": {\"outlinewidth\": 0, \"ticks\": \"\"}}, \"type\": \"scatterpolar\"}], \"scatterpolargl\": [{\"marker\": {\"colorbar\": {\"outlinewidth\": 0, \"ticks\": \"\"}}, \"type\": \"scatterpolargl\"}], \"scatterternary\": [{\"marker\": {\"colorbar\": {\"outlinewidth\": 0, \"ticks\": \"\"}}, \"type\": \"scatterternary\"}], \"surface\": [{\"colorbar\": {\"outlinewidth\": 0, \"ticks\": \"\"}, \"colorscale\": [[0.0, \"#0d0887\"], [0.1111111111111111, \"#46039f\"], [0.2222222222222222, \"#7201a8\"], [0.3333333333333333, \"#9c179e\"], [0.4444444444444444, \"#bd3786\"], [0.5555555555555556, \"#d8576b\"], [0.6666666666666666, \"#ed7953\"], [0.7777777777777778, \"#fb9f3a\"], [0.8888888888888888, \"#fdca26\"], [1.0, \"#f0f921\"]], \"type\": \"surface\"}], \"table\": [{\"cells\": {\"fill\": {\"color\": \"#EBF0F8\"}, \"line\": {\"color\": \"white\"}}, \"header\": {\"fill\": {\"color\": \"#C8D4E3\"}, \"line\": {\"color\": \"white\"}}, \"type\": \"table\"}]}, \"layout\": {\"annotationdefaults\": {\"arrowcolor\": \"#2a3f5f\", \"arrowhead\": 0, \"arrowwidth\": 1}, \"autotypenumbers\": \"strict\", \"coloraxis\": {\"colorbar\": {\"outlinewidth\": 0, \"ticks\": \"\"}}, \"colorscale\": {\"diverging\": [[0, \"#8e0152\"], [0.1, \"#c51b7d\"], [0.2, \"#de77ae\"], [0.3, \"#f1b6da\"], [0.4, \"#fde0ef\"], [0.5, \"#f7f7f7\"], [0.6, \"#e6f5d0\"], [0.7, \"#b8e186\"], [0.8, \"#7fbc41\"], [0.9, \"#4d9221\"], [1, \"#276419\"]], \"sequential\": [[0.0, \"#0d0887\"], [0.1111111111111111, \"#46039f\"], [0.2222222222222222, \"#7201a8\"], [0.3333333333333333, \"#9c179e\"], [0.4444444444444444, \"#bd3786\"], [0.5555555555555556, \"#d8576b\"], [0.6666666666666666, \"#ed7953\"], [0.7777777777777778, \"#fb9f3a\"], [0.8888888888888888, \"#fdca26\"], [1.0, \"#f0f921\"]], \"sequentialminus\": [[0.0, \"#0d0887\"], [0.1111111111111111, \"#46039f\"], [0.2222222222222222, \"#7201a8\"], [0.3333333333333333, \"#9c179e\"], [0.4444444444444444, \"#bd3786\"], [0.5555555555555556, \"#d8576b\"], [0.6666666666666666, \"#ed7953\"], [0.7777777777777778, \"#fb9f3a\"], [0.8888888888888888, \"#fdca26\"], [1.0, \"#f0f921\"]]}, \"colorway\": [\"#636efa\", \"#EF553B\", \"#00cc96\", \"#ab63fa\", \"#FFA15A\", \"#19d3f3\", \"#FF6692\", \"#B6E880\", \"#FF97FF\", \"#FECB52\"], \"font\": {\"color\": \"#2a3f5f\"}, \"geo\": {\"bgcolor\": \"white\", \"lakecolor\": \"white\", \"landcolor\": \"white\", \"showlakes\": true, \"showland\": true, \"subunitcolor\": \"#C8D4E3\"}, \"hoverlabel\": {\"align\": \"left\"}, \"hovermode\": \"closest\", \"mapbox\": {\"style\": \"light\"}, \"paper_bgcolor\": \"white\", \"plot_bgcolor\": \"white\", \"polar\": {\"angularaxis\": {\"gridcolor\": \"#EBF0F8\", \"linecolor\": \"#EBF0F8\", \"ticks\": \"\"}, \"bgcolor\": \"white\", \"radialaxis\": {\"gridcolor\": \"#EBF0F8\", \"linecolor\": \"#EBF0F8\", \"ticks\": \"\"}}, \"scene\": {\"xaxis\": {\"backgroundcolor\": \"white\", \"gridcolor\": \"#DFE8F3\", \"gridwidth\": 2, \"linecolor\": \"#EBF0F8\", \"showbackground\": true, \"ticks\": \"\", \"zerolinecolor\": \"#EBF0F8\"}, \"yaxis\": {\"backgroundcolor\": \"white\", \"gridcolor\": \"#DFE8F3\", \"gridwidth\": 2, \"linecolor\": \"#EBF0F8\", \"showbackground\": true, \"ticks\": \"\", \"zerolinecolor\": \"#EBF0F8\"}, \"zaxis\": {\"backgroundcolor\": \"white\", \"gridcolor\": \"#DFE8F3\", \"gridwidth\": 2, \"linecolor\": \"#EBF0F8\", \"showbackground\": true, \"ticks\": \"\", \"zerolinecolor\": \"#EBF0F8\"}}, \"shapedefaults\": {\"line\": {\"color\": \"#2a3f5f\"}}, \"ternary\": {\"aaxis\": {\"gridcolor\": \"#DFE8F3\", \"linecolor\": \"#A2B1C6\", \"ticks\": \"\"}, \"baxis\": {\"gridcolor\": \"#DFE8F3\", \"linecolor\": \"#A2B1C6\", \"ticks\": \"\"}, \"bgcolor\": \"white\", \"caxis\": {\"gridcolor\": \"#DFE8F3\", \"linecolor\": \"#A2B1C6\", \"ticks\": \"\"}}, \"title\": {\"x\": 0.05}, \"xaxis\": {\"automargin\": true, \"gridcolor\": \"#EBF0F8\", \"linecolor\": \"#EBF0F8\", \"ticks\": \"\", \"title\": {\"standoff\": 15}, \"zerolinecolor\": \"#EBF0F8\", \"zerolinewidth\": 2}, \"yaxis\": {\"automargin\": true, \"gridcolor\": \"#EBF0F8\", \"linecolor\": \"#EBF0F8\", \"ticks\": \"\", \"title\": {\"standoff\": 15}, \"zerolinecolor\": \"#EBF0F8\", \"zerolinewidth\": 2}}}, \"xaxis\": {\"anchor\": \"y\", \"domain\": [0.0, 0.94], \"title\": {\"text\": \"Porcentaje de la CDF utilizada del t\\u00f3pico\"}}, \"yaxis\": {\"anchor\": \"x\", \"domain\": [0.0, 1.0], \"title\": {\"text\": \"Speedup\"}, \"type\": \"log\"}, \"yaxis2\": {\"anchor\": \"x\", \"overlaying\": \"y\", \"range\": [0, 110], \"side\": \"right\", \"title\": {\"text\": \"Arcos correctos (%)\"}}},                        {\"responsive\": true}                    ).then(function(){\n",
       "                            \n",
       "var gd = document.getElementById('544f54e6-b5d0-472a-8b7f-bb9957a2ec1d');\n",
       "var x = new MutationObserver(function (mutations, observer) {{\n",
       "        var display = window.getComputedStyle(gd).display;\n",
       "        if (!display || display === 'none') {{\n",
       "            console.log([gd, 'removed!']);\n",
       "            Plotly.purge(gd);\n",
       "            observer.disconnect();\n",
       "        }}\n",
       "}});\n",
       "\n",
       "// Listen for the removal of the full notebook cells\n",
       "var notebookContainer = gd.closest('#notebook-container');\n",
       "if (notebookContainer) {{\n",
       "    x.observe(notebookContainer, {childList: true});\n",
       "}}\n",
       "\n",
       "// Listen for the clearing of the current output cell\n",
       "var outputEl = gd.closest('.output');\n",
       "if (outputEl) {{\n",
       "    x.observe(outputEl, {childList: true});\n",
       "}}\n",
       "\n",
       "                        })                };                });            </script>        </div>"
      ]
     },
     "metadata": {},
     "output_type": "display_data"
    }
   ],
   "source": [
    "fig = make_subplots(specs=[[{\"secondary_y\": True}]])\n",
    "fig.update_layout(template=\"plotly_white\")\n",
    "\n",
    "# speedup\n",
    "fig.add_trace(\n",
    "    go.Scatter(x = df[\"q\"], y = df[\"speedup\"], name = r\"speedup\",\n",
    "               line = dict(color = \"#636EFA\", width = 2), \n",
    "               marker_symbol = \"circle\", marker_size = 6),\n",
    "    secondary_y = False\n",
    ")\n",
    "\n",
    "# error\n",
    "\n",
    "fig.add_trace(\n",
    "    go.Scatter(x = df[\"q\"], y = 100*(1-df[\"0.6\"]), name = r'$\\zeta = 0.6$',\n",
    "               line = dict(color = \"#EF553B\", width = 2),\n",
    "               marker_symbol = \"triangle-up\", marker_size = 6),\n",
    "    secondary_y = True\n",
    ")\n",
    "\n",
    "fig.add_trace(\n",
    "    go.Scatter(x = df[\"q\"], y = 100*(1-df[\"0.8\"]), name = r'$\\zeta = 0.8$',\n",
    "               line = dict(color = '#00CC96', width = 2),\n",
    "               marker_symbol = \"triangle-down\", marker_size = 6),\n",
    "    secondary_y = True\n",
    ")\n",
    "\n",
    "fig.add_trace(\n",
    "    go.Scatter(x = df[\"q\"], y = 100*(1-df[\"0.9\"]), name = r'$\\zeta = 0.9$',\n",
    "              line = dict(color = '#AB63FA', width = 2),\n",
    "              marker_symbol = \"asterisk-open\", marker_size = 6),\n",
    "    secondary_y = True\n",
    ")\n",
    "\n",
    "fig.add_trace(\n",
    "    go.Scatter(x = df[\"q\"], y = 100*(1-df[\"0.95\"]), name = r'$\\zeta = 0.95$',\n",
    "               line = dict(color = '#FFA15A', width = 2),\n",
    "               marker_symbol = \"x\", marker_size = 6),\n",
    "    secondary_y = True\n",
    ")\n",
    "\n",
    "fig.add_trace(\n",
    "    go.Scatter(x = df[\"q\"], y = 100*(1-df[\"0.99\"]), name = r'$\\zeta = 0.99$',\n",
    "               line = dict(color = '#FECB52', width = 2),\n",
    "               marker_symbol = \"cross\", marker_size = 6),\n",
    "    secondary_y = True\n",
    ")\n",
    "\n",
    "fig.update_xaxes(title_text=\"Porcentaje de la CDF utilizada del tópico\")\n",
    "fig.update_yaxes(type = \"log\", secondary_y = False) \n",
    "fig.update_yaxes(range = (0, 110), secondary_y = True)\n",
    "fig.update_yaxes(title_text = \"Speedup\", secondary_y = False)\n",
    "fig.update_yaxes(title_text = \"Arcos correctos (%)\", secondary_y = True)\n",
    "fig.update_layout(legend = dict(yanchor=\"bottom\", y=0.0, \n",
    "                                xanchor=\"left\",x=0.05, \n",
    "                                bordercolor=\"Black\", borderwidth=0.5))\n",
    "fig.show() "
   ]
  },
  {
   "cell_type": "code",
   "execution_count": 105,
   "id": "1a3dd154",
   "metadata": {},
   "outputs": [],
   "source": [
    "fig.write_image(\"../../tesis/img/ch4/speedup.eps\")"
   ]
  }
 ],
 "metadata": {
  "kernelspec": {
   "display_name": "Python 3",
   "language": "python",
   "name": "python3"
  },
  "language_info": {
   "codemirror_mode": {
    "name": "ipython",
    "version": 3
   },
   "file_extension": ".py",
   "mimetype": "text/x-python",
   "name": "python",
   "nbconvert_exporter": "python",
   "pygments_lexer": "ipython3",
   "version": "3.8.10"
  }
 },
 "nbformat": 4,
 "nbformat_minor": 5
}
