{
 "cells": [
  {
   "cell_type": "code",
   "execution_count": 3,
   "metadata": {},
   "outputs": [],
   "source": [
    "import json\n",
    "import numpy as np\n",
    "import pandas as pd\n",
    "import matplotlib.pyplot as plt\n",
    "import seaborn as sns"
   ]
  },
  {
   "cell_type": "code",
   "execution_count": 4,
   "metadata": {},
   "outputs": [],
   "source": [
    "# load args\n",
    "with open(\"../args.json\", \"r\") as f:\n",
    "    args = json.load(f)"
   ]
  },
  {
   "cell_type": "code",
   "execution_count": 5,
   "metadata": {},
   "outputs": [],
   "source": [
    "# load similarity graph\n",
    "path_graph = f'{args[\"results\"]}graph/graph_{args[\"slice_type\"]}.json'\n",
    "with open(path_graph, \"r\") as f:\n",
    "    graph = json.load(f)"
   ]
  },
  {
   "cell_type": "code",
   "execution_count": 90,
   "metadata": {},
   "outputs": [],
   "source": [
    "def get_distances_from_graph(graph):\n",
    "    distances = []\n",
    "    slices = list(graph.keys())\n",
    "    for slice in slices:\n",
    "        I = list(graph[slice].keys())\n",
    "        for i in I:\n",
    "            topic_distances = graph[slice][i].values()\n",
    "            for dist in topic_distances:\n",
    "                distances.append(dist)\n",
    "    distances = distances\n",
    "    return distances"
   ]
  },
  {
   "cell_type": "code",
   "execution_count": 89,
   "metadata": {},
   "outputs": [],
   "source": [
    "def cum_dist(array):\n",
    "    serie = pd.Series(array)\n",
    "    cum_dist = []\n",
    "    cum = 0\n",
    "    sorted_serie = serie.sort_values(ascending=True)\n",
    "    for elem in sorted_serie:\n",
    "        cum+=elem\n",
    "        cum_dist.append(cum)\n",
    "    cum_dist = pd.Series([elem/cum_dist[-1] for elem in cum_dist])\n",
    "    return cum_dist"
   ]
  },
  {
   "cell_type": "code",
   "execution_count": 92,
   "metadata": {},
   "outputs": [],
   "source": [
    "distances = get_distances_from_graph(graph)\n",
    "sorted_distances = pd.Series(distances).sort_values(ascending=True)\n",
    "cum_dist = cum_dist(distances)"
   ]
  },
  {
   "cell_type": "code",
   "execution_count": 93,
   "metadata": {},
   "outputs": [
    {
     "data": {
      "text/plain": [
       "[<matplotlib.lines.Line2D at 0x7f322a196250>]"
      ]
     },
     "execution_count": 93,
     "metadata": {},
     "output_type": "execute_result"
    },
    {
     "data": {
      "image/png": "[encoded data removed]",
      "text/plain": [
       "<Figure size 432x288 with 1 Axes>"
      ]
     },
     "metadata": {
      "needs_background": "light"
     },
     "output_type": "display_data"
    }
   ],
   "source": [
    "plt.plot(sorted_distances, cum_dist)"
   ]
  },
  {
   "cell_type": "code",
   "execution_count": 11,
   "metadata": {},
   "outputs": [
    {
     "data": {
      "text/plain": [
       "count    1719.000000\n",
       "mean        0.175590\n",
       "std         0.055493\n",
       "min         0.131223\n",
       "25%         0.151192\n",
       "50%         0.158587\n",
       "75%         0.181265\n",
       "max         0.557220\n",
       "dtype: float64"
      ]
     },
     "execution_count": 11,
     "metadata": {},
     "output_type": "execute_result"
    }
   ],
   "source": [
    "distances.describe()"
   ]
  },
  {
   "cell_type": "code",
   "execution_count": 13,
   "metadata": {},
   "outputs": [
    {
     "data": {
      "text/plain": [
       "0.05    0.143318\n",
       "0.10    0.146127\n",
       "0.20    0.149623\n",
       "0.30    0.152383\n",
       "0.40    0.154845\n",
       "0.50    0.158587\n",
       "0.60    0.165697\n",
       "0.70    0.174885\n",
       "0.80    0.187775\n",
       "0.90    0.206157\n",
       "0.95    0.241383\n",
       "0.99    0.490850\n",
       "dtype: float64"
      ]
     },
     "execution_count": 13,
     "metadata": {},
     "output_type": "execute_result"
    }
   ],
   "source": [
    "distances.quantile(q=[0.05, 0.1, 0.2, 0.3, 0.4, 0.5, 0.6, 0.7, 0.8, 0.9, 0.95, 0.99])"
   ]
  },
  {
   "cell_type": "code",
   "execution_count": 156,
   "metadata": {},
   "outputs": [],
   "source": [
    "def get_network_data(graph):\n",
    "    \n",
    "    # nodes\n",
    "    slices = list(graph.keys())\n",
    "    nodes = []\n",
    "    for slice in slices:\n",
    "        I = list(graph[slice].keys())\n",
    "        for i in I:\n",
    "            nodes.append([int(slice), int(i)])\n",
    "    J = list(graph[slice][i].keys())\n",
    "    for j in J:\n",
    "        nodes.append([int(slice)+1, int(j)])\n",
    "    nodes = np.array(nodes)\n",
    "    \n",
    "    # edges\n",
    "    edges = []\n",
    "    slices = list(graph.keys())\n",
    "    for slice in slices:\n",
    "        I = list(graph[slice].keys())\n",
    "        for i in I:\n",
    "            J = list(graph[slice][i].keys())\n",
    "            for j in J:\n",
    "                x  = [int(slice), int(slice)+1, None]\n",
    "                y  = [int(i), int(j), None]\n",
    "                similarity = graph[slice][i][j]\n",
    "                edges.append((x, y, similarity))         \n",
    "      \n",
    "    return nodes, edges  "
   ]
  },
  {
   "cell_type": "code",
   "execution_count": 177,
   "metadata": {},
   "outputs": [],
   "source": [
    "def make_edge(x, y, text, width):\n",
    "    return  go.Scatter(x         = x,\n",
    "                       y         = y,\n",
    "                       line      = dict(width = width,\n",
    "                                   color = 'cornflowerblue'),\n",
    "                       hoverinfo = 'text',\n",
    "                       text      = text,\n",
    "                       mode      = 'lines')\n",
    "def plot_network(nodes, edges, threshold):\n",
    "    \"\"\"\n",
    "    \"\"\"\n",
    "    # create node trace\n",
    "    node_trace = go.Scatter(x = nodes[:,0], y = nodes[:,1],\n",
    "                        mode = 'markers',\n",
    "                        hoverinfo = 'text',\n",
    "                        marker = dict(\n",
    "                            showscale = True,\n",
    "                            colorscale = 'YlGnBu',\n",
    "                            reversescale = True,\n",
    "                            color = [],\n",
    "                            size = 10,\n",
    "                            colorbar = dict(\n",
    "                                thickness = 15,\n",
    "                                title = 'Node Connections',\n",
    "                                xanchor = 'left',\n",
    "                                titleside = 'right'\n",
    "                            ),\n",
    "                        line_width = 2))\n",
    "    # create edge traces\n",
    "    edge_trace = []\n",
    "    for edge in edges:\n",
    "        x = edge[0]\n",
    "        y = edge[1]\n",
    "        similarity = edge[2]\n",
    "        if similarity >= threshold:\n",
    "            trace = make_edge(x, y, text, width = similarity) #f\"{round(similarity,3)}\"\n",
    "            edge_trace.append(trace)\n",
    "        \n",
    "    # layout\n",
    "    layout = go.Layout(\n",
    "    paper_bgcolor='rgba(0,0,0,0)', \n",
    "    plot_bgcolor='rgba(0,0,0,0)', \n",
    "    xaxis =  {'showgrid': False, 'zeroline': False}, \n",
    "    yaxis = {'showgrid': False, 'zeroline': False},\n",
    "    )\n",
    "    # create figure\n",
    "    fig = go.Figure(layout = layout)\n",
    "    # add all edge traces\n",
    "    for trace in edge_trace:\n",
    "        fig.add_trace(trace)\n",
    "    # add node trace\n",
    "    fig.add_trace(node_trace)\n",
    "    # remove legend\n",
    "    fig.update_layout(showlegend = False)\n",
    "    # tick labels\n",
    "    fig.update_xaxes(showgrid=False, zeroline=False, showticklabels=True, tickvals=list(range(1,nodes.max()+1,1)))\n",
    "    fig.update_yaxes(showticklabels = False)\n",
    "    # show figure\n",
    "    fig.show()\n"
   ]
  },
  {
   "cell_type": "code",
   "execution_count": 164,
   "metadata": {},
   "outputs": [],
   "source": [
    "nodes, edges = get_network_data(graph)"
   ]
  },
  {
   "cell_type": "code",
   "execution_count": 183,
   "metadata": {},
   "outputs": [
    {
     "data": {
      "application/vnd.plotly.v1+json": {
       "config": {
        "plotlyServerURL": "https://plot.ly"
       },
       "data": [
        {
         "hoverinfo": "text",
         "line": {
          "color": "cornflowerblue",
          "width": 0.5380246969314779
         },
         "mode": "lines",
         "text": "0.538",
         "type": "scatter",
         "x": [
          1,
          2,
          null
         ],
         "y": [
          0,
          0,
          null
         ]
        },
        {
         "hoverinfo": "text",
         "line": {
          "color": "cornflowerblue",
          "width": 0.20795846387895256
         },
         "mode": "lines",
         "text": "0.208",
         "type": "scatter",
         "x": [
          1,
          2,
          null
         ],
         "y": [
          0,
          1,
          null
         ]
        },
        {
         "hoverinfo": "text",
         "line": {
          "color": "cornflowerblue",
          "width": 0.1720914307621931
         },
         "mode": "lines",
         "text": "0.172",
         "type": "scatter",
         "x": [
          1,
          2,
          null
         ],
         "y": [
          0,
          2,
          null
         ]
        },
        {
         "hoverinfo": "text",
         "line": {
          "color": "cornflowerblue",
          "width": 0.2063685611129622
         },
         "mode": "lines",
         "text": "0.206",
         "type": "scatter",
         "x": [
          1,
          2,
          null
         ],
         "y": [
          0,
          3,
          null
         ]
        },
        {
         "hoverinfo": "text",
         "line": {
          "color": "cornflowerblue",
          "width": 0.1747712484729893
         },
         "mode": "lines",
         "text": "0.175",
         "type": "scatter",
         "x": [
          1,
          2,
          null
         ],
         "y": [
          0,
          4,
          null
         ]
        },
        {
         "hoverinfo": "text",
         "line": {
          "color": "cornflowerblue",
          "width": 0.1668517506822075
         },
         "mode": "lines",
         "text": "0.167",
         "type": "scatter",
         "x": [
          1,
          2,
          null
         ],
         "y": [
          0,
          5,
          null
         ]
        },
        {
         "hoverinfo": "text",
         "line": {
          "color": "cornflowerblue",
          "width": 0.14866162449962972
         },
         "mode": "lines",
         "text": "0.149",
         "type": "scatter",
         "x": [
          1,
          2,
          null
         ],
         "y": [
          0,
          6,
          null
         ]
        },
        {
         "hoverinfo": "text",
         "line": {
          "color": "cornflowerblue",
          "width": 0.14750999476369495
         },
         "mode": "lines",
         "text": "0.148",
         "type": "scatter",
         "x": [
          1,
          2,
          null
         ],
         "y": [
          0,
          7,
          null
         ]
        },
        {
         "hoverinfo": "text",
         "line": {
          "color": "cornflowerblue",
          "width": 0.15728821857926026
         },
         "mode": "lines",
         "text": "0.157",
         "type": "scatter",
         "x": [
          1,
          2,
          null
         ],
         "y": [
          0,
          8,
          null
         ]
        },
        {
         "hoverinfo": "text",
         "line": {
          "color": "cornflowerblue",
          "width": 0.19165658710138514
         },
         "mode": "lines",
         "text": "0.192",
         "type": "scatter",
         "x": [
          1,
          2,
          null
         ],
         "y": [
          1,
          0,
          null
         ]
        },
        {
         "hoverinfo": "text",
         "line": {
          "color": "cornflowerblue",
          "width": 0.2712360343808593
         },
         "mode": "lines",
         "text": "0.271",
         "type": "scatter",
         "x": [
          1,
          2,
          null
         ],
         "y": [
          1,
          1,
          null
         ]
        },
        {
         "hoverinfo": "text",
         "line": {
          "color": "cornflowerblue",
          "width": 0.16645293146821497
         },
         "mode": "lines",
         "text": "0.166",
         "type": "scatter",
         "x": [
          1,
          2,
          null
         ],
         "y": [
          1,
          2,
          null
         ]
        },
        {
         "hoverinfo": "text",
         "line": {
          "color": "cornflowerblue",
          "width": 0.19264180382746457
         },
         "mode": "lines",
         "text": "0.193",
         "type": "scatter",
         "x": [
          1,
          2,
          null
         ],
         "y": [
          1,
          3,
          null
         ]
        },
        {
         "hoverinfo": "text",
         "line": {
          "color": "cornflowerblue",
          "width": 0.1776228439470775
         },
         "mode": "lines",
         "text": "0.178",
         "type": "scatter",
         "x": [
          1,
          2,
          null
         ],
         "y": [
          1,
          4,
          null
         ]
        },
        {
         "hoverinfo": "text",
         "line": {
          "color": "cornflowerblue",
          "width": 0.16864966066092435
         },
         "mode": "lines",
         "text": "0.169",
         "type": "scatter",
         "x": [
          1,
          2,
          null
         ],
         "y": [
          1,
          5,
          null
         ]
        },
        {
         "hoverinfo": "text",
         "line": {
          "color": "cornflowerblue",
          "width": 0.1537348162603501
         },
         "mode": "lines",
         "text": "0.154",
         "type": "scatter",
         "x": [
          1,
          2,
          null
         ],
         "y": [
          1,
          7,
          null
         ]
        },
        {
         "hoverinfo": "text",
         "line": {
          "color": "cornflowerblue",
          "width": 0.15485075470749435
         },
         "mode": "lines",
         "text": "0.155",
         "type": "scatter",
         "x": [
          1,
          2,
          null
         ],
         "y": [
          1,
          8,
          null
         ]
        },
        {
         "hoverinfo": "text",
         "line": {
          "color": "cornflowerblue",
          "width": 0.19673304442763692
         },
         "mode": "lines",
         "text": "0.197",
         "type": "scatter",
         "x": [
          1,
          2,
          null
         ],
         "y": [
          2,
          0,
          null
         ]
        },
        {
         "hoverinfo": "text",
         "line": {
          "color": "cornflowerblue",
          "width": 0.25869939513117163
         },
         "mode": "lines",
         "text": "0.259",
         "type": "scatter",
         "x": [
          1,
          2,
          null
         ],
         "y": [
          2,
          1,
          null
         ]
        },
        {
         "hoverinfo": "text",
         "line": {
          "color": "cornflowerblue",
          "width": 0.1695263813628677
         },
         "mode": "lines",
         "text": "0.17",
         "type": "scatter",
         "x": [
          1,
          2,
          null
         ],
         "y": [
          2,
          2,
          null
         ]
        },
        {
         "hoverinfo": "text",
         "line": {
          "color": "cornflowerblue",
          "width": 0.22533317581299755
         },
         "mode": "lines",
         "text": "0.225",
         "type": "scatter",
         "x": [
          1,
          2,
          null
         ],
         "y": [
          2,
          3,
          null
         ]
        },
        {
         "hoverinfo": "text",
         "line": {
          "color": "cornflowerblue",
          "width": 0.18017254013119266
         },
         "mode": "lines",
         "text": "0.18",
         "type": "scatter",
         "x": [
          1,
          2,
          null
         ],
         "y": [
          2,
          4,
          null
         ]
        },
        {
         "hoverinfo": "text",
         "line": {
          "color": "cornflowerblue",
          "width": 0.17482699517247088
         },
         "mode": "lines",
         "text": "0.175",
         "type": "scatter",
         "x": [
          1,
          2,
          null
         ],
         "y": [
          2,
          5,
          null
         ]
        },
        {
         "hoverinfo": "text",
         "line": {
          "color": "cornflowerblue",
          "width": 0.14714797463843207
         },
         "mode": "lines",
         "text": "0.147",
         "type": "scatter",
         "x": [
          1,
          2,
          null
         ],
         "y": [
          2,
          6,
          null
         ]
        },
        {
         "hoverinfo": "text",
         "line": {
          "color": "cornflowerblue",
          "width": 0.14741711462977589
         },
         "mode": "lines",
         "text": "0.147",
         "type": "scatter",
         "x": [
          1,
          2,
          null
         ],
         "y": [
          2,
          7,
          null
         ]
        },
        {
         "hoverinfo": "text",
         "line": {
          "color": "cornflowerblue",
          "width": 0.1557814028514334
         },
         "mode": "lines",
         "text": "0.156",
         "type": "scatter",
         "x": [
          1,
          2,
          null
         ],
         "y": [
          2,
          8,
          null
         ]
        },
        {
         "hoverinfo": "text",
         "line": {
          "color": "cornflowerblue",
          "width": 0.1636076720630311
         },
         "mode": "lines",
         "text": "0.164",
         "type": "scatter",
         "x": [
          1,
          2,
          null
         ],
         "y": [
          3,
          0,
          null
         ]
        },
        {
         "hoverinfo": "text",
         "line": {
          "color": "cornflowerblue",
          "width": 0.16822474587600242
         },
         "mode": "lines",
         "text": "0.168",
         "type": "scatter",
         "x": [
          1,
          2,
          null
         ],
         "y": [
          3,
          1,
          null
         ]
        },
        {
         "hoverinfo": "text",
         "line": {
          "color": "cornflowerblue",
          "width": 0.16355271555343084
         },
         "mode": "lines",
         "text": "0.164",
         "type": "scatter",
         "x": [
          1,
          2,
          null
         ],
         "y": [
          3,
          2,
          null
         ]
        },
        {
         "hoverinfo": "text",
         "line": {
          "color": "cornflowerblue",
          "width": 0.16589530988369444
         },
         "mode": "lines",
         "text": "0.166",
         "type": "scatter",
         "x": [
          1,
          2,
          null
         ],
         "y": [
          3,
          3,
          null
         ]
        },
        {
         "hoverinfo": "text",
         "line": {
          "color": "cornflowerblue",
          "width": 0.16063873378668836
         },
         "mode": "lines",
         "text": "0.161",
         "type": "scatter",
         "x": [
          1,
          2,
          null
         ],
         "y": [
          3,
          4,
          null
         ]
        },
        {
         "hoverinfo": "text",
         "line": {
          "color": "cornflowerblue",
          "width": 0.1666437051906551
         },
         "mode": "lines",
         "text": "0.167",
         "type": "scatter",
         "x": [
          1,
          2,
          null
         ],
         "y": [
          3,
          5,
          null
         ]
        },
        {
         "hoverinfo": "text",
         "line": {
          "color": "cornflowerblue",
          "width": 0.1471920511124598
         },
         "mode": "lines",
         "text": "0.147",
         "type": "scatter",
         "x": [
          1,
          2,
          null
         ],
         "y": [
          3,
          7,
          null
         ]
        },
        {
         "hoverinfo": "text",
         "line": {
          "color": "cornflowerblue",
          "width": 0.15670893557126628
         },
         "mode": "lines",
         "text": "0.157",
         "type": "scatter",
         "x": [
          1,
          2,
          null
         ],
         "y": [
          3,
          8,
          null
         ]
        },
        {
         "hoverinfo": "text",
         "line": {
          "color": "cornflowerblue",
          "width": 0.18888113211482344
         },
         "mode": "lines",
         "text": "0.189",
         "type": "scatter",
         "x": [
          1,
          2,
          null
         ],
         "y": [
          4,
          0,
          null
         ]
        },
        {
         "hoverinfo": "text",
         "line": {
          "color": "cornflowerblue",
          "width": 0.1918318539146619
         },
         "mode": "lines",
         "text": "0.192",
         "type": "scatter",
         "x": [
          1,
          2,
          null
         ],
         "y": [
          4,
          1,
          null
         ]
        },
        {
         "hoverinfo": "text",
         "line": {
          "color": "cornflowerblue",
          "width": 0.18355206006596833
         },
         "mode": "lines",
         "text": "0.184",
         "type": "scatter",
         "x": [
          1,
          2,
          null
         ],
         "y": [
          4,
          2,
          null
         ]
        },
        {
         "hoverinfo": "text",
         "line": {
          "color": "cornflowerblue",
          "width": 0.2491694839131626
         },
         "mode": "lines",
         "text": "0.249",
         "type": "scatter",
         "x": [
          1,
          2,
          null
         ],
         "y": [
          4,
          3,
          null
         ]
        },
        {
         "hoverinfo": "text",
         "line": {
          "color": "cornflowerblue",
          "width": 0.17913569686301872
         },
         "mode": "lines",
         "text": "0.179",
         "type": "scatter",
         "x": [
          1,
          2,
          null
         ],
         "y": [
          4,
          4,
          null
         ]
        },
        {
         "hoverinfo": "text",
         "line": {
          "color": "cornflowerblue",
          "width": 0.17288480884958957
         },
         "mode": "lines",
         "text": "0.173",
         "type": "scatter",
         "x": [
          1,
          2,
          null
         ],
         "y": [
          4,
          5,
          null
         ]
        },
        {
         "hoverinfo": "text",
         "line": {
          "color": "cornflowerblue",
          "width": 0.1471028673726208
         },
         "mode": "lines",
         "text": "0.147",
         "type": "scatter",
         "x": [
          1,
          2,
          null
         ],
         "y": [
          4,
          6,
          null
         ]
        },
        {
         "hoverinfo": "text",
         "line": {
          "color": "cornflowerblue",
          "width": 0.14883164286781303
         },
         "mode": "lines",
         "text": "0.149",
         "type": "scatter",
         "x": [
          1,
          2,
          null
         ],
         "y": [
          4,
          7,
          null
         ]
        },
        {
         "hoverinfo": "text",
         "line": {
          "color": "cornflowerblue",
          "width": 0.15665532701050983
         },
         "mode": "lines",
         "text": "0.157",
         "type": "scatter",
         "x": [
          1,
          2,
          null
         ],
         "y": [
          4,
          8,
          null
         ]
        },
        {
         "hoverinfo": "text",
         "line": {
          "color": "cornflowerblue",
          "width": 0.15891135445451296
         },
         "mode": "lines",
         "text": "0.159",
         "type": "scatter",
         "x": [
          1,
          2,
          null
         ],
         "y": [
          5,
          0,
          null
         ]
        },
        {
         "hoverinfo": "text",
         "line": {
          "color": "cornflowerblue",
          "width": 0.1638308924826703
         },
         "mode": "lines",
         "text": "0.164",
         "type": "scatter",
         "x": [
          1,
          2,
          null
         ],
         "y": [
          5,
          1,
          null
         ]
        },
        {
         "hoverinfo": "text",
         "line": {
          "color": "cornflowerblue",
          "width": 0.15737940255024624
         },
         "mode": "lines",
         "text": "0.157",
         "type": "scatter",
         "x": [
          1,
          2,
          null
         ],
         "y": [
          5,
          2,
          null
         ]
        },
        {
         "hoverinfo": "text",
         "line": {
          "color": "cornflowerblue",
          "width": 0.16322117756177154
         },
         "mode": "lines",
         "text": "0.163",
         "type": "scatter",
         "x": [
          1,
          2,
          null
         ],
         "y": [
          5,
          3,
          null
         ]
        },
        {
         "hoverinfo": "text",
         "line": {
          "color": "cornflowerblue",
          "width": 0.15970796467811788
         },
         "mode": "lines",
         "text": "0.16",
         "type": "scatter",
         "x": [
          1,
          2,
          null
         ],
         "y": [
          5,
          4,
          null
         ]
        },
        {
         "hoverinfo": "text",
         "line": {
          "color": "cornflowerblue",
          "width": 0.15814453825063451
         },
         "mode": "lines",
         "text": "0.158",
         "type": "scatter",
         "x": [
          1,
          2,
          null
         ],
         "y": [
          5,
          5,
          null
         ]
        },
        {
         "hoverinfo": "text",
         "line": {
          "color": "cornflowerblue",
          "width": 0.14703658926653718
         },
         "mode": "lines",
         "text": "0.147",
         "type": "scatter",
         "x": [
          1,
          2,
          null
         ],
         "y": [
          5,
          6,
          null
         ]
        },
        {
         "hoverinfo": "text",
         "line": {
          "color": "cornflowerblue",
          "width": 0.14824066896917076
         },
         "mode": "lines",
         "text": "0.148",
         "type": "scatter",
         "x": [
          1,
          2,
          null
         ],
         "y": [
          5,
          7,
          null
         ]
        },
        {
         "hoverinfo": "text",
         "line": {
          "color": "cornflowerblue",
          "width": 0.15153943421015664
         },
         "mode": "lines",
         "text": "0.152",
         "type": "scatter",
         "x": [
          1,
          2,
          null
         ],
         "y": [
          5,
          8,
          null
         ]
        },
        {
         "hoverinfo": "text",
         "line": {
          "color": "cornflowerblue",
          "width": 0.1553814071252303
         },
         "mode": "lines",
         "text": "0.155",
         "type": "scatter",
         "x": [
          1,
          2,
          null
         ],
         "y": [
          6,
          0,
          null
         ]
        },
        {
         "hoverinfo": "text",
         "line": {
          "color": "cornflowerblue",
          "width": 0.15769174582463213
         },
         "mode": "lines",
         "text": "0.158",
         "type": "scatter",
         "x": [
          1,
          2,
          null
         ],
         "y": [
          6,
          1,
          null
         ]
        },
        {
         "hoverinfo": "text",
         "line": {
          "color": "cornflowerblue",
          "width": 0.15760647666611433
         },
         "mode": "lines",
         "text": "0.158",
         "type": "scatter",
         "x": [
          1,
          2,
          null
         ],
         "y": [
          6,
          2,
          null
         ]
        },
        {
         "hoverinfo": "text",
         "line": {
          "color": "cornflowerblue",
          "width": 0.15835925712094073
         },
         "mode": "lines",
         "text": "0.158",
         "type": "scatter",
         "x": [
          1,
          2,
          null
         ],
         "y": [
          6,
          3,
          null
         ]
        },
        {
         "hoverinfo": "text",
         "line": {
          "color": "cornflowerblue",
          "width": 0.15358929543740102
         },
         "mode": "lines",
         "text": "0.154",
         "type": "scatter",
         "x": [
          1,
          2,
          null
         ],
         "y": [
          6,
          4,
          null
         ]
        },
        {
         "hoverinfo": "text",
         "line": {
          "color": "cornflowerblue",
          "width": 0.1552205281294143
         },
         "mode": "lines",
         "text": "0.155",
         "type": "scatter",
         "x": [
          1,
          2,
          null
         ],
         "y": [
          6,
          5,
          null
         ]
        },
        {
         "hoverinfo": "text",
         "line": {
          "color": "cornflowerblue",
          "width": 0.14842214012726784
         },
         "mode": "lines",
         "text": "0.148",
         "type": "scatter",
         "x": [
          1,
          2,
          null
         ],
         "y": [
          6,
          7,
          null
         ]
        },
        {
         "hoverinfo": "text",
         "line": {
          "color": "cornflowerblue",
          "width": 0.15383195305417405
         },
         "mode": "lines",
         "text": "0.154",
         "type": "scatter",
         "x": [
          1,
          2,
          null
         ],
         "y": [
          6,
          8,
          null
         ]
        },
        {
         "hoverinfo": "text",
         "line": {
          "color": "cornflowerblue",
          "width": 0.1544920316013285
         },
         "mode": "lines",
         "text": "0.154",
         "type": "scatter",
         "x": [
          1,
          2,
          null
         ],
         "y": [
          7,
          0,
          null
         ]
        },
        {
         "hoverinfo": "text",
         "line": {
          "color": "cornflowerblue",
          "width": 0.1564502729611067
         },
         "mode": "lines",
         "text": "0.156",
         "type": "scatter",
         "x": [
          1,
          2,
          null
         ],
         "y": [
          7,
          1,
          null
         ]
        },
        {
         "hoverinfo": "text",
         "line": {
          "color": "cornflowerblue",
          "width": 0.1568510275479289
         },
         "mode": "lines",
         "text": "0.157",
         "type": "scatter",
         "x": [
          1,
          2,
          null
         ],
         "y": [
          7,
          2,
          null
         ]
        },
        {
         "hoverinfo": "text",
         "line": {
          "color": "cornflowerblue",
          "width": 0.15610231125487764
         },
         "mode": "lines",
         "text": "0.156",
         "type": "scatter",
         "x": [
          1,
          2,
          null
         ],
         "y": [
          7,
          3,
          null
         ]
        },
        {
         "hoverinfo": "text",
         "line": {
          "color": "cornflowerblue",
          "width": 0.15761596763260502
         },
         "mode": "lines",
         "text": "0.158",
         "type": "scatter",
         "x": [
          1,
          2,
          null
         ],
         "y": [
          7,
          4,
          null
         ]
        },
        {
         "hoverinfo": "text",
         "line": {
          "color": "cornflowerblue",
          "width": 0.15736853645784948
         },
         "mode": "lines",
         "text": "0.157",
         "type": "scatter",
         "x": [
          1,
          2,
          null
         ],
         "y": [
          7,
          5,
          null
         ]
        },
        {
         "hoverinfo": "text",
         "line": {
          "color": "cornflowerblue",
          "width": 0.14885858355998713
         },
         "mode": "lines",
         "text": "0.149",
         "type": "scatter",
         "x": [
          1,
          2,
          null
         ],
         "y": [
          7,
          7,
          null
         ]
        },
        {
         "hoverinfo": "text",
         "line": {
          "color": "cornflowerblue",
          "width": 0.15165331942835972
         },
         "mode": "lines",
         "text": "0.152",
         "type": "scatter",
         "x": [
          1,
          2,
          null
         ],
         "y": [
          7,
          8,
          null
         ]
        },
        {
         "hoverinfo": "text",
         "line": {
          "color": "cornflowerblue",
          "width": 0.1914726032138397
         },
         "mode": "lines",
         "text": "0.191",
         "type": "scatter",
         "x": [
          2,
          3,
          null
         ],
         "y": [
          0,
          0,
          null
         ]
        },
        {
         "hoverinfo": "text",
         "line": {
          "color": "cornflowerblue",
          "width": 0.16619614431824145
         },
         "mode": "lines",
         "text": "0.166",
         "type": "scatter",
         "x": [
          2,
          3,
          null
         ],
         "y": [
          0,
          1,
          null
         ]
        },
        {
         "hoverinfo": "text",
         "line": {
          "color": "cornflowerblue",
          "width": 0.2002101459470515
         },
         "mode": "lines",
         "text": "0.2",
         "type": "scatter",
         "x": [
          2,
          3,
          null
         ],
         "y": [
          0,
          2,
          null
         ]
        },
        {
         "hoverinfo": "text",
         "line": {
          "color": "cornflowerblue",
          "width": 0.16914852332724473
         },
         "mode": "lines",
         "text": "0.169",
         "type": "scatter",
         "x": [
          2,
          3,
          null
         ],
         "y": [
          0,
          3,
          null
         ]
        },
        {
         "hoverinfo": "text",
         "line": {
          "color": "cornflowerblue",
          "width": 0.20028297480234047
         },
         "mode": "lines",
         "text": "0.2",
         "type": "scatter",
         "x": [
          2,
          3,
          null
         ],
         "y": [
          0,
          4,
          null
         ]
        },
        {
         "hoverinfo": "text",
         "line": {
          "color": "cornflowerblue",
          "width": 0.5433169460402412
         },
         "mode": "lines",
         "text": "0.543",
         "type": "scatter",
         "x": [
          2,
          3,
          null
         ],
         "y": [
          0,
          5,
          null
         ]
        },
        {
         "hoverinfo": "text",
         "line": {
          "color": "cornflowerblue",
          "width": 0.15414820036783114
         },
         "mode": "lines",
         "text": "0.154",
         "type": "scatter",
         "x": [
          2,
          3,
          null
         ],
         "y": [
          0,
          6,
          null
         ]
        },
        {
         "hoverinfo": "text",
         "line": {
          "color": "cornflowerblue",
          "width": 0.2689298590997119
         },
         "mode": "lines",
         "text": "0.269",
         "type": "scatter",
         "x": [
          2,
          3,
          null
         ],
         "y": [
          1,
          0,
          null
         ]
        },
        {
         "hoverinfo": "text",
         "line": {
          "color": "cornflowerblue",
          "width": 0.16738261463650492
         },
         "mode": "lines",
         "text": "0.167",
         "type": "scatter",
         "x": [
          2,
          3,
          null
         ],
         "y": [
          1,
          1,
          null
         ]
        },
        {
         "hoverinfo": "text",
         "line": {
          "color": "cornflowerblue",
          "width": 0.1943469594510123
         },
         "mode": "lines",
         "text": "0.194",
         "type": "scatter",
         "x": [
          2,
          3,
          null
         ],
         "y": [
          1,
          2,
          null
         ]
        },
        {
         "hoverinfo": "text",
         "line": {
          "color": "cornflowerblue",
          "width": 0.17324077410764233
         },
         "mode": "lines",
         "text": "0.173",
         "type": "scatter",
         "x": [
          2,
          3,
          null
         ],
         "y": [
          1,
          3,
          null
         ]
        },
        {
         "hoverinfo": "text",
         "line": {
          "color": "cornflowerblue",
          "width": 0.26238746984658673
         },
         "mode": "lines",
         "text": "0.262",
         "type": "scatter",
         "x": [
          2,
          3,
          null
         ],
         "y": [
          1,
          4,
          null
         ]
        },
        {
         "hoverinfo": "text",
         "line": {
          "color": "cornflowerblue",
          "width": 0.2064182213959675
         },
         "mode": "lines",
         "text": "0.206",
         "type": "scatter",
         "x": [
          2,
          3,
          null
         ],
         "y": [
          1,
          5,
          null
         ]
        },
        {
         "hoverinfo": "text",
         "line": {
          "color": "cornflowerblue",
          "width": 0.15448616764846484
         },
         "mode": "lines",
         "text": "0.154",
         "type": "scatter",
         "x": [
          2,
          3,
          null
         ],
         "y": [
          1,
          6,
          null
         ]
        },
        {
         "hoverinfo": "text",
         "line": {
          "color": "cornflowerblue",
          "width": 0.165076431090131
         },
         "mode": "lines",
         "text": "0.165",
         "type": "scatter",
         "x": [
          2,
          3,
          null
         ],
         "y": [
          2,
          0,
          null
         ]
        },
        {
         "hoverinfo": "text",
         "line": {
          "color": "cornflowerblue",
          "width": 0.16513298901305384
         },
         "mode": "lines",
         "text": "0.165",
         "type": "scatter",
         "x": [
          2,
          3,
          null
         ],
         "y": [
          2,
          1,
          null
         ]
        },
        {
         "hoverinfo": "text",
         "line": {
          "color": "cornflowerblue",
          "width": 0.18092824745307778
         },
         "mode": "lines",
         "text": "0.181",
         "type": "scatter",
         "x": [
          2,
          3,
          null
         ],
         "y": [
          2,
          2,
          null
         ]
        },
        {
         "hoverinfo": "text",
         "line": {
          "color": "cornflowerblue",
          "width": 0.2014635800094332
         },
         "mode": "lines",
         "text": "0.201",
         "type": "scatter",
         "x": [
          2,
          3,
          null
         ],
         "y": [
          2,
          3,
          null
         ]
        },
        {
         "hoverinfo": "text",
         "line": {
          "color": "cornflowerblue",
          "width": 0.16973518336332996
         },
         "mode": "lines",
         "text": "0.17",
         "type": "scatter",
         "x": [
          2,
          3,
          null
         ],
         "y": [
          2,
          4,
          null
         ]
        },
        {
         "hoverinfo": "text",
         "line": {
          "color": "cornflowerblue",
          "width": 0.17029799254858444
         },
         "mode": "lines",
         "text": "0.17",
         "type": "scatter",
         "x": [
          2,
          3,
          null
         ],
         "y": [
          2,
          5,
          null
         ]
        },
        {
         "hoverinfo": "text",
         "line": {
          "color": "cornflowerblue",
          "width": 0.1537776058024763
         },
         "mode": "lines",
         "text": "0.154",
         "type": "scatter",
         "x": [
          2,
          3,
          null
         ],
         "y": [
          2,
          6,
          null
         ]
        },
        {
         "hoverinfo": "text",
         "line": {
          "color": "cornflowerblue",
          "width": 0.19015161393608754
         },
         "mode": "lines",
         "text": "0.19",
         "type": "scatter",
         "x": [
          2,
          3,
          null
         ],
         "y": [
          3,
          0,
          null
         ]
        },
        {
         "hoverinfo": "text",
         "line": {
          "color": "cornflowerblue",
          "width": 0.17134566175687646
         },
         "mode": "lines",
         "text": "0.171",
         "type": "scatter",
         "x": [
          2,
          3,
          null
         ],
         "y": [
          3,
          1,
          null
         ]
        },
        {
         "hoverinfo": "text",
         "line": {
          "color": "cornflowerblue",
          "width": 0.24202096997121456
         },
         "mode": "lines",
         "text": "0.242",
         "type": "scatter",
         "x": [
          2,
          3,
          null
         ],
         "y": [
          3,
          2,
          null
         ]
        },
        {
         "hoverinfo": "text",
         "line": {
          "color": "cornflowerblue",
          "width": 0.17587552409667384
         },
         "mode": "lines",
         "text": "0.176",
         "type": "scatter",
         "x": [
          2,
          3,
          null
         ],
         "y": [
          3,
          3,
          null
         ]
        },
        {
         "hoverinfo": "text",
         "line": {
          "color": "cornflowerblue",
          "width": 0.23043428267850027
         },
         "mode": "lines",
         "text": "0.23",
         "type": "scatter",
         "x": [
          2,
          3,
          null
         ],
         "y": [
          3,
          4,
          null
         ]
        },
        {
         "hoverinfo": "text",
         "line": {
          "color": "cornflowerblue",
          "width": 0.19951069542071465
         },
         "mode": "lines",
         "text": "0.2",
         "type": "scatter",
         "x": [
          2,
          3,
          null
         ],
         "y": [
          3,
          5,
          null
         ]
        },
        {
         "hoverinfo": "text",
         "line": {
          "color": "cornflowerblue",
          "width": 0.1580644205219875
         },
         "mode": "lines",
         "text": "0.158",
         "type": "scatter",
         "x": [
          2,
          3,
          null
         ],
         "y": [
          3,
          6,
          null
         ]
        },
        {
         "hoverinfo": "text",
         "line": {
          "color": "cornflowerblue",
          "width": 0.17746303665718552
         },
         "mode": "lines",
         "text": "0.177",
         "type": "scatter",
         "x": [
          2,
          3,
          null
         ],
         "y": [
          4,
          0,
          null
         ]
        },
        {
         "hoverinfo": "text",
         "line": {
          "color": "cornflowerblue",
          "width": 0.16885612302626685
         },
         "mode": "lines",
         "text": "0.169",
         "type": "scatter",
         "x": [
          2,
          3,
          null
         ],
         "y": [
          4,
          1,
          null
         ]
        },
        {
         "hoverinfo": "text",
         "line": {
          "color": "cornflowerblue",
          "width": 0.17653166665167289
         },
         "mode": "lines",
         "text": "0.177",
         "type": "scatter",
         "x": [
          2,
          3,
          null
         ],
         "y": [
          4,
          2,
          null
         ]
        },
        {
         "hoverinfo": "text",
         "line": {
          "color": "cornflowerblue",
          "width": 0.1904358340664908
         },
         "mode": "lines",
         "text": "0.19",
         "type": "scatter",
         "x": [
          2,
          3,
          null
         ],
         "y": [
          4,
          3,
          null
         ]
        },
        {
         "hoverinfo": "text",
         "line": {
          "color": "cornflowerblue",
          "width": 0.1780256136024166
         },
         "mode": "lines",
         "text": "0.178",
         "type": "scatter",
         "x": [
          2,
          3,
          null
         ],
         "y": [
          4,
          4,
          null
         ]
        },
        {
         "hoverinfo": "text",
         "line": {
          "color": "cornflowerblue",
          "width": 0.1746431807754939
         },
         "mode": "lines",
         "text": "0.175",
         "type": "scatter",
         "x": [
          2,
          3,
          null
         ],
         "y": [
          4,
          5,
          null
         ]
        },
        {
         "hoverinfo": "text",
         "line": {
          "color": "cornflowerblue",
          "width": 0.15451090347543667
         },
         "mode": "lines",
         "text": "0.155",
         "type": "scatter",
         "x": [
          2,
          3,
          null
         ],
         "y": [
          4,
          6,
          null
         ]
        },
        {
         "hoverinfo": "text",
         "line": {
          "color": "cornflowerblue",
          "width": 0.16698160094917866
         },
         "mode": "lines",
         "text": "0.167",
         "type": "scatter",
         "x": [
          2,
          3,
          null
         ],
         "y": [
          5,
          0,
          null
         ]
        },
        {
         "hoverinfo": "text",
         "line": {
          "color": "cornflowerblue",
          "width": 0.16221045138337223
         },
         "mode": "lines",
         "text": "0.162",
         "type": "scatter",
         "x": [
          2,
          3,
          null
         ],
         "y": [
          5,
          1,
          null
         ]
        },
        {
         "hoverinfo": "text",
         "line": {
          "color": "cornflowerblue",
          "width": 0.17499000880781326
         },
         "mode": "lines",
         "text": "0.175",
         "type": "scatter",
         "x": [
          2,
          3,
          null
         ],
         "y": [
          5,
          2,
          null
         ]
        },
        {
         "hoverinfo": "text",
         "line": {
          "color": "cornflowerblue",
          "width": 0.168123236099571
         },
         "mode": "lines",
         "text": "0.168",
         "type": "scatter",
         "x": [
          2,
          3,
          null
         ],
         "y": [
          5,
          3,
          null
         ]
        },
        {
         "hoverinfo": "text",
         "line": {
          "color": "cornflowerblue",
          "width": 0.17628696313414202
         },
         "mode": "lines",
         "text": "0.176",
         "type": "scatter",
         "x": [
          2,
          3,
          null
         ],
         "y": [
          5,
          4,
          null
         ]
        },
        {
         "hoverinfo": "text",
         "line": {
          "color": "cornflowerblue",
          "width": 0.16565395458597237
         },
         "mode": "lines",
         "text": "0.166",
         "type": "scatter",
         "x": [
          2,
          3,
          null
         ],
         "y": [
          5,
          5,
          null
         ]
        },
        {
         "hoverinfo": "text",
         "line": {
          "color": "cornflowerblue",
          "width": 0.16108016509113313
         },
         "mode": "lines",
         "text": "0.161",
         "type": "scatter",
         "x": [
          2,
          3,
          null
         ],
         "y": [
          5,
          6,
          null
         ]
        },
        {
         "hoverinfo": "text",
         "line": {
          "color": "cornflowerblue",
          "width": 0.1475838682170644
         },
         "mode": "lines",
         "text": "0.148",
         "type": "scatter",
         "x": [
          2,
          3,
          null
         ],
         "y": [
          6,
          2,
          null
         ]
        },
        {
         "hoverinfo": "text",
         "line": {
          "color": "cornflowerblue",
          "width": 0.14744667975075834
         },
         "mode": "lines",
         "text": "0.147",
         "type": "scatter",
         "x": [
          2,
          3,
          null
         ],
         "y": [
          6,
          3,
          null
         ]
        },
        {
         "hoverinfo": "text",
         "line": {
          "color": "cornflowerblue",
          "width": 0.14728626956910226
         },
         "mode": "lines",
         "text": "0.147",
         "type": "scatter",
         "x": [
          2,
          3,
          null
         ],
         "y": [
          6,
          4,
          null
         ]
        },
        {
         "hoverinfo": "text",
         "line": {
          "color": "cornflowerblue",
          "width": 0.14842303033363
         },
         "mode": "lines",
         "text": "0.148",
         "type": "scatter",
         "x": [
          2,
          3,
          null
         ],
         "y": [
          6,
          5,
          null
         ]
        },
        {
         "hoverinfo": "text",
         "line": {
          "color": "cornflowerblue",
          "width": 0.15373299472569402
         },
         "mode": "lines",
         "text": "0.154",
         "type": "scatter",
         "x": [
          2,
          3,
          null
         ],
         "y": [
          7,
          0,
          null
         ]
        },
        {
         "hoverinfo": "text",
         "line": {
          "color": "cornflowerblue",
          "width": 0.14880573588258755
         },
         "mode": "lines",
         "text": "0.149",
         "type": "scatter",
         "x": [
          2,
          3,
          null
         ],
         "y": [
          7,
          1,
          null
         ]
        },
        {
         "hoverinfo": "text",
         "line": {
          "color": "cornflowerblue",
          "width": 0.14954987043683415
         },
         "mode": "lines",
         "text": "0.15",
         "type": "scatter",
         "x": [
          2,
          3,
          null
         ],
         "y": [
          7,
          2,
          null
         ]
        },
        {
         "hoverinfo": "text",
         "line": {
          "color": "cornflowerblue",
          "width": 0.14921066508115352
         },
         "mode": "lines",
         "text": "0.149",
         "type": "scatter",
         "x": [
          2,
          3,
          null
         ],
         "y": [
          7,
          3,
          null
         ]
        },
        {
         "hoverinfo": "text",
         "line": {
          "color": "cornflowerblue",
          "width": 0.1477785897221775
         },
         "mode": "lines",
         "text": "0.148",
         "type": "scatter",
         "x": [
          2,
          3,
          null
         ],
         "y": [
          7,
          4,
          null
         ]
        },
        {
         "hoverinfo": "text",
         "line": {
          "color": "cornflowerblue",
          "width": 0.14717460014167352
         },
         "mode": "lines",
         "text": "0.147",
         "type": "scatter",
         "x": [
          2,
          3,
          null
         ],
         "y": [
          7,
          5,
          null
         ]
        },
        {
         "hoverinfo": "text",
         "line": {
          "color": "cornflowerblue",
          "width": 0.15359483072739832
         },
         "mode": "lines",
         "text": "0.154",
         "type": "scatter",
         "x": [
          2,
          3,
          null
         ],
         "y": [
          8,
          0,
          null
         ]
        },
        {
         "hoverinfo": "text",
         "line": {
          "color": "cornflowerblue",
          "width": 0.15445021697873268
         },
         "mode": "lines",
         "text": "0.154",
         "type": "scatter",
         "x": [
          2,
          3,
          null
         ],
         "y": [
          8,
          1,
          null
         ]
        },
        {
         "hoverinfo": "text",
         "line": {
          "color": "cornflowerblue",
          "width": 0.1556070836675547
         },
         "mode": "lines",
         "text": "0.156",
         "type": "scatter",
         "x": [
          2,
          3,
          null
         ],
         "y": [
          8,
          2,
          null
         ]
        },
        {
         "hoverinfo": "text",
         "line": {
          "color": "cornflowerblue",
          "width": 0.15539110239962134
         },
         "mode": "lines",
         "text": "0.155",
         "type": "scatter",
         "x": [
          2,
          3,
          null
         ],
         "y": [
          8,
          3,
          null
         ]
        },
        {
         "hoverinfo": "text",
         "line": {
          "color": "cornflowerblue",
          "width": 0.15604654918684327
         },
         "mode": "lines",
         "text": "0.156",
         "type": "scatter",
         "x": [
          2,
          3,
          null
         ],
         "y": [
          8,
          4,
          null
         ]
        },
        {
         "hoverinfo": "text",
         "line": {
          "color": "cornflowerblue",
          "width": 0.1565533184674209
         },
         "mode": "lines",
         "text": "0.157",
         "type": "scatter",
         "x": [
          2,
          3,
          null
         ],
         "y": [
          8,
          5,
          null
         ]
        },
        {
         "hoverinfo": "text",
         "line": {
          "color": "cornflowerblue",
          "width": 0.15463907004346406
         },
         "mode": "lines",
         "text": "0.155",
         "type": "scatter",
         "x": [
          2,
          3,
          null
         ],
         "y": [
          8,
          6,
          null
         ]
        },
        {
         "hoverinfo": "text",
         "line": {
          "color": "cornflowerblue",
          "width": 0.19248726731623897
         },
         "mode": "lines",
         "text": "0.192",
         "type": "scatter",
         "x": [
          3,
          4,
          null
         ],
         "y": [
          0,
          0,
          null
         ]
        },
        {
         "hoverinfo": "text",
         "line": {
          "color": "cornflowerblue",
          "width": 0.1824714007139413
         },
         "mode": "lines",
         "text": "0.182",
         "type": "scatter",
         "x": [
          3,
          4,
          null
         ],
         "y": [
          0,
          1,
          null
         ]
        },
        {
         "hoverinfo": "text",
         "line": {
          "color": "cornflowerblue",
          "width": 0.19083380955065793
         },
         "mode": "lines",
         "text": "0.191",
         "type": "scatter",
         "x": [
          3,
          4,
          null
         ],
         "y": [
          0,
          2,
          null
         ]
        },
        {
         "hoverinfo": "text",
         "line": {
          "color": "cornflowerblue",
          "width": 0.16483526304906268
         },
         "mode": "lines",
         "text": "0.165",
         "type": "scatter",
         "x": [
          3,
          4,
          null
         ],
         "y": [
          0,
          3,
          null
         ]
        },
        {
         "hoverinfo": "text",
         "line": {
          "color": "cornflowerblue",
          "width": 0.34876361167254105
         },
         "mode": "lines",
         "text": "0.349",
         "type": "scatter",
         "x": [
          3,
          4,
          null
         ],
         "y": [
          0,
          4,
          null
         ]
        },
        {
         "hoverinfo": "text",
         "line": {
          "color": "cornflowerblue",
          "width": 0.16248072226463173
         },
         "mode": "lines",
         "text": "0.162",
         "type": "scatter",
         "x": [
          3,
          4,
          null
         ],
         "y": [
          0,
          5,
          null
         ]
        },
        {
         "hoverinfo": "text",
         "line": {
          "color": "cornflowerblue",
          "width": 0.14736192074181842
         },
         "mode": "lines",
         "text": "0.147",
         "type": "scatter",
         "x": [
          3,
          4,
          null
         ],
         "y": [
          0,
          6,
          null
         ]
        },
        {
         "hoverinfo": "text",
         "line": {
          "color": "cornflowerblue",
          "width": 0.16619070662360036
         },
         "mode": "lines",
         "text": "0.166",
         "type": "scatter",
         "x": [
          3,
          4,
          null
         ],
         "y": [
          1,
          0,
          null
         ]
        },
        {
         "hoverinfo": "text",
         "line": {
          "color": "cornflowerblue",
          "width": 0.17153548540635588
         },
         "mode": "lines",
         "text": "0.172",
         "type": "scatter",
         "x": [
          3,
          4,
          null
         ],
         "y": [
          1,
          1,
          null
         ]
        },
        {
         "hoverinfo": "text",
         "line": {
          "color": "cornflowerblue",
          "width": 0.1706441871466721
         },
         "mode": "lines",
         "text": "0.171",
         "type": "scatter",
         "x": [
          3,
          4,
          null
         ],
         "y": [
          1,
          2,
          null
         ]
        },
        {
         "hoverinfo": "text",
         "line": {
          "color": "cornflowerblue",
          "width": 0.16400959941342624
         },
         "mode": "lines",
         "text": "0.164",
         "type": "scatter",
         "x": [
          3,
          4,
          null
         ],
         "y": [
          1,
          3,
          null
         ]
        },
        {
         "hoverinfo": "text",
         "line": {
          "color": "cornflowerblue",
          "width": 0.16561764363269854
         },
         "mode": "lines",
         "text": "0.166",
         "type": "scatter",
         "x": [
          3,
          4,
          null
         ],
         "y": [
          1,
          4,
          null
         ]
        },
        {
         "hoverinfo": "text",
         "line": {
          "color": "cornflowerblue",
          "width": 0.16217172130684715
         },
         "mode": "lines",
         "text": "0.162",
         "type": "scatter",
         "x": [
          3,
          4,
          null
         ],
         "y": [
          1,
          5,
          null
         ]
        },
        {
         "hoverinfo": "text",
         "line": {
          "color": "cornflowerblue",
          "width": 0.14934356868724302
         },
         "mode": "lines",
         "text": "0.149",
         "type": "scatter",
         "x": [
          3,
          4,
          null
         ],
         "y": [
          1,
          6,
          null
         ]
        },
        {
         "hoverinfo": "text",
         "line": {
          "color": "cornflowerblue",
          "width": 0.1994823916779452
         },
         "mode": "lines",
         "text": "0.199",
         "type": "scatter",
         "x": [
          3,
          4,
          null
         ],
         "y": [
          2,
          0,
          null
         ]
        },
        {
         "hoverinfo": "text",
         "line": {
          "color": "cornflowerblue",
          "width": 0.1998376883505299
         },
         "mode": "lines",
         "text": "0.2",
         "type": "scatter",
         "x": [
          3,
          4,
          null
         ],
         "y": [
          2,
          1,
          null
         ]
        },
        {
         "hoverinfo": "text",
         "line": {
          "color": "cornflowerblue",
          "width": 0.2575266597430633
         },
         "mode": "lines",
         "text": "0.258",
         "type": "scatter",
         "x": [
          3,
          4,
          null
         ],
         "y": [
          2,
          2,
          null
         ]
        },
        {
         "hoverinfo": "text",
         "line": {
          "color": "cornflowerblue",
          "width": 0.17482318110133616
         },
         "mode": "lines",
         "text": "0.175",
         "type": "scatter",
         "x": [
          3,
          4,
          null
         ],
         "y": [
          2,
          3,
          null
         ]
        },
        {
         "hoverinfo": "text",
         "line": {
          "color": "cornflowerblue",
          "width": 0.18740361212875967
         },
         "mode": "lines",
         "text": "0.187",
         "type": "scatter",
         "x": [
          3,
          4,
          null
         ],
         "y": [
          2,
          4,
          null
         ]
        },
        {
         "hoverinfo": "text",
         "line": {
          "color": "cornflowerblue",
          "width": 0.17046158722587565
         },
         "mode": "lines",
         "text": "0.17",
         "type": "scatter",
         "x": [
          3,
          4,
          null
         ],
         "y": [
          2,
          5,
          null
         ]
        },
        {
         "hoverinfo": "text",
         "line": {
          "color": "cornflowerblue",
          "width": 0.1508336988970136
         },
         "mode": "lines",
         "text": "0.151",
         "type": "scatter",
         "x": [
          3,
          4,
          null
         ],
         "y": [
          2,
          6,
          null
         ]
        },
        {
         "hoverinfo": "text",
         "line": {
          "color": "cornflowerblue",
          "width": 0.16848409115052898
         },
         "mode": "lines",
         "text": "0.168",
         "type": "scatter",
         "x": [
          3,
          4,
          null
         ],
         "y": [
          3,
          0,
          null
         ]
        },
        {
         "hoverinfo": "text",
         "line": {
          "color": "cornflowerblue",
          "width": 0.1750534757126784
         },
         "mode": "lines",
         "text": "0.175",
         "type": "scatter",
         "x": [
          3,
          4,
          null
         ],
         "y": [
          3,
          1,
          null
         ]
        },
        {
         "hoverinfo": "text",
         "line": {
          "color": "cornflowerblue",
          "width": 0.1838260127827928
         },
         "mode": "lines",
         "text": "0.184",
         "type": "scatter",
         "x": [
          3,
          4,
          null
         ],
         "y": [
          3,
          2,
          null
         ]
        },
        {
         "hoverinfo": "text",
         "line": {
          "color": "cornflowerblue",
          "width": 0.21574969766021124
         },
         "mode": "lines",
         "text": "0.216",
         "type": "scatter",
         "x": [
          3,
          4,
          null
         ],
         "y": [
          3,
          3,
          null
         ]
        },
        {
         "hoverinfo": "text",
         "line": {
          "color": "cornflowerblue",
          "width": 0.16509218300489045
         },
         "mode": "lines",
         "text": "0.165",
         "type": "scatter",
         "x": [
          3,
          4,
          null
         ],
         "y": [
          3,
          4,
          null
         ]
        },
        {
         "hoverinfo": "text",
         "line": {
          "color": "cornflowerblue",
          "width": 0.16235513887161154
         },
         "mode": "lines",
         "text": "0.162",
         "type": "scatter",
         "x": [
          3,
          4,
          null
         ],
         "y": [
          3,
          5,
          null
         ]
        },
        {
         "hoverinfo": "text",
         "line": {
          "color": "cornflowerblue",
          "width": 0.1496100861710616
         },
         "mode": "lines",
         "text": "0.15",
         "type": "scatter",
         "x": [
          3,
          4,
          null
         ],
         "y": [
          3,
          6,
          null
         ]
        },
        {
         "hoverinfo": "text",
         "line": {
          "color": "cornflowerblue",
          "width": 0.20125545490322191
         },
         "mode": "lines",
         "text": "0.201",
         "type": "scatter",
         "x": [
          3,
          4,
          null
         ],
         "y": [
          4,
          0,
          null
         ]
        },
        {
         "hoverinfo": "text",
         "line": {
          "color": "cornflowerblue",
          "width": 0.3690753180617114
         },
         "mode": "lines",
         "text": "0.369",
         "type": "scatter",
         "x": [
          3,
          4,
          null
         ],
         "y": [
          4,
          1,
          null
         ]
        },
        {
         "hoverinfo": "text",
         "line": {
          "color": "cornflowerblue",
          "width": 0.20706607944985897
         },
         "mode": "lines",
         "text": "0.207",
         "type": "scatter",
         "x": [
          3,
          4,
          null
         ],
         "y": [
          4,
          2,
          null
         ]
        },
        {
         "hoverinfo": "text",
         "line": {
          "color": "cornflowerblue",
          "width": 0.17055775419874292
         },
         "mode": "lines",
         "text": "0.171",
         "type": "scatter",
         "x": [
          3,
          4,
          null
         ],
         "y": [
          4,
          3,
          null
         ]
        },
        {
         "hoverinfo": "text",
         "line": {
          "color": "cornflowerblue",
          "width": 0.18475395449664148
         },
         "mode": "lines",
         "text": "0.185",
         "type": "scatter",
         "x": [
          3,
          4,
          null
         ],
         "y": [
          4,
          4,
          null
         ]
        },
        {
         "hoverinfo": "text",
         "line": {
          "color": "cornflowerblue",
          "width": 0.16277178821490734
         },
         "mode": "lines",
         "text": "0.163",
         "type": "scatter",
         "x": [
          3,
          4,
          null
         ],
         "y": [
          4,
          5,
          null
         ]
        },
        {
         "hoverinfo": "text",
         "line": {
          "color": "cornflowerblue",
          "width": 0.14811502866437679
         },
         "mode": "lines",
         "text": "0.148",
         "type": "scatter",
         "x": [
          3,
          4,
          null
         ],
         "y": [
          4,
          6,
          null
         ]
        },
        {
         "hoverinfo": "text",
         "line": {
          "color": "cornflowerblue",
          "width": 0.5347833889112973
         },
         "mode": "lines",
         "text": "0.535",
         "type": "scatter",
         "x": [
          3,
          4,
          null
         ],
         "y": [
          5,
          0,
          null
         ]
        },
        {
         "hoverinfo": "text",
         "line": {
          "color": "cornflowerblue",
          "width": 0.1964024383034646
         },
         "mode": "lines",
         "text": "0.196",
         "type": "scatter",
         "x": [
          3,
          4,
          null
         ],
         "y": [
          5,
          1,
          null
         ]
        },
        {
         "hoverinfo": "text",
         "line": {
          "color": "cornflowerblue",
          "width": 0.20439726377476194
         },
         "mode": "lines",
         "text": "0.204",
         "type": "scatter",
         "x": [
          3,
          4,
          null
         ],
         "y": [
          5,
          2,
          null
         ]
        },
        {
         "hoverinfo": "text",
         "line": {
          "color": "cornflowerblue",
          "width": 0.1687671446529838
         },
         "mode": "lines",
         "text": "0.169",
         "type": "scatter",
         "x": [
          3,
          4,
          null
         ],
         "y": [
          5,
          3,
          null
         ]
        },
        {
         "hoverinfo": "text",
         "line": {
          "color": "cornflowerblue",
          "width": 0.18615330129337623
         },
         "mode": "lines",
         "text": "0.186",
         "type": "scatter",
         "x": [
          3,
          4,
          null
         ],
         "y": [
          5,
          4,
          null
         ]
        },
        {
         "hoverinfo": "text",
         "line": {
          "color": "cornflowerblue",
          "width": 0.15952506334712394
         },
         "mode": "lines",
         "text": "0.16",
         "type": "scatter",
         "x": [
          3,
          4,
          null
         ],
         "y": [
          5,
          5,
          null
         ]
        },
        {
         "hoverinfo": "text",
         "line": {
          "color": "cornflowerblue",
          "width": 0.1485932015041368
         },
         "mode": "lines",
         "text": "0.149",
         "type": "scatter",
         "x": [
          3,
          4,
          null
         ],
         "y": [
          5,
          6,
          null
         ]
        },
        {
         "hoverinfo": "text",
         "line": {
          "color": "cornflowerblue",
          "width": 0.15426028040141618
         },
         "mode": "lines",
         "text": "0.154",
         "type": "scatter",
         "x": [
          3,
          4,
          null
         ],
         "y": [
          6,
          0,
          null
         ]
        },
        {
         "hoverinfo": "text",
         "line": {
          "color": "cornflowerblue",
          "width": 0.15628803775152206
         },
         "mode": "lines",
         "text": "0.156",
         "type": "scatter",
         "x": [
          3,
          4,
          null
         ],
         "y": [
          6,
          1,
          null
         ]
        },
        {
         "hoverinfo": "text",
         "line": {
          "color": "cornflowerblue",
          "width": 0.15700940787591075
         },
         "mode": "lines",
         "text": "0.157",
         "type": "scatter",
         "x": [
          3,
          4,
          null
         ],
         "y": [
          6,
          2,
          null
         ]
        },
        {
         "hoverinfo": "text",
         "line": {
          "color": "cornflowerblue",
          "width": 0.15374108011304802
         },
         "mode": "lines",
         "text": "0.154",
         "type": "scatter",
         "x": [
          3,
          4,
          null
         ],
         "y": [
          6,
          3,
          null
         ]
        },
        {
         "hoverinfo": "text",
         "line": {
          "color": "cornflowerblue",
          "width": 0.15289972241373775
         },
         "mode": "lines",
         "text": "0.153",
         "type": "scatter",
         "x": [
          3,
          4,
          null
         ],
         "y": [
          6,
          4,
          null
         ]
        },
        {
         "hoverinfo": "text",
         "line": {
          "color": "cornflowerblue",
          "width": 0.15422437534320488
         },
         "mode": "lines",
         "text": "0.154",
         "type": "scatter",
         "x": [
          3,
          4,
          null
         ],
         "y": [
          6,
          5,
          null
         ]
        },
        {
         "hoverinfo": "text",
         "line": {
          "color": "cornflowerblue",
          "width": 0.15059857759460343
         },
         "mode": "lines",
         "text": "0.151",
         "type": "scatter",
         "x": [
          3,
          4,
          null
         ],
         "y": [
          6,
          6,
          null
         ]
        },
        {
         "hoverinfo": "text",
         "line": {
          "color": "cornflowerblue",
          "width": 0.19952343034568812
         },
         "mode": "lines",
         "text": "0.2",
         "type": "scatter",
         "x": [
          4,
          5,
          null
         ],
         "y": [
          0,
          0,
          null
         ]
        },
        {
         "hoverinfo": "text",
         "line": {
          "color": "cornflowerblue",
          "width": 0.1628198210317116
         },
         "mode": "lines",
         "text": "0.163",
         "type": "scatter",
         "x": [
          4,
          5,
          null
         ],
         "y": [
          0,
          1,
          null
         ]
        },
        {
         "hoverinfo": "text",
         "line": {
          "color": "cornflowerblue",
          "width": 0.19202378913699036
         },
         "mode": "lines",
         "text": "0.192",
         "type": "scatter",
         "x": [
          4,
          5,
          null
         ],
         "y": [
          0,
          2,
          null
         ]
        },
        {
         "hoverinfo": "text",
         "line": {
          "color": "cornflowerblue",
          "width": 0.5249714739410948
         },
         "mode": "lines",
         "text": "0.525",
         "type": "scatter",
         "x": [
          4,
          5,
          null
         ],
         "y": [
          0,
          3,
          null
         ]
        },
        {
         "hoverinfo": "text",
         "line": {
          "color": "cornflowerblue",
          "width": 0.1700588445440443
         },
         "mode": "lines",
         "text": "0.17",
         "type": "scatter",
         "x": [
          4,
          5,
          null
         ],
         "y": [
          0,
          4,
          null
         ]
        },
        {
         "hoverinfo": "text",
         "line": {
          "color": "cornflowerblue",
          "width": 0.18221632123519274
         },
         "mode": "lines",
         "text": "0.182",
         "type": "scatter",
         "x": [
          4,
          5,
          null
         ],
         "y": [
          0,
          5,
          null
         ]
        },
        {
         "hoverinfo": "text",
         "line": {
          "color": "cornflowerblue",
          "width": 0.15632207348727395
         },
         "mode": "lines",
         "text": "0.156",
         "type": "scatter",
         "x": [
          4,
          5,
          null
         ],
         "y": [
          0,
          6,
          null
         ]
        },
        {
         "hoverinfo": "text",
         "line": {
          "color": "cornflowerblue",
          "width": 0.15579488172038924
         },
         "mode": "lines",
         "text": "0.156",
         "type": "scatter",
         "x": [
          4,
          5,
          null
         ],
         "y": [
          0,
          7,
          null
         ]
        },
        {
         "hoverinfo": "text",
         "line": {
          "color": "cornflowerblue",
          "width": 0.2765600140263166
         },
         "mode": "lines",
         "text": "0.277",
         "type": "scatter",
         "x": [
          4,
          5,
          null
         ],
         "y": [
          1,
          0,
          null
         ]
        },
        {
         "hoverinfo": "text",
         "line": {
          "color": "cornflowerblue",
          "width": 0.16366133715578224
         },
         "mode": "lines",
         "text": "0.164",
         "type": "scatter",
         "x": [
          4,
          5,
          null
         ],
         "y": [
          1,
          1,
          null
         ]
        },
        {
         "hoverinfo": "text",
         "line": {
          "color": "cornflowerblue",
          "width": 0.2009584746881429
         },
         "mode": "lines",
         "text": "0.201",
         "type": "scatter",
         "x": [
          4,
          5,
          null
         ],
         "y": [
          1,
          2,
          null
         ]
        },
        {
         "hoverinfo": "text",
         "line": {
          "color": "cornflowerblue",
          "width": 0.1971867769914879
         },
         "mode": "lines",
         "text": "0.197",
         "type": "scatter",
         "x": [
          4,
          5,
          null
         ],
         "y": [
          1,
          3,
          null
         ]
        },
        {
         "hoverinfo": "text",
         "line": {
          "color": "cornflowerblue",
          "width": 0.18554968013554674
         },
         "mode": "lines",
         "text": "0.186",
         "type": "scatter",
         "x": [
          4,
          5,
          null
         ],
         "y": [
          1,
          4,
          null
         ]
        },
        {
         "hoverinfo": "text",
         "line": {
          "color": "cornflowerblue",
          "width": 0.18178983002839033
         },
         "mode": "lines",
         "text": "0.182",
         "type": "scatter",
         "x": [
          4,
          5,
          null
         ],
         "y": [
          1,
          5,
          null
         ]
        },
        {
         "hoverinfo": "text",
         "line": {
          "color": "cornflowerblue",
          "width": 0.16047588966606058
         },
         "mode": "lines",
         "text": "0.16",
         "type": "scatter",
         "x": [
          4,
          5,
          null
         ],
         "y": [
          1,
          6,
          null
         ]
        },
        {
         "hoverinfo": "text",
         "line": {
          "color": "cornflowerblue",
          "width": 0.1573648469760227
         },
         "mode": "lines",
         "text": "0.157",
         "type": "scatter",
         "x": [
          4,
          5,
          null
         ],
         "y": [
          1,
          7,
          null
         ]
        },
        {
         "hoverinfo": "text",
         "line": {
          "color": "cornflowerblue",
          "width": 0.2038057670909148
         },
         "mode": "lines",
         "text": "0.204",
         "type": "scatter",
         "x": [
          4,
          5,
          null
         ],
         "y": [
          2,
          0,
          null
         ]
        },
        {
         "hoverinfo": "text",
         "line": {
          "color": "cornflowerblue",
          "width": 0.17441721082562592
         },
         "mode": "lines",
         "text": "0.174",
         "type": "scatter",
         "x": [
          4,
          5,
          null
         ],
         "y": [
          2,
          1,
          null
         ]
        },
        {
         "hoverinfo": "text",
         "line": {
          "color": "cornflowerblue",
          "width": 0.2544957831254315
         },
         "mode": "lines",
         "text": "0.254",
         "type": "scatter",
         "x": [
          4,
          5,
          null
         ],
         "y": [
          2,
          2,
          null
         ]
        },
        {
         "hoverinfo": "text",
         "line": {
          "color": "cornflowerblue",
          "width": 0.20254335017479666
         },
         "mode": "lines",
         "text": "0.203",
         "type": "scatter",
         "x": [
          4,
          5,
          null
         ],
         "y": [
          2,
          3,
          null
         ]
        },
        {
         "hoverinfo": "text",
         "line": {
          "color": "cornflowerblue",
          "width": 0.185027763743695
         },
         "mode": "lines",
         "text": "0.185",
         "type": "scatter",
         "x": [
          4,
          5,
          null
         ],
         "y": [
          2,
          4,
          null
         ]
        },
        {
         "hoverinfo": "text",
         "line": {
          "color": "cornflowerblue",
          "width": 0.19855947605826052
         },
         "mode": "lines",
         "text": "0.199",
         "type": "scatter",
         "x": [
          4,
          5,
          null
         ],
         "y": [
          2,
          5,
          null
         ]
        },
        {
         "hoverinfo": "text",
         "line": {
          "color": "cornflowerblue",
          "width": 0.15897296659010207
         },
         "mode": "lines",
         "text": "0.159",
         "type": "scatter",
         "x": [
          4,
          5,
          null
         ],
         "y": [
          2,
          6,
          null
         ]
        },
        {
         "hoverinfo": "text",
         "line": {
          "color": "cornflowerblue",
          "width": 0.15993945796678402
         },
         "mode": "lines",
         "text": "0.16",
         "type": "scatter",
         "x": [
          4,
          5,
          null
         ],
         "y": [
          2,
          7,
          null
         ]
        },
        {
         "hoverinfo": "text",
         "line": {
          "color": "cornflowerblue",
          "width": 0.17053330898691396
         },
         "mode": "lines",
         "text": "0.171",
         "type": "scatter",
         "x": [
          4,
          5,
          null
         ],
         "y": [
          3,
          0,
          null
         ]
        },
        {
         "hoverinfo": "text",
         "line": {
          "color": "cornflowerblue",
          "width": 0.1621052104262673
         },
         "mode": "lines",
         "text": "0.162",
         "type": "scatter",
         "x": [
          4,
          5,
          null
         ],
         "y": [
          3,
          1,
          null
         ]
        },
        {
         "hoverinfo": "text",
         "line": {
          "color": "cornflowerblue",
          "width": 0.17385400719203103
         },
         "mode": "lines",
         "text": "0.174",
         "type": "scatter",
         "x": [
          4,
          5,
          null
         ],
         "y": [
          3,
          2,
          null
         ]
        },
        {
         "hoverinfo": "text",
         "line": {
          "color": "cornflowerblue",
          "width": 0.16800828727348546
         },
         "mode": "lines",
         "text": "0.168",
         "type": "scatter",
         "x": [
          4,
          5,
          null
         ],
         "y": [
          3,
          3,
          null
         ]
        },
        {
         "hoverinfo": "text",
         "line": {
          "color": "cornflowerblue",
          "width": 0.16934797503220753
         },
         "mode": "lines",
         "text": "0.169",
         "type": "scatter",
         "x": [
          4,
          5,
          null
         ],
         "y": [
          3,
          4,
          null
         ]
        },
        {
         "hoverinfo": "text",
         "line": {
          "color": "cornflowerblue",
          "width": 0.2081192389974233
         },
         "mode": "lines",
         "text": "0.208",
         "type": "scatter",
         "x": [
          4,
          5,
          null
         ],
         "y": [
          3,
          5,
          null
         ]
        },
        {
         "hoverinfo": "text",
         "line": {
          "color": "cornflowerblue",
          "width": 0.15681982194440297
         },
         "mode": "lines",
         "text": "0.157",
         "type": "scatter",
         "x": [
          4,
          5,
          null
         ],
         "y": [
          3,
          6,
          null
         ]
        },
        {
         "hoverinfo": "text",
         "line": {
          "color": "cornflowerblue",
          "width": 0.15888395530138694
         },
         "mode": "lines",
         "text": "0.159",
         "type": "scatter",
         "x": [
          4,
          5,
          null
         ],
         "y": [
          3,
          7,
          null
         ]
        },
        {
         "hoverinfo": "text",
         "line": {
          "color": "cornflowerblue",
          "width": 0.25545027397881964
         },
         "mode": "lines",
         "text": "0.255",
         "type": "scatter",
         "x": [
          4,
          5,
          null
         ],
         "y": [
          4,
          0,
          null
         ]
        },
        {
         "hoverinfo": "text",
         "line": {
          "color": "cornflowerblue",
          "width": 0.16151421272142943
         },
         "mode": "lines",
         "text": "0.162",
         "type": "scatter",
         "x": [
          4,
          5,
          null
         ],
         "y": [
          4,
          1,
          null
         ]
        },
        {
         "hoverinfo": "text",
         "line": {
          "color": "cornflowerblue",
          "width": 0.18263447008695358
         },
         "mode": "lines",
         "text": "0.183",
         "type": "scatter",
         "x": [
          4,
          5,
          null
         ],
         "y": [
          4,
          2,
          null
         ]
        },
        {
         "hoverinfo": "text",
         "line": {
          "color": "cornflowerblue",
          "width": 0.18649536469134564
         },
         "mode": "lines",
         "text": "0.186",
         "type": "scatter",
         "x": [
          4,
          5,
          null
         ],
         "y": [
          4,
          3,
          null
         ]
        },
        {
         "hoverinfo": "text",
         "line": {
          "color": "cornflowerblue",
          "width": 0.16621634063072252
         },
         "mode": "lines",
         "text": "0.166",
         "type": "scatter",
         "x": [
          4,
          5,
          null
         ],
         "y": [
          4,
          4,
          null
         ]
        },
        {
         "hoverinfo": "text",
         "line": {
          "color": "cornflowerblue",
          "width": 0.17013506183549912
         },
         "mode": "lines",
         "text": "0.17",
         "type": "scatter",
         "x": [
          4,
          5,
          null
         ],
         "y": [
          4,
          5,
          null
         ]
        },
        {
         "hoverinfo": "text",
         "line": {
          "color": "cornflowerblue",
          "width": 0.15578547851007846
         },
         "mode": "lines",
         "text": "0.156",
         "type": "scatter",
         "x": [
          4,
          5,
          null
         ],
         "y": [
          4,
          6,
          null
         ]
        },
        {
         "hoverinfo": "text",
         "line": {
          "color": "cornflowerblue",
          "width": 0.16058724250415493
         },
         "mode": "lines",
         "text": "0.161",
         "type": "scatter",
         "x": [
          4,
          5,
          null
         ],
         "y": [
          4,
          7,
          null
         ]
        },
        {
         "hoverinfo": "text",
         "line": {
          "color": "cornflowerblue",
          "width": 0.16374988548882308
         },
         "mode": "lines",
         "text": "0.164",
         "type": "scatter",
         "x": [
          4,
          5,
          null
         ],
         "y": [
          5,
          0,
          null
         ]
        },
        {
         "hoverinfo": "text",
         "line": {
          "color": "cornflowerblue",
          "width": 0.16235543865595625
         },
         "mode": "lines",
         "text": "0.162",
         "type": "scatter",
         "x": [
          4,
          5,
          null
         ],
         "y": [
          5,
          1,
          null
         ]
        },
        {
         "hoverinfo": "text",
         "line": {
          "color": "cornflowerblue",
          "width": 0.16915435926726788
         },
         "mode": "lines",
         "text": "0.169",
         "type": "scatter",
         "x": [
          4,
          5,
          null
         ],
         "y": [
          5,
          2,
          null
         ]
        },
        {
         "hoverinfo": "text",
         "line": {
          "color": "cornflowerblue",
          "width": 0.15875181487742016
         },
         "mode": "lines",
         "text": "0.159",
         "type": "scatter",
         "x": [
          4,
          5,
          null
         ],
         "y": [
          5,
          3,
          null
         ]
        },
        {
         "hoverinfo": "text",
         "line": {
          "color": "cornflowerblue",
          "width": 0.1604821642246263
         },
         "mode": "lines",
         "text": "0.16",
         "type": "scatter",
         "x": [
          4,
          5,
          null
         ],
         "y": [
          5,
          4,
          null
         ]
        },
        {
         "hoverinfo": "text",
         "line": {
          "color": "cornflowerblue",
          "width": 0.16232949242922506
         },
         "mode": "lines",
         "text": "0.162",
         "type": "scatter",
         "x": [
          4,
          5,
          null
         ],
         "y": [
          5,
          5,
          null
         ]
        },
        {
         "hoverinfo": "text",
         "line": {
          "color": "cornflowerblue",
          "width": 0.15908834551523846
         },
         "mode": "lines",
         "text": "0.159",
         "type": "scatter",
         "x": [
          4,
          5,
          null
         ],
         "y": [
          5,
          6,
          null
         ]
        },
        {
         "hoverinfo": "text",
         "line": {
          "color": "cornflowerblue",
          "width": 0.158248861131262
         },
         "mode": "lines",
         "text": "0.158",
         "type": "scatter",
         "x": [
          4,
          5,
          null
         ],
         "y": [
          5,
          7,
          null
         ]
        },
        {
         "hoverinfo": "text",
         "line": {
          "color": "cornflowerblue",
          "width": 0.14762649094461153
         },
         "mode": "lines",
         "text": "0.148",
         "type": "scatter",
         "x": [
          4,
          5,
          null
         ],
         "y": [
          6,
          0,
          null
         ]
        },
        {
         "hoverinfo": "text",
         "line": {
          "color": "cornflowerblue",
          "width": 0.14915571098431699
         },
         "mode": "lines",
         "text": "0.149",
         "type": "scatter",
         "x": [
          4,
          5,
          null
         ],
         "y": [
          6,
          1,
          null
         ]
        },
        {
         "hoverinfo": "text",
         "line": {
          "color": "cornflowerblue",
          "width": 0.1495956232714124
         },
         "mode": "lines",
         "text": "0.15",
         "type": "scatter",
         "x": [
          4,
          5,
          null
         ],
         "y": [
          6,
          2,
          null
         ]
        },
        {
         "hoverinfo": "text",
         "line": {
          "color": "cornflowerblue",
          "width": 0.1487158988829705
         },
         "mode": "lines",
         "text": "0.149",
         "type": "scatter",
         "x": [
          4,
          5,
          null
         ],
         "y": [
          6,
          3,
          null
         ]
        },
        {
         "hoverinfo": "text",
         "line": {
          "color": "cornflowerblue",
          "width": 0.14833931766387817
         },
         "mode": "lines",
         "text": "0.148",
         "type": "scatter",
         "x": [
          4,
          5,
          null
         ],
         "y": [
          6,
          4,
          null
         ]
        },
        {
         "hoverinfo": "text",
         "line": {
          "color": "cornflowerblue",
          "width": 0.15056040738142104
         },
         "mode": "lines",
         "text": "0.151",
         "type": "scatter",
         "x": [
          4,
          5,
          null
         ],
         "y": [
          6,
          5,
          null
         ]
        },
        {
         "hoverinfo": "text",
         "line": {
          "color": "cornflowerblue",
          "width": 0.15314121518943333
         },
         "mode": "lines",
         "text": "0.153",
         "type": "scatter",
         "x": [
          4,
          5,
          null
         ],
         "y": [
          6,
          6,
          null
         ]
        },
        {
         "hoverinfo": "text",
         "line": {
          "color": "cornflowerblue",
          "width": 0.15074796270917593
         },
         "mode": "lines",
         "text": "0.151",
         "type": "scatter",
         "x": [
          4,
          5,
          null
         ],
         "y": [
          6,
          7,
          null
         ]
        },
        {
         "hoverinfo": "text",
         "line": {
          "color": "cornflowerblue",
          "width": 0.14823304187884065
         },
         "mode": "lines",
         "text": "0.148",
         "type": "scatter",
         "x": [
          4,
          5,
          null
         ],
         "y": [
          6,
          8,
          null
         ]
        },
        {
         "hoverinfo": "text",
         "line": {
          "color": "cornflowerblue",
          "width": 0.21107709466048852
         },
         "mode": "lines",
         "text": "0.211",
         "type": "scatter",
         "x": [
          5,
          6,
          null
         ],
         "y": [
          0,
          0,
          null
         ]
        },
        {
         "hoverinfo": "text",
         "line": {
          "color": "cornflowerblue",
          "width": 0.19940008405923046
         },
         "mode": "lines",
         "text": "0.199",
         "type": "scatter",
         "x": [
          5,
          6,
          null
         ],
         "y": [
          0,
          1,
          null
         ]
        },
        {
         "hoverinfo": "text",
         "line": {
          "color": "cornflowerblue",
          "width": 0.1813175107513952
         },
         "mode": "lines",
         "text": "0.181",
         "type": "scatter",
         "x": [
          5,
          6,
          null
         ],
         "y": [
          0,
          2,
          null
         ]
        },
        {
         "hoverinfo": "text",
         "line": {
          "color": "cornflowerblue",
          "width": 0.3699553909885062
         },
         "mode": "lines",
         "text": "0.37",
         "type": "scatter",
         "x": [
          5,
          6,
          null
         ],
         "y": [
          0,
          3,
          null
         ]
        },
        {
         "hoverinfo": "text",
         "line": {
          "color": "cornflowerblue",
          "width": 0.15503921691847508
         },
         "mode": "lines",
         "text": "0.155",
         "type": "scatter",
         "x": [
          5,
          6,
          null
         ],
         "y": [
          0,
          4,
          null
         ]
        },
        {
         "hoverinfo": "text",
         "line": {
          "color": "cornflowerblue",
          "width": 0.15968875901244484
         },
         "mode": "lines",
         "text": "0.16",
         "type": "scatter",
         "x": [
          5,
          6,
          null
         ],
         "y": [
          0,
          5,
          null
         ]
        },
        {
         "hoverinfo": "text",
         "line": {
          "color": "cornflowerblue",
          "width": 0.15749995814295872
         },
         "mode": "lines",
         "text": "0.157",
         "type": "scatter",
         "x": [
          5,
          6,
          null
         ],
         "y": [
          0,
          6,
          null
         ]
        },
        {
         "hoverinfo": "text",
         "line": {
          "color": "cornflowerblue",
          "width": 0.17393601973945233
         },
         "mode": "lines",
         "text": "0.174",
         "type": "scatter",
         "x": [
          5,
          6,
          null
         ],
         "y": [
          1,
          0,
          null
         ]
        },
        {
         "hoverinfo": "text",
         "line": {
          "color": "cornflowerblue",
          "width": 0.1629269638271563
         },
         "mode": "lines",
         "text": "0.163",
         "type": "scatter",
         "x": [
          5,
          6,
          null
         ],
         "y": [
          1,
          1,
          null
         ]
        },
        {
         "hoverinfo": "text",
         "line": {
          "color": "cornflowerblue",
          "width": 0.16225442799196174
         },
         "mode": "lines",
         "text": "0.162",
         "type": "scatter",
         "x": [
          5,
          6,
          null
         ],
         "y": [
          1,
          2,
          null
         ]
        },
        {
         "hoverinfo": "text",
         "line": {
          "color": "cornflowerblue",
          "width": 0.16411076868757632
         },
         "mode": "lines",
         "text": "0.164",
         "type": "scatter",
         "x": [
          5,
          6,
          null
         ],
         "y": [
          1,
          3,
          null
         ]
        },
        {
         "hoverinfo": "text",
         "line": {
          "color": "cornflowerblue",
          "width": 0.15472242784003767
         },
         "mode": "lines",
         "text": "0.155",
         "type": "scatter",
         "x": [
          5,
          6,
          null
         ],
         "y": [
          1,
          4,
          null
         ]
        },
        {
         "hoverinfo": "text",
         "line": {
          "color": "cornflowerblue",
          "width": 0.15752157114449655
         },
         "mode": "lines",
         "text": "0.158",
         "type": "scatter",
         "x": [
          5,
          6,
          null
         ],
         "y": [
          1,
          5,
          null
         ]
        },
        {
         "hoverinfo": "text",
         "line": {
          "color": "cornflowerblue",
          "width": 0.15439888491169443
         },
         "mode": "lines",
         "text": "0.154",
         "type": "scatter",
         "x": [
          5,
          6,
          null
         ],
         "y": [
          1,
          6,
          null
         ]
        },
        {
         "hoverinfo": "text",
         "line": {
          "color": "cornflowerblue",
          "width": 0.26195955732550463
         },
         "mode": "lines",
         "text": "0.262",
         "type": "scatter",
         "x": [
          5,
          6,
          null
         ],
         "y": [
          2,
          0,
          null
         ]
        },
        {
         "hoverinfo": "text",
         "line": {
          "color": "cornflowerblue",
          "width": 0.19257952205015472
         },
         "mode": "lines",
         "text": "0.193",
         "type": "scatter",
         "x": [
          5,
          6,
          null
         ],
         "y": [
          2,
          1,
          null
         ]
        },
        {
         "hoverinfo": "text",
         "line": {
          "color": "cornflowerblue",
          "width": 0.18491510161250768
         },
         "mode": "lines",
         "text": "0.185",
         "type": "scatter",
         "x": [
          5,
          6,
          null
         ],
         "y": [
          2,
          2,
          null
         ]
        },
        {
         "hoverinfo": "text",
         "line": {
          "color": "cornflowerblue",
          "width": 0.1954081790126282
         },
         "mode": "lines",
         "text": "0.195",
         "type": "scatter",
         "x": [
          5,
          6,
          null
         ],
         "y": [
          2,
          3,
          null
         ]
        },
        {
         "hoverinfo": "text",
         "line": {
          "color": "cornflowerblue",
          "width": 0.15599308627163108
         },
         "mode": "lines",
         "text": "0.156",
         "type": "scatter",
         "x": [
          5,
          6,
          null
         ],
         "y": [
          2,
          4,
          null
         ]
        },
        {
         "hoverinfo": "text",
         "line": {
          "color": "cornflowerblue",
          "width": 0.16016151612323473
         },
         "mode": "lines",
         "text": "0.16",
         "type": "scatter",
         "x": [
          5,
          6,
          null
         ],
         "y": [
          2,
          5,
          null
         ]
        },
        {
         "hoverinfo": "text",
         "line": {
          "color": "cornflowerblue",
          "width": 0.15605569102481845
         },
         "mode": "lines",
         "text": "0.156",
         "type": "scatter",
         "x": [
          5,
          6,
          null
         ],
         "y": [
          2,
          6,
          null
         ]
        },
        {
         "hoverinfo": "text",
         "line": {
          "color": "cornflowerblue",
          "width": 0.1982807105471541
         },
         "mode": "lines",
         "text": "0.198",
         "type": "scatter",
         "x": [
          5,
          6,
          null
         ],
         "y": [
          3,
          0,
          null
         ]
        },
        {
         "hoverinfo": "text",
         "line": {
          "color": "cornflowerblue",
          "width": 0.5572195333544334
         },
         "mode": "lines",
         "text": "0.557",
         "type": "scatter",
         "x": [
          5,
          6,
          null
         ],
         "y": [
          3,
          1,
          null
         ]
        },
        {
         "hoverinfo": "text",
         "line": {
          "color": "cornflowerblue",
          "width": 0.2017198302478935
         },
         "mode": "lines",
         "text": "0.202",
         "type": "scatter",
         "x": [
          5,
          6,
          null
         ],
         "y": [
          3,
          2,
          null
         ]
        },
        {
         "hoverinfo": "text",
         "line": {
          "color": "cornflowerblue",
          "width": 0.21075763005373632
         },
         "mode": "lines",
         "text": "0.211",
         "type": "scatter",
         "x": [
          5,
          6,
          null
         ],
         "y": [
          3,
          3,
          null
         ]
        },
        {
         "hoverinfo": "text",
         "line": {
          "color": "cornflowerblue",
          "width": 0.15594100715427084
         },
         "mode": "lines",
         "text": "0.156",
         "type": "scatter",
         "x": [
          5,
          6,
          null
         ],
         "y": [
          3,
          4,
          null
         ]
        },
        {
         "hoverinfo": "text",
         "line": {
          "color": "cornflowerblue",
          "width": 0.1611091196495649
         },
         "mode": "lines",
         "text": "0.161",
         "type": "scatter",
         "x": [
          5,
          6,
          null
         ],
         "y": [
          3,
          5,
          null
         ]
        },
        {
         "hoverinfo": "text",
         "line": {
          "color": "cornflowerblue",
          "width": 0.15680609101335635
         },
         "mode": "lines",
         "text": "0.157",
         "type": "scatter",
         "x": [
          5,
          6,
          null
         ],
         "y": [
          3,
          6,
          null
         ]
        },
        {
         "hoverinfo": "text",
         "line": {
          "color": "cornflowerblue",
          "width": 0.1752985760200409
         },
         "mode": "lines",
         "text": "0.175",
         "type": "scatter",
         "x": [
          5,
          6,
          null
         ],
         "y": [
          4,
          0,
          null
         ]
        },
        {
         "hoverinfo": "text",
         "line": {
          "color": "cornflowerblue",
          "width": 0.17291442924680436
         },
         "mode": "lines",
         "text": "0.173",
         "type": "scatter",
         "x": [
          5,
          6,
          null
         ],
         "y": [
          4,
          1,
          null
         ]
        },
        {
         "hoverinfo": "text",
         "line": {
          "color": "cornflowerblue",
          "width": 0.166305787555809
         },
         "mode": "lines",
         "text": "0.166",
         "type": "scatter",
         "x": [
          5,
          6,
          null
         ],
         "y": [
          4,
          2,
          null
         ]
        },
        {
         "hoverinfo": "text",
         "line": {
          "color": "cornflowerblue",
          "width": 0.17909666652842007
         },
         "mode": "lines",
         "text": "0.179",
         "type": "scatter",
         "x": [
          5,
          6,
          null
         ],
         "y": [
          4,
          3,
          null
         ]
        },
        {
         "hoverinfo": "text",
         "line": {
          "color": "cornflowerblue",
          "width": 0.15507910983651996
         },
         "mode": "lines",
         "text": "0.155",
         "type": "scatter",
         "x": [
          5,
          6,
          null
         ],
         "y": [
          4,
          4,
          null
         ]
        },
        {
         "hoverinfo": "text",
         "line": {
          "color": "cornflowerblue",
          "width": 0.1577277998954905
         },
         "mode": "lines",
         "text": "0.158",
         "type": "scatter",
         "x": [
          5,
          6,
          null
         ],
         "y": [
          4,
          5,
          null
         ]
        },
        {
         "hoverinfo": "text",
         "line": {
          "color": "cornflowerblue",
          "width": 0.1538620032464135
         },
         "mode": "lines",
         "text": "0.154",
         "type": "scatter",
         "x": [
          5,
          6,
          null
         ],
         "y": [
          4,
          6,
          null
         ]
        },
        {
         "hoverinfo": "text",
         "line": {
          "color": "cornflowerblue",
          "width": 0.18948334024436753
         },
         "mode": "lines",
         "text": "0.189",
         "type": "scatter",
         "x": [
          5,
          6,
          null
         ],
         "y": [
          5,
          0,
          null
         ]
        },
        {
         "hoverinfo": "text",
         "line": {
          "color": "cornflowerblue",
          "width": 0.1815410018749624
         },
         "mode": "lines",
         "text": "0.182",
         "type": "scatter",
         "x": [
          5,
          6,
          null
         ],
         "y": [
          5,
          1,
          null
         ]
        },
        {
         "hoverinfo": "text",
         "line": {
          "color": "cornflowerblue",
          "width": 0.2628038375504597
         },
         "mode": "lines",
         "text": "0.263",
         "type": "scatter",
         "x": [
          5,
          6,
          null
         ],
         "y": [
          5,
          2,
          null
         ]
        },
        {
         "hoverinfo": "text",
         "line": {
          "color": "cornflowerblue",
          "width": 0.17689133421971037
         },
         "mode": "lines",
         "text": "0.177",
         "type": "scatter",
         "x": [
          5,
          6,
          null
         ],
         "y": [
          5,
          3,
          null
         ]
        },
        {
         "hoverinfo": "text",
         "line": {
          "color": "cornflowerblue",
          "width": 0.15812973514761275
         },
         "mode": "lines",
         "text": "0.158",
         "type": "scatter",
         "x": [
          5,
          6,
          null
         ],
         "y": [
          5,
          4,
          null
         ]
        },
        {
         "hoverinfo": "text",
         "line": {
          "color": "cornflowerblue",
          "width": 0.16099721690730193
         },
         "mode": "lines",
         "text": "0.161",
         "type": "scatter",
         "x": [
          5,
          6,
          null
         ],
         "y": [
          5,
          5,
          null
         ]
        },
        {
         "hoverinfo": "text",
         "line": {
          "color": "cornflowerblue",
          "width": 0.15474113994853728
         },
         "mode": "lines",
         "text": "0.155",
         "type": "scatter",
         "x": [
          5,
          6,
          null
         ],
         "y": [
          5,
          6,
          null
         ]
        },
        {
         "hoverinfo": "text",
         "line": {
          "color": "cornflowerblue",
          "width": 0.15979691079903793
         },
         "mode": "lines",
         "text": "0.16",
         "type": "scatter",
         "x": [
          5,
          6,
          null
         ],
         "y": [
          6,
          0,
          null
         ]
        },
        {
         "hoverinfo": "text",
         "line": {
          "color": "cornflowerblue",
          "width": 0.15546377519275692
         },
         "mode": "lines",
         "text": "0.155",
         "type": "scatter",
         "x": [
          5,
          6,
          null
         ],
         "y": [
          6,
          1,
          null
         ]
        },
        {
         "hoverinfo": "text",
         "line": {
          "color": "cornflowerblue",
          "width": 0.15940011271137888
         },
         "mode": "lines",
         "text": "0.159",
         "type": "scatter",
         "x": [
          5,
          6,
          null
         ],
         "y": [
          6,
          2,
          null
         ]
        },
        {
         "hoverinfo": "text",
         "line": {
          "color": "cornflowerblue",
          "width": 0.15858688468441492
         },
         "mode": "lines",
         "text": "0.159",
         "type": "scatter",
         "x": [
          5,
          6,
          null
         ],
         "y": [
          6,
          3,
          null
         ]
        },
        {
         "hoverinfo": "text",
         "line": {
          "color": "cornflowerblue",
          "width": 0.15724936228670286
         },
         "mode": "lines",
         "text": "0.157",
         "type": "scatter",
         "x": [
          5,
          6,
          null
         ],
         "y": [
          6,
          4,
          null
         ]
        },
        {
         "hoverinfo": "text",
         "line": {
          "color": "cornflowerblue",
          "width": 0.15287957484990877
         },
         "mode": "lines",
         "text": "0.153",
         "type": "scatter",
         "x": [
          5,
          6,
          null
         ],
         "y": [
          6,
          5,
          null
         ]
        },
        {
         "hoverinfo": "text",
         "line": {
          "color": "cornflowerblue",
          "width": 0.15201073320386163
         },
         "mode": "lines",
         "text": "0.152",
         "type": "scatter",
         "x": [
          5,
          6,
          null
         ],
         "y": [
          6,
          6,
          null
         ]
        },
        {
         "hoverinfo": "text",
         "line": {
          "color": "cornflowerblue",
          "width": 0.15879533375486488
         },
         "mode": "lines",
         "text": "0.159",
         "type": "scatter",
         "x": [
          5,
          6,
          null
         ],
         "y": [
          7,
          0,
          null
         ]
        },
        {
         "hoverinfo": "text",
         "line": {
          "color": "cornflowerblue",
          "width": 0.15542890419152916
         },
         "mode": "lines",
         "text": "0.155",
         "type": "scatter",
         "x": [
          5,
          6,
          null
         ],
         "y": [
          7,
          1,
          null
         ]
        },
        {
         "hoverinfo": "text",
         "line": {
          "color": "cornflowerblue",
          "width": 0.15649782852977037
         },
         "mode": "lines",
         "text": "0.156",
         "type": "scatter",
         "x": [
          5,
          6,
          null
         ],
         "y": [
          7,
          2,
          null
         ]
        },
        {
         "hoverinfo": "text",
         "line": {
          "color": "cornflowerblue",
          "width": 0.15796406504654817
         },
         "mode": "lines",
         "text": "0.158",
         "type": "scatter",
         "x": [
          5,
          6,
          null
         ],
         "y": [
          7,
          3,
          null
         ]
        },
        {
         "hoverinfo": "text",
         "line": {
          "color": "cornflowerblue",
          "width": 0.16723028400971057
         },
         "mode": "lines",
         "text": "0.167",
         "type": "scatter",
         "x": [
          5,
          6,
          null
         ],
         "y": [
          7,
          4,
          null
         ]
        },
        {
         "hoverinfo": "text",
         "line": {
          "color": "cornflowerblue",
          "width": 0.15717644692738536
         },
         "mode": "lines",
         "text": "0.157",
         "type": "scatter",
         "x": [
          5,
          6,
          null
         ],
         "y": [
          7,
          5,
          null
         ]
        },
        {
         "hoverinfo": "text",
         "line": {
          "color": "cornflowerblue",
          "width": 0.1562204391464082
         },
         "mode": "lines",
         "text": "0.156",
         "type": "scatter",
         "x": [
          5,
          6,
          null
         ],
         "y": [
          7,
          6,
          null
         ]
        },
        {
         "hoverinfo": "text",
         "line": {
          "color": "cornflowerblue",
          "width": 0.1469242209576995
         },
         "mode": "lines",
         "text": "0.147",
         "type": "scatter",
         "x": [
          5,
          6,
          null
         ],
         "y": [
          8,
          4,
          null
         ]
        },
        {
         "hoverinfo": "text",
         "line": {
          "color": "cornflowerblue",
          "width": 0.19463511304314793
         },
         "mode": "lines",
         "text": "0.195",
         "type": "scatter",
         "x": [
          6,
          7,
          null
         ],
         "y": [
          0,
          0,
          null
         ]
        },
        {
         "hoverinfo": "text",
         "line": {
          "color": "cornflowerblue",
          "width": 0.27646659714813293
         },
         "mode": "lines",
         "text": "0.276",
         "type": "scatter",
         "x": [
          6,
          7,
          null
         ],
         "y": [
          0,
          1,
          null
         ]
        },
        {
         "hoverinfo": "text",
         "line": {
          "color": "cornflowerblue",
          "width": 0.2052505617805322
         },
         "mode": "lines",
         "text": "0.205",
         "type": "scatter",
         "x": [
          6,
          7,
          null
         ],
         "y": [
          0,
          2,
          null
         ]
        },
        {
         "hoverinfo": "text",
         "line": {
          "color": "cornflowerblue",
          "width": 0.19923052943580613
         },
         "mode": "lines",
         "text": "0.199",
         "type": "scatter",
         "x": [
          6,
          7,
          null
         ],
         "y": [
          0,
          3,
          null
         ]
        },
        {
         "hoverinfo": "text",
         "line": {
          "color": "cornflowerblue",
          "width": 0.16604113204742096
         },
         "mode": "lines",
         "text": "0.166",
         "type": "scatter",
         "x": [
          6,
          7,
          null
         ],
         "y": [
          0,
          4,
          null
         ]
        },
        {
         "hoverinfo": "text",
         "line": {
          "color": "cornflowerblue",
          "width": 0.15935557914421106
         },
         "mode": "lines",
         "text": "0.159",
         "type": "scatter",
         "x": [
          6,
          7,
          null
         ],
         "y": [
          0,
          5,
          null
         ]
        },
        {
         "hoverinfo": "text",
         "line": {
          "color": "cornflowerblue",
          "width": 0.16111778929910983
         },
         "mode": "lines",
         "text": "0.161",
         "type": "scatter",
         "x": [
          6,
          7,
          null
         ],
         "y": [
          0,
          6,
          null
         ]
        },
        {
         "hoverinfo": "text",
         "line": {
          "color": "cornflowerblue",
          "width": 0.1589377747299091
         },
         "mode": "lines",
         "text": "0.159",
         "type": "scatter",
         "x": [
          6,
          7,
          null
         ],
         "y": [
          0,
          7,
          null
         ]
        },
        {
         "hoverinfo": "text",
         "line": {
          "color": "cornflowerblue",
          "width": 0.15494617304646038
         },
         "mode": "lines",
         "text": "0.155",
         "type": "scatter",
         "x": [
          6,
          7,
          null
         ],
         "y": [
          0,
          8,
          null
         ]
        },
        {
         "hoverinfo": "text",
         "line": {
          "color": "cornflowerblue",
          "width": 0.19664485803674667
         },
         "mode": "lines",
         "text": "0.197",
         "type": "scatter",
         "x": [
          6,
          7,
          null
         ],
         "y": [
          1,
          0,
          null
         ]
        },
        {
         "hoverinfo": "text",
         "line": {
          "color": "cornflowerblue",
          "width": 0.20125985804022045
         },
         "mode": "lines",
         "text": "0.201",
         "type": "scatter",
         "x": [
          6,
          7,
          null
         ],
         "y": [
          1,
          1,
          null
         ]
        },
        {
         "hoverinfo": "text",
         "line": {
          "color": "cornflowerblue",
          "width": 0.20602067346567457
         },
         "mode": "lines",
         "text": "0.206",
         "type": "scatter",
         "x": [
          6,
          7,
          null
         ],
         "y": [
          1,
          2,
          null
         ]
        },
        {
         "hoverinfo": "text",
         "line": {
          "color": "cornflowerblue",
          "width": 0.5073306204196525
         },
         "mode": "lines",
         "text": "0.507",
         "type": "scatter",
         "x": [
          6,
          7,
          null
         ],
         "y": [
          1,
          3,
          null
         ]
        },
        {
         "hoverinfo": "text",
         "line": {
          "color": "cornflowerblue",
          "width": 0.15968964564437188
         },
         "mode": "lines",
         "text": "0.16",
         "type": "scatter",
         "x": [
          6,
          7,
          null
         ],
         "y": [
          1,
          4,
          null
         ]
        },
        {
         "hoverinfo": "text",
         "line": {
          "color": "cornflowerblue",
          "width": 0.15409418776534498
         },
         "mode": "lines",
         "text": "0.154",
         "type": "scatter",
         "x": [
          6,
          7,
          null
         ],
         "y": [
          1,
          5,
          null
         ]
        },
        {
         "hoverinfo": "text",
         "line": {
          "color": "cornflowerblue",
          "width": 0.15462188747110317
         },
         "mode": "lines",
         "text": "0.155",
         "type": "scatter",
         "x": [
          6,
          7,
          null
         ],
         "y": [
          1,
          6,
          null
         ]
        },
        {
         "hoverinfo": "text",
         "line": {
          "color": "cornflowerblue",
          "width": 0.15149810105536798
         },
         "mode": "lines",
         "text": "0.151",
         "type": "scatter",
         "x": [
          6,
          7,
          null
         ],
         "y": [
          1,
          7,
          null
         ]
        },
        {
         "hoverinfo": "text",
         "line": {
          "color": "cornflowerblue",
          "width": 0.15227184242132344
         },
         "mode": "lines",
         "text": "0.152",
         "type": "scatter",
         "x": [
          6,
          7,
          null
         ],
         "y": [
          1,
          8,
          null
         ]
        },
        {
         "hoverinfo": "text",
         "line": {
          "color": "cornflowerblue",
          "width": 0.1722041953136467
         },
         "mode": "lines",
         "text": "0.172",
         "type": "scatter",
         "x": [
          6,
          7,
          null
         ],
         "y": [
          2,
          0,
          null
         ]
        },
        {
         "hoverinfo": "text",
         "line": {
          "color": "cornflowerblue",
          "width": 0.18465780912085977
         },
         "mode": "lines",
         "text": "0.185",
         "type": "scatter",
         "x": [
          6,
          7,
          null
         ],
         "y": [
          2,
          1,
          null
         ]
        },
        {
         "hoverinfo": "text",
         "line": {
          "color": "cornflowerblue",
          "width": 0.18299800498471555
         },
         "mode": "lines",
         "text": "0.183",
         "type": "scatter",
         "x": [
          6,
          7,
          null
         ],
         "y": [
          2,
          2,
          null
         ]
        },
        {
         "hoverinfo": "text",
         "line": {
          "color": "cornflowerblue",
          "width": 0.21471656923521035
         },
         "mode": "lines",
         "text": "0.215",
         "type": "scatter",
         "x": [
          6,
          7,
          null
         ],
         "y": [
          2,
          3,
          null
         ]
        },
        {
         "hoverinfo": "text",
         "line": {
          "color": "cornflowerblue",
          "width": 0.16052595054617835
         },
         "mode": "lines",
         "text": "0.161",
         "type": "scatter",
         "x": [
          6,
          7,
          null
         ],
         "y": [
          2,
          4,
          null
         ]
        },
        {
         "hoverinfo": "text",
         "line": {
          "color": "cornflowerblue",
          "width": 0.16028563579082236
         },
         "mode": "lines",
         "text": "0.16",
         "type": "scatter",
         "x": [
          6,
          7,
          null
         ],
         "y": [
          2,
          5,
          null
         ]
        },
        {
         "hoverinfo": "text",
         "line": {
          "color": "cornflowerblue",
          "width": 0.1562242496161747
         },
         "mode": "lines",
         "text": "0.156",
         "type": "scatter",
         "x": [
          6,
          7,
          null
         ],
         "y": [
          2,
          6,
          null
         ]
        },
        {
         "hoverinfo": "text",
         "line": {
          "color": "cornflowerblue",
          "width": 0.1579656881526921
         },
         "mode": "lines",
         "text": "0.158",
         "type": "scatter",
         "x": [
          6,
          7,
          null
         ],
         "y": [
          2,
          7,
          null
         ]
        },
        {
         "hoverinfo": "text",
         "line": {
          "color": "cornflowerblue",
          "width": 0.1535896349704018
         },
         "mode": "lines",
         "text": "0.154",
         "type": "scatter",
         "x": [
          6,
          7,
          null
         ],
         "y": [
          2,
          8,
          null
         ]
        },
        {
         "hoverinfo": "text",
         "line": {
          "color": "cornflowerblue",
          "width": 0.24142624918452577
         },
         "mode": "lines",
         "text": "0.241",
         "type": "scatter",
         "x": [
          6,
          7,
          null
         ],
         "y": [
          3,
          0,
          null
         ]
        },
        {
         "hoverinfo": "text",
         "line": {
          "color": "cornflowerblue",
          "width": 0.19345702527076067
         },
         "mode": "lines",
         "text": "0.193",
         "type": "scatter",
         "x": [
          6,
          7,
          null
         ],
         "y": [
          3,
          1,
          null
         ]
        },
        {
         "hoverinfo": "text",
         "line": {
          "color": "cornflowerblue",
          "width": 0.30041864899515763
         },
         "mode": "lines",
         "text": "0.3",
         "type": "scatter",
         "x": [
          6,
          7,
          null
         ],
         "y": [
          3,
          2,
          null
         ]
        },
        {
         "hoverinfo": "text",
         "line": {
          "color": "cornflowerblue",
          "width": 0.21082871297522407
         },
         "mode": "lines",
         "text": "0.211",
         "type": "scatter",
         "x": [
          6,
          7,
          null
         ],
         "y": [
          3,
          3,
          null
         ]
        },
        {
         "hoverinfo": "text",
         "line": {
          "color": "cornflowerblue",
          "width": 0.16485230159644979
         },
         "mode": "lines",
         "text": "0.165",
         "type": "scatter",
         "x": [
          6,
          7,
          null
         ],
         "y": [
          3,
          4,
          null
         ]
        },
        {
         "hoverinfo": "text",
         "line": {
          "color": "cornflowerblue",
          "width": 0.1546462969202184
         },
         "mode": "lines",
         "text": "0.155",
         "type": "scatter",
         "x": [
          6,
          7,
          null
         ],
         "y": [
          3,
          5,
          null
         ]
        },
        {
         "hoverinfo": "text",
         "line": {
          "color": "cornflowerblue",
          "width": 0.15672937140808954
         },
         "mode": "lines",
         "text": "0.157",
         "type": "scatter",
         "x": [
          6,
          7,
          null
         ],
         "y": [
          3,
          6,
          null
         ]
        },
        {
         "hoverinfo": "text",
         "line": {
          "color": "cornflowerblue",
          "width": 0.15390377854305554
         },
         "mode": "lines",
         "text": "0.154",
         "type": "scatter",
         "x": [
          6,
          7,
          null
         ],
         "y": [
          3,
          7,
          null
         ]
        },
        {
         "hoverinfo": "text",
         "line": {
          "color": "cornflowerblue",
          "width": 0.1524995830552785
         },
         "mode": "lines",
         "text": "0.152",
         "type": "scatter",
         "x": [
          6,
          7,
          null
         ],
         "y": [
          3,
          8,
          null
         ]
        },
        {
         "hoverinfo": "text",
         "line": {
          "color": "cornflowerblue",
          "width": 0.1565722433580294
         },
         "mode": "lines",
         "text": "0.157",
         "type": "scatter",
         "x": [
          6,
          7,
          null
         ],
         "y": [
          4,
          0,
          null
         ]
        },
        {
         "hoverinfo": "text",
         "line": {
          "color": "cornflowerblue",
          "width": 0.15697295993402308
         },
         "mode": "lines",
         "text": "0.157",
         "type": "scatter",
         "x": [
          6,
          7,
          null
         ],
         "y": [
          4,
          1,
          null
         ]
        },
        {
         "hoverinfo": "text",
         "line": {
          "color": "cornflowerblue",
          "width": 0.1543999308836897
         },
         "mode": "lines",
         "text": "0.154",
         "type": "scatter",
         "x": [
          6,
          7,
          null
         ],
         "y": [
          4,
          2,
          null
         ]
        },
        {
         "hoverinfo": "text",
         "line": {
          "color": "cornflowerblue",
          "width": 0.15647939733192176
         },
         "mode": "lines",
         "text": "0.156",
         "type": "scatter",
         "x": [
          6,
          7,
          null
         ],
         "y": [
          4,
          3,
          null
         ]
        },
        {
         "hoverinfo": "text",
         "line": {
          "color": "cornflowerblue",
          "width": 0.15619235095699754
         },
         "mode": "lines",
         "text": "0.156",
         "type": "scatter",
         "x": [
          6,
          7,
          null
         ],
         "y": [
          4,
          4,
          null
         ]
        },
        {
         "hoverinfo": "text",
         "line": {
          "color": "cornflowerblue",
          "width": 0.15296882312642884
         },
         "mode": "lines",
         "text": "0.153",
         "type": "scatter",
         "x": [
          6,
          7,
          null
         ],
         "y": [
          4,
          5,
          null
         ]
        },
        {
         "hoverinfo": "text",
         "line": {
          "color": "cornflowerblue",
          "width": 0.15545454960811939
         },
         "mode": "lines",
         "text": "0.155",
         "type": "scatter",
         "x": [
          6,
          7,
          null
         ],
         "y": [
          4,
          6,
          null
         ]
        },
        {
         "hoverinfo": "text",
         "line": {
          "color": "cornflowerblue",
          "width": 0.1513308946697156
         },
         "mode": "lines",
         "text": "0.151",
         "type": "scatter",
         "x": [
          6,
          7,
          null
         ],
         "y": [
          4,
          7,
          null
         ]
        },
        {
         "hoverinfo": "text",
         "line": {
          "color": "cornflowerblue",
          "width": 0.15813401356578874
         },
         "mode": "lines",
         "text": "0.158",
         "type": "scatter",
         "x": [
          6,
          7,
          null
         ],
         "y": [
          4,
          8,
          null
         ]
        },
        {
         "hoverinfo": "text",
         "line": {
          "color": "cornflowerblue",
          "width": 0.15638473107728473
         },
         "mode": "lines",
         "text": "0.156",
         "type": "scatter",
         "x": [
          6,
          7,
          null
         ],
         "y": [
          5,
          0,
          null
         ]
        },
        {
         "hoverinfo": "text",
         "line": {
          "color": "cornflowerblue",
          "width": 0.15975427712875304
         },
         "mode": "lines",
         "text": "0.16",
         "type": "scatter",
         "x": [
          6,
          7,
          null
         ],
         "y": [
          5,
          1,
          null
         ]
        },
        {
         "hoverinfo": "text",
         "line": {
          "color": "cornflowerblue",
          "width": 0.1636218090854092
         },
         "mode": "lines",
         "text": "0.164",
         "type": "scatter",
         "x": [
          6,
          7,
          null
         ],
         "y": [
          5,
          2,
          null
         ]
        },
        {
         "hoverinfo": "text",
         "line": {
          "color": "cornflowerblue",
          "width": 0.16339111391940742
         },
         "mode": "lines",
         "text": "0.163",
         "type": "scatter",
         "x": [
          6,
          7,
          null
         ],
         "y": [
          5,
          3,
          null
         ]
        },
        {
         "hoverinfo": "text",
         "line": {
          "color": "cornflowerblue",
          "width": 0.154628045512483
         },
         "mode": "lines",
         "text": "0.155",
         "type": "scatter",
         "x": [
          6,
          7,
          null
         ],
         "y": [
          5,
          4,
          null
         ]
        },
        {
         "hoverinfo": "text",
         "line": {
          "color": "cornflowerblue",
          "width": 0.15623637482556357
         },
         "mode": "lines",
         "text": "0.156",
         "type": "scatter",
         "x": [
          6,
          7,
          null
         ],
         "y": [
          5,
          5,
          null
         ]
        },
        {
         "hoverinfo": "text",
         "line": {
          "color": "cornflowerblue",
          "width": 0.15227864104004468
         },
         "mode": "lines",
         "text": "0.152",
         "type": "scatter",
         "x": [
          6,
          7,
          null
         ],
         "y": [
          5,
          6,
          null
         ]
        },
        {
         "hoverinfo": "text",
         "line": {
          "color": "cornflowerblue",
          "width": 0.15021779715717534
         },
         "mode": "lines",
         "text": "0.15",
         "type": "scatter",
         "x": [
          6,
          7,
          null
         ],
         "y": [
          5,
          7,
          null
         ]
        },
        {
         "hoverinfo": "text",
         "line": {
          "color": "cornflowerblue",
          "width": 0.15068358878110302
         },
         "mode": "lines",
         "text": "0.151",
         "type": "scatter",
         "x": [
          6,
          7,
          null
         ],
         "y": [
          5,
          8,
          null
         ]
        },
        {
         "hoverinfo": "text",
         "line": {
          "color": "cornflowerblue",
          "width": 0.15683812006304038
         },
         "mode": "lines",
         "text": "0.157",
         "type": "scatter",
         "x": [
          6,
          7,
          null
         ],
         "y": [
          6,
          0,
          null
         ]
        },
        {
         "hoverinfo": "text",
         "line": {
          "color": "cornflowerblue",
          "width": 0.15751067973097763
         },
         "mode": "lines",
         "text": "0.158",
         "type": "scatter",
         "x": [
          6,
          7,
          null
         ],
         "y": [
          6,
          1,
          null
         ]
        },
        {
         "hoverinfo": "text",
         "line": {
          "color": "cornflowerblue",
          "width": 0.15797419926258308
         },
         "mode": "lines",
         "text": "0.158",
         "type": "scatter",
         "x": [
          6,
          7,
          null
         ],
         "y": [
          6,
          2,
          null
         ]
        },
        {
         "hoverinfo": "text",
         "line": {
          "color": "cornflowerblue",
          "width": 0.15676734606600928
         },
         "mode": "lines",
         "text": "0.157",
         "type": "scatter",
         "x": [
          6,
          7,
          null
         ],
         "y": [
          6,
          3,
          null
         ]
        },
        {
         "hoverinfo": "text",
         "line": {
          "color": "cornflowerblue",
          "width": 0.15508841155782596
         },
         "mode": "lines",
         "text": "0.155",
         "type": "scatter",
         "x": [
          6,
          7,
          null
         ],
         "y": [
          6,
          4,
          null
         ]
        },
        {
         "hoverinfo": "text",
         "line": {
          "color": "cornflowerblue",
          "width": 0.16791534331887
         },
         "mode": "lines",
         "text": "0.168",
         "type": "scatter",
         "x": [
          6,
          7,
          null
         ],
         "y": [
          6,
          5,
          null
         ]
        },
        {
         "hoverinfo": "text",
         "line": {
          "color": "cornflowerblue",
          "width": 0.15241332144867256
         },
         "mode": "lines",
         "text": "0.152",
         "type": "scatter",
         "x": [
          6,
          7,
          null
         ],
         "y": [
          6,
          6,
          null
         ]
        },
        {
         "hoverinfo": "text",
         "line": {
          "color": "cornflowerblue",
          "width": 0.1494778781040215
         },
         "mode": "lines",
         "text": "0.149",
         "type": "scatter",
         "x": [
          6,
          7,
          null
         ],
         "y": [
          6,
          7,
          null
         ]
        },
        {
         "hoverinfo": "text",
         "line": {
          "color": "cornflowerblue",
          "width": 0.14936121899082114
         },
         "mode": "lines",
         "text": "0.149",
         "type": "scatter",
         "x": [
          6,
          7,
          null
         ],
         "y": [
          6,
          8,
          null
         ]
        },
        {
         "hoverinfo": "text",
         "line": {
          "color": "cornflowerblue",
          "width": 0.19290755545880353
         },
         "mode": "lines",
         "text": "0.193",
         "type": "scatter",
         "x": [
          7,
          8,
          null
         ],
         "y": [
          0,
          0,
          null
         ]
        },
        {
         "hoverinfo": "text",
         "line": {
          "color": "cornflowerblue",
          "width": 0.37441508759995473
         },
         "mode": "lines",
         "text": "0.374",
         "type": "scatter",
         "x": [
          7,
          8,
          null
         ],
         "y": [
          0,
          1,
          null
         ]
        },
        {
         "hoverinfo": "text",
         "line": {
          "color": "cornflowerblue",
          "width": 0.17573271338084262
         },
         "mode": "lines",
         "text": "0.176",
         "type": "scatter",
         "x": [
          7,
          8,
          null
         ],
         "y": [
          0,
          2,
          null
         ]
        },
        {
         "hoverinfo": "text",
         "line": {
          "color": "cornflowerblue",
          "width": 0.1833033485917732
         },
         "mode": "lines",
         "text": "0.183",
         "type": "scatter",
         "x": [
          7,
          8,
          null
         ],
         "y": [
          0,
          3,
          null
         ]
        },
        {
         "hoverinfo": "text",
         "line": {
          "color": "cornflowerblue",
          "width": 0.20587140557232125
         },
         "mode": "lines",
         "text": "0.206",
         "type": "scatter",
         "x": [
          7,
          8,
          null
         ],
         "y": [
          0,
          4,
          null
         ]
        },
        {
         "hoverinfo": "text",
         "line": {
          "color": "cornflowerblue",
          "width": 0.15890090583499375
         },
         "mode": "lines",
         "text": "0.159",
         "type": "scatter",
         "x": [
          7,
          8,
          null
         ],
         "y": [
          0,
          5,
          null
         ]
        },
        {
         "hoverinfo": "text",
         "line": {
          "color": "cornflowerblue",
          "width": 0.19356485292766223
         },
         "mode": "lines",
         "text": "0.194",
         "type": "scatter",
         "x": [
          7,
          8,
          null
         ],
         "y": [
          1,
          0,
          null
         ]
        },
        {
         "hoverinfo": "text",
         "line": {
          "color": "cornflowerblue",
          "width": 0.1922873053594016
         },
         "mode": "lines",
         "text": "0.192",
         "type": "scatter",
         "x": [
          7,
          8,
          null
         ],
         "y": [
          1,
          1,
          null
         ]
        },
        {
         "hoverinfo": "text",
         "line": {
          "color": "cornflowerblue",
          "width": 0.20481425073233567
         },
         "mode": "lines",
         "text": "0.205",
         "type": "scatter",
         "x": [
          7,
          8,
          null
         ],
         "y": [
          1,
          2,
          null
         ]
        },
        {
         "hoverinfo": "text",
         "line": {
          "color": "cornflowerblue",
          "width": 0.1996406257941621
         },
         "mode": "lines",
         "text": "0.2",
         "type": "scatter",
         "x": [
          7,
          8,
          null
         ],
         "y": [
          1,
          3,
          null
         ]
        },
        {
         "hoverinfo": "text",
         "line": {
          "color": "cornflowerblue",
          "width": 0.24374200052817238
         },
         "mode": "lines",
         "text": "0.244",
         "type": "scatter",
         "x": [
          7,
          8,
          null
         ],
         "y": [
          1,
          4,
          null
         ]
        },
        {
         "hoverinfo": "text",
         "line": {
          "color": "cornflowerblue",
          "width": 0.1523501643468758
         },
         "mode": "lines",
         "text": "0.152",
         "type": "scatter",
         "x": [
          7,
          8,
          null
         ],
         "y": [
          1,
          5,
          null
         ]
        },
        {
         "hoverinfo": "text",
         "line": {
          "color": "cornflowerblue",
          "width": 0.1981803714980415
         },
         "mode": "lines",
         "text": "0.198",
         "type": "scatter",
         "x": [
          7,
          8,
          null
         ],
         "y": [
          2,
          0,
          null
         ]
        },
        {
         "hoverinfo": "text",
         "line": {
          "color": "cornflowerblue",
          "width": 0.1859360080448177
         },
         "mode": "lines",
         "text": "0.186",
         "type": "scatter",
         "x": [
          7,
          8,
          null
         ],
         "y": [
          2,
          1,
          null
         ]
        },
        {
         "hoverinfo": "text",
         "line": {
          "color": "cornflowerblue",
          "width": 0.17891756886023574
         },
         "mode": "lines",
         "text": "0.179",
         "type": "scatter",
         "x": [
          7,
          8,
          null
         ],
         "y": [
          2,
          2,
          null
         ]
        },
        {
         "hoverinfo": "text",
         "line": {
          "color": "cornflowerblue",
          "width": 0.3174484721628571
         },
         "mode": "lines",
         "text": "0.317",
         "type": "scatter",
         "x": [
          7,
          8,
          null
         ],
         "y": [
          2,
          3,
          null
         ]
        },
        {
         "hoverinfo": "text",
         "line": {
          "color": "cornflowerblue",
          "width": 0.2283700413021392
         },
         "mode": "lines",
         "text": "0.228",
         "type": "scatter",
         "x": [
          7,
          8,
          null
         ],
         "y": [
          2,
          4,
          null
         ]
        },
        {
         "hoverinfo": "text",
         "line": {
          "color": "cornflowerblue",
          "width": 0.1515320744025594
         },
         "mode": "lines",
         "text": "0.152",
         "type": "scatter",
         "x": [
          7,
          8,
          null
         ],
         "y": [
          2,
          5,
          null
         ]
        },
        {
         "hoverinfo": "text",
         "line": {
          "color": "cornflowerblue",
          "width": 0.5225025021468387
         },
         "mode": "lines",
         "text": "0.523",
         "type": "scatter",
         "x": [
          7,
          8,
          null
         ],
         "y": [
          3,
          0,
          null
         ]
        },
        {
         "hoverinfo": "text",
         "line": {
          "color": "cornflowerblue",
          "width": 0.1885962987758533
         },
         "mode": "lines",
         "text": "0.189",
         "type": "scatter",
         "x": [
          7,
          8,
          null
         ],
         "y": [
          3,
          1,
          null
         ]
        },
        {
         "hoverinfo": "text",
         "line": {
          "color": "cornflowerblue",
          "width": 0.18389125475431098
         },
         "mode": "lines",
         "text": "0.184",
         "type": "scatter",
         "x": [
          7,
          8,
          null
         ],
         "y": [
          3,
          2,
          null
         ]
        },
        {
         "hoverinfo": "text",
         "line": {
          "color": "cornflowerblue",
          "width": 0.1944240133701018
         },
         "mode": "lines",
         "text": "0.194",
         "type": "scatter",
         "x": [
          7,
          8,
          null
         ],
         "y": [
          3,
          3,
          null
         ]
        },
        {
         "hoverinfo": "text",
         "line": {
          "color": "cornflowerblue",
          "width": 0.2280130633669096
         },
         "mode": "lines",
         "text": "0.228",
         "type": "scatter",
         "x": [
          7,
          8,
          null
         ],
         "y": [
          3,
          4,
          null
         ]
        },
        {
         "hoverinfo": "text",
         "line": {
          "color": "cornflowerblue",
          "width": 0.1524227253984201
         },
         "mode": "lines",
         "text": "0.152",
         "type": "scatter",
         "x": [
          7,
          8,
          null
         ],
         "y": [
          3,
          5,
          null
         ]
        },
        {
         "hoverinfo": "text",
         "line": {
          "color": "cornflowerblue",
          "width": 0.15904899444865553
         },
         "mode": "lines",
         "text": "0.159",
         "type": "scatter",
         "x": [
          7,
          8,
          null
         ],
         "y": [
          4,
          0,
          null
         ]
        },
        {
         "hoverinfo": "text",
         "line": {
          "color": "cornflowerblue",
          "width": 0.16161371319935466
         },
         "mode": "lines",
         "text": "0.162",
         "type": "scatter",
         "x": [
          7,
          8,
          null
         ],
         "y": [
          4,
          1,
          null
         ]
        },
        {
         "hoverinfo": "text",
         "line": {
          "color": "cornflowerblue",
          "width": 0.16124096480702527
         },
         "mode": "lines",
         "text": "0.161",
         "type": "scatter",
         "x": [
          7,
          8,
          null
         ],
         "y": [
          4,
          2,
          null
         ]
        },
        {
         "hoverinfo": "text",
         "line": {
          "color": "cornflowerblue",
          "width": 0.1638521245713657
         },
         "mode": "lines",
         "text": "0.164",
         "type": "scatter",
         "x": [
          7,
          8,
          null
         ],
         "y": [
          4,
          3,
          null
         ]
        },
        {
         "hoverinfo": "text",
         "line": {
          "color": "cornflowerblue",
          "width": 0.16934096514035035
         },
         "mode": "lines",
         "text": "0.169",
         "type": "scatter",
         "x": [
          7,
          8,
          null
         ],
         "y": [
          4,
          4,
          null
         ]
        },
        {
         "hoverinfo": "text",
         "line": {
          "color": "cornflowerblue",
          "width": 0.1528760547286694
         },
         "mode": "lines",
         "text": "0.153",
         "type": "scatter",
         "x": [
          7,
          8,
          null
         ],
         "y": [
          4,
          5,
          null
         ]
        },
        {
         "hoverinfo": "text",
         "line": {
          "color": "cornflowerblue",
          "width": 0.15598434276763049
         },
         "mode": "lines",
         "text": "0.156",
         "type": "scatter",
         "x": [
          7,
          8,
          null
         ],
         "y": [
          5,
          0,
          null
         ]
        },
        {
         "hoverinfo": "text",
         "line": {
          "color": "cornflowerblue",
          "width": 0.15618877494766684
         },
         "mode": "lines",
         "text": "0.156",
         "type": "scatter",
         "x": [
          7,
          8,
          null
         ],
         "y": [
          5,
          1,
          null
         ]
        },
        {
         "hoverinfo": "text",
         "line": {
          "color": "cornflowerblue",
          "width": 0.15283160665127277
         },
         "mode": "lines",
         "text": "0.153",
         "type": "scatter",
         "x": [
          7,
          8,
          null
         ],
         "y": [
          5,
          2,
          null
         ]
        },
        {
         "hoverinfo": "text",
         "line": {
          "color": "cornflowerblue",
          "width": 0.15496591404850868
         },
         "mode": "lines",
         "text": "0.155",
         "type": "scatter",
         "x": [
          7,
          8,
          null
         ],
         "y": [
          5,
          3,
          null
         ]
        },
        {
         "hoverinfo": "text",
         "line": {
          "color": "cornflowerblue",
          "width": 0.15783979781634622
         },
         "mode": "lines",
         "text": "0.158",
         "type": "scatter",
         "x": [
          7,
          8,
          null
         ],
         "y": [
          5,
          4,
          null
         ]
        },
        {
         "hoverinfo": "text",
         "line": {
          "color": "cornflowerblue",
          "width": 0.14699408277663403
         },
         "mode": "lines",
         "text": "0.147",
         "type": "scatter",
         "x": [
          7,
          8,
          null
         ],
         "y": [
          5,
          5,
          null
         ]
        },
        {
         "hoverinfo": "text",
         "line": {
          "color": "cornflowerblue",
          "width": 0.15413189006419814
         },
         "mode": "lines",
         "text": "0.154",
         "type": "scatter",
         "x": [
          7,
          8,
          null
         ],
         "y": [
          6,
          0,
          null
         ]
        },
        {
         "hoverinfo": "text",
         "line": {
          "color": "cornflowerblue",
          "width": 0.15663443295905338
         },
         "mode": "lines",
         "text": "0.157",
         "type": "scatter",
         "x": [
          7,
          8,
          null
         ],
         "y": [
          6,
          1,
          null
         ]
        },
        {
         "hoverinfo": "text",
         "line": {
          "color": "cornflowerblue",
          "width": 0.15738292486266123
         },
         "mode": "lines",
         "text": "0.157",
         "type": "scatter",
         "x": [
          7,
          8,
          null
         ],
         "y": [
          6,
          2,
          null
         ]
        },
        {
         "hoverinfo": "text",
         "line": {
          "color": "cornflowerblue",
          "width": 0.15696144996448388
         },
         "mode": "lines",
         "text": "0.157",
         "type": "scatter",
         "x": [
          7,
          8,
          null
         ],
         "y": [
          6,
          3,
          null
         ]
        },
        {
         "hoverinfo": "text",
         "line": {
          "color": "cornflowerblue",
          "width": 0.15981394572394364
         },
         "mode": "lines",
         "text": "0.16",
         "type": "scatter",
         "x": [
          7,
          8,
          null
         ],
         "y": [
          6,
          4,
          null
         ]
        },
        {
         "hoverinfo": "text",
         "line": {
          "color": "cornflowerblue",
          "width": 0.15116213650740584
         },
         "mode": "lines",
         "text": "0.151",
         "type": "scatter",
         "x": [
          7,
          8,
          null
         ],
         "y": [
          6,
          5,
          null
         ]
        },
        {
         "hoverinfo": "text",
         "line": {
          "color": "cornflowerblue",
          "width": 0.15151602863100633
         },
         "mode": "lines",
         "text": "0.152",
         "type": "scatter",
         "x": [
          7,
          8,
          null
         ],
         "y": [
          7,
          0,
          null
         ]
        },
        {
         "hoverinfo": "text",
         "line": {
          "color": "cornflowerblue",
          "width": 0.15443055548066287
         },
         "mode": "lines",
         "text": "0.154",
         "type": "scatter",
         "x": [
          7,
          8,
          null
         ],
         "y": [
          7,
          1,
          null
         ]
        },
        {
         "hoverinfo": "text",
         "line": {
          "color": "cornflowerblue",
          "width": 0.15305592193246417
         },
         "mode": "lines",
         "text": "0.153",
         "type": "scatter",
         "x": [
          7,
          8,
          null
         ],
         "y": [
          7,
          2,
          null
         ]
        },
        {
         "hoverinfo": "text",
         "line": {
          "color": "cornflowerblue",
          "width": 0.15647456152918576
         },
         "mode": "lines",
         "text": "0.156",
         "type": "scatter",
         "x": [
          7,
          8,
          null
         ],
         "y": [
          7,
          3,
          null
         ]
        },
        {
         "hoverinfo": "text",
         "line": {
          "color": "cornflowerblue",
          "width": 0.1577428716366111
         },
         "mode": "lines",
         "text": "0.158",
         "type": "scatter",
         "x": [
          7,
          8,
          null
         ],
         "y": [
          7,
          4,
          null
         ]
        },
        {
         "hoverinfo": "text",
         "line": {
          "color": "cornflowerblue",
          "width": 0.1474690014975275
         },
         "mode": "lines",
         "text": "0.147",
         "type": "scatter",
         "x": [
          7,
          8,
          null
         ],
         "y": [
          7,
          5,
          null
         ]
        },
        {
         "hoverinfo": "text",
         "line": {
          "color": "cornflowerblue",
          "width": 0.1524979415746423
         },
         "mode": "lines",
         "text": "0.152",
         "type": "scatter",
         "x": [
          7,
          8,
          null
         ],
         "y": [
          8,
          0,
          null
         ]
        },
        {
         "hoverinfo": "text",
         "line": {
          "color": "cornflowerblue",
          "width": 0.1515114350610908
         },
         "mode": "lines",
         "text": "0.152",
         "type": "scatter",
         "x": [
          7,
          8,
          null
         ],
         "y": [
          8,
          1,
          null
         ]
        },
        {
         "hoverinfo": "text",
         "line": {
          "color": "cornflowerblue",
          "width": 0.15277452972657551
         },
         "mode": "lines",
         "text": "0.153",
         "type": "scatter",
         "x": [
          7,
          8,
          null
         ],
         "y": [
          8,
          2,
          null
         ]
        },
        {
         "hoverinfo": "text",
         "line": {
          "color": "cornflowerblue",
          "width": 0.15230739778709984
         },
         "mode": "lines",
         "text": "0.152",
         "type": "scatter",
         "x": [
          7,
          8,
          null
         ],
         "y": [
          8,
          3,
          null
         ]
        },
        {
         "hoverinfo": "text",
         "line": {
          "color": "cornflowerblue",
          "width": 0.15576880007285437
         },
         "mode": "lines",
         "text": "0.156",
         "type": "scatter",
         "x": [
          7,
          8,
          null
         ],
         "y": [
          8,
          4,
          null
         ]
        },
        {
         "hoverinfo": "text",
         "line": {
          "color": "cornflowerblue",
          "width": 0.15823964021339895
         },
         "mode": "lines",
         "text": "0.158",
         "type": "scatter",
         "x": [
          7,
          8,
          null
         ],
         "y": [
          8,
          5,
          null
         ]
        },
        {
         "hoverinfo": "text",
         "line": {
          "color": "cornflowerblue",
          "width": 0.18622209996446595
         },
         "mode": "lines",
         "text": "0.186",
         "type": "scatter",
         "x": [
          8,
          9,
          null
         ],
         "y": [
          0,
          0,
          null
         ]
        },
        {
         "hoverinfo": "text",
         "line": {
          "color": "cornflowerblue",
          "width": 0.1974821608892934
         },
         "mode": "lines",
         "text": "0.197",
         "type": "scatter",
         "x": [
          8,
          9,
          null
         ],
         "y": [
          0,
          1,
          null
         ]
        },
        {
         "hoverinfo": "text",
         "line": {
          "color": "cornflowerblue",
          "width": 0.1769771844073182
         },
         "mode": "lines",
         "text": "0.177",
         "type": "scatter",
         "x": [
          8,
          9,
          null
         ],
         "y": [
          0,
          2,
          null
         ]
        },
        {
         "hoverinfo": "text",
         "line": {
          "color": "cornflowerblue",
          "width": 0.18808327099054845
         },
         "mode": "lines",
         "text": "0.188",
         "type": "scatter",
         "x": [
          8,
          9,
          null
         ],
         "y": [
          0,
          3,
          null
         ]
        },
        {
         "hoverinfo": "text",
         "line": {
          "color": "cornflowerblue",
          "width": 0.48958348337199387
         },
         "mode": "lines",
         "text": "0.49",
         "type": "scatter",
         "x": [
          8,
          9,
          null
         ],
         "y": [
          0,
          4,
          null
         ]
        },
        {
         "hoverinfo": "text",
         "line": {
          "color": "cornflowerblue",
          "width": 0.1640078247228128
         },
         "mode": "lines",
         "text": "0.164",
         "type": "scatter",
         "x": [
          8,
          9,
          null
         ],
         "y": [
          0,
          5,
          null
         ]
        },
        {
         "hoverinfo": "text",
         "line": {
          "color": "cornflowerblue",
          "width": 0.15087264761434965
         },
         "mode": "lines",
         "text": "0.151",
         "type": "scatter",
         "x": [
          8,
          9,
          null
         ],
         "y": [
          0,
          6,
          null
         ]
        },
        {
         "hoverinfo": "text",
         "line": {
          "color": "cornflowerblue",
          "width": 0.29144496537267794
         },
         "mode": "lines",
         "text": "0.291",
         "type": "scatter",
         "x": [
          8,
          9,
          null
         ],
         "y": [
          1,
          0,
          null
         ]
        },
        {
         "hoverinfo": "text",
         "line": {
          "color": "cornflowerblue",
          "width": 0.1897213082562112
         },
         "mode": "lines",
         "text": "0.19",
         "type": "scatter",
         "x": [
          8,
          9,
          null
         ],
         "y": [
          1,
          1,
          null
         ]
        },
        {
         "hoverinfo": "text",
         "line": {
          "color": "cornflowerblue",
          "width": 0.17915677503800762
         },
         "mode": "lines",
         "text": "0.179",
         "type": "scatter",
         "x": [
          8,
          9,
          null
         ],
         "y": [
          1,
          2,
          null
         ]
        },
        {
         "hoverinfo": "text",
         "line": {
          "color": "cornflowerblue",
          "width": 0.17624636825552217
         },
         "mode": "lines",
         "text": "0.176",
         "type": "scatter",
         "x": [
          8,
          9,
          null
         ],
         "y": [
          1,
          3,
          null
         ]
        },
        {
         "hoverinfo": "text",
         "line": {
          "color": "cornflowerblue",
          "width": 0.19078969474024188
         },
         "mode": "lines",
         "text": "0.191",
         "type": "scatter",
         "x": [
          8,
          9,
          null
         ],
         "y": [
          1,
          4,
          null
         ]
        },
        {
         "hoverinfo": "text",
         "line": {
          "color": "cornflowerblue",
          "width": 0.1665302925130821
         },
         "mode": "lines",
         "text": "0.167",
         "type": "scatter",
         "x": [
          8,
          9,
          null
         ],
         "y": [
          1,
          5,
          null
         ]
        },
        {
         "hoverinfo": "text",
         "line": {
          "color": "cornflowerblue",
          "width": 0.15343341389089132
         },
         "mode": "lines",
         "text": "0.153",
         "type": "scatter",
         "x": [
          8,
          9,
          null
         ],
         "y": [
          1,
          6,
          null
         ]
        },
        {
         "hoverinfo": "text",
         "line": {
          "color": "cornflowerblue",
          "width": 0.20251038250892792
         },
         "mode": "lines",
         "text": "0.203",
         "type": "scatter",
         "x": [
          8,
          9,
          null
         ],
         "y": [
          2,
          0,
          null
         ]
        },
        {
         "hoverinfo": "text",
         "line": {
          "color": "cornflowerblue",
          "width": 0.17999485209573354
         },
         "mode": "lines",
         "text": "0.18",
         "type": "scatter",
         "x": [
          8,
          9,
          null
         ],
         "y": [
          2,
          1,
          null
         ]
        },
        {
         "hoverinfo": "text",
         "line": {
          "color": "cornflowerblue",
          "width": 0.1772905455124219
         },
         "mode": "lines",
         "text": "0.177",
         "type": "scatter",
         "x": [
          8,
          9,
          null
         ],
         "y": [
          2,
          2,
          null
         ]
        },
        {
         "hoverinfo": "text",
         "line": {
          "color": "cornflowerblue",
          "width": 0.17276452052609945
         },
         "mode": "lines",
         "text": "0.173",
         "type": "scatter",
         "x": [
          8,
          9,
          null
         ],
         "y": [
          2,
          3,
          null
         ]
        },
        {
         "hoverinfo": "text",
         "line": {
          "color": "cornflowerblue",
          "width": 0.18191458066334468
         },
         "mode": "lines",
         "text": "0.182",
         "type": "scatter",
         "x": [
          8,
          9,
          null
         ],
         "y": [
          2,
          4,
          null
         ]
        },
        {
         "hoverinfo": "text",
         "line": {
          "color": "cornflowerblue",
          "width": 0.16413729550748554
         },
         "mode": "lines",
         "text": "0.164",
         "type": "scatter",
         "x": [
          8,
          9,
          null
         ],
         "y": [
          2,
          5,
          null
         ]
        },
        {
         "hoverinfo": "text",
         "line": {
          "color": "cornflowerblue",
          "width": 0.151957352407828
         },
         "mode": "lines",
         "text": "0.152",
         "type": "scatter",
         "x": [
          8,
          9,
          null
         ],
         "y": [
          2,
          6,
          null
         ]
        },
        {
         "hoverinfo": "text",
         "line": {
          "color": "cornflowerblue",
          "width": 0.18406976765813027
         },
         "mode": "lines",
         "text": "0.184",
         "type": "scatter",
         "x": [
          8,
          9,
          null
         ],
         "y": [
          3,
          0,
          null
         ]
        },
        {
         "hoverinfo": "text",
         "line": {
          "color": "cornflowerblue",
          "width": 0.34209173657580993
         },
         "mode": "lines",
         "text": "0.342",
         "type": "scatter",
         "x": [
          8,
          9,
          null
         ],
         "y": [
          3,
          1,
          null
         ]
        },
        {
         "hoverinfo": "text",
         "line": {
          "color": "cornflowerblue",
          "width": 0.19282503180984048
         },
         "mode": "lines",
         "text": "0.193",
         "type": "scatter",
         "x": [
          8,
          9,
          null
         ],
         "y": [
          3,
          2,
          null
         ]
        },
        {
         "hoverinfo": "text",
         "line": {
          "color": "cornflowerblue",
          "width": 0.17857986930283706
         },
         "mode": "lines",
         "text": "0.179",
         "type": "scatter",
         "x": [
          8,
          9,
          null
         ],
         "y": [
          3,
          3,
          null
         ]
        },
        {
         "hoverinfo": "text",
         "line": {
          "color": "cornflowerblue",
          "width": 0.19828554228285944
         },
         "mode": "lines",
         "text": "0.198",
         "type": "scatter",
         "x": [
          8,
          9,
          null
         ],
         "y": [
          3,
          4,
          null
         ]
        },
        {
         "hoverinfo": "text",
         "line": {
          "color": "cornflowerblue",
          "width": 0.16597937791239636
         },
         "mode": "lines",
         "text": "0.166",
         "type": "scatter",
         "x": [
          8,
          9,
          null
         ],
         "y": [
          3,
          5,
          null
         ]
        },
        {
         "hoverinfo": "text",
         "line": {
          "color": "cornflowerblue",
          "width": 0.15179437925790595
         },
         "mode": "lines",
         "text": "0.152",
         "type": "scatter",
         "x": [
          8,
          9,
          null
         ],
         "y": [
          3,
          6,
          null
         ]
        },
        {
         "hoverinfo": "text",
         "line": {
          "color": "cornflowerblue",
          "width": 0.20329976999147084
         },
         "mode": "lines",
         "text": "0.203",
         "type": "scatter",
         "x": [
          8,
          9,
          null
         ],
         "y": [
          4,
          0,
          null
         ]
        },
        {
         "hoverinfo": "text",
         "line": {
          "color": "cornflowerblue",
          "width": 0.22509585152146053
         },
         "mode": "lines",
         "text": "0.225",
         "type": "scatter",
         "x": [
          8,
          9,
          null
         ],
         "y": [
          4,
          1,
          null
         ]
        },
        {
         "hoverinfo": "text",
         "line": {
          "color": "cornflowerblue",
          "width": 0.21813197753492958
         },
         "mode": "lines",
         "text": "0.218",
         "type": "scatter",
         "x": [
          8,
          9,
          null
         ],
         "y": [
          4,
          2,
          null
         ]
        },
        {
         "hoverinfo": "text",
         "line": {
          "color": "cornflowerblue",
          "width": 0.18300735596557507
         },
         "mode": "lines",
         "text": "0.183",
         "type": "scatter",
         "x": [
          8,
          9,
          null
         ],
         "y": [
          4,
          3,
          null
         ]
        },
        {
         "hoverinfo": "text",
         "line": {
          "color": "cornflowerblue",
          "width": 0.24137835961967055
         },
         "mode": "lines",
         "text": "0.241",
         "type": "scatter",
         "x": [
          8,
          9,
          null
         ],
         "y": [
          4,
          4,
          null
         ]
        },
        {
         "hoverinfo": "text",
         "line": {
          "color": "cornflowerblue",
          "width": 0.17716492157886168
         },
         "mode": "lines",
         "text": "0.177",
         "type": "scatter",
         "x": [
          8,
          9,
          null
         ],
         "y": [
          4,
          5,
          null
         ]
        },
        {
         "hoverinfo": "text",
         "line": {
          "color": "cornflowerblue",
          "width": 0.1528519568377532
         },
         "mode": "lines",
         "text": "0.153",
         "type": "scatter",
         "x": [
          8,
          9,
          null
         ],
         "y": [
          4,
          6,
          null
         ]
        },
        {
         "hoverinfo": "text",
         "line": {
          "color": "cornflowerblue",
          "width": 0.15665266677030512
         },
         "mode": "lines",
         "text": "0.157",
         "type": "scatter",
         "x": [
          8,
          9,
          null
         ],
         "y": [
          5,
          0,
          null
         ]
        },
        {
         "hoverinfo": "text",
         "line": {
          "color": "cornflowerblue",
          "width": 0.15220399318223665
         },
         "mode": "lines",
         "text": "0.152",
         "type": "scatter",
         "x": [
          8,
          9,
          null
         ],
         "y": [
          5,
          1,
          null
         ]
        },
        {
         "hoverinfo": "text",
         "line": {
          "color": "cornflowerblue",
          "width": 0.1535033004365343
         },
         "mode": "lines",
         "text": "0.154",
         "type": "scatter",
         "x": [
          8,
          9,
          null
         ],
         "y": [
          5,
          2,
          null
         ]
        },
        {
         "hoverinfo": "text",
         "line": {
          "color": "cornflowerblue",
          "width": 0.15325294282388285
         },
         "mode": "lines",
         "text": "0.153",
         "type": "scatter",
         "x": [
          8,
          9,
          null
         ],
         "y": [
          5,
          3,
          null
         ]
        },
        {
         "hoverinfo": "text",
         "line": {
          "color": "cornflowerblue",
          "width": 0.15244013016624042
         },
         "mode": "lines",
         "text": "0.152",
         "type": "scatter",
         "x": [
          8,
          9,
          null
         ],
         "y": [
          5,
          4,
          null
         ]
        },
        {
         "hoverinfo": "text",
         "line": {
          "color": "cornflowerblue",
          "width": 0.15335828211425714
         },
         "mode": "lines",
         "text": "0.153",
         "type": "scatter",
         "x": [
          8,
          9,
          null
         ],
         "y": [
          5,
          5,
          null
         ]
        },
        {
         "hoverinfo": "text",
         "line": {
          "color": "cornflowerblue",
          "width": 0.15008976581990044
         },
         "mode": "lines",
         "text": "0.15",
         "type": "scatter",
         "x": [
          8,
          9,
          null
         ],
         "y": [
          5,
          6,
          null
         ]
        },
        {
         "hoverinfo": "text",
         "line": {
          "color": "cornflowerblue",
          "width": 0.16743458402104044
         },
         "mode": "lines",
         "text": "0.167",
         "type": "scatter",
         "x": [
          9,
          10,
          null
         ],
         "y": [
          0,
          0,
          null
         ]
        },
        {
         "hoverinfo": "text",
         "line": {
          "color": "cornflowerblue",
          "width": 0.18791820059285758
         },
         "mode": "lines",
         "text": "0.188",
         "type": "scatter",
         "x": [
          9,
          10,
          null
         ],
         "y": [
          0,
          1,
          null
         ]
        },
        {
         "hoverinfo": "text",
         "line": {
          "color": "cornflowerblue",
          "width": 0.17262384772923364
         },
         "mode": "lines",
         "text": "0.173",
         "type": "scatter",
         "x": [
          9,
          10,
          null
         ],
         "y": [
          0,
          2,
          null
         ]
        },
        {
         "hoverinfo": "text",
         "line": {
          "color": "cornflowerblue",
          "width": 0.18287256766010396
         },
         "mode": "lines",
         "text": "0.183",
         "type": "scatter",
         "x": [
          9,
          10,
          null
         ],
         "y": [
          0,
          3,
          null
         ]
        },
        {
         "hoverinfo": "text",
         "line": {
          "color": "cornflowerblue",
          "width": 0.34208984688660615
         },
         "mode": "lines",
         "text": "0.342",
         "type": "scatter",
         "x": [
          9,
          10,
          null
         ],
         "y": [
          0,
          4,
          null
         ]
        },
        {
         "hoverinfo": "text",
         "line": {
          "color": "cornflowerblue",
          "width": 0.1913527919657225
         },
         "mode": "lines",
         "text": "0.191",
         "type": "scatter",
         "x": [
          9,
          10,
          null
         ],
         "y": [
          0,
          5,
          null
         ]
        },
        {
         "hoverinfo": "text",
         "line": {
          "color": "cornflowerblue",
          "width": 0.1526949129910241
         },
         "mode": "lines",
         "text": "0.153",
         "type": "scatter",
         "x": [
          9,
          10,
          null
         ],
         "y": [
          0,
          6,
          null
         ]
        },
        {
         "hoverinfo": "text",
         "line": {
          "color": "cornflowerblue",
          "width": 0.15097468338164724
         },
         "mode": "lines",
         "text": "0.151",
         "type": "scatter",
         "x": [
          9,
          10,
          null
         ],
         "y": [
          0,
          7,
          null
         ]
        },
        {
         "hoverinfo": "text",
         "line": {
          "color": "cornflowerblue",
          "width": 0.14738912740653062
         },
         "mode": "lines",
         "text": "0.147",
         "type": "scatter",
         "x": [
          9,
          10,
          null
         ],
         "y": [
          0,
          8,
          null
         ]
        },
        {
         "hoverinfo": "text",
         "line": {
          "color": "cornflowerblue",
          "width": 0.14983599867969857
         },
         "mode": "lines",
         "text": "0.15",
         "type": "scatter",
         "x": [
          9,
          10,
          null
         ],
         "y": [
          0,
          9,
          null
         ]
        },
        {
         "hoverinfo": "text",
         "line": {
          "color": "cornflowerblue",
          "width": 0.1680313191933583
         },
         "mode": "lines",
         "text": "0.168",
         "type": "scatter",
         "x": [
          9,
          10,
          null
         ],
         "y": [
          1,
          0,
          null
         ]
        },
        {
         "hoverinfo": "text",
         "line": {
          "color": "cornflowerblue",
          "width": 0.203379894707341
         },
         "mode": "lines",
         "text": "0.203",
         "type": "scatter",
         "x": [
          9,
          10,
          null
         ],
         "y": [
          1,
          1,
          null
         ]
        },
        {
         "hoverinfo": "text",
         "line": {
          "color": "cornflowerblue",
          "width": 0.1819619566209771
         },
         "mode": "lines",
         "text": "0.182",
         "type": "scatter",
         "x": [
          9,
          10,
          null
         ],
         "y": [
          1,
          2,
          null
         ]
        },
        {
         "hoverinfo": "text",
         "line": {
          "color": "cornflowerblue",
          "width": 0.3782311190842762
         },
         "mode": "lines",
         "text": "0.378",
         "type": "scatter",
         "x": [
          9,
          10,
          null
         ],
         "y": [
          1,
          3,
          null
         ]
        },
        {
         "hoverinfo": "text",
         "line": {
          "color": "cornflowerblue",
          "width": 0.19076263524825238
         },
         "mode": "lines",
         "text": "0.191",
         "type": "scatter",
         "x": [
          9,
          10,
          null
         ],
         "y": [
          1,
          4,
          null
         ]
        },
        {
         "hoverinfo": "text",
         "line": {
          "color": "cornflowerblue",
          "width": 0.2035078784215374
         },
         "mode": "lines",
         "text": "0.204",
         "type": "scatter",
         "x": [
          9,
          10,
          null
         ],
         "y": [
          1,
          5,
          null
         ]
        },
        {
         "hoverinfo": "text",
         "line": {
          "color": "cornflowerblue",
          "width": 0.15219876247097036
         },
         "mode": "lines",
         "text": "0.152",
         "type": "scatter",
         "x": [
          9,
          10,
          null
         ],
         "y": [
          1,
          6,
          null
         ]
        },
        {
         "hoverinfo": "text",
         "line": {
          "color": "cornflowerblue",
          "width": 0.15007799257009452
         },
         "mode": "lines",
         "text": "0.15",
         "type": "scatter",
         "x": [
          9,
          10,
          null
         ],
         "y": [
          1,
          7,
          null
         ]
        },
        {
         "hoverinfo": "text",
         "line": {
          "color": "cornflowerblue",
          "width": 0.14789823102396332
         },
         "mode": "lines",
         "text": "0.148",
         "type": "scatter",
         "x": [
          9,
          10,
          null
         ],
         "y": [
          1,
          9,
          null
         ]
        },
        {
         "hoverinfo": "text",
         "line": {
          "color": "cornflowerblue",
          "width": 0.17193843843332798
         },
         "mode": "lines",
         "text": "0.172",
         "type": "scatter",
         "x": [
          9,
          10,
          null
         ],
         "y": [
          2,
          0,
          null
         ]
        },
        {
         "hoverinfo": "text",
         "line": {
          "color": "cornflowerblue",
          "width": 0.21444277003112455
         },
         "mode": "lines",
         "text": "0.214",
         "type": "scatter",
         "x": [
          9,
          10,
          null
         ],
         "y": [
          2,
          1,
          null
         ]
        },
        {
         "hoverinfo": "text",
         "line": {
          "color": "cornflowerblue",
          "width": 0.18349135809170497
         },
         "mode": "lines",
         "text": "0.183",
         "type": "scatter",
         "x": [
          9,
          10,
          null
         ],
         "y": [
          2,
          2,
          null
         ]
        },
        {
         "hoverinfo": "text",
         "line": {
          "color": "cornflowerblue",
          "width": 0.1840964411648983
         },
         "mode": "lines",
         "text": "0.184",
         "type": "scatter",
         "x": [
          9,
          10,
          null
         ],
         "y": [
          2,
          3,
          null
         ]
        },
        {
         "hoverinfo": "text",
         "line": {
          "color": "cornflowerblue",
          "width": 0.1828673549163277
         },
         "mode": "lines",
         "text": "0.183",
         "type": "scatter",
         "x": [
          9,
          10,
          null
         ],
         "y": [
          2,
          4,
          null
         ]
        },
        {
         "hoverinfo": "text",
         "line": {
          "color": "cornflowerblue",
          "width": 0.1831288336814198
         },
         "mode": "lines",
         "text": "0.183",
         "type": "scatter",
         "x": [
          9,
          10,
          null
         ],
         "y": [
          2,
          5,
          null
         ]
        },
        {
         "hoverinfo": "text",
         "line": {
          "color": "cornflowerblue",
          "width": 0.15607198152042523
         },
         "mode": "lines",
         "text": "0.156",
         "type": "scatter",
         "x": [
          9,
          10,
          null
         ],
         "y": [
          2,
          6,
          null
         ]
        },
        {
         "hoverinfo": "text",
         "line": {
          "color": "cornflowerblue",
          "width": 0.15344084577302705
         },
         "mode": "lines",
         "text": "0.153",
         "type": "scatter",
         "x": [
          9,
          10,
          null
         ],
         "y": [
          2,
          7,
          null
         ]
        },
        {
         "hoverinfo": "text",
         "line": {
          "color": "cornflowerblue",
          "width": 0.1469581608207798
         },
         "mode": "lines",
         "text": "0.147",
         "type": "scatter",
         "x": [
          9,
          10,
          null
         ],
         "y": [
          2,
          8,
          null
         ]
        },
        {
         "hoverinfo": "text",
         "line": {
          "color": "cornflowerblue",
          "width": 0.148585372363776
         },
         "mode": "lines",
         "text": "0.149",
         "type": "scatter",
         "x": [
          9,
          10,
          null
         ],
         "y": [
          2,
          9,
          null
         ]
        },
        {
         "hoverinfo": "text",
         "line": {
          "color": "cornflowerblue",
          "width": 0.22533157112863697
         },
         "mode": "lines",
         "text": "0.225",
         "type": "scatter",
         "x": [
          9,
          10,
          null
         ],
         "y": [
          3,
          0,
          null
         ]
        },
        {
         "hoverinfo": "text",
         "line": {
          "color": "cornflowerblue",
          "width": 0.17789955108789327
         },
         "mode": "lines",
         "text": "0.178",
         "type": "scatter",
         "x": [
          9,
          10,
          null
         ],
         "y": [
          3,
          1,
          null
         ]
        },
        {
         "hoverinfo": "text",
         "line": {
          "color": "cornflowerblue",
          "width": 0.18217124556907294
         },
         "mode": "lines",
         "text": "0.182",
         "type": "scatter",
         "x": [
          9,
          10,
          null
         ],
         "y": [
          3,
          2,
          null
         ]
        },
        {
         "hoverinfo": "text",
         "line": {
          "color": "cornflowerblue",
          "width": 0.17535382985840117
         },
         "mode": "lines",
         "text": "0.175",
         "type": "scatter",
         "x": [
          9,
          10,
          null
         ],
         "y": [
          3,
          3,
          null
         ]
        },
        {
         "hoverinfo": "text",
         "line": {
          "color": "cornflowerblue",
          "width": 0.19221246390192784
         },
         "mode": "lines",
         "text": "0.192",
         "type": "scatter",
         "x": [
          9,
          10,
          null
         ],
         "y": [
          3,
          4,
          null
         ]
        },
        {
         "hoverinfo": "text",
         "line": {
          "color": "cornflowerblue",
          "width": 0.18802460135719154
         },
         "mode": "lines",
         "text": "0.188",
         "type": "scatter",
         "x": [
          9,
          10,
          null
         ],
         "y": [
          3,
          5,
          null
         ]
        },
        {
         "hoverinfo": "text",
         "line": {
          "color": "cornflowerblue",
          "width": 0.1527267546133461
         },
         "mode": "lines",
         "text": "0.153",
         "type": "scatter",
         "x": [
          9,
          10,
          null
         ],
         "y": [
          3,
          6,
          null
         ]
        },
        {
         "hoverinfo": "text",
         "line": {
          "color": "cornflowerblue",
          "width": 0.15353379272572593
         },
         "mode": "lines",
         "text": "0.154",
         "type": "scatter",
         "x": [
          9,
          10,
          null
         ],
         "y": [
          3,
          7,
          null
         ]
        },
        {
         "hoverinfo": "text",
         "line": {
          "color": "cornflowerblue",
          "width": 0.14904858427503215
         },
         "mode": "lines",
         "text": "0.149",
         "type": "scatter",
         "x": [
          9,
          10,
          null
         ],
         "y": [
          3,
          8,
          null
         ]
        },
        {
         "hoverinfo": "text",
         "line": {
          "color": "cornflowerblue",
          "width": 0.150980401925606
         },
         "mode": "lines",
         "text": "0.151",
         "type": "scatter",
         "x": [
          9,
          10,
          null
         ],
         "y": [
          3,
          9,
          null
         ]
        },
        {
         "hoverinfo": "text",
         "line": {
          "color": "cornflowerblue",
          "width": 0.17171054065542035
         },
         "mode": "lines",
         "text": "0.172",
         "type": "scatter",
         "x": [
          9,
          10,
          null
         ],
         "y": [
          4,
          0,
          null
         ]
        },
        {
         "hoverinfo": "text",
         "line": {
          "color": "cornflowerblue",
          "width": 0.18990770323915077
         },
         "mode": "lines",
         "text": "0.19",
         "type": "scatter",
         "x": [
          9,
          10,
          null
         ],
         "y": [
          4,
          1,
          null
         ]
        },
        {
         "hoverinfo": "text",
         "line": {
          "color": "cornflowerblue",
          "width": 0.18060587596449887
         },
         "mode": "lines",
         "text": "0.181",
         "type": "scatter",
         "x": [
          9,
          10,
          null
         ],
         "y": [
          4,
          2,
          null
         ]
        },
        {
         "hoverinfo": "text",
         "line": {
          "color": "cornflowerblue",
          "width": 0.21326689043209238
         },
         "mode": "lines",
         "text": "0.213",
         "type": "scatter",
         "x": [
          9,
          10,
          null
         ],
         "y": [
          4,
          3,
          null
         ]
        },
        {
         "hoverinfo": "text",
         "line": {
          "color": "cornflowerblue",
          "width": 0.1957747150360781
         },
         "mode": "lines",
         "text": "0.196",
         "type": "scatter",
         "x": [
          9,
          10,
          null
         ],
         "y": [
          4,
          4,
          null
         ]
        },
        {
         "hoverinfo": "text",
         "line": {
          "color": "cornflowerblue",
          "width": 0.5443002794891911
         },
         "mode": "lines",
         "text": "0.544",
         "type": "scatter",
         "x": [
          9,
          10,
          null
         ],
         "y": [
          4,
          5,
          null
         ]
        },
        {
         "hoverinfo": "text",
         "line": {
          "color": "cornflowerblue",
          "width": 0.15277145995860097
         },
         "mode": "lines",
         "text": "0.153",
         "type": "scatter",
         "x": [
          9,
          10,
          null
         ],
         "y": [
          4,
          6,
          null
         ]
        },
        {
         "hoverinfo": "text",
         "line": {
          "color": "cornflowerblue",
          "width": 0.15107675177234214
         },
         "mode": "lines",
         "text": "0.151",
         "type": "scatter",
         "x": [
          9,
          10,
          null
         ],
         "y": [
          4,
          7,
          null
         ]
        },
        {
         "hoverinfo": "text",
         "line": {
          "color": "cornflowerblue",
          "width": 0.147127903065694
         },
         "mode": "lines",
         "text": "0.147",
         "type": "scatter",
         "x": [
          9,
          10,
          null
         ],
         "y": [
          4,
          9,
          null
         ]
        },
        {
         "hoverinfo": "text",
         "line": {
          "color": "cornflowerblue",
          "width": 0.1631761185319026
         },
         "mode": "lines",
         "text": "0.163",
         "type": "scatter",
         "x": [
          9,
          10,
          null
         ],
         "y": [
          5,
          0,
          null
         ]
        },
        {
         "hoverinfo": "text",
         "line": {
          "color": "cornflowerblue",
          "width": 0.17031618055059414
         },
         "mode": "lines",
         "text": "0.17",
         "type": "scatter",
         "x": [
          9,
          10,
          null
         ],
         "y": [
          5,
          1,
          null
         ]
        },
        {
         "hoverinfo": "text",
         "line": {
          "color": "cornflowerblue",
          "width": 0.16458209574714372
         },
         "mode": "lines",
         "text": "0.165",
         "type": "scatter",
         "x": [
          9,
          10,
          null
         ],
         "y": [
          5,
          2,
          null
         ]
        },
        {
         "hoverinfo": "text",
         "line": {
          "color": "cornflowerblue",
          "width": 0.16792002337278625
         },
         "mode": "lines",
         "text": "0.168",
         "type": "scatter",
         "x": [
          9,
          10,
          null
         ],
         "y": [
          5,
          3,
          null
         ]
        },
        {
         "hoverinfo": "text",
         "line": {
          "color": "cornflowerblue",
          "width": 0.16756772897610606
         },
         "mode": "lines",
         "text": "0.168",
         "type": "scatter",
         "x": [
          9,
          10,
          null
         ],
         "y": [
          5,
          4,
          null
         ]
        },
        {
         "hoverinfo": "text",
         "line": {
          "color": "cornflowerblue",
          "width": 0.16492054769813325
         },
         "mode": "lines",
         "text": "0.165",
         "type": "scatter",
         "x": [
          9,
          10,
          null
         ],
         "y": [
          5,
          5,
          null
         ]
        },
        {
         "hoverinfo": "text",
         "line": {
          "color": "cornflowerblue",
          "width": 0.15244276240532284
         },
         "mode": "lines",
         "text": "0.152",
         "type": "scatter",
         "x": [
          9,
          10,
          null
         ],
         "y": [
          5,
          6,
          null
         ]
        },
        {
         "hoverinfo": "text",
         "line": {
          "color": "cornflowerblue",
          "width": 0.15217487159872403
         },
         "mode": "lines",
         "text": "0.152",
         "type": "scatter",
         "x": [
          9,
          10,
          null
         ],
         "y": [
          5,
          7,
          null
         ]
        },
        {
         "hoverinfo": "text",
         "line": {
          "color": "cornflowerblue",
          "width": 0.14829746223682963
         },
         "mode": "lines",
         "text": "0.148",
         "type": "scatter",
         "x": [
          9,
          10,
          null
         ],
         "y": [
          5,
          8,
          null
         ]
        },
        {
         "hoverinfo": "text",
         "line": {
          "color": "cornflowerblue",
          "width": 0.15023193966507045
         },
         "mode": "lines",
         "text": "0.15",
         "type": "scatter",
         "x": [
          9,
          10,
          null
         ],
         "y": [
          5,
          9,
          null
         ]
        },
        {
         "hoverinfo": "text",
         "line": {
          "color": "cornflowerblue",
          "width": 0.15430965691561105
         },
         "mode": "lines",
         "text": "0.154",
         "type": "scatter",
         "x": [
          9,
          10,
          null
         ],
         "y": [
          6,
          0,
          null
         ]
        },
        {
         "hoverinfo": "text",
         "line": {
          "color": "cornflowerblue",
          "width": 0.1516108442092875
         },
         "mode": "lines",
         "text": "0.152",
         "type": "scatter",
         "x": [
          9,
          10,
          null
         ],
         "y": [
          6,
          1,
          null
         ]
        },
        {
         "hoverinfo": "text",
         "line": {
          "color": "cornflowerblue",
          "width": 0.15439464742006442
         },
         "mode": "lines",
         "text": "0.154",
         "type": "scatter",
         "x": [
          9,
          10,
          null
         ],
         "y": [
          6,
          2,
          null
         ]
        },
        {
         "hoverinfo": "text",
         "line": {
          "color": "cornflowerblue",
          "width": 0.15063503021638672
         },
         "mode": "lines",
         "text": "0.151",
         "type": "scatter",
         "x": [
          9,
          10,
          null
         ],
         "y": [
          6,
          3,
          null
         ]
        },
        {
         "hoverinfo": "text",
         "line": {
          "color": "cornflowerblue",
          "width": 0.15294469075370187
         },
         "mode": "lines",
         "text": "0.153",
         "type": "scatter",
         "x": [
          9,
          10,
          null
         ],
         "y": [
          6,
          4,
          null
         ]
        },
        {
         "hoverinfo": "text",
         "line": {
          "color": "cornflowerblue",
          "width": 0.15131308722033124
         },
         "mode": "lines",
         "text": "0.151",
         "type": "scatter",
         "x": [
          9,
          10,
          null
         ],
         "y": [
          6,
          5,
          null
         ]
        },
        {
         "hoverinfo": "text",
         "line": {
          "color": "cornflowerblue",
          "width": 0.14701568594496403
         },
         "mode": "lines",
         "text": "0.147",
         "type": "scatter",
         "x": [
          9,
          10,
          null
         ],
         "y": [
          6,
          6,
          null
         ]
        },
        {
         "hoverinfo": "text",
         "line": {
          "color": "cornflowerblue",
          "width": 0.1493728479497232
         },
         "mode": "lines",
         "text": "0.149",
         "type": "scatter",
         "x": [
          9,
          10,
          null
         ],
         "y": [
          6,
          7,
          null
         ]
        },
        {
         "hoverinfo": "text",
         "line": {
          "color": "cornflowerblue",
          "width": 0.14652922151942555
         },
         "mode": "lines",
         "text": "0.147",
         "type": "scatter",
         "x": [
          9,
          10,
          null
         ],
         "y": [
          6,
          9,
          null
         ]
        },
        {
         "hoverinfo": "text",
         "line": {
          "color": "cornflowerblue",
          "width": 0.1688708554825879
         },
         "mode": "lines",
         "text": "0.169",
         "type": "scatter",
         "x": [
          10,
          11,
          null
         ],
         "y": [
          0,
          0,
          null
         ]
        },
        {
         "hoverinfo": "text",
         "line": {
          "color": "cornflowerblue",
          "width": 0.16458047524055452
         },
         "mode": "lines",
         "text": "0.165",
         "type": "scatter",
         "x": [
          10,
          11,
          null
         ],
         "y": [
          0,
          1,
          null
         ]
        },
        {
         "hoverinfo": "text",
         "line": {
          "color": "cornflowerblue",
          "width": 0.18988721541690756
         },
         "mode": "lines",
         "text": "0.19",
         "type": "scatter",
         "x": [
          10,
          11,
          null
         ],
         "y": [
          0,
          2,
          null
         ]
        },
        {
         "hoverinfo": "text",
         "line": {
          "color": "cornflowerblue",
          "width": 0.1696451240120602
         },
         "mode": "lines",
         "text": "0.17",
         "type": "scatter",
         "x": [
          10,
          11,
          null
         ],
         "y": [
          0,
          3,
          null
         ]
        },
        {
         "hoverinfo": "text",
         "line": {
          "color": "cornflowerblue",
          "width": 0.17045479037140693
         },
         "mode": "lines",
         "text": "0.17",
         "type": "scatter",
         "x": [
          10,
          11,
          null
         ],
         "y": [
          0,
          4,
          null
         ]
        },
        {
         "hoverinfo": "text",
         "line": {
          "color": "cornflowerblue",
          "width": 0.17419088044915287
         },
         "mode": "lines",
         "text": "0.174",
         "type": "scatter",
         "x": [
          10,
          11,
          null
         ],
         "y": [
          0,
          5,
          null
         ]
        },
        {
         "hoverinfo": "text",
         "line": {
          "color": "cornflowerblue",
          "width": 0.1658033347243683
         },
         "mode": "lines",
         "text": "0.166",
         "type": "scatter",
         "x": [
          10,
          11,
          null
         ],
         "y": [
          0,
          6,
          null
         ]
        },
        {
         "hoverinfo": "text",
         "line": {
          "color": "cornflowerblue",
          "width": 0.15066248149771166
         },
         "mode": "lines",
         "text": "0.151",
         "type": "scatter",
         "x": [
          10,
          11,
          null
         ],
         "y": [
          0,
          7,
          null
         ]
        },
        {
         "hoverinfo": "text",
         "line": {
          "color": "cornflowerblue",
          "width": 0.14909822854469668
         },
         "mode": "lines",
         "text": "0.149",
         "type": "scatter",
         "x": [
          10,
          11,
          null
         ],
         "y": [
          0,
          8,
          null
         ]
        },
        {
         "hoverinfo": "text",
         "line": {
          "color": "cornflowerblue",
          "width": 0.15236273523101787
         },
         "mode": "lines",
         "text": "0.152",
         "type": "scatter",
         "x": [
          10,
          11,
          null
         ],
         "y": [
          0,
          9,
          null
         ]
        },
        {
         "hoverinfo": "text",
         "line": {
          "color": "cornflowerblue",
          "width": 0.15322764311884451
         },
         "mode": "lines",
         "text": "0.153",
         "type": "scatter",
         "x": [
          10,
          11,
          null
         ],
         "y": [
          0,
          10,
          null
         ]
        },
        {
         "hoverinfo": "text",
         "line": {
          "color": "cornflowerblue",
          "width": 0.14667139767826518
         },
         "mode": "lines",
         "text": "0.147",
         "type": "scatter",
         "x": [
          10,
          11,
          null
         ],
         "y": [
          0,
          11,
          null
         ]
        },
        {
         "hoverinfo": "text",
         "line": {
          "color": "cornflowerblue",
          "width": 0.20077775027285497
         },
         "mode": "lines",
         "text": "0.201",
         "type": "scatter",
         "x": [
          10,
          11,
          null
         ],
         "y": [
          1,
          0,
          null
         ]
        },
        {
         "hoverinfo": "text",
         "line": {
          "color": "cornflowerblue",
          "width": 0.17570355083030878
         },
         "mode": "lines",
         "text": "0.176",
         "type": "scatter",
         "x": [
          10,
          11,
          null
         ],
         "y": [
          1,
          1,
          null
         ]
        },
        {
         "hoverinfo": "text",
         "line": {
          "color": "cornflowerblue",
          "width": 0.198823923208481
         },
         "mode": "lines",
         "text": "0.199",
         "type": "scatter",
         "x": [
          10,
          11,
          null
         ],
         "y": [
          1,
          2,
          null
         ]
        },
        {
         "hoverinfo": "text",
         "line": {
          "color": "cornflowerblue",
          "width": 0.22192796321751534
         },
         "mode": "lines",
         "text": "0.222",
         "type": "scatter",
         "x": [
          10,
          11,
          null
         ],
         "y": [
          1,
          3,
          null
         ]
        },
        {
         "hoverinfo": "text",
         "line": {
          "color": "cornflowerblue",
          "width": 0.16849365963697946
         },
         "mode": "lines",
         "text": "0.168",
         "type": "scatter",
         "x": [
          10,
          11,
          null
         ],
         "y": [
          1,
          4,
          null
         ]
        },
        {
         "hoverinfo": "text",
         "line": {
          "color": "cornflowerblue",
          "width": 0.1895968329694626
         },
         "mode": "lines",
         "text": "0.19",
         "type": "scatter",
         "x": [
          10,
          11,
          null
         ],
         "y": [
          1,
          5,
          null
         ]
        },
        {
         "hoverinfo": "text",
         "line": {
          "color": "cornflowerblue",
          "width": 0.1865266251351185
         },
         "mode": "lines",
         "text": "0.187",
         "type": "scatter",
         "x": [
          10,
          11,
          null
         ],
         "y": [
          1,
          6,
          null
         ]
        },
        {
         "hoverinfo": "text",
         "line": {
          "color": "cornflowerblue",
          "width": 0.15119314453176638
         },
         "mode": "lines",
         "text": "0.151",
         "type": "scatter",
         "x": [
          10,
          11,
          null
         ],
         "y": [
          1,
          7,
          null
         ]
        },
        {
         "hoverinfo": "text",
         "line": {
          "color": "cornflowerblue",
          "width": 0.14894255399197143
         },
         "mode": "lines",
         "text": "0.149",
         "type": "scatter",
         "x": [
          10,
          11,
          null
         ],
         "y": [
          1,
          8,
          null
         ]
        },
        {
         "hoverinfo": "text",
         "line": {
          "color": "cornflowerblue",
          "width": 0.15258936286948022
         },
         "mode": "lines",
         "text": "0.153",
         "type": "scatter",
         "x": [
          10,
          11,
          null
         ],
         "y": [
          1,
          9,
          null
         ]
        },
        {
         "hoverinfo": "text",
         "line": {
          "color": "cornflowerblue",
          "width": 0.15334179960662236
         },
         "mode": "lines",
         "text": "0.153",
         "type": "scatter",
         "x": [
          10,
          11,
          null
         ],
         "y": [
          1,
          10,
          null
         ]
        },
        {
         "hoverinfo": "text",
         "line": {
          "color": "cornflowerblue",
          "width": 0.1774907351277932
         },
         "mode": "lines",
         "text": "0.177",
         "type": "scatter",
         "x": [
          10,
          11,
          null
         ],
         "y": [
          2,
          0,
          null
         ]
        },
        {
         "hoverinfo": "text",
         "line": {
          "color": "cornflowerblue",
          "width": 0.1683695612078783
         },
         "mode": "lines",
         "text": "0.168",
         "type": "scatter",
         "x": [
          10,
          11,
          null
         ],
         "y": [
          2,
          1,
          null
         ]
        },
        {
         "hoverinfo": "text",
         "line": {
          "color": "cornflowerblue",
          "width": 0.18212014921327785
         },
         "mode": "lines",
         "text": "0.182",
         "type": "scatter",
         "x": [
          10,
          11,
          null
         ],
         "y": [
          2,
          2,
          null
         ]
        },
        {
         "hoverinfo": "text",
         "line": {
          "color": "cornflowerblue",
          "width": 0.17989809759071937
         },
         "mode": "lines",
         "text": "0.18",
         "type": "scatter",
         "x": [
          10,
          11,
          null
         ],
         "y": [
          2,
          3,
          null
         ]
        },
        {
         "hoverinfo": "text",
         "line": {
          "color": "cornflowerblue",
          "width": 0.17621623323854324
         },
         "mode": "lines",
         "text": "0.176",
         "type": "scatter",
         "x": [
          10,
          11,
          null
         ],
         "y": [
          2,
          4,
          null
         ]
        },
        {
         "hoverinfo": "text",
         "line": {
          "color": "cornflowerblue",
          "width": 0.1819752853984809
         },
         "mode": "lines",
         "text": "0.182",
         "type": "scatter",
         "x": [
          10,
          11,
          null
         ],
         "y": [
          2,
          5,
          null
         ]
        },
        {
         "hoverinfo": "text",
         "line": {
          "color": "cornflowerblue",
          "width": 0.17083917149746053
         },
         "mode": "lines",
         "text": "0.171",
         "type": "scatter",
         "x": [
          10,
          11,
          null
         ],
         "y": [
          2,
          6,
          null
         ]
        },
        {
         "hoverinfo": "text",
         "line": {
          "color": "cornflowerblue",
          "width": 0.1518629305638841
         },
         "mode": "lines",
         "text": "0.152",
         "type": "scatter",
         "x": [
          10,
          11,
          null
         ],
         "y": [
          2,
          7,
          null
         ]
        },
        {
         "hoverinfo": "text",
         "line": {
          "color": "cornflowerblue",
          "width": 0.15356708702789462
         },
         "mode": "lines",
         "text": "0.154",
         "type": "scatter",
         "x": [
          10,
          11,
          null
         ],
         "y": [
          2,
          8,
          null
         ]
        },
        {
         "hoverinfo": "text",
         "line": {
          "color": "cornflowerblue",
          "width": 0.15277335792119007
         },
         "mode": "lines",
         "text": "0.153",
         "type": "scatter",
         "x": [
          10,
          11,
          null
         ],
         "y": [
          2,
          9,
          null
         ]
        },
        {
         "hoverinfo": "text",
         "line": {
          "color": "cornflowerblue",
          "width": 0.15508966184297016
         },
         "mode": "lines",
         "text": "0.155",
         "type": "scatter",
         "x": [
          10,
          11,
          null
         ],
         "y": [
          2,
          10,
          null
         ]
        },
        {
         "hoverinfo": "text",
         "line": {
          "color": "cornflowerblue",
          "width": 0.39309240909353294
         },
         "mode": "lines",
         "text": "0.393",
         "type": "scatter",
         "x": [
          10,
          11,
          null
         ],
         "y": [
          3,
          0,
          null
         ]
        },
        {
         "hoverinfo": "text",
         "line": {
          "color": "cornflowerblue",
          "width": 0.17182328093683338
         },
         "mode": "lines",
         "text": "0.172",
         "type": "scatter",
         "x": [
          10,
          11,
          null
         ],
         "y": [
          3,
          1,
          null
         ]
        },
        {
         "hoverinfo": "text",
         "line": {
          "color": "cornflowerblue",
          "width": 0.1782958092073968
         },
         "mode": "lines",
         "text": "0.178",
         "type": "scatter",
         "x": [
          10,
          11,
          null
         ],
         "y": [
          3,
          2,
          null
         ]
        },
        {
         "hoverinfo": "text",
         "line": {
          "color": "cornflowerblue",
          "width": 0.18479324783008821
         },
         "mode": "lines",
         "text": "0.185",
         "type": "scatter",
         "x": [
          10,
          11,
          null
         ],
         "y": [
          3,
          3,
          null
         ]
        },
        {
         "hoverinfo": "text",
         "line": {
          "color": "cornflowerblue",
          "width": 0.1710411038440486
         },
         "mode": "lines",
         "text": "0.171",
         "type": "scatter",
         "x": [
          10,
          11,
          null
         ],
         "y": [
          3,
          4,
          null
         ]
        },
        {
         "hoverinfo": "text",
         "line": {
          "color": "cornflowerblue",
          "width": 0.21016828999592788
         },
         "mode": "lines",
         "text": "0.21",
         "type": "scatter",
         "x": [
          10,
          11,
          null
         ],
         "y": [
          3,
          5,
          null
         ]
        },
        {
         "hoverinfo": "text",
         "line": {
          "color": "cornflowerblue",
          "width": 0.19295859244027833
         },
         "mode": "lines",
         "text": "0.193",
         "type": "scatter",
         "x": [
          10,
          11,
          null
         ],
         "y": [
          3,
          6,
          null
         ]
        },
        {
         "hoverinfo": "text",
         "line": {
          "color": "cornflowerblue",
          "width": 0.15058921977023998
         },
         "mode": "lines",
         "text": "0.151",
         "type": "scatter",
         "x": [
          10,
          11,
          null
         ],
         "y": [
          3,
          7,
          null
         ]
        },
        {
         "hoverinfo": "text",
         "line": {
          "color": "cornflowerblue",
          "width": 0.1482820581917573
         },
         "mode": "lines",
         "text": "0.148",
         "type": "scatter",
         "x": [
          10,
          11,
          null
         ],
         "y": [
          3,
          8,
          null
         ]
        },
        {
         "hoverinfo": "text",
         "line": {
          "color": "cornflowerblue",
          "width": 0.15135357684408954
         },
         "mode": "lines",
         "text": "0.151",
         "type": "scatter",
         "x": [
          10,
          11,
          null
         ],
         "y": [
          3,
          9,
          null
         ]
        },
        {
         "hoverinfo": "text",
         "line": {
          "color": "cornflowerblue",
          "width": 0.1545573993994292
         },
         "mode": "lines",
         "text": "0.155",
         "type": "scatter",
         "x": [
          10,
          11,
          null
         ],
         "y": [
          3,
          10,
          null
         ]
        },
        {
         "hoverinfo": "text",
         "line": {
          "color": "cornflowerblue",
          "width": 0.19004578887239815
         },
         "mode": "lines",
         "text": "0.19",
         "type": "scatter",
         "x": [
          10,
          11,
          null
         ],
         "y": [
          4,
          0,
          null
         ]
        },
        {
         "hoverinfo": "text",
         "line": {
          "color": "cornflowerblue",
          "width": 0.17057536020485392
         },
         "mode": "lines",
         "text": "0.171",
         "type": "scatter",
         "x": [
          10,
          11,
          null
         ],
         "y": [
          4,
          1,
          null
         ]
        },
        {
         "hoverinfo": "text",
         "line": {
          "color": "cornflowerblue",
          "width": 0.17453037909436744
         },
         "mode": "lines",
         "text": "0.175",
         "type": "scatter",
         "x": [
          10,
          11,
          null
         ],
         "y": [
          4,
          2,
          null
         ]
        },
        {
         "hoverinfo": "text",
         "line": {
          "color": "cornflowerblue",
          "width": 0.1766599677432834
         },
         "mode": "lines",
         "text": "0.177",
         "type": "scatter",
         "x": [
          10,
          11,
          null
         ],
         "y": [
          4,
          3,
          null
         ]
        },
        {
         "hoverinfo": "text",
         "line": {
          "color": "cornflowerblue",
          "width": 0.18518876843297824
         },
         "mode": "lines",
         "text": "0.185",
         "type": "scatter",
         "x": [
          10,
          11,
          null
         ],
         "y": [
          4,
          4,
          null
         ]
        },
        {
         "hoverinfo": "text",
         "line": {
          "color": "cornflowerblue",
          "width": 0.19319881726496574
         },
         "mode": "lines",
         "text": "0.193",
         "type": "scatter",
         "x": [
          10,
          11,
          null
         ],
         "y": [
          4,
          5,
          null
         ]
        },
        {
         "hoverinfo": "text",
         "line": {
          "color": "cornflowerblue",
          "width": 0.28302798269354834
         },
         "mode": "lines",
         "text": "0.283",
         "type": "scatter",
         "x": [
          10,
          11,
          null
         ],
         "y": [
          4,
          6,
          null
         ]
        },
        {
         "hoverinfo": "text",
         "line": {
          "color": "cornflowerblue",
          "width": 0.15171070482630838
         },
         "mode": "lines",
         "text": "0.152",
         "type": "scatter",
         "x": [
          10,
          11,
          null
         ],
         "y": [
          4,
          7,
          null
         ]
        },
        {
         "hoverinfo": "text",
         "line": {
          "color": "cornflowerblue",
          "width": 0.1489629139312387
         },
         "mode": "lines",
         "text": "0.149",
         "type": "scatter",
         "x": [
          10,
          11,
          null
         ],
         "y": [
          4,
          8,
          null
         ]
        },
        {
         "hoverinfo": "text",
         "line": {
          "color": "cornflowerblue",
          "width": 0.15191706503252095
         },
         "mode": "lines",
         "text": "0.152",
         "type": "scatter",
         "x": [
          10,
          11,
          null
         ],
         "y": [
          4,
          9,
          null
         ]
        },
        {
         "hoverinfo": "text",
         "line": {
          "color": "cornflowerblue",
          "width": 0.15268963048536494
         },
         "mode": "lines",
         "text": "0.153",
         "type": "scatter",
         "x": [
          10,
          11,
          null
         ],
         "y": [
          4,
          10,
          null
         ]
        },
        {
         "hoverinfo": "text",
         "line": {
          "color": "cornflowerblue",
          "width": 0.20957663231365894
         },
         "mode": "lines",
         "text": "0.21",
         "type": "scatter",
         "x": [
          10,
          11,
          null
         ],
         "y": [
          5,
          0,
          null
         ]
        },
        {
         "hoverinfo": "text",
         "line": {
          "color": "cornflowerblue",
          "width": 0.17031901597635032
         },
         "mode": "lines",
         "text": "0.17",
         "type": "scatter",
         "x": [
          10,
          11,
          null
         ],
         "y": [
          5,
          1,
          null
         ]
        },
        {
         "hoverinfo": "text",
         "line": {
          "color": "cornflowerblue",
          "width": 0.17952004853933487
         },
         "mode": "lines",
         "text": "0.18",
         "type": "scatter",
         "x": [
          10,
          11,
          null
         ],
         "y": [
          5,
          2,
          null
         ]
        },
        {
         "hoverinfo": "text",
         "line": {
          "color": "cornflowerblue",
          "width": 0.17636824154302552
         },
         "mode": "lines",
         "text": "0.176",
         "type": "scatter",
         "x": [
          10,
          11,
          null
         ],
         "y": [
          5,
          3,
          null
         ]
        },
        {
         "hoverinfo": "text",
         "line": {
          "color": "cornflowerblue",
          "width": 0.17990532885600488
         },
         "mode": "lines",
         "text": "0.18",
         "type": "scatter",
         "x": [
          10,
          11,
          null
         ],
         "y": [
          5,
          4,
          null
         ]
        },
        {
         "hoverinfo": "text",
         "line": {
          "color": "cornflowerblue",
          "width": 0.5506443414175647
         },
         "mode": "lines",
         "text": "0.551",
         "type": "scatter",
         "x": [
          10,
          11,
          null
         ],
         "y": [
          5,
          5,
          null
         ]
        },
        {
         "hoverinfo": "text",
         "line": {
          "color": "cornflowerblue",
          "width": 0.2133981347626482
         },
         "mode": "lines",
         "text": "0.213",
         "type": "scatter",
         "x": [
          10,
          11,
          null
         ],
         "y": [
          5,
          6,
          null
         ]
        },
        {
         "hoverinfo": "text",
         "line": {
          "color": "cornflowerblue",
          "width": 0.1509735629459312
         },
         "mode": "lines",
         "text": "0.151",
         "type": "scatter",
         "x": [
          10,
          11,
          null
         ],
         "y": [
          5,
          7,
          null
         ]
        },
        {
         "hoverinfo": "text",
         "line": {
          "color": "cornflowerblue",
          "width": 0.1519668068273709
         },
         "mode": "lines",
         "text": "0.152",
         "type": "scatter",
         "x": [
          10,
          11,
          null
         ],
         "y": [
          5,
          8,
          null
         ]
        },
        {
         "hoverinfo": "text",
         "line": {
          "color": "cornflowerblue",
          "width": 0.15243307876546028
         },
         "mode": "lines",
         "text": "0.152",
         "type": "scatter",
         "x": [
          10,
          11,
          null
         ],
         "y": [
          5,
          9,
          null
         ]
        },
        {
         "hoverinfo": "text",
         "line": {
          "color": "cornflowerblue",
          "width": 0.15386563409571577
         },
         "mode": "lines",
         "text": "0.154",
         "type": "scatter",
         "x": [
          10,
          11,
          null
         ],
         "y": [
          5,
          10,
          null
         ]
        },
        {
         "hoverinfo": "text",
         "line": {
          "color": "cornflowerblue",
          "width": 0.1526413327541074
         },
         "mode": "lines",
         "text": "0.153",
         "type": "scatter",
         "x": [
          10,
          11,
          null
         ],
         "y": [
          6,
          0,
          null
         ]
        },
        {
         "hoverinfo": "text",
         "line": {
          "color": "cornflowerblue",
          "width": 0.1548107163827375
         },
         "mode": "lines",
         "text": "0.155",
         "type": "scatter",
         "x": [
          10,
          11,
          null
         ],
         "y": [
          6,
          1,
          null
         ]
        },
        {
         "hoverinfo": "text",
         "line": {
          "color": "cornflowerblue",
          "width": 0.15131228818742465
         },
         "mode": "lines",
         "text": "0.151",
         "type": "scatter",
         "x": [
          10,
          11,
          null
         ],
         "y": [
          6,
          2,
          null
         ]
        },
        {
         "hoverinfo": "text",
         "line": {
          "color": "cornflowerblue",
          "width": 0.15365177123800075
         },
         "mode": "lines",
         "text": "0.154",
         "type": "scatter",
         "x": [
          10,
          11,
          null
         ],
         "y": [
          6,
          3,
          null
         ]
        },
        {
         "hoverinfo": "text",
         "line": {
          "color": "cornflowerblue",
          "width": 0.1525137101256726
         },
         "mode": "lines",
         "text": "0.153",
         "type": "scatter",
         "x": [
          10,
          11,
          null
         ],
         "y": [
          6,
          4,
          null
         ]
        },
        {
         "hoverinfo": "text",
         "line": {
          "color": "cornflowerblue",
          "width": 0.15287384666055387
         },
         "mode": "lines",
         "text": "0.153",
         "type": "scatter",
         "x": [
          10,
          11,
          null
         ],
         "y": [
          6,
          5,
          null
         ]
        },
        {
         "hoverinfo": "text",
         "line": {
          "color": "cornflowerblue",
          "width": 0.15230532426492988
         },
         "mode": "lines",
         "text": "0.152",
         "type": "scatter",
         "x": [
          10,
          11,
          null
         ],
         "y": [
          6,
          6,
          null
         ]
        },
        {
         "hoverinfo": "text",
         "line": {
          "color": "cornflowerblue",
          "width": 0.14709069399644484
         },
         "mode": "lines",
         "text": "0.147",
         "type": "scatter",
         "x": [
          10,
          11,
          null
         ],
         "y": [
          6,
          7,
          null
         ]
        },
        {
         "hoverinfo": "text",
         "line": {
          "color": "cornflowerblue",
          "width": 0.14724787300299286
         },
         "mode": "lines",
         "text": "0.147",
         "type": "scatter",
         "x": [
          10,
          11,
          null
         ],
         "y": [
          6,
          9,
          null
         ]
        },
        {
         "hoverinfo": "text",
         "line": {
          "color": "cornflowerblue",
          "width": 0.1548313996402623
         },
         "mode": "lines",
         "text": "0.155",
         "type": "scatter",
         "x": [
          10,
          11,
          null
         ],
         "y": [
          6,
          10,
          null
         ]
        },
        {
         "hoverinfo": "text",
         "line": {
          "color": "cornflowerblue",
          "width": 0.14969953760327565
         },
         "mode": "lines",
         "text": "0.15",
         "type": "scatter",
         "x": [
          10,
          11,
          null
         ],
         "y": [
          7,
          0,
          null
         ]
        },
        {
         "hoverinfo": "text",
         "line": {
          "color": "cornflowerblue",
          "width": 0.15098949348066368
         },
         "mode": "lines",
         "text": "0.151",
         "type": "scatter",
         "x": [
          10,
          11,
          null
         ],
         "y": [
          7,
          1,
          null
         ]
        },
        {
         "hoverinfo": "text",
         "line": {
          "color": "cornflowerblue",
          "width": 0.152832038270557
         },
         "mode": "lines",
         "text": "0.153",
         "type": "scatter",
         "x": [
          10,
          11,
          null
         ],
         "y": [
          7,
          2,
          null
         ]
        },
        {
         "hoverinfo": "text",
         "line": {
          "color": "cornflowerblue",
          "width": 0.15112231681198796
         },
         "mode": "lines",
         "text": "0.151",
         "type": "scatter",
         "x": [
          10,
          11,
          null
         ],
         "y": [
          7,
          3,
          null
         ]
        },
        {
         "hoverinfo": "text",
         "line": {
          "color": "cornflowerblue",
          "width": 0.15368535214915094
         },
         "mode": "lines",
         "text": "0.154",
         "type": "scatter",
         "x": [
          10,
          11,
          null
         ],
         "y": [
          7,
          4,
          null
         ]
        },
        {
         "hoverinfo": "text",
         "line": {
          "color": "cornflowerblue",
          "width": 0.15130031891880003
         },
         "mode": "lines",
         "text": "0.151",
         "type": "scatter",
         "x": [
          10,
          11,
          null
         ],
         "y": [
          7,
          5,
          null
         ]
        },
        {
         "hoverinfo": "text",
         "line": {
          "color": "cornflowerblue",
          "width": 0.15068532609632518
         },
         "mode": "lines",
         "text": "0.151",
         "type": "scatter",
         "x": [
          10,
          11,
          null
         ],
         "y": [
          7,
          6,
          null
         ]
        },
        {
         "hoverinfo": "text",
         "line": {
          "color": "cornflowerblue",
          "width": 0.14964741896765504
         },
         "mode": "lines",
         "text": "0.15",
         "type": "scatter",
         "x": [
          10,
          11,
          null
         ],
         "y": [
          7,
          7,
          null
         ]
        },
        {
         "hoverinfo": "text",
         "line": {
          "color": "cornflowerblue",
          "width": 0.1484871903804239
         },
         "mode": "lines",
         "text": "0.148",
         "type": "scatter",
         "x": [
          10,
          11,
          null
         ],
         "y": [
          7,
          8,
          null
         ]
        },
        {
         "hoverinfo": "text",
         "line": {
          "color": "cornflowerblue",
          "width": 0.15040194523432995
         },
         "mode": "lines",
         "text": "0.15",
         "type": "scatter",
         "x": [
          10,
          11,
          null
         ],
         "y": [
          7,
          9,
          null
         ]
        },
        {
         "hoverinfo": "text",
         "line": {
          "color": "cornflowerblue",
          "width": 0.15367744565857913
         },
         "mode": "lines",
         "text": "0.154",
         "type": "scatter",
         "x": [
          10,
          11,
          null
         ],
         "y": [
          7,
          10,
          null
         ]
        },
        {
         "hoverinfo": "text",
         "line": {
          "color": "cornflowerblue",
          "width": 0.14669772686491805
         },
         "mode": "lines",
         "text": "0.147",
         "type": "scatter",
         "x": [
          10,
          11,
          null
         ],
         "y": [
          7,
          11,
          null
         ]
        },
        {
         "hoverinfo": "text",
         "line": {
          "color": "cornflowerblue",
          "width": 0.14746053211366628
         },
         "mode": "lines",
         "text": "0.147",
         "type": "scatter",
         "x": [
          10,
          11,
          null
         ],
         "y": [
          8,
          1,
          null
         ]
        },
        {
         "hoverinfo": "text",
         "line": {
          "color": "cornflowerblue",
          "width": 0.14809481949929773
         },
         "mode": "lines",
         "text": "0.148",
         "type": "scatter",
         "x": [
          10,
          11,
          null
         ],
         "y": [
          8,
          2,
          null
         ]
        },
        {
         "hoverinfo": "text",
         "line": {
          "color": "cornflowerblue",
          "width": 0.14661694866973532
         },
         "mode": "lines",
         "text": "0.147",
         "type": "scatter",
         "x": [
          10,
          11,
          null
         ],
         "y": [
          8,
          3,
          null
         ]
        },
        {
         "hoverinfo": "text",
         "line": {
          "color": "cornflowerblue",
          "width": 0.14924963704050181
         },
         "mode": "lines",
         "text": "0.149",
         "type": "scatter",
         "x": [
          10,
          11,
          null
         ],
         "y": [
          8,
          4,
          null
         ]
        },
        {
         "hoverinfo": "text",
         "line": {
          "color": "cornflowerblue",
          "width": 0.14645263681537984
         },
         "mode": "lines",
         "text": "0.146",
         "type": "scatter",
         "x": [
          10,
          11,
          null
         ],
         "y": [
          8,
          6,
          null
         ]
        },
        {
         "hoverinfo": "text",
         "line": {
          "color": "cornflowerblue",
          "width": 0.14781688091852727
         },
         "mode": "lines",
         "text": "0.148",
         "type": "scatter",
         "x": [
          10,
          11,
          null
         ],
         "y": [
          9,
          0,
          null
         ]
        },
        {
         "hoverinfo": "text",
         "line": {
          "color": "cornflowerblue",
          "width": 0.149262184233167
         },
         "mode": "lines",
         "text": "0.149",
         "type": "scatter",
         "x": [
          10,
          11,
          null
         ],
         "y": [
          9,
          1,
          null
         ]
        },
        {
         "hoverinfo": "text",
         "line": {
          "color": "cornflowerblue",
          "width": 0.14967322331796956
         },
         "mode": "lines",
         "text": "0.15",
         "type": "scatter",
         "x": [
          10,
          11,
          null
         ],
         "y": [
          9,
          2,
          null
         ]
        },
        {
         "hoverinfo": "text",
         "line": {
          "color": "cornflowerblue",
          "width": 0.14801319878903818
         },
         "mode": "lines",
         "text": "0.148",
         "type": "scatter",
         "x": [
          10,
          11,
          null
         ],
         "y": [
          9,
          3,
          null
         ]
        },
        {
         "hoverinfo": "text",
         "line": {
          "color": "cornflowerblue",
          "width": 0.15171014802366162
         },
         "mode": "lines",
         "text": "0.152",
         "type": "scatter",
         "x": [
          10,
          11,
          null
         ],
         "y": [
          9,
          4,
          null
         ]
        },
        {
         "hoverinfo": "text",
         "line": {
          "color": "cornflowerblue",
          "width": 0.14724408531284838
         },
         "mode": "lines",
         "text": "0.147",
         "type": "scatter",
         "x": [
          10,
          11,
          null
         ],
         "y": [
          9,
          5,
          null
         ]
        },
        {
         "hoverinfo": "text",
         "line": {
          "color": "cornflowerblue",
          "width": 0.1487350138445322
         },
         "mode": "lines",
         "text": "0.149",
         "type": "scatter",
         "x": [
          10,
          11,
          null
         ],
         "y": [
          9,
          6,
          null
         ]
        },
        {
         "hoverinfo": "text",
         "line": {
          "color": "cornflowerblue",
          "width": 0.1496318845255542
         },
         "mode": "lines",
         "text": "0.15",
         "type": "scatter",
         "x": [
          10,
          11,
          null
         ],
         "y": [
          9,
          7,
          null
         ]
        },
        {
         "hoverinfo": "text",
         "line": {
          "color": "cornflowerblue",
          "width": 0.147961911106209
         },
         "mode": "lines",
         "text": "0.148",
         "type": "scatter",
         "x": [
          10,
          11,
          null
         ],
         "y": [
          9,
          8,
          null
         ]
        },
        {
         "hoverinfo": "text",
         "line": {
          "color": "cornflowerblue",
          "width": 0.1516190482832442
         },
         "mode": "lines",
         "text": "0.152",
         "type": "scatter",
         "x": [
          10,
          11,
          null
         ],
         "y": [
          9,
          9,
          null
         ]
        },
        {
         "hoverinfo": "text",
         "line": {
          "color": "cornflowerblue",
          "width": 0.14718930123964866
         },
         "mode": "lines",
         "text": "0.147",
         "type": "scatter",
         "x": [
          10,
          11,
          null
         ],
         "y": [
          9,
          10,
          null
         ]
        },
        {
         "hoverinfo": "text",
         "line": {
          "color": "cornflowerblue",
          "width": 0.15171783160499047
         },
         "mode": "lines",
         "text": "0.152",
         "type": "scatter",
         "x": [
          10,
          11,
          null
         ],
         "y": [
          9,
          11,
          null
         ]
        },
        {
         "hoverinfo": "text",
         "line": {
          "color": "cornflowerblue",
          "width": 0.32945642737937975
         },
         "mode": "lines",
         "text": "0.329",
         "type": "scatter",
         "x": [
          11,
          12,
          null
         ],
         "y": [
          0,
          0,
          null
         ]
        },
        {
         "hoverinfo": "text",
         "line": {
          "color": "cornflowerblue",
          "width": 0.21037468770401946
         },
         "mode": "lines",
         "text": "0.21",
         "type": "scatter",
         "x": [
          11,
          12,
          null
         ],
         "y": [
          0,
          1,
          null
         ]
        },
        {
         "hoverinfo": "text",
         "line": {
          "color": "cornflowerblue",
          "width": 0.21175663727260413
         },
         "mode": "lines",
         "text": "0.212",
         "type": "scatter",
         "x": [
          11,
          12,
          null
         ],
         "y": [
          0,
          2,
          null
         ]
        },
        {
         "hoverinfo": "text",
         "line": {
          "color": "cornflowerblue",
          "width": 0.19114956365077707
         },
         "mode": "lines",
         "text": "0.191",
         "type": "scatter",
         "x": [
          11,
          12,
          null
         ],
         "y": [
          0,
          3,
          null
         ]
        },
        {
         "hoverinfo": "text",
         "line": {
          "color": "cornflowerblue",
          "width": 0.17212965109882475
         },
         "mode": "lines",
         "text": "0.172",
         "type": "scatter",
         "x": [
          11,
          12,
          null
         ],
         "y": [
          0,
          4,
          null
         ]
        },
        {
         "hoverinfo": "text",
         "line": {
          "color": "cornflowerblue",
          "width": 0.17103434513252194
         },
         "mode": "lines",
         "text": "0.171",
         "type": "scatter",
         "x": [
          11,
          12,
          null
         ],
         "y": [
          0,
          5,
          null
         ]
        },
        {
         "hoverinfo": "text",
         "line": {
          "color": "cornflowerblue",
          "width": 0.1537466281696162
         },
         "mode": "lines",
         "text": "0.154",
         "type": "scatter",
         "x": [
          11,
          12,
          null
         ],
         "y": [
          0,
          6,
          null
         ]
        },
        {
         "hoverinfo": "text",
         "line": {
          "color": "cornflowerblue",
          "width": 0.17260330205405444
         },
         "mode": "lines",
         "text": "0.173",
         "type": "scatter",
         "x": [
          11,
          12,
          null
         ],
         "y": [
          1,
          0,
          null
         ]
        },
        {
         "hoverinfo": "text",
         "line": {
          "color": "cornflowerblue",
          "width": 0.16855442150524808
         },
         "mode": "lines",
         "text": "0.169",
         "type": "scatter",
         "x": [
          11,
          12,
          null
         ],
         "y": [
          1,
          1,
          null
         ]
        },
        {
         "hoverinfo": "text",
         "line": {
          "color": "cornflowerblue",
          "width": 0.1712274338645224
         },
         "mode": "lines",
         "text": "0.171",
         "type": "scatter",
         "x": [
          11,
          12,
          null
         ],
         "y": [
          1,
          2,
          null
         ]
        },
        {
         "hoverinfo": "text",
         "line": {
          "color": "cornflowerblue",
          "width": 0.17502402986300786
         },
         "mode": "lines",
         "text": "0.175",
         "type": "scatter",
         "x": [
          11,
          12,
          null
         ],
         "y": [
          1,
          3,
          null
         ]
        },
        {
         "hoverinfo": "text",
         "line": {
          "color": "cornflowerblue",
          "width": 0.16423505960856352
         },
         "mode": "lines",
         "text": "0.164",
         "type": "scatter",
         "x": [
          11,
          12,
          null
         ],
         "y": [
          1,
          4,
          null
         ]
        },
        {
         "hoverinfo": "text",
         "line": {
          "color": "cornflowerblue",
          "width": 0.16643162334748046
         },
         "mode": "lines",
         "text": "0.166",
         "type": "scatter",
         "x": [
          11,
          12,
          null
         ],
         "y": [
          1,
          5,
          null
         ]
        },
        {
         "hoverinfo": "text",
         "line": {
          "color": "cornflowerblue",
          "width": 0.15566873809555573
         },
         "mode": "lines",
         "text": "0.156",
         "type": "scatter",
         "x": [
          11,
          12,
          null
         ],
         "y": [
          1,
          6,
          null
         ]
        },
        {
         "hoverinfo": "text",
         "line": {
          "color": "cornflowerblue",
          "width": 0.14884168820934843
         },
         "mode": "lines",
         "text": "0.149",
         "type": "scatter",
         "x": [
          11,
          12,
          null
         ],
         "y": [
          1,
          7,
          null
         ]
        },
        {
         "hoverinfo": "text",
         "line": {
          "color": "cornflowerblue",
          "width": 0.1781441749893757
         },
         "mode": "lines",
         "text": "0.178",
         "type": "scatter",
         "x": [
          11,
          12,
          null
         ],
         "y": [
          2,
          0,
          null
         ]
        },
        {
         "hoverinfo": "text",
         "line": {
          "color": "cornflowerblue",
          "width": 0.1922551016580585
         },
         "mode": "lines",
         "text": "0.192",
         "type": "scatter",
         "x": [
          11,
          12,
          null
         ],
         "y": [
          2,
          1,
          null
         ]
        },
        {
         "hoverinfo": "text",
         "line": {
          "color": "cornflowerblue",
          "width": 0.17830260411934434
         },
         "mode": "lines",
         "text": "0.178",
         "type": "scatter",
         "x": [
          11,
          12,
          null
         ],
         "y": [
          2,
          2,
          null
         ]
        },
        {
         "hoverinfo": "text",
         "line": {
          "color": "cornflowerblue",
          "width": 0.226003658750646
         },
         "mode": "lines",
         "text": "0.226",
         "type": "scatter",
         "x": [
          11,
          12,
          null
         ],
         "y": [
          2,
          3,
          null
         ]
        },
        {
         "hoverinfo": "text",
         "line": {
          "color": "cornflowerblue",
          "width": 0.17094456768935562
         },
         "mode": "lines",
         "text": "0.171",
         "type": "scatter",
         "x": [
          11,
          12,
          null
         ],
         "y": [
          2,
          4,
          null
         ]
        },
        {
         "hoverinfo": "text",
         "line": {
          "color": "cornflowerblue",
          "width": 0.1622286923197196
         },
         "mode": "lines",
         "text": "0.162",
         "type": "scatter",
         "x": [
          11,
          12,
          null
         ],
         "y": [
          2,
          5,
          null
         ]
        },
        {
         "hoverinfo": "text",
         "line": {
          "color": "cornflowerblue",
          "width": 0.15780559171314812
         },
         "mode": "lines",
         "text": "0.158",
         "type": "scatter",
         "x": [
          11,
          12,
          null
         ],
         "y": [
          2,
          6,
          null
         ]
        },
        {
         "hoverinfo": "text",
         "line": {
          "color": "cornflowerblue",
          "width": 0.14732200224746317
         },
         "mode": "lines",
         "text": "0.147",
         "type": "scatter",
         "x": [
          11,
          12,
          null
         ],
         "y": [
          2,
          7,
          null
         ]
        },
        {
         "hoverinfo": "text",
         "line": {
          "color": "cornflowerblue",
          "width": 0.1850754686467336
         },
         "mode": "lines",
         "text": "0.185",
         "type": "scatter",
         "x": [
          11,
          12,
          null
         ],
         "y": [
          3,
          0,
          null
         ]
        },
        {
         "hoverinfo": "text",
         "line": {
          "color": "cornflowerblue",
          "width": 0.21759929665998928
         },
         "mode": "lines",
         "text": "0.218",
         "type": "scatter",
         "x": [
          11,
          12,
          null
         ],
         "y": [
          3,
          1,
          null
         ]
        },
        {
         "hoverinfo": "text",
         "line": {
          "color": "cornflowerblue",
          "width": 0.1771271302141413
         },
         "mode": "lines",
         "text": "0.177",
         "type": "scatter",
         "x": [
          11,
          12,
          null
         ],
         "y": [
          3,
          2,
          null
         ]
        },
        {
         "hoverinfo": "text",
         "line": {
          "color": "cornflowerblue",
          "width": 0.18686003469115103
         },
         "mode": "lines",
         "text": "0.187",
         "type": "scatter",
         "x": [
          11,
          12,
          null
         ],
         "y": [
          3,
          3,
          null
         ]
        },
        {
         "hoverinfo": "text",
         "line": {
          "color": "cornflowerblue",
          "width": 0.16781936425661048
         },
         "mode": "lines",
         "text": "0.168",
         "type": "scatter",
         "x": [
          11,
          12,
          null
         ],
         "y": [
          3,
          4,
          null
         ]
        },
        {
         "hoverinfo": "text",
         "line": {
          "color": "cornflowerblue",
          "width": 0.1649109296416168
         },
         "mode": "lines",
         "text": "0.165",
         "type": "scatter",
         "x": [
          11,
          12,
          null
         ],
         "y": [
          3,
          5,
          null
         ]
        },
        {
         "hoverinfo": "text",
         "line": {
          "color": "cornflowerblue",
          "width": 0.15483516244339324
         },
         "mode": "lines",
         "text": "0.155",
         "type": "scatter",
         "x": [
          11,
          12,
          null
         ],
         "y": [
          3,
          6,
          null
         ]
        },
        {
         "hoverinfo": "text",
         "line": {
          "color": "cornflowerblue",
          "width": 0.14637078838732823
         },
         "mode": "lines",
         "text": "0.146",
         "type": "scatter",
         "x": [
          11,
          12,
          null
         ],
         "y": [
          3,
          7,
          null
         ]
        },
        {
         "hoverinfo": "text",
         "line": {
          "color": "cornflowerblue",
          "width": 0.1697209680745517
         },
         "mode": "lines",
         "text": "0.17",
         "type": "scatter",
         "x": [
          11,
          12,
          null
         ],
         "y": [
          4,
          0,
          null
         ]
        },
        {
         "hoverinfo": "text",
         "line": {
          "color": "cornflowerblue",
          "width": 0.16688879636361503
         },
         "mode": "lines",
         "text": "0.167",
         "type": "scatter",
         "x": [
          11,
          12,
          null
         ],
         "y": [
          4,
          1,
          null
         ]
        },
        {
         "hoverinfo": "text",
         "line": {
          "color": "cornflowerblue",
          "width": 0.18059910631375412
         },
         "mode": "lines",
         "text": "0.181",
         "type": "scatter",
         "x": [
          11,
          12,
          null
         ],
         "y": [
          4,
          2,
          null
         ]
        },
        {
         "hoverinfo": "text",
         "line": {
          "color": "cornflowerblue",
          "width": 0.17069149360156174
         },
         "mode": "lines",
         "text": "0.171",
         "type": "scatter",
         "x": [
          11,
          12,
          null
         ],
         "y": [
          4,
          3,
          null
         ]
        },
        {
         "hoverinfo": "text",
         "line": {
          "color": "cornflowerblue",
          "width": 0.39783669664041826
         },
         "mode": "lines",
         "text": "0.398",
         "type": "scatter",
         "x": [
          11,
          12,
          null
         ],
         "y": [
          4,
          4,
          null
         ]
        },
        {
         "hoverinfo": "text",
         "line": {
          "color": "cornflowerblue",
          "width": 0.15690312064716153
         },
         "mode": "lines",
         "text": "0.157",
         "type": "scatter",
         "x": [
          11,
          12,
          null
         ],
         "y": [
          4,
          5,
          null
         ]
        },
        {
         "hoverinfo": "text",
         "line": {
          "color": "cornflowerblue",
          "width": 0.1615593304306027
         },
         "mode": "lines",
         "text": "0.162",
         "type": "scatter",
         "x": [
          11,
          12,
          null
         ],
         "y": [
          4,
          6,
          null
         ]
        },
        {
         "hoverinfo": "text",
         "line": {
          "color": "cornflowerblue",
          "width": 0.1482477458220852
         },
         "mode": "lines",
         "text": "0.148",
         "type": "scatter",
         "x": [
          11,
          12,
          null
         ],
         "y": [
          4,
          7,
          null
         ]
        },
        {
         "hoverinfo": "text",
         "line": {
          "color": "cornflowerblue",
          "width": 0.20698362217646998
         },
         "mode": "lines",
         "text": "0.207",
         "type": "scatter",
         "x": [
          11,
          12,
          null
         ],
         "y": [
          5,
          0,
          null
         ]
        },
        {
         "hoverinfo": "text",
         "line": {
          "color": "cornflowerblue",
          "width": 0.18447677408941648
         },
         "mode": "lines",
         "text": "0.184",
         "type": "scatter",
         "x": [
          11,
          12,
          null
         ],
         "y": [
          5,
          1,
          null
         ]
        },
        {
         "hoverinfo": "text",
         "line": {
          "color": "cornflowerblue",
          "width": 0.547077899360563
         },
         "mode": "lines",
         "text": "0.547",
         "type": "scatter",
         "x": [
          11,
          12,
          null
         ],
         "y": [
          5,
          2,
          null
         ]
        },
        {
         "hoverinfo": "text",
         "line": {
          "color": "cornflowerblue",
          "width": 0.19430016989476473
         },
         "mode": "lines",
         "text": "0.194",
         "type": "scatter",
         "x": [
          11,
          12,
          null
         ],
         "y": [
          5,
          3,
          null
         ]
        },
        {
         "hoverinfo": "text",
         "line": {
          "color": "cornflowerblue",
          "width": 0.1914779801731691
         },
         "mode": "lines",
         "text": "0.191",
         "type": "scatter",
         "x": [
          11,
          12,
          null
         ],
         "y": [
          5,
          4,
          null
         ]
        },
        {
         "hoverinfo": "text",
         "line": {
          "color": "cornflowerblue",
          "width": 0.16303515215656023
         },
         "mode": "lines",
         "text": "0.163",
         "type": "scatter",
         "x": [
          11,
          12,
          null
         ],
         "y": [
          5,
          5,
          null
         ]
        },
        {
         "hoverinfo": "text",
         "line": {
          "color": "cornflowerblue",
          "width": 0.15534072315053937
         },
         "mode": "lines",
         "text": "0.155",
         "type": "scatter",
         "x": [
          11,
          12,
          null
         ],
         "y": [
          5,
          6,
          null
         ]
        },
        {
         "hoverinfo": "text",
         "line": {
          "color": "cornflowerblue",
          "width": 0.24317700964181227
         },
         "mode": "lines",
         "text": "0.243",
         "type": "scatter",
         "x": [
          11,
          12,
          null
         ],
         "y": [
          6,
          0,
          null
         ]
        },
        {
         "hoverinfo": "text",
         "line": {
          "color": "cornflowerblue",
          "width": 0.17727514876343148
         },
         "mode": "lines",
         "text": "0.177",
         "type": "scatter",
         "x": [
          11,
          12,
          null
         ],
         "y": [
          6,
          1,
          null
         ]
        },
        {
         "hoverinfo": "text",
         "line": {
          "color": "cornflowerblue",
          "width": 0.2125963754486776
         },
         "mode": "lines",
         "text": "0.213",
         "type": "scatter",
         "x": [
          11,
          12,
          null
         ],
         "y": [
          6,
          2,
          null
         ]
        },
        {
         "hoverinfo": "text",
         "line": {
          "color": "cornflowerblue",
          "width": 0.19233646437788915
         },
         "mode": "lines",
         "text": "0.192",
         "type": "scatter",
         "x": [
          11,
          12,
          null
         ],
         "y": [
          6,
          3,
          null
         ]
        },
        {
         "hoverinfo": "text",
         "line": {
          "color": "cornflowerblue",
          "width": 0.1754776316766038
         },
         "mode": "lines",
         "text": "0.175",
         "type": "scatter",
         "x": [
          11,
          12,
          null
         ],
         "y": [
          6,
          4,
          null
         ]
        },
        {
         "hoverinfo": "text",
         "line": {
          "color": "cornflowerblue",
          "width": 0.16342231517152556
         },
         "mode": "lines",
         "text": "0.163",
         "type": "scatter",
         "x": [
          11,
          12,
          null
         ],
         "y": [
          6,
          5,
          null
         ]
        },
        {
         "hoverinfo": "text",
         "line": {
          "color": "cornflowerblue",
          "width": 0.154037080715848
         },
         "mode": "lines",
         "text": "0.154",
         "type": "scatter",
         "x": [
          11,
          12,
          null
         ],
         "y": [
          6,
          6,
          null
         ]
        },
        {
         "hoverinfo": "text",
         "line": {
          "color": "cornflowerblue",
          "width": 0.14671976943739232
         },
         "mode": "lines",
         "text": "0.147",
         "type": "scatter",
         "x": [
          11,
          12,
          null
         ],
         "y": [
          6,
          7,
          null
         ]
        },
        {
         "hoverinfo": "text",
         "line": {
          "color": "cornflowerblue",
          "width": 0.15031652062393877
         },
         "mode": "lines",
         "text": "0.15",
         "type": "scatter",
         "x": [
          11,
          12,
          null
         ],
         "y": [
          7,
          0,
          null
         ]
        },
        {
         "hoverinfo": "text",
         "line": {
          "color": "cornflowerblue",
          "width": 0.15117958458655598
         },
         "mode": "lines",
         "text": "0.151",
         "type": "scatter",
         "x": [
          11,
          12,
          null
         ],
         "y": [
          7,
          1,
          null
         ]
        },
        {
         "hoverinfo": "text",
         "line": {
          "color": "cornflowerblue",
          "width": 0.15107561156115218
         },
         "mode": "lines",
         "text": "0.151",
         "type": "scatter",
         "x": [
          11,
          12,
          null
         ],
         "y": [
          7,
          2,
          null
         ]
        },
        {
         "hoverinfo": "text",
         "line": {
          "color": "cornflowerblue",
          "width": 0.15193077909298444
         },
         "mode": "lines",
         "text": "0.152",
         "type": "scatter",
         "x": [
          11,
          12,
          null
         ],
         "y": [
          7,
          3,
          null
         ]
        },
        {
         "hoverinfo": "text",
         "line": {
          "color": "cornflowerblue",
          "width": 0.15296623960097613
         },
         "mode": "lines",
         "text": "0.153",
         "type": "scatter",
         "x": [
          11,
          12,
          null
         ],
         "y": [
          7,
          4,
          null
         ]
        },
        {
         "hoverinfo": "text",
         "line": {
          "color": "cornflowerblue",
          "width": 0.15211821885442878
         },
         "mode": "lines",
         "text": "0.152",
         "type": "scatter",
         "x": [
          11,
          12,
          null
         ],
         "y": [
          7,
          5,
          null
         ]
        },
        {
         "hoverinfo": "text",
         "line": {
          "color": "cornflowerblue",
          "width": 0.14997614600091344
         },
         "mode": "lines",
         "text": "0.15",
         "type": "scatter",
         "x": [
          11,
          12,
          null
         ],
         "y": [
          7,
          6,
          null
         ]
        },
        {
         "hoverinfo": "text",
         "line": {
          "color": "cornflowerblue",
          "width": 0.14729235059431794
         },
         "mode": "lines",
         "text": "0.147",
         "type": "scatter",
         "x": [
          11,
          12,
          null
         ],
         "y": [
          7,
          7,
          null
         ]
        },
        {
         "hoverinfo": "text",
         "line": {
          "color": "cornflowerblue",
          "width": 0.14815366589818338
         },
         "mode": "lines",
         "text": "0.148",
         "type": "scatter",
         "x": [
          11,
          12,
          null
         ],
         "y": [
          8,
          0,
          null
         ]
        },
        {
         "hoverinfo": "text",
         "line": {
          "color": "cornflowerblue",
          "width": 0.14825434329122814
         },
         "mode": "lines",
         "text": "0.148",
         "type": "scatter",
         "x": [
          11,
          12,
          null
         ],
         "y": [
          8,
          1,
          null
         ]
        },
        {
         "hoverinfo": "text",
         "line": {
          "color": "cornflowerblue",
          "width": 0.15245210856173766
         },
         "mode": "lines",
         "text": "0.152",
         "type": "scatter",
         "x": [
          11,
          12,
          null
         ],
         "y": [
          8,
          2,
          null
         ]
        },
        {
         "hoverinfo": "text",
         "line": {
          "color": "cornflowerblue",
          "width": 0.1503141701020948
         },
         "mode": "lines",
         "text": "0.15",
         "type": "scatter",
         "x": [
          11,
          12,
          null
         ],
         "y": [
          8,
          3,
          null
         ]
        },
        {
         "hoverinfo": "text",
         "line": {
          "color": "cornflowerblue",
          "width": 0.1530791871752887
         },
         "mode": "lines",
         "text": "0.153",
         "type": "scatter",
         "x": [
          11,
          12,
          null
         ],
         "y": [
          8,
          4,
          null
         ]
        },
        {
         "hoverinfo": "text",
         "line": {
          "color": "cornflowerblue",
          "width": 0.14979832850626407
         },
         "mode": "lines",
         "text": "0.15",
         "type": "scatter",
         "x": [
          11,
          12,
          null
         ],
         "y": [
          8,
          5,
          null
         ]
        },
        {
         "hoverinfo": "text",
         "line": {
          "color": "cornflowerblue",
          "width": 0.1488014684348099
         },
         "mode": "lines",
         "text": "0.149",
         "type": "scatter",
         "x": [
          11,
          12,
          null
         ],
         "y": [
          8,
          6,
          null
         ]
        },
        {
         "hoverinfo": "text",
         "line": {
          "color": "cornflowerblue",
          "width": 0.1519666532705389
         },
         "mode": "lines",
         "text": "0.152",
         "type": "scatter",
         "x": [
          11,
          12,
          null
         ],
         "y": [
          9,
          0,
          null
         ]
        },
        {
         "hoverinfo": "text",
         "line": {
          "color": "cornflowerblue",
          "width": 0.1517575116760016
         },
         "mode": "lines",
         "text": "0.152",
         "type": "scatter",
         "x": [
          11,
          12,
          null
         ],
         "y": [
          9,
          1,
          null
         ]
        },
        {
         "hoverinfo": "text",
         "line": {
          "color": "cornflowerblue",
          "width": 0.15305795050412138
         },
         "mode": "lines",
         "text": "0.153",
         "type": "scatter",
         "x": [
          11,
          12,
          null
         ],
         "y": [
          9,
          2,
          null
         ]
        },
        {
         "hoverinfo": "text",
         "line": {
          "color": "cornflowerblue",
          "width": 0.15219254150261974
         },
         "mode": "lines",
         "text": "0.152",
         "type": "scatter",
         "x": [
          11,
          12,
          null
         ],
         "y": [
          9,
          3,
          null
         ]
        },
        {
         "hoverinfo": "text",
         "line": {
          "color": "cornflowerblue",
          "width": 0.1515223883499469
         },
         "mode": "lines",
         "text": "0.152",
         "type": "scatter",
         "x": [
          11,
          12,
          null
         ],
         "y": [
          9,
          4,
          null
         ]
        },
        {
         "hoverinfo": "text",
         "line": {
          "color": "cornflowerblue",
          "width": 0.15099835851077645
         },
         "mode": "lines",
         "text": "0.151",
         "type": "scatter",
         "x": [
          11,
          12,
          null
         ],
         "y": [
          9,
          5,
          null
         ]
        },
        {
         "hoverinfo": "text",
         "line": {
          "color": "cornflowerblue",
          "width": 0.14918236862435305
         },
         "mode": "lines",
         "text": "0.149",
         "type": "scatter",
         "x": [
          11,
          12,
          null
         ],
         "y": [
          9,
          6,
          null
         ]
        },
        {
         "hoverinfo": "text",
         "line": {
          "color": "cornflowerblue",
          "width": 0.1481133478850547
         },
         "mode": "lines",
         "text": "0.148",
         "type": "scatter",
         "x": [
          11,
          12,
          null
         ],
         "y": [
          9,
          7,
          null
         ]
        },
        {
         "hoverinfo": "text",
         "line": {
          "color": "cornflowerblue",
          "width": 0.15420199082379132
         },
         "mode": "lines",
         "text": "0.154",
         "type": "scatter",
         "x": [
          11,
          12,
          null
         ],
         "y": [
          10,
          0,
          null
         ]
        },
        {
         "hoverinfo": "text",
         "line": {
          "color": "cornflowerblue",
          "width": 0.1531653395020228
         },
         "mode": "lines",
         "text": "0.153",
         "type": "scatter",
         "x": [
          11,
          12,
          null
         ],
         "y": [
          10,
          1,
          null
         ]
        },
        {
         "hoverinfo": "text",
         "line": {
          "color": "cornflowerblue",
          "width": 0.15416007343028765
         },
         "mode": "lines",
         "text": "0.154",
         "type": "scatter",
         "x": [
          11,
          12,
          null
         ],
         "y": [
          10,
          2,
          null
         ]
        },
        {
         "hoverinfo": "text",
         "line": {
          "color": "cornflowerblue",
          "width": 0.1547271383610666
         },
         "mode": "lines",
         "text": "0.155",
         "type": "scatter",
         "x": [
          11,
          12,
          null
         ],
         "y": [
          10,
          3,
          null
         ]
        },
        {
         "hoverinfo": "text",
         "line": {
          "color": "cornflowerblue",
          "width": 0.15434847430313103
         },
         "mode": "lines",
         "text": "0.154",
         "type": "scatter",
         "x": [
          11,
          12,
          null
         ],
         "y": [
          10,
          4,
          null
         ]
        },
        {
         "hoverinfo": "text",
         "line": {
          "color": "cornflowerblue",
          "width": 0.15175242799520886
         },
         "mode": "lines",
         "text": "0.152",
         "type": "scatter",
         "x": [
          11,
          12,
          null
         ],
         "y": [
          10,
          5,
          null
         ]
        },
        {
         "hoverinfo": "text",
         "line": {
          "color": "cornflowerblue",
          "width": 0.1499468719133915
         },
         "mode": "lines",
         "text": "0.15",
         "type": "scatter",
         "x": [
          11,
          12,
          null
         ],
         "y": [
          10,
          6,
          null
         ]
        },
        {
         "hoverinfo": "text",
         "line": {
          "color": "cornflowerblue",
          "width": 0.14803630332719128
         },
         "mode": "lines",
         "text": "0.148",
         "type": "scatter",
         "x": [
          11,
          12,
          null
         ],
         "y": [
          11,
          4,
          null
         ]
        },
        {
         "hoverinfo": "text",
         "line": {
          "color": "cornflowerblue",
          "width": 0.33545213525070333
         },
         "mode": "lines",
         "text": "0.335",
         "type": "scatter",
         "x": [
          12,
          13,
          null
         ],
         "y": [
          0,
          0,
          null
         ]
        },
        {
         "hoverinfo": "text",
         "line": {
          "color": "cornflowerblue",
          "width": 0.18617029607808805
         },
         "mode": "lines",
         "text": "0.186",
         "type": "scatter",
         "x": [
          12,
          13,
          null
         ],
         "y": [
          0,
          1,
          null
         ]
        },
        {
         "hoverinfo": "text",
         "line": {
          "color": "cornflowerblue",
          "width": 0.2442938505154675
         },
         "mode": "lines",
         "text": "0.244",
         "type": "scatter",
         "x": [
          12,
          13,
          null
         ],
         "y": [
          0,
          2,
          null
         ]
        },
        {
         "hoverinfo": "text",
         "line": {
          "color": "cornflowerblue",
          "width": 0.17482937103507407
         },
         "mode": "lines",
         "text": "0.175",
         "type": "scatter",
         "x": [
          12,
          13,
          null
         ],
         "y": [
          0,
          3,
          null
         ]
        },
        {
         "hoverinfo": "text",
         "line": {
          "color": "cornflowerblue",
          "width": 0.20162536974582748
         },
         "mode": "lines",
         "text": "0.202",
         "type": "scatter",
         "x": [
          12,
          13,
          null
         ],
         "y": [
          0,
          4,
          null
         ]
        },
        {
         "hoverinfo": "text",
         "line": {
          "color": "cornflowerblue",
          "width": 0.2195175818734076
         },
         "mode": "lines",
         "text": "0.22",
         "type": "scatter",
         "x": [
          12,
          13,
          null
         ],
         "y": [
          1,
          0,
          null
         ]
        },
        {
         "hoverinfo": "text",
         "line": {
          "color": "cornflowerblue",
          "width": 0.19296056205452003
         },
         "mode": "lines",
         "text": "0.193",
         "type": "scatter",
         "x": [
          12,
          13,
          null
         ],
         "y": [
          1,
          1,
          null
         ]
        },
        {
         "hoverinfo": "text",
         "line": {
          "color": "cornflowerblue",
          "width": 0.17887313628936602
         },
         "mode": "lines",
         "text": "0.179",
         "type": "scatter",
         "x": [
          12,
          13,
          null
         ],
         "y": [
          1,
          2,
          null
         ]
        },
        {
         "hoverinfo": "text",
         "line": {
          "color": "cornflowerblue",
          "width": 0.17395035696074404
         },
         "mode": "lines",
         "text": "0.174",
         "type": "scatter",
         "x": [
          12,
          13,
          null
         ],
         "y": [
          1,
          3,
          null
         ]
        },
        {
         "hoverinfo": "text",
         "line": {
          "color": "cornflowerblue",
          "width": 0.18319246958531682
         },
         "mode": "lines",
         "text": "0.183",
         "type": "scatter",
         "x": [
          12,
          13,
          null
         ],
         "y": [
          1,
          4,
          null
         ]
        },
        {
         "hoverinfo": "text",
         "line": {
          "color": "cornflowerblue",
          "width": 0.20858333557919911
         },
         "mode": "lines",
         "text": "0.209",
         "type": "scatter",
         "x": [
          12,
          13,
          null
         ],
         "y": [
          2,
          0,
          null
         ]
        },
        {
         "hoverinfo": "text",
         "line": {
          "color": "cornflowerblue",
          "width": 0.18725212119517384
         },
         "mode": "lines",
         "text": "0.187",
         "type": "scatter",
         "x": [
          12,
          13,
          null
         ],
         "y": [
          2,
          1,
          null
         ]
        },
        {
         "hoverinfo": "text",
         "line": {
          "color": "cornflowerblue",
          "width": 0.2126518267080671
         },
         "mode": "lines",
         "text": "0.213",
         "type": "scatter",
         "x": [
          12,
          13,
          null
         ],
         "y": [
          2,
          2,
          null
         ]
        },
        {
         "hoverinfo": "text",
         "line": {
          "color": "cornflowerblue",
          "width": 0.19750617540706827
         },
         "mode": "lines",
         "text": "0.198",
         "type": "scatter",
         "x": [
          12,
          13,
          null
         ],
         "y": [
          2,
          3,
          null
         ]
        },
        {
         "hoverinfo": "text",
         "line": {
          "color": "cornflowerblue",
          "width": 0.522424821527766
         },
         "mode": "lines",
         "text": "0.522",
         "type": "scatter",
         "x": [
          12,
          13,
          null
         ],
         "y": [
          2,
          4,
          null
         ]
        },
        {
         "hoverinfo": "text",
         "line": {
          "color": "cornflowerblue",
          "width": 0.19122100241121037
         },
         "mode": "lines",
         "text": "0.191",
         "type": "scatter",
         "x": [
          12,
          13,
          null
         ],
         "y": [
          3,
          0,
          null
         ]
        },
        {
         "hoverinfo": "text",
         "line": {
          "color": "cornflowerblue",
          "width": 0.23212887843556054
         },
         "mode": "lines",
         "text": "0.232",
         "type": "scatter",
         "x": [
          12,
          13,
          null
         ],
         "y": [
          3,
          1,
          null
         ]
        },
        {
         "hoverinfo": "text",
         "line": {
          "color": "cornflowerblue",
          "width": 0.19618856092034734
         },
         "mode": "lines",
         "text": "0.196",
         "type": "scatter",
         "x": [
          12,
          13,
          null
         ],
         "y": [
          3,
          2,
          null
         ]
        },
        {
         "hoverinfo": "text",
         "line": {
          "color": "cornflowerblue",
          "width": 0.1772800741828685
         },
         "mode": "lines",
         "text": "0.177",
         "type": "scatter",
         "x": [
          12,
          13,
          null
         ],
         "y": [
          3,
          3,
          null
         ]
        },
        {
         "hoverinfo": "text",
         "line": {
          "color": "cornflowerblue",
          "width": 0.1947409856253984
         },
         "mode": "lines",
         "text": "0.195",
         "type": "scatter",
         "x": [
          12,
          13,
          null
         ],
         "y": [
          3,
          4,
          null
         ]
        },
        {
         "hoverinfo": "text",
         "line": {
          "color": "cornflowerblue",
          "width": 0.17115135802026066
         },
         "mode": "lines",
         "text": "0.171",
         "type": "scatter",
         "x": [
          12,
          13,
          null
         ],
         "y": [
          4,
          0,
          null
         ]
        },
        {
         "hoverinfo": "text",
         "line": {
          "color": "cornflowerblue",
          "width": 0.17052845606645783
         },
         "mode": "lines",
         "text": "0.171",
         "type": "scatter",
         "x": [
          12,
          13,
          null
         ],
         "y": [
          4,
          1,
          null
         ]
        },
        {
         "hoverinfo": "text",
         "line": {
          "color": "cornflowerblue",
          "width": 0.174851924406577
         },
         "mode": "lines",
         "text": "0.175",
         "type": "scatter",
         "x": [
          12,
          13,
          null
         ],
         "y": [
          4,
          2,
          null
         ]
        },
        {
         "hoverinfo": "text",
         "line": {
          "color": "cornflowerblue",
          "width": 0.3449844307631087
         },
         "mode": "lines",
         "text": "0.345",
         "type": "scatter",
         "x": [
          12,
          13,
          null
         ],
         "y": [
          4,
          3,
          null
         ]
        },
        {
         "hoverinfo": "text",
         "line": {
          "color": "cornflowerblue",
          "width": 0.19095763173893443
         },
         "mode": "lines",
         "text": "0.191",
         "type": "scatter",
         "x": [
          12,
          13,
          null
         ],
         "y": [
          4,
          4,
          null
         ]
        },
        {
         "hoverinfo": "text",
         "line": {
          "color": "cornflowerblue",
          "width": 0.17079072351000157
         },
         "mode": "lines",
         "text": "0.171",
         "type": "scatter",
         "x": [
          12,
          13,
          null
         ],
         "y": [
          5,
          0,
          null
         ]
        },
        {
         "hoverinfo": "text",
         "line": {
          "color": "cornflowerblue",
          "width": 0.1643344128908143
         },
         "mode": "lines",
         "text": "0.164",
         "type": "scatter",
         "x": [
          12,
          13,
          null
         ],
         "y": [
          5,
          1,
          null
         ]
        },
        {
         "hoverinfo": "text",
         "line": {
          "color": "cornflowerblue",
          "width": 0.16339584571365645
         },
         "mode": "lines",
         "text": "0.163",
         "type": "scatter",
         "x": [
          12,
          13,
          null
         ],
         "y": [
          5,
          2,
          null
         ]
        },
        {
         "hoverinfo": "text",
         "line": {
          "color": "cornflowerblue",
          "width": 0.15881552808894608
         },
         "mode": "lines",
         "text": "0.159",
         "type": "scatter",
         "x": [
          12,
          13,
          null
         ],
         "y": [
          5,
          3,
          null
         ]
        },
        {
         "hoverinfo": "text",
         "line": {
          "color": "cornflowerblue",
          "width": 0.1623604618952842
         },
         "mode": "lines",
         "text": "0.162",
         "type": "scatter",
         "x": [
          12,
          13,
          null
         ],
         "y": [
          5,
          4,
          null
         ]
        },
        {
         "hoverinfo": "text",
         "line": {
          "color": "cornflowerblue",
          "width": 0.1534982035029604
         },
         "mode": "lines",
         "text": "0.153",
         "type": "scatter",
         "x": [
          12,
          13,
          null
         ],
         "y": [
          6,
          0,
          null
         ]
        },
        {
         "hoverinfo": "text",
         "line": {
          "color": "cornflowerblue",
          "width": 0.15652826601125522
         },
         "mode": "lines",
         "text": "0.157",
         "type": "scatter",
         "x": [
          12,
          13,
          null
         ],
         "y": [
          6,
          1,
          null
         ]
        },
        {
         "hoverinfo": "text",
         "line": {
          "color": "cornflowerblue",
          "width": 0.15421100856189607
         },
         "mode": "lines",
         "text": "0.154",
         "type": "scatter",
         "x": [
          12,
          13,
          null
         ],
         "y": [
          6,
          2,
          null
         ]
        },
        {
         "hoverinfo": "text",
         "line": {
          "color": "cornflowerblue",
          "width": 0.1588285888254352
         },
         "mode": "lines",
         "text": "0.159",
         "type": "scatter",
         "x": [
          12,
          13,
          null
         ],
         "y": [
          6,
          3,
          null
         ]
        },
        {
         "hoverinfo": "text",
         "line": {
          "color": "cornflowerblue",
          "width": 0.15555882231323484
         },
         "mode": "lines",
         "text": "0.156",
         "type": "scatter",
         "x": [
          12,
          13,
          null
         ],
         "y": [
          6,
          4,
          null
         ]
        },
        {
         "hoverinfo": "text",
         "line": {
          "color": "cornflowerblue",
          "width": 0.1482786493878309
         },
         "mode": "lines",
         "text": "0.148",
         "type": "scatter",
         "x": [
          12,
          13,
          null
         ],
         "y": [
          7,
          1,
          null
         ]
        },
        {
         "hoverinfo": "text",
         "line": {
          "color": "cornflowerblue",
          "width": 0.14700985755584722
         },
         "mode": "lines",
         "text": "0.147",
         "type": "scatter",
         "x": [
          12,
          13,
          null
         ],
         "y": [
          7,
          2,
          null
         ]
        },
        {
         "hoverinfo": "text",
         "line": {
          "color": "cornflowerblue",
          "width": 0.15066216812068953
         },
         "mode": "lines",
         "text": "0.151",
         "type": "scatter",
         "x": [
          12,
          13,
          null
         ],
         "y": [
          7,
          3,
          null
         ]
        },
        {
         "hoverinfo": "text",
         "line": {
          "color": "cornflowerblue",
          "width": 0.14612744611668188
         },
         "mode": "lines",
         "text": "0.146",
         "type": "scatter",
         "x": [
          12,
          13,
          null
         ],
         "y": [
          8,
          3,
          null
         ]
        },
        {
         "hoverinfo": "text",
         "line": {
          "color": "cornflowerblue",
          "width": 0.19077525808590198
         },
         "mode": "lines",
         "text": "0.191",
         "type": "scatter",
         "x": [
          13,
          14,
          null
         ],
         "y": [
          0,
          0,
          null
         ]
        },
        {
         "hoverinfo": "text",
         "line": {
          "color": "cornflowerblue",
          "width": 0.17215047467717523
         },
         "mode": "lines",
         "text": "0.172",
         "type": "scatter",
         "x": [
          13,
          14,
          null
         ],
         "y": [
          0,
          1,
          null
         ]
        },
        {
         "hoverinfo": "text",
         "line": {
          "color": "cornflowerblue",
          "width": 0.19200026081386537
         },
         "mode": "lines",
         "text": "0.192",
         "type": "scatter",
         "x": [
          13,
          14,
          null
         ],
         "y": [
          0,
          2,
          null
         ]
        },
        {
         "hoverinfo": "text",
         "line": {
          "color": "cornflowerblue",
          "width": 0.1709236815667606
         },
         "mode": "lines",
         "text": "0.171",
         "type": "scatter",
         "x": [
          13,
          14,
          null
         ],
         "y": [
          0,
          3,
          null
         ]
        },
        {
         "hoverinfo": "text",
         "line": {
          "color": "cornflowerblue",
          "width": 0.43306796628590727
         },
         "mode": "lines",
         "text": "0.433",
         "type": "scatter",
         "x": [
          13,
          14,
          null
         ],
         "y": [
          0,
          4,
          null
         ]
        },
        {
         "hoverinfo": "text",
         "line": {
          "color": "cornflowerblue",
          "width": 0.20906012737958585
         },
         "mode": "lines",
         "text": "0.209",
         "type": "scatter",
         "x": [
          13,
          14,
          null
         ],
         "y": [
          0,
          5,
          null
         ]
        },
        {
         "hoverinfo": "text",
         "line": {
          "color": "cornflowerblue",
          "width": 0.1548431099441155
         },
         "mode": "lines",
         "text": "0.155",
         "type": "scatter",
         "x": [
          13,
          14,
          null
         ],
         "y": [
          0,
          6,
          null
         ]
        },
        {
         "hoverinfo": "text",
         "line": {
          "color": "cornflowerblue",
          "width": 0.15332544660575056
         },
         "mode": "lines",
         "text": "0.153",
         "type": "scatter",
         "x": [
          13,
          14,
          null
         ],
         "y": [
          0,
          7,
          null
         ]
        },
        {
         "hoverinfo": "text",
         "line": {
          "color": "cornflowerblue",
          "width": 0.17907369074575577
         },
         "mode": "lines",
         "text": "0.179",
         "type": "scatter",
         "x": [
          13,
          14,
          null
         ],
         "y": [
          1,
          0,
          null
         ]
        },
        {
         "hoverinfo": "text",
         "line": {
          "color": "cornflowerblue",
          "width": 0.187016823211812
         },
         "mode": "lines",
         "text": "0.187",
         "type": "scatter",
         "x": [
          13,
          14,
          null
         ],
         "y": [
          1,
          1,
          null
         ]
        },
        {
         "hoverinfo": "text",
         "line": {
          "color": "cornflowerblue",
          "width": 0.22826726587321583
         },
         "mode": "lines",
         "text": "0.228",
         "type": "scatter",
         "x": [
          13,
          14,
          null
         ],
         "y": [
          1,
          2,
          null
         ]
        },
        {
         "hoverinfo": "text",
         "line": {
          "color": "cornflowerblue",
          "width": 0.18508198104440354
         },
         "mode": "lines",
         "text": "0.185",
         "type": "scatter",
         "x": [
          13,
          14,
          null
         ],
         "y": [
          1,
          3,
          null
         ]
        },
        {
         "hoverinfo": "text",
         "line": {
          "color": "cornflowerblue",
          "width": 0.18889871187488916
         },
         "mode": "lines",
         "text": "0.189",
         "type": "scatter",
         "x": [
          13,
          14,
          null
         ],
         "y": [
          1,
          4,
          null
         ]
        },
        {
         "hoverinfo": "text",
         "line": {
          "color": "cornflowerblue",
          "width": 0.18884567306761915
         },
         "mode": "lines",
         "text": "0.189",
         "type": "scatter",
         "x": [
          13,
          14,
          null
         ],
         "y": [
          1,
          5,
          null
         ]
        },
        {
         "hoverinfo": "text",
         "line": {
          "color": "cornflowerblue",
          "width": 0.1584068386580693
         },
         "mode": "lines",
         "text": "0.158",
         "type": "scatter",
         "x": [
          13,
          14,
          null
         ],
         "y": [
          1,
          6,
          null
         ]
        },
        {
         "hoverinfo": "text",
         "line": {
          "color": "cornflowerblue",
          "width": 0.15422220785060253
         },
         "mode": "lines",
         "text": "0.154",
         "type": "scatter",
         "x": [
          13,
          14,
          null
         ],
         "y": [
          1,
          7,
          null
         ]
        },
        {
         "hoverinfo": "text",
         "line": {
          "color": "cornflowerblue",
          "width": 0.27518504087921203
         },
         "mode": "lines",
         "text": "0.275",
         "type": "scatter",
         "x": [
          13,
          14,
          null
         ],
         "y": [
          2,
          0,
          null
         ]
        },
        {
         "hoverinfo": "text",
         "line": {
          "color": "cornflowerblue",
          "width": 0.16653510308383163
         },
         "mode": "lines",
         "text": "0.167",
         "type": "scatter",
         "x": [
          13,
          14,
          null
         ],
         "y": [
          2,
          1,
          null
         ]
        },
        {
         "hoverinfo": "text",
         "line": {
          "color": "cornflowerblue",
          "width": 0.18574013303331935
         },
         "mode": "lines",
         "text": "0.186",
         "type": "scatter",
         "x": [
          13,
          14,
          null
         ],
         "y": [
          2,
          2,
          null
         ]
        },
        {
         "hoverinfo": "text",
         "line": {
          "color": "cornflowerblue",
          "width": 0.16780480532708372
         },
         "mode": "lines",
         "text": "0.168",
         "type": "scatter",
         "x": [
          13,
          14,
          null
         ],
         "y": [
          2,
          3,
          null
         ]
        },
        {
         "hoverinfo": "text",
         "line": {
          "color": "cornflowerblue",
          "width": 0.19798293927777807
         },
         "mode": "lines",
         "text": "0.198",
         "type": "scatter",
         "x": [
          13,
          14,
          null
         ],
         "y": [
          2,
          4,
          null
         ]
        },
        {
         "hoverinfo": "text",
         "line": {
          "color": "cornflowerblue",
          "width": 0.21776171472029202
         },
         "mode": "lines",
         "text": "0.218",
         "type": "scatter",
         "x": [
          13,
          14,
          null
         ],
         "y": [
          2,
          5,
          null
         ]
        },
        {
         "hoverinfo": "text",
         "line": {
          "color": "cornflowerblue",
          "width": 0.15940605334567215
         },
         "mode": "lines",
         "text": "0.159",
         "type": "scatter",
         "x": [
          13,
          14,
          null
         ],
         "y": [
          2,
          6,
          null
         ]
        },
        {
         "hoverinfo": "text",
         "line": {
          "color": "cornflowerblue",
          "width": 0.15880916647336604
         },
         "mode": "lines",
         "text": "0.159",
         "type": "scatter",
         "x": [
          13,
          14,
          null
         ],
         "y": [
          2,
          7,
          null
         ]
        },
        {
         "hoverinfo": "text",
         "line": {
          "color": "cornflowerblue",
          "width": 0.24219988653026364
         },
         "mode": "lines",
         "text": "0.242",
         "type": "scatter",
         "x": [
          13,
          14,
          null
         ],
         "y": [
          3,
          0,
          null
         ]
        },
        {
         "hoverinfo": "text",
         "line": {
          "color": "cornflowerblue",
          "width": 0.1627224035632249
         },
         "mode": "lines",
         "text": "0.163",
         "type": "scatter",
         "x": [
          13,
          14,
          null
         ],
         "y": [
          3,
          1,
          null
         ]
        },
        {
         "hoverinfo": "text",
         "line": {
          "color": "cornflowerblue",
          "width": 0.17585235331197777
         },
         "mode": "lines",
         "text": "0.176",
         "type": "scatter",
         "x": [
          13,
          14,
          null
         ],
         "y": [
          3,
          2,
          null
         ]
        },
        {
         "hoverinfo": "text",
         "line": {
          "color": "cornflowerblue",
          "width": 0.1659883091929048
         },
         "mode": "lines",
         "text": "0.166",
         "type": "scatter",
         "x": [
          13,
          14,
          null
         ],
         "y": [
          3,
          3,
          null
         ]
        },
        {
         "hoverinfo": "text",
         "line": {
          "color": "cornflowerblue",
          "width": 0.17699153507448206
         },
         "mode": "lines",
         "text": "0.177",
         "type": "scatter",
         "x": [
          13,
          14,
          null
         ],
         "y": [
          3,
          4,
          null
         ]
        },
        {
         "hoverinfo": "text",
         "line": {
          "color": "cornflowerblue",
          "width": 0.19720661407862844
         },
         "mode": "lines",
         "text": "0.197",
         "type": "scatter",
         "x": [
          13,
          14,
          null
         ],
         "y": [
          3,
          5,
          null
         ]
        },
        {
         "hoverinfo": "text",
         "line": {
          "color": "cornflowerblue",
          "width": 0.15742963285443817
         },
         "mode": "lines",
         "text": "0.157",
         "type": "scatter",
         "x": [
          13,
          14,
          null
         ],
         "y": [
          3,
          6,
          null
         ]
        },
        {
         "hoverinfo": "text",
         "line": {
          "color": "cornflowerblue",
          "width": 0.15493032075364474
         },
         "mode": "lines",
         "text": "0.155",
         "type": "scatter",
         "x": [
          13,
          14,
          null
         ],
         "y": [
          3,
          7,
          null
         ]
        },
        {
         "hoverinfo": "text",
         "line": {
          "color": "cornflowerblue",
          "width": 0.20005785690779515
         },
         "mode": "lines",
         "text": "0.2",
         "type": "scatter",
         "x": [
          13,
          14,
          null
         ],
         "y": [
          4,
          0,
          null
         ]
        },
        {
         "hoverinfo": "text",
         "line": {
          "color": "cornflowerblue",
          "width": 0.1656083579434011
         },
         "mode": "lines",
         "text": "0.166",
         "type": "scatter",
         "x": [
          13,
          14,
          null
         ],
         "y": [
          4,
          1,
          null
         ]
        },
        {
         "hoverinfo": "text",
         "line": {
          "color": "cornflowerblue",
          "width": 0.18779350644802864
         },
         "mode": "lines",
         "text": "0.188",
         "type": "scatter",
         "x": [
          13,
          14,
          null
         ],
         "y": [
          4,
          2,
          null
         ]
        },
        {
         "hoverinfo": "text",
         "line": {
          "color": "cornflowerblue",
          "width": 0.16654319921824612
         },
         "mode": "lines",
         "text": "0.167",
         "type": "scatter",
         "x": [
          13,
          14,
          null
         ],
         "y": [
          4,
          3,
          null
         ]
        },
        {
         "hoverinfo": "text",
         "line": {
          "color": "cornflowerblue",
          "width": 0.2049016394118587
         },
         "mode": "lines",
         "text": "0.205",
         "type": "scatter",
         "x": [
          13,
          14,
          null
         ],
         "y": [
          4,
          4,
          null
         ]
        },
        {
         "hoverinfo": "text",
         "line": {
          "color": "cornflowerblue",
          "width": 0.5151916862723787
         },
         "mode": "lines",
         "text": "0.515",
         "type": "scatter",
         "x": [
          13,
          14,
          null
         ],
         "y": [
          4,
          5,
          null
         ]
        },
        {
         "hoverinfo": "text",
         "line": {
          "color": "cornflowerblue",
          "width": 0.15581031435323428
         },
         "mode": "lines",
         "text": "0.156",
         "type": "scatter",
         "x": [
          13,
          14,
          null
         ],
         "y": [
          4,
          6,
          null
         ]
        },
        {
         "hoverinfo": "text",
         "line": {
          "color": "cornflowerblue",
          "width": 0.15095304132529952
         },
         "mode": "lines",
         "text": "0.151",
         "type": "scatter",
         "x": [
          13,
          14,
          null
         ],
         "y": [
          4,
          7,
          null
         ]
        },
        {
         "hoverinfo": "text",
         "line": {
          "color": "cornflowerblue",
          "width": 0.21639161385099828
         },
         "mode": "lines",
         "text": "0.216",
         "type": "scatter",
         "x": [
          14,
          15,
          null
         ],
         "y": [
          0,
          0,
          null
         ]
        },
        {
         "hoverinfo": "text",
         "line": {
          "color": "cornflowerblue",
          "width": 0.1905119890309843
         },
         "mode": "lines",
         "text": "0.191",
         "type": "scatter",
         "x": [
          14,
          15,
          null
         ],
         "y": [
          0,
          1,
          null
         ]
        },
        {
         "hoverinfo": "text",
         "line": {
          "color": "cornflowerblue",
          "width": 0.172525083109049
         },
         "mode": "lines",
         "text": "0.173",
         "type": "scatter",
         "x": [
          14,
          15,
          null
         ],
         "y": [
          0,
          2,
          null
         ]
        },
        {
         "hoverinfo": "text",
         "line": {
          "color": "cornflowerblue",
          "width": 0.27401721335005047
         },
         "mode": "lines",
         "text": "0.274",
         "type": "scatter",
         "x": [
          14,
          15,
          null
         ],
         "y": [
          0,
          3,
          null
         ]
        },
        {
         "hoverinfo": "text",
         "line": {
          "color": "cornflowerblue",
          "width": 0.18678314603616888
         },
         "mode": "lines",
         "text": "0.187",
         "type": "scatter",
         "x": [
          14,
          15,
          null
         ],
         "y": [
          0,
          4,
          null
         ]
        },
        {
         "hoverinfo": "text",
         "line": {
          "color": "cornflowerblue",
          "width": 0.15965698551497967
         },
         "mode": "lines",
         "text": "0.16",
         "type": "scatter",
         "x": [
          14,
          15,
          null
         ],
         "y": [
          0,
          5,
          null
         ]
        },
        {
         "hoverinfo": "text",
         "line": {
          "color": "cornflowerblue",
          "width": 0.1556484327136715
         },
         "mode": "lines",
         "text": "0.156",
         "type": "scatter",
         "x": [
          14,
          15,
          null
         ],
         "y": [
          0,
          6,
          null
         ]
        },
        {
         "hoverinfo": "text",
         "line": {
          "color": "cornflowerblue",
          "width": 0.1509698819123587
         },
         "mode": "lines",
         "text": "0.151",
         "type": "scatter",
         "x": [
          14,
          15,
          null
         ],
         "y": [
          0,
          7,
          null
         ]
        },
        {
         "hoverinfo": "text",
         "line": {
          "color": "cornflowerblue",
          "width": 0.16691695950167323
         },
         "mode": "lines",
         "text": "0.167",
         "type": "scatter",
         "x": [
          14,
          15,
          null
         ],
         "y": [
          1,
          0,
          null
         ]
        },
        {
         "hoverinfo": "text",
         "line": {
          "color": "cornflowerblue",
          "width": 0.17135516577921533
         },
         "mode": "lines",
         "text": "0.171",
         "type": "scatter",
         "x": [
          14,
          15,
          null
         ],
         "y": [
          1,
          1,
          null
         ]
        },
        {
         "hoverinfo": "text",
         "line": {
          "color": "cornflowerblue",
          "width": 0.20360066709867314
         },
         "mode": "lines",
         "text": "0.204",
         "type": "scatter",
         "x": [
          14,
          15,
          null
         ],
         "y": [
          1,
          2,
          null
         ]
        },
        {
         "hoverinfo": "text",
         "line": {
          "color": "cornflowerblue",
          "width": 0.16763223025495264
         },
         "mode": "lines",
         "text": "0.168",
         "type": "scatter",
         "x": [
          14,
          15,
          null
         ],
         "y": [
          1,
          3,
          null
         ]
        },
        {
         "hoverinfo": "text",
         "line": {
          "color": "cornflowerblue",
          "width": 0.1697225495291591
         },
         "mode": "lines",
         "text": "0.17",
         "type": "scatter",
         "x": [
          14,
          15,
          null
         ],
         "y": [
          1,
          4,
          null
         ]
        },
        {
         "hoverinfo": "text",
         "line": {
          "color": "cornflowerblue",
          "width": 0.1558476103498744
         },
         "mode": "lines",
         "text": "0.156",
         "type": "scatter",
         "x": [
          14,
          15,
          null
         ],
         "y": [
          1,
          5,
          null
         ]
        },
        {
         "hoverinfo": "text",
         "line": {
          "color": "cornflowerblue",
          "width": 0.15490769485439326
         },
         "mode": "lines",
         "text": "0.155",
         "type": "scatter",
         "x": [
          14,
          15,
          null
         ],
         "y": [
          1,
          6,
          null
         ]
        },
        {
         "hoverinfo": "text",
         "line": {
          "color": "cornflowerblue",
          "width": 0.14997371736870296
         },
         "mode": "lines",
         "text": "0.15",
         "type": "scatter",
         "x": [
          14,
          15,
          null
         ],
         "y": [
          1,
          7,
          null
         ]
        },
        {
         "hoverinfo": "text",
         "line": {
          "color": "cornflowerblue",
          "width": 0.18748506279407465
         },
         "mode": "lines",
         "text": "0.187",
         "type": "scatter",
         "x": [
          14,
          15,
          null
         ],
         "y": [
          2,
          0,
          null
         ]
        },
        {
         "hoverinfo": "text",
         "line": {
          "color": "cornflowerblue",
          "width": 0.1871800447619972
         },
         "mode": "lines",
         "text": "0.187",
         "type": "scatter",
         "x": [
          14,
          15,
          null
         ],
         "y": [
          2,
          1,
          null
         ]
        },
        {
         "hoverinfo": "text",
         "line": {
          "color": "cornflowerblue",
          "width": 0.19308973438799548
         },
         "mode": "lines",
         "text": "0.193",
         "type": "scatter",
         "x": [
          14,
          15,
          null
         ],
         "y": [
          2,
          2,
          null
         ]
        },
        {
         "hoverinfo": "text",
         "line": {
          "color": "cornflowerblue",
          "width": 0.18433730014415536
         },
         "mode": "lines",
         "text": "0.184",
         "type": "scatter",
         "x": [
          14,
          15,
          null
         ],
         "y": [
          2,
          3,
          null
         ]
        },
        {
         "hoverinfo": "text",
         "line": {
          "color": "cornflowerblue",
          "width": 0.22820183878231343
         },
         "mode": "lines",
         "text": "0.228",
         "type": "scatter",
         "x": [
          14,
          15,
          null
         ],
         "y": [
          2,
          4,
          null
         ]
        },
        {
         "hoverinfo": "text",
         "line": {
          "color": "cornflowerblue",
          "width": 0.16446350605953483
         },
         "mode": "lines",
         "text": "0.164",
         "type": "scatter",
         "x": [
          14,
          15,
          null
         ],
         "y": [
          2,
          5,
          null
         ]
        },
        {
         "hoverinfo": "text",
         "line": {
          "color": "cornflowerblue",
          "width": 0.15612134031970556
         },
         "mode": "lines",
         "text": "0.156",
         "type": "scatter",
         "x": [
          14,
          15,
          null
         ],
         "y": [
          2,
          6,
          null
         ]
        },
        {
         "hoverinfo": "text",
         "line": {
          "color": "cornflowerblue",
          "width": 0.15070088652139096
         },
         "mode": "lines",
         "text": "0.151",
         "type": "scatter",
         "x": [
          14,
          15,
          null
         ],
         "y": [
          2,
          7,
          null
         ]
        },
        {
         "hoverinfo": "text",
         "line": {
          "color": "cornflowerblue",
          "width": 0.16718240607161647
         },
         "mode": "lines",
         "text": "0.167",
         "type": "scatter",
         "x": [
          14,
          15,
          null
         ],
         "y": [
          3,
          0,
          null
         ]
        },
        {
         "hoverinfo": "text",
         "line": {
          "color": "cornflowerblue",
          "width": 0.17110014889157613
         },
         "mode": "lines",
         "text": "0.171",
         "type": "scatter",
         "x": [
          14,
          15,
          null
         ],
         "y": [
          3,
          1,
          null
         ]
        },
        {
         "hoverinfo": "text",
         "line": {
          "color": "cornflowerblue",
          "width": 0.17737069394383387
         },
         "mode": "lines",
         "text": "0.177",
         "type": "scatter",
         "x": [
          14,
          15,
          null
         ],
         "y": [
          3,
          2,
          null
         ]
        },
        {
         "hoverinfo": "text",
         "line": {
          "color": "cornflowerblue",
          "width": 0.1697282926702373
         },
         "mode": "lines",
         "text": "0.17",
         "type": "scatter",
         "x": [
          14,
          15,
          null
         ],
         "y": [
          3,
          3,
          null
         ]
        },
        {
         "hoverinfo": "text",
         "line": {
          "color": "cornflowerblue",
          "width": 0.1775869917508674
         },
         "mode": "lines",
         "text": "0.178",
         "type": "scatter",
         "x": [
          14,
          15,
          null
         ],
         "y": [
          3,
          4,
          null
         ]
        },
        {
         "hoverinfo": "text",
         "line": {
          "color": "cornflowerblue",
          "width": 0.16018363192817814
         },
         "mode": "lines",
         "text": "0.16",
         "type": "scatter",
         "x": [
          14,
          15,
          null
         ],
         "y": [
          3,
          5,
          null
         ]
        },
        {
         "hoverinfo": "text",
         "line": {
          "color": "cornflowerblue",
          "width": 0.15545296173980275
         },
         "mode": "lines",
         "text": "0.155",
         "type": "scatter",
         "x": [
          14,
          15,
          null
         ],
         "y": [
          3,
          6,
          null
         ]
        },
        {
         "hoverinfo": "text",
         "line": {
          "color": "cornflowerblue",
          "width": 0.15246363664298435
         },
         "mode": "lines",
         "text": "0.152",
         "type": "scatter",
         "x": [
          14,
          15,
          null
         ],
         "y": [
          3,
          7,
          null
         ]
        },
        {
         "hoverinfo": "text",
         "line": {
          "color": "cornflowerblue",
          "width": 0.20621778926994708
         },
         "mode": "lines",
         "text": "0.206",
         "type": "scatter",
         "x": [
          14,
          15,
          null
         ],
         "y": [
          4,
          0,
          null
         ]
        },
        {
         "hoverinfo": "text",
         "line": {
          "color": "cornflowerblue",
          "width": 0.40528635443441713
         },
         "mode": "lines",
         "text": "0.405",
         "type": "scatter",
         "x": [
          14,
          15,
          null
         ],
         "y": [
          4,
          1,
          null
         ]
        },
        {
         "hoverinfo": "text",
         "line": {
          "color": "cornflowerblue",
          "width": 0.1790158774296298
         },
         "mode": "lines",
         "text": "0.179",
         "type": "scatter",
         "x": [
          14,
          15,
          null
         ],
         "y": [
          4,
          2,
          null
         ]
        },
        {
         "hoverinfo": "text",
         "line": {
          "color": "cornflowerblue",
          "width": 0.20229516461856512
         },
         "mode": "lines",
         "text": "0.202",
         "type": "scatter",
         "x": [
          14,
          15,
          null
         ],
         "y": [
          4,
          3,
          null
         ]
        },
        {
         "hoverinfo": "text",
         "line": {
          "color": "cornflowerblue",
          "width": 0.21069267136268166
         },
         "mode": "lines",
         "text": "0.211",
         "type": "scatter",
         "x": [
          14,
          15,
          null
         ],
         "y": [
          4,
          4,
          null
         ]
        },
        {
         "hoverinfo": "text",
         "line": {
          "color": "cornflowerblue",
          "width": 0.15629955402916254
         },
         "mode": "lines",
         "text": "0.156",
         "type": "scatter",
         "x": [
          14,
          15,
          null
         ],
         "y": [
          4,
          5,
          null
         ]
        },
        {
         "hoverinfo": "text",
         "line": {
          "color": "cornflowerblue",
          "width": 0.15560379273187908
         },
         "mode": "lines",
         "text": "0.156",
         "type": "scatter",
         "x": [
          14,
          15,
          null
         ],
         "y": [
          4,
          6,
          null
         ]
        },
        {
         "hoverinfo": "text",
         "line": {
          "color": "cornflowerblue",
          "width": 0.14937995269083004
         },
         "mode": "lines",
         "text": "0.149",
         "type": "scatter",
         "x": [
          14,
          15,
          null
         ],
         "y": [
          4,
          7,
          null
         ]
        },
        {
         "hoverinfo": "text",
         "line": {
          "color": "cornflowerblue",
          "width": 0.48984691813469905
         },
         "mode": "lines",
         "text": "0.49",
         "type": "scatter",
         "x": [
          14,
          15,
          null
         ],
         "y": [
          5,
          0,
          null
         ]
        },
        {
         "hoverinfo": "text",
         "line": {
          "color": "cornflowerblue",
          "width": 0.21753893888164305
         },
         "mode": "lines",
         "text": "0.218",
         "type": "scatter",
         "x": [
          14,
          15,
          null
         ],
         "y": [
          5,
          1,
          null
         ]
        },
        {
         "hoverinfo": "text",
         "line": {
          "color": "cornflowerblue",
          "width": 0.17637997107167824
         },
         "mode": "lines",
         "text": "0.176",
         "type": "scatter",
         "x": [
          14,
          15,
          null
         ],
         "y": [
          5,
          2,
          null
         ]
        },
        {
         "hoverinfo": "text",
         "line": {
          "color": "cornflowerblue",
          "width": 0.2195200464556009
         },
         "mode": "lines",
         "text": "0.22",
         "type": "scatter",
         "x": [
          14,
          15,
          null
         ],
         "y": [
          5,
          3,
          null
         ]
        },
        {
         "hoverinfo": "text",
         "line": {
          "color": "cornflowerblue",
          "width": 0.19730297570615069
         },
         "mode": "lines",
         "text": "0.197",
         "type": "scatter",
         "x": [
          14,
          15,
          null
         ],
         "y": [
          5,
          4,
          null
         ]
        },
        {
         "hoverinfo": "text",
         "line": {
          "color": "cornflowerblue",
          "width": 0.15537850194462757
         },
         "mode": "lines",
         "text": "0.155",
         "type": "scatter",
         "x": [
          14,
          15,
          null
         ],
         "y": [
          5,
          5,
          null
         ]
        },
        {
         "hoverinfo": "text",
         "line": {
          "color": "cornflowerblue",
          "width": 0.15701355501414407
         },
         "mode": "lines",
         "text": "0.157",
         "type": "scatter",
         "x": [
          14,
          15,
          null
         ],
         "y": [
          5,
          6,
          null
         ]
        },
        {
         "hoverinfo": "text",
         "line": {
          "color": "cornflowerblue",
          "width": 0.15165116216538582
         },
         "mode": "lines",
         "text": "0.152",
         "type": "scatter",
         "x": [
          14,
          15,
          null
         ],
         "y": [
          5,
          7,
          null
         ]
        },
        {
         "hoverinfo": "text",
         "line": {
          "color": "cornflowerblue",
          "width": 0.15626985797403614
         },
         "mode": "lines",
         "text": "0.156",
         "type": "scatter",
         "x": [
          14,
          15,
          null
         ],
         "y": [
          6,
          0,
          null
         ]
        },
        {
         "hoverinfo": "text",
         "line": {
          "color": "cornflowerblue",
          "width": 0.15470438078933985
         },
         "mode": "lines",
         "text": "0.155",
         "type": "scatter",
         "x": [
          14,
          15,
          null
         ],
         "y": [
          6,
          1,
          null
         ]
        },
        {
         "hoverinfo": "text",
         "line": {
          "color": "cornflowerblue",
          "width": 0.15816972868312293
         },
         "mode": "lines",
         "text": "0.158",
         "type": "scatter",
         "x": [
          14,
          15,
          null
         ],
         "y": [
          6,
          2,
          null
         ]
        },
        {
         "hoverinfo": "text",
         "line": {
          "color": "cornflowerblue",
          "width": 0.15851860737711992
         },
         "mode": "lines",
         "text": "0.159",
         "type": "scatter",
         "x": [
          14,
          15,
          null
         ],
         "y": [
          6,
          3,
          null
         ]
        },
        {
         "hoverinfo": "text",
         "line": {
          "color": "cornflowerblue",
          "width": 0.15744301624533397
         },
         "mode": "lines",
         "text": "0.157",
         "type": "scatter",
         "x": [
          14,
          15,
          null
         ],
         "y": [
          6,
          4,
          null
         ]
        },
        {
         "hoverinfo": "text",
         "line": {
          "color": "cornflowerblue",
          "width": 0.15551202856305046
         },
         "mode": "lines",
         "text": "0.156",
         "type": "scatter",
         "x": [
          14,
          15,
          null
         ],
         "y": [
          6,
          5,
          null
         ]
        },
        {
         "hoverinfo": "text",
         "line": {
          "color": "cornflowerblue",
          "width": 0.1525553254072389
         },
         "mode": "lines",
         "text": "0.153",
         "type": "scatter",
         "x": [
          14,
          15,
          null
         ],
         "y": [
          6,
          6,
          null
         ]
        },
        {
         "hoverinfo": "text",
         "line": {
          "color": "cornflowerblue",
          "width": 0.14994378104276299
         },
         "mode": "lines",
         "text": "0.15",
         "type": "scatter",
         "x": [
          14,
          15,
          null
         ],
         "y": [
          6,
          7,
          null
         ]
        },
        {
         "hoverinfo": "text",
         "line": {
          "color": "cornflowerblue",
          "width": 0.1515033818809681
         },
         "mode": "lines",
         "text": "0.152",
         "type": "scatter",
         "x": [
          14,
          15,
          null
         ],
         "y": [
          7,
          0,
          null
         ]
        },
        {
         "hoverinfo": "text",
         "line": {
          "color": "cornflowerblue",
          "width": 0.15330392165586015
         },
         "mode": "lines",
         "text": "0.153",
         "type": "scatter",
         "x": [
          14,
          15,
          null
         ],
         "y": [
          7,
          1,
          null
         ]
        },
        {
         "hoverinfo": "text",
         "line": {
          "color": "cornflowerblue",
          "width": 0.153548568968227
         },
         "mode": "lines",
         "text": "0.154",
         "type": "scatter",
         "x": [
          14,
          15,
          null
         ],
         "y": [
          7,
          2,
          null
         ]
        },
        {
         "hoverinfo": "text",
         "line": {
          "color": "cornflowerblue",
          "width": 0.16017044677550482
         },
         "mode": "lines",
         "text": "0.16",
         "type": "scatter",
         "x": [
          14,
          15,
          null
         ],
         "y": [
          7,
          3,
          null
         ]
        },
        {
         "hoverinfo": "text",
         "line": {
          "color": "cornflowerblue",
          "width": 0.15374660254999226
         },
         "mode": "lines",
         "text": "0.154",
         "type": "scatter",
         "x": [
          14,
          15,
          null
         ],
         "y": [
          7,
          4,
          null
         ]
        },
        {
         "hoverinfo": "text",
         "line": {
          "color": "cornflowerblue",
          "width": 0.15030493313523963
         },
         "mode": "lines",
         "text": "0.15",
         "type": "scatter",
         "x": [
          14,
          15,
          null
         ],
         "y": [
          7,
          5,
          null
         ]
        },
        {
         "hoverinfo": "text",
         "line": {
          "color": "cornflowerblue",
          "width": 0.15388593638790948
         },
         "mode": "lines",
         "text": "0.154",
         "type": "scatter",
         "x": [
          14,
          15,
          null
         ],
         "y": [
          7,
          6,
          null
         ]
        },
        {
         "hoverinfo": "text",
         "line": {
          "color": "cornflowerblue",
          "width": 0.14726095608508008
         },
         "mode": "lines",
         "text": "0.147",
         "type": "scatter",
         "x": [
          14,
          15,
          null
         ],
         "y": [
          7,
          7,
          null
         ]
        },
        {
         "hoverinfo": "text",
         "line": {
          "color": "cornflowerblue",
          "width": 0.21009730280206274
         },
         "mode": "lines",
         "text": "0.21",
         "type": "scatter",
         "x": [
          15,
          16,
          null
         ],
         "y": [
          0,
          0,
          null
         ]
        },
        {
         "hoverinfo": "text",
         "line": {
          "color": "cornflowerblue",
          "width": 0.19259851073314457
         },
         "mode": "lines",
         "text": "0.193",
         "type": "scatter",
         "x": [
          15,
          16,
          null
         ],
         "y": [
          0,
          1,
          null
         ]
        },
        {
         "hoverinfo": "text",
         "line": {
          "color": "cornflowerblue",
          "width": 0.2127082278828198
         },
         "mode": "lines",
         "text": "0.213",
         "type": "scatter",
         "x": [
          15,
          16,
          null
         ],
         "y": [
          0,
          2,
          null
         ]
        },
        {
         "hoverinfo": "text",
         "line": {
          "color": "cornflowerblue",
          "width": 0.19459646909327516
         },
         "mode": "lines",
         "text": "0.195",
         "type": "scatter",
         "x": [
          15,
          16,
          null
         ],
         "y": [
          0,
          3,
          null
         ]
        },
        {
         "hoverinfo": "text",
         "line": {
          "color": "cornflowerblue",
          "width": 0.5380549918762954
         },
         "mode": "lines",
         "text": "0.538",
         "type": "scatter",
         "x": [
          15,
          16,
          null
         ],
         "y": [
          0,
          4,
          null
         ]
        },
        {
         "hoverinfo": "text",
         "line": {
          "color": "cornflowerblue",
          "width": 0.42768531838177465
         },
         "mode": "lines",
         "text": "0.428",
         "type": "scatter",
         "x": [
          15,
          16,
          null
         ],
         "y": [
          1,
          0,
          null
         ]
        },
        {
         "hoverinfo": "text",
         "line": {
          "color": "cornflowerblue",
          "width": 0.19029786461885373
         },
         "mode": "lines",
         "text": "0.19",
         "type": "scatter",
         "x": [
          15,
          16,
          null
         ],
         "y": [
          1,
          1,
          null
         ]
        },
        {
         "hoverinfo": "text",
         "line": {
          "color": "cornflowerblue",
          "width": 0.18368601219775665
         },
         "mode": "lines",
         "text": "0.184",
         "type": "scatter",
         "x": [
          15,
          16,
          null
         ],
         "y": [
          1,
          2,
          null
         ]
        },
        {
         "hoverinfo": "text",
         "line": {
          "color": "cornflowerblue",
          "width": 0.19282369423356907
         },
         "mode": "lines",
         "text": "0.193",
         "type": "scatter",
         "x": [
          15,
          16,
          null
         ],
         "y": [
          1,
          3,
          null
         ]
        },
        {
         "hoverinfo": "text",
         "line": {
          "color": "cornflowerblue",
          "width": 0.2164862885597291
         },
         "mode": "lines",
         "text": "0.216",
         "type": "scatter",
         "x": [
          15,
          16,
          null
         ],
         "y": [
          1,
          4,
          null
         ]
        },
        {
         "hoverinfo": "text",
         "line": {
          "color": "cornflowerblue",
          "width": 0.17715569138416754
         },
         "mode": "lines",
         "text": "0.177",
         "type": "scatter",
         "x": [
          15,
          16,
          null
         ],
         "y": [
          2,
          0,
          null
         ]
        },
        {
         "hoverinfo": "text",
         "line": {
          "color": "cornflowerblue",
          "width": 0.17347186145683693
         },
         "mode": "lines",
         "text": "0.173",
         "type": "scatter",
         "x": [
          15,
          16,
          null
         ],
         "y": [
          2,
          1,
          null
         ]
        },
        {
         "hoverinfo": "text",
         "line": {
          "color": "cornflowerblue",
          "width": 0.1722988462844856
         },
         "mode": "lines",
         "text": "0.172",
         "type": "scatter",
         "x": [
          15,
          16,
          null
         ],
         "y": [
          2,
          2,
          null
         ]
        },
        {
         "hoverinfo": "text",
         "line": {
          "color": "cornflowerblue",
          "width": 0.21091873138000636
         },
         "mode": "lines",
         "text": "0.211",
         "type": "scatter",
         "x": [
          15,
          16,
          null
         ],
         "y": [
          2,
          3,
          null
         ]
        },
        {
         "hoverinfo": "text",
         "line": {
          "color": "cornflowerblue",
          "width": 0.17532623639598677
         },
         "mode": "lines",
         "text": "0.175",
         "type": "scatter",
         "x": [
          15,
          16,
          null
         ],
         "y": [
          2,
          4,
          null
         ]
        },
        {
         "hoverinfo": "text",
         "line": {
          "color": "cornflowerblue",
          "width": 0.2018937813391974
         },
         "mode": "lines",
         "text": "0.202",
         "type": "scatter",
         "x": [
          15,
          16,
          null
         ],
         "y": [
          3,
          0,
          null
         ]
        },
        {
         "hoverinfo": "text",
         "line": {
          "color": "cornflowerblue",
          "width": 0.34934363035874894
         },
         "mode": "lines",
         "text": "0.349",
         "type": "scatter",
         "x": [
          15,
          16,
          null
         ],
         "y": [
          3,
          1,
          null
         ]
        },
        {
         "hoverinfo": "text",
         "line": {
          "color": "cornflowerblue",
          "width": 0.1774910661587357
         },
         "mode": "lines",
         "text": "0.177",
         "type": "scatter",
         "x": [
          15,
          16,
          null
         ],
         "y": [
          3,
          2,
          null
         ]
        },
        {
         "hoverinfo": "text",
         "line": {
          "color": "cornflowerblue",
          "width": 0.19427440215729985
         },
         "mode": "lines",
         "text": "0.194",
         "type": "scatter",
         "x": [
          15,
          16,
          null
         ],
         "y": [
          3,
          3,
          null
         ]
        },
        {
         "hoverinfo": "text",
         "line": {
          "color": "cornflowerblue",
          "width": 0.21525372985292887
         },
         "mode": "lines",
         "text": "0.215",
         "type": "scatter",
         "x": [
          15,
          16,
          null
         ],
         "y": [
          3,
          4,
          null
         ]
        },
        {
         "hoverinfo": "text",
         "line": {
          "color": "cornflowerblue",
          "width": 0.2075693293595491
         },
         "mode": "lines",
         "text": "0.208",
         "type": "scatter",
         "x": [
          15,
          16,
          null
         ],
         "y": [
          4,
          0,
          null
         ]
        },
        {
         "hoverinfo": "text",
         "line": {
          "color": "cornflowerblue",
          "width": 0.19325342674625587
         },
         "mode": "lines",
         "text": "0.193",
         "type": "scatter",
         "x": [
          15,
          16,
          null
         ],
         "y": [
          4,
          1,
          null
         ]
        },
        {
         "hoverinfo": "text",
         "line": {
          "color": "cornflowerblue",
          "width": 0.18290440550160691
         },
         "mode": "lines",
         "text": "0.183",
         "type": "scatter",
         "x": [
          15,
          16,
          null
         ],
         "y": [
          4,
          2,
          null
         ]
        },
        {
         "hoverinfo": "text",
         "line": {
          "color": "cornflowerblue",
          "width": 0.23225874102085461
         },
         "mode": "lines",
         "text": "0.232",
         "type": "scatter",
         "x": [
          15,
          16,
          null
         ],
         "y": [
          4,
          3,
          null
         ]
        },
        {
         "hoverinfo": "text",
         "line": {
          "color": "cornflowerblue",
          "width": 0.1944183140550977
         },
         "mode": "lines",
         "text": "0.194",
         "type": "scatter",
         "x": [
          15,
          16,
          null
         ],
         "y": [
          4,
          4,
          null
         ]
        },
        {
         "hoverinfo": "text",
         "line": {
          "color": "cornflowerblue",
          "width": 0.15550654918099593
         },
         "mode": "lines",
         "text": "0.156",
         "type": "scatter",
         "x": [
          15,
          16,
          null
         ],
         "y": [
          5,
          0,
          null
         ]
        },
        {
         "hoverinfo": "text",
         "line": {
          "color": "cornflowerblue",
          "width": 0.1635136258665528
         },
         "mode": "lines",
         "text": "0.164",
         "type": "scatter",
         "x": [
          15,
          16,
          null
         ],
         "y": [
          5,
          1,
          null
         ]
        },
        {
         "hoverinfo": "text",
         "line": {
          "color": "cornflowerblue",
          "width": 0.1565285363150264
         },
         "mode": "lines",
         "text": "0.157",
         "type": "scatter",
         "x": [
          15,
          16,
          null
         ],
         "y": [
          5,
          2,
          null
         ]
        },
        {
         "hoverinfo": "text",
         "line": {
          "color": "cornflowerblue",
          "width": 0.1617005127810432
         },
         "mode": "lines",
         "text": "0.162",
         "type": "scatter",
         "x": [
          15,
          16,
          null
         ],
         "y": [
          5,
          3,
          null
         ]
        },
        {
         "hoverinfo": "text",
         "line": {
          "color": "cornflowerblue",
          "width": 0.15527320637035633
         },
         "mode": "lines",
         "text": "0.155",
         "type": "scatter",
         "x": [
          15,
          16,
          null
         ],
         "y": [
          5,
          4,
          null
         ]
        },
        {
         "hoverinfo": "text",
         "line": {
          "color": "cornflowerblue",
          "width": 0.15564096910001685
         },
         "mode": "lines",
         "text": "0.156",
         "type": "scatter",
         "x": [
          15,
          16,
          null
         ],
         "y": [
          6,
          0,
          null
         ]
        },
        {
         "hoverinfo": "text",
         "line": {
          "color": "cornflowerblue",
          "width": 0.1541178661775416
         },
         "mode": "lines",
         "text": "0.154",
         "type": "scatter",
         "x": [
          15,
          16,
          null
         ],
         "y": [
          6,
          1,
          null
         ]
        },
        {
         "hoverinfo": "text",
         "line": {
          "color": "cornflowerblue",
          "width": 0.15546173811919922
         },
         "mode": "lines",
         "text": "0.155",
         "type": "scatter",
         "x": [
          15,
          16,
          null
         ],
         "y": [
          6,
          2,
          null
         ]
        },
        {
         "hoverinfo": "text",
         "line": {
          "color": "cornflowerblue",
          "width": 0.15588617822857895
         },
         "mode": "lines",
         "text": "0.156",
         "type": "scatter",
         "x": [
          15,
          16,
          null
         ],
         "y": [
          6,
          3,
          null
         ]
        },
        {
         "hoverinfo": "text",
         "line": {
          "color": "cornflowerblue",
          "width": 0.15778478256366124
         },
         "mode": "lines",
         "text": "0.158",
         "type": "scatter",
         "x": [
          15,
          16,
          null
         ],
         "y": [
          6,
          4,
          null
         ]
        },
        {
         "hoverinfo": "text",
         "line": {
          "color": "cornflowerblue",
          "width": 0.14928118942646668
         },
         "mode": "lines",
         "text": "0.149",
         "type": "scatter",
         "x": [
          15,
          16,
          null
         ],
         "y": [
          7,
          0,
          null
         ]
        },
        {
         "hoverinfo": "text",
         "line": {
          "color": "cornflowerblue",
          "width": 0.1491135166526853
         },
         "mode": "lines",
         "text": "0.149",
         "type": "scatter",
         "x": [
          15,
          16,
          null
         ],
         "y": [
          7,
          1,
          null
         ]
        },
        {
         "hoverinfo": "text",
         "line": {
          "color": "cornflowerblue",
          "width": 0.149166516767739
         },
         "mode": "lines",
         "text": "0.149",
         "type": "scatter",
         "x": [
          15,
          16,
          null
         ],
         "y": [
          7,
          2,
          null
         ]
        },
        {
         "hoverinfo": "text",
         "line": {
          "color": "cornflowerblue",
          "width": 0.14995431158332978
         },
         "mode": "lines",
         "text": "0.15",
         "type": "scatter",
         "x": [
          15,
          16,
          null
         ],
         "y": [
          7,
          3,
          null
         ]
        },
        {
         "hoverinfo": "text",
         "line": {
          "color": "cornflowerblue",
          "width": 0.15263941945077444
         },
         "mode": "lines",
         "text": "0.153",
         "type": "scatter",
         "x": [
          15,
          16,
          null
         ],
         "y": [
          7,
          4,
          null
         ]
        },
        {
         "hoverinfo": "text",
         "line": {
          "color": "cornflowerblue",
          "width": 0.21240188099151056
         },
         "mode": "lines",
         "text": "0.212",
         "type": "scatter",
         "x": [
          16,
          17,
          null
         ],
         "y": [
          0,
          0,
          null
         ]
        },
        {
         "hoverinfo": "text",
         "line": {
          "color": "cornflowerblue",
          "width": 0.16921826003335766
         },
         "mode": "lines",
         "text": "0.169",
         "type": "scatter",
         "x": [
          16,
          17,
          null
         ],
         "y": [
          0,
          1,
          null
         ]
        },
        {
         "hoverinfo": "text",
         "line": {
          "color": "cornflowerblue",
          "width": 0.1623809340813911
         },
         "mode": "lines",
         "text": "0.162",
         "type": "scatter",
         "x": [
          16,
          17,
          null
         ],
         "y": [
          0,
          2,
          null
         ]
        },
        {
         "hoverinfo": "text",
         "line": {
          "color": "cornflowerblue",
          "width": 0.20614151696088445
         },
         "mode": "lines",
         "text": "0.206",
         "type": "scatter",
         "x": [
          16,
          17,
          null
         ],
         "y": [
          0,
          3,
          null
         ]
        },
        {
         "hoverinfo": "text",
         "line": {
          "color": "cornflowerblue",
          "width": 0.17110149989764045
         },
         "mode": "lines",
         "text": "0.171",
         "type": "scatter",
         "x": [
          16,
          17,
          null
         ],
         "y": [
          0,
          4,
          null
         ]
        },
        {
         "hoverinfo": "text",
         "line": {
          "color": "cornflowerblue",
          "width": 0.43473537610120705
         },
         "mode": "lines",
         "text": "0.435",
         "type": "scatter",
         "x": [
          16,
          17,
          null
         ],
         "y": [
          0,
          5,
          null
         ]
        },
        {
         "hoverinfo": "text",
         "line": {
          "color": "cornflowerblue",
          "width": 0.1881384755371219
         },
         "mode": "lines",
         "text": "0.188",
         "type": "scatter",
         "x": [
          16,
          17,
          null
         ],
         "y": [
          0,
          6,
          null
         ]
        },
        {
         "hoverinfo": "text",
         "line": {
          "color": "cornflowerblue",
          "width": 0.1501785728323052
         },
         "mode": "lines",
         "text": "0.15",
         "type": "scatter",
         "x": [
          16,
          17,
          null
         ],
         "y": [
          0,
          7,
          null
         ]
        },
        {
         "hoverinfo": "text",
         "line": {
          "color": "cornflowerblue",
          "width": 0.20159517620028747
         },
         "mode": "lines",
         "text": "0.202",
         "type": "scatter",
         "x": [
          16,
          17,
          null
         ],
         "y": [
          1,
          0,
          null
         ]
        },
        {
         "hoverinfo": "text",
         "line": {
          "color": "cornflowerblue",
          "width": 0.15918135260639432
         },
         "mode": "lines",
         "text": "0.159",
         "type": "scatter",
         "x": [
          16,
          17,
          null
         ],
         "y": [
          1,
          1,
          null
         ]
        },
        {
         "hoverinfo": "text",
         "line": {
          "color": "cornflowerblue",
          "width": 0.1650827817145214
         },
         "mode": "lines",
         "text": "0.165",
         "type": "scatter",
         "x": [
          16,
          17,
          null
         ],
         "y": [
          1,
          2,
          null
         ]
        },
        {
         "hoverinfo": "text",
         "line": {
          "color": "cornflowerblue",
          "width": 0.18953304200150475
         },
         "mode": "lines",
         "text": "0.19",
         "type": "scatter",
         "x": [
          16,
          17,
          null
         ],
         "y": [
          1,
          3,
          null
         ]
        },
        {
         "hoverinfo": "text",
         "line": {
          "color": "cornflowerblue",
          "width": 0.17132770703366365
         },
         "mode": "lines",
         "text": "0.171",
         "type": "scatter",
         "x": [
          16,
          17,
          null
         ],
         "y": [
          1,
          4,
          null
         ]
        },
        {
         "hoverinfo": "text",
         "line": {
          "color": "cornflowerblue",
          "width": 0.19054778474642106
         },
         "mode": "lines",
         "text": "0.191",
         "type": "scatter",
         "x": [
          16,
          17,
          null
         ],
         "y": [
          1,
          5,
          null
         ]
        },
        {
         "hoverinfo": "text",
         "line": {
          "color": "cornflowerblue",
          "width": 0.25271567353381363
         },
         "mode": "lines",
         "text": "0.253",
         "type": "scatter",
         "x": [
          16,
          17,
          null
         ],
         "y": [
          1,
          6,
          null
         ]
        },
        {
         "hoverinfo": "text",
         "line": {
          "color": "cornflowerblue",
          "width": 0.15345425255323417
         },
         "mode": "lines",
         "text": "0.153",
         "type": "scatter",
         "x": [
          16,
          17,
          null
         ],
         "y": [
          1,
          7,
          null
         ]
        },
        {
         "hoverinfo": "text",
         "line": {
          "color": "cornflowerblue",
          "width": 0.21141462870011485
         },
         "mode": "lines",
         "text": "0.211",
         "type": "scatter",
         "x": [
          16,
          17,
          null
         ],
         "y": [
          2,
          0,
          null
         ]
        },
        {
         "hoverinfo": "text",
         "line": {
          "color": "cornflowerblue",
          "width": 0.16157609419658994
         },
         "mode": "lines",
         "text": "0.162",
         "type": "scatter",
         "x": [
          16,
          17,
          null
         ],
         "y": [
          2,
          1,
          null
         ]
        },
        {
         "hoverinfo": "text",
         "line": {
          "color": "cornflowerblue",
          "width": 0.1671810919484938
         },
         "mode": "lines",
         "text": "0.167",
         "type": "scatter",
         "x": [
          16,
          17,
          null
         ],
         "y": [
          2,
          2,
          null
         ]
        },
        {
         "hoverinfo": "text",
         "line": {
          "color": "cornflowerblue",
          "width": 0.1880750359031862
         },
         "mode": "lines",
         "text": "0.188",
         "type": "scatter",
         "x": [
          16,
          17,
          null
         ],
         "y": [
          2,
          3,
          null
         ]
        },
        {
         "hoverinfo": "text",
         "line": {
          "color": "cornflowerblue",
          "width": 0.16968920249755443
         },
         "mode": "lines",
         "text": "0.17",
         "type": "scatter",
         "x": [
          16,
          17,
          null
         ],
         "y": [
          2,
          4,
          null
         ]
        },
        {
         "hoverinfo": "text",
         "line": {
          "color": "cornflowerblue",
          "width": 0.18195587357883744
         },
         "mode": "lines",
         "text": "0.182",
         "type": "scatter",
         "x": [
          16,
          17,
          null
         ],
         "y": [
          2,
          5,
          null
         ]
        },
        {
         "hoverinfo": "text",
         "line": {
          "color": "cornflowerblue",
          "width": 0.1846057812424258
         },
         "mode": "lines",
         "text": "0.185",
         "type": "scatter",
         "x": [
          16,
          17,
          null
         ],
         "y": [
          2,
          6,
          null
         ]
        },
        {
         "hoverinfo": "text",
         "line": {
          "color": "cornflowerblue",
          "width": 0.15189563136156894
         },
         "mode": "lines",
         "text": "0.152",
         "type": "scatter",
         "x": [
          16,
          17,
          null
         ],
         "y": [
          2,
          7,
          null
         ]
        },
        {
         "hoverinfo": "text",
         "line": {
          "color": "cornflowerblue",
          "width": 0.19869274450141536
         },
         "mode": "lines",
         "text": "0.199",
         "type": "scatter",
         "x": [
          16,
          17,
          null
         ],
         "y": [
          3,
          0,
          null
         ]
        },
        {
         "hoverinfo": "text",
         "line": {
          "color": "cornflowerblue",
          "width": 0.16396265250700598
         },
         "mode": "lines",
         "text": "0.164",
         "type": "scatter",
         "x": [
          16,
          17,
          null
         ],
         "y": [
          3,
          1,
          null
         ]
        },
        {
         "hoverinfo": "text",
         "line": {
          "color": "cornflowerblue",
          "width": 0.17319984186237114
         },
         "mode": "lines",
         "text": "0.173",
         "type": "scatter",
         "x": [
          16,
          17,
          null
         ],
         "y": [
          3,
          2,
          null
         ]
        },
        {
         "hoverinfo": "text",
         "line": {
          "color": "cornflowerblue",
          "width": 0.25619022479911485
         },
         "mode": "lines",
         "text": "0.256",
         "type": "scatter",
         "x": [
          16,
          17,
          null
         ],
         "y": [
          3,
          3,
          null
         ]
        },
        {
         "hoverinfo": "text",
         "line": {
          "color": "cornflowerblue",
          "width": 0.1884912326141045
         },
         "mode": "lines",
         "text": "0.188",
         "type": "scatter",
         "x": [
          16,
          17,
          null
         ],
         "y": [
          3,
          4,
          null
         ]
        },
        {
         "hoverinfo": "text",
         "line": {
          "color": "cornflowerblue",
          "width": 0.1909822054275801
         },
         "mode": "lines",
         "text": "0.191",
         "type": "scatter",
         "x": [
          16,
          17,
          null
         ],
         "y": [
          3,
          5,
          null
         ]
        },
        {
         "hoverinfo": "text",
         "line": {
          "color": "cornflowerblue",
          "width": 0.1857445651347924
         },
         "mode": "lines",
         "text": "0.186",
         "type": "scatter",
         "x": [
          16,
          17,
          null
         ],
         "y": [
          3,
          6,
          null
         ]
        },
        {
         "hoverinfo": "text",
         "line": {
          "color": "cornflowerblue",
          "width": 0.15341289044555173
         },
         "mode": "lines",
         "text": "0.153",
         "type": "scatter",
         "x": [
          16,
          17,
          null
         ],
         "y": [
          3,
          7,
          null
         ]
        },
        {
         "hoverinfo": "text",
         "line": {
          "color": "cornflowerblue",
          "width": 0.4736367662809587
         },
         "mode": "lines",
         "text": "0.474",
         "type": "scatter",
         "x": [
          16,
          17,
          null
         ],
         "y": [
          4,
          0,
          null
         ]
        },
        {
         "hoverinfo": "text",
         "line": {
          "color": "cornflowerblue",
          "width": 0.16177361460805612
         },
         "mode": "lines",
         "text": "0.162",
         "type": "scatter",
         "x": [
          16,
          17,
          null
         ],
         "y": [
          4,
          1,
          null
         ]
        },
        {
         "hoverinfo": "text",
         "line": {
          "color": "cornflowerblue",
          "width": 0.16817073583808984
         },
         "mode": "lines",
         "text": "0.168",
         "type": "scatter",
         "x": [
          16,
          17,
          null
         ],
         "y": [
          4,
          2,
          null
         ]
        },
        {
         "hoverinfo": "text",
         "line": {
          "color": "cornflowerblue",
          "width": 0.1982516463868715
         },
         "mode": "lines",
         "text": "0.198",
         "type": "scatter",
         "x": [
          16,
          17,
          null
         ],
         "y": [
          4,
          3,
          null
         ]
        },
        {
         "hoverinfo": "text",
         "line": {
          "color": "cornflowerblue",
          "width": 0.17051284163760877
         },
         "mode": "lines",
         "text": "0.171",
         "type": "scatter",
         "x": [
          16,
          17,
          null
         ],
         "y": [
          4,
          4,
          null
         ]
        },
        {
         "hoverinfo": "text",
         "line": {
          "color": "cornflowerblue",
          "width": 0.21167401773003539
         },
         "mode": "lines",
         "text": "0.212",
         "type": "scatter",
         "x": [
          16,
          17,
          null
         ],
         "y": [
          4,
          5,
          null
         ]
        },
        {
         "hoverinfo": "text",
         "line": {
          "color": "cornflowerblue",
          "width": 0.2105122148255261
         },
         "mode": "lines",
         "text": "0.211",
         "type": "scatter",
         "x": [
          16,
          17,
          null
         ],
         "y": [
          4,
          6,
          null
         ]
        },
        {
         "hoverinfo": "text",
         "line": {
          "color": "cornflowerblue",
          "width": 0.15128122620578385
         },
         "mode": "lines",
         "text": "0.151",
         "type": "scatter",
         "x": [
          16,
          17,
          null
         ],
         "y": [
          4,
          7,
          null
         ]
        },
        {
         "hoverinfo": "text",
         "line": {
          "color": "cornflowerblue",
          "width": 0.21564458320800062
         },
         "mode": "lines",
         "text": "0.216",
         "type": "scatter",
         "x": [
          17,
          18,
          null
         ],
         "y": [
          0,
          0,
          null
         ]
        },
        {
         "hoverinfo": "text",
         "line": {
          "color": "cornflowerblue",
          "width": 0.47134181866097213
         },
         "mode": "lines",
         "text": "0.471",
         "type": "scatter",
         "x": [
          17,
          18,
          null
         ],
         "y": [
          0,
          1,
          null
         ]
        },
        {
         "hoverinfo": "text",
         "line": {
          "color": "cornflowerblue",
          "width": 0.17639733032366273
         },
         "mode": "lines",
         "text": "0.176",
         "type": "scatter",
         "x": [
          17,
          18,
          null
         ],
         "y": [
          0,
          2,
          null
         ]
        },
        {
         "hoverinfo": "text",
         "line": {
          "color": "cornflowerblue",
          "width": 0.19965414590224215
         },
         "mode": "lines",
         "text": "0.2",
         "type": "scatter",
         "x": [
          17,
          18,
          null
         ],
         "y": [
          0,
          3,
          null
         ]
        },
        {
         "hoverinfo": "text",
         "line": {
          "color": "cornflowerblue",
          "width": 0.24414034952335553
         },
         "mode": "lines",
         "text": "0.244",
         "type": "scatter",
         "x": [
          17,
          18,
          null
         ],
         "y": [
          0,
          4,
          null
         ]
        },
        {
         "hoverinfo": "text",
         "line": {
          "color": "cornflowerblue",
          "width": 0.20298274273394903
         },
         "mode": "lines",
         "text": "0.203",
         "type": "scatter",
         "x": [
          17,
          18,
          null
         ],
         "y": [
          0,
          5,
          null
         ]
        },
        {
         "hoverinfo": "text",
         "line": {
          "color": "cornflowerblue",
          "width": 0.14804096473055742
         },
         "mode": "lines",
         "text": "0.148",
         "type": "scatter",
         "x": [
          17,
          18,
          null
         ],
         "y": [
          0,
          6,
          null
         ]
        },
        {
         "hoverinfo": "text",
         "line": {
          "color": "cornflowerblue",
          "width": 0.15204539804482645
         },
         "mode": "lines",
         "text": "0.152",
         "type": "scatter",
         "x": [
          17,
          18,
          null
         ],
         "y": [
          0,
          7,
          null
         ]
        },
        {
         "hoverinfo": "text",
         "line": {
          "color": "cornflowerblue",
          "width": 0.14954051471250893
         },
         "mode": "lines",
         "text": "0.15",
         "type": "scatter",
         "x": [
          17,
          18,
          null
         ],
         "y": [
          0,
          8,
          null
         ]
        },
        {
         "hoverinfo": "text",
         "line": {
          "color": "cornflowerblue",
          "width": 0.1687702926358209
         },
         "mode": "lines",
         "text": "0.169",
         "type": "scatter",
         "x": [
          17,
          18,
          null
         ],
         "y": [
          1,
          0,
          null
         ]
        },
        {
         "hoverinfo": "text",
         "line": {
          "color": "cornflowerblue",
          "width": 0.16003796673394735
         },
         "mode": "lines",
         "text": "0.16",
         "type": "scatter",
         "x": [
          17,
          18,
          null
         ],
         "y": [
          1,
          1,
          null
         ]
        },
        {
         "hoverinfo": "text",
         "line": {
          "color": "cornflowerblue",
          "width": 0.16476644386463637
         },
         "mode": "lines",
         "text": "0.165",
         "type": "scatter",
         "x": [
          17,
          18,
          null
         ],
         "y": [
          1,
          2,
          null
         ]
        },
        {
         "hoverinfo": "text",
         "line": {
          "color": "cornflowerblue",
          "width": 0.16393587950979605
         },
         "mode": "lines",
         "text": "0.164",
         "type": "scatter",
         "x": [
          17,
          18,
          null
         ],
         "y": [
          1,
          3,
          null
         ]
        },
        {
         "hoverinfo": "text",
         "line": {
          "color": "cornflowerblue",
          "width": 0.16332916213618232
         },
         "mode": "lines",
         "text": "0.163",
         "type": "scatter",
         "x": [
          17,
          18,
          null
         ],
         "y": [
          1,
          4,
          null
         ]
        },
        {
         "hoverinfo": "text",
         "line": {
          "color": "cornflowerblue",
          "width": 0.16006853113149327
         },
         "mode": "lines",
         "text": "0.16",
         "type": "scatter",
         "x": [
          17,
          18,
          null
         ],
         "y": [
          1,
          5,
          null
         ]
        },
        {
         "hoverinfo": "text",
         "line": {
          "color": "cornflowerblue",
          "width": 0.1506737813408165
         },
         "mode": "lines",
         "text": "0.151",
         "type": "scatter",
         "x": [
          17,
          18,
          null
         ],
         "y": [
          1,
          7,
          null
         ]
        },
        {
         "hoverinfo": "text",
         "line": {
          "color": "cornflowerblue",
          "width": 0.14787725409297833
         },
         "mode": "lines",
         "text": "0.148",
         "type": "scatter",
         "x": [
          17,
          18,
          null
         ],
         "y": [
          1,
          8,
          null
         ]
        },
        {
         "hoverinfo": "text",
         "line": {
          "color": "cornflowerblue",
          "width": 0.16200584225119025
         },
         "mode": "lines",
         "text": "0.162",
         "type": "scatter",
         "x": [
          17,
          18,
          null
         ],
         "y": [
          2,
          0,
          null
         ]
        },
        {
         "hoverinfo": "text",
         "line": {
          "color": "cornflowerblue",
          "width": 0.168812650159686
         },
         "mode": "lines",
         "text": "0.169",
         "type": "scatter",
         "x": [
          17,
          18,
          null
         ],
         "y": [
          2,
          1,
          null
         ]
        },
        {
         "hoverinfo": "text",
         "line": {
          "color": "cornflowerblue",
          "width": 0.16862130294713867
         },
         "mode": "lines",
         "text": "0.169",
         "type": "scatter",
         "x": [
          17,
          18,
          null
         ],
         "y": [
          2,
          2,
          null
         ]
        },
        {
         "hoverinfo": "text",
         "line": {
          "color": "cornflowerblue",
          "width": 0.16726981828346432
         },
         "mode": "lines",
         "text": "0.167",
         "type": "scatter",
         "x": [
          17,
          18,
          null
         ],
         "y": [
          2,
          3,
          null
         ]
        },
        {
         "hoverinfo": "text",
         "line": {
          "color": "cornflowerblue",
          "width": 0.16943988766569662
         },
         "mode": "lines",
         "text": "0.169",
         "type": "scatter",
         "x": [
          17,
          18,
          null
         ],
         "y": [
          2,
          4,
          null
         ]
        },
        {
         "hoverinfo": "text",
         "line": {
          "color": "cornflowerblue",
          "width": 0.16669474206690235
         },
         "mode": "lines",
         "text": "0.167",
         "type": "scatter",
         "x": [
          17,
          18,
          null
         ],
         "y": [
          2,
          5,
          null
         ]
        },
        {
         "hoverinfo": "text",
         "line": {
          "color": "cornflowerblue",
          "width": 0.1488664555885307
         },
         "mode": "lines",
         "text": "0.149",
         "type": "scatter",
         "x": [
          17,
          18,
          null
         ],
         "y": [
          2,
          6,
          null
         ]
        },
        {
         "hoverinfo": "text",
         "line": {
          "color": "cornflowerblue",
          "width": 0.14849738552426825
         },
         "mode": "lines",
         "text": "0.148",
         "type": "scatter",
         "x": [
          17,
          18,
          null
         ],
         "y": [
          2,
          7,
          null
         ]
        },
        {
         "hoverinfo": "text",
         "line": {
          "color": "cornflowerblue",
          "width": 0.1473364459950132
         },
         "mode": "lines",
         "text": "0.147",
         "type": "scatter",
         "x": [
          17,
          18,
          null
         ],
         "y": [
          2,
          8,
          null
         ]
        },
        {
         "hoverinfo": "text",
         "line": {
          "color": "cornflowerblue",
          "width": 0.19603355874769354
         },
         "mode": "lines",
         "text": "0.196",
         "type": "scatter",
         "x": [
          17,
          18,
          null
         ],
         "y": [
          3,
          0,
          null
         ]
        },
        {
         "hoverinfo": "text",
         "line": {
          "color": "cornflowerblue",
          "width": 0.2035078341933451
         },
         "mode": "lines",
         "text": "0.204",
         "type": "scatter",
         "x": [
          17,
          18,
          null
         ],
         "y": [
          3,
          1,
          null
         ]
        },
        {
         "hoverinfo": "text",
         "line": {
          "color": "cornflowerblue",
          "width": 0.18935225238203518
         },
         "mode": "lines",
         "text": "0.189",
         "type": "scatter",
         "x": [
          17,
          18,
          null
         ],
         "y": [
          3,
          2,
          null
         ]
        },
        {
         "hoverinfo": "text",
         "line": {
          "color": "cornflowerblue",
          "width": 0.274912840923547
         },
         "mode": "lines",
         "text": "0.275",
         "type": "scatter",
         "x": [
          17,
          18,
          null
         ],
         "y": [
          3,
          3,
          null
         ]
        },
        {
         "hoverinfo": "text",
         "line": {
          "color": "cornflowerblue",
          "width": 0.19220644572171974
         },
         "mode": "lines",
         "text": "0.192",
         "type": "scatter",
         "x": [
          17,
          18,
          null
         ],
         "y": [
          3,
          4,
          null
         ]
        },
        {
         "hoverinfo": "text",
         "line": {
          "color": "cornflowerblue",
          "width": 0.1842683570657504
         },
         "mode": "lines",
         "text": "0.184",
         "type": "scatter",
         "x": [
          17,
          18,
          null
         ],
         "y": [
          3,
          5,
          null
         ]
        },
        {
         "hoverinfo": "text",
         "line": {
          "color": "cornflowerblue",
          "width": 0.14803311170905828
         },
         "mode": "lines",
         "text": "0.148",
         "type": "scatter",
         "x": [
          17,
          18,
          null
         ],
         "y": [
          3,
          6,
          null
         ]
        },
        {
         "hoverinfo": "text",
         "line": {
          "color": "cornflowerblue",
          "width": 0.1508814501868571
         },
         "mode": "lines",
         "text": "0.151",
         "type": "scatter",
         "x": [
          17,
          18,
          null
         ],
         "y": [
          3,
          7,
          null
         ]
        },
        {
         "hoverinfo": "text",
         "line": {
          "color": "cornflowerblue",
          "width": 0.1520817856381176
         },
         "mode": "lines",
         "text": "0.152",
         "type": "scatter",
         "x": [
          17,
          18,
          null
         ],
         "y": [
          3,
          8,
          null
         ]
        },
        {
         "hoverinfo": "text",
         "line": {
          "color": "cornflowerblue",
          "width": 0.17075066123822136
         },
         "mode": "lines",
         "text": "0.171",
         "type": "scatter",
         "x": [
          17,
          18,
          null
         ],
         "y": [
          4,
          0,
          null
         ]
        },
        {
         "hoverinfo": "text",
         "line": {
          "color": "cornflowerblue",
          "width": 0.171873181791013
         },
         "mode": "lines",
         "text": "0.172",
         "type": "scatter",
         "x": [
          17,
          18,
          null
         ],
         "y": [
          4,
          1,
          null
         ]
        },
        {
         "hoverinfo": "text",
         "line": {
          "color": "cornflowerblue",
          "width": 0.17746250616873832
         },
         "mode": "lines",
         "text": "0.177",
         "type": "scatter",
         "x": [
          17,
          18,
          null
         ],
         "y": [
          4,
          2,
          null
         ]
        },
        {
         "hoverinfo": "text",
         "line": {
          "color": "cornflowerblue",
          "width": 0.1803408333012765
         },
         "mode": "lines",
         "text": "0.18",
         "type": "scatter",
         "x": [
          17,
          18,
          null
         ],
         "y": [
          4,
          3,
          null
         ]
        },
        {
         "hoverinfo": "text",
         "line": {
          "color": "cornflowerblue",
          "width": 0.16933137994847647
         },
         "mode": "lines",
         "text": "0.169",
         "type": "scatter",
         "x": [
          17,
          18,
          null
         ],
         "y": [
          4,
          4,
          null
         ]
        },
        {
         "hoverinfo": "text",
         "line": {
          "color": "cornflowerblue",
          "width": 0.16930382623213902
         },
         "mode": "lines",
         "text": "0.169",
         "type": "scatter",
         "x": [
          17,
          18,
          null
         ],
         "y": [
          4,
          5,
          null
         ]
        },
        {
         "hoverinfo": "text",
         "line": {
          "color": "cornflowerblue",
          "width": 0.1492747061351801
         },
         "mode": "lines",
         "text": "0.149",
         "type": "scatter",
         "x": [
          17,
          18,
          null
         ],
         "y": [
          4,
          6,
          null
         ]
        },
        {
         "hoverinfo": "text",
         "line": {
          "color": "cornflowerblue",
          "width": 0.1509423575832074
         },
         "mode": "lines",
         "text": "0.151",
         "type": "scatter",
         "x": [
          17,
          18,
          null
         ],
         "y": [
          4,
          7,
          null
         ]
        },
        {
         "hoverinfo": "text",
         "line": {
          "color": "cornflowerblue",
          "width": 0.1480573276793867
         },
         "mode": "lines",
         "text": "0.148",
         "type": "scatter",
         "x": [
          17,
          18,
          null
         ],
         "y": [
          4,
          8,
          null
         ]
        },
        {
         "hoverinfo": "text",
         "line": {
          "color": "cornflowerblue",
          "width": 0.47180181145615263
         },
         "mode": "lines",
         "text": "0.472",
         "type": "scatter",
         "x": [
          17,
          18,
          null
         ],
         "y": [
          5,
          0,
          null
         ]
        },
        {
         "hoverinfo": "text",
         "line": {
          "color": "cornflowerblue",
          "width": 0.21704441900006685
         },
         "mode": "lines",
         "text": "0.217",
         "type": "scatter",
         "x": [
          17,
          18,
          null
         ],
         "y": [
          5,
          1,
          null
         ]
        },
        {
         "hoverinfo": "text",
         "line": {
          "color": "cornflowerblue",
          "width": 0.17615524089423398
         },
         "mode": "lines",
         "text": "0.176",
         "type": "scatter",
         "x": [
          17,
          18,
          null
         ],
         "y": [
          5,
          2,
          null
         ]
        },
        {
         "hoverinfo": "text",
         "line": {
          "color": "cornflowerblue",
          "width": 0.1987813835990144
         },
         "mode": "lines",
         "text": "0.199",
         "type": "scatter",
         "x": [
          17,
          18,
          null
         ],
         "y": [
          5,
          3,
          null
         ]
        },
        {
         "hoverinfo": "text",
         "line": {
          "color": "cornflowerblue",
          "width": 0.18998361017954654
         },
         "mode": "lines",
         "text": "0.19",
         "type": "scatter",
         "x": [
          17,
          18,
          null
         ],
         "y": [
          5,
          4,
          null
         ]
        },
        {
         "hoverinfo": "text",
         "line": {
          "color": "cornflowerblue",
          "width": 0.18786890109506224
         },
         "mode": "lines",
         "text": "0.188",
         "type": "scatter",
         "x": [
          17,
          18,
          null
         ],
         "y": [
          5,
          5,
          null
         ]
        },
        {
         "hoverinfo": "text",
         "line": {
          "color": "cornflowerblue",
          "width": 0.1484705502495007
         },
         "mode": "lines",
         "text": "0.148",
         "type": "scatter",
         "x": [
          17,
          18,
          null
         ],
         "y": [
          5,
          6,
          null
         ]
        },
        {
         "hoverinfo": "text",
         "line": {
          "color": "cornflowerblue",
          "width": 0.14914350951829314
         },
         "mode": "lines",
         "text": "0.149",
         "type": "scatter",
         "x": [
          17,
          18,
          null
         ],
         "y": [
          5,
          7,
          null
         ]
        },
        {
         "hoverinfo": "text",
         "line": {
          "color": "cornflowerblue",
          "width": 0.14913275992201966
         },
         "mode": "lines",
         "text": "0.149",
         "type": "scatter",
         "x": [
          17,
          18,
          null
         ],
         "y": [
          5,
          8,
          null
         ]
        },
        {
         "hoverinfo": "text",
         "line": {
          "color": "cornflowerblue",
          "width": 0.18773182390136844
         },
         "mode": "lines",
         "text": "0.188",
         "type": "scatter",
         "x": [
          17,
          18,
          null
         ],
         "y": [
          6,
          0,
          null
         ]
        },
        {
         "hoverinfo": "text",
         "line": {
          "color": "cornflowerblue",
          "width": 0.2049775691498831
         },
         "mode": "lines",
         "text": "0.205",
         "type": "scatter",
         "x": [
          17,
          18,
          null
         ],
         "y": [
          6,
          1,
          null
         ]
        },
        {
         "hoverinfo": "text",
         "line": {
          "color": "cornflowerblue",
          "width": 0.17395485128006777
         },
         "mode": "lines",
         "text": "0.174",
         "type": "scatter",
         "x": [
          17,
          18,
          null
         ],
         "y": [
          6,
          2,
          null
         ]
        },
        {
         "hoverinfo": "text",
         "line": {
          "color": "cornflowerblue",
          "width": 0.19023834777331375
         },
         "mode": "lines",
         "text": "0.19",
         "type": "scatter",
         "x": [
          17,
          18,
          null
         ],
         "y": [
          6,
          3,
          null
         ]
        },
        {
         "hoverinfo": "text",
         "line": {
          "color": "cornflowerblue",
          "width": 0.1885040707721995
         },
         "mode": "lines",
         "text": "0.189",
         "type": "scatter",
         "x": [
          17,
          18,
          null
         ],
         "y": [
          6,
          4,
          null
         ]
        },
        {
         "hoverinfo": "text",
         "line": {
          "color": "cornflowerblue",
          "width": 0.34696529475668175
         },
         "mode": "lines",
         "text": "0.347",
         "type": "scatter",
         "x": [
          17,
          18,
          null
         ],
         "y": [
          6,
          5,
          null
         ]
        },
        {
         "hoverinfo": "text",
         "line": {
          "color": "cornflowerblue",
          "width": 0.14828754061325208
         },
         "mode": "lines",
         "text": "0.148",
         "type": "scatter",
         "x": [
          17,
          18,
          null
         ],
         "y": [
          6,
          6,
          null
         ]
        },
        {
         "hoverinfo": "text",
         "line": {
          "color": "cornflowerblue",
          "width": 0.15194626771037054
         },
         "mode": "lines",
         "text": "0.152",
         "type": "scatter",
         "x": [
          17,
          18,
          null
         ],
         "y": [
          6,
          7,
          null
         ]
        },
        {
         "hoverinfo": "text",
         "line": {
          "color": "cornflowerblue",
          "width": 0.15022276758117517
         },
         "mode": "lines",
         "text": "0.15",
         "type": "scatter",
         "x": [
          17,
          18,
          null
         ],
         "y": [
          6,
          8,
          null
         ]
        },
        {
         "hoverinfo": "text",
         "line": {
          "color": "cornflowerblue",
          "width": 0.15070177355445324
         },
         "mode": "lines",
         "text": "0.151",
         "type": "scatter",
         "x": [
          17,
          18,
          null
         ],
         "y": [
          7,
          0,
          null
         ]
        },
        {
         "hoverinfo": "text",
         "line": {
          "color": "cornflowerblue",
          "width": 0.15058446673082695
         },
         "mode": "lines",
         "text": "0.151",
         "type": "scatter",
         "x": [
          17,
          18,
          null
         ],
         "y": [
          7,
          1,
          null
         ]
        },
        {
         "hoverinfo": "text",
         "line": {
          "color": "cornflowerblue",
          "width": 0.15313733327961215
         },
         "mode": "lines",
         "text": "0.153",
         "type": "scatter",
         "x": [
          17,
          18,
          null
         ],
         "y": [
          7,
          2,
          null
         ]
        },
        {
         "hoverinfo": "text",
         "line": {
          "color": "cornflowerblue",
          "width": 0.15207970965007542
         },
         "mode": "lines",
         "text": "0.152",
         "type": "scatter",
         "x": [
          17,
          18,
          null
         ],
         "y": [
          7,
          3,
          null
         ]
        },
        {
         "hoverinfo": "text",
         "line": {
          "color": "cornflowerblue",
          "width": 0.1529663749930666
         },
         "mode": "lines",
         "text": "0.153",
         "type": "scatter",
         "x": [
          17,
          18,
          null
         ],
         "y": [
          7,
          4,
          null
         ]
        },
        {
         "hoverinfo": "text",
         "line": {
          "color": "cornflowerblue",
          "width": 0.15471794323273574
         },
         "mode": "lines",
         "text": "0.155",
         "type": "scatter",
         "x": [
          17,
          18,
          null
         ],
         "y": [
          7,
          5,
          null
         ]
        },
        {
         "hoverinfo": "text",
         "line": {
          "color": "cornflowerblue",
          "width": 0.14696388607811195
         },
         "mode": "lines",
         "text": "0.147",
         "type": "scatter",
         "x": [
          17,
          18,
          null
         ],
         "y": [
          7,
          6,
          null
         ]
        },
        {
         "hoverinfo": "text",
         "line": {
          "color": "cornflowerblue",
          "width": 0.15124586383207714
         },
         "mode": "lines",
         "text": "0.151",
         "type": "scatter",
         "x": [
          17,
          18,
          null
         ],
         "y": [
          7,
          7,
          null
         ]
        },
        {
         "hoverinfo": "text",
         "line": {
          "color": "cornflowerblue",
          "width": 0.14834768845622662
         },
         "mode": "lines",
         "text": "0.148",
         "type": "scatter",
         "x": [
          17,
          18,
          null
         ],
         "y": [
          7,
          8,
          null
         ]
        },
        {
         "hoverinfo": "text",
         "line": {
          "color": "cornflowerblue",
          "width": 0.21206279314749568
         },
         "mode": "lines",
         "text": "0.212",
         "type": "scatter",
         "x": [
          18,
          19,
          null
         ],
         "y": [
          0,
          0,
          null
         ]
        },
        {
         "hoverinfo": "text",
         "line": {
          "color": "cornflowerblue",
          "width": 0.16715892276107416
         },
         "mode": "lines",
         "text": "0.167",
         "type": "scatter",
         "x": [
          18,
          19,
          null
         ],
         "y": [
          0,
          1,
          null
         ]
        },
        {
         "hoverinfo": "text",
         "line": {
          "color": "cornflowerblue",
          "width": 0.20023299722927537
         },
         "mode": "lines",
         "text": "0.2",
         "type": "scatter",
         "x": [
          18,
          19,
          null
         ],
         "y": [
          0,
          2,
          null
         ]
        },
        {
         "hoverinfo": "text",
         "line": {
          "color": "cornflowerblue",
          "width": 0.20009832423675122
         },
         "mode": "lines",
         "text": "0.2",
         "type": "scatter",
         "x": [
          18,
          19,
          null
         ],
         "y": [
          0,
          3,
          null
         ]
        },
        {
         "hoverinfo": "text",
         "line": {
          "color": "cornflowerblue",
          "width": 0.49494542301901157
         },
         "mode": "lines",
         "text": "0.495",
         "type": "scatter",
         "x": [
          18,
          19,
          null
         ],
         "y": [
          0,
          4,
          null
         ]
        },
        {
         "hoverinfo": "text",
         "line": {
          "color": "cornflowerblue",
          "width": 0.16107140220381383
         },
         "mode": "lines",
         "text": "0.161",
         "type": "scatter",
         "x": [
          18,
          19,
          null
         ],
         "y": [
          0,
          5,
          null
         ]
        },
        {
         "hoverinfo": "text",
         "line": {
          "color": "cornflowerblue",
          "width": 0.1615057255598899
         },
         "mode": "lines",
         "text": "0.162",
         "type": "scatter",
         "x": [
          18,
          19,
          null
         ],
         "y": [
          0,
          6,
          null
         ]
        },
        {
         "hoverinfo": "text",
         "line": {
          "color": "cornflowerblue",
          "width": 0.14680138920002545
         },
         "mode": "lines",
         "text": "0.147",
         "type": "scatter",
         "x": [
          18,
          19,
          null
         ],
         "y": [
          0,
          7,
          null
         ]
        },
        {
         "hoverinfo": "text",
         "line": {
          "color": "cornflowerblue",
          "width": 0.16069308457938591
         },
         "mode": "lines",
         "text": "0.161",
         "type": "scatter",
         "x": [
          18,
          19,
          null
         ],
         "y": [
          0,
          9,
          null
         ]
        },
        {
         "hoverinfo": "text",
         "line": {
          "color": "cornflowerblue",
          "width": 0.1532127692078914
         },
         "mode": "lines",
         "text": "0.153",
         "type": "scatter",
         "x": [
          18,
          19,
          null
         ],
         "y": [
          0,
          10,
          null
         ]
        },
        {
         "hoverinfo": "text",
         "line": {
          "color": "cornflowerblue",
          "width": 0.15191496029110862
         },
         "mode": "lines",
         "text": "0.152",
         "type": "scatter",
         "x": [
          18,
          19,
          null
         ],
         "y": [
          0,
          11,
          null
         ]
        },
        {
         "hoverinfo": "text",
         "line": {
          "color": "cornflowerblue",
          "width": 0.42128718313471586
         },
         "mode": "lines",
         "text": "0.421",
         "type": "scatter",
         "x": [
          18,
          19,
          null
         ],
         "y": [
          1,
          0,
          null
         ]
        },
        {
         "hoverinfo": "text",
         "line": {
          "color": "cornflowerblue",
          "width": 0.16642716185445267
         },
         "mode": "lines",
         "text": "0.166",
         "type": "scatter",
         "x": [
          18,
          19,
          null
         ],
         "y": [
          1,
          1,
          null
         ]
        },
        {
         "hoverinfo": "text",
         "line": {
          "color": "cornflowerblue",
          "width": 0.22514113988277695
         },
         "mode": "lines",
         "text": "0.225",
         "type": "scatter",
         "x": [
          18,
          19,
          null
         ],
         "y": [
          1,
          2,
          null
         ]
        },
        {
         "hoverinfo": "text",
         "line": {
          "color": "cornflowerblue",
          "width": 0.20275855906325482
         },
         "mode": "lines",
         "text": "0.203",
         "type": "scatter",
         "x": [
          18,
          19,
          null
         ],
         "y": [
          1,
          3,
          null
         ]
        },
        {
         "hoverinfo": "text",
         "line": {
          "color": "cornflowerblue",
          "width": 0.21599360149765742
         },
         "mode": "lines",
         "text": "0.216",
         "type": "scatter",
         "x": [
          18,
          19,
          null
         ],
         "y": [
          1,
          4,
          null
         ]
        },
        {
         "hoverinfo": "text",
         "line": {
          "color": "cornflowerblue",
          "width": 0.16549460981905542
         },
         "mode": "lines",
         "text": "0.165",
         "type": "scatter",
         "x": [
          18,
          19,
          null
         ],
         "y": [
          1,
          5,
          null
         ]
        },
        {
         "hoverinfo": "text",
         "line": {
          "color": "cornflowerblue",
          "width": 0.15641961923462927
         },
         "mode": "lines",
         "text": "0.156",
         "type": "scatter",
         "x": [
          18,
          19,
          null
         ],
         "y": [
          1,
          6,
          null
         ]
        },
        {
         "hoverinfo": "text",
         "line": {
          "color": "cornflowerblue",
          "width": 0.1465218276075093
         },
         "mode": "lines",
         "text": "0.147",
         "type": "scatter",
         "x": [
          18,
          19,
          null
         ],
         "y": [
          1,
          7,
          null
         ]
        },
        {
         "hoverinfo": "text",
         "line": {
          "color": "cornflowerblue",
          "width": 0.16041580194590357
         },
         "mode": "lines",
         "text": "0.16",
         "type": "scatter",
         "x": [
          18,
          19,
          null
         ],
         "y": [
          1,
          9,
          null
         ]
        },
        {
         "hoverinfo": "text",
         "line": {
          "color": "cornflowerblue",
          "width": 0.1507715252814381
         },
         "mode": "lines",
         "text": "0.151",
         "type": "scatter",
         "x": [
          18,
          19,
          null
         ],
         "y": [
          1,
          10,
          null
         ]
        },
        {
         "hoverinfo": "text",
         "line": {
          "color": "cornflowerblue",
          "width": 0.15262353842993365
         },
         "mode": "lines",
         "text": "0.153",
         "type": "scatter",
         "x": [
          18,
          19,
          null
         ],
         "y": [
          1,
          11,
          null
         ]
        },
        {
         "hoverinfo": "text",
         "line": {
          "color": "cornflowerblue",
          "width": 0.1768439443750379
         },
         "mode": "lines",
         "text": "0.177",
         "type": "scatter",
         "x": [
          18,
          19,
          null
         ],
         "y": [
          2,
          0,
          null
         ]
        },
        {
         "hoverinfo": "text",
         "line": {
          "color": "cornflowerblue",
          "width": 0.17440321164750106
         },
         "mode": "lines",
         "text": "0.174",
         "type": "scatter",
         "x": [
          18,
          19,
          null
         ],
         "y": [
          2,
          1,
          null
         ]
        },
        {
         "hoverinfo": "text",
         "line": {
          "color": "cornflowerblue",
          "width": 0.17319210371398536
         },
         "mode": "lines",
         "text": "0.173",
         "type": "scatter",
         "x": [
          18,
          19,
          null
         ],
         "y": [
          2,
          2,
          null
         ]
        },
        {
         "hoverinfo": "text",
         "line": {
          "color": "cornflowerblue",
          "width": 0.1889787182758226
         },
         "mode": "lines",
         "text": "0.189",
         "type": "scatter",
         "x": [
          18,
          19,
          null
         ],
         "y": [
          2,
          3,
          null
         ]
        },
        {
         "hoverinfo": "text",
         "line": {
          "color": "cornflowerblue",
          "width": 0.17683608432670223
         },
         "mode": "lines",
         "text": "0.177",
         "type": "scatter",
         "x": [
          18,
          19,
          null
         ],
         "y": [
          2,
          4,
          null
         ]
        },
        {
         "hoverinfo": "text",
         "line": {
          "color": "cornflowerblue",
          "width": 0.16699998309571834
         },
         "mode": "lines",
         "text": "0.167",
         "type": "scatter",
         "x": [
          18,
          19,
          null
         ],
         "y": [
          2,
          5,
          null
         ]
        },
        {
         "hoverinfo": "text",
         "line": {
          "color": "cornflowerblue",
          "width": 0.15699299073652018
         },
         "mode": "lines",
         "text": "0.157",
         "type": "scatter",
         "x": [
          18,
          19,
          null
         ],
         "y": [
          2,
          6,
          null
         ]
        },
        {
         "hoverinfo": "text",
         "line": {
          "color": "cornflowerblue",
          "width": 0.1471613444577396
         },
         "mode": "lines",
         "text": "0.147",
         "type": "scatter",
         "x": [
          18,
          19,
          null
         ],
         "y": [
          2,
          7,
          null
         ]
        },
        {
         "hoverinfo": "text",
         "line": {
          "color": "cornflowerblue",
          "width": 0.1647842263062749
         },
         "mode": "lines",
         "text": "0.165",
         "type": "scatter",
         "x": [
          18,
          19,
          null
         ],
         "y": [
          2,
          9,
          null
         ]
        },
        {
         "hoverinfo": "text",
         "line": {
          "color": "cornflowerblue",
          "width": 0.15305093475874612
         },
         "mode": "lines",
         "text": "0.153",
         "type": "scatter",
         "x": [
          18,
          19,
          null
         ],
         "y": [
          2,
          10,
          null
         ]
        },
        {
         "hoverinfo": "text",
         "line": {
          "color": "cornflowerblue",
          "width": 0.15218712293096778
         },
         "mode": "lines",
         "text": "0.152",
         "type": "scatter",
         "x": [
          18,
          19,
          null
         ],
         "y": [
          2,
          11,
          null
         ]
        },
        {
         "hoverinfo": "text",
         "line": {
          "color": "cornflowerblue",
          "width": 0.1990430876914807
         },
         "mode": "lines",
         "text": "0.199",
         "type": "scatter",
         "x": [
          18,
          19,
          null
         ],
         "y": [
          3,
          0,
          null
         ]
        },
        {
         "hoverinfo": "text",
         "line": {
          "color": "cornflowerblue",
          "width": 0.16847848204923202
         },
         "mode": "lines",
         "text": "0.168",
         "type": "scatter",
         "x": [
          18,
          19,
          null
         ],
         "y": [
          3,
          1,
          null
         ]
        },
        {
         "hoverinfo": "text",
         "line": {
          "color": "cornflowerblue",
          "width": 0.1958572027002286
         },
         "mode": "lines",
         "text": "0.196",
         "type": "scatter",
         "x": [
          18,
          19,
          null
         ],
         "y": [
          3,
          2,
          null
         ]
        },
        {
         "hoverinfo": "text",
         "line": {
          "color": "cornflowerblue",
          "width": 0.29208776984752766
         },
         "mode": "lines",
         "text": "0.292",
         "type": "scatter",
         "x": [
          18,
          19,
          null
         ],
         "y": [
          3,
          3,
          null
         ]
        },
        {
         "hoverinfo": "text",
         "line": {
          "color": "cornflowerblue",
          "width": 0.19345740329018818
         },
         "mode": "lines",
         "text": "0.193",
         "type": "scatter",
         "x": [
          18,
          19,
          null
         ],
         "y": [
          3,
          4,
          null
         ]
        },
        {
         "hoverinfo": "text",
         "line": {
          "color": "cornflowerblue",
          "width": 0.16655632344561017
         },
         "mode": "lines",
         "text": "0.167",
         "type": "scatter",
         "x": [
          18,
          19,
          null
         ],
         "y": [
          3,
          5,
          null
         ]
        },
        {
         "hoverinfo": "text",
         "line": {
          "color": "cornflowerblue",
          "width": 0.15614161971474727
         },
         "mode": "lines",
         "text": "0.156",
         "type": "scatter",
         "x": [
          18,
          19,
          null
         ],
         "y": [
          3,
          6,
          null
         ]
        },
        {
         "hoverinfo": "text",
         "line": {
          "color": "cornflowerblue",
          "width": 0.14623679134712675
         },
         "mode": "lines",
         "text": "0.146",
         "type": "scatter",
         "x": [
          18,
          19,
          null
         ],
         "y": [
          3,
          7,
          null
         ]
        },
        {
         "hoverinfo": "text",
         "line": {
          "color": "cornflowerblue",
          "width": 0.16362914791776476
         },
         "mode": "lines",
         "text": "0.164",
         "type": "scatter",
         "x": [
          18,
          19,
          null
         ],
         "y": [
          3,
          9,
          null
         ]
        },
        {
         "hoverinfo": "text",
         "line": {
          "color": "cornflowerblue",
          "width": 0.15147214301787443
         },
         "mode": "lines",
         "text": "0.151",
         "type": "scatter",
         "x": [
          18,
          19,
          null
         ],
         "y": [
          3,
          10,
          null
         ]
        },
        {
         "hoverinfo": "text",
         "line": {
          "color": "cornflowerblue",
          "width": 0.15130830645498253
         },
         "mode": "lines",
         "text": "0.151",
         "type": "scatter",
         "x": [
          18,
          19,
          null
         ],
         "y": [
          3,
          11,
          null
         ]
        },
        {
         "hoverinfo": "text",
         "line": {
          "color": "cornflowerblue",
          "width": 0.24766484899615426
         },
         "mode": "lines",
         "text": "0.248",
         "type": "scatter",
         "x": [
          18,
          19,
          null
         ],
         "y": [
          4,
          0,
          null
         ]
        },
        {
         "hoverinfo": "text",
         "line": {
          "color": "cornflowerblue",
          "width": 0.16456749449765862
         },
         "mode": "lines",
         "text": "0.165",
         "type": "scatter",
         "x": [
          18,
          19,
          null
         ],
         "y": [
          4,
          1,
          null
         ]
        },
        {
         "hoverinfo": "text",
         "line": {
          "color": "cornflowerblue",
          "width": 0.18047021238523694
         },
         "mode": "lines",
         "text": "0.18",
         "type": "scatter",
         "x": [
          18,
          19,
          null
         ],
         "y": [
          4,
          2,
          null
         ]
        },
        {
         "hoverinfo": "text",
         "line": {
          "color": "cornflowerblue",
          "width": 0.18877377389363437
         },
         "mode": "lines",
         "text": "0.189",
         "type": "scatter",
         "x": [
          18,
          19,
          null
         ],
         "y": [
          4,
          3,
          null
         ]
        },
        {
         "hoverinfo": "text",
         "line": {
          "color": "cornflowerblue",
          "width": 0.19246851076387453
         },
         "mode": "lines",
         "text": "0.192",
         "type": "scatter",
         "x": [
          18,
          19,
          null
         ],
         "y": [
          4,
          4,
          null
         ]
        },
        {
         "hoverinfo": "text",
         "line": {
          "color": "cornflowerblue",
          "width": 0.16914890687405487
         },
         "mode": "lines",
         "text": "0.169",
         "type": "scatter",
         "x": [
          18,
          19,
          null
         ],
         "y": [
          4,
          5,
          null
         ]
        },
        {
         "hoverinfo": "text",
         "line": {
          "color": "cornflowerblue",
          "width": 0.15597182958979963
         },
         "mode": "lines",
         "text": "0.156",
         "type": "scatter",
         "x": [
          18,
          19,
          null
         ],
         "y": [
          4,
          6,
          null
         ]
        },
        {
         "hoverinfo": "text",
         "line": {
          "color": "cornflowerblue",
          "width": 0.14827233570179105
         },
         "mode": "lines",
         "text": "0.148",
         "type": "scatter",
         "x": [
          18,
          19,
          null
         ],
         "y": [
          4,
          7,
          null
         ]
        },
        {
         "hoverinfo": "text",
         "line": {
          "color": "cornflowerblue",
          "width": 0.1623335987409057
         },
         "mode": "lines",
         "text": "0.162",
         "type": "scatter",
         "x": [
          18,
          19,
          null
         ],
         "y": [
          4,
          9,
          null
         ]
        },
        {
         "hoverinfo": "text",
         "line": {
          "color": "cornflowerblue",
          "width": 0.153017062021272
         },
         "mode": "lines",
         "text": "0.153",
         "type": "scatter",
         "x": [
          18,
          19,
          null
         ],
         "y": [
          4,
          10,
          null
         ]
        },
        {
         "hoverinfo": "text",
         "line": {
          "color": "cornflowerblue",
          "width": 0.15525792914706957
         },
         "mode": "lines",
         "text": "0.155",
         "type": "scatter",
         "x": [
          18,
          19,
          null
         ],
         "y": [
          4,
          11,
          null
         ]
        },
        {
         "hoverinfo": "text",
         "line": {
          "color": "cornflowerblue",
          "width": 0.21466368229332078
         },
         "mode": "lines",
         "text": "0.215",
         "type": "scatter",
         "x": [
          18,
          19,
          null
         ],
         "y": [
          5,
          0,
          null
         ]
        },
        {
         "hoverinfo": "text",
         "line": {
          "color": "cornflowerblue",
          "width": 0.16419920018397777
         },
         "mode": "lines",
         "text": "0.164",
         "type": "scatter",
         "x": [
          18,
          19,
          null
         ],
         "y": [
          5,
          1,
          null
         ]
        },
        {
         "hoverinfo": "text",
         "line": {
          "color": "cornflowerblue",
          "width": 0.24618864266382953
         },
         "mode": "lines",
         "text": "0.246",
         "type": "scatter",
         "x": [
          18,
          19,
          null
         ],
         "y": [
          5,
          2,
          null
         ]
        },
        {
         "hoverinfo": "text",
         "line": {
          "color": "cornflowerblue",
          "width": 0.18204021647672491
         },
         "mode": "lines",
         "text": "0.182",
         "type": "scatter",
         "x": [
          18,
          19,
          null
         ],
         "y": [
          5,
          3,
          null
         ]
        },
        {
         "hoverinfo": "text",
         "line": {
          "color": "cornflowerblue",
          "width": 0.18967029684990924
         },
         "mode": "lines",
         "text": "0.19",
         "type": "scatter",
         "x": [
          18,
          19,
          null
         ],
         "y": [
          5,
          4,
          null
         ]
        },
        {
         "hoverinfo": "text",
         "line": {
          "color": "cornflowerblue",
          "width": 0.16405155500655746
         },
         "mode": "lines",
         "text": "0.164",
         "type": "scatter",
         "x": [
          18,
          19,
          null
         ],
         "y": [
          5,
          5,
          null
         ]
        },
        {
         "hoverinfo": "text",
         "line": {
          "color": "cornflowerblue",
          "width": 0.15572636661430958
         },
         "mode": "lines",
         "text": "0.156",
         "type": "scatter",
         "x": [
          18,
          19,
          null
         ],
         "y": [
          5,
          6,
          null
         ]
        },
        {
         "hoverinfo": "text",
         "line": {
          "color": "cornflowerblue",
          "width": 0.14846092620140286
         },
         "mode": "lines",
         "text": "0.148",
         "type": "scatter",
         "x": [
          18,
          19,
          null
         ],
         "y": [
          5,
          7,
          null
         ]
        },
        {
         "hoverinfo": "text",
         "line": {
          "color": "cornflowerblue",
          "width": 0.1612669463359839
         },
         "mode": "lines",
         "text": "0.161",
         "type": "scatter",
         "x": [
          18,
          19,
          null
         ],
         "y": [
          5,
          9,
          null
         ]
        },
        {
         "hoverinfo": "text",
         "line": {
          "color": "cornflowerblue",
          "width": 0.15581814559106139
         },
         "mode": "lines",
         "text": "0.156",
         "type": "scatter",
         "x": [
          18,
          19,
          null
         ],
         "y": [
          5,
          10,
          null
         ]
        },
        {
         "hoverinfo": "text",
         "line": {
          "color": "cornflowerblue",
          "width": 0.15410985170434252
         },
         "mode": "lines",
         "text": "0.154",
         "type": "scatter",
         "x": [
          18,
          19,
          null
         ],
         "y": [
          5,
          11,
          null
         ]
        },
        {
         "hoverinfo": "text",
         "line": {
          "color": "cornflowerblue",
          "width": 0.1483368149116614
         },
         "mode": "lines",
         "text": "0.148",
         "type": "scatter",
         "x": [
          18,
          19,
          null
         ],
         "y": [
          6,
          0,
          null
         ]
        },
        {
         "hoverinfo": "text",
         "line": {
          "color": "cornflowerblue",
          "width": 0.14875695150109014
         },
         "mode": "lines",
         "text": "0.149",
         "type": "scatter",
         "x": [
          18,
          19,
          null
         ],
         "y": [
          6,
          1,
          null
         ]
        },
        {
         "hoverinfo": "text",
         "line": {
          "color": "cornflowerblue",
          "width": 0.14711005425124535
         },
         "mode": "lines",
         "text": "0.147",
         "type": "scatter",
         "x": [
          18,
          19,
          null
         ],
         "y": [
          6,
          2,
          null
         ]
        },
        {
         "hoverinfo": "text",
         "line": {
          "color": "cornflowerblue",
          "width": 0.14820790488915458
         },
         "mode": "lines",
         "text": "0.148",
         "type": "scatter",
         "x": [
          18,
          19,
          null
         ],
         "y": [
          6,
          3,
          null
         ]
        },
        {
         "hoverinfo": "text",
         "line": {
          "color": "cornflowerblue",
          "width": 0.14860544157705552
         },
         "mode": "lines",
         "text": "0.149",
         "type": "scatter",
         "x": [
          18,
          19,
          null
         ],
         "y": [
          6,
          4,
          null
         ]
        },
        {
         "hoverinfo": "text",
         "line": {
          "color": "cornflowerblue",
          "width": 0.14644726998872287
         },
         "mode": "lines",
         "text": "0.146",
         "type": "scatter",
         "x": [
          18,
          19,
          null
         ],
         "y": [
          6,
          6,
          null
         ]
        },
        {
         "hoverinfo": "text",
         "line": {
          "color": "cornflowerblue",
          "width": 0.14758824628227257
         },
         "mode": "lines",
         "text": "0.148",
         "type": "scatter",
         "x": [
          18,
          19,
          null
         ],
         "y": [
          6,
          9,
          null
         ]
        },
        {
         "hoverinfo": "text",
         "line": {
          "color": "cornflowerblue",
          "width": 0.14709388960231867
         },
         "mode": "lines",
         "text": "0.147",
         "type": "scatter",
         "x": [
          18,
          19,
          null
         ],
         "y": [
          6,
          10,
          null
         ]
        },
        {
         "hoverinfo": "text",
         "line": {
          "color": "cornflowerblue",
          "width": 0.15211558410958143
         },
         "mode": "lines",
         "text": "0.152",
         "type": "scatter",
         "x": [
          18,
          19,
          null
         ],
         "y": [
          6,
          11,
          null
         ]
        },
        {
         "hoverinfo": "text",
         "line": {
          "color": "cornflowerblue",
          "width": 0.15169336906600053
         },
         "mode": "lines",
         "text": "0.152",
         "type": "scatter",
         "x": [
          18,
          19,
          null
         ],
         "y": [
          7,
          0,
          null
         ]
        },
        {
         "hoverinfo": "text",
         "line": {
          "color": "cornflowerblue",
          "width": 0.15178762265912266
         },
         "mode": "lines",
         "text": "0.152",
         "type": "scatter",
         "x": [
          18,
          19,
          null
         ],
         "y": [
          7,
          1,
          null
         ]
        },
        {
         "hoverinfo": "text",
         "line": {
          "color": "cornflowerblue",
          "width": 0.1515408275250118
         },
         "mode": "lines",
         "text": "0.152",
         "type": "scatter",
         "x": [
          18,
          19,
          null
         ],
         "y": [
          7,
          2,
          null
         ]
        },
        {
         "hoverinfo": "text",
         "line": {
          "color": "cornflowerblue",
          "width": 0.15114047222727298
         },
         "mode": "lines",
         "text": "0.151",
         "type": "scatter",
         "x": [
          18,
          19,
          null
         ],
         "y": [
          7,
          3,
          null
         ]
        },
        {
         "hoverinfo": "text",
         "line": {
          "color": "cornflowerblue",
          "width": 0.14955837917116668
         },
         "mode": "lines",
         "text": "0.15",
         "type": "scatter",
         "x": [
          18,
          19,
          null
         ],
         "y": [
          7,
          4,
          null
         ]
        },
        {
         "hoverinfo": "text",
         "line": {
          "color": "cornflowerblue",
          "width": 0.15140638292298392
         },
         "mode": "lines",
         "text": "0.151",
         "type": "scatter",
         "x": [
          18,
          19,
          null
         ],
         "y": [
          7,
          5,
          null
         ]
        },
        {
         "hoverinfo": "text",
         "line": {
          "color": "cornflowerblue",
          "width": 0.15113777590021416
         },
         "mode": "lines",
         "text": "0.151",
         "type": "scatter",
         "x": [
          18,
          19,
          null
         ],
         "y": [
          7,
          6,
          null
         ]
        },
        {
         "hoverinfo": "text",
         "line": {
          "color": "cornflowerblue",
          "width": 0.1465099907828339
         },
         "mode": "lines",
         "text": "0.147",
         "type": "scatter",
         "x": [
          18,
          19,
          null
         ],
         "y": [
          7,
          7,
          null
         ]
        },
        {
         "hoverinfo": "text",
         "line": {
          "color": "cornflowerblue",
          "width": 0.15815084781600808
         },
         "mode": "lines",
         "text": "0.158",
         "type": "scatter",
         "x": [
          18,
          19,
          null
         ],
         "y": [
          7,
          9,
          null
         ]
        },
        {
         "hoverinfo": "text",
         "line": {
          "color": "cornflowerblue",
          "width": 0.1481407488019782
         },
         "mode": "lines",
         "text": "0.148",
         "type": "scatter",
         "x": [
          18,
          19,
          null
         ],
         "y": [
          7,
          10,
          null
         ]
        },
        {
         "hoverinfo": "text",
         "line": {
          "color": "cornflowerblue",
          "width": 0.1507160726172804
         },
         "mode": "lines",
         "text": "0.151",
         "type": "scatter",
         "x": [
          18,
          19,
          null
         ],
         "y": [
          7,
          11,
          null
         ]
        },
        {
         "hoverinfo": "text",
         "line": {
          "color": "cornflowerblue",
          "width": 0.15031144387834763
         },
         "mode": "lines",
         "text": "0.15",
         "type": "scatter",
         "x": [
          18,
          19,
          null
         ],
         "y": [
          8,
          0,
          null
         ]
        },
        {
         "hoverinfo": "text",
         "line": {
          "color": "cornflowerblue",
          "width": 0.14973769149359822
         },
         "mode": "lines",
         "text": "0.15",
         "type": "scatter",
         "x": [
          18,
          19,
          null
         ],
         "y": [
          8,
          1,
          null
         ]
        },
        {
         "hoverinfo": "text",
         "line": {
          "color": "cornflowerblue",
          "width": 0.14946926460386806
         },
         "mode": "lines",
         "text": "0.149",
         "type": "scatter",
         "x": [
          18,
          19,
          null
         ],
         "y": [
          8,
          2,
          null
         ]
        },
        {
         "hoverinfo": "text",
         "line": {
          "color": "cornflowerblue",
          "width": 0.1516418958465051
         },
         "mode": "lines",
         "text": "0.152",
         "type": "scatter",
         "x": [
          18,
          19,
          null
         ],
         "y": [
          8,
          3,
          null
         ]
        },
        {
         "hoverinfo": "text",
         "line": {
          "color": "cornflowerblue",
          "width": 0.14945662328316214
         },
         "mode": "lines",
         "text": "0.149",
         "type": "scatter",
         "x": [
          18,
          19,
          null
         ],
         "y": [
          8,
          4,
          null
         ]
        },
        {
         "hoverinfo": "text",
         "line": {
          "color": "cornflowerblue",
          "width": 0.14807252679200972
         },
         "mode": "lines",
         "text": "0.148",
         "type": "scatter",
         "x": [
          18,
          19,
          null
         ],
         "y": [
          8,
          6,
          null
         ]
        },
        {
         "hoverinfo": "text",
         "line": {
          "color": "cornflowerblue",
          "width": 0.14747319706303072
         },
         "mode": "lines",
         "text": "0.147",
         "type": "scatter",
         "x": [
          18,
          19,
          null
         ],
         "y": [
          8,
          7,
          null
         ]
        },
        {
         "hoverinfo": "text",
         "line": {
          "color": "cornflowerblue",
          "width": 0.1472187957041427
         },
         "mode": "lines",
         "text": "0.147",
         "type": "scatter",
         "x": [
          18,
          19,
          null
         ],
         "y": [
          8,
          9,
          null
         ]
        },
        {
         "hoverinfo": "text",
         "line": {
          "color": "cornflowerblue",
          "width": 0.14617014081414048
         },
         "mode": "lines",
         "text": "0.146",
         "type": "scatter",
         "x": [
          18,
          19,
          null
         ],
         "y": [
          8,
          11,
          null
         ]
        },
        {
         "hoverinfo": "text",
         "line": {
          "color": "cornflowerblue",
          "width": 0.21346690200829846
         },
         "mode": "lines",
         "text": "0.213",
         "type": "scatter",
         "x": [
          19,
          20,
          null
         ],
         "y": [
          0,
          0,
          null
         ]
        },
        {
         "hoverinfo": "text",
         "line": {
          "color": "cornflowerblue",
          "width": 0.19260963769592765
         },
         "mode": "lines",
         "text": "0.193",
         "type": "scatter",
         "x": [
          19,
          20,
          null
         ],
         "y": [
          0,
          1,
          null
         ]
        },
        {
         "hoverinfo": "text",
         "line": {
          "color": "cornflowerblue",
          "width": 0.20998560014232756
         },
         "mode": "lines",
         "text": "0.21",
         "type": "scatter",
         "x": [
          19,
          20,
          null
         ],
         "y": [
          0,
          2,
          null
         ]
        },
        {
         "hoverinfo": "text",
         "line": {
          "color": "cornflowerblue",
          "width": 0.18025946294813117
         },
         "mode": "lines",
         "text": "0.18",
         "type": "scatter",
         "x": [
          19,
          20,
          null
         ],
         "y": [
          0,
          3,
          null
         ]
        },
        {
         "hoverinfo": "text",
         "line": {
          "color": "cornflowerblue",
          "width": 0.22161348304934267
         },
         "mode": "lines",
         "text": "0.222",
         "type": "scatter",
         "x": [
          19,
          20,
          null
         ],
         "y": [
          0,
          4,
          null
         ]
        },
        {
         "hoverinfo": "text",
         "line": {
          "color": "cornflowerblue",
          "width": 0.44127070936989204
         },
         "mode": "lines",
         "text": "0.441",
         "type": "scatter",
         "x": [
          19,
          20,
          null
         ],
         "y": [
          0,
          5,
          null
         ]
        },
        {
         "hoverinfo": "text",
         "line": {
          "color": "cornflowerblue",
          "width": 0.2036244738665629
         },
         "mode": "lines",
         "text": "0.204",
         "type": "scatter",
         "x": [
          19,
          20,
          null
         ],
         "y": [
          0,
          6,
          null
         ]
        },
        {
         "hoverinfo": "text",
         "line": {
          "color": "cornflowerblue",
          "width": 0.16122310724674918
         },
         "mode": "lines",
         "text": "0.161",
         "type": "scatter",
         "x": [
          19,
          20,
          null
         ],
         "y": [
          0,
          7,
          null
         ]
        },
        {
         "hoverinfo": "text",
         "line": {
          "color": "cornflowerblue",
          "width": 0.16789408423969612
         },
         "mode": "lines",
         "text": "0.168",
         "type": "scatter",
         "x": [
          19,
          20,
          null
         ],
         "y": [
          1,
          0,
          null
         ]
        },
        {
         "hoverinfo": "text",
         "line": {
          "color": "cornflowerblue",
          "width": 0.16570802606441198
         },
         "mode": "lines",
         "text": "0.166",
         "type": "scatter",
         "x": [
          19,
          20,
          null
         ],
         "y": [
          1,
          1,
          null
         ]
        },
        {
         "hoverinfo": "text",
         "line": {
          "color": "cornflowerblue",
          "width": 0.15662806715422187
         },
         "mode": "lines",
         "text": "0.157",
         "type": "scatter",
         "x": [
          19,
          20,
          null
         ],
         "y": [
          1,
          2,
          null
         ]
        },
        {
         "hoverinfo": "text",
         "line": {
          "color": "cornflowerblue",
          "width": 0.17120340479045182
         },
         "mode": "lines",
         "text": "0.171",
         "type": "scatter",
         "x": [
          19,
          20,
          null
         ],
         "y": [
          1,
          3,
          null
         ]
        },
        {
         "hoverinfo": "text",
         "line": {
          "color": "cornflowerblue",
          "width": 0.16332282870834333
         },
         "mode": "lines",
         "text": "0.163",
         "type": "scatter",
         "x": [
          19,
          20,
          null
         ],
         "y": [
          1,
          4,
          null
         ]
        },
        {
         "hoverinfo": "text",
         "line": {
          "color": "cornflowerblue",
          "width": 0.16681813164109702
         },
         "mode": "lines",
         "text": "0.167",
         "type": "scatter",
         "x": [
          19,
          20,
          null
         ],
         "y": [
          1,
          5,
          null
         ]
        },
        {
         "hoverinfo": "text",
         "line": {
          "color": "cornflowerblue",
          "width": 0.16202289935046468
         },
         "mode": "lines",
         "text": "0.162",
         "type": "scatter",
         "x": [
          19,
          20,
          null
         ],
         "y": [
          1,
          6,
          null
         ]
        },
        {
         "hoverinfo": "text",
         "line": {
          "color": "cornflowerblue",
          "width": 0.1625331807176716
         },
         "mode": "lines",
         "text": "0.163",
         "type": "scatter",
         "x": [
          19,
          20,
          null
         ],
         "y": [
          1,
          7,
          null
         ]
        },
        {
         "hoverinfo": "text",
         "line": {
          "color": "cornflowerblue",
          "width": 0.20224701111360402
         },
         "mode": "lines",
         "text": "0.202",
         "type": "scatter",
         "x": [
          19,
          20,
          null
         ],
         "y": [
          2,
          0,
          null
         ]
        },
        {
         "hoverinfo": "text",
         "line": {
          "color": "cornflowerblue",
          "width": 0.260501039757555
         },
         "mode": "lines",
         "text": "0.261",
         "type": "scatter",
         "x": [
          19,
          20,
          null
         ],
         "y": [
          2,
          1,
          null
         ]
        },
        {
         "hoverinfo": "text",
         "line": {
          "color": "cornflowerblue",
          "width": 0.18090122167662528
         },
         "mode": "lines",
         "text": "0.181",
         "type": "scatter",
         "x": [
          19,
          20,
          null
         ],
         "y": [
          2,
          2,
          null
         ]
        },
        {
         "hoverinfo": "text",
         "line": {
          "color": "cornflowerblue",
          "width": 0.17941543232439072
         },
         "mode": "lines",
         "text": "0.179",
         "type": "scatter",
         "x": [
          19,
          20,
          null
         ],
         "y": [
          2,
          3,
          null
         ]
        },
        {
         "hoverinfo": "text",
         "line": {
          "color": "cornflowerblue",
          "width": 0.18015648618266278
         },
         "mode": "lines",
         "text": "0.18",
         "type": "scatter",
         "x": [
          19,
          20,
          null
         ],
         "y": [
          2,
          4,
          null
         ]
        },
        {
         "hoverinfo": "text",
         "line": {
          "color": "cornflowerblue",
          "width": 0.21572370871494576
         },
         "mode": "lines",
         "text": "0.216",
         "type": "scatter",
         "x": [
          19,
          20,
          null
         ],
         "y": [
          2,
          5,
          null
         ]
        },
        {
         "hoverinfo": "text",
         "line": {
          "color": "cornflowerblue",
          "width": 0.18990914299731443
         },
         "mode": "lines",
         "text": "0.19",
         "type": "scatter",
         "x": [
          19,
          20,
          null
         ],
         "y": [
          2,
          6,
          null
         ]
        },
        {
         "hoverinfo": "text",
         "line": {
          "color": "cornflowerblue",
          "width": 0.1633267189039394
         },
         "mode": "lines",
         "text": "0.163",
         "type": "scatter",
         "x": [
          19,
          20,
          null
         ],
         "y": [
          2,
          7,
          null
         ]
        },
        {
         "hoverinfo": "text",
         "line": {
          "color": "cornflowerblue",
          "width": 0.14614357201169673
         },
         "mode": "lines",
         "text": "0.146",
         "type": "scatter",
         "x": [
          19,
          20,
          null
         ],
         "y": [
          2,
          8,
          null
         ]
        },
        {
         "hoverinfo": "text",
         "line": {
          "color": "cornflowerblue",
          "width": 0.20157533322377202
         },
         "mode": "lines",
         "text": "0.202",
         "type": "scatter",
         "x": [
          19,
          20,
          null
         ],
         "y": [
          3,
          0,
          null
         ]
        },
        {
         "hoverinfo": "text",
         "line": {
          "color": "cornflowerblue",
          "width": 0.22190237651119704
         },
         "mode": "lines",
         "text": "0.222",
         "type": "scatter",
         "x": [
          19,
          20,
          null
         ],
         "y": [
          3,
          1,
          null
         ]
        },
        {
         "hoverinfo": "text",
         "line": {
          "color": "cornflowerblue",
          "width": 0.17374842482944
         },
         "mode": "lines",
         "text": "0.174",
         "type": "scatter",
         "x": [
          19,
          20,
          null
         ],
         "y": [
          3,
          2,
          null
         ]
        },
        {
         "hoverinfo": "text",
         "line": {
          "color": "cornflowerblue",
          "width": 0.1936072969438463
         },
         "mode": "lines",
         "text": "0.194",
         "type": "scatter",
         "x": [
          19,
          20,
          null
         ],
         "y": [
          3,
          3,
          null
         ]
        },
        {
         "hoverinfo": "text",
         "line": {
          "color": "cornflowerblue",
          "width": 0.18782803115093197
         },
         "mode": "lines",
         "text": "0.188",
         "type": "scatter",
         "x": [
          19,
          20,
          null
         ],
         "y": [
          3,
          4,
          null
         ]
        },
        {
         "hoverinfo": "text",
         "line": {
          "color": "cornflowerblue",
          "width": 0.20944572707579104
         },
         "mode": "lines",
         "text": "0.209",
         "type": "scatter",
         "x": [
          19,
          20,
          null
         ],
         "y": [
          3,
          5,
          null
         ]
        },
        {
         "hoverinfo": "text",
         "line": {
          "color": "cornflowerblue",
          "width": 0.18054924482832777
         },
         "mode": "lines",
         "text": "0.181",
         "type": "scatter",
         "x": [
          19,
          20,
          null
         ],
         "y": [
          3,
          6,
          null
         ]
        },
        {
         "hoverinfo": "text",
         "line": {
          "color": "cornflowerblue",
          "width": 0.1654379614236712
         },
         "mode": "lines",
         "text": "0.165",
         "type": "scatter",
         "x": [
          19,
          20,
          null
         ],
         "y": [
          3,
          7,
          null
         ]
        },
        {
         "hoverinfo": "text",
         "line": {
          "color": "cornflowerblue",
          "width": 0.4952768810903691
         },
         "mode": "lines",
         "text": "0.495",
         "type": "scatter",
         "x": [
          19,
          20,
          null
         ],
         "y": [
          4,
          0,
          null
         ]
        },
        {
         "hoverinfo": "text",
         "line": {
          "color": "cornflowerblue",
          "width": 0.1980998046078249
         },
         "mode": "lines",
         "text": "0.198",
         "type": "scatter",
         "x": [
          19,
          20,
          null
         ],
         "y": [
          4,
          1,
          null
         ]
        },
        {
         "hoverinfo": "text",
         "line": {
          "color": "cornflowerblue",
          "width": 0.1803657504716595
         },
         "mode": "lines",
         "text": "0.18",
         "type": "scatter",
         "x": [
          19,
          20,
          null
         ],
         "y": [
          4,
          2,
          null
         ]
        },
        {
         "hoverinfo": "text",
         "line": {
          "color": "cornflowerblue",
          "width": 0.18308069032106664
         },
         "mode": "lines",
         "text": "0.183",
         "type": "scatter",
         "x": [
          19,
          20,
          null
         ],
         "y": [
          4,
          3,
          null
         ]
        },
        {
         "hoverinfo": "text",
         "line": {
          "color": "cornflowerblue",
          "width": 0.19174060659339237
         },
         "mode": "lines",
         "text": "0.192",
         "type": "scatter",
         "x": [
          19,
          20,
          null
         ],
         "y": [
          4,
          4,
          null
         ]
        },
        {
         "hoverinfo": "text",
         "line": {
          "color": "cornflowerblue",
          "width": 0.21646088813614753
         },
         "mode": "lines",
         "text": "0.216",
         "type": "scatter",
         "x": [
          19,
          20,
          null
         ],
         "y": [
          4,
          5,
          null
         ]
        },
        {
         "hoverinfo": "text",
         "line": {
          "color": "cornflowerblue",
          "width": 0.18682146136823352
         },
         "mode": "lines",
         "text": "0.187",
         "type": "scatter",
         "x": [
          19,
          20,
          null
         ],
         "y": [
          4,
          6,
          null
         ]
        },
        {
         "hoverinfo": "text",
         "line": {
          "color": "cornflowerblue",
          "width": 0.16586699640293587
         },
         "mode": "lines",
         "text": "0.166",
         "type": "scatter",
         "x": [
          19,
          20,
          null
         ],
         "y": [
          4,
          7,
          null
         ]
        },
        {
         "hoverinfo": "text",
         "line": {
          "color": "cornflowerblue",
          "width": 0.16153461226710483
         },
         "mode": "lines",
         "text": "0.162",
         "type": "scatter",
         "x": [
          19,
          20,
          null
         ],
         "y": [
          5,
          0,
          null
         ]
        },
        {
         "hoverinfo": "text",
         "line": {
          "color": "cornflowerblue",
          "width": 0.16331751482611773
         },
         "mode": "lines",
         "text": "0.163",
         "type": "scatter",
         "x": [
          19,
          20,
          null
         ],
         "y": [
          5,
          1,
          null
         ]
        },
        {
         "hoverinfo": "text",
         "line": {
          "color": "cornflowerblue",
          "width": 0.15336454628841442
         },
         "mode": "lines",
         "text": "0.153",
         "type": "scatter",
         "x": [
          19,
          20,
          null
         ],
         "y": [
          5,
          2,
          null
         ]
        },
        {
         "hoverinfo": "text",
         "line": {
          "color": "cornflowerblue",
          "width": 0.16261884744584335
         },
         "mode": "lines",
         "text": "0.163",
         "type": "scatter",
         "x": [
          19,
          20,
          null
         ],
         "y": [
          5,
          3,
          null
         ]
        },
        {
         "hoverinfo": "text",
         "line": {
          "color": "cornflowerblue",
          "width": 0.16863394452897212
         },
         "mode": "lines",
         "text": "0.169",
         "type": "scatter",
         "x": [
          19,
          20,
          null
         ],
         "y": [
          5,
          4,
          null
         ]
        },
        {
         "hoverinfo": "text",
         "line": {
          "color": "cornflowerblue",
          "width": 0.1661246311645916
         },
         "mode": "lines",
         "text": "0.166",
         "type": "scatter",
         "x": [
          19,
          20,
          null
         ],
         "y": [
          5,
          5,
          null
         ]
        },
        {
         "hoverinfo": "text",
         "line": {
          "color": "cornflowerblue",
          "width": 0.16210999446694382
         },
         "mode": "lines",
         "text": "0.162",
         "type": "scatter",
         "x": [
          19,
          20,
          null
         ],
         "y": [
          5,
          6,
          null
         ]
        },
        {
         "hoverinfo": "text",
         "line": {
          "color": "cornflowerblue",
          "width": 0.16124204428821454
         },
         "mode": "lines",
         "text": "0.161",
         "type": "scatter",
         "x": [
          19,
          20,
          null
         ],
         "y": [
          5,
          7,
          null
         ]
        },
        {
         "hoverinfo": "text",
         "line": {
          "color": "cornflowerblue",
          "width": 0.16121216462926904
         },
         "mode": "lines",
         "text": "0.161",
         "type": "scatter",
         "x": [
          19,
          20,
          null
         ],
         "y": [
          6,
          0,
          null
         ]
        },
        {
         "hoverinfo": "text",
         "line": {
          "color": "cornflowerblue",
          "width": 0.15575035132466103
         },
         "mode": "lines",
         "text": "0.156",
         "type": "scatter",
         "x": [
          19,
          20,
          null
         ],
         "y": [
          6,
          1,
          null
         ]
        },
        {
         "hoverinfo": "text",
         "line": {
          "color": "cornflowerblue",
          "width": 0.15004513077157888
         },
         "mode": "lines",
         "text": "0.15",
         "type": "scatter",
         "x": [
          19,
          20,
          null
         ],
         "y": [
          6,
          2,
          null
         ]
        },
        {
         "hoverinfo": "text",
         "line": {
          "color": "cornflowerblue",
          "width": 0.15521050211253815
         },
         "mode": "lines",
         "text": "0.155",
         "type": "scatter",
         "x": [
          19,
          20,
          null
         ],
         "y": [
          6,
          3,
          null
         ]
        },
        {
         "hoverinfo": "text",
         "line": {
          "color": "cornflowerblue",
          "width": 0.15459466911359346
         },
         "mode": "lines",
         "text": "0.155",
         "type": "scatter",
         "x": [
          19,
          20,
          null
         ],
         "y": [
          6,
          4,
          null
         ]
        },
        {
         "hoverinfo": "text",
         "line": {
          "color": "cornflowerblue",
          "width": 0.1569425179561687
         },
         "mode": "lines",
         "text": "0.157",
         "type": "scatter",
         "x": [
          19,
          20,
          null
         ],
         "y": [
          6,
          5,
          null
         ]
        },
        {
         "hoverinfo": "text",
         "line": {
          "color": "cornflowerblue",
          "width": 0.15666447119873791
         },
         "mode": "lines",
         "text": "0.157",
         "type": "scatter",
         "x": [
          19,
          20,
          null
         ],
         "y": [
          6,
          6,
          null
         ]
        },
        {
         "hoverinfo": "text",
         "line": {
          "color": "cornflowerblue",
          "width": 0.15731724699326013
         },
         "mode": "lines",
         "text": "0.157",
         "type": "scatter",
         "x": [
          19,
          20,
          null
         ],
         "y": [
          6,
          7,
          null
         ]
        },
        {
         "hoverinfo": "text",
         "line": {
          "color": "cornflowerblue",
          "width": 0.14656657069734358
         },
         "mode": "lines",
         "text": "0.147",
         "type": "scatter",
         "x": [
          19,
          20,
          null
         ],
         "y": [
          7,
          0,
          null
         ]
        },
        {
         "hoverinfo": "text",
         "line": {
          "color": "cornflowerblue",
          "width": 0.14705661695033848
         },
         "mode": "lines",
         "text": "0.147",
         "type": "scatter",
         "x": [
          19,
          20,
          null
         ],
         "y": [
          7,
          1,
          null
         ]
        },
        {
         "hoverinfo": "text",
         "line": {
          "color": "cornflowerblue",
          "width": 0.14625911698999908
         },
         "mode": "lines",
         "text": "0.146",
         "type": "scatter",
         "x": [
          19,
          20,
          null
         ],
         "y": [
          7,
          2,
          null
         ]
        },
        {
         "hoverinfo": "text",
         "line": {
          "color": "cornflowerblue",
          "width": 0.14706650989217304
         },
         "mode": "lines",
         "text": "0.147",
         "type": "scatter",
         "x": [
          19,
          20,
          null
         ],
         "y": [
          7,
          4,
          null
         ]
        },
        {
         "hoverinfo": "text",
         "line": {
          "color": "cornflowerblue",
          "width": 0.14686587957263625
         },
         "mode": "lines",
         "text": "0.147",
         "type": "scatter",
         "x": [
          19,
          20,
          null
         ],
         "y": [
          7,
          5,
          null
         ]
        },
        {
         "hoverinfo": "text",
         "line": {
          "color": "cornflowerblue",
          "width": 0.14909945493064547
         },
         "mode": "lines",
         "text": "0.149",
         "type": "scatter",
         "x": [
          19,
          20,
          null
         ],
         "y": [
          7,
          6,
          null
         ]
        },
        {
         "hoverinfo": "text",
         "line": {
          "color": "cornflowerblue",
          "width": 0.14639489360796717
         },
         "mode": "lines",
         "text": "0.146",
         "type": "scatter",
         "x": [
          19,
          20,
          null
         ],
         "y": [
          7,
          7,
          null
         ]
        },
        {
         "hoverinfo": "text",
         "line": {
          "color": "cornflowerblue",
          "width": 0.16068408652492464
         },
         "mode": "lines",
         "text": "0.161",
         "type": "scatter",
         "x": [
          19,
          20,
          null
         ],
         "y": [
          9,
          0,
          null
         ]
        },
        {
         "hoverinfo": "text",
         "line": {
          "color": "cornflowerblue",
          "width": 0.15937606218144848
         },
         "mode": "lines",
         "text": "0.159",
         "type": "scatter",
         "x": [
          19,
          20,
          null
         ],
         "y": [
          9,
          1,
          null
         ]
        },
        {
         "hoverinfo": "text",
         "line": {
          "color": "cornflowerblue",
          "width": 0.1529153005118721
         },
         "mode": "lines",
         "text": "0.153",
         "type": "scatter",
         "x": [
          19,
          20,
          null
         ],
         "y": [
          9,
          2,
          null
         ]
        },
        {
         "hoverinfo": "text",
         "line": {
          "color": "cornflowerblue",
          "width": 0.16197691493333682
         },
         "mode": "lines",
         "text": "0.162",
         "type": "scatter",
         "x": [
          19,
          20,
          null
         ],
         "y": [
          9,
          3,
          null
         ]
        },
        {
         "hoverinfo": "text",
         "line": {
          "color": "cornflowerblue",
          "width": 0.15901009654368214
         },
         "mode": "lines",
         "text": "0.159",
         "type": "scatter",
         "x": [
          19,
          20,
          null
         ],
         "y": [
          9,
          4,
          null
         ]
        },
        {
         "hoverinfo": "text",
         "line": {
          "color": "cornflowerblue",
          "width": 0.16184413497737438
         },
         "mode": "lines",
         "text": "0.162",
         "type": "scatter",
         "x": [
          19,
          20,
          null
         ],
         "y": [
          9,
          5,
          null
         ]
        },
        {
         "hoverinfo": "text",
         "line": {
          "color": "cornflowerblue",
          "width": 0.1594190079950925
         },
         "mode": "lines",
         "text": "0.159",
         "type": "scatter",
         "x": [
          19,
          20,
          null
         ],
         "y": [
          9,
          6,
          null
         ]
        },
        {
         "hoverinfo": "text",
         "line": {
          "color": "cornflowerblue",
          "width": 0.16081251948087263
         },
         "mode": "lines",
         "text": "0.161",
         "type": "scatter",
         "x": [
          19,
          20,
          null
         ],
         "y": [
          9,
          7,
          null
         ]
        },
        {
         "hoverinfo": "text",
         "line": {
          "color": "cornflowerblue",
          "width": 0.15290107646635195
         },
         "mode": "lines",
         "text": "0.153",
         "type": "scatter",
         "x": [
          19,
          20,
          null
         ],
         "y": [
          10,
          0,
          null
         ]
        },
        {
         "hoverinfo": "text",
         "line": {
          "color": "cornflowerblue",
          "width": 0.1537053840093118
         },
         "mode": "lines",
         "text": "0.154",
         "type": "scatter",
         "x": [
          19,
          20,
          null
         ],
         "y": [
          10,
          1,
          null
         ]
        },
        {
         "hoverinfo": "text",
         "line": {
          "color": "cornflowerblue",
          "width": 0.14774019368893754
         },
         "mode": "lines",
         "text": "0.148",
         "type": "scatter",
         "x": [
          19,
          20,
          null
         ],
         "y": [
          10,
          2,
          null
         ]
        },
        {
         "hoverinfo": "text",
         "line": {
          "color": "cornflowerblue",
          "width": 0.15160552504322974
         },
         "mode": "lines",
         "text": "0.152",
         "type": "scatter",
         "x": [
          19,
          20,
          null
         ],
         "y": [
          10,
          3,
          null
         ]
        },
        {
         "hoverinfo": "text",
         "line": {
          "color": "cornflowerblue",
          "width": 0.15203425424262368
         },
         "mode": "lines",
         "text": "0.152",
         "type": "scatter",
         "x": [
          19,
          20,
          null
         ],
         "y": [
          10,
          4,
          null
         ]
        },
        {
         "hoverinfo": "text",
         "line": {
          "color": "cornflowerblue",
          "width": 0.15139295033540012
         },
         "mode": "lines",
         "text": "0.151",
         "type": "scatter",
         "x": [
          19,
          20,
          null
         ],
         "y": [
          10,
          5,
          null
         ]
        },
        {
         "hoverinfo": "text",
         "line": {
          "color": "cornflowerblue",
          "width": 0.15492798132847024
         },
         "mode": "lines",
         "text": "0.155",
         "type": "scatter",
         "x": [
          19,
          20,
          null
         ],
         "y": [
          10,
          6,
          null
         ]
        },
        {
         "hoverinfo": "text",
         "line": {
          "color": "cornflowerblue",
          "width": 0.15517526070276352
         },
         "mode": "lines",
         "text": "0.155",
         "type": "scatter",
         "x": [
          19,
          20,
          null
         ],
         "y": [
          10,
          7,
          null
         ]
        },
        {
         "hoverinfo": "text",
         "line": {
          "color": "cornflowerblue",
          "width": 0.15167016064846733
         },
         "mode": "lines",
         "text": "0.152",
         "type": "scatter",
         "x": [
          19,
          20,
          null
         ],
         "y": [
          11,
          0,
          null
         ]
        },
        {
         "hoverinfo": "text",
         "line": {
          "color": "cornflowerblue",
          "width": 0.15048351100092583
         },
         "mode": "lines",
         "text": "0.15",
         "type": "scatter",
         "x": [
          19,
          20,
          null
         ],
         "y": [
          11,
          1,
          null
         ]
        },
        {
         "hoverinfo": "text",
         "line": {
          "color": "cornflowerblue",
          "width": 0.1494988187248787
         },
         "mode": "lines",
         "text": "0.149",
         "type": "scatter",
         "x": [
          19,
          20,
          null
         ],
         "y": [
          11,
          2,
          null
         ]
        },
        {
         "hoverinfo": "text",
         "line": {
          "color": "cornflowerblue",
          "width": 0.1514954629359098
         },
         "mode": "lines",
         "text": "0.151",
         "type": "scatter",
         "x": [
          19,
          20,
          null
         ],
         "y": [
          11,
          3,
          null
         ]
        },
        {
         "hoverinfo": "text",
         "line": {
          "color": "cornflowerblue",
          "width": 0.15452145558707153
         },
         "mode": "lines",
         "text": "0.155",
         "type": "scatter",
         "x": [
          19,
          20,
          null
         ],
         "y": [
          11,
          4,
          null
         ]
        },
        {
         "hoverinfo": "text",
         "line": {
          "color": "cornflowerblue",
          "width": 0.1531898125779944
         },
         "mode": "lines",
         "text": "0.153",
         "type": "scatter",
         "x": [
          19,
          20,
          null
         ],
         "y": [
          11,
          5,
          null
         ]
        },
        {
         "hoverinfo": "text",
         "line": {
          "color": "cornflowerblue",
          "width": 0.15511355138178573
         },
         "mode": "lines",
         "text": "0.155",
         "type": "scatter",
         "x": [
          19,
          20,
          null
         ],
         "y": [
          11,
          6,
          null
         ]
        },
        {
         "hoverinfo": "text",
         "line": {
          "color": "cornflowerblue",
          "width": 0.15023689023540665
         },
         "mode": "lines",
         "text": "0.15",
         "type": "scatter",
         "x": [
          19,
          20,
          null
         ],
         "y": [
          11,
          7,
          null
         ]
        },
        {
         "hoverinfo": "text",
         "line": {
          "color": "cornflowerblue",
          "width": 0.14668873095525284
         },
         "mode": "lines",
         "text": "0.147",
         "type": "scatter",
         "x": [
          19,
          20,
          null
         ],
         "y": [
          11,
          8,
          null
         ]
        },
        {
         "hoverinfo": "text",
         "line": {
          "color": "cornflowerblue",
          "width": 0.1903416635223105
         },
         "mode": "lines",
         "text": "0.19",
         "type": "scatter",
         "x": [
          20,
          21,
          null
         ],
         "y": [
          0,
          0,
          null
         ]
        },
        {
         "hoverinfo": "text",
         "line": {
          "color": "cornflowerblue",
          "width": 0.22351285757432737
         },
         "mode": "lines",
         "text": "0.224",
         "type": "scatter",
         "x": [
          20,
          21,
          null
         ],
         "y": [
          0,
          1,
          null
         ]
        },
        {
         "hoverinfo": "text",
         "line": {
          "color": "cornflowerblue",
          "width": 0.4629595765590709
         },
         "mode": "lines",
         "text": "0.463",
         "type": "scatter",
         "x": [
          20,
          21,
          null
         ],
         "y": [
          0,
          2,
          null
         ]
        },
        {
         "hoverinfo": "text",
         "line": {
          "color": "cornflowerblue",
          "width": 0.18633731394532999
         },
         "mode": "lines",
         "text": "0.186",
         "type": "scatter",
         "x": [
          20,
          21,
          null
         ],
         "y": [
          0,
          3,
          null
         ]
        },
        {
         "hoverinfo": "text",
         "line": {
          "color": "cornflowerblue",
          "width": 0.17632491788776936
         },
         "mode": "lines",
         "text": "0.176",
         "type": "scatter",
         "x": [
          20,
          21,
          null
         ],
         "y": [
          0,
          4,
          null
         ]
        },
        {
         "hoverinfo": "text",
         "line": {
          "color": "cornflowerblue",
          "width": 0.18474407480344107
         },
         "mode": "lines",
         "text": "0.185",
         "type": "scatter",
         "x": [
          20,
          21,
          null
         ],
         "y": [
          0,
          5,
          null
         ]
        },
        {
         "hoverinfo": "text",
         "line": {
          "color": "cornflowerblue",
          "width": 0.154607392386292
         },
         "mode": "lines",
         "text": "0.155",
         "type": "scatter",
         "x": [
          20,
          21,
          null
         ],
         "y": [
          0,
          6,
          null
         ]
        },
        {
         "hoverinfo": "text",
         "line": {
          "color": "cornflowerblue",
          "width": 0.1516610924344581
         },
         "mode": "lines",
         "text": "0.152",
         "type": "scatter",
         "x": [
          20,
          21,
          null
         ],
         "y": [
          0,
          7,
          null
         ]
        },
        {
         "hoverinfo": "text",
         "line": {
          "color": "cornflowerblue",
          "width": 0.1470710575697226
         },
         "mode": "lines",
         "text": "0.147",
         "type": "scatter",
         "x": [
          20,
          21,
          null
         ],
         "y": [
          0,
          8,
          null
         ]
        },
        {
         "hoverinfo": "text",
         "line": {
          "color": "cornflowerblue",
          "width": 0.15325735550212666
         },
         "mode": "lines",
         "text": "0.153",
         "type": "scatter",
         "x": [
          20,
          21,
          null
         ],
         "y": [
          0,
          9,
          null
         ]
        },
        {
         "hoverinfo": "text",
         "line": {
          "color": "cornflowerblue",
          "width": 0.17507728213782284
         },
         "mode": "lines",
         "text": "0.175",
         "type": "scatter",
         "x": [
          20,
          21,
          null
         ],
         "y": [
          1,
          0,
          null
         ]
        },
        {
         "hoverinfo": "text",
         "line": {
          "color": "cornflowerblue",
          "width": 0.20063176092484752
         },
         "mode": "lines",
         "text": "0.201",
         "type": "scatter",
         "x": [
          20,
          21,
          null
         ],
         "y": [
          1,
          1,
          null
         ]
        },
        {
         "hoverinfo": "text",
         "line": {
          "color": "cornflowerblue",
          "width": 0.1987738928053117
         },
         "mode": "lines",
         "text": "0.199",
         "type": "scatter",
         "x": [
          20,
          21,
          null
         ],
         "y": [
          1,
          2,
          null
         ]
        },
        {
         "hoverinfo": "text",
         "line": {
          "color": "cornflowerblue",
          "width": 0.20290504708418625
         },
         "mode": "lines",
         "text": "0.203",
         "type": "scatter",
         "x": [
          20,
          21,
          null
         ],
         "y": [
          1,
          3,
          null
         ]
        },
        {
         "hoverinfo": "text",
         "line": {
          "color": "cornflowerblue",
          "width": 0.1814590558762563
         },
         "mode": "lines",
         "text": "0.181",
         "type": "scatter",
         "x": [
          20,
          21,
          null
         ],
         "y": [
          1,
          4,
          null
         ]
        },
        {
         "hoverinfo": "text",
         "line": {
          "color": "cornflowerblue",
          "width": 0.26287449380319666
         },
         "mode": "lines",
         "text": "0.263",
         "type": "scatter",
         "x": [
          20,
          21,
          null
         ],
         "y": [
          1,
          5,
          null
         ]
        },
        {
         "hoverinfo": "text",
         "line": {
          "color": "cornflowerblue",
          "width": 0.15576566266819317
         },
         "mode": "lines",
         "text": "0.156",
         "type": "scatter",
         "x": [
          20,
          21,
          null
         ],
         "y": [
          1,
          6,
          null
         ]
        },
        {
         "hoverinfo": "text",
         "line": {
          "color": "cornflowerblue",
          "width": 0.15161784236604606
         },
         "mode": "lines",
         "text": "0.152",
         "type": "scatter",
         "x": [
          20,
          21,
          null
         ],
         "y": [
          1,
          7,
          null
         ]
        },
        {
         "hoverinfo": "text",
         "line": {
          "color": "cornflowerblue",
          "width": 0.15070140916124516
         },
         "mode": "lines",
         "text": "0.151",
         "type": "scatter",
         "x": [
          20,
          21,
          null
         ],
         "y": [
          1,
          8,
          null
         ]
        },
        {
         "hoverinfo": "text",
         "line": {
          "color": "cornflowerblue",
          "width": 0.15345461751390088
         },
         "mode": "lines",
         "text": "0.153",
         "type": "scatter",
         "x": [
          20,
          21,
          null
         ],
         "y": [
          1,
          9,
          null
         ]
        },
        {
         "hoverinfo": "text",
         "line": {
          "color": "cornflowerblue",
          "width": 0.3553432133191488
         },
         "mode": "lines",
         "text": "0.355",
         "type": "scatter",
         "x": [
          20,
          21,
          null
         ],
         "y": [
          2,
          0,
          null
         ]
        },
        {
         "hoverinfo": "text",
         "line": {
          "color": "cornflowerblue",
          "width": 0.20461368327330387
         },
         "mode": "lines",
         "text": "0.205",
         "type": "scatter",
         "x": [
          20,
          21,
          null
         ],
         "y": [
          2,
          1,
          null
         ]
        },
        {
         "hoverinfo": "text",
         "line": {
          "color": "cornflowerblue",
          "width": 0.18385033013691726
         },
         "mode": "lines",
         "text": "0.184",
         "type": "scatter",
         "x": [
          20,
          21,
          null
         ],
         "y": [
          2,
          2,
          null
         ]
        },
        {
         "hoverinfo": "text",
         "line": {
          "color": "cornflowerblue",
          "width": 0.16554595369506062
         },
         "mode": "lines",
         "text": "0.166",
         "type": "scatter",
         "x": [
          20,
          21,
          null
         ],
         "y": [
          2,
          3,
          null
         ]
        },
        {
         "hoverinfo": "text",
         "line": {
          "color": "cornflowerblue",
          "width": 0.16387918716799
         },
         "mode": "lines",
         "text": "0.164",
         "type": "scatter",
         "x": [
          20,
          21,
          null
         ],
         "y": [
          2,
          4,
          null
         ]
        },
        {
         "hoverinfo": "text",
         "line": {
          "color": "cornflowerblue",
          "width": 0.16047211707442016
         },
         "mode": "lines",
         "text": "0.16",
         "type": "scatter",
         "x": [
          20,
          21,
          null
         ],
         "y": [
          2,
          5,
          null
         ]
        },
        {
         "hoverinfo": "text",
         "line": {
          "color": "cornflowerblue",
          "width": 0.150886099760528
         },
         "mode": "lines",
         "text": "0.151",
         "type": "scatter",
         "x": [
          20,
          21,
          null
         ],
         "y": [
          2,
          6,
          null
         ]
        },
        {
         "hoverinfo": "text",
         "line": {
          "color": "cornflowerblue",
          "width": 0.15074698977426282
         },
         "mode": "lines",
         "text": "0.151",
         "type": "scatter",
         "x": [
          20,
          21,
          null
         ],
         "y": [
          2,
          7,
          null
         ]
        },
        {
         "hoverinfo": "text",
         "line": {
          "color": "cornflowerblue",
          "width": 0.1475449976024844
         },
         "mode": "lines",
         "text": "0.148",
         "type": "scatter",
         "x": [
          20,
          21,
          null
         ],
         "y": [
          2,
          8,
          null
         ]
        },
        {
         "hoverinfo": "text",
         "line": {
          "color": "cornflowerblue",
          "width": 0.14919449862125325
         },
         "mode": "lines",
         "text": "0.149",
         "type": "scatter",
         "x": [
          20,
          21,
          null
         ],
         "y": [
          2,
          9,
          null
         ]
        },
        {
         "hoverinfo": "text",
         "line": {
          "color": "cornflowerblue",
          "width": 0.16912497108658636
         },
         "mode": "lines",
         "text": "0.169",
         "type": "scatter",
         "x": [
          20,
          21,
          null
         ],
         "y": [
          3,
          0,
          null
         ]
        },
        {
         "hoverinfo": "text",
         "line": {
          "color": "cornflowerblue",
          "width": 0.1834721655021407
         },
         "mode": "lines",
         "text": "0.183",
         "type": "scatter",
         "x": [
          20,
          21,
          null
         ],
         "y": [
          3,
          1,
          null
         ]
        },
        {
         "hoverinfo": "text",
         "line": {
          "color": "cornflowerblue",
          "width": 0.1810671299421196
         },
         "mode": "lines",
         "text": "0.181",
         "type": "scatter",
         "x": [
          20,
          21,
          null
         ],
         "y": [
          3,
          2,
          null
         ]
        },
        {
         "hoverinfo": "text",
         "line": {
          "color": "cornflowerblue",
          "width": 0.17712377040529328
         },
         "mode": "lines",
         "text": "0.177",
         "type": "scatter",
         "x": [
          20,
          21,
          null
         ],
         "y": [
          3,
          3,
          null
         ]
        },
        {
         "hoverinfo": "text",
         "line": {
          "color": "cornflowerblue",
          "width": 0.19650042272021098
         },
         "mode": "lines",
         "text": "0.197",
         "type": "scatter",
         "x": [
          20,
          21,
          null
         ],
         "y": [
          3,
          4,
          null
         ]
        },
        {
         "hoverinfo": "text",
         "line": {
          "color": "cornflowerblue",
          "width": 0.17098970354375817
         },
         "mode": "lines",
         "text": "0.171",
         "type": "scatter",
         "x": [
          20,
          21,
          null
         ],
         "y": [
          3,
          5,
          null
         ]
        },
        {
         "hoverinfo": "text",
         "line": {
          "color": "cornflowerblue",
          "width": 0.15405774834415245
         },
         "mode": "lines",
         "text": "0.154",
         "type": "scatter",
         "x": [
          20,
          21,
          null
         ],
         "y": [
          3,
          6,
          null
         ]
        },
        {
         "hoverinfo": "text",
         "line": {
          "color": "cornflowerblue",
          "width": 0.1511226869348805
         },
         "mode": "lines",
         "text": "0.151",
         "type": "scatter",
         "x": [
          20,
          21,
          null
         ],
         "y": [
          3,
          7,
          null
         ]
        },
        {
         "hoverinfo": "text",
         "line": {
          "color": "cornflowerblue",
          "width": 0.15217813398828495
         },
         "mode": "lines",
         "text": "0.152",
         "type": "scatter",
         "x": [
          20,
          21,
          null
         ],
         "y": [
          3,
          9,
          null
         ]
        },
        {
         "hoverinfo": "text",
         "line": {
          "color": "cornflowerblue",
          "width": 0.17374843317101213
         },
         "mode": "lines",
         "text": "0.174",
         "type": "scatter",
         "x": [
          20,
          21,
          null
         ],
         "y": [
          4,
          0,
          null
         ]
        },
        {
         "hoverinfo": "text",
         "line": {
          "color": "cornflowerblue",
          "width": 0.225592686988182
         },
         "mode": "lines",
         "text": "0.226",
         "type": "scatter",
         "x": [
          20,
          21,
          null
         ],
         "y": [
          4,
          1,
          null
         ]
        },
        {
         "hoverinfo": "text",
         "line": {
          "color": "cornflowerblue",
          "width": 0.18807063892936307
         },
         "mode": "lines",
         "text": "0.188",
         "type": "scatter",
         "x": [
          20,
          21,
          null
         ],
         "y": [
          4,
          2,
          null
         ]
        },
        {
         "hoverinfo": "text",
         "line": {
          "color": "cornflowerblue",
          "width": 0.175905503701462
         },
         "mode": "lines",
         "text": "0.176",
         "type": "scatter",
         "x": [
          20,
          21,
          null
         ],
         "y": [
          4,
          3,
          null
         ]
        },
        {
         "hoverinfo": "text",
         "line": {
          "color": "cornflowerblue",
          "width": 0.17543288776141577
         },
         "mode": "lines",
         "text": "0.175",
         "type": "scatter",
         "x": [
          20,
          21,
          null
         ],
         "y": [
          4,
          4,
          null
         ]
        },
        {
         "hoverinfo": "text",
         "line": {
          "color": "cornflowerblue",
          "width": 0.17483437362653098
         },
         "mode": "lines",
         "text": "0.175",
         "type": "scatter",
         "x": [
          20,
          21,
          null
         ],
         "y": [
          4,
          5,
          null
         ]
        },
        {
         "hoverinfo": "text",
         "line": {
          "color": "cornflowerblue",
          "width": 0.15521241531159374
         },
         "mode": "lines",
         "text": "0.155",
         "type": "scatter",
         "x": [
          20,
          21,
          null
         ],
         "y": [
          4,
          6,
          null
         ]
        },
        {
         "hoverinfo": "text",
         "line": {
          "color": "cornflowerblue",
          "width": 0.1528629349173458
         },
         "mode": "lines",
         "text": "0.153",
         "type": "scatter",
         "x": [
          20,
          21,
          null
         ],
         "y": [
          4,
          7,
          null
         ]
        },
        {
         "hoverinfo": "text",
         "line": {
          "color": "cornflowerblue",
          "width": 0.1489135545185354
         },
         "mode": "lines",
         "text": "0.149",
         "type": "scatter",
         "x": [
          20,
          21,
          null
         ],
         "y": [
          4,
          8,
          null
         ]
        },
        {
         "hoverinfo": "text",
         "line": {
          "color": "cornflowerblue",
          "width": 0.15258267532028297
         },
         "mode": "lines",
         "text": "0.153",
         "type": "scatter",
         "x": [
          20,
          21,
          null
         ],
         "y": [
          4,
          9,
          null
         ]
        },
        {
         "hoverinfo": "text",
         "line": {
          "color": "cornflowerblue",
          "width": 0.2265114384747131
         },
         "mode": "lines",
         "text": "0.227",
         "type": "scatter",
         "x": [
          20,
          21,
          null
         ],
         "y": [
          5,
          0,
          null
         ]
        },
        {
         "hoverinfo": "text",
         "line": {
          "color": "cornflowerblue",
          "width": 0.45682251210707353
         },
         "mode": "lines",
         "text": "0.457",
         "type": "scatter",
         "x": [
          20,
          21,
          null
         ],
         "y": [
          5,
          1,
          null
         ]
        },
        {
         "hoverinfo": "text",
         "line": {
          "color": "cornflowerblue",
          "width": 0.21962164449526622
         },
         "mode": "lines",
         "text": "0.22",
         "type": "scatter",
         "x": [
          20,
          21,
          null
         ],
         "y": [
          5,
          2,
          null
         ]
        },
        {
         "hoverinfo": "text",
         "line": {
          "color": "cornflowerblue",
          "width": 0.18553410979353532
         },
         "mode": "lines",
         "text": "0.186",
         "type": "scatter",
         "x": [
          20,
          21,
          null
         ],
         "y": [
          5,
          3,
          null
         ]
        },
        {
         "hoverinfo": "text",
         "line": {
          "color": "cornflowerblue",
          "width": 0.18178412296327062
         },
         "mode": "lines",
         "text": "0.182",
         "type": "scatter",
         "x": [
          20,
          21,
          null
         ],
         "y": [
          5,
          4,
          null
         ]
        },
        {
         "hoverinfo": "text",
         "line": {
          "color": "cornflowerblue",
          "width": 0.1831097814433086
         },
         "mode": "lines",
         "text": "0.183",
         "type": "scatter",
         "x": [
          20,
          21,
          null
         ],
         "y": [
          5,
          5,
          null
         ]
        },
        {
         "hoverinfo": "text",
         "line": {
          "color": "cornflowerblue",
          "width": 0.15539683232037022
         },
         "mode": "lines",
         "text": "0.155",
         "type": "scatter",
         "x": [
          20,
          21,
          null
         ],
         "y": [
          5,
          6,
          null
         ]
        },
        {
         "hoverinfo": "text",
         "line": {
          "color": "cornflowerblue",
          "width": 0.15372878375067836
         },
         "mode": "lines",
         "text": "0.154",
         "type": "scatter",
         "x": [
          20,
          21,
          null
         ],
         "y": [
          5,
          7,
          null
         ]
        },
        {
         "hoverinfo": "text",
         "line": {
          "color": "cornflowerblue",
          "width": 0.14771199282919897
         },
         "mode": "lines",
         "text": "0.148",
         "type": "scatter",
         "x": [
          20,
          21,
          null
         ],
         "y": [
          5,
          8,
          null
         ]
        },
        {
         "hoverinfo": "text",
         "line": {
          "color": "cornflowerblue",
          "width": 0.15305737171732567
         },
         "mode": "lines",
         "text": "0.153",
         "type": "scatter",
         "x": [
          20,
          21,
          null
         ],
         "y": [
          5,
          9,
          null
         ]
        },
        {
         "hoverinfo": "text",
         "line": {
          "color": "cornflowerblue",
          "width": 0.20583649531473194
         },
         "mode": "lines",
         "text": "0.206",
         "type": "scatter",
         "x": [
          20,
          21,
          null
         ],
         "y": [
          6,
          0,
          null
         ]
        },
        {
         "hoverinfo": "text",
         "line": {
          "color": "cornflowerblue",
          "width": 0.19313195109308542
         },
         "mode": "lines",
         "text": "0.193",
         "type": "scatter",
         "x": [
          20,
          21,
          null
         ],
         "y": [
          6,
          1,
          null
         ]
        },
        {
         "hoverinfo": "text",
         "line": {
          "color": "cornflowerblue",
          "width": 0.18458403033475634
         },
         "mode": "lines",
         "text": "0.185",
         "type": "scatter",
         "x": [
          20,
          21,
          null
         ],
         "y": [
          6,
          2,
          null
         ]
        },
        {
         "hoverinfo": "text",
         "line": {
          "color": "cornflowerblue",
          "width": 0.1719015993208633
         },
         "mode": "lines",
         "text": "0.172",
         "type": "scatter",
         "x": [
          20,
          21,
          null
         ],
         "y": [
          6,
          3,
          null
         ]
        },
        {
         "hoverinfo": "text",
         "line": {
          "color": "cornflowerblue",
          "width": 0.1691072080997428
         },
         "mode": "lines",
         "text": "0.169",
         "type": "scatter",
         "x": [
          20,
          21,
          null
         ],
         "y": [
          6,
          4,
          null
         ]
        },
        {
         "hoverinfo": "text",
         "line": {
          "color": "cornflowerblue",
          "width": 0.17318835797247437
         },
         "mode": "lines",
         "text": "0.173",
         "type": "scatter",
         "x": [
          20,
          21,
          null
         ],
         "y": [
          6,
          5,
          null
         ]
        },
        {
         "hoverinfo": "text",
         "line": {
          "color": "cornflowerblue",
          "width": 0.15711668980750487
         },
         "mode": "lines",
         "text": "0.157",
         "type": "scatter",
         "x": [
          20,
          21,
          null
         ],
         "y": [
          6,
          6,
          null
         ]
        },
        {
         "hoverinfo": "text",
         "line": {
          "color": "cornflowerblue",
          "width": 0.15655885257700924
         },
         "mode": "lines",
         "text": "0.157",
         "type": "scatter",
         "x": [
          20,
          21,
          null
         ],
         "y": [
          6,
          7,
          null
         ]
        },
        {
         "hoverinfo": "text",
         "line": {
          "color": "cornflowerblue",
          "width": 0.15201754758757666
         },
         "mode": "lines",
         "text": "0.152",
         "type": "scatter",
         "x": [
          20,
          21,
          null
         ],
         "y": [
          6,
          8,
          null
         ]
        },
        {
         "hoverinfo": "text",
         "line": {
          "color": "cornflowerblue",
          "width": 0.15489220881298096
         },
         "mode": "lines",
         "text": "0.155",
         "type": "scatter",
         "x": [
          20,
          21,
          null
         ],
         "y": [
          6,
          9,
          null
         ]
        },
        {
         "hoverinfo": "text",
         "line": {
          "color": "cornflowerblue",
          "width": 0.15713454726431186
         },
         "mode": "lines",
         "text": "0.157",
         "type": "scatter",
         "x": [
          20,
          21,
          null
         ],
         "y": [
          7,
          0,
          null
         ]
        },
        {
         "hoverinfo": "text",
         "line": {
          "color": "cornflowerblue",
          "width": 0.1623790416263867
         },
         "mode": "lines",
         "text": "0.162",
         "type": "scatter",
         "x": [
          20,
          21,
          null
         ],
         "y": [
          7,
          1,
          null
         ]
        },
        {
         "hoverinfo": "text",
         "line": {
          "color": "cornflowerblue",
          "width": 0.16539035923513815
         },
         "mode": "lines",
         "text": "0.165",
         "type": "scatter",
         "x": [
          20,
          21,
          null
         ],
         "y": [
          7,
          2,
          null
         ]
        },
        {
         "hoverinfo": "text",
         "line": {
          "color": "cornflowerblue",
          "width": 0.164177295927898
         },
         "mode": "lines",
         "text": "0.164",
         "type": "scatter",
         "x": [
          20,
          21,
          null
         ],
         "y": [
          7,
          3,
          null
         ]
        },
        {
         "hoverinfo": "text",
         "line": {
          "color": "cornflowerblue",
          "width": 0.16859819601266662
         },
         "mode": "lines",
         "text": "0.169",
         "type": "scatter",
         "x": [
          20,
          21,
          null
         ],
         "y": [
          7,
          4,
          null
         ]
        },
        {
         "hoverinfo": "text",
         "line": {
          "color": "cornflowerblue",
          "width": 0.16224502714888991
         },
         "mode": "lines",
         "text": "0.162",
         "type": "scatter",
         "x": [
          20,
          21,
          null
         ],
         "y": [
          7,
          5,
          null
         ]
        },
        {
         "hoverinfo": "text",
         "line": {
          "color": "cornflowerblue",
          "width": 0.15966583764179607
         },
         "mode": "lines",
         "text": "0.16",
         "type": "scatter",
         "x": [
          20,
          21,
          null
         ],
         "y": [
          7,
          6,
          null
         ]
        },
        {
         "hoverinfo": "text",
         "line": {
          "color": "cornflowerblue",
          "width": 0.15208222542739716
         },
         "mode": "lines",
         "text": "0.152",
         "type": "scatter",
         "x": [
          20,
          21,
          null
         ],
         "y": [
          7,
          7,
          null
         ]
        },
        {
         "hoverinfo": "text",
         "line": {
          "color": "cornflowerblue",
          "width": 0.14874474791923495
         },
         "mode": "lines",
         "text": "0.149",
         "type": "scatter",
         "x": [
          20,
          21,
          null
         ],
         "y": [
          7,
          8,
          null
         ]
        },
        {
         "hoverinfo": "text",
         "line": {
          "color": "cornflowerblue",
          "width": 0.15268936225012636
         },
         "mode": "lines",
         "text": "0.153",
         "type": "scatter",
         "x": [
          20,
          21,
          null
         ],
         "y": [
          7,
          9,
          null
         ]
        },
        {
         "hoverinfo": "text",
         "line": {
          "color": "cornflowerblue",
          "width": 0.14673581219691903
         },
         "mode": "lines",
         "text": "0.147",
         "type": "scatter",
         "x": [
          20,
          21,
          null
         ],
         "y": [
          8,
          3,
          null
         ]
        },
        {
         "hoverinfo": "text",
         "line": {
          "color": "cornflowerblue",
          "width": 0.1472390850037011
         },
         "mode": "lines",
         "text": "0.147",
         "type": "scatter",
         "x": [
          20,
          21,
          null
         ],
         "y": [
          8,
          6,
          null
         ]
        },
        {
         "hoverinfo": "text",
         "line": {
          "color": "cornflowerblue",
          "width": 0.22414748730625492
         },
         "mode": "lines",
         "text": "0.224",
         "type": "scatter",
         "x": [
          21,
          22,
          null
         ],
         "y": [
          0,
          0,
          null
         ]
        },
        {
         "hoverinfo": "text",
         "line": {
          "color": "cornflowerblue",
          "width": 0.38678095293820935
         },
         "mode": "lines",
         "text": "0.387",
         "type": "scatter",
         "x": [
          21,
          22,
          null
         ],
         "y": [
          0,
          1,
          null
         ]
        },
        {
         "hoverinfo": "text",
         "line": {
          "color": "cornflowerblue",
          "width": 0.16884251936390562
         },
         "mode": "lines",
         "text": "0.169",
         "type": "scatter",
         "x": [
          21,
          22,
          null
         ],
         "y": [
          0,
          2,
          null
         ]
        },
        {
         "hoverinfo": "text",
         "line": {
          "color": "cornflowerblue",
          "width": 0.1630195430112968
         },
         "mode": "lines",
         "text": "0.163",
         "type": "scatter",
         "x": [
          21,
          22,
          null
         ],
         "y": [
          0,
          3,
          null
         ]
        },
        {
         "hoverinfo": "text",
         "line": {
          "color": "cornflowerblue",
          "width": 0.20734071556624564
         },
         "mode": "lines",
         "text": "0.207",
         "type": "scatter",
         "x": [
          21,
          22,
          null
         ],
         "y": [
          0,
          4,
          null
         ]
        },
        {
         "hoverinfo": "text",
         "line": {
          "color": "cornflowerblue",
          "width": 0.16324032689020873
         },
         "mode": "lines",
         "text": "0.163",
         "type": "scatter",
         "x": [
          21,
          22,
          null
         ],
         "y": [
          0,
          5,
          null
         ]
        },
        {
         "hoverinfo": "text",
         "line": {
          "color": "cornflowerblue",
          "width": 0.15380590821881365
         },
         "mode": "lines",
         "text": "0.154",
         "type": "scatter",
         "x": [
          21,
          22,
          null
         ],
         "y": [
          0,
          6,
          null
         ]
        },
        {
         "hoverinfo": "text",
         "line": {
          "color": "cornflowerblue",
          "width": 0.15314111672608693
         },
         "mode": "lines",
         "text": "0.153",
         "type": "scatter",
         "x": [
          21,
          22,
          null
         ],
         "y": [
          0,
          7,
          null
         ]
        },
        {
         "hoverinfo": "text",
         "line": {
          "color": "cornflowerblue",
          "width": 0.491070008254645
         },
         "mode": "lines",
         "text": "0.491",
         "type": "scatter",
         "x": [
          21,
          22,
          null
         ],
         "y": [
          1,
          0,
          null
         ]
        },
        {
         "hoverinfo": "text",
         "line": {
          "color": "cornflowerblue",
          "width": 0.21068395502455262
         },
         "mode": "lines",
         "text": "0.211",
         "type": "scatter",
         "x": [
          21,
          22,
          null
         ],
         "y": [
          1,
          1,
          null
         ]
        },
        {
         "hoverinfo": "text",
         "line": {
          "color": "cornflowerblue",
          "width": 0.18795139372500283
         },
         "mode": "lines",
         "text": "0.188",
         "type": "scatter",
         "x": [
          21,
          22,
          null
         ],
         "y": [
          1,
          2,
          null
         ]
        },
        {
         "hoverinfo": "text",
         "line": {
          "color": "cornflowerblue",
          "width": 0.1797240233304591
         },
         "mode": "lines",
         "text": "0.18",
         "type": "scatter",
         "x": [
          21,
          22,
          null
         ],
         "y": [
          1,
          3,
          null
         ]
        },
        {
         "hoverinfo": "text",
         "line": {
          "color": "cornflowerblue",
          "width": 0.22500016714088047
         },
         "mode": "lines",
         "text": "0.225",
         "type": "scatter",
         "x": [
          21,
          22,
          null
         ],
         "y": [
          1,
          4,
          null
         ]
        },
        {
         "hoverinfo": "text",
         "line": {
          "color": "cornflowerblue",
          "width": 0.16673346990069385
         },
         "mode": "lines",
         "text": "0.167",
         "type": "scatter",
         "x": [
          21,
          22,
          null
         ],
         "y": [
          1,
          5,
          null
         ]
        },
        {
         "hoverinfo": "text",
         "line": {
          "color": "cornflowerblue",
          "width": 0.1558441583711471
         },
         "mode": "lines",
         "text": "0.156",
         "type": "scatter",
         "x": [
          21,
          22,
          null
         ],
         "y": [
          1,
          6,
          null
         ]
        },
        {
         "hoverinfo": "text",
         "line": {
          "color": "cornflowerblue",
          "width": 0.1562294918203523
         },
         "mode": "lines",
         "text": "0.156",
         "type": "scatter",
         "x": [
          21,
          22,
          null
         ],
         "y": [
          1,
          7,
          null
         ]
        },
        {
         "hoverinfo": "text",
         "line": {
          "color": "cornflowerblue",
          "width": 0.2247849452837848
         },
         "mode": "lines",
         "text": "0.225",
         "type": "scatter",
         "x": [
          21,
          22,
          null
         ],
         "y": [
          2,
          0,
          null
         ]
        },
        {
         "hoverinfo": "text",
         "line": {
          "color": "cornflowerblue",
          "width": 0.18524924080755178
         },
         "mode": "lines",
         "text": "0.185",
         "type": "scatter",
         "x": [
          21,
          22,
          null
         ],
         "y": [
          2,
          1,
          null
         ]
        },
        {
         "hoverinfo": "text",
         "line": {
          "color": "cornflowerblue",
          "width": 0.18290501476401544
         },
         "mode": "lines",
         "text": "0.183",
         "type": "scatter",
         "x": [
          21,
          22,
          null
         ],
         "y": [
          2,
          2,
          null
         ]
        },
        {
         "hoverinfo": "text",
         "line": {
          "color": "cornflowerblue",
          "width": 0.18094281315256971
         },
         "mode": "lines",
         "text": "0.181",
         "type": "scatter",
         "x": [
          21,
          22,
          null
         ],
         "y": [
          2,
          3,
          null
         ]
        },
        {
         "hoverinfo": "text",
         "line": {
          "color": "cornflowerblue",
          "width": 0.43170144009300787
         },
         "mode": "lines",
         "text": "0.432",
         "type": "scatter",
         "x": [
          21,
          22,
          null
         ],
         "y": [
          2,
          4,
          null
         ]
        },
        {
         "hoverinfo": "text",
         "line": {
          "color": "cornflowerblue",
          "width": 0.16772403243122141
         },
         "mode": "lines",
         "text": "0.168",
         "type": "scatter",
         "x": [
          21,
          22,
          null
         ],
         "y": [
          2,
          5,
          null
         ]
        },
        {
         "hoverinfo": "text",
         "line": {
          "color": "cornflowerblue",
          "width": 0.15527420564743158
         },
         "mode": "lines",
         "text": "0.155",
         "type": "scatter",
         "x": [
          21,
          22,
          null
         ],
         "y": [
          2,
          6,
          null
         ]
        },
        {
         "hoverinfo": "text",
         "line": {
          "color": "cornflowerblue",
          "width": 0.15425318844337027
         },
         "mode": "lines",
         "text": "0.154",
         "type": "scatter",
         "x": [
          21,
          22,
          null
         ],
         "y": [
          2,
          7,
          null
         ]
        },
        {
         "hoverinfo": "text",
         "line": {
          "color": "cornflowerblue",
          "width": 0.18423031293582903
         },
         "mode": "lines",
         "text": "0.184",
         "type": "scatter",
         "x": [
          21,
          22,
          null
         ],
         "y": [
          3,
          0,
          null
         ]
        },
        {
         "hoverinfo": "text",
         "line": {
          "color": "cornflowerblue",
          "width": 0.1670121465246305
         },
         "mode": "lines",
         "text": "0.167",
         "type": "scatter",
         "x": [
          21,
          22,
          null
         ],
         "y": [
          3,
          1,
          null
         ]
        },
        {
         "hoverinfo": "text",
         "line": {
          "color": "cornflowerblue",
          "width": 0.20494438218655167
         },
         "mode": "lines",
         "text": "0.205",
         "type": "scatter",
         "x": [
          21,
          22,
          null
         ],
         "y": [
          3,
          2,
          null
         ]
        },
        {
         "hoverinfo": "text",
         "line": {
          "color": "cornflowerblue",
          "width": 0.18244362500471137
         },
         "mode": "lines",
         "text": "0.182",
         "type": "scatter",
         "x": [
          21,
          22,
          null
         ],
         "y": [
          3,
          3,
          null
         ]
        },
        {
         "hoverinfo": "text",
         "line": {
          "color": "cornflowerblue",
          "width": 0.1837398348639627
         },
         "mode": "lines",
         "text": "0.184",
         "type": "scatter",
         "x": [
          21,
          22,
          null
         ],
         "y": [
          3,
          4,
          null
         ]
        },
        {
         "hoverinfo": "text",
         "line": {
          "color": "cornflowerblue",
          "width": 0.16729180690824666
         },
         "mode": "lines",
         "text": "0.167",
         "type": "scatter",
         "x": [
          21,
          22,
          null
         ],
         "y": [
          3,
          5,
          null
         ]
        },
        {
         "hoverinfo": "text",
         "line": {
          "color": "cornflowerblue",
          "width": 0.15603727666903183
         },
         "mode": "lines",
         "text": "0.156",
         "type": "scatter",
         "x": [
          21,
          22,
          null
         ],
         "y": [
          3,
          6,
          null
         ]
        },
        {
         "hoverinfo": "text",
         "line": {
          "color": "cornflowerblue",
          "width": 0.1570807887956633
         },
         "mode": "lines",
         "text": "0.157",
         "type": "scatter",
         "x": [
          21,
          22,
          null
         ],
         "y": [
          3,
          7,
          null
         ]
        },
        {
         "hoverinfo": "text",
         "line": {
          "color": "cornflowerblue",
          "width": 0.18101375832309968
         },
         "mode": "lines",
         "text": "0.181",
         "type": "scatter",
         "x": [
          21,
          22,
          null
         ],
         "y": [
          4,
          0,
          null
         ]
        },
        {
         "hoverinfo": "text",
         "line": {
          "color": "cornflowerblue",
          "width": 0.16462949776244618
         },
         "mode": "lines",
         "text": "0.165",
         "type": "scatter",
         "x": [
          21,
          22,
          null
         ],
         "y": [
          4,
          1,
          null
         ]
        },
        {
         "hoverinfo": "text",
         "line": {
          "color": "cornflowerblue",
          "width": 0.20553169674546332
         },
         "mode": "lines",
         "text": "0.206",
         "type": "scatter",
         "x": [
          21,
          22,
          null
         ],
         "y": [
          4,
          2,
          null
         ]
        },
        {
         "hoverinfo": "text",
         "line": {
          "color": "cornflowerblue",
          "width": 0.18820870049904723
         },
         "mode": "lines",
         "text": "0.188",
         "type": "scatter",
         "x": [
          21,
          22,
          null
         ],
         "y": [
          4,
          3,
          null
         ]
        },
        {
         "hoverinfo": "text",
         "line": {
          "color": "cornflowerblue",
          "width": 0.17650083779771078
         },
         "mode": "lines",
         "text": "0.177",
         "type": "scatter",
         "x": [
          21,
          22,
          null
         ],
         "y": [
          4,
          4,
          null
         ]
        },
        {
         "hoverinfo": "text",
         "line": {
          "color": "cornflowerblue",
          "width": 0.16782474002679912
         },
         "mode": "lines",
         "text": "0.168",
         "type": "scatter",
         "x": [
          21,
          22,
          null
         ],
         "y": [
          4,
          5,
          null
         ]
        },
        {
         "hoverinfo": "text",
         "line": {
          "color": "cornflowerblue",
          "width": 0.15819968408081755
         },
         "mode": "lines",
         "text": "0.158",
         "type": "scatter",
         "x": [
          21,
          22,
          null
         ],
         "y": [
          4,
          6,
          null
         ]
        },
        {
         "hoverinfo": "text",
         "line": {
          "color": "cornflowerblue",
          "width": 0.15770598230671914
         },
         "mode": "lines",
         "text": "0.158",
         "type": "scatter",
         "x": [
          21,
          22,
          null
         ],
         "y": [
          4,
          7,
          null
         ]
        },
        {
         "hoverinfo": "text",
         "line": {
          "color": "cornflowerblue",
          "width": 0.18939755910806588
         },
         "mode": "lines",
         "text": "0.189",
         "type": "scatter",
         "x": [
          21,
          22,
          null
         ],
         "y": [
          5,
          0,
          null
         ]
        },
        {
         "hoverinfo": "text",
         "line": {
          "color": "cornflowerblue",
          "width": 0.1609597633876909
         },
         "mode": "lines",
         "text": "0.161",
         "type": "scatter",
         "x": [
          21,
          22,
          null
         ],
         "y": [
          5,
          1,
          null
         ]
        },
        {
         "hoverinfo": "text",
         "line": {
          "color": "cornflowerblue",
          "width": 0.17602639879368093
         },
         "mode": "lines",
         "text": "0.176",
         "type": "scatter",
         "x": [
          21,
          22,
          null
         ],
         "y": [
          5,
          2,
          null
         ]
        },
        {
         "hoverinfo": "text",
         "line": {
          "color": "cornflowerblue",
          "width": 0.17241430665834567
         },
         "mode": "lines",
         "text": "0.172",
         "type": "scatter",
         "x": [
          21,
          22,
          null
         ],
         "y": [
          5,
          3,
          null
         ]
        },
        {
         "hoverinfo": "text",
         "line": {
          "color": "cornflowerblue",
          "width": 0.18786826327502248
         },
         "mode": "lines",
         "text": "0.188",
         "type": "scatter",
         "x": [
          21,
          22,
          null
         ],
         "y": [
          5,
          4,
          null
         ]
        },
        {
         "hoverinfo": "text",
         "line": {
          "color": "cornflowerblue",
          "width": 0.1627930561558743
         },
         "mode": "lines",
         "text": "0.163",
         "type": "scatter",
         "x": [
          21,
          22,
          null
         ],
         "y": [
          5,
          5,
          null
         ]
        },
        {
         "hoverinfo": "text",
         "line": {
          "color": "cornflowerblue",
          "width": 0.1612062533591373
         },
         "mode": "lines",
         "text": "0.161",
         "type": "scatter",
         "x": [
          21,
          22,
          null
         ],
         "y": [
          5,
          6,
          null
         ]
        },
        {
         "hoverinfo": "text",
         "line": {
          "color": "cornflowerblue",
          "width": 0.1546224983741971
         },
         "mode": "lines",
         "text": "0.155",
         "type": "scatter",
         "x": [
          21,
          22,
          null
         ],
         "y": [
          5,
          7,
          null
         ]
        },
        {
         "hoverinfo": "text",
         "line": {
          "color": "cornflowerblue",
          "width": 0.15490406333901008
         },
         "mode": "lines",
         "text": "0.155",
         "type": "scatter",
         "x": [
          21,
          22,
          null
         ],
         "y": [
          6,
          0,
          null
         ]
        },
        {
         "hoverinfo": "text",
         "line": {
          "color": "cornflowerblue",
          "width": 0.15094327164460755
         },
         "mode": "lines",
         "text": "0.151",
         "type": "scatter",
         "x": [
          21,
          22,
          null
         ],
         "y": [
          6,
          1,
          null
         ]
        },
        {
         "hoverinfo": "text",
         "line": {
          "color": "cornflowerblue",
          "width": 0.15656726172822794
         },
         "mode": "lines",
         "text": "0.157",
         "type": "scatter",
         "x": [
          21,
          22,
          null
         ],
         "y": [
          6,
          2,
          null
         ]
        },
        {
         "hoverinfo": "text",
         "line": {
          "color": "cornflowerblue",
          "width": 0.1568697605400238
         },
         "mode": "lines",
         "text": "0.157",
         "type": "scatter",
         "x": [
          21,
          22,
          null
         ],
         "y": [
          6,
          3,
          null
         ]
        },
        {
         "hoverinfo": "text",
         "line": {
          "color": "cornflowerblue",
          "width": 0.15509980012293748
         },
         "mode": "lines",
         "text": "0.155",
         "type": "scatter",
         "x": [
          21,
          22,
          null
         ],
         "y": [
          6,
          4,
          null
         ]
        },
        {
         "hoverinfo": "text",
         "line": {
          "color": "cornflowerblue",
          "width": 0.1563212791714661
         },
         "mode": "lines",
         "text": "0.156",
         "type": "scatter",
         "x": [
          21,
          22,
          null
         ],
         "y": [
          6,
          5,
          null
         ]
        },
        {
         "hoverinfo": "text",
         "line": {
          "color": "cornflowerblue",
          "width": 0.15276209096228263
         },
         "mode": "lines",
         "text": "0.153",
         "type": "scatter",
         "x": [
          21,
          22,
          null
         ],
         "y": [
          6,
          6,
          null
         ]
        },
        {
         "hoverinfo": "text",
         "line": {
          "color": "cornflowerblue",
          "width": 0.15251924612290071
         },
         "mode": "lines",
         "text": "0.153",
         "type": "scatter",
         "x": [
          21,
          22,
          null
         ],
         "y": [
          6,
          7,
          null
         ]
        },
        {
         "hoverinfo": "text",
         "line": {
          "color": "cornflowerblue",
          "width": 0.15332923026478218
         },
         "mode": "lines",
         "text": "0.153",
         "type": "scatter",
         "x": [
          21,
          22,
          null
         ],
         "y": [
          7,
          0,
          null
         ]
        },
        {
         "hoverinfo": "text",
         "line": {
          "color": "cornflowerblue",
          "width": 0.1507538385295441
         },
         "mode": "lines",
         "text": "0.151",
         "type": "scatter",
         "x": [
          21,
          22,
          null
         ],
         "y": [
          7,
          1,
          null
         ]
        },
        {
         "hoverinfo": "text",
         "line": {
          "color": "cornflowerblue",
          "width": 0.15287830974970174
         },
         "mode": "lines",
         "text": "0.153",
         "type": "scatter",
         "x": [
          21,
          22,
          null
         ],
         "y": [
          7,
          2,
          null
         ]
        },
        {
         "hoverinfo": "text",
         "line": {
          "color": "cornflowerblue",
          "width": 0.15332770145183663
         },
         "mode": "lines",
         "text": "0.153",
         "type": "scatter",
         "x": [
          21,
          22,
          null
         ],
         "y": [
          7,
          3,
          null
         ]
        },
        {
         "hoverinfo": "text",
         "line": {
          "color": "cornflowerblue",
          "width": 0.15212976998020675
         },
         "mode": "lines",
         "text": "0.152",
         "type": "scatter",
         "x": [
          21,
          22,
          null
         ],
         "y": [
          7,
          4,
          null
         ]
        },
        {
         "hoverinfo": "text",
         "line": {
          "color": "cornflowerblue",
          "width": 0.15246445535289088
         },
         "mode": "lines",
         "text": "0.152",
         "type": "scatter",
         "x": [
          21,
          22,
          null
         ],
         "y": [
          7,
          5,
          null
         ]
        },
        {
         "hoverinfo": "text",
         "line": {
          "color": "cornflowerblue",
          "width": 0.15038497881742904
         },
         "mode": "lines",
         "text": "0.15",
         "type": "scatter",
         "x": [
          21,
          22,
          null
         ],
         "y": [
          7,
          6,
          null
         ]
        },
        {
         "hoverinfo": "text",
         "line": {
          "color": "cornflowerblue",
          "width": 0.15186153091312066
         },
         "mode": "lines",
         "text": "0.152",
         "type": "scatter",
         "x": [
          21,
          22,
          null
         ],
         "y": [
          7,
          7,
          null
         ]
        },
        {
         "hoverinfo": "text",
         "line": {
          "color": "cornflowerblue",
          "width": 0.14819057588617124
         },
         "mode": "lines",
         "text": "0.148",
         "type": "scatter",
         "x": [
          21,
          22,
          null
         ],
         "y": [
          8,
          0,
          null
         ]
        },
        {
         "hoverinfo": "text",
         "line": {
          "color": "cornflowerblue",
          "width": 0.14725759257169388
         },
         "mode": "lines",
         "text": "0.147",
         "type": "scatter",
         "x": [
          21,
          22,
          null
         ],
         "y": [
          8,
          1,
          null
         ]
        },
        {
         "hoverinfo": "text",
         "line": {
          "color": "cornflowerblue",
          "width": 0.14797322302102603
         },
         "mode": "lines",
         "text": "0.148",
         "type": "scatter",
         "x": [
          21,
          22,
          null
         ],
         "y": [
          8,
          2,
          null
         ]
        },
        {
         "hoverinfo": "text",
         "line": {
          "color": "cornflowerblue",
          "width": 0.1480300717896358
         },
         "mode": "lines",
         "text": "0.148",
         "type": "scatter",
         "x": [
          21,
          22,
          null
         ],
         "y": [
          8,
          3,
          null
         ]
        },
        {
         "hoverinfo": "text",
         "line": {
          "color": "cornflowerblue",
          "width": 0.14750930695326078
         },
         "mode": "lines",
         "text": "0.148",
         "type": "scatter",
         "x": [
          21,
          22,
          null
         ],
         "y": [
          8,
          4,
          null
         ]
        },
        {
         "hoverinfo": "text",
         "line": {
          "color": "cornflowerblue",
          "width": 0.14697806279426764
         },
         "mode": "lines",
         "text": "0.147",
         "type": "scatter",
         "x": [
          21,
          22,
          null
         ],
         "y": [
          8,
          5,
          null
         ]
        },
        {
         "hoverinfo": "text",
         "line": {
          "color": "cornflowerblue",
          "width": 0.14860331409326952
         },
         "mode": "lines",
         "text": "0.149",
         "type": "scatter",
         "x": [
          21,
          22,
          null
         ],
         "y": [
          8,
          6,
          null
         ]
        },
        {
         "hoverinfo": "text",
         "line": {
          "color": "cornflowerblue",
          "width": 0.15000752245585428
         },
         "mode": "lines",
         "text": "0.15",
         "type": "scatter",
         "x": [
          21,
          22,
          null
         ],
         "y": [
          8,
          7,
          null
         ]
        },
        {
         "hoverinfo": "text",
         "line": {
          "color": "cornflowerblue",
          "width": 0.15320269768778486
         },
         "mode": "lines",
         "text": "0.153",
         "type": "scatter",
         "x": [
          21,
          22,
          null
         ],
         "y": [
          9,
          0,
          null
         ]
        },
        {
         "hoverinfo": "text",
         "line": {
          "color": "cornflowerblue",
          "width": 0.14944648376802586
         },
         "mode": "lines",
         "text": "0.149",
         "type": "scatter",
         "x": [
          21,
          22,
          null
         ],
         "y": [
          9,
          1,
          null
         ]
        },
        {
         "hoverinfo": "text",
         "line": {
          "color": "cornflowerblue",
          "width": 0.15472562786689156
         },
         "mode": "lines",
         "text": "0.155",
         "type": "scatter",
         "x": [
          21,
          22,
          null
         ],
         "y": [
          9,
          2,
          null
         ]
        },
        {
         "hoverinfo": "text",
         "line": {
          "color": "cornflowerblue",
          "width": 0.15409510758145487
         },
         "mode": "lines",
         "text": "0.154",
         "type": "scatter",
         "x": [
          21,
          22,
          null
         ],
         "y": [
          9,
          3,
          null
         ]
        },
        {
         "hoverinfo": "text",
         "line": {
          "color": "cornflowerblue",
          "width": 0.15355032526652376
         },
         "mode": "lines",
         "text": "0.154",
         "type": "scatter",
         "x": [
          21,
          22,
          null
         ],
         "y": [
          9,
          4,
          null
         ]
        },
        {
         "hoverinfo": "text",
         "line": {
          "color": "cornflowerblue",
          "width": 0.15178010776023892
         },
         "mode": "lines",
         "text": "0.152",
         "type": "scatter",
         "x": [
          21,
          22,
          null
         ],
         "y": [
          9,
          5,
          null
         ]
        },
        {
         "hoverinfo": "text",
         "line": {
          "color": "cornflowerblue",
          "width": 0.15168656600409627
         },
         "mode": "lines",
         "text": "0.152",
         "type": "scatter",
         "x": [
          21,
          22,
          null
         ],
         "y": [
          9,
          6,
          null
         ]
        },
        {
         "hoverinfo": "text",
         "line": {
          "color": "cornflowerblue",
          "width": 0.15271531746793604
         },
         "mode": "lines",
         "text": "0.153",
         "type": "scatter",
         "x": [
          21,
          22,
          null
         ],
         "y": [
          9,
          7,
          null
         ]
        },
        {
         "hoverinfo": "text",
         "line": {
          "color": "cornflowerblue",
          "width": 0.2256284148383608
         },
         "mode": "lines",
         "text": "0.226",
         "type": "scatter",
         "x": [
          22,
          23,
          null
         ],
         "y": [
          0,
          0,
          null
         ]
        },
        {
         "hoverinfo": "text",
         "line": {
          "color": "cornflowerblue",
          "width": 0.18751222595881717
         },
         "mode": "lines",
         "text": "0.188",
         "type": "scatter",
         "x": [
          22,
          23,
          null
         ],
         "y": [
          0,
          1,
          null
         ]
        },
        {
         "hoverinfo": "text",
         "line": {
          "color": "cornflowerblue",
          "width": 0.1713376900584884
         },
         "mode": "lines",
         "text": "0.171",
         "type": "scatter",
         "x": [
          22,
          23,
          null
         ],
         "y": [
          0,
          2,
          null
         ]
        },
        {
         "hoverinfo": "text",
         "line": {
          "color": "cornflowerblue",
          "width": 0.22334271433943417
         },
         "mode": "lines",
         "text": "0.223",
         "type": "scatter",
         "x": [
          22,
          23,
          null
         ],
         "y": [
          0,
          3,
          null
         ]
        },
        {
         "hoverinfo": "text",
         "line": {
          "color": "cornflowerblue",
          "width": 0.4885570736145974
         },
         "mode": "lines",
         "text": "0.489",
         "type": "scatter",
         "x": [
          22,
          23,
          null
         ],
         "y": [
          0,
          4,
          null
         ]
        },
        {
         "hoverinfo": "text",
         "line": {
          "color": "cornflowerblue",
          "width": 0.18717812025961422
         },
         "mode": "lines",
         "text": "0.187",
         "type": "scatter",
         "x": [
          22,
          23,
          null
         ],
         "y": [
          0,
          5,
          null
         ]
        },
        {
         "hoverinfo": "text",
         "line": {
          "color": "cornflowerblue",
          "width": 0.16056537443256802
         },
         "mode": "lines",
         "text": "0.161",
         "type": "scatter",
         "x": [
          22,
          23,
          null
         ],
         "y": [
          0,
          6,
          null
         ]
        },
        {
         "hoverinfo": "text",
         "line": {
          "color": "cornflowerblue",
          "width": 0.15370548319120417
         },
         "mode": "lines",
         "text": "0.154",
         "type": "scatter",
         "x": [
          22,
          23,
          null
         ],
         "y": [
          0,
          7,
          null
         ]
        },
        {
         "hoverinfo": "text",
         "line": {
          "color": "cornflowerblue",
          "width": 0.156419929145925
         },
         "mode": "lines",
         "text": "0.156",
         "type": "scatter",
         "x": [
          22,
          23,
          null
         ],
         "y": [
          0,
          8,
          null
         ]
        },
        {
         "hoverinfo": "text",
         "line": {
          "color": "cornflowerblue",
          "width": 0.15057667131159155
         },
         "mode": "lines",
         "text": "0.151",
         "type": "scatter",
         "x": [
          22,
          23,
          null
         ],
         "y": [
          0,
          9,
          null
         ]
        },
        {
         "hoverinfo": "text",
         "line": {
          "color": "cornflowerblue",
          "width": 0.14682886459950537
         },
         "mode": "lines",
         "text": "0.147",
         "type": "scatter",
         "x": [
          22,
          23,
          null
         ],
         "y": [
          0,
          10,
          null
         ]
        },
        {
         "hoverinfo": "text",
         "line": {
          "color": "cornflowerblue",
          "width": 0.18388187650907953
         },
         "mode": "lines",
         "text": "0.184",
         "type": "scatter",
         "x": [
          22,
          23,
          null
         ],
         "y": [
          1,
          0,
          null
         ]
        },
        {
         "hoverinfo": "text",
         "line": {
          "color": "cornflowerblue",
          "width": 0.16305485083634275
         },
         "mode": "lines",
         "text": "0.163",
         "type": "scatter",
         "x": [
          22,
          23,
          null
         ],
         "y": [
          1,
          1,
          null
         ]
        },
        {
         "hoverinfo": "text",
         "line": {
          "color": "cornflowerblue",
          "width": 0.15788200288264487
         },
         "mode": "lines",
         "text": "0.158",
         "type": "scatter",
         "x": [
          22,
          23,
          null
         ],
         "y": [
          1,
          2,
          null
         ]
        },
        {
         "hoverinfo": "text",
         "line": {
          "color": "cornflowerblue",
          "width": 0.395357731002526
         },
         "mode": "lines",
         "text": "0.395",
         "type": "scatter",
         "x": [
          22,
          23,
          null
         ],
         "y": [
          1,
          3,
          null
         ]
        },
        {
         "hoverinfo": "text",
         "line": {
          "color": "cornflowerblue",
          "width": 0.20918539539952727
         },
         "mode": "lines",
         "text": "0.209",
         "type": "scatter",
         "x": [
          22,
          23,
          null
         ],
         "y": [
          1,
          4,
          null
         ]
        },
        {
         "hoverinfo": "text",
         "line": {
          "color": "cornflowerblue",
          "width": 0.15932778589103339
         },
         "mode": "lines",
         "text": "0.159",
         "type": "scatter",
         "x": [
          22,
          23,
          null
         ],
         "y": [
          1,
          5,
          null
         ]
        },
        {
         "hoverinfo": "text",
         "line": {
          "color": "cornflowerblue",
          "width": 0.1539949291716658
         },
         "mode": "lines",
         "text": "0.154",
         "type": "scatter",
         "x": [
          22,
          23,
          null
         ],
         "y": [
          1,
          6,
          null
         ]
        },
        {
         "hoverinfo": "text",
         "line": {
          "color": "cornflowerblue",
          "width": 0.14920019353421135
         },
         "mode": "lines",
         "text": "0.149",
         "type": "scatter",
         "x": [
          22,
          23,
          null
         ],
         "y": [
          1,
          7,
          null
         ]
        },
        {
         "hoverinfo": "text",
         "line": {
          "color": "cornflowerblue",
          "width": 0.15326024327270252
         },
         "mode": "lines",
         "text": "0.153",
         "type": "scatter",
         "x": [
          22,
          23,
          null
         ],
         "y": [
          1,
          8,
          null
         ]
        },
        {
         "hoverinfo": "text",
         "line": {
          "color": "cornflowerblue",
          "width": 0.1485250493851899
         },
         "mode": "lines",
         "text": "0.149",
         "type": "scatter",
         "x": [
          22,
          23,
          null
         ],
         "y": [
          1,
          9,
          null
         ]
        },
        {
         "hoverinfo": "text",
         "line": {
          "color": "cornflowerblue",
          "width": 0.18232006972874445
         },
         "mode": "lines",
         "text": "0.182",
         "type": "scatter",
         "x": [
          22,
          23,
          null
         ],
         "y": [
          2,
          0,
          null
         ]
        },
        {
         "hoverinfo": "text",
         "line": {
          "color": "cornflowerblue",
          "width": 0.2122369378019839
         },
         "mode": "lines",
         "text": "0.212",
         "type": "scatter",
         "x": [
          22,
          23,
          null
         ],
         "y": [
          2,
          1,
          null
         ]
        },
        {
         "hoverinfo": "text",
         "line": {
          "color": "cornflowerblue",
          "width": 0.186324478963349
         },
         "mode": "lines",
         "text": "0.186",
         "type": "scatter",
         "x": [
          22,
          23,
          null
         ],
         "y": [
          2,
          2,
          null
         ]
        },
        {
         "hoverinfo": "text",
         "line": {
          "color": "cornflowerblue",
          "width": 0.16804637590056176
         },
         "mode": "lines",
         "text": "0.168",
         "type": "scatter",
         "x": [
          22,
          23,
          null
         ],
         "y": [
          2,
          3,
          null
         ]
        },
        {
         "hoverinfo": "text",
         "line": {
          "color": "cornflowerblue",
          "width": 0.18806591346412244
         },
         "mode": "lines",
         "text": "0.188",
         "type": "scatter",
         "x": [
          22,
          23,
          null
         ],
         "y": [
          2,
          4,
          null
         ]
        },
        {
         "hoverinfo": "text",
         "line": {
          "color": "cornflowerblue",
          "width": 0.1749070593885894
         },
         "mode": "lines",
         "text": "0.175",
         "type": "scatter",
         "x": [
          22,
          23,
          null
         ],
         "y": [
          2,
          5,
          null
         ]
        },
        {
         "hoverinfo": "text",
         "line": {
          "color": "cornflowerblue",
          "width": 0.1602353858231654
         },
         "mode": "lines",
         "text": "0.16",
         "type": "scatter",
         "x": [
          22,
          23,
          null
         ],
         "y": [
          2,
          6,
          null
         ]
        },
        {
         "hoverinfo": "text",
         "line": {
          "color": "cornflowerblue",
          "width": 0.15342001022859356
         },
         "mode": "lines",
         "text": "0.153",
         "type": "scatter",
         "x": [
          22,
          23,
          null
         ],
         "y": [
          2,
          7,
          null
         ]
        },
        {
         "hoverinfo": "text",
         "line": {
          "color": "cornflowerblue",
          "width": 0.15763530039034968
         },
         "mode": "lines",
         "text": "0.158",
         "type": "scatter",
         "x": [
          22,
          23,
          null
         ],
         "y": [
          2,
          8,
          null
         ]
        },
        {
         "hoverinfo": "text",
         "line": {
          "color": "cornflowerblue",
          "width": 0.15131932199216788
         },
         "mode": "lines",
         "text": "0.151",
         "type": "scatter",
         "x": [
          22,
          23,
          null
         ],
         "y": [
          2,
          9,
          null
         ]
        },
        {
         "hoverinfo": "text",
         "line": {
          "color": "cornflowerblue",
          "width": 0.18282687113176374
         },
         "mode": "lines",
         "text": "0.183",
         "type": "scatter",
         "x": [
          22,
          23,
          null
         ],
         "y": [
          3,
          0,
          null
         ]
        },
        {
         "hoverinfo": "text",
         "line": {
          "color": "cornflowerblue",
          "width": 0.18121234690659818
         },
         "mode": "lines",
         "text": "0.181",
         "type": "scatter",
         "x": [
          22,
          23,
          null
         ],
         "y": [
          3,
          1,
          null
         ]
        },
        {
         "hoverinfo": "text",
         "line": {
          "color": "cornflowerblue",
          "width": 0.1900070825853836
         },
         "mode": "lines",
         "text": "0.19",
         "type": "scatter",
         "x": [
          22,
          23,
          null
         ],
         "y": [
          3,
          2,
          null
         ]
        },
        {
         "hoverinfo": "text",
         "line": {
          "color": "cornflowerblue",
          "width": 0.16181744474135137
         },
         "mode": "lines",
         "text": "0.162",
         "type": "scatter",
         "x": [
          22,
          23,
          null
         ],
         "y": [
          3,
          3,
          null
         ]
        },
        {
         "hoverinfo": "text",
         "line": {
          "color": "cornflowerblue",
          "width": 0.17832285118657706
         },
         "mode": "lines",
         "text": "0.178",
         "type": "scatter",
         "x": [
          22,
          23,
          null
         ],
         "y": [
          3,
          4,
          null
         ]
        },
        {
         "hoverinfo": "text",
         "line": {
          "color": "cornflowerblue",
          "width": 0.17132500840403148
         },
         "mode": "lines",
         "text": "0.171",
         "type": "scatter",
         "x": [
          22,
          23,
          null
         ],
         "y": [
          3,
          5,
          null
         ]
        },
        {
         "hoverinfo": "text",
         "line": {
          "color": "cornflowerblue",
          "width": 0.16010231892843946
         },
         "mode": "lines",
         "text": "0.16",
         "type": "scatter",
         "x": [
          22,
          23,
          null
         ],
         "y": [
          3,
          6,
          null
         ]
        },
        {
         "hoverinfo": "text",
         "line": {
          "color": "cornflowerblue",
          "width": 0.1537205117529125
         },
         "mode": "lines",
         "text": "0.154",
         "type": "scatter",
         "x": [
          22,
          23,
          null
         ],
         "y": [
          3,
          7,
          null
         ]
        },
        {
         "hoverinfo": "text",
         "line": {
          "color": "cornflowerblue",
          "width": 0.15653545795625234
         },
         "mode": "lines",
         "text": "0.157",
         "type": "scatter",
         "x": [
          22,
          23,
          null
         ],
         "y": [
          3,
          8,
          null
         ]
        },
        {
         "hoverinfo": "text",
         "line": {
          "color": "cornflowerblue",
          "width": 0.15078147379239512
         },
         "mode": "lines",
         "text": "0.151",
         "type": "scatter",
         "x": [
          22,
          23,
          null
         ],
         "y": [
          3,
          9,
          null
         ]
        },
        {
         "hoverinfo": "text",
         "line": {
          "color": "cornflowerblue",
          "width": 0.14669542782103065
         },
         "mode": "lines",
         "text": "0.147",
         "type": "scatter",
         "x": [
          22,
          23,
          null
         ],
         "y": [
          3,
          10,
          null
         ]
        },
        {
         "hoverinfo": "text",
         "line": {
          "color": "cornflowerblue",
          "width": 0.4455624279466468
         },
         "mode": "lines",
         "text": "0.446",
         "type": "scatter",
         "x": [
          22,
          23,
          null
         ],
         "y": [
          4,
          0,
          null
         ]
        },
        {
         "hoverinfo": "text",
         "line": {
          "color": "cornflowerblue",
          "width": 0.18785637471875954
         },
         "mode": "lines",
         "text": "0.188",
         "type": "scatter",
         "x": [
          22,
          23,
          null
         ],
         "y": [
          4,
          1,
          null
         ]
        },
        {
         "hoverinfo": "text",
         "line": {
          "color": "cornflowerblue",
          "width": 0.1747786066857961
         },
         "mode": "lines",
         "text": "0.175",
         "type": "scatter",
         "x": [
          22,
          23,
          null
         ],
         "y": [
          4,
          2,
          null
         ]
        },
        {
         "hoverinfo": "text",
         "line": {
          "color": "cornflowerblue",
          "width": 0.20527217137796022
         },
         "mode": "lines",
         "text": "0.205",
         "type": "scatter",
         "x": [
          22,
          23,
          null
         ],
         "y": [
          4,
          3,
          null
         ]
        },
        {
         "hoverinfo": "text",
         "line": {
          "color": "cornflowerblue",
          "width": 0.22564057403697838
         },
         "mode": "lines",
         "text": "0.226",
         "type": "scatter",
         "x": [
          22,
          23,
          null
         ],
         "y": [
          4,
          4,
          null
         ]
        },
        {
         "hoverinfo": "text",
         "line": {
          "color": "cornflowerblue",
          "width": 0.18541024261841718
         },
         "mode": "lines",
         "text": "0.185",
         "type": "scatter",
         "x": [
          22,
          23,
          null
         ],
         "y": [
          4,
          5,
          null
         ]
        },
        {
         "hoverinfo": "text",
         "line": {
          "color": "cornflowerblue",
          "width": 0.16534260613226429
         },
         "mode": "lines",
         "text": "0.165",
         "type": "scatter",
         "x": [
          22,
          23,
          null
         ],
         "y": [
          4,
          6,
          null
         ]
        },
        {
         "hoverinfo": "text",
         "line": {
          "color": "cornflowerblue",
          "width": 0.15377971356654
         },
         "mode": "lines",
         "text": "0.154",
         "type": "scatter",
         "x": [
          22,
          23,
          null
         ],
         "y": [
          4,
          7,
          null
         ]
        },
        {
         "hoverinfo": "text",
         "line": {
          "color": "cornflowerblue",
          "width": 0.15550432186476942
         },
         "mode": "lines",
         "text": "0.156",
         "type": "scatter",
         "x": [
          22,
          23,
          null
         ],
         "y": [
          4,
          8,
          null
         ]
        },
        {
         "hoverinfo": "text",
         "line": {
          "color": "cornflowerblue",
          "width": 0.153924174591282
         },
         "mode": "lines",
         "text": "0.154",
         "type": "scatter",
         "x": [
          22,
          23,
          null
         ],
         "y": [
          4,
          9,
          null
         ]
        },
        {
         "hoverinfo": "text",
         "line": {
          "color": "cornflowerblue",
          "width": 0.147758879450229
         },
         "mode": "lines",
         "text": "0.148",
         "type": "scatter",
         "x": [
          22,
          23,
          null
         ],
         "y": [
          4,
          10,
          null
         ]
        },
        {
         "hoverinfo": "text",
         "line": {
          "color": "cornflowerblue",
          "width": 0.1678935133307148
         },
         "mode": "lines",
         "text": "0.168",
         "type": "scatter",
         "x": [
          22,
          23,
          null
         ],
         "y": [
          5,
          0,
          null
         ]
        },
        {
         "hoverinfo": "text",
         "line": {
          "color": "cornflowerblue",
          "width": 0.16404283998757274
         },
         "mode": "lines",
         "text": "0.164",
         "type": "scatter",
         "x": [
          22,
          23,
          null
         ],
         "y": [
          5,
          1,
          null
         ]
        },
        {
         "hoverinfo": "text",
         "line": {
          "color": "cornflowerblue",
          "width": 0.1646378144939949
         },
         "mode": "lines",
         "text": "0.165",
         "type": "scatter",
         "x": [
          22,
          23,
          null
         ],
         "y": [
          5,
          2,
          null
         ]
        },
        {
         "hoverinfo": "text",
         "line": {
          "color": "cornflowerblue",
          "width": 0.16098356306604203
         },
         "mode": "lines",
         "text": "0.161",
         "type": "scatter",
         "x": [
          22,
          23,
          null
         ],
         "y": [
          5,
          3,
          null
         ]
        },
        {
         "hoverinfo": "text",
         "line": {
          "color": "cornflowerblue",
          "width": 0.16705913428181896
         },
         "mode": "lines",
         "text": "0.167",
         "type": "scatter",
         "x": [
          22,
          23,
          null
         ],
         "y": [
          5,
          4,
          null
         ]
        },
        {
         "hoverinfo": "text",
         "line": {
          "color": "cornflowerblue",
          "width": 0.16199130295102684
         },
         "mode": "lines",
         "text": "0.162",
         "type": "scatter",
         "x": [
          22,
          23,
          null
         ],
         "y": [
          5,
          5,
          null
         ]
        },
        {
         "hoverinfo": "text",
         "line": {
          "color": "cornflowerblue",
          "width": 0.15883852394277329
         },
         "mode": "lines",
         "text": "0.159",
         "type": "scatter",
         "x": [
          22,
          23,
          null
         ],
         "y": [
          5,
          6,
          null
         ]
        },
        {
         "hoverinfo": "text",
         "line": {
          "color": "cornflowerblue",
          "width": 0.15306109017787084
         },
         "mode": "lines",
         "text": "0.153",
         "type": "scatter",
         "x": [
          22,
          23,
          null
         ],
         "y": [
          5,
          7,
          null
         ]
        },
        {
         "hoverinfo": "text",
         "line": {
          "color": "cornflowerblue",
          "width": 0.155083429728986
         },
         "mode": "lines",
         "text": "0.155",
         "type": "scatter",
         "x": [
          22,
          23,
          null
         ],
         "y": [
          5,
          8,
          null
         ]
        },
        {
         "hoverinfo": "text",
         "line": {
          "color": "cornflowerblue",
          "width": 0.1500570170286053
         },
         "mode": "lines",
         "text": "0.15",
         "type": "scatter",
         "x": [
          22,
          23,
          null
         ],
         "y": [
          5,
          9,
          null
         ]
        },
        {
         "hoverinfo": "text",
         "line": {
          "color": "cornflowerblue",
          "width": 0.14716469616838285
         },
         "mode": "lines",
         "text": "0.147",
         "type": "scatter",
         "x": [
          22,
          23,
          null
         ],
         "y": [
          5,
          10,
          null
         ]
        },
        {
         "hoverinfo": "text",
         "line": {
          "color": "cornflowerblue",
          "width": 0.15580684012001478
         },
         "mode": "lines",
         "text": "0.156",
         "type": "scatter",
         "x": [
          22,
          23,
          null
         ],
         "y": [
          6,
          0,
          null
         ]
        },
        {
         "hoverinfo": "text",
         "line": {
          "color": "cornflowerblue",
          "width": 0.15546546426560556
         },
         "mode": "lines",
         "text": "0.155",
         "type": "scatter",
         "x": [
          22,
          23,
          null
         ],
         "y": [
          6,
          1,
          null
         ]
        },
        {
         "hoverinfo": "text",
         "line": {
          "color": "cornflowerblue",
          "width": 0.1566992383503851
         },
         "mode": "lines",
         "text": "0.157",
         "type": "scatter",
         "x": [
          22,
          23,
          null
         ],
         "y": [
          6,
          2,
          null
         ]
        },
        {
         "hoverinfo": "text",
         "line": {
          "color": "cornflowerblue",
          "width": 0.15369263009083464
         },
         "mode": "lines",
         "text": "0.154",
         "type": "scatter",
         "x": [
          22,
          23,
          null
         ],
         "y": [
          6,
          3,
          null
         ]
        },
        {
         "hoverinfo": "text",
         "line": {
          "color": "cornflowerblue",
          "width": 0.15612825015877238
         },
         "mode": "lines",
         "text": "0.156",
         "type": "scatter",
         "x": [
          22,
          23,
          null
         ],
         "y": [
          6,
          4,
          null
         ]
        },
        {
         "hoverinfo": "text",
         "line": {
          "color": "cornflowerblue",
          "width": 0.16252332033867117
         },
         "mode": "lines",
         "text": "0.163",
         "type": "scatter",
         "x": [
          22,
          23,
          null
         ],
         "y": [
          6,
          5,
          null
         ]
        },
        {
         "hoverinfo": "text",
         "line": {
          "color": "cornflowerblue",
          "width": 0.15711265753875886
         },
         "mode": "lines",
         "text": "0.157",
         "type": "scatter",
         "x": [
          22,
          23,
          null
         ],
         "y": [
          6,
          6,
          null
         ]
        },
        {
         "hoverinfo": "text",
         "line": {
          "color": "cornflowerblue",
          "width": 0.15068715242353695
         },
         "mode": "lines",
         "text": "0.151",
         "type": "scatter",
         "x": [
          22,
          23,
          null
         ],
         "y": [
          6,
          7,
          null
         ]
        },
        {
         "hoverinfo": "text",
         "line": {
          "color": "cornflowerblue",
          "width": 0.1546566210454739
         },
         "mode": "lines",
         "text": "0.155",
         "type": "scatter",
         "x": [
          22,
          23,
          null
         ],
         "y": [
          6,
          8,
          null
         ]
        },
        {
         "hoverinfo": "text",
         "line": {
          "color": "cornflowerblue",
          "width": 0.1518205067385282
         },
         "mode": "lines",
         "text": "0.152",
         "type": "scatter",
         "x": [
          22,
          23,
          null
         ],
         "y": [
          6,
          9,
          null
         ]
        },
        {
         "hoverinfo": "text",
         "line": {
          "color": "cornflowerblue",
          "width": 0.15479803897009536
         },
         "mode": "lines",
         "text": "0.155",
         "type": "scatter",
         "x": [
          22,
          23,
          null
         ],
         "y": [
          7,
          0,
          null
         ]
        },
        {
         "hoverinfo": "text",
         "line": {
          "color": "cornflowerblue",
          "width": 0.15559601978340942
         },
         "mode": "lines",
         "text": "0.156",
         "type": "scatter",
         "x": [
          22,
          23,
          null
         ],
         "y": [
          7,
          1,
          null
         ]
        },
        {
         "hoverinfo": "text",
         "line": {
          "color": "cornflowerblue",
          "width": 0.15536868006241988
         },
         "mode": "lines",
         "text": "0.155",
         "type": "scatter",
         "x": [
          22,
          23,
          null
         ],
         "y": [
          7,
          2,
          null
         ]
        },
        {
         "hoverinfo": "text",
         "line": {
          "color": "cornflowerblue",
          "width": 0.15235911413275985
         },
         "mode": "lines",
         "text": "0.152",
         "type": "scatter",
         "x": [
          22,
          23,
          null
         ],
         "y": [
          7,
          3,
          null
         ]
        },
        {
         "hoverinfo": "text",
         "line": {
          "color": "cornflowerblue",
          "width": 0.15637145098968147
         },
         "mode": "lines",
         "text": "0.156",
         "type": "scatter",
         "x": [
          22,
          23,
          null
         ],
         "y": [
          7,
          4,
          null
         ]
        },
        {
         "hoverinfo": "text",
         "line": {
          "color": "cornflowerblue",
          "width": 0.15395550386202198
         },
         "mode": "lines",
         "text": "0.154",
         "type": "scatter",
         "x": [
          22,
          23,
          null
         ],
         "y": [
          7,
          5,
          null
         ]
        },
        {
         "hoverinfo": "text",
         "line": {
          "color": "cornflowerblue",
          "width": 0.15793683274917833
         },
         "mode": "lines",
         "text": "0.158",
         "type": "scatter",
         "x": [
          22,
          23,
          null
         ],
         "y": [
          7,
          6,
          null
         ]
        },
        {
         "hoverinfo": "text",
         "line": {
          "color": "cornflowerblue",
          "width": 0.15023654650110718
         },
         "mode": "lines",
         "text": "0.15",
         "type": "scatter",
         "x": [
          22,
          23,
          null
         ],
         "y": [
          7,
          7,
          null
         ]
        },
        {
         "hoverinfo": "text",
         "line": {
          "color": "cornflowerblue",
          "width": 0.15451008548324957
         },
         "mode": "lines",
         "text": "0.155",
         "type": "scatter",
         "x": [
          22,
          23,
          null
         ],
         "y": [
          7,
          8,
          null
         ]
        },
        {
         "hoverinfo": "text",
         "line": {
          "color": "cornflowerblue",
          "width": 0.1501602048297904
         },
         "mode": "lines",
         "text": "0.15",
         "type": "scatter",
         "x": [
          22,
          23,
          null
         ],
         "y": [
          7,
          9,
          null
         ]
        },
        {
         "hoverinfo": "text",
         "line": {
          "color": "cornflowerblue",
          "width": 0.1467301447153549
         },
         "mode": "lines",
         "text": "0.147",
         "type": "scatter",
         "x": [
          22,
          23,
          null
         ],
         "y": [
          7,
          10,
          null
         ]
        },
        {
         "hoverinfo": "text",
         "line": {
          "color": "cornflowerblue",
          "width": 0.1824978561234984
         },
         "mode": "lines",
         "text": "0.182",
         "type": "scatter",
         "x": [
          23,
          24,
          null
         ],
         "y": [
          0,
          0,
          null
         ]
        },
        {
         "hoverinfo": "text",
         "line": {
          "color": "cornflowerblue",
          "width": 0.16781104255729742
         },
         "mode": "lines",
         "text": "0.168",
         "type": "scatter",
         "x": [
          23,
          24,
          null
         ],
         "y": [
          0,
          1,
          null
         ]
        },
        {
         "hoverinfo": "text",
         "line": {
          "color": "cornflowerblue",
          "width": 0.1916240920957272
         },
         "mode": "lines",
         "text": "0.192",
         "type": "scatter",
         "x": [
          23,
          24,
          null
         ],
         "y": [
          0,
          2,
          null
         ]
        },
        {
         "hoverinfo": "text",
         "line": {
          "color": "cornflowerblue",
          "width": 0.22484792316158184
         },
         "mode": "lines",
         "text": "0.225",
         "type": "scatter",
         "x": [
          23,
          24,
          null
         ],
         "y": [
          0,
          3,
          null
         ]
        },
        {
         "hoverinfo": "text",
         "line": {
          "color": "cornflowerblue",
          "width": 0.17476922520519836
         },
         "mode": "lines",
         "text": "0.175",
         "type": "scatter",
         "x": [
          23,
          24,
          null
         ],
         "y": [
          0,
          4,
          null
         ]
        },
        {
         "hoverinfo": "text",
         "line": {
          "color": "cornflowerblue",
          "width": 0.19129780304168376
         },
         "mode": "lines",
         "text": "0.191",
         "type": "scatter",
         "x": [
          23,
          24,
          null
         ],
         "y": [
          0,
          5,
          null
         ]
        },
        {
         "hoverinfo": "text",
         "line": {
          "color": "cornflowerblue",
          "width": 0.48525569262992096
         },
         "mode": "lines",
         "text": "0.485",
         "type": "scatter",
         "x": [
          23,
          24,
          null
         ],
         "y": [
          0,
          6,
          null
         ]
        },
        {
         "hoverinfo": "text",
         "line": {
          "color": "cornflowerblue",
          "width": 0.15294017863235196
         },
         "mode": "lines",
         "text": "0.153",
         "type": "scatter",
         "x": [
          23,
          24,
          null
         ],
         "y": [
          0,
          7,
          null
         ]
        },
        {
         "hoverinfo": "text",
         "line": {
          "color": "cornflowerblue",
          "width": 0.1544456515179102
         },
         "mode": "lines",
         "text": "0.154",
         "type": "scatter",
         "x": [
          23,
          24,
          null
         ],
         "y": [
          0,
          8,
          null
         ]
        },
        {
         "hoverinfo": "text",
         "line": {
          "color": "cornflowerblue",
          "width": 0.15100526092380853
         },
         "mode": "lines",
         "text": "0.151",
         "type": "scatter",
         "x": [
          23,
          24,
          null
         ],
         "y": [
          0,
          9,
          null
         ]
        },
        {
         "hoverinfo": "text",
         "line": {
          "color": "cornflowerblue",
          "width": 0.15282246701188248
         },
         "mode": "lines",
         "text": "0.153",
         "type": "scatter",
         "x": [
          23,
          24,
          null
         ],
         "y": [
          0,
          10,
          null
         ]
        },
        {
         "hoverinfo": "text",
         "line": {
          "color": "cornflowerblue",
          "width": 0.21088349288035876
         },
         "mode": "lines",
         "text": "0.211",
         "type": "scatter",
         "x": [
          23,
          24,
          null
         ],
         "y": [
          1,
          0,
          null
         ]
        },
        {
         "hoverinfo": "text",
         "line": {
          "color": "cornflowerblue",
          "width": 0.1665335512633842
         },
         "mode": "lines",
         "text": "0.167",
         "type": "scatter",
         "x": [
          23,
          24,
          null
         ],
         "y": [
          1,
          1,
          null
         ]
        },
        {
         "hoverinfo": "text",
         "line": {
          "color": "cornflowerblue",
          "width": 0.17547237918854314
         },
         "mode": "lines",
         "text": "0.175",
         "type": "scatter",
         "x": [
          23,
          24,
          null
         ],
         "y": [
          1,
          2,
          null
         ]
        },
        {
         "hoverinfo": "text",
         "line": {
          "color": "cornflowerblue",
          "width": 0.18975889699627005
         },
         "mode": "lines",
         "text": "0.19",
         "type": "scatter",
         "x": [
          23,
          24,
          null
         ],
         "y": [
          1,
          3,
          null
         ]
        },
        {
         "hoverinfo": "text",
         "line": {
          "color": "cornflowerblue",
          "width": 0.1759990841208345
         },
         "mode": "lines",
         "text": "0.176",
         "type": "scatter",
         "x": [
          23,
          24,
          null
         ],
         "y": [
          1,
          4,
          null
         ]
        },
        {
         "hoverinfo": "text",
         "line": {
          "color": "cornflowerblue",
          "width": 0.16751562383299853
         },
         "mode": "lines",
         "text": "0.168",
         "type": "scatter",
         "x": [
          23,
          24,
          null
         ],
         "y": [
          1,
          5,
          null
         ]
        },
        {
         "hoverinfo": "text",
         "line": {
          "color": "cornflowerblue",
          "width": 0.18868338275189592
         },
         "mode": "lines",
         "text": "0.189",
         "type": "scatter",
         "x": [
          23,
          24,
          null
         ],
         "y": [
          1,
          6,
          null
         ]
        },
        {
         "hoverinfo": "text",
         "line": {
          "color": "cornflowerblue",
          "width": 0.14951418214189274
         },
         "mode": "lines",
         "text": "0.15",
         "type": "scatter",
         "x": [
          23,
          24,
          null
         ],
         "y": [
          1,
          7,
          null
         ]
        },
        {
         "hoverinfo": "text",
         "line": {
          "color": "cornflowerblue",
          "width": 0.15313969835937022
         },
         "mode": "lines",
         "text": "0.153",
         "type": "scatter",
         "x": [
          23,
          24,
          null
         ],
         "y": [
          1,
          8,
          null
         ]
        },
        {
         "hoverinfo": "text",
         "line": {
          "color": "cornflowerblue",
          "width": 0.15132590599927712
         },
         "mode": "lines",
         "text": "0.151",
         "type": "scatter",
         "x": [
          23,
          24,
          null
         ],
         "y": [
          1,
          9,
          null
         ]
        },
        {
         "hoverinfo": "text",
         "line": {
          "color": "cornflowerblue",
          "width": 0.1522677640562195
         },
         "mode": "lines",
         "text": "0.152",
         "type": "scatter",
         "x": [
          23,
          24,
          null
         ],
         "y": [
          1,
          10,
          null
         ]
        },
        {
         "hoverinfo": "text",
         "line": {
          "color": "cornflowerblue",
          "width": 0.18165849909792525
         },
         "mode": "lines",
         "text": "0.182",
         "type": "scatter",
         "x": [
          23,
          24,
          null
         ],
         "y": [
          2,
          0,
          null
         ]
        },
        {
         "hoverinfo": "text",
         "line": {
          "color": "cornflowerblue",
          "width": 0.16889109038511982
         },
         "mode": "lines",
         "text": "0.169",
         "type": "scatter",
         "x": [
          23,
          24,
          null
         ],
         "y": [
          2,
          1,
          null
         ]
        },
        {
         "hoverinfo": "text",
         "line": {
          "color": "cornflowerblue",
          "width": 0.16841860999131553
         },
         "mode": "lines",
         "text": "0.168",
         "type": "scatter",
         "x": [
          23,
          24,
          null
         ],
         "y": [
          2,
          2,
          null
         ]
        },
        {
         "hoverinfo": "text",
         "line": {
          "color": "cornflowerblue",
          "width": 0.17282989398058385
         },
         "mode": "lines",
         "text": "0.173",
         "type": "scatter",
         "x": [
          23,
          24,
          null
         ],
         "y": [
          2,
          3,
          null
         ]
        },
        {
         "hoverinfo": "text",
         "line": {
          "color": "cornflowerblue",
          "width": 0.1848071372415874
         },
         "mode": "lines",
         "text": "0.185",
         "type": "scatter",
         "x": [
          23,
          24,
          null
         ],
         "y": [
          2,
          4,
          null
         ]
        },
        {
         "hoverinfo": "text",
         "line": {
          "color": "cornflowerblue",
          "width": 0.16154941756048014
         },
         "mode": "lines",
         "text": "0.162",
         "type": "scatter",
         "x": [
          23,
          24,
          null
         ],
         "y": [
          2,
          5,
          null
         ]
        },
        {
         "hoverinfo": "text",
         "line": {
          "color": "cornflowerblue",
          "width": 0.1767042527944389
         },
         "mode": "lines",
         "text": "0.177",
         "type": "scatter",
         "x": [
          23,
          24,
          null
         ],
         "y": [
          2,
          6,
          null
         ]
        },
        {
         "hoverinfo": "text",
         "line": {
          "color": "cornflowerblue",
          "width": 0.1511908034710604
         },
         "mode": "lines",
         "text": "0.151",
         "type": "scatter",
         "x": [
          23,
          24,
          null
         ],
         "y": [
          2,
          7,
          null
         ]
        },
        {
         "hoverinfo": "text",
         "line": {
          "color": "cornflowerblue",
          "width": 0.15352574876508235
         },
         "mode": "lines",
         "text": "0.154",
         "type": "scatter",
         "x": [
          23,
          24,
          null
         ],
         "y": [
          2,
          8,
          null
         ]
        },
        {
         "hoverinfo": "text",
         "line": {
          "color": "cornflowerblue",
          "width": 0.15033465285119843
         },
         "mode": "lines",
         "text": "0.15",
         "type": "scatter",
         "x": [
          23,
          24,
          null
         ],
         "y": [
          2,
          9,
          null
         ]
        },
        {
         "hoverinfo": "text",
         "line": {
          "color": "cornflowerblue",
          "width": 0.15334133178530765
         },
         "mode": "lines",
         "text": "0.153",
         "type": "scatter",
         "x": [
          23,
          24,
          null
         ],
         "y": [
          2,
          10,
          null
         ]
        },
        {
         "hoverinfo": "text",
         "line": {
          "color": "cornflowerblue",
          "width": 0.16680572566253923
         },
         "mode": "lines",
         "text": "0.167",
         "type": "scatter",
         "x": [
          23,
          24,
          null
         ],
         "y": [
          3,
          0,
          null
         ]
        },
        {
         "hoverinfo": "text",
         "line": {
          "color": "cornflowerblue",
          "width": 0.16383737788738006
         },
         "mode": "lines",
         "text": "0.164",
         "type": "scatter",
         "x": [
          23,
          24,
          null
         ],
         "y": [
          3,
          1,
          null
         ]
        },
        {
         "hoverinfo": "text",
         "line": {
          "color": "cornflowerblue",
          "width": 0.16932350651761816
         },
         "mode": "lines",
         "text": "0.169",
         "type": "scatter",
         "x": [
          23,
          24,
          null
         ],
         "y": [
          3,
          2,
          null
         ]
        },
        {
         "hoverinfo": "text",
         "line": {
          "color": "cornflowerblue",
          "width": 0.22079418548473473
         },
         "mode": "lines",
         "text": "0.221",
         "type": "scatter",
         "x": [
          23,
          24,
          null
         ],
         "y": [
          3,
          3,
          null
         ]
        },
        {
         "hoverinfo": "text",
         "line": {
          "color": "cornflowerblue",
          "width": 0.1633176211394406
         },
         "mode": "lines",
         "text": "0.163",
         "type": "scatter",
         "x": [
          23,
          24,
          null
         ],
         "y": [
          3,
          4,
          null
         ]
        },
        {
         "hoverinfo": "text",
         "line": {
          "color": "cornflowerblue",
          "width": 0.5442048823401129
         },
         "mode": "lines",
         "text": "0.544",
         "type": "scatter",
         "x": [
          23,
          24,
          null
         ],
         "y": [
          3,
          5,
          null
         ]
        },
        {
         "hoverinfo": "text",
         "line": {
          "color": "cornflowerblue",
          "width": 0.18636360877253472
         },
         "mode": "lines",
         "text": "0.186",
         "type": "scatter",
         "x": [
          23,
          24,
          null
         ],
         "y": [
          3,
          6,
          null
         ]
        },
        {
         "hoverinfo": "text",
         "line": {
          "color": "cornflowerblue",
          "width": 0.15235386393992884
         },
         "mode": "lines",
         "text": "0.152",
         "type": "scatter",
         "x": [
          23,
          24,
          null
         ],
         "y": [
          3,
          7,
          null
         ]
        },
        {
         "hoverinfo": "text",
         "line": {
          "color": "cornflowerblue",
          "width": 0.15181071969830362
         },
         "mode": "lines",
         "text": "0.152",
         "type": "scatter",
         "x": [
          23,
          24,
          null
         ],
         "y": [
          3,
          8,
          null
         ]
        },
        {
         "hoverinfo": "text",
         "line": {
          "color": "cornflowerblue",
          "width": 0.15195925083188938
         },
         "mode": "lines",
         "text": "0.152",
         "type": "scatter",
         "x": [
          23,
          24,
          null
         ],
         "y": [
          3,
          9,
          null
         ]
        },
        {
         "hoverinfo": "text",
         "line": {
          "color": "cornflowerblue",
          "width": 0.14957533560495784
         },
         "mode": "lines",
         "text": "0.15",
         "type": "scatter",
         "x": [
          23,
          24,
          null
         ],
         "y": [
          3,
          10,
          null
         ]
        },
        {
         "hoverinfo": "text",
         "line": {
          "color": "cornflowerblue",
          "width": 0.1877629892935845
         },
         "mode": "lines",
         "text": "0.188",
         "type": "scatter",
         "x": [
          23,
          24,
          null
         ],
         "y": [
          4,
          0,
          null
         ]
        },
        {
         "hoverinfo": "text",
         "line": {
          "color": "cornflowerblue",
          "width": 0.17120700306207323
         },
         "mode": "lines",
         "text": "0.171",
         "type": "scatter",
         "x": [
          23,
          24,
          null
         ],
         "y": [
          4,
          1,
          null
         ]
        },
        {
         "hoverinfo": "text",
         "line": {
          "color": "cornflowerblue",
          "width": 0.18891857751202068
         },
         "mode": "lines",
         "text": "0.189",
         "type": "scatter",
         "x": [
          23,
          24,
          null
         ],
         "y": [
          4,
          2,
          null
         ]
        },
        {
         "hoverinfo": "text",
         "line": {
          "color": "cornflowerblue",
          "width": 0.5166002263055918
         },
         "mode": "lines",
         "text": "0.517",
         "type": "scatter",
         "x": [
          23,
          24,
          null
         ],
         "y": [
          4,
          3,
          null
         ]
        },
        {
         "hoverinfo": "text",
         "line": {
          "color": "cornflowerblue",
          "width": 0.18069108887970178
         },
         "mode": "lines",
         "text": "0.181",
         "type": "scatter",
         "x": [
          23,
          24,
          null
         ],
         "y": [
          4,
          4,
          null
         ]
        },
        {
         "hoverinfo": "text",
         "line": {
          "color": "cornflowerblue",
          "width": 0.22383446794527279
         },
         "mode": "lines",
         "text": "0.224",
         "type": "scatter",
         "x": [
          23,
          24,
          null
         ],
         "y": [
          4,
          5,
          null
         ]
        },
        {
         "hoverinfo": "text",
         "line": {
          "color": "cornflowerblue",
          "width": 0.2172567530344949
         },
         "mode": "lines",
         "text": "0.217",
         "type": "scatter",
         "x": [
          23,
          24,
          null
         ],
         "y": [
          4,
          6,
          null
         ]
        },
        {
         "hoverinfo": "text",
         "line": {
          "color": "cornflowerblue",
          "width": 0.15380500725216925
         },
         "mode": "lines",
         "text": "0.154",
         "type": "scatter",
         "x": [
          23,
          24,
          null
         ],
         "y": [
          4,
          7,
          null
         ]
        },
        {
         "hoverinfo": "text",
         "line": {
          "color": "cornflowerblue",
          "width": 0.154703402200691
         },
         "mode": "lines",
         "text": "0.155",
         "type": "scatter",
         "x": [
          23,
          24,
          null
         ],
         "y": [
          4,
          8,
          null
         ]
        },
        {
         "hoverinfo": "text",
         "line": {
          "color": "cornflowerblue",
          "width": 0.15207433532558504
         },
         "mode": "lines",
         "text": "0.152",
         "type": "scatter",
         "x": [
          23,
          24,
          null
         ],
         "y": [
          4,
          9,
          null
         ]
        },
        {
         "hoverinfo": "text",
         "line": {
          "color": "cornflowerblue",
          "width": 0.15190136091915468
         },
         "mode": "lines",
         "text": "0.152",
         "type": "scatter",
         "x": [
          23,
          24,
          null
         ],
         "y": [
          4,
          10,
          null
         ]
        },
        {
         "hoverinfo": "text",
         "line": {
          "color": "cornflowerblue",
          "width": 0.17445272584438343
         },
         "mode": "lines",
         "text": "0.174",
         "type": "scatter",
         "x": [
          23,
          24,
          null
         ],
         "y": [
          5,
          0,
          null
         ]
        },
        {
         "hoverinfo": "text",
         "line": {
          "color": "cornflowerblue",
          "width": 0.16369947293494536
         },
         "mode": "lines",
         "text": "0.164",
         "type": "scatter",
         "x": [
          23,
          24,
          null
         ],
         "y": [
          5,
          1,
          null
         ]
        },
        {
         "hoverinfo": "text",
         "line": {
          "color": "cornflowerblue",
          "width": 0.2671796630092859
         },
         "mode": "lines",
         "text": "0.267",
         "type": "scatter",
         "x": [
          23,
          24,
          null
         ],
         "y": [
          5,
          2,
          null
         ]
        },
        {
         "hoverinfo": "text",
         "line": {
          "color": "cornflowerblue",
          "width": 0.1805573588913171
         },
         "mode": "lines",
         "text": "0.181",
         "type": "scatter",
         "x": [
          23,
          24,
          null
         ],
         "y": [
          5,
          3,
          null
         ]
        },
        {
         "hoverinfo": "text",
         "line": {
          "color": "cornflowerblue",
          "width": 0.16693429427289472
         },
         "mode": "lines",
         "text": "0.167",
         "type": "scatter",
         "x": [
          23,
          24,
          null
         ],
         "y": [
          5,
          4,
          null
         ]
        },
        {
         "hoverinfo": "text",
         "line": {
          "color": "cornflowerblue",
          "width": 0.16336993572232414
         },
         "mode": "lines",
         "text": "0.163",
         "type": "scatter",
         "x": [
          23,
          24,
          null
         ],
         "y": [
          5,
          5,
          null
         ]
        },
        {
         "hoverinfo": "text",
         "line": {
          "color": "cornflowerblue",
          "width": 0.18358316051688606
         },
         "mode": "lines",
         "text": "0.184",
         "type": "scatter",
         "x": [
          23,
          24,
          null
         ],
         "y": [
          5,
          6,
          null
         ]
        },
        {
         "hoverinfo": "text",
         "line": {
          "color": "cornflowerblue",
          "width": 0.15008906900378025
         },
         "mode": "lines",
         "text": "0.15",
         "type": "scatter",
         "x": [
          23,
          24,
          null
         ],
         "y": [
          5,
          7,
          null
         ]
        },
        {
         "hoverinfo": "text",
         "line": {
          "color": "cornflowerblue",
          "width": 0.1510920975376537
         },
         "mode": "lines",
         "text": "0.151",
         "type": "scatter",
         "x": [
          23,
          24,
          null
         ],
         "y": [
          5,
          8,
          null
         ]
        },
        {
         "hoverinfo": "text",
         "line": {
          "color": "cornflowerblue",
          "width": 0.1498033706735883
         },
         "mode": "lines",
         "text": "0.15",
         "type": "scatter",
         "x": [
          23,
          24,
          null
         ],
         "y": [
          5,
          9,
          null
         ]
        },
        {
         "hoverinfo": "text",
         "line": {
          "color": "cornflowerblue",
          "width": 0.15394128939885887
         },
         "mode": "lines",
         "text": "0.154",
         "type": "scatter",
         "x": [
          23,
          24,
          null
         ],
         "y": [
          5,
          10,
          null
         ]
        },
        {
         "hoverinfo": "text",
         "line": {
          "color": "cornflowerblue",
          "width": 0.16136663423728986
         },
         "mode": "lines",
         "text": "0.161",
         "type": "scatter",
         "x": [
          23,
          24,
          null
         ],
         "y": [
          6,
          0,
          null
         ]
        },
        {
         "hoverinfo": "text",
         "line": {
          "color": "cornflowerblue",
          "width": 0.16275951404906394
         },
         "mode": "lines",
         "text": "0.163",
         "type": "scatter",
         "x": [
          23,
          24,
          null
         ],
         "y": [
          6,
          1,
          null
         ]
        },
        {
         "hoverinfo": "text",
         "line": {
          "color": "cornflowerblue",
          "width": 0.15886478767053153
         },
         "mode": "lines",
         "text": "0.159",
         "type": "scatter",
         "x": [
          23,
          24,
          null
         ],
         "y": [
          6,
          2,
          null
         ]
        },
        {
         "hoverinfo": "text",
         "line": {
          "color": "cornflowerblue",
          "width": 0.1605953238368172
         },
         "mode": "lines",
         "text": "0.161",
         "type": "scatter",
         "x": [
          23,
          24,
          null
         ],
         "y": [
          6,
          3,
          null
         ]
        },
        {
         "hoverinfo": "text",
         "line": {
          "color": "cornflowerblue",
          "width": 0.1593702027535601
         },
         "mode": "lines",
         "text": "0.159",
         "type": "scatter",
         "x": [
          23,
          24,
          null
         ],
         "y": [
          6,
          4,
          null
         ]
        },
        {
         "hoverinfo": "text",
         "line": {
          "color": "cornflowerblue",
          "width": 0.1581287923280078
         },
         "mode": "lines",
         "text": "0.158",
         "type": "scatter",
         "x": [
          23,
          24,
          null
         ],
         "y": [
          6,
          5,
          null
         ]
        },
        {
         "hoverinfo": "text",
         "line": {
          "color": "cornflowerblue",
          "width": 0.16556037057498305
         },
         "mode": "lines",
         "text": "0.166",
         "type": "scatter",
         "x": [
          23,
          24,
          null
         ],
         "y": [
          6,
          6,
          null
         ]
        },
        {
         "hoverinfo": "text",
         "line": {
          "color": "cornflowerblue",
          "width": 0.1523441655293168
         },
         "mode": "lines",
         "text": "0.152",
         "type": "scatter",
         "x": [
          23,
          24,
          null
         ],
         "y": [
          6,
          7,
          null
         ]
        },
        {
         "hoverinfo": "text",
         "line": {
          "color": "cornflowerblue",
          "width": 0.15279030228023574
         },
         "mode": "lines",
         "text": "0.153",
         "type": "scatter",
         "x": [
          23,
          24,
          null
         ],
         "y": [
          6,
          8,
          null
         ]
        },
        {
         "hoverinfo": "text",
         "line": {
          "color": "cornflowerblue",
          "width": 0.1564377007189768
         },
         "mode": "lines",
         "text": "0.156",
         "type": "scatter",
         "x": [
          23,
          24,
          null
         ],
         "y": [
          6,
          9,
          null
         ]
        },
        {
         "hoverinfo": "text",
         "line": {
          "color": "cornflowerblue",
          "width": 0.15536145835089368
         },
         "mode": "lines",
         "text": "0.155",
         "type": "scatter",
         "x": [
          23,
          24,
          null
         ],
         "y": [
          6,
          10,
          null
         ]
        },
        {
         "hoverinfo": "text",
         "line": {
          "color": "cornflowerblue",
          "width": 0.15214192072608396
         },
         "mode": "lines",
         "text": "0.152",
         "type": "scatter",
         "x": [
          23,
          24,
          null
         ],
         "y": [
          7,
          0,
          null
         ]
        },
        {
         "hoverinfo": "text",
         "line": {
          "color": "cornflowerblue",
          "width": 0.1559487406681906
         },
         "mode": "lines",
         "text": "0.156",
         "type": "scatter",
         "x": [
          23,
          24,
          null
         ],
         "y": [
          7,
          1,
          null
         ]
        },
        {
         "hoverinfo": "text",
         "line": {
          "color": "cornflowerblue",
          "width": 0.15280586692959677
         },
         "mode": "lines",
         "text": "0.153",
         "type": "scatter",
         "x": [
          23,
          24,
          null
         ],
         "y": [
          7,
          2,
          null
         ]
        },
        {
         "hoverinfo": "text",
         "line": {
          "color": "cornflowerblue",
          "width": 0.15410168915611935
         },
         "mode": "lines",
         "text": "0.154",
         "type": "scatter",
         "x": [
          23,
          24,
          null
         ],
         "y": [
          7,
          3,
          null
         ]
        },
        {
         "hoverinfo": "text",
         "line": {
          "color": "cornflowerblue",
          "width": 0.1544042085910297
         },
         "mode": "lines",
         "text": "0.154",
         "type": "scatter",
         "x": [
          23,
          24,
          null
         ],
         "y": [
          7,
          4,
          null
         ]
        },
        {
         "hoverinfo": "text",
         "line": {
          "color": "cornflowerblue",
          "width": 0.15135704852590956
         },
         "mode": "lines",
         "text": "0.151",
         "type": "scatter",
         "x": [
          23,
          24,
          null
         ],
         "y": [
          7,
          5,
          null
         ]
        },
        {
         "hoverinfo": "text",
         "line": {
          "color": "cornflowerblue",
          "width": 0.15343223862655014
         },
         "mode": "lines",
         "text": "0.153",
         "type": "scatter",
         "x": [
          23,
          24,
          null
         ],
         "y": [
          7,
          6,
          null
         ]
        },
        {
         "hoverinfo": "text",
         "line": {
          "color": "cornflowerblue",
          "width": 0.14758575585279984
         },
         "mode": "lines",
         "text": "0.148",
         "type": "scatter",
         "x": [
          23,
          24,
          null
         ],
         "y": [
          7,
          7,
          null
         ]
        },
        {
         "hoverinfo": "text",
         "line": {
          "color": "cornflowerblue",
          "width": 0.1490408210133703
         },
         "mode": "lines",
         "text": "0.149",
         "type": "scatter",
         "x": [
          23,
          24,
          null
         ],
         "y": [
          7,
          8,
          null
         ]
        },
        {
         "hoverinfo": "text",
         "line": {
          "color": "cornflowerblue",
          "width": 0.15040159575505088
         },
         "mode": "lines",
         "text": "0.15",
         "type": "scatter",
         "x": [
          23,
          24,
          null
         ],
         "y": [
          7,
          9,
          null
         ]
        },
        {
         "hoverinfo": "text",
         "line": {
          "color": "cornflowerblue",
          "width": 0.15105944053998094
         },
         "mode": "lines",
         "text": "0.151",
         "type": "scatter",
         "x": [
          23,
          24,
          null
         ],
         "y": [
          7,
          10,
          null
         ]
        },
        {
         "hoverinfo": "text",
         "line": {
          "color": "cornflowerblue",
          "width": 0.1564874927049444
         },
         "mode": "lines",
         "text": "0.156",
         "type": "scatter",
         "x": [
          23,
          24,
          null
         ],
         "y": [
          8,
          0,
          null
         ]
        },
        {
         "hoverinfo": "text",
         "line": {
          "color": "cornflowerblue",
          "width": 0.15856764097378276
         },
         "mode": "lines",
         "text": "0.159",
         "type": "scatter",
         "x": [
          23,
          24,
          null
         ],
         "y": [
          8,
          1,
          null
         ]
        },
        {
         "hoverinfo": "text",
         "line": {
          "color": "cornflowerblue",
          "width": 0.15406944926965038
         },
         "mode": "lines",
         "text": "0.154",
         "type": "scatter",
         "x": [
          23,
          24,
          null
         ],
         "y": [
          8,
          2,
          null
         ]
        },
        {
         "hoverinfo": "text",
         "line": {
          "color": "cornflowerblue",
          "width": 0.15627257226997418
         },
         "mode": "lines",
         "text": "0.156",
         "type": "scatter",
         "x": [
          23,
          24,
          null
         ],
         "y": [
          8,
          3,
          null
         ]
        },
        {
         "hoverinfo": "text",
         "line": {
          "color": "cornflowerblue",
          "width": 0.1629276475838712
         },
         "mode": "lines",
         "text": "0.163",
         "type": "scatter",
         "x": [
          23,
          24,
          null
         ],
         "y": [
          8,
          4,
          null
         ]
        },
        {
         "hoverinfo": "text",
         "line": {
          "color": "cornflowerblue",
          "width": 0.15528839635810693
         },
         "mode": "lines",
         "text": "0.155",
         "type": "scatter",
         "x": [
          23,
          24,
          null
         ],
         "y": [
          8,
          5,
          null
         ]
        },
        {
         "hoverinfo": "text",
         "line": {
          "color": "cornflowerblue",
          "width": 0.1550745863281601
         },
         "mode": "lines",
         "text": "0.155",
         "type": "scatter",
         "x": [
          23,
          24,
          null
         ],
         "y": [
          8,
          6,
          null
         ]
        },
        {
         "hoverinfo": "text",
         "line": {
          "color": "cornflowerblue",
          "width": 0.15589089490692093
         },
         "mode": "lines",
         "text": "0.156",
         "type": "scatter",
         "x": [
          23,
          24,
          null
         ],
         "y": [
          8,
          7,
          null
         ]
        },
        {
         "hoverinfo": "text",
         "line": {
          "color": "cornflowerblue",
          "width": 0.15415044830105032
         },
         "mode": "lines",
         "text": "0.154",
         "type": "scatter",
         "x": [
          23,
          24,
          null
         ],
         "y": [
          8,
          8,
          null
         ]
        },
        {
         "hoverinfo": "text",
         "line": {
          "color": "cornflowerblue",
          "width": 0.1575097565283321
         },
         "mode": "lines",
         "text": "0.158",
         "type": "scatter",
         "x": [
          23,
          24,
          null
         ],
         "y": [
          8,
          9,
          null
         ]
        },
        {
         "hoverinfo": "text",
         "line": {
          "color": "cornflowerblue",
          "width": 0.1538696158220773
         },
         "mode": "lines",
         "text": "0.154",
         "type": "scatter",
         "x": [
          23,
          24,
          null
         ],
         "y": [
          8,
          10,
          null
         ]
        },
        {
         "hoverinfo": "text",
         "line": {
          "color": "cornflowerblue",
          "width": 0.1506030612230551
         },
         "mode": "lines",
         "text": "0.151",
         "type": "scatter",
         "x": [
          23,
          24,
          null
         ],
         "y": [
          9,
          0,
          null
         ]
        },
        {
         "hoverinfo": "text",
         "line": {
          "color": "cornflowerblue",
          "width": 0.15296029673115305
         },
         "mode": "lines",
         "text": "0.153",
         "type": "scatter",
         "x": [
          23,
          24,
          null
         ],
         "y": [
          9,
          1,
          null
         ]
        },
        {
         "hoverinfo": "text",
         "line": {
          "color": "cornflowerblue",
          "width": 0.14999585983868663
         },
         "mode": "lines",
         "text": "0.15",
         "type": "scatter",
         "x": [
          23,
          24,
          null
         ],
         "y": [
          9,
          2,
          null
         ]
        },
        {
         "hoverinfo": "text",
         "line": {
          "color": "cornflowerblue",
          "width": 0.15065765278178167
         },
         "mode": "lines",
         "text": "0.151",
         "type": "scatter",
         "x": [
          23,
          24,
          null
         ],
         "y": [
          9,
          3,
          null
         ]
        },
        {
         "hoverinfo": "text",
         "line": {
          "color": "cornflowerblue",
          "width": 0.15146671772803025
         },
         "mode": "lines",
         "text": "0.151",
         "type": "scatter",
         "x": [
          23,
          24,
          null
         ],
         "y": [
          9,
          4,
          null
         ]
        },
        {
         "hoverinfo": "text",
         "line": {
          "color": "cornflowerblue",
          "width": 0.14947863604746495
         },
         "mode": "lines",
         "text": "0.149",
         "type": "scatter",
         "x": [
          23,
          24,
          null
         ],
         "y": [
          9,
          5,
          null
         ]
        },
        {
         "hoverinfo": "text",
         "line": {
          "color": "cornflowerblue",
          "width": 0.15406596868923136
         },
         "mode": "lines",
         "text": "0.154",
         "type": "scatter",
         "x": [
          23,
          24,
          null
         ],
         "y": [
          9,
          6,
          null
         ]
        },
        {
         "hoverinfo": "text",
         "line": {
          "color": "cornflowerblue",
          "width": 0.14789419473630366
         },
         "mode": "lines",
         "text": "0.148",
         "type": "scatter",
         "x": [
          23,
          24,
          null
         ],
         "y": [
          9,
          7,
          null
         ]
        },
        {
         "hoverinfo": "text",
         "line": {
          "color": "cornflowerblue",
          "width": 0.14987292185957107
         },
         "mode": "lines",
         "text": "0.15",
         "type": "scatter",
         "x": [
          23,
          24,
          null
         ],
         "y": [
          9,
          8,
          null
         ]
        },
        {
         "hoverinfo": "text",
         "line": {
          "color": "cornflowerblue",
          "width": 0.149237870943296
         },
         "mode": "lines",
         "text": "0.149",
         "type": "scatter",
         "x": [
          23,
          24,
          null
         ],
         "y": [
          9,
          9,
          null
         ]
        },
        {
         "hoverinfo": "text",
         "line": {
          "color": "cornflowerblue",
          "width": 0.1504729317776751
         },
         "mode": "lines",
         "text": "0.15",
         "type": "scatter",
         "x": [
          23,
          24,
          null
         ],
         "y": [
          9,
          10,
          null
         ]
        },
        {
         "hoverinfo": "text",
         "line": {
          "color": "cornflowerblue",
          "width": 0.14706622587510948
         },
         "mode": "lines",
         "text": "0.147",
         "type": "scatter",
         "x": [
          23,
          24,
          null
         ],
         "y": [
          10,
          0,
          null
         ]
        },
        {
         "hoverinfo": "text",
         "line": {
          "color": "cornflowerblue",
          "width": 0.14770759873421596
         },
         "mode": "lines",
         "text": "0.148",
         "type": "scatter",
         "x": [
          23,
          24,
          null
         ],
         "y": [
          10,
          1,
          null
         ]
        },
        {
         "hoverinfo": "text",
         "line": {
          "color": "cornflowerblue",
          "width": 0.14725721454543456
         },
         "mode": "lines",
         "text": "0.147",
         "type": "scatter",
         "x": [
          23,
          24,
          null
         ],
         "y": [
          10,
          3,
          null
         ]
        },
        {
         "hoverinfo": "text",
         "line": {
          "color": "cornflowerblue",
          "width": 0.14692350056792472
         },
         "mode": "lines",
         "text": "0.147",
         "type": "scatter",
         "x": [
          23,
          24,
          null
         ],
         "y": [
          10,
          4,
          null
         ]
        },
        {
         "hoverinfo": "text",
         "line": {
          "color": "cornflowerblue",
          "width": 0.1481692519374847
         },
         "mode": "lines",
         "text": "0.148",
         "type": "scatter",
         "x": [
          23,
          24,
          null
         ],
         "y": [
          10,
          6,
          null
         ]
        },
        {
         "hoverinfo": "text",
         "line": {
          "color": "cornflowerblue",
          "width": 0.1462967501698572
         },
         "mode": "lines",
         "text": "0.146",
         "type": "scatter",
         "x": [
          23,
          24,
          null
         ],
         "y": [
          10,
          10,
          null
         ]
        },
        {
         "hoverinfo": "text",
         "marker": {
          "color": [],
          "colorbar": {
           "thickness": 15,
           "title": {
            "side": "right",
            "text": "Node Connections"
           },
           "xanchor": "left"
          },
          "colorscale": [
           [
            0,
            "rgb(255,255,217)"
           ],
           [
            0.125,
            "rgb(237,248,177)"
           ],
           [
            0.25,
            "rgb(199,233,180)"
           ],
           [
            0.375,
            "rgb(127,205,187)"
           ],
           [
            0.5,
            "rgb(65,182,196)"
           ],
           [
            0.625,
            "rgb(29,145,192)"
           ],
           [
            0.75,
            "rgb(34,94,168)"
           ],
           [
            0.875,
            "rgb(37,52,148)"
           ],
           [
            1,
            "rgb(8,29,88)"
           ]
          ],
          "line": {
           "width": 2
          },
          "reversescale": true,
          "showscale": true,
          "size": 10
         },
         "mode": "markers",
         "type": "scatter",
         "x": [
          1,
          1,
          1,
          1,
          1,
          1,
          1,
          1,
          2,
          2,
          2,
          2,
          2,
          2,
          2,
          2,
          2,
          3,
          3,
          3,
          3,
          3,
          3,
          3,
          4,
          4,
          4,
          4,
          4,
          4,
          4,
          5,
          5,
          5,
          5,
          5,
          5,
          5,
          5,
          5,
          6,
          6,
          6,
          6,
          6,
          6,
          6,
          6,
          7,
          7,
          7,
          7,
          7,
          7,
          7,
          7,
          7,
          8,
          8,
          8,
          8,
          8,
          8,
          9,
          9,
          9,
          9,
          9,
          9,
          9,
          9,
          10,
          10,
          10,
          10,
          10,
          10,
          10,
          10,
          10,
          10,
          11,
          11,
          11,
          11,
          11,
          11,
          11,
          11,
          11,
          11,
          11,
          11,
          12,
          12,
          12,
          12,
          12,
          12,
          12,
          12,
          12,
          13,
          13,
          13,
          13,
          13,
          14,
          14,
          14,
          14,
          14,
          14,
          14,
          14,
          15,
          15,
          15,
          15,
          15,
          15,
          15,
          15,
          16,
          16,
          16,
          16,
          16,
          17,
          17,
          17,
          17,
          17,
          17,
          17,
          17,
          18,
          18,
          18,
          18,
          18,
          18,
          18,
          18,
          18,
          19,
          19,
          19,
          19,
          19,
          19,
          19,
          19,
          19,
          19,
          19,
          19,
          20,
          20,
          20,
          20,
          20,
          20,
          20,
          20,
          20,
          20,
          21,
          21,
          21,
          21,
          21,
          21,
          21,
          21,
          21,
          21,
          22,
          22,
          22,
          22,
          22,
          22,
          22,
          22,
          23,
          23,
          23,
          23,
          23,
          23,
          23,
          23,
          23,
          23,
          23,
          24,
          24,
          24,
          24,
          24,
          24,
          24,
          24,
          24,
          24,
          24
         ],
         "y": [
          0,
          1,
          2,
          3,
          4,
          5,
          6,
          7,
          0,
          1,
          2,
          3,
          4,
          5,
          6,
          7,
          8,
          0,
          1,
          2,
          3,
          4,
          5,
          6,
          0,
          1,
          2,
          3,
          4,
          5,
          6,
          0,
          1,
          2,
          3,
          4,
          5,
          6,
          7,
          8,
          0,
          1,
          2,
          3,
          4,
          5,
          6,
          7,
          0,
          1,
          2,
          3,
          4,
          5,
          6,
          7,
          8,
          0,
          1,
          2,
          3,
          4,
          5,
          0,
          1,
          2,
          3,
          4,
          5,
          6,
          7,
          0,
          1,
          2,
          3,
          4,
          5,
          6,
          7,
          8,
          9,
          0,
          1,
          2,
          3,
          4,
          5,
          6,
          7,
          8,
          9,
          10,
          11,
          0,
          1,
          2,
          3,
          4,
          5,
          6,
          7,
          8,
          0,
          1,
          2,
          3,
          4,
          0,
          1,
          2,
          3,
          4,
          5,
          6,
          7,
          0,
          1,
          2,
          3,
          4,
          5,
          6,
          7,
          0,
          1,
          2,
          3,
          4,
          0,
          1,
          2,
          3,
          4,
          5,
          6,
          7,
          0,
          1,
          2,
          3,
          4,
          5,
          6,
          7,
          8,
          0,
          1,
          2,
          3,
          4,
          5,
          6,
          7,
          8,
          9,
          10,
          11,
          0,
          1,
          2,
          3,
          4,
          5,
          6,
          7,
          8,
          9,
          0,
          1,
          2,
          3,
          4,
          5,
          6,
          7,
          8,
          9,
          0,
          1,
          2,
          3,
          4,
          5,
          6,
          7,
          0,
          1,
          2,
          3,
          4,
          5,
          6,
          7,
          8,
          9,
          10,
          0,
          1,
          2,
          3,
          4,
          5,
          6,
          7,
          8,
          9,
          10
         ]
        }
       ],
       "layout": {
        "paper_bgcolor": "rgba(0,0,0,0)",
        "plot_bgcolor": "rgba(0,0,0,0)",
        "showlegend": false,
        "template": {
         "data": {
          "bar": [
           {
            "error_x": {
             "color": "#2a3f5f"
            },
            "error_y": {
             "color": "#2a3f5f"
            },
            "marker": {
             "line": {
              "color": "#E5ECF6",
              "width": 0.5
             }
            },
            "type": "bar"
           }
          ],
          "barpolar": [
           {
            "marker": {
             "line": {
              "color": "#E5ECF6",
              "width": 0.5
             }
            },
            "type": "barpolar"
           }
          ],
          "carpet": [
           {
            "aaxis": {
             "endlinecolor": "#2a3f5f",
             "gridcolor": "white",
             "linecolor": "white",
             "minorgridcolor": "white",
             "startlinecolor": "#2a3f5f"
            },
            "baxis": {
             "endlinecolor": "#2a3f5f",
             "gridcolor": "white",
             "linecolor": "white",
             "minorgridcolor": "white",
             "startlinecolor": "#2a3f5f"
            },
            "type": "carpet"
           }
          ],
          "choropleth": [
           {
            "colorbar": {
             "outlinewidth": 0,
             "ticks": ""
            },
            "type": "choropleth"
           }
          ],
          "contour": [
           {
            "colorbar": {
             "outlinewidth": 0,
             "ticks": ""
            },
            "colorscale": [
             [
              0,
              "#0d0887"
             ],
             [
              0.1111111111111111,
              "#46039f"
             ],
             [
              0.2222222222222222,
              "#7201a8"
             ],
             [
              0.3333333333333333,
              "#9c179e"
             ],
             [
              0.4444444444444444,
              "#bd3786"
             ],
             [
              0.5555555555555556,
              "#d8576b"
             ],
             [
              0.6666666666666666,
              "#ed7953"
             ],
             [
              0.7777777777777778,
              "#fb9f3a"
             ],
             [
              0.8888888888888888,
              "#fdca26"
             ],
             [
              1,
              "#f0f921"
             ]
            ],
            "type": "contour"
           }
          ],
          "contourcarpet": [
           {
            "colorbar": {
             "outlinewidth": 0,
             "ticks": ""
            },
            "type": "contourcarpet"
           }
          ],
          "heatmap": [
           {
            "colorbar": {
             "outlinewidth": 0,
             "ticks": ""
            },
            "colorscale": [
             [
              0,
              "#0d0887"
             ],
             [
              0.1111111111111111,
              "#46039f"
             ],
             [
              0.2222222222222222,
              "#7201a8"
             ],
             [
              0.3333333333333333,
              "#9c179e"
             ],
             [
              0.4444444444444444,
              "#bd3786"
             ],
             [
              0.5555555555555556,
              "#d8576b"
             ],
             [
              0.6666666666666666,
              "#ed7953"
             ],
             [
              0.7777777777777778,
              "#fb9f3a"
             ],
             [
              0.8888888888888888,
              "#fdca26"
             ],
             [
              1,
              "#f0f921"
             ]
            ],
            "type": "heatmap"
           }
          ],
          "heatmapgl": [
           {
            "colorbar": {
             "outlinewidth": 0,
             "ticks": ""
            },
            "colorscale": [
             [
              0,
              "#0d0887"
             ],
             [
              0.1111111111111111,
              "#46039f"
             ],
             [
              0.2222222222222222,
              "#7201a8"
             ],
             [
              0.3333333333333333,
              "#9c179e"
             ],
             [
              0.4444444444444444,
              "#bd3786"
             ],
             [
              0.5555555555555556,
              "#d8576b"
             ],
             [
              0.6666666666666666,
              "#ed7953"
             ],
             [
              0.7777777777777778,
              "#fb9f3a"
             ],
             [
              0.8888888888888888,
              "#fdca26"
             ],
             [
              1,
              "#f0f921"
             ]
            ],
            "type": "heatmapgl"
           }
          ],
          "histogram": [
           {
            "marker": {
             "colorbar": {
              "outlinewidth": 0,
              "ticks": ""
             }
            },
            "type": "histogram"
           }
          ],
          "histogram2d": [
           {
            "colorbar": {
             "outlinewidth": 0,
             "ticks": ""
            },
            "colorscale": [
             [
              0,
              "#0d0887"
             ],
             [
              0.1111111111111111,
              "#46039f"
             ],
             [
              0.2222222222222222,
              "#7201a8"
             ],
             [
              0.3333333333333333,
              "#9c179e"
             ],
             [
              0.4444444444444444,
              "#bd3786"
             ],
             [
              0.5555555555555556,
              "#d8576b"
             ],
             [
              0.6666666666666666,
              "#ed7953"
             ],
             [
              0.7777777777777778,
              "#fb9f3a"
             ],
             [
              0.8888888888888888,
              "#fdca26"
             ],
             [
              1,
              "#f0f921"
             ]
            ],
            "type": "histogram2d"
           }
          ],
          "histogram2dcontour": [
           {
            "colorbar": {
             "outlinewidth": 0,
             "ticks": ""
            },
            "colorscale": [
             [
              0,
              "#0d0887"
             ],
             [
              0.1111111111111111,
              "#46039f"
             ],
             [
              0.2222222222222222,
              "#7201a8"
             ],
             [
              0.3333333333333333,
              "#9c179e"
             ],
             [
              0.4444444444444444,
              "#bd3786"
             ],
             [
              0.5555555555555556,
              "#d8576b"
             ],
             [
              0.6666666666666666,
              "#ed7953"
             ],
             [
              0.7777777777777778,
              "#fb9f3a"
             ],
             [
              0.8888888888888888,
              "#fdca26"
             ],
             [
              1,
              "#f0f921"
             ]
            ],
            "type": "histogram2dcontour"
           }
          ],
          "mesh3d": [
           {
            "colorbar": {
             "outlinewidth": 0,
             "ticks": ""
            },
            "type": "mesh3d"
           }
          ],
          "parcoords": [
           {
            "line": {
             "colorbar": {
              "outlinewidth": 0,
              "ticks": ""
             }
            },
            "type": "parcoords"
           }
          ],
          "scatter": [
           {
            "marker": {
             "colorbar": {
              "outlinewidth": 0,
              "ticks": ""
             }
            },
            "type": "scatter"
           }
          ],
          "scatter3d": [
           {
            "line": {
             "colorbar": {
              "outlinewidth": 0,
              "ticks": ""
             }
            },
            "marker": {
             "colorbar": {
              "outlinewidth": 0,
              "ticks": ""
             }
            },
            "type": "scatter3d"
           }
          ],
          "scattercarpet": [
           {
            "marker": {
             "colorbar": {
              "outlinewidth": 0,
              "ticks": ""
             }
            },
            "type": "scattercarpet"
           }
          ],
          "scattergeo": [
           {
            "marker": {
             "colorbar": {
              "outlinewidth": 0,
              "ticks": ""
             }
            },
            "type": "scattergeo"
           }
          ],
          "scattergl": [
           {
            "marker": {
             "colorbar": {
              "outlinewidth": 0,
              "ticks": ""
             }
            },
            "type": "scattergl"
           }
          ],
          "scattermapbox": [
           {
            "marker": {
             "colorbar": {
              "outlinewidth": 0,
              "ticks": ""
             }
            },
            "type": "scattermapbox"
           }
          ],
          "scatterpolar": [
           {
            "marker": {
             "colorbar": {
              "outlinewidth": 0,
              "ticks": ""
             }
            },
            "type": "scatterpolar"
           }
          ],
          "scatterpolargl": [
           {
            "marker": {
             "colorbar": {
              "outlinewidth": 0,
              "ticks": ""
             }
            },
            "type": "scatterpolargl"
           }
          ],
          "scatterternary": [
           {
            "marker": {
             "colorbar": {
              "outlinewidth": 0,
              "ticks": ""
             }
            },
            "type": "scatterternary"
           }
          ],
          "surface": [
           {
            "colorbar": {
             "outlinewidth": 0,
             "ticks": ""
            },
            "colorscale": [
             [
              0,
              "#0d0887"
             ],
             [
              0.1111111111111111,
              "#46039f"
             ],
             [
              0.2222222222222222,
              "#7201a8"
             ],
             [
              0.3333333333333333,
              "#9c179e"
             ],
             [
              0.4444444444444444,
              "#bd3786"
             ],
             [
              0.5555555555555556,
              "#d8576b"
             ],
             [
              0.6666666666666666,
              "#ed7953"
             ],
             [
              0.7777777777777778,
              "#fb9f3a"
             ],
             [
              0.8888888888888888,
              "#fdca26"
             ],
             [
              1,
              "#f0f921"
             ]
            ],
            "type": "surface"
           }
          ],
          "table": [
           {
            "cells": {
             "fill": {
              "color": "#EBF0F8"
             },
             "line": {
              "color": "white"
             }
            },
            "header": {
             "fill": {
              "color": "#C8D4E3"
             },
             "line": {
              "color": "white"
             }
            },
            "type": "table"
           }
          ]
         },
         "layout": {
          "annotationdefaults": {
           "arrowcolor": "#2a3f5f",
           "arrowhead": 0,
           "arrowwidth": 1
          },
          "colorscale": {
           "diverging": [
            [
             0,
             "#8e0152"
            ],
            [
             0.1,
             "#c51b7d"
            ],
            [
             0.2,
             "#de77ae"
            ],
            [
             0.3,
             "#f1b6da"
            ],
            [
             0.4,
             "#fde0ef"
            ],
            [
             0.5,
             "#f7f7f7"
            ],
            [
             0.6,
             "#e6f5d0"
            ],
            [
             0.7,
             "#b8e186"
            ],
            [
             0.8,
             "#7fbc41"
            ],
            [
             0.9,
             "#4d9221"
            ],
            [
             1,
             "#276419"
            ]
           ],
           "sequential": [
            [
             0,
             "#0d0887"
            ],
            [
             0.1111111111111111,
             "#46039f"
            ],
            [
             0.2222222222222222,
             "#7201a8"
            ],
            [
             0.3333333333333333,
             "#9c179e"
            ],
            [
             0.4444444444444444,
             "#bd3786"
            ],
            [
             0.5555555555555556,
             "#d8576b"
            ],
            [
             0.6666666666666666,
             "#ed7953"
            ],
            [
             0.7777777777777778,
             "#fb9f3a"
            ],
            [
             0.8888888888888888,
             "#fdca26"
            ],
            [
             1,
             "#f0f921"
            ]
           ],
           "sequentialminus": [
            [
             0,
             "#0d0887"
            ],
            [
             0.1111111111111111,
             "#46039f"
            ],
            [
             0.2222222222222222,
             "#7201a8"
            ],
            [
             0.3333333333333333,
             "#9c179e"
            ],
            [
             0.4444444444444444,
             "#bd3786"
            ],
            [
             0.5555555555555556,
             "#d8576b"
            ],
            [
             0.6666666666666666,
             "#ed7953"
            ],
            [
             0.7777777777777778,
             "#fb9f3a"
            ],
            [
             0.8888888888888888,
             "#fdca26"
            ],
            [
             1,
             "#f0f921"
            ]
           ]
          },
          "colorway": [
           "#636efa",
           "#EF553B",
           "#00cc96",
           "#ab63fa",
           "#FFA15A",
           "#19d3f3",
           "#FF6692",
           "#B6E880",
           "#FF97FF",
           "#FECB52"
          ],
          "font": {
           "color": "#2a3f5f"
          },
          "geo": {
           "bgcolor": "white",
           "lakecolor": "white",
           "landcolor": "#E5ECF6",
           "showlakes": true,
           "showland": true,
           "subunitcolor": "white"
          },
          "hoverlabel": {
           "align": "left"
          },
          "hovermode": "closest",
          "mapbox": {
           "style": "light"
          },
          "paper_bgcolor": "white",
          "plot_bgcolor": "#E5ECF6",
          "polar": {
           "angularaxis": {
            "gridcolor": "white",
            "linecolor": "white",
            "ticks": ""
           },
           "bgcolor": "#E5ECF6",
           "radialaxis": {
            "gridcolor": "white",
            "linecolor": "white",
            "ticks": ""
           }
          },
          "scene": {
           "xaxis": {
            "backgroundcolor": "#E5ECF6",
            "gridcolor": "white",
            "gridwidth": 2,
            "linecolor": "white",
            "showbackground": true,
            "ticks": "",
            "zerolinecolor": "white"
           },
           "yaxis": {
            "backgroundcolor": "#E5ECF6",
            "gridcolor": "white",
            "gridwidth": 2,
            "linecolor": "white",
            "showbackground": true,
            "ticks": "",
            "zerolinecolor": "white"
           },
           "zaxis": {
            "backgroundcolor": "#E5ECF6",
            "gridcolor": "white",
            "gridwidth": 2,
            "linecolor": "white",
            "showbackground": true,
            "ticks": "",
            "zerolinecolor": "white"
           }
          },
          "shapedefaults": {
           "line": {
            "color": "#2a3f5f"
           }
          },
          "ternary": {
           "aaxis": {
            "gridcolor": "white",
            "linecolor": "white",
            "ticks": ""
           },
           "baxis": {
            "gridcolor": "white",
            "linecolor": "white",
            "ticks": ""
           },
           "bgcolor": "#E5ECF6",
           "caxis": {
            "gridcolor": "white",
            "linecolor": "white",
            "ticks": ""
           }
          },
          "title": {
           "x": 0.05
          },
          "xaxis": {
           "automargin": true,
           "gridcolor": "white",
           "linecolor": "white",
           "ticks": "",
           "zerolinecolor": "white",
           "zerolinewidth": 2
          },
          "yaxis": {
           "automargin": true,
           "gridcolor": "white",
           "linecolor": "white",
           "ticks": "",
           "zerolinecolor": "white",
           "zerolinewidth": 2
          }
         }
        },
        "xaxis": {
         "showgrid": false,
         "showticklabels": true,
         "tickvals": [
          1,
          2,
          3,
          4,
          5,
          6,
          7,
          8,
          9,
          10,
          11,
          12,
          13,
          14,
          15,
          16,
          17,
          18,
          19,
          20,
          21,
          22,
          23,
          24
         ],
         "zeroline": false
        },
        "yaxis": {
         "showgrid": false,
         "showticklabels": false,
         "zeroline": false
        }
       }
      },
      "text/html": [
       "<div>\n",
       "        \n",
       "        \n",
       "            <div id=\"7607ca32-43d8-4b94-9b23-fd5f85ccf202\" class=\"plotly-graph-div\" style=\"height:525px; width:100%;\"></div>\n",
       "            <script type=\"text/javascript\">\n",
       "                require([\"plotly\"], function(Plotly) {\n",
       "                    window.PLOTLYENV=window.PLOTLYENV || {};\n",
       "                    \n",
       "                if (document.getElementById(\"7607ca32-43d8-4b94-9b23-fd5f85ccf202\")) {\n",
       "                    Plotly.newPlot(\n",
       "                        '7607ca32-43d8-4b94-9b23-fd5f85ccf202',\n",
       "                        [{\"hoverinfo\": \"text\", \"line\": {\"color\": \"cornflowerblue\", \"width\": 0.5380246969314779}, \"mode\": \"lines\", \"text\": \"0.538\", \"type\": \"scatter\", \"x\": [1, 2, null], \"y\": [0, 0, null]}, {\"hoverinfo\": \"text\", \"line\": {\"color\": \"cornflowerblue\", \"width\": 0.20795846387895256}, \"mode\": \"lines\", \"text\": \"0.208\", \"type\": \"scatter\", \"x\": [1, 2, null], \"y\": [0, 1, null]}, {\"hoverinfo\": \"text\", \"line\": {\"color\": \"cornflowerblue\", \"width\": 0.1720914307621931}, \"mode\": \"lines\", \"text\": \"0.172\", \"type\": \"scatter\", \"x\": [1, 2, null], \"y\": [0, 2, null]}, {\"hoverinfo\": \"text\", \"line\": {\"color\": \"cornflowerblue\", \"width\": 0.2063685611129622}, \"mode\": \"lines\", \"text\": \"0.206\", \"type\": \"scatter\", \"x\": [1, 2, null], \"y\": [0, 3, null]}, {\"hoverinfo\": \"text\", \"line\": {\"color\": \"cornflowerblue\", \"width\": 0.1747712484729893}, \"mode\": \"lines\", \"text\": \"0.175\", \"type\": \"scatter\", \"x\": [1, 2, null], \"y\": [0, 4, null]}, {\"hoverinfo\": \"text\", \"line\": {\"color\": \"cornflowerblue\", \"width\": 0.1668517506822075}, \"mode\": \"lines\", \"text\": \"0.167\", \"type\": \"scatter\", \"x\": [1, 2, null], \"y\": [0, 5, null]}, {\"hoverinfo\": \"text\", \"line\": {\"color\": \"cornflowerblue\", \"width\": 0.14866162449962972}, \"mode\": \"lines\", \"text\": \"0.149\", \"type\": \"scatter\", \"x\": [1, 2, null], \"y\": [0, 6, null]}, {\"hoverinfo\": \"text\", \"line\": {\"color\": \"cornflowerblue\", \"width\": 0.14750999476369495}, \"mode\": \"lines\", \"text\": \"0.148\", \"type\": \"scatter\", \"x\": [1, 2, null], \"y\": [0, 7, null]}, {\"hoverinfo\": \"text\", \"line\": {\"color\": \"cornflowerblue\", \"width\": 0.15728821857926026}, \"mode\": \"lines\", \"text\": \"0.157\", \"type\": \"scatter\", \"x\": [1, 2, null], \"y\": [0, 8, null]}, {\"hoverinfo\": \"text\", \"line\": {\"color\": \"cornflowerblue\", \"width\": 0.19165658710138514}, \"mode\": \"lines\", \"text\": \"0.192\", \"type\": \"scatter\", \"x\": [1, 2, null], \"y\": [1, 0, null]}, {\"hoverinfo\": \"text\", \"line\": {\"color\": \"cornflowerblue\", \"width\": 0.2712360343808593}, \"mode\": \"lines\", \"text\": \"0.271\", \"type\": \"scatter\", \"x\": [1, 2, null], \"y\": [1, 1, null]}, {\"hoverinfo\": \"text\", \"line\": {\"color\": \"cornflowerblue\", \"width\": 0.16645293146821497}, \"mode\": \"lines\", \"text\": \"0.166\", \"type\": \"scatter\", \"x\": [1, 2, null], \"y\": [1, 2, null]}, {\"hoverinfo\": \"text\", \"line\": {\"color\": \"cornflowerblue\", \"width\": 0.19264180382746457}, \"mode\": \"lines\", \"text\": \"0.193\", \"type\": \"scatter\", \"x\": [1, 2, null], \"y\": [1, 3, null]}, {\"hoverinfo\": \"text\", \"line\": {\"color\": \"cornflowerblue\", \"width\": 0.1776228439470775}, \"mode\": \"lines\", \"text\": \"0.178\", \"type\": \"scatter\", \"x\": [1, 2, null], \"y\": [1, 4, null]}, {\"hoverinfo\": \"text\", \"line\": {\"color\": \"cornflowerblue\", \"width\": 0.16864966066092435}, \"mode\": \"lines\", \"text\": \"0.169\", \"type\": \"scatter\", \"x\": [1, 2, null], \"y\": [1, 5, null]}, {\"hoverinfo\": \"text\", \"line\": {\"color\": \"cornflowerblue\", \"width\": 0.1537348162603501}, \"mode\": \"lines\", \"text\": \"0.154\", \"type\": \"scatter\", \"x\": [1, 2, null], \"y\": [1, 7, null]}, {\"hoverinfo\": \"text\", \"line\": {\"color\": \"cornflowerblue\", \"width\": 0.15485075470749435}, \"mode\": \"lines\", \"text\": \"0.155\", \"type\": \"scatter\", \"x\": [1, 2, null], \"y\": [1, 8, null]}, {\"hoverinfo\": \"text\", \"line\": {\"color\": \"cornflowerblue\", \"width\": 0.19673304442763692}, \"mode\": \"lines\", \"text\": \"0.197\", \"type\": \"scatter\", \"x\": [1, 2, null], \"y\": [2, 0, null]}, {\"hoverinfo\": \"text\", \"line\": {\"color\": \"cornflowerblue\", \"width\": 0.25869939513117163}, \"mode\": \"lines\", \"text\": \"0.259\", \"type\": \"scatter\", \"x\": [1, 2, null], \"y\": [2, 1, null]}, {\"hoverinfo\": \"text\", \"line\": {\"color\": \"cornflowerblue\", \"width\": 0.1695263813628677}, \"mode\": \"lines\", \"text\": \"0.17\", \"type\": \"scatter\", \"x\": [1, 2, null], \"y\": [2, 2, null]}, {\"hoverinfo\": \"text\", \"line\": {\"color\": \"cornflowerblue\", \"width\": 0.22533317581299755}, \"mode\": \"lines\", \"text\": \"0.225\", \"type\": \"scatter\", \"x\": [1, 2, null], \"y\": [2, 3, null]}, {\"hoverinfo\": \"text\", \"line\": {\"color\": \"cornflowerblue\", \"width\": 0.18017254013119266}, \"mode\": \"lines\", \"text\": \"0.18\", \"type\": \"scatter\", \"x\": [1, 2, null], \"y\": [2, 4, null]}, {\"hoverinfo\": \"text\", \"line\": {\"color\": \"cornflowerblue\", \"width\": 0.17482699517247088}, \"mode\": \"lines\", \"text\": \"0.175\", \"type\": \"scatter\", \"x\": [1, 2, null], \"y\": [2, 5, null]}, {\"hoverinfo\": \"text\", \"line\": {\"color\": \"cornflowerblue\", \"width\": 0.14714797463843207}, \"mode\": \"lines\", \"text\": \"0.147\", \"type\": \"scatter\", \"x\": [1, 2, null], \"y\": [2, 6, null]}, {\"hoverinfo\": \"text\", \"line\": {\"color\": \"cornflowerblue\", \"width\": 0.14741711462977589}, \"mode\": \"lines\", \"text\": \"0.147\", \"type\": \"scatter\", \"x\": [1, 2, null], \"y\": [2, 7, null]}, {\"hoverinfo\": \"text\", \"line\": {\"color\": \"cornflowerblue\", \"width\": 0.1557814028514334}, \"mode\": \"lines\", \"text\": \"0.156\", \"type\": \"scatter\", \"x\": [1, 2, null], \"y\": [2, 8, null]}, {\"hoverinfo\": \"text\", \"line\": {\"color\": \"cornflowerblue\", \"width\": 0.1636076720630311}, \"mode\": \"lines\", \"text\": \"0.164\", \"type\": \"scatter\", \"x\": [1, 2, null], \"y\": [3, 0, null]}, {\"hoverinfo\": \"text\", \"line\": {\"color\": \"cornflowerblue\", \"width\": 0.16822474587600242}, \"mode\": \"lines\", \"text\": \"0.168\", \"type\": \"scatter\", \"x\": [1, 2, null], \"y\": [3, 1, null]}, {\"hoverinfo\": \"text\", \"line\": {\"color\": \"cornflowerblue\", \"width\": 0.16355271555343084}, \"mode\": \"lines\", \"text\": \"0.164\", \"type\": \"scatter\", \"x\": [1, 2, null], \"y\": [3, 2, null]}, {\"hoverinfo\": \"text\", \"line\": {\"color\": \"cornflowerblue\", \"width\": 0.16589530988369444}, \"mode\": \"lines\", \"text\": \"0.166\", \"type\": \"scatter\", \"x\": [1, 2, null], \"y\": [3, 3, null]}, {\"hoverinfo\": \"text\", \"line\": {\"color\": \"cornflowerblue\", \"width\": 0.16063873378668836}, \"mode\": \"lines\", \"text\": \"0.161\", \"type\": \"scatter\", \"x\": [1, 2, null], \"y\": [3, 4, null]}, {\"hoverinfo\": \"text\", \"line\": {\"color\": \"cornflowerblue\", \"width\": 0.1666437051906551}, \"mode\": \"lines\", \"text\": \"0.167\", \"type\": \"scatter\", \"x\": [1, 2, null], \"y\": [3, 5, null]}, {\"hoverinfo\": \"text\", \"line\": {\"color\": \"cornflowerblue\", \"width\": 0.1471920511124598}, \"mode\": \"lines\", \"text\": \"0.147\", \"type\": \"scatter\", \"x\": [1, 2, null], \"y\": [3, 7, null]}, {\"hoverinfo\": \"text\", \"line\": {\"color\": \"cornflowerblue\", \"width\": 0.15670893557126628}, \"mode\": \"lines\", \"text\": \"0.157\", \"type\": \"scatter\", \"x\": [1, 2, null], \"y\": [3, 8, null]}, {\"hoverinfo\": \"text\", \"line\": {\"color\": \"cornflowerblue\", \"width\": 0.18888113211482344}, \"mode\": \"lines\", \"text\": \"0.189\", \"type\": \"scatter\", \"x\": [1, 2, null], \"y\": [4, 0, null]}, {\"hoverinfo\": \"text\", \"line\": {\"color\": \"cornflowerblue\", \"width\": 0.1918318539146619}, \"mode\": \"lines\", \"text\": \"0.192\", \"type\": \"scatter\", \"x\": [1, 2, null], \"y\": [4, 1, null]}, {\"hoverinfo\": \"text\", \"line\": {\"color\": \"cornflowerblue\", \"width\": 0.18355206006596833}, \"mode\": \"lines\", \"text\": \"0.184\", \"type\": \"scatter\", \"x\": [1, 2, null], \"y\": [4, 2, null]}, {\"hoverinfo\": \"text\", \"line\": {\"color\": \"cornflowerblue\", \"width\": 0.2491694839131626}, \"mode\": \"lines\", \"text\": \"0.249\", \"type\": \"scatter\", \"x\": [1, 2, null], \"y\": [4, 3, null]}, {\"hoverinfo\": \"text\", \"line\": {\"color\": \"cornflowerblue\", \"width\": 0.17913569686301872}, \"mode\": \"lines\", \"text\": \"0.179\", \"type\": \"scatter\", \"x\": [1, 2, null], \"y\": [4, 4, null]}, {\"hoverinfo\": \"text\", \"line\": {\"color\": \"cornflowerblue\", \"width\": 0.17288480884958957}, \"mode\": \"lines\", \"text\": \"0.173\", \"type\": \"scatter\", \"x\": [1, 2, null], \"y\": [4, 5, null]}, {\"hoverinfo\": \"text\", \"line\": {\"color\": \"cornflowerblue\", \"width\": 0.1471028673726208}, \"mode\": \"lines\", \"text\": \"0.147\", \"type\": \"scatter\", \"x\": [1, 2, null], \"y\": [4, 6, null]}, {\"hoverinfo\": \"text\", \"line\": {\"color\": \"cornflowerblue\", \"width\": 0.14883164286781303}, \"mode\": \"lines\", \"text\": \"0.149\", \"type\": \"scatter\", \"x\": [1, 2, null], \"y\": [4, 7, null]}, {\"hoverinfo\": \"text\", \"line\": {\"color\": \"cornflowerblue\", \"width\": 0.15665532701050983}, \"mode\": \"lines\", \"text\": \"0.157\", \"type\": \"scatter\", \"x\": [1, 2, null], \"y\": [4, 8, null]}, {\"hoverinfo\": \"text\", \"line\": {\"color\": \"cornflowerblue\", \"width\": 0.15891135445451296}, \"mode\": \"lines\", \"text\": \"0.159\", \"type\": \"scatter\", \"x\": [1, 2, null], \"y\": [5, 0, null]}, {\"hoverinfo\": \"text\", \"line\": {\"color\": \"cornflowerblue\", \"width\": 0.1638308924826703}, \"mode\": \"lines\", \"text\": \"0.164\", \"type\": \"scatter\", \"x\": [1, 2, null], \"y\": [5, 1, null]}, {\"hoverinfo\": \"text\", \"line\": {\"color\": \"cornflowerblue\", \"width\": 0.15737940255024624}, \"mode\": \"lines\", \"text\": \"0.157\", \"type\": \"scatter\", \"x\": [1, 2, null], \"y\": [5, 2, null]}, {\"hoverinfo\": \"text\", \"line\": {\"color\": \"cornflowerblue\", \"width\": 0.16322117756177154}, \"mode\": \"lines\", \"text\": \"0.163\", \"type\": \"scatter\", \"x\": [1, 2, null], \"y\": [5, 3, null]}, {\"hoverinfo\": \"text\", \"line\": {\"color\": \"cornflowerblue\", \"width\": 0.15970796467811788}, \"mode\": \"lines\", \"text\": \"0.16\", \"type\": \"scatter\", \"x\": [1, 2, null], \"y\": [5, 4, null]}, {\"hoverinfo\": \"text\", \"line\": {\"color\": \"cornflowerblue\", \"width\": 0.15814453825063451}, \"mode\": \"lines\", \"text\": \"0.158\", \"type\": \"scatter\", \"x\": [1, 2, null], \"y\": [5, 5, null]}, {\"hoverinfo\": \"text\", \"line\": {\"color\": \"cornflowerblue\", \"width\": 0.14703658926653718}, \"mode\": \"lines\", \"text\": \"0.147\", \"type\": \"scatter\", \"x\": [1, 2, null], \"y\": [5, 6, null]}, {\"hoverinfo\": \"text\", \"line\": {\"color\": \"cornflowerblue\", \"width\": 0.14824066896917076}, \"mode\": \"lines\", \"text\": \"0.148\", \"type\": \"scatter\", \"x\": [1, 2, null], \"y\": [5, 7, null]}, {\"hoverinfo\": \"text\", \"line\": {\"color\": \"cornflowerblue\", \"width\": 0.15153943421015664}, \"mode\": \"lines\", \"text\": \"0.152\", \"type\": \"scatter\", \"x\": [1, 2, null], \"y\": [5, 8, null]}, {\"hoverinfo\": \"text\", \"line\": {\"color\": \"cornflowerblue\", \"width\": 0.1553814071252303}, \"mode\": \"lines\", \"text\": \"0.155\", \"type\": \"scatter\", \"x\": [1, 2, null], \"y\": [6, 0, null]}, {\"hoverinfo\": \"text\", \"line\": {\"color\": \"cornflowerblue\", \"width\": 0.15769174582463213}, \"mode\": \"lines\", \"text\": \"0.158\", \"type\": \"scatter\", \"x\": [1, 2, null], \"y\": [6, 1, null]}, {\"hoverinfo\": \"text\", \"line\": {\"color\": \"cornflowerblue\", \"width\": 0.15760647666611433}, \"mode\": \"lines\", \"text\": \"0.158\", \"type\": \"scatter\", \"x\": [1, 2, null], \"y\": [6, 2, null]}, {\"hoverinfo\": \"text\", \"line\": {\"color\": \"cornflowerblue\", \"width\": 0.15835925712094073}, \"mode\": \"lines\", \"text\": \"0.158\", \"type\": \"scatter\", \"x\": [1, 2, null], \"y\": [6, 3, null]}, {\"hoverinfo\": \"text\", \"line\": {\"color\": \"cornflowerblue\", \"width\": 0.15358929543740102}, \"mode\": \"lines\", \"text\": \"0.154\", \"type\": \"scatter\", \"x\": [1, 2, null], \"y\": [6, 4, null]}, {\"hoverinfo\": \"text\", \"line\": {\"color\": \"cornflowerblue\", \"width\": 0.1552205281294143}, \"mode\": \"lines\", \"text\": \"0.155\", \"type\": \"scatter\", \"x\": [1, 2, null], \"y\": [6, 5, null]}, {\"hoverinfo\": \"text\", \"line\": {\"color\": \"cornflowerblue\", \"width\": 0.14842214012726784}, \"mode\": \"lines\", \"text\": \"0.148\", \"type\": \"scatter\", \"x\": [1, 2, null], \"y\": [6, 7, null]}, {\"hoverinfo\": \"text\", \"line\": {\"color\": \"cornflowerblue\", \"width\": 0.15383195305417405}, \"mode\": \"lines\", \"text\": \"0.154\", \"type\": \"scatter\", \"x\": [1, 2, null], \"y\": [6, 8, null]}, {\"hoverinfo\": \"text\", \"line\": {\"color\": \"cornflowerblue\", \"width\": 0.1544920316013285}, \"mode\": \"lines\", \"text\": \"0.154\", \"type\": \"scatter\", \"x\": [1, 2, null], \"y\": [7, 0, null]}, {\"hoverinfo\": \"text\", \"line\": {\"color\": \"cornflowerblue\", \"width\": 0.1564502729611067}, \"mode\": \"lines\", \"text\": \"0.156\", \"type\": \"scatter\", \"x\": [1, 2, null], \"y\": [7, 1, null]}, {\"hoverinfo\": \"text\", \"line\": {\"color\": \"cornflowerblue\", \"width\": 0.1568510275479289}, \"mode\": \"lines\", \"text\": \"0.157\", \"type\": \"scatter\", \"x\": [1, 2, null], \"y\": [7, 2, null]}, {\"hoverinfo\": \"text\", \"line\": {\"color\": \"cornflowerblue\", \"width\": 0.15610231125487764}, \"mode\": \"lines\", \"text\": \"0.156\", \"type\": \"scatter\", \"x\": [1, 2, null], \"y\": [7, 3, null]}, {\"hoverinfo\": \"text\", \"line\": {\"color\": \"cornflowerblue\", \"width\": 0.15761596763260502}, \"mode\": \"lines\", \"text\": \"0.158\", \"type\": \"scatter\", \"x\": [1, 2, null], \"y\": [7, 4, null]}, {\"hoverinfo\": \"text\", \"line\": {\"color\": \"cornflowerblue\", \"width\": 0.15736853645784948}, \"mode\": \"lines\", \"text\": \"0.157\", \"type\": \"scatter\", \"x\": [1, 2, null], \"y\": [7, 5, null]}, {\"hoverinfo\": \"text\", \"line\": {\"color\": \"cornflowerblue\", \"width\": 0.14885858355998713}, \"mode\": \"lines\", \"text\": \"0.149\", \"type\": \"scatter\", \"x\": [1, 2, null], \"y\": [7, 7, null]}, {\"hoverinfo\": \"text\", \"line\": {\"color\": \"cornflowerblue\", \"width\": 0.15165331942835972}, \"mode\": \"lines\", \"text\": \"0.152\", \"type\": \"scatter\", \"x\": [1, 2, null], \"y\": [7, 8, null]}, {\"hoverinfo\": \"text\", \"line\": {\"color\": \"cornflowerblue\", \"width\": 0.1914726032138397}, \"mode\": \"lines\", \"text\": \"0.191\", \"type\": \"scatter\", \"x\": [2, 3, null], \"y\": [0, 0, null]}, {\"hoverinfo\": \"text\", \"line\": {\"color\": \"cornflowerblue\", \"width\": 0.16619614431824145}, \"mode\": \"lines\", \"text\": \"0.166\", \"type\": \"scatter\", \"x\": [2, 3, null], \"y\": [0, 1, null]}, {\"hoverinfo\": \"text\", \"line\": {\"color\": \"cornflowerblue\", \"width\": 0.2002101459470515}, \"mode\": \"lines\", \"text\": \"0.2\", \"type\": \"scatter\", \"x\": [2, 3, null], \"y\": [0, 2, null]}, {\"hoverinfo\": \"text\", \"line\": {\"color\": \"cornflowerblue\", \"width\": 0.16914852332724473}, \"mode\": \"lines\", \"text\": \"0.169\", \"type\": \"scatter\", \"x\": [2, 3, null], \"y\": [0, 3, null]}, {\"hoverinfo\": \"text\", \"line\": {\"color\": \"cornflowerblue\", \"width\": 0.20028297480234047}, \"mode\": \"lines\", \"text\": \"0.2\", \"type\": \"scatter\", \"x\": [2, 3, null], \"y\": [0, 4, null]}, {\"hoverinfo\": \"text\", \"line\": {\"color\": \"cornflowerblue\", \"width\": 0.5433169460402412}, \"mode\": \"lines\", \"text\": \"0.543\", \"type\": \"scatter\", \"x\": [2, 3, null], \"y\": [0, 5, null]}, {\"hoverinfo\": \"text\", \"line\": {\"color\": \"cornflowerblue\", \"width\": 0.15414820036783114}, \"mode\": \"lines\", \"text\": \"0.154\", \"type\": \"scatter\", \"x\": [2, 3, null], \"y\": [0, 6, null]}, {\"hoverinfo\": \"text\", \"line\": {\"color\": \"cornflowerblue\", \"width\": 0.2689298590997119}, \"mode\": \"lines\", \"text\": \"0.269\", \"type\": \"scatter\", \"x\": [2, 3, null], \"y\": [1, 0, null]}, {\"hoverinfo\": \"text\", \"line\": {\"color\": \"cornflowerblue\", \"width\": 0.16738261463650492}, \"mode\": \"lines\", \"text\": \"0.167\", \"type\": \"scatter\", \"x\": [2, 3, null], \"y\": [1, 1, null]}, {\"hoverinfo\": \"text\", \"line\": {\"color\": \"cornflowerblue\", \"width\": 0.1943469594510123}, \"mode\": \"lines\", \"text\": \"0.194\", \"type\": \"scatter\", \"x\": [2, 3, null], \"y\": [1, 2, null]}, {\"hoverinfo\": \"text\", \"line\": {\"color\": \"cornflowerblue\", \"width\": 0.17324077410764233}, \"mode\": \"lines\", \"text\": \"0.173\", \"type\": \"scatter\", \"x\": [2, 3, null], \"y\": [1, 3, null]}, {\"hoverinfo\": \"text\", \"line\": {\"color\": \"cornflowerblue\", \"width\": 0.26238746984658673}, \"mode\": \"lines\", \"text\": \"0.262\", \"type\": \"scatter\", \"x\": [2, 3, null], \"y\": [1, 4, null]}, {\"hoverinfo\": \"text\", \"line\": {\"color\": \"cornflowerblue\", \"width\": 0.2064182213959675}, \"mode\": \"lines\", \"text\": \"0.206\", \"type\": \"scatter\", \"x\": [2, 3, null], \"y\": [1, 5, null]}, {\"hoverinfo\": \"text\", \"line\": {\"color\": \"cornflowerblue\", \"width\": 0.15448616764846484}, \"mode\": \"lines\", \"text\": \"0.154\", \"type\": \"scatter\", \"x\": [2, 3, null], \"y\": [1, 6, null]}, {\"hoverinfo\": \"text\", \"line\": {\"color\": \"cornflowerblue\", \"width\": 0.165076431090131}, \"mode\": \"lines\", \"text\": \"0.165\", \"type\": \"scatter\", \"x\": [2, 3, null], \"y\": [2, 0, null]}, {\"hoverinfo\": \"text\", \"line\": {\"color\": \"cornflowerblue\", \"width\": 0.16513298901305384}, \"mode\": \"lines\", \"text\": \"0.165\", \"type\": \"scatter\", \"x\": [2, 3, null], \"y\": [2, 1, null]}, {\"hoverinfo\": \"text\", \"line\": {\"color\": \"cornflowerblue\", \"width\": 0.18092824745307778}, \"mode\": \"lines\", \"text\": \"0.181\", \"type\": \"scatter\", \"x\": [2, 3, null], \"y\": [2, 2, null]}, {\"hoverinfo\": \"text\", \"line\": {\"color\": \"cornflowerblue\", \"width\": 0.2014635800094332}, \"mode\": \"lines\", \"text\": \"0.201\", \"type\": \"scatter\", \"x\": [2, 3, null], \"y\": [2, 3, null]}, {\"hoverinfo\": \"text\", \"line\": {\"color\": \"cornflowerblue\", \"width\": 0.16973518336332996}, \"mode\": \"lines\", \"text\": \"0.17\", \"type\": \"scatter\", \"x\": [2, 3, null], \"y\": [2, 4, null]}, {\"hoverinfo\": \"text\", \"line\": {\"color\": \"cornflowerblue\", \"width\": 0.17029799254858444}, \"mode\": \"lines\", \"text\": \"0.17\", \"type\": \"scatter\", \"x\": [2, 3, null], \"y\": [2, 5, null]}, {\"hoverinfo\": \"text\", \"line\": {\"color\": \"cornflowerblue\", \"width\": 0.1537776058024763}, \"mode\": \"lines\", \"text\": \"0.154\", \"type\": \"scatter\", \"x\": [2, 3, null], \"y\": [2, 6, null]}, {\"hoverinfo\": \"text\", \"line\": {\"color\": \"cornflowerblue\", \"width\": 0.19015161393608754}, \"mode\": \"lines\", \"text\": \"0.19\", \"type\": \"scatter\", \"x\": [2, 3, null], \"y\": [3, 0, null]}, {\"hoverinfo\": \"text\", \"line\": {\"color\": \"cornflowerblue\", \"width\": 0.17134566175687646}, \"mode\": \"lines\", \"text\": \"0.171\", \"type\": \"scatter\", \"x\": [2, 3, null], \"y\": [3, 1, null]}, {\"hoverinfo\": \"text\", \"line\": {\"color\": \"cornflowerblue\", \"width\": 0.24202096997121456}, \"mode\": \"lines\", \"text\": \"0.242\", \"type\": \"scatter\", \"x\": [2, 3, null], \"y\": [3, 2, null]}, {\"hoverinfo\": \"text\", \"line\": {\"color\": \"cornflowerblue\", \"width\": 0.17587552409667384}, \"mode\": \"lines\", \"text\": \"0.176\", \"type\": \"scatter\", \"x\": [2, 3, null], \"y\": [3, 3, null]}, {\"hoverinfo\": \"text\", \"line\": {\"color\": \"cornflowerblue\", \"width\": 0.23043428267850027}, \"mode\": \"lines\", \"text\": \"0.23\", \"type\": \"scatter\", \"x\": [2, 3, null], \"y\": [3, 4, null]}, {\"hoverinfo\": \"text\", \"line\": {\"color\": \"cornflowerblue\", \"width\": 0.19951069542071465}, \"mode\": \"lines\", \"text\": \"0.2\", \"type\": \"scatter\", \"x\": [2, 3, null], \"y\": [3, 5, null]}, {\"hoverinfo\": \"text\", \"line\": {\"color\": \"cornflowerblue\", \"width\": 0.1580644205219875}, \"mode\": \"lines\", \"text\": \"0.158\", \"type\": \"scatter\", \"x\": [2, 3, null], \"y\": [3, 6, null]}, {\"hoverinfo\": \"text\", \"line\": {\"color\": \"cornflowerblue\", \"width\": 0.17746303665718552}, \"mode\": \"lines\", \"text\": \"0.177\", \"type\": \"scatter\", \"x\": [2, 3, null], \"y\": [4, 0, null]}, {\"hoverinfo\": \"text\", \"line\": {\"color\": \"cornflowerblue\", \"width\": 0.16885612302626685}, \"mode\": \"lines\", \"text\": \"0.169\", \"type\": \"scatter\", \"x\": [2, 3, null], \"y\": [4, 1, null]}, {\"hoverinfo\": \"text\", \"line\": {\"color\": \"cornflowerblue\", \"width\": 0.17653166665167289}, \"mode\": \"lines\", \"text\": \"0.177\", \"type\": \"scatter\", \"x\": [2, 3, null], \"y\": [4, 2, null]}, {\"hoverinfo\": \"text\", \"line\": {\"color\": \"cornflowerblue\", \"width\": 0.1904358340664908}, \"mode\": \"lines\", \"text\": \"0.19\", \"type\": \"scatter\", \"x\": [2, 3, null], \"y\": [4, 3, null]}, {\"hoverinfo\": \"text\", \"line\": {\"color\": \"cornflowerblue\", \"width\": 0.1780256136024166}, \"mode\": \"lines\", \"text\": \"0.178\", \"type\": \"scatter\", \"x\": [2, 3, null], \"y\": [4, 4, null]}, {\"hoverinfo\": \"text\", \"line\": {\"color\": \"cornflowerblue\", \"width\": 0.1746431807754939}, \"mode\": \"lines\", \"text\": \"0.175\", \"type\": \"scatter\", \"x\": [2, 3, null], \"y\": [4, 5, null]}, {\"hoverinfo\": \"text\", \"line\": {\"color\": \"cornflowerblue\", \"width\": 0.15451090347543667}, \"mode\": \"lines\", \"text\": \"0.155\", \"type\": \"scatter\", \"x\": [2, 3, null], \"y\": [4, 6, null]}, {\"hoverinfo\": \"text\", \"line\": {\"color\": \"cornflowerblue\", \"width\": 0.16698160094917866}, \"mode\": \"lines\", \"text\": \"0.167\", \"type\": \"scatter\", \"x\": [2, 3, null], \"y\": [5, 0, null]}, {\"hoverinfo\": \"text\", \"line\": {\"color\": \"cornflowerblue\", \"width\": 0.16221045138337223}, \"mode\": \"lines\", \"text\": \"0.162\", \"type\": \"scatter\", \"x\": [2, 3, null], \"y\": [5, 1, null]}, {\"hoverinfo\": \"text\", \"line\": {\"color\": \"cornflowerblue\", \"width\": 0.17499000880781326}, \"mode\": \"lines\", \"text\": \"0.175\", \"type\": \"scatter\", \"x\": [2, 3, null], \"y\": [5, 2, null]}, {\"hoverinfo\": \"text\", \"line\": {\"color\": \"cornflowerblue\", \"width\": 0.168123236099571}, \"mode\": \"lines\", \"text\": \"0.168\", \"type\": \"scatter\", \"x\": [2, 3, null], \"y\": [5, 3, null]}, {\"hoverinfo\": \"text\", \"line\": {\"color\": \"cornflowerblue\", \"width\": 0.17628696313414202}, \"mode\": \"lines\", \"text\": \"0.176\", \"type\": \"scatter\", \"x\": [2, 3, null], \"y\": [5, 4, null]}, {\"hoverinfo\": \"text\", \"line\": {\"color\": \"cornflowerblue\", \"width\": 0.16565395458597237}, \"mode\": \"lines\", \"text\": \"0.166\", \"type\": \"scatter\", \"x\": [2, 3, null], \"y\": [5, 5, null]}, {\"hoverinfo\": \"text\", \"line\": {\"color\": \"cornflowerblue\", \"width\": 0.16108016509113313}, \"mode\": \"lines\", \"text\": \"0.161\", \"type\": \"scatter\", \"x\": [2, 3, null], \"y\": [5, 6, null]}, {\"hoverinfo\": \"text\", \"line\": {\"color\": \"cornflowerblue\", \"width\": 0.1475838682170644}, \"mode\": \"lines\", \"text\": \"0.148\", \"type\": \"scatter\", \"x\": [2, 3, null], \"y\": [6, 2, null]}, {\"hoverinfo\": \"text\", \"line\": {\"color\": \"cornflowerblue\", \"width\": 0.14744667975075834}, \"mode\": \"lines\", \"text\": \"0.147\", \"type\": \"scatter\", \"x\": [2, 3, null], \"y\": [6, 3, null]}, {\"hoverinfo\": \"text\", \"line\": {\"color\": \"cornflowerblue\", \"width\": 0.14728626956910226}, \"mode\": \"lines\", \"text\": \"0.147\", \"type\": \"scatter\", \"x\": [2, 3, null], \"y\": [6, 4, null]}, {\"hoverinfo\": \"text\", \"line\": {\"color\": \"cornflowerblue\", \"width\": 0.14842303033363}, \"mode\": \"lines\", \"text\": \"0.148\", \"type\": \"scatter\", \"x\": [2, 3, null], \"y\": [6, 5, null]}, {\"hoverinfo\": \"text\", \"line\": {\"color\": \"cornflowerblue\", \"width\": 0.15373299472569402}, \"mode\": \"lines\", \"text\": \"0.154\", \"type\": \"scatter\", \"x\": [2, 3, null], \"y\": [7, 0, null]}, {\"hoverinfo\": \"text\", \"line\": {\"color\": \"cornflowerblue\", \"width\": 0.14880573588258755}, \"mode\": \"lines\", \"text\": \"0.149\", \"type\": \"scatter\", \"x\": [2, 3, null], \"y\": [7, 1, null]}, {\"hoverinfo\": \"text\", \"line\": {\"color\": \"cornflowerblue\", \"width\": 0.14954987043683415}, \"mode\": \"lines\", \"text\": \"0.15\", \"type\": \"scatter\", \"x\": [2, 3, null], \"y\": [7, 2, null]}, {\"hoverinfo\": \"text\", \"line\": {\"color\": \"cornflowerblue\", \"width\": 0.14921066508115352}, \"mode\": \"lines\", \"text\": \"0.149\", \"type\": \"scatter\", \"x\": [2, 3, null], \"y\": [7, 3, null]}, {\"hoverinfo\": \"text\", \"line\": {\"color\": \"cornflowerblue\", \"width\": 0.1477785897221775}, \"mode\": \"lines\", \"text\": \"0.148\", \"type\": \"scatter\", \"x\": [2, 3, null], \"y\": [7, 4, null]}, {\"hoverinfo\": \"text\", \"line\": {\"color\": \"cornflowerblue\", \"width\": 0.14717460014167352}, \"mode\": \"lines\", \"text\": \"0.147\", \"type\": \"scatter\", \"x\": [2, 3, null], \"y\": [7, 5, null]}, {\"hoverinfo\": \"text\", \"line\": {\"color\": \"cornflowerblue\", \"width\": 0.15359483072739832}, \"mode\": \"lines\", \"text\": \"0.154\", \"type\": \"scatter\", \"x\": [2, 3, null], \"y\": [8, 0, null]}, {\"hoverinfo\": \"text\", \"line\": {\"color\": \"cornflowerblue\", \"width\": 0.15445021697873268}, \"mode\": \"lines\", \"text\": \"0.154\", \"type\": \"scatter\", \"x\": [2, 3, null], \"y\": [8, 1, null]}, {\"hoverinfo\": \"text\", \"line\": {\"color\": \"cornflowerblue\", \"width\": 0.1556070836675547}, \"mode\": \"lines\", \"text\": \"0.156\", \"type\": \"scatter\", \"x\": [2, 3, null], \"y\": [8, 2, null]}, {\"hoverinfo\": \"text\", \"line\": {\"color\": \"cornflowerblue\", \"width\": 0.15539110239962134}, \"mode\": \"lines\", \"text\": \"0.155\", \"type\": \"scatter\", \"x\": [2, 3, null], \"y\": [8, 3, null]}, {\"hoverinfo\": \"text\", \"line\": {\"color\": \"cornflowerblue\", \"width\": 0.15604654918684327}, \"mode\": \"lines\", \"text\": \"0.156\", \"type\": \"scatter\", \"x\": [2, 3, null], \"y\": [8, 4, null]}, {\"hoverinfo\": \"text\", \"line\": {\"color\": \"cornflowerblue\", \"width\": 0.1565533184674209}, \"mode\": \"lines\", \"text\": \"0.157\", \"type\": \"scatter\", \"x\": [2, 3, null], \"y\": [8, 5, null]}, {\"hoverinfo\": \"text\", \"line\": {\"color\": \"cornflowerblue\", \"width\": 0.15463907004346406}, \"mode\": \"lines\", \"text\": \"0.155\", \"type\": \"scatter\", \"x\": [2, 3, null], \"y\": [8, 6, null]}, {\"hoverinfo\": \"text\", \"line\": {\"color\": \"cornflowerblue\", \"width\": 0.19248726731623897}, \"mode\": \"lines\", \"text\": \"0.192\", \"type\": \"scatter\", \"x\": [3, 4, null], \"y\": [0, 0, null]}, {\"hoverinfo\": \"text\", \"line\": {\"color\": \"cornflowerblue\", \"width\": 0.1824714007139413}, \"mode\": \"lines\", \"text\": \"0.182\", \"type\": \"scatter\", \"x\": [3, 4, null], \"y\": [0, 1, null]}, {\"hoverinfo\": \"text\", \"line\": {\"color\": \"cornflowerblue\", \"width\": 0.19083380955065793}, \"mode\": \"lines\", \"text\": \"0.191\", \"type\": \"scatter\", \"x\": [3, 4, null], \"y\": [0, 2, null]}, {\"hoverinfo\": \"text\", \"line\": {\"color\": \"cornflowerblue\", \"width\": 0.16483526304906268}, \"mode\": \"lines\", \"text\": \"0.165\", \"type\": \"scatter\", \"x\": [3, 4, null], \"y\": [0, 3, null]}, {\"hoverinfo\": \"text\", \"line\": {\"color\": \"cornflowerblue\", \"width\": 0.34876361167254105}, \"mode\": \"lines\", \"text\": \"0.349\", \"type\": \"scatter\", \"x\": [3, 4, null], \"y\": [0, 4, null]}, {\"hoverinfo\": \"text\", \"line\": {\"color\": \"cornflowerblue\", \"width\": 0.16248072226463173}, \"mode\": \"lines\", \"text\": \"0.162\", \"type\": \"scatter\", \"x\": [3, 4, null], \"y\": [0, 5, null]}, {\"hoverinfo\": \"text\", \"line\": {\"color\": \"cornflowerblue\", \"width\": 0.14736192074181842}, \"mode\": \"lines\", \"text\": \"0.147\", \"type\": \"scatter\", \"x\": [3, 4, null], \"y\": [0, 6, null]}, {\"hoverinfo\": \"text\", \"line\": {\"color\": \"cornflowerblue\", \"width\": 0.16619070662360036}, \"mode\": \"lines\", \"text\": \"0.166\", \"type\": \"scatter\", \"x\": [3, 4, null], \"y\": [1, 0, null]}, {\"hoverinfo\": \"text\", \"line\": {\"color\": \"cornflowerblue\", \"width\": 0.17153548540635588}, \"mode\": \"lines\", \"text\": \"0.172\", \"type\": \"scatter\", \"x\": [3, 4, null], \"y\": [1, 1, null]}, {\"hoverinfo\": \"text\", \"line\": {\"color\": \"cornflowerblue\", \"width\": 0.1706441871466721}, \"mode\": \"lines\", \"text\": \"0.171\", \"type\": \"scatter\", \"x\": [3, 4, null], \"y\": [1, 2, null]}, {\"hoverinfo\": \"text\", \"line\": {\"color\": \"cornflowerblue\", \"width\": 0.16400959941342624}, \"mode\": \"lines\", \"text\": \"0.164\", \"type\": \"scatter\", \"x\": [3, 4, null], \"y\": [1, 3, null]}, {\"hoverinfo\": \"text\", \"line\": {\"color\": \"cornflowerblue\", \"width\": 0.16561764363269854}, \"mode\": \"lines\", \"text\": \"0.166\", \"type\": \"scatter\", \"x\": [3, 4, null], \"y\": [1, 4, null]}, {\"hoverinfo\": \"text\", \"line\": {\"color\": \"cornflowerblue\", \"width\": 0.16217172130684715}, \"mode\": \"lines\", \"text\": \"0.162\", \"type\": \"scatter\", \"x\": [3, 4, null], \"y\": [1, 5, null]}, {\"hoverinfo\": \"text\", \"line\": {\"color\": \"cornflowerblue\", \"width\": 0.14934356868724302}, \"mode\": \"lines\", \"text\": \"0.149\", \"type\": \"scatter\", \"x\": [3, 4, null], \"y\": [1, 6, null]}, {\"hoverinfo\": \"text\", \"line\": {\"color\": \"cornflowerblue\", \"width\": 0.1994823916779452}, \"mode\": \"lines\", \"text\": \"0.199\", \"type\": \"scatter\", \"x\": [3, 4, null], \"y\": [2, 0, null]}, {\"hoverinfo\": \"text\", \"line\": {\"color\": \"cornflowerblue\", \"width\": 0.1998376883505299}, \"mode\": \"lines\", \"text\": \"0.2\", \"type\": \"scatter\", \"x\": [3, 4, null], \"y\": [2, 1, null]}, {\"hoverinfo\": \"text\", \"line\": {\"color\": \"cornflowerblue\", \"width\": 0.2575266597430633}, \"mode\": \"lines\", \"text\": \"0.258\", \"type\": \"scatter\", \"x\": [3, 4, null], \"y\": [2, 2, null]}, {\"hoverinfo\": \"text\", \"line\": {\"color\": \"cornflowerblue\", \"width\": 0.17482318110133616}, \"mode\": \"lines\", \"text\": \"0.175\", \"type\": \"scatter\", \"x\": [3, 4, null], \"y\": [2, 3, null]}, {\"hoverinfo\": \"text\", \"line\": {\"color\": \"cornflowerblue\", \"width\": 0.18740361212875967}, \"mode\": \"lines\", \"text\": \"0.187\", \"type\": \"scatter\", \"x\": [3, 4, null], \"y\": [2, 4, null]}, {\"hoverinfo\": \"text\", \"line\": {\"color\": \"cornflowerblue\", \"width\": 0.17046158722587565}, \"mode\": \"lines\", \"text\": \"0.17\", \"type\": \"scatter\", \"x\": [3, 4, null], \"y\": [2, 5, null]}, {\"hoverinfo\": \"text\", \"line\": {\"color\": \"cornflowerblue\", \"width\": 0.1508336988970136}, \"mode\": \"lines\", \"text\": \"0.151\", \"type\": \"scatter\", \"x\": [3, 4, null], \"y\": [2, 6, null]}, {\"hoverinfo\": \"text\", \"line\": {\"color\": \"cornflowerblue\", \"width\": 0.16848409115052898}, \"mode\": \"lines\", \"text\": \"0.168\", \"type\": \"scatter\", \"x\": [3, 4, null], \"y\": [3, 0, null]}, {\"hoverinfo\": \"text\", \"line\": {\"color\": \"cornflowerblue\", \"width\": 0.1750534757126784}, \"mode\": \"lines\", \"text\": \"0.175\", \"type\": \"scatter\", \"x\": [3, 4, null], \"y\": [3, 1, null]}, {\"hoverinfo\": \"text\", \"line\": {\"color\": \"cornflowerblue\", \"width\": 0.1838260127827928}, \"mode\": \"lines\", \"text\": \"0.184\", \"type\": \"scatter\", \"x\": [3, 4, null], \"y\": [3, 2, null]}, {\"hoverinfo\": \"text\", \"line\": {\"color\": \"cornflowerblue\", \"width\": 0.21574969766021124}, \"mode\": \"lines\", \"text\": \"0.216\", \"type\": \"scatter\", \"x\": [3, 4, null], \"y\": [3, 3, null]}, {\"hoverinfo\": \"text\", \"line\": {\"color\": \"cornflowerblue\", \"width\": 0.16509218300489045}, \"mode\": \"lines\", \"text\": \"0.165\", \"type\": \"scatter\", \"x\": [3, 4, null], \"y\": [3, 4, null]}, {\"hoverinfo\": \"text\", \"line\": {\"color\": \"cornflowerblue\", \"width\": 0.16235513887161154}, \"mode\": \"lines\", \"text\": \"0.162\", \"type\": \"scatter\", \"x\": [3, 4, null], \"y\": [3, 5, null]}, {\"hoverinfo\": \"text\", \"line\": {\"color\": \"cornflowerblue\", \"width\": 0.1496100861710616}, \"mode\": \"lines\", \"text\": \"0.15\", \"type\": \"scatter\", \"x\": [3, 4, null], \"y\": [3, 6, null]}, {\"hoverinfo\": \"text\", \"line\": {\"color\": \"cornflowerblue\", \"width\": 0.20125545490322191}, \"mode\": \"lines\", \"text\": \"0.201\", \"type\": \"scatter\", \"x\": [3, 4, null], \"y\": [4, 0, null]}, {\"hoverinfo\": \"text\", \"line\": {\"color\": \"cornflowerblue\", \"width\": 0.3690753180617114}, \"mode\": \"lines\", \"text\": \"0.369\", \"type\": \"scatter\", \"x\": [3, 4, null], \"y\": [4, 1, null]}, {\"hoverinfo\": \"text\", \"line\": {\"color\": \"cornflowerblue\", \"width\": 0.20706607944985897}, \"mode\": \"lines\", \"text\": \"0.207\", \"type\": \"scatter\", \"x\": [3, 4, null], \"y\": [4, 2, null]}, {\"hoverinfo\": \"text\", \"line\": {\"color\": \"cornflowerblue\", \"width\": 0.17055775419874292}, \"mode\": \"lines\", \"text\": \"0.171\", \"type\": \"scatter\", \"x\": [3, 4, null], \"y\": [4, 3, null]}, {\"hoverinfo\": \"text\", \"line\": {\"color\": \"cornflowerblue\", \"width\": 0.18475395449664148}, \"mode\": \"lines\", \"text\": \"0.185\", \"type\": \"scatter\", \"x\": [3, 4, null], \"y\": [4, 4, null]}, {\"hoverinfo\": \"text\", \"line\": {\"color\": \"cornflowerblue\", \"width\": 0.16277178821490734}, \"mode\": \"lines\", \"text\": \"0.163\", \"type\": \"scatter\", \"x\": [3, 4, null], \"y\": [4, 5, null]}, {\"hoverinfo\": \"text\", \"line\": {\"color\": \"cornflowerblue\", \"width\": 0.14811502866437679}, \"mode\": \"lines\", \"text\": \"0.148\", \"type\": \"scatter\", \"x\": [3, 4, null], \"y\": [4, 6, null]}, {\"hoverinfo\": \"text\", \"line\": {\"color\": \"cornflowerblue\", \"width\": 0.5347833889112973}, \"mode\": \"lines\", \"text\": \"0.535\", \"type\": \"scatter\", \"x\": [3, 4, null], \"y\": [5, 0, null]}, {\"hoverinfo\": \"text\", \"line\": {\"color\": \"cornflowerblue\", \"width\": 0.1964024383034646}, \"mode\": \"lines\", \"text\": \"0.196\", \"type\": \"scatter\", \"x\": [3, 4, null], \"y\": [5, 1, null]}, {\"hoverinfo\": \"text\", \"line\": {\"color\": \"cornflowerblue\", \"width\": 0.20439726377476194}, \"mode\": \"lines\", \"text\": \"0.204\", \"type\": \"scatter\", \"x\": [3, 4, null], \"y\": [5, 2, null]}, {\"hoverinfo\": \"text\", \"line\": {\"color\": \"cornflowerblue\", \"width\": 0.1687671446529838}, \"mode\": \"lines\", \"text\": \"0.169\", \"type\": \"scatter\", \"x\": [3, 4, null], \"y\": [5, 3, null]}, {\"hoverinfo\": \"text\", \"line\": {\"color\": \"cornflowerblue\", \"width\": 0.18615330129337623}, \"mode\": \"lines\", \"text\": \"0.186\", \"type\": \"scatter\", \"x\": [3, 4, null], \"y\": [5, 4, null]}, {\"hoverinfo\": \"text\", \"line\": {\"color\": \"cornflowerblue\", \"width\": 0.15952506334712394}, \"mode\": \"lines\", \"text\": \"0.16\", \"type\": \"scatter\", \"x\": [3, 4, null], \"y\": [5, 5, null]}, {\"hoverinfo\": \"text\", \"line\": {\"color\": \"cornflowerblue\", \"width\": 0.1485932015041368}, \"mode\": \"lines\", \"text\": \"0.149\", \"type\": \"scatter\", \"x\": [3, 4, null], \"y\": [5, 6, null]}, {\"hoverinfo\": \"text\", \"line\": {\"color\": \"cornflowerblue\", \"width\": 0.15426028040141618}, \"mode\": \"lines\", \"text\": \"0.154\", \"type\": \"scatter\", \"x\": [3, 4, null], \"y\": [6, 0, null]}, {\"hoverinfo\": \"text\", \"line\": {\"color\": \"cornflowerblue\", \"width\": 0.15628803775152206}, \"mode\": \"lines\", \"text\": \"0.156\", \"type\": \"scatter\", \"x\": [3, 4, null], \"y\": [6, 1, null]}, {\"hoverinfo\": \"text\", \"line\": {\"color\": \"cornflowerblue\", \"width\": 0.15700940787591075}, \"mode\": \"lines\", \"text\": \"0.157\", \"type\": \"scatter\", \"x\": [3, 4, null], \"y\": [6, 2, null]}, {\"hoverinfo\": \"text\", \"line\": {\"color\": \"cornflowerblue\", \"width\": 0.15374108011304802}, \"mode\": \"lines\", \"text\": \"0.154\", \"type\": \"scatter\", \"x\": [3, 4, null], \"y\": [6, 3, null]}, {\"hoverinfo\": \"text\", \"line\": {\"color\": \"cornflowerblue\", \"width\": 0.15289972241373775}, \"mode\": \"lines\", \"text\": \"0.153\", \"type\": \"scatter\", \"x\": [3, 4, null], \"y\": [6, 4, null]}, {\"hoverinfo\": \"text\", \"line\": {\"color\": \"cornflowerblue\", \"width\": 0.15422437534320488}, \"mode\": \"lines\", \"text\": \"0.154\", \"type\": \"scatter\", \"x\": [3, 4, null], \"y\": [6, 5, null]}, {\"hoverinfo\": \"text\", \"line\": {\"color\": \"cornflowerblue\", \"width\": 0.15059857759460343}, \"mode\": \"lines\", \"text\": \"0.151\", \"type\": \"scatter\", \"x\": [3, 4, null], \"y\": [6, 6, null]}, {\"hoverinfo\": \"text\", \"line\": {\"color\": \"cornflowerblue\", \"width\": 0.19952343034568812}, \"mode\": \"lines\", \"text\": \"0.2\", \"type\": \"scatter\", \"x\": [4, 5, null], \"y\": [0, 0, null]}, {\"hoverinfo\": \"text\", \"line\": {\"color\": \"cornflowerblue\", \"width\": 0.1628198210317116}, \"mode\": \"lines\", \"text\": \"0.163\", \"type\": \"scatter\", \"x\": [4, 5, null], \"y\": [0, 1, null]}, {\"hoverinfo\": \"text\", \"line\": {\"color\": \"cornflowerblue\", \"width\": 0.19202378913699036}, \"mode\": \"lines\", \"text\": \"0.192\", \"type\": \"scatter\", \"x\": [4, 5, null], \"y\": [0, 2, null]}, {\"hoverinfo\": \"text\", \"line\": {\"color\": \"cornflowerblue\", \"width\": 0.5249714739410948}, \"mode\": \"lines\", \"text\": \"0.525\", \"type\": \"scatter\", \"x\": [4, 5, null], \"y\": [0, 3, null]}, {\"hoverinfo\": \"text\", \"line\": {\"color\": \"cornflowerblue\", \"width\": 0.1700588445440443}, \"mode\": \"lines\", \"text\": \"0.17\", \"type\": \"scatter\", \"x\": [4, 5, null], \"y\": [0, 4, null]}, {\"hoverinfo\": \"text\", \"line\": {\"color\": \"cornflowerblue\", \"width\": 0.18221632123519274}, \"mode\": \"lines\", \"text\": \"0.182\", \"type\": \"scatter\", \"x\": [4, 5, null], \"y\": [0, 5, null]}, {\"hoverinfo\": \"text\", \"line\": {\"color\": \"cornflowerblue\", \"width\": 0.15632207348727395}, \"mode\": \"lines\", \"text\": \"0.156\", \"type\": \"scatter\", \"x\": [4, 5, null], \"y\": [0, 6, null]}, {\"hoverinfo\": \"text\", \"line\": {\"color\": \"cornflowerblue\", \"width\": 0.15579488172038924}, \"mode\": \"lines\", \"text\": \"0.156\", \"type\": \"scatter\", \"x\": [4, 5, null], \"y\": [0, 7, null]}, {\"hoverinfo\": \"text\", \"line\": {\"color\": \"cornflowerblue\", \"width\": 0.2765600140263166}, \"mode\": \"lines\", \"text\": \"0.277\", \"type\": \"scatter\", \"x\": [4, 5, null], \"y\": [1, 0, null]}, {\"hoverinfo\": \"text\", \"line\": {\"color\": \"cornflowerblue\", \"width\": 0.16366133715578224}, \"mode\": \"lines\", \"text\": \"0.164\", \"type\": \"scatter\", \"x\": [4, 5, null], \"y\": [1, 1, null]}, {\"hoverinfo\": \"text\", \"line\": {\"color\": \"cornflowerblue\", \"width\": 0.2009584746881429}, \"mode\": \"lines\", \"text\": \"0.201\", \"type\": \"scatter\", \"x\": [4, 5, null], \"y\": [1, 2, null]}, {\"hoverinfo\": \"text\", \"line\": {\"color\": \"cornflowerblue\", \"width\": 0.1971867769914879}, \"mode\": \"lines\", \"text\": \"0.197\", \"type\": \"scatter\", \"x\": [4, 5, null], \"y\": [1, 3, null]}, {\"hoverinfo\": \"text\", \"line\": {\"color\": \"cornflowerblue\", \"width\": 0.18554968013554674}, \"mode\": \"lines\", \"text\": \"0.186\", \"type\": \"scatter\", \"x\": [4, 5, null], \"y\": [1, 4, null]}, {\"hoverinfo\": \"text\", \"line\": {\"color\": \"cornflowerblue\", \"width\": 0.18178983002839033}, \"mode\": \"lines\", \"text\": \"0.182\", \"type\": \"scatter\", \"x\": [4, 5, null], \"y\": [1, 5, null]}, {\"hoverinfo\": \"text\", \"line\": {\"color\": \"cornflowerblue\", \"width\": 0.16047588966606058}, \"mode\": \"lines\", \"text\": \"0.16\", \"type\": \"scatter\", \"x\": [4, 5, null], \"y\": [1, 6, null]}, {\"hoverinfo\": \"text\", \"line\": {\"color\": \"cornflowerblue\", \"width\": 0.1573648469760227}, \"mode\": \"lines\", \"text\": \"0.157\", \"type\": \"scatter\", \"x\": [4, 5, null], \"y\": [1, 7, null]}, {\"hoverinfo\": \"text\", \"line\": {\"color\": \"cornflowerblue\", \"width\": 0.2038057670909148}, \"mode\": \"lines\", \"text\": \"0.204\", \"type\": \"scatter\", \"x\": [4, 5, null], \"y\": [2, 0, null]}, {\"hoverinfo\": \"text\", \"line\": {\"color\": \"cornflowerblue\", \"width\": 0.17441721082562592}, \"mode\": \"lines\", \"text\": \"0.174\", \"type\": \"scatter\", \"x\": [4, 5, null], \"y\": [2, 1, null]}, {\"hoverinfo\": \"text\", \"line\": {\"color\": \"cornflowerblue\", \"width\": 0.2544957831254315}, \"mode\": \"lines\", \"text\": \"0.254\", \"type\": \"scatter\", \"x\": [4, 5, null], \"y\": [2, 2, null]}, {\"hoverinfo\": \"text\", \"line\": {\"color\": \"cornflowerblue\", \"width\": 0.20254335017479666}, \"mode\": \"lines\", \"text\": \"0.203\", \"type\": \"scatter\", \"x\": [4, 5, null], \"y\": [2, 3, null]}, {\"hoverinfo\": \"text\", \"line\": {\"color\": \"cornflowerblue\", \"width\": 0.185027763743695}, \"mode\": \"lines\", \"text\": \"0.185\", \"type\": \"scatter\", \"x\": [4, 5, null], \"y\": [2, 4, null]}, {\"hoverinfo\": \"text\", \"line\": {\"color\": \"cornflowerblue\", \"width\": 0.19855947605826052}, \"mode\": \"lines\", \"text\": \"0.199\", \"type\": \"scatter\", \"x\": [4, 5, null], \"y\": [2, 5, null]}, {\"hoverinfo\": \"text\", \"line\": {\"color\": \"cornflowerblue\", \"width\": 0.15897296659010207}, \"mode\": \"lines\", \"text\": \"0.159\", \"type\": \"scatter\", \"x\": [4, 5, null], \"y\": [2, 6, null]}, {\"hoverinfo\": \"text\", \"line\": {\"color\": \"cornflowerblue\", \"width\": 0.15993945796678402}, \"mode\": \"lines\", \"text\": \"0.16\", \"type\": \"scatter\", \"x\": [4, 5, null], \"y\": [2, 7, null]}, {\"hoverinfo\": \"text\", \"line\": {\"color\": \"cornflowerblue\", \"width\": 0.17053330898691396}, \"mode\": \"lines\", \"text\": \"0.171\", \"type\": \"scatter\", \"x\": [4, 5, null], \"y\": [3, 0, null]}, {\"hoverinfo\": \"text\", \"line\": {\"color\": \"cornflowerblue\", \"width\": 0.1621052104262673}, \"mode\": \"lines\", \"text\": \"0.162\", \"type\": \"scatter\", \"x\": [4, 5, null], \"y\": [3, 1, null]}, {\"hoverinfo\": \"text\", \"line\": {\"color\": \"cornflowerblue\", \"width\": 0.17385400719203103}, \"mode\": \"lines\", \"text\": \"0.174\", \"type\": \"scatter\", \"x\": [4, 5, null], \"y\": [3, 2, null]}, {\"hoverinfo\": \"text\", \"line\": {\"color\": \"cornflowerblue\", \"width\": 0.16800828727348546}, \"mode\": \"lines\", \"text\": \"0.168\", \"type\": \"scatter\", \"x\": [4, 5, null], \"y\": [3, 3, null]}, {\"hoverinfo\": \"text\", \"line\": {\"color\": \"cornflowerblue\", \"width\": 0.16934797503220753}, \"mode\": \"lines\", \"text\": \"0.169\", \"type\": \"scatter\", \"x\": [4, 5, null], \"y\": [3, 4, null]}, {\"hoverinfo\": \"text\", \"line\": {\"color\": \"cornflowerblue\", \"width\": 0.2081192389974233}, \"mode\": \"lines\", \"text\": \"0.208\", \"type\": \"scatter\", \"x\": [4, 5, null], \"y\": [3, 5, null]}, {\"hoverinfo\": \"text\", \"line\": {\"color\": \"cornflowerblue\", \"width\": 0.15681982194440297}, \"mode\": \"lines\", \"text\": \"0.157\", \"type\": \"scatter\", \"x\": [4, 5, null], \"y\": [3, 6, null]}, {\"hoverinfo\": \"text\", \"line\": {\"color\": \"cornflowerblue\", \"width\": 0.15888395530138694}, \"mode\": \"lines\", \"text\": \"0.159\", \"type\": \"scatter\", \"x\": [4, 5, null], \"y\": [3, 7, null]}, {\"hoverinfo\": \"text\", \"line\": {\"color\": \"cornflowerblue\", \"width\": 0.25545027397881964}, \"mode\": \"lines\", \"text\": \"0.255\", \"type\": \"scatter\", \"x\": [4, 5, null], \"y\": [4, 0, null]}, {\"hoverinfo\": \"text\", \"line\": {\"color\": \"cornflowerblue\", \"width\": 0.16151421272142943}, \"mode\": \"lines\", \"text\": \"0.162\", \"type\": \"scatter\", \"x\": [4, 5, null], \"y\": [4, 1, null]}, {\"hoverinfo\": \"text\", \"line\": {\"color\": \"cornflowerblue\", \"width\": 0.18263447008695358}, \"mode\": \"lines\", \"text\": \"0.183\", \"type\": \"scatter\", \"x\": [4, 5, null], \"y\": [4, 2, null]}, {\"hoverinfo\": \"text\", \"line\": {\"color\": \"cornflowerblue\", \"width\": 0.18649536469134564}, \"mode\": \"lines\", \"text\": \"0.186\", \"type\": \"scatter\", \"x\": [4, 5, null], \"y\": [4, 3, null]}, {\"hoverinfo\": \"text\", \"line\": {\"color\": \"cornflowerblue\", \"width\": 0.16621634063072252}, \"mode\": \"lines\", \"text\": \"0.166\", \"type\": \"scatter\", \"x\": [4, 5, null], \"y\": [4, 4, null]}, {\"hoverinfo\": \"text\", \"line\": {\"color\": \"cornflowerblue\", \"width\": 0.17013506183549912}, \"mode\": \"lines\", \"text\": \"0.17\", \"type\": \"scatter\", \"x\": [4, 5, null], \"y\": [4, 5, null]}, {\"hoverinfo\": \"text\", \"line\": {\"color\": \"cornflowerblue\", \"width\": 0.15578547851007846}, \"mode\": \"lines\", \"text\": \"0.156\", \"type\": \"scatter\", \"x\": [4, 5, null], \"y\": [4, 6, null]}, {\"hoverinfo\": \"text\", \"line\": {\"color\": \"cornflowerblue\", \"width\": 0.16058724250415493}, \"mode\": \"lines\", \"text\": \"0.161\", \"type\": \"scatter\", \"x\": [4, 5, null], \"y\": [4, 7, null]}, {\"hoverinfo\": \"text\", \"line\": {\"color\": \"cornflowerblue\", \"width\": 0.16374988548882308}, \"mode\": \"lines\", \"text\": \"0.164\", \"type\": \"scatter\", \"x\": [4, 5, null], \"y\": [5, 0, null]}, {\"hoverinfo\": \"text\", \"line\": {\"color\": \"cornflowerblue\", \"width\": 0.16235543865595625}, \"mode\": \"lines\", \"text\": \"0.162\", \"type\": \"scatter\", \"x\": [4, 5, null], \"y\": [5, 1, null]}, {\"hoverinfo\": \"text\", \"line\": {\"color\": \"cornflowerblue\", \"width\": 0.16915435926726788}, \"mode\": \"lines\", \"text\": \"0.169\", \"type\": \"scatter\", \"x\": [4, 5, null], \"y\": [5, 2, null]}, {\"hoverinfo\": \"text\", \"line\": {\"color\": \"cornflowerblue\", \"width\": 0.15875181487742016}, \"mode\": \"lines\", \"text\": \"0.159\", \"type\": \"scatter\", \"x\": [4, 5, null], \"y\": [5, 3, null]}, {\"hoverinfo\": \"text\", \"line\": {\"color\": \"cornflowerblue\", \"width\": 0.1604821642246263}, \"mode\": \"lines\", \"text\": \"0.16\", \"type\": \"scatter\", \"x\": [4, 5, null], \"y\": [5, 4, null]}, {\"hoverinfo\": \"text\", \"line\": {\"color\": \"cornflowerblue\", \"width\": 0.16232949242922506}, \"mode\": \"lines\", \"text\": \"0.162\", \"type\": \"scatter\", \"x\": [4, 5, null], \"y\": [5, 5, null]}, {\"hoverinfo\": \"text\", \"line\": {\"color\": \"cornflowerblue\", \"width\": 0.15908834551523846}, \"mode\": \"lines\", \"text\": \"0.159\", \"type\": \"scatter\", \"x\": [4, 5, null], \"y\": [5, 6, null]}, {\"hoverinfo\": \"text\", \"line\": {\"color\": \"cornflowerblue\", \"width\": 0.158248861131262}, \"mode\": \"lines\", \"text\": \"0.158\", \"type\": \"scatter\", \"x\": [4, 5, null], \"y\": [5, 7, null]}, {\"hoverinfo\": \"text\", \"line\": {\"color\": \"cornflowerblue\", \"width\": 0.14762649094461153}, \"mode\": \"lines\", \"text\": \"0.148\", \"type\": \"scatter\", \"x\": [4, 5, null], \"y\": [6, 0, null]}, {\"hoverinfo\": \"text\", \"line\": {\"color\": \"cornflowerblue\", \"width\": 0.14915571098431699}, \"mode\": \"lines\", \"text\": \"0.149\", \"type\": \"scatter\", \"x\": [4, 5, null], \"y\": [6, 1, null]}, {\"hoverinfo\": \"text\", \"line\": {\"color\": \"cornflowerblue\", \"width\": 0.1495956232714124}, \"mode\": \"lines\", \"text\": \"0.15\", \"type\": \"scatter\", \"x\": [4, 5, null], \"y\": [6, 2, null]}, {\"hoverinfo\": \"text\", \"line\": {\"color\": \"cornflowerblue\", \"width\": 0.1487158988829705}, \"mode\": \"lines\", \"text\": \"0.149\", \"type\": \"scatter\", \"x\": [4, 5, null], \"y\": [6, 3, null]}, {\"hoverinfo\": \"text\", \"line\": {\"color\": \"cornflowerblue\", \"width\": 0.14833931766387817}, \"mode\": \"lines\", \"text\": \"0.148\", \"type\": \"scatter\", \"x\": [4, 5, null], \"y\": [6, 4, null]}, {\"hoverinfo\": \"text\", \"line\": {\"color\": \"cornflowerblue\", \"width\": 0.15056040738142104}, \"mode\": \"lines\", \"text\": \"0.151\", \"type\": \"scatter\", \"x\": [4, 5, null], \"y\": [6, 5, null]}, {\"hoverinfo\": \"text\", \"line\": {\"color\": \"cornflowerblue\", \"width\": 0.15314121518943333}, \"mode\": \"lines\", \"text\": \"0.153\", \"type\": \"scatter\", \"x\": [4, 5, null], \"y\": [6, 6, null]}, {\"hoverinfo\": \"text\", \"line\": {\"color\": \"cornflowerblue\", \"width\": 0.15074796270917593}, \"mode\": \"lines\", \"text\": \"0.151\", \"type\": \"scatter\", \"x\": [4, 5, null], \"y\": [6, 7, null]}, {\"hoverinfo\": \"text\", \"line\": {\"color\": \"cornflowerblue\", \"width\": 0.14823304187884065}, \"mode\": \"lines\", \"text\": \"0.148\", \"type\": \"scatter\", \"x\": [4, 5, null], \"y\": [6, 8, null]}, {\"hoverinfo\": \"text\", \"line\": {\"color\": \"cornflowerblue\", \"width\": 0.21107709466048852}, \"mode\": \"lines\", \"text\": \"0.211\", \"type\": \"scatter\", \"x\": [5, 6, null], \"y\": [0, 0, null]}, {\"hoverinfo\": \"text\", \"line\": {\"color\": \"cornflowerblue\", \"width\": 0.19940008405923046}, \"mode\": \"lines\", \"text\": \"0.199\", \"type\": \"scatter\", \"x\": [5, 6, null], \"y\": [0, 1, null]}, {\"hoverinfo\": \"text\", \"line\": {\"color\": \"cornflowerblue\", \"width\": 0.1813175107513952}, \"mode\": \"lines\", \"text\": \"0.181\", \"type\": \"scatter\", \"x\": [5, 6, null], \"y\": [0, 2, null]}, {\"hoverinfo\": \"text\", \"line\": {\"color\": \"cornflowerblue\", \"width\": 0.3699553909885062}, \"mode\": \"lines\", \"text\": \"0.37\", \"type\": \"scatter\", \"x\": [5, 6, null], \"y\": [0, 3, null]}, {\"hoverinfo\": \"text\", \"line\": {\"color\": \"cornflowerblue\", \"width\": 0.15503921691847508}, \"mode\": \"lines\", \"text\": \"0.155\", \"type\": \"scatter\", \"x\": [5, 6, null], \"y\": [0, 4, null]}, {\"hoverinfo\": \"text\", \"line\": {\"color\": \"cornflowerblue\", \"width\": 0.15968875901244484}, \"mode\": \"lines\", \"text\": \"0.16\", \"type\": \"scatter\", \"x\": [5, 6, null], \"y\": [0, 5, null]}, {\"hoverinfo\": \"text\", \"line\": {\"color\": \"cornflowerblue\", \"width\": 0.15749995814295872}, \"mode\": \"lines\", \"text\": \"0.157\", \"type\": \"scatter\", \"x\": [5, 6, null], \"y\": [0, 6, null]}, {\"hoverinfo\": \"text\", \"line\": {\"color\": \"cornflowerblue\", \"width\": 0.17393601973945233}, \"mode\": \"lines\", \"text\": \"0.174\", \"type\": \"scatter\", \"x\": [5, 6, null], \"y\": [1, 0, null]}, {\"hoverinfo\": \"text\", \"line\": {\"color\": \"cornflowerblue\", \"width\": 0.1629269638271563}, \"mode\": \"lines\", \"text\": \"0.163\", \"type\": \"scatter\", \"x\": [5, 6, null], \"y\": [1, 1, null]}, {\"hoverinfo\": \"text\", \"line\": {\"color\": \"cornflowerblue\", \"width\": 0.16225442799196174}, \"mode\": \"lines\", \"text\": \"0.162\", \"type\": \"scatter\", \"x\": [5, 6, null], \"y\": [1, 2, null]}, {\"hoverinfo\": \"text\", \"line\": {\"color\": \"cornflowerblue\", \"width\": 0.16411076868757632}, \"mode\": \"lines\", \"text\": \"0.164\", \"type\": \"scatter\", \"x\": [5, 6, null], \"y\": [1, 3, null]}, {\"hoverinfo\": \"text\", \"line\": {\"color\": \"cornflowerblue\", \"width\": 0.15472242784003767}, \"mode\": \"lines\", \"text\": \"0.155\", \"type\": \"scatter\", \"x\": [5, 6, null], \"y\": [1, 4, null]}, {\"hoverinfo\": \"text\", \"line\": {\"color\": \"cornflowerblue\", \"width\": 0.15752157114449655}, \"mode\": \"lines\", \"text\": \"0.158\", \"type\": \"scatter\", \"x\": [5, 6, null], \"y\": [1, 5, null]}, {\"hoverinfo\": \"text\", \"line\": {\"color\": \"cornflowerblue\", \"width\": 0.15439888491169443}, \"mode\": \"lines\", \"text\": \"0.154\", \"type\": \"scatter\", \"x\": [5, 6, null], \"y\": [1, 6, null]}, {\"hoverinfo\": \"text\", \"line\": {\"color\": \"cornflowerblue\", \"width\": 0.26195955732550463}, \"mode\": \"lines\", \"text\": \"0.262\", \"type\": \"scatter\", \"x\": [5, 6, null], \"y\": [2, 0, null]}, {\"hoverinfo\": \"text\", \"line\": {\"color\": \"cornflowerblue\", \"width\": 0.19257952205015472}, \"mode\": \"lines\", \"text\": \"0.193\", \"type\": \"scatter\", \"x\": [5, 6, null], \"y\": [2, 1, null]}, {\"hoverinfo\": \"text\", \"line\": {\"color\": \"cornflowerblue\", \"width\": 0.18491510161250768}, \"mode\": \"lines\", \"text\": \"0.185\", \"type\": \"scatter\", \"x\": [5, 6, null], \"y\": [2, 2, null]}, {\"hoverinfo\": \"text\", \"line\": {\"color\": \"cornflowerblue\", \"width\": 0.1954081790126282}, \"mode\": \"lines\", \"text\": \"0.195\", \"type\": \"scatter\", \"x\": [5, 6, null], \"y\": [2, 3, null]}, {\"hoverinfo\": \"text\", \"line\": {\"color\": \"cornflowerblue\", \"width\": 0.15599308627163108}, \"mode\": \"lines\", \"text\": \"0.156\", \"type\": \"scatter\", \"x\": [5, 6, null], \"y\": [2, 4, null]}, {\"hoverinfo\": \"text\", \"line\": {\"color\": \"cornflowerblue\", \"width\": 0.16016151612323473}, \"mode\": \"lines\", \"text\": \"0.16\", \"type\": \"scatter\", \"x\": [5, 6, null], \"y\": [2, 5, null]}, {\"hoverinfo\": \"text\", \"line\": {\"color\": \"cornflowerblue\", \"width\": 0.15605569102481845}, \"mode\": \"lines\", \"text\": \"0.156\", \"type\": \"scatter\", \"x\": [5, 6, null], \"y\": [2, 6, null]}, {\"hoverinfo\": \"text\", \"line\": {\"color\": \"cornflowerblue\", \"width\": 0.1982807105471541}, \"mode\": \"lines\", \"text\": \"0.198\", \"type\": \"scatter\", \"x\": [5, 6, null], \"y\": [3, 0, null]}, {\"hoverinfo\": \"text\", \"line\": {\"color\": \"cornflowerblue\", \"width\": 0.5572195333544334}, \"mode\": \"lines\", \"text\": \"0.557\", \"type\": \"scatter\", \"x\": [5, 6, null], \"y\": [3, 1, null]}, {\"hoverinfo\": \"text\", \"line\": {\"color\": \"cornflowerblue\", \"width\": 0.2017198302478935}, \"mode\": \"lines\", \"text\": \"0.202\", \"type\": \"scatter\", \"x\": [5, 6, null], \"y\": [3, 2, null]}, {\"hoverinfo\": \"text\", \"line\": {\"color\": \"cornflowerblue\", \"width\": 0.21075763005373632}, \"mode\": \"lines\", \"text\": \"0.211\", \"type\": \"scatter\", \"x\": [5, 6, null], \"y\": [3, 3, null]}, {\"hoverinfo\": \"text\", \"line\": {\"color\": \"cornflowerblue\", \"width\": 0.15594100715427084}, \"mode\": \"lines\", \"text\": \"0.156\", \"type\": \"scatter\", \"x\": [5, 6, null], \"y\": [3, 4, null]}, {\"hoverinfo\": \"text\", \"line\": {\"color\": \"cornflowerblue\", \"width\": 0.1611091196495649}, \"mode\": \"lines\", \"text\": \"0.161\", \"type\": \"scatter\", \"x\": [5, 6, null], \"y\": [3, 5, null]}, {\"hoverinfo\": \"text\", \"line\": {\"color\": \"cornflowerblue\", \"width\": 0.15680609101335635}, \"mode\": \"lines\", \"text\": \"0.157\", \"type\": \"scatter\", \"x\": [5, 6, null], \"y\": [3, 6, null]}, {\"hoverinfo\": \"text\", \"line\": {\"color\": \"cornflowerblue\", \"width\": 0.1752985760200409}, \"mode\": \"lines\", \"text\": \"0.175\", \"type\": \"scatter\", \"x\": [5, 6, null], \"y\": [4, 0, null]}, {\"hoverinfo\": \"text\", \"line\": {\"color\": \"cornflowerblue\", \"width\": 0.17291442924680436}, \"mode\": \"lines\", \"text\": \"0.173\", \"type\": \"scatter\", \"x\": [5, 6, null], \"y\": [4, 1, null]}, {\"hoverinfo\": \"text\", \"line\": {\"color\": \"cornflowerblue\", \"width\": 0.166305787555809}, \"mode\": \"lines\", \"text\": \"0.166\", \"type\": \"scatter\", \"x\": [5, 6, null], \"y\": [4, 2, null]}, {\"hoverinfo\": \"text\", \"line\": {\"color\": \"cornflowerblue\", \"width\": 0.17909666652842007}, \"mode\": \"lines\", \"text\": \"0.179\", \"type\": \"scatter\", \"x\": [5, 6, null], \"y\": [4, 3, null]}, {\"hoverinfo\": \"text\", \"line\": {\"color\": \"cornflowerblue\", \"width\": 0.15507910983651996}, \"mode\": \"lines\", \"text\": \"0.155\", \"type\": \"scatter\", \"x\": [5, 6, null], \"y\": [4, 4, null]}, {\"hoverinfo\": \"text\", \"line\": {\"color\": \"cornflowerblue\", \"width\": 0.1577277998954905}, \"mode\": \"lines\", \"text\": \"0.158\", \"type\": \"scatter\", \"x\": [5, 6, null], \"y\": [4, 5, null]}, {\"hoverinfo\": \"text\", \"line\": {\"color\": \"cornflowerblue\", \"width\": 0.1538620032464135}, \"mode\": \"lines\", \"text\": \"0.154\", \"type\": \"scatter\", \"x\": [5, 6, null], \"y\": [4, 6, null]}, {\"hoverinfo\": \"text\", \"line\": {\"color\": \"cornflowerblue\", \"width\": 0.18948334024436753}, \"mode\": \"lines\", \"text\": \"0.189\", \"type\": \"scatter\", \"x\": [5, 6, null], \"y\": [5, 0, null]}, {\"hoverinfo\": \"text\", \"line\": {\"color\": \"cornflowerblue\", \"width\": 0.1815410018749624}, \"mode\": \"lines\", \"text\": \"0.182\", \"type\": \"scatter\", \"x\": [5, 6, null], \"y\": [5, 1, null]}, {\"hoverinfo\": \"text\", \"line\": {\"color\": \"cornflowerblue\", \"width\": 0.2628038375504597}, \"mode\": \"lines\", \"text\": \"0.263\", \"type\": \"scatter\", \"x\": [5, 6, null], \"y\": [5, 2, null]}, {\"hoverinfo\": \"text\", \"line\": {\"color\": \"cornflowerblue\", \"width\": 0.17689133421971037}, \"mode\": \"lines\", \"text\": \"0.177\", \"type\": \"scatter\", \"x\": [5, 6, null], \"y\": [5, 3, null]}, {\"hoverinfo\": \"text\", \"line\": {\"color\": \"cornflowerblue\", \"width\": 0.15812973514761275}, \"mode\": \"lines\", \"text\": \"0.158\", \"type\": \"scatter\", \"x\": [5, 6, null], \"y\": [5, 4, null]}, {\"hoverinfo\": \"text\", \"line\": {\"color\": \"cornflowerblue\", \"width\": 0.16099721690730193}, \"mode\": \"lines\", \"text\": \"0.161\", \"type\": \"scatter\", \"x\": [5, 6, null], \"y\": [5, 5, null]}, {\"hoverinfo\": \"text\", \"line\": {\"color\": \"cornflowerblue\", \"width\": 0.15474113994853728}, \"mode\": \"lines\", \"text\": \"0.155\", \"type\": \"scatter\", \"x\": [5, 6, null], \"y\": [5, 6, null]}, {\"hoverinfo\": \"text\", \"line\": {\"color\": \"cornflowerblue\", \"width\": 0.15979691079903793}, \"mode\": \"lines\", \"text\": \"0.16\", \"type\": \"scatter\", \"x\": [5, 6, null], \"y\": [6, 0, null]}, {\"hoverinfo\": \"text\", \"line\": {\"color\": \"cornflowerblue\", \"width\": 0.15546377519275692}, \"mode\": \"lines\", \"text\": \"0.155\", \"type\": \"scatter\", \"x\": [5, 6, null], \"y\": [6, 1, null]}, {\"hoverinfo\": \"text\", \"line\": {\"color\": \"cornflowerblue\", \"width\": 0.15940011271137888}, \"mode\": \"lines\", \"text\": \"0.159\", \"type\": \"scatter\", \"x\": [5, 6, null], \"y\": [6, 2, null]}, {\"hoverinfo\": \"text\", \"line\": {\"color\": \"cornflowerblue\", \"width\": 0.15858688468441492}, \"mode\": \"lines\", \"text\": \"0.159\", \"type\": \"scatter\", \"x\": [5, 6, null], \"y\": [6, 3, null]}, {\"hoverinfo\": \"text\", \"line\": {\"color\": \"cornflowerblue\", \"width\": 0.15724936228670286}, \"mode\": \"lines\", \"text\": \"0.157\", \"type\": \"scatter\", \"x\": [5, 6, null], \"y\": [6, 4, null]}, {\"hoverinfo\": \"text\", \"line\": {\"color\": \"cornflowerblue\", \"width\": 0.15287957484990877}, \"mode\": \"lines\", \"text\": \"0.153\", \"type\": \"scatter\", \"x\": [5, 6, null], \"y\": [6, 5, null]}, {\"hoverinfo\": \"text\", \"line\": {\"color\": \"cornflowerblue\", \"width\": 0.15201073320386163}, \"mode\": \"lines\", \"text\": \"0.152\", \"type\": \"scatter\", \"x\": [5, 6, null], \"y\": [6, 6, null]}, {\"hoverinfo\": \"text\", \"line\": {\"color\": \"cornflowerblue\", \"width\": 0.15879533375486488}, \"mode\": \"lines\", \"text\": \"0.159\", \"type\": \"scatter\", \"x\": [5, 6, null], \"y\": [7, 0, null]}, {\"hoverinfo\": \"text\", \"line\": {\"color\": \"cornflowerblue\", \"width\": 0.15542890419152916}, \"mode\": \"lines\", \"text\": \"0.155\", \"type\": \"scatter\", \"x\": [5, 6, null], \"y\": [7, 1, null]}, {\"hoverinfo\": \"text\", \"line\": {\"color\": \"cornflowerblue\", \"width\": 0.15649782852977037}, \"mode\": \"lines\", \"text\": \"0.156\", \"type\": \"scatter\", \"x\": [5, 6, null], \"y\": [7, 2, null]}, {\"hoverinfo\": \"text\", \"line\": {\"color\": \"cornflowerblue\", \"width\": 0.15796406504654817}, \"mode\": \"lines\", \"text\": \"0.158\", \"type\": \"scatter\", \"x\": [5, 6, null], \"y\": [7, 3, null]}, {\"hoverinfo\": \"text\", \"line\": {\"color\": \"cornflowerblue\", \"width\": 0.16723028400971057}, \"mode\": \"lines\", \"text\": \"0.167\", \"type\": \"scatter\", \"x\": [5, 6, null], \"y\": [7, 4, null]}, {\"hoverinfo\": \"text\", \"line\": {\"color\": \"cornflowerblue\", \"width\": 0.15717644692738536}, \"mode\": \"lines\", \"text\": \"0.157\", \"type\": \"scatter\", \"x\": [5, 6, null], \"y\": [7, 5, null]}, {\"hoverinfo\": \"text\", \"line\": {\"color\": \"cornflowerblue\", \"width\": 0.1562204391464082}, \"mode\": \"lines\", \"text\": \"0.156\", \"type\": \"scatter\", \"x\": [5, 6, null], \"y\": [7, 6, null]}, {\"hoverinfo\": \"text\", \"line\": {\"color\": \"cornflowerblue\", \"width\": 0.1469242209576995}, \"mode\": \"lines\", \"text\": \"0.147\", \"type\": \"scatter\", \"x\": [5, 6, null], \"y\": [8, 4, null]}, {\"hoverinfo\": \"text\", \"line\": {\"color\": \"cornflowerblue\", \"width\": 0.19463511304314793}, \"mode\": \"lines\", \"text\": \"0.195\", \"type\": \"scatter\", \"x\": [6, 7, null], \"y\": [0, 0, null]}, {\"hoverinfo\": \"text\", \"line\": {\"color\": \"cornflowerblue\", \"width\": 0.27646659714813293}, \"mode\": \"lines\", \"text\": \"0.276\", \"type\": \"scatter\", \"x\": [6, 7, null], \"y\": [0, 1, null]}, {\"hoverinfo\": \"text\", \"line\": {\"color\": \"cornflowerblue\", \"width\": 0.2052505617805322}, \"mode\": \"lines\", \"text\": \"0.205\", \"type\": \"scatter\", \"x\": [6, 7, null], \"y\": [0, 2, null]}, {\"hoverinfo\": \"text\", \"line\": {\"color\": \"cornflowerblue\", \"width\": 0.19923052943580613}, \"mode\": \"lines\", \"text\": \"0.199\", \"type\": \"scatter\", \"x\": [6, 7, null], \"y\": [0, 3, null]}, {\"hoverinfo\": \"text\", \"line\": {\"color\": \"cornflowerblue\", \"width\": 0.16604113204742096}, \"mode\": \"lines\", \"text\": \"0.166\", \"type\": \"scatter\", \"x\": [6, 7, null], \"y\": [0, 4, null]}, {\"hoverinfo\": \"text\", \"line\": {\"color\": \"cornflowerblue\", \"width\": 0.15935557914421106}, \"mode\": \"lines\", \"text\": \"0.159\", \"type\": \"scatter\", \"x\": [6, 7, null], \"y\": [0, 5, null]}, {\"hoverinfo\": \"text\", \"line\": {\"color\": \"cornflowerblue\", \"width\": 0.16111778929910983}, \"mode\": \"lines\", \"text\": \"0.161\", \"type\": \"scatter\", \"x\": [6, 7, null], \"y\": [0, 6, null]}, {\"hoverinfo\": \"text\", \"line\": {\"color\": \"cornflowerblue\", \"width\": 0.1589377747299091}, \"mode\": \"lines\", \"text\": \"0.159\", \"type\": \"scatter\", \"x\": [6, 7, null], \"y\": [0, 7, null]}, {\"hoverinfo\": \"text\", \"line\": {\"color\": \"cornflowerblue\", \"width\": 0.15494617304646038}, \"mode\": \"lines\", \"text\": \"0.155\", \"type\": \"scatter\", \"x\": [6, 7, null], \"y\": [0, 8, null]}, {\"hoverinfo\": \"text\", \"line\": {\"color\": \"cornflowerblue\", \"width\": 0.19664485803674667}, \"mode\": \"lines\", \"text\": \"0.197\", \"type\": \"scatter\", \"x\": [6, 7, null], \"y\": [1, 0, null]}, {\"hoverinfo\": \"text\", \"line\": {\"color\": \"cornflowerblue\", \"width\": 0.20125985804022045}, \"mode\": \"lines\", \"text\": \"0.201\", \"type\": \"scatter\", \"x\": [6, 7, null], \"y\": [1, 1, null]}, {\"hoverinfo\": \"text\", \"line\": {\"color\": \"cornflowerblue\", \"width\": 0.20602067346567457}, \"mode\": \"lines\", \"text\": \"0.206\", \"type\": \"scatter\", \"x\": [6, 7, null], \"y\": [1, 2, null]}, {\"hoverinfo\": \"text\", \"line\": {\"color\": \"cornflowerblue\", \"width\": 0.5073306204196525}, \"mode\": \"lines\", \"text\": \"0.507\", \"type\": \"scatter\", \"x\": [6, 7, null], \"y\": [1, 3, null]}, {\"hoverinfo\": \"text\", \"line\": {\"color\": \"cornflowerblue\", \"width\": 0.15968964564437188}, \"mode\": \"lines\", \"text\": \"0.16\", \"type\": \"scatter\", \"x\": [6, 7, null], \"y\": [1, 4, null]}, {\"hoverinfo\": \"text\", \"line\": {\"color\": \"cornflowerblue\", \"width\": 0.15409418776534498}, \"mode\": \"lines\", \"text\": \"0.154\", \"type\": \"scatter\", \"x\": [6, 7, null], \"y\": [1, 5, null]}, {\"hoverinfo\": \"text\", \"line\": {\"color\": \"cornflowerblue\", \"width\": 0.15462188747110317}, \"mode\": \"lines\", \"text\": \"0.155\", \"type\": \"scatter\", \"x\": [6, 7, null], \"y\": [1, 6, null]}, {\"hoverinfo\": \"text\", \"line\": {\"color\": \"cornflowerblue\", \"width\": 0.15149810105536798}, \"mode\": \"lines\", \"text\": \"0.151\", \"type\": \"scatter\", \"x\": [6, 7, null], \"y\": [1, 7, null]}, {\"hoverinfo\": \"text\", \"line\": {\"color\": \"cornflowerblue\", \"width\": 0.15227184242132344}, \"mode\": \"lines\", \"text\": \"0.152\", \"type\": \"scatter\", \"x\": [6, 7, null], \"y\": [1, 8, null]}, {\"hoverinfo\": \"text\", \"line\": {\"color\": \"cornflowerblue\", \"width\": 0.1722041953136467}, \"mode\": \"lines\", \"text\": \"0.172\", \"type\": \"scatter\", \"x\": [6, 7, null], \"y\": [2, 0, null]}, {\"hoverinfo\": \"text\", \"line\": {\"color\": \"cornflowerblue\", \"width\": 0.18465780912085977}, \"mode\": \"lines\", \"text\": \"0.185\", \"type\": \"scatter\", \"x\": [6, 7, null], \"y\": [2, 1, null]}, {\"hoverinfo\": \"text\", \"line\": {\"color\": \"cornflowerblue\", \"width\": 0.18299800498471555}, \"mode\": \"lines\", \"text\": \"0.183\", \"type\": \"scatter\", \"x\": [6, 7, null], \"y\": [2, 2, null]}, {\"hoverinfo\": \"text\", \"line\": {\"color\": \"cornflowerblue\", \"width\": 0.21471656923521035}, \"mode\": \"lines\", \"text\": \"0.215\", \"type\": \"scatter\", \"x\": [6, 7, null], \"y\": [2, 3, null]}, {\"hoverinfo\": \"text\", \"line\": {\"color\": \"cornflowerblue\", \"width\": 0.16052595054617835}, \"mode\": \"lines\", \"text\": \"0.161\", \"type\": \"scatter\", \"x\": [6, 7, null], \"y\": [2, 4, null]}, {\"hoverinfo\": \"text\", \"line\": {\"color\": \"cornflowerblue\", \"width\": 0.16028563579082236}, \"mode\": \"lines\", \"text\": \"0.16\", \"type\": \"scatter\", \"x\": [6, 7, null], \"y\": [2, 5, null]}, {\"hoverinfo\": \"text\", \"line\": {\"color\": \"cornflowerblue\", \"width\": 0.1562242496161747}, \"mode\": \"lines\", \"text\": \"0.156\", \"type\": \"scatter\", \"x\": [6, 7, null], \"y\": [2, 6, null]}, {\"hoverinfo\": \"text\", \"line\": {\"color\": \"cornflowerblue\", \"width\": 0.1579656881526921}, \"mode\": \"lines\", \"text\": \"0.158\", \"type\": \"scatter\", \"x\": [6, 7, null], \"y\": [2, 7, null]}, {\"hoverinfo\": \"text\", \"line\": {\"color\": \"cornflowerblue\", \"width\": 0.1535896349704018}, \"mode\": \"lines\", \"text\": \"0.154\", \"type\": \"scatter\", \"x\": [6, 7, null], \"y\": [2, 8, null]}, {\"hoverinfo\": \"text\", \"line\": {\"color\": \"cornflowerblue\", \"width\": 0.24142624918452577}, \"mode\": \"lines\", \"text\": \"0.241\", \"type\": \"scatter\", \"x\": [6, 7, null], \"y\": [3, 0, null]}, {\"hoverinfo\": \"text\", \"line\": {\"color\": \"cornflowerblue\", \"width\": 0.19345702527076067}, \"mode\": \"lines\", \"text\": \"0.193\", \"type\": \"scatter\", \"x\": [6, 7, null], \"y\": [3, 1, null]}, {\"hoverinfo\": \"text\", \"line\": {\"color\": \"cornflowerblue\", \"width\": 0.30041864899515763}, \"mode\": \"lines\", \"text\": \"0.3\", \"type\": \"scatter\", \"x\": [6, 7, null], \"y\": [3, 2, null]}, {\"hoverinfo\": \"text\", \"line\": {\"color\": \"cornflowerblue\", \"width\": 0.21082871297522407}, \"mode\": \"lines\", \"text\": \"0.211\", \"type\": \"scatter\", \"x\": [6, 7, null], \"y\": [3, 3, null]}, {\"hoverinfo\": \"text\", \"line\": {\"color\": \"cornflowerblue\", \"width\": 0.16485230159644979}, \"mode\": \"lines\", \"text\": \"0.165\", \"type\": \"scatter\", \"x\": [6, 7, null], \"y\": [3, 4, null]}, {\"hoverinfo\": \"text\", \"line\": {\"color\": \"cornflowerblue\", \"width\": 0.1546462969202184}, \"mode\": \"lines\", \"text\": \"0.155\", \"type\": \"scatter\", \"x\": [6, 7, null], \"y\": [3, 5, null]}, {\"hoverinfo\": \"text\", \"line\": {\"color\": \"cornflowerblue\", \"width\": 0.15672937140808954}, \"mode\": \"lines\", \"text\": \"0.157\", \"type\": \"scatter\", \"x\": [6, 7, null], \"y\": [3, 6, null]}, {\"hoverinfo\": \"text\", \"line\": {\"color\": \"cornflowerblue\", \"width\": 0.15390377854305554}, \"mode\": \"lines\", \"text\": \"0.154\", \"type\": \"scatter\", \"x\": [6, 7, null], \"y\": [3, 7, null]}, {\"hoverinfo\": \"text\", \"line\": {\"color\": \"cornflowerblue\", \"width\": 0.1524995830552785}, \"mode\": \"lines\", \"text\": \"0.152\", \"type\": \"scatter\", \"x\": [6, 7, null], \"y\": [3, 8, null]}, {\"hoverinfo\": \"text\", \"line\": {\"color\": \"cornflowerblue\", \"width\": 0.1565722433580294}, \"mode\": \"lines\", \"text\": \"0.157\", \"type\": \"scatter\", \"x\": [6, 7, null], \"y\": [4, 0, null]}, {\"hoverinfo\": \"text\", \"line\": {\"color\": \"cornflowerblue\", \"width\": 0.15697295993402308}, \"mode\": \"lines\", \"text\": \"0.157\", \"type\": \"scatter\", \"x\": [6, 7, null], \"y\": [4, 1, null]}, {\"hoverinfo\": \"text\", \"line\": {\"color\": \"cornflowerblue\", \"width\": 0.1543999308836897}, \"mode\": \"lines\", \"text\": \"0.154\", \"type\": \"scatter\", \"x\": [6, 7, null], \"y\": [4, 2, null]}, {\"hoverinfo\": \"text\", \"line\": {\"color\": \"cornflowerblue\", \"width\": 0.15647939733192176}, \"mode\": \"lines\", \"text\": \"0.156\", \"type\": \"scatter\", \"x\": [6, 7, null], \"y\": [4, 3, null]}, {\"hoverinfo\": \"text\", \"line\": {\"color\": \"cornflowerblue\", \"width\": 0.15619235095699754}, \"mode\": \"lines\", \"text\": \"0.156\", \"type\": \"scatter\", \"x\": [6, 7, null], \"y\": [4, 4, null]}, {\"hoverinfo\": \"text\", \"line\": {\"color\": \"cornflowerblue\", \"width\": 0.15296882312642884}, \"mode\": \"lines\", \"text\": \"0.153\", \"type\": \"scatter\", \"x\": [6, 7, null], \"y\": [4, 5, null]}, {\"hoverinfo\": \"text\", \"line\": {\"color\": \"cornflowerblue\", \"width\": 0.15545454960811939}, \"mode\": \"lines\", \"text\": \"0.155\", \"type\": \"scatter\", \"x\": [6, 7, null], \"y\": [4, 6, null]}, {\"hoverinfo\": \"text\", \"line\": {\"color\": \"cornflowerblue\", \"width\": 0.1513308946697156}, \"mode\": \"lines\", \"text\": \"0.151\", \"type\": \"scatter\", \"x\": [6, 7, null], \"y\": [4, 7, null]}, {\"hoverinfo\": \"text\", \"line\": {\"color\": \"cornflowerblue\", \"width\": 0.15813401356578874}, \"mode\": \"lines\", \"text\": \"0.158\", \"type\": \"scatter\", \"x\": [6, 7, null], \"y\": [4, 8, null]}, {\"hoverinfo\": \"text\", \"line\": {\"color\": \"cornflowerblue\", \"width\": 0.15638473107728473}, \"mode\": \"lines\", \"text\": \"0.156\", \"type\": \"scatter\", \"x\": [6, 7, null], \"y\": [5, 0, null]}, {\"hoverinfo\": \"text\", \"line\": {\"color\": \"cornflowerblue\", \"width\": 0.15975427712875304}, \"mode\": \"lines\", \"text\": \"0.16\", \"type\": \"scatter\", \"x\": [6, 7, null], \"y\": [5, 1, null]}, {\"hoverinfo\": \"text\", \"line\": {\"color\": \"cornflowerblue\", \"width\": 0.1636218090854092}, \"mode\": \"lines\", \"text\": \"0.164\", \"type\": \"scatter\", \"x\": [6, 7, null], \"y\": [5, 2, null]}, {\"hoverinfo\": \"text\", \"line\": {\"color\": \"cornflowerblue\", \"width\": 0.16339111391940742}, \"mode\": \"lines\", \"text\": \"0.163\", \"type\": \"scatter\", \"x\": [6, 7, null], \"y\": [5, 3, null]}, {\"hoverinfo\": \"text\", \"line\": {\"color\": \"cornflowerblue\", \"width\": 0.154628045512483}, \"mode\": \"lines\", \"text\": \"0.155\", \"type\": \"scatter\", \"x\": [6, 7, null], \"y\": [5, 4, null]}, {\"hoverinfo\": \"text\", \"line\": {\"color\": \"cornflowerblue\", \"width\": 0.15623637482556357}, \"mode\": \"lines\", \"text\": \"0.156\", \"type\": \"scatter\", \"x\": [6, 7, null], \"y\": [5, 5, null]}, {\"hoverinfo\": \"text\", \"line\": {\"color\": \"cornflowerblue\", \"width\": 0.15227864104004468}, \"mode\": \"lines\", \"text\": \"0.152\", \"type\": \"scatter\", \"x\": [6, 7, null], \"y\": [5, 6, null]}, {\"hoverinfo\": \"text\", \"line\": {\"color\": \"cornflowerblue\", \"width\": 0.15021779715717534}, \"mode\": \"lines\", \"text\": \"0.15\", \"type\": \"scatter\", \"x\": [6, 7, null], \"y\": [5, 7, null]}, {\"hoverinfo\": \"text\", \"line\": {\"color\": \"cornflowerblue\", \"width\": 0.15068358878110302}, \"mode\": \"lines\", \"text\": \"0.151\", \"type\": \"scatter\", \"x\": [6, 7, null], \"y\": [5, 8, null]}, {\"hoverinfo\": \"text\", \"line\": {\"color\": \"cornflowerblue\", \"width\": 0.15683812006304038}, \"mode\": \"lines\", \"text\": \"0.157\", \"type\": \"scatter\", \"x\": [6, 7, null], \"y\": [6, 0, null]}, {\"hoverinfo\": \"text\", \"line\": {\"color\": \"cornflowerblue\", \"width\": 0.15751067973097763}, \"mode\": \"lines\", \"text\": \"0.158\", \"type\": \"scatter\", \"x\": [6, 7, null], \"y\": [6, 1, null]}, {\"hoverinfo\": \"text\", \"line\": {\"color\": \"cornflowerblue\", \"width\": 0.15797419926258308}, \"mode\": \"lines\", \"text\": \"0.158\", \"type\": \"scatter\", \"x\": [6, 7, null], \"y\": [6, 2, null]}, {\"hoverinfo\": \"text\", \"line\": {\"color\": \"cornflowerblue\", \"width\": 0.15676734606600928}, \"mode\": \"lines\", \"text\": \"0.157\", \"type\": \"scatter\", \"x\": [6, 7, null], \"y\": [6, 3, null]}, {\"hoverinfo\": \"text\", \"line\": {\"color\": \"cornflowerblue\", \"width\": 0.15508841155782596}, \"mode\": \"lines\", \"text\": \"0.155\", \"type\": \"scatter\", \"x\": [6, 7, null], \"y\": [6, 4, null]}, {\"hoverinfo\": \"text\", \"line\": {\"color\": \"cornflowerblue\", \"width\": 0.16791534331887}, \"mode\": \"lines\", \"text\": \"0.168\", \"type\": \"scatter\", \"x\": [6, 7, null], \"y\": [6, 5, null]}, {\"hoverinfo\": \"text\", \"line\": {\"color\": \"cornflowerblue\", \"width\": 0.15241332144867256}, \"mode\": \"lines\", \"text\": \"0.152\", \"type\": \"scatter\", \"x\": [6, 7, null], \"y\": [6, 6, null]}, {\"hoverinfo\": \"text\", \"line\": {\"color\": \"cornflowerblue\", \"width\": 0.1494778781040215}, \"mode\": \"lines\", \"text\": \"0.149\", \"type\": \"scatter\", \"x\": [6, 7, null], \"y\": [6, 7, null]}, {\"hoverinfo\": \"text\", \"line\": {\"color\": \"cornflowerblue\", \"width\": 0.14936121899082114}, \"mode\": \"lines\", \"text\": \"0.149\", \"type\": \"scatter\", \"x\": [6, 7, null], \"y\": [6, 8, null]}, {\"hoverinfo\": \"text\", \"line\": {\"color\": \"cornflowerblue\", \"width\": 0.19290755545880353}, \"mode\": \"lines\", \"text\": \"0.193\", \"type\": \"scatter\", \"x\": [7, 8, null], \"y\": [0, 0, null]}, {\"hoverinfo\": \"text\", \"line\": {\"color\": \"cornflowerblue\", \"width\": 0.37441508759995473}, \"mode\": \"lines\", \"text\": \"0.374\", \"type\": \"scatter\", \"x\": [7, 8, null], \"y\": [0, 1, null]}, {\"hoverinfo\": \"text\", \"line\": {\"color\": \"cornflowerblue\", \"width\": 0.17573271338084262}, \"mode\": \"lines\", \"text\": \"0.176\", \"type\": \"scatter\", \"x\": [7, 8, null], \"y\": [0, 2, null]}, {\"hoverinfo\": \"text\", \"line\": {\"color\": \"cornflowerblue\", \"width\": 0.1833033485917732}, \"mode\": \"lines\", \"text\": \"0.183\", \"type\": \"scatter\", \"x\": [7, 8, null], \"y\": [0, 3, null]}, {\"hoverinfo\": \"text\", \"line\": {\"color\": \"cornflowerblue\", \"width\": 0.20587140557232125}, \"mode\": \"lines\", \"text\": \"0.206\", \"type\": \"scatter\", \"x\": [7, 8, null], \"y\": [0, 4, null]}, {\"hoverinfo\": \"text\", \"line\": {\"color\": \"cornflowerblue\", \"width\": 0.15890090583499375}, \"mode\": \"lines\", \"text\": \"0.159\", \"type\": \"scatter\", \"x\": [7, 8, null], \"y\": [0, 5, null]}, {\"hoverinfo\": \"text\", \"line\": {\"color\": \"cornflowerblue\", \"width\": 0.19356485292766223}, \"mode\": \"lines\", \"text\": \"0.194\", \"type\": \"scatter\", \"x\": [7, 8, null], \"y\": [1, 0, null]}, {\"hoverinfo\": \"text\", \"line\": {\"color\": \"cornflowerblue\", \"width\": 0.1922873053594016}, \"mode\": \"lines\", \"text\": \"0.192\", \"type\": \"scatter\", \"x\": [7, 8, null], \"y\": [1, 1, null]}, {\"hoverinfo\": \"text\", \"line\": {\"color\": \"cornflowerblue\", \"width\": 0.20481425073233567}, \"mode\": \"lines\", \"text\": \"0.205\", \"type\": \"scatter\", \"x\": [7, 8, null], \"y\": [1, 2, null]}, {\"hoverinfo\": \"text\", \"line\": {\"color\": \"cornflowerblue\", \"width\": 0.1996406257941621}, \"mode\": \"lines\", \"text\": \"0.2\", \"type\": \"scatter\", \"x\": [7, 8, null], \"y\": [1, 3, null]}, {\"hoverinfo\": \"text\", \"line\": {\"color\": \"cornflowerblue\", \"width\": 0.24374200052817238}, \"mode\": \"lines\", \"text\": \"0.244\", \"type\": \"scatter\", \"x\": [7, 8, null], \"y\": [1, 4, null]}, {\"hoverinfo\": \"text\", \"line\": {\"color\": \"cornflowerblue\", \"width\": 0.1523501643468758}, \"mode\": \"lines\", \"text\": \"0.152\", \"type\": \"scatter\", \"x\": [7, 8, null], \"y\": [1, 5, null]}, {\"hoverinfo\": \"text\", \"line\": {\"color\": \"cornflowerblue\", \"width\": 0.1981803714980415}, \"mode\": \"lines\", \"text\": \"0.198\", \"type\": \"scatter\", \"x\": [7, 8, null], \"y\": [2, 0, null]}, {\"hoverinfo\": \"text\", \"line\": {\"color\": \"cornflowerblue\", \"width\": 0.1859360080448177}, \"mode\": \"lines\", \"text\": \"0.186\", \"type\": \"scatter\", \"x\": [7, 8, null], \"y\": [2, 1, null]}, {\"hoverinfo\": \"text\", \"line\": {\"color\": \"cornflowerblue\", \"width\": 0.17891756886023574}, \"mode\": \"lines\", \"text\": \"0.179\", \"type\": \"scatter\", \"x\": [7, 8, null], \"y\": [2, 2, null]}, {\"hoverinfo\": \"text\", \"line\": {\"color\": \"cornflowerblue\", \"width\": 0.3174484721628571}, \"mode\": \"lines\", \"text\": \"0.317\", \"type\": \"scatter\", \"x\": [7, 8, null], \"y\": [2, 3, null]}, {\"hoverinfo\": \"text\", \"line\": {\"color\": \"cornflowerblue\", \"width\": 0.2283700413021392}, \"mode\": \"lines\", \"text\": \"0.228\", \"type\": \"scatter\", \"x\": [7, 8, null], \"y\": [2, 4, null]}, {\"hoverinfo\": \"text\", \"line\": {\"color\": \"cornflowerblue\", \"width\": 0.1515320744025594}, \"mode\": \"lines\", \"text\": \"0.152\", \"type\": \"scatter\", \"x\": [7, 8, null], \"y\": [2, 5, null]}, {\"hoverinfo\": \"text\", \"line\": {\"color\": \"cornflowerblue\", \"width\": 0.5225025021468387}, \"mode\": \"lines\", \"text\": \"0.523\", \"type\": \"scatter\", \"x\": [7, 8, null], \"y\": [3, 0, null]}, {\"hoverinfo\": \"text\", \"line\": {\"color\": \"cornflowerblue\", \"width\": 0.1885962987758533}, \"mode\": \"lines\", \"text\": \"0.189\", \"type\": \"scatter\", \"x\": [7, 8, null], \"y\": [3, 1, null]}, {\"hoverinfo\": \"text\", \"line\": {\"color\": \"cornflowerblue\", \"width\": 0.18389125475431098}, \"mode\": \"lines\", \"text\": \"0.184\", \"type\": \"scatter\", \"x\": [7, 8, null], \"y\": [3, 2, null]}, {\"hoverinfo\": \"text\", \"line\": {\"color\": \"cornflowerblue\", \"width\": 0.1944240133701018}, \"mode\": \"lines\", \"text\": \"0.194\", \"type\": \"scatter\", \"x\": [7, 8, null], \"y\": [3, 3, null]}, {\"hoverinfo\": \"text\", \"line\": {\"color\": \"cornflowerblue\", \"width\": 0.2280130633669096}, \"mode\": \"lines\", \"text\": \"0.228\", \"type\": \"scatter\", \"x\": [7, 8, null], \"y\": [3, 4, null]}, {\"hoverinfo\": \"text\", \"line\": {\"color\": \"cornflowerblue\", \"width\": 0.1524227253984201}, \"mode\": \"lines\", \"text\": \"0.152\", \"type\": \"scatter\", \"x\": [7, 8, null], \"y\": [3, 5, null]}, {\"hoverinfo\": \"text\", \"line\": {\"color\": \"cornflowerblue\", \"width\": 0.15904899444865553}, \"mode\": \"lines\", \"text\": \"0.159\", \"type\": \"scatter\", \"x\": [7, 8, null], \"y\": [4, 0, null]}, {\"hoverinfo\": \"text\", \"line\": {\"color\": \"cornflowerblue\", \"width\": 0.16161371319935466}, \"mode\": \"lines\", \"text\": \"0.162\", \"type\": \"scatter\", \"x\": [7, 8, null], \"y\": [4, 1, null]}, {\"hoverinfo\": \"text\", \"line\": {\"color\": \"cornflowerblue\", \"width\": 0.16124096480702527}, \"mode\": \"lines\", \"text\": \"0.161\", \"type\": \"scatter\", \"x\": [7, 8, null], \"y\": [4, 2, null]}, {\"hoverinfo\": \"text\", \"line\": {\"color\": \"cornflowerblue\", \"width\": 0.1638521245713657}, \"mode\": \"lines\", \"text\": \"0.164\", \"type\": \"scatter\", \"x\": [7, 8, null], \"y\": [4, 3, null]}, {\"hoverinfo\": \"text\", \"line\": {\"color\": \"cornflowerblue\", \"width\": 0.16934096514035035}, \"mode\": \"lines\", \"text\": \"0.169\", \"type\": \"scatter\", \"x\": [7, 8, null], \"y\": [4, 4, null]}, {\"hoverinfo\": \"text\", \"line\": {\"color\": \"cornflowerblue\", \"width\": 0.1528760547286694}, \"mode\": \"lines\", \"text\": \"0.153\", \"type\": \"scatter\", \"x\": [7, 8, null], \"y\": [4, 5, null]}, {\"hoverinfo\": \"text\", \"line\": {\"color\": \"cornflowerblue\", \"width\": 0.15598434276763049}, \"mode\": \"lines\", \"text\": \"0.156\", \"type\": \"scatter\", \"x\": [7, 8, null], \"y\": [5, 0, null]}, {\"hoverinfo\": \"text\", \"line\": {\"color\": \"cornflowerblue\", \"width\": 0.15618877494766684}, \"mode\": \"lines\", \"text\": \"0.156\", \"type\": \"scatter\", \"x\": [7, 8, null], \"y\": [5, 1, null]}, {\"hoverinfo\": \"text\", \"line\": {\"color\": \"cornflowerblue\", \"width\": 0.15283160665127277}, \"mode\": \"lines\", \"text\": \"0.153\", \"type\": \"scatter\", \"x\": [7, 8, null], \"y\": [5, 2, null]}, {\"hoverinfo\": \"text\", \"line\": {\"color\": \"cornflowerblue\", \"width\": 0.15496591404850868}, \"mode\": \"lines\", \"text\": \"0.155\", \"type\": \"scatter\", \"x\": [7, 8, null], \"y\": [5, 3, null]}, {\"hoverinfo\": \"text\", \"line\": {\"color\": \"cornflowerblue\", \"width\": 0.15783979781634622}, \"mode\": \"lines\", \"text\": \"0.158\", \"type\": \"scatter\", \"x\": [7, 8, null], \"y\": [5, 4, null]}, {\"hoverinfo\": \"text\", \"line\": {\"color\": \"cornflowerblue\", \"width\": 0.14699408277663403}, \"mode\": \"lines\", \"text\": \"0.147\", \"type\": \"scatter\", \"x\": [7, 8, null], \"y\": [5, 5, null]}, {\"hoverinfo\": \"text\", \"line\": {\"color\": \"cornflowerblue\", \"width\": 0.15413189006419814}, \"mode\": \"lines\", \"text\": \"0.154\", \"type\": \"scatter\", \"x\": [7, 8, null], \"y\": [6, 0, null]}, {\"hoverinfo\": \"text\", \"line\": {\"color\": \"cornflowerblue\", \"width\": 0.15663443295905338}, \"mode\": \"lines\", \"text\": \"0.157\", \"type\": \"scatter\", \"x\": [7, 8, null], \"y\": [6, 1, null]}, {\"hoverinfo\": \"text\", \"line\": {\"color\": \"cornflowerblue\", \"width\": 0.15738292486266123}, \"mode\": \"lines\", \"text\": \"0.157\", \"type\": \"scatter\", \"x\": [7, 8, null], \"y\": [6, 2, null]}, {\"hoverinfo\": \"text\", \"line\": {\"color\": \"cornflowerblue\", \"width\": 0.15696144996448388}, \"mode\": \"lines\", \"text\": \"0.157\", \"type\": \"scatter\", \"x\": [7, 8, null], \"y\": [6, 3, null]}, {\"hoverinfo\": \"text\", \"line\": {\"color\": \"cornflowerblue\", \"width\": 0.15981394572394364}, \"mode\": \"lines\", \"text\": \"0.16\", \"type\": \"scatter\", \"x\": [7, 8, null], \"y\": [6, 4, null]}, {\"hoverinfo\": \"text\", \"line\": {\"color\": \"cornflowerblue\", \"width\": 0.15116213650740584}, \"mode\": \"lines\", \"text\": \"0.151\", \"type\": \"scatter\", \"x\": [7, 8, null], \"y\": [6, 5, null]}, {\"hoverinfo\": \"text\", \"line\": {\"color\": \"cornflowerblue\", \"width\": 0.15151602863100633}, \"mode\": \"lines\", \"text\": \"0.152\", \"type\": \"scatter\", \"x\": [7, 8, null], \"y\": [7, 0, null]}, {\"hoverinfo\": \"text\", \"line\": {\"color\": \"cornflowerblue\", \"width\": 0.15443055548066287}, \"mode\": \"lines\", \"text\": \"0.154\", \"type\": \"scatter\", \"x\": [7, 8, null], \"y\": [7, 1, null]}, {\"hoverinfo\": \"text\", \"line\": {\"color\": \"cornflowerblue\", \"width\": 0.15305592193246417}, \"mode\": \"lines\", \"text\": \"0.153\", \"type\": \"scatter\", \"x\": [7, 8, null], \"y\": [7, 2, null]}, {\"hoverinfo\": \"text\", \"line\": {\"color\": \"cornflowerblue\", \"width\": 0.15647456152918576}, \"mode\": \"lines\", \"text\": \"0.156\", \"type\": \"scatter\", \"x\": [7, 8, null], \"y\": [7, 3, null]}, {\"hoverinfo\": \"text\", \"line\": {\"color\": \"cornflowerblue\", \"width\": 0.1577428716366111}, \"mode\": \"lines\", \"text\": \"0.158\", \"type\": \"scatter\", \"x\": [7, 8, null], \"y\": [7, 4, null]}, {\"hoverinfo\": \"text\", \"line\": {\"color\": \"cornflowerblue\", \"width\": 0.1474690014975275}, \"mode\": \"lines\", \"text\": \"0.147\", \"type\": \"scatter\", \"x\": [7, 8, null], \"y\": [7, 5, null]}, {\"hoverinfo\": \"text\", \"line\": {\"color\": \"cornflowerblue\", \"width\": 0.1524979415746423}, \"mode\": \"lines\", \"text\": \"0.152\", \"type\": \"scatter\", \"x\": [7, 8, null], \"y\": [8, 0, null]}, {\"hoverinfo\": \"text\", \"line\": {\"color\": \"cornflowerblue\", \"width\": 0.1515114350610908}, \"mode\": \"lines\", \"text\": \"0.152\", \"type\": \"scatter\", \"x\": [7, 8, null], \"y\": [8, 1, null]}, {\"hoverinfo\": \"text\", \"line\": {\"color\": \"cornflowerblue\", \"width\": 0.15277452972657551}, \"mode\": \"lines\", \"text\": \"0.153\", \"type\": \"scatter\", \"x\": [7, 8, null], \"y\": [8, 2, null]}, {\"hoverinfo\": \"text\", \"line\": {\"color\": \"cornflowerblue\", \"width\": 0.15230739778709984}, \"mode\": \"lines\", \"text\": \"0.152\", \"type\": \"scatter\", \"x\": [7, 8, null], \"y\": [8, 3, null]}, {\"hoverinfo\": \"text\", \"line\": {\"color\": \"cornflowerblue\", \"width\": 0.15576880007285437}, \"mode\": \"lines\", \"text\": \"0.156\", \"type\": \"scatter\", \"x\": [7, 8, null], \"y\": [8, 4, null]}, {\"hoverinfo\": \"text\", \"line\": {\"color\": \"cornflowerblue\", \"width\": 0.15823964021339895}, \"mode\": \"lines\", \"text\": \"0.158\", \"type\": \"scatter\", \"x\": [7, 8, null], \"y\": [8, 5, null]}, {\"hoverinfo\": \"text\", \"line\": {\"color\": \"cornflowerblue\", \"width\": 0.18622209996446595}, \"mode\": \"lines\", \"text\": \"0.186\", \"type\": \"scatter\", \"x\": [8, 9, null], \"y\": [0, 0, null]}, {\"hoverinfo\": \"text\", \"line\": {\"color\": \"cornflowerblue\", \"width\": 0.1974821608892934}, \"mode\": \"lines\", \"text\": \"0.197\", \"type\": \"scatter\", \"x\": [8, 9, null], \"y\": [0, 1, null]}, {\"hoverinfo\": \"text\", \"line\": {\"color\": \"cornflowerblue\", \"width\": 0.1769771844073182}, \"mode\": \"lines\", \"text\": \"0.177\", \"type\": \"scatter\", \"x\": [8, 9, null], \"y\": [0, 2, null]}, {\"hoverinfo\": \"text\", \"line\": {\"color\": \"cornflowerblue\", \"width\": 0.18808327099054845}, \"mode\": \"lines\", \"text\": \"0.188\", \"type\": \"scatter\", \"x\": [8, 9, null], \"y\": [0, 3, null]}, {\"hoverinfo\": \"text\", \"line\": {\"color\": \"cornflowerblue\", \"width\": 0.48958348337199387}, \"mode\": \"lines\", \"text\": \"0.49\", \"type\": \"scatter\", \"x\": [8, 9, null], \"y\": [0, 4, null]}, {\"hoverinfo\": \"text\", \"line\": {\"color\": \"cornflowerblue\", \"width\": 0.1640078247228128}, \"mode\": \"lines\", \"text\": \"0.164\", \"type\": \"scatter\", \"x\": [8, 9, null], \"y\": [0, 5, null]}, {\"hoverinfo\": \"text\", \"line\": {\"color\": \"cornflowerblue\", \"width\": 0.15087264761434965}, \"mode\": \"lines\", \"text\": \"0.151\", \"type\": \"scatter\", \"x\": [8, 9, null], \"y\": [0, 6, null]}, {\"hoverinfo\": \"text\", \"line\": {\"color\": \"cornflowerblue\", \"width\": 0.29144496537267794}, \"mode\": \"lines\", \"text\": \"0.291\", \"type\": \"scatter\", \"x\": [8, 9, null], \"y\": [1, 0, null]}, {\"hoverinfo\": \"text\", \"line\": {\"color\": \"cornflowerblue\", \"width\": 0.1897213082562112}, \"mode\": \"lines\", \"text\": \"0.19\", \"type\": \"scatter\", \"x\": [8, 9, null], \"y\": [1, 1, null]}, {\"hoverinfo\": \"text\", \"line\": {\"color\": \"cornflowerblue\", \"width\": 0.17915677503800762}, \"mode\": \"lines\", \"text\": \"0.179\", \"type\": \"scatter\", \"x\": [8, 9, null], \"y\": [1, 2, null]}, {\"hoverinfo\": \"text\", \"line\": {\"color\": \"cornflowerblue\", \"width\": 0.17624636825552217}, \"mode\": \"lines\", \"text\": \"0.176\", \"type\": \"scatter\", \"x\": [8, 9, null], \"y\": [1, 3, null]}, {\"hoverinfo\": \"text\", \"line\": {\"color\": \"cornflowerblue\", \"width\": 0.19078969474024188}, \"mode\": \"lines\", \"text\": \"0.191\", \"type\": \"scatter\", \"x\": [8, 9, null], \"y\": [1, 4, null]}, {\"hoverinfo\": \"text\", \"line\": {\"color\": \"cornflowerblue\", \"width\": 0.1665302925130821}, \"mode\": \"lines\", \"text\": \"0.167\", \"type\": \"scatter\", \"x\": [8, 9, null], \"y\": [1, 5, null]}, {\"hoverinfo\": \"text\", \"line\": {\"color\": \"cornflowerblue\", \"width\": 0.15343341389089132}, \"mode\": \"lines\", \"text\": \"0.153\", \"type\": \"scatter\", \"x\": [8, 9, null], \"y\": [1, 6, null]}, {\"hoverinfo\": \"text\", \"line\": {\"color\": \"cornflowerblue\", \"width\": 0.20251038250892792}, \"mode\": \"lines\", \"text\": \"0.203\", \"type\": \"scatter\", \"x\": [8, 9, null], \"y\": [2, 0, null]}, {\"hoverinfo\": \"text\", \"line\": {\"color\": \"cornflowerblue\", \"width\": 0.17999485209573354}, \"mode\": \"lines\", \"text\": \"0.18\", \"type\": \"scatter\", \"x\": [8, 9, null], \"y\": [2, 1, null]}, {\"hoverinfo\": \"text\", \"line\": {\"color\": \"cornflowerblue\", \"width\": 0.1772905455124219}, \"mode\": \"lines\", \"text\": \"0.177\", \"type\": \"scatter\", \"x\": [8, 9, null], \"y\": [2, 2, null]}, {\"hoverinfo\": \"text\", \"line\": {\"color\": \"cornflowerblue\", \"width\": 0.17276452052609945}, \"mode\": \"lines\", \"text\": \"0.173\", \"type\": \"scatter\", \"x\": [8, 9, null], \"y\": [2, 3, null]}, {\"hoverinfo\": \"text\", \"line\": {\"color\": \"cornflowerblue\", \"width\": 0.18191458066334468}, \"mode\": \"lines\", \"text\": \"0.182\", \"type\": \"scatter\", \"x\": [8, 9, null], \"y\": [2, 4, null]}, {\"hoverinfo\": \"text\", \"line\": {\"color\": \"cornflowerblue\", \"width\": 0.16413729550748554}, \"mode\": \"lines\", \"text\": \"0.164\", \"type\": \"scatter\", \"x\": [8, 9, null], \"y\": [2, 5, null]}, {\"hoverinfo\": \"text\", \"line\": {\"color\": \"cornflowerblue\", \"width\": 0.151957352407828}, \"mode\": \"lines\", \"text\": \"0.152\", \"type\": \"scatter\", \"x\": [8, 9, null], \"y\": [2, 6, null]}, {\"hoverinfo\": \"text\", \"line\": {\"color\": \"cornflowerblue\", \"width\": 0.18406976765813027}, \"mode\": \"lines\", \"text\": \"0.184\", \"type\": \"scatter\", \"x\": [8, 9, null], \"y\": [3, 0, null]}, {\"hoverinfo\": \"text\", \"line\": {\"color\": \"cornflowerblue\", \"width\": 0.34209173657580993}, \"mode\": \"lines\", \"text\": \"0.342\", \"type\": \"scatter\", \"x\": [8, 9, null], \"y\": [3, 1, null]}, {\"hoverinfo\": \"text\", \"line\": {\"color\": \"cornflowerblue\", \"width\": 0.19282503180984048}, \"mode\": \"lines\", \"text\": \"0.193\", \"type\": \"scatter\", \"x\": [8, 9, null], \"y\": [3, 2, null]}, {\"hoverinfo\": \"text\", \"line\": {\"color\": \"cornflowerblue\", \"width\": 0.17857986930283706}, \"mode\": \"lines\", \"text\": \"0.179\", \"type\": \"scatter\", \"x\": [8, 9, null], \"y\": [3, 3, null]}, {\"hoverinfo\": \"text\", \"line\": {\"color\": \"cornflowerblue\", \"width\": 0.19828554228285944}, \"mode\": \"lines\", \"text\": \"0.198\", \"type\": \"scatter\", \"x\": [8, 9, null], \"y\": [3, 4, null]}, {\"hoverinfo\": \"text\", \"line\": {\"color\": \"cornflowerblue\", \"width\": 0.16597937791239636}, \"mode\": \"lines\", \"text\": \"0.166\", \"type\": \"scatter\", \"x\": [8, 9, null], \"y\": [3, 5, null]}, {\"hoverinfo\": \"text\", \"line\": {\"color\": \"cornflowerblue\", \"width\": 0.15179437925790595}, \"mode\": \"lines\", \"text\": \"0.152\", \"type\": \"scatter\", \"x\": [8, 9, null], \"y\": [3, 6, null]}, {\"hoverinfo\": \"text\", \"line\": {\"color\": \"cornflowerblue\", \"width\": 0.20329976999147084}, \"mode\": \"lines\", \"text\": \"0.203\", \"type\": \"scatter\", \"x\": [8, 9, null], \"y\": [4, 0, null]}, {\"hoverinfo\": \"text\", \"line\": {\"color\": \"cornflowerblue\", \"width\": 0.22509585152146053}, \"mode\": \"lines\", \"text\": \"0.225\", \"type\": \"scatter\", \"x\": [8, 9, null], \"y\": [4, 1, null]}, {\"hoverinfo\": \"text\", \"line\": {\"color\": \"cornflowerblue\", \"width\": 0.21813197753492958}, \"mode\": \"lines\", \"text\": \"0.218\", \"type\": \"scatter\", \"x\": [8, 9, null], \"y\": [4, 2, null]}, {\"hoverinfo\": \"text\", \"line\": {\"color\": \"cornflowerblue\", \"width\": 0.18300735596557507}, \"mode\": \"lines\", \"text\": \"0.183\", \"type\": \"scatter\", \"x\": [8, 9, null], \"y\": [4, 3, null]}, {\"hoverinfo\": \"text\", \"line\": {\"color\": \"cornflowerblue\", \"width\": 0.24137835961967055}, \"mode\": \"lines\", \"text\": \"0.241\", \"type\": \"scatter\", \"x\": [8, 9, null], \"y\": [4, 4, null]}, {\"hoverinfo\": \"text\", \"line\": {\"color\": \"cornflowerblue\", \"width\": 0.17716492157886168}, \"mode\": \"lines\", \"text\": \"0.177\", \"type\": \"scatter\", \"x\": [8, 9, null], \"y\": [4, 5, null]}, {\"hoverinfo\": \"text\", \"line\": {\"color\": \"cornflowerblue\", \"width\": 0.1528519568377532}, \"mode\": \"lines\", \"text\": \"0.153\", \"type\": \"scatter\", \"x\": [8, 9, null], \"y\": [4, 6, null]}, {\"hoverinfo\": \"text\", \"line\": {\"color\": \"cornflowerblue\", \"width\": 0.15665266677030512}, \"mode\": \"lines\", \"text\": \"0.157\", \"type\": \"scatter\", \"x\": [8, 9, null], \"y\": [5, 0, null]}, {\"hoverinfo\": \"text\", \"line\": {\"color\": \"cornflowerblue\", \"width\": 0.15220399318223665}, \"mode\": \"lines\", \"text\": \"0.152\", \"type\": \"scatter\", \"x\": [8, 9, null], \"y\": [5, 1, null]}, {\"hoverinfo\": \"text\", \"line\": {\"color\": \"cornflowerblue\", \"width\": 0.1535033004365343}, \"mode\": \"lines\", \"text\": \"0.154\", \"type\": \"scatter\", \"x\": [8, 9, null], \"y\": [5, 2, null]}, {\"hoverinfo\": \"text\", \"line\": {\"color\": \"cornflowerblue\", \"width\": 0.15325294282388285}, \"mode\": \"lines\", \"text\": \"0.153\", \"type\": \"scatter\", \"x\": [8, 9, null], \"y\": [5, 3, null]}, {\"hoverinfo\": \"text\", \"line\": {\"color\": \"cornflowerblue\", \"width\": 0.15244013016624042}, \"mode\": \"lines\", \"text\": \"0.152\", \"type\": \"scatter\", \"x\": [8, 9, null], \"y\": [5, 4, null]}, {\"hoverinfo\": \"text\", \"line\": {\"color\": \"cornflowerblue\", \"width\": 0.15335828211425714}, \"mode\": \"lines\", \"text\": \"0.153\", \"type\": \"scatter\", \"x\": [8, 9, null], \"y\": [5, 5, null]}, {\"hoverinfo\": \"text\", \"line\": {\"color\": \"cornflowerblue\", \"width\": 0.15008976581990044}, \"mode\": \"lines\", \"text\": \"0.15\", \"type\": \"scatter\", \"x\": [8, 9, null], \"y\": [5, 6, null]}, {\"hoverinfo\": \"text\", \"line\": {\"color\": \"cornflowerblue\", \"width\": 0.16743458402104044}, \"mode\": \"lines\", \"text\": \"0.167\", \"type\": \"scatter\", \"x\": [9, 10, null], \"y\": [0, 0, null]}, {\"hoverinfo\": \"text\", \"line\": {\"color\": \"cornflowerblue\", \"width\": 0.18791820059285758}, \"mode\": \"lines\", \"text\": \"0.188\", \"type\": \"scatter\", \"x\": [9, 10, null], \"y\": [0, 1, null]}, {\"hoverinfo\": \"text\", \"line\": {\"color\": \"cornflowerblue\", \"width\": 0.17262384772923364}, \"mode\": \"lines\", \"text\": \"0.173\", \"type\": \"scatter\", \"x\": [9, 10, null], \"y\": [0, 2, null]}, {\"hoverinfo\": \"text\", \"line\": {\"color\": \"cornflowerblue\", \"width\": 0.18287256766010396}, \"mode\": \"lines\", \"text\": \"0.183\", \"type\": \"scatter\", \"x\": [9, 10, null], \"y\": [0, 3, null]}, {\"hoverinfo\": \"text\", \"line\": {\"color\": \"cornflowerblue\", \"width\": 0.34208984688660615}, \"mode\": \"lines\", \"text\": \"0.342\", \"type\": \"scatter\", \"x\": [9, 10, null], \"y\": [0, 4, null]}, {\"hoverinfo\": \"text\", \"line\": {\"color\": \"cornflowerblue\", \"width\": 0.1913527919657225}, \"mode\": \"lines\", \"text\": \"0.191\", \"type\": \"scatter\", \"x\": [9, 10, null], \"y\": [0, 5, null]}, {\"hoverinfo\": \"text\", \"line\": {\"color\": \"cornflowerblue\", \"width\": 0.1526949129910241}, \"mode\": \"lines\", \"text\": \"0.153\", \"type\": \"scatter\", \"x\": [9, 10, null], \"y\": [0, 6, null]}, {\"hoverinfo\": \"text\", \"line\": {\"color\": \"cornflowerblue\", \"width\": 0.15097468338164724}, \"mode\": \"lines\", \"text\": \"0.151\", \"type\": \"scatter\", \"x\": [9, 10, null], \"y\": [0, 7, null]}, {\"hoverinfo\": \"text\", \"line\": {\"color\": \"cornflowerblue\", \"width\": 0.14738912740653062}, \"mode\": \"lines\", \"text\": \"0.147\", \"type\": \"scatter\", \"x\": [9, 10, null], \"y\": [0, 8, null]}, {\"hoverinfo\": \"text\", \"line\": {\"color\": \"cornflowerblue\", \"width\": 0.14983599867969857}, \"mode\": \"lines\", \"text\": \"0.15\", \"type\": \"scatter\", \"x\": [9, 10, null], \"y\": [0, 9, null]}, {\"hoverinfo\": \"text\", \"line\": {\"color\": \"cornflowerblue\", \"width\": 0.1680313191933583}, \"mode\": \"lines\", \"text\": \"0.168\", \"type\": \"scatter\", \"x\": [9, 10, null], \"y\": [1, 0, null]}, {\"hoverinfo\": \"text\", \"line\": {\"color\": \"cornflowerblue\", \"width\": 0.203379894707341}, \"mode\": \"lines\", \"text\": \"0.203\", \"type\": \"scatter\", \"x\": [9, 10, null], \"y\": [1, 1, null]}, {\"hoverinfo\": \"text\", \"line\": {\"color\": \"cornflowerblue\", \"width\": 0.1819619566209771}, \"mode\": \"lines\", \"text\": \"0.182\", \"type\": \"scatter\", \"x\": [9, 10, null], \"y\": [1, 2, null]}, {\"hoverinfo\": \"text\", \"line\": {\"color\": \"cornflowerblue\", \"width\": 0.3782311190842762}, \"mode\": \"lines\", \"text\": \"0.378\", \"type\": \"scatter\", \"x\": [9, 10, null], \"y\": [1, 3, null]}, {\"hoverinfo\": \"text\", \"line\": {\"color\": \"cornflowerblue\", \"width\": 0.19076263524825238}, \"mode\": \"lines\", \"text\": \"0.191\", \"type\": \"scatter\", \"x\": [9, 10, null], \"y\": [1, 4, null]}, {\"hoverinfo\": \"text\", \"line\": {\"color\": \"cornflowerblue\", \"width\": 0.2035078784215374}, \"mode\": \"lines\", \"text\": \"0.204\", \"type\": \"scatter\", \"x\": [9, 10, null], \"y\": [1, 5, null]}, {\"hoverinfo\": \"text\", \"line\": {\"color\": \"cornflowerblue\", \"width\": 0.15219876247097036}, \"mode\": \"lines\", \"text\": \"0.152\", \"type\": \"scatter\", \"x\": [9, 10, null], \"y\": [1, 6, null]}, {\"hoverinfo\": \"text\", \"line\": {\"color\": \"cornflowerblue\", \"width\": 0.15007799257009452}, \"mode\": \"lines\", \"text\": \"0.15\", \"type\": \"scatter\", \"x\": [9, 10, null], \"y\": [1, 7, null]}, {\"hoverinfo\": \"text\", \"line\": {\"color\": \"cornflowerblue\", \"width\": 0.14789823102396332}, \"mode\": \"lines\", \"text\": \"0.148\", \"type\": \"scatter\", \"x\": [9, 10, null], \"y\": [1, 9, null]}, {\"hoverinfo\": \"text\", \"line\": {\"color\": \"cornflowerblue\", \"width\": 0.17193843843332798}, \"mode\": \"lines\", \"text\": \"0.172\", \"type\": \"scatter\", \"x\": [9, 10, null], \"y\": [2, 0, null]}, {\"hoverinfo\": \"text\", \"line\": {\"color\": \"cornflowerblue\", \"width\": 0.21444277003112455}, \"mode\": \"lines\", \"text\": \"0.214\", \"type\": \"scatter\", \"x\": [9, 10, null], \"y\": [2, 1, null]}, {\"hoverinfo\": \"text\", \"line\": {\"color\": \"cornflowerblue\", \"width\": 0.18349135809170497}, \"mode\": \"lines\", \"text\": \"0.183\", \"type\": \"scatter\", \"x\": [9, 10, null], \"y\": [2, 2, null]}, {\"hoverinfo\": \"text\", \"line\": {\"color\": \"cornflowerblue\", \"width\": 0.1840964411648983}, \"mode\": \"lines\", \"text\": \"0.184\", \"type\": \"scatter\", \"x\": [9, 10, null], \"y\": [2, 3, null]}, {\"hoverinfo\": \"text\", \"line\": {\"color\": \"cornflowerblue\", \"width\": 0.1828673549163277}, \"mode\": \"lines\", \"text\": \"0.183\", \"type\": \"scatter\", \"x\": [9, 10, null], \"y\": [2, 4, null]}, {\"hoverinfo\": \"text\", \"line\": {\"color\": \"cornflowerblue\", \"width\": 0.1831288336814198}, \"mode\": \"lines\", \"text\": \"0.183\", \"type\": \"scatter\", \"x\": [9, 10, null], \"y\": [2, 5, null]}, {\"hoverinfo\": \"text\", \"line\": {\"color\": \"cornflowerblue\", \"width\": 0.15607198152042523}, \"mode\": \"lines\", \"text\": \"0.156\", \"type\": \"scatter\", \"x\": [9, 10, null], \"y\": [2, 6, null]}, {\"hoverinfo\": \"text\", \"line\": {\"color\": \"cornflowerblue\", \"width\": 0.15344084577302705}, \"mode\": \"lines\", \"text\": \"0.153\", \"type\": \"scatter\", \"x\": [9, 10, null], \"y\": [2, 7, null]}, {\"hoverinfo\": \"text\", \"line\": {\"color\": \"cornflowerblue\", \"width\": 0.1469581608207798}, \"mode\": \"lines\", \"text\": \"0.147\", \"type\": \"scatter\", \"x\": [9, 10, null], \"y\": [2, 8, null]}, {\"hoverinfo\": \"text\", \"line\": {\"color\": \"cornflowerblue\", \"width\": 0.148585372363776}, \"mode\": \"lines\", \"text\": \"0.149\", \"type\": \"scatter\", \"x\": [9, 10, null], \"y\": [2, 9, null]}, {\"hoverinfo\": \"text\", \"line\": {\"color\": \"cornflowerblue\", \"width\": 0.22533157112863697}, \"mode\": \"lines\", \"text\": \"0.225\", \"type\": \"scatter\", \"x\": [9, 10, null], \"y\": [3, 0, null]}, {\"hoverinfo\": \"text\", \"line\": {\"color\": \"cornflowerblue\", \"width\": 0.17789955108789327}, \"mode\": \"lines\", \"text\": \"0.178\", \"type\": \"scatter\", \"x\": [9, 10, null], \"y\": [3, 1, null]}, {\"hoverinfo\": \"text\", \"line\": {\"color\": \"cornflowerblue\", \"width\": 0.18217124556907294}, \"mode\": \"lines\", \"text\": \"0.182\", \"type\": \"scatter\", \"x\": [9, 10, null], \"y\": [3, 2, null]}, {\"hoverinfo\": \"text\", \"line\": {\"color\": \"cornflowerblue\", \"width\": 0.17535382985840117}, \"mode\": \"lines\", \"text\": \"0.175\", \"type\": \"scatter\", \"x\": [9, 10, null], \"y\": [3, 3, null]}, {\"hoverinfo\": \"text\", \"line\": {\"color\": \"cornflowerblue\", \"width\": 0.19221246390192784}, \"mode\": \"lines\", \"text\": \"0.192\", \"type\": \"scatter\", \"x\": [9, 10, null], \"y\": [3, 4, null]}, {\"hoverinfo\": \"text\", \"line\": {\"color\": \"cornflowerblue\", \"width\": 0.18802460135719154}, \"mode\": \"lines\", \"text\": \"0.188\", \"type\": \"scatter\", \"x\": [9, 10, null], \"y\": [3, 5, null]}, {\"hoverinfo\": \"text\", \"line\": {\"color\": \"cornflowerblue\", \"width\": 0.1527267546133461}, \"mode\": \"lines\", \"text\": \"0.153\", \"type\": \"scatter\", \"x\": [9, 10, null], \"y\": [3, 6, null]}, {\"hoverinfo\": \"text\", \"line\": {\"color\": \"cornflowerblue\", \"width\": 0.15353379272572593}, \"mode\": \"lines\", \"text\": \"0.154\", \"type\": \"scatter\", \"x\": [9, 10, null], \"y\": [3, 7, null]}, {\"hoverinfo\": \"text\", \"line\": {\"color\": \"cornflowerblue\", \"width\": 0.14904858427503215}, \"mode\": \"lines\", \"text\": \"0.149\", \"type\": \"scatter\", \"x\": [9, 10, null], \"y\": [3, 8, null]}, {\"hoverinfo\": \"text\", \"line\": {\"color\": \"cornflowerblue\", \"width\": 0.150980401925606}, \"mode\": \"lines\", \"text\": \"0.151\", \"type\": \"scatter\", \"x\": [9, 10, null], \"y\": [3, 9, null]}, {\"hoverinfo\": \"text\", \"line\": {\"color\": \"cornflowerblue\", \"width\": 0.17171054065542035}, \"mode\": \"lines\", \"text\": \"0.172\", \"type\": \"scatter\", \"x\": [9, 10, null], \"y\": [4, 0, null]}, {\"hoverinfo\": \"text\", \"line\": {\"color\": \"cornflowerblue\", \"width\": 0.18990770323915077}, \"mode\": \"lines\", \"text\": \"0.19\", \"type\": \"scatter\", \"x\": [9, 10, null], \"y\": [4, 1, null]}, {\"hoverinfo\": \"text\", \"line\": {\"color\": \"cornflowerblue\", \"width\": 0.18060587596449887}, \"mode\": \"lines\", \"text\": \"0.181\", \"type\": \"scatter\", \"x\": [9, 10, null], \"y\": [4, 2, null]}, {\"hoverinfo\": \"text\", \"line\": {\"color\": \"cornflowerblue\", \"width\": 0.21326689043209238}, \"mode\": \"lines\", \"text\": \"0.213\", \"type\": \"scatter\", \"x\": [9, 10, null], \"y\": [4, 3, null]}, {\"hoverinfo\": \"text\", \"line\": {\"color\": \"cornflowerblue\", \"width\": 0.1957747150360781}, \"mode\": \"lines\", \"text\": \"0.196\", \"type\": \"scatter\", \"x\": [9, 10, null], \"y\": [4, 4, null]}, {\"hoverinfo\": \"text\", \"line\": {\"color\": \"cornflowerblue\", \"width\": 0.5443002794891911}, \"mode\": \"lines\", \"text\": \"0.544\", \"type\": \"scatter\", \"x\": [9, 10, null], \"y\": [4, 5, null]}, {\"hoverinfo\": \"text\", \"line\": {\"color\": \"cornflowerblue\", \"width\": 0.15277145995860097}, \"mode\": \"lines\", \"text\": \"0.153\", \"type\": \"scatter\", \"x\": [9, 10, null], \"y\": [4, 6, null]}, {\"hoverinfo\": \"text\", \"line\": {\"color\": \"cornflowerblue\", \"width\": 0.15107675177234214}, \"mode\": \"lines\", \"text\": \"0.151\", \"type\": \"scatter\", \"x\": [9, 10, null], \"y\": [4, 7, null]}, {\"hoverinfo\": \"text\", \"line\": {\"color\": \"cornflowerblue\", \"width\": 0.147127903065694}, \"mode\": \"lines\", \"text\": \"0.147\", \"type\": \"scatter\", \"x\": [9, 10, null], \"y\": [4, 9, null]}, {\"hoverinfo\": \"text\", \"line\": {\"color\": \"cornflowerblue\", \"width\": 0.1631761185319026}, \"mode\": \"lines\", \"text\": \"0.163\", \"type\": \"scatter\", \"x\": [9, 10, null], \"y\": [5, 0, null]}, {\"hoverinfo\": \"text\", \"line\": {\"color\": \"cornflowerblue\", \"width\": 0.17031618055059414}, \"mode\": \"lines\", \"text\": \"0.17\", \"type\": \"scatter\", \"x\": [9, 10, null], \"y\": [5, 1, null]}, {\"hoverinfo\": \"text\", \"line\": {\"color\": \"cornflowerblue\", \"width\": 0.16458209574714372}, \"mode\": \"lines\", \"text\": \"0.165\", \"type\": \"scatter\", \"x\": [9, 10, null], \"y\": [5, 2, null]}, {\"hoverinfo\": \"text\", \"line\": {\"color\": \"cornflowerblue\", \"width\": 0.16792002337278625}, \"mode\": \"lines\", \"text\": \"0.168\", \"type\": \"scatter\", \"x\": [9, 10, null], \"y\": [5, 3, null]}, {\"hoverinfo\": \"text\", \"line\": {\"color\": \"cornflowerblue\", \"width\": 0.16756772897610606}, \"mode\": \"lines\", \"text\": \"0.168\", \"type\": \"scatter\", \"x\": [9, 10, null], \"y\": [5, 4, null]}, {\"hoverinfo\": \"text\", \"line\": {\"color\": \"cornflowerblue\", \"width\": 0.16492054769813325}, \"mode\": \"lines\", \"text\": \"0.165\", \"type\": \"scatter\", \"x\": [9, 10, null], \"y\": [5, 5, null]}, {\"hoverinfo\": \"text\", \"line\": {\"color\": \"cornflowerblue\", \"width\": 0.15244276240532284}, \"mode\": \"lines\", \"text\": \"0.152\", \"type\": \"scatter\", \"x\": [9, 10, null], \"y\": [5, 6, null]}, {\"hoverinfo\": \"text\", \"line\": {\"color\": \"cornflowerblue\", \"width\": 0.15217487159872403}, \"mode\": \"lines\", \"text\": \"0.152\", \"type\": \"scatter\", \"x\": [9, 10, null], \"y\": [5, 7, null]}, {\"hoverinfo\": \"text\", \"line\": {\"color\": \"cornflowerblue\", \"width\": 0.14829746223682963}, \"mode\": \"lines\", \"text\": \"0.148\", \"type\": \"scatter\", \"x\": [9, 10, null], \"y\": [5, 8, null]}, {\"hoverinfo\": \"text\", \"line\": {\"color\": \"cornflowerblue\", \"width\": 0.15023193966507045}, \"mode\": \"lines\", \"text\": \"0.15\", \"type\": \"scatter\", \"x\": [9, 10, null], \"y\": [5, 9, null]}, {\"hoverinfo\": \"text\", \"line\": {\"color\": \"cornflowerblue\", \"width\": 0.15430965691561105}, \"mode\": \"lines\", \"text\": \"0.154\", \"type\": \"scatter\", \"x\": [9, 10, null], \"y\": [6, 0, null]}, {\"hoverinfo\": \"text\", \"line\": {\"color\": \"cornflowerblue\", \"width\": 0.1516108442092875}, \"mode\": \"lines\", \"text\": \"0.152\", \"type\": \"scatter\", \"x\": [9, 10, null], \"y\": [6, 1, null]}, {\"hoverinfo\": \"text\", \"line\": {\"color\": \"cornflowerblue\", \"width\": 0.15439464742006442}, \"mode\": \"lines\", \"text\": \"0.154\", \"type\": \"scatter\", \"x\": [9, 10, null], \"y\": [6, 2, null]}, {\"hoverinfo\": \"text\", \"line\": {\"color\": \"cornflowerblue\", \"width\": 0.15063503021638672}, \"mode\": \"lines\", \"text\": \"0.151\", \"type\": \"scatter\", \"x\": [9, 10, null], \"y\": [6, 3, null]}, {\"hoverinfo\": \"text\", \"line\": {\"color\": \"cornflowerblue\", \"width\": 0.15294469075370187}, \"mode\": \"lines\", \"text\": \"0.153\", \"type\": \"scatter\", \"x\": [9, 10, null], \"y\": [6, 4, null]}, {\"hoverinfo\": \"text\", \"line\": {\"color\": \"cornflowerblue\", \"width\": 0.15131308722033124}, \"mode\": \"lines\", \"text\": \"0.151\", \"type\": \"scatter\", \"x\": [9, 10, null], \"y\": [6, 5, null]}, {\"hoverinfo\": \"text\", \"line\": {\"color\": \"cornflowerblue\", \"width\": 0.14701568594496403}, \"mode\": \"lines\", \"text\": \"0.147\", \"type\": \"scatter\", \"x\": [9, 10, null], \"y\": [6, 6, null]}, {\"hoverinfo\": \"text\", \"line\": {\"color\": \"cornflowerblue\", \"width\": 0.1493728479497232}, \"mode\": \"lines\", \"text\": \"0.149\", \"type\": \"scatter\", \"x\": [9, 10, null], \"y\": [6, 7, null]}, {\"hoverinfo\": \"text\", \"line\": {\"color\": \"cornflowerblue\", \"width\": 0.14652922151942555}, \"mode\": \"lines\", \"text\": \"0.147\", \"type\": \"scatter\", \"x\": [9, 10, null], \"y\": [6, 9, null]}, {\"hoverinfo\": \"text\", \"line\": {\"color\": \"cornflowerblue\", \"width\": 0.1688708554825879}, \"mode\": \"lines\", \"text\": \"0.169\", \"type\": \"scatter\", \"x\": [10, 11, null], \"y\": [0, 0, null]}, {\"hoverinfo\": \"text\", \"line\": {\"color\": \"cornflowerblue\", \"width\": 0.16458047524055452}, \"mode\": \"lines\", \"text\": \"0.165\", \"type\": \"scatter\", \"x\": [10, 11, null], \"y\": [0, 1, null]}, {\"hoverinfo\": \"text\", \"line\": {\"color\": \"cornflowerblue\", \"width\": 0.18988721541690756}, \"mode\": \"lines\", \"text\": \"0.19\", \"type\": \"scatter\", \"x\": [10, 11, null], \"y\": [0, 2, null]}, {\"hoverinfo\": \"text\", \"line\": {\"color\": \"cornflowerblue\", \"width\": 0.1696451240120602}, \"mode\": \"lines\", \"text\": \"0.17\", \"type\": \"scatter\", \"x\": [10, 11, null], \"y\": [0, 3, null]}, {\"hoverinfo\": \"text\", \"line\": {\"color\": \"cornflowerblue\", \"width\": 0.17045479037140693}, \"mode\": \"lines\", \"text\": \"0.17\", \"type\": \"scatter\", \"x\": [10, 11, null], \"y\": [0, 4, null]}, {\"hoverinfo\": \"text\", \"line\": {\"color\": \"cornflowerblue\", \"width\": 0.17419088044915287}, \"mode\": \"lines\", \"text\": \"0.174\", \"type\": \"scatter\", \"x\": [10, 11, null], \"y\": [0, 5, null]}, {\"hoverinfo\": \"text\", \"line\": {\"color\": \"cornflowerblue\", \"width\": 0.1658033347243683}, \"mode\": \"lines\", \"text\": \"0.166\", \"type\": \"scatter\", \"x\": [10, 11, null], \"y\": [0, 6, null]}, {\"hoverinfo\": \"text\", \"line\": {\"color\": \"cornflowerblue\", \"width\": 0.15066248149771166}, \"mode\": \"lines\", \"text\": \"0.151\", \"type\": \"scatter\", \"x\": [10, 11, null], \"y\": [0, 7, null]}, {\"hoverinfo\": \"text\", \"line\": {\"color\": \"cornflowerblue\", \"width\": 0.14909822854469668}, \"mode\": \"lines\", \"text\": \"0.149\", \"type\": \"scatter\", \"x\": [10, 11, null], \"y\": [0, 8, null]}, {\"hoverinfo\": \"text\", \"line\": {\"color\": \"cornflowerblue\", \"width\": 0.15236273523101787}, \"mode\": \"lines\", \"text\": \"0.152\", \"type\": \"scatter\", \"x\": [10, 11, null], \"y\": [0, 9, null]}, {\"hoverinfo\": \"text\", \"line\": {\"color\": \"cornflowerblue\", \"width\": 0.15322764311884451}, \"mode\": \"lines\", \"text\": \"0.153\", \"type\": \"scatter\", \"x\": [10, 11, null], \"y\": [0, 10, null]}, {\"hoverinfo\": \"text\", \"line\": {\"color\": \"cornflowerblue\", \"width\": 0.14667139767826518}, \"mode\": \"lines\", \"text\": \"0.147\", \"type\": \"scatter\", \"x\": [10, 11, null], \"y\": [0, 11, null]}, {\"hoverinfo\": \"text\", \"line\": {\"color\": \"cornflowerblue\", \"width\": 0.20077775027285497}, \"mode\": \"lines\", \"text\": \"0.201\", \"type\": \"scatter\", \"x\": [10, 11, null], \"y\": [1, 0, null]}, {\"hoverinfo\": \"text\", \"line\": {\"color\": \"cornflowerblue\", \"width\": 0.17570355083030878}, \"mode\": \"lines\", \"text\": \"0.176\", \"type\": \"scatter\", \"x\": [10, 11, null], \"y\": [1, 1, null]}, {\"hoverinfo\": \"text\", \"line\": {\"color\": \"cornflowerblue\", \"width\": 0.198823923208481}, \"mode\": \"lines\", \"text\": \"0.199\", \"type\": \"scatter\", \"x\": [10, 11, null], \"y\": [1, 2, null]}, {\"hoverinfo\": \"text\", \"line\": {\"color\": \"cornflowerblue\", \"width\": 0.22192796321751534}, \"mode\": \"lines\", \"text\": \"0.222\", \"type\": \"scatter\", \"x\": [10, 11, null], \"y\": [1, 3, null]}, {\"hoverinfo\": \"text\", \"line\": {\"color\": \"cornflowerblue\", \"width\": 0.16849365963697946}, \"mode\": \"lines\", \"text\": \"0.168\", \"type\": \"scatter\", \"x\": [10, 11, null], \"y\": [1, 4, null]}, {\"hoverinfo\": \"text\", \"line\": {\"color\": \"cornflowerblue\", \"width\": 0.1895968329694626}, \"mode\": \"lines\", \"text\": \"0.19\", \"type\": \"scatter\", \"x\": [10, 11, null], \"y\": [1, 5, null]}, {\"hoverinfo\": \"text\", \"line\": {\"color\": \"cornflowerblue\", \"width\": 0.1865266251351185}, \"mode\": \"lines\", \"text\": \"0.187\", \"type\": \"scatter\", \"x\": [10, 11, null], \"y\": [1, 6, null]}, {\"hoverinfo\": \"text\", \"line\": {\"color\": \"cornflowerblue\", \"width\": 0.15119314453176638}, \"mode\": \"lines\", \"text\": \"0.151\", \"type\": \"scatter\", \"x\": [10, 11, null], \"y\": [1, 7, null]}, {\"hoverinfo\": \"text\", \"line\": {\"color\": \"cornflowerblue\", \"width\": 0.14894255399197143}, \"mode\": \"lines\", \"text\": \"0.149\", \"type\": \"scatter\", \"x\": [10, 11, null], \"y\": [1, 8, null]}, {\"hoverinfo\": \"text\", \"line\": {\"color\": \"cornflowerblue\", \"width\": 0.15258936286948022}, \"mode\": \"lines\", \"text\": \"0.153\", \"type\": \"scatter\", \"x\": [10, 11, null], \"y\": [1, 9, null]}, {\"hoverinfo\": \"text\", \"line\": {\"color\": \"cornflowerblue\", \"width\": 0.15334179960662236}, \"mode\": \"lines\", \"text\": \"0.153\", \"type\": \"scatter\", \"x\": [10, 11, null], \"y\": [1, 10, null]}, {\"hoverinfo\": \"text\", \"line\": {\"color\": \"cornflowerblue\", \"width\": 0.1774907351277932}, \"mode\": \"lines\", \"text\": \"0.177\", \"type\": \"scatter\", \"x\": [10, 11, null], \"y\": [2, 0, null]}, {\"hoverinfo\": \"text\", \"line\": {\"color\": \"cornflowerblue\", \"width\": 0.1683695612078783}, \"mode\": \"lines\", \"text\": \"0.168\", \"type\": \"scatter\", \"x\": [10, 11, null], \"y\": [2, 1, null]}, {\"hoverinfo\": \"text\", \"line\": {\"color\": \"cornflowerblue\", \"width\": 0.18212014921327785}, \"mode\": \"lines\", \"text\": \"0.182\", \"type\": \"scatter\", \"x\": [10, 11, null], \"y\": [2, 2, null]}, {\"hoverinfo\": \"text\", \"line\": {\"color\": \"cornflowerblue\", \"width\": 0.17989809759071937}, \"mode\": \"lines\", \"text\": \"0.18\", \"type\": \"scatter\", \"x\": [10, 11, null], \"y\": [2, 3, null]}, {\"hoverinfo\": \"text\", \"line\": {\"color\": \"cornflowerblue\", \"width\": 0.17621623323854324}, \"mode\": \"lines\", \"text\": \"0.176\", \"type\": \"scatter\", \"x\": [10, 11, null], \"y\": [2, 4, null]}, {\"hoverinfo\": \"text\", \"line\": {\"color\": \"cornflowerblue\", \"width\": 0.1819752853984809}, \"mode\": \"lines\", \"text\": \"0.182\", \"type\": \"scatter\", \"x\": [10, 11, null], \"y\": [2, 5, null]}, {\"hoverinfo\": \"text\", \"line\": {\"color\": \"cornflowerblue\", \"width\": 0.17083917149746053}, \"mode\": \"lines\", \"text\": \"0.171\", \"type\": \"scatter\", \"x\": [10, 11, null], \"y\": [2, 6, null]}, {\"hoverinfo\": \"text\", \"line\": {\"color\": \"cornflowerblue\", \"width\": 0.1518629305638841}, \"mode\": \"lines\", \"text\": \"0.152\", \"type\": \"scatter\", \"x\": [10, 11, null], \"y\": [2, 7, null]}, {\"hoverinfo\": \"text\", \"line\": {\"color\": \"cornflowerblue\", \"width\": 0.15356708702789462}, \"mode\": \"lines\", \"text\": \"0.154\", \"type\": \"scatter\", \"x\": [10, 11, null], \"y\": [2, 8, null]}, {\"hoverinfo\": \"text\", \"line\": {\"color\": \"cornflowerblue\", \"width\": 0.15277335792119007}, \"mode\": \"lines\", \"text\": \"0.153\", \"type\": \"scatter\", \"x\": [10, 11, null], \"y\": [2, 9, null]}, {\"hoverinfo\": \"text\", \"line\": {\"color\": \"cornflowerblue\", \"width\": 0.15508966184297016}, \"mode\": \"lines\", \"text\": \"0.155\", \"type\": \"scatter\", \"x\": [10, 11, null], \"y\": [2, 10, null]}, {\"hoverinfo\": \"text\", \"line\": {\"color\": \"cornflowerblue\", \"width\": 0.39309240909353294}, \"mode\": \"lines\", \"text\": \"0.393\", \"type\": \"scatter\", \"x\": [10, 11, null], \"y\": [3, 0, null]}, {\"hoverinfo\": \"text\", \"line\": {\"color\": \"cornflowerblue\", \"width\": 0.17182328093683338}, \"mode\": \"lines\", \"text\": \"0.172\", \"type\": \"scatter\", \"x\": [10, 11, null], \"y\": [3, 1, null]}, {\"hoverinfo\": \"text\", \"line\": {\"color\": \"cornflowerblue\", \"width\": 0.1782958092073968}, \"mode\": \"lines\", \"text\": \"0.178\", \"type\": \"scatter\", \"x\": [10, 11, null], \"y\": [3, 2, null]}, {\"hoverinfo\": \"text\", \"line\": {\"color\": \"cornflowerblue\", \"width\": 0.18479324783008821}, \"mode\": \"lines\", \"text\": \"0.185\", \"type\": \"scatter\", \"x\": [10, 11, null], \"y\": [3, 3, null]}, {\"hoverinfo\": \"text\", \"line\": {\"color\": \"cornflowerblue\", \"width\": 0.1710411038440486}, \"mode\": \"lines\", \"text\": \"0.171\", \"type\": \"scatter\", \"x\": [10, 11, null], \"y\": [3, 4, null]}, {\"hoverinfo\": \"text\", \"line\": {\"color\": \"cornflowerblue\", \"width\": 0.21016828999592788}, \"mode\": \"lines\", \"text\": \"0.21\", \"type\": \"scatter\", \"x\": [10, 11, null], \"y\": [3, 5, null]}, {\"hoverinfo\": \"text\", \"line\": {\"color\": \"cornflowerblue\", \"width\": 0.19295859244027833}, \"mode\": \"lines\", \"text\": \"0.193\", \"type\": \"scatter\", \"x\": [10, 11, null], \"y\": [3, 6, null]}, {\"hoverinfo\": \"text\", \"line\": {\"color\": \"cornflowerblue\", \"width\": 0.15058921977023998}, \"mode\": \"lines\", \"text\": \"0.151\", \"type\": \"scatter\", \"x\": [10, 11, null], \"y\": [3, 7, null]}, {\"hoverinfo\": \"text\", \"line\": {\"color\": \"cornflowerblue\", \"width\": 0.1482820581917573}, \"mode\": \"lines\", \"text\": \"0.148\", \"type\": \"scatter\", \"x\": [10, 11, null], \"y\": [3, 8, null]}, {\"hoverinfo\": \"text\", \"line\": {\"color\": \"cornflowerblue\", \"width\": 0.15135357684408954}, \"mode\": \"lines\", \"text\": \"0.151\", \"type\": \"scatter\", \"x\": [10, 11, null], \"y\": [3, 9, null]}, {\"hoverinfo\": \"text\", \"line\": {\"color\": \"cornflowerblue\", \"width\": 0.1545573993994292}, \"mode\": \"lines\", \"text\": \"0.155\", \"type\": \"scatter\", \"x\": [10, 11, null], \"y\": [3, 10, null]}, {\"hoverinfo\": \"text\", \"line\": {\"color\": \"cornflowerblue\", \"width\": 0.19004578887239815}, \"mode\": \"lines\", \"text\": \"0.19\", \"type\": \"scatter\", \"x\": [10, 11, null], \"y\": [4, 0, null]}, {\"hoverinfo\": \"text\", \"line\": {\"color\": \"cornflowerblue\", \"width\": 0.17057536020485392}, \"mode\": \"lines\", \"text\": \"0.171\", \"type\": \"scatter\", \"x\": [10, 11, null], \"y\": [4, 1, null]}, {\"hoverinfo\": \"text\", \"line\": {\"color\": \"cornflowerblue\", \"width\": 0.17453037909436744}, \"mode\": \"lines\", \"text\": \"0.175\", \"type\": \"scatter\", \"x\": [10, 11, null], \"y\": [4, 2, null]}, {\"hoverinfo\": \"text\", \"line\": {\"color\": \"cornflowerblue\", \"width\": 0.1766599677432834}, \"mode\": \"lines\", \"text\": \"0.177\", \"type\": \"scatter\", \"x\": [10, 11, null], \"y\": [4, 3, null]}, {\"hoverinfo\": \"text\", \"line\": {\"color\": \"cornflowerblue\", \"width\": 0.18518876843297824}, \"mode\": \"lines\", \"text\": \"0.185\", \"type\": \"scatter\", \"x\": [10, 11, null], \"y\": [4, 4, null]}, {\"hoverinfo\": \"text\", \"line\": {\"color\": \"cornflowerblue\", \"width\": 0.19319881726496574}, \"mode\": \"lines\", \"text\": \"0.193\", \"type\": \"scatter\", \"x\": [10, 11, null], \"y\": [4, 5, null]}, {\"hoverinfo\": \"text\", \"line\": {\"color\": \"cornflowerblue\", \"width\": 0.28302798269354834}, \"mode\": \"lines\", \"text\": \"0.283\", \"type\": \"scatter\", \"x\": [10, 11, null], \"y\": [4, 6, null]}, {\"hoverinfo\": \"text\", \"line\": {\"color\": \"cornflowerblue\", \"width\": 0.15171070482630838}, \"mode\": \"lines\", \"text\": \"0.152\", \"type\": \"scatter\", \"x\": [10, 11, null], \"y\": [4, 7, null]}, {\"hoverinfo\": \"text\", \"line\": {\"color\": \"cornflowerblue\", \"width\": 0.1489629139312387}, \"mode\": \"lines\", \"text\": \"0.149\", \"type\": \"scatter\", \"x\": [10, 11, null], \"y\": [4, 8, null]}, {\"hoverinfo\": \"text\", \"line\": {\"color\": \"cornflowerblue\", \"width\": 0.15191706503252095}, \"mode\": \"lines\", \"text\": \"0.152\", \"type\": \"scatter\", \"x\": [10, 11, null], \"y\": [4, 9, null]}, {\"hoverinfo\": \"text\", \"line\": {\"color\": \"cornflowerblue\", \"width\": 0.15268963048536494}, \"mode\": \"lines\", \"text\": \"0.153\", \"type\": \"scatter\", \"x\": [10, 11, null], \"y\": [4, 10, null]}, {\"hoverinfo\": \"text\", \"line\": {\"color\": \"cornflowerblue\", \"width\": 0.20957663231365894}, \"mode\": \"lines\", \"text\": \"0.21\", \"type\": \"scatter\", \"x\": [10, 11, null], \"y\": [5, 0, null]}, {\"hoverinfo\": \"text\", \"line\": {\"color\": \"cornflowerblue\", \"width\": 0.17031901597635032}, \"mode\": \"lines\", \"text\": \"0.17\", \"type\": \"scatter\", \"x\": [10, 11, null], \"y\": [5, 1, null]}, {\"hoverinfo\": \"text\", \"line\": {\"color\": \"cornflowerblue\", \"width\": 0.17952004853933487}, \"mode\": \"lines\", \"text\": \"0.18\", \"type\": \"scatter\", \"x\": [10, 11, null], \"y\": [5, 2, null]}, {\"hoverinfo\": \"text\", \"line\": {\"color\": \"cornflowerblue\", \"width\": 0.17636824154302552}, \"mode\": \"lines\", \"text\": \"0.176\", \"type\": \"scatter\", \"x\": [10, 11, null], \"y\": [5, 3, null]}, {\"hoverinfo\": \"text\", \"line\": {\"color\": \"cornflowerblue\", \"width\": 0.17990532885600488}, \"mode\": \"lines\", \"text\": \"0.18\", \"type\": \"scatter\", \"x\": [10, 11, null], \"y\": [5, 4, null]}, {\"hoverinfo\": \"text\", \"line\": {\"color\": \"cornflowerblue\", \"width\": 0.5506443414175647}, \"mode\": \"lines\", \"text\": \"0.551\", \"type\": \"scatter\", \"x\": [10, 11, null], \"y\": [5, 5, null]}, {\"hoverinfo\": \"text\", \"line\": {\"color\": \"cornflowerblue\", \"width\": 0.2133981347626482}, \"mode\": \"lines\", \"text\": \"0.213\", \"type\": \"scatter\", \"x\": [10, 11, null], \"y\": [5, 6, null]}, {\"hoverinfo\": \"text\", \"line\": {\"color\": \"cornflowerblue\", \"width\": 0.1509735629459312}, \"mode\": \"lines\", \"text\": \"0.151\", \"type\": \"scatter\", \"x\": [10, 11, null], \"y\": [5, 7, null]}, {\"hoverinfo\": \"text\", \"line\": {\"color\": \"cornflowerblue\", \"width\": 0.1519668068273709}, \"mode\": \"lines\", \"text\": \"0.152\", \"type\": \"scatter\", \"x\": [10, 11, null], \"y\": [5, 8, null]}, {\"hoverinfo\": \"text\", \"line\": {\"color\": \"cornflowerblue\", \"width\": 0.15243307876546028}, \"mode\": \"lines\", \"text\": \"0.152\", \"type\": \"scatter\", \"x\": [10, 11, null], \"y\": [5, 9, null]}, {\"hoverinfo\": \"text\", \"line\": {\"color\": \"cornflowerblue\", \"width\": 0.15386563409571577}, \"mode\": \"lines\", \"text\": \"0.154\", \"type\": \"scatter\", \"x\": [10, 11, null], \"y\": [5, 10, null]}, {\"hoverinfo\": \"text\", \"line\": {\"color\": \"cornflowerblue\", \"width\": 0.1526413327541074}, \"mode\": \"lines\", \"text\": \"0.153\", \"type\": \"scatter\", \"x\": [10, 11, null], \"y\": [6, 0, null]}, {\"hoverinfo\": \"text\", \"line\": {\"color\": \"cornflowerblue\", \"width\": 0.1548107163827375}, \"mode\": \"lines\", \"text\": \"0.155\", \"type\": \"scatter\", \"x\": [10, 11, null], \"y\": [6, 1, null]}, {\"hoverinfo\": \"text\", \"line\": {\"color\": \"cornflowerblue\", \"width\": 0.15131228818742465}, \"mode\": \"lines\", \"text\": \"0.151\", \"type\": \"scatter\", \"x\": [10, 11, null], \"y\": [6, 2, null]}, {\"hoverinfo\": \"text\", \"line\": {\"color\": \"cornflowerblue\", \"width\": 0.15365177123800075}, \"mode\": \"lines\", \"text\": \"0.154\", \"type\": \"scatter\", \"x\": [10, 11, null], \"y\": [6, 3, null]}, {\"hoverinfo\": \"text\", \"line\": {\"color\": \"cornflowerblue\", \"width\": 0.1525137101256726}, \"mode\": \"lines\", \"text\": \"0.153\", \"type\": \"scatter\", \"x\": [10, 11, null], \"y\": [6, 4, null]}, {\"hoverinfo\": \"text\", \"line\": {\"color\": \"cornflowerblue\", \"width\": 0.15287384666055387}, \"mode\": \"lines\", \"text\": \"0.153\", \"type\": \"scatter\", \"x\": [10, 11, null], \"y\": [6, 5, null]}, {\"hoverinfo\": \"text\", \"line\": {\"color\": \"cornflowerblue\", \"width\": 0.15230532426492988}, \"mode\": \"lines\", \"text\": \"0.152\", \"type\": \"scatter\", \"x\": [10, 11, null], \"y\": [6, 6, null]}, {\"hoverinfo\": \"text\", \"line\": {\"color\": \"cornflowerblue\", \"width\": 0.14709069399644484}, \"mode\": \"lines\", \"text\": \"0.147\", \"type\": \"scatter\", \"x\": [10, 11, null], \"y\": [6, 7, null]}, {\"hoverinfo\": \"text\", \"line\": {\"color\": \"cornflowerblue\", \"width\": 0.14724787300299286}, \"mode\": \"lines\", \"text\": \"0.147\", \"type\": \"scatter\", \"x\": [10, 11, null], \"y\": [6, 9, null]}, {\"hoverinfo\": \"text\", \"line\": {\"color\": \"cornflowerblue\", \"width\": 0.1548313996402623}, \"mode\": \"lines\", \"text\": \"0.155\", \"type\": \"scatter\", \"x\": [10, 11, null], \"y\": [6, 10, null]}, {\"hoverinfo\": \"text\", \"line\": {\"color\": \"cornflowerblue\", \"width\": 0.14969953760327565}, \"mode\": \"lines\", \"text\": \"0.15\", \"type\": \"scatter\", \"x\": [10, 11, null], \"y\": [7, 0, null]}, {\"hoverinfo\": \"text\", \"line\": {\"color\": \"cornflowerblue\", \"width\": 0.15098949348066368}, \"mode\": \"lines\", \"text\": \"0.151\", \"type\": \"scatter\", \"x\": [10, 11, null], \"y\": [7, 1, null]}, {\"hoverinfo\": \"text\", \"line\": {\"color\": \"cornflowerblue\", \"width\": 0.152832038270557}, \"mode\": \"lines\", \"text\": \"0.153\", \"type\": \"scatter\", \"x\": [10, 11, null], \"y\": [7, 2, null]}, {\"hoverinfo\": \"text\", \"line\": {\"color\": \"cornflowerblue\", \"width\": 0.15112231681198796}, \"mode\": \"lines\", \"text\": \"0.151\", \"type\": \"scatter\", \"x\": [10, 11, null], \"y\": [7, 3, null]}, {\"hoverinfo\": \"text\", \"line\": {\"color\": \"cornflowerblue\", \"width\": 0.15368535214915094}, \"mode\": \"lines\", \"text\": \"0.154\", \"type\": \"scatter\", \"x\": [10, 11, null], \"y\": [7, 4, null]}, {\"hoverinfo\": \"text\", \"line\": {\"color\": \"cornflowerblue\", \"width\": 0.15130031891880003}, \"mode\": \"lines\", \"text\": \"0.151\", \"type\": \"scatter\", \"x\": [10, 11, null], \"y\": [7, 5, null]}, {\"hoverinfo\": \"text\", \"line\": {\"color\": \"cornflowerblue\", \"width\": 0.15068532609632518}, \"mode\": \"lines\", \"text\": \"0.151\", \"type\": \"scatter\", \"x\": [10, 11, null], \"y\": [7, 6, null]}, {\"hoverinfo\": \"text\", \"line\": {\"color\": \"cornflowerblue\", \"width\": 0.14964741896765504}, \"mode\": \"lines\", \"text\": \"0.15\", \"type\": \"scatter\", \"x\": [10, 11, null], \"y\": [7, 7, null]}, {\"hoverinfo\": \"text\", \"line\": {\"color\": \"cornflowerblue\", \"width\": 0.1484871903804239}, \"mode\": \"lines\", \"text\": \"0.148\", \"type\": \"scatter\", \"x\": [10, 11, null], \"y\": [7, 8, null]}, {\"hoverinfo\": \"text\", \"line\": {\"color\": \"cornflowerblue\", \"width\": 0.15040194523432995}, \"mode\": \"lines\", \"text\": \"0.15\", \"type\": \"scatter\", \"x\": [10, 11, null], \"y\": [7, 9, null]}, {\"hoverinfo\": \"text\", \"line\": {\"color\": \"cornflowerblue\", \"width\": 0.15367744565857913}, \"mode\": \"lines\", \"text\": \"0.154\", \"type\": \"scatter\", \"x\": [10, 11, null], \"y\": [7, 10, null]}, {\"hoverinfo\": \"text\", \"line\": {\"color\": \"cornflowerblue\", \"width\": 0.14669772686491805}, \"mode\": \"lines\", \"text\": \"0.147\", \"type\": \"scatter\", \"x\": [10, 11, null], \"y\": [7, 11, null]}, {\"hoverinfo\": \"text\", \"line\": {\"color\": \"cornflowerblue\", \"width\": 0.14746053211366628}, \"mode\": \"lines\", \"text\": \"0.147\", \"type\": \"scatter\", \"x\": [10, 11, null], \"y\": [8, 1, null]}, {\"hoverinfo\": \"text\", \"line\": {\"color\": \"cornflowerblue\", \"width\": 0.14809481949929773}, \"mode\": \"lines\", \"text\": \"0.148\", \"type\": \"scatter\", \"x\": [10, 11, null], \"y\": [8, 2, null]}, {\"hoverinfo\": \"text\", \"line\": {\"color\": \"cornflowerblue\", \"width\": 0.14661694866973532}, \"mode\": \"lines\", \"text\": \"0.147\", \"type\": \"scatter\", \"x\": [10, 11, null], \"y\": [8, 3, null]}, {\"hoverinfo\": \"text\", \"line\": {\"color\": \"cornflowerblue\", \"width\": 0.14924963704050181}, \"mode\": \"lines\", \"text\": \"0.149\", \"type\": \"scatter\", \"x\": [10, 11, null], \"y\": [8, 4, null]}, {\"hoverinfo\": \"text\", \"line\": {\"color\": \"cornflowerblue\", \"width\": 0.14645263681537984}, \"mode\": \"lines\", \"text\": \"0.146\", \"type\": \"scatter\", \"x\": [10, 11, null], \"y\": [8, 6, null]}, {\"hoverinfo\": \"text\", \"line\": {\"color\": \"cornflowerblue\", \"width\": 0.14781688091852727}, \"mode\": \"lines\", \"text\": \"0.148\", \"type\": \"scatter\", \"x\": [10, 11, null], \"y\": [9, 0, null]}, {\"hoverinfo\": \"text\", \"line\": {\"color\": \"cornflowerblue\", \"width\": 0.149262184233167}, \"mode\": \"lines\", \"text\": \"0.149\", \"type\": \"scatter\", \"x\": [10, 11, null], \"y\": [9, 1, null]}, {\"hoverinfo\": \"text\", \"line\": {\"color\": \"cornflowerblue\", \"width\": 0.14967322331796956}, \"mode\": \"lines\", \"text\": \"0.15\", \"type\": \"scatter\", \"x\": [10, 11, null], \"y\": [9, 2, null]}, {\"hoverinfo\": \"text\", \"line\": {\"color\": \"cornflowerblue\", \"width\": 0.14801319878903818}, \"mode\": \"lines\", \"text\": \"0.148\", \"type\": \"scatter\", \"x\": [10, 11, null], \"y\": [9, 3, null]}, {\"hoverinfo\": \"text\", \"line\": {\"color\": \"cornflowerblue\", \"width\": 0.15171014802366162}, \"mode\": \"lines\", \"text\": \"0.152\", \"type\": \"scatter\", \"x\": [10, 11, null], \"y\": [9, 4, null]}, {\"hoverinfo\": \"text\", \"line\": {\"color\": \"cornflowerblue\", \"width\": 0.14724408531284838}, \"mode\": \"lines\", \"text\": \"0.147\", \"type\": \"scatter\", \"x\": [10, 11, null], \"y\": [9, 5, null]}, {\"hoverinfo\": \"text\", \"line\": {\"color\": \"cornflowerblue\", \"width\": 0.1487350138445322}, \"mode\": \"lines\", \"text\": \"0.149\", \"type\": \"scatter\", \"x\": [10, 11, null], \"y\": [9, 6, null]}, {\"hoverinfo\": \"text\", \"line\": {\"color\": \"cornflowerblue\", \"width\": 0.1496318845255542}, \"mode\": \"lines\", \"text\": \"0.15\", \"type\": \"scatter\", \"x\": [10, 11, null], \"y\": [9, 7, null]}, {\"hoverinfo\": \"text\", \"line\": {\"color\": \"cornflowerblue\", \"width\": 0.147961911106209}, \"mode\": \"lines\", \"text\": \"0.148\", \"type\": \"scatter\", \"x\": [10, 11, null], \"y\": [9, 8, null]}, {\"hoverinfo\": \"text\", \"line\": {\"color\": \"cornflowerblue\", \"width\": 0.1516190482832442}, \"mode\": \"lines\", \"text\": \"0.152\", \"type\": \"scatter\", \"x\": [10, 11, null], \"y\": [9, 9, null]}, {\"hoverinfo\": \"text\", \"line\": {\"color\": \"cornflowerblue\", \"width\": 0.14718930123964866}, \"mode\": \"lines\", \"text\": \"0.147\", \"type\": \"scatter\", \"x\": [10, 11, null], \"y\": [9, 10, null]}, {\"hoverinfo\": \"text\", \"line\": {\"color\": \"cornflowerblue\", \"width\": 0.15171783160499047}, \"mode\": \"lines\", \"text\": \"0.152\", \"type\": \"scatter\", \"x\": [10, 11, null], \"y\": [9, 11, null]}, {\"hoverinfo\": \"text\", \"line\": {\"color\": \"cornflowerblue\", \"width\": 0.32945642737937975}, \"mode\": \"lines\", \"text\": \"0.329\", \"type\": \"scatter\", \"x\": [11, 12, null], \"y\": [0, 0, null]}, {\"hoverinfo\": \"text\", \"line\": {\"color\": \"cornflowerblue\", \"width\": 0.21037468770401946}, \"mode\": \"lines\", \"text\": \"0.21\", \"type\": \"scatter\", \"x\": [11, 12, null], \"y\": [0, 1, null]}, {\"hoverinfo\": \"text\", \"line\": {\"color\": \"cornflowerblue\", \"width\": 0.21175663727260413}, \"mode\": \"lines\", \"text\": \"0.212\", \"type\": \"scatter\", \"x\": [11, 12, null], \"y\": [0, 2, null]}, {\"hoverinfo\": \"text\", \"line\": {\"color\": \"cornflowerblue\", \"width\": 0.19114956365077707}, \"mode\": \"lines\", \"text\": \"0.191\", \"type\": \"scatter\", \"x\": [11, 12, null], \"y\": [0, 3, null]}, {\"hoverinfo\": \"text\", \"line\": {\"color\": \"cornflowerblue\", \"width\": 0.17212965109882475}, \"mode\": \"lines\", \"text\": \"0.172\", \"type\": \"scatter\", \"x\": [11, 12, null], \"y\": [0, 4, null]}, {\"hoverinfo\": \"text\", \"line\": {\"color\": \"cornflowerblue\", \"width\": 0.17103434513252194}, \"mode\": \"lines\", \"text\": \"0.171\", \"type\": \"scatter\", \"x\": [11, 12, null], \"y\": [0, 5, null]}, {\"hoverinfo\": \"text\", \"line\": {\"color\": \"cornflowerblue\", \"width\": 0.1537466281696162}, \"mode\": \"lines\", \"text\": \"0.154\", \"type\": \"scatter\", \"x\": [11, 12, null], \"y\": [0, 6, null]}, {\"hoverinfo\": \"text\", \"line\": {\"color\": \"cornflowerblue\", \"width\": 0.17260330205405444}, \"mode\": \"lines\", \"text\": \"0.173\", \"type\": \"scatter\", \"x\": [11, 12, null], \"y\": [1, 0, null]}, {\"hoverinfo\": \"text\", \"line\": {\"color\": \"cornflowerblue\", \"width\": 0.16855442150524808}, \"mode\": \"lines\", \"text\": \"0.169\", \"type\": \"scatter\", \"x\": [11, 12, null], \"y\": [1, 1, null]}, {\"hoverinfo\": \"text\", \"line\": {\"color\": \"cornflowerblue\", \"width\": 0.1712274338645224}, \"mode\": \"lines\", \"text\": \"0.171\", \"type\": \"scatter\", \"x\": [11, 12, null], \"y\": [1, 2, null]}, {\"hoverinfo\": \"text\", \"line\": {\"color\": \"cornflowerblue\", \"width\": 0.17502402986300786}, \"mode\": \"lines\", \"text\": \"0.175\", \"type\": \"scatter\", \"x\": [11, 12, null], \"y\": [1, 3, null]}, {\"hoverinfo\": \"text\", \"line\": {\"color\": \"cornflowerblue\", \"width\": 0.16423505960856352}, \"mode\": \"lines\", \"text\": \"0.164\", \"type\": \"scatter\", \"x\": [11, 12, null], \"y\": [1, 4, null]}, {\"hoverinfo\": \"text\", \"line\": {\"color\": \"cornflowerblue\", \"width\": 0.16643162334748046}, \"mode\": \"lines\", \"text\": \"0.166\", \"type\": \"scatter\", \"x\": [11, 12, null], \"y\": [1, 5, null]}, {\"hoverinfo\": \"text\", \"line\": {\"color\": \"cornflowerblue\", \"width\": 0.15566873809555573}, \"mode\": \"lines\", \"text\": \"0.156\", \"type\": \"scatter\", \"x\": [11, 12, null], \"y\": [1, 6, null]}, {\"hoverinfo\": \"text\", \"line\": {\"color\": \"cornflowerblue\", \"width\": 0.14884168820934843}, \"mode\": \"lines\", \"text\": \"0.149\", \"type\": \"scatter\", \"x\": [11, 12, null], \"y\": [1, 7, null]}, {\"hoverinfo\": \"text\", \"line\": {\"color\": \"cornflowerblue\", \"width\": 0.1781441749893757}, \"mode\": \"lines\", \"text\": \"0.178\", \"type\": \"scatter\", \"x\": [11, 12, null], \"y\": [2, 0, null]}, {\"hoverinfo\": \"text\", \"line\": {\"color\": \"cornflowerblue\", \"width\": 0.1922551016580585}, \"mode\": \"lines\", \"text\": \"0.192\", \"type\": \"scatter\", \"x\": [11, 12, null], \"y\": [2, 1, null]}, {\"hoverinfo\": \"text\", \"line\": {\"color\": \"cornflowerblue\", \"width\": 0.17830260411934434}, \"mode\": \"lines\", \"text\": \"0.178\", \"type\": \"scatter\", \"x\": [11, 12, null], \"y\": [2, 2, null]}, {\"hoverinfo\": \"text\", \"line\": {\"color\": \"cornflowerblue\", \"width\": 0.226003658750646}, \"mode\": \"lines\", \"text\": \"0.226\", \"type\": \"scatter\", \"x\": [11, 12, null], \"y\": [2, 3, null]}, {\"hoverinfo\": \"text\", \"line\": {\"color\": \"cornflowerblue\", \"width\": 0.17094456768935562}, \"mode\": \"lines\", \"text\": \"0.171\", \"type\": \"scatter\", \"x\": [11, 12, null], \"y\": [2, 4, null]}, {\"hoverinfo\": \"text\", \"line\": {\"color\": \"cornflowerblue\", \"width\": 0.1622286923197196}, \"mode\": \"lines\", \"text\": \"0.162\", \"type\": \"scatter\", \"x\": [11, 12, null], \"y\": [2, 5, null]}, {\"hoverinfo\": \"text\", \"line\": {\"color\": \"cornflowerblue\", \"width\": 0.15780559171314812}, \"mode\": \"lines\", \"text\": \"0.158\", \"type\": \"scatter\", \"x\": [11, 12, null], \"y\": [2, 6, null]}, {\"hoverinfo\": \"text\", \"line\": {\"color\": \"cornflowerblue\", \"width\": 0.14732200224746317}, \"mode\": \"lines\", \"text\": \"0.147\", \"type\": \"scatter\", \"x\": [11, 12, null], \"y\": [2, 7, null]}, {\"hoverinfo\": \"text\", \"line\": {\"color\": \"cornflowerblue\", \"width\": 0.1850754686467336}, \"mode\": \"lines\", \"text\": \"0.185\", \"type\": \"scatter\", \"x\": [11, 12, null], \"y\": [3, 0, null]}, {\"hoverinfo\": \"text\", \"line\": {\"color\": \"cornflowerblue\", \"width\": 0.21759929665998928}, \"mode\": \"lines\", \"text\": \"0.218\", \"type\": \"scatter\", \"x\": [11, 12, null], \"y\": [3, 1, null]}, {\"hoverinfo\": \"text\", \"line\": {\"color\": \"cornflowerblue\", \"width\": 0.1771271302141413}, \"mode\": \"lines\", \"text\": \"0.177\", \"type\": \"scatter\", \"x\": [11, 12, null], \"y\": [3, 2, null]}, {\"hoverinfo\": \"text\", \"line\": {\"color\": \"cornflowerblue\", \"width\": 0.18686003469115103}, \"mode\": \"lines\", \"text\": \"0.187\", \"type\": \"scatter\", \"x\": [11, 12, null], \"y\": [3, 3, null]}, {\"hoverinfo\": \"text\", \"line\": {\"color\": \"cornflowerblue\", \"width\": 0.16781936425661048}, \"mode\": \"lines\", \"text\": \"0.168\", \"type\": \"scatter\", \"x\": [11, 12, null], \"y\": [3, 4, null]}, {\"hoverinfo\": \"text\", \"line\": {\"color\": \"cornflowerblue\", \"width\": 0.1649109296416168}, \"mode\": \"lines\", \"text\": \"0.165\", \"type\": \"scatter\", \"x\": [11, 12, null], \"y\": [3, 5, null]}, {\"hoverinfo\": \"text\", \"line\": {\"color\": \"cornflowerblue\", \"width\": 0.15483516244339324}, \"mode\": \"lines\", \"text\": \"0.155\", \"type\": \"scatter\", \"x\": [11, 12, null], \"y\": [3, 6, null]}, {\"hoverinfo\": \"text\", \"line\": {\"color\": \"cornflowerblue\", \"width\": 0.14637078838732823}, \"mode\": \"lines\", \"text\": \"0.146\", \"type\": \"scatter\", \"x\": [11, 12, null], \"y\": [3, 7, null]}, {\"hoverinfo\": \"text\", \"line\": {\"color\": \"cornflowerblue\", \"width\": 0.1697209680745517}, \"mode\": \"lines\", \"text\": \"0.17\", \"type\": \"scatter\", \"x\": [11, 12, null], \"y\": [4, 0, null]}, {\"hoverinfo\": \"text\", \"line\": {\"color\": \"cornflowerblue\", \"width\": 0.16688879636361503}, \"mode\": \"lines\", \"text\": \"0.167\", \"type\": \"scatter\", \"x\": [11, 12, null], \"y\": [4, 1, null]}, {\"hoverinfo\": \"text\", \"line\": {\"color\": \"cornflowerblue\", \"width\": 0.18059910631375412}, \"mode\": \"lines\", \"text\": \"0.181\", \"type\": \"scatter\", \"x\": [11, 12, null], \"y\": [4, 2, null]}, {\"hoverinfo\": \"text\", \"line\": {\"color\": \"cornflowerblue\", \"width\": 0.17069149360156174}, \"mode\": \"lines\", \"text\": \"0.171\", \"type\": \"scatter\", \"x\": [11, 12, null], \"y\": [4, 3, null]}, {\"hoverinfo\": \"text\", \"line\": {\"color\": \"cornflowerblue\", \"width\": 0.39783669664041826}, \"mode\": \"lines\", \"text\": \"0.398\", \"type\": \"scatter\", \"x\": [11, 12, null], \"y\": [4, 4, null]}, {\"hoverinfo\": \"text\", \"line\": {\"color\": \"cornflowerblue\", \"width\": 0.15690312064716153}, \"mode\": \"lines\", \"text\": \"0.157\", \"type\": \"scatter\", \"x\": [11, 12, null], \"y\": [4, 5, null]}, {\"hoverinfo\": \"text\", \"line\": {\"color\": \"cornflowerblue\", \"width\": 0.1615593304306027}, \"mode\": \"lines\", \"text\": \"0.162\", \"type\": \"scatter\", \"x\": [11, 12, null], \"y\": [4, 6, null]}, {\"hoverinfo\": \"text\", \"line\": {\"color\": \"cornflowerblue\", \"width\": 0.1482477458220852}, \"mode\": \"lines\", \"text\": \"0.148\", \"type\": \"scatter\", \"x\": [11, 12, null], \"y\": [4, 7, null]}, {\"hoverinfo\": \"text\", \"line\": {\"color\": \"cornflowerblue\", \"width\": 0.20698362217646998}, \"mode\": \"lines\", \"text\": \"0.207\", \"type\": \"scatter\", \"x\": [11, 12, null], \"y\": [5, 0, null]}, {\"hoverinfo\": \"text\", \"line\": {\"color\": \"cornflowerblue\", \"width\": 0.18447677408941648}, \"mode\": \"lines\", \"text\": \"0.184\", \"type\": \"scatter\", \"x\": [11, 12, null], \"y\": [5, 1, null]}, {\"hoverinfo\": \"text\", \"line\": {\"color\": \"cornflowerblue\", \"width\": 0.547077899360563}, \"mode\": \"lines\", \"text\": \"0.547\", \"type\": \"scatter\", \"x\": [11, 12, null], \"y\": [5, 2, null]}, {\"hoverinfo\": \"text\", \"line\": {\"color\": \"cornflowerblue\", \"width\": 0.19430016989476473}, \"mode\": \"lines\", \"text\": \"0.194\", \"type\": \"scatter\", \"x\": [11, 12, null], \"y\": [5, 3, null]}, {\"hoverinfo\": \"text\", \"line\": {\"color\": \"cornflowerblue\", \"width\": 0.1914779801731691}, \"mode\": \"lines\", \"text\": \"0.191\", \"type\": \"scatter\", \"x\": [11, 12, null], \"y\": [5, 4, null]}, {\"hoverinfo\": \"text\", \"line\": {\"color\": \"cornflowerblue\", \"width\": 0.16303515215656023}, \"mode\": \"lines\", \"text\": \"0.163\", \"type\": \"scatter\", \"x\": [11, 12, null], \"y\": [5, 5, null]}, {\"hoverinfo\": \"text\", \"line\": {\"color\": \"cornflowerblue\", \"width\": 0.15534072315053937}, \"mode\": \"lines\", \"text\": \"0.155\", \"type\": \"scatter\", \"x\": [11, 12, null], \"y\": [5, 6, null]}, {\"hoverinfo\": \"text\", \"line\": {\"color\": \"cornflowerblue\", \"width\": 0.24317700964181227}, \"mode\": \"lines\", \"text\": \"0.243\", \"type\": \"scatter\", \"x\": [11, 12, null], \"y\": [6, 0, null]}, {\"hoverinfo\": \"text\", \"line\": {\"color\": \"cornflowerblue\", \"width\": 0.17727514876343148}, \"mode\": \"lines\", \"text\": \"0.177\", \"type\": \"scatter\", \"x\": [11, 12, null], \"y\": [6, 1, null]}, {\"hoverinfo\": \"text\", \"line\": {\"color\": \"cornflowerblue\", \"width\": 0.2125963754486776}, \"mode\": \"lines\", \"text\": \"0.213\", \"type\": \"scatter\", \"x\": [11, 12, null], \"y\": [6, 2, null]}, {\"hoverinfo\": \"text\", \"line\": {\"color\": \"cornflowerblue\", \"width\": 0.19233646437788915}, \"mode\": \"lines\", \"text\": \"0.192\", \"type\": \"scatter\", \"x\": [11, 12, null], \"y\": [6, 3, null]}, {\"hoverinfo\": \"text\", \"line\": {\"color\": \"cornflowerblue\", \"width\": 0.1754776316766038}, \"mode\": \"lines\", \"text\": \"0.175\", \"type\": \"scatter\", \"x\": [11, 12, null], \"y\": [6, 4, null]}, {\"hoverinfo\": \"text\", \"line\": {\"color\": \"cornflowerblue\", \"width\": 0.16342231517152556}, \"mode\": \"lines\", \"text\": \"0.163\", \"type\": \"scatter\", \"x\": [11, 12, null], \"y\": [6, 5, null]}, {\"hoverinfo\": \"text\", \"line\": {\"color\": \"cornflowerblue\", \"width\": 0.154037080715848}, \"mode\": \"lines\", \"text\": \"0.154\", \"type\": \"scatter\", \"x\": [11, 12, null], \"y\": [6, 6, null]}, {\"hoverinfo\": \"text\", \"line\": {\"color\": \"cornflowerblue\", \"width\": 0.14671976943739232}, \"mode\": \"lines\", \"text\": \"0.147\", \"type\": \"scatter\", \"x\": [11, 12, null], \"y\": [6, 7, null]}, {\"hoverinfo\": \"text\", \"line\": {\"color\": \"cornflowerblue\", \"width\": 0.15031652062393877}, \"mode\": \"lines\", \"text\": \"0.15\", \"type\": \"scatter\", \"x\": [11, 12, null], \"y\": [7, 0, null]}, {\"hoverinfo\": \"text\", \"line\": {\"color\": \"cornflowerblue\", \"width\": 0.15117958458655598}, \"mode\": \"lines\", \"text\": \"0.151\", \"type\": \"scatter\", \"x\": [11, 12, null], \"y\": [7, 1, null]}, {\"hoverinfo\": \"text\", \"line\": {\"color\": \"cornflowerblue\", \"width\": 0.15107561156115218}, \"mode\": \"lines\", \"text\": \"0.151\", \"type\": \"scatter\", \"x\": [11, 12, null], \"y\": [7, 2, null]}, {\"hoverinfo\": \"text\", \"line\": {\"color\": \"cornflowerblue\", \"width\": 0.15193077909298444}, \"mode\": \"lines\", \"text\": \"0.152\", \"type\": \"scatter\", \"x\": [11, 12, null], \"y\": [7, 3, null]}, {\"hoverinfo\": \"text\", \"line\": {\"color\": \"cornflowerblue\", \"width\": 0.15296623960097613}, \"mode\": \"lines\", \"text\": \"0.153\", \"type\": \"scatter\", \"x\": [11, 12, null], \"y\": [7, 4, null]}, {\"hoverinfo\": \"text\", \"line\": {\"color\": \"cornflowerblue\", \"width\": 0.15211821885442878}, \"mode\": \"lines\", \"text\": \"0.152\", \"type\": \"scatter\", \"x\": [11, 12, null], \"y\": [7, 5, null]}, {\"hoverinfo\": \"text\", \"line\": {\"color\": \"cornflowerblue\", \"width\": 0.14997614600091344}, \"mode\": \"lines\", \"text\": \"0.15\", \"type\": \"scatter\", \"x\": [11, 12, null], \"y\": [7, 6, null]}, {\"hoverinfo\": \"text\", \"line\": {\"color\": \"cornflowerblue\", \"width\": 0.14729235059431794}, \"mode\": \"lines\", \"text\": \"0.147\", \"type\": \"scatter\", \"x\": [11, 12, null], \"y\": [7, 7, null]}, {\"hoverinfo\": \"text\", \"line\": {\"color\": \"cornflowerblue\", \"width\": 0.14815366589818338}, \"mode\": \"lines\", \"text\": \"0.148\", \"type\": \"scatter\", \"x\": [11, 12, null], \"y\": [8, 0, null]}, {\"hoverinfo\": \"text\", \"line\": {\"color\": \"cornflowerblue\", \"width\": 0.14825434329122814}, \"mode\": \"lines\", \"text\": \"0.148\", \"type\": \"scatter\", \"x\": [11, 12, null], \"y\": [8, 1, null]}, {\"hoverinfo\": \"text\", \"line\": {\"color\": \"cornflowerblue\", \"width\": 0.15245210856173766}, \"mode\": \"lines\", \"text\": \"0.152\", \"type\": \"scatter\", \"x\": [11, 12, null], \"y\": [8, 2, null]}, {\"hoverinfo\": \"text\", \"line\": {\"color\": \"cornflowerblue\", \"width\": 0.1503141701020948}, \"mode\": \"lines\", \"text\": \"0.15\", \"type\": \"scatter\", \"x\": [11, 12, null], \"y\": [8, 3, null]}, {\"hoverinfo\": \"text\", \"line\": {\"color\": \"cornflowerblue\", \"width\": 0.1530791871752887}, \"mode\": \"lines\", \"text\": \"0.153\", \"type\": \"scatter\", \"x\": [11, 12, null], \"y\": [8, 4, null]}, {\"hoverinfo\": \"text\", \"line\": {\"color\": \"cornflowerblue\", \"width\": 0.14979832850626407}, \"mode\": \"lines\", \"text\": \"0.15\", \"type\": \"scatter\", \"x\": [11, 12, null], \"y\": [8, 5, null]}, {\"hoverinfo\": \"text\", \"line\": {\"color\": \"cornflowerblue\", \"width\": 0.1488014684348099}, \"mode\": \"lines\", \"text\": \"0.149\", \"type\": \"scatter\", \"x\": [11, 12, null], \"y\": [8, 6, null]}, {\"hoverinfo\": \"text\", \"line\": {\"color\": \"cornflowerblue\", \"width\": 0.1519666532705389}, \"mode\": \"lines\", \"text\": \"0.152\", \"type\": \"scatter\", \"x\": [11, 12, null], \"y\": [9, 0, null]}, {\"hoverinfo\": \"text\", \"line\": {\"color\": \"cornflowerblue\", \"width\": 0.1517575116760016}, \"mode\": \"lines\", \"text\": \"0.152\", \"type\": \"scatter\", \"x\": [11, 12, null], \"y\": [9, 1, null]}, {\"hoverinfo\": \"text\", \"line\": {\"color\": \"cornflowerblue\", \"width\": 0.15305795050412138}, \"mode\": \"lines\", \"text\": \"0.153\", \"type\": \"scatter\", \"x\": [11, 12, null], \"y\": [9, 2, null]}, {\"hoverinfo\": \"text\", \"line\": {\"color\": \"cornflowerblue\", \"width\": 0.15219254150261974}, \"mode\": \"lines\", \"text\": \"0.152\", \"type\": \"scatter\", \"x\": [11, 12, null], \"y\": [9, 3, null]}, {\"hoverinfo\": \"text\", \"line\": {\"color\": \"cornflowerblue\", \"width\": 0.1515223883499469}, \"mode\": \"lines\", \"text\": \"0.152\", \"type\": \"scatter\", \"x\": [11, 12, null], \"y\": [9, 4, null]}, {\"hoverinfo\": \"text\", \"line\": {\"color\": \"cornflowerblue\", \"width\": 0.15099835851077645}, \"mode\": \"lines\", \"text\": \"0.151\", \"type\": \"scatter\", \"x\": [11, 12, null], \"y\": [9, 5, null]}, {\"hoverinfo\": \"text\", \"line\": {\"color\": \"cornflowerblue\", \"width\": 0.14918236862435305}, \"mode\": \"lines\", \"text\": \"0.149\", \"type\": \"scatter\", \"x\": [11, 12, null], \"y\": [9, 6, null]}, {\"hoverinfo\": \"text\", \"line\": {\"color\": \"cornflowerblue\", \"width\": 0.1481133478850547}, \"mode\": \"lines\", \"text\": \"0.148\", \"type\": \"scatter\", \"x\": [11, 12, null], \"y\": [9, 7, null]}, {\"hoverinfo\": \"text\", \"line\": {\"color\": \"cornflowerblue\", \"width\": 0.15420199082379132}, \"mode\": \"lines\", \"text\": \"0.154\", \"type\": \"scatter\", \"x\": [11, 12, null], \"y\": [10, 0, null]}, {\"hoverinfo\": \"text\", \"line\": {\"color\": \"cornflowerblue\", \"width\": 0.1531653395020228}, \"mode\": \"lines\", \"text\": \"0.153\", \"type\": \"scatter\", \"x\": [11, 12, null], \"y\": [10, 1, null]}, {\"hoverinfo\": \"text\", \"line\": {\"color\": \"cornflowerblue\", \"width\": 0.15416007343028765}, \"mode\": \"lines\", \"text\": \"0.154\", \"type\": \"scatter\", \"x\": [11, 12, null], \"y\": [10, 2, null]}, {\"hoverinfo\": \"text\", \"line\": {\"color\": \"cornflowerblue\", \"width\": 0.1547271383610666}, \"mode\": \"lines\", \"text\": \"0.155\", \"type\": \"scatter\", \"x\": [11, 12, null], \"y\": [10, 3, null]}, {\"hoverinfo\": \"text\", \"line\": {\"color\": \"cornflowerblue\", \"width\": 0.15434847430313103}, \"mode\": \"lines\", \"text\": \"0.154\", \"type\": \"scatter\", \"x\": [11, 12, null], \"y\": [10, 4, null]}, {\"hoverinfo\": \"text\", \"line\": {\"color\": \"cornflowerblue\", \"width\": 0.15175242799520886}, \"mode\": \"lines\", \"text\": \"0.152\", \"type\": \"scatter\", \"x\": [11, 12, null], \"y\": [10, 5, null]}, {\"hoverinfo\": \"text\", \"line\": {\"color\": \"cornflowerblue\", \"width\": 0.1499468719133915}, \"mode\": \"lines\", \"text\": \"0.15\", \"type\": \"scatter\", \"x\": [11, 12, null], \"y\": [10, 6, null]}, {\"hoverinfo\": \"text\", \"line\": {\"color\": \"cornflowerblue\", \"width\": 0.14803630332719128}, \"mode\": \"lines\", \"text\": \"0.148\", \"type\": \"scatter\", \"x\": [11, 12, null], \"y\": [11, 4, null]}, {\"hoverinfo\": \"text\", \"line\": {\"color\": \"cornflowerblue\", \"width\": 0.33545213525070333}, \"mode\": \"lines\", \"text\": \"0.335\", \"type\": \"scatter\", \"x\": [12, 13, null], \"y\": [0, 0, null]}, {\"hoverinfo\": \"text\", \"line\": {\"color\": \"cornflowerblue\", \"width\": 0.18617029607808805}, \"mode\": \"lines\", \"text\": \"0.186\", \"type\": \"scatter\", \"x\": [12, 13, null], \"y\": [0, 1, null]}, {\"hoverinfo\": \"text\", \"line\": {\"color\": \"cornflowerblue\", \"width\": 0.2442938505154675}, \"mode\": \"lines\", \"text\": \"0.244\", \"type\": \"scatter\", \"x\": [12, 13, null], \"y\": [0, 2, null]}, {\"hoverinfo\": \"text\", \"line\": {\"color\": \"cornflowerblue\", \"width\": 0.17482937103507407}, \"mode\": \"lines\", \"text\": \"0.175\", \"type\": \"scatter\", \"x\": [12, 13, null], \"y\": [0, 3, null]}, {\"hoverinfo\": \"text\", \"line\": {\"color\": \"cornflowerblue\", \"width\": 0.20162536974582748}, \"mode\": \"lines\", \"text\": \"0.202\", \"type\": \"scatter\", \"x\": [12, 13, null], \"y\": [0, 4, null]}, {\"hoverinfo\": \"text\", \"line\": {\"color\": \"cornflowerblue\", \"width\": 0.2195175818734076}, \"mode\": \"lines\", \"text\": \"0.22\", \"type\": \"scatter\", \"x\": [12, 13, null], \"y\": [1, 0, null]}, {\"hoverinfo\": \"text\", \"line\": {\"color\": \"cornflowerblue\", \"width\": 0.19296056205452003}, \"mode\": \"lines\", \"text\": \"0.193\", \"type\": \"scatter\", \"x\": [12, 13, null], \"y\": [1, 1, null]}, {\"hoverinfo\": \"text\", \"line\": {\"color\": \"cornflowerblue\", \"width\": 0.17887313628936602}, \"mode\": \"lines\", \"text\": \"0.179\", \"type\": \"scatter\", \"x\": [12, 13, null], \"y\": [1, 2, null]}, {\"hoverinfo\": \"text\", \"line\": {\"color\": \"cornflowerblue\", \"width\": 0.17395035696074404}, \"mode\": \"lines\", \"text\": \"0.174\", \"type\": \"scatter\", \"x\": [12, 13, null], \"y\": [1, 3, null]}, {\"hoverinfo\": \"text\", \"line\": {\"color\": \"cornflowerblue\", \"width\": 0.18319246958531682}, \"mode\": \"lines\", \"text\": \"0.183\", \"type\": \"scatter\", \"x\": [12, 13, null], \"y\": [1, 4, null]}, {\"hoverinfo\": \"text\", \"line\": {\"color\": \"cornflowerblue\", \"width\": 0.20858333557919911}, \"mode\": \"lines\", \"text\": \"0.209\", \"type\": \"scatter\", \"x\": [12, 13, null], \"y\": [2, 0, null]}, {\"hoverinfo\": \"text\", \"line\": {\"color\": \"cornflowerblue\", \"width\": 0.18725212119517384}, \"mode\": \"lines\", \"text\": \"0.187\", \"type\": \"scatter\", \"x\": [12, 13, null], \"y\": [2, 1, null]}, {\"hoverinfo\": \"text\", \"line\": {\"color\": \"cornflowerblue\", \"width\": 0.2126518267080671}, \"mode\": \"lines\", \"text\": \"0.213\", \"type\": \"scatter\", \"x\": [12, 13, null], \"y\": [2, 2, null]}, {\"hoverinfo\": \"text\", \"line\": {\"color\": \"cornflowerblue\", \"width\": 0.19750617540706827}, \"mode\": \"lines\", \"text\": \"0.198\", \"type\": \"scatter\", \"x\": [12, 13, null], \"y\": [2, 3, null]}, {\"hoverinfo\": \"text\", \"line\": {\"color\": \"cornflowerblue\", \"width\": 0.522424821527766}, \"mode\": \"lines\", \"text\": \"0.522\", \"type\": \"scatter\", \"x\": [12, 13, null], \"y\": [2, 4, null]}, {\"hoverinfo\": \"text\", \"line\": {\"color\": \"cornflowerblue\", \"width\": 0.19122100241121037}, \"mode\": \"lines\", \"text\": \"0.191\", \"type\": \"scatter\", \"x\": [12, 13, null], \"y\": [3, 0, null]}, {\"hoverinfo\": \"text\", \"line\": {\"color\": \"cornflowerblue\", \"width\": 0.23212887843556054}, \"mode\": \"lines\", \"text\": \"0.232\", \"type\": \"scatter\", \"x\": [12, 13, null], \"y\": [3, 1, null]}, {\"hoverinfo\": \"text\", \"line\": {\"color\": \"cornflowerblue\", \"width\": 0.19618856092034734}, \"mode\": \"lines\", \"text\": \"0.196\", \"type\": \"scatter\", \"x\": [12, 13, null], \"y\": [3, 2, null]}, {\"hoverinfo\": \"text\", \"line\": {\"color\": \"cornflowerblue\", \"width\": 0.1772800741828685}, \"mode\": \"lines\", \"text\": \"0.177\", \"type\": \"scatter\", \"x\": [12, 13, null], \"y\": [3, 3, null]}, {\"hoverinfo\": \"text\", \"line\": {\"color\": \"cornflowerblue\", \"width\": 0.1947409856253984}, \"mode\": \"lines\", \"text\": \"0.195\", \"type\": \"scatter\", \"x\": [12, 13, null], \"y\": [3, 4, null]}, {\"hoverinfo\": \"text\", \"line\": {\"color\": \"cornflowerblue\", \"width\": 0.17115135802026066}, \"mode\": \"lines\", \"text\": \"0.171\", \"type\": \"scatter\", \"x\": [12, 13, null], \"y\": [4, 0, null]}, {\"hoverinfo\": \"text\", \"line\": {\"color\": \"cornflowerblue\", \"width\": 0.17052845606645783}, \"mode\": \"lines\", \"text\": \"0.171\", \"type\": \"scatter\", \"x\": [12, 13, null], \"y\": [4, 1, null]}, {\"hoverinfo\": \"text\", \"line\": {\"color\": \"cornflowerblue\", \"width\": 0.174851924406577}, \"mode\": \"lines\", \"text\": \"0.175\", \"type\": \"scatter\", \"x\": [12, 13, null], \"y\": [4, 2, null]}, {\"hoverinfo\": \"text\", \"line\": {\"color\": \"cornflowerblue\", \"width\": 0.3449844307631087}, \"mode\": \"lines\", \"text\": \"0.345\", \"type\": \"scatter\", \"x\": [12, 13, null], \"y\": [4, 3, null]}, {\"hoverinfo\": \"text\", \"line\": {\"color\": \"cornflowerblue\", \"width\": 0.19095763173893443}, \"mode\": \"lines\", \"text\": \"0.191\", \"type\": \"scatter\", \"x\": [12, 13, null], \"y\": [4, 4, null]}, {\"hoverinfo\": \"text\", \"line\": {\"color\": \"cornflowerblue\", \"width\": 0.17079072351000157}, \"mode\": \"lines\", \"text\": \"0.171\", \"type\": \"scatter\", \"x\": [12, 13, null], \"y\": [5, 0, null]}, {\"hoverinfo\": \"text\", \"line\": {\"color\": \"cornflowerblue\", \"width\": 0.1643344128908143}, \"mode\": \"lines\", \"text\": \"0.164\", \"type\": \"scatter\", \"x\": [12, 13, null], \"y\": [5, 1, null]}, {\"hoverinfo\": \"text\", \"line\": {\"color\": \"cornflowerblue\", \"width\": 0.16339584571365645}, \"mode\": \"lines\", \"text\": \"0.163\", \"type\": \"scatter\", \"x\": [12, 13, null], \"y\": [5, 2, null]}, {\"hoverinfo\": \"text\", \"line\": {\"color\": \"cornflowerblue\", \"width\": 0.15881552808894608}, \"mode\": \"lines\", \"text\": \"0.159\", \"type\": \"scatter\", \"x\": [12, 13, null], \"y\": [5, 3, null]}, {\"hoverinfo\": \"text\", \"line\": {\"color\": \"cornflowerblue\", \"width\": 0.1623604618952842}, \"mode\": \"lines\", \"text\": \"0.162\", \"type\": \"scatter\", \"x\": [12, 13, null], \"y\": [5, 4, null]}, {\"hoverinfo\": \"text\", \"line\": {\"color\": \"cornflowerblue\", \"width\": 0.1534982035029604}, \"mode\": \"lines\", \"text\": \"0.153\", \"type\": \"scatter\", \"x\": [12, 13, null], \"y\": [6, 0, null]}, {\"hoverinfo\": \"text\", \"line\": {\"color\": \"cornflowerblue\", \"width\": 0.15652826601125522}, \"mode\": \"lines\", \"text\": \"0.157\", \"type\": \"scatter\", \"x\": [12, 13, null], \"y\": [6, 1, null]}, {\"hoverinfo\": \"text\", \"line\": {\"color\": \"cornflowerblue\", \"width\": 0.15421100856189607}, \"mode\": \"lines\", \"text\": \"0.154\", \"type\": \"scatter\", \"x\": [12, 13, null], \"y\": [6, 2, null]}, {\"hoverinfo\": \"text\", \"line\": {\"color\": \"cornflowerblue\", \"width\": 0.1588285888254352}, \"mode\": \"lines\", \"text\": \"0.159\", \"type\": \"scatter\", \"x\": [12, 13, null], \"y\": [6, 3, null]}, {\"hoverinfo\": \"text\", \"line\": {\"color\": \"cornflowerblue\", \"width\": 0.15555882231323484}, \"mode\": \"lines\", \"text\": \"0.156\", \"type\": \"scatter\", \"x\": [12, 13, null], \"y\": [6, 4, null]}, {\"hoverinfo\": \"text\", \"line\": {\"color\": \"cornflowerblue\", \"width\": 0.1482786493878309}, \"mode\": \"lines\", \"text\": \"0.148\", \"type\": \"scatter\", \"x\": [12, 13, null], \"y\": [7, 1, null]}, {\"hoverinfo\": \"text\", \"line\": {\"color\": \"cornflowerblue\", \"width\": 0.14700985755584722}, \"mode\": \"lines\", \"text\": \"0.147\", \"type\": \"scatter\", \"x\": [12, 13, null], \"y\": [7, 2, null]}, {\"hoverinfo\": \"text\", \"line\": {\"color\": \"cornflowerblue\", \"width\": 0.15066216812068953}, \"mode\": \"lines\", \"text\": \"0.151\", \"type\": \"scatter\", \"x\": [12, 13, null], \"y\": [7, 3, null]}, {\"hoverinfo\": \"text\", \"line\": {\"color\": \"cornflowerblue\", \"width\": 0.14612744611668188}, \"mode\": \"lines\", \"text\": \"0.146\", \"type\": \"scatter\", \"x\": [12, 13, null], \"y\": [8, 3, null]}, {\"hoverinfo\": \"text\", \"line\": {\"color\": \"cornflowerblue\", \"width\": 0.19077525808590198}, \"mode\": \"lines\", \"text\": \"0.191\", \"type\": \"scatter\", \"x\": [13, 14, null], \"y\": [0, 0, null]}, {\"hoverinfo\": \"text\", \"line\": {\"color\": \"cornflowerblue\", \"width\": 0.17215047467717523}, \"mode\": \"lines\", \"text\": \"0.172\", \"type\": \"scatter\", \"x\": [13, 14, null], \"y\": [0, 1, null]}, {\"hoverinfo\": \"text\", \"line\": {\"color\": \"cornflowerblue\", \"width\": 0.19200026081386537}, \"mode\": \"lines\", \"text\": \"0.192\", \"type\": \"scatter\", \"x\": [13, 14, null], \"y\": [0, 2, null]}, {\"hoverinfo\": \"text\", \"line\": {\"color\": \"cornflowerblue\", \"width\": 0.1709236815667606}, \"mode\": \"lines\", \"text\": \"0.171\", \"type\": \"scatter\", \"x\": [13, 14, null], \"y\": [0, 3, null]}, {\"hoverinfo\": \"text\", \"line\": {\"color\": \"cornflowerblue\", \"width\": 0.43306796628590727}, \"mode\": \"lines\", \"text\": \"0.433\", \"type\": \"scatter\", \"x\": [13, 14, null], \"y\": [0, 4, null]}, {\"hoverinfo\": \"text\", \"line\": {\"color\": \"cornflowerblue\", \"width\": 0.20906012737958585}, \"mode\": \"lines\", \"text\": \"0.209\", \"type\": \"scatter\", \"x\": [13, 14, null], \"y\": [0, 5, null]}, {\"hoverinfo\": \"text\", \"line\": {\"color\": \"cornflowerblue\", \"width\": 0.1548431099441155}, \"mode\": \"lines\", \"text\": \"0.155\", \"type\": \"scatter\", \"x\": [13, 14, null], \"y\": [0, 6, null]}, {\"hoverinfo\": \"text\", \"line\": {\"color\": \"cornflowerblue\", \"width\": 0.15332544660575056}, \"mode\": \"lines\", \"text\": \"0.153\", \"type\": \"scatter\", \"x\": [13, 14, null], \"y\": [0, 7, null]}, {\"hoverinfo\": \"text\", \"line\": {\"color\": \"cornflowerblue\", \"width\": 0.17907369074575577}, \"mode\": \"lines\", \"text\": \"0.179\", \"type\": \"scatter\", \"x\": [13, 14, null], \"y\": [1, 0, null]}, {\"hoverinfo\": \"text\", \"line\": {\"color\": \"cornflowerblue\", \"width\": 0.187016823211812}, \"mode\": \"lines\", \"text\": \"0.187\", \"type\": \"scatter\", \"x\": [13, 14, null], \"y\": [1, 1, null]}, {\"hoverinfo\": \"text\", \"line\": {\"color\": \"cornflowerblue\", \"width\": 0.22826726587321583}, \"mode\": \"lines\", \"text\": \"0.228\", \"type\": \"scatter\", \"x\": [13, 14, null], \"y\": [1, 2, null]}, {\"hoverinfo\": \"text\", \"line\": {\"color\": \"cornflowerblue\", \"width\": 0.18508198104440354}, \"mode\": \"lines\", \"text\": \"0.185\", \"type\": \"scatter\", \"x\": [13, 14, null], \"y\": [1, 3, null]}, {\"hoverinfo\": \"text\", \"line\": {\"color\": \"cornflowerblue\", \"width\": 0.18889871187488916}, \"mode\": \"lines\", \"text\": \"0.189\", \"type\": \"scatter\", \"x\": [13, 14, null], \"y\": [1, 4, null]}, {\"hoverinfo\": \"text\", \"line\": {\"color\": \"cornflowerblue\", \"width\": 0.18884567306761915}, \"mode\": \"lines\", \"text\": \"0.189\", \"type\": \"scatter\", \"x\": [13, 14, null], \"y\": [1, 5, null]}, {\"hoverinfo\": \"text\", \"line\": {\"color\": \"cornflowerblue\", \"width\": 0.1584068386580693}, \"mode\": \"lines\", \"text\": \"0.158\", \"type\": \"scatter\", \"x\": [13, 14, null], \"y\": [1, 6, null]}, {\"hoverinfo\": \"text\", \"line\": {\"color\": \"cornflowerblue\", \"width\": 0.15422220785060253}, \"mode\": \"lines\", \"text\": \"0.154\", \"type\": \"scatter\", \"x\": [13, 14, null], \"y\": [1, 7, null]}, {\"hoverinfo\": \"text\", \"line\": {\"color\": \"cornflowerblue\", \"width\": 0.27518504087921203}, \"mode\": \"lines\", \"text\": \"0.275\", \"type\": \"scatter\", \"x\": [13, 14, null], \"y\": [2, 0, null]}, {\"hoverinfo\": \"text\", \"line\": {\"color\": \"cornflowerblue\", \"width\": 0.16653510308383163}, \"mode\": \"lines\", \"text\": \"0.167\", \"type\": \"scatter\", \"x\": [13, 14, null], \"y\": [2, 1, null]}, {\"hoverinfo\": \"text\", \"line\": {\"color\": \"cornflowerblue\", \"width\": 0.18574013303331935}, \"mode\": \"lines\", \"text\": \"0.186\", \"type\": \"scatter\", \"x\": [13, 14, null], \"y\": [2, 2, null]}, {\"hoverinfo\": \"text\", \"line\": {\"color\": \"cornflowerblue\", \"width\": 0.16780480532708372}, \"mode\": \"lines\", \"text\": \"0.168\", \"type\": \"scatter\", \"x\": [13, 14, null], \"y\": [2, 3, null]}, {\"hoverinfo\": \"text\", \"line\": {\"color\": \"cornflowerblue\", \"width\": 0.19798293927777807}, \"mode\": \"lines\", \"text\": \"0.198\", \"type\": \"scatter\", \"x\": [13, 14, null], \"y\": [2, 4, null]}, {\"hoverinfo\": \"text\", \"line\": {\"color\": \"cornflowerblue\", \"width\": 0.21776171472029202}, \"mode\": \"lines\", \"text\": \"0.218\", \"type\": \"scatter\", \"x\": [13, 14, null], \"y\": [2, 5, null]}, {\"hoverinfo\": \"text\", \"line\": {\"color\": \"cornflowerblue\", \"width\": 0.15940605334567215}, \"mode\": \"lines\", \"text\": \"0.159\", \"type\": \"scatter\", \"x\": [13, 14, null], \"y\": [2, 6, null]}, {\"hoverinfo\": \"text\", \"line\": {\"color\": \"cornflowerblue\", \"width\": 0.15880916647336604}, \"mode\": \"lines\", \"text\": \"0.159\", \"type\": \"scatter\", \"x\": [13, 14, null], \"y\": [2, 7, null]}, {\"hoverinfo\": \"text\", \"line\": {\"color\": \"cornflowerblue\", \"width\": 0.24219988653026364}, \"mode\": \"lines\", \"text\": \"0.242\", \"type\": \"scatter\", \"x\": [13, 14, null], \"y\": [3, 0, null]}, {\"hoverinfo\": \"text\", \"line\": {\"color\": \"cornflowerblue\", \"width\": 0.1627224035632249}, \"mode\": \"lines\", \"text\": \"0.163\", \"type\": \"scatter\", \"x\": [13, 14, null], \"y\": [3, 1, null]}, {\"hoverinfo\": \"text\", \"line\": {\"color\": \"cornflowerblue\", \"width\": 0.17585235331197777}, \"mode\": \"lines\", \"text\": \"0.176\", \"type\": \"scatter\", \"x\": [13, 14, null], \"y\": [3, 2, null]}, {\"hoverinfo\": \"text\", \"line\": {\"color\": \"cornflowerblue\", \"width\": 0.1659883091929048}, \"mode\": \"lines\", \"text\": \"0.166\", \"type\": \"scatter\", \"x\": [13, 14, null], \"y\": [3, 3, null]}, {\"hoverinfo\": \"text\", \"line\": {\"color\": \"cornflowerblue\", \"width\": 0.17699153507448206}, \"mode\": \"lines\", \"text\": \"0.177\", \"type\": \"scatter\", \"x\": [13, 14, null], \"y\": [3, 4, null]}, {\"hoverinfo\": \"text\", \"line\": {\"color\": \"cornflowerblue\", \"width\": 0.19720661407862844}, \"mode\": \"lines\", \"text\": \"0.197\", \"type\": \"scatter\", \"x\": [13, 14, null], \"y\": [3, 5, null]}, {\"hoverinfo\": \"text\", \"line\": {\"color\": \"cornflowerblue\", \"width\": 0.15742963285443817}, \"mode\": \"lines\", \"text\": \"0.157\", \"type\": \"scatter\", \"x\": [13, 14, null], \"y\": [3, 6, null]}, {\"hoverinfo\": \"text\", \"line\": {\"color\": \"cornflowerblue\", \"width\": 0.15493032075364474}, \"mode\": \"lines\", \"text\": \"0.155\", \"type\": \"scatter\", \"x\": [13, 14, null], \"y\": [3, 7, null]}, {\"hoverinfo\": \"text\", \"line\": {\"color\": \"cornflowerblue\", \"width\": 0.20005785690779515}, \"mode\": \"lines\", \"text\": \"0.2\", \"type\": \"scatter\", \"x\": [13, 14, null], \"y\": [4, 0, null]}, {\"hoverinfo\": \"text\", \"line\": {\"color\": \"cornflowerblue\", \"width\": 0.1656083579434011}, \"mode\": \"lines\", \"text\": \"0.166\", \"type\": \"scatter\", \"x\": [13, 14, null], \"y\": [4, 1, null]}, {\"hoverinfo\": \"text\", \"line\": {\"color\": \"cornflowerblue\", \"width\": 0.18779350644802864}, \"mode\": \"lines\", \"text\": \"0.188\", \"type\": \"scatter\", \"x\": [13, 14, null], \"y\": [4, 2, null]}, {\"hoverinfo\": \"text\", \"line\": {\"color\": \"cornflowerblue\", \"width\": 0.16654319921824612}, \"mode\": \"lines\", \"text\": \"0.167\", \"type\": \"scatter\", \"x\": [13, 14, null], \"y\": [4, 3, null]}, {\"hoverinfo\": \"text\", \"line\": {\"color\": \"cornflowerblue\", \"width\": 0.2049016394118587}, \"mode\": \"lines\", \"text\": \"0.205\", \"type\": \"scatter\", \"x\": [13, 14, null], \"y\": [4, 4, null]}, {\"hoverinfo\": \"text\", \"line\": {\"color\": \"cornflowerblue\", \"width\": 0.5151916862723787}, \"mode\": \"lines\", \"text\": \"0.515\", \"type\": \"scatter\", \"x\": [13, 14, null], \"y\": [4, 5, null]}, {\"hoverinfo\": \"text\", \"line\": {\"color\": \"cornflowerblue\", \"width\": 0.15581031435323428}, \"mode\": \"lines\", \"text\": \"0.156\", \"type\": \"scatter\", \"x\": [13, 14, null], \"y\": [4, 6, null]}, {\"hoverinfo\": \"text\", \"line\": {\"color\": \"cornflowerblue\", \"width\": 0.15095304132529952}, \"mode\": \"lines\", \"text\": \"0.151\", \"type\": \"scatter\", \"x\": [13, 14, null], \"y\": [4, 7, null]}, {\"hoverinfo\": \"text\", \"line\": {\"color\": \"cornflowerblue\", \"width\": 0.21639161385099828}, \"mode\": \"lines\", \"text\": \"0.216\", \"type\": \"scatter\", \"x\": [14, 15, null], \"y\": [0, 0, null]}, {\"hoverinfo\": \"text\", \"line\": {\"color\": \"cornflowerblue\", \"width\": 0.1905119890309843}, \"mode\": \"lines\", \"text\": \"0.191\", \"type\": \"scatter\", \"x\": [14, 15, null], \"y\": [0, 1, null]}, {\"hoverinfo\": \"text\", \"line\": {\"color\": \"cornflowerblue\", \"width\": 0.172525083109049}, \"mode\": \"lines\", \"text\": \"0.173\", \"type\": \"scatter\", \"x\": [14, 15, null], \"y\": [0, 2, null]}, {\"hoverinfo\": \"text\", \"line\": {\"color\": \"cornflowerblue\", \"width\": 0.27401721335005047}, \"mode\": \"lines\", \"text\": \"0.274\", \"type\": \"scatter\", \"x\": [14, 15, null], \"y\": [0, 3, null]}, {\"hoverinfo\": \"text\", \"line\": {\"color\": \"cornflowerblue\", \"width\": 0.18678314603616888}, \"mode\": \"lines\", \"text\": \"0.187\", \"type\": \"scatter\", \"x\": [14, 15, null], \"y\": [0, 4, null]}, {\"hoverinfo\": \"text\", \"line\": {\"color\": \"cornflowerblue\", \"width\": 0.15965698551497967}, \"mode\": \"lines\", \"text\": \"0.16\", \"type\": \"scatter\", \"x\": [14, 15, null], \"y\": [0, 5, null]}, {\"hoverinfo\": \"text\", \"line\": {\"color\": \"cornflowerblue\", \"width\": 0.1556484327136715}, \"mode\": \"lines\", \"text\": \"0.156\", \"type\": \"scatter\", \"x\": [14, 15, null], \"y\": [0, 6, null]}, {\"hoverinfo\": \"text\", \"line\": {\"color\": \"cornflowerblue\", \"width\": 0.1509698819123587}, \"mode\": \"lines\", \"text\": \"0.151\", \"type\": \"scatter\", \"x\": [14, 15, null], \"y\": [0, 7, null]}, {\"hoverinfo\": \"text\", \"line\": {\"color\": \"cornflowerblue\", \"width\": 0.16691695950167323}, \"mode\": \"lines\", \"text\": \"0.167\", \"type\": \"scatter\", \"x\": [14, 15, null], \"y\": [1, 0, null]}, {\"hoverinfo\": \"text\", \"line\": {\"color\": \"cornflowerblue\", \"width\": 0.17135516577921533}, \"mode\": \"lines\", \"text\": \"0.171\", \"type\": \"scatter\", \"x\": [14, 15, null], \"y\": [1, 1, null]}, {\"hoverinfo\": \"text\", \"line\": {\"color\": \"cornflowerblue\", \"width\": 0.20360066709867314}, \"mode\": \"lines\", \"text\": \"0.204\", \"type\": \"scatter\", \"x\": [14, 15, null], \"y\": [1, 2, null]}, {\"hoverinfo\": \"text\", \"line\": {\"color\": \"cornflowerblue\", \"width\": 0.16763223025495264}, \"mode\": \"lines\", \"text\": \"0.168\", \"type\": \"scatter\", \"x\": [14, 15, null], \"y\": [1, 3, null]}, {\"hoverinfo\": \"text\", \"line\": {\"color\": \"cornflowerblue\", \"width\": 0.1697225495291591}, \"mode\": \"lines\", \"text\": \"0.17\", \"type\": \"scatter\", \"x\": [14, 15, null], \"y\": [1, 4, null]}, {\"hoverinfo\": \"text\", \"line\": {\"color\": \"cornflowerblue\", \"width\": 0.1558476103498744}, \"mode\": \"lines\", \"text\": \"0.156\", \"type\": \"scatter\", \"x\": [14, 15, null], \"y\": [1, 5, null]}, {\"hoverinfo\": \"text\", \"line\": {\"color\": \"cornflowerblue\", \"width\": 0.15490769485439326}, \"mode\": \"lines\", \"text\": \"0.155\", \"type\": \"scatter\", \"x\": [14, 15, null], \"y\": [1, 6, null]}, {\"hoverinfo\": \"text\", \"line\": {\"color\": \"cornflowerblue\", \"width\": 0.14997371736870296}, \"mode\": \"lines\", \"text\": \"0.15\", \"type\": \"scatter\", \"x\": [14, 15, null], \"y\": [1, 7, null]}, {\"hoverinfo\": \"text\", \"line\": {\"color\": \"cornflowerblue\", \"width\": 0.18748506279407465}, \"mode\": \"lines\", \"text\": \"0.187\", \"type\": \"scatter\", \"x\": [14, 15, null], \"y\": [2, 0, null]}, {\"hoverinfo\": \"text\", \"line\": {\"color\": \"cornflowerblue\", \"width\": 0.1871800447619972}, \"mode\": \"lines\", \"text\": \"0.187\", \"type\": \"scatter\", \"x\": [14, 15, null], \"y\": [2, 1, null]}, {\"hoverinfo\": \"text\", \"line\": {\"color\": \"cornflowerblue\", \"width\": 0.19308973438799548}, \"mode\": \"lines\", \"text\": \"0.193\", \"type\": \"scatter\", \"x\": [14, 15, null], \"y\": [2, 2, null]}, {\"hoverinfo\": \"text\", \"line\": {\"color\": \"cornflowerblue\", \"width\": 0.18433730014415536}, \"mode\": \"lines\", \"text\": \"0.184\", \"type\": \"scatter\", \"x\": [14, 15, null], \"y\": [2, 3, null]}, {\"hoverinfo\": \"text\", \"line\": {\"color\": \"cornflowerblue\", \"width\": 0.22820183878231343}, \"mode\": \"lines\", \"text\": \"0.228\", \"type\": \"scatter\", \"x\": [14, 15, null], \"y\": [2, 4, null]}, {\"hoverinfo\": \"text\", \"line\": {\"color\": \"cornflowerblue\", \"width\": 0.16446350605953483}, \"mode\": \"lines\", \"text\": \"0.164\", \"type\": \"scatter\", \"x\": [14, 15, null], \"y\": [2, 5, null]}, {\"hoverinfo\": \"text\", \"line\": {\"color\": \"cornflowerblue\", \"width\": 0.15612134031970556}, \"mode\": \"lines\", \"text\": \"0.156\", \"type\": \"scatter\", \"x\": [14, 15, null], \"y\": [2, 6, null]}, {\"hoverinfo\": \"text\", \"line\": {\"color\": \"cornflowerblue\", \"width\": 0.15070088652139096}, \"mode\": \"lines\", \"text\": \"0.151\", \"type\": \"scatter\", \"x\": [14, 15, null], \"y\": [2, 7, null]}, {\"hoverinfo\": \"text\", \"line\": {\"color\": \"cornflowerblue\", \"width\": 0.16718240607161647}, \"mode\": \"lines\", \"text\": \"0.167\", \"type\": \"scatter\", \"x\": [14, 15, null], \"y\": [3, 0, null]}, {\"hoverinfo\": \"text\", \"line\": {\"color\": \"cornflowerblue\", \"width\": 0.17110014889157613}, \"mode\": \"lines\", \"text\": \"0.171\", \"type\": \"scatter\", \"x\": [14, 15, null], \"y\": [3, 1, null]}, {\"hoverinfo\": \"text\", \"line\": {\"color\": \"cornflowerblue\", \"width\": 0.17737069394383387}, \"mode\": \"lines\", \"text\": \"0.177\", \"type\": \"scatter\", \"x\": [14, 15, null], \"y\": [3, 2, null]}, {\"hoverinfo\": \"text\", \"line\": {\"color\": \"cornflowerblue\", \"width\": 0.1697282926702373}, \"mode\": \"lines\", \"text\": \"0.17\", \"type\": \"scatter\", \"x\": [14, 15, null], \"y\": [3, 3, null]}, {\"hoverinfo\": \"text\", \"line\": {\"color\": \"cornflowerblue\", \"width\": 0.1775869917508674}, \"mode\": \"lines\", \"text\": \"0.178\", \"type\": \"scatter\", \"x\": [14, 15, null], \"y\": [3, 4, null]}, {\"hoverinfo\": \"text\", \"line\": {\"color\": \"cornflowerblue\", \"width\": 0.16018363192817814}, \"mode\": \"lines\", \"text\": \"0.16\", \"type\": \"scatter\", \"x\": [14, 15, null], \"y\": [3, 5, null]}, {\"hoverinfo\": \"text\", \"line\": {\"color\": \"cornflowerblue\", \"width\": 0.15545296173980275}, \"mode\": \"lines\", \"text\": \"0.155\", \"type\": \"scatter\", \"x\": [14, 15, null], \"y\": [3, 6, null]}, {\"hoverinfo\": \"text\", \"line\": {\"color\": \"cornflowerblue\", \"width\": 0.15246363664298435}, \"mode\": \"lines\", \"text\": \"0.152\", \"type\": \"scatter\", \"x\": [14, 15, null], \"y\": [3, 7, null]}, {\"hoverinfo\": \"text\", \"line\": {\"color\": \"cornflowerblue\", \"width\": 0.20621778926994708}, \"mode\": \"lines\", \"text\": \"0.206\", \"type\": \"scatter\", \"x\": [14, 15, null], \"y\": [4, 0, null]}, {\"hoverinfo\": \"text\", \"line\": {\"color\": \"cornflowerblue\", \"width\": 0.40528635443441713}, \"mode\": \"lines\", \"text\": \"0.405\", \"type\": \"scatter\", \"x\": [14, 15, null], \"y\": [4, 1, null]}, {\"hoverinfo\": \"text\", \"line\": {\"color\": \"cornflowerblue\", \"width\": 0.1790158774296298}, \"mode\": \"lines\", \"text\": \"0.179\", \"type\": \"scatter\", \"x\": [14, 15, null], \"y\": [4, 2, null]}, {\"hoverinfo\": \"text\", \"line\": {\"color\": \"cornflowerblue\", \"width\": 0.20229516461856512}, \"mode\": \"lines\", \"text\": \"0.202\", \"type\": \"scatter\", \"x\": [14, 15, null], \"y\": [4, 3, null]}, {\"hoverinfo\": \"text\", \"line\": {\"color\": \"cornflowerblue\", \"width\": 0.21069267136268166}, \"mode\": \"lines\", \"text\": \"0.211\", \"type\": \"scatter\", \"x\": [14, 15, null], \"y\": [4, 4, null]}, {\"hoverinfo\": \"text\", \"line\": {\"color\": \"cornflowerblue\", \"width\": 0.15629955402916254}, \"mode\": \"lines\", \"text\": \"0.156\", \"type\": \"scatter\", \"x\": [14, 15, null], \"y\": [4, 5, null]}, {\"hoverinfo\": \"text\", \"line\": {\"color\": \"cornflowerblue\", \"width\": 0.15560379273187908}, \"mode\": \"lines\", \"text\": \"0.156\", \"type\": \"scatter\", \"x\": [14, 15, null], \"y\": [4, 6, null]}, {\"hoverinfo\": \"text\", \"line\": {\"color\": \"cornflowerblue\", \"width\": 0.14937995269083004}, \"mode\": \"lines\", \"text\": \"0.149\", \"type\": \"scatter\", \"x\": [14, 15, null], \"y\": [4, 7, null]}, {\"hoverinfo\": \"text\", \"line\": {\"color\": \"cornflowerblue\", \"width\": 0.48984691813469905}, \"mode\": \"lines\", \"text\": \"0.49\", \"type\": \"scatter\", \"x\": [14, 15, null], \"y\": [5, 0, null]}, {\"hoverinfo\": \"text\", \"line\": {\"color\": \"cornflowerblue\", \"width\": 0.21753893888164305}, \"mode\": \"lines\", \"text\": \"0.218\", \"type\": \"scatter\", \"x\": [14, 15, null], \"y\": [5, 1, null]}, {\"hoverinfo\": \"text\", \"line\": {\"color\": \"cornflowerblue\", \"width\": 0.17637997107167824}, \"mode\": \"lines\", \"text\": \"0.176\", \"type\": \"scatter\", \"x\": [14, 15, null], \"y\": [5, 2, null]}, {\"hoverinfo\": \"text\", \"line\": {\"color\": \"cornflowerblue\", \"width\": 0.2195200464556009}, \"mode\": \"lines\", \"text\": \"0.22\", \"type\": \"scatter\", \"x\": [14, 15, null], \"y\": [5, 3, null]}, {\"hoverinfo\": \"text\", \"line\": {\"color\": \"cornflowerblue\", \"width\": 0.19730297570615069}, \"mode\": \"lines\", \"text\": \"0.197\", \"type\": \"scatter\", \"x\": [14, 15, null], \"y\": [5, 4, null]}, {\"hoverinfo\": \"text\", \"line\": {\"color\": \"cornflowerblue\", \"width\": 0.15537850194462757}, \"mode\": \"lines\", \"text\": \"0.155\", \"type\": \"scatter\", \"x\": [14, 15, null], \"y\": [5, 5, null]}, {\"hoverinfo\": \"text\", \"line\": {\"color\": \"cornflowerblue\", \"width\": 0.15701355501414407}, \"mode\": \"lines\", \"text\": \"0.157\", \"type\": \"scatter\", \"x\": [14, 15, null], \"y\": [5, 6, null]}, {\"hoverinfo\": \"text\", \"line\": {\"color\": \"cornflowerblue\", \"width\": 0.15165116216538582}, \"mode\": \"lines\", \"text\": \"0.152\", \"type\": \"scatter\", \"x\": [14, 15, null], \"y\": [5, 7, null]}, {\"hoverinfo\": \"text\", \"line\": {\"color\": \"cornflowerblue\", \"width\": 0.15626985797403614}, \"mode\": \"lines\", \"text\": \"0.156\", \"type\": \"scatter\", \"x\": [14, 15, null], \"y\": [6, 0, null]}, {\"hoverinfo\": \"text\", \"line\": {\"color\": \"cornflowerblue\", \"width\": 0.15470438078933985}, \"mode\": \"lines\", \"text\": \"0.155\", \"type\": \"scatter\", \"x\": [14, 15, null], \"y\": [6, 1, null]}, {\"hoverinfo\": \"text\", \"line\": {\"color\": \"cornflowerblue\", \"width\": 0.15816972868312293}, \"mode\": \"lines\", \"text\": \"0.158\", \"type\": \"scatter\", \"x\": [14, 15, null], \"y\": [6, 2, null]}, {\"hoverinfo\": \"text\", \"line\": {\"color\": \"cornflowerblue\", \"width\": 0.15851860737711992}, \"mode\": \"lines\", \"text\": \"0.159\", \"type\": \"scatter\", \"x\": [14, 15, null], \"y\": [6, 3, null]}, {\"hoverinfo\": \"text\", \"line\": {\"color\": \"cornflowerblue\", \"width\": 0.15744301624533397}, \"mode\": \"lines\", \"text\": \"0.157\", \"type\": \"scatter\", \"x\": [14, 15, null], \"y\": [6, 4, null]}, {\"hoverinfo\": \"text\", \"line\": {\"color\": \"cornflowerblue\", \"width\": 0.15551202856305046}, \"mode\": \"lines\", \"text\": \"0.156\", \"type\": \"scatter\", \"x\": [14, 15, null], \"y\": [6, 5, null]}, {\"hoverinfo\": \"text\", \"line\": {\"color\": \"cornflowerblue\", \"width\": 0.1525553254072389}, \"mode\": \"lines\", \"text\": \"0.153\", \"type\": \"scatter\", \"x\": [14, 15, null], \"y\": [6, 6, null]}, {\"hoverinfo\": \"text\", \"line\": {\"color\": \"cornflowerblue\", \"width\": 0.14994378104276299}, \"mode\": \"lines\", \"text\": \"0.15\", \"type\": \"scatter\", \"x\": [14, 15, null], \"y\": [6, 7, null]}, {\"hoverinfo\": \"text\", \"line\": {\"color\": \"cornflowerblue\", \"width\": 0.1515033818809681}, \"mode\": \"lines\", \"text\": \"0.152\", \"type\": \"scatter\", \"x\": [14, 15, null], \"y\": [7, 0, null]}, {\"hoverinfo\": \"text\", \"line\": {\"color\": \"cornflowerblue\", \"width\": 0.15330392165586015}, \"mode\": \"lines\", \"text\": \"0.153\", \"type\": \"scatter\", \"x\": [14, 15, null], \"y\": [7, 1, null]}, {\"hoverinfo\": \"text\", \"line\": {\"color\": \"cornflowerblue\", \"width\": 0.153548568968227}, \"mode\": \"lines\", \"text\": \"0.154\", \"type\": \"scatter\", \"x\": [14, 15, null], \"y\": [7, 2, null]}, {\"hoverinfo\": \"text\", \"line\": {\"color\": \"cornflowerblue\", \"width\": 0.16017044677550482}, \"mode\": \"lines\", \"text\": \"0.16\", \"type\": \"scatter\", \"x\": [14, 15, null], \"y\": [7, 3, null]}, {\"hoverinfo\": \"text\", \"line\": {\"color\": \"cornflowerblue\", \"width\": 0.15374660254999226}, \"mode\": \"lines\", \"text\": \"0.154\", \"type\": \"scatter\", \"x\": [14, 15, null], \"y\": [7, 4, null]}, {\"hoverinfo\": \"text\", \"line\": {\"color\": \"cornflowerblue\", \"width\": 0.15030493313523963}, \"mode\": \"lines\", \"text\": \"0.15\", \"type\": \"scatter\", \"x\": [14, 15, null], \"y\": [7, 5, null]}, {\"hoverinfo\": \"text\", \"line\": {\"color\": \"cornflowerblue\", \"width\": 0.15388593638790948}, \"mode\": \"lines\", \"text\": \"0.154\", \"type\": \"scatter\", \"x\": [14, 15, null], \"y\": [7, 6, null]}, {\"hoverinfo\": \"text\", \"line\": {\"color\": \"cornflowerblue\", \"width\": 0.14726095608508008}, \"mode\": \"lines\", \"text\": \"0.147\", \"type\": \"scatter\", \"x\": [14, 15, null], \"y\": [7, 7, null]}, {\"hoverinfo\": \"text\", \"line\": {\"color\": \"cornflowerblue\", \"width\": 0.21009730280206274}, \"mode\": \"lines\", \"text\": \"0.21\", \"type\": \"scatter\", \"x\": [15, 16, null], \"y\": [0, 0, null]}, {\"hoverinfo\": \"text\", \"line\": {\"color\": \"cornflowerblue\", \"width\": 0.19259851073314457}, \"mode\": \"lines\", \"text\": \"0.193\", \"type\": \"scatter\", \"x\": [15, 16, null], \"y\": [0, 1, null]}, {\"hoverinfo\": \"text\", \"line\": {\"color\": \"cornflowerblue\", \"width\": 0.2127082278828198}, \"mode\": \"lines\", \"text\": \"0.213\", \"type\": \"scatter\", \"x\": [15, 16, null], \"y\": [0, 2, null]}, {\"hoverinfo\": \"text\", \"line\": {\"color\": \"cornflowerblue\", \"width\": 0.19459646909327516}, \"mode\": \"lines\", \"text\": \"0.195\", \"type\": \"scatter\", \"x\": [15, 16, null], \"y\": [0, 3, null]}, {\"hoverinfo\": \"text\", \"line\": {\"color\": \"cornflowerblue\", \"width\": 0.5380549918762954}, \"mode\": \"lines\", \"text\": \"0.538\", \"type\": \"scatter\", \"x\": [15, 16, null], \"y\": [0, 4, null]}, {\"hoverinfo\": \"text\", \"line\": {\"color\": \"cornflowerblue\", \"width\": 0.42768531838177465}, \"mode\": \"lines\", \"text\": \"0.428\", \"type\": \"scatter\", \"x\": [15, 16, null], \"y\": [1, 0, null]}, {\"hoverinfo\": \"text\", \"line\": {\"color\": \"cornflowerblue\", \"width\": 0.19029786461885373}, \"mode\": \"lines\", \"text\": \"0.19\", \"type\": \"scatter\", \"x\": [15, 16, null], \"y\": [1, 1, null]}, {\"hoverinfo\": \"text\", \"line\": {\"color\": \"cornflowerblue\", \"width\": 0.18368601219775665}, \"mode\": \"lines\", \"text\": \"0.184\", \"type\": \"scatter\", \"x\": [15, 16, null], \"y\": [1, 2, null]}, {\"hoverinfo\": \"text\", \"line\": {\"color\": \"cornflowerblue\", \"width\": 0.19282369423356907}, \"mode\": \"lines\", \"text\": \"0.193\", \"type\": \"scatter\", \"x\": [15, 16, null], \"y\": [1, 3, null]}, {\"hoverinfo\": \"text\", \"line\": {\"color\": \"cornflowerblue\", \"width\": 0.2164862885597291}, \"mode\": \"lines\", \"text\": \"0.216\", \"type\": \"scatter\", \"x\": [15, 16, null], \"y\": [1, 4, null]}, {\"hoverinfo\": \"text\", \"line\": {\"color\": \"cornflowerblue\", \"width\": 0.17715569138416754}, \"mode\": \"lines\", \"text\": \"0.177\", \"type\": \"scatter\", \"x\": [15, 16, null], \"y\": [2, 0, null]}, {\"hoverinfo\": \"text\", \"line\": {\"color\": \"cornflowerblue\", \"width\": 0.17347186145683693}, \"mode\": \"lines\", \"text\": \"0.173\", \"type\": \"scatter\", \"x\": [15, 16, null], \"y\": [2, 1, null]}, {\"hoverinfo\": \"text\", \"line\": {\"color\": \"cornflowerblue\", \"width\": 0.1722988462844856}, \"mode\": \"lines\", \"text\": \"0.172\", \"type\": \"scatter\", \"x\": [15, 16, null], \"y\": [2, 2, null]}, {\"hoverinfo\": \"text\", \"line\": {\"color\": \"cornflowerblue\", \"width\": 0.21091873138000636}, \"mode\": \"lines\", \"text\": \"0.211\", \"type\": \"scatter\", \"x\": [15, 16, null], \"y\": [2, 3, null]}, {\"hoverinfo\": \"text\", \"line\": {\"color\": \"cornflowerblue\", \"width\": 0.17532623639598677}, \"mode\": \"lines\", \"text\": \"0.175\", \"type\": \"scatter\", \"x\": [15, 16, null], \"y\": [2, 4, null]}, {\"hoverinfo\": \"text\", \"line\": {\"color\": \"cornflowerblue\", \"width\": 0.2018937813391974}, \"mode\": \"lines\", \"text\": \"0.202\", \"type\": \"scatter\", \"x\": [15, 16, null], \"y\": [3, 0, null]}, {\"hoverinfo\": \"text\", \"line\": {\"color\": \"cornflowerblue\", \"width\": 0.34934363035874894}, \"mode\": \"lines\", \"text\": \"0.349\", \"type\": \"scatter\", \"x\": [15, 16, null], \"y\": [3, 1, null]}, {\"hoverinfo\": \"text\", \"line\": {\"color\": \"cornflowerblue\", \"width\": 0.1774910661587357}, \"mode\": \"lines\", \"text\": \"0.177\", \"type\": \"scatter\", \"x\": [15, 16, null], \"y\": [3, 2, null]}, {\"hoverinfo\": \"text\", \"line\": {\"color\": \"cornflowerblue\", \"width\": 0.19427440215729985}, \"mode\": \"lines\", \"text\": \"0.194\", \"type\": \"scatter\", \"x\": [15, 16, null], \"y\": [3, 3, null]}, {\"hoverinfo\": \"text\", \"line\": {\"color\": \"cornflowerblue\", \"width\": 0.21525372985292887}, \"mode\": \"lines\", \"text\": \"0.215\", \"type\": \"scatter\", \"x\": [15, 16, null], \"y\": [3, 4, null]}, {\"hoverinfo\": \"text\", \"line\": {\"color\": \"cornflowerblue\", \"width\": 0.2075693293595491}, \"mode\": \"lines\", \"text\": \"0.208\", \"type\": \"scatter\", \"x\": [15, 16, null], \"y\": [4, 0, null]}, {\"hoverinfo\": \"text\", \"line\": {\"color\": \"cornflowerblue\", \"width\": 0.19325342674625587}, \"mode\": \"lines\", \"text\": \"0.193\", \"type\": \"scatter\", \"x\": [15, 16, null], \"y\": [4, 1, null]}, {\"hoverinfo\": \"text\", \"line\": {\"color\": \"cornflowerblue\", \"width\": 0.18290440550160691}, \"mode\": \"lines\", \"text\": \"0.183\", \"type\": \"scatter\", \"x\": [15, 16, null], \"y\": [4, 2, null]}, {\"hoverinfo\": \"text\", \"line\": {\"color\": \"cornflowerblue\", \"width\": 0.23225874102085461}, \"mode\": \"lines\", \"text\": \"0.232\", \"type\": \"scatter\", \"x\": [15, 16, null], \"y\": [4, 3, null]}, {\"hoverinfo\": \"text\", \"line\": {\"color\": \"cornflowerblue\", \"width\": 0.1944183140550977}, \"mode\": \"lines\", \"text\": \"0.194\", \"type\": \"scatter\", \"x\": [15, 16, null], \"y\": [4, 4, null]}, {\"hoverinfo\": \"text\", \"line\": {\"color\": \"cornflowerblue\", \"width\": 0.15550654918099593}, \"mode\": \"lines\", \"text\": \"0.156\", \"type\": \"scatter\", \"x\": [15, 16, null], \"y\": [5, 0, null]}, {\"hoverinfo\": \"text\", \"line\": {\"color\": \"cornflowerblue\", \"width\": 0.1635136258665528}, \"mode\": \"lines\", \"text\": \"0.164\", \"type\": \"scatter\", \"x\": [15, 16, null], \"y\": [5, 1, null]}, {\"hoverinfo\": \"text\", \"line\": {\"color\": \"cornflowerblue\", \"width\": 0.1565285363150264}, \"mode\": \"lines\", \"text\": \"0.157\", \"type\": \"scatter\", \"x\": [15, 16, null], \"y\": [5, 2, null]}, {\"hoverinfo\": \"text\", \"line\": {\"color\": \"cornflowerblue\", \"width\": 0.1617005127810432}, \"mode\": \"lines\", \"text\": \"0.162\", \"type\": \"scatter\", \"x\": [15, 16, null], \"y\": [5, 3, null]}, {\"hoverinfo\": \"text\", \"line\": {\"color\": \"cornflowerblue\", \"width\": 0.15527320637035633}, \"mode\": \"lines\", \"text\": \"0.155\", \"type\": \"scatter\", \"x\": [15, 16, null], \"y\": [5, 4, null]}, {\"hoverinfo\": \"text\", \"line\": {\"color\": \"cornflowerblue\", \"width\": 0.15564096910001685}, \"mode\": \"lines\", \"text\": \"0.156\", \"type\": \"scatter\", \"x\": [15, 16, null], \"y\": [6, 0, null]}, {\"hoverinfo\": \"text\", \"line\": {\"color\": \"cornflowerblue\", \"width\": 0.1541178661775416}, \"mode\": \"lines\", \"text\": \"0.154\", \"type\": \"scatter\", \"x\": [15, 16, null], \"y\": [6, 1, null]}, {\"hoverinfo\": \"text\", \"line\": {\"color\": \"cornflowerblue\", \"width\": 0.15546173811919922}, \"mode\": \"lines\", \"text\": \"0.155\", \"type\": \"scatter\", \"x\": [15, 16, null], \"y\": [6, 2, null]}, {\"hoverinfo\": \"text\", \"line\": {\"color\": \"cornflowerblue\", \"width\": 0.15588617822857895}, \"mode\": \"lines\", \"text\": \"0.156\", \"type\": \"scatter\", \"x\": [15, 16, null], \"y\": [6, 3, null]}, {\"hoverinfo\": \"text\", \"line\": {\"color\": \"cornflowerblue\", \"width\": 0.15778478256366124}, \"mode\": \"lines\", \"text\": \"0.158\", \"type\": \"scatter\", \"x\": [15, 16, null], \"y\": [6, 4, null]}, {\"hoverinfo\": \"text\", \"line\": {\"color\": \"cornflowerblue\", \"width\": 0.14928118942646668}, \"mode\": \"lines\", \"text\": \"0.149\", \"type\": \"scatter\", \"x\": [15, 16, null], \"y\": [7, 0, null]}, {\"hoverinfo\": \"text\", \"line\": {\"color\": \"cornflowerblue\", \"width\": 0.1491135166526853}, \"mode\": \"lines\", \"text\": \"0.149\", \"type\": \"scatter\", \"x\": [15, 16, null], \"y\": [7, 1, null]}, {\"hoverinfo\": \"text\", \"line\": {\"color\": \"cornflowerblue\", \"width\": 0.149166516767739}, \"mode\": \"lines\", \"text\": \"0.149\", \"type\": \"scatter\", \"x\": [15, 16, null], \"y\": [7, 2, null]}, {\"hoverinfo\": \"text\", \"line\": {\"color\": \"cornflowerblue\", \"width\": 0.14995431158332978}, \"mode\": \"lines\", \"text\": \"0.15\", \"type\": \"scatter\", \"x\": [15, 16, null], \"y\": [7, 3, null]}, {\"hoverinfo\": \"text\", \"line\": {\"color\": \"cornflowerblue\", \"width\": 0.15263941945077444}, \"mode\": \"lines\", \"text\": \"0.153\", \"type\": \"scatter\", \"x\": [15, 16, null], \"y\": [7, 4, null]}, {\"hoverinfo\": \"text\", \"line\": {\"color\": \"cornflowerblue\", \"width\": 0.21240188099151056}, \"mode\": \"lines\", \"text\": \"0.212\", \"type\": \"scatter\", \"x\": [16, 17, null], \"y\": [0, 0, null]}, {\"hoverinfo\": \"text\", \"line\": {\"color\": \"cornflowerblue\", \"width\": 0.16921826003335766}, \"mode\": \"lines\", \"text\": \"0.169\", \"type\": \"scatter\", \"x\": [16, 17, null], \"y\": [0, 1, null]}, {\"hoverinfo\": \"text\", \"line\": {\"color\": \"cornflowerblue\", \"width\": 0.1623809340813911}, \"mode\": \"lines\", \"text\": \"0.162\", \"type\": \"scatter\", \"x\": [16, 17, null], \"y\": [0, 2, null]}, {\"hoverinfo\": \"text\", \"line\": {\"color\": \"cornflowerblue\", \"width\": 0.20614151696088445}, \"mode\": \"lines\", \"text\": \"0.206\", \"type\": \"scatter\", \"x\": [16, 17, null], \"y\": [0, 3, null]}, {\"hoverinfo\": \"text\", \"line\": {\"color\": \"cornflowerblue\", \"width\": 0.17110149989764045}, \"mode\": \"lines\", \"text\": \"0.171\", \"type\": \"scatter\", \"x\": [16, 17, null], \"y\": [0, 4, null]}, {\"hoverinfo\": \"text\", \"line\": {\"color\": \"cornflowerblue\", \"width\": 0.43473537610120705}, \"mode\": \"lines\", \"text\": \"0.435\", \"type\": \"scatter\", \"x\": [16, 17, null], \"y\": [0, 5, null]}, {\"hoverinfo\": \"text\", \"line\": {\"color\": \"cornflowerblue\", \"width\": 0.1881384755371219}, \"mode\": \"lines\", \"text\": \"0.188\", \"type\": \"scatter\", \"x\": [16, 17, null], \"y\": [0, 6, null]}, {\"hoverinfo\": \"text\", \"line\": {\"color\": \"cornflowerblue\", \"width\": 0.1501785728323052}, \"mode\": \"lines\", \"text\": \"0.15\", \"type\": \"scatter\", \"x\": [16, 17, null], \"y\": [0, 7, null]}, {\"hoverinfo\": \"text\", \"line\": {\"color\": \"cornflowerblue\", \"width\": 0.20159517620028747}, \"mode\": \"lines\", \"text\": \"0.202\", \"type\": \"scatter\", \"x\": [16, 17, null], \"y\": [1, 0, null]}, {\"hoverinfo\": \"text\", \"line\": {\"color\": \"cornflowerblue\", \"width\": 0.15918135260639432}, \"mode\": \"lines\", \"text\": \"0.159\", \"type\": \"scatter\", \"x\": [16, 17, null], \"y\": [1, 1, null]}, {\"hoverinfo\": \"text\", \"line\": {\"color\": \"cornflowerblue\", \"width\": 0.1650827817145214}, \"mode\": \"lines\", \"text\": \"0.165\", \"type\": \"scatter\", \"x\": [16, 17, null], \"y\": [1, 2, null]}, {\"hoverinfo\": \"text\", \"line\": {\"color\": \"cornflowerblue\", \"width\": 0.18953304200150475}, \"mode\": \"lines\", \"text\": \"0.19\", \"type\": \"scatter\", \"x\": [16, 17, null], \"y\": [1, 3, null]}, {\"hoverinfo\": \"text\", \"line\": {\"color\": \"cornflowerblue\", \"width\": 0.17132770703366365}, \"mode\": \"lines\", \"text\": \"0.171\", \"type\": \"scatter\", \"x\": [16, 17, null], \"y\": [1, 4, null]}, {\"hoverinfo\": \"text\", \"line\": {\"color\": \"cornflowerblue\", \"width\": 0.19054778474642106}, \"mode\": \"lines\", \"text\": \"0.191\", \"type\": \"scatter\", \"x\": [16, 17, null], \"y\": [1, 5, null]}, {\"hoverinfo\": \"text\", \"line\": {\"color\": \"cornflowerblue\", \"width\": 0.25271567353381363}, \"mode\": \"lines\", \"text\": \"0.253\", \"type\": \"scatter\", \"x\": [16, 17, null], \"y\": [1, 6, null]}, {\"hoverinfo\": \"text\", \"line\": {\"color\": \"cornflowerblue\", \"width\": 0.15345425255323417}, \"mode\": \"lines\", \"text\": \"0.153\", \"type\": \"scatter\", \"x\": [16, 17, null], \"y\": [1, 7, null]}, {\"hoverinfo\": \"text\", \"line\": {\"color\": \"cornflowerblue\", \"width\": 0.21141462870011485}, \"mode\": \"lines\", \"text\": \"0.211\", \"type\": \"scatter\", \"x\": [16, 17, null], \"y\": [2, 0, null]}, {\"hoverinfo\": \"text\", \"line\": {\"color\": \"cornflowerblue\", \"width\": 0.16157609419658994}, \"mode\": \"lines\", \"text\": \"0.162\", \"type\": \"scatter\", \"x\": [16, 17, null], \"y\": [2, 1, null]}, {\"hoverinfo\": \"text\", \"line\": {\"color\": \"cornflowerblue\", \"width\": 0.1671810919484938}, \"mode\": \"lines\", \"text\": \"0.167\", \"type\": \"scatter\", \"x\": [16, 17, null], \"y\": [2, 2, null]}, {\"hoverinfo\": \"text\", \"line\": {\"color\": \"cornflowerblue\", \"width\": 0.1880750359031862}, \"mode\": \"lines\", \"text\": \"0.188\", \"type\": \"scatter\", \"x\": [16, 17, null], \"y\": [2, 3, null]}, {\"hoverinfo\": \"text\", \"line\": {\"color\": \"cornflowerblue\", \"width\": 0.16968920249755443}, \"mode\": \"lines\", \"text\": \"0.17\", \"type\": \"scatter\", \"x\": [16, 17, null], \"y\": [2, 4, null]}, {\"hoverinfo\": \"text\", \"line\": {\"color\": \"cornflowerblue\", \"width\": 0.18195587357883744}, \"mode\": \"lines\", \"text\": \"0.182\", \"type\": \"scatter\", \"x\": [16, 17, null], \"y\": [2, 5, null]}, {\"hoverinfo\": \"text\", \"line\": {\"color\": \"cornflowerblue\", \"width\": 0.1846057812424258}, \"mode\": \"lines\", \"text\": \"0.185\", \"type\": \"scatter\", \"x\": [16, 17, null], \"y\": [2, 6, null]}, {\"hoverinfo\": \"text\", \"line\": {\"color\": \"cornflowerblue\", \"width\": 0.15189563136156894}, \"mode\": \"lines\", \"text\": \"0.152\", \"type\": \"scatter\", \"x\": [16, 17, null], \"y\": [2, 7, null]}, {\"hoverinfo\": \"text\", \"line\": {\"color\": \"cornflowerblue\", \"width\": 0.19869274450141536}, \"mode\": \"lines\", \"text\": \"0.199\", \"type\": \"scatter\", \"x\": [16, 17, null], \"y\": [3, 0, null]}, {\"hoverinfo\": \"text\", \"line\": {\"color\": \"cornflowerblue\", \"width\": 0.16396265250700598}, \"mode\": \"lines\", \"text\": \"0.164\", \"type\": \"scatter\", \"x\": [16, 17, null], \"y\": [3, 1, null]}, {\"hoverinfo\": \"text\", \"line\": {\"color\": \"cornflowerblue\", \"width\": 0.17319984186237114}, \"mode\": \"lines\", \"text\": \"0.173\", \"type\": \"scatter\", \"x\": [16, 17, null], \"y\": [3, 2, null]}, {\"hoverinfo\": \"text\", \"line\": {\"color\": \"cornflowerblue\", \"width\": 0.25619022479911485}, \"mode\": \"lines\", \"text\": \"0.256\", \"type\": \"scatter\", \"x\": [16, 17, null], \"y\": [3, 3, null]}, {\"hoverinfo\": \"text\", \"line\": {\"color\": \"cornflowerblue\", \"width\": 0.1884912326141045}, \"mode\": \"lines\", \"text\": \"0.188\", \"type\": \"scatter\", \"x\": [16, 17, null], \"y\": [3, 4, null]}, {\"hoverinfo\": \"text\", \"line\": {\"color\": \"cornflowerblue\", \"width\": 0.1909822054275801}, \"mode\": \"lines\", \"text\": \"0.191\", \"type\": \"scatter\", \"x\": [16, 17, null], \"y\": [3, 5, null]}, {\"hoverinfo\": \"text\", \"line\": {\"color\": \"cornflowerblue\", \"width\": 0.1857445651347924}, \"mode\": \"lines\", \"text\": \"0.186\", \"type\": \"scatter\", \"x\": [16, 17, null], \"y\": [3, 6, null]}, {\"hoverinfo\": \"text\", \"line\": {\"color\": \"cornflowerblue\", \"width\": 0.15341289044555173}, \"mode\": \"lines\", \"text\": \"0.153\", \"type\": \"scatter\", \"x\": [16, 17, null], \"y\": [3, 7, null]}, {\"hoverinfo\": \"text\", \"line\": {\"color\": \"cornflowerblue\", \"width\": 0.4736367662809587}, \"mode\": \"lines\", \"text\": \"0.474\", \"type\": \"scatter\", \"x\": [16, 17, null], \"y\": [4, 0, null]}, {\"hoverinfo\": \"text\", \"line\": {\"color\": \"cornflowerblue\", \"width\": 0.16177361460805612}, \"mode\": \"lines\", \"text\": \"0.162\", \"type\": \"scatter\", \"x\": [16, 17, null], \"y\": [4, 1, null]}, {\"hoverinfo\": \"text\", \"line\": {\"color\": \"cornflowerblue\", \"width\": 0.16817073583808984}, \"mode\": \"lines\", \"text\": \"0.168\", \"type\": \"scatter\", \"x\": [16, 17, null], \"y\": [4, 2, null]}, {\"hoverinfo\": \"text\", \"line\": {\"color\": \"cornflowerblue\", \"width\": 0.1982516463868715}, \"mode\": \"lines\", \"text\": \"0.198\", \"type\": \"scatter\", \"x\": [16, 17, null], \"y\": [4, 3, null]}, {\"hoverinfo\": \"text\", \"line\": {\"color\": \"cornflowerblue\", \"width\": 0.17051284163760877}, \"mode\": \"lines\", \"text\": \"0.171\", \"type\": \"scatter\", \"x\": [16, 17, null], \"y\": [4, 4, null]}, {\"hoverinfo\": \"text\", \"line\": {\"color\": \"cornflowerblue\", \"width\": 0.21167401773003539}, \"mode\": \"lines\", \"text\": \"0.212\", \"type\": \"scatter\", \"x\": [16, 17, null], \"y\": [4, 5, null]}, {\"hoverinfo\": \"text\", \"line\": {\"color\": \"cornflowerblue\", \"width\": 0.2105122148255261}, \"mode\": \"lines\", \"text\": \"0.211\", \"type\": \"scatter\", \"x\": [16, 17, null], \"y\": [4, 6, null]}, {\"hoverinfo\": \"text\", \"line\": {\"color\": \"cornflowerblue\", \"width\": 0.15128122620578385}, \"mode\": \"lines\", \"text\": \"0.151\", \"type\": \"scatter\", \"x\": [16, 17, null], \"y\": [4, 7, null]}, {\"hoverinfo\": \"text\", \"line\": {\"color\": \"cornflowerblue\", \"width\": 0.21564458320800062}, \"mode\": \"lines\", \"text\": \"0.216\", \"type\": \"scatter\", \"x\": [17, 18, null], \"y\": [0, 0, null]}, {\"hoverinfo\": \"text\", \"line\": {\"color\": \"cornflowerblue\", \"width\": 0.47134181866097213}, \"mode\": \"lines\", \"text\": \"0.471\", \"type\": \"scatter\", \"x\": [17, 18, null], \"y\": [0, 1, null]}, {\"hoverinfo\": \"text\", \"line\": {\"color\": \"cornflowerblue\", \"width\": 0.17639733032366273}, \"mode\": \"lines\", \"text\": \"0.176\", \"type\": \"scatter\", \"x\": [17, 18, null], \"y\": [0, 2, null]}, {\"hoverinfo\": \"text\", \"line\": {\"color\": \"cornflowerblue\", \"width\": 0.19965414590224215}, \"mode\": \"lines\", \"text\": \"0.2\", \"type\": \"scatter\", \"x\": [17, 18, null], \"y\": [0, 3, null]}, {\"hoverinfo\": \"text\", \"line\": {\"color\": \"cornflowerblue\", \"width\": 0.24414034952335553}, \"mode\": \"lines\", \"text\": \"0.244\", \"type\": \"scatter\", \"x\": [17, 18, null], \"y\": [0, 4, null]}, {\"hoverinfo\": \"text\", \"line\": {\"color\": \"cornflowerblue\", \"width\": 0.20298274273394903}, \"mode\": \"lines\", \"text\": \"0.203\", \"type\": \"scatter\", \"x\": [17, 18, null], \"y\": [0, 5, null]}, {\"hoverinfo\": \"text\", \"line\": {\"color\": \"cornflowerblue\", \"width\": 0.14804096473055742}, \"mode\": \"lines\", \"text\": \"0.148\", \"type\": \"scatter\", \"x\": [17, 18, null], \"y\": [0, 6, null]}, {\"hoverinfo\": \"text\", \"line\": {\"color\": \"cornflowerblue\", \"width\": 0.15204539804482645}, \"mode\": \"lines\", \"text\": \"0.152\", \"type\": \"scatter\", \"x\": [17, 18, null], \"y\": [0, 7, null]}, {\"hoverinfo\": \"text\", \"line\": {\"color\": \"cornflowerblue\", \"width\": 0.14954051471250893}, \"mode\": \"lines\", \"text\": \"0.15\", \"type\": \"scatter\", \"x\": [17, 18, null], \"y\": [0, 8, null]}, {\"hoverinfo\": \"text\", \"line\": {\"color\": \"cornflowerblue\", \"width\": 0.1687702926358209}, \"mode\": \"lines\", \"text\": \"0.169\", \"type\": \"scatter\", \"x\": [17, 18, null], \"y\": [1, 0, null]}, {\"hoverinfo\": \"text\", \"line\": {\"color\": \"cornflowerblue\", \"width\": 0.16003796673394735}, \"mode\": \"lines\", \"text\": \"0.16\", \"type\": \"scatter\", \"x\": [17, 18, null], \"y\": [1, 1, null]}, {\"hoverinfo\": \"text\", \"line\": {\"color\": \"cornflowerblue\", \"width\": 0.16476644386463637}, \"mode\": \"lines\", \"text\": \"0.165\", \"type\": \"scatter\", \"x\": [17, 18, null], \"y\": [1, 2, null]}, {\"hoverinfo\": \"text\", \"line\": {\"color\": \"cornflowerblue\", \"width\": 0.16393587950979605}, \"mode\": \"lines\", \"text\": \"0.164\", \"type\": \"scatter\", \"x\": [17, 18, null], \"y\": [1, 3, null]}, {\"hoverinfo\": \"text\", \"line\": {\"color\": \"cornflowerblue\", \"width\": 0.16332916213618232}, \"mode\": \"lines\", \"text\": \"0.163\", \"type\": \"scatter\", \"x\": [17, 18, null], \"y\": [1, 4, null]}, {\"hoverinfo\": \"text\", \"line\": {\"color\": \"cornflowerblue\", \"width\": 0.16006853113149327}, \"mode\": \"lines\", \"text\": \"0.16\", \"type\": \"scatter\", \"x\": [17, 18, null], \"y\": [1, 5, null]}, {\"hoverinfo\": \"text\", \"line\": {\"color\": \"cornflowerblue\", \"width\": 0.1506737813408165}, \"mode\": \"lines\", \"text\": \"0.151\", \"type\": \"scatter\", \"x\": [17, 18, null], \"y\": [1, 7, null]}, {\"hoverinfo\": \"text\", \"line\": {\"color\": \"cornflowerblue\", \"width\": 0.14787725409297833}, \"mode\": \"lines\", \"text\": \"0.148\", \"type\": \"scatter\", \"x\": [17, 18, null], \"y\": [1, 8, null]}, {\"hoverinfo\": \"text\", \"line\": {\"color\": \"cornflowerblue\", \"width\": 0.16200584225119025}, \"mode\": \"lines\", \"text\": \"0.162\", \"type\": \"scatter\", \"x\": [17, 18, null], \"y\": [2, 0, null]}, {\"hoverinfo\": \"text\", \"line\": {\"color\": \"cornflowerblue\", \"width\": 0.168812650159686}, \"mode\": \"lines\", \"text\": \"0.169\", \"type\": \"scatter\", \"x\": [17, 18, null], \"y\": [2, 1, null]}, {\"hoverinfo\": \"text\", \"line\": {\"color\": \"cornflowerblue\", \"width\": 0.16862130294713867}, \"mode\": \"lines\", \"text\": \"0.169\", \"type\": \"scatter\", \"x\": [17, 18, null], \"y\": [2, 2, null]}, {\"hoverinfo\": \"text\", \"line\": {\"color\": \"cornflowerblue\", \"width\": 0.16726981828346432}, \"mode\": \"lines\", \"text\": \"0.167\", \"type\": \"scatter\", \"x\": [17, 18, null], \"y\": [2, 3, null]}, {\"hoverinfo\": \"text\", \"line\": {\"color\": \"cornflowerblue\", \"width\": 0.16943988766569662}, \"mode\": \"lines\", \"text\": \"0.169\", \"type\": \"scatter\", \"x\": [17, 18, null], \"y\": [2, 4, null]}, {\"hoverinfo\": \"text\", \"line\": {\"color\": \"cornflowerblue\", \"width\": 0.16669474206690235}, \"mode\": \"lines\", \"text\": \"0.167\", \"type\": \"scatter\", \"x\": [17, 18, null], \"y\": [2, 5, null]}, {\"hoverinfo\": \"text\", \"line\": {\"color\": \"cornflowerblue\", \"width\": 0.1488664555885307}, \"mode\": \"lines\", \"text\": \"0.149\", \"type\": \"scatter\", \"x\": [17, 18, null], \"y\": [2, 6, null]}, {\"hoverinfo\": \"text\", \"line\": {\"color\": \"cornflowerblue\", \"width\": 0.14849738552426825}, \"mode\": \"lines\", \"text\": \"0.148\", \"type\": \"scatter\", \"x\": [17, 18, null], \"y\": [2, 7, null]}, {\"hoverinfo\": \"text\", \"line\": {\"color\": \"cornflowerblue\", \"width\": 0.1473364459950132}, \"mode\": \"lines\", \"text\": \"0.147\", \"type\": \"scatter\", \"x\": [17, 18, null], \"y\": [2, 8, null]}, {\"hoverinfo\": \"text\", \"line\": {\"color\": \"cornflowerblue\", \"width\": 0.19603355874769354}, \"mode\": \"lines\", \"text\": \"0.196\", \"type\": \"scatter\", \"x\": [17, 18, null], \"y\": [3, 0, null]}, {\"hoverinfo\": \"text\", \"line\": {\"color\": \"cornflowerblue\", \"width\": 0.2035078341933451}, \"mode\": \"lines\", \"text\": \"0.204\", \"type\": \"scatter\", \"x\": [17, 18, null], \"y\": [3, 1, null]}, {\"hoverinfo\": \"text\", \"line\": {\"color\": \"cornflowerblue\", \"width\": 0.18935225238203518}, \"mode\": \"lines\", \"text\": \"0.189\", \"type\": \"scatter\", \"x\": [17, 18, null], \"y\": [3, 2, null]}, {\"hoverinfo\": \"text\", \"line\": {\"color\": \"cornflowerblue\", \"width\": 0.274912840923547}, \"mode\": \"lines\", \"text\": \"0.275\", \"type\": \"scatter\", \"x\": [17, 18, null], \"y\": [3, 3, null]}, {\"hoverinfo\": \"text\", \"line\": {\"color\": \"cornflowerblue\", \"width\": 0.19220644572171974}, \"mode\": \"lines\", \"text\": \"0.192\", \"type\": \"scatter\", \"x\": [17, 18, null], \"y\": [3, 4, null]}, {\"hoverinfo\": \"text\", \"line\": {\"color\": \"cornflowerblue\", \"width\": 0.1842683570657504}, \"mode\": \"lines\", \"text\": \"0.184\", \"type\": \"scatter\", \"x\": [17, 18, null], \"y\": [3, 5, null]}, {\"hoverinfo\": \"text\", \"line\": {\"color\": \"cornflowerblue\", \"width\": 0.14803311170905828}, \"mode\": \"lines\", \"text\": \"0.148\", \"type\": \"scatter\", \"x\": [17, 18, null], \"y\": [3, 6, null]}, {\"hoverinfo\": \"text\", \"line\": {\"color\": \"cornflowerblue\", \"width\": 0.1508814501868571}, \"mode\": \"lines\", \"text\": \"0.151\", \"type\": \"scatter\", \"x\": [17, 18, null], \"y\": [3, 7, null]}, {\"hoverinfo\": \"text\", \"line\": {\"color\": \"cornflowerblue\", \"width\": 0.1520817856381176}, \"mode\": \"lines\", \"text\": \"0.152\", \"type\": \"scatter\", \"x\": [17, 18, null], \"y\": [3, 8, null]}, {\"hoverinfo\": \"text\", \"line\": {\"color\": \"cornflowerblue\", \"width\": 0.17075066123822136}, \"mode\": \"lines\", \"text\": \"0.171\", \"type\": \"scatter\", \"x\": [17, 18, null], \"y\": [4, 0, null]}, {\"hoverinfo\": \"text\", \"line\": {\"color\": \"cornflowerblue\", \"width\": 0.171873181791013}, \"mode\": \"lines\", \"text\": \"0.172\", \"type\": \"scatter\", \"x\": [17, 18, null], \"y\": [4, 1, null]}, {\"hoverinfo\": \"text\", \"line\": {\"color\": \"cornflowerblue\", \"width\": 0.17746250616873832}, \"mode\": \"lines\", \"text\": \"0.177\", \"type\": \"scatter\", \"x\": [17, 18, null], \"y\": [4, 2, null]}, {\"hoverinfo\": \"text\", \"line\": {\"color\": \"cornflowerblue\", \"width\": 0.1803408333012765}, \"mode\": \"lines\", \"text\": \"0.18\", \"type\": \"scatter\", \"x\": [17, 18, null], \"y\": [4, 3, null]}, {\"hoverinfo\": \"text\", \"line\": {\"color\": \"cornflowerblue\", \"width\": 0.16933137994847647}, \"mode\": \"lines\", \"text\": \"0.169\", \"type\": \"scatter\", \"x\": [17, 18, null], \"y\": [4, 4, null]}, {\"hoverinfo\": \"text\", \"line\": {\"color\": \"cornflowerblue\", \"width\": 0.16930382623213902}, \"mode\": \"lines\", \"text\": \"0.169\", \"type\": \"scatter\", \"x\": [17, 18, null], \"y\": [4, 5, null]}, {\"hoverinfo\": \"text\", \"line\": {\"color\": \"cornflowerblue\", \"width\": 0.1492747061351801}, \"mode\": \"lines\", \"text\": \"0.149\", \"type\": \"scatter\", \"x\": [17, 18, null], \"y\": [4, 6, null]}, {\"hoverinfo\": \"text\", \"line\": {\"color\": \"cornflowerblue\", \"width\": 0.1509423575832074}, \"mode\": \"lines\", \"text\": \"0.151\", \"type\": \"scatter\", \"x\": [17, 18, null], \"y\": [4, 7, null]}, {\"hoverinfo\": \"text\", \"line\": {\"color\": \"cornflowerblue\", \"width\": 0.1480573276793867}, \"mode\": \"lines\", \"text\": \"0.148\", \"type\": \"scatter\", \"x\": [17, 18, null], \"y\": [4, 8, null]}, {\"hoverinfo\": \"text\", \"line\": {\"color\": \"cornflowerblue\", \"width\": 0.47180181145615263}, \"mode\": \"lines\", \"text\": \"0.472\", \"type\": \"scatter\", \"x\": [17, 18, null], \"y\": [5, 0, null]}, {\"hoverinfo\": \"text\", \"line\": {\"color\": \"cornflowerblue\", \"width\": 0.21704441900006685}, \"mode\": \"lines\", \"text\": \"0.217\", \"type\": \"scatter\", \"x\": [17, 18, null], \"y\": [5, 1, null]}, {\"hoverinfo\": \"text\", \"line\": {\"color\": \"cornflowerblue\", \"width\": 0.17615524089423398}, \"mode\": \"lines\", \"text\": \"0.176\", \"type\": \"scatter\", \"x\": [17, 18, null], \"y\": [5, 2, null]}, {\"hoverinfo\": \"text\", \"line\": {\"color\": \"cornflowerblue\", \"width\": 0.1987813835990144}, \"mode\": \"lines\", \"text\": \"0.199\", \"type\": \"scatter\", \"x\": [17, 18, null], \"y\": [5, 3, null]}, {\"hoverinfo\": \"text\", \"line\": {\"color\": \"cornflowerblue\", \"width\": 0.18998361017954654}, \"mode\": \"lines\", \"text\": \"0.19\", \"type\": \"scatter\", \"x\": [17, 18, null], \"y\": [5, 4, null]}, {\"hoverinfo\": \"text\", \"line\": {\"color\": \"cornflowerblue\", \"width\": 0.18786890109506224}, \"mode\": \"lines\", \"text\": \"0.188\", \"type\": \"scatter\", \"x\": [17, 18, null], \"y\": [5, 5, null]}, {\"hoverinfo\": \"text\", \"line\": {\"color\": \"cornflowerblue\", \"width\": 0.1484705502495007}, \"mode\": \"lines\", \"text\": \"0.148\", \"type\": \"scatter\", \"x\": [17, 18, null], \"y\": [5, 6, null]}, {\"hoverinfo\": \"text\", \"line\": {\"color\": \"cornflowerblue\", \"width\": 0.14914350951829314}, \"mode\": \"lines\", \"text\": \"0.149\", \"type\": \"scatter\", \"x\": [17, 18, null], \"y\": [5, 7, null]}, {\"hoverinfo\": \"text\", \"line\": {\"color\": \"cornflowerblue\", \"width\": 0.14913275992201966}, \"mode\": \"lines\", \"text\": \"0.149\", \"type\": \"scatter\", \"x\": [17, 18, null], \"y\": [5, 8, null]}, {\"hoverinfo\": \"text\", \"line\": {\"color\": \"cornflowerblue\", \"width\": 0.18773182390136844}, \"mode\": \"lines\", \"text\": \"0.188\", \"type\": \"scatter\", \"x\": [17, 18, null], \"y\": [6, 0, null]}, {\"hoverinfo\": \"text\", \"line\": {\"color\": \"cornflowerblue\", \"width\": 0.2049775691498831}, \"mode\": \"lines\", \"text\": \"0.205\", \"type\": \"scatter\", \"x\": [17, 18, null], \"y\": [6, 1, null]}, {\"hoverinfo\": \"text\", \"line\": {\"color\": \"cornflowerblue\", \"width\": 0.17395485128006777}, \"mode\": \"lines\", \"text\": \"0.174\", \"type\": \"scatter\", \"x\": [17, 18, null], \"y\": [6, 2, null]}, {\"hoverinfo\": \"text\", \"line\": {\"color\": \"cornflowerblue\", \"width\": 0.19023834777331375}, \"mode\": \"lines\", \"text\": \"0.19\", \"type\": \"scatter\", \"x\": [17, 18, null], \"y\": [6, 3, null]}, {\"hoverinfo\": \"text\", \"line\": {\"color\": \"cornflowerblue\", \"width\": 0.1885040707721995}, \"mode\": \"lines\", \"text\": \"0.189\", \"type\": \"scatter\", \"x\": [17, 18, null], \"y\": [6, 4, null]}, {\"hoverinfo\": \"text\", \"line\": {\"color\": \"cornflowerblue\", \"width\": 0.34696529475668175}, \"mode\": \"lines\", \"text\": \"0.347\", \"type\": \"scatter\", \"x\": [17, 18, null], \"y\": [6, 5, null]}, {\"hoverinfo\": \"text\", \"line\": {\"color\": \"cornflowerblue\", \"width\": 0.14828754061325208}, \"mode\": \"lines\", \"text\": \"0.148\", \"type\": \"scatter\", \"x\": [17, 18, null], \"y\": [6, 6, null]}, {\"hoverinfo\": \"text\", \"line\": {\"color\": \"cornflowerblue\", \"width\": 0.15194626771037054}, \"mode\": \"lines\", \"text\": \"0.152\", \"type\": \"scatter\", \"x\": [17, 18, null], \"y\": [6, 7, null]}, {\"hoverinfo\": \"text\", \"line\": {\"color\": \"cornflowerblue\", \"width\": 0.15022276758117517}, \"mode\": \"lines\", \"text\": \"0.15\", \"type\": \"scatter\", \"x\": [17, 18, null], \"y\": [6, 8, null]}, {\"hoverinfo\": \"text\", \"line\": {\"color\": \"cornflowerblue\", \"width\": 0.15070177355445324}, \"mode\": \"lines\", \"text\": \"0.151\", \"type\": \"scatter\", \"x\": [17, 18, null], \"y\": [7, 0, null]}, {\"hoverinfo\": \"text\", \"line\": {\"color\": \"cornflowerblue\", \"width\": 0.15058446673082695}, \"mode\": \"lines\", \"text\": \"0.151\", \"type\": \"scatter\", \"x\": [17, 18, null], \"y\": [7, 1, null]}, {\"hoverinfo\": \"text\", \"line\": {\"color\": \"cornflowerblue\", \"width\": 0.15313733327961215}, \"mode\": \"lines\", \"text\": \"0.153\", \"type\": \"scatter\", \"x\": [17, 18, null], \"y\": [7, 2, null]}, {\"hoverinfo\": \"text\", \"line\": {\"color\": \"cornflowerblue\", \"width\": 0.15207970965007542}, \"mode\": \"lines\", \"text\": \"0.152\", \"type\": \"scatter\", \"x\": [17, 18, null], \"y\": [7, 3, null]}, {\"hoverinfo\": \"text\", \"line\": {\"color\": \"cornflowerblue\", \"width\": 0.1529663749930666}, \"mode\": \"lines\", \"text\": \"0.153\", \"type\": \"scatter\", \"x\": [17, 18, null], \"y\": [7, 4, null]}, {\"hoverinfo\": \"text\", \"line\": {\"color\": \"cornflowerblue\", \"width\": 0.15471794323273574}, \"mode\": \"lines\", \"text\": \"0.155\", \"type\": \"scatter\", \"x\": [17, 18, null], \"y\": [7, 5, null]}, {\"hoverinfo\": \"text\", \"line\": {\"color\": \"cornflowerblue\", \"width\": 0.14696388607811195}, \"mode\": \"lines\", \"text\": \"0.147\", \"type\": \"scatter\", \"x\": [17, 18, null], \"y\": [7, 6, null]}, {\"hoverinfo\": \"text\", \"line\": {\"color\": \"cornflowerblue\", \"width\": 0.15124586383207714}, \"mode\": \"lines\", \"text\": \"0.151\", \"type\": \"scatter\", \"x\": [17, 18, null], \"y\": [7, 7, null]}, {\"hoverinfo\": \"text\", \"line\": {\"color\": \"cornflowerblue\", \"width\": 0.14834768845622662}, \"mode\": \"lines\", \"text\": \"0.148\", \"type\": \"scatter\", \"x\": [17, 18, null], \"y\": [7, 8, null]}, {\"hoverinfo\": \"text\", \"line\": {\"color\": \"cornflowerblue\", \"width\": 0.21206279314749568}, \"mode\": \"lines\", \"text\": \"0.212\", \"type\": \"scatter\", \"x\": [18, 19, null], \"y\": [0, 0, null]}, {\"hoverinfo\": \"text\", \"line\": {\"color\": \"cornflowerblue\", \"width\": 0.16715892276107416}, \"mode\": \"lines\", \"text\": \"0.167\", \"type\": \"scatter\", \"x\": [18, 19, null], \"y\": [0, 1, null]}, {\"hoverinfo\": \"text\", \"line\": {\"color\": \"cornflowerblue\", \"width\": 0.20023299722927537}, \"mode\": \"lines\", \"text\": \"0.2\", \"type\": \"scatter\", \"x\": [18, 19, null], \"y\": [0, 2, null]}, {\"hoverinfo\": \"text\", \"line\": {\"color\": \"cornflowerblue\", \"width\": 0.20009832423675122}, \"mode\": \"lines\", \"text\": \"0.2\", \"type\": \"scatter\", \"x\": [18, 19, null], \"y\": [0, 3, null]}, {\"hoverinfo\": \"text\", \"line\": {\"color\": \"cornflowerblue\", \"width\": 0.49494542301901157}, \"mode\": \"lines\", \"text\": \"0.495\", \"type\": \"scatter\", \"x\": [18, 19, null], \"y\": [0, 4, null]}, {\"hoverinfo\": \"text\", \"line\": {\"color\": \"cornflowerblue\", \"width\": 0.16107140220381383}, \"mode\": \"lines\", \"text\": \"0.161\", \"type\": \"scatter\", \"x\": [18, 19, null], \"y\": [0, 5, null]}, {\"hoverinfo\": \"text\", \"line\": {\"color\": \"cornflowerblue\", \"width\": 0.1615057255598899}, \"mode\": \"lines\", \"text\": \"0.162\", \"type\": \"scatter\", \"x\": [18, 19, null], \"y\": [0, 6, null]}, {\"hoverinfo\": \"text\", \"line\": {\"color\": \"cornflowerblue\", \"width\": 0.14680138920002545}, \"mode\": \"lines\", \"text\": \"0.147\", \"type\": \"scatter\", \"x\": [18, 19, null], \"y\": [0, 7, null]}, {\"hoverinfo\": \"text\", \"line\": {\"color\": \"cornflowerblue\", \"width\": 0.16069308457938591}, \"mode\": \"lines\", \"text\": \"0.161\", \"type\": \"scatter\", \"x\": [18, 19, null], \"y\": [0, 9, null]}, {\"hoverinfo\": \"text\", \"line\": {\"color\": \"cornflowerblue\", \"width\": 0.1532127692078914}, \"mode\": \"lines\", \"text\": \"0.153\", \"type\": \"scatter\", \"x\": [18, 19, null], \"y\": [0, 10, null]}, {\"hoverinfo\": \"text\", \"line\": {\"color\": \"cornflowerblue\", \"width\": 0.15191496029110862}, \"mode\": \"lines\", \"text\": \"0.152\", \"type\": \"scatter\", \"x\": [18, 19, null], \"y\": [0, 11, null]}, {\"hoverinfo\": \"text\", \"line\": {\"color\": \"cornflowerblue\", \"width\": 0.42128718313471586}, \"mode\": \"lines\", \"text\": \"0.421\", \"type\": \"scatter\", \"x\": [18, 19, null], \"y\": [1, 0, null]}, {\"hoverinfo\": \"text\", \"line\": {\"color\": \"cornflowerblue\", \"width\": 0.16642716185445267}, \"mode\": \"lines\", \"text\": \"0.166\", \"type\": \"scatter\", \"x\": [18, 19, null], \"y\": [1, 1, null]}, {\"hoverinfo\": \"text\", \"line\": {\"color\": \"cornflowerblue\", \"width\": 0.22514113988277695}, \"mode\": \"lines\", \"text\": \"0.225\", \"type\": \"scatter\", \"x\": [18, 19, null], \"y\": [1, 2, null]}, {\"hoverinfo\": \"text\", \"line\": {\"color\": \"cornflowerblue\", \"width\": 0.20275855906325482}, \"mode\": \"lines\", \"text\": \"0.203\", \"type\": \"scatter\", \"x\": [18, 19, null], \"y\": [1, 3, null]}, {\"hoverinfo\": \"text\", \"line\": {\"color\": \"cornflowerblue\", \"width\": 0.21599360149765742}, \"mode\": \"lines\", \"text\": \"0.216\", \"type\": \"scatter\", \"x\": [18, 19, null], \"y\": [1, 4, null]}, {\"hoverinfo\": \"text\", \"line\": {\"color\": \"cornflowerblue\", \"width\": 0.16549460981905542}, \"mode\": \"lines\", \"text\": \"0.165\", \"type\": \"scatter\", \"x\": [18, 19, null], \"y\": [1, 5, null]}, {\"hoverinfo\": \"text\", \"line\": {\"color\": \"cornflowerblue\", \"width\": 0.15641961923462927}, \"mode\": \"lines\", \"text\": \"0.156\", \"type\": \"scatter\", \"x\": [18, 19, null], \"y\": [1, 6, null]}, {\"hoverinfo\": \"text\", \"line\": {\"color\": \"cornflowerblue\", \"width\": 0.1465218276075093}, \"mode\": \"lines\", \"text\": \"0.147\", \"type\": \"scatter\", \"x\": [18, 19, null], \"y\": [1, 7, null]}, {\"hoverinfo\": \"text\", \"line\": {\"color\": \"cornflowerblue\", \"width\": 0.16041580194590357}, \"mode\": \"lines\", \"text\": \"0.16\", \"type\": \"scatter\", \"x\": [18, 19, null], \"y\": [1, 9, null]}, {\"hoverinfo\": \"text\", \"line\": {\"color\": \"cornflowerblue\", \"width\": 0.1507715252814381}, \"mode\": \"lines\", \"text\": \"0.151\", \"type\": \"scatter\", \"x\": [18, 19, null], \"y\": [1, 10, null]}, {\"hoverinfo\": \"text\", \"line\": {\"color\": \"cornflowerblue\", \"width\": 0.15262353842993365}, \"mode\": \"lines\", \"text\": \"0.153\", \"type\": \"scatter\", \"x\": [18, 19, null], \"y\": [1, 11, null]}, {\"hoverinfo\": \"text\", \"line\": {\"color\": \"cornflowerblue\", \"width\": 0.1768439443750379}, \"mode\": \"lines\", \"text\": \"0.177\", \"type\": \"scatter\", \"x\": [18, 19, null], \"y\": [2, 0, null]}, {\"hoverinfo\": \"text\", \"line\": {\"color\": \"cornflowerblue\", \"width\": 0.17440321164750106}, \"mode\": \"lines\", \"text\": \"0.174\", \"type\": \"scatter\", \"x\": [18, 19, null], \"y\": [2, 1, null]}, {\"hoverinfo\": \"text\", \"line\": {\"color\": \"cornflowerblue\", \"width\": 0.17319210371398536}, \"mode\": \"lines\", \"text\": \"0.173\", \"type\": \"scatter\", \"x\": [18, 19, null], \"y\": [2, 2, null]}, {\"hoverinfo\": \"text\", \"line\": {\"color\": \"cornflowerblue\", \"width\": 0.1889787182758226}, \"mode\": \"lines\", \"text\": \"0.189\", \"type\": \"scatter\", \"x\": [18, 19, null], \"y\": [2, 3, null]}, {\"hoverinfo\": \"text\", \"line\": {\"color\": \"cornflowerblue\", \"width\": 0.17683608432670223}, \"mode\": \"lines\", \"text\": \"0.177\", \"type\": \"scatter\", \"x\": [18, 19, null], \"y\": [2, 4, null]}, {\"hoverinfo\": \"text\", \"line\": {\"color\": \"cornflowerblue\", \"width\": 0.16699998309571834}, \"mode\": \"lines\", \"text\": \"0.167\", \"type\": \"scatter\", \"x\": [18, 19, null], \"y\": [2, 5, null]}, {\"hoverinfo\": \"text\", \"line\": {\"color\": \"cornflowerblue\", \"width\": 0.15699299073652018}, \"mode\": \"lines\", \"text\": \"0.157\", \"type\": \"scatter\", \"x\": [18, 19, null], \"y\": [2, 6, null]}, {\"hoverinfo\": \"text\", \"line\": {\"color\": \"cornflowerblue\", \"width\": 0.1471613444577396}, \"mode\": \"lines\", \"text\": \"0.147\", \"type\": \"scatter\", \"x\": [18, 19, null], \"y\": [2, 7, null]}, {\"hoverinfo\": \"text\", \"line\": {\"color\": \"cornflowerblue\", \"width\": 0.1647842263062749}, \"mode\": \"lines\", \"text\": \"0.165\", \"type\": \"scatter\", \"x\": [18, 19, null], \"y\": [2, 9, null]}, {\"hoverinfo\": \"text\", \"line\": {\"color\": \"cornflowerblue\", \"width\": 0.15305093475874612}, \"mode\": \"lines\", \"text\": \"0.153\", \"type\": \"scatter\", \"x\": [18, 19, null], \"y\": [2, 10, null]}, {\"hoverinfo\": \"text\", \"line\": {\"color\": \"cornflowerblue\", \"width\": 0.15218712293096778}, \"mode\": \"lines\", \"text\": \"0.152\", \"type\": \"scatter\", \"x\": [18, 19, null], \"y\": [2, 11, null]}, {\"hoverinfo\": \"text\", \"line\": {\"color\": \"cornflowerblue\", \"width\": 0.1990430876914807}, \"mode\": \"lines\", \"text\": \"0.199\", \"type\": \"scatter\", \"x\": [18, 19, null], \"y\": [3, 0, null]}, {\"hoverinfo\": \"text\", \"line\": {\"color\": \"cornflowerblue\", \"width\": 0.16847848204923202}, \"mode\": \"lines\", \"text\": \"0.168\", \"type\": \"scatter\", \"x\": [18, 19, null], \"y\": [3, 1, null]}, {\"hoverinfo\": \"text\", \"line\": {\"color\": \"cornflowerblue\", \"width\": 0.1958572027002286}, \"mode\": \"lines\", \"text\": \"0.196\", \"type\": \"scatter\", \"x\": [18, 19, null], \"y\": [3, 2, null]}, {\"hoverinfo\": \"text\", \"line\": {\"color\": \"cornflowerblue\", \"width\": 0.29208776984752766}, \"mode\": \"lines\", \"text\": \"0.292\", \"type\": \"scatter\", \"x\": [18, 19, null], \"y\": [3, 3, null]}, {\"hoverinfo\": \"text\", \"line\": {\"color\": \"cornflowerblue\", \"width\": 0.19345740329018818}, \"mode\": \"lines\", \"text\": \"0.193\", \"type\": \"scatter\", \"x\": [18, 19, null], \"y\": [3, 4, null]}, {\"hoverinfo\": \"text\", \"line\": {\"color\": \"cornflowerblue\", \"width\": 0.16655632344561017}, \"mode\": \"lines\", \"text\": \"0.167\", \"type\": \"scatter\", \"x\": [18, 19, null], \"y\": [3, 5, null]}, {\"hoverinfo\": \"text\", \"line\": {\"color\": \"cornflowerblue\", \"width\": 0.15614161971474727}, \"mode\": \"lines\", \"text\": \"0.156\", \"type\": \"scatter\", \"x\": [18, 19, null], \"y\": [3, 6, null]}, {\"hoverinfo\": \"text\", \"line\": {\"color\": \"cornflowerblue\", \"width\": 0.14623679134712675}, \"mode\": \"lines\", \"text\": \"0.146\", \"type\": \"scatter\", \"x\": [18, 19, null], \"y\": [3, 7, null]}, {\"hoverinfo\": \"text\", \"line\": {\"color\": \"cornflowerblue\", \"width\": 0.16362914791776476}, \"mode\": \"lines\", \"text\": \"0.164\", \"type\": \"scatter\", \"x\": [18, 19, null], \"y\": [3, 9, null]}, {\"hoverinfo\": \"text\", \"line\": {\"color\": \"cornflowerblue\", \"width\": 0.15147214301787443}, \"mode\": \"lines\", \"text\": \"0.151\", \"type\": \"scatter\", \"x\": [18, 19, null], \"y\": [3, 10, null]}, {\"hoverinfo\": \"text\", \"line\": {\"color\": \"cornflowerblue\", \"width\": 0.15130830645498253}, \"mode\": \"lines\", \"text\": \"0.151\", \"type\": \"scatter\", \"x\": [18, 19, null], \"y\": [3, 11, null]}, {\"hoverinfo\": \"text\", \"line\": {\"color\": \"cornflowerblue\", \"width\": 0.24766484899615426}, \"mode\": \"lines\", \"text\": \"0.248\", \"type\": \"scatter\", \"x\": [18, 19, null], \"y\": [4, 0, null]}, {\"hoverinfo\": \"text\", \"line\": {\"color\": \"cornflowerblue\", \"width\": 0.16456749449765862}, \"mode\": \"lines\", \"text\": \"0.165\", \"type\": \"scatter\", \"x\": [18, 19, null], \"y\": [4, 1, null]}, {\"hoverinfo\": \"text\", \"line\": {\"color\": \"cornflowerblue\", \"width\": 0.18047021238523694}, \"mode\": \"lines\", \"text\": \"0.18\", \"type\": \"scatter\", \"x\": [18, 19, null], \"y\": [4, 2, null]}, {\"hoverinfo\": \"text\", \"line\": {\"color\": \"cornflowerblue\", \"width\": 0.18877377389363437}, \"mode\": \"lines\", \"text\": \"0.189\", \"type\": \"scatter\", \"x\": [18, 19, null], \"y\": [4, 3, null]}, {\"hoverinfo\": \"text\", \"line\": {\"color\": \"cornflowerblue\", \"width\": 0.19246851076387453}, \"mode\": \"lines\", \"text\": \"0.192\", \"type\": \"scatter\", \"x\": [18, 19, null], \"y\": [4, 4, null]}, {\"hoverinfo\": \"text\", \"line\": {\"color\": \"cornflowerblue\", \"width\": 0.16914890687405487}, \"mode\": \"lines\", \"text\": \"0.169\", \"type\": \"scatter\", \"x\": [18, 19, null], \"y\": [4, 5, null]}, {\"hoverinfo\": \"text\", \"line\": {\"color\": \"cornflowerblue\", \"width\": 0.15597182958979963}, \"mode\": \"lines\", \"text\": \"0.156\", \"type\": \"scatter\", \"x\": [18, 19, null], \"y\": [4, 6, null]}, {\"hoverinfo\": \"text\", \"line\": {\"color\": \"cornflowerblue\", \"width\": 0.14827233570179105}, \"mode\": \"lines\", \"text\": \"0.148\", \"type\": \"scatter\", \"x\": [18, 19, null], \"y\": [4, 7, null]}, {\"hoverinfo\": \"text\", \"line\": {\"color\": \"cornflowerblue\", \"width\": 0.1623335987409057}, \"mode\": \"lines\", \"text\": \"0.162\", \"type\": \"scatter\", \"x\": [18, 19, null], \"y\": [4, 9, null]}, {\"hoverinfo\": \"text\", \"line\": {\"color\": \"cornflowerblue\", \"width\": 0.153017062021272}, \"mode\": \"lines\", \"text\": \"0.153\", \"type\": \"scatter\", \"x\": [18, 19, null], \"y\": [4, 10, null]}, {\"hoverinfo\": \"text\", \"line\": {\"color\": \"cornflowerblue\", \"width\": 0.15525792914706957}, \"mode\": \"lines\", \"text\": \"0.155\", \"type\": \"scatter\", \"x\": [18, 19, null], \"y\": [4, 11, null]}, {\"hoverinfo\": \"text\", \"line\": {\"color\": \"cornflowerblue\", \"width\": 0.21466368229332078}, \"mode\": \"lines\", \"text\": \"0.215\", \"type\": \"scatter\", \"x\": [18, 19, null], \"y\": [5, 0, null]}, {\"hoverinfo\": \"text\", \"line\": {\"color\": \"cornflowerblue\", \"width\": 0.16419920018397777}, \"mode\": \"lines\", \"text\": \"0.164\", \"type\": \"scatter\", \"x\": [18, 19, null], \"y\": [5, 1, null]}, {\"hoverinfo\": \"text\", \"line\": {\"color\": \"cornflowerblue\", \"width\": 0.24618864266382953}, \"mode\": \"lines\", \"text\": \"0.246\", \"type\": \"scatter\", \"x\": [18, 19, null], \"y\": [5, 2, null]}, {\"hoverinfo\": \"text\", \"line\": {\"color\": \"cornflowerblue\", \"width\": 0.18204021647672491}, \"mode\": \"lines\", \"text\": \"0.182\", \"type\": \"scatter\", \"x\": [18, 19, null], \"y\": [5, 3, null]}, {\"hoverinfo\": \"text\", \"line\": {\"color\": \"cornflowerblue\", \"width\": 0.18967029684990924}, \"mode\": \"lines\", \"text\": \"0.19\", \"type\": \"scatter\", \"x\": [18, 19, null], \"y\": [5, 4, null]}, {\"hoverinfo\": \"text\", \"line\": {\"color\": \"cornflowerblue\", \"width\": 0.16405155500655746}, \"mode\": \"lines\", \"text\": \"0.164\", \"type\": \"scatter\", \"x\": [18, 19, null], \"y\": [5, 5, null]}, {\"hoverinfo\": \"text\", \"line\": {\"color\": \"cornflowerblue\", \"width\": 0.15572636661430958}, \"mode\": \"lines\", \"text\": \"0.156\", \"type\": \"scatter\", \"x\": [18, 19, null], \"y\": [5, 6, null]}, {\"hoverinfo\": \"text\", \"line\": {\"color\": \"cornflowerblue\", \"width\": 0.14846092620140286}, \"mode\": \"lines\", \"text\": \"0.148\", \"type\": \"scatter\", \"x\": [18, 19, null], \"y\": [5, 7, null]}, {\"hoverinfo\": \"text\", \"line\": {\"color\": \"cornflowerblue\", \"width\": 0.1612669463359839}, \"mode\": \"lines\", \"text\": \"0.161\", \"type\": \"scatter\", \"x\": [18, 19, null], \"y\": [5, 9, null]}, {\"hoverinfo\": \"text\", \"line\": {\"color\": \"cornflowerblue\", \"width\": 0.15581814559106139}, \"mode\": \"lines\", \"text\": \"0.156\", \"type\": \"scatter\", \"x\": [18, 19, null], \"y\": [5, 10, null]}, {\"hoverinfo\": \"text\", \"line\": {\"color\": \"cornflowerblue\", \"width\": 0.15410985170434252}, \"mode\": \"lines\", \"text\": \"0.154\", \"type\": \"scatter\", \"x\": [18, 19, null], \"y\": [5, 11, null]}, {\"hoverinfo\": \"text\", \"line\": {\"color\": \"cornflowerblue\", \"width\": 0.1483368149116614}, \"mode\": \"lines\", \"text\": \"0.148\", \"type\": \"scatter\", \"x\": [18, 19, null], \"y\": [6, 0, null]}, {\"hoverinfo\": \"text\", \"line\": {\"color\": \"cornflowerblue\", \"width\": 0.14875695150109014}, \"mode\": \"lines\", \"text\": \"0.149\", \"type\": \"scatter\", \"x\": [18, 19, null], \"y\": [6, 1, null]}, {\"hoverinfo\": \"text\", \"line\": {\"color\": \"cornflowerblue\", \"width\": 0.14711005425124535}, \"mode\": \"lines\", \"text\": \"0.147\", \"type\": \"scatter\", \"x\": [18, 19, null], \"y\": [6, 2, null]}, {\"hoverinfo\": \"text\", \"line\": {\"color\": \"cornflowerblue\", \"width\": 0.14820790488915458}, \"mode\": \"lines\", \"text\": \"0.148\", \"type\": \"scatter\", \"x\": [18, 19, null], \"y\": [6, 3, null]}, {\"hoverinfo\": \"text\", \"line\": {\"color\": \"cornflowerblue\", \"width\": 0.14860544157705552}, \"mode\": \"lines\", \"text\": \"0.149\", \"type\": \"scatter\", \"x\": [18, 19, null], \"y\": [6, 4, null]}, {\"hoverinfo\": \"text\", \"line\": {\"color\": \"cornflowerblue\", \"width\": 0.14644726998872287}, \"mode\": \"lines\", \"text\": \"0.146\", \"type\": \"scatter\", \"x\": [18, 19, null], \"y\": [6, 6, null]}, {\"hoverinfo\": \"text\", \"line\": {\"color\": \"cornflowerblue\", \"width\": 0.14758824628227257}, \"mode\": \"lines\", \"text\": \"0.148\", \"type\": \"scatter\", \"x\": [18, 19, null], \"y\": [6, 9, null]}, {\"hoverinfo\": \"text\", \"line\": {\"color\": \"cornflowerblue\", \"width\": 0.14709388960231867}, \"mode\": \"lines\", \"text\": \"0.147\", \"type\": \"scatter\", \"x\": [18, 19, null], \"y\": [6, 10, null]}, {\"hoverinfo\": \"text\", \"line\": {\"color\": \"cornflowerblue\", \"width\": 0.15211558410958143}, \"mode\": \"lines\", \"text\": \"0.152\", \"type\": \"scatter\", \"x\": [18, 19, null], \"y\": [6, 11, null]}, {\"hoverinfo\": \"text\", \"line\": {\"color\": \"cornflowerblue\", \"width\": 0.15169336906600053}, \"mode\": \"lines\", \"text\": \"0.152\", \"type\": \"scatter\", \"x\": [18, 19, null], \"y\": [7, 0, null]}, {\"hoverinfo\": \"text\", \"line\": {\"color\": \"cornflowerblue\", \"width\": 0.15178762265912266}, \"mode\": \"lines\", \"text\": \"0.152\", \"type\": \"scatter\", \"x\": [18, 19, null], \"y\": [7, 1, null]}, {\"hoverinfo\": \"text\", \"line\": {\"color\": \"cornflowerblue\", \"width\": 0.1515408275250118}, \"mode\": \"lines\", \"text\": \"0.152\", \"type\": \"scatter\", \"x\": [18, 19, null], \"y\": [7, 2, null]}, {\"hoverinfo\": \"text\", \"line\": {\"color\": \"cornflowerblue\", \"width\": 0.15114047222727298}, \"mode\": \"lines\", \"text\": \"0.151\", \"type\": \"scatter\", \"x\": [18, 19, null], \"y\": [7, 3, null]}, {\"hoverinfo\": \"text\", \"line\": {\"color\": \"cornflowerblue\", \"width\": 0.14955837917116668}, \"mode\": \"lines\", \"text\": \"0.15\", \"type\": \"scatter\", \"x\": [18, 19, null], \"y\": [7, 4, null]}, {\"hoverinfo\": \"text\", \"line\": {\"color\": \"cornflowerblue\", \"width\": 0.15140638292298392}, \"mode\": \"lines\", \"text\": \"0.151\", \"type\": \"scatter\", \"x\": [18, 19, null], \"y\": [7, 5, null]}, {\"hoverinfo\": \"text\", \"line\": {\"color\": \"cornflowerblue\", \"width\": 0.15113777590021416}, \"mode\": \"lines\", \"text\": \"0.151\", \"type\": \"scatter\", \"x\": [18, 19, null], \"y\": [7, 6, null]}, {\"hoverinfo\": \"text\", \"line\": {\"color\": \"cornflowerblue\", \"width\": 0.1465099907828339}, \"mode\": \"lines\", \"text\": \"0.147\", \"type\": \"scatter\", \"x\": [18, 19, null], \"y\": [7, 7, null]}, {\"hoverinfo\": \"text\", \"line\": {\"color\": \"cornflowerblue\", \"width\": 0.15815084781600808}, \"mode\": \"lines\", \"text\": \"0.158\", \"type\": \"scatter\", \"x\": [18, 19, null], \"y\": [7, 9, null]}, {\"hoverinfo\": \"text\", \"line\": {\"color\": \"cornflowerblue\", \"width\": 0.1481407488019782}, \"mode\": \"lines\", \"text\": \"0.148\", \"type\": \"scatter\", \"x\": [18, 19, null], \"y\": [7, 10, null]}, {\"hoverinfo\": \"text\", \"line\": {\"color\": \"cornflowerblue\", \"width\": 0.1507160726172804}, \"mode\": \"lines\", \"text\": \"0.151\", \"type\": \"scatter\", \"x\": [18, 19, null], \"y\": [7, 11, null]}, {\"hoverinfo\": \"text\", \"line\": {\"color\": \"cornflowerblue\", \"width\": 0.15031144387834763}, \"mode\": \"lines\", \"text\": \"0.15\", \"type\": \"scatter\", \"x\": [18, 19, null], \"y\": [8, 0, null]}, {\"hoverinfo\": \"text\", \"line\": {\"color\": \"cornflowerblue\", \"width\": 0.14973769149359822}, \"mode\": \"lines\", \"text\": \"0.15\", \"type\": \"scatter\", \"x\": [18, 19, null], \"y\": [8, 1, null]}, {\"hoverinfo\": \"text\", \"line\": {\"color\": \"cornflowerblue\", \"width\": 0.14946926460386806}, \"mode\": \"lines\", \"text\": \"0.149\", \"type\": \"scatter\", \"x\": [18, 19, null], \"y\": [8, 2, null]}, {\"hoverinfo\": \"text\", \"line\": {\"color\": \"cornflowerblue\", \"width\": 0.1516418958465051}, \"mode\": \"lines\", \"text\": \"0.152\", \"type\": \"scatter\", \"x\": [18, 19, null], \"y\": [8, 3, null]}, {\"hoverinfo\": \"text\", \"line\": {\"color\": \"cornflowerblue\", \"width\": 0.14945662328316214}, \"mode\": \"lines\", \"text\": \"0.149\", \"type\": \"scatter\", \"x\": [18, 19, null], \"y\": [8, 4, null]}, {\"hoverinfo\": \"text\", \"line\": {\"color\": \"cornflowerblue\", \"width\": 0.14807252679200972}, \"mode\": \"lines\", \"text\": \"0.148\", \"type\": \"scatter\", \"x\": [18, 19, null], \"y\": [8, 6, null]}, {\"hoverinfo\": \"text\", \"line\": {\"color\": \"cornflowerblue\", \"width\": 0.14747319706303072}, \"mode\": \"lines\", \"text\": \"0.147\", \"type\": \"scatter\", \"x\": [18, 19, null], \"y\": [8, 7, null]}, {\"hoverinfo\": \"text\", \"line\": {\"color\": \"cornflowerblue\", \"width\": 0.1472187957041427}, \"mode\": \"lines\", \"text\": \"0.147\", \"type\": \"scatter\", \"x\": [18, 19, null], \"y\": [8, 9, null]}, {\"hoverinfo\": \"text\", \"line\": {\"color\": \"cornflowerblue\", \"width\": 0.14617014081414048}, \"mode\": \"lines\", \"text\": \"0.146\", \"type\": \"scatter\", \"x\": [18, 19, null], \"y\": [8, 11, null]}, {\"hoverinfo\": \"text\", \"line\": {\"color\": \"cornflowerblue\", \"width\": 0.21346690200829846}, \"mode\": \"lines\", \"text\": \"0.213\", \"type\": \"scatter\", \"x\": [19, 20, null], \"y\": [0, 0, null]}, {\"hoverinfo\": \"text\", \"line\": {\"color\": \"cornflowerblue\", \"width\": 0.19260963769592765}, \"mode\": \"lines\", \"text\": \"0.193\", \"type\": \"scatter\", \"x\": [19, 20, null], \"y\": [0, 1, null]}, {\"hoverinfo\": \"text\", \"line\": {\"color\": \"cornflowerblue\", \"width\": 0.20998560014232756}, \"mode\": \"lines\", \"text\": \"0.21\", \"type\": \"scatter\", \"x\": [19, 20, null], \"y\": [0, 2, null]}, {\"hoverinfo\": \"text\", \"line\": {\"color\": \"cornflowerblue\", \"width\": 0.18025946294813117}, \"mode\": \"lines\", \"text\": \"0.18\", \"type\": \"scatter\", \"x\": [19, 20, null], \"y\": [0, 3, null]}, {\"hoverinfo\": \"text\", \"line\": {\"color\": \"cornflowerblue\", \"width\": 0.22161348304934267}, \"mode\": \"lines\", \"text\": \"0.222\", \"type\": \"scatter\", \"x\": [19, 20, null], \"y\": [0, 4, null]}, {\"hoverinfo\": \"text\", \"line\": {\"color\": \"cornflowerblue\", \"width\": 0.44127070936989204}, \"mode\": \"lines\", \"text\": \"0.441\", \"type\": \"scatter\", \"x\": [19, 20, null], \"y\": [0, 5, null]}, {\"hoverinfo\": \"text\", \"line\": {\"color\": \"cornflowerblue\", \"width\": 0.2036244738665629}, \"mode\": \"lines\", \"text\": \"0.204\", \"type\": \"scatter\", \"x\": [19, 20, null], \"y\": [0, 6, null]}, {\"hoverinfo\": \"text\", \"line\": {\"color\": \"cornflowerblue\", \"width\": 0.16122310724674918}, \"mode\": \"lines\", \"text\": \"0.161\", \"type\": \"scatter\", \"x\": [19, 20, null], \"y\": [0, 7, null]}, {\"hoverinfo\": \"text\", \"line\": {\"color\": \"cornflowerblue\", \"width\": 0.16789408423969612}, \"mode\": \"lines\", \"text\": \"0.168\", \"type\": \"scatter\", \"x\": [19, 20, null], \"y\": [1, 0, null]}, {\"hoverinfo\": \"text\", \"line\": {\"color\": \"cornflowerblue\", \"width\": 0.16570802606441198}, \"mode\": \"lines\", \"text\": \"0.166\", \"type\": \"scatter\", \"x\": [19, 20, null], \"y\": [1, 1, null]}, {\"hoverinfo\": \"text\", \"line\": {\"color\": \"cornflowerblue\", \"width\": 0.15662806715422187}, \"mode\": \"lines\", \"text\": \"0.157\", \"type\": \"scatter\", \"x\": [19, 20, null], \"y\": [1, 2, null]}, {\"hoverinfo\": \"text\", \"line\": {\"color\": \"cornflowerblue\", \"width\": 0.17120340479045182}, \"mode\": \"lines\", \"text\": \"0.171\", \"type\": \"scatter\", \"x\": [19, 20, null], \"y\": [1, 3, null]}, {\"hoverinfo\": \"text\", \"line\": {\"color\": \"cornflowerblue\", \"width\": 0.16332282870834333}, \"mode\": \"lines\", \"text\": \"0.163\", \"type\": \"scatter\", \"x\": [19, 20, null], \"y\": [1, 4, null]}, {\"hoverinfo\": \"text\", \"line\": {\"color\": \"cornflowerblue\", \"width\": 0.16681813164109702}, \"mode\": \"lines\", \"text\": \"0.167\", \"type\": \"scatter\", \"x\": [19, 20, null], \"y\": [1, 5, null]}, {\"hoverinfo\": \"text\", \"line\": {\"color\": \"cornflowerblue\", \"width\": 0.16202289935046468}, \"mode\": \"lines\", \"text\": \"0.162\", \"type\": \"scatter\", \"x\": [19, 20, null], \"y\": [1, 6, null]}, {\"hoverinfo\": \"text\", \"line\": {\"color\": \"cornflowerblue\", \"width\": 0.1625331807176716}, \"mode\": \"lines\", \"text\": \"0.163\", \"type\": \"scatter\", \"x\": [19, 20, null], \"y\": [1, 7, null]}, {\"hoverinfo\": \"text\", \"line\": {\"color\": \"cornflowerblue\", \"width\": 0.20224701111360402}, \"mode\": \"lines\", \"text\": \"0.202\", \"type\": \"scatter\", \"x\": [19, 20, null], \"y\": [2, 0, null]}, {\"hoverinfo\": \"text\", \"line\": {\"color\": \"cornflowerblue\", \"width\": 0.260501039757555}, \"mode\": \"lines\", \"text\": \"0.261\", \"type\": \"scatter\", \"x\": [19, 20, null], \"y\": [2, 1, null]}, {\"hoverinfo\": \"text\", \"line\": {\"color\": \"cornflowerblue\", \"width\": 0.18090122167662528}, \"mode\": \"lines\", \"text\": \"0.181\", \"type\": \"scatter\", \"x\": [19, 20, null], \"y\": [2, 2, null]}, {\"hoverinfo\": \"text\", \"line\": {\"color\": \"cornflowerblue\", \"width\": 0.17941543232439072}, \"mode\": \"lines\", \"text\": \"0.179\", \"type\": \"scatter\", \"x\": [19, 20, null], \"y\": [2, 3, null]}, {\"hoverinfo\": \"text\", \"line\": {\"color\": \"cornflowerblue\", \"width\": 0.18015648618266278}, \"mode\": \"lines\", \"text\": \"0.18\", \"type\": \"scatter\", \"x\": [19, 20, null], \"y\": [2, 4, null]}, {\"hoverinfo\": \"text\", \"line\": {\"color\": \"cornflowerblue\", \"width\": 0.21572370871494576}, \"mode\": \"lines\", \"text\": \"0.216\", \"type\": \"scatter\", \"x\": [19, 20, null], \"y\": [2, 5, null]}, {\"hoverinfo\": \"text\", \"line\": {\"color\": \"cornflowerblue\", \"width\": 0.18990914299731443}, \"mode\": \"lines\", \"text\": \"0.19\", \"type\": \"scatter\", \"x\": [19, 20, null], \"y\": [2, 6, null]}, {\"hoverinfo\": \"text\", \"line\": {\"color\": \"cornflowerblue\", \"width\": 0.1633267189039394}, \"mode\": \"lines\", \"text\": \"0.163\", \"type\": \"scatter\", \"x\": [19, 20, null], \"y\": [2, 7, null]}, {\"hoverinfo\": \"text\", \"line\": {\"color\": \"cornflowerblue\", \"width\": 0.14614357201169673}, \"mode\": \"lines\", \"text\": \"0.146\", \"type\": \"scatter\", \"x\": [19, 20, null], \"y\": [2, 8, null]}, {\"hoverinfo\": \"text\", \"line\": {\"color\": \"cornflowerblue\", \"width\": 0.20157533322377202}, \"mode\": \"lines\", \"text\": \"0.202\", \"type\": \"scatter\", \"x\": [19, 20, null], \"y\": [3, 0, null]}, {\"hoverinfo\": \"text\", \"line\": {\"color\": \"cornflowerblue\", \"width\": 0.22190237651119704}, \"mode\": \"lines\", \"text\": \"0.222\", \"type\": \"scatter\", \"x\": [19, 20, null], \"y\": [3, 1, null]}, {\"hoverinfo\": \"text\", \"line\": {\"color\": \"cornflowerblue\", \"width\": 0.17374842482944}, \"mode\": \"lines\", \"text\": \"0.174\", \"type\": \"scatter\", \"x\": [19, 20, null], \"y\": [3, 2, null]}, {\"hoverinfo\": \"text\", \"line\": {\"color\": \"cornflowerblue\", \"width\": 0.1936072969438463}, \"mode\": \"lines\", \"text\": \"0.194\", \"type\": \"scatter\", \"x\": [19, 20, null], \"y\": [3, 3, null]}, {\"hoverinfo\": \"text\", \"line\": {\"color\": \"cornflowerblue\", \"width\": 0.18782803115093197}, \"mode\": \"lines\", \"text\": \"0.188\", \"type\": \"scatter\", \"x\": [19, 20, null], \"y\": [3, 4, null]}, {\"hoverinfo\": \"text\", \"line\": {\"color\": \"cornflowerblue\", \"width\": 0.20944572707579104}, \"mode\": \"lines\", \"text\": \"0.209\", \"type\": \"scatter\", \"x\": [19, 20, null], \"y\": [3, 5, null]}, {\"hoverinfo\": \"text\", \"line\": {\"color\": \"cornflowerblue\", \"width\": 0.18054924482832777}, \"mode\": \"lines\", \"text\": \"0.181\", \"type\": \"scatter\", \"x\": [19, 20, null], \"y\": [3, 6, null]}, {\"hoverinfo\": \"text\", \"line\": {\"color\": \"cornflowerblue\", \"width\": 0.1654379614236712}, \"mode\": \"lines\", \"text\": \"0.165\", \"type\": \"scatter\", \"x\": [19, 20, null], \"y\": [3, 7, null]}, {\"hoverinfo\": \"text\", \"line\": {\"color\": \"cornflowerblue\", \"width\": 0.4952768810903691}, \"mode\": \"lines\", \"text\": \"0.495\", \"type\": \"scatter\", \"x\": [19, 20, null], \"y\": [4, 0, null]}, {\"hoverinfo\": \"text\", \"line\": {\"color\": \"cornflowerblue\", \"width\": 0.1980998046078249}, \"mode\": \"lines\", \"text\": \"0.198\", \"type\": \"scatter\", \"x\": [19, 20, null], \"y\": [4, 1, null]}, {\"hoverinfo\": \"text\", \"line\": {\"color\": \"cornflowerblue\", \"width\": 0.1803657504716595}, \"mode\": \"lines\", \"text\": \"0.18\", \"type\": \"scatter\", \"x\": [19, 20, null], \"y\": [4, 2, null]}, {\"hoverinfo\": \"text\", \"line\": {\"color\": \"cornflowerblue\", \"width\": 0.18308069032106664}, \"mode\": \"lines\", \"text\": \"0.183\", \"type\": \"scatter\", \"x\": [19, 20, null], \"y\": [4, 3, null]}, {\"hoverinfo\": \"text\", \"line\": {\"color\": \"cornflowerblue\", \"width\": 0.19174060659339237}, \"mode\": \"lines\", \"text\": \"0.192\", \"type\": \"scatter\", \"x\": [19, 20, null], \"y\": [4, 4, null]}, {\"hoverinfo\": \"text\", \"line\": {\"color\": \"cornflowerblue\", \"width\": 0.21646088813614753}, \"mode\": \"lines\", \"text\": \"0.216\", \"type\": \"scatter\", \"x\": [19, 20, null], \"y\": [4, 5, null]}, {\"hoverinfo\": \"text\", \"line\": {\"color\": \"cornflowerblue\", \"width\": 0.18682146136823352}, \"mode\": \"lines\", \"text\": \"0.187\", \"type\": \"scatter\", \"x\": [19, 20, null], \"y\": [4, 6, null]}, {\"hoverinfo\": \"text\", \"line\": {\"color\": \"cornflowerblue\", \"width\": 0.16586699640293587}, \"mode\": \"lines\", \"text\": \"0.166\", \"type\": \"scatter\", \"x\": [19, 20, null], \"y\": [4, 7, null]}, {\"hoverinfo\": \"text\", \"line\": {\"color\": \"cornflowerblue\", \"width\": 0.16153461226710483}, \"mode\": \"lines\", \"text\": \"0.162\", \"type\": \"scatter\", \"x\": [19, 20, null], \"y\": [5, 0, null]}, {\"hoverinfo\": \"text\", \"line\": {\"color\": \"cornflowerblue\", \"width\": 0.16331751482611773}, \"mode\": \"lines\", \"text\": \"0.163\", \"type\": \"scatter\", \"x\": [19, 20, null], \"y\": [5, 1, null]}, {\"hoverinfo\": \"text\", \"line\": {\"color\": \"cornflowerblue\", \"width\": 0.15336454628841442}, \"mode\": \"lines\", \"text\": \"0.153\", \"type\": \"scatter\", \"x\": [19, 20, null], \"y\": [5, 2, null]}, {\"hoverinfo\": \"text\", \"line\": {\"color\": \"cornflowerblue\", \"width\": 0.16261884744584335}, \"mode\": \"lines\", \"text\": \"0.163\", \"type\": \"scatter\", \"x\": [19, 20, null], \"y\": [5, 3, null]}, {\"hoverinfo\": \"text\", \"line\": {\"color\": \"cornflowerblue\", \"width\": 0.16863394452897212}, \"mode\": \"lines\", \"text\": \"0.169\", \"type\": \"scatter\", \"x\": [19, 20, null], \"y\": [5, 4, null]}, {\"hoverinfo\": \"text\", \"line\": {\"color\": \"cornflowerblue\", \"width\": 0.1661246311645916}, \"mode\": \"lines\", \"text\": \"0.166\", \"type\": \"scatter\", \"x\": [19, 20, null], \"y\": [5, 5, null]}, {\"hoverinfo\": \"text\", \"line\": {\"color\": \"cornflowerblue\", \"width\": 0.16210999446694382}, \"mode\": \"lines\", \"text\": \"0.162\", \"type\": \"scatter\", \"x\": [19, 20, null], \"y\": [5, 6, null]}, {\"hoverinfo\": \"text\", \"line\": {\"color\": \"cornflowerblue\", \"width\": 0.16124204428821454}, \"mode\": \"lines\", \"text\": \"0.161\", \"type\": \"scatter\", \"x\": [19, 20, null], \"y\": [5, 7, null]}, {\"hoverinfo\": \"text\", \"line\": {\"color\": \"cornflowerblue\", \"width\": 0.16121216462926904}, \"mode\": \"lines\", \"text\": \"0.161\", \"type\": \"scatter\", \"x\": [19, 20, null], \"y\": [6, 0, null]}, {\"hoverinfo\": \"text\", \"line\": {\"color\": \"cornflowerblue\", \"width\": 0.15575035132466103}, \"mode\": \"lines\", \"text\": \"0.156\", \"type\": \"scatter\", \"x\": [19, 20, null], \"y\": [6, 1, null]}, {\"hoverinfo\": \"text\", \"line\": {\"color\": \"cornflowerblue\", \"width\": 0.15004513077157888}, \"mode\": \"lines\", \"text\": \"0.15\", \"type\": \"scatter\", \"x\": [19, 20, null], \"y\": [6, 2, null]}, {\"hoverinfo\": \"text\", \"line\": {\"color\": \"cornflowerblue\", \"width\": 0.15521050211253815}, \"mode\": \"lines\", \"text\": \"0.155\", \"type\": \"scatter\", \"x\": [19, 20, null], \"y\": [6, 3, null]}, {\"hoverinfo\": \"text\", \"line\": {\"color\": \"cornflowerblue\", \"width\": 0.15459466911359346}, \"mode\": \"lines\", \"text\": \"0.155\", \"type\": \"scatter\", \"x\": [19, 20, null], \"y\": [6, 4, null]}, {\"hoverinfo\": \"text\", \"line\": {\"color\": \"cornflowerblue\", \"width\": 0.1569425179561687}, \"mode\": \"lines\", \"text\": \"0.157\", \"type\": \"scatter\", \"x\": [19, 20, null], \"y\": [6, 5, null]}, {\"hoverinfo\": \"text\", \"line\": {\"color\": \"cornflowerblue\", \"width\": 0.15666447119873791}, \"mode\": \"lines\", \"text\": \"0.157\", \"type\": \"scatter\", \"x\": [19, 20, null], \"y\": [6, 6, null]}, {\"hoverinfo\": \"text\", \"line\": {\"color\": \"cornflowerblue\", \"width\": 0.15731724699326013}, \"mode\": \"lines\", \"text\": \"0.157\", \"type\": \"scatter\", \"x\": [19, 20, null], \"y\": [6, 7, null]}, {\"hoverinfo\": \"text\", \"line\": {\"color\": \"cornflowerblue\", \"width\": 0.14656657069734358}, \"mode\": \"lines\", \"text\": \"0.147\", \"type\": \"scatter\", \"x\": [19, 20, null], \"y\": [7, 0, null]}, {\"hoverinfo\": \"text\", \"line\": {\"color\": \"cornflowerblue\", \"width\": 0.14705661695033848}, \"mode\": \"lines\", \"text\": \"0.147\", \"type\": \"scatter\", \"x\": [19, 20, null], \"y\": [7, 1, null]}, {\"hoverinfo\": \"text\", \"line\": {\"color\": \"cornflowerblue\", \"width\": 0.14625911698999908}, \"mode\": \"lines\", \"text\": \"0.146\", \"type\": \"scatter\", \"x\": [19, 20, null], \"y\": [7, 2, null]}, {\"hoverinfo\": \"text\", \"line\": {\"color\": \"cornflowerblue\", \"width\": 0.14706650989217304}, \"mode\": \"lines\", \"text\": \"0.147\", \"type\": \"scatter\", \"x\": [19, 20, null], \"y\": [7, 4, null]}, {\"hoverinfo\": \"text\", \"line\": {\"color\": \"cornflowerblue\", \"width\": 0.14686587957263625}, \"mode\": \"lines\", \"text\": \"0.147\", \"type\": \"scatter\", \"x\": [19, 20, null], \"y\": [7, 5, null]}, {\"hoverinfo\": \"text\", \"line\": {\"color\": \"cornflowerblue\", \"width\": 0.14909945493064547}, \"mode\": \"lines\", \"text\": \"0.149\", \"type\": \"scatter\", \"x\": [19, 20, null], \"y\": [7, 6, null]}, {\"hoverinfo\": \"text\", \"line\": {\"color\": \"cornflowerblue\", \"width\": 0.14639489360796717}, \"mode\": \"lines\", \"text\": \"0.146\", \"type\": \"scatter\", \"x\": [19, 20, null], \"y\": [7, 7, null]}, {\"hoverinfo\": \"text\", \"line\": {\"color\": \"cornflowerblue\", \"width\": 0.16068408652492464}, \"mode\": \"lines\", \"text\": \"0.161\", \"type\": \"scatter\", \"x\": [19, 20, null], \"y\": [9, 0, null]}, {\"hoverinfo\": \"text\", \"line\": {\"color\": \"cornflowerblue\", \"width\": 0.15937606218144848}, \"mode\": \"lines\", \"text\": \"0.159\", \"type\": \"scatter\", \"x\": [19, 20, null], \"y\": [9, 1, null]}, {\"hoverinfo\": \"text\", \"line\": {\"color\": \"cornflowerblue\", \"width\": 0.1529153005118721}, \"mode\": \"lines\", \"text\": \"0.153\", \"type\": \"scatter\", \"x\": [19, 20, null], \"y\": [9, 2, null]}, {\"hoverinfo\": \"text\", \"line\": {\"color\": \"cornflowerblue\", \"width\": 0.16197691493333682}, \"mode\": \"lines\", \"text\": \"0.162\", \"type\": \"scatter\", \"x\": [19, 20, null], \"y\": [9, 3, null]}, {\"hoverinfo\": \"text\", \"line\": {\"color\": \"cornflowerblue\", \"width\": 0.15901009654368214}, \"mode\": \"lines\", \"text\": \"0.159\", \"type\": \"scatter\", \"x\": [19, 20, null], \"y\": [9, 4, null]}, {\"hoverinfo\": \"text\", \"line\": {\"color\": \"cornflowerblue\", \"width\": 0.16184413497737438}, \"mode\": \"lines\", \"text\": \"0.162\", \"type\": \"scatter\", \"x\": [19, 20, null], \"y\": [9, 5, null]}, {\"hoverinfo\": \"text\", \"line\": {\"color\": \"cornflowerblue\", \"width\": 0.1594190079950925}, \"mode\": \"lines\", \"text\": \"0.159\", \"type\": \"scatter\", \"x\": [19, 20, null], \"y\": [9, 6, null]}, {\"hoverinfo\": \"text\", \"line\": {\"color\": \"cornflowerblue\", \"width\": 0.16081251948087263}, \"mode\": \"lines\", \"text\": \"0.161\", \"type\": \"scatter\", \"x\": [19, 20, null], \"y\": [9, 7, null]}, {\"hoverinfo\": \"text\", \"line\": {\"color\": \"cornflowerblue\", \"width\": 0.15290107646635195}, \"mode\": \"lines\", \"text\": \"0.153\", \"type\": \"scatter\", \"x\": [19, 20, null], \"y\": [10, 0, null]}, {\"hoverinfo\": \"text\", \"line\": {\"color\": \"cornflowerblue\", \"width\": 0.1537053840093118}, \"mode\": \"lines\", \"text\": \"0.154\", \"type\": \"scatter\", \"x\": [19, 20, null], \"y\": [10, 1, null]}, {\"hoverinfo\": \"text\", \"line\": {\"color\": \"cornflowerblue\", \"width\": 0.14774019368893754}, \"mode\": \"lines\", \"text\": \"0.148\", \"type\": \"scatter\", \"x\": [19, 20, null], \"y\": [10, 2, null]}, {\"hoverinfo\": \"text\", \"line\": {\"color\": \"cornflowerblue\", \"width\": 0.15160552504322974}, \"mode\": \"lines\", \"text\": \"0.152\", \"type\": \"scatter\", \"x\": [19, 20, null], \"y\": [10, 3, null]}, {\"hoverinfo\": \"text\", \"line\": {\"color\": \"cornflowerblue\", \"width\": 0.15203425424262368}, \"mode\": \"lines\", \"text\": \"0.152\", \"type\": \"scatter\", \"x\": [19, 20, null], \"y\": [10, 4, null]}, {\"hoverinfo\": \"text\", \"line\": {\"color\": \"cornflowerblue\", \"width\": 0.15139295033540012}, \"mode\": \"lines\", \"text\": \"0.151\", \"type\": \"scatter\", \"x\": [19, 20, null], \"y\": [10, 5, null]}, {\"hoverinfo\": \"text\", \"line\": {\"color\": \"cornflowerblue\", \"width\": 0.15492798132847024}, \"mode\": \"lines\", \"text\": \"0.155\", \"type\": \"scatter\", \"x\": [19, 20, null], \"y\": [10, 6, null]}, {\"hoverinfo\": \"text\", \"line\": {\"color\": \"cornflowerblue\", \"width\": 0.15517526070276352}, \"mode\": \"lines\", \"text\": \"0.155\", \"type\": \"scatter\", \"x\": [19, 20, null], \"y\": [10, 7, null]}, {\"hoverinfo\": \"text\", \"line\": {\"color\": \"cornflowerblue\", \"width\": 0.15167016064846733}, \"mode\": \"lines\", \"text\": \"0.152\", \"type\": \"scatter\", \"x\": [19, 20, null], \"y\": [11, 0, null]}, {\"hoverinfo\": \"text\", \"line\": {\"color\": \"cornflowerblue\", \"width\": 0.15048351100092583}, \"mode\": \"lines\", \"text\": \"0.15\", \"type\": \"scatter\", \"x\": [19, 20, null], \"y\": [11, 1, null]}, {\"hoverinfo\": \"text\", \"line\": {\"color\": \"cornflowerblue\", \"width\": 0.1494988187248787}, \"mode\": \"lines\", \"text\": \"0.149\", \"type\": \"scatter\", \"x\": [19, 20, null], \"y\": [11, 2, null]}, {\"hoverinfo\": \"text\", \"line\": {\"color\": \"cornflowerblue\", \"width\": 0.1514954629359098}, \"mode\": \"lines\", \"text\": \"0.151\", \"type\": \"scatter\", \"x\": [19, 20, null], \"y\": [11, 3, null]}, {\"hoverinfo\": \"text\", \"line\": {\"color\": \"cornflowerblue\", \"width\": 0.15452145558707153}, \"mode\": \"lines\", \"text\": \"0.155\", \"type\": \"scatter\", \"x\": [19, 20, null], \"y\": [11, 4, null]}, {\"hoverinfo\": \"text\", \"line\": {\"color\": \"cornflowerblue\", \"width\": 0.1531898125779944}, \"mode\": \"lines\", \"text\": \"0.153\", \"type\": \"scatter\", \"x\": [19, 20, null], \"y\": [11, 5, null]}, {\"hoverinfo\": \"text\", \"line\": {\"color\": \"cornflowerblue\", \"width\": 0.15511355138178573}, \"mode\": \"lines\", \"text\": \"0.155\", \"type\": \"scatter\", \"x\": [19, 20, null], \"y\": [11, 6, null]}, {\"hoverinfo\": \"text\", \"line\": {\"color\": \"cornflowerblue\", \"width\": 0.15023689023540665}, \"mode\": \"lines\", \"text\": \"0.15\", \"type\": \"scatter\", \"x\": [19, 20, null], \"y\": [11, 7, null]}, {\"hoverinfo\": \"text\", \"line\": {\"color\": \"cornflowerblue\", \"width\": 0.14668873095525284}, \"mode\": \"lines\", \"text\": \"0.147\", \"type\": \"scatter\", \"x\": [19, 20, null], \"y\": [11, 8, null]}, {\"hoverinfo\": \"text\", \"line\": {\"color\": \"cornflowerblue\", \"width\": 0.1903416635223105}, \"mode\": \"lines\", \"text\": \"0.19\", \"type\": \"scatter\", \"x\": [20, 21, null], \"y\": [0, 0, null]}, {\"hoverinfo\": \"text\", \"line\": {\"color\": \"cornflowerblue\", \"width\": 0.22351285757432737}, \"mode\": \"lines\", \"text\": \"0.224\", \"type\": \"scatter\", \"x\": [20, 21, null], \"y\": [0, 1, null]}, {\"hoverinfo\": \"text\", \"line\": {\"color\": \"cornflowerblue\", \"width\": 0.4629595765590709}, \"mode\": \"lines\", \"text\": \"0.463\", \"type\": \"scatter\", \"x\": [20, 21, null], \"y\": [0, 2, null]}, {\"hoverinfo\": \"text\", \"line\": {\"color\": \"cornflowerblue\", \"width\": 0.18633731394532999}, \"mode\": \"lines\", \"text\": \"0.186\", \"type\": \"scatter\", \"x\": [20, 21, null], \"y\": [0, 3, null]}, {\"hoverinfo\": \"text\", \"line\": {\"color\": \"cornflowerblue\", \"width\": 0.17632491788776936}, \"mode\": \"lines\", \"text\": \"0.176\", \"type\": \"scatter\", \"x\": [20, 21, null], \"y\": [0, 4, null]}, {\"hoverinfo\": \"text\", \"line\": {\"color\": \"cornflowerblue\", \"width\": 0.18474407480344107}, \"mode\": \"lines\", \"text\": \"0.185\", \"type\": \"scatter\", \"x\": [20, 21, null], \"y\": [0, 5, null]}, {\"hoverinfo\": \"text\", \"line\": {\"color\": \"cornflowerblue\", \"width\": 0.154607392386292}, \"mode\": \"lines\", \"text\": \"0.155\", \"type\": \"scatter\", \"x\": [20, 21, null], \"y\": [0, 6, null]}, {\"hoverinfo\": \"text\", \"line\": {\"color\": \"cornflowerblue\", \"width\": 0.1516610924344581}, \"mode\": \"lines\", \"text\": \"0.152\", \"type\": \"scatter\", \"x\": [20, 21, null], \"y\": [0, 7, null]}, {\"hoverinfo\": \"text\", \"line\": {\"color\": \"cornflowerblue\", \"width\": 0.1470710575697226}, \"mode\": \"lines\", \"text\": \"0.147\", \"type\": \"scatter\", \"x\": [20, 21, null], \"y\": [0, 8, null]}, {\"hoverinfo\": \"text\", \"line\": {\"color\": \"cornflowerblue\", \"width\": 0.15325735550212666}, \"mode\": \"lines\", \"text\": \"0.153\", \"type\": \"scatter\", \"x\": [20, 21, null], \"y\": [0, 9, null]}, {\"hoverinfo\": \"text\", \"line\": {\"color\": \"cornflowerblue\", \"width\": 0.17507728213782284}, \"mode\": \"lines\", \"text\": \"0.175\", \"type\": \"scatter\", \"x\": [20, 21, null], \"y\": [1, 0, null]}, {\"hoverinfo\": \"text\", \"line\": {\"color\": \"cornflowerblue\", \"width\": 0.20063176092484752}, \"mode\": \"lines\", \"text\": \"0.201\", \"type\": \"scatter\", \"x\": [20, 21, null], \"y\": [1, 1, null]}, {\"hoverinfo\": \"text\", \"line\": {\"color\": \"cornflowerblue\", \"width\": 0.1987738928053117}, \"mode\": \"lines\", \"text\": \"0.199\", \"type\": \"scatter\", \"x\": [20, 21, null], \"y\": [1, 2, null]}, {\"hoverinfo\": \"text\", \"line\": {\"color\": \"cornflowerblue\", \"width\": 0.20290504708418625}, \"mode\": \"lines\", \"text\": \"0.203\", \"type\": \"scatter\", \"x\": [20, 21, null], \"y\": [1, 3, null]}, {\"hoverinfo\": \"text\", \"line\": {\"color\": \"cornflowerblue\", \"width\": 0.1814590558762563}, \"mode\": \"lines\", \"text\": \"0.181\", \"type\": \"scatter\", \"x\": [20, 21, null], \"y\": [1, 4, null]}, {\"hoverinfo\": \"text\", \"line\": {\"color\": \"cornflowerblue\", \"width\": 0.26287449380319666}, \"mode\": \"lines\", \"text\": \"0.263\", \"type\": \"scatter\", \"x\": [20, 21, null], \"y\": [1, 5, null]}, {\"hoverinfo\": \"text\", \"line\": {\"color\": \"cornflowerblue\", \"width\": 0.15576566266819317}, \"mode\": \"lines\", \"text\": \"0.156\", \"type\": \"scatter\", \"x\": [20, 21, null], \"y\": [1, 6, null]}, {\"hoverinfo\": \"text\", \"line\": {\"color\": \"cornflowerblue\", \"width\": 0.15161784236604606}, \"mode\": \"lines\", \"text\": \"0.152\", \"type\": \"scatter\", \"x\": [20, 21, null], \"y\": [1, 7, null]}, {\"hoverinfo\": \"text\", \"line\": {\"color\": \"cornflowerblue\", \"width\": 0.15070140916124516}, \"mode\": \"lines\", \"text\": \"0.151\", \"type\": \"scatter\", \"x\": [20, 21, null], \"y\": [1, 8, null]}, {\"hoverinfo\": \"text\", \"line\": {\"color\": \"cornflowerblue\", \"width\": 0.15345461751390088}, \"mode\": \"lines\", \"text\": \"0.153\", \"type\": \"scatter\", \"x\": [20, 21, null], \"y\": [1, 9, null]}, {\"hoverinfo\": \"text\", \"line\": {\"color\": \"cornflowerblue\", \"width\": 0.3553432133191488}, \"mode\": \"lines\", \"text\": \"0.355\", \"type\": \"scatter\", \"x\": [20, 21, null], \"y\": [2, 0, null]}, {\"hoverinfo\": \"text\", \"line\": {\"color\": \"cornflowerblue\", \"width\": 0.20461368327330387}, \"mode\": \"lines\", \"text\": \"0.205\", \"type\": \"scatter\", \"x\": [20, 21, null], \"y\": [2, 1, null]}, {\"hoverinfo\": \"text\", \"line\": {\"color\": \"cornflowerblue\", \"width\": 0.18385033013691726}, \"mode\": \"lines\", \"text\": \"0.184\", \"type\": \"scatter\", \"x\": [20, 21, null], \"y\": [2, 2, null]}, {\"hoverinfo\": \"text\", \"line\": {\"color\": \"cornflowerblue\", \"width\": 0.16554595369506062}, \"mode\": \"lines\", \"text\": \"0.166\", \"type\": \"scatter\", \"x\": [20, 21, null], \"y\": [2, 3, null]}, {\"hoverinfo\": \"text\", \"line\": {\"color\": \"cornflowerblue\", \"width\": 0.16387918716799}, \"mode\": \"lines\", \"text\": \"0.164\", \"type\": \"scatter\", \"x\": [20, 21, null], \"y\": [2, 4, null]}, {\"hoverinfo\": \"text\", \"line\": {\"color\": \"cornflowerblue\", \"width\": 0.16047211707442016}, \"mode\": \"lines\", \"text\": \"0.16\", \"type\": \"scatter\", \"x\": [20, 21, null], \"y\": [2, 5, null]}, {\"hoverinfo\": \"text\", \"line\": {\"color\": \"cornflowerblue\", \"width\": 0.150886099760528}, \"mode\": \"lines\", \"text\": \"0.151\", \"type\": \"scatter\", \"x\": [20, 21, null], \"y\": [2, 6, null]}, {\"hoverinfo\": \"text\", \"line\": {\"color\": \"cornflowerblue\", \"width\": 0.15074698977426282}, \"mode\": \"lines\", \"text\": \"0.151\", \"type\": \"scatter\", \"x\": [20, 21, null], \"y\": [2, 7, null]}, {\"hoverinfo\": \"text\", \"line\": {\"color\": \"cornflowerblue\", \"width\": 0.1475449976024844}, \"mode\": \"lines\", \"text\": \"0.148\", \"type\": \"scatter\", \"x\": [20, 21, null], \"y\": [2, 8, null]}, {\"hoverinfo\": \"text\", \"line\": {\"color\": \"cornflowerblue\", \"width\": 0.14919449862125325}, \"mode\": \"lines\", \"text\": \"0.149\", \"type\": \"scatter\", \"x\": [20, 21, null], \"y\": [2, 9, null]}, {\"hoverinfo\": \"text\", \"line\": {\"color\": \"cornflowerblue\", \"width\": 0.16912497108658636}, \"mode\": \"lines\", \"text\": \"0.169\", \"type\": \"scatter\", \"x\": [20, 21, null], \"y\": [3, 0, null]}, {\"hoverinfo\": \"text\", \"line\": {\"color\": \"cornflowerblue\", \"width\": 0.1834721655021407}, \"mode\": \"lines\", \"text\": \"0.183\", \"type\": \"scatter\", \"x\": [20, 21, null], \"y\": [3, 1, null]}, {\"hoverinfo\": \"text\", \"line\": {\"color\": \"cornflowerblue\", \"width\": 0.1810671299421196}, \"mode\": \"lines\", \"text\": \"0.181\", \"type\": \"scatter\", \"x\": [20, 21, null], \"y\": [3, 2, null]}, {\"hoverinfo\": \"text\", \"line\": {\"color\": \"cornflowerblue\", \"width\": 0.17712377040529328}, \"mode\": \"lines\", \"text\": \"0.177\", \"type\": \"scatter\", \"x\": [20, 21, null], \"y\": [3, 3, null]}, {\"hoverinfo\": \"text\", \"line\": {\"color\": \"cornflowerblue\", \"width\": 0.19650042272021098}, \"mode\": \"lines\", \"text\": \"0.197\", \"type\": \"scatter\", \"x\": [20, 21, null], \"y\": [3, 4, null]}, {\"hoverinfo\": \"text\", \"line\": {\"color\": \"cornflowerblue\", \"width\": 0.17098970354375817}, \"mode\": \"lines\", \"text\": \"0.171\", \"type\": \"scatter\", \"x\": [20, 21, null], \"y\": [3, 5, null]}, {\"hoverinfo\": \"text\", \"line\": {\"color\": \"cornflowerblue\", \"width\": 0.15405774834415245}, \"mode\": \"lines\", \"text\": \"0.154\", \"type\": \"scatter\", \"x\": [20, 21, null], \"y\": [3, 6, null]}, {\"hoverinfo\": \"text\", \"line\": {\"color\": \"cornflowerblue\", \"width\": 0.1511226869348805}, \"mode\": \"lines\", \"text\": \"0.151\", \"type\": \"scatter\", \"x\": [20, 21, null], \"y\": [3, 7, null]}, {\"hoverinfo\": \"text\", \"line\": {\"color\": \"cornflowerblue\", \"width\": 0.15217813398828495}, \"mode\": \"lines\", \"text\": \"0.152\", \"type\": \"scatter\", \"x\": [20, 21, null], \"y\": [3, 9, null]}, {\"hoverinfo\": \"text\", \"line\": {\"color\": \"cornflowerblue\", \"width\": 0.17374843317101213}, \"mode\": \"lines\", \"text\": \"0.174\", \"type\": \"scatter\", \"x\": [20, 21, null], \"y\": [4, 0, null]}, {\"hoverinfo\": \"text\", \"line\": {\"color\": \"cornflowerblue\", \"width\": 0.225592686988182}, \"mode\": \"lines\", \"text\": \"0.226\", \"type\": \"scatter\", \"x\": [20, 21, null], \"y\": [4, 1, null]}, {\"hoverinfo\": \"text\", \"line\": {\"color\": \"cornflowerblue\", \"width\": 0.18807063892936307}, \"mode\": \"lines\", \"text\": \"0.188\", \"type\": \"scatter\", \"x\": [20, 21, null], \"y\": [4, 2, null]}, {\"hoverinfo\": \"text\", \"line\": {\"color\": \"cornflowerblue\", \"width\": 0.175905503701462}, \"mode\": \"lines\", \"text\": \"0.176\", \"type\": \"scatter\", \"x\": [20, 21, null], \"y\": [4, 3, null]}, {\"hoverinfo\": \"text\", \"line\": {\"color\": \"cornflowerblue\", \"width\": 0.17543288776141577}, \"mode\": \"lines\", \"text\": \"0.175\", \"type\": \"scatter\", \"x\": [20, 21, null], \"y\": [4, 4, null]}, {\"hoverinfo\": \"text\", \"line\": {\"color\": \"cornflowerblue\", \"width\": 0.17483437362653098}, \"mode\": \"lines\", \"text\": \"0.175\", \"type\": \"scatter\", \"x\": [20, 21, null], \"y\": [4, 5, null]}, {\"hoverinfo\": \"text\", \"line\": {\"color\": \"cornflowerblue\", \"width\": 0.15521241531159374}, \"mode\": \"lines\", \"text\": \"0.155\", \"type\": \"scatter\", \"x\": [20, 21, null], \"y\": [4, 6, null]}, {\"hoverinfo\": \"text\", \"line\": {\"color\": \"cornflowerblue\", \"width\": 0.1528629349173458}, \"mode\": \"lines\", \"text\": \"0.153\", \"type\": \"scatter\", \"x\": [20, 21, null], \"y\": [4, 7, null]}, {\"hoverinfo\": \"text\", \"line\": {\"color\": \"cornflowerblue\", \"width\": 0.1489135545185354}, \"mode\": \"lines\", \"text\": \"0.149\", \"type\": \"scatter\", \"x\": [20, 21, null], \"y\": [4, 8, null]}, {\"hoverinfo\": \"text\", \"line\": {\"color\": \"cornflowerblue\", \"width\": 0.15258267532028297}, \"mode\": \"lines\", \"text\": \"0.153\", \"type\": \"scatter\", \"x\": [20, 21, null], \"y\": [4, 9, null]}, {\"hoverinfo\": \"text\", \"line\": {\"color\": \"cornflowerblue\", \"width\": 0.2265114384747131}, \"mode\": \"lines\", \"text\": \"0.227\", \"type\": \"scatter\", \"x\": [20, 21, null], \"y\": [5, 0, null]}, {\"hoverinfo\": \"text\", \"line\": {\"color\": \"cornflowerblue\", \"width\": 0.45682251210707353}, \"mode\": \"lines\", \"text\": \"0.457\", \"type\": \"scatter\", \"x\": [20, 21, null], \"y\": [5, 1, null]}, {\"hoverinfo\": \"text\", \"line\": {\"color\": \"cornflowerblue\", \"width\": 0.21962164449526622}, \"mode\": \"lines\", \"text\": \"0.22\", \"type\": \"scatter\", \"x\": [20, 21, null], \"y\": [5, 2, null]}, {\"hoverinfo\": \"text\", \"line\": {\"color\": \"cornflowerblue\", \"width\": 0.18553410979353532}, \"mode\": \"lines\", \"text\": \"0.186\", \"type\": \"scatter\", \"x\": [20, 21, null], \"y\": [5, 3, null]}, {\"hoverinfo\": \"text\", \"line\": {\"color\": \"cornflowerblue\", \"width\": 0.18178412296327062}, \"mode\": \"lines\", \"text\": \"0.182\", \"type\": \"scatter\", \"x\": [20, 21, null], \"y\": [5, 4, null]}, {\"hoverinfo\": \"text\", \"line\": {\"color\": \"cornflowerblue\", \"width\": 0.1831097814433086}, \"mode\": \"lines\", \"text\": \"0.183\", \"type\": \"scatter\", \"x\": [20, 21, null], \"y\": [5, 5, null]}, {\"hoverinfo\": \"text\", \"line\": {\"color\": \"cornflowerblue\", \"width\": 0.15539683232037022}, \"mode\": \"lines\", \"text\": \"0.155\", \"type\": \"scatter\", \"x\": [20, 21, null], \"y\": [5, 6, null]}, {\"hoverinfo\": \"text\", \"line\": {\"color\": \"cornflowerblue\", \"width\": 0.15372878375067836}, \"mode\": \"lines\", \"text\": \"0.154\", \"type\": \"scatter\", \"x\": [20, 21, null], \"y\": [5, 7, null]}, {\"hoverinfo\": \"text\", \"line\": {\"color\": \"cornflowerblue\", \"width\": 0.14771199282919897}, \"mode\": \"lines\", \"text\": \"0.148\", \"type\": \"scatter\", \"x\": [20, 21, null], \"y\": [5, 8, null]}, {\"hoverinfo\": \"text\", \"line\": {\"color\": \"cornflowerblue\", \"width\": 0.15305737171732567}, \"mode\": \"lines\", \"text\": \"0.153\", \"type\": \"scatter\", \"x\": [20, 21, null], \"y\": [5, 9, null]}, {\"hoverinfo\": \"text\", \"line\": {\"color\": \"cornflowerblue\", \"width\": 0.20583649531473194}, \"mode\": \"lines\", \"text\": \"0.206\", \"type\": \"scatter\", \"x\": [20, 21, null], \"y\": [6, 0, null]}, {\"hoverinfo\": \"text\", \"line\": {\"color\": \"cornflowerblue\", \"width\": 0.19313195109308542}, \"mode\": \"lines\", \"text\": \"0.193\", \"type\": \"scatter\", \"x\": [20, 21, null], \"y\": [6, 1, null]}, {\"hoverinfo\": \"text\", \"line\": {\"color\": \"cornflowerblue\", \"width\": 0.18458403033475634}, \"mode\": \"lines\", \"text\": \"0.185\", \"type\": \"scatter\", \"x\": [20, 21, null], \"y\": [6, 2, null]}, {\"hoverinfo\": \"text\", \"line\": {\"color\": \"cornflowerblue\", \"width\": 0.1719015993208633}, \"mode\": \"lines\", \"text\": \"0.172\", \"type\": \"scatter\", \"x\": [20, 21, null], \"y\": [6, 3, null]}, {\"hoverinfo\": \"text\", \"line\": {\"color\": \"cornflowerblue\", \"width\": 0.1691072080997428}, \"mode\": \"lines\", \"text\": \"0.169\", \"type\": \"scatter\", \"x\": [20, 21, null], \"y\": [6, 4, null]}, {\"hoverinfo\": \"text\", \"line\": {\"color\": \"cornflowerblue\", \"width\": 0.17318835797247437}, \"mode\": \"lines\", \"text\": \"0.173\", \"type\": \"scatter\", \"x\": [20, 21, null], \"y\": [6, 5, null]}, {\"hoverinfo\": \"text\", \"line\": {\"color\": \"cornflowerblue\", \"width\": 0.15711668980750487}, \"mode\": \"lines\", \"text\": \"0.157\", \"type\": \"scatter\", \"x\": [20, 21, null], \"y\": [6, 6, null]}, {\"hoverinfo\": \"text\", \"line\": {\"color\": \"cornflowerblue\", \"width\": 0.15655885257700924}, \"mode\": \"lines\", \"text\": \"0.157\", \"type\": \"scatter\", \"x\": [20, 21, null], \"y\": [6, 7, null]}, {\"hoverinfo\": \"text\", \"line\": {\"color\": \"cornflowerblue\", \"width\": 0.15201754758757666}, \"mode\": \"lines\", \"text\": \"0.152\", \"type\": \"scatter\", \"x\": [20, 21, null], \"y\": [6, 8, null]}, {\"hoverinfo\": \"text\", \"line\": {\"color\": \"cornflowerblue\", \"width\": 0.15489220881298096}, \"mode\": \"lines\", \"text\": \"0.155\", \"type\": \"scatter\", \"x\": [20, 21, null], \"y\": [6, 9, null]}, {\"hoverinfo\": \"text\", \"line\": {\"color\": \"cornflowerblue\", \"width\": 0.15713454726431186}, \"mode\": \"lines\", \"text\": \"0.157\", \"type\": \"scatter\", \"x\": [20, 21, null], \"y\": [7, 0, null]}, {\"hoverinfo\": \"text\", \"line\": {\"color\": \"cornflowerblue\", \"width\": 0.1623790416263867}, \"mode\": \"lines\", \"text\": \"0.162\", \"type\": \"scatter\", \"x\": [20, 21, null], \"y\": [7, 1, null]}, {\"hoverinfo\": \"text\", \"line\": {\"color\": \"cornflowerblue\", \"width\": 0.16539035923513815}, \"mode\": \"lines\", \"text\": \"0.165\", \"type\": \"scatter\", \"x\": [20, 21, null], \"y\": [7, 2, null]}, {\"hoverinfo\": \"text\", \"line\": {\"color\": \"cornflowerblue\", \"width\": 0.164177295927898}, \"mode\": \"lines\", \"text\": \"0.164\", \"type\": \"scatter\", \"x\": [20, 21, null], \"y\": [7, 3, null]}, {\"hoverinfo\": \"text\", \"line\": {\"color\": \"cornflowerblue\", \"width\": 0.16859819601266662}, \"mode\": \"lines\", \"text\": \"0.169\", \"type\": \"scatter\", \"x\": [20, 21, null], \"y\": [7, 4, null]}, {\"hoverinfo\": \"text\", \"line\": {\"color\": \"cornflowerblue\", \"width\": 0.16224502714888991}, \"mode\": \"lines\", \"text\": \"0.162\", \"type\": \"scatter\", \"x\": [20, 21, null], \"y\": [7, 5, null]}, {\"hoverinfo\": \"text\", \"line\": {\"color\": \"cornflowerblue\", \"width\": 0.15966583764179607}, \"mode\": \"lines\", \"text\": \"0.16\", \"type\": \"scatter\", \"x\": [20, 21, null], \"y\": [7, 6, null]}, {\"hoverinfo\": \"text\", \"line\": {\"color\": \"cornflowerblue\", \"width\": 0.15208222542739716}, \"mode\": \"lines\", \"text\": \"0.152\", \"type\": \"scatter\", \"x\": [20, 21, null], \"y\": [7, 7, null]}, {\"hoverinfo\": \"text\", \"line\": {\"color\": \"cornflowerblue\", \"width\": 0.14874474791923495}, \"mode\": \"lines\", \"text\": \"0.149\", \"type\": \"scatter\", \"x\": [20, 21, null], \"y\": [7, 8, null]}, {\"hoverinfo\": \"text\", \"line\": {\"color\": \"cornflowerblue\", \"width\": 0.15268936225012636}, \"mode\": \"lines\", \"text\": \"0.153\", \"type\": \"scatter\", \"x\": [20, 21, null], \"y\": [7, 9, null]}, {\"hoverinfo\": \"text\", \"line\": {\"color\": \"cornflowerblue\", \"width\": 0.14673581219691903}, \"mode\": \"lines\", \"text\": \"0.147\", \"type\": \"scatter\", \"x\": [20, 21, null], \"y\": [8, 3, null]}, {\"hoverinfo\": \"text\", \"line\": {\"color\": \"cornflowerblue\", \"width\": 0.1472390850037011}, \"mode\": \"lines\", \"text\": \"0.147\", \"type\": \"scatter\", \"x\": [20, 21, null], \"y\": [8, 6, null]}, {\"hoverinfo\": \"text\", \"line\": {\"color\": \"cornflowerblue\", \"width\": 0.22414748730625492}, \"mode\": \"lines\", \"text\": \"0.224\", \"type\": \"scatter\", \"x\": [21, 22, null], \"y\": [0, 0, null]}, {\"hoverinfo\": \"text\", \"line\": {\"color\": \"cornflowerblue\", \"width\": 0.38678095293820935}, \"mode\": \"lines\", \"text\": \"0.387\", \"type\": \"scatter\", \"x\": [21, 22, null], \"y\": [0, 1, null]}, {\"hoverinfo\": \"text\", \"line\": {\"color\": \"cornflowerblue\", \"width\": 0.16884251936390562}, \"mode\": \"lines\", \"text\": \"0.169\", \"type\": \"scatter\", \"x\": [21, 22, null], \"y\": [0, 2, null]}, {\"hoverinfo\": \"text\", \"line\": {\"color\": \"cornflowerblue\", \"width\": 0.1630195430112968}, \"mode\": \"lines\", \"text\": \"0.163\", \"type\": \"scatter\", \"x\": [21, 22, null], \"y\": [0, 3, null]}, {\"hoverinfo\": \"text\", \"line\": {\"color\": \"cornflowerblue\", \"width\": 0.20734071556624564}, \"mode\": \"lines\", \"text\": \"0.207\", \"type\": \"scatter\", \"x\": [21, 22, null], \"y\": [0, 4, null]}, {\"hoverinfo\": \"text\", \"line\": {\"color\": \"cornflowerblue\", \"width\": 0.16324032689020873}, \"mode\": \"lines\", \"text\": \"0.163\", \"type\": \"scatter\", \"x\": [21, 22, null], \"y\": [0, 5, null]}, {\"hoverinfo\": \"text\", \"line\": {\"color\": \"cornflowerblue\", \"width\": 0.15380590821881365}, \"mode\": \"lines\", \"text\": \"0.154\", \"type\": \"scatter\", \"x\": [21, 22, null], \"y\": [0, 6, null]}, {\"hoverinfo\": \"text\", \"line\": {\"color\": \"cornflowerblue\", \"width\": 0.15314111672608693}, \"mode\": \"lines\", \"text\": \"0.153\", \"type\": \"scatter\", \"x\": [21, 22, null], \"y\": [0, 7, null]}, {\"hoverinfo\": \"text\", \"line\": {\"color\": \"cornflowerblue\", \"width\": 0.491070008254645}, \"mode\": \"lines\", \"text\": \"0.491\", \"type\": \"scatter\", \"x\": [21, 22, null], \"y\": [1, 0, null]}, {\"hoverinfo\": \"text\", \"line\": {\"color\": \"cornflowerblue\", \"width\": 0.21068395502455262}, \"mode\": \"lines\", \"text\": \"0.211\", \"type\": \"scatter\", \"x\": [21, 22, null], \"y\": [1, 1, null]}, {\"hoverinfo\": \"text\", \"line\": {\"color\": \"cornflowerblue\", \"width\": 0.18795139372500283}, \"mode\": \"lines\", \"text\": \"0.188\", \"type\": \"scatter\", \"x\": [21, 22, null], \"y\": [1, 2, null]}, {\"hoverinfo\": \"text\", \"line\": {\"color\": \"cornflowerblue\", \"width\": 0.1797240233304591}, \"mode\": \"lines\", \"text\": \"0.18\", \"type\": \"scatter\", \"x\": [21, 22, null], \"y\": [1, 3, null]}, {\"hoverinfo\": \"text\", \"line\": {\"color\": \"cornflowerblue\", \"width\": 0.22500016714088047}, \"mode\": \"lines\", \"text\": \"0.225\", \"type\": \"scatter\", \"x\": [21, 22, null], \"y\": [1, 4, null]}, {\"hoverinfo\": \"text\", \"line\": {\"color\": \"cornflowerblue\", \"width\": 0.16673346990069385}, \"mode\": \"lines\", \"text\": \"0.167\", \"type\": \"scatter\", \"x\": [21, 22, null], \"y\": [1, 5, null]}, {\"hoverinfo\": \"text\", \"line\": {\"color\": \"cornflowerblue\", \"width\": 0.1558441583711471}, \"mode\": \"lines\", \"text\": \"0.156\", \"type\": \"scatter\", \"x\": [21, 22, null], \"y\": [1, 6, null]}, {\"hoverinfo\": \"text\", \"line\": {\"color\": \"cornflowerblue\", \"width\": 0.1562294918203523}, \"mode\": \"lines\", \"text\": \"0.156\", \"type\": \"scatter\", \"x\": [21, 22, null], \"y\": [1, 7, null]}, {\"hoverinfo\": \"text\", \"line\": {\"color\": \"cornflowerblue\", \"width\": 0.2247849452837848}, \"mode\": \"lines\", \"text\": \"0.225\", \"type\": \"scatter\", \"x\": [21, 22, null], \"y\": [2, 0, null]}, {\"hoverinfo\": \"text\", \"line\": {\"color\": \"cornflowerblue\", \"width\": 0.18524924080755178}, \"mode\": \"lines\", \"text\": \"0.185\", \"type\": \"scatter\", \"x\": [21, 22, null], \"y\": [2, 1, null]}, {\"hoverinfo\": \"text\", \"line\": {\"color\": \"cornflowerblue\", \"width\": 0.18290501476401544}, \"mode\": \"lines\", \"text\": \"0.183\", \"type\": \"scatter\", \"x\": [21, 22, null], \"y\": [2, 2, null]}, {\"hoverinfo\": \"text\", \"line\": {\"color\": \"cornflowerblue\", \"width\": 0.18094281315256971}, \"mode\": \"lines\", \"text\": \"0.181\", \"type\": \"scatter\", \"x\": [21, 22, null], \"y\": [2, 3, null]}, {\"hoverinfo\": \"text\", \"line\": {\"color\": \"cornflowerblue\", \"width\": 0.43170144009300787}, \"mode\": \"lines\", \"text\": \"0.432\", \"type\": \"scatter\", \"x\": [21, 22, null], \"y\": [2, 4, null]}, {\"hoverinfo\": \"text\", \"line\": {\"color\": \"cornflowerblue\", \"width\": 0.16772403243122141}, \"mode\": \"lines\", \"text\": \"0.168\", \"type\": \"scatter\", \"x\": [21, 22, null], \"y\": [2, 5, null]}, {\"hoverinfo\": \"text\", \"line\": {\"color\": \"cornflowerblue\", \"width\": 0.15527420564743158}, \"mode\": \"lines\", \"text\": \"0.155\", \"type\": \"scatter\", \"x\": [21, 22, null], \"y\": [2, 6, null]}, {\"hoverinfo\": \"text\", \"line\": {\"color\": \"cornflowerblue\", \"width\": 0.15425318844337027}, \"mode\": \"lines\", \"text\": \"0.154\", \"type\": \"scatter\", \"x\": [21, 22, null], \"y\": [2, 7, null]}, {\"hoverinfo\": \"text\", \"line\": {\"color\": \"cornflowerblue\", \"width\": 0.18423031293582903}, \"mode\": \"lines\", \"text\": \"0.184\", \"type\": \"scatter\", \"x\": [21, 22, null], \"y\": [3, 0, null]}, {\"hoverinfo\": \"text\", \"line\": {\"color\": \"cornflowerblue\", \"width\": 0.1670121465246305}, \"mode\": \"lines\", \"text\": \"0.167\", \"type\": \"scatter\", \"x\": [21, 22, null], \"y\": [3, 1, null]}, {\"hoverinfo\": \"text\", \"line\": {\"color\": \"cornflowerblue\", \"width\": 0.20494438218655167}, \"mode\": \"lines\", \"text\": \"0.205\", \"type\": \"scatter\", \"x\": [21, 22, null], \"y\": [3, 2, null]}, {\"hoverinfo\": \"text\", \"line\": {\"color\": \"cornflowerblue\", \"width\": 0.18244362500471137}, \"mode\": \"lines\", \"text\": \"0.182\", \"type\": \"scatter\", \"x\": [21, 22, null], \"y\": [3, 3, null]}, {\"hoverinfo\": \"text\", \"line\": {\"color\": \"cornflowerblue\", \"width\": 0.1837398348639627}, \"mode\": \"lines\", \"text\": \"0.184\", \"type\": \"scatter\", \"x\": [21, 22, null], \"y\": [3, 4, null]}, {\"hoverinfo\": \"text\", \"line\": {\"color\": \"cornflowerblue\", \"width\": 0.16729180690824666}, \"mode\": \"lines\", \"text\": \"0.167\", \"type\": \"scatter\", \"x\": [21, 22, null], \"y\": [3, 5, null]}, {\"hoverinfo\": \"text\", \"line\": {\"color\": \"cornflowerblue\", \"width\": 0.15603727666903183}, \"mode\": \"lines\", \"text\": \"0.156\", \"type\": \"scatter\", \"x\": [21, 22, null], \"y\": [3, 6, null]}, {\"hoverinfo\": \"text\", \"line\": {\"color\": \"cornflowerblue\", \"width\": 0.1570807887956633}, \"mode\": \"lines\", \"text\": \"0.157\", \"type\": \"scatter\", \"x\": [21, 22, null], \"y\": [3, 7, null]}, {\"hoverinfo\": \"text\", \"line\": {\"color\": \"cornflowerblue\", \"width\": 0.18101375832309968}, \"mode\": \"lines\", \"text\": \"0.181\", \"type\": \"scatter\", \"x\": [21, 22, null], \"y\": [4, 0, null]}, {\"hoverinfo\": \"text\", \"line\": {\"color\": \"cornflowerblue\", \"width\": 0.16462949776244618}, \"mode\": \"lines\", \"text\": \"0.165\", \"type\": \"scatter\", \"x\": [21, 22, null], \"y\": [4, 1, null]}, {\"hoverinfo\": \"text\", \"line\": {\"color\": \"cornflowerblue\", \"width\": 0.20553169674546332}, \"mode\": \"lines\", \"text\": \"0.206\", \"type\": \"scatter\", \"x\": [21, 22, null], \"y\": [4, 2, null]}, {\"hoverinfo\": \"text\", \"line\": {\"color\": \"cornflowerblue\", \"width\": 0.18820870049904723}, \"mode\": \"lines\", \"text\": \"0.188\", \"type\": \"scatter\", \"x\": [21, 22, null], \"y\": [4, 3, null]}, {\"hoverinfo\": \"text\", \"line\": {\"color\": \"cornflowerblue\", \"width\": 0.17650083779771078}, \"mode\": \"lines\", \"text\": \"0.177\", \"type\": \"scatter\", \"x\": [21, 22, null], \"y\": [4, 4, null]}, {\"hoverinfo\": \"text\", \"line\": {\"color\": \"cornflowerblue\", \"width\": 0.16782474002679912}, \"mode\": \"lines\", \"text\": \"0.168\", \"type\": \"scatter\", \"x\": [21, 22, null], \"y\": [4, 5, null]}, {\"hoverinfo\": \"text\", \"line\": {\"color\": \"cornflowerblue\", \"width\": 0.15819968408081755}, \"mode\": \"lines\", \"text\": \"0.158\", \"type\": \"scatter\", \"x\": [21, 22, null], \"y\": [4, 6, null]}, {\"hoverinfo\": \"text\", \"line\": {\"color\": \"cornflowerblue\", \"width\": 0.15770598230671914}, \"mode\": \"lines\", \"text\": \"0.158\", \"type\": \"scatter\", \"x\": [21, 22, null], \"y\": [4, 7, null]}, {\"hoverinfo\": \"text\", \"line\": {\"color\": \"cornflowerblue\", \"width\": 0.18939755910806588}, \"mode\": \"lines\", \"text\": \"0.189\", \"type\": \"scatter\", \"x\": [21, 22, null], \"y\": [5, 0, null]}, {\"hoverinfo\": \"text\", \"line\": {\"color\": \"cornflowerblue\", \"width\": 0.1609597633876909}, \"mode\": \"lines\", \"text\": \"0.161\", \"type\": \"scatter\", \"x\": [21, 22, null], \"y\": [5, 1, null]}, {\"hoverinfo\": \"text\", \"line\": {\"color\": \"cornflowerblue\", \"width\": 0.17602639879368093}, \"mode\": \"lines\", \"text\": \"0.176\", \"type\": \"scatter\", \"x\": [21, 22, null], \"y\": [5, 2, null]}, {\"hoverinfo\": \"text\", \"line\": {\"color\": \"cornflowerblue\", \"width\": 0.17241430665834567}, \"mode\": \"lines\", \"text\": \"0.172\", \"type\": \"scatter\", \"x\": [21, 22, null], \"y\": [5, 3, null]}, {\"hoverinfo\": \"text\", \"line\": {\"color\": \"cornflowerblue\", \"width\": 0.18786826327502248}, \"mode\": \"lines\", \"text\": \"0.188\", \"type\": \"scatter\", \"x\": [21, 22, null], \"y\": [5, 4, null]}, {\"hoverinfo\": \"text\", \"line\": {\"color\": \"cornflowerblue\", \"width\": 0.1627930561558743}, \"mode\": \"lines\", \"text\": \"0.163\", \"type\": \"scatter\", \"x\": [21, 22, null], \"y\": [5, 5, null]}, {\"hoverinfo\": \"text\", \"line\": {\"color\": \"cornflowerblue\", \"width\": 0.1612062533591373}, \"mode\": \"lines\", \"text\": \"0.161\", \"type\": \"scatter\", \"x\": [21, 22, null], \"y\": [5, 6, null]}, {\"hoverinfo\": \"text\", \"line\": {\"color\": \"cornflowerblue\", \"width\": 0.1546224983741971}, \"mode\": \"lines\", \"text\": \"0.155\", \"type\": \"scatter\", \"x\": [21, 22, null], \"y\": [5, 7, null]}, {\"hoverinfo\": \"text\", \"line\": {\"color\": \"cornflowerblue\", \"width\": 0.15490406333901008}, \"mode\": \"lines\", \"text\": \"0.155\", \"type\": \"scatter\", \"x\": [21, 22, null], \"y\": [6, 0, null]}, {\"hoverinfo\": \"text\", \"line\": {\"color\": \"cornflowerblue\", \"width\": 0.15094327164460755}, \"mode\": \"lines\", \"text\": \"0.151\", \"type\": \"scatter\", \"x\": [21, 22, null], \"y\": [6, 1, null]}, {\"hoverinfo\": \"text\", \"line\": {\"color\": \"cornflowerblue\", \"width\": 0.15656726172822794}, \"mode\": \"lines\", \"text\": \"0.157\", \"type\": \"scatter\", \"x\": [21, 22, null], \"y\": [6, 2, null]}, {\"hoverinfo\": \"text\", \"line\": {\"color\": \"cornflowerblue\", \"width\": 0.1568697605400238}, \"mode\": \"lines\", \"text\": \"0.157\", \"type\": \"scatter\", \"x\": [21, 22, null], \"y\": [6, 3, null]}, {\"hoverinfo\": \"text\", \"line\": {\"color\": \"cornflowerblue\", \"width\": 0.15509980012293748}, \"mode\": \"lines\", \"text\": \"0.155\", \"type\": \"scatter\", \"x\": [21, 22, null], \"y\": [6, 4, null]}, {\"hoverinfo\": \"text\", \"line\": {\"color\": \"cornflowerblue\", \"width\": 0.1563212791714661}, \"mode\": \"lines\", \"text\": \"0.156\", \"type\": \"scatter\", \"x\": [21, 22, null], \"y\": [6, 5, null]}, {\"hoverinfo\": \"text\", \"line\": {\"color\": \"cornflowerblue\", \"width\": 0.15276209096228263}, \"mode\": \"lines\", \"text\": \"0.153\", \"type\": \"scatter\", \"x\": [21, 22, null], \"y\": [6, 6, null]}, {\"hoverinfo\": \"text\", \"line\": {\"color\": \"cornflowerblue\", \"width\": 0.15251924612290071}, \"mode\": \"lines\", \"text\": \"0.153\", \"type\": \"scatter\", \"x\": [21, 22, null], \"y\": [6, 7, null]}, {\"hoverinfo\": \"text\", \"line\": {\"color\": \"cornflowerblue\", \"width\": 0.15332923026478218}, \"mode\": \"lines\", \"text\": \"0.153\", \"type\": \"scatter\", \"x\": [21, 22, null], \"y\": [7, 0, null]}, {\"hoverinfo\": \"text\", \"line\": {\"color\": \"cornflowerblue\", \"width\": 0.1507538385295441}, \"mode\": \"lines\", \"text\": \"0.151\", \"type\": \"scatter\", \"x\": [21, 22, null], \"y\": [7, 1, null]}, {\"hoverinfo\": \"text\", \"line\": {\"color\": \"cornflowerblue\", \"width\": 0.15287830974970174}, \"mode\": \"lines\", \"text\": \"0.153\", \"type\": \"scatter\", \"x\": [21, 22, null], \"y\": [7, 2, null]}, {\"hoverinfo\": \"text\", \"line\": {\"color\": \"cornflowerblue\", \"width\": 0.15332770145183663}, \"mode\": \"lines\", \"text\": \"0.153\", \"type\": \"scatter\", \"x\": [21, 22, null], \"y\": [7, 3, null]}, {\"hoverinfo\": \"text\", \"line\": {\"color\": \"cornflowerblue\", \"width\": 0.15212976998020675}, \"mode\": \"lines\", \"text\": \"0.152\", \"type\": \"scatter\", \"x\": [21, 22, null], \"y\": [7, 4, null]}, {\"hoverinfo\": \"text\", \"line\": {\"color\": \"cornflowerblue\", \"width\": 0.15246445535289088}, \"mode\": \"lines\", \"text\": \"0.152\", \"type\": \"scatter\", \"x\": [21, 22, null], \"y\": [7, 5, null]}, {\"hoverinfo\": \"text\", \"line\": {\"color\": \"cornflowerblue\", \"width\": 0.15038497881742904}, \"mode\": \"lines\", \"text\": \"0.15\", \"type\": \"scatter\", \"x\": [21, 22, null], \"y\": [7, 6, null]}, {\"hoverinfo\": \"text\", \"line\": {\"color\": \"cornflowerblue\", \"width\": 0.15186153091312066}, \"mode\": \"lines\", \"text\": \"0.152\", \"type\": \"scatter\", \"x\": [21, 22, null], \"y\": [7, 7, null]}, {\"hoverinfo\": \"text\", \"line\": {\"color\": \"cornflowerblue\", \"width\": 0.14819057588617124}, \"mode\": \"lines\", \"text\": \"0.148\", \"type\": \"scatter\", \"x\": [21, 22, null], \"y\": [8, 0, null]}, {\"hoverinfo\": \"text\", \"line\": {\"color\": \"cornflowerblue\", \"width\": 0.14725759257169388}, \"mode\": \"lines\", \"text\": \"0.147\", \"type\": \"scatter\", \"x\": [21, 22, null], \"y\": [8, 1, null]}, {\"hoverinfo\": \"text\", \"line\": {\"color\": \"cornflowerblue\", \"width\": 0.14797322302102603}, \"mode\": \"lines\", \"text\": \"0.148\", \"type\": \"scatter\", \"x\": [21, 22, null], \"y\": [8, 2, null]}, {\"hoverinfo\": \"text\", \"line\": {\"color\": \"cornflowerblue\", \"width\": 0.1480300717896358}, \"mode\": \"lines\", \"text\": \"0.148\", \"type\": \"scatter\", \"x\": [21, 22, null], \"y\": [8, 3, null]}, {\"hoverinfo\": \"text\", \"line\": {\"color\": \"cornflowerblue\", \"width\": 0.14750930695326078}, \"mode\": \"lines\", \"text\": \"0.148\", \"type\": \"scatter\", \"x\": [21, 22, null], \"y\": [8, 4, null]}, {\"hoverinfo\": \"text\", \"line\": {\"color\": \"cornflowerblue\", \"width\": 0.14697806279426764}, \"mode\": \"lines\", \"text\": \"0.147\", \"type\": \"scatter\", \"x\": [21, 22, null], \"y\": [8, 5, null]}, {\"hoverinfo\": \"text\", \"line\": {\"color\": \"cornflowerblue\", \"width\": 0.14860331409326952}, \"mode\": \"lines\", \"text\": \"0.149\", \"type\": \"scatter\", \"x\": [21, 22, null], \"y\": [8, 6, null]}, {\"hoverinfo\": \"text\", \"line\": {\"color\": \"cornflowerblue\", \"width\": 0.15000752245585428}, \"mode\": \"lines\", \"text\": \"0.15\", \"type\": \"scatter\", \"x\": [21, 22, null], \"y\": [8, 7, null]}, {\"hoverinfo\": \"text\", \"line\": {\"color\": \"cornflowerblue\", \"width\": 0.15320269768778486}, \"mode\": \"lines\", \"text\": \"0.153\", \"type\": \"scatter\", \"x\": [21, 22, null], \"y\": [9, 0, null]}, {\"hoverinfo\": \"text\", \"line\": {\"color\": \"cornflowerblue\", \"width\": 0.14944648376802586}, \"mode\": \"lines\", \"text\": \"0.149\", \"type\": \"scatter\", \"x\": [21, 22, null], \"y\": [9, 1, null]}, {\"hoverinfo\": \"text\", \"line\": {\"color\": \"cornflowerblue\", \"width\": 0.15472562786689156}, \"mode\": \"lines\", \"text\": \"0.155\", \"type\": \"scatter\", \"x\": [21, 22, null], \"y\": [9, 2, null]}, {\"hoverinfo\": \"text\", \"line\": {\"color\": \"cornflowerblue\", \"width\": 0.15409510758145487}, \"mode\": \"lines\", \"text\": \"0.154\", \"type\": \"scatter\", \"x\": [21, 22, null], \"y\": [9, 3, null]}, {\"hoverinfo\": \"text\", \"line\": {\"color\": \"cornflowerblue\", \"width\": 0.15355032526652376}, \"mode\": \"lines\", \"text\": \"0.154\", \"type\": \"scatter\", \"x\": [21, 22, null], \"y\": [9, 4, null]}, {\"hoverinfo\": \"text\", \"line\": {\"color\": \"cornflowerblue\", \"width\": 0.15178010776023892}, \"mode\": \"lines\", \"text\": \"0.152\", \"type\": \"scatter\", \"x\": [21, 22, null], \"y\": [9, 5, null]}, {\"hoverinfo\": \"text\", \"line\": {\"color\": \"cornflowerblue\", \"width\": 0.15168656600409627}, \"mode\": \"lines\", \"text\": \"0.152\", \"type\": \"scatter\", \"x\": [21, 22, null], \"y\": [9, 6, null]}, {\"hoverinfo\": \"text\", \"line\": {\"color\": \"cornflowerblue\", \"width\": 0.15271531746793604}, \"mode\": \"lines\", \"text\": \"0.153\", \"type\": \"scatter\", \"x\": [21, 22, null], \"y\": [9, 7, null]}, {\"hoverinfo\": \"text\", \"line\": {\"color\": \"cornflowerblue\", \"width\": 0.2256284148383608}, \"mode\": \"lines\", \"text\": \"0.226\", \"type\": \"scatter\", \"x\": [22, 23, null], \"y\": [0, 0, null]}, {\"hoverinfo\": \"text\", \"line\": {\"color\": \"cornflowerblue\", \"width\": 0.18751222595881717}, \"mode\": \"lines\", \"text\": \"0.188\", \"type\": \"scatter\", \"x\": [22, 23, null], \"y\": [0, 1, null]}, {\"hoverinfo\": \"text\", \"line\": {\"color\": \"cornflowerblue\", \"width\": 0.1713376900584884}, \"mode\": \"lines\", \"text\": \"0.171\", \"type\": \"scatter\", \"x\": [22, 23, null], \"y\": [0, 2, null]}, {\"hoverinfo\": \"text\", \"line\": {\"color\": \"cornflowerblue\", \"width\": 0.22334271433943417}, \"mode\": \"lines\", \"text\": \"0.223\", \"type\": \"scatter\", \"x\": [22, 23, null], \"y\": [0, 3, null]}, {\"hoverinfo\": \"text\", \"line\": {\"color\": \"cornflowerblue\", \"width\": 0.4885570736145974}, \"mode\": \"lines\", \"text\": \"0.489\", \"type\": \"scatter\", \"x\": [22, 23, null], \"y\": [0, 4, null]}, {\"hoverinfo\": \"text\", \"line\": {\"color\": \"cornflowerblue\", \"width\": 0.18717812025961422}, \"mode\": \"lines\", \"text\": \"0.187\", \"type\": \"scatter\", \"x\": [22, 23, null], \"y\": [0, 5, null]}, {\"hoverinfo\": \"text\", \"line\": {\"color\": \"cornflowerblue\", \"width\": 0.16056537443256802}, \"mode\": \"lines\", \"text\": \"0.161\", \"type\": \"scatter\", \"x\": [22, 23, null], \"y\": [0, 6, null]}, {\"hoverinfo\": \"text\", \"line\": {\"color\": \"cornflowerblue\", \"width\": 0.15370548319120417}, \"mode\": \"lines\", \"text\": \"0.154\", \"type\": \"scatter\", \"x\": [22, 23, null], \"y\": [0, 7, null]}, {\"hoverinfo\": \"text\", \"line\": {\"color\": \"cornflowerblue\", \"width\": 0.156419929145925}, \"mode\": \"lines\", \"text\": \"0.156\", \"type\": \"scatter\", \"x\": [22, 23, null], \"y\": [0, 8, null]}, {\"hoverinfo\": \"text\", \"line\": {\"color\": \"cornflowerblue\", \"width\": 0.15057667131159155}, \"mode\": \"lines\", \"text\": \"0.151\", \"type\": \"scatter\", \"x\": [22, 23, null], \"y\": [0, 9, null]}, {\"hoverinfo\": \"text\", \"line\": {\"color\": \"cornflowerblue\", \"width\": 0.14682886459950537}, \"mode\": \"lines\", \"text\": \"0.147\", \"type\": \"scatter\", \"x\": [22, 23, null], \"y\": [0, 10, null]}, {\"hoverinfo\": \"text\", \"line\": {\"color\": \"cornflowerblue\", \"width\": 0.18388187650907953}, \"mode\": \"lines\", \"text\": \"0.184\", \"type\": \"scatter\", \"x\": [22, 23, null], \"y\": [1, 0, null]}, {\"hoverinfo\": \"text\", \"line\": {\"color\": \"cornflowerblue\", \"width\": 0.16305485083634275}, \"mode\": \"lines\", \"text\": \"0.163\", \"type\": \"scatter\", \"x\": [22, 23, null], \"y\": [1, 1, null]}, {\"hoverinfo\": \"text\", \"line\": {\"color\": \"cornflowerblue\", \"width\": 0.15788200288264487}, \"mode\": \"lines\", \"text\": \"0.158\", \"type\": \"scatter\", \"x\": [22, 23, null], \"y\": [1, 2, null]}, {\"hoverinfo\": \"text\", \"line\": {\"color\": \"cornflowerblue\", \"width\": 0.395357731002526}, \"mode\": \"lines\", \"text\": \"0.395\", \"type\": \"scatter\", \"x\": [22, 23, null], \"y\": [1, 3, null]}, {\"hoverinfo\": \"text\", \"line\": {\"color\": \"cornflowerblue\", \"width\": 0.20918539539952727}, \"mode\": \"lines\", \"text\": \"0.209\", \"type\": \"scatter\", \"x\": [22, 23, null], \"y\": [1, 4, null]}, {\"hoverinfo\": \"text\", \"line\": {\"color\": \"cornflowerblue\", \"width\": 0.15932778589103339}, \"mode\": \"lines\", \"text\": \"0.159\", \"type\": \"scatter\", \"x\": [22, 23, null], \"y\": [1, 5, null]}, {\"hoverinfo\": \"text\", \"line\": {\"color\": \"cornflowerblue\", \"width\": 0.1539949291716658}, \"mode\": \"lines\", \"text\": \"0.154\", \"type\": \"scatter\", \"x\": [22, 23, null], \"y\": [1, 6, null]}, {\"hoverinfo\": \"text\", \"line\": {\"color\": \"cornflowerblue\", \"width\": 0.14920019353421135}, \"mode\": \"lines\", \"text\": \"0.149\", \"type\": \"scatter\", \"x\": [22, 23, null], \"y\": [1, 7, null]}, {\"hoverinfo\": \"text\", \"line\": {\"color\": \"cornflowerblue\", \"width\": 0.15326024327270252}, \"mode\": \"lines\", \"text\": \"0.153\", \"type\": \"scatter\", \"x\": [22, 23, null], \"y\": [1, 8, null]}, {\"hoverinfo\": \"text\", \"line\": {\"color\": \"cornflowerblue\", \"width\": 0.1485250493851899}, \"mode\": \"lines\", \"text\": \"0.149\", \"type\": \"scatter\", \"x\": [22, 23, null], \"y\": [1, 9, null]}, {\"hoverinfo\": \"text\", \"line\": {\"color\": \"cornflowerblue\", \"width\": 0.18232006972874445}, \"mode\": \"lines\", \"text\": \"0.182\", \"type\": \"scatter\", \"x\": [22, 23, null], \"y\": [2, 0, null]}, {\"hoverinfo\": \"text\", \"line\": {\"color\": \"cornflowerblue\", \"width\": 0.2122369378019839}, \"mode\": \"lines\", \"text\": \"0.212\", \"type\": \"scatter\", \"x\": [22, 23, null], \"y\": [2, 1, null]}, {\"hoverinfo\": \"text\", \"line\": {\"color\": \"cornflowerblue\", \"width\": 0.186324478963349}, \"mode\": \"lines\", \"text\": \"0.186\", \"type\": \"scatter\", \"x\": [22, 23, null], \"y\": [2, 2, null]}, {\"hoverinfo\": \"text\", \"line\": {\"color\": \"cornflowerblue\", \"width\": 0.16804637590056176}, \"mode\": \"lines\", \"text\": \"0.168\", \"type\": \"scatter\", \"x\": [22, 23, null], \"y\": [2, 3, null]}, {\"hoverinfo\": \"text\", \"line\": {\"color\": \"cornflowerblue\", \"width\": 0.18806591346412244}, \"mode\": \"lines\", \"text\": \"0.188\", \"type\": \"scatter\", \"x\": [22, 23, null], \"y\": [2, 4, null]}, {\"hoverinfo\": \"text\", \"line\": {\"color\": \"cornflowerblue\", \"width\": 0.1749070593885894}, \"mode\": \"lines\", \"text\": \"0.175\", \"type\": \"scatter\", \"x\": [22, 23, null], \"y\": [2, 5, null]}, {\"hoverinfo\": \"text\", \"line\": {\"color\": \"cornflowerblue\", \"width\": 0.1602353858231654}, \"mode\": \"lines\", \"text\": \"0.16\", \"type\": \"scatter\", \"x\": [22, 23, null], \"y\": [2, 6, null]}, {\"hoverinfo\": \"text\", \"line\": {\"color\": \"cornflowerblue\", \"width\": 0.15342001022859356}, \"mode\": \"lines\", \"text\": \"0.153\", \"type\": \"scatter\", \"x\": [22, 23, null], \"y\": [2, 7, null]}, {\"hoverinfo\": \"text\", \"line\": {\"color\": \"cornflowerblue\", \"width\": 0.15763530039034968}, \"mode\": \"lines\", \"text\": \"0.158\", \"type\": \"scatter\", \"x\": [22, 23, null], \"y\": [2, 8, null]}, {\"hoverinfo\": \"text\", \"line\": {\"color\": \"cornflowerblue\", \"width\": 0.15131932199216788}, \"mode\": \"lines\", \"text\": \"0.151\", \"type\": \"scatter\", \"x\": [22, 23, null], \"y\": [2, 9, null]}, {\"hoverinfo\": \"text\", \"line\": {\"color\": \"cornflowerblue\", \"width\": 0.18282687113176374}, \"mode\": \"lines\", \"text\": \"0.183\", \"type\": \"scatter\", \"x\": [22, 23, null], \"y\": [3, 0, null]}, {\"hoverinfo\": \"text\", \"line\": {\"color\": \"cornflowerblue\", \"width\": 0.18121234690659818}, \"mode\": \"lines\", \"text\": \"0.181\", \"type\": \"scatter\", \"x\": [22, 23, null], \"y\": [3, 1, null]}, {\"hoverinfo\": \"text\", \"line\": {\"color\": \"cornflowerblue\", \"width\": 0.1900070825853836}, \"mode\": \"lines\", \"text\": \"0.19\", \"type\": \"scatter\", \"x\": [22, 23, null], \"y\": [3, 2, null]}, {\"hoverinfo\": \"text\", \"line\": {\"color\": \"cornflowerblue\", \"width\": 0.16181744474135137}, \"mode\": \"lines\", \"text\": \"0.162\", \"type\": \"scatter\", \"x\": [22, 23, null], \"y\": [3, 3, null]}, {\"hoverinfo\": \"text\", \"line\": {\"color\": \"cornflowerblue\", \"width\": 0.17832285118657706}, \"mode\": \"lines\", \"text\": \"0.178\", \"type\": \"scatter\", \"x\": [22, 23, null], \"y\": [3, 4, null]}, {\"hoverinfo\": \"text\", \"line\": {\"color\": \"cornflowerblue\", \"width\": 0.17132500840403148}, \"mode\": \"lines\", \"text\": \"0.171\", \"type\": \"scatter\", \"x\": [22, 23, null], \"y\": [3, 5, null]}, {\"hoverinfo\": \"text\", \"line\": {\"color\": \"cornflowerblue\", \"width\": 0.16010231892843946}, \"mode\": \"lines\", \"text\": \"0.16\", \"type\": \"scatter\", \"x\": [22, 23, null], \"y\": [3, 6, null]}, {\"hoverinfo\": \"text\", \"line\": {\"color\": \"cornflowerblue\", \"width\": 0.1537205117529125}, \"mode\": \"lines\", \"text\": \"0.154\", \"type\": \"scatter\", \"x\": [22, 23, null], \"y\": [3, 7, null]}, {\"hoverinfo\": \"text\", \"line\": {\"color\": \"cornflowerblue\", \"width\": 0.15653545795625234}, \"mode\": \"lines\", \"text\": \"0.157\", \"type\": \"scatter\", \"x\": [22, 23, null], \"y\": [3, 8, null]}, {\"hoverinfo\": \"text\", \"line\": {\"color\": \"cornflowerblue\", \"width\": 0.15078147379239512}, \"mode\": \"lines\", \"text\": \"0.151\", \"type\": \"scatter\", \"x\": [22, 23, null], \"y\": [3, 9, null]}, {\"hoverinfo\": \"text\", \"line\": {\"color\": \"cornflowerblue\", \"width\": 0.14669542782103065}, \"mode\": \"lines\", \"text\": \"0.147\", \"type\": \"scatter\", \"x\": [22, 23, null], \"y\": [3, 10, null]}, {\"hoverinfo\": \"text\", \"line\": {\"color\": \"cornflowerblue\", \"width\": 0.4455624279466468}, \"mode\": \"lines\", \"text\": \"0.446\", \"type\": \"scatter\", \"x\": [22, 23, null], \"y\": [4, 0, null]}, {\"hoverinfo\": \"text\", \"line\": {\"color\": \"cornflowerblue\", \"width\": 0.18785637471875954}, \"mode\": \"lines\", \"text\": \"0.188\", \"type\": \"scatter\", \"x\": [22, 23, null], \"y\": [4, 1, null]}, {\"hoverinfo\": \"text\", \"line\": {\"color\": \"cornflowerblue\", \"width\": 0.1747786066857961}, \"mode\": \"lines\", \"text\": \"0.175\", \"type\": \"scatter\", \"x\": [22, 23, null], \"y\": [4, 2, null]}, {\"hoverinfo\": \"text\", \"line\": {\"color\": \"cornflowerblue\", \"width\": 0.20527217137796022}, \"mode\": \"lines\", \"text\": \"0.205\", \"type\": \"scatter\", \"x\": [22, 23, null], \"y\": [4, 3, null]}, {\"hoverinfo\": \"text\", \"line\": {\"color\": \"cornflowerblue\", \"width\": 0.22564057403697838}, \"mode\": \"lines\", \"text\": \"0.226\", \"type\": \"scatter\", \"x\": [22, 23, null], \"y\": [4, 4, null]}, {\"hoverinfo\": \"text\", \"line\": {\"color\": \"cornflowerblue\", \"width\": 0.18541024261841718}, \"mode\": \"lines\", \"text\": \"0.185\", \"type\": \"scatter\", \"x\": [22, 23, null], \"y\": [4, 5, null]}, {\"hoverinfo\": \"text\", \"line\": {\"color\": \"cornflowerblue\", \"width\": 0.16534260613226429}, \"mode\": \"lines\", \"text\": \"0.165\", \"type\": \"scatter\", \"x\": [22, 23, null], \"y\": [4, 6, null]}, {\"hoverinfo\": \"text\", \"line\": {\"color\": \"cornflowerblue\", \"width\": 0.15377971356654}, \"mode\": \"lines\", \"text\": \"0.154\", \"type\": \"scatter\", \"x\": [22, 23, null], \"y\": [4, 7, null]}, {\"hoverinfo\": \"text\", \"line\": {\"color\": \"cornflowerblue\", \"width\": 0.15550432186476942}, \"mode\": \"lines\", \"text\": \"0.156\", \"type\": \"scatter\", \"x\": [22, 23, null], \"y\": [4, 8, null]}, {\"hoverinfo\": \"text\", \"line\": {\"color\": \"cornflowerblue\", \"width\": 0.153924174591282}, \"mode\": \"lines\", \"text\": \"0.154\", \"type\": \"scatter\", \"x\": [22, 23, null], \"y\": [4, 9, null]}, {\"hoverinfo\": \"text\", \"line\": {\"color\": \"cornflowerblue\", \"width\": 0.147758879450229}, \"mode\": \"lines\", \"text\": \"0.148\", \"type\": \"scatter\", \"x\": [22, 23, null], \"y\": [4, 10, null]}, {\"hoverinfo\": \"text\", \"line\": {\"color\": \"cornflowerblue\", \"width\": 0.1678935133307148}, \"mode\": \"lines\", \"text\": \"0.168\", \"type\": \"scatter\", \"x\": [22, 23, null], \"y\": [5, 0, null]}, {\"hoverinfo\": \"text\", \"line\": {\"color\": \"cornflowerblue\", \"width\": 0.16404283998757274}, \"mode\": \"lines\", \"text\": \"0.164\", \"type\": \"scatter\", \"x\": [22, 23, null], \"y\": [5, 1, null]}, {\"hoverinfo\": \"text\", \"line\": {\"color\": \"cornflowerblue\", \"width\": 0.1646378144939949}, \"mode\": \"lines\", \"text\": \"0.165\", \"type\": \"scatter\", \"x\": [22, 23, null], \"y\": [5, 2, null]}, {\"hoverinfo\": \"text\", \"line\": {\"color\": \"cornflowerblue\", \"width\": 0.16098356306604203}, \"mode\": \"lines\", \"text\": \"0.161\", \"type\": \"scatter\", \"x\": [22, 23, null], \"y\": [5, 3, null]}, {\"hoverinfo\": \"text\", \"line\": {\"color\": \"cornflowerblue\", \"width\": 0.16705913428181896}, \"mode\": \"lines\", \"text\": \"0.167\", \"type\": \"scatter\", \"x\": [22, 23, null], \"y\": [5, 4, null]}, {\"hoverinfo\": \"text\", \"line\": {\"color\": \"cornflowerblue\", \"width\": 0.16199130295102684}, \"mode\": \"lines\", \"text\": \"0.162\", \"type\": \"scatter\", \"x\": [22, 23, null], \"y\": [5, 5, null]}, {\"hoverinfo\": \"text\", \"line\": {\"color\": \"cornflowerblue\", \"width\": 0.15883852394277329}, \"mode\": \"lines\", \"text\": \"0.159\", \"type\": \"scatter\", \"x\": [22, 23, null], \"y\": [5, 6, null]}, {\"hoverinfo\": \"text\", \"line\": {\"color\": \"cornflowerblue\", \"width\": 0.15306109017787084}, \"mode\": \"lines\", \"text\": \"0.153\", \"type\": \"scatter\", \"x\": [22, 23, null], \"y\": [5, 7, null]}, {\"hoverinfo\": \"text\", \"line\": {\"color\": \"cornflowerblue\", \"width\": 0.155083429728986}, \"mode\": \"lines\", \"text\": \"0.155\", \"type\": \"scatter\", \"x\": [22, 23, null], \"y\": [5, 8, null]}, {\"hoverinfo\": \"text\", \"line\": {\"color\": \"cornflowerblue\", \"width\": 0.1500570170286053}, \"mode\": \"lines\", \"text\": \"0.15\", \"type\": \"scatter\", \"x\": [22, 23, null], \"y\": [5, 9, null]}, {\"hoverinfo\": \"text\", \"line\": {\"color\": \"cornflowerblue\", \"width\": 0.14716469616838285}, \"mode\": \"lines\", \"text\": \"0.147\", \"type\": \"scatter\", \"x\": [22, 23, null], \"y\": [5, 10, null]}, {\"hoverinfo\": \"text\", \"line\": {\"color\": \"cornflowerblue\", \"width\": 0.15580684012001478}, \"mode\": \"lines\", \"text\": \"0.156\", \"type\": \"scatter\", \"x\": [22, 23, null], \"y\": [6, 0, null]}, {\"hoverinfo\": \"text\", \"line\": {\"color\": \"cornflowerblue\", \"width\": 0.15546546426560556}, \"mode\": \"lines\", \"text\": \"0.155\", \"type\": \"scatter\", \"x\": [22, 23, null], \"y\": [6, 1, null]}, {\"hoverinfo\": \"text\", \"line\": {\"color\": \"cornflowerblue\", \"width\": 0.1566992383503851}, \"mode\": \"lines\", \"text\": \"0.157\", \"type\": \"scatter\", \"x\": [22, 23, null], \"y\": [6, 2, null]}, {\"hoverinfo\": \"text\", \"line\": {\"color\": \"cornflowerblue\", \"width\": 0.15369263009083464}, \"mode\": \"lines\", \"text\": \"0.154\", \"type\": \"scatter\", \"x\": [22, 23, null], \"y\": [6, 3, null]}, {\"hoverinfo\": \"text\", \"line\": {\"color\": \"cornflowerblue\", \"width\": 0.15612825015877238}, \"mode\": \"lines\", \"text\": \"0.156\", \"type\": \"scatter\", \"x\": [22, 23, null], \"y\": [6, 4, null]}, {\"hoverinfo\": \"text\", \"line\": {\"color\": \"cornflowerblue\", \"width\": 0.16252332033867117}, \"mode\": \"lines\", \"text\": \"0.163\", \"type\": \"scatter\", \"x\": [22, 23, null], \"y\": [6, 5, null]}, {\"hoverinfo\": \"text\", \"line\": {\"color\": \"cornflowerblue\", \"width\": 0.15711265753875886}, \"mode\": \"lines\", \"text\": \"0.157\", \"type\": \"scatter\", \"x\": [22, 23, null], \"y\": [6, 6, null]}, {\"hoverinfo\": \"text\", \"line\": {\"color\": \"cornflowerblue\", \"width\": 0.15068715242353695}, \"mode\": \"lines\", \"text\": \"0.151\", \"type\": \"scatter\", \"x\": [22, 23, null], \"y\": [6, 7, null]}, {\"hoverinfo\": \"text\", \"line\": {\"color\": \"cornflowerblue\", \"width\": 0.1546566210454739}, \"mode\": \"lines\", \"text\": \"0.155\", \"type\": \"scatter\", \"x\": [22, 23, null], \"y\": [6, 8, null]}, {\"hoverinfo\": \"text\", \"line\": {\"color\": \"cornflowerblue\", \"width\": 0.1518205067385282}, \"mode\": \"lines\", \"text\": \"0.152\", \"type\": \"scatter\", \"x\": [22, 23, null], \"y\": [6, 9, null]}, {\"hoverinfo\": \"text\", \"line\": {\"color\": \"cornflowerblue\", \"width\": 0.15479803897009536}, \"mode\": \"lines\", \"text\": \"0.155\", \"type\": \"scatter\", \"x\": [22, 23, null], \"y\": [7, 0, null]}, {\"hoverinfo\": \"text\", \"line\": {\"color\": \"cornflowerblue\", \"width\": 0.15559601978340942}, \"mode\": \"lines\", \"text\": \"0.156\", \"type\": \"scatter\", \"x\": [22, 23, null], \"y\": [7, 1, null]}, {\"hoverinfo\": \"text\", \"line\": {\"color\": \"cornflowerblue\", \"width\": 0.15536868006241988}, \"mode\": \"lines\", \"text\": \"0.155\", \"type\": \"scatter\", \"x\": [22, 23, null], \"y\": [7, 2, null]}, {\"hoverinfo\": \"text\", \"line\": {\"color\": \"cornflowerblue\", \"width\": 0.15235911413275985}, \"mode\": \"lines\", \"text\": \"0.152\", \"type\": \"scatter\", \"x\": [22, 23, null], \"y\": [7, 3, null]}, {\"hoverinfo\": \"text\", \"line\": {\"color\": \"cornflowerblue\", \"width\": 0.15637145098968147}, \"mode\": \"lines\", \"text\": \"0.156\", \"type\": \"scatter\", \"x\": [22, 23, null], \"y\": [7, 4, null]}, {\"hoverinfo\": \"text\", \"line\": {\"color\": \"cornflowerblue\", \"width\": 0.15395550386202198}, \"mode\": \"lines\", \"text\": \"0.154\", \"type\": \"scatter\", \"x\": [22, 23, null], \"y\": [7, 5, null]}, {\"hoverinfo\": \"text\", \"line\": {\"color\": \"cornflowerblue\", \"width\": 0.15793683274917833}, \"mode\": \"lines\", \"text\": \"0.158\", \"type\": \"scatter\", \"x\": [22, 23, null], \"y\": [7, 6, null]}, {\"hoverinfo\": \"text\", \"line\": {\"color\": \"cornflowerblue\", \"width\": 0.15023654650110718}, \"mode\": \"lines\", \"text\": \"0.15\", \"type\": \"scatter\", \"x\": [22, 23, null], \"y\": [7, 7, null]}, {\"hoverinfo\": \"text\", \"line\": {\"color\": \"cornflowerblue\", \"width\": 0.15451008548324957}, \"mode\": \"lines\", \"text\": \"0.155\", \"type\": \"scatter\", \"x\": [22, 23, null], \"y\": [7, 8, null]}, {\"hoverinfo\": \"text\", \"line\": {\"color\": \"cornflowerblue\", \"width\": 0.1501602048297904}, \"mode\": \"lines\", \"text\": \"0.15\", \"type\": \"scatter\", \"x\": [22, 23, null], \"y\": [7, 9, null]}, {\"hoverinfo\": \"text\", \"line\": {\"color\": \"cornflowerblue\", \"width\": 0.1467301447153549}, \"mode\": \"lines\", \"text\": \"0.147\", \"type\": \"scatter\", \"x\": [22, 23, null], \"y\": [7, 10, null]}, {\"hoverinfo\": \"text\", \"line\": {\"color\": \"cornflowerblue\", \"width\": 0.1824978561234984}, \"mode\": \"lines\", \"text\": \"0.182\", \"type\": \"scatter\", \"x\": [23, 24, null], \"y\": [0, 0, null]}, {\"hoverinfo\": \"text\", \"line\": {\"color\": \"cornflowerblue\", \"width\": 0.16781104255729742}, \"mode\": \"lines\", \"text\": \"0.168\", \"type\": \"scatter\", \"x\": [23, 24, null], \"y\": [0, 1, null]}, {\"hoverinfo\": \"text\", \"line\": {\"color\": \"cornflowerblue\", \"width\": 0.1916240920957272}, \"mode\": \"lines\", \"text\": \"0.192\", \"type\": \"scatter\", \"x\": [23, 24, null], \"y\": [0, 2, null]}, {\"hoverinfo\": \"text\", \"line\": {\"color\": \"cornflowerblue\", \"width\": 0.22484792316158184}, \"mode\": \"lines\", \"text\": \"0.225\", \"type\": \"scatter\", \"x\": [23, 24, null], \"y\": [0, 3, null]}, {\"hoverinfo\": \"text\", \"line\": {\"color\": \"cornflowerblue\", \"width\": 0.17476922520519836}, \"mode\": \"lines\", \"text\": \"0.175\", \"type\": \"scatter\", \"x\": [23, 24, null], \"y\": [0, 4, null]}, {\"hoverinfo\": \"text\", \"line\": {\"color\": \"cornflowerblue\", \"width\": 0.19129780304168376}, \"mode\": \"lines\", \"text\": \"0.191\", \"type\": \"scatter\", \"x\": [23, 24, null], \"y\": [0, 5, null]}, {\"hoverinfo\": \"text\", \"line\": {\"color\": \"cornflowerblue\", \"width\": 0.48525569262992096}, \"mode\": \"lines\", \"text\": \"0.485\", \"type\": \"scatter\", \"x\": [23, 24, null], \"y\": [0, 6, null]}, {\"hoverinfo\": \"text\", \"line\": {\"color\": \"cornflowerblue\", \"width\": 0.15294017863235196}, \"mode\": \"lines\", \"text\": \"0.153\", \"type\": \"scatter\", \"x\": [23, 24, null], \"y\": [0, 7, null]}, {\"hoverinfo\": \"text\", \"line\": {\"color\": \"cornflowerblue\", \"width\": 0.1544456515179102}, \"mode\": \"lines\", \"text\": \"0.154\", \"type\": \"scatter\", \"x\": [23, 24, null], \"y\": [0, 8, null]}, {\"hoverinfo\": \"text\", \"line\": {\"color\": \"cornflowerblue\", \"width\": 0.15100526092380853}, \"mode\": \"lines\", \"text\": \"0.151\", \"type\": \"scatter\", \"x\": [23, 24, null], \"y\": [0, 9, null]}, {\"hoverinfo\": \"text\", \"line\": {\"color\": \"cornflowerblue\", \"width\": 0.15282246701188248}, \"mode\": \"lines\", \"text\": \"0.153\", \"type\": \"scatter\", \"x\": [23, 24, null], \"y\": [0, 10, null]}, {\"hoverinfo\": \"text\", \"line\": {\"color\": \"cornflowerblue\", \"width\": 0.21088349288035876}, \"mode\": \"lines\", \"text\": \"0.211\", \"type\": \"scatter\", \"x\": [23, 24, null], \"y\": [1, 0, null]}, {\"hoverinfo\": \"text\", \"line\": {\"color\": \"cornflowerblue\", \"width\": 0.1665335512633842}, \"mode\": \"lines\", \"text\": \"0.167\", \"type\": \"scatter\", \"x\": [23, 24, null], \"y\": [1, 1, null]}, {\"hoverinfo\": \"text\", \"line\": {\"color\": \"cornflowerblue\", \"width\": 0.17547237918854314}, \"mode\": \"lines\", \"text\": \"0.175\", \"type\": \"scatter\", \"x\": [23, 24, null], \"y\": [1, 2, null]}, {\"hoverinfo\": \"text\", \"line\": {\"color\": \"cornflowerblue\", \"width\": 0.18975889699627005}, \"mode\": \"lines\", \"text\": \"0.19\", \"type\": \"scatter\", \"x\": [23, 24, null], \"y\": [1, 3, null]}, {\"hoverinfo\": \"text\", \"line\": {\"color\": \"cornflowerblue\", \"width\": 0.1759990841208345}, \"mode\": \"lines\", \"text\": \"0.176\", \"type\": \"scatter\", \"x\": [23, 24, null], \"y\": [1, 4, null]}, {\"hoverinfo\": \"text\", \"line\": {\"color\": \"cornflowerblue\", \"width\": 0.16751562383299853}, \"mode\": \"lines\", \"text\": \"0.168\", \"type\": \"scatter\", \"x\": [23, 24, null], \"y\": [1, 5, null]}, {\"hoverinfo\": \"text\", \"line\": {\"color\": \"cornflowerblue\", \"width\": 0.18868338275189592}, \"mode\": \"lines\", \"text\": \"0.189\", \"type\": \"scatter\", \"x\": [23, 24, null], \"y\": [1, 6, null]}, {\"hoverinfo\": \"text\", \"line\": {\"color\": \"cornflowerblue\", \"width\": 0.14951418214189274}, \"mode\": \"lines\", \"text\": \"0.15\", \"type\": \"scatter\", \"x\": [23, 24, null], \"y\": [1, 7, null]}, {\"hoverinfo\": \"text\", \"line\": {\"color\": \"cornflowerblue\", \"width\": 0.15313969835937022}, \"mode\": \"lines\", \"text\": \"0.153\", \"type\": \"scatter\", \"x\": [23, 24, null], \"y\": [1, 8, null]}, {\"hoverinfo\": \"text\", \"line\": {\"color\": \"cornflowerblue\", \"width\": 0.15132590599927712}, \"mode\": \"lines\", \"text\": \"0.151\", \"type\": \"scatter\", \"x\": [23, 24, null], \"y\": [1, 9, null]}, {\"hoverinfo\": \"text\", \"line\": {\"color\": \"cornflowerblue\", \"width\": 0.1522677640562195}, \"mode\": \"lines\", \"text\": \"0.152\", \"type\": \"scatter\", \"x\": [23, 24, null], \"y\": [1, 10, null]}, {\"hoverinfo\": \"text\", \"line\": {\"color\": \"cornflowerblue\", \"width\": 0.18165849909792525}, \"mode\": \"lines\", \"text\": \"0.182\", \"type\": \"scatter\", \"x\": [23, 24, null], \"y\": [2, 0, null]}, {\"hoverinfo\": \"text\", \"line\": {\"color\": \"cornflowerblue\", \"width\": 0.16889109038511982}, \"mode\": \"lines\", \"text\": \"0.169\", \"type\": \"scatter\", \"x\": [23, 24, null], \"y\": [2, 1, null]}, {\"hoverinfo\": \"text\", \"line\": {\"color\": \"cornflowerblue\", \"width\": 0.16841860999131553}, \"mode\": \"lines\", \"text\": \"0.168\", \"type\": \"scatter\", \"x\": [23, 24, null], \"y\": [2, 2, null]}, {\"hoverinfo\": \"text\", \"line\": {\"color\": \"cornflowerblue\", \"width\": 0.17282989398058385}, \"mode\": \"lines\", \"text\": \"0.173\", \"type\": \"scatter\", \"x\": [23, 24, null], \"y\": [2, 3, null]}, {\"hoverinfo\": \"text\", \"line\": {\"color\": \"cornflowerblue\", \"width\": 0.1848071372415874}, \"mode\": \"lines\", \"text\": \"0.185\", \"type\": \"scatter\", \"x\": [23, 24, null], \"y\": [2, 4, null]}, {\"hoverinfo\": \"text\", \"line\": {\"color\": \"cornflowerblue\", \"width\": 0.16154941756048014}, \"mode\": \"lines\", \"text\": \"0.162\", \"type\": \"scatter\", \"x\": [23, 24, null], \"y\": [2, 5, null]}, {\"hoverinfo\": \"text\", \"line\": {\"color\": \"cornflowerblue\", \"width\": 0.1767042527944389}, \"mode\": \"lines\", \"text\": \"0.177\", \"type\": \"scatter\", \"x\": [23, 24, null], \"y\": [2, 6, null]}, {\"hoverinfo\": \"text\", \"line\": {\"color\": \"cornflowerblue\", \"width\": 0.1511908034710604}, \"mode\": \"lines\", \"text\": \"0.151\", \"type\": \"scatter\", \"x\": [23, 24, null], \"y\": [2, 7, null]}, {\"hoverinfo\": \"text\", \"line\": {\"color\": \"cornflowerblue\", \"width\": 0.15352574876508235}, \"mode\": \"lines\", \"text\": \"0.154\", \"type\": \"scatter\", \"x\": [23, 24, null], \"y\": [2, 8, null]}, {\"hoverinfo\": \"text\", \"line\": {\"color\": \"cornflowerblue\", \"width\": 0.15033465285119843}, \"mode\": \"lines\", \"text\": \"0.15\", \"type\": \"scatter\", \"x\": [23, 24, null], \"y\": [2, 9, null]}, {\"hoverinfo\": \"text\", \"line\": {\"color\": \"cornflowerblue\", \"width\": 0.15334133178530765}, \"mode\": \"lines\", \"text\": \"0.153\", \"type\": \"scatter\", \"x\": [23, 24, null], \"y\": [2, 10, null]}, {\"hoverinfo\": \"text\", \"line\": {\"color\": \"cornflowerblue\", \"width\": 0.16680572566253923}, \"mode\": \"lines\", \"text\": \"0.167\", \"type\": \"scatter\", \"x\": [23, 24, null], \"y\": [3, 0, null]}, {\"hoverinfo\": \"text\", \"line\": {\"color\": \"cornflowerblue\", \"width\": 0.16383737788738006}, \"mode\": \"lines\", \"text\": \"0.164\", \"type\": \"scatter\", \"x\": [23, 24, null], \"y\": [3, 1, null]}, {\"hoverinfo\": \"text\", \"line\": {\"color\": \"cornflowerblue\", \"width\": 0.16932350651761816}, \"mode\": \"lines\", \"text\": \"0.169\", \"type\": \"scatter\", \"x\": [23, 24, null], \"y\": [3, 2, null]}, {\"hoverinfo\": \"text\", \"line\": {\"color\": \"cornflowerblue\", \"width\": 0.22079418548473473}, \"mode\": \"lines\", \"text\": \"0.221\", \"type\": \"scatter\", \"x\": [23, 24, null], \"y\": [3, 3, null]}, {\"hoverinfo\": \"text\", \"line\": {\"color\": \"cornflowerblue\", \"width\": 0.1633176211394406}, \"mode\": \"lines\", \"text\": \"0.163\", \"type\": \"scatter\", \"x\": [23, 24, null], \"y\": [3, 4, null]}, {\"hoverinfo\": \"text\", \"line\": {\"color\": \"cornflowerblue\", \"width\": 0.5442048823401129}, \"mode\": \"lines\", \"text\": \"0.544\", \"type\": \"scatter\", \"x\": [23, 24, null], \"y\": [3, 5, null]}, {\"hoverinfo\": \"text\", \"line\": {\"color\": \"cornflowerblue\", \"width\": 0.18636360877253472}, \"mode\": \"lines\", \"text\": \"0.186\", \"type\": \"scatter\", \"x\": [23, 24, null], \"y\": [3, 6, null]}, {\"hoverinfo\": \"text\", \"line\": {\"color\": \"cornflowerblue\", \"width\": 0.15235386393992884}, \"mode\": \"lines\", \"text\": \"0.152\", \"type\": \"scatter\", \"x\": [23, 24, null], \"y\": [3, 7, null]}, {\"hoverinfo\": \"text\", \"line\": {\"color\": \"cornflowerblue\", \"width\": 0.15181071969830362}, \"mode\": \"lines\", \"text\": \"0.152\", \"type\": \"scatter\", \"x\": [23, 24, null], \"y\": [3, 8, null]}, {\"hoverinfo\": \"text\", \"line\": {\"color\": \"cornflowerblue\", \"width\": 0.15195925083188938}, \"mode\": \"lines\", \"text\": \"0.152\", \"type\": \"scatter\", \"x\": [23, 24, null], \"y\": [3, 9, null]}, {\"hoverinfo\": \"text\", \"line\": {\"color\": \"cornflowerblue\", \"width\": 0.14957533560495784}, \"mode\": \"lines\", \"text\": \"0.15\", \"type\": \"scatter\", \"x\": [23, 24, null], \"y\": [3, 10, null]}, {\"hoverinfo\": \"text\", \"line\": {\"color\": \"cornflowerblue\", \"width\": 0.1877629892935845}, \"mode\": \"lines\", \"text\": \"0.188\", \"type\": \"scatter\", \"x\": [23, 24, null], \"y\": [4, 0, null]}, {\"hoverinfo\": \"text\", \"line\": {\"color\": \"cornflowerblue\", \"width\": 0.17120700306207323}, \"mode\": \"lines\", \"text\": \"0.171\", \"type\": \"scatter\", \"x\": [23, 24, null], \"y\": [4, 1, null]}, {\"hoverinfo\": \"text\", \"line\": {\"color\": \"cornflowerblue\", \"width\": 0.18891857751202068}, \"mode\": \"lines\", \"text\": \"0.189\", \"type\": \"scatter\", \"x\": [23, 24, null], \"y\": [4, 2, null]}, {\"hoverinfo\": \"text\", \"line\": {\"color\": \"cornflowerblue\", \"width\": 0.5166002263055918}, \"mode\": \"lines\", \"text\": \"0.517\", \"type\": \"scatter\", \"x\": [23, 24, null], \"y\": [4, 3, null]}, {\"hoverinfo\": \"text\", \"line\": {\"color\": \"cornflowerblue\", \"width\": 0.18069108887970178}, \"mode\": \"lines\", \"text\": \"0.181\", \"type\": \"scatter\", \"x\": [23, 24, null], \"y\": [4, 4, null]}, {\"hoverinfo\": \"text\", \"line\": {\"color\": \"cornflowerblue\", \"width\": 0.22383446794527279}, \"mode\": \"lines\", \"text\": \"0.224\", \"type\": \"scatter\", \"x\": [23, 24, null], \"y\": [4, 5, null]}, {\"hoverinfo\": \"text\", \"line\": {\"color\": \"cornflowerblue\", \"width\": 0.2172567530344949}, \"mode\": \"lines\", \"text\": \"0.217\", \"type\": \"scatter\", \"x\": [23, 24, null], \"y\": [4, 6, null]}, {\"hoverinfo\": \"text\", \"line\": {\"color\": \"cornflowerblue\", \"width\": 0.15380500725216925}, \"mode\": \"lines\", \"text\": \"0.154\", \"type\": \"scatter\", \"x\": [23, 24, null], \"y\": [4, 7, null]}, {\"hoverinfo\": \"text\", \"line\": {\"color\": \"cornflowerblue\", \"width\": 0.154703402200691}, \"mode\": \"lines\", \"text\": \"0.155\", \"type\": \"scatter\", \"x\": [23, 24, null], \"y\": [4, 8, null]}, {\"hoverinfo\": \"text\", \"line\": {\"color\": \"cornflowerblue\", \"width\": 0.15207433532558504}, \"mode\": \"lines\", \"text\": \"0.152\", \"type\": \"scatter\", \"x\": [23, 24, null], \"y\": [4, 9, null]}, {\"hoverinfo\": \"text\", \"line\": {\"color\": \"cornflowerblue\", \"width\": 0.15190136091915468}, \"mode\": \"lines\", \"text\": \"0.152\", \"type\": \"scatter\", \"x\": [23, 24, null], \"y\": [4, 10, null]}, {\"hoverinfo\": \"text\", \"line\": {\"color\": \"cornflowerblue\", \"width\": 0.17445272584438343}, \"mode\": \"lines\", \"text\": \"0.174\", \"type\": \"scatter\", \"x\": [23, 24, null], \"y\": [5, 0, null]}, {\"hoverinfo\": \"text\", \"line\": {\"color\": \"cornflowerblue\", \"width\": 0.16369947293494536}, \"mode\": \"lines\", \"text\": \"0.164\", \"type\": \"scatter\", \"x\": [23, 24, null], \"y\": [5, 1, null]}, {\"hoverinfo\": \"text\", \"line\": {\"color\": \"cornflowerblue\", \"width\": 0.2671796630092859}, \"mode\": \"lines\", \"text\": \"0.267\", \"type\": \"scatter\", \"x\": [23, 24, null], \"y\": [5, 2, null]}, {\"hoverinfo\": \"text\", \"line\": {\"color\": \"cornflowerblue\", \"width\": 0.1805573588913171}, \"mode\": \"lines\", \"text\": \"0.181\", \"type\": \"scatter\", \"x\": [23, 24, null], \"y\": [5, 3, null]}, {\"hoverinfo\": \"text\", \"line\": {\"color\": \"cornflowerblue\", \"width\": 0.16693429427289472}, \"mode\": \"lines\", \"text\": \"0.167\", \"type\": \"scatter\", \"x\": [23, 24, null], \"y\": [5, 4, null]}, {\"hoverinfo\": \"text\", \"line\": {\"color\": \"cornflowerblue\", \"width\": 0.16336993572232414}, \"mode\": \"lines\", \"text\": \"0.163\", \"type\": \"scatter\", \"x\": [23, 24, null], \"y\": [5, 5, null]}, {\"hoverinfo\": \"text\", \"line\": {\"color\": \"cornflowerblue\", \"width\": 0.18358316051688606}, \"mode\": \"lines\", \"text\": \"0.184\", \"type\": \"scatter\", \"x\": [23, 24, null], \"y\": [5, 6, null]}, {\"hoverinfo\": \"text\", \"line\": {\"color\": \"cornflowerblue\", \"width\": 0.15008906900378025}, \"mode\": \"lines\", \"text\": \"0.15\", \"type\": \"scatter\", \"x\": [23, 24, null], \"y\": [5, 7, null]}, {\"hoverinfo\": \"text\", \"line\": {\"color\": \"cornflowerblue\", \"width\": 0.1510920975376537}, \"mode\": \"lines\", \"text\": \"0.151\", \"type\": \"scatter\", \"x\": [23, 24, null], \"y\": [5, 8, null]}, {\"hoverinfo\": \"text\", \"line\": {\"color\": \"cornflowerblue\", \"width\": 0.1498033706735883}, \"mode\": \"lines\", \"text\": \"0.15\", \"type\": \"scatter\", \"x\": [23, 24, null], \"y\": [5, 9, null]}, {\"hoverinfo\": \"text\", \"line\": {\"color\": \"cornflowerblue\", \"width\": 0.15394128939885887}, \"mode\": \"lines\", \"text\": \"0.154\", \"type\": \"scatter\", \"x\": [23, 24, null], \"y\": [5, 10, null]}, {\"hoverinfo\": \"text\", \"line\": {\"color\": \"cornflowerblue\", \"width\": 0.16136663423728986}, \"mode\": \"lines\", \"text\": \"0.161\", \"type\": \"scatter\", \"x\": [23, 24, null], \"y\": [6, 0, null]}, {\"hoverinfo\": \"text\", \"line\": {\"color\": \"cornflowerblue\", \"width\": 0.16275951404906394}, \"mode\": \"lines\", \"text\": \"0.163\", \"type\": \"scatter\", \"x\": [23, 24, null], \"y\": [6, 1, null]}, {\"hoverinfo\": \"text\", \"line\": {\"color\": \"cornflowerblue\", \"width\": 0.15886478767053153}, \"mode\": \"lines\", \"text\": \"0.159\", \"type\": \"scatter\", \"x\": [23, 24, null], \"y\": [6, 2, null]}, {\"hoverinfo\": \"text\", \"line\": {\"color\": \"cornflowerblue\", \"width\": 0.1605953238368172}, \"mode\": \"lines\", \"text\": \"0.161\", \"type\": \"scatter\", \"x\": [23, 24, null], \"y\": [6, 3, null]}, {\"hoverinfo\": \"text\", \"line\": {\"color\": \"cornflowerblue\", \"width\": 0.1593702027535601}, \"mode\": \"lines\", \"text\": \"0.159\", \"type\": \"scatter\", \"x\": [23, 24, null], \"y\": [6, 4, null]}, {\"hoverinfo\": \"text\", \"line\": {\"color\": \"cornflowerblue\", \"width\": 0.1581287923280078}, \"mode\": \"lines\", \"text\": \"0.158\", \"type\": \"scatter\", \"x\": [23, 24, null], \"y\": [6, 5, null]}, {\"hoverinfo\": \"text\", \"line\": {\"color\": \"cornflowerblue\", \"width\": 0.16556037057498305}, \"mode\": \"lines\", \"text\": \"0.166\", \"type\": \"scatter\", \"x\": [23, 24, null], \"y\": [6, 6, null]}, {\"hoverinfo\": \"text\", \"line\": {\"color\": \"cornflowerblue\", \"width\": 0.1523441655293168}, \"mode\": \"lines\", \"text\": \"0.152\", \"type\": \"scatter\", \"x\": [23, 24, null], \"y\": [6, 7, null]}, {\"hoverinfo\": \"text\", \"line\": {\"color\": \"cornflowerblue\", \"width\": 0.15279030228023574}, \"mode\": \"lines\", \"text\": \"0.153\", \"type\": \"scatter\", \"x\": [23, 24, null], \"y\": [6, 8, null]}, {\"hoverinfo\": \"text\", \"line\": {\"color\": \"cornflowerblue\", \"width\": 0.1564377007189768}, \"mode\": \"lines\", \"text\": \"0.156\", \"type\": \"scatter\", \"x\": [23, 24, null], \"y\": [6, 9, null]}, {\"hoverinfo\": \"text\", \"line\": {\"color\": \"cornflowerblue\", \"width\": 0.15536145835089368}, \"mode\": \"lines\", \"text\": \"0.155\", \"type\": \"scatter\", \"x\": [23, 24, null], \"y\": [6, 10, null]}, {\"hoverinfo\": \"text\", \"line\": {\"color\": \"cornflowerblue\", \"width\": 0.15214192072608396}, \"mode\": \"lines\", \"text\": \"0.152\", \"type\": \"scatter\", \"x\": [23, 24, null], \"y\": [7, 0, null]}, {\"hoverinfo\": \"text\", \"line\": {\"color\": \"cornflowerblue\", \"width\": 0.1559487406681906}, \"mode\": \"lines\", \"text\": \"0.156\", \"type\": \"scatter\", \"x\": [23, 24, null], \"y\": [7, 1, null]}, {\"hoverinfo\": \"text\", \"line\": {\"color\": \"cornflowerblue\", \"width\": 0.15280586692959677}, \"mode\": \"lines\", \"text\": \"0.153\", \"type\": \"scatter\", \"x\": [23, 24, null], \"y\": [7, 2, null]}, {\"hoverinfo\": \"text\", \"line\": {\"color\": \"cornflowerblue\", \"width\": 0.15410168915611935}, \"mode\": \"lines\", \"text\": \"0.154\", \"type\": \"scatter\", \"x\": [23, 24, null], \"y\": [7, 3, null]}, {\"hoverinfo\": \"text\", \"line\": {\"color\": \"cornflowerblue\", \"width\": 0.1544042085910297}, \"mode\": \"lines\", \"text\": \"0.154\", \"type\": \"scatter\", \"x\": [23, 24, null], \"y\": [7, 4, null]}, {\"hoverinfo\": \"text\", \"line\": {\"color\": \"cornflowerblue\", \"width\": 0.15135704852590956}, \"mode\": \"lines\", \"text\": \"0.151\", \"type\": \"scatter\", \"x\": [23, 24, null], \"y\": [7, 5, null]}, {\"hoverinfo\": \"text\", \"line\": {\"color\": \"cornflowerblue\", \"width\": 0.15343223862655014}, \"mode\": \"lines\", \"text\": \"0.153\", \"type\": \"scatter\", \"x\": [23, 24, null], \"y\": [7, 6, null]}, {\"hoverinfo\": \"text\", \"line\": {\"color\": \"cornflowerblue\", \"width\": 0.14758575585279984}, \"mode\": \"lines\", \"text\": \"0.148\", \"type\": \"scatter\", \"x\": [23, 24, null], \"y\": [7, 7, null]}, {\"hoverinfo\": \"text\", \"line\": {\"color\": \"cornflowerblue\", \"width\": 0.1490408210133703}, \"mode\": \"lines\", \"text\": \"0.149\", \"type\": \"scatter\", \"x\": [23, 24, null], \"y\": [7, 8, null]}, {\"hoverinfo\": \"text\", \"line\": {\"color\": \"cornflowerblue\", \"width\": 0.15040159575505088}, \"mode\": \"lines\", \"text\": \"0.15\", \"type\": \"scatter\", \"x\": [23, 24, null], \"y\": [7, 9, null]}, {\"hoverinfo\": \"text\", \"line\": {\"color\": \"cornflowerblue\", \"width\": 0.15105944053998094}, \"mode\": \"lines\", \"text\": \"0.151\", \"type\": \"scatter\", \"x\": [23, 24, null], \"y\": [7, 10, null]}, {\"hoverinfo\": \"text\", \"line\": {\"color\": \"cornflowerblue\", \"width\": 0.1564874927049444}, \"mode\": \"lines\", \"text\": \"0.156\", \"type\": \"scatter\", \"x\": [23, 24, null], \"y\": [8, 0, null]}, {\"hoverinfo\": \"text\", \"line\": {\"color\": \"cornflowerblue\", \"width\": 0.15856764097378276}, \"mode\": \"lines\", \"text\": \"0.159\", \"type\": \"scatter\", \"x\": [23, 24, null], \"y\": [8, 1, null]}, {\"hoverinfo\": \"text\", \"line\": {\"color\": \"cornflowerblue\", \"width\": 0.15406944926965038}, \"mode\": \"lines\", \"text\": \"0.154\", \"type\": \"scatter\", \"x\": [23, 24, null], \"y\": [8, 2, null]}, {\"hoverinfo\": \"text\", \"line\": {\"color\": \"cornflowerblue\", \"width\": 0.15627257226997418}, \"mode\": \"lines\", \"text\": \"0.156\", \"type\": \"scatter\", \"x\": [23, 24, null], \"y\": [8, 3, null]}, {\"hoverinfo\": \"text\", \"line\": {\"color\": \"cornflowerblue\", \"width\": 0.1629276475838712}, \"mode\": \"lines\", \"text\": \"0.163\", \"type\": \"scatter\", \"x\": [23, 24, null], \"y\": [8, 4, null]}, {\"hoverinfo\": \"text\", \"line\": {\"color\": \"cornflowerblue\", \"width\": 0.15528839635810693}, \"mode\": \"lines\", \"text\": \"0.155\", \"type\": \"scatter\", \"x\": [23, 24, null], \"y\": [8, 5, null]}, {\"hoverinfo\": \"text\", \"line\": {\"color\": \"cornflowerblue\", \"width\": 0.1550745863281601}, \"mode\": \"lines\", \"text\": \"0.155\", \"type\": \"scatter\", \"x\": [23, 24, null], \"y\": [8, 6, null]}, {\"hoverinfo\": \"text\", \"line\": {\"color\": \"cornflowerblue\", \"width\": 0.15589089490692093}, \"mode\": \"lines\", \"text\": \"0.156\", \"type\": \"scatter\", \"x\": [23, 24, null], \"y\": [8, 7, null]}, {\"hoverinfo\": \"text\", \"line\": {\"color\": \"cornflowerblue\", \"width\": 0.15415044830105032}, \"mode\": \"lines\", \"text\": \"0.154\", \"type\": \"scatter\", \"x\": [23, 24, null], \"y\": [8, 8, null]}, {\"hoverinfo\": \"text\", \"line\": {\"color\": \"cornflowerblue\", \"width\": 0.1575097565283321}, \"mode\": \"lines\", \"text\": \"0.158\", \"type\": \"scatter\", \"x\": [23, 24, null], \"y\": [8, 9, null]}, {\"hoverinfo\": \"text\", \"line\": {\"color\": \"cornflowerblue\", \"width\": 0.1538696158220773}, \"mode\": \"lines\", \"text\": \"0.154\", \"type\": \"scatter\", \"x\": [23, 24, null], \"y\": [8, 10, null]}, {\"hoverinfo\": \"text\", \"line\": {\"color\": \"cornflowerblue\", \"width\": 0.1506030612230551}, \"mode\": \"lines\", \"text\": \"0.151\", \"type\": \"scatter\", \"x\": [23, 24, null], \"y\": [9, 0, null]}, {\"hoverinfo\": \"text\", \"line\": {\"color\": \"cornflowerblue\", \"width\": 0.15296029673115305}, \"mode\": \"lines\", \"text\": \"0.153\", \"type\": \"scatter\", \"x\": [23, 24, null], \"y\": [9, 1, null]}, {\"hoverinfo\": \"text\", \"line\": {\"color\": \"cornflowerblue\", \"width\": 0.14999585983868663}, \"mode\": \"lines\", \"text\": \"0.15\", \"type\": \"scatter\", \"x\": [23, 24, null], \"y\": [9, 2, null]}, {\"hoverinfo\": \"text\", \"line\": {\"color\": \"cornflowerblue\", \"width\": 0.15065765278178167}, \"mode\": \"lines\", \"text\": \"0.151\", \"type\": \"scatter\", \"x\": [23, 24, null], \"y\": [9, 3, null]}, {\"hoverinfo\": \"text\", \"line\": {\"color\": \"cornflowerblue\", \"width\": 0.15146671772803025}, \"mode\": \"lines\", \"text\": \"0.151\", \"type\": \"scatter\", \"x\": [23, 24, null], \"y\": [9, 4, null]}, {\"hoverinfo\": \"text\", \"line\": {\"color\": \"cornflowerblue\", \"width\": 0.14947863604746495}, \"mode\": \"lines\", \"text\": \"0.149\", \"type\": \"scatter\", \"x\": [23, 24, null], \"y\": [9, 5, null]}, {\"hoverinfo\": \"text\", \"line\": {\"color\": \"cornflowerblue\", \"width\": 0.15406596868923136}, \"mode\": \"lines\", \"text\": \"0.154\", \"type\": \"scatter\", \"x\": [23, 24, null], \"y\": [9, 6, null]}, {\"hoverinfo\": \"text\", \"line\": {\"color\": \"cornflowerblue\", \"width\": 0.14789419473630366}, \"mode\": \"lines\", \"text\": \"0.148\", \"type\": \"scatter\", \"x\": [23, 24, null], \"y\": [9, 7, null]}, {\"hoverinfo\": \"text\", \"line\": {\"color\": \"cornflowerblue\", \"width\": 0.14987292185957107}, \"mode\": \"lines\", \"text\": \"0.15\", \"type\": \"scatter\", \"x\": [23, 24, null], \"y\": [9, 8, null]}, {\"hoverinfo\": \"text\", \"line\": {\"color\": \"cornflowerblue\", \"width\": 0.149237870943296}, \"mode\": \"lines\", \"text\": \"0.149\", \"type\": \"scatter\", \"x\": [23, 24, null], \"y\": [9, 9, null]}, {\"hoverinfo\": \"text\", \"line\": {\"color\": \"cornflowerblue\", \"width\": 0.1504729317776751}, \"mode\": \"lines\", \"text\": \"0.15\", \"type\": \"scatter\", \"x\": [23, 24, null], \"y\": [9, 10, null]}, {\"hoverinfo\": \"text\", \"line\": {\"color\": \"cornflowerblue\", \"width\": 0.14706622587510948}, \"mode\": \"lines\", \"text\": \"0.147\", \"type\": \"scatter\", \"x\": [23, 24, null], \"y\": [10, 0, null]}, {\"hoverinfo\": \"text\", \"line\": {\"color\": \"cornflowerblue\", \"width\": 0.14770759873421596}, \"mode\": \"lines\", \"text\": \"0.148\", \"type\": \"scatter\", \"x\": [23, 24, null], \"y\": [10, 1, null]}, {\"hoverinfo\": \"text\", \"line\": {\"color\": \"cornflowerblue\", \"width\": 0.14725721454543456}, \"mode\": \"lines\", \"text\": \"0.147\", \"type\": \"scatter\", \"x\": [23, 24, null], \"y\": [10, 3, null]}, {\"hoverinfo\": \"text\", \"line\": {\"color\": \"cornflowerblue\", \"width\": 0.14692350056792472}, \"mode\": \"lines\", \"text\": \"0.147\", \"type\": \"scatter\", \"x\": [23, 24, null], \"y\": [10, 4, null]}, {\"hoverinfo\": \"text\", \"line\": {\"color\": \"cornflowerblue\", \"width\": 0.1481692519374847}, \"mode\": \"lines\", \"text\": \"0.148\", \"type\": \"scatter\", \"x\": [23, 24, null], \"y\": [10, 6, null]}, {\"hoverinfo\": \"text\", \"line\": {\"color\": \"cornflowerblue\", \"width\": 0.1462967501698572}, \"mode\": \"lines\", \"text\": \"0.146\", \"type\": \"scatter\", \"x\": [23, 24, null], \"y\": [10, 10, null]}, {\"hoverinfo\": \"text\", \"marker\": {\"color\": [], \"colorbar\": {\"thickness\": 15, \"title\": {\"side\": \"right\", \"text\": \"Node Connections\"}, \"xanchor\": \"left\"}, \"colorscale\": [[0.0, \"rgb(255,255,217)\"], [0.125, \"rgb(237,248,177)\"], [0.25, \"rgb(199,233,180)\"], [0.375, \"rgb(127,205,187)\"], [0.5, \"rgb(65,182,196)\"], [0.625, \"rgb(29,145,192)\"], [0.75, \"rgb(34,94,168)\"], [0.875, \"rgb(37,52,148)\"], [1.0, \"rgb(8,29,88)\"]], \"line\": {\"width\": 2}, \"reversescale\": true, \"showscale\": true, \"size\": 10}, \"mode\": \"markers\", \"type\": \"scatter\", \"x\": [1, 1, 1, 1, 1, 1, 1, 1, 2, 2, 2, 2, 2, 2, 2, 2, 2, 3, 3, 3, 3, 3, 3, 3, 4, 4, 4, 4, 4, 4, 4, 5, 5, 5, 5, 5, 5, 5, 5, 5, 6, 6, 6, 6, 6, 6, 6, 6, 7, 7, 7, 7, 7, 7, 7, 7, 7, 8, 8, 8, 8, 8, 8, 9, 9, 9, 9, 9, 9, 9, 9, 10, 10, 10, 10, 10, 10, 10, 10, 10, 10, 11, 11, 11, 11, 11, 11, 11, 11, 11, 11, 11, 11, 12, 12, 12, 12, 12, 12, 12, 12, 12, 13, 13, 13, 13, 13, 14, 14, 14, 14, 14, 14, 14, 14, 15, 15, 15, 15, 15, 15, 15, 15, 16, 16, 16, 16, 16, 17, 17, 17, 17, 17, 17, 17, 17, 18, 18, 18, 18, 18, 18, 18, 18, 18, 19, 19, 19, 19, 19, 19, 19, 19, 19, 19, 19, 19, 20, 20, 20, 20, 20, 20, 20, 20, 20, 20, 21, 21, 21, 21, 21, 21, 21, 21, 21, 21, 22, 22, 22, 22, 22, 22, 22, 22, 23, 23, 23, 23, 23, 23, 23, 23, 23, 23, 23, 24, 24, 24, 24, 24, 24, 24, 24, 24, 24, 24], \"y\": [0, 1, 2, 3, 4, 5, 6, 7, 0, 1, 2, 3, 4, 5, 6, 7, 8, 0, 1, 2, 3, 4, 5, 6, 0, 1, 2, 3, 4, 5, 6, 0, 1, 2, 3, 4, 5, 6, 7, 8, 0, 1, 2, 3, 4, 5, 6, 7, 0, 1, 2, 3, 4, 5, 6, 7, 8, 0, 1, 2, 3, 4, 5, 0, 1, 2, 3, 4, 5, 6, 7, 0, 1, 2, 3, 4, 5, 6, 7, 8, 9, 0, 1, 2, 3, 4, 5, 6, 7, 8, 9, 10, 11, 0, 1, 2, 3, 4, 5, 6, 7, 8, 0, 1, 2, 3, 4, 0, 1, 2, 3, 4, 5, 6, 7, 0, 1, 2, 3, 4, 5, 6, 7, 0, 1, 2, 3, 4, 0, 1, 2, 3, 4, 5, 6, 7, 0, 1, 2, 3, 4, 5, 6, 7, 8, 0, 1, 2, 3, 4, 5, 6, 7, 8, 9, 10, 11, 0, 1, 2, 3, 4, 5, 6, 7, 8, 9, 0, 1, 2, 3, 4, 5, 6, 7, 8, 9, 0, 1, 2, 3, 4, 5, 6, 7, 0, 1, 2, 3, 4, 5, 6, 7, 8, 9, 10, 0, 1, 2, 3, 4, 5, 6, 7, 8, 9, 10]}],\n",
       "                        {\"paper_bgcolor\": \"rgba(0,0,0,0)\", \"plot_bgcolor\": \"rgba(0,0,0,0)\", \"showlegend\": false, \"template\": {\"data\": {\"bar\": [{\"error_x\": {\"color\": \"#2a3f5f\"}, \"error_y\": {\"color\": \"#2a3f5f\"}, \"marker\": {\"line\": {\"color\": \"#E5ECF6\", \"width\": 0.5}}, \"type\": \"bar\"}], \"barpolar\": [{\"marker\": {\"line\": {\"color\": \"#E5ECF6\", \"width\": 0.5}}, \"type\": \"barpolar\"}], \"carpet\": [{\"aaxis\": {\"endlinecolor\": \"#2a3f5f\", \"gridcolor\": \"white\", \"linecolor\": \"white\", \"minorgridcolor\": \"white\", \"startlinecolor\": \"#2a3f5f\"}, \"baxis\": {\"endlinecolor\": \"#2a3f5f\", \"gridcolor\": \"white\", \"linecolor\": \"white\", \"minorgridcolor\": \"white\", \"startlinecolor\": \"#2a3f5f\"}, \"type\": \"carpet\"}], \"choropleth\": [{\"colorbar\": {\"outlinewidth\": 0, \"ticks\": \"\"}, \"type\": \"choropleth\"}], \"contour\": [{\"colorbar\": {\"outlinewidth\": 0, \"ticks\": \"\"}, \"colorscale\": [[0.0, \"#0d0887\"], [0.1111111111111111, \"#46039f\"], [0.2222222222222222, \"#7201a8\"], [0.3333333333333333, \"#9c179e\"], [0.4444444444444444, \"#bd3786\"], [0.5555555555555556, \"#d8576b\"], [0.6666666666666666, \"#ed7953\"], [0.7777777777777778, \"#fb9f3a\"], [0.8888888888888888, \"#fdca26\"], [1.0, \"#f0f921\"]], \"type\": \"contour\"}], \"contourcarpet\": [{\"colorbar\": {\"outlinewidth\": 0, \"ticks\": \"\"}, \"type\": \"contourcarpet\"}], \"heatmap\": [{\"colorbar\": {\"outlinewidth\": 0, \"ticks\": \"\"}, \"colorscale\": [[0.0, \"#0d0887\"], [0.1111111111111111, \"#46039f\"], [0.2222222222222222, \"#7201a8\"], [0.3333333333333333, \"#9c179e\"], [0.4444444444444444, \"#bd3786\"], [0.5555555555555556, \"#d8576b\"], [0.6666666666666666, \"#ed7953\"], [0.7777777777777778, \"#fb9f3a\"], [0.8888888888888888, \"#fdca26\"], [1.0, \"#f0f921\"]], \"type\": \"heatmap\"}], \"heatmapgl\": [{\"colorbar\": {\"outlinewidth\": 0, \"ticks\": \"\"}, \"colorscale\": [[0.0, \"#0d0887\"], [0.1111111111111111, \"#46039f\"], [0.2222222222222222, \"#7201a8\"], [0.3333333333333333, \"#9c179e\"], [0.4444444444444444, \"#bd3786\"], [0.5555555555555556, \"#d8576b\"], [0.6666666666666666, \"#ed7953\"], [0.7777777777777778, \"#fb9f3a\"], [0.8888888888888888, \"#fdca26\"], [1.0, \"#f0f921\"]], \"type\": \"heatmapgl\"}], \"histogram\": [{\"marker\": {\"colorbar\": {\"outlinewidth\": 0, \"ticks\": \"\"}}, \"type\": \"histogram\"}], \"histogram2d\": [{\"colorbar\": {\"outlinewidth\": 0, \"ticks\": \"\"}, \"colorscale\": [[0.0, \"#0d0887\"], [0.1111111111111111, \"#46039f\"], [0.2222222222222222, \"#7201a8\"], [0.3333333333333333, \"#9c179e\"], [0.4444444444444444, \"#bd3786\"], [0.5555555555555556, \"#d8576b\"], [0.6666666666666666, \"#ed7953\"], [0.7777777777777778, \"#fb9f3a\"], [0.8888888888888888, \"#fdca26\"], [1.0, \"#f0f921\"]], \"type\": \"histogram2d\"}], \"histogram2dcontour\": [{\"colorbar\": {\"outlinewidth\": 0, \"ticks\": \"\"}, \"colorscale\": [[0.0, \"#0d0887\"], [0.1111111111111111, \"#46039f\"], [0.2222222222222222, \"#7201a8\"], [0.3333333333333333, \"#9c179e\"], [0.4444444444444444, \"#bd3786\"], [0.5555555555555556, \"#d8576b\"], [0.6666666666666666, \"#ed7953\"], [0.7777777777777778, \"#fb9f3a\"], [0.8888888888888888, \"#fdca26\"], [1.0, \"#f0f921\"]], \"type\": \"histogram2dcontour\"}], \"mesh3d\": [{\"colorbar\": {\"outlinewidth\": 0, \"ticks\": \"\"}, \"type\": \"mesh3d\"}], \"parcoords\": [{\"line\": {\"colorbar\": {\"outlinewidth\": 0, \"ticks\": \"\"}}, \"type\": \"parcoords\"}], \"scatter\": [{\"marker\": {\"colorbar\": {\"outlinewidth\": 0, \"ticks\": \"\"}}, \"type\": \"scatter\"}], \"scatter3d\": [{\"line\": {\"colorbar\": {\"outlinewidth\": 0, \"ticks\": \"\"}}, \"marker\": {\"colorbar\": {\"outlinewidth\": 0, \"ticks\": \"\"}}, \"type\": \"scatter3d\"}], \"scattercarpet\": [{\"marker\": {\"colorbar\": {\"outlinewidth\": 0, \"ticks\": \"\"}}, \"type\": \"scattercarpet\"}], \"scattergeo\": [{\"marker\": {\"colorbar\": {\"outlinewidth\": 0, \"ticks\": \"\"}}, \"type\": \"scattergeo\"}], \"scattergl\": [{\"marker\": {\"colorbar\": {\"outlinewidth\": 0, \"ticks\": \"\"}}, \"type\": \"scattergl\"}], \"scattermapbox\": [{\"marker\": {\"colorbar\": {\"outlinewidth\": 0, \"ticks\": \"\"}}, \"type\": \"scattermapbox\"}], \"scatterpolar\": [{\"marker\": {\"colorbar\": {\"outlinewidth\": 0, \"ticks\": \"\"}}, \"type\": \"scatterpolar\"}], \"scatterpolargl\": [{\"marker\": {\"colorbar\": {\"outlinewidth\": 0, \"ticks\": \"\"}}, \"type\": \"scatterpolargl\"}], \"scatterternary\": [{\"marker\": {\"colorbar\": {\"outlinewidth\": 0, \"ticks\": \"\"}}, \"type\": \"scatterternary\"}], \"surface\": [{\"colorbar\": {\"outlinewidth\": 0, \"ticks\": \"\"}, \"colorscale\": [[0.0, \"#0d0887\"], [0.1111111111111111, \"#46039f\"], [0.2222222222222222, \"#7201a8\"], [0.3333333333333333, \"#9c179e\"], [0.4444444444444444, \"#bd3786\"], [0.5555555555555556, \"#d8576b\"], [0.6666666666666666, \"#ed7953\"], [0.7777777777777778, \"#fb9f3a\"], [0.8888888888888888, \"#fdca26\"], [1.0, \"#f0f921\"]], \"type\": \"surface\"}], \"table\": [{\"cells\": {\"fill\": {\"color\": \"#EBF0F8\"}, \"line\": {\"color\": \"white\"}}, \"header\": {\"fill\": {\"color\": \"#C8D4E3\"}, \"line\": {\"color\": \"white\"}}, \"type\": \"table\"}]}, \"layout\": {\"annotationdefaults\": {\"arrowcolor\": \"#2a3f5f\", \"arrowhead\": 0, \"arrowwidth\": 1}, \"colorscale\": {\"diverging\": [[0, \"#8e0152\"], [0.1, \"#c51b7d\"], [0.2, \"#de77ae\"], [0.3, \"#f1b6da\"], [0.4, \"#fde0ef\"], [0.5, \"#f7f7f7\"], [0.6, \"#e6f5d0\"], [0.7, \"#b8e186\"], [0.8, \"#7fbc41\"], [0.9, \"#4d9221\"], [1, \"#276419\"]], \"sequential\": [[0.0, \"#0d0887\"], [0.1111111111111111, \"#46039f\"], [0.2222222222222222, \"#7201a8\"], [0.3333333333333333, \"#9c179e\"], [0.4444444444444444, \"#bd3786\"], [0.5555555555555556, \"#d8576b\"], [0.6666666666666666, \"#ed7953\"], [0.7777777777777778, \"#fb9f3a\"], [0.8888888888888888, \"#fdca26\"], [1.0, \"#f0f921\"]], \"sequentialminus\": [[0.0, \"#0d0887\"], [0.1111111111111111, \"#46039f\"], [0.2222222222222222, \"#7201a8\"], [0.3333333333333333, \"#9c179e\"], [0.4444444444444444, \"#bd3786\"], [0.5555555555555556, \"#d8576b\"], [0.6666666666666666, \"#ed7953\"], [0.7777777777777778, \"#fb9f3a\"], [0.8888888888888888, \"#fdca26\"], [1.0, \"#f0f921\"]]}, \"colorway\": [\"#636efa\", \"#EF553B\", \"#00cc96\", \"#ab63fa\", \"#FFA15A\", \"#19d3f3\", \"#FF6692\", \"#B6E880\", \"#FF97FF\", \"#FECB52\"], \"font\": {\"color\": \"#2a3f5f\"}, \"geo\": {\"bgcolor\": \"white\", \"lakecolor\": \"white\", \"landcolor\": \"#E5ECF6\", \"showlakes\": true, \"showland\": true, \"subunitcolor\": \"white\"}, \"hoverlabel\": {\"align\": \"left\"}, \"hovermode\": \"closest\", \"mapbox\": {\"style\": \"light\"}, \"paper_bgcolor\": \"white\", \"plot_bgcolor\": \"#E5ECF6\", \"polar\": {\"angularaxis\": {\"gridcolor\": \"white\", \"linecolor\": \"white\", \"ticks\": \"\"}, \"bgcolor\": \"#E5ECF6\", \"radialaxis\": {\"gridcolor\": \"white\", \"linecolor\": \"white\", \"ticks\": \"\"}}, \"scene\": {\"xaxis\": {\"backgroundcolor\": \"#E5ECF6\", \"gridcolor\": \"white\", \"gridwidth\": 2, \"linecolor\": \"white\", \"showbackground\": true, \"ticks\": \"\", \"zerolinecolor\": \"white\"}, \"yaxis\": {\"backgroundcolor\": \"#E5ECF6\", \"gridcolor\": \"white\", \"gridwidth\": 2, \"linecolor\": \"white\", \"showbackground\": true, \"ticks\": \"\", \"zerolinecolor\": \"white\"}, \"zaxis\": {\"backgroundcolor\": \"#E5ECF6\", \"gridcolor\": \"white\", \"gridwidth\": 2, \"linecolor\": \"white\", \"showbackground\": true, \"ticks\": \"\", \"zerolinecolor\": \"white\"}}, \"shapedefaults\": {\"line\": {\"color\": \"#2a3f5f\"}}, \"ternary\": {\"aaxis\": {\"gridcolor\": \"white\", \"linecolor\": \"white\", \"ticks\": \"\"}, \"baxis\": {\"gridcolor\": \"white\", \"linecolor\": \"white\", \"ticks\": \"\"}, \"bgcolor\": \"#E5ECF6\", \"caxis\": {\"gridcolor\": \"white\", \"linecolor\": \"white\", \"ticks\": \"\"}}, \"title\": {\"x\": 0.05}, \"xaxis\": {\"automargin\": true, \"gridcolor\": \"white\", \"linecolor\": \"white\", \"ticks\": \"\", \"zerolinecolor\": \"white\", \"zerolinewidth\": 2}, \"yaxis\": {\"automargin\": true, \"gridcolor\": \"white\", \"linecolor\": \"white\", \"ticks\": \"\", \"zerolinecolor\": \"white\", \"zerolinewidth\": 2}}}, \"xaxis\": {\"showgrid\": false, \"showticklabels\": true, \"tickvals\": [1, 2, 3, 4, 5, 6, 7, 8, 9, 10, 11, 12, 13, 14, 15, 16, 17, 18, 19, 20, 21, 22, 23, 24], \"zeroline\": false}, \"yaxis\": {\"showgrid\": false, \"showticklabels\": false, \"zeroline\": false}},\n",
       "                        {\"responsive\": true}\n",
       "                    ).then(function(){\n",
       "                            \n",
       "var gd = document.getElementById('7607ca32-43d8-4b94-9b23-fd5f85ccf202');\n",
       "var x = new MutationObserver(function (mutations, observer) {{\n",
       "        var display = window.getComputedStyle(gd).display;\n",
       "        if (!display || display === 'none') {{\n",
       "            console.log([gd, 'removed!']);\n",
       "            Plotly.purge(gd);\n",
       "            observer.disconnect();\n",
       "        }}\n",
       "}});\n",
       "\n",
       "// Listen for the removal of the full notebook cells\n",
       "var notebookContainer = gd.closest('#notebook-container');\n",
       "if (notebookContainer) {{\n",
       "    x.observe(notebookContainer, {childList: true});\n",
       "}}\n",
       "\n",
       "// Listen for the clearing of the current output cell\n",
       "var outputEl = gd.closest('.output');\n",
       "if (outputEl) {{\n",
       "    x.observe(outputEl, {childList: true});\n",
       "}}\n",
       "\n",
       "                        })\n",
       "                };\n",
       "                });\n",
       "            </script>\n",
       "        </div>"
      ]
     },
     "metadata": {},
     "output_type": "display_data"
    }
   ],
   "source": [
    "plot_network(nodes, edges,  0.146127)"
   ]
  }
 ],
 "metadata": {
  "kernelspec": {
   "display_name": "Python 3",
   "language": "python",
   "name": "python3"
  },
  "language_info": {
   "codemirror_mode": {
    "name": "ipython",
    "version": 3
   },
   "file_extension": ".py",
   "mimetype": "text/x-python",
   "name": "python",
   "nbconvert_exporter": "python",
   "pygments_lexer": "ipython3",
   "version": "3.7.4"
  }
 },
 "nbformat": 4,
 "nbformat_minor": 2
}
