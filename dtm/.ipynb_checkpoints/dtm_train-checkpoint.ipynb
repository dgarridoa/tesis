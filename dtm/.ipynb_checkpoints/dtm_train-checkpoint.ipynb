{
 "cells": [
  {
   "cell_type": "code",
   "execution_count": 3,
   "metadata": {},
   "outputs": [],
   "source": [
    "import numpy as np\n",
    "import pandas as pd \n",
    "from time import time \n",
    "\n",
    "#Topic model\n",
    "import gensim\n",
    "from gensim.models.ldaseqmodel import LdaSeqModel\n",
    "from gensim.models.wrappers import DtmModel\n",
    "\n",
    "\n",
    "#----------Texto-----------------#\n",
    "import re\n",
    "import ast\n",
    "from collections import Counter"
   ]
  },
  {
   "cell_type": "code",
   "execution_count": 2,
   "metadata": {},
   "outputs": [],
   "source": [
    "#Para que no muestre los warnings\n",
    "import sys\n",
    "import warnings\n",
    "\n",
    "if not sys.warnoptions:\n",
    "    warnings.simplefilter(\"ignore\")"
   ]
  },
  {
   "cell_type": "markdown",
   "metadata": {},
   "source": [
    "### PostProcesamiento\n",
    "\n",
    "Importar datos procesados, eliminación de palabras poco frecuentes, definicion de slice por año y crear corpus"
   ]
  },
  {
   "cell_type": "code",
   "execution_count": 4,
   "metadata": {},
   "outputs": [
    {
     "data": {
      "text/html": [
       "<div>\n",
       "<style scoped>\n",
       "    .dataframe tbody tr th:only-of-type {\n",
       "        vertical-align: middle;\n",
       "    }\n",
       "\n",
       "    .dataframe tbody tr th {\n",
       "        vertical-align: top;\n",
       "    }\n",
       "\n",
       "    .dataframe thead th {\n",
       "        text-align: right;\n",
       "    }\n",
       "</style>\n",
       "<table border=\"1\" class=\"dataframe\">\n",
       "  <thead>\n",
       "    <tr style=\"text-align: right;\">\n",
       "      <th></th>\n",
       "      <th>sin_fecha_siniestro</th>\n",
       "      <th>sin_relato</th>\n",
       "      <th>sin_relato_clean</th>\n",
       "    </tr>\n",
       "  </thead>\n",
       "  <tbody>\n",
       "    <tr>\n",
       "      <th>0</th>\n",
       "      <td>29-08-2013 0:0</td>\n",
       "      <td>DEJE ESTACIONADO LA CAMIONETA POR MAS MENOS PO...</td>\n",
       "      <td>['deje', 'estacionado', 'camioneta', 'menos', ...</td>\n",
       "    </tr>\n",
       "    <tr>\n",
       "      <th>1</th>\n",
       "      <td>05-09-2013 0:0</td>\n",
       "      <td>DEJE LA CAMIONETA ESTACIONADA EL DIA 04/09 Y H...</td>\n",
       "      <td>['deje', 'camioneta', 'estacionada', 'sali', '...</td>\n",
       "    </tr>\n",
       "    <tr>\n",
       "      <th>2</th>\n",
       "      <td>05-09-2013 0:0</td>\n",
       "      <td>DEJE EL VEHICULO ESTACIONADO APROXIMADAMENTE A...</td>\n",
       "      <td>['deje', 'estacionado', 'aproximadamente', 'lu...</td>\n",
       "    </tr>\n",
       "    <tr>\n",
       "      <th>3</th>\n",
       "      <td>05-09-2013 0:0</td>\n",
       "      <td>DEJO VEHICULO PARA HACER CONSULTAS EN LUVAL Y ...</td>\n",
       "      <td>['dejo', 'hacer', 'consultas', 'duval', 'volve...</td>\n",
       "    </tr>\n",
       "    <tr>\n",
       "      <th>4</th>\n",
       "      <td>06-09-2013 0:0</td>\n",
       "      <td>EL VIERNES 06 DE SEPTIEMBRE  SALE DEL RESTORAN...</td>\n",
       "      <td>['viernes', 'septiembre', 'sale', 'restoran', ...</td>\n",
       "    </tr>\n",
       "  </tbody>\n",
       "</table>\n",
       "</div>"
      ],
      "text/plain": [
       "  sin_fecha_siniestro                                         sin_relato  \\\n",
       "0      29-08-2013 0:0  DEJE ESTACIONADO LA CAMIONETA POR MAS MENOS PO...   \n",
       "1      05-09-2013 0:0  DEJE LA CAMIONETA ESTACIONADA EL DIA 04/09 Y H...   \n",
       "2      05-09-2013 0:0  DEJE EL VEHICULO ESTACIONADO APROXIMADAMENTE A...   \n",
       "3      05-09-2013 0:0  DEJO VEHICULO PARA HACER CONSULTAS EN LUVAL Y ...   \n",
       "4      06-09-2013 0:0  EL VIERNES 06 DE SEPTIEMBRE  SALE DEL RESTORAN...   \n",
       "\n",
       "                                    sin_relato_clean  \n",
       "0  ['deje', 'estacionado', 'camioneta', 'menos', ...  \n",
       "1  ['deje', 'camioneta', 'estacionada', 'sali', '...  \n",
       "2  ['deje', 'estacionado', 'aproximadamente', 'lu...  \n",
       "3  ['dejo', 'hacer', 'consultas', 'duval', 'volve...  \n",
       "4  ['viernes', 'septiembre', 'sale', 'restoran', ...  "
      ]
     },
     "execution_count": 4,
     "metadata": {},
     "output_type": "execute_result"
    }
   ],
   "source": [
    "#Importar relatos procesados\n",
    "df0 = pd.read_excel('robos_prose_clean_2.0.xlsx')\n",
    "df0.head()"
   ]
  },
  {
   "cell_type": "code",
   "execution_count": 5,
   "metadata": {},
   "outputs": [],
   "source": [
    "def date_year(fecha):\n",
    "    y=int(re.split('\\W+', fecha)[2])\n",
    "    return y\n",
    "\n",
    "def date_month(fecha):\n",
    "    m = int(re.split('\\W+', fecha)[1])\n",
    "    return m"
   ]
  },
  {
   "cell_type": "code",
   "execution_count": 9,
   "metadata": {},
   "outputs": [
    {
     "name": "stdout",
     "output_type": "stream",
     "text": [
      "1.9149887561798096\n"
     ]
    }
   ],
   "source": [
    "#Frecuencia de cada palabra que sobrevivio al preprocesamiento\n",
    "\n",
    "t1=time()\n",
    "\n",
    "corpus = [ast.literal_eval(doc) for doc in df0['sin_relato_clean']]\n",
    "words = [word for doc in corpus for word in doc]\n",
    "freq_per_words = Counter(words)\n",
    "\n",
    "dfreq = pd.DataFrame()\n",
    "dfreq['Palabra'] = freq_per_words .keys()\n",
    "dfreq['Frecuencia'] = freq_per_words .values()\n",
    "\n",
    "t2=time()\n",
    "print(t2-t1)"
   ]
  },
  {
   "cell_type": "code",
   "execution_count": 10,
   "metadata": {},
   "outputs": [
    {
     "name": "stdout",
     "output_type": "stream",
     "text": [
      "Tamaño del vocabulario:  30284\n"
     ]
    }
   ],
   "source": [
    "print('Tamaño del vocabulario: ', len(dfreq))"
   ]
  },
  {
   "cell_type": "code",
   "execution_count": 11,
   "metadata": {},
   "outputs": [
    {
     "data": {
      "text/html": [
       "<div>\n",
       "<style scoped>\n",
       "    .dataframe tbody tr th:only-of-type {\n",
       "        vertical-align: middle;\n",
       "    }\n",
       "\n",
       "    .dataframe tbody tr th {\n",
       "        vertical-align: top;\n",
       "    }\n",
       "\n",
       "    .dataframe thead th {\n",
       "        text-align: right;\n",
       "    }\n",
       "</style>\n",
       "<table border=\"1\" class=\"dataframe\">\n",
       "  <thead>\n",
       "    <tr style=\"text-align: right;\">\n",
       "      <th></th>\n",
       "      <th>Palabra</th>\n",
       "      <th>Frecuencia</th>\n",
       "    </tr>\n",
       "  </thead>\n",
       "  <tbody>\n",
       "    <tr>\n",
       "      <th>0</th>\n",
       "      <td>deje</td>\n",
       "      <td>12089</td>\n",
       "    </tr>\n",
       "    <tr>\n",
       "      <th>1</th>\n",
       "      <td>estacionado</td>\n",
       "      <td>27620</td>\n",
       "    </tr>\n",
       "    <tr>\n",
       "      <th>2</th>\n",
       "      <td>camioneta</td>\n",
       "      <td>6623</td>\n",
       "    </tr>\n",
       "    <tr>\n",
       "      <th>3</th>\n",
       "      <td>menos</td>\n",
       "      <td>325</td>\n",
       "    </tr>\n",
       "    <tr>\n",
       "      <th>4</th>\n",
       "      <td>media</td>\n",
       "      <td>441</td>\n",
       "    </tr>\n",
       "  </tbody>\n",
       "</table>\n",
       "</div>"
      ],
      "text/plain": [
       "       Palabra  Frecuencia\n",
       "0         deje       12089\n",
       "1  estacionado       27620\n",
       "2    camioneta        6623\n",
       "3        menos         325\n",
       "4        media         441"
      ]
     },
     "execution_count": 11,
     "metadata": {},
     "output_type": "execute_result"
    }
   ],
   "source": [
    "dfreq.head()"
   ]
  },
  {
   "cell_type": "code",
   "execution_count": 12,
   "metadata": {},
   "outputs": [
    {
     "data": {
      "text/html": [
       "<div>\n",
       "<style scoped>\n",
       "    .dataframe tbody tr th:only-of-type {\n",
       "        vertical-align: middle;\n",
       "    }\n",
       "\n",
       "    .dataframe tbody tr th {\n",
       "        vertical-align: top;\n",
       "    }\n",
       "\n",
       "    .dataframe thead th {\n",
       "        text-align: right;\n",
       "    }\n",
       "</style>\n",
       "<table border=\"1\" class=\"dataframe\">\n",
       "  <thead>\n",
       "    <tr style=\"text-align: right;\">\n",
       "      <th></th>\n",
       "      <th>Palabra</th>\n",
       "      <th>Frecuencia</th>\n",
       "    </tr>\n",
       "  </thead>\n",
       "  <tbody>\n",
       "    <tr>\n",
       "      <th>30279</th>\n",
       "      <td>furgonque</td>\n",
       "      <td>1</td>\n",
       "    </tr>\n",
       "    <tr>\n",
       "      <th>30280</th>\n",
       "      <td>rosael</td>\n",
       "      <td>1</td>\n",
       "    </tr>\n",
       "    <tr>\n",
       "      <th>30281</th>\n",
       "      <td>aprobada</td>\n",
       "      <td>1</td>\n",
       "    </tr>\n",
       "    <tr>\n",
       "      <th>30282</th>\n",
       "      <td>leonora</td>\n",
       "      <td>1</td>\n",
       "    </tr>\n",
       "    <tr>\n",
       "      <th>30283</th>\n",
       "      <td>sechura</td>\n",
       "      <td>1</td>\n",
       "    </tr>\n",
       "  </tbody>\n",
       "</table>\n",
       "</div>"
      ],
      "text/plain": [
       "         Palabra  Frecuencia\n",
       "30279  furgonque           1\n",
       "30280     rosael           1\n",
       "30281   aprobada           1\n",
       "30282    leonora           1\n",
       "30283    sechura           1"
      ]
     },
     "execution_count": 12,
     "metadata": {},
     "output_type": "execute_result"
    }
   ],
   "source": [
    "dfreq.tail()"
   ]
  },
  {
   "cell_type": "code",
   "execution_count": 13,
   "metadata": {},
   "outputs": [
    {
     "name": "stdout",
     "output_type": "stream",
     "text": [
      "0.3345823287963867\n"
     ]
    }
   ],
   "source": [
    "t1 = time()\n",
    "voc_freq = [*dfreq[dfreq['Frecuencia']>=10]['Frecuencia']]\n",
    "vocabulary = [*dfreq[dfreq['Frecuencia']>=10]['Palabra']]\n",
    "\n",
    "newcorpus = corpus\n",
    "for i, doc in enumerate(corpus):\n",
    "    for j, word in enumerate(doc):\n",
    "        if freq_per_words[word]<10:  \n",
    "            newcorpus[i][j]=''\n",
    "    newcorpus[i] = [elem for elem in newcorpus[i] if elem.strip()]   \n",
    "    \n",
    "t2= time()\n",
    "print(t2-t1)"
   ]
  },
  {
   "cell_type": "code",
   "execution_count": 14,
   "metadata": {},
   "outputs": [
    {
     "name": "stdout",
     "output_type": "stream",
     "text": [
      "0.13460326194763184\n"
     ]
    }
   ],
   "source": [
    "#Frecuencia de cada palabra que sobrevivio al postprocesamiento\n",
    "\n",
    "t1=time()\n",
    "\n",
    "\n",
    "words = [word for doc in newcorpus for word in doc]\n",
    "freq_per_words = Counter(words)\n",
    "\n",
    "dfreq = pd.DataFrame()\n",
    "dfreq['Palabra'] = freq_per_words .keys()\n",
    "dfreq['Frecuencia'] = freq_per_words .values()\n",
    "\n",
    "t2=time()\n",
    "print(t2-t1)"
   ]
  },
  {
   "cell_type": "code",
   "execution_count": 15,
   "metadata": {},
   "outputs": [
    {
     "data": {
      "text/html": [
       "<div>\n",
       "<style scoped>\n",
       "    .dataframe tbody tr th:only-of-type {\n",
       "        vertical-align: middle;\n",
       "    }\n",
       "\n",
       "    .dataframe tbody tr th {\n",
       "        vertical-align: top;\n",
       "    }\n",
       "\n",
       "    .dataframe thead th {\n",
       "        text-align: right;\n",
       "    }\n",
       "</style>\n",
       "<table border=\"1\" class=\"dataframe\">\n",
       "  <thead>\n",
       "    <tr style=\"text-align: right;\">\n",
       "      <th></th>\n",
       "      <th>Palabra</th>\n",
       "      <th>Frecuencia</th>\n",
       "    </tr>\n",
       "  </thead>\n",
       "  <tbody>\n",
       "    <tr>\n",
       "      <th>5085</th>\n",
       "      <td>piquetes</td>\n",
       "      <td>10</td>\n",
       "    </tr>\n",
       "    <tr>\n",
       "      <th>1649</th>\n",
       "      <td>unos</td>\n",
       "      <td>10</td>\n",
       "    </tr>\n",
       "    <tr>\n",
       "      <th>4483</th>\n",
       "      <td>acción</td>\n",
       "      <td>10</td>\n",
       "    </tr>\n",
       "    <tr>\n",
       "      <th>3818</th>\n",
       "      <td>acorralan</td>\n",
       "      <td>10</td>\n",
       "    </tr>\n",
       "    <tr>\n",
       "      <th>2221</th>\n",
       "      <td>mochilas</td>\n",
       "      <td>10</td>\n",
       "    </tr>\n",
       "  </tbody>\n",
       "</table>\n",
       "</div>"
      ],
      "text/plain": [
       "        Palabra  Frecuencia\n",
       "5085   piquetes          10\n",
       "1649       unos          10\n",
       "4483     acción          10\n",
       "3818  acorralan          10\n",
       "2221   mochilas          10"
      ]
     },
     "execution_count": 15,
     "metadata": {},
     "output_type": "execute_result"
    }
   ],
   "source": [
    "dfreq.sort_values('Frecuencia', ascending=False).tail()"
   ]
  },
  {
   "cell_type": "code",
   "execution_count": 16,
   "metadata": {},
   "outputs": [
    {
     "name": "stdout",
     "output_type": "stream",
     "text": [
      "Tamaño del vocabulario:  5431\n"
     ]
    }
   ],
   "source": [
    "print('Tamaño del vocabulario: ', len(dfreq))"
   ]
  },
  {
   "cell_type": "code",
   "execution_count": 17,
   "metadata": {},
   "outputs": [],
   "source": [
    "df0['year'] = df0.apply(lambda x: date_year(x['sin_fecha_siniestro']), axis=1)\n",
    "df0['month'] = df0.apply(lambda x: date_month(x['sin_fecha_siniestro']), axis=1)\n",
    "\n",
    "\n",
    "#Nuevo dataframe con los relatos procesados y por año\n",
    "df = pd.DataFrame({'corpus':newcorpus, 'slice':df0['month'].tolist(), 'year':df0['year'].tolist()})\n",
    "df = df[(df['year']>=2011) & (df['year']<=2016)]\n",
    "df.sort_values(['year', 'slice'], ascending=True, inplace=True)\n",
    "df.reset_index(inplace=True)"
   ]
  },
  {
   "cell_type": "code",
   "execution_count": 4,
   "metadata": {},
   "outputs": [],
   "source": [
    "#Importar relatos procesados\n",
    "df0 = pd.read_excel('robos_prose_clean_2.0.xlsx')\n",
    "df0.head()\n",
    "\n",
    "#Frecuencia de cada palabra que sobrevivio al preprocesamiento\n",
    "a=[]\n",
    "for i in range(len(df0['sin_relato_clean'])):\n",
    "    a.append(ast.literal_eval(df0['sin_relato_clean'][i]))\n",
    "b=[y for x in a for y in x]\n",
    "c=Counter(b)\n",
    "dfreq = pd.DataFrame()\n",
    "dfreq['Palabra'] = c.keys()\n",
    "dfreq['Frecuencia'] = c.values()\n",
    "\n",
    "\n",
    "def date_year(fecha):\n",
    "    y=int(re.split('\\W+', fecha)[2])\n",
    "    return y\n",
    "\n",
    "def date_month(fecha):\n",
    "    m = int(re.split('\\W+', fecha)[1])\n",
    "    return m\n",
    "\n",
    "df0['year'] = df0.apply(lambda x: date_year(x['sin_fecha_siniestro']), axis=1)\n",
    "df0['month'] = df0.apply(lambda x: date_month(x['sin_fecha_siniestro']), axis=1)\n",
    "\n",
    "# Lista de listas con los relatos procesados\n",
    "clean=[]\n",
    "for i in range(len(df0['sin_relato_clean'])):\n",
    "    clean.append(ast.literal_eval(df0['sin_relato_clean'][i]))\n",
    "b=[y for x in clean for y in x]\n",
    "c=Counter(b)\n",
    "\n",
    "# Eliminar las palabras con frecuencia de aparición menor a 10\n",
    "for i, list in enumerate(clean):\n",
    "    for j, word in enumerate(list):\n",
    "        if c[word]<10:  \n",
    "            clean[i][j]=''\n",
    "    clean[i] = [elem for elem in clean[i] if elem.strip()] \n",
    "\n",
    "#Nuevo dataframe con los relatos procesados y por año\n",
    "df = pd.DataFrame({'clean':clean, 'slice':df0['month'].tolist(), 'year':df0['year'].tolist()})\n",
    "df = df[(df['year']>=2011) & (df['year']<=2016)]\n",
    "df.sort_values(['year', 'slice'], ascending=True, inplace=True)\n",
    "df.reset_index(inplace=True)\n",
    "\n"
   ]
  },
  {
   "cell_type": "code",
   "execution_count": null,
   "metadata": {},
   "outputs": [],
   "source": [
    "# Cantidad de relatos por mes\n",
    "time_slices = df.groupby(['year','slice']).count()['index'].tolist()\n",
    "\n",
    "   \n",
    "\n",
    "#Creamos el diccionario a partir de los textos procesados en el formato que necesita el modelo\n",
    "dictionary = gensim.corpora.Dictionary([*df['corpus']])\n",
    "dictionary.save('dictionary.dict')\n",
    "\n",
    "#creamos el corpus para darle al modelo (segun el formato de esta libreria)\n",
    "#El corpus contiene una representacion numerica de los textos, un texto es representada por una lista de tuplas\n",
    "#donde el primer elemento de la tupla es la id de la palabra y el segundo es su frecuencia de aparición en el texto.\n",
    "corpus = [dictionary.doc2bow(text) for text in [*df['corpus']]]\n",
    "gensim.corpora.MmCorpus.serialize('corpora.mm', corpus)"
   ]
  },
  {
   "cell_type": "code",
   "execution_count": 5,
   "metadata": {},
   "outputs": [],
   "source": [
    "# Cantidad de relatos  por mes\n",
    "time_slices = df.groupby(['year','slice']).count()['index'].tolist()\n",
    "\n",
    "#Relatos procesados\n",
    "newclean = []\n",
    "\n",
    "for i in range(len(df)):dd\n",
    "    newclean.append(df['clean'][i])\n",
    "\n",
    "    \n",
    "dictionary = gensim.corpora.Dictionary(newclean)\n",
    "\n",
    "#guardamos nuestro diccionario a partir de los textos procesados\n",
    "dictionary.save('dictionary.dict')\n",
    "\n",
    "#creamos el corpus para darle al modelo (segun el formato de esta libreria)\n",
    "#El corpus contiene una representacion numerica de los textos, un texto es representada por una lista de tuplas\n",
    "#donde el primer elemento de la tupla es la id de la palabra y el segundo es su frecuencia de aparición en el texto.\n",
    "corpus = [dictionary.doc2bow(text) for text in newclean]\n",
    "\n",
    "gensim.corpora.MmCorpus.serialize('corpora.mm',corpus)"
   ]
  },
  {
   "cell_type": "markdown",
   "metadata": {},
   "source": [
    "## DTM MODEL\n",
    "\n",
    "Entrenar DTM para K=2,...,10, luego guardar los modelos."
   ]
  },
  {
   "cell_type": "code",
   "execution_count": 29,
   "metadata": {},
   "outputs": [
    {
     "name": "stdout",
     "output_type": "stream",
     "text": [
      "1519.8437383174896\n",
      "2132.442759037018\n",
      "2452.542304992676\n",
      "2648.8207592964172\n",
      "2943.4718515872955\n",
      "3064.9098930358887\n",
      "3232.069714784622\n",
      "3366.5122475624084\n",
      "3594.083586215973\n"
     ]
    }
   ],
   "source": [
    "K= [2, 3, 4, 5, 6, 7, 8, 9, 10]\n",
    "for k in K:\n",
    "    ti = time()\n",
    "    model = DtmModel('dtm-win64.exe', corpus = corpus, time_slices=time_slices, num_topics=k, id2word=dictionary)\n",
    "    model.save('dtm_{k}.model'.format(k=k))\n",
    "    tf = time()\n",
    "    print(tf-ti)"
   ]
  },
  {
   "cell_type": "markdown",
   "metadata": {},
   "source": [
    "## LDA SEQMODEL\n",
    "\n",
    "Entrnar LDA Seqmodel para K=2,..., 10"
   ]
  },
  {
   "cell_type": "code",
   "execution_count": null,
   "metadata": {},
   "outputs": [],
   "source": [
    "K= [2, 3, 4, 5, 6, 7, 8, 9, 10]\n",
    "for k in K:\n",
    "    ti = time()\n",
    "    model = LdaSeqModel(corpus=corpus, id2word=dictionary, time_slice= time_slices, num_topics=k)\n",
    "    model.save('ldaseq_{k}.model'.format(k=k))\n",
    "    tf = time()\n",
    "    print(tf-ti)"
   ]
  },
  {
   "cell_type": "code",
   "execution_count": null,
   "metadata": {},
   "outputs": [],
   "source": []
  },
  {
   "cell_type": "code",
   "execution_count": null,
   "metadata": {},
   "outputs": [],
   "source": [
    "import matplotlib.pyplot as plt"
   ]
  },
  {
   "cell_type": "code",
   "execution_count": 22,
   "metadata": {},
   "outputs": [
    {
     "data": {
      "text/plain": [
       "Text(0,0.5,'Tiempo de entrenamiento en minutos')"
      ]
     },
     "execution_count": 22,
     "metadata": {},
     "output_type": "execute_result"
    },
    {
     "data": {
      "image/png": "[encoded data removed]",
      "text/plain": [
       "<Figure size 432x288 with 1 Axes>"
      ]
     },
     "metadata": {},
     "output_type": "display_data"
    }
   ],
   "source": [
    "plt.plot(K, A)\n",
    "plt.xlabel('Número de tópicos')\n",
    "plt.ylabel('Tiempo de entrenamiento en minutos')"
   ]
  },
  {
   "cell_type": "code",
   "execution_count": 2,
   "metadata": {},
   "outputs": [],
   "source": [
    "T = np.array([1519.8437383174896,\n",
    "2132.442759037018,\n",
    "2452.542304992676,\n",
    "2648.8207592964172,\n",
    "2943.4718515872955,\n",
    "3064.9098930358887,\n",
    "3232.069714784622,\n",
    "3366.5122475624084,\n",
    "3594.083586215973])"
   ]
  },
  {
   "cell_type": "code",
   "execution_count": 5,
   "metadata": {},
   "outputs": [
    {
     "data": {
      "text/plain": [
       "6.93"
      ]
     },
     "execution_count": 5,
     "metadata": {},
     "output_type": "execute_result"
    }
   ],
   "source": [
    "round(T.sum()/3600, 2)"
   ]
  },
  {
   "cell_type": "code",
   "execution_count": 10,
   "metadata": {},
   "outputs": [
    {
     "data": {
      "text/plain": [
       "39.68"
      ]
     },
     "execution_count": 10,
     "metadata": {},
     "output_type": "execute_result"
    }
   ],
   "source": [
    "T2 = np.array([5526.3293080329895 ,9693.16493177414 ,11059.873045444489 ,\n",
    "      11139.863332509995 ,12134.50763297081 ,13129.38265967369 ,20432.799810171127 ,34392.94210577011, 25340.015551805496])\n",
    "\n",
    "round(T2.sum()/3600, 2)\n"
   ]
  }
 ],
 "metadata": {
  "kernelspec": {
   "display_name": "Python 3",
   "language": "python",
   "name": "python3"
  },
  "language_info": {
   "codemirror_mode": {
    "name": "ipython",
    "version": 3
   },
   "file_extension": ".py",
   "mimetype": "text/x-python",
   "name": "python",
   "nbconvert_exporter": "python",
   "pygments_lexer": "ipython3",
   "version": "3.6.5"
  },
  "latex_envs": {
   "LaTeX_envs_menu_present": true,
   "autoclose": false,
   "autocomplete": true,
   "bibliofile": "biblio.bib",
   "cite_by": "apalike",
   "current_citInitial": 1,
   "eqLabelWithNumbers": true,
   "eqNumInitial": 1,
   "hotkeys": {
    "equation": "Ctrl-E",
    "itemize": "Ctrl-I"
   },
   "labels_anchors": false,
   "latex_user_defs": false,
   "report_style_numbering": false,
   "user_envs_cfg": false
  }
 },
 "nbformat": 4,
 "nbformat_minor": 2
}
