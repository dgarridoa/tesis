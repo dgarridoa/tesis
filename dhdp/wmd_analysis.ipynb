{
 "cells": [
  {
   "cell_type": "code",
   "execution_count": 1,
   "metadata": {},
   "outputs": [
    {
     "name": "stderr",
     "output_type": "stream",
     "text": [
      "/home/dgarrido/anaconda3/lib/python3.7/site-packages/statsmodels/tools/_testing.py:19: FutureWarning: pandas.util.testing is deprecated. Use the functions in the public API at pandas.testing instead.\n",
      "  import pandas.util.testing as tm\n"
     ]
    }
   ],
   "source": [
    "import os\n",
    "import json\n",
    "import numpy as np\n",
    "import pandas as pd\n",
    "import matplotlib.pyplot as plt\n",
    "import seaborn as sns\n",
    "import re\n",
    "from dotenv import load_dotenv\n",
    "from time import time\n",
    "from wmd import wmd\n",
    "from pyemd import emd\n",
    "from gensim.corpora import Dictionary\n",
    "from gensim.corpora.bleicorpus import BleiCorpus\n",
    "from gensim.models.fasttext import load_facebook_vectors\n",
    "sns.set()"
   ]
  },
  {
   "cell_type": "code",
   "execution_count": 2,
   "metadata": {},
   "outputs": [
    {
     "data": {
      "text/plain": [
       "True"
      ]
     },
     "execution_count": 2,
     "metadata": {},
     "output_type": "execute_result"
    }
   ],
   "source": [
    "# load environment variables\n",
    "load_dotenv()"
   ]
  },
  {
   "cell_type": "markdown",
   "metadata": {},
   "source": [
    "# 1. Load Data"
   ]
  },
  {
   "cell_type": "code",
   "execution_count": 3,
   "metadata": {},
   "outputs": [],
   "source": [
    "corpus_dir = f'{os.getenv(\"CORPUS\")}{os.getenv(\"SLICE_TYPE\")}'\n",
    "corpus_files = sorted([file for file in os.listdir(corpus_dir) if bool(re.match(\"corpus_\\d*.mm$\", file))])\n",
    "dict_files = sorted([file for file in os.listdir(corpus_dir) if \".dict\" in file])\n",
    "models_path = f'{os.getenv(\"RESULTS\")}hdp/{os.getenv(\"SLICE_TYPE\")}'\n",
    "models_dir = sorted(os.listdir(models_path))\n",
    "\n",
    "slices = range(1, len(models_dir)+1)\n",
    "data = {}\n",
    "for slice in slices:\n",
    "    # load dictionary {word->id}\n",
    "    dict_path = f'{corpus_dir}/{dict_files[slice-1]}'\n",
    "    token2id = Dictionary.load(dict_path).token2id\n",
    "\n",
    "    # get term probability\n",
    "    corpus_path = f'{corpus_dir}/{corpus_files[slice-1]}'\n",
    "    corpus = BleiCorpus(corpus_path)\n",
    "    term_frequency = np.zeros(len(token2id))\n",
    "    for doc in corpus:\n",
    "        for (id_word, freq) in doc:\n",
    "            term_frequency[id_word]+=freq\n",
    "    term_probability = term_frequency/term_frequency.sum()\n",
    "    \n",
    "    # load topics distributions\n",
    "    topics_path = f'{models_path}/{models_dir[slice-1]}/mode-topics.dat'\n",
    "    with open(topics_path, \"r\") as f:\n",
    "        topics = np.array([[int(word) for word in line.strip().split()] for line in f])\n",
    "    topics_dists = (topics.T/topics.sum(axis=1)).T\n",
    "\n",
    "    # save data in a dict\n",
    "    data[slice] = {\"token2id\": token2id, \"topics_dists\": topics_dists, \"term_probability\": term_probability}"
   ]
  },
  {
   "cell_type": "markdown",
   "metadata": {},
   "source": [
    "# 2. Topic distributions"
   ]
  },
  {
   "cell_type": "code",
   "execution_count": 4,
   "metadata": {},
   "outputs": [],
   "source": [
    "def get_quantile(array, q):\n",
    "    \"\"\"\n",
    "    Get number of elements that represent the 100q% of cumulative distribution of an array.\n",
    "    \"\"\"\n",
    "    #cumulative distribution\n",
    "    serie = pd.Series(array)\n",
    "    serie_sorted = serie.sort_values(ascending=False)\n",
    "    indexs = range(1, len(serie_sorted)+1)\n",
    "    cum_dist = []\n",
    "\n",
    "    cum = 0\n",
    "    for value in serie_sorted:\n",
    "        cum += value\n",
    "        cum_dist.append(cum)\n",
    "\n",
    "    cum_dist = pd.Series(cum_dist)\n",
    "    \n",
    "    #get quantile \n",
    "    cut = cum_dist.max()*q\n",
    "    tail = np.array(cum_dist[cum_dist<=cut])\n",
    "    if len(tail)>=1:\n",
    "        quantile = np.argmax(tail)+1\n",
    "    else:\n",
    "        quantile = 1\n",
    "    \n",
    "    return quantile\n",
    "\n",
    "\n",
    "def get_mean_cum_dist(data, alpha=1):\n",
    "    \"\"\"\n",
    "    Get %vocab used to satisfy certain level of cum dist\n",
    "    \"\"\"\n",
    "    quantiles=np.arange(0.01,1+0.01, 0.01)\n",
    "    slices = list(data.keys())\n",
    "    vocab_cum_dist = []\n",
    "    for slice in slices:\n",
    "        topics = data[slice][\"topics_dists\"]\n",
    "        term_probability = data[slice][\"term_probability\"]\n",
    "        K, V = topics.shape\n",
    "        for k in range(K):\n",
    "            topic_weights = relevance(topics[k], term_probability, alpha)\n",
    "            cum_dist = np.array([get_quantile(topic_weights, q) for q in  quantiles])/V\n",
    "            vocab_cum_dist.append(cum_dist)\n",
    "    vocab_cum_dist = np.array(vocab_cum_dist).mean(axis=0)\n",
    "    \n",
    "    return vocab_cum_dist\n",
    "\n",
    "def cum_dist_plot(cum_dist, figsize=(9,6)):\n",
    "    quantiles=np.arange(0.01,1+0.01, 0.01)\n",
    "    q_indexs = [0.6, 0.8, 0.9, 0.95, 0.99]\n",
    "    labels = [f\"q{int(100*q)}\" for q in q_indexs] \n",
    "    q_values = [cum_dist[int(100*q)-1] for q in q_indexs]\n",
    "    \n",
    "    #plot cdf\n",
    "    fig, ax = plt.subplots(figsize=figsize)        \n",
    "    ax.plot(cum_dist,  quantiles)\n",
    "\n",
    "    #plot quantiles\n",
    "    ax.scatter(q_values, q_indexs)\n",
    "    for i, label in enumerate(labels):\n",
    "        ax.annotate(label, (q_values[i], q_indexs[i]))    \n",
    "    return ax"
   ]
  },
  {
   "cell_type": "code",
   "execution_count": 19,
   "metadata": {},
   "outputs": [
    {
     "data": {
      "text/plain": [
       "Text(0, 0.5, 'Acumulado del tópico')"
      ]
     },
     "execution_count": 19,
     "metadata": {},
     "output_type": "execute_result"
    },
    {
     "data": {
      "image/png": "[encoded data removed]",
      "text/plain": [
       "<Figure size 648x432 with 1 Axes>"
      ]
     },
     "metadata": {
      "needs_background": "light"
     },
     "output_type": "display_data"
    }
   ],
   "source": [
    "topics_cum_dist = get_mean_cum_dist(data)\n",
    "ax = cum_dist_plot(topics_cum_dist)\n",
    "ax.set_xlabel(\"Acumulado del vocabulario\")\n",
    "ax.set_ylabel(\"Acumulado del tópico\")"
   ]
  },
  {
   "cell_type": "code",
   "execution_count": 20,
   "metadata": {},
   "outputs": [],
   "source": [
    "q95_list = []\n",
    "for slice in slices:\n",
    "    topics = data[slice][\"topics_dists\"]\n",
    "    topics.shape\n",
    "    for i, topic in enumerate(topics):\n",
    "        q95 = get_quantile(topic, 0.95)\n",
    "        q95_list.append({\"slice\":slice, \"topic\":i, \"vocabulary_size\": len(topic),\n",
    "                         \"%q95\":round(100*q95/len(topic),2)})"
   ]
  },
  {
   "cell_type": "code",
   "execution_count": 23,
   "metadata": {},
   "outputs": [
    {
     "data": {
      "text/html": [
       "<div>\n",
       "<style scoped>\n",
       "    .dataframe tbody tr th:only-of-type {\n",
       "        vertical-align: middle;\n",
       "    }\n",
       "\n",
       "    .dataframe tbody tr th {\n",
       "        vertical-align: top;\n",
       "    }\n",
       "\n",
       "    .dataframe thead th {\n",
       "        text-align: right;\n",
       "    }\n",
       "</style>\n",
       "<table border=\"1\" class=\"dataframe\">\n",
       "  <thead>\n",
       "    <tr style=\"text-align: right;\">\n",
       "      <th></th>\n",
       "      <th>slice</th>\n",
       "      <th>topic</th>\n",
       "      <th>vocabulary_size</th>\n",
       "      <th>%q95</th>\n",
       "    </tr>\n",
       "  </thead>\n",
       "  <tbody>\n",
       "    <tr>\n",
       "      <th>0</th>\n",
       "      <td>1</td>\n",
       "      <td>0</td>\n",
       "      <td>1919</td>\n",
       "      <td>33.98</td>\n",
       "    </tr>\n",
       "    <tr>\n",
       "      <th>1</th>\n",
       "      <td>1</td>\n",
       "      <td>1</td>\n",
       "      <td>1919</td>\n",
       "      <td>25.27</td>\n",
       "    </tr>\n",
       "    <tr>\n",
       "      <th>2</th>\n",
       "      <td>1</td>\n",
       "      <td>2</td>\n",
       "      <td>1919</td>\n",
       "      <td>35.23</td>\n",
       "    </tr>\n",
       "    <tr>\n",
       "      <th>3</th>\n",
       "      <td>1</td>\n",
       "      <td>3</td>\n",
       "      <td>1919</td>\n",
       "      <td>32.73</td>\n",
       "    </tr>\n",
       "    <tr>\n",
       "      <th>4</th>\n",
       "      <td>1</td>\n",
       "      <td>4</td>\n",
       "      <td>1919</td>\n",
       "      <td>27.25</td>\n",
       "    </tr>\n",
       "  </tbody>\n",
       "</table>\n",
       "</div>"
      ],
      "text/plain": [
       "   slice  topic  vocabulary_size   %q95\n",
       "0      1      0             1919  33.98\n",
       "1      1      1             1919  25.27\n",
       "2      1      2             1919  35.23\n",
       "3      1      3             1919  32.73\n",
       "4      1      4             1919  27.25"
      ]
     },
     "execution_count": 23,
     "metadata": {},
     "output_type": "execute_result"
    }
   ],
   "source": [
    "df_q95 = pd.DataFrame(q95_list)\n",
    "df_q95.head()"
   ]
  },
  {
   "cell_type": "code",
   "execution_count": 24,
   "metadata": {},
   "outputs": [
    {
     "data": {
      "text/html": [
       "<div>\n",
       "<style scoped>\n",
       "    .dataframe tbody tr th:only-of-type {\n",
       "        vertical-align: middle;\n",
       "    }\n",
       "\n",
       "    .dataframe tbody tr th {\n",
       "        vertical-align: top;\n",
       "    }\n",
       "\n",
       "    .dataframe thead tr th {\n",
       "        text-align: left;\n",
       "    }\n",
       "\n",
       "    .dataframe thead tr:last-of-type th {\n",
       "        text-align: right;\n",
       "    }\n",
       "</style>\n",
       "<table border=\"1\" class=\"dataframe\">\n",
       "  <thead>\n",
       "    <tr>\n",
       "      <th></th>\n",
       "      <th colspan=\"8\" halign=\"left\">vocabulary_size</th>\n",
       "      <th colspan=\"8\" halign=\"left\">%q95</th>\n",
       "    </tr>\n",
       "    <tr>\n",
       "      <th></th>\n",
       "      <th>count</th>\n",
       "      <th>mean</th>\n",
       "      <th>std</th>\n",
       "      <th>min</th>\n",
       "      <th>25%</th>\n",
       "      <th>50%</th>\n",
       "      <th>75%</th>\n",
       "      <th>max</th>\n",
       "      <th>count</th>\n",
       "      <th>mean</th>\n",
       "      <th>std</th>\n",
       "      <th>min</th>\n",
       "      <th>25%</th>\n",
       "      <th>50%</th>\n",
       "      <th>75%</th>\n",
       "      <th>max</th>\n",
       "    </tr>\n",
       "    <tr>\n",
       "      <th>slice</th>\n",
       "      <th></th>\n",
       "      <th></th>\n",
       "      <th></th>\n",
       "      <th></th>\n",
       "      <th></th>\n",
       "      <th></th>\n",
       "      <th></th>\n",
       "      <th></th>\n",
       "      <th></th>\n",
       "      <th></th>\n",
       "      <th></th>\n",
       "      <th></th>\n",
       "      <th></th>\n",
       "      <th></th>\n",
       "      <th></th>\n",
       "      <th></th>\n",
       "    </tr>\n",
       "  </thead>\n",
       "  <tbody>\n",
       "    <tr>\n",
       "      <th>1</th>\n",
       "      <td>8.0</td>\n",
       "      <td>1919.0</td>\n",
       "      <td>0.0</td>\n",
       "      <td>1919.0</td>\n",
       "      <td>1919.0</td>\n",
       "      <td>1919.0</td>\n",
       "      <td>1919.0</td>\n",
       "      <td>1919.0</td>\n",
       "      <td>8.0</td>\n",
       "      <td>24.272500</td>\n",
       "      <td>11.862198</td>\n",
       "      <td>0.89</td>\n",
       "      <td>22.0800</td>\n",
       "      <td>26.785</td>\n",
       "      <td>33.0425</td>\n",
       "      <td>35.23</td>\n",
       "    </tr>\n",
       "    <tr>\n",
       "      <th>2</th>\n",
       "      <td>10.0</td>\n",
       "      <td>1986.0</td>\n",
       "      <td>0.0</td>\n",
       "      <td>1986.0</td>\n",
       "      <td>1986.0</td>\n",
       "      <td>1986.0</td>\n",
       "      <td>1986.0</td>\n",
       "      <td>1986.0</td>\n",
       "      <td>10.0</td>\n",
       "      <td>17.533000</td>\n",
       "      <td>15.477216</td>\n",
       "      <td>0.05</td>\n",
       "      <td>0.6275</td>\n",
       "      <td>21.250</td>\n",
       "      <td>30.8800</td>\n",
       "      <td>36.61</td>\n",
       "    </tr>\n",
       "    <tr>\n",
       "      <th>3</th>\n",
       "      <td>9.0</td>\n",
       "      <td>2092.0</td>\n",
       "      <td>0.0</td>\n",
       "      <td>2092.0</td>\n",
       "      <td>2092.0</td>\n",
       "      <td>2092.0</td>\n",
       "      <td>2092.0</td>\n",
       "      <td>2092.0</td>\n",
       "      <td>9.0</td>\n",
       "      <td>20.990000</td>\n",
       "      <td>13.801090</td>\n",
       "      <td>0.05</td>\n",
       "      <td>8.8900</td>\n",
       "      <td>28.440</td>\n",
       "      <td>30.3500</td>\n",
       "      <td>32.41</td>\n",
       "    </tr>\n",
       "    <tr>\n",
       "      <th>4</th>\n",
       "      <td>8.0</td>\n",
       "      <td>2414.0</td>\n",
       "      <td>0.0</td>\n",
       "      <td>2414.0</td>\n",
       "      <td>2414.0</td>\n",
       "      <td>2414.0</td>\n",
       "      <td>2414.0</td>\n",
       "      <td>2414.0</td>\n",
       "      <td>8.0</td>\n",
       "      <td>21.645000</td>\n",
       "      <td>14.996002</td>\n",
       "      <td>0.17</td>\n",
       "      <td>10.9775</td>\n",
       "      <td>26.285</td>\n",
       "      <td>34.0600</td>\n",
       "      <td>36.95</td>\n",
       "    </tr>\n",
       "    <tr>\n",
       "      <th>5</th>\n",
       "      <td>8.0</td>\n",
       "      <td>2629.0</td>\n",
       "      <td>0.0</td>\n",
       "      <td>2629.0</td>\n",
       "      <td>2629.0</td>\n",
       "      <td>2629.0</td>\n",
       "      <td>2629.0</td>\n",
       "      <td>2629.0</td>\n",
       "      <td>8.0</td>\n",
       "      <td>24.638750</td>\n",
       "      <td>10.850875</td>\n",
       "      <td>0.30</td>\n",
       "      <td>24.1725</td>\n",
       "      <td>26.970</td>\n",
       "      <td>29.7625</td>\n",
       "      <td>34.39</td>\n",
       "    </tr>\n",
       "    <tr>\n",
       "      <th>6</th>\n",
       "      <td>9.0</td>\n",
       "      <td>2666.0</td>\n",
       "      <td>0.0</td>\n",
       "      <td>2666.0</td>\n",
       "      <td>2666.0</td>\n",
       "      <td>2666.0</td>\n",
       "      <td>2666.0</td>\n",
       "      <td>2666.0</td>\n",
       "      <td>9.0</td>\n",
       "      <td>20.563333</td>\n",
       "      <td>12.935772</td>\n",
       "      <td>1.65</td>\n",
       "      <td>11.8900</td>\n",
       "      <td>24.570</td>\n",
       "      <td>30.9500</td>\n",
       "      <td>36.83</td>\n",
       "    </tr>\n",
       "  </tbody>\n",
       "</table>\n",
       "</div>"
      ],
      "text/plain": [
       "      vocabulary_size                                                       \\\n",
       "                count    mean  std     min     25%     50%     75%     max   \n",
       "slice                                                                        \n",
       "1                 8.0  1919.0  0.0  1919.0  1919.0  1919.0  1919.0  1919.0   \n",
       "2                10.0  1986.0  0.0  1986.0  1986.0  1986.0  1986.0  1986.0   \n",
       "3                 9.0  2092.0  0.0  2092.0  2092.0  2092.0  2092.0  2092.0   \n",
       "4                 8.0  2414.0  0.0  2414.0  2414.0  2414.0  2414.0  2414.0   \n",
       "5                 8.0  2629.0  0.0  2629.0  2629.0  2629.0  2629.0  2629.0   \n",
       "6                 9.0  2666.0  0.0  2666.0  2666.0  2666.0  2666.0  2666.0   \n",
       "\n",
       "       %q95                                                               \n",
       "      count       mean        std   min      25%     50%      75%    max  \n",
       "slice                                                                     \n",
       "1       8.0  24.272500  11.862198  0.89  22.0800  26.785  33.0425  35.23  \n",
       "2      10.0  17.533000  15.477216  0.05   0.6275  21.250  30.8800  36.61  \n",
       "3       9.0  20.990000  13.801090  0.05   8.8900  28.440  30.3500  32.41  \n",
       "4       8.0  21.645000  14.996002  0.17  10.9775  26.285  34.0600  36.95  \n",
       "5       8.0  24.638750  10.850875  0.30  24.1725  26.970  29.7625  34.39  \n",
       "6       9.0  20.563333  12.935772  1.65  11.8900  24.570  30.9500  36.83  "
      ]
     },
     "execution_count": 24,
     "metadata": {},
     "output_type": "execute_result"
    }
   ],
   "source": [
    "df_q95[[\"slice\", \"vocabulary_size\", \"%q95\"]].groupby(\"slice\").describe()"
   ]
  },
  {
   "cell_type": "code",
   "execution_count": 25,
   "metadata": {},
   "outputs": [
    {
     "data": {
      "text/plain": [
       "count    52.000000\n",
       "mean     21.418462\n",
       "std      13.068000\n",
       "min       0.050000\n",
       "25%      11.140000\n",
       "50%      26.560000\n",
       "75%      31.530000\n",
       "max      36.950000\n",
       "Name: %q95, dtype: float64"
      ]
     },
     "execution_count": 25,
     "metadata": {},
     "output_type": "execute_result"
    }
   ],
   "source": [
    "df_q95[\"%q95\"].describe()"
   ]
  },
  {
   "cell_type": "code",
   "execution_count": 26,
   "metadata": {},
   "outputs": [
    {
     "data": {
      "text/plain": [
       "0.60    28.3680\n",
       "0.70    30.7700\n",
       "0.80    32.6660\n",
       "0.90    34.3780\n",
       "0.95    35.8510\n",
       "0.99    36.8888\n",
       "Name: %q95, dtype: float64"
      ]
     },
     "execution_count": 26,
     "metadata": {},
     "output_type": "execute_result"
    }
   ],
   "source": [
    "df_q95[\"%q95\"].quantile([0.6, 0.7, 0.8, 0.9, 0.95, 0.99])"
   ]
  },
  {
   "cell_type": "markdown",
   "metadata": {},
   "source": [
    "Se tiene que en promedio con un 8.54% y 21.42% del vocabulario se puede capturar un 80% y 95% respectivamente de la distribución acumulada de los tópicos, además, para un 99% de los tópicos basta con un 37% del vocabulario para capturar el 95% de su distribución acumulada, por tanto, una representación incompleta de los tópicos usando las palabras más probables que capturan el 80% de la distribución acumulada trae consigo una disminución importante en el tamaño del vocabulario. "
   ]
  },
  {
   "cell_type": "markdown",
   "metadata": {},
   "source": [
    "## Using relevance"
   ]
  },
  {
   "cell_type": "code",
   "execution_count": 6,
   "metadata": {},
   "outputs": [
    {
     "name": "stderr",
     "output_type": "stream",
     "text": [
      "/home/dgarrido/anaconda3/lib/python3.7/site-packages/ipykernel_launcher.py:2: RuntimeWarning: divide by zero encountered in log\n",
      "  \n"
     ]
    },
    {
     "data": {
      "text/plain": [
       "Text(0, 0.5, 'Acumulado del tópico')"
      ]
     },
     "execution_count": 6,
     "metadata": {},
     "output_type": "execute_result"
    },
    {
     "data": {
      "image/png": "[encoded data removed]",
      "text/plain": [
       "<Figure size 648x432 with 1 Axes>"
      ]
     },
     "metadata": {
      "needs_background": "light"
     },
     "output_type": "display_data"
    }
   ],
   "source": [
    "topics_cum_dist = get_mean_cum_dist(data, alpha=0)\n",
    "ax = cum_dist_plot(topics_cum_dist)\n",
    "ax.set_xlabel(\"Acumulado del vocabulario\")\n",
    "ax.set_ylabel(\"Acumulado del tópico\")"
   ]
  },
  {
   "cell_type": "code",
   "execution_count": 7,
   "metadata": {},
   "outputs": [
    {
     "name": "stderr",
     "output_type": "stream",
     "text": [
      "/home/dgarrido/anaconda3/lib/python3.7/site-packages/ipykernel_launcher.py:2: RuntimeWarning: divide by zero encountered in log\n",
      "  \n"
     ]
    },
    {
     "data": {
      "text/plain": [
       "Text(0, 0.5, 'Acumulado del tópico')"
      ]
     },
     "execution_count": 7,
     "metadata": {},
     "output_type": "execute_result"
    },
    {
     "data": {
      "image/png": "[encoded data removed]",
      "text/plain": [
       "<Figure size 648x432 with 1 Axes>"
      ]
     },
     "metadata": {
      "needs_background": "light"
     },
     "output_type": "display_data"
    }
   ],
   "source": [
    "topics_cum_dist = get_mean_cum_dist(data, alpha=0.6)\n",
    "ax = cum_dist_plot(topics_cum_dist)\n",
    "ax.set_xlabel(\"Acumulado del vocabulario\")\n",
    "ax.set_ylabel(\"Acumulado del tópico\")"
   ]
  },
  {
   "cell_type": "code",
   "execution_count": 8,
   "metadata": {},
   "outputs": [
    {
     "name": "stderr",
     "output_type": "stream",
     "text": [
      "/home/dgarrido/anaconda3/lib/python3.7/site-packages/ipykernel_launcher.py:2: RuntimeWarning: divide by zero encountered in log\n",
      "  \n",
      "/home/dgarrido/anaconda3/lib/python3.7/site-packages/ipykernel_launcher.py:3: RuntimeWarning: divide by zero encountered in true_divide\n",
      "  This is separate from the ipykernel package so we can avoid doing imports until\n",
      "/home/dgarrido/anaconda3/lib/python3.7/site-packages/ipykernel_launcher.py:4: RuntimeWarning: invalid value encountered in true_divide\n",
      "  after removing the cwd from sys.path.\n",
      "/home/dgarrido/anaconda3/lib/python3.7/site-packages/ipykernel_launcher.py:5: RuntimeWarning: invalid value encountered in less\n",
      "  \"\"\"\n"
     ]
    },
    {
     "data": {
      "text/plain": [
       "Text(0, 0.5, 'Acumulado del tópico')"
      ]
     },
     "execution_count": 8,
     "metadata": {},
     "output_type": "execute_result"
    },
    {
     "data": {
      "image/png": "[encoded data removed]",
      "text/plain": [
       "<Figure size 648x432 with 1 Axes>"
      ]
     },
     "metadata": {
      "needs_background": "light"
     },
     "output_type": "display_data"
    }
   ],
   "source": [
    "topics_cum_dist = get_mean_cum_dist(data, alpha=1)\n",
    "ax = cum_dist_plot(topics_cum_dist)\n",
    "ax.set_xlabel(\"Acumulado del vocabulario\")\n",
    "ax.set_ylabel(\"Acumulado del tópico\")"
   ]
  },
  {
   "cell_type": "markdown",
   "metadata": {},
   "source": [
    "# 3. Distances"
   ]
  },
  {
   "cell_type": "code",
   "execution_count": 9,
   "metadata": {},
   "outputs": [],
   "source": [
    "embeddings = load_facebook_vectors(os.getenv(\"EMBEDDINGS\"))"
   ]
  },
  {
   "cell_type": "code",
   "execution_count": 245,
   "metadata": {},
   "outputs": [],
   "source": [
    "token2id1 = data[1][\"token2id\"]\n",
    "token2id2 = data[2][\"token2id\"]\n",
    "topic1 = data[1][\"topics_dists\"][0]\n",
    "topic2 = data[2][\"topics_dists\"][0]"
   ]
  },
  {
   "cell_type": "code",
   "execution_count": 265,
   "metadata": {},
   "outputs": [
    {
     "name": "stderr",
     "output_type": "stream",
     "text": [
      "INFO:similarity-graph:'wmd'  161.61 [s]\n"
     ]
    },
    {
     "name": "stdout",
     "output_type": "stream",
     "text": [
      "CPU times: user 2min 42s, sys: 335 ms, total: 2min 42s\n",
      "Wall time: 2min 41s\n"
     ]
    },
    {
     "data": {
      "text/plain": [
       "2.9336220902293917"
      ]
     },
     "execution_count": 265,
     "metadata": {},
     "output_type": "execute_result"
    }
   ],
   "source": [
    "%time wmd(embeddings, token2id1, token2id2, topic1, topic2, q=None)"
   ]
  },
  {
   "cell_type": "code",
   "execution_count": 264,
   "metadata": {},
   "outputs": [
    {
     "name": "stderr",
     "output_type": "stream",
     "text": [
      "INFO:similarity-graph:'wmd'  39.22 [s]\n"
     ]
    },
    {
     "name": "stdout",
     "output_type": "stream",
     "text": [
      "CPU times: user 39.9 s, sys: 181 ms, total: 40.1 s\n",
      "Wall time: 39.2 s\n"
     ]
    },
    {
     "data": {
      "text/plain": [
       "2.866016659418769"
      ]
     },
     "execution_count": 264,
     "metadata": {},
     "output_type": "execute_result"
    }
   ],
   "source": [
    "%time wmd(embeddings, token2id1, token2id2, topic1, topic2, q=0.95)"
   ]
  },
  {
   "cell_type": "code",
   "execution_count": 263,
   "metadata": {},
   "outputs": [
    {
     "name": "stderr",
     "output_type": "stream",
     "text": [
      "INFO:similarity-graph:'wmd'  1.65 [s]\n"
     ]
    },
    {
     "name": "stdout",
     "output_type": "stream",
     "text": [
      "CPU times: user 2.19 s, sys: 75.7 ms, total: 2.27 s\n",
      "Wall time: 1.65 s\n"
     ]
    },
    {
     "data": {
      "text/plain": [
       "2.481585721953469"
      ]
     },
     "execution_count": 263,
     "metadata": {},
     "output_type": "execute_result"
    }
   ],
   "source": [
    "%time wmd(embeddings, token2id1, token2id2, topic1, topic2, q=0.8)"
   ]
  },
  {
   "cell_type": "markdown",
   "metadata": {},
   "source": [
    "# 4. Test EMD\n",
    "\n",
    "Testing if EMD normalize each histogram."
   ]
  },
  {
   "cell_type": "code",
   "execution_count": 27,
   "metadata": {},
   "outputs": [],
   "source": [
    "histogram1 = np.array([1, 5, 3]).astype(float)\n",
    "histogram2 = np.array([0.3, 0.2, 0.5]).astype(float)\n",
    "cost_matrix = np.array([[0, 1, 2], [1, 0, 1], [2, 1, 0]]).astype(float)"
   ]
  },
  {
   "cell_type": "code",
   "execution_count": 30,
   "metadata": {},
   "outputs": [
    {
     "data": {
      "text/plain": [
       "16.0"
      ]
     },
     "execution_count": 30,
     "metadata": {},
     "output_type": "execute_result"
    }
   ],
   "source": [
    "emd(histogram1, histogram2, cost_matrix)"
   ]
  },
  {
   "cell_type": "code",
   "execution_count": 31,
   "metadata": {},
   "outputs": [],
   "source": [
    "histogram1 = histogram1/histogram1.sum()"
   ]
  },
  {
   "cell_type": "code",
   "execution_count": 32,
   "metadata": {},
   "outputs": [
    {
     "data": {
      "text/plain": [
       "0.355556"
      ]
     },
     "execution_count": 32,
     "metadata": {},
     "output_type": "execute_result"
    }
   ],
   "source": [
    "emd(histogram1, histogram2, cost_matrix)"
   ]
  },
  {
   "cell_type": "markdown",
   "metadata": {},
   "source": [
    "Is necessary normalize the topics again when is used the cdf threshold."
   ]
  },
  {
   "cell_type": "markdown",
   "metadata": {},
   "source": [
    "# 5. WMD with relevance"
   ]
  },
  {
   "cell_type": "code",
   "execution_count": 143,
   "metadata": {},
   "outputs": [],
   "source": [
    "token2id1 = data[1][\"token2id\"]\n",
    "token2id2 = data[2][\"token2id\"]\n",
    "topic1 = data[1][\"topics_dists\"][0]\n",
    "topic2 = data[2][\"topics_dists\"][3]\n",
    "termp1 = data[1][\"term_probability\"]\n",
    "termp2 = data[2][\"term_probability\"]"
   ]
  },
  {
   "cell_type": "code",
   "execution_count": 152,
   "metadata": {},
   "outputs": [
    {
     "name": "stderr",
     "output_type": "stream",
     "text": [
      "/home/dgarrido/anaconda3/lib/python3.7/site-packages/ipykernel_launcher.py:15: RuntimeWarning: divide by zero encountered in log\n",
      "  from ipykernel import kernelapp as app\n",
      "/home/dgarrido/anaconda3/lib/python3.7/site-packages/ipykernel_launcher.py:15: RuntimeWarning: invalid value encountered in true_divide\n",
      "  from ipykernel import kernelapp as app\n"
     ]
    },
    {
     "data": {
      "text/plain": [
       "0.49981030841254026"
      ]
     },
     "execution_count": 152,
     "metadata": {},
     "output_type": "execute_result"
    }
   ],
   "source": [
    "d = wmd(embeddings, token2id1, token2id2, topic1, topic2, termp1, termp2, q=0.8, alpha=0.4)\n",
    "s = 1/(1+d)\n",
    "s"
   ]
  }
 ],
 "metadata": {
  "kernelspec": {
   "display_name": "Python 3",
   "language": "python",
   "name": "python3"
  },
  "language_info": {
   "codemirror_mode": {
    "name": "ipython",
    "version": 3
   },
   "file_extension": ".py",
   "mimetype": "text/x-python",
   "name": "python",
   "nbconvert_exporter": "python",
   "pygments_lexer": "ipython3",
   "version": "3.7.4"
  }
 },
 "nbformat": 4,
 "nbformat_minor": 2
}
