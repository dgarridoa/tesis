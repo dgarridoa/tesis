{
 "cells": [
  {
   "cell_type": "code",
   "execution_count": 2,
   "metadata": {},
   "outputs": [],
   "source": [
    "import os\n",
    "import numpy as np\n",
    "import pandas as pd\n",
    "import matplotlib.pyplot as plt\n",
    "import seaborn as sns\n",
    "from dotenv import load_dotenv\n",
    "from sklearn.feature_extraction.text import CountVectorizer\n",
    "from tokenizer import tokenizer\n",
    "from gensim.corpora import Dictionary\n",
    "from gensim.corpora.bleicorpus import BleiCorpus\n",
    "\n",
    "sns.set()"
   ]
  },
  {
   "cell_type": "code",
   "execution_count": 20,
   "metadata": {},
   "outputs": [],
   "source": [
    "def cum_dist_plot(array, quantiles = [0.6, 0.8, 0.9, 0.95, 0.99], figsize=(16,9)):\n",
    "    \"\"\"\n",
    "    cummulative distribution over series values\n",
    "    \"\"\"\n",
    "    # cum dist\n",
    "    serie = pd.Series(array)\n",
    "    serie_sorted = serie.sort_values(ascending=False)\n",
    "    indexs = range(1, len(serie_sorted)+1)\n",
    "    cum_dist = []\n",
    "\n",
    "    cum = 0\n",
    "    for value in serie_sorted:\n",
    "        cum += value\n",
    "        cum_dist.append(cum)\n",
    "\n",
    "    cum_dist = pd.Series(cum_dist)\n",
    "    \n",
    "    #quantiles\n",
    "    q_indexs = [] \n",
    "    q_cum = [] \n",
    "\n",
    "    labels = [f\"q{int(100*q)}\" for q in quantiles] \n",
    "    for q in quantiles:\n",
    "        cut = cum_dist.max()*q\n",
    "        slice = cum_dist[cum_dist<cut]\n",
    "        i, value = slice.index[-1], slice.values[-1]\n",
    "        q_indexs.append(i)\n",
    "        q_cum.append(value)\n",
    "\n",
    "    #plot cum dis\n",
    "    fig, ax = plt.subplots(figsize=figsize)        \n",
    "    ax.plot(indexs, cum_dist)\n",
    "\n",
    "    #plot quantiles\n",
    "    ax.scatter(q_indexs, q_cum)\n",
    "    for i, label in enumerate(labels):\n",
    "        ax.annotate(label, (q_indexs[i], q_cum[i]))    \n",
    "    return ax\n",
    "\n",
    "        \n",
    "def get_stats(array, quantiles = [0.1, 0.2, 0.25, 0.3, 0.4, 0.5, 0.6, 0.7, 0.75, 0.8, 0.9, 0.95, 0.99]):\n",
    "    \"\"\"\n",
    "    Return  statistis over the distribution of the serie\n",
    "    \"\"\"\n",
    "    serie = pd.Series(array)\n",
    "    stats = pd.DataFrame(serie.describe()).T\n",
    "    stats = stats[[\"count\", \"mean\", \"std\", \"min\"]]\n",
    "    for q in quantiles:\n",
    "        qq = serie.quantile(q)\n",
    "        col = f\"q{int(q*100)}\"\n",
    "        stats[col] = qq\n",
    "    stats[\"max\"] = serie.max()\n",
    "    return stats"
   ]
  },
  {
   "cell_type": "markdown",
   "metadata": {},
   "source": [
    "# 1. Loading Raw Data"
   ]
  },
  {
   "cell_type": "code",
   "execution_count": 4,
   "metadata": {},
   "outputs": [
    {
     "data": {
      "text/plain": [
       "True"
      ]
     },
     "execution_count": 4,
     "metadata": {},
     "output_type": "execute_result"
    }
   ],
   "source": [
    "# load environment variables\n",
    "load_dotenv()"
   ]
  },
  {
   "cell_type": "code",
   "execution_count": 5,
   "metadata": {},
   "outputs": [],
   "source": [
    "# load data\n",
    "df = pd.read_pickle(os.getenv(\"TARGET_DATA\"))"
   ]
  },
  {
   "cell_type": "code",
   "execution_count": 6,
   "metadata": {},
   "outputs": [
    {
     "name": "stdout",
     "output_type": "stream",
     "text": [
      "corpus: 49015\n",
      "vocabulary: 79327\n",
      "tokens: 2030980\n"
     ]
    }
   ],
   "source": [
    "tf_vectorizer = CountVectorizer(analyzer='word', tokenizer=lambda text: text.split())\n",
    "tf_vectorizer.fit(df[\"sin_relato\"])\n",
    "vocabulary1 = tf_vectorizer.get_feature_names()\n",
    "corpus1 = [doc.split() for doc in df[\"sin_relato\"]]\n",
    "\n",
    "voc_size1 = len(vocabulary1)\n",
    "corpus_size1 = sum([1 for doc in corpus1 if len(doc)>0])\n",
    "tokens_size1 = sum([len(doc) for doc in corpus1])\n",
    "\n",
    "print(f\"corpus: {corpus_size1}\")\n",
    "print(f\"vocabulary: {voc_size1}\")\n",
    "print(f\"tokens: {tokens_size1}\")"
   ]
  },
  {
   "cell_type": "code",
   "execution_count": 8,
   "metadata": {},
   "outputs": [
    {
     "name": "stdout",
     "output_type": "stream",
     "text": [
      "corpus: 49015\n",
      "vocabulary: 79327\n",
      "tokens: 2030980\n"
     ]
    }
   ],
   "source": [
    "tf_vectorizer = CountVectorizer(analyzer='word', tokenizer=lambda text: text.split())\n",
    "tf_vectorizer.fit(df[\"sin_relato\"])\n",
    "vocabulary1 = tf_vectorizer.get_feature_names()\n",
    "corpus1 = [doc.split() for doc in df[\"sin_relato\"]]\n",
    "\n",
    "voc_size1 = len(vocabulary1)\n",
    "corpus_size1 = sum([1 for doc in corpus1 if len(doc)>0])\n",
    "tokens_size1 = sum([len(doc) for doc in corpus1])\n",
    "\n",
    "print(f\"corpus: {corpus_size1}\")\n",
    "print(f\"vocabulary: {voc_size1}\")\n",
    "print(f\"tokens: {tokens_size1}\")"
   ]
  },
  {
   "cell_type": "markdown",
   "metadata": {},
   "source": [
    "# 2. First processing step\n",
    "\n",
    "To lowercase, elimination of symbols of punctuation, mails and tokens with numbers."
   ]
  },
  {
   "cell_type": "code",
   "execution_count": 21,
   "metadata": {},
   "outputs": [
    {
     "name": "stdout",
     "output_type": "stream",
     "text": [
      "corpus: 49011\n",
      "vocabulary: 46708\n",
      "tokens: 1947235\n"
     ]
    }
   ],
   "source": [
    "tf_vectorizer = CountVectorizer(analyzer='word', tokenizer=lambda text: tokenizer(text))\n",
    "tf_vectorizer.fit(df[\"sin_relato\"])\n",
    "vocabulary2 = tf_vectorizer.get_feature_names()\n",
    "frequency = tf_vectorizer.transform(df[\"sin_relato\"]).toarray().sum(axis=0)\n",
    "\n",
    "corpus2 = [tokenizer(doc) for doc in df[\"sin_relato\"]]\n",
    "\n",
    "voc_size2 = len(vocabulary2)\n",
    "corpus_size2 = sum([1 for doc in corpus2 if len(doc)>0])\n",
    "tokens_size2 = sum([len(doc) for doc in corpus2])\n",
    "\n",
    "print(f\"corpus: {corpus_size2 }\")\n",
    "print(f\"vocabulary: {voc_size2}\")\n",
    "print(f\"tokens: {tokens_size2}\")"
   ]
  },
  {
   "cell_type": "code",
   "execution_count": 22,
   "metadata": {},
   "outputs": [
    {
     "data": {
      "text/html": [
       "<div>\n",
       "<style scoped>\n",
       "    .dataframe tbody tr th:only-of-type {\n",
       "        vertical-align: middle;\n",
       "    }\n",
       "\n",
       "    .dataframe tbody tr th {\n",
       "        vertical-align: top;\n",
       "    }\n",
       "\n",
       "    .dataframe thead th {\n",
       "        text-align: right;\n",
       "    }\n",
       "</style>\n",
       "<table border=\"1\" class=\"dataframe\">\n",
       "  <thead>\n",
       "    <tr style=\"text-align: right;\">\n",
       "      <th></th>\n",
       "      <th>count</th>\n",
       "      <th>mean</th>\n",
       "      <th>std</th>\n",
       "      <th>min</th>\n",
       "      <th>q10</th>\n",
       "      <th>q20</th>\n",
       "      <th>q25</th>\n",
       "      <th>q30</th>\n",
       "      <th>q40</th>\n",
       "      <th>q50</th>\n",
       "      <th>q60</th>\n",
       "      <th>q70</th>\n",
       "      <th>q75</th>\n",
       "      <th>q80</th>\n",
       "      <th>q90</th>\n",
       "      <th>q95</th>\n",
       "      <th>q99</th>\n",
       "      <th>max</th>\n",
       "    </tr>\n",
       "  </thead>\n",
       "  <tbody>\n",
       "    <tr>\n",
       "      <th>0</th>\n",
       "      <td>46708.0</td>\n",
       "      <td>41.689689</td>\n",
       "      <td>956.464381</td>\n",
       "      <td>1.0</td>\n",
       "      <td>1.0</td>\n",
       "      <td>1.0</td>\n",
       "      <td>1.0</td>\n",
       "      <td>1.0</td>\n",
       "      <td>1.0</td>\n",
       "      <td>1.0</td>\n",
       "      <td>2.0</td>\n",
       "      <td>2.0</td>\n",
       "      <td>3.0</td>\n",
       "      <td>5.0</td>\n",
       "      <td>14.0</td>\n",
       "      <td>41.0</td>\n",
       "      <td>383.0</td>\n",
       "      <td>79877</td>\n",
       "    </tr>\n",
       "  </tbody>\n",
       "</table>\n",
       "</div>"
      ],
      "text/plain": [
       "     count       mean         std  min  q10  q20  q25  q30  q40  q50  q60  \\\n",
       "0  46708.0  41.689689  956.464381  1.0  1.0  1.0  1.0  1.0  1.0  1.0  2.0   \n",
       "\n",
       "   q70  q75  q80   q90   q95    q99    max  \n",
       "0  2.0  3.0  5.0  14.0  41.0  383.0  79877  "
      ]
     },
     "execution_count": 22,
     "metadata": {},
     "output_type": "execute_result"
    }
   ],
   "source": [
    "get_stats(frequency, quantiles = [0.1, 0.2, 0.25, 0.3, 0.4, 0.5, 0.6, 0.7, 0.75, 0.8, 0.9, 0.95, 0.99])"
   ]
  },
  {
   "cell_type": "code",
   "execution_count": 23,
   "metadata": {},
   "outputs": [
    {
     "data": {
      "text/plain": [
       "Text(0, 0.5, 'Frecuencia acumulada')"
      ]
     },
     "execution_count": 23,
     "metadata": {},
     "output_type": "execute_result"
    },
    {
     "data": {
      "image/png": "[encoded data removed]",
      "text/plain": [
       "<Figure size 648x432 with 1 Axes>"
      ]
     },
     "metadata": {},
     "output_type": "display_data"
    }
   ],
   "source": [
    "ax = cum_dist_plot(frequency, quantiles = [0.6, 0.8, 0.9, 0.95, 0.99], figsize=(9,6))\n",
    "ax.set_xlabel(\"Tokens\")\n",
    "ax.set_ylabel(\"Frecuencia acumulada\")"
   ]
  },
  {
   "cell_type": "markdown",
   "metadata": {},
   "source": [
    "The 50% of tokens happens one time and the 80% have a frequency lower or equal to 5. The 95% of the cummulative distribution can be explain with 4199 tokens (9%). In conclusion, the distribution of tokens have a long tail."
   ]
  },
  {
   "cell_type": "markdown",
   "metadata": {},
   "source": [
    "# 3. Full processing\n",
    "\n",
    "- stopwords elimination: nltk spanish stopwords + word from top 1000 more frequent from last output \n",
    "- lemmatization: spacy_spanish_lemmatizer\n",
    "- remove tokens with occurrence in less than 5 documents in a corpus slice (1 year)"
   ]
  },
  {
   "cell_type": "markdown",
   "metadata": {},
   "source": [
    "## Stopwords"
   ]
  },
  {
   "cell_type": "code",
   "execution_count": 24,
   "metadata": {},
   "outputs": [],
   "source": [
    "# load stopwords\n",
    "with open(os.getenv(\"STOPWORDS\"), \"r\") as f:\n",
    "    stopwords = [line.strip() for line in f]"
   ]
  },
  {
   "cell_type": "code",
   "execution_count": 25,
   "metadata": {},
   "outputs": [],
   "source": [
    "stopwords = pd.Series(stopwords)"
   ]
  },
  {
   "cell_type": "code",
   "execution_count": 42,
   "metadata": {},
   "outputs": [
    {
     "data": {
      "text/plain": [
       "571       roba\n",
       "587     robada\n",
       "464     robado\n",
       "269      roban\n",
       "705    robando\n",
       "233      robar\n",
       "396    robaron\n",
       "204       robo\n",
       "dtype: object"
      ]
     },
     "execution_count": 42,
     "metadata": {},
     "output_type": "execute_result"
    }
   ],
   "source": [
    "stopwords.sort_values().iloc[-203:-195]"
   ]
  },
  {
   "cell_type": "code",
   "execution_count": 44,
   "metadata": {},
   "outputs": [
    {
     "data": {
      "text/plain": [
       "235           va\n",
       "592          van\n",
       "246       varias\n",
       "110           ve\n",
       "564       vecino\n",
       "540          veh\n",
       "18       vehculo\n",
       "140     vehiculo\n",
       "470    vehiculos\n",
       "595     vehiuclo\n",
       "16      vehyculo\n",
       "640     vehículo\n",
       "71           veo\n",
       "73           ver\n",
       "723        verlo\n",
       "186     vespucio\n",
       "632          vez\n",
       "657           vh\n",
       "85           vhc\n",
       "236          vhe\n",
       "dtype: object"
      ]
     },
     "execution_count": 44,
     "metadata": {},
     "output_type": "execute_result"
    }
   ],
   "source": [
    "stopwords.sort_values().iloc[-40:-20]"
   ]
  },
  {
   "cell_type": "markdown",
   "metadata": {},
   "source": [
    "## Lemmatization + elimination of tokens with lower ocurrences\n",
    "To continue the results of lematization and elimination of tokens with lower ocurrences."
   ]
  },
  {
   "cell_type": "code",
   "execution_count": 15,
   "metadata": {},
   "outputs": [],
   "source": [
    "corpus_path = f'{os.getenv(\"CORPUS\")}{os.getenv(\"SLICE_TYPE\")}/'\n",
    "dict_files = sorted([file for file in os.listdir(corpus_path) if \".dict\" in file])\n",
    "corpus_files = sorted([file for file in os.listdir(corpus_path) if \".mm\" in file and \".index\" not in file and \".vocab\" not in file])"
   ]
  },
  {
   "cell_type": "code",
   "execution_count": 18,
   "metadata": {},
   "outputs": [],
   "source": [
    "slices = range(1, 7)\n",
    "data = {}\n",
    "for slice in slices:\n",
    "    # load dictionary {word->id}\n",
    "    dict_path = f\"{corpus_path}{dict_files[slice-1]}\"\n",
    "    dictionary = Dictionary.load(dict_path)\n",
    "    # load corpus\n",
    "    corpus_file = f\"{corpus_path}{corpus_files[slice-1]}\"\n",
    "    corpus = BleiCorpus(corpus_file)\n",
    "    # save data in a dict\n",
    "    data[slice] = {\"dict\": dictionary, \"corpus\": corpus}\n",
    "    \n",
    "vocabulary = set()\n",
    "for slice in slices:\n",
    "    vocabulary = vocabulary.union(data[slice][\"dict\"].token2id.keys())"
   ]
  },
  {
   "cell_type": "code",
   "execution_count": 182,
   "metadata": {},
   "outputs": [
    {
     "name": "stdout",
     "output_type": "stream",
     "text": [
      "corpus: 47993\n",
      "vocabulary: 4106\n",
      "tokens: 508987\n"
     ]
    }
   ],
   "source": [
    "corpus_size3 =  sum([len(data[slice][\"corpus\"]) for slice in slices])\n",
    "vocab_size3 = len(vocabulary)\n",
    "tokens_size3 = int(sum([freq for slice in slices for doc in data[slice][\"corpus\"] for (id, freq) in doc]))\n",
    "print(f\"corpus: {corpus_size3}\")\n",
    "print(f\"vocabulary: {vocab_size3}\")\n",
    "print(f\"tokens: {tokens_size3}\")"
   ]
  },
  {
   "cell_type": "code",
   "execution_count": 274,
   "metadata": {},
   "outputs": [],
   "source": [
    "frequency = {}\n",
    "for slice in slices:\n",
    "    id2token = {value: key for key, value in data[slice][\"dict\"].token2id.items()}\n",
    "    for doc in data[slice][\"corpus\"]:\n",
    "        for (id, freq) in doc:\n",
    "            token = id2token[id]\n",
    "            if token not in frequency.keys():\n",
    "                frequency[token] = freq\n",
    "            else:\n",
    "                frequency[token] += freq\n",
    "frequency = np.array(list(frequency.values()))"
   ]
  },
  {
   "cell_type": "code",
   "execution_count": 276,
   "metadata": {},
   "outputs": [
    {
     "data": {
      "text/html": [
       "<div>\n",
       "<style scoped>\n",
       "    .dataframe tbody tr th:only-of-type {\n",
       "        vertical-align: middle;\n",
       "    }\n",
       "\n",
       "    .dataframe tbody tr th {\n",
       "        vertical-align: top;\n",
       "    }\n",
       "\n",
       "    .dataframe thead th {\n",
       "        text-align: right;\n",
       "    }\n",
       "</style>\n",
       "<table border=\"1\" class=\"dataframe\">\n",
       "  <thead>\n",
       "    <tr style=\"text-align: right;\">\n",
       "      <th></th>\n",
       "      <th>count</th>\n",
       "      <th>mean</th>\n",
       "      <th>std</th>\n",
       "      <th>min</th>\n",
       "      <th>q10</th>\n",
       "      <th>q20</th>\n",
       "      <th>q25</th>\n",
       "      <th>q30</th>\n",
       "      <th>q40</th>\n",
       "      <th>q50</th>\n",
       "      <th>q60</th>\n",
       "      <th>q70</th>\n",
       "      <th>q75</th>\n",
       "      <th>q80</th>\n",
       "      <th>q90</th>\n",
       "      <th>q95</th>\n",
       "      <th>q99</th>\n",
       "      <th>max</th>\n",
       "    </tr>\n",
       "  </thead>\n",
       "  <tbody>\n",
       "    <tr>\n",
       "      <th>0</th>\n",
       "      <td>4106.0</td>\n",
       "      <td>123.961763</td>\n",
       "      <td>671.399449</td>\n",
       "      <td>5.0</td>\n",
       "      <td>5.0</td>\n",
       "      <td>7.0</td>\n",
       "      <td>8.0</td>\n",
       "      <td>11.0</td>\n",
       "      <td>16.0</td>\n",
       "      <td>25.0</td>\n",
       "      <td>37.0</td>\n",
       "      <td>57.0</td>\n",
       "      <td>72.0</td>\n",
       "      <td>90.0</td>\n",
       "      <td>168.0</td>\n",
       "      <td>383.75</td>\n",
       "      <td>1902.55</td>\n",
       "      <td>27822.0</td>\n",
       "    </tr>\n",
       "  </tbody>\n",
       "</table>\n",
       "</div>"
      ],
      "text/plain": [
       "    count        mean         std  min  q10  q20  q25   q30   q40   q50   q60  \\\n",
       "0  4106.0  123.961763  671.399449  5.0  5.0  7.0  8.0  11.0  16.0  25.0  37.0   \n",
       "\n",
       "    q70   q75   q80    q90     q95      q99      max  \n",
       "0  57.0  72.0  90.0  168.0  383.75  1902.55  27822.0  "
      ]
     },
     "execution_count": 276,
     "metadata": {},
     "output_type": "execute_result"
    }
   ],
   "source": [
    "get_stats(frequency, quantiles = [0.1, 0.2, 0.25, 0.3, 0.4, 0.5, 0.6, 0.7, 0.75, 0.8, 0.9, 0.95, 0.99])"
   ]
  },
  {
   "cell_type": "code",
   "execution_count": 277,
   "metadata": {},
   "outputs": [
    {
     "data": {
      "text/plain": [
       "Text(0, 0.5, 'Frecuencia acumulada')"
      ]
     },
     "execution_count": 277,
     "metadata": {},
     "output_type": "execute_result"
    },
    {
     "data": {
      "image/png": "[encoded data removed]",
      "text/plain": [
       "<Figure size 648x432 with 1 Axes>"
      ]
     },
     "metadata": {},
     "output_type": "display_data"
    }
   ],
   "source": [
    "ax = cum_dist_plot(frequency, quantiles = [0.6, 0.8, 0.9, 0.95, 0.99], figsize=(9,6))\n",
    "ax.set_xlabel(\"Tokens\")\n",
    "ax.set_ylabel(\"Frecuencia acumulada\")"
   ]
  },
  {
   "cell_type": "markdown",
   "metadata": {},
   "source": [
    "# 4. Innovation rate\n",
    "\n",
    "How much change the vocabulary between adjacent epoch"
   ]
  },
  {
   "cell_type": "code",
   "execution_count": 278,
   "metadata": {},
   "outputs": [],
   "source": [
    "innovation_data = []\n",
    "for slice in slices[:-1]:\n",
    "    vocabulary1 = set(data[slice][\"dict\"].token2id.keys())\n",
    "    vocabulary2= set(data[slice+1][\"dict\"].token2id.keys())\n",
    "    \n",
    "    old_vocabulary = len(vocabulary1)\n",
    "    new_vocabulary = len(vocabulary2)\n",
    "    \n",
    "    old_words = round(100*len(vocabulary1-vocabulary2)/old_vocabulary, 2)\n",
    "    new_words = round(100*len(vocabulary2-vocabulary1)/old_vocabulary, 2)\n",
    "    vocabulary_change = {\"slice\":slice+1, \"old_vocabulary\": old_vocabulary, \"new_vocabulary\": new_vocabulary, \n",
    "     \"%old_words\": old_words, \"%new_words\":new_words}\n",
    "    innovation_data.append(vocabulary_change)\n"
   ]
  },
  {
   "cell_type": "code",
   "execution_count": 279,
   "metadata": {},
   "outputs": [
    {
     "data": {
      "text/html": [
       "<div>\n",
       "<style scoped>\n",
       "    .dataframe tbody tr th:only-of-type {\n",
       "        vertical-align: middle;\n",
       "    }\n",
       "\n",
       "    .dataframe tbody tr th {\n",
       "        vertical-align: top;\n",
       "    }\n",
       "\n",
       "    .dataframe thead th {\n",
       "        text-align: right;\n",
       "    }\n",
       "</style>\n",
       "<table border=\"1\" class=\"dataframe\">\n",
       "  <thead>\n",
       "    <tr style=\"text-align: right;\">\n",
       "      <th></th>\n",
       "      <th>slice</th>\n",
       "      <th>old_vocabulary</th>\n",
       "      <th>new_vocabulary</th>\n",
       "      <th>%old_words</th>\n",
       "      <th>%new_words</th>\n",
       "    </tr>\n",
       "  </thead>\n",
       "  <tbody>\n",
       "    <tr>\n",
       "      <th>0</th>\n",
       "      <td>2</td>\n",
       "      <td>1919</td>\n",
       "      <td>1986</td>\n",
       "      <td>23.35</td>\n",
       "      <td>26.84</td>\n",
       "    </tr>\n",
       "    <tr>\n",
       "      <th>1</th>\n",
       "      <td>3</td>\n",
       "      <td>1986</td>\n",
       "      <td>2092</td>\n",
       "      <td>22.61</td>\n",
       "      <td>27.95</td>\n",
       "    </tr>\n",
       "    <tr>\n",
       "      <th>2</th>\n",
       "      <td>4</td>\n",
       "      <td>2092</td>\n",
       "      <td>2414</td>\n",
       "      <td>18.21</td>\n",
       "      <td>33.60</td>\n",
       "    </tr>\n",
       "    <tr>\n",
       "      <th>3</th>\n",
       "      <td>5</td>\n",
       "      <td>2414</td>\n",
       "      <td>2629</td>\n",
       "      <td>19.80</td>\n",
       "      <td>28.71</td>\n",
       "    </tr>\n",
       "    <tr>\n",
       "      <th>4</th>\n",
       "      <td>6</td>\n",
       "      <td>2629</td>\n",
       "      <td>2666</td>\n",
       "      <td>22.44</td>\n",
       "      <td>23.85</td>\n",
       "    </tr>\n",
       "  </tbody>\n",
       "</table>\n",
       "</div>"
      ],
      "text/plain": [
       "   slice  old_vocabulary  new_vocabulary  %old_words  %new_words\n",
       "0      2            1919            1986       23.35       26.84\n",
       "1      3            1986            2092       22.61       27.95\n",
       "2      4            2092            2414       18.21       33.60\n",
       "3      5            2414            2629       19.80       28.71\n",
       "4      6            2629            2666       22.44       23.85"
      ]
     },
     "execution_count": 279,
     "metadata": {},
     "output_type": "execute_result"
    }
   ],
   "source": [
    "innovation_rate = pd.DataFrame(innovation_data)\n",
    "innovation_rate"
   ]
  }
 ],
 "metadata": {
  "kernelspec": {
   "display_name": "Python 3",
   "language": "python",
   "name": "python3"
  },
  "language_info": {
   "codemirror_mode": {
    "name": "ipython",
    "version": 3
   },
   "file_extension": ".py",
   "mimetype": "text/x-python",
   "name": "python",
   "nbconvert_exporter": "python",
   "pygments_lexer": "ipython3",
   "version": "3.7.4"
  },
  "latex_envs": {
   "LaTeX_envs_menu_present": true,
   "autoclose": false,
   "autocomplete": true,
   "bibliofile": "biblio.bib",
   "cite_by": "apalike",
   "current_citInitial": 1,
   "eqLabelWithNumbers": true,
   "eqNumInitial": 1,
   "hotkeys": {
    "equation": "Ctrl-E",
    "itemize": "Ctrl-I"
   },
   "labels_anchors": false,
   "latex_user_defs": false,
   "report_style_numbering": false,
   "user_envs_cfg": false
  }
 },
 "nbformat": 4,
 "nbformat_minor": 2
}
