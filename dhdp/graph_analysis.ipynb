{
 "cells": [
  {
   "cell_type": "code",
   "execution_count": 33,
   "metadata": {},
   "outputs": [],
   "source": [
    "import json\n",
    "import numpy as np\n",
    "import pandas as pd\n",
    "import matplotlib.pyplot as plt\n",
    "import seaborn as sns"
   ]
  },
  {
   "cell_type": "code",
   "execution_count": 2,
   "metadata": {},
   "outputs": [],
   "source": [
    "# load args\n",
    "with open(\"../args.json\", \"r\") as f:\n",
    "    args = json.load(f)"
   ]
  },
  {
   "cell_type": "code",
   "execution_count": 3,
   "metadata": {},
   "outputs": [],
   "source": [
    "# load similarity graph\n",
    "path_graph = f'{args[\"results\"]}graph/graph_{args[\"slice_type\"]}.json'\n",
    "with open(path_graph, \"r\") as f:\n",
    "    graph = json.load(f)"
   ]
  },
  {
   "cell_type": "code",
   "execution_count": 21,
   "metadata": {},
   "outputs": [],
   "source": [
    "# get all distances from dict\n",
    "distances = []\n",
    "slices = graph.keys()\n",
    "for slice in slices:\n",
    "    I = graph[slice].keys()\n",
    "    for i in I:\n",
    "        topic_distances = graph[slice][i].values()\n",
    "        for dist in topic_distances:\n",
    "            distances.append(dist)\n",
    "distances = pd.Series(distances)"
   ]
  },
  {
   "cell_type": "code",
   "execution_count": 71,
   "metadata": {},
   "outputs": [
    {
     "data": {
      "text/plain": [
       "1719"
      ]
     },
     "execution_count": 71,
     "metadata": {},
     "output_type": "execute_result"
    }
   ],
   "source": [
    "len(distances)"
   ]
  },
  {
   "cell_type": "code",
   "execution_count": 67,
   "metadata": {},
   "outputs": [],
   "source": [
    "cum_dist = []\n",
    "cum = 0\n",
    "sorted_distances = distances.sort_values(ascending=True)\n",
    "for elem in sorted_distances:\n",
    "    cum+=elem\n",
    "    cum_dist.append(cum)\n",
    "cum_dist = pd.Series([elem/cum_dist[-1] for elem in cum_dist])"
   ]
  },
  {
   "cell_type": "code",
   "execution_count": 68,
   "metadata": {},
   "outputs": [
    {
     "data": {
      "text/plain": [
       "[<matplotlib.lines.Line2D at 0x7fca7df07d50>]"
      ]
     },
     "execution_count": 68,
     "metadata": {},
     "output_type": "execute_result"
    },
    {
     "data": {
      "image/png": "[encoded data removed]",
      "text/plain": [
       "<Figure size 432x288 with 1 Axes>"
      ]
     },
     "metadata": {
      "needs_background": "light"
     },
     "output_type": "display_data"
    }
   ],
   "source": [
    "plt.plot(distances_sorted, cum_dist)"
   ]
  },
  {
   "cell_type": "code",
   "execution_count": 69,
   "metadata": {},
   "outputs": [
    {
     "data": {
      "text/plain": [
       "count    1719.000000\n",
       "mean        0.175590\n",
       "std         0.055493\n",
       "min         0.131223\n",
       "25%         0.151192\n",
       "50%         0.158587\n",
       "75%         0.181265\n",
       "max         0.557220\n",
       "dtype: float64"
      ]
     },
     "execution_count": 69,
     "metadata": {},
     "output_type": "execute_result"
    }
   ],
   "source": [
    "distances.describe()"
   ]
  },
  {
   "cell_type": "code",
   "execution_count": 70,
   "metadata": {},
   "outputs": [
    {
     "data": {
      "text/plain": [
       "0.50    0.158587\n",
       "0.60    0.165697\n",
       "0.70    0.174885\n",
       "0.80    0.187775\n",
       "0.90    0.206157\n",
       "0.95    0.241383\n",
       "0.99    0.490850\n",
       "dtype: float64"
      ]
     },
     "execution_count": 70,
     "metadata": {},
     "output_type": "execute_result"
    }
   ],
   "source": [
    "distances.quantile(q=[0.5, 0.6, 0.7, 0.8, 0.9, 0.95, 0.99])"
   ]
  },
  {
   "cell_type": "markdown",
   "metadata": {},
   "source": [
    " - [ ] cdf\n",
    " - [ ] find threshold\n",
    " - [ ] plot timeline"
   ]
  }
 ],
 "metadata": {
  "kernelspec": {
   "display_name": "Python 3",
   "language": "python",
   "name": "python3"
  },
  "language_info": {
   "codemirror_mode": {
    "name": "ipython",
    "version": 3
   },
   "file_extension": ".py",
   "mimetype": "text/x-python",
   "name": "python",
   "nbconvert_exporter": "python",
   "pygments_lexer": "ipython3",
   "version": "3.7.4"
  }
 },
 "nbformat": 4,
 "nbformat_minor": 2
}
