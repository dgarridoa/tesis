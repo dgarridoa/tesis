{
 "cells": [
  {
   "cell_type": "code",
   "execution_count": 27,
   "metadata": {},
   "outputs": [],
   "source": [
    "import os\n",
    "import json\n",
    "import numpy as np\n",
    "import pandas as pd\n",
    "import plotly.graph_objects as go\n",
    "import re\n",
    "from dotenv import load_dotenv\n",
    "from time import time\n",
    "from wmd import wmd\n",
    "from pyemd import emd\n",
    "from gensim.corpora import Dictionary\n",
    "from gensim.corpora.bleicorpus import BleiCorpus\n",
    "from gensim.models.fasttext import load_facebook_vectors\n",
    "sns.set()"
   ]
  },
  {
   "cell_type": "code",
   "execution_count": 3,
   "metadata": {},
   "outputs": [
    {
     "data": {
      "text/plain": [
       "True"
      ]
     },
     "execution_count": 3,
     "metadata": {},
     "output_type": "execute_result"
    }
   ],
   "source": [
    "# load environment variables\n",
    "load_dotenv()"
   ]
  },
  {
   "cell_type": "markdown",
   "metadata": {},
   "source": [
    "# 1. Load Data"
   ]
  },
  {
   "cell_type": "code",
   "execution_count": 4,
   "metadata": {},
   "outputs": [],
   "source": [
    "corpus_dir = f'{os.getenv(\"CORPUS\")}{os.getenv(\"SLICE_TYPE\")}'\n",
    "corpus_files = sorted([file for file in os.listdir(corpus_dir) if bool(re.match(\"corpus_\\d*.mm$\", file))])\n",
    "dict_files = sorted([file for file in os.listdir(corpus_dir) if \".dict\" in file])\n",
    "models_path = f'{os.getenv(\"RESULTS\")}hdp/{os.getenv(\"SLICE_TYPE\")}'\n",
    "models_dir = sorted(os.listdir(models_path))\n",
    "\n",
    "slices = range(1, len(models_dir)+1)\n",
    "data = {}\n",
    "for slice in slices:\n",
    "    # load dictionary {word->id}\n",
    "    dict_path = f'{corpus_dir}/{dict_files[slice-1]}'\n",
    "    token2id = Dictionary.load(dict_path).token2id\n",
    "\n",
    "    # get term probability\n",
    "    corpus_path = f'{corpus_dir}/{corpus_files[slice-1]}'\n",
    "    corpus = BleiCorpus(corpus_path)\n",
    "    term_frequency = np.zeros(len(token2id))\n",
    "    for doc in corpus:\n",
    "        for (id_word, freq) in doc:\n",
    "            term_frequency[id_word]+=freq\n",
    "    term_probability = term_frequency/term_frequency.sum()\n",
    "    \n",
    "    # load topics distributions\n",
    "    topics_path = f'{models_path}/{models_dir[slice-1]}/mode-topics.dat'\n",
    "    with open(topics_path, \"r\") as f:\n",
    "        topics = np.array([[int(word) for word in line.strip().split()] for line in f])\n",
    "    topics_dists = (topics.T/topics.sum(axis=1)).T\n",
    "\n",
    "    # save data in a dict\n",
    "    data[slice] = {\"token2id\": token2id, \"topics_dists\": topics_dists, \"term_probability\": term_probability}"
   ]
  },
  {
   "cell_type": "markdown",
   "metadata": {},
   "source": [
    "# 2. Topic distributions"
   ]
  },
  {
   "cell_type": "code",
   "execution_count": 55,
   "metadata": {},
   "outputs": [],
   "source": [
    "def get_quantile(array, q):\n",
    "    \"\"\"\n",
    "    Get number of elements that represent the 100q% of cumulative distribution of an array.\n",
    "    \"\"\"\n",
    "    #cumulative distribution\n",
    "    serie = pd.Series(array)\n",
    "    serie_sorted = serie.sort_values(ascending=False)\n",
    "    indexs = range(1, len(serie_sorted)+1)\n",
    "    cum_dist = []\n",
    "\n",
    "    cum = 0\n",
    "    for value in serie_sorted:\n",
    "        cum += value\n",
    "        cum_dist.append(cum)\n",
    "\n",
    "    cum_dist = pd.Series(cum_dist)\n",
    "    \n",
    "    #get quantile \n",
    "    cut = cum_dist.max()*q\n",
    "    tail = np.array(cum_dist[cum_dist<=cut])\n",
    "    if len(tail)>=1:\n",
    "        quantile = np.argmax(tail)+1\n",
    "    else:\n",
    "        quantile = 1\n",
    "    \n",
    "    return quantile\n",
    "\n",
    "\n",
    "def get_mean_cum_dist(data):\n",
    "    \"\"\"\n",
    "    Get %vocab used to satisfy certain level of cum dist\n",
    "    \"\"\"\n",
    "    quantiles=np.arange(0.01,1+0.01, 0.01)\n",
    "    slices = list(data.keys())\n",
    "    vocab_cum_dist = []\n",
    "    for slice in slices:\n",
    "        topics = data[slice][\"topics_dists\"]\n",
    "        K, V = topics.shape\n",
    "        for k in range(K):\n",
    "            cum_dist = np.array([get_quantile(topics[k], q) for q in  quantiles])/V\n",
    "            vocab_cum_dist.append(cum_dist)\n",
    "    vocab_cum_dist = np.array(vocab_cum_dist).mean(axis=0)\n",
    "    \n",
    "    return vocab_cum_dist\n",
    "\n",
    "def cum_dist_plot(cum_dist):\n",
    "    quantiles=np.arange(0.01,1+0.01, 0.01)\n",
    "    q_indexs = [0.2, 0.4, 0.6, 0.8, 0.9, 0.95, 0.99]\n",
    "    labels = [f\"q{int(100*q)}\" for q in q_indexs] \n",
    "    q_values = [cum_dist[int(100*q)-1] for q in q_indexs]\n",
    "        \n",
    "    fig = go.Figure()\n",
    "    fig.update_layout(template=\"plotly_white\")\n",
    "    fig.add_trace(go.Scatter(\n",
    "        showlegend = False,\n",
    "        x= cum_dist,\n",
    "        y= quantiles \n",
    "    ))\n",
    "    fig.add_trace(go.Scatter(\n",
    "        showlegend = False,\n",
    "        x= q_values,\n",
    "        y= q_indexs,\n",
    "        text=labels,\n",
    "        textposition=\"bottom right\",\n",
    "        mode='markers+text',\n",
    "        marker=dict(color='royalblue')\n",
    "    ))\n",
    "    fig.update_xaxes(title_text=\"Acumulado del vocabulario\")\n",
    "    fig.update_yaxes(title_text=\"Acumulado del tópico\") \n",
    "    fig.show()    "
   ]
  },
  {
   "cell_type": "code",
   "execution_count": 56,
   "metadata": {},
   "outputs": [
    {
     "data": {
      "application/vnd.plotly.v1+json": {
       "config": {
        "plotlyServerURL": "https://plot.ly"
       },
       "data": [
        {
         "showlegend": false,
         "type": "scatter",
         "x": [
          0.00044690414720123,
          0.00044690414720123,
          0.00044690414720123,
          0.00044690414720123,
          0.0004565873139840947,
          0.0005006639460534392,
          0.0005413827046889712,
          0.0006423473548501505,
          0.0007722006545641265,
          0.0008318965758984577,
          0.0010097659750139558,
          0.0010907896541705266,
          0.0012892179925227646,
          0.0014261578845083656,
          0.0016051519427254708,
          0.0018371624982716367,
          0.002022372568946376,
          0.002228327660104658,
          0.0024719831003157436,
          0.0026811257939065017,
          0.0029894747515506466,
          0.0032593370729225423,
          0.0035258004769480396,
          0.0038797725608346236,
          0.004138497883322821,
          0.0044613750436353,
          0.004819889316044169,
          0.005202910900279348,
          0.005606727982933528,
          0.006013825845040593,
          0.006451941830366377,
          0.006912799491325648,
          0.007357233813541001,
          0.007837447244420133,
          0.008332046881400214,
          0.008860810329472585,
          0.009405871223592498,
          0.009967879104227723,
          0.010522647832378064,
          0.011134566706336262,
          0.011786604132957354,
          0.012442202471160973,
          0.013096574631188622,
          0.013839343570996709,
          0.014607670431734728,
          0.015389510116930894,
          0.016231858114994276,
          0.017107727855089815,
          0.017993154012442853,
          0.018908398437258576,
          0.01991144780857592,
          0.02095517513677034,
          0.021969396171445263,
          0.023089495747036635,
          0.024295566942338864,
          0.025497847571864383,
          0.02679988443563461,
          0.02810860243326999,
          0.029529141705666468,
          0.03098929256706235,
          0.03261298041296908,
          0.034245623084566204,
          0.03596639240425656,
          0.03775204275969264,
          0.03959171333505317,
          0.04161470106660478,
          0.043822357752425795,
          0.04604001792102682,
          0.04841606496929811,
          0.05095625675176347,
          0.05357052756620976,
          0.0562953275341572,
          0.05918327509442596,
          0.06224455013808194,
          0.06546489661144682,
          0.06899974608799829,
          0.07277406297753466,
          0.07673167847647658,
          0.0809455926492998,
          0.08542947588833744,
          0.09017165129725963,
          0.09540551025099696,
          0.10088791882464328,
          0.1067877083088867,
          0.11310025389122927,
          0.11985495757492712,
          0.12712184108357721,
          0.13493740658052933,
          0.14338441298539,
          0.15266214772349893,
          0.162486709316186,
          0.17342518534477322,
          0.18528285748432674,
          0.19892973440501535,
          0.2141803986823788,
          0.23089159009516488,
          0.25091501948146494,
          0.2755670956097059,
          0.3051373686839702,
          0.3455612183404666
         ],
         "y": [
          0.01,
          0.02,
          0.03,
          0.04,
          0.05,
          0.060000000000000005,
          0.06999999999999999,
          0.08,
          0.09,
          0.09999999999999999,
          0.11,
          0.12,
          0.13,
          0.14,
          0.15000000000000002,
          0.16,
          0.17,
          0.18000000000000002,
          0.19,
          0.2,
          0.21000000000000002,
          0.22,
          0.23,
          0.24000000000000002,
          0.25,
          0.26,
          0.27,
          0.28,
          0.29000000000000004,
          0.3,
          0.31,
          0.32,
          0.33,
          0.34,
          0.35000000000000003,
          0.36000000000000004,
          0.37,
          0.38,
          0.39,
          0.4,
          0.41000000000000003,
          0.42000000000000004,
          0.43,
          0.44,
          0.45,
          0.46,
          0.47000000000000003,
          0.48000000000000004,
          0.49,
          0.5,
          0.51,
          0.52,
          0.53,
          0.54,
          0.55,
          0.56,
          0.5700000000000001,
          0.5800000000000001,
          0.59,
          0.6,
          0.61,
          0.62,
          0.63,
          0.64,
          0.65,
          0.66,
          0.67,
          0.68,
          0.6900000000000001,
          0.7000000000000001,
          0.7100000000000001,
          0.72,
          0.73,
          0.74,
          0.75,
          0.76,
          0.77,
          0.78,
          0.79,
          0.8,
          0.81,
          0.8200000000000001,
          0.8300000000000001,
          0.8400000000000001,
          0.85,
          0.86,
          0.87,
          0.88,
          0.89,
          0.9,
          0.91,
          0.92,
          0.93,
          0.9400000000000001,
          0.9500000000000001,
          0.9600000000000001,
          0.97,
          0.98,
          0.99,
          1
         ]
        },
        {
         "marker": {
          "color": "royalblue"
         },
         "mode": "markers+text",
         "showlegend": false,
         "text": [
          "q20",
          "q40",
          "q60",
          "q80",
          "q90",
          "q95",
          "q99"
         ],
         "textposition": "bottom right",
         "type": "scatter",
         "x": [
          0.0026811257939065017,
          0.011134566706336262,
          0.03098929256706235,
          0.08542947588833744,
          0.15266214772349893,
          0.2141803986823788,
          0.3051373686839702
         ],
         "y": [
          0.2,
          0.4,
          0.6,
          0.8,
          0.9,
          0.95,
          0.99
         ]
        }
       ],
       "layout": {
        "template": {
         "data": {
          "bar": [
           {
            "error_x": {
             "color": "#2a3f5f"
            },
            "error_y": {
             "color": "#2a3f5f"
            },
            "marker": {
             "line": {
              "color": "white",
              "width": 0.5
             }
            },
            "type": "bar"
           }
          ],
          "barpolar": [
           {
            "marker": {
             "line": {
              "color": "white",
              "width": 0.5
             }
            },
            "type": "barpolar"
           }
          ],
          "carpet": [
           {
            "aaxis": {
             "endlinecolor": "#2a3f5f",
             "gridcolor": "#C8D4E3",
             "linecolor": "#C8D4E3",
             "minorgridcolor": "#C8D4E3",
             "startlinecolor": "#2a3f5f"
            },
            "baxis": {
             "endlinecolor": "#2a3f5f",
             "gridcolor": "#C8D4E3",
             "linecolor": "#C8D4E3",
             "minorgridcolor": "#C8D4E3",
             "startlinecolor": "#2a3f5f"
            },
            "type": "carpet"
           }
          ],
          "choropleth": [
           {
            "colorbar": {
             "outlinewidth": 0,
             "ticks": ""
            },
            "type": "choropleth"
           }
          ],
          "contour": [
           {
            "colorbar": {
             "outlinewidth": 0,
             "ticks": ""
            },
            "colorscale": [
             [
              0,
              "#0d0887"
             ],
             [
              0.1111111111111111,
              "#46039f"
             ],
             [
              0.2222222222222222,
              "#7201a8"
             ],
             [
              0.3333333333333333,
              "#9c179e"
             ],
             [
              0.4444444444444444,
              "#bd3786"
             ],
             [
              0.5555555555555556,
              "#d8576b"
             ],
             [
              0.6666666666666666,
              "#ed7953"
             ],
             [
              0.7777777777777778,
              "#fb9f3a"
             ],
             [
              0.8888888888888888,
              "#fdca26"
             ],
             [
              1,
              "#f0f921"
             ]
            ],
            "type": "contour"
           }
          ],
          "contourcarpet": [
           {
            "colorbar": {
             "outlinewidth": 0,
             "ticks": ""
            },
            "type": "contourcarpet"
           }
          ],
          "heatmap": [
           {
            "colorbar": {
             "outlinewidth": 0,
             "ticks": ""
            },
            "colorscale": [
             [
              0,
              "#0d0887"
             ],
             [
              0.1111111111111111,
              "#46039f"
             ],
             [
              0.2222222222222222,
              "#7201a8"
             ],
             [
              0.3333333333333333,
              "#9c179e"
             ],
             [
              0.4444444444444444,
              "#bd3786"
             ],
             [
              0.5555555555555556,
              "#d8576b"
             ],
             [
              0.6666666666666666,
              "#ed7953"
             ],
             [
              0.7777777777777778,
              "#fb9f3a"
             ],
             [
              0.8888888888888888,
              "#fdca26"
             ],
             [
              1,
              "#f0f921"
             ]
            ],
            "type": "heatmap"
           }
          ],
          "heatmapgl": [
           {
            "colorbar": {
             "outlinewidth": 0,
             "ticks": ""
            },
            "colorscale": [
             [
              0,
              "#0d0887"
             ],
             [
              0.1111111111111111,
              "#46039f"
             ],
             [
              0.2222222222222222,
              "#7201a8"
             ],
             [
              0.3333333333333333,
              "#9c179e"
             ],
             [
              0.4444444444444444,
              "#bd3786"
             ],
             [
              0.5555555555555556,
              "#d8576b"
             ],
             [
              0.6666666666666666,
              "#ed7953"
             ],
             [
              0.7777777777777778,
              "#fb9f3a"
             ],
             [
              0.8888888888888888,
              "#fdca26"
             ],
             [
              1,
              "#f0f921"
             ]
            ],
            "type": "heatmapgl"
           }
          ],
          "histogram": [
           {
            "marker": {
             "colorbar": {
              "outlinewidth": 0,
              "ticks": ""
             }
            },
            "type": "histogram"
           }
          ],
          "histogram2d": [
           {
            "colorbar": {
             "outlinewidth": 0,
             "ticks": ""
            },
            "colorscale": [
             [
              0,
              "#0d0887"
             ],
             [
              0.1111111111111111,
              "#46039f"
             ],
             [
              0.2222222222222222,
              "#7201a8"
             ],
             [
              0.3333333333333333,
              "#9c179e"
             ],
             [
              0.4444444444444444,
              "#bd3786"
             ],
             [
              0.5555555555555556,
              "#d8576b"
             ],
             [
              0.6666666666666666,
              "#ed7953"
             ],
             [
              0.7777777777777778,
              "#fb9f3a"
             ],
             [
              0.8888888888888888,
              "#fdca26"
             ],
             [
              1,
              "#f0f921"
             ]
            ],
            "type": "histogram2d"
           }
          ],
          "histogram2dcontour": [
           {
            "colorbar": {
             "outlinewidth": 0,
             "ticks": ""
            },
            "colorscale": [
             [
              0,
              "#0d0887"
             ],
             [
              0.1111111111111111,
              "#46039f"
             ],
             [
              0.2222222222222222,
              "#7201a8"
             ],
             [
              0.3333333333333333,
              "#9c179e"
             ],
             [
              0.4444444444444444,
              "#bd3786"
             ],
             [
              0.5555555555555556,
              "#d8576b"
             ],
             [
              0.6666666666666666,
              "#ed7953"
             ],
             [
              0.7777777777777778,
              "#fb9f3a"
             ],
             [
              0.8888888888888888,
              "#fdca26"
             ],
             [
              1,
              "#f0f921"
             ]
            ],
            "type": "histogram2dcontour"
           }
          ],
          "mesh3d": [
           {
            "colorbar": {
             "outlinewidth": 0,
             "ticks": ""
            },
            "type": "mesh3d"
           }
          ],
          "parcoords": [
           {
            "line": {
             "colorbar": {
              "outlinewidth": 0,
              "ticks": ""
             }
            },
            "type": "parcoords"
           }
          ],
          "scatter": [
           {
            "marker": {
             "colorbar": {
              "outlinewidth": 0,
              "ticks": ""
             }
            },
            "type": "scatter"
           }
          ],
          "scatter3d": [
           {
            "line": {
             "colorbar": {
              "outlinewidth": 0,
              "ticks": ""
             }
            },
            "marker": {
             "colorbar": {
              "outlinewidth": 0,
              "ticks": ""
             }
            },
            "type": "scatter3d"
           }
          ],
          "scattercarpet": [
           {
            "marker": {
             "colorbar": {
              "outlinewidth": 0,
              "ticks": ""
             }
            },
            "type": "scattercarpet"
           }
          ],
          "scattergeo": [
           {
            "marker": {
             "colorbar": {
              "outlinewidth": 0,
              "ticks": ""
             }
            },
            "type": "scattergeo"
           }
          ],
          "scattergl": [
           {
            "marker": {
             "colorbar": {
              "outlinewidth": 0,
              "ticks": ""
             }
            },
            "type": "scattergl"
           }
          ],
          "scattermapbox": [
           {
            "marker": {
             "colorbar": {
              "outlinewidth": 0,
              "ticks": ""
             }
            },
            "type": "scattermapbox"
           }
          ],
          "scatterpolar": [
           {
            "marker": {
             "colorbar": {
              "outlinewidth": 0,
              "ticks": ""
             }
            },
            "type": "scatterpolar"
           }
          ],
          "scatterpolargl": [
           {
            "marker": {
             "colorbar": {
              "outlinewidth": 0,
              "ticks": ""
             }
            },
            "type": "scatterpolargl"
           }
          ],
          "scatterternary": [
           {
            "marker": {
             "colorbar": {
              "outlinewidth": 0,
              "ticks": ""
             }
            },
            "type": "scatterternary"
           }
          ],
          "surface": [
           {
            "colorbar": {
             "outlinewidth": 0,
             "ticks": ""
            },
            "colorscale": [
             [
              0,
              "#0d0887"
             ],
             [
              0.1111111111111111,
              "#46039f"
             ],
             [
              0.2222222222222222,
              "#7201a8"
             ],
             [
              0.3333333333333333,
              "#9c179e"
             ],
             [
              0.4444444444444444,
              "#bd3786"
             ],
             [
              0.5555555555555556,
              "#d8576b"
             ],
             [
              0.6666666666666666,
              "#ed7953"
             ],
             [
              0.7777777777777778,
              "#fb9f3a"
             ],
             [
              0.8888888888888888,
              "#fdca26"
             ],
             [
              1,
              "#f0f921"
             ]
            ],
            "type": "surface"
           }
          ],
          "table": [
           {
            "cells": {
             "fill": {
              "color": "#EBF0F8"
             },
             "line": {
              "color": "white"
             }
            },
            "header": {
             "fill": {
              "color": "#C8D4E3"
             },
             "line": {
              "color": "white"
             }
            },
            "type": "table"
           }
          ]
         },
         "layout": {
          "annotationdefaults": {
           "arrowcolor": "#2a3f5f",
           "arrowhead": 0,
           "arrowwidth": 1
          },
          "colorscale": {
           "diverging": [
            [
             0,
             "#8e0152"
            ],
            [
             0.1,
             "#c51b7d"
            ],
            [
             0.2,
             "#de77ae"
            ],
            [
             0.3,
             "#f1b6da"
            ],
            [
             0.4,
             "#fde0ef"
            ],
            [
             0.5,
             "#f7f7f7"
            ],
            [
             0.6,
             "#e6f5d0"
            ],
            [
             0.7,
             "#b8e186"
            ],
            [
             0.8,
             "#7fbc41"
            ],
            [
             0.9,
             "#4d9221"
            ],
            [
             1,
             "#276419"
            ]
           ],
           "sequential": [
            [
             0,
             "#0d0887"
            ],
            [
             0.1111111111111111,
             "#46039f"
            ],
            [
             0.2222222222222222,
             "#7201a8"
            ],
            [
             0.3333333333333333,
             "#9c179e"
            ],
            [
             0.4444444444444444,
             "#bd3786"
            ],
            [
             0.5555555555555556,
             "#d8576b"
            ],
            [
             0.6666666666666666,
             "#ed7953"
            ],
            [
             0.7777777777777778,
             "#fb9f3a"
            ],
            [
             0.8888888888888888,
             "#fdca26"
            ],
            [
             1,
             "#f0f921"
            ]
           ],
           "sequentialminus": [
            [
             0,
             "#0d0887"
            ],
            [
             0.1111111111111111,
             "#46039f"
            ],
            [
             0.2222222222222222,
             "#7201a8"
            ],
            [
             0.3333333333333333,
             "#9c179e"
            ],
            [
             0.4444444444444444,
             "#bd3786"
            ],
            [
             0.5555555555555556,
             "#d8576b"
            ],
            [
             0.6666666666666666,
             "#ed7953"
            ],
            [
             0.7777777777777778,
             "#fb9f3a"
            ],
            [
             0.8888888888888888,
             "#fdca26"
            ],
            [
             1,
             "#f0f921"
            ]
           ]
          },
          "colorway": [
           "#636efa",
           "#EF553B",
           "#00cc96",
           "#ab63fa",
           "#FFA15A",
           "#19d3f3",
           "#FF6692",
           "#B6E880",
           "#FF97FF",
           "#FECB52"
          ],
          "font": {
           "color": "#2a3f5f"
          },
          "geo": {
           "bgcolor": "white",
           "lakecolor": "white",
           "landcolor": "white",
           "showlakes": true,
           "showland": true,
           "subunitcolor": "#C8D4E3"
          },
          "hoverlabel": {
           "align": "left"
          },
          "hovermode": "closest",
          "mapbox": {
           "style": "light"
          },
          "paper_bgcolor": "white",
          "plot_bgcolor": "white",
          "polar": {
           "angularaxis": {
            "gridcolor": "#EBF0F8",
            "linecolor": "#EBF0F8",
            "ticks": ""
           },
           "bgcolor": "white",
           "radialaxis": {
            "gridcolor": "#EBF0F8",
            "linecolor": "#EBF0F8",
            "ticks": ""
           }
          },
          "scene": {
           "xaxis": {
            "backgroundcolor": "white",
            "gridcolor": "#DFE8F3",
            "gridwidth": 2,
            "linecolor": "#EBF0F8",
            "showbackground": true,
            "ticks": "",
            "zerolinecolor": "#EBF0F8"
           },
           "yaxis": {
            "backgroundcolor": "white",
            "gridcolor": "#DFE8F3",
            "gridwidth": 2,
            "linecolor": "#EBF0F8",
            "showbackground": true,
            "ticks": "",
            "zerolinecolor": "#EBF0F8"
           },
           "zaxis": {
            "backgroundcolor": "white",
            "gridcolor": "#DFE8F3",
            "gridwidth": 2,
            "linecolor": "#EBF0F8",
            "showbackground": true,
            "ticks": "",
            "zerolinecolor": "#EBF0F8"
           }
          },
          "shapedefaults": {
           "line": {
            "color": "#2a3f5f"
           }
          },
          "ternary": {
           "aaxis": {
            "gridcolor": "#DFE8F3",
            "linecolor": "#A2B1C6",
            "ticks": ""
           },
           "baxis": {
            "gridcolor": "#DFE8F3",
            "linecolor": "#A2B1C6",
            "ticks": ""
           },
           "bgcolor": "white",
           "caxis": {
            "gridcolor": "#DFE8F3",
            "linecolor": "#A2B1C6",
            "ticks": ""
           }
          },
          "title": {
           "x": 0.05
          },
          "xaxis": {
           "automargin": true,
           "gridcolor": "#EBF0F8",
           "linecolor": "#EBF0F8",
           "ticks": "",
           "zerolinecolor": "#EBF0F8",
           "zerolinewidth": 2
          },
          "yaxis": {
           "automargin": true,
           "gridcolor": "#EBF0F8",
           "linecolor": "#EBF0F8",
           "ticks": "",
           "zerolinecolor": "#EBF0F8",
           "zerolinewidth": 2
          }
         }
        },
        "xaxis": {
         "title": {
          "text": "Acumulado del vocabulario"
         }
        },
        "yaxis": {
         "title": {
          "text": "Acumulado del tópico"
         }
        }
       }
      },
      "text/html": [
       "<div>\n",
       "        \n",
       "        \n",
       "            <div id=\"e73b75d0-7565-47f5-aafd-7ab072c02fd7\" class=\"plotly-graph-div\" style=\"height:525px; width:100%;\"></div>\n",
       "            <script type=\"text/javascript\">\n",
       "                require([\"plotly\"], function(Plotly) {\n",
       "                    window.PLOTLYENV=window.PLOTLYENV || {};\n",
       "                    \n",
       "                if (document.getElementById(\"e73b75d0-7565-47f5-aafd-7ab072c02fd7\")) {\n",
       "                    Plotly.newPlot(\n",
       "                        'e73b75d0-7565-47f5-aafd-7ab072c02fd7',\n",
       "                        [{\"showlegend\": false, \"type\": \"scatter\", \"x\": [0.00044690414720123, 0.00044690414720123, 0.00044690414720123, 0.00044690414720123, 0.0004565873139840947, 0.0005006639460534392, 0.0005413827046889712, 0.0006423473548501505, 0.0007722006545641265, 0.0008318965758984577, 0.0010097659750139558, 0.0010907896541705266, 0.0012892179925227646, 0.0014261578845083656, 0.0016051519427254708, 0.0018371624982716367, 0.002022372568946376, 0.002228327660104658, 0.0024719831003157436, 0.0026811257939065017, 0.0029894747515506466, 0.0032593370729225423, 0.0035258004769480396, 0.0038797725608346236, 0.004138497883322821, 0.0044613750436353, 0.004819889316044169, 0.005202910900279348, 0.005606727982933528, 0.006013825845040593, 0.006451941830366377, 0.006912799491325648, 0.007357233813541001, 0.007837447244420133, 0.008332046881400214, 0.008860810329472585, 0.009405871223592498, 0.009967879104227723, 0.010522647832378064, 0.011134566706336262, 0.011786604132957354, 0.012442202471160973, 0.013096574631188622, 0.013839343570996709, 0.014607670431734728, 0.015389510116930894, 0.016231858114994276, 0.017107727855089815, 0.017993154012442853, 0.018908398437258576, 0.01991144780857592, 0.02095517513677034, 0.021969396171445263, 0.023089495747036635, 0.024295566942338864, 0.025497847571864383, 0.02679988443563461, 0.02810860243326999, 0.029529141705666468, 0.03098929256706235, 0.03261298041296908, 0.034245623084566204, 0.03596639240425656, 0.03775204275969264, 0.03959171333505317, 0.04161470106660478, 0.043822357752425795, 0.04604001792102682, 0.04841606496929811, 0.05095625675176347, 0.05357052756620976, 0.0562953275341572, 0.05918327509442596, 0.06224455013808194, 0.06546489661144682, 0.06899974608799829, 0.07277406297753466, 0.07673167847647658, 0.0809455926492998, 0.08542947588833744, 0.09017165129725963, 0.09540551025099696, 0.10088791882464328, 0.1067877083088867, 0.11310025389122927, 0.11985495757492712, 0.12712184108357721, 0.13493740658052933, 0.14338441298539, 0.15266214772349893, 0.162486709316186, 0.17342518534477322, 0.18528285748432674, 0.19892973440501535, 0.2141803986823788, 0.23089159009516488, 0.25091501948146494, 0.2755670956097059, 0.3051373686839702, 0.3455612183404666], \"y\": [0.01, 0.02, 0.03, 0.04, 0.05, 0.060000000000000005, 0.06999999999999999, 0.08, 0.09, 0.09999999999999999, 0.11, 0.12, 0.13, 0.14, 0.15000000000000002, 0.16, 0.17, 0.18000000000000002, 0.19, 0.2, 0.21000000000000002, 0.22, 0.23, 0.24000000000000002, 0.25, 0.26, 0.27, 0.28, 0.29000000000000004, 0.3, 0.31, 0.32, 0.33, 0.34, 0.35000000000000003, 0.36000000000000004, 0.37, 0.38, 0.39, 0.4, 0.41000000000000003, 0.42000000000000004, 0.43, 0.44, 0.45, 0.46, 0.47000000000000003, 0.48000000000000004, 0.49, 0.5, 0.51, 0.52, 0.53, 0.54, 0.55, 0.56, 0.5700000000000001, 0.5800000000000001, 0.59, 0.6, 0.61, 0.62, 0.63, 0.64, 0.65, 0.66, 0.67, 0.68, 0.6900000000000001, 0.7000000000000001, 0.7100000000000001, 0.72, 0.73, 0.74, 0.75, 0.76, 0.77, 0.78, 0.79, 0.8, 0.81, 0.8200000000000001, 0.8300000000000001, 0.8400000000000001, 0.85, 0.86, 0.87, 0.88, 0.89, 0.9, 0.91, 0.92, 0.93, 0.9400000000000001, 0.9500000000000001, 0.9600000000000001, 0.97, 0.98, 0.99, 1.0]}, {\"marker\": {\"color\": \"royalblue\"}, \"mode\": \"markers+text\", \"showlegend\": false, \"text\": [\"q20\", \"q40\", \"q60\", \"q80\", \"q90\", \"q95\", \"q99\"], \"textposition\": \"bottom right\", \"type\": \"scatter\", \"x\": [0.0026811257939065017, 0.011134566706336262, 0.03098929256706235, 0.08542947588833744, 0.15266214772349893, 0.2141803986823788, 0.3051373686839702], \"y\": [0.2, 0.4, 0.6, 0.8, 0.9, 0.95, 0.99]}],\n",
       "                        {\"template\": {\"data\": {\"bar\": [{\"error_x\": {\"color\": \"#2a3f5f\"}, \"error_y\": {\"color\": \"#2a3f5f\"}, \"marker\": {\"line\": {\"color\": \"white\", \"width\": 0.5}}, \"type\": \"bar\"}], \"barpolar\": [{\"marker\": {\"line\": {\"color\": \"white\", \"width\": 0.5}}, \"type\": \"barpolar\"}], \"carpet\": [{\"aaxis\": {\"endlinecolor\": \"#2a3f5f\", \"gridcolor\": \"#C8D4E3\", \"linecolor\": \"#C8D4E3\", \"minorgridcolor\": \"#C8D4E3\", \"startlinecolor\": \"#2a3f5f\"}, \"baxis\": {\"endlinecolor\": \"#2a3f5f\", \"gridcolor\": \"#C8D4E3\", \"linecolor\": \"#C8D4E3\", \"minorgridcolor\": \"#C8D4E3\", \"startlinecolor\": \"#2a3f5f\"}, \"type\": \"carpet\"}], \"choropleth\": [{\"colorbar\": {\"outlinewidth\": 0, \"ticks\": \"\"}, \"type\": \"choropleth\"}], \"contour\": [{\"colorbar\": {\"outlinewidth\": 0, \"ticks\": \"\"}, \"colorscale\": [[0.0, \"#0d0887\"], [0.1111111111111111, \"#46039f\"], [0.2222222222222222, \"#7201a8\"], [0.3333333333333333, \"#9c179e\"], [0.4444444444444444, \"#bd3786\"], [0.5555555555555556, \"#d8576b\"], [0.6666666666666666, \"#ed7953\"], [0.7777777777777778, \"#fb9f3a\"], [0.8888888888888888, \"#fdca26\"], [1.0, \"#f0f921\"]], \"type\": \"contour\"}], \"contourcarpet\": [{\"colorbar\": {\"outlinewidth\": 0, \"ticks\": \"\"}, \"type\": \"contourcarpet\"}], \"heatmap\": [{\"colorbar\": {\"outlinewidth\": 0, \"ticks\": \"\"}, \"colorscale\": [[0.0, \"#0d0887\"], [0.1111111111111111, \"#46039f\"], [0.2222222222222222, \"#7201a8\"], [0.3333333333333333, \"#9c179e\"], [0.4444444444444444, \"#bd3786\"], [0.5555555555555556, \"#d8576b\"], [0.6666666666666666, \"#ed7953\"], [0.7777777777777778, \"#fb9f3a\"], [0.8888888888888888, \"#fdca26\"], [1.0, \"#f0f921\"]], \"type\": \"heatmap\"}], \"heatmapgl\": [{\"colorbar\": {\"outlinewidth\": 0, \"ticks\": \"\"}, \"colorscale\": [[0.0, \"#0d0887\"], [0.1111111111111111, \"#46039f\"], [0.2222222222222222, \"#7201a8\"], [0.3333333333333333, \"#9c179e\"], [0.4444444444444444, \"#bd3786\"], [0.5555555555555556, \"#d8576b\"], [0.6666666666666666, \"#ed7953\"], [0.7777777777777778, \"#fb9f3a\"], [0.8888888888888888, \"#fdca26\"], [1.0, \"#f0f921\"]], \"type\": \"heatmapgl\"}], \"histogram\": [{\"marker\": {\"colorbar\": {\"outlinewidth\": 0, \"ticks\": \"\"}}, \"type\": \"histogram\"}], \"histogram2d\": [{\"colorbar\": {\"outlinewidth\": 0, \"ticks\": \"\"}, \"colorscale\": [[0.0, \"#0d0887\"], [0.1111111111111111, \"#46039f\"], [0.2222222222222222, \"#7201a8\"], [0.3333333333333333, \"#9c179e\"], [0.4444444444444444, \"#bd3786\"], [0.5555555555555556, \"#d8576b\"], [0.6666666666666666, \"#ed7953\"], [0.7777777777777778, \"#fb9f3a\"], [0.8888888888888888, \"#fdca26\"], [1.0, \"#f0f921\"]], \"type\": \"histogram2d\"}], \"histogram2dcontour\": [{\"colorbar\": {\"outlinewidth\": 0, \"ticks\": \"\"}, \"colorscale\": [[0.0, \"#0d0887\"], [0.1111111111111111, \"#46039f\"], [0.2222222222222222, \"#7201a8\"], [0.3333333333333333, \"#9c179e\"], [0.4444444444444444, \"#bd3786\"], [0.5555555555555556, \"#d8576b\"], [0.6666666666666666, \"#ed7953\"], [0.7777777777777778, \"#fb9f3a\"], [0.8888888888888888, \"#fdca26\"], [1.0, \"#f0f921\"]], \"type\": \"histogram2dcontour\"}], \"mesh3d\": [{\"colorbar\": {\"outlinewidth\": 0, \"ticks\": \"\"}, \"type\": \"mesh3d\"}], \"parcoords\": [{\"line\": {\"colorbar\": {\"outlinewidth\": 0, \"ticks\": \"\"}}, \"type\": \"parcoords\"}], \"scatter\": [{\"marker\": {\"colorbar\": {\"outlinewidth\": 0, \"ticks\": \"\"}}, \"type\": \"scatter\"}], \"scatter3d\": [{\"line\": {\"colorbar\": {\"outlinewidth\": 0, \"ticks\": \"\"}}, \"marker\": {\"colorbar\": {\"outlinewidth\": 0, \"ticks\": \"\"}}, \"type\": \"scatter3d\"}], \"scattercarpet\": [{\"marker\": {\"colorbar\": {\"outlinewidth\": 0, \"ticks\": \"\"}}, \"type\": \"scattercarpet\"}], \"scattergeo\": [{\"marker\": {\"colorbar\": {\"outlinewidth\": 0, \"ticks\": \"\"}}, \"type\": \"scattergeo\"}], \"scattergl\": [{\"marker\": {\"colorbar\": {\"outlinewidth\": 0, \"ticks\": \"\"}}, \"type\": \"scattergl\"}], \"scattermapbox\": [{\"marker\": {\"colorbar\": {\"outlinewidth\": 0, \"ticks\": \"\"}}, \"type\": \"scattermapbox\"}], \"scatterpolar\": [{\"marker\": {\"colorbar\": {\"outlinewidth\": 0, \"ticks\": \"\"}}, \"type\": \"scatterpolar\"}], \"scatterpolargl\": [{\"marker\": {\"colorbar\": {\"outlinewidth\": 0, \"ticks\": \"\"}}, \"type\": \"scatterpolargl\"}], \"scatterternary\": [{\"marker\": {\"colorbar\": {\"outlinewidth\": 0, \"ticks\": \"\"}}, \"type\": \"scatterternary\"}], \"surface\": [{\"colorbar\": {\"outlinewidth\": 0, \"ticks\": \"\"}, \"colorscale\": [[0.0, \"#0d0887\"], [0.1111111111111111, \"#46039f\"], [0.2222222222222222, \"#7201a8\"], [0.3333333333333333, \"#9c179e\"], [0.4444444444444444, \"#bd3786\"], [0.5555555555555556, \"#d8576b\"], [0.6666666666666666, \"#ed7953\"], [0.7777777777777778, \"#fb9f3a\"], [0.8888888888888888, \"#fdca26\"], [1.0, \"#f0f921\"]], \"type\": \"surface\"}], \"table\": [{\"cells\": {\"fill\": {\"color\": \"#EBF0F8\"}, \"line\": {\"color\": \"white\"}}, \"header\": {\"fill\": {\"color\": \"#C8D4E3\"}, \"line\": {\"color\": \"white\"}}, \"type\": \"table\"}]}, \"layout\": {\"annotationdefaults\": {\"arrowcolor\": \"#2a3f5f\", \"arrowhead\": 0, \"arrowwidth\": 1}, \"colorscale\": {\"diverging\": [[0, \"#8e0152\"], [0.1, \"#c51b7d\"], [0.2, \"#de77ae\"], [0.3, \"#f1b6da\"], [0.4, \"#fde0ef\"], [0.5, \"#f7f7f7\"], [0.6, \"#e6f5d0\"], [0.7, \"#b8e186\"], [0.8, \"#7fbc41\"], [0.9, \"#4d9221\"], [1, \"#276419\"]], \"sequential\": [[0.0, \"#0d0887\"], [0.1111111111111111, \"#46039f\"], [0.2222222222222222, \"#7201a8\"], [0.3333333333333333, \"#9c179e\"], [0.4444444444444444, \"#bd3786\"], [0.5555555555555556, \"#d8576b\"], [0.6666666666666666, \"#ed7953\"], [0.7777777777777778, \"#fb9f3a\"], [0.8888888888888888, \"#fdca26\"], [1.0, \"#f0f921\"]], \"sequentialminus\": [[0.0, \"#0d0887\"], [0.1111111111111111, \"#46039f\"], [0.2222222222222222, \"#7201a8\"], [0.3333333333333333, \"#9c179e\"], [0.4444444444444444, \"#bd3786\"], [0.5555555555555556, \"#d8576b\"], [0.6666666666666666, \"#ed7953\"], [0.7777777777777778, \"#fb9f3a\"], [0.8888888888888888, \"#fdca26\"], [1.0, \"#f0f921\"]]}, \"colorway\": [\"#636efa\", \"#EF553B\", \"#00cc96\", \"#ab63fa\", \"#FFA15A\", \"#19d3f3\", \"#FF6692\", \"#B6E880\", \"#FF97FF\", \"#FECB52\"], \"font\": {\"color\": \"#2a3f5f\"}, \"geo\": {\"bgcolor\": \"white\", \"lakecolor\": \"white\", \"landcolor\": \"white\", \"showlakes\": true, \"showland\": true, \"subunitcolor\": \"#C8D4E3\"}, \"hoverlabel\": {\"align\": \"left\"}, \"hovermode\": \"closest\", \"mapbox\": {\"style\": \"light\"}, \"paper_bgcolor\": \"white\", \"plot_bgcolor\": \"white\", \"polar\": {\"angularaxis\": {\"gridcolor\": \"#EBF0F8\", \"linecolor\": \"#EBF0F8\", \"ticks\": \"\"}, \"bgcolor\": \"white\", \"radialaxis\": {\"gridcolor\": \"#EBF0F8\", \"linecolor\": \"#EBF0F8\", \"ticks\": \"\"}}, \"scene\": {\"xaxis\": {\"backgroundcolor\": \"white\", \"gridcolor\": \"#DFE8F3\", \"gridwidth\": 2, \"linecolor\": \"#EBF0F8\", \"showbackground\": true, \"ticks\": \"\", \"zerolinecolor\": \"#EBF0F8\"}, \"yaxis\": {\"backgroundcolor\": \"white\", \"gridcolor\": \"#DFE8F3\", \"gridwidth\": 2, \"linecolor\": \"#EBF0F8\", \"showbackground\": true, \"ticks\": \"\", \"zerolinecolor\": \"#EBF0F8\"}, \"zaxis\": {\"backgroundcolor\": \"white\", \"gridcolor\": \"#DFE8F3\", \"gridwidth\": 2, \"linecolor\": \"#EBF0F8\", \"showbackground\": true, \"ticks\": \"\", \"zerolinecolor\": \"#EBF0F8\"}}, \"shapedefaults\": {\"line\": {\"color\": \"#2a3f5f\"}}, \"ternary\": {\"aaxis\": {\"gridcolor\": \"#DFE8F3\", \"linecolor\": \"#A2B1C6\", \"ticks\": \"\"}, \"baxis\": {\"gridcolor\": \"#DFE8F3\", \"linecolor\": \"#A2B1C6\", \"ticks\": \"\"}, \"bgcolor\": \"white\", \"caxis\": {\"gridcolor\": \"#DFE8F3\", \"linecolor\": \"#A2B1C6\", \"ticks\": \"\"}}, \"title\": {\"x\": 0.05}, \"xaxis\": {\"automargin\": true, \"gridcolor\": \"#EBF0F8\", \"linecolor\": \"#EBF0F8\", \"ticks\": \"\", \"zerolinecolor\": \"#EBF0F8\", \"zerolinewidth\": 2}, \"yaxis\": {\"automargin\": true, \"gridcolor\": \"#EBF0F8\", \"linecolor\": \"#EBF0F8\", \"ticks\": \"\", \"zerolinecolor\": \"#EBF0F8\", \"zerolinewidth\": 2}}}, \"xaxis\": {\"title\": {\"text\": \"Acumulado del vocabulario\"}}, \"yaxis\": {\"title\": {\"text\": \"Acumulado del t\\u00f3pico\"}}},\n",
       "                        {\"responsive\": true}\n",
       "                    ).then(function(){\n",
       "                            \n",
       "var gd = document.getElementById('e73b75d0-7565-47f5-aafd-7ab072c02fd7');\n",
       "var x = new MutationObserver(function (mutations, observer) {{\n",
       "        var display = window.getComputedStyle(gd).display;\n",
       "        if (!display || display === 'none') {{\n",
       "            console.log([gd, 'removed!']);\n",
       "            Plotly.purge(gd);\n",
       "            observer.disconnect();\n",
       "        }}\n",
       "}});\n",
       "\n",
       "// Listen for the removal of the full notebook cells\n",
       "var notebookContainer = gd.closest('#notebook-container');\n",
       "if (notebookContainer) {{\n",
       "    x.observe(notebookContainer, {childList: true});\n",
       "}}\n",
       "\n",
       "// Listen for the clearing of the current output cell\n",
       "var outputEl = gd.closest('.output');\n",
       "if (outputEl) {{\n",
       "    x.observe(outputEl, {childList: true});\n",
       "}}\n",
       "\n",
       "                        })\n",
       "                };\n",
       "                });\n",
       "            </script>\n",
       "        </div>"
      ]
     },
     "metadata": {},
     "output_type": "display_data"
    }
   ],
   "source": [
    "topics_cum_dist = get_mean_cum_dist(data)\n",
    "cum_dist_plot(topics_cum_dist)"
   ]
  },
  {
   "cell_type": "code",
   "execution_count": 17,
   "metadata": {},
   "outputs": [],
   "source": [
    "q95_list = []\n",
    "for slice in slices:\n",
    "    topics = data[slice][\"topics_dists\"]\n",
    "    topics.shape\n",
    "    for i, topic in enumerate(topics):\n",
    "        q95 = get_quantile(topic, 0.95)\n",
    "        q95_list.append({\"slice\":slice, \"topic\":i, \"vocabulary_size\": len(topic),\n",
    "                         \"%q95\":round(100*q95/len(topic),2)})"
   ]
  },
  {
   "cell_type": "code",
   "execution_count": 26,
   "metadata": {},
   "outputs": [
    {
     "name": "stdout",
     "output_type": "stream",
     "text": [
      "6.103582869828151\n",
      "25.347841106974503\n",
      "70.54712452891744\n",
      "194.48020185980016\n",
      "347.5353792925453\n",
      "487.5816776004353\n",
      "694.6452198090581\n"
     ]
    }
   ],
   "source": [
    "mean_vocabulary = df_q95.vocabulary_size.mean()\n",
    "for q in q_values:\n",
    "    print(mean_vocabulary*q)"
   ]
  },
  {
   "cell_type": "code",
   "execution_count": 18,
   "metadata": {},
   "outputs": [
    {
     "data": {
      "text/html": [
       "<div>\n",
       "<style scoped>\n",
       "    .dataframe tbody tr th:only-of-type {\n",
       "        vertical-align: middle;\n",
       "    }\n",
       "\n",
       "    .dataframe tbody tr th {\n",
       "        vertical-align: top;\n",
       "    }\n",
       "\n",
       "    .dataframe thead th {\n",
       "        text-align: right;\n",
       "    }\n",
       "</style>\n",
       "<table border=\"1\" class=\"dataframe\">\n",
       "  <thead>\n",
       "    <tr style=\"text-align: right;\">\n",
       "      <th></th>\n",
       "      <th>slice</th>\n",
       "      <th>topic</th>\n",
       "      <th>vocabulary_size</th>\n",
       "      <th>%q95</th>\n",
       "    </tr>\n",
       "  </thead>\n",
       "  <tbody>\n",
       "    <tr>\n",
       "      <th>0</th>\n",
       "      <td>1</td>\n",
       "      <td>0</td>\n",
       "      <td>1919</td>\n",
       "      <td>33.98</td>\n",
       "    </tr>\n",
       "    <tr>\n",
       "      <th>1</th>\n",
       "      <td>1</td>\n",
       "      <td>1</td>\n",
       "      <td>1919</td>\n",
       "      <td>25.27</td>\n",
       "    </tr>\n",
       "    <tr>\n",
       "      <th>2</th>\n",
       "      <td>1</td>\n",
       "      <td>2</td>\n",
       "      <td>1919</td>\n",
       "      <td>35.23</td>\n",
       "    </tr>\n",
       "    <tr>\n",
       "      <th>3</th>\n",
       "      <td>1</td>\n",
       "      <td>3</td>\n",
       "      <td>1919</td>\n",
       "      <td>32.73</td>\n",
       "    </tr>\n",
       "    <tr>\n",
       "      <th>4</th>\n",
       "      <td>1</td>\n",
       "      <td>4</td>\n",
       "      <td>1919</td>\n",
       "      <td>27.25</td>\n",
       "    </tr>\n",
       "  </tbody>\n",
       "</table>\n",
       "</div>"
      ],
      "text/plain": [
       "   slice  topic  vocabulary_size   %q95\n",
       "0      1      0             1919  33.98\n",
       "1      1      1             1919  25.27\n",
       "2      1      2             1919  35.23\n",
       "3      1      3             1919  32.73\n",
       "4      1      4             1919  27.25"
      ]
     },
     "execution_count": 18,
     "metadata": {},
     "output_type": "execute_result"
    }
   ],
   "source": [
    "df_q95 = pd.DataFrame(q95_list)\n",
    "df_q95.head()"
   ]
  },
  {
   "cell_type": "code",
   "execution_count": 24,
   "metadata": {},
   "outputs": [
    {
     "data": {
      "text/html": [
       "<div>\n",
       "<style scoped>\n",
       "    .dataframe tbody tr th:only-of-type {\n",
       "        vertical-align: middle;\n",
       "    }\n",
       "\n",
       "    .dataframe tbody tr th {\n",
       "        vertical-align: top;\n",
       "    }\n",
       "\n",
       "    .dataframe thead tr th {\n",
       "        text-align: left;\n",
       "    }\n",
       "\n",
       "    .dataframe thead tr:last-of-type th {\n",
       "        text-align: right;\n",
       "    }\n",
       "</style>\n",
       "<table border=\"1\" class=\"dataframe\">\n",
       "  <thead>\n",
       "    <tr>\n",
       "      <th></th>\n",
       "      <th colspan=\"8\" halign=\"left\">vocabulary_size</th>\n",
       "      <th colspan=\"8\" halign=\"left\">%q95</th>\n",
       "    </tr>\n",
       "    <tr>\n",
       "      <th></th>\n",
       "      <th>count</th>\n",
       "      <th>mean</th>\n",
       "      <th>std</th>\n",
       "      <th>min</th>\n",
       "      <th>25%</th>\n",
       "      <th>50%</th>\n",
       "      <th>75%</th>\n",
       "      <th>max</th>\n",
       "      <th>count</th>\n",
       "      <th>mean</th>\n",
       "      <th>std</th>\n",
       "      <th>min</th>\n",
       "      <th>25%</th>\n",
       "      <th>50%</th>\n",
       "      <th>75%</th>\n",
       "      <th>max</th>\n",
       "    </tr>\n",
       "    <tr>\n",
       "      <th>slice</th>\n",
       "      <th></th>\n",
       "      <th></th>\n",
       "      <th></th>\n",
       "      <th></th>\n",
       "      <th></th>\n",
       "      <th></th>\n",
       "      <th></th>\n",
       "      <th></th>\n",
       "      <th></th>\n",
       "      <th></th>\n",
       "      <th></th>\n",
       "      <th></th>\n",
       "      <th></th>\n",
       "      <th></th>\n",
       "      <th></th>\n",
       "      <th></th>\n",
       "    </tr>\n",
       "  </thead>\n",
       "  <tbody>\n",
       "    <tr>\n",
       "      <th>1</th>\n",
       "      <td>8.0</td>\n",
       "      <td>1919.0</td>\n",
       "      <td>0.0</td>\n",
       "      <td>1919.0</td>\n",
       "      <td>1919.0</td>\n",
       "      <td>1919.0</td>\n",
       "      <td>1919.0</td>\n",
       "      <td>1919.0</td>\n",
       "      <td>8.0</td>\n",
       "      <td>24.272500</td>\n",
       "      <td>11.862198</td>\n",
       "      <td>0.89</td>\n",
       "      <td>22.0800</td>\n",
       "      <td>26.785</td>\n",
       "      <td>33.0425</td>\n",
       "      <td>35.23</td>\n",
       "    </tr>\n",
       "    <tr>\n",
       "      <th>2</th>\n",
       "      <td>10.0</td>\n",
       "      <td>1986.0</td>\n",
       "      <td>0.0</td>\n",
       "      <td>1986.0</td>\n",
       "      <td>1986.0</td>\n",
       "      <td>1986.0</td>\n",
       "      <td>1986.0</td>\n",
       "      <td>1986.0</td>\n",
       "      <td>10.0</td>\n",
       "      <td>17.533000</td>\n",
       "      <td>15.477216</td>\n",
       "      <td>0.05</td>\n",
       "      <td>0.6275</td>\n",
       "      <td>21.250</td>\n",
       "      <td>30.8800</td>\n",
       "      <td>36.61</td>\n",
       "    </tr>\n",
       "    <tr>\n",
       "      <th>3</th>\n",
       "      <td>9.0</td>\n",
       "      <td>2092.0</td>\n",
       "      <td>0.0</td>\n",
       "      <td>2092.0</td>\n",
       "      <td>2092.0</td>\n",
       "      <td>2092.0</td>\n",
       "      <td>2092.0</td>\n",
       "      <td>2092.0</td>\n",
       "      <td>9.0</td>\n",
       "      <td>20.990000</td>\n",
       "      <td>13.801090</td>\n",
       "      <td>0.05</td>\n",
       "      <td>8.8900</td>\n",
       "      <td>28.440</td>\n",
       "      <td>30.3500</td>\n",
       "      <td>32.41</td>\n",
       "    </tr>\n",
       "    <tr>\n",
       "      <th>4</th>\n",
       "      <td>8.0</td>\n",
       "      <td>2414.0</td>\n",
       "      <td>0.0</td>\n",
       "      <td>2414.0</td>\n",
       "      <td>2414.0</td>\n",
       "      <td>2414.0</td>\n",
       "      <td>2414.0</td>\n",
       "      <td>2414.0</td>\n",
       "      <td>8.0</td>\n",
       "      <td>21.645000</td>\n",
       "      <td>14.996002</td>\n",
       "      <td>0.17</td>\n",
       "      <td>10.9775</td>\n",
       "      <td>26.285</td>\n",
       "      <td>34.0600</td>\n",
       "      <td>36.95</td>\n",
       "    </tr>\n",
       "    <tr>\n",
       "      <th>5</th>\n",
       "      <td>8.0</td>\n",
       "      <td>2629.0</td>\n",
       "      <td>0.0</td>\n",
       "      <td>2629.0</td>\n",
       "      <td>2629.0</td>\n",
       "      <td>2629.0</td>\n",
       "      <td>2629.0</td>\n",
       "      <td>2629.0</td>\n",
       "      <td>8.0</td>\n",
       "      <td>24.638750</td>\n",
       "      <td>10.850875</td>\n",
       "      <td>0.30</td>\n",
       "      <td>24.1725</td>\n",
       "      <td>26.970</td>\n",
       "      <td>29.7625</td>\n",
       "      <td>34.39</td>\n",
       "    </tr>\n",
       "    <tr>\n",
       "      <th>6</th>\n",
       "      <td>9.0</td>\n",
       "      <td>2666.0</td>\n",
       "      <td>0.0</td>\n",
       "      <td>2666.0</td>\n",
       "      <td>2666.0</td>\n",
       "      <td>2666.0</td>\n",
       "      <td>2666.0</td>\n",
       "      <td>2666.0</td>\n",
       "      <td>9.0</td>\n",
       "      <td>20.563333</td>\n",
       "      <td>12.935772</td>\n",
       "      <td>1.65</td>\n",
       "      <td>11.8900</td>\n",
       "      <td>24.570</td>\n",
       "      <td>30.9500</td>\n",
       "      <td>36.83</td>\n",
       "    </tr>\n",
       "  </tbody>\n",
       "</table>\n",
       "</div>"
      ],
      "text/plain": [
       "      vocabulary_size                                                       \\\n",
       "                count    mean  std     min     25%     50%     75%     max   \n",
       "slice                                                                        \n",
       "1                 8.0  1919.0  0.0  1919.0  1919.0  1919.0  1919.0  1919.0   \n",
       "2                10.0  1986.0  0.0  1986.0  1986.0  1986.0  1986.0  1986.0   \n",
       "3                 9.0  2092.0  0.0  2092.0  2092.0  2092.0  2092.0  2092.0   \n",
       "4                 8.0  2414.0  0.0  2414.0  2414.0  2414.0  2414.0  2414.0   \n",
       "5                 8.0  2629.0  0.0  2629.0  2629.0  2629.0  2629.0  2629.0   \n",
       "6                 9.0  2666.0  0.0  2666.0  2666.0  2666.0  2666.0  2666.0   \n",
       "\n",
       "       %q95                                                               \n",
       "      count       mean        std   min      25%     50%      75%    max  \n",
       "slice                                                                     \n",
       "1       8.0  24.272500  11.862198  0.89  22.0800  26.785  33.0425  35.23  \n",
       "2      10.0  17.533000  15.477216  0.05   0.6275  21.250  30.8800  36.61  \n",
       "3       9.0  20.990000  13.801090  0.05   8.8900  28.440  30.3500  32.41  \n",
       "4       8.0  21.645000  14.996002  0.17  10.9775  26.285  34.0600  36.95  \n",
       "5       8.0  24.638750  10.850875  0.30  24.1725  26.970  29.7625  34.39  \n",
       "6       9.0  20.563333  12.935772  1.65  11.8900  24.570  30.9500  36.83  "
      ]
     },
     "execution_count": 24,
     "metadata": {},
     "output_type": "execute_result"
    }
   ],
   "source": [
    "df_q95[[\"slice\", \"vocabulary_size\", \"%q95\"]].groupby(\"slice\").describe()"
   ]
  },
  {
   "cell_type": "code",
   "execution_count": 25,
   "metadata": {},
   "outputs": [
    {
     "data": {
      "text/plain": [
       "count    52.000000\n",
       "mean     21.418462\n",
       "std      13.068000\n",
       "min       0.050000\n",
       "25%      11.140000\n",
       "50%      26.560000\n",
       "75%      31.530000\n",
       "max      36.950000\n",
       "Name: %q95, dtype: float64"
      ]
     },
     "execution_count": 25,
     "metadata": {},
     "output_type": "execute_result"
    }
   ],
   "source": [
    "df_q95[\"%q95\"].describe()"
   ]
  },
  {
   "cell_type": "code",
   "execution_count": 26,
   "metadata": {},
   "outputs": [
    {
     "data": {
      "text/plain": [
       "0.60    28.3680\n",
       "0.70    30.7700\n",
       "0.80    32.6660\n",
       "0.90    34.3780\n",
       "0.95    35.8510\n",
       "0.99    36.8888\n",
       "Name: %q95, dtype: float64"
      ]
     },
     "execution_count": 26,
     "metadata": {},
     "output_type": "execute_result"
    }
   ],
   "source": [
    "df_q95[\"%q95\"].quantile([0.6, 0.7, 0.8, 0.9, 0.95, 0.99])"
   ]
  },
  {
   "cell_type": "markdown",
   "metadata": {},
   "source": [
    "Se tiene que en promedio con un 8.54% y 21.42% del vocabulario se puede capturar un 80% y 95% respectivamente de la distribución acumulada de los tópicos, además, para un 99% de los tópicos basta con un 37% del vocabulario para capturar el 95% de su distribución acumulada, por tanto, una representación incompleta de los tópicos usando las palabras más probables que capturan el 80% de la distribución acumulada trae consigo una disminución importante en el tamaño del vocabulario. "
   ]
  },
  {
   "cell_type": "markdown",
   "metadata": {},
   "source": [
    "# 3. Distances"
   ]
  },
  {
   "cell_type": "code",
   "execution_count": 5,
   "metadata": {},
   "outputs": [],
   "source": [
    "embeddings = load_facebook_vectors(os.getenv(\"EMBEDDINGS\"))"
   ]
  },
  {
   "cell_type": "code",
   "execution_count": 245,
   "metadata": {},
   "outputs": [],
   "source": [
    "token2id1 = data[1][\"token2id\"]\n",
    "token2id2 = data[2][\"token2id\"]\n",
    "topic1 = data[1][\"topics_dists\"][0]\n",
    "topic2 = data[2][\"topics_dists\"][0]"
   ]
  },
  {
   "cell_type": "code",
   "execution_count": 265,
   "metadata": {},
   "outputs": [
    {
     "name": "stderr",
     "output_type": "stream",
     "text": [
      "INFO:similarity-graph:'wmd'  161.61 [s]\n"
     ]
    },
    {
     "name": "stdout",
     "output_type": "stream",
     "text": [
      "CPU times: user 2min 42s, sys: 335 ms, total: 2min 42s\n",
      "Wall time: 2min 41s\n"
     ]
    },
    {
     "data": {
      "text/plain": [
       "2.9336220902293917"
      ]
     },
     "execution_count": 265,
     "metadata": {},
     "output_type": "execute_result"
    }
   ],
   "source": [
    "%time wmd(embeddings, token2id1, token2id2, topic1, topic2, q=None)"
   ]
  },
  {
   "cell_type": "code",
   "execution_count": 264,
   "metadata": {},
   "outputs": [
    {
     "name": "stderr",
     "output_type": "stream",
     "text": [
      "INFO:similarity-graph:'wmd'  39.22 [s]\n"
     ]
    },
    {
     "name": "stdout",
     "output_type": "stream",
     "text": [
      "CPU times: user 39.9 s, sys: 181 ms, total: 40.1 s\n",
      "Wall time: 39.2 s\n"
     ]
    },
    {
     "data": {
      "text/plain": [
       "2.866016659418769"
      ]
     },
     "execution_count": 264,
     "metadata": {},
     "output_type": "execute_result"
    }
   ],
   "source": [
    "%time wmd(embeddings, token2id1, token2id2, topic1, topic2, q=0.95)"
   ]
  },
  {
   "cell_type": "code",
   "execution_count": 263,
   "metadata": {},
   "outputs": [
    {
     "name": "stderr",
     "output_type": "stream",
     "text": [
      "INFO:similarity-graph:'wmd'  1.65 [s]\n"
     ]
    },
    {
     "name": "stdout",
     "output_type": "stream",
     "text": [
      "CPU times: user 2.19 s, sys: 75.7 ms, total: 2.27 s\n",
      "Wall time: 1.65 s\n"
     ]
    },
    {
     "data": {
      "text/plain": [
       "2.481585721953469"
      ]
     },
     "execution_count": 263,
     "metadata": {},
     "output_type": "execute_result"
    }
   ],
   "source": [
    "%time wmd(embeddings, token2id1, token2id2, topic1, topic2, q=0.8)"
   ]
  },
  {
   "cell_type": "markdown",
   "metadata": {},
   "source": [
    "# 4. Test EMD\n",
    "\n",
    "Testing if EMD normalize each histogram."
   ]
  },
  {
   "cell_type": "code",
   "execution_count": 27,
   "metadata": {},
   "outputs": [],
   "source": [
    "histogram1 = np.array([1, 5, 3]).astype(float)\n",
    "histogram2 = np.array([0.3, 0.2, 0.5]).astype(float)\n",
    "cost_matrix = np.array([[0, 1, 2], [1, 0, 1], [2, 1, 0]]).astype(float)"
   ]
  },
  {
   "cell_type": "code",
   "execution_count": 30,
   "metadata": {},
   "outputs": [
    {
     "data": {
      "text/plain": [
       "16.0"
      ]
     },
     "execution_count": 30,
     "metadata": {},
     "output_type": "execute_result"
    }
   ],
   "source": [
    "emd(histogram1, histogram2, cost_matrix)"
   ]
  },
  {
   "cell_type": "code",
   "execution_count": 31,
   "metadata": {},
   "outputs": [],
   "source": [
    "histogram1 = histogram1/histogram1.sum()"
   ]
  },
  {
   "cell_type": "code",
   "execution_count": 32,
   "metadata": {},
   "outputs": [
    {
     "data": {
      "text/plain": [
       "0.355556"
      ]
     },
     "execution_count": 32,
     "metadata": {},
     "output_type": "execute_result"
    }
   ],
   "source": [
    "emd(histogram1, histogram2, cost_matrix)"
   ]
  },
  {
   "cell_type": "markdown",
   "metadata": {},
   "source": [
    "Is necessary normalize the topics again when is used the cdf threshold."
   ]
  },
  {
   "cell_type": "markdown",
   "metadata": {},
   "source": [
    "# 5. WMD with relevance"
   ]
  },
  {
   "cell_type": "code",
   "execution_count": 106,
   "metadata": {},
   "outputs": [],
   "source": [
    "token2id1 = data[1][\"token2id\"]\n",
    "token2id2 = data[2][\"token2id\"]\n",
    "topic1 = data[1][\"topics_dists\"][6]\n",
    "topic2 = data[2][\"topics_dists\"][1]\n",
    "termp1 = data[1][\"term_probability\"]\n",
    "termp2 = data[2][\"term_probability\"]"
   ]
  },
  {
   "cell_type": "code",
   "execution_count": 117,
   "metadata": {},
   "outputs": [
    {
     "name": "stderr",
     "output_type": "stream",
     "text": [
      "/home/dgarrido/Insync/diego.garrido@ug.uchile.cl/Google Drive/Tesis Diego Garrido/dhdp/wmd.py:55: RuntimeWarning: divide by zero encountered in log\n",
      "  r = alpha*np.nan_to_num(np.log(topic))+(1-alpha)*np.nan_to_num(np.log(topic/term_probability))\n",
      "/home/dgarrido/Insync/diego.garrido@ug.uchile.cl/Google Drive/Tesis Diego Garrido/dhdp/wmd.py:55: RuntimeWarning: invalid value encountered in true_divide\n",
      "  r = alpha*np.nan_to_num(np.log(topic))+(1-alpha)*np.nan_to_num(np.log(topic/term_probability))\n"
     ]
    },
    {
     "data": {
      "text/plain": [
       "0.19186254202561462"
      ]
     },
     "execution_count": 117,
     "metadata": {},
     "output_type": "execute_result"
    }
   ],
   "source": [
    "d = wmd(embeddings, token2id1, token2id2, topic1, topic2, termp1, termp2, q=0.6, alpha=0.2)\n",
    "s = 1/(1+d)\n",
    "s"
   ]
  }
 ],
 "metadata": {
  "kernelspec": {
   "display_name": "Python 3",
   "language": "python",
   "name": "python3"
  },
  "language_info": {
   "codemirror_mode": {
    "name": "ipython",
    "version": 3
   },
   "file_extension": ".py",
   "mimetype": "text/x-python",
   "name": "python",
   "nbconvert_exporter": "python",
   "pygments_lexer": "ipython3",
   "version": "3.7.4"
  }
 },
 "nbformat": 4,
 "nbformat_minor": 2
}
